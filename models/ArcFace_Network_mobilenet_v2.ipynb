{
 "cells": [
  {
   "cell_type": "markdown",
   "id": "7e40f368",
   "metadata": {
    "papermill": {
     "duration": 0.028248,
     "end_time": "2023-08-14T16:24:04.236116",
     "exception": false,
     "start_time": "2023-08-14T16:24:04.207868",
     "status": "completed"
    },
    "tags": []
   },
   "source": [
    "# Image Classification with ArcFace Loss"
   ]
  },
  {
   "cell_type": "markdown",
   "id": "42095992",
   "metadata": {
    "papermill": {
     "duration": 0.0269,
     "end_time": "2023-08-14T16:24:04.291517",
     "exception": false,
     "start_time": "2023-08-14T16:24:04.264617",
     "status": "completed"
    },
    "tags": []
   },
   "source": [
    "In this notebook we will train SOTA Computer Vision models (such as MobileNet, EfficientNet) to classify car brands. We will ArcFace Loss function for this task, which is also state-of-art."
   ]
  },
  {
   "cell_type": "markdown",
   "id": "c3bf03d1",
   "metadata": {
    "id": "DRrvM2BPUG3T",
    "papermill": {
     "duration": 0.02718,
     "end_time": "2023-08-14T16:24:04.346391",
     "exception": false,
     "start_time": "2023-08-14T16:24:04.319211",
     "status": "completed"
    },
    "tags": []
   },
   "source": [
    "# 1. Set up"
   ]
  },
  {
   "cell_type": "markdown",
   "id": "0c4e2491",
   "metadata": {
    "id": "G-cGfk5CTFDT",
    "papermill": {
     "duration": 0.026993,
     "end_time": "2023-08-14T16:24:04.400603",
     "exception": false,
     "start_time": "2023-08-14T16:24:04.373610",
     "status": "completed"
    },
    "tags": []
   },
   "source": [
    "## 1. Packages and requirements"
   ]
  },
  {
   "cell_type": "code",
   "execution_count": 1,
   "outputs": [],
   "source": [
    "import numpy as np"
   ],
   "metadata": {
    "collapsed": false,
    "ExecuteTime": {
     "start_time": "2023-09-04T10:33:08.746644Z",
     "end_time": "2023-09-04T10:33:10.646873Z"
    }
   }
  },
  {
   "cell_type": "code",
   "execution_count": 2,
   "outputs": [
    {
     "data": {
      "text/plain": "9.379066859275373"
     },
     "execution_count": 2,
     "metadata": {},
     "output_type": "execute_result"
    }
   ],
   "source": [
    "2 ** 0.5 * np.log(760 -1)"
   ],
   "metadata": {
    "collapsed": false,
    "ExecuteTime": {
     "start_time": "2023-09-04T10:33:10.657997Z",
     "end_time": "2023-09-04T10:33:10.661699Z"
    }
   }
  },
  {
   "cell_type": "code",
   "execution_count": 1,
   "id": "0b353452",
   "metadata": {
    "ExecuteTime": {
     "end_time": "2023-08-14T17:23:26.280767Z",
     "start_time": "2023-08-14T17:23:26.031025Z"
    },
    "execution": {
     "iopub.execute_input": "2023-08-14T16:24:04.458379Z",
     "iopub.status.busy": "2023-08-14T16:24:04.457906Z",
     "iopub.status.idle": "2023-08-14T16:24:04.470799Z",
     "shell.execute_reply": "2023-08-14T16:24:04.469899Z"
    },
    "id": "YJ1bPQE1TFDW",
    "papermill": {
     "duration": 0.044843,
     "end_time": "2023-08-14T16:24:04.472823",
     "exception": false,
     "start_time": "2023-08-14T16:24:04.427980",
     "status": "completed"
    },
    "tags": []
   },
   "outputs": [],
   "source": [
    "# Major builtin libraries\n",
    "import os\n",
    "import gc\n",
    "# import cv2\n",
    "import math\n",
    "import time\n",
    "import random\n",
    "import typing as t\n",
    "from copy import deepcopy\n",
    "# from collections import defaultdict"
   ]
  },
  {
   "cell_type": "code",
   "execution_count": 2,
   "id": "1eb89a21",
   "metadata": {
    "ExecuteTime": {
     "end_time": "2023-08-14T17:23:26.305028Z",
     "start_time": "2023-08-14T17:23:26.088278Z"
    },
    "execution": {
     "iopub.execute_input": "2023-08-14T16:24:04.529490Z",
     "iopub.status.busy": "2023-08-14T16:24:04.529097Z",
     "iopub.status.idle": "2023-08-14T16:24:04.533339Z",
     "shell.execute_reply": "2023-08-14T16:24:04.532470Z"
    },
    "id": "9byYPbwhTFDW",
    "outputId": "f21315f6-d034-4060-f927-1dfcc117d99b",
    "papermill": {
     "duration": 0.034871,
     "end_time": "2023-08-14T16:24:04.535286",
     "exception": false,
     "start_time": "2023-08-14T16:24:04.500415",
     "status": "completed"
    },
    "tags": []
   },
   "outputs": [],
   "source": [
    "# To work with Google Collab\n",
    "# from google.colab import drive\n",
    "# drive.mount('/content/drive/', force_remount=True)"
   ]
  },
  {
   "cell_type": "code",
   "execution_count": 3,
   "id": "4df8c0bc",
   "metadata": {
    "ExecuteTime": {
     "end_time": "2023-08-14T17:23:26.306033Z",
     "start_time": "2023-08-14T17:23:26.105655Z"
    },
    "execution": {
     "iopub.execute_input": "2023-08-14T16:24:04.591841Z",
     "iopub.status.busy": "2023-08-14T16:24:04.590916Z",
     "iopub.status.idle": "2023-08-14T16:24:04.596196Z",
     "shell.execute_reply": "2023-08-14T16:24:04.595332Z"
    },
    "id": "BwyVeWsUTFDX",
    "papermill": {
     "duration": 0.035469,
     "end_time": "2023-08-14T16:24:04.598152",
     "exception": false,
     "start_time": "2023-08-14T16:24:04.562683",
     "status": "completed"
    },
    "tags": []
   },
   "outputs": [],
   "source": [
    "import warnings  # If you want to disable warnings\n",
    "warnings.filterwarnings(\"ignore\")\n",
    "\n",
    "# For descriptive error messages\n",
    "os.environ['CUDA_LAUNCH_BLOCKING'] = \"1\""
   ]
  },
  {
   "cell_type": "code",
   "execution_count": 4,
   "id": "ceed4482",
   "metadata": {
    "ExecuteTime": {
     "end_time": "2023-08-14T17:23:26.306033Z",
     "start_time": "2023-08-14T17:23:26.129062Z"
    },
    "execution": {
     "iopub.execute_input": "2023-08-14T16:24:04.653451Z",
     "iopub.status.busy": "2023-08-14T16:24:04.653166Z",
     "iopub.status.idle": "2023-08-14T16:24:04.658784Z",
     "shell.execute_reply": "2023-08-14T16:24:04.657935Z"
    },
    "id": "AGRBRJORTFDX",
    "papermill": {
     "duration": 0.035178,
     "end_time": "2023-08-14T16:24:04.660718",
     "exception": false,
     "start_time": "2023-08-14T16:24:04.625540",
     "status": "completed"
    },
    "tags": []
   },
   "outputs": [],
   "source": [
    "# Classic packages for data manipulation and visualization\n",
    "import numpy as np\n",
    "import pandas as pd\n",
    "import matplotlib.pyplot as plt"
   ]
  },
  {
   "cell_type": "code",
   "execution_count": 5,
   "id": "927f59d9",
   "metadata": {
    "ExecuteTime": {
     "end_time": "2023-08-14T17:23:26.306033Z",
     "start_time": "2023-08-14T17:23:26.164300Z"
    },
    "execution": {
     "iopub.execute_input": "2023-08-14T16:24:04.717041Z",
     "iopub.status.busy": "2023-08-14T16:24:04.715962Z",
     "iopub.status.idle": "2023-08-14T16:24:08.505639Z",
     "shell.execute_reply": "2023-08-14T16:24:08.504586Z"
    },
    "id": "FXSN-XzxTFDX",
    "papermill": {
     "duration": 3.82041,
     "end_time": "2023-08-14T16:24:08.508190",
     "exception": false,
     "start_time": "2023-08-14T16:24:04.687780",
     "status": "completed"
    },
    "tags": []
   },
   "outputs": [],
   "source": [
    "# Basic PyTorch\n",
    "import torch\n",
    "import torch.nn as nn\n",
    "import torch.optim as optim  # Optimization algorithms and dynamic learning rate adjusting\n",
    "import torch.nn.functional as F\n",
    "# from torch.nn.modules.loss import _Loss  # For writing a custom Loss function\n",
    "from torch.utils.data import DataLoader, Dataset  # For custom data presentation"
   ]
  },
  {
   "cell_type": "code",
   "execution_count": 6,
   "id": "ab0ad915",
   "metadata": {
    "ExecuteTime": {
     "end_time": "2023-08-14T17:23:26.307036Z",
     "start_time": "2023-08-14T17:23:26.188493Z"
    },
    "execution": {
     "iopub.execute_input": "2023-08-14T16:24:08.568306Z",
     "iopub.status.busy": "2023-08-14T16:24:08.566310Z",
     "iopub.status.idle": "2023-08-14T16:24:09.515023Z",
     "shell.execute_reply": "2023-08-14T16:24:09.513961Z"
    },
    "id": "7QjRLiOzTFDY",
    "papermill": {
     "duration": 0.980731,
     "end_time": "2023-08-14T16:24:09.517905",
     "exception": false,
     "start_time": "2023-08-14T16:24:08.537174",
     "status": "completed"
    },
    "tags": []
   },
   "outputs": [],
   "source": [
    "# Utils\n",
    "import joblib  # Pipelining, pickling (dump/load), parallel processing\n",
    "from tqdm import tqdm  # Progress bar for training process\n",
    "from tempfile import TemporaryDirectory\n",
    "\n",
    "# Classic ML tools\n",
    "from sklearn.preprocessing import LabelEncoder\n",
    "from sklearn.model_selection import StratifiedKFold  # Cross-Validation"
   ]
  },
  {
   "cell_type": "code",
   "execution_count": 7,
   "id": "b9f1882a",
   "metadata": {
    "ExecuteTime": {
     "end_time": "2023-08-14T17:23:26.307036Z",
     "start_time": "2023-08-14T17:23:26.231449Z"
    },
    "collapsed": false,
    "execution": {
     "iopub.execute_input": "2023-08-14T16:24:09.578212Z",
     "iopub.status.busy": "2023-08-14T16:24:09.577875Z",
     "iopub.status.idle": "2023-08-14T16:24:09.885840Z",
     "shell.execute_reply": "2023-08-14T16:24:09.884812Z"
    },
    "jupyter": {
     "outputs_hidden": false
    },
    "papermill": {
     "duration": 0.340413,
     "end_time": "2023-08-14T16:24:09.888321",
     "exception": false,
     "start_time": "2023-08-14T16:24:09.547908",
     "status": "completed"
    },
    "tags": []
   },
   "outputs": [],
   "source": [
    "# Data dimensionality reduction\n",
    "from sklearn.manifold import TSNE  # high-dimensional data visualization\n",
    "from sklearn.decomposition import PCA  # More effective dimensionality reduction method\n",
    "\n",
    "# kNN classification\n",
    "from sklearn.neighbors import KNeighborsClassifier\n",
    "\n",
    "# Clustering methods\n",
    "from sklearn.cluster import KMeans\n",
    "from sklearn.cluster import DBSCAN"
   ]
  },
  {
   "cell_type": "code",
   "execution_count": 8,
   "id": "c1047ca9",
   "metadata": {
    "ExecuteTime": {
     "end_time": "2023-08-14T17:23:26.307036Z",
     "start_time": "2023-08-14T17:23:26.247030Z"
    },
    "execution": {
     "iopub.execute_input": "2023-08-14T16:24:09.947826Z",
     "iopub.status.busy": "2023-08-14T16:24:09.946838Z",
     "iopub.status.idle": "2023-08-14T16:24:09.951311Z",
     "shell.execute_reply": "2023-08-14T16:24:09.950440Z"
    },
    "id": "-iaQkd7xUuPW",
    "papermill": {
     "duration": 0.0374,
     "end_time": "2023-08-14T16:24:09.953398",
     "exception": false,
     "start_time": "2023-08-14T16:24:09.915998",
     "status": "completed"
    },
    "tags": []
   },
   "outputs": [],
   "source": [
    "# !pip install torchmetrics colorama"
   ]
  },
  {
   "cell_type": "code",
   "execution_count": 9,
   "id": "e0999c8d",
   "metadata": {
    "ExecuteTime": {
     "end_time": "2023-08-14T17:23:26.308035Z",
     "start_time": "2023-08-14T17:23:26.274048Z"
    },
    "execution": {
     "iopub.execute_input": "2023-08-14T16:24:10.009135Z",
     "iopub.status.busy": "2023-08-14T16:24:10.008847Z",
     "iopub.status.idle": "2023-08-14T16:24:20.156004Z",
     "shell.execute_reply": "2023-08-14T16:24:20.155003Z"
    },
    "id": "BuY4s3bsTFDZ",
    "papermill": {
     "duration": 10.177643,
     "end_time": "2023-08-14T16:24:20.158465",
     "exception": false,
     "start_time": "2023-08-14T16:24:09.980822",
     "status": "completed"
    },
    "tags": []
   },
   "outputs": [],
   "source": [
    "# ML Metrics\n",
    "from sklearn.metrics import accuracy_score\n",
    "from sklearn.metrics import classification_report\n",
    "from torchmetrics.classification import MulticlassF1Score # F1 metric for multiclass"
   ]
  },
  {
   "cell_type": "code",
   "execution_count": 10,
   "id": "88568b25",
   "metadata": {
    "ExecuteTime": {
     "end_time": "2023-08-14T17:23:26.407058Z",
     "start_time": "2023-08-14T17:23:26.318039Z"
    },
    "execution": {
     "iopub.execute_input": "2023-08-14T16:24:20.218213Z",
     "iopub.status.busy": "2023-08-14T16:24:20.217860Z",
     "iopub.status.idle": "2023-08-14T16:24:20.222799Z",
     "shell.execute_reply": "2023-08-14T16:24:20.221890Z"
    },
    "id": "FEKtt6X5TFDZ",
    "papermill": {
     "duration": 0.03877,
     "end_time": "2023-08-14T16:24:20.224798",
     "exception": false,
     "start_time": "2023-08-14T16:24:20.186028",
     "status": "completed"
    },
    "tags": []
   },
   "outputs": [],
   "source": [
    "# Torch Computer Vision tools for images processing\n",
    "from torchvision.io import read_image\n",
    "from torchvision.transforms.functional import to_pil_image, to_grayscale, to_tensor\n",
    "from torchvision import models  # Pretrained models"
   ]
  },
  {
   "cell_type": "code",
   "execution_count": 11,
   "id": "4b566993",
   "metadata": {
    "ExecuteTime": {
     "end_time": "2023-08-14T17:23:26.407058Z",
     "start_time": "2023-08-14T17:23:26.339529Z"
    },
    "execution": {
     "iopub.execute_input": "2023-08-14T16:24:20.281300Z",
     "iopub.status.busy": "2023-08-14T16:24:20.280288Z",
     "iopub.status.idle": "2023-08-14T16:24:21.180336Z",
     "shell.execute_reply": "2023-08-14T16:24:21.179378Z"
    },
    "id": "90C8yH1dTFDa",
    "papermill": {
     "duration": 0.930793,
     "end_time": "2023-08-14T16:24:21.182870",
     "exception": false,
     "start_time": "2023-08-14T16:24:20.252077",
     "status": "completed"
    },
    "tags": []
   },
   "outputs": [],
   "source": [
    "# Albumentations is an OS library for augmentations\n",
    "import albumentations as A\n",
    "from albumentations.pytorch import ToTensorV2\n",
    "# import torchvision.transforms as T  # We can use torch augmentations instead"
   ]
  },
  {
   "cell_type": "code",
   "execution_count": null,
   "id": "4b747ae7",
   "metadata": {
    "ExecuteTime": {
     "end_time": "2023-08-14T17:23:26.408301Z",
     "start_time": "2023-08-14T17:23:26.353714Z"
    },
    "id": "4QwB35yVTFDa",
    "papermill": {
     "duration": 0.026766,
     "end_time": "2023-08-14T16:24:21.236825",
     "exception": false,
     "start_time": "2023-08-14T16:24:21.210059",
     "status": "completed"
    },
    "tags": []
   },
   "outputs": [],
   "source": []
  },
  {
   "cell_type": "code",
   "execution_count": 12,
   "id": "2cc3582f",
   "metadata": {
    "ExecuteTime": {
     "end_time": "2023-08-14T17:23:26.408813Z",
     "start_time": "2023-08-14T17:23:26.365720Z"
    },
    "collapsed": false,
    "execution": {
     "iopub.execute_input": "2023-08-14T16:24:21.293292Z",
     "iopub.status.busy": "2023-08-14T16:24:21.292268Z",
     "iopub.status.idle": "2023-08-14T16:24:21.298269Z",
     "shell.execute_reply": "2023-08-14T16:24:21.297160Z"
    },
    "id": "pF1AWOXTTFDa",
    "jupyter": {
     "outputs_hidden": false
    },
    "papermill": {
     "duration": 0.037099,
     "end_time": "2023-08-14T16:24:21.300878",
     "exception": false,
     "start_time": "2023-08-14T16:24:21.263779",
     "status": "completed"
    },
    "tags": []
   },
   "outputs": [],
   "source": [
    "# Output text colorizing\n",
    "from colorama import Back, Style\n",
    "\n",
    "def print_highlighted(text: str, bgcolor=Back.YELLOW) -> None:\n",
    "    \"\"\"\n",
    "    Function to print a text with colored background.\n",
    "    \"\"\"\n",
    "    print(bgcolor + text + Style.RESET_ALL)"
   ]
  },
  {
   "cell_type": "code",
   "execution_count": 13,
   "id": "410fd30a",
   "metadata": {
    "ExecuteTime": {
     "end_time": "2023-08-14T17:23:26.408813Z",
     "start_time": "2023-08-14T17:23:26.376150Z"
    },
    "collapsed": false,
    "execution": {
     "iopub.execute_input": "2023-08-14T16:24:21.357116Z",
     "iopub.status.busy": "2023-08-14T16:24:21.356776Z",
     "iopub.status.idle": "2023-08-14T16:24:21.361077Z",
     "shell.execute_reply": "2023-08-14T16:24:21.360145Z"
    },
    "id": "WHnMHaX_TFDb",
    "jupyter": {
     "outputs_hidden": false
    },
    "papermill": {
     "duration": 0.034479,
     "end_time": "2023-08-14T16:24:21.363117",
     "exception": false,
     "start_time": "2023-08-14T16:24:21.328638",
     "status": "completed"
    },
    "tags": []
   },
   "outputs": [],
   "source": [
    "# import wandb # MLOps platform to simplify and speed up the process of building ML models"
   ]
  },
  {
   "cell_type": "code",
   "execution_count": 14,
   "id": "e53766f8",
   "metadata": {
    "ExecuteTime": {
     "end_time": "2023-08-14T17:23:26.408813Z",
     "start_time": "2023-08-14T17:23:26.382183Z"
    },
    "collapsed": false,
    "execution": {
     "iopub.execute_input": "2023-08-14T16:24:21.419443Z",
     "iopub.status.busy": "2023-08-14T16:24:21.418412Z",
     "iopub.status.idle": "2023-08-14T16:24:21.423108Z",
     "shell.execute_reply": "2023-08-14T16:24:21.422216Z"
    },
    "id": "1zarBgpbTFDb",
    "jupyter": {
     "outputs_hidden": false
    },
    "papermill": {
     "duration": 0.034968,
     "end_time": "2023-08-14T16:24:21.425112",
     "exception": false,
     "start_time": "2023-08-14T16:24:21.390144",
     "status": "completed"
    },
    "tags": []
   },
   "outputs": [],
   "source": [
    "# wandb.login() # We log in via pop-up,\n",
    "# wandb.login(key=api_key)  # but you can also log in manually with function args"
   ]
  },
  {
   "cell_type": "markdown",
   "id": "c22e03b5",
   "metadata": {
    "id": "YuquAHEkTFDb",
    "papermill": {
     "duration": 0.026802,
     "end_time": "2023-08-14T16:24:21.479509",
     "exception": false,
     "start_time": "2023-08-14T16:24:21.452707",
     "status": "completed"
    },
    "tags": []
   },
   "source": [
    "## 2. Configuration"
   ]
  },
  {
   "cell_type": "code",
   "execution_count": 15,
   "id": "99d713b3",
   "metadata": {
    "ExecuteTime": {
     "end_time": "2023-08-14T17:23:26.470569Z",
     "start_time": "2023-08-14T17:23:26.407058Z"
    },
    "execution": {
     "iopub.execute_input": "2023-08-14T16:24:21.536885Z",
     "iopub.status.busy": "2023-08-14T16:24:21.535989Z",
     "iopub.status.idle": "2023-08-14T16:24:21.541507Z",
     "shell.execute_reply": "2023-08-14T16:24:21.540570Z"
    },
    "id": "JC-SbC9zTFDb",
    "papermill": {
     "duration": 0.036674,
     "end_time": "2023-08-14T16:24:21.543459",
     "exception": false,
     "start_time": "2023-08-14T16:24:21.506785",
     "status": "completed"
    },
    "tags": []
   },
   "outputs": [],
   "source": [
    "CONFIG = {\n",
    "    \"seed\": 2306,\n",
    "    \"epochs\": 20,\n",
    "    \"image_dimension\": 256,  # Depends on pretrained model used\n",
    "    \"model_name\": \"efficientnet_b0\",  # Pretrained model we will use\n",
    "    \"embedding_size\": 512,  # Embedding output size\n",
    "    \"train_batch_size\": 64,\n",
    "    \"val_batch_size\": 128,\n",
    "    \"learning_rate\": 1e-3,\n",
    "    \"min_lr\": 1e-8,\n",
    "    \"min_loss_delta\": 1e-7, # To stop training on plateau\n",
    "    \"weight_decay\": 1e-7,\n",
    "}"
   ]
  },
  {
   "cell_type": "code",
   "execution_count": 16,
   "id": "8ad7ced9",
   "metadata": {
    "ExecuteTime": {
     "end_time": "2023-08-14T17:23:26.590184Z",
     "start_time": "2023-08-14T17:23:26.420836Z"
    },
    "collapsed": false,
    "execution": {
     "iopub.execute_input": "2023-08-14T16:24:21.601087Z",
     "iopub.status.busy": "2023-08-14T16:24:21.599959Z",
     "iopub.status.idle": "2023-08-14T16:24:21.605955Z",
     "shell.execute_reply": "2023-08-14T16:24:21.605017Z"
    },
    "id": "TzAQ9KIRTFDb",
    "jupyter": {
     "outputs_hidden": false
    },
    "papermill": {
     "duration": 0.03692,
     "end_time": "2023-08-14T16:24:21.608045",
     "exception": false,
     "start_time": "2023-08-14T16:24:21.571125",
     "status": "completed"
    },
    "tags": []
   },
   "outputs": [],
   "source": [
    "class Config:\n",
    "    \"\"\"\n",
    "    Class to simplify access to Config: not dict but object with attributes\n",
    "    \"\"\"\n",
    "    def __init__(self, config_dict):\n",
    "        for key, value in config_dict.items():\n",
    "            setattr(self, key, value)"
   ]
  },
  {
   "cell_type": "code",
   "execution_count": 17,
   "id": "031750df",
   "metadata": {
    "ExecuteTime": {
     "end_time": "2023-08-14T17:23:26.590184Z",
     "start_time": "2023-08-14T17:23:26.468020Z"
    },
    "collapsed": false,
    "execution": {
     "iopub.execute_input": "2023-08-14T16:24:21.664457Z",
     "iopub.status.busy": "2023-08-14T16:24:21.663761Z",
     "iopub.status.idle": "2023-08-14T16:24:21.668360Z",
     "shell.execute_reply": "2023-08-14T16:24:21.667428Z"
    },
    "id": "wivQs3vJTFDb",
    "jupyter": {
     "outputs_hidden": false
    },
    "papermill": {
     "duration": 0.035139,
     "end_time": "2023-08-14T16:24:21.670496",
     "exception": false,
     "start_time": "2023-08-14T16:24:21.635357",
     "status": "completed"
    },
    "tags": []
   },
   "outputs": [],
   "source": [
    "config = Config(config_dict=CONFIG)\n",
    "del CONFIG"
   ]
  },
  {
   "cell_type": "code",
   "execution_count": 18,
   "id": "840f9495",
   "metadata": {
    "ExecuteTime": {
     "end_time": "2023-08-14T17:23:26.609608Z",
     "start_time": "2023-08-14T17:23:26.476586Z"
    },
    "collapsed": false,
    "execution": {
     "iopub.execute_input": "2023-08-14T16:24:21.727057Z",
     "iopub.status.busy": "2023-08-14T16:24:21.726709Z",
     "iopub.status.idle": "2023-08-14T16:24:21.733329Z",
     "shell.execute_reply": "2023-08-14T16:24:21.732472Z"
    },
    "id": "ZZO47D8bTFDc",
    "jupyter": {
     "outputs_hidden": false
    },
    "outputId": "38bf95ae-905a-43be-f188-2c2c29dbb2f1",
    "papermill": {
     "duration": 0.038088,
     "end_time": "2023-08-14T16:24:21.735810",
     "exception": false,
     "start_time": "2023-08-14T16:24:21.697722",
     "status": "completed"
    },
    "tags": []
   },
   "outputs": [
    {
     "data": {
      "text/plain": [
       "2306"
      ]
     },
     "execution_count": 18,
     "metadata": {},
     "output_type": "execute_result"
    }
   ],
   "source": [
    "# Work example\n",
    "config.seed"
   ]
  },
  {
   "cell_type": "markdown",
   "id": "97712567",
   "metadata": {
    "id": "kotMeU-OTFDc",
    "papermill": {
     "duration": 0.027693,
     "end_time": "2023-08-14T16:24:21.791364",
     "exception": false,
     "start_time": "2023-08-14T16:24:21.763671",
     "status": "completed"
    },
    "tags": []
   },
   "source": [
    "Set Seed for Reproducibility"
   ]
  },
  {
   "cell_type": "code",
   "execution_count": 19,
   "id": "982cc938",
   "metadata": {
    "ExecuteTime": {
     "end_time": "2023-08-14T17:23:26.610600Z",
     "start_time": "2023-08-14T17:23:26.506717Z"
    },
    "execution": {
     "iopub.execute_input": "2023-08-14T16:24:21.857387Z",
     "iopub.status.busy": "2023-08-14T16:24:21.857013Z",
     "iopub.status.idle": "2023-08-14T16:24:21.867395Z",
     "shell.execute_reply": "2023-08-14T16:24:21.866426Z"
    },
    "id": "RDIHP75uTFDc",
    "papermill": {
     "duration": 0.045937,
     "end_time": "2023-08-14T16:24:21.869710",
     "exception": false,
     "start_time": "2023-08-14T16:24:21.823773",
     "status": "completed"
    },
    "tags": []
   },
   "outputs": [],
   "source": [
    "def set_seed(seed=42):\n",
    "    \"\"\"\n",
    "    Sets the seed of the entire notebook so results are the same every time we run.\n",
    "    This is for REPRODUCIBILITY.\n",
    "    \"\"\"\n",
    "    np.random.seed(seed)\n",
    "    torch.manual_seed(seed)\n",
    "\n",
    "    # When running on the CuDNN backend, two further options must be set\n",
    "    # torch.backends.cudnn.deterministic = True\n",
    "    # torch.backends.cudnn.benchmark = False  # When False, this option makes CUDA reproducible, BUT the performance might suffer\n",
    "\n",
    "    # Set a fixed value for the hash seed\n",
    "    os.environ['PYTHONHASHSEED'] = str(seed)\n",
    "\n",
    "set_seed(seed=config.seed)"
   ]
  },
  {
   "cell_type": "markdown",
   "id": "98d4030b",
   "metadata": {
    "id": "UoHh0H1FVHnT",
    "papermill": {
     "duration": 0.027822,
     "end_time": "2023-08-14T16:24:21.925361",
     "exception": false,
     "start_time": "2023-08-14T16:24:21.897539",
     "status": "completed"
    },
    "tags": []
   },
   "source": [
    "# 2. Data"
   ]
  },
  {
   "cell_type": "markdown",
   "id": "509b1096",
   "metadata": {
    "id": "Qst3Y-s4VKTk",
    "papermill": {
     "duration": 0.042797,
     "end_time": "2023-08-14T16:24:22.001996",
     "exception": false,
     "start_time": "2023-08-14T16:24:21.959199",
     "status": "completed"
    },
    "tags": []
   },
   "source": [
    "## 1. Location"
   ]
  },
  {
   "cell_type": "code",
   "execution_count": 20,
   "id": "1a62bb9a",
   "metadata": {
    "ExecuteTime": {
     "end_time": "2023-08-14T17:23:26.611598Z",
     "start_time": "2023-08-14T17:23:26.573436Z"
    },
    "execution": {
     "iopub.execute_input": "2023-08-14T16:24:22.076289Z",
     "iopub.status.busy": "2023-08-14T16:24:22.075930Z",
     "iopub.status.idle": "2023-08-14T16:24:22.082006Z",
     "shell.execute_reply": "2023-08-14T16:24:22.081066Z"
    },
    "id": "QKDBLmMrTFDd",
    "papermill": {
     "duration": 0.036856,
     "end_time": "2023-08-14T16:24:22.084008",
     "exception": false,
     "start_time": "2023-08-14T16:24:22.047152",
     "status": "completed"
    },
    "tags": []
   },
   "outputs": [],
   "source": [
    "config.repo = 'car-brands/'  # dataset name on Kaggle\n",
    "# config.repo = 'data/'  # dataset name on local device\n",
    "# config.repo = 'car_brand_detection/'  # Google Collab\n",
    "\n",
    "config.root = '/kaggle/input/' + config.repo\n",
    "# config.root = 'drive/MyDrive/' + config.repo\n",
    "# config.root = '../'  + config.repo\n",
    "\n",
    "\n",
    "config.data = config.root\n",
    "\n",
    "config.train_images_path  = config.data + 'images/train'\n",
    "config.test_images_path = config.data + 'images/test'\n",
    "\n",
    "config.train_labels  = config.data + 'train_labels.csv'\n",
    "config.test_labels = config.data + 'test_labels.csv'\n",
    "\n",
    "# config.model_path = 'fine-tuned_mobilenet_v2'\n",
    "config.model_path = '/kaggle/input/efficient-model/fine-tuned_mobilenet_v2'\n",
    "# config.arcface_weights = '/kaggle/input/efficient-model/ArcLoss_parametres.pth'\n",
    "# config.model_path = '/kaggle/input/efficient-model/ArcFace_efficientnet_b0.pth'"
   ]
  },
  {
   "cell_type": "markdown",
   "id": "120accbf",
   "metadata": {
    "id": "u0McLUXoTFDd",
    "papermill": {
     "duration": 0.026926,
     "end_time": "2023-08-14T16:24:22.138322",
     "exception": false,
     "start_time": "2023-08-14T16:24:22.111396",
     "status": "completed"
    },
    "tags": []
   },
   "source": [
    "## 2. Custom Data representation"
   ]
  },
  {
   "cell_type": "code",
   "execution_count": 21,
   "id": "6cdd7b84",
   "metadata": {
    "ExecuteTime": {
     "end_time": "2023-08-14T17:23:26.612599Z",
     "start_time": "2023-08-14T17:23:26.586152Z"
    },
    "execution": {
     "iopub.execute_input": "2023-08-14T16:24:22.195133Z",
     "iopub.status.busy": "2023-08-14T16:24:22.194137Z",
     "iopub.status.idle": "2023-08-14T16:24:22.199519Z",
     "shell.execute_reply": "2023-08-14T16:24:22.198611Z"
    },
    "papermill": {
     "duration": 0.035798,
     "end_time": "2023-08-14T16:24:22.201575",
     "exception": false,
     "start_time": "2023-08-14T16:24:22.165777",
     "status": "completed"
    },
    "tags": []
   },
   "outputs": [],
   "source": [
    "def get_file_path_by_id(file_id, dir=config.root):\n",
    "    return os.path.join(dir, str(file_id) + \".jpg\")"
   ]
  },
  {
   "cell_type": "code",
   "execution_count": 22,
   "id": "88110c2a",
   "metadata": {
    "ExecuteTime": {
     "end_time": "2023-08-14T17:23:26.613599Z",
     "start_time": "2023-08-14T17:23:26.603179Z"
    },
    "collapsed": false,
    "execution": {
     "iopub.execute_input": "2023-08-14T16:24:22.259625Z",
     "iopub.status.busy": "2023-08-14T16:24:22.258630Z",
     "iopub.status.idle": "2023-08-14T16:24:22.266598Z",
     "shell.execute_reply": "2023-08-14T16:24:22.265563Z"
    },
    "id": "_dh7nUr3TFDd",
    "jupyter": {
     "outputs_hidden": false
    },
    "papermill": {
     "duration": 0.039278,
     "end_time": "2023-08-14T16:24:22.268745",
     "exception": false,
     "start_time": "2023-08-14T16:24:22.229467",
     "status": "completed"
    },
    "tags": []
   },
   "outputs": [],
   "source": [
    "def apply_label_encoding(data: t.Union[pd.DataFrame, np.array],\n",
    "                         encoder_name: os.path,\n",
    "                         column='label', action='encode',\n",
    "                         ):\n",
    "    \"\"\"\n",
    "    One Hot encoding. We apply encoding by replacing the label column in dataframe.\n",
    "    As for decoding data back, we work with vector-array (as it's most likely to\n",
    "    be a prediction result)\n",
    "    \"\"\"\n",
    "    encoder = LabelEncoder()\n",
    "    if action == 'encode':\n",
    "        # We transform dataframe here. Nothing returns\n",
    "        data[column] = encoder.fit_transform(data[column])\n",
    "        with open(f\"{encoder_name}_LEncoder.pkl\", \"wb\") as fp:\n",
    "            joblib.dump(encoder, fp)\n",
    "    elif action == 'decode':\n",
    "        # We pass vector here. Result is a vector\n",
    "        with open(f\"{encoder_name}_LEncoder.pkl\", \"rb\") as fp:\n",
    "            encoder: LabelEncoder = joblib.load(fp)\n",
    "        return encoder.inverse_transform(data)"
   ]
  },
  {
   "cell_type": "code",
   "execution_count": 23,
   "id": "a44e92de",
   "metadata": {
    "ExecuteTime": {
     "end_time": "2023-08-14T17:23:26.774422Z",
     "start_time": "2023-08-14T17:23:26.640614Z"
    },
    "collapsed": false,
    "execution": {
     "iopub.execute_input": "2023-08-14T16:24:22.326614Z",
     "iopub.status.busy": "2023-08-14T16:24:22.326226Z",
     "iopub.status.idle": "2023-08-14T16:24:22.339181Z",
     "shell.execute_reply": "2023-08-14T16:24:22.338239Z"
    },
    "id": "piJ9PgTuTFDe",
    "jupyter": {
     "outputs_hidden": false
    },
    "papermill": {
     "duration": 0.044801,
     "end_time": "2023-08-14T16:24:22.341189",
     "exception": false,
     "start_time": "2023-08-14T16:24:22.296388",
     "status": "completed"
    },
    "tags": []
   },
   "outputs": [],
   "source": [
    "class CustomImagesDataset(Dataset):\n",
    "    \"\"\"\n",
    "    \"\"\"\n",
    "    def __init__(self, data: pd.DataFrame=None, images_path: os.path=None, labels_path:os.path=None, transform_images: A.Compose=None, encoder_name: str=None):\n",
    "        \"\"\"\n",
    "\n",
    "        \"\"\"\n",
    "        super().__init__()\n",
    "        assert (data is not None) or (labels_path is not None and images_path is not None)\n",
    "\n",
    "        if data is None:\n",
    "            data = pd.read_csv(labels_path)\n",
    "            data['file_path'] = data['id'].apply(get_file_path_by_id, dir=images_path)\n",
    "\n",
    "        self.images_paths = data['file_path'].values\n",
    "        self.encoder_name = encoder_name if encoder_name else self.__hash__()  # We use hash as a unique name\n",
    "        print_highlighted(f\"Label Encoder saved with id `{self.encoder_name}`\")\n",
    "        apply_label_encoding(data=data, action='encode', encoder_name=self.encoder_name)\n",
    "        self.labels = data['label'].values\n",
    "#         self.indexes = data['id'].values\n",
    "        self.transform_images = transform_images\n",
    "        self.__set_dataset_len()\n",
    "\n",
    "    def __set_dataset_len(self):\n",
    "        self.length = self.labels.shape[0] # Number of rows\n",
    "\n",
    "    def __len__(self):\n",
    "        \"\"\"\n",
    "        We calculate the len in another function, so that we are able to slice.\n",
    "        \"\"\"\n",
    "        return self.length\n",
    "\n",
    "    def decode_labels(self, labels_vector):\n",
    "        return apply_label_encoding(data=labels_vector, action='decode', encoder_name=self.encoder_name)\n",
    "\n",
    "    def __getitem__(self, index) -> tuple[torch.Tensor, int]:\n",
    "        \"\"\" Function to return item by indexing the dataset \"\"\"\n",
    "\n",
    "        if not isinstance(index, int) and isinstance(index, slice):\n",
    "            # It's not an index, but slice.\n",
    "            # We will return the part of data by making a copy of the dataset\n",
    "            index: slice\n",
    "            self = deepcopy(self)\n",
    "            self.length = index.stop  # Cut the length of dataset.\n",
    "            self.labels = self.labels[:self.length]\n",
    "            return self\n",
    "        assert self.__len__() >= index\n",
    "\n",
    "        image = to_pil_image(read_image(self.images_paths[index]))\n",
    "        if self.transform_images:\n",
    "            # Albumentations requires us to convert image to Numpy Array\n",
    "            image = self.transform_images(image=np.array(image))['image']\n",
    "\n",
    "        label = self.labels[index]\n",
    "        return image, label\n",
    "\n",
    "\n",
    "    @property\n",
    "    def classes_(self):\n",
    "        return self.decode_labels(np.unique(self.labels))\n"
   ]
  },
  {
   "cell_type": "markdown",
   "id": "aceb85ea",
   "metadata": {
    "id": "lB9BnVDPTFDe",
    "papermill": {
     "duration": 0.02757,
     "end_time": "2023-08-14T16:24:22.396505",
     "exception": false,
     "start_time": "2023-08-14T16:24:22.368935",
     "status": "completed"
    },
    "tags": []
   },
   "source": [
    "## 3. Augmentations"
   ]
  },
  {
   "cell_type": "markdown",
   "id": "928745e7",
   "metadata": {
    "id": "i-F36u_bTFDe",
    "papermill": {
     "duration": 0.026968,
     "end_time": "2023-08-14T16:24:22.450897",
     "exception": false,
     "start_time": "2023-08-14T16:24:22.423929",
     "status": "completed"
    },
    "tags": []
   },
   "source": [
    "We use Albumantations lib"
   ]
  },
  {
   "cell_type": "code",
   "execution_count": 24,
   "id": "97a43d76",
   "metadata": {
    "ExecuteTime": {
     "end_time": "2023-08-14T17:23:26.813412Z",
     "start_time": "2023-08-14T17:23:26.668859Z"
    },
    "collapsed": false,
    "execution": {
     "iopub.execute_input": "2023-08-14T16:24:22.507542Z",
     "iopub.status.busy": "2023-08-14T16:24:22.506527Z",
     "iopub.status.idle": "2023-08-14T16:24:22.517496Z",
     "shell.execute_reply": "2023-08-14T16:24:22.516604Z"
    },
    "id": "tROO0x2GTFDe",
    "jupyter": {
     "outputs_hidden": false
    },
    "papermill": {
     "duration": 0.041327,
     "end_time": "2023-08-14T16:24:22.519534",
     "exception": false,
     "start_time": "2023-08-14T16:24:22.478207",
     "status": "completed"
    },
    "tags": []
   },
   "outputs": [],
   "source": [
    "data_transforms = {\n",
    "    \"train\": A.Compose([\n",
    "#         A.ToRGB(),\n",
    "        A.Resize(config.image_dimension, config.image_dimension),\n",
    "        A.ShiftScaleRotate(\n",
    "            shift_limit=0.1,\n",
    "            scale_limit=0.15,\n",
    "            rotate_limit=30,\n",
    "            p=0.5),\n",
    "        A.HueSaturationValue(\n",
    "                hue_shift_limit=30,\n",
    "                sat_shift_limit=30,\n",
    "                val_shift_limit=30,\n",
    "                p=0.5\n",
    "            ),\n",
    "        A.RandomBrightnessContrast(\n",
    "                brightness_limit=(-0.01,0.01),\n",
    "                contrast_limit=(-0.01, 0.01),\n",
    "                p=0.5\n",
    "            ),\n",
    "        A.Normalize(\n",
    "                mean=[0.485, 0.456, 0.406],\n",
    "                std=[0.229, 0.224, 0.225],\n",
    "                max_pixel_value=255.0,\n",
    "                p=1.0\n",
    "            ),\n",
    "        ToTensorV2() # Advanced analogue of T.ToTensor\n",
    "    ], p=1.),\n",
    "\n",
    "    \"val\": A.Compose([\n",
    "#         A.ToRGB(),\n",
    "        A.Resize(config.image_dimension, config.image_dimension),\n",
    "        A.Normalize(\n",
    "                mean=[0.485, 0.456, 0.406],\n",
    "                std=[0.229, 0.224, 0.225],\n",
    "                max_pixel_value=255.0,\n",
    "                p=1.0\n",
    "            ),\n",
    "        ToTensorV2()], p=1.)\n",
    "}"
   ]
  },
  {
   "cell_type": "markdown",
   "id": "8e2ce259",
   "metadata": {
    "id": "LrSe00KeTFDe",
    "papermill": {
     "duration": 0.027117,
     "end_time": "2023-08-14T16:24:22.574348",
     "exception": false,
     "start_time": "2023-08-14T16:24:22.547231",
     "status": "completed"
    },
    "tags": []
   },
   "source": [
    "## 4. Load the data and have a look"
   ]
  },
  {
   "cell_type": "code",
   "execution_count": 25,
   "id": "39ac2a12",
   "metadata": {
    "ExecuteTime": {
     "end_time": "2023-08-14T17:23:27.056859Z",
     "start_time": "2023-08-14T17:23:26.695204Z"
    },
    "collapsed": false,
    "execution": {
     "iopub.execute_input": "2023-08-14T16:24:22.629859Z",
     "iopub.status.busy": "2023-08-14T16:24:22.629497Z",
     "iopub.status.idle": "2023-08-14T16:24:22.730870Z",
     "shell.execute_reply": "2023-08-14T16:24:22.729911Z"
    },
    "id": "DmijxMsuTFDf",
    "jupyter": {
     "outputs_hidden": false
    },
    "outputId": "0f9bae18-cdd1-4716-8bc0-8d83c4eb2a3f",
    "papermill": {
     "duration": 0.131857,
     "end_time": "2023-08-14T16:24:22.733140",
     "exception": false,
     "start_time": "2023-08-14T16:24:22.601283",
     "status": "completed"
    },
    "tags": []
   },
   "outputs": [
    {
     "name": "stdout",
     "output_type": "stream",
     "text": [
      "\u001B[43mLabel Encoder saved with id `train`\u001B[0m\n"
     ]
    }
   ],
   "source": [
    "train_dataset = CustomImagesDataset(labels_path=config.train_labels, images_path=config.train_images_path, transform_images=data_transforms['train'], encoder_name='train')"
   ]
  },
  {
   "cell_type": "code",
   "execution_count": 26,
   "id": "5729723e",
   "metadata": {
    "ExecuteTime": {
     "end_time": "2023-08-14T17:23:27.146756Z",
     "start_time": "2023-08-14T17:23:27.057861Z"
    },
    "execution": {
     "iopub.execute_input": "2023-08-14T16:24:22.790874Z",
     "iopub.status.busy": "2023-08-14T16:24:22.790502Z",
     "iopub.status.idle": "2023-08-14T16:24:22.817296Z",
     "shell.execute_reply": "2023-08-14T16:24:22.816038Z"
    },
    "id": "NyHg814zTFDf",
    "outputId": "11706677-ef27-479d-c5a7-440ddb48b538",
    "papermill": {
     "duration": 0.058274,
     "end_time": "2023-08-14T16:24:22.819446",
     "exception": false,
     "start_time": "2023-08-14T16:24:22.761172",
     "status": "completed"
    },
    "tags": []
   },
   "outputs": [
    {
     "name": "stdout",
     "output_type": "stream",
     "text": [
      "\u001B[43mLabel Encoder saved with id `test`\u001B[0m\n"
     ]
    }
   ],
   "source": [
    "test_dataset = CustomImagesDataset(\n",
    "    labels_path=config.test_labels,\n",
    "    images_path=config.test_images_path,\n",
    "    transform_images=data_transforms['val'],\n",
    "    encoder_name='test',\n",
    ")"
   ]
  },
  {
   "cell_type": "code",
   "execution_count": 27,
   "id": "8198963a",
   "metadata": {
    "ExecuteTime": {
     "end_time": "2023-08-14T17:23:27.271816Z",
     "start_time": "2023-08-14T17:23:27.095977Z"
    },
    "execution": {
     "iopub.execute_input": "2023-08-14T16:24:22.876672Z",
     "iopub.status.busy": "2023-08-14T16:24:22.876327Z",
     "iopub.status.idle": "2023-08-14T16:24:22.983424Z",
     "shell.execute_reply": "2023-08-14T16:24:22.982488Z"
    },
    "id": "_bZMqZjoTFDf",
    "outputId": "a43afe2b-a8cb-4aee-9500-d4637cd905ef",
    "papermill": {
     "duration": 0.141629,
     "end_time": "2023-08-14T16:24:22.989267",
     "exception": false,
     "start_time": "2023-08-14T16:24:22.847638",
     "status": "completed"
    },
    "tags": []
   },
   "outputs": [
    {
     "data": {
      "image/png": "[encoded data removed]",
      "text/plain": [
       "<PIL.Image.Image image mode=RGB size=256x256>"
      ]
     },
     "execution_count": 27,
     "metadata": {},
     "output_type": "execute_result"
    }
   ],
   "source": [
    "to_pil_image(train_dataset[60][0])"
   ]
  },
  {
   "cell_type": "code",
   "execution_count": 28,
   "id": "840792a6",
   "metadata": {
    "ExecuteTime": {
     "end_time": "2023-08-14T17:24:03.063583Z",
     "start_time": "2023-08-14T17:24:02.995949Z"
    },
    "collapsed": false,
    "execution": {
     "iopub.execute_input": "2023-08-14T16:24:23.050134Z",
     "iopub.status.busy": "2023-08-14T16:24:23.049729Z",
     "iopub.status.idle": "2023-08-14T16:24:23.059548Z",
     "shell.execute_reply": "2023-08-14T16:24:23.058571Z"
    },
    "id": "UUS_aiISTFDf",
    "jupyter": {
     "outputs_hidden": false
    },
    "outputId": "832f5ec9-3895-4f71-bc96-6e626c74ab34",
    "papermill": {
     "duration": 0.042393,
     "end_time": "2023-08-14T16:24:23.061573",
     "exception": false,
     "start_time": "2023-08-14T16:24:23.019180",
     "status": "completed"
    },
    "tags": []
   },
   "outputs": [
    {
     "data": {
      "text/plain": [
       "760"
      ]
     },
     "execution_count": 28,
     "metadata": {},
     "output_type": "execute_result"
    }
   ],
   "source": [
    "config.num_of_classes = len(train_dataset.classes_)\n",
    "config.num_of_classes"
   ]
  },
  {
   "cell_type": "markdown",
   "id": "c5ad8255",
   "metadata": {
    "id": "1T2BVhnkTFDf",
    "papermill": {
     "duration": 0.029092,
     "end_time": "2023-08-14T16:24:23.120233",
     "exception": false,
     "start_time": "2023-08-14T16:24:23.091141",
     "status": "completed"
    },
    "tags": []
   },
   "source": [
    "Below we ensure that the test dataset doesn't contain unknown data"
   ]
  },
  {
   "cell_type": "code",
   "execution_count": 29,
   "id": "5f3e931a",
   "metadata": {
    "ExecuteTime": {
     "end_time": "2023-08-14T17:24:03.362864Z",
     "start_time": "2023-08-14T17:24:03.308139Z"
    },
    "execution": {
     "iopub.execute_input": "2023-08-14T16:24:23.181326Z",
     "iopub.status.busy": "2023-08-14T16:24:23.180383Z",
     "iopub.status.idle": "2023-08-14T16:24:23.188177Z",
     "shell.execute_reply": "2023-08-14T16:24:23.187350Z"
    },
    "id": "52QN-ziNTFDg",
    "papermill": {
     "duration": 0.04048,
     "end_time": "2023-08-14T16:24:23.190226",
     "exception": false,
     "start_time": "2023-08-14T16:24:23.149746",
     "status": "completed"
    },
    "tags": []
   },
   "outputs": [],
   "source": [
    "assert not bool(set(test_dataset.classes_) - set(train_dataset.classes_))"
   ]
  },
  {
   "cell_type": "code",
   "execution_count": 30,
   "id": "4fb48d99",
   "metadata": {
    "ExecuteTime": {
     "end_time": "2023-08-14T17:24:03.814742Z",
     "start_time": "2023-08-14T17:24:03.537760Z"
    },
    "execution": {
     "iopub.execute_input": "2023-08-14T16:24:23.250351Z",
     "iopub.status.busy": "2023-08-14T16:24:23.249403Z",
     "iopub.status.idle": "2023-08-14T16:24:23.256797Z",
     "shell.execute_reply": "2023-08-14T16:24:23.255625Z"
    },
    "id": "lYMINDi1TFDj",
    "outputId": "bdd6cc65-de03-495d-9883-53906ce9a165",
    "papermill": {
     "duration": 0.03962,
     "end_time": "2023-08-14T16:24:23.258792",
     "exception": false,
     "start_time": "2023-08-14T16:24:23.219172",
     "status": "completed"
    },
    "tags": []
   },
   "outputs": [
    {
     "name": "stdout",
     "output_type": "stream",
     "text": [
      "Acura_MDX;  Alfa Romeo_Giulietta;  Audi_100;  Audi_80;  Audi_A1;  Audi_A3;  Audi_A4;  Audi_A5;  Audi_A6;  Audi_A7;  Audi_A8;  Audi_Q3;  Audi_Q5;  Audi_Q7;  Audi_R8;  Audi_RS6;  Audi_S5;  Audi_S8;  Audi_TT;  BAW_FENIX..."
     ]
    }
   ],
   "source": [
    "print(*train_dataset.classes_[:20], sep=';  ', end='...')"
   ]
  },
  {
   "cell_type": "markdown",
   "id": "50228a4c",
   "metadata": {
    "id": "1nrMvID-TFDk",
    "papermill": {
     "duration": 0.029139,
     "end_time": "2023-08-14T16:24:23.317070",
     "exception": false,
     "start_time": "2023-08-14T16:24:23.287931",
     "status": "completed"
    },
    "tags": []
   },
   "source": [
    "# 3. Model"
   ]
  },
  {
   "cell_type": "markdown",
   "id": "693721fd",
   "metadata": {
    "papermill": {
     "duration": 0.028679,
     "end_time": "2023-08-14T16:24:23.375023",
     "exception": false,
     "start_time": "2023-08-14T16:24:23.346344",
     "status": "completed"
    },
    "tags": []
   },
   "source": [
    "ArcFace loss function is used on the embeddings, not on the final predictions"
   ]
  },
  {
   "cell_type": "markdown",
   "id": "701e4180",
   "metadata": {
    "id": "CC_wCexMTFDk",
    "papermill": {
     "duration": 0.028535,
     "end_time": "2023-08-14T16:24:23.432671",
     "exception": false,
     "start_time": "2023-08-14T16:24:23.404136",
     "status": "completed"
    },
    "tags": []
   },
   "source": [
    "## 1. Getting the pretrained model"
   ]
  },
  {
   "cell_type": "code",
   "execution_count": 31,
   "id": "7f18c4d0",
   "metadata": {
    "ExecuteTime": {
     "end_time": "2023-08-14T17:24:04.219145Z",
     "start_time": "2023-08-14T17:24:04.096107Z"
    },
    "collapsed": false,
    "execution": {
     "iopub.execute_input": "2023-08-14T16:24:23.492983Z",
     "iopub.status.busy": "2023-08-14T16:24:23.492026Z",
     "iopub.status.idle": "2023-08-14T16:24:23.497728Z",
     "shell.execute_reply": "2023-08-14T16:24:23.496840Z"
    },
    "jupyter": {
     "outputs_hidden": false
    },
    "papermill": {
     "duration": 0.037894,
     "end_time": "2023-08-14T16:24:23.499805",
     "exception": false,
     "start_time": "2023-08-14T16:24:23.461911",
     "status": "completed"
    },
    "tags": []
   },
   "outputs": [],
   "source": [
    "def get_input_feature_size(classifier: nn.Sequential) -> int:\n",
    "    for module in classifier.modules():\n",
    "        if isinstance(module, nn.Linear):\n",
    "            return module.in_features"
   ]
  },
  {
   "cell_type": "code",
   "execution_count": 32,
   "id": "b4d662b1",
   "metadata": {
    "ExecuteTime": {
     "end_time": "2023-08-14T17:24:04.281142Z",
     "start_time": "2023-08-14T17:24:04.129656Z"
    },
    "execution": {
     "iopub.execute_input": "2023-08-14T16:24:23.560535Z",
     "iopub.status.busy": "2023-08-14T16:24:23.560176Z",
     "iopub.status.idle": "2023-08-14T16:24:23.568100Z",
     "shell.execute_reply": "2023-08-14T16:24:23.567130Z"
    },
    "id": "-NUikulCTFDk",
    "papermill": {
     "duration": 0.040624,
     "end_time": "2023-08-14T16:24:23.570110",
     "exception": false,
     "start_time": "2023-08-14T16:24:23.529486",
     "status": "completed"
    },
    "tags": []
   },
   "outputs": [],
   "source": [
    "def get_model(model_name='resnet18', from_path=None, pretrained=False, freeze_layers=0.0, get_embeddings=False) -> torch.nn.Module:\n",
    "    if from_path:\n",
    "        try:\n",
    "            model = torch.load(from_path, map_location=torch.device(\"cuda\" if torch.cuda.is_available() else \"cpu\"))\n",
    "        except FileNotFoundError:\n",
    "            raise\n",
    "    elif model_name:\n",
    "        model = getattr(models, model_name) # We use builtin function\n",
    "        model = model(\n",
    "        weights=('DEFAULT' if pretrained else None)\n",
    "        )\n",
    "\n",
    "    if bool(freeze_layers):\n",
    "        params = list(model.parameters())\n",
    "        for param in params[:int(len(params)*freeze_layers)]:\n",
    "            # Freeze some layers\n",
    "            param.requires_grad = False\n",
    "\n",
    "    if get_embeddings:\n",
    "        # That means remove classifier (last layer):\n",
    "        model.classifier = nn.Sequential(\n",
    "            # nn.Dropout(p=0.3, inplace=True),\n",
    "            nn.Linear(in_features=get_input_feature_size(model.classifier),\n",
    "                      out_features=config.embedding_size, bias=True\n",
    "                      ),\n",
    "\n",
    "        )\n",
    "    return model"
   ]
  },
  {
   "cell_type": "markdown",
   "id": "7d7aa1d7",
   "metadata": {
    "papermill": {
     "duration": 0.028882,
     "end_time": "2023-08-14T16:24:23.628032",
     "exception": false,
     "start_time": "2023-08-14T16:24:23.599150",
     "status": "completed"
    },
    "tags": []
   },
   "source": [
    "We can fine-tune the model or train from scratch"
   ]
  },
  {
   "cell_type": "code",
   "execution_count": 33,
   "id": "fc1832ca",
   "metadata": {
    "ExecuteTime": {
     "end_time": "2023-08-14T17:24:06.082908Z",
     "start_time": "2023-08-14T17:24:06.050183Z"
    },
    "execution": {
     "iopub.execute_input": "2023-08-14T16:24:23.687977Z",
     "iopub.status.busy": "2023-08-14T16:24:23.687209Z",
     "iopub.status.idle": "2023-08-14T16:24:23.691861Z",
     "shell.execute_reply": "2023-08-14T16:24:23.690735Z"
    },
    "id": "v-BpLsBTTFDk",
    "outputId": "9f1358ab-175a-482d-a430-85a36c85a9c0",
    "papermill": {
     "duration": 0.036963,
     "end_time": "2023-08-14T16:24:23.694005",
     "exception": false,
     "start_time": "2023-08-14T16:24:23.657042",
     "status": "completed"
    },
    "tags": []
   },
   "outputs": [],
   "source": [
    "# model = get_model(\n",
    "#     model_name=config.model_name,\n",
    "#     pretrained=True,\n",
    "#     freeze_layers=0.0,\n",
    "#     get_embeddings=True\n",
    "# )"
   ]
  },
  {
   "cell_type": "markdown",
   "id": "4729f833",
   "metadata": {
    "papermill": {
     "duration": 0.029028,
     "end_time": "2023-08-14T16:24:23.752781",
     "exception": false,
     "start_time": "2023-08-14T16:24:23.723753",
     "status": "completed"
    },
    "tags": []
   },
   "source": [
    "Or fine-tine the model that we've trained before"
   ]
  },
  {
   "cell_type": "code",
   "execution_count": 34,
   "id": "f45b0458",
   "metadata": {
    "ExecuteTime": {
     "end_time": "2023-08-14T17:24:06.509753Z",
     "start_time": "2023-08-14T17:24:06.426952Z"
    },
    "execution": {
     "iopub.execute_input": "2023-08-14T16:24:23.813067Z",
     "iopub.status.busy": "2023-08-14T16:24:23.812177Z",
     "iopub.status.idle": "2023-08-14T16:24:29.380586Z",
     "shell.execute_reply": "2023-08-14T16:24:29.379605Z"
    },
    "papermill": {
     "duration": 5.600845,
     "end_time": "2023-08-14T16:24:29.382961",
     "exception": false,
     "start_time": "2023-08-14T16:24:23.782116",
     "status": "completed"
    },
    "tags": []
   },
   "outputs": [],
   "source": [
    "model = get_model(\n",
    "    from_path=config.model_path,\n",
    "    pretrained=True,\n",
    "    freeze_layers=0.0,\n",
    "    get_embeddings=True\n",
    ")"
   ]
  },
  {
   "cell_type": "markdown",
   "id": "5b9f0a13",
   "metadata": {
    "papermill": {
     "duration": 0.028908,
     "end_time": "2023-08-14T16:24:29.441920",
     "exception": false,
     "start_time": "2023-08-14T16:24:29.413012",
     "status": "completed"
    },
    "tags": []
   },
   "source": [
    "It is a model that doesn't have classifier - only one linear layer that transforms embeddings to desired size"
   ]
  },
  {
   "cell_type": "code",
   "execution_count": 35,
   "id": "b4ff880f",
   "metadata": {
    "ExecuteTime": {
     "end_time": "2023-08-14T17:24:12.695212Z",
     "start_time": "2023-08-14T17:24:12.655659Z"
    },
    "execution": {
     "iopub.execute_input": "2023-08-14T16:24:29.502070Z",
     "iopub.status.busy": "2023-08-14T16:24:29.501711Z",
     "iopub.status.idle": "2023-08-14T16:24:29.508255Z",
     "shell.execute_reply": "2023-08-14T16:24:29.507353Z"
    },
    "id": "GsWQ0vJoTFDm",
    "outputId": "fe3553cc-d992-44f6-f031-4c1c49705080",
    "papermill": {
     "duration": 0.039105,
     "end_time": "2023-08-14T16:24:29.510375",
     "exception": false,
     "start_time": "2023-08-14T16:24:29.471270",
     "status": "completed"
    },
    "tags": []
   },
   "outputs": [
    {
     "data": {
      "text/plain": [
       "Sequential(\n",
       "  (0): Linear(in_features=960, out_features=512, bias=True)\n",
       ")"
      ]
     },
     "execution_count": 35,
     "metadata": {},
     "output_type": "execute_result"
    }
   ],
   "source": [
    "model.classifier"
   ]
  },
  {
   "cell_type": "markdown",
   "id": "93615061",
   "metadata": {
    "id": "t6rYKZFqTFDn",
    "papermill": {
     "duration": 0.030093,
     "end_time": "2023-08-14T16:24:29.570642",
     "exception": false,
     "start_time": "2023-08-14T16:24:29.540549",
     "status": "completed"
    },
    "tags": []
   },
   "source": [
    "# 4. Various"
   ]
  },
  {
   "cell_type": "markdown",
   "id": "0e6badbc",
   "metadata": {
    "id": "UhnkDGSqTFDn",
    "papermill": {
     "duration": 0.029828,
     "end_time": "2023-08-14T16:24:29.630054",
     "exception": false,
     "start_time": "2023-08-14T16:24:29.600226",
     "status": "completed"
    },
    "tags": []
   },
   "source": [
    "## 1. Quality metrics"
   ]
  },
  {
   "cell_type": "markdown",
   "id": "6e55c95c",
   "metadata": {
    "id": "VpjMrvnfWgHC",
    "papermill": {
     "duration": 0.029419,
     "end_time": "2023-08-14T16:24:29.689395",
     "exception": false,
     "start_time": "2023-08-14T16:24:29.659976",
     "status": "completed"
    },
    "tags": []
   },
   "source": [
    "We will use accuracy and F1 score for out classification task"
   ]
  },
  {
   "cell_type": "code",
   "execution_count": 36,
   "id": "889ef02c",
   "metadata": {
    "ExecuteTime": {
     "end_time": "2023-08-14T17:24:14.257455Z",
     "start_time": "2023-08-14T17:24:14.222546Z"
    },
    "execution": {
     "iopub.execute_input": "2023-08-14T16:24:29.750613Z",
     "iopub.status.busy": "2023-08-14T16:24:29.750232Z",
     "iopub.status.idle": "2023-08-14T16:24:29.760524Z",
     "shell.execute_reply": "2023-08-14T16:24:29.759648Z"
    },
    "id": "c_2AwnsfTFDn",
    "papermill": {
     "duration": 0.043366,
     "end_time": "2023-08-14T16:24:29.762611",
     "exception": false,
     "start_time": "2023-08-14T16:24:29.719245",
     "status": "completed"
    },
    "tags": []
   },
   "outputs": [],
   "source": [
    "f1_score = MulticlassF1Score(num_classes=config.num_of_classes, average=\"macro\")"
   ]
  },
  {
   "cell_type": "markdown",
   "id": "01f2bc46",
   "metadata": {
    "id": "WqgSgG2_TFDn",
    "papermill": {
     "duration": 0.029561,
     "end_time": "2023-08-14T16:24:29.821752",
     "exception": false,
     "start_time": "2023-08-14T16:24:29.792191",
     "status": "completed"
    },
    "tags": []
   },
   "source": [
    "## 2. Device"
   ]
  },
  {
   "cell_type": "code",
   "execution_count": 37,
   "id": "6860d488",
   "metadata": {
    "ExecuteTime": {
     "end_time": "2023-08-12T09:39:36.287885Z",
     "start_time": "2023-08-12T09:39:36.135928Z"
    },
    "execution": {
     "iopub.execute_input": "2023-08-14T16:24:29.882157Z",
     "iopub.status.busy": "2023-08-14T16:24:29.881821Z",
     "iopub.status.idle": "2023-08-14T16:24:29.892959Z",
     "shell.execute_reply": "2023-08-14T16:24:29.891963Z"
    },
    "id": "F7zEDfFvTFDo",
    "papermill": {
     "duration": 0.04363,
     "end_time": "2023-08-14T16:24:29.894974",
     "exception": false,
     "start_time": "2023-08-14T16:24:29.851344",
     "status": "completed"
    },
    "tags": []
   },
   "outputs": [],
   "source": [
    "device = torch.device(\"cuda\" if torch.cuda.is_available() else \"cpu\")\n",
    "model = model.to(device)\n",
    "f1_score = f1_score.to(device)\n",
    "torch.cuda.empty_cache()"
   ]
  },
  {
   "cell_type": "markdown",
   "id": "acb7367a",
   "metadata": {
    "id": "E7mbVBoGTFDo",
    "papermill": {
     "duration": 0.029342,
     "end_time": "2023-08-14T16:24:29.953491",
     "exception": false,
     "start_time": "2023-08-14T16:24:29.924149",
     "status": "completed"
    },
    "tags": []
   },
   "source": [
    "## 3. Data processing format"
   ]
  },
  {
   "cell_type": "code",
   "execution_count": 38,
   "id": "78286781",
   "metadata": {
    "ExecuteTime": {
     "end_time": "2023-08-14T17:24:25.785305Z",
     "start_time": "2023-08-14T17:24:25.745896Z"
    },
    "execution": {
     "iopub.execute_input": "2023-08-14T16:24:30.014666Z",
     "iopub.status.busy": "2023-08-14T16:24:30.014283Z",
     "iopub.status.idle": "2023-08-14T16:24:30.021962Z",
     "shell.execute_reply": "2023-08-14T16:24:30.018850Z"
    },
    "id": "7xJPcyHwTFDo",
    "papermill": {
     "duration": 0.042453,
     "end_time": "2023-08-14T16:24:30.025418",
     "exception": false,
     "start_time": "2023-08-14T16:24:29.982965",
     "status": "completed"
    },
    "tags": []
   },
   "outputs": [],
   "source": [
    "config.train_batch_size, config.val_batch_size = 160, 350"
   ]
  },
  {
   "cell_type": "code",
   "execution_count": 39,
   "id": "74417a96",
   "metadata": {
    "ExecuteTime": {
     "end_time": "2023-08-14T17:24:26.180270Z",
     "start_time": "2023-08-14T17:24:26.147993Z"
    },
    "execution": {
     "iopub.execute_input": "2023-08-14T16:24:30.087766Z",
     "iopub.status.busy": "2023-08-14T16:24:30.087391Z",
     "iopub.status.idle": "2023-08-14T16:24:30.092593Z",
     "shell.execute_reply": "2023-08-14T16:24:30.091592Z"
    },
    "id": "IqrseI2gTFDo",
    "papermill": {
     "duration": 0.03949,
     "end_time": "2023-08-14T16:24:30.094630",
     "exception": false,
     "start_time": "2023-08-14T16:24:30.055140",
     "status": "completed"
    },
    "tags": []
   },
   "outputs": [],
   "source": [
    "train_dataloader = DataLoader(train_dataset,\n",
    "                              batch_size=config.train_batch_size,\n",
    "                              shuffle=True,\n",
    "                              num_workers=os.cpu_count() % 4,\n",
    ")"
   ]
  },
  {
   "cell_type": "code",
   "execution_count": 40,
   "id": "3ae82c13",
   "metadata": {
    "ExecuteTime": {
     "end_time": "2023-08-14T17:24:26.456677Z",
     "start_time": "2023-08-14T17:24:26.378091Z"
    },
    "execution": {
     "iopub.execute_input": "2023-08-14T16:24:30.156605Z",
     "iopub.status.busy": "2023-08-14T16:24:30.155637Z",
     "iopub.status.idle": "2023-08-14T16:24:30.160974Z",
     "shell.execute_reply": "2023-08-14T16:24:30.159904Z"
    },
    "id": "GeiY7hELTFDo",
    "papermill": {
     "duration": 0.038515,
     "end_time": "2023-08-14T16:24:30.163019",
     "exception": false,
     "start_time": "2023-08-14T16:24:30.124504",
     "status": "completed"
    },
    "tags": []
   },
   "outputs": [],
   "source": [
    "test_dataloader = DataLoader(test_dataset,\n",
    "                              batch_size=config.val_batch_size,\n",
    "                              shuffle=False,\n",
    "                              num_workers=os.cpu_count() % 4,\n",
    ")"
   ]
  },
  {
   "cell_type": "markdown",
   "id": "ae268174",
   "metadata": {
    "papermill": {
     "duration": 0.029126,
     "end_time": "2023-08-14T16:24:30.222159",
     "exception": false,
     "start_time": "2023-08-14T16:24:30.193033",
     "status": "completed"
    },
    "tags": []
   },
   "source": [
    "# 5. Embeddings processing"
   ]
  },
  {
   "cell_type": "code",
   "execution_count": 41,
   "id": "e4d7f471",
   "metadata": {
    "ExecuteTime": {
     "end_time": "2023-08-14T17:39:53.096957Z",
     "start_time": "2023-08-14T17:39:52.910951Z"
    },
    "collapsed": false,
    "execution": {
     "iopub.execute_input": "2023-08-14T16:24:30.283155Z",
     "iopub.status.busy": "2023-08-14T16:24:30.282199Z",
     "iopub.status.idle": "2023-08-14T16:24:30.290212Z",
     "shell.execute_reply": "2023-08-14T16:24:30.289374Z"
    },
    "jupyter": {
     "outputs_hidden": false
    },
    "papermill": {
     "duration": 0.040451,
     "end_time": "2023-08-14T16:24:30.292152",
     "exception": false,
     "start_time": "2023-08-14T16:24:30.251701",
     "status": "completed"
    },
    "tags": []
   },
   "outputs": [],
   "source": [
    "@torch.inference_mode()\n",
    "def get_embeddings(model, dataloader, device):\n",
    "    model.eval()\n",
    "    all_embeddings = []\n",
    "    all_labels = []\n",
    "\n",
    "    with tqdm(dataloader, desc=\"Processing\",unit=\"batch\") as process:\n",
    "        for images, labels in process:\n",
    "            images = images.to(device)\n",
    "            labels = labels.to(device)\n",
    "            embeddings = model(images)\n",
    "\n",
    "            all_embeddings.extend(tuple(embeddings.cpu().numpy()))\n",
    "            all_labels.extend(tuple(labels.cpu().numpy()))\n",
    "\n",
    "    return np.squeeze(np.array(all_embeddings)), np.array(all_labels)\n",
    "    return np.squeeze(np.array(embeddings))"
   ]
  },
  {
   "cell_type": "code",
   "execution_count": 42,
   "id": "0eb0eaad",
   "metadata": {
    "collapsed": false,
    "execution": {
     "iopub.execute_input": "2023-08-14T16:24:30.353223Z",
     "iopub.status.busy": "2023-08-14T16:24:30.352334Z",
     "iopub.status.idle": "2023-08-14T16:24:30.356854Z",
     "shell.execute_reply": "2023-08-14T16:24:30.355927Z"
    },
    "jupyter": {
     "outputs_hidden": false
    },
    "papermill": {
     "duration": 0.037387,
     "end_time": "2023-08-14T16:24:30.358847",
     "exception": false,
     "start_time": "2023-08-14T16:24:30.321460",
     "status": "completed"
    },
    "tags": []
   },
   "outputs": [],
   "source": [
    "# embeddings_bag, labels = get_embeddings(model, test_dataloader, device)"
   ]
  },
  {
   "cell_type": "code",
   "execution_count": 43,
   "id": "26a2520b",
   "metadata": {
    "collapsed": false,
    "execution": {
     "iopub.execute_input": "2023-08-14T16:24:30.420396Z",
     "iopub.status.busy": "2023-08-14T16:24:30.419426Z",
     "iopub.status.idle": "2023-08-14T16:24:30.426420Z",
     "shell.execute_reply": "2023-08-14T16:24:30.425264Z"
    },
    "jupyter": {
     "outputs_hidden": false
    },
    "papermill": {
     "duration": 0.040184,
     "end_time": "2023-08-14T16:24:30.428616",
     "exception": false,
     "start_time": "2023-08-14T16:24:30.388432",
     "status": "completed"
    },
    "tags": []
   },
   "outputs": [],
   "source": [
    "def reduce_dimension(dimension, features, reduce_with='pca',) -> np.array:\n",
    "    \"\"\" Perform dimensionality reduction with PCA or t-SNE \"\"\"\n",
    "\n",
    "    assert reduce_with.lower() in ['pca', 'tsne']\n",
    "\n",
    "    if reduce_with.lower() == 'tsne':\n",
    "        reductor = TSNE(n_components=dimension, perplexity=2.0)\n",
    "    else: # PCA\n",
    "        reductor = PCA(n_components=dimension)\n",
    "\n",
    "    reduced_features = reductor.fit_transform(features)\n",
    "    return reduced_features"
   ]
  },
  {
   "cell_type": "code",
   "execution_count": 44,
   "id": "708f8809",
   "metadata": {
    "collapsed": false,
    "execution": {
     "iopub.execute_input": "2023-08-14T16:24:30.491326Z",
     "iopub.status.busy": "2023-08-14T16:24:30.490983Z",
     "iopub.status.idle": "2023-08-14T16:24:30.505839Z",
     "shell.execute_reply": "2023-08-14T16:24:30.504611Z"
    },
    "jupyter": {
     "outputs_hidden": false
    },
    "papermill": {
     "duration": 0.050256,
     "end_time": "2023-08-14T16:24:30.508413",
     "exception": false,
     "start_time": "2023-08-14T16:24:30.458157",
     "status": "completed"
    },
    "tags": []
   },
   "outputs": [],
   "source": [
    "def visualize_embeddings(embeddings, labels, reduce_with='pca', save_as: str=None,):\n",
    "    \"\"\"\n",
    "    To project the embeddings vectors onto a low-dimensional space (2d or 3d)\n",
    "    :param embeddings:\n",
    "    :param labels:\n",
    "    :param reduce_with:\n",
    "    :param save_as:\n",
    "    :return:\n",
    "    \"\"\"\n",
    "    assert reduce_with in ['pca', 'tsne']\n",
    "\n",
    "    embeddings = embeddings.squeeze()\n",
    "\n",
    "    embeddings_2d = reduce_dimension(\n",
    "        dimension=2,\n",
    "        features=embeddings,\n",
    "        reduce_with=reduce_with\n",
    "    )\n",
    "    embeddings_3d = reduce_dimension(\n",
    "        dimension=3,\n",
    "        features=embeddings,\n",
    "        reduce_with=reduce_with\n",
    "    )\n",
    "\n",
    "    # Plot the dots in 3D or 2D\n",
    "    fig = plt.figure(figsize=(16,6))\n",
    "    # ----------------------------------------------- #\n",
    "\n",
    "    # 2D\n",
    "    ax = fig.add_subplot(1,3,1)\n",
    "    dots = (embeddings_2d[:, 0], embeddings_2d[:, 1])\n",
    "    ax.scatter(*dots, c=labels, cmap='viridis')\n",
    "    ax.set_title('2D')\n",
    "    ax.set_xlabel('X')\n",
    "    ax.set_ylabel('Y')\n",
    "    # ----------------------------------------------- #\n",
    "\n",
    "    # Hypersphere\n",
    "    ax = fig.add_subplot(1,3,2, projection='3d')\n",
    "    r = 1.0  # Radius\n",
    "    pi = np.pi\n",
    "    cos = np.cos\n",
    "    sin = np.sin\n",
    "\n",
    "    # Surface\n",
    "    phi, theta = np.mgrid[0.0:pi:100j, 0.0:2.0*pi:100j]\n",
    "    x = r*sin(phi)*cos(theta)\n",
    "    y = r*sin(phi)*sin(theta)\n",
    "    z = r*cos(phi)\n",
    "    ax.plot_surface(\n",
    "        x, y, z,  rstride=1, cstride=1, color='w', alpha=0.3, linewidth=0\n",
    "    )\n",
    "\n",
    "    phi = embeddings_2d[:, 0] * 2 * pi\n",
    "    theta = (embeddings_2d[:, 1] - 0.5) * 2 * pi\n",
    "    # Embeddings dots\n",
    "    x = r * sin(theta) * cos(phi)\n",
    "    y = r * sin(theta) * sin(phi)\n",
    "    z = r * cos(theta)\n",
    "\n",
    "    dots = (x, y, z)\n",
    "    ax.scatter(*dots, c=labels, cmap='viridis', s=20)\n",
    "    ax.set_title('Sphere distribution')\n",
    "    ax.set_xlabel('X')\n",
    "    ax.set_ylabel('Y')\n",
    "    ax.set_zlabel('Z')\n",
    "    # ----------------------------------------------- #\n",
    "\n",
    "\n",
    "    # Simple 3D\n",
    "    ax = fig.add_subplot(1,3,3, projection='3d')\n",
    "    dots = (embeddings_3d[:, 0], embeddings_3d[:, 1], embeddings_3d[:, 2])\n",
    "    ax.scatter(*dots, c=labels, cmap='viridis')\n",
    "    ax.set_title('3D')\n",
    "    ax.set_xlabel('X')\n",
    "    ax.set_ylabel('Y')\n",
    "    ax.set_zlabel('Z')\n",
    "\n",
    "\n",
    "    if save_as:\n",
    "        plt.savefig(f'{save_as}.png')\n",
    "    plt.tight_layout()\n",
    "    plt.show()\n"
   ]
  },
  {
   "cell_type": "code",
   "execution_count": 45,
   "id": "142e62e0",
   "metadata": {
    "collapsed": false,
    "execution": {
     "iopub.execute_input": "2023-08-14T16:24:30.570412Z",
     "iopub.status.busy": "2023-08-14T16:24:30.570068Z",
     "iopub.status.idle": "2023-08-14T16:24:30.574526Z",
     "shell.execute_reply": "2023-08-14T16:24:30.573623Z"
    },
    "jupyter": {
     "outputs_hidden": false
    },
    "papermill": {
     "duration": 0.038137,
     "end_time": "2023-08-14T16:24:30.576628",
     "exception": false,
     "start_time": "2023-08-14T16:24:30.538491",
     "status": "completed"
    },
    "tags": []
   },
   "outputs": [],
   "source": [
    "# visualize_embeddings(\n",
    "#     embeddings_bag[:100],\n",
    "#     labels[:100],\n",
    "#     reduce_with='tsne',\n",
    "#     # reduce_with='pca',\n",
    "# )"
   ]
  },
  {
   "cell_type": "markdown",
   "id": "37a36813",
   "metadata": {
    "id": "qCM07xVnTFDp",
    "papermill": {
     "duration": 0.029095,
     "end_time": "2023-08-14T16:24:30.635296",
     "exception": false,
     "start_time": "2023-08-14T16:24:30.606201",
     "status": "completed"
    },
    "tags": []
   },
   "source": [
    "# 5. Initialize the train process"
   ]
  },
  {
   "cell_type": "markdown",
   "id": "17d4fab9",
   "metadata": {
    "id": "afGGK718TFDp",
    "papermill": {
     "duration": 0.029317,
     "end_time": "2023-08-14T16:24:30.693896",
     "exception": false,
     "start_time": "2023-08-14T16:24:30.664579",
     "status": "completed"
    },
    "tags": []
   },
   "source": [
    "## 1. Functions to plot the result"
   ]
  },
  {
   "cell_type": "code",
   "execution_count": 46,
   "id": "a980b01a",
   "metadata": {
    "ExecuteTime": {
     "end_time": "2023-08-12T09:39:36.314617Z",
     "start_time": "2023-08-12T09:39:36.184839Z"
    },
    "execution": {
     "iopub.execute_input": "2023-08-14T16:24:30.754649Z",
     "iopub.status.busy": "2023-08-14T16:24:30.753541Z",
     "iopub.status.idle": "2023-08-14T16:24:30.760301Z",
     "shell.execute_reply": "2023-08-14T16:24:30.759380Z"
    },
    "id": "QVJL1liGTFDp",
    "papermill": {
     "duration": 0.039318,
     "end_time": "2023-08-14T16:24:30.762320",
     "exception": false,
     "start_time": "2023-08-14T16:24:30.723002",
     "status": "completed"
    },
    "tags": []
   },
   "outputs": [],
   "source": [
    "def plot_two_curves(\n",
    "        title: str,\n",
    "        train_curve: list[float],\n",
    "        val_curve: list[float],\n",
    "\n",
    "):\n",
    "    plt.figure(figsize=(16, 8))\n",
    "    plt.title(title)\n",
    "    plt.plot(train_curve, label=f'Train {title}')\n",
    "    plt.plot(val_curve, label=f'Valid {title}')\n",
    "    plt.legend()\n",
    "    plt.grid()\n",
    "    plt.show()\n",
    "    #plt.savefig(title)"
   ]
  },
  {
   "cell_type": "code",
   "execution_count": 47,
   "id": "858ba116",
   "metadata": {
    "ExecuteTime": {
     "end_time": "2023-08-12T09:41:59.670849Z",
     "start_time": "2023-08-12T09:41:59.575896Z"
    },
    "execution": {
     "iopub.execute_input": "2023-08-14T16:24:30.824272Z",
     "iopub.status.busy": "2023-08-14T16:24:30.823221Z",
     "iopub.status.idle": "2023-08-14T16:24:30.830545Z",
     "shell.execute_reply": "2023-08-14T16:24:30.829665Z"
    },
    "id": "GQrWiRJbTFDp",
    "papermill": {
     "duration": 0.040323,
     "end_time": "2023-08-14T16:24:30.832595",
     "exception": false,
     "start_time": "2023-08-14T16:24:30.792272",
     "status": "completed"
    },
    "tags": []
   },
   "outputs": [],
   "source": [
    "def plot_stats(\n",
    "        train_loss: list[float],\n",
    "        valid_loss: list[float],\n",
    "        train_accuracy: list[float]=None,\n",
    "        valid_accuracy: list[float]=None,\n",
    "        train_f1_score: list[float]=None,\n",
    "        valid_f1_score: list[float]=None,\n",
    "        title: str = None\n",
    "):\n",
    "    plot_two_curves(\n",
    "        'Loss',\n",
    "        train_loss,\n",
    "        valid_loss\n",
    "    )\n",
    "\n",
    "    if train_accuracy and valid_accuracy:\n",
    "        plot_two_curves(\n",
    "            'accuracy',\n",
    "            train_accuracy,\n",
    "            valid_accuracy\n",
    "        )\n",
    "\n",
    "    if train_f1_score and valid_f1_score:\n",
    "        plot_two_curves(\n",
    "            'F1 score',\n",
    "            train_f1_score,\n",
    "            valid_f1_score\n",
    "        )\n"
   ]
  },
  {
   "cell_type": "markdown",
   "id": "e30ae3c3",
   "metadata": {
    "id": "ePLlKs4rTFDq",
    "papermill": {
     "duration": 0.02992,
     "end_time": "2023-08-14T16:24:30.892994",
     "exception": false,
     "start_time": "2023-08-14T16:24:30.863074",
     "status": "completed"
    },
    "tags": []
   },
   "source": [
    "## 2. Training and evaluation functions"
   ]
  },
  {
   "cell_type": "code",
   "execution_count": 48,
   "id": "28be201d",
   "metadata": {
    "ExecuteTime": {
     "end_time": "2023-08-12T09:45:16.668278Z",
     "start_time": "2023-08-12T09:45:16.573930Z"
    },
    "execution": {
     "iopub.execute_input": "2023-08-14T16:24:30.953960Z",
     "iopub.status.busy": "2023-08-14T16:24:30.953613Z",
     "iopub.status.idle": "2023-08-14T16:24:30.963647Z",
     "shell.execute_reply": "2023-08-14T16:24:30.962764Z"
    },
    "id": "QObsYKNJTFDq",
    "papermill": {
     "duration": 0.043445,
     "end_time": "2023-08-14T16:24:30.965904",
     "exception": false,
     "start_time": "2023-08-14T16:24:30.922459",
     "status": "completed"
    },
    "tags": []
   },
   "outputs": [],
   "source": [
    "def train_one_epoch(model, dataloader, optimizer, criterion, device, epoch: str):\n",
    "    model.train()\n",
    "\n",
    "    train_loss = 0.0\n",
    "    train_correct = 0.0\n",
    "    train_f1 = 0.0\n",
    "    n_batches = 0\n",
    "    data_size = 0\n",
    "\n",
    "    with tqdm(dataloader, desc=f'Epoch: {epoch}', unit=\"batch\") as tepoch:\n",
    "        for images, labels in tepoch:\n",
    "            n_batches += 1\n",
    "            images = images.to(device)\n",
    "            labels = labels.to(device)\n",
    "\n",
    "            optimizer.zero_grad()\n",
    "\n",
    "            # Our model returns embeddings (instead of predictions).\n",
    "            embeddings = model(images)\n",
    "\n",
    "            # But we still want to calculate accuracy, so, we calculate probs it our ArcFace Function\n",
    "            probabilities = criterion(embeddings, labels)\n",
    "            loss = F.cross_entropy(probabilities, labels)\n",
    "            loss.backward()\n",
    "\n",
    "            optimizer.step()\n",
    "\n",
    "            loss = loss.item()  # item() extracts scalar\n",
    "            train_loss += loss\n",
    "\n",
    "            _, predicted = torch.max(probabilities, 1)\n",
    "\n",
    "            train_correct += (predicted == labels).sum().item()\n",
    "            data_size += labels.size(0)\n",
    "            train_accuracy = train_correct / data_size\n",
    "\n",
    "            f1 = f1_score(predicted, labels).item()\n",
    "            train_f1 += f1\n",
    "            tepoch.set_postfix(loss=loss, acc=train_accuracy)\n",
    "\n",
    "    train_loss /= n_batches\n",
    "    train_f1 /= n_batches\n",
    "    gc.collect()\n",
    "    torch.cuda.empty_cache()\n",
    "\n",
    "    return train_loss, train_accuracy, train_f1"
   ]
  },
  {
   "cell_type": "code",
   "execution_count": 49,
   "id": "7b2dc4b9",
   "metadata": {
    "ExecuteTime": {
     "end_time": "2023-08-14T18:32:38.383222Z",
     "start_time": "2023-08-14T18:32:38.320822Z"
    },
    "execution": {
     "iopub.execute_input": "2023-08-14T16:24:31.029043Z",
     "iopub.status.busy": "2023-08-14T16:24:31.028729Z",
     "iopub.status.idle": "2023-08-14T16:24:31.037577Z",
     "shell.execute_reply": "2023-08-14T16:24:31.036621Z"
    },
    "id": "shn8rP6wTFDq",
    "papermill": {
     "duration": 0.043991,
     "end_time": "2023-08-14T16:24:31.039525",
     "exception": false,
     "start_time": "2023-08-14T16:24:30.995534",
     "status": "completed"
    },
    "tags": []
   },
   "outputs": [],
   "source": [
    "@torch.inference_mode()\n",
    "def validate_one_epoch(model, dataloader, criterion, device):\n",
    "    model.eval()\n",
    "\n",
    "    val_loss = 0.0\n",
    "    val_correct = 0.0\n",
    "    val_f1_score = 0.0\n",
    "    data_size = 0\n",
    "    n_batches = 0\n",
    "\n",
    "    with tqdm(dataloader, desc=\"Validation\",unit=\"batch\") as tepoch:\n",
    "        for images, labels in tepoch:\n",
    "            n_batches += 1\n",
    "            images = images.to(device)\n",
    "            labels = labels.to(device)\n",
    "            embeddings = model(images)\n",
    "\n",
    "            probabilities = criterion(embeddings, labels)\n",
    "            loss = F.cross_entropy(probabilities, labels).item()\n",
    "            val_loss += loss\n",
    "\n",
    "            _, predicted = torch.max(probabilities, 1)\n",
    "\n",
    "            correct = (predicted == labels).sum().item()\n",
    "            val_correct += correct\n",
    "            data_size += labels.size(0)\n",
    "            val_accuracy = val_correct / data_size\n",
    "\n",
    "            f1 = f1_score(predicted, labels).item()\n",
    "            val_f1_score += f1\n",
    "            tepoch.set_postfix(loss=loss, acc=val_accuracy)\n",
    "\n",
    "    val_loss /= n_batches\n",
    "    val_f1_score /= n_batches\n",
    "    gc.collect()\n",
    "    torch.cuda.empty_cache()\n",
    "\n",
    "    return val_loss, val_accuracy, val_f1_score"
   ]
  },
  {
   "cell_type": "markdown",
   "id": "910a883c",
   "metadata": {
    "id": "1TWCVEGYTFDq",
    "papermill": {
     "duration": 0.029674,
     "end_time": "2023-08-14T16:24:31.098333",
     "exception": false,
     "start_time": "2023-08-14T16:24:31.068659",
     "status": "completed"
    },
    "tags": []
   },
   "source": [
    "## 3. Training cycle"
   ]
  },
  {
   "cell_type": "code",
   "execution_count": 50,
   "id": "dde0ed60",
   "metadata": {
    "ExecuteTime": {
     "end_time": "2023-08-12T09:45:17.791357Z",
     "start_time": "2023-08-12T09:45:17.738181Z"
    },
    "execution": {
     "iopub.execute_input": "2023-08-14T16:24:31.159532Z",
     "iopub.status.busy": "2023-08-14T16:24:31.159207Z",
     "iopub.status.idle": "2023-08-14T16:24:31.171763Z",
     "shell.execute_reply": "2023-08-14T16:24:31.170768Z"
    },
    "id": "CXrp7xrOTFDu",
    "papermill": {
     "duration": 0.045968,
     "end_time": "2023-08-14T16:24:31.173717",
     "exception": false,
     "start_time": "2023-08-14T16:24:31.127749",
     "status": "completed"
    },
    "tags": []
   },
   "outputs": [],
   "source": [
    "def train_model(model, train_loader, val_loader,\n",
    "                criterion=None, optimizer=None, num_epochs=5,\n",
    "                scheduler=None, device=torch.device(\"cpu\"),\n",
    "                save_model_to=None, save_margin_parameters_to=None):\n",
    "    since = time.time()\n",
    "\n",
    "    train_loss_history, valid_loss_history = [], []\n",
    "    train_acc_history, valid_acc_history = [], []\n",
    "    train_f1_history, valid_f1_history = [], []\n",
    "\n",
    "\n",
    "    # Create a temporary directory to save training checkpoints\n",
    "    with TemporaryDirectory() as tempdir:\n",
    "        best_model_params_path = os.path.join(tempdir, 'best_model_params.pt')\n",
    "\n",
    "        for epoch in range(num_epochs):\n",
    "            train_loss, train_accuracy, train_f1 = train_one_epoch(model, train_loader, optimizer, criterion, device, epoch=f'{epoch+1}/{num_epochs}')\n",
    "            val_loss, val_accuracy, val_f1 = validate_one_epoch(model, val_loader, criterion, device,)\n",
    "\n",
    "\n",
    "            print_highlighted(\n",
    "                f\"Loss: {val_loss:.4f} - Accuracy: {val_accuracy:.4f} - F1: {val_f1:.4f} - LR: {get_lr(optimizer)}\"\n",
    "            )\n",
    "\n",
    "            if not valid_loss_history or val_loss < valid_loss_history[-1]:\n",
    "                # If it's either first step (history is empty) or our weights are getting better\n",
    "                print_highlighted(\"New weights were applied.\\n\", bgcolor=Back.CYAN)\n",
    "                torch.save(model.state_dict(), best_model_params_path)\n",
    "\n",
    "            scheduler.step(val_loss)\n",
    "\n",
    "            train_loss_history.append(train_loss)\n",
    "            valid_loss_history.append(val_loss)\n",
    "            train_acc_history.append(train_accuracy)\n",
    "            valid_acc_history.append(val_accuracy)\n",
    "            train_f1_history.append(train_f1)\n",
    "            valid_f1_history.append(val_f1)\n",
    "\n",
    "            del train_loss\n",
    "            del val_loss\n",
    "            gc.collect()\n",
    "            torch.cuda.empty_cache()\n",
    "\n",
    "        time_elapsed = time.time() - since\n",
    "        print_highlighted(f'Training complete in {time_elapsed // 60:.0f}m {time_elapsed % 60:.0f}s')\n",
    "\n",
    "        # load best model weights\n",
    "        model.load_state_dict(torch.load(best_model_params_path))\n",
    "\n",
    "        if save_model_to:\n",
    "            torch.save(model, save_model_to)\n",
    "            print(f\"Model was saved to: {save_model_to}\")\n",
    "        if save_margin_parameters_to:\n",
    "            torch.save(criterion.state_dict(), save_margin_parameters_to)\n",
    "            print(f\"Loss Function weights were saved to: {save_margin_parameters_to}\")\n",
    "\n",
    "\n",
    "        history = dict(\n",
    "            train_loss=train_loss_history,\n",
    "            valid_loss=valid_loss_history,\n",
    "            train_accuracy=train_acc_history,\n",
    "            valid_accuracy=valid_acc_history,\n",
    "            train_f1_score=train_f1_history,\n",
    "            valid_f1_score=valid_f1_history,\n",
    "        )\n",
    "    return model, history"
   ]
  },
  {
   "cell_type": "markdown",
   "id": "2fc0f62c",
   "metadata": {
    "id": "GV7CqxbwTFDu",
    "papermill": {
     "duration": 0.029247,
     "end_time": "2023-08-14T16:24:31.232543",
     "exception": false,
     "start_time": "2023-08-14T16:24:31.203296",
     "status": "completed"
    },
    "tags": []
   },
   "source": [
    "# 6. Hyperparametres"
   ]
  },
  {
   "cell_type": "markdown",
   "id": "580d6486",
   "metadata": {
    "papermill": {
     "duration": 0.028937,
     "end_time": "2023-08-14T16:24:31.290592",
     "exception": false,
     "start_time": "2023-08-14T16:24:31.261655",
     "status": "completed"
    },
    "tags": []
   },
   "source": [
    "## 1. ArcFace Loss"
   ]
  },
  {
   "cell_type": "markdown",
   "id": "1e3b12ab",
   "metadata": {
    "id": "zuQ9db32TFDv",
    "papermill": {
     "duration": 0.029596,
     "end_time": "2023-08-14T16:24:31.349314",
     "exception": false,
     "start_time": "2023-08-14T16:24:31.319718",
     "status": "completed"
    },
    "tags": []
   },
   "source": [
    "Custom Loss Function"
   ]
  },
  {
   "cell_type": "markdown",
   "id": "2043e475",
   "metadata": {
    "papermill": {
     "duration": 0.028959,
     "end_time": "2023-08-14T16:24:31.407204",
     "exception": false,
     "start_time": "2023-08-14T16:24:31.378245",
     "status": "completed"
    },
    "tags": []
   },
   "source": [
    "$$L = - \\frac{1}{N} \\sum_{i=1}^{N}\\; \\log \\frac{e^{s(\\cos(\\theta_{y_i} +m))}}\n",
    "{e^{s\\cos(\\theta_{y_i} +m)} + \\sum_{j=1, j\\neq {y_i}}^{n} e^{s\\cos(\\theta_{j})}}$$"
   ]
  },
  {
   "cell_type": "code",
   "execution_count": 52,
   "id": "51f89a08",
   "metadata": {
    "ExecuteTime": {
     "end_time": "2023-08-14T18:37:40.360727Z",
     "start_time": "2023-08-14T18:37:40.121354Z"
    },
    "collapsed": false,
    "execution": {
     "iopub.execute_input": "2023-08-14T16:24:31.541821Z",
     "iopub.status.busy": "2023-08-14T16:24:31.541418Z",
     "iopub.status.idle": "2023-08-14T16:24:31.551809Z",
     "shell.execute_reply": "2023-08-14T16:24:31.550834Z"
    },
    "jupyter": {
     "outputs_hidden": false
    },
    "papermill": {
     "duration": 0.042935,
     "end_time": "2023-08-14T16:24:31.553791",
     "exception": false,
     "start_time": "2023-08-14T16:24:31.510856",
     "status": "completed"
    },
    "tags": []
   },
   "outputs": [],
   "source": [
    "class ArcFaceLoss(nn.Module):\n",
    "    def __init__(self, embedding_size, num_classes, margin=0.5, scale=64):\n",
    "        super().__init__()\n",
    "        self.embedding_size = embedding_size\n",
    "        self.num_classes = num_classes\n",
    "        self.margin = margin\n",
    "        self.scale = scale\n",
    "        self.weight = nn.Parameter(torch.ones([num_classes, embedding_size], dtype=torch.float32, device=device))\n",
    "        nn.init.xavier_uniform_(self.weight)\n",
    "        self.easy_margin = False\n",
    "\n",
    "    def forward(self, embeddings, labels):\n",
    "        # Normalize the embeddings and weights\n",
    "        labels = labels.to(torch.long)\n",
    "\n",
    "        embeddings = F.normalize(embeddings, dim=1)\n",
    "        weights = F.normalize(self.weight, dim=1)\n",
    "\n",
    "        # Compute the cosine similarity between embeddings and weights\n",
    "        cosine = F.linear(embeddings, weights)\n",
    "        \n",
    "        # Calculate the theta (angle) values for each class\n",
    "        theta = torch.acos(torch.clip(cosine, -1 + 1e-7, 1 - 1e-7))\n",
    "\n",
    "        # Apply the ArcFace margin and calculate logits\n",
    "        \n",
    "        one_hot_labels = F.one_hot(labels, self.num_classes)\n",
    "\n",
    "        target_logits = torch.cos(theta + self.margin * (1 - one_hot_labels.float()))\n",
    "\n",
    "        logits = self.scale * torch.where(one_hot_labels.bool(), target_logits, cosine)\n",
    "\n",
    "        probabilities = F.softmax(logits, dim=1)\n",
    "        return probabilities  # We will calculate the cross-entropy loss later\n"
   ]
  },
  {
   "cell_type": "code",
   "execution_count": 54,
   "id": "cf518e84",
   "metadata": {
    "ExecuteTime": {
     "end_time": "2023-08-14T18:38:22.324056Z",
     "start_time": "2023-08-14T18:38:22.291923Z"
    },
    "collapsed": false,
    "execution": {
     "iopub.execute_input": "2023-08-14T16:24:31.683163Z",
     "iopub.status.busy": "2023-08-14T16:24:31.682291Z",
     "iopub.status.idle": "2023-08-14T16:24:31.749020Z",
     "shell.execute_reply": "2023-08-14T16:24:31.748128Z"
    },
    "id": "PQ1_CTZaTFDw",
    "jupyter": {
     "outputs_hidden": false
    },
    "papermill": {
     "duration": 0.098721,
     "end_time": "2023-08-14T16:24:31.751248",
     "exception": false,
     "start_time": "2023-08-14T16:24:31.652527",
     "status": "completed"
    },
    "tags": []
   },
   "outputs": [],
   "source": [
    "criterion = ArcFaceLoss(\n",
    "    embedding_size=config.embedding_size,\n",
    "    num_classes=config.num_of_classes,\n",
    ")\n",
    "try:\n",
    "    # Load weights\n",
    "    criterion.load_state_dict(torch.load('/kaggle/input/efficient-model/ArcLoss_parametres.pth'))\n",
    "except FileNotFoundError:\n",
    "    pass"
   ]
  },
  {
   "cell_type": "code",
   "execution_count": 55,
   "id": "d3ef9db9",
   "metadata": {
    "ExecuteTime": {
     "end_time": "2023-08-14T18:37:40.800859Z",
     "start_time": "2023-08-14T18:37:40.612815Z"
    },
    "execution": {
     "iopub.execute_input": "2023-08-14T16:24:31.812527Z",
     "iopub.status.busy": "2023-08-14T16:24:31.811079Z",
     "iopub.status.idle": "2023-08-14T16:24:31.819857Z",
     "shell.execute_reply": "2023-08-14T16:24:31.818888Z"
    },
    "id": "HZAr_gPLTFDv",
    "papermill": {
     "duration": 0.04191,
     "end_time": "2023-08-14T16:24:31.822575",
     "exception": false,
     "start_time": "2023-08-14T16:24:31.780665",
     "status": "completed"
    },
    "tags": []
   },
   "outputs": [],
   "source": [
    "config.learning_rate = 5e-4\n",
    "config.epochs = 30\n",
    "config.weight_decay = 1e-7\n",
    "config.min_loss_delta = 0.05"
   ]
  },
  {
   "cell_type": "code",
   "execution_count": 57,
   "id": "ebbcac58",
   "metadata": {
    "ExecuteTime": {
     "end_time": "2023-08-12T09:45:19.841589Z",
     "start_time": "2023-08-12T09:45:19.721449Z"
    },
    "execution": {
     "iopub.execute_input": "2023-08-14T16:24:31.960465Z",
     "iopub.status.busy": "2023-08-14T16:24:31.960122Z",
     "iopub.status.idle": "2023-08-14T16:24:31.969008Z",
     "shell.execute_reply": "2023-08-14T16:24:31.968368Z"
    },
    "papermill": {
     "duration": 0.049928,
     "end_time": "2023-08-14T16:24:31.971382",
     "exception": false,
     "start_time": "2023-08-14T16:24:31.921454",
     "status": "completed"
    },
    "tags": []
   },
   "outputs": [],
   "source": [
    "optimizer = torch.optim.Adam(\n",
    "    [\n",
    "    {'params': filter(lambda p: p.requires_grad, model.features.parameters())},\n",
    "    {'params': model.classifier.parameters()},\n",
    "    {'params': criterion.parameters(), 'lr': 0.01}\n",
    "    ],\n",
    "    lr=config.learning_rate, \n",
    "    weight_decay = config.weight_decay)\n"
   ]
  },
  {
   "cell_type": "code",
   "execution_count": 58,
   "id": "d13f16db",
   "metadata": {
    "ExecuteTime": {
     "end_time": "2023-08-12T09:45:20.026072Z",
     "start_time": "2023-08-12T09:45:19.913380Z"
    },
    "collapsed": false,
    "execution": {
     "iopub.execute_input": "2023-08-14T16:24:32.065698Z",
     "iopub.status.busy": "2023-08-14T16:24:32.065305Z",
     "iopub.status.idle": "2023-08-14T16:24:32.070407Z",
     "shell.execute_reply": "2023-08-14T16:24:32.069520Z"
    },
    "id": "mb4RgCFlTFDw",
    "jupyter": {
     "outputs_hidden": false
    },
    "papermill": {
     "duration": 0.048032,
     "end_time": "2023-08-14T16:24:32.072376",
     "exception": false,
     "start_time": "2023-08-14T16:24:32.024344",
     "status": "completed"
    },
    "tags": []
   },
   "outputs": [],
   "source": [
    "scheduler = optim.lr_scheduler.ReduceLROnPlateau(\n",
    "    optimizer, 'min', patience = 5, factor=0.5, \n",
    "    min_lr=config.min_lr , verbose=False,\n",
    "    threshold = config.min_loss_delta\n",
    ")"
   ]
  },
  {
   "cell_type": "code",
   "execution_count": 59,
   "id": "3c9cc254",
   "metadata": {
    "ExecuteTime": {
     "end_time": "2023-08-12T09:45:20.325987Z",
     "start_time": "2023-08-12T09:45:20.120019Z"
    },
    "execution": {
     "iopub.execute_input": "2023-08-14T16:24:32.134287Z",
     "iopub.status.busy": "2023-08-14T16:24:32.133328Z",
     "iopub.status.idle": "2023-08-14T16:24:32.138841Z",
     "shell.execute_reply": "2023-08-14T16:24:32.137931Z"
    },
    "papermill": {
     "duration": 0.038065,
     "end_time": "2023-08-14T16:24:32.140787",
     "exception": false,
     "start_time": "2023-08-14T16:24:32.102722",
     "status": "completed"
    },
    "tags": []
   },
   "outputs": [],
   "source": [
    "def get_lr(optimizer):\n",
    "    \"\"\"\n",
    "    For some schedulers we don't have `get_last_lr()` method.\n",
    "    So, we will get last lr ourselves.\n",
    "    \"\"\"\n",
    "    return list(\n",
    "        [group['lr'] for group in optimizer.param_groups]\n",
    "    )"
   ]
  },
  {
   "cell_type": "code",
   "execution_count": 60,
   "id": "6d5ddee9",
   "metadata": {
    "ExecuteTime": {
     "end_time": "2023-08-12T09:45:20.557725Z",
     "start_time": "2023-08-12T09:45:20.226714Z"
    },
    "execution": {
     "iopub.execute_input": "2023-08-14T16:24:32.200826Z",
     "iopub.status.busy": "2023-08-14T16:24:32.200013Z",
     "iopub.status.idle": "2023-08-14T16:24:32.206563Z",
     "shell.execute_reply": "2023-08-14T16:24:32.205619Z"
    },
    "papermill": {
     "duration": 0.038597,
     "end_time": "2023-08-14T16:24:32.208517",
     "exception": false,
     "start_time": "2023-08-14T16:24:32.169920",
     "status": "completed"
    },
    "tags": []
   },
   "outputs": [
    {
     "data": {
      "text/plain": [
       "[0.0005, 0.0005, 0.01]"
      ]
     },
     "execution_count": 60,
     "metadata": {},
     "output_type": "execute_result"
    }
   ],
   "source": [
    "get_lr(optimizer)"
   ]
  },
  {
   "cell_type": "markdown",
   "id": "de49b245",
   "metadata": {
    "id": "CKuqXRwrTFDw",
    "papermill": {
     "duration": 0.029368,
     "end_time": "2023-08-14T16:24:32.266966",
     "exception": false,
     "start_time": "2023-08-14T16:24:32.237598",
     "status": "completed"
    },
    "tags": []
   },
   "source": [
    "# 7. Run the training process"
   ]
  },
  {
   "cell_type": "code",
   "execution_count": 61,
   "id": "d333d720",
   "metadata": {
    "execution": {
     "iopub.execute_input": "2023-08-14T16:24:32.327266Z",
     "iopub.status.busy": "2023-08-14T16:24:32.326919Z",
     "iopub.status.idle": "2023-08-14T17:29:05.459331Z",
     "shell.execute_reply": "2023-08-14T17:29:05.458257Z"
    },
    "id": "9WxsyvplTFDw",
    "outputId": "de053f41-a9bb-49b4-ceec-4245ce71efe0",
    "papermill": {
     "duration": 3873.747084,
     "end_time": "2023-08-14T17:29:06.043157",
     "exception": false,
     "start_time": "2023-08-14T16:24:32.296073",
     "status": "completed"
    },
    "tags": []
   },
   "outputs": [
    {
     "name": "stderr",
     "output_type": "stream",
     "text": [
      "Epoch: 1/30: 100%|██████████| 137/137 [03:01<00:00,  1.33s/batch, acc=0.852, loss=5.84]\n",
      "Validation: 100%|██████████| 8/8 [00:14<00:00,  1.82s/batch, acc=0.767, loss=5.93]\n"
     ]
    },
    {
     "name": "stdout",
     "output_type": "stream",
     "text": [
      "\u001B[43mLoss: 5.8892 - Accuracy: 0.7672 - F1: 0.5648 - LR: [0.0005, 0.0005, 0.01]\u001B[0m\n",
      "\u001B[46mNew weights were applied.\n",
      "\u001B[0m\n"
     ]
    },
    {
     "name": "stderr",
     "output_type": "stream",
     "text": [
      "Epoch: 2/30: 100%|██████████| 137/137 [01:50<00:00,  1.24batch/s, acc=0.917, loss=5.85]\n",
      "Validation: 100%|██████████| 8/8 [00:09<00:00,  1.17s/batch, acc=0.789, loss=5.92]\n"
     ]
    },
    {
     "name": "stdout",
     "output_type": "stream",
     "text": [
      "\u001B[43mLoss: 5.8653 - Accuracy: 0.7888 - F1: 0.5879 - LR: [0.0005, 0.0005, 0.01]\u001B[0m\n",
      "\u001B[46mNew weights were applied.\n",
      "\u001B[0m\n"
     ]
    },
    {
     "name": "stderr",
     "output_type": "stream",
     "text": [
      "Epoch: 3/30: 100%|██████████| 137/137 [01:51<00:00,  1.23batch/s, acc=0.936, loss=5.77]\n",
      "Validation: 100%|██████████| 8/8 [00:09<00:00,  1.18s/batch, acc=0.788, loss=5.91]\n"
     ]
    },
    {
     "name": "stdout",
     "output_type": "stream",
     "text": [
      "\u001B[43mLoss: 5.8595 - Accuracy: 0.7885 - F1: 0.5884 - LR: [0.0005, 0.0005, 0.01]\u001B[0m\n",
      "\u001B[46mNew weights were applied.\n",
      "\u001B[0m\n"
     ]
    },
    {
     "name": "stderr",
     "output_type": "stream",
     "text": [
      "Epoch: 4/30: 100%|██████████| 137/137 [01:50<00:00,  1.23batch/s, acc=0.948, loss=5.8]\n",
      "Validation: 100%|██████████| 8/8 [00:09<00:00,  1.18s/batch, acc=0.811, loss=5.91]\n"
     ]
    },
    {
     "name": "stdout",
     "output_type": "stream",
     "text": [
      "\u001B[43mLoss: 5.8423 - Accuracy: 0.8112 - F1: 0.6129 - LR: [0.0005, 0.0005, 0.01]\u001B[0m\n",
      "\u001B[46mNew weights were applied.\n",
      "\u001B[0m\n"
     ]
    },
    {
     "name": "stderr",
     "output_type": "stream",
     "text": [
      "Epoch: 5/30: 100%|██████████| 137/137 [01:50<00:00,  1.24batch/s, acc=0.953, loss=5.7]\n",
      "Validation: 100%|██████████| 8/8 [00:10<00:00,  1.27s/batch, acc=0.8, loss=5.91]\n"
     ]
    },
    {
     "name": "stdout",
     "output_type": "stream",
     "text": [
      "\u001B[43mLoss: 5.8515 - Accuracy: 0.8000 - F1: 0.6102 - LR: [0.0005, 0.0005, 0.01]\u001B[0m\n"
     ]
    },
    {
     "name": "stderr",
     "output_type": "stream",
     "text": [
      "Epoch: 6/30: 100%|██████████| 137/137 [01:52<00:00,  1.22batch/s, acc=0.956, loss=5.67]\n",
      "Validation: 100%|██████████| 8/8 [00:12<00:00,  1.55s/batch, acc=0.805, loss=5.89]\n"
     ]
    },
    {
     "name": "stdout",
     "output_type": "stream",
     "text": [
      "\u001B[43mLoss: 5.8444 - Accuracy: 0.8054 - F1: 0.6223 - LR: [0.0005, 0.0005, 0.01]\u001B[0m\n",
      "\u001B[46mNew weights were applied.\n",
      "\u001B[0m\n"
     ]
    },
    {
     "name": "stderr",
     "output_type": "stream",
     "text": [
      "Epoch: 7/30: 100%|██████████| 137/137 [01:56<00:00,  1.18batch/s, acc=0.963, loss=5.72]\n",
      "Validation: 100%|██████████| 8/8 [00:09<00:00,  1.19s/batch, acc=0.815, loss=5.89]\n"
     ]
    },
    {
     "name": "stdout",
     "output_type": "stream",
     "text": [
      "\u001B[43mLoss: 5.8368 - Accuracy: 0.8151 - F1: 0.6197 - LR: [0.0005, 0.0005, 0.01]\u001B[0m\n",
      "\u001B[46mNew weights were applied.\n",
      "\u001B[0m\n"
     ]
    },
    {
     "name": "stderr",
     "output_type": "stream",
     "text": [
      "Epoch: 8/30: 100%|██████████| 137/137 [01:59<00:00,  1.15batch/s, acc=0.975, loss=5.64]\n",
      "Validation: 100%|██████████| 8/8 [00:09<00:00,  1.23s/batch, acc=0.834, loss=5.87]\n"
     ]
    },
    {
     "name": "stdout",
     "output_type": "stream",
     "text": [
      "\u001B[43mLoss: 5.8149 - Accuracy: 0.8335 - F1: 0.6486 - LR: [0.00025, 0.00025, 0.005]\u001B[0m\n",
      "\u001B[46mNew weights were applied.\n",
      "\u001B[0m\n"
     ]
    },
    {
     "name": "stderr",
     "output_type": "stream",
     "text": [
      "Epoch: 9/30: 100%|██████████| 137/137 [01:54<00:00,  1.19batch/s, acc=0.985, loss=5.66]\n",
      "Validation: 100%|██████████| 8/8 [00:09<00:00,  1.21s/batch, acc=0.836, loss=5.86]\n"
     ]
    },
    {
     "name": "stdout",
     "output_type": "stream",
     "text": [
      "\u001B[43mLoss: 5.8101 - Accuracy: 0.8360 - F1: 0.6599 - LR: [0.00025, 0.00025, 0.005]\u001B[0m\n",
      "\u001B[46mNew weights were applied.\n",
      "\u001B[0m\n"
     ]
    },
    {
     "name": "stderr",
     "output_type": "stream",
     "text": [
      "Epoch: 10/30: 100%|██████████| 137/137 [01:54<00:00,  1.20batch/s, acc=0.987, loss=5.65]\n",
      "Validation: 100%|██████████| 8/8 [00:09<00:00,  1.24s/batch, acc=0.84, loss=5.86]\n"
     ]
    },
    {
     "name": "stdout",
     "output_type": "stream",
     "text": [
      "\u001B[43mLoss: 5.8050 - Accuracy: 0.8400 - F1: 0.6689 - LR: [0.00025, 0.00025, 0.005]\u001B[0m\n",
      "\u001B[46mNew weights were applied.\n",
      "\u001B[0m\n"
     ]
    },
    {
     "name": "stderr",
     "output_type": "stream",
     "text": [
      "Epoch: 11/30: 100%|██████████| 137/137 [01:59<00:00,  1.15batch/s, acc=0.989, loss=5.67]\n",
      "Validation: 100%|██████████| 8/8 [00:09<00:00,  1.23s/batch, acc=0.838, loss=5.86]\n"
     ]
    },
    {
     "name": "stdout",
     "output_type": "stream",
     "text": [
      "\u001B[43mLoss: 5.8079 - Accuracy: 0.8378 - F1: 0.6648 - LR: [0.00025, 0.00025, 0.005]\u001B[0m\n"
     ]
    },
    {
     "name": "stderr",
     "output_type": "stream",
     "text": [
      "Epoch: 12/30: 100%|██████████| 137/137 [01:53<00:00,  1.21batch/s, acc=0.989, loss=5.64]\n",
      "Validation: 100%|██████████| 8/8 [00:09<00:00,  1.18s/batch, acc=0.84, loss=5.86]\n"
     ]
    },
    {
     "name": "stdout",
     "output_type": "stream",
     "text": [
      "\u001B[43mLoss: 5.8085 - Accuracy: 0.8396 - F1: 0.6670 - LR: [0.00025, 0.00025, 0.005]\u001B[0m\n"
     ]
    },
    {
     "name": "stderr",
     "output_type": "stream",
     "text": [
      "Epoch: 13/30: 100%|██████████| 137/137 [01:53<00:00,  1.21batch/s, acc=0.99, loss=5.64]\n",
      "Validation: 100%|██████████| 8/8 [00:09<00:00,  1.22s/batch, acc=0.846, loss=5.87]\n"
     ]
    },
    {
     "name": "stdout",
     "output_type": "stream",
     "text": [
      "\u001B[43mLoss: 5.8045 - Accuracy: 0.8458 - F1: 0.6832 - LR: [0.00025, 0.00025, 0.005]\u001B[0m\n",
      "\u001B[46mNew weights were applied.\n",
      "\u001B[0m\n"
     ]
    },
    {
     "name": "stderr",
     "output_type": "stream",
     "text": [
      "Epoch: 14/30: 100%|██████████| 137/137 [01:53<00:00,  1.21batch/s, acc=0.991, loss=5.64]\n",
      "Validation: 100%|██████████| 8/8 [00:10<00:00,  1.30s/batch, acc=0.855, loss=5.84]\n"
     ]
    },
    {
     "name": "stdout",
     "output_type": "stream",
     "text": [
      "\u001B[43mLoss: 5.7953 - Accuracy: 0.8548 - F1: 0.6982 - LR: [0.000125, 0.000125, 0.0025]\u001B[0m\n",
      "\u001B[46mNew weights were applied.\n",
      "\u001B[0m\n"
     ]
    },
    {
     "name": "stderr",
     "output_type": "stream",
     "text": [
      "Epoch: 15/30: 100%|██████████| 137/137 [01:52<00:00,  1.21batch/s, acc=0.993, loss=5.65]\n",
      "Validation: 100%|██████████| 8/8 [00:10<00:00,  1.30s/batch, acc=0.853, loss=5.85]\n"
     ]
    },
    {
     "name": "stdout",
     "output_type": "stream",
     "text": [
      "\u001B[43mLoss: 5.7955 - Accuracy: 0.8533 - F1: 0.6923 - LR: [0.000125, 0.000125, 0.0025]\u001B[0m\n"
     ]
    },
    {
     "name": "stderr",
     "output_type": "stream",
     "text": [
      "Epoch: 16/30: 100%|██████████| 137/137 [01:52<00:00,  1.22batch/s, acc=0.993, loss=5.68]\n",
      "Validation: 100%|██████████| 8/8 [00:10<00:00,  1.26s/batch, acc=0.85, loss=5.86]\n"
     ]
    },
    {
     "name": "stdout",
     "output_type": "stream",
     "text": [
      "\u001B[43mLoss: 5.7974 - Accuracy: 0.8497 - F1: 0.6829 - LR: [0.000125, 0.000125, 0.0025]\u001B[0m\n"
     ]
    },
    {
     "name": "stderr",
     "output_type": "stream",
     "text": [
      "Epoch: 17/30: 100%|██████████| 137/137 [01:53<00:00,  1.21batch/s, acc=0.994, loss=5.64]\n",
      "Validation: 100%|██████████| 8/8 [00:09<00:00,  1.19s/batch, acc=0.854, loss=5.86]\n"
     ]
    },
    {
     "name": "stdout",
     "output_type": "stream",
     "text": [
      "\u001B[43mLoss: 5.7955 - Accuracy: 0.8537 - F1: 0.6949 - LR: [0.000125, 0.000125, 0.0025]\u001B[0m\n",
      "\u001B[46mNew weights were applied.\n",
      "\u001B[0m\n"
     ]
    },
    {
     "name": "stderr",
     "output_type": "stream",
     "text": [
      "Epoch: 18/30: 100%|██████████| 137/137 [01:53<00:00,  1.20batch/s, acc=0.994, loss=5.7]\n",
      "Validation: 100%|██████████| 8/8 [00:09<00:00,  1.24s/batch, acc=0.857, loss=5.85]\n"
     ]
    },
    {
     "name": "stdout",
     "output_type": "stream",
     "text": [
      "\u001B[43mLoss: 5.7914 - Accuracy: 0.8573 - F1: 0.7035 - LR: [0.000125, 0.000125, 0.0025]\u001B[0m\n",
      "\u001B[46mNew weights were applied.\n",
      "\u001B[0m\n"
     ]
    },
    {
     "name": "stderr",
     "output_type": "stream",
     "text": [
      "Epoch: 19/30: 100%|██████████| 137/137 [01:56<00:00,  1.17batch/s, acc=0.994, loss=5.64]\n",
      "Validation: 100%|██████████| 8/8 [00:09<00:00,  1.24s/batch, acc=0.856, loss=5.85]\n"
     ]
    },
    {
     "name": "stdout",
     "output_type": "stream",
     "text": [
      "\u001B[43mLoss: 5.7923 - Accuracy: 0.8559 - F1: 0.6961 - LR: [0.000125, 0.000125, 0.0025]\u001B[0m\n"
     ]
    },
    {
     "name": "stderr",
     "output_type": "stream",
     "text": [
      "Epoch: 20/30: 100%|██████████| 137/137 [01:57<00:00,  1.17batch/s, acc=0.994, loss=5.64]\n",
      "Validation: 100%|██████████| 8/8 [00:09<00:00,  1.22s/batch, acc=0.858, loss=5.84]\n"
     ]
    },
    {
     "name": "stdout",
     "output_type": "stream",
     "text": [
      "\u001B[43mLoss: 5.7896 - Accuracy: 0.8584 - F1: 0.7005 - LR: [6.25e-05, 6.25e-05, 0.00125]\u001B[0m\n",
      "\u001B[46mNew weights were applied.\n",
      "\u001B[0m\n"
     ]
    },
    {
     "name": "stderr",
     "output_type": "stream",
     "text": [
      "Epoch: 21/30: 100%|██████████| 137/137 [01:57<00:00,  1.17batch/s, acc=0.995, loss=5.64]\n",
      "Validation: 100%|██████████| 8/8 [00:09<00:00,  1.20s/batch, acc=0.862, loss=5.84]\n"
     ]
    },
    {
     "name": "stdout",
     "output_type": "stream",
     "text": [
      "\u001B[43mLoss: 5.7881 - Accuracy: 0.8616 - F1: 0.7120 - LR: [6.25e-05, 6.25e-05, 0.00125]\u001B[0m\n",
      "\u001B[46mNew weights were applied.\n",
      "\u001B[0m\n"
     ]
    },
    {
     "name": "stderr",
     "output_type": "stream",
     "text": [
      "Epoch: 22/30: 100%|██████████| 137/137 [01:56<00:00,  1.17batch/s, acc=0.995, loss=5.64]\n",
      "Validation: 100%|██████████| 8/8 [00:09<00:00,  1.23s/batch, acc=0.86, loss=5.84]\n"
     ]
    },
    {
     "name": "stdout",
     "output_type": "stream",
     "text": [
      "\u001B[43mLoss: 5.7876 - Accuracy: 0.8602 - F1: 0.7050 - LR: [6.25e-05, 6.25e-05, 0.00125]\u001B[0m\n",
      "\u001B[46mNew weights were applied.\n",
      "\u001B[0m\n"
     ]
    },
    {
     "name": "stderr",
     "output_type": "stream",
     "text": [
      "Epoch: 23/30: 100%|██████████| 137/137 [01:56<00:00,  1.17batch/s, acc=0.995, loss=5.64]\n",
      "Validation: 100%|██████████| 8/8 [00:09<00:00,  1.22s/batch, acc=0.863, loss=5.85]\n"
     ]
    },
    {
     "name": "stdout",
     "output_type": "stream",
     "text": [
      "\u001B[43mLoss: 5.7867 - Accuracy: 0.8627 - F1: 0.7143 - LR: [6.25e-05, 6.25e-05, 0.00125]\u001B[0m\n",
      "\u001B[46mNew weights were applied.\n",
      "\u001B[0m\n"
     ]
    },
    {
     "name": "stderr",
     "output_type": "stream",
     "text": [
      "Epoch: 24/30: 100%|██████████| 137/137 [01:58<00:00,  1.16batch/s, acc=0.996, loss=5.65]\n",
      "Validation: 100%|██████████| 8/8 [00:09<00:00,  1.24s/batch, acc=0.863, loss=5.85]\n"
     ]
    },
    {
     "name": "stdout",
     "output_type": "stream",
     "text": [
      "\u001B[43mLoss: 5.7873 - Accuracy: 0.8627 - F1: 0.7152 - LR: [6.25e-05, 6.25e-05, 0.00125]\u001B[0m\n"
     ]
    },
    {
     "name": "stderr",
     "output_type": "stream",
     "text": [
      "Epoch: 25/30: 100%|██████████| 137/137 [01:58<00:00,  1.15batch/s, acc=0.996, loss=5.65]\n",
      "Validation: 100%|██████████| 8/8 [00:09<00:00,  1.24s/batch, acc=0.863, loss=5.85]\n"
     ]
    },
    {
     "name": "stdout",
     "output_type": "stream",
     "text": [
      "\u001B[43mLoss: 5.7852 - Accuracy: 0.8631 - F1: 0.7101 - LR: [6.25e-05, 6.25e-05, 0.00125]\u001B[0m\n",
      "\u001B[46mNew weights were applied.\n",
      "\u001B[0m\n"
     ]
    },
    {
     "name": "stderr",
     "output_type": "stream",
     "text": [
      "Epoch: 26/30: 100%|██████████| 137/137 [02:00<00:00,  1.14batch/s, acc=0.995, loss=5.64]\n",
      "Validation: 100%|██████████| 8/8 [00:09<00:00,  1.25s/batch, acc=0.864, loss=5.84]\n"
     ]
    },
    {
     "name": "stdout",
     "output_type": "stream",
     "text": [
      "\u001B[43mLoss: 5.7844 - Accuracy: 0.8641 - F1: 0.7102 - LR: [3.125e-05, 3.125e-05, 0.000625]\u001B[0m\n",
      "\u001B[46mNew weights were applied.\n",
      "\u001B[0m\n"
     ]
    },
    {
     "name": "stderr",
     "output_type": "stream",
     "text": [
      "Epoch: 27/30: 100%|██████████| 137/137 [01:57<00:00,  1.17batch/s, acc=0.996, loss=5.64]\n",
      "Validation: 100%|██████████| 8/8 [00:11<00:00,  1.41s/batch, acc=0.863, loss=5.84]\n"
     ]
    },
    {
     "name": "stdout",
     "output_type": "stream",
     "text": [
      "\u001B[43mLoss: 5.7850 - Accuracy: 0.8631 - F1: 0.7112 - LR: [3.125e-05, 3.125e-05, 0.000625]\u001B[0m\n"
     ]
    },
    {
     "name": "stderr",
     "output_type": "stream",
     "text": [
      "Epoch: 28/30: 100%|██████████| 137/137 [01:55<00:00,  1.18batch/s, acc=0.996, loss=5.64]\n",
      "Validation: 100%|██████████| 8/8 [00:10<00:00,  1.34s/batch, acc=0.865, loss=5.84]\n"
     ]
    },
    {
     "name": "stdout",
     "output_type": "stream",
     "text": [
      "\u001B[43mLoss: 5.7842 - Accuracy: 0.8645 - F1: 0.7141 - LR: [3.125e-05, 3.125e-05, 0.000625]\u001B[0m\n",
      "\u001B[46mNew weights were applied.\n",
      "\u001B[0m\n"
     ]
    },
    {
     "name": "stderr",
     "output_type": "stream",
     "text": [
      "Epoch: 29/30: 100%|██████████| 137/137 [01:56<00:00,  1.18batch/s, acc=0.996, loss=5.64]\n",
      "Validation: 100%|██████████| 8/8 [00:10<00:00,  1.29s/batch, acc=0.863, loss=5.84]\n"
     ]
    },
    {
     "name": "stdout",
     "output_type": "stream",
     "text": [
      "\u001B[43mLoss: 5.7844 - Accuracy: 0.8634 - F1: 0.7124 - LR: [3.125e-05, 3.125e-05, 0.000625]\u001B[0m\n"
     ]
    },
    {
     "name": "stderr",
     "output_type": "stream",
     "text": [
      "Epoch: 30/30: 100%|██████████| 137/137 [01:55<00:00,  1.19batch/s, acc=0.996, loss=5.64]\n",
      "Validation: 100%|██████████| 8/8 [00:10<00:00,  1.27s/batch, acc=0.865, loss=5.84]\n"
     ]
    },
    {
     "name": "stdout",
     "output_type": "stream",
     "text": [
      "\u001B[43mLoss: 5.7841 - Accuracy: 0.8649 - F1: 0.7168 - LR: [3.125e-05, 3.125e-05, 0.000625]\u001B[0m\n",
      "\u001B[46mNew weights were applied.\n",
      "\u001B[0m\n",
      "\u001B[43mTraining complete in 64m 33s\u001B[0m\n",
      "Model was saved to: ArcFace_efficientnet_b0.pth\n",
      "Loss Function weights were saved to: Trained_ArcLoss_parameters.pth\n"
     ]
    }
   ],
   "source": [
    "model_file_name = f'ArcFace_{config.model_name}.pth'\n",
    "arcface_parameters = 'Trained_ArcLoss_parameters.pth'\n",
    "\n",
    "model, history = train_model(\n",
    "    model=model,\n",
    "    train_loader=train_dataloader,\n",
    "    val_loader=test_dataloader,\n",
    "    criterion=criterion,\n",
    "    optimizer=optimizer,\n",
    "    num_epochs=config.epochs,\n",
    "    device=device,\n",
    "    scheduler=scheduler,\n",
    "    save_model_to=model_file_name,\n",
    "    save_margin_parameters_to=arcface_parameters\n",
    " )"
   ]
  },
  {
   "cell_type": "code",
   "execution_count": 62,
   "id": "00a61e5c",
   "metadata": {
    "execution": {
     "iopub.execute_input": "2023-08-14T17:29:07.552541Z",
     "iopub.status.busy": "2023-08-14T17:29:07.551520Z",
     "iopub.status.idle": "2023-08-14T17:29:08.629601Z",
     "shell.execute_reply": "2023-08-14T17:29:08.628617Z"
    },
    "id": "7zTLOYTWTFDx",
    "papermill": {
     "duration": 1.874642,
     "end_time": "2023-08-14T17:29:08.631773",
     "exception": false,
     "start_time": "2023-08-14T17:29:06.757131",
     "status": "completed"
    },
    "tags": []
   },
   "outputs": [
    {
     "data": {
      "image/png": "[encoded data removed]",
      "text/plain": [
       "<Figure size 1600x800 with 1 Axes>"
      ]
     },
     "metadata": {},
     "output_type": "display_data"
    },
    {
     "data": {
      "image/png": "[encoded data removed]",
      "text/plain": [
       "<Figure size 1600x800 with 1 Axes>"
      ]
     },
     "metadata": {},
     "output_type": "display_data"
    },
    {
     "data": {
      "image/png": "[encoded data removed]",
      "text/plain": [
       "<Figure size 1600x800 with 1 Axes>"
      ]
     },
     "metadata": {},
     "output_type": "display_data"
    }
   ],
   "source": [
    "plot_stats(\n",
    "    **history,\n",
    "    title=f\"Model {config.model_name}\"\n",
    ")"
   ]
  },
  {
   "cell_type": "code",
   "execution_count": null,
   "id": "effd51aa",
   "metadata": {
    "collapsed": false,
    "jupyter": {
     "outputs_hidden": false
    },
    "papermill": {
     "duration": 0.736094,
     "end_time": "2023-08-14T17:29:10.094482",
     "exception": false,
     "start_time": "2023-08-14T17:29:09.358388",
     "status": "completed"
    },
    "tags": []
   },
   "outputs": [],
   "source": []
  },
  {
   "cell_type": "markdown",
   "id": "889ec50c",
   "metadata": {
    "id": "kJcjndrnTFDx",
    "papermill": {
     "duration": 0.720815,
     "end_time": "2023-08-14T17:29:11.613678",
     "exception": false,
     "start_time": "2023-08-14T17:29:10.892863",
     "status": "completed"
    },
    "tags": []
   },
   "source": [
    "# 8. Result evaluation"
   ]
  },
  {
   "cell_type": "code",
   "execution_count": 63,
   "id": "c5bd5b4f",
   "metadata": {
    "execution": {
     "iopub.execute_input": "2023-08-14T17:29:13.180809Z",
     "iopub.status.busy": "2023-08-14T17:29:13.180423Z",
     "iopub.status.idle": "2023-08-14T17:29:22.547307Z",
     "shell.execute_reply": "2023-08-14T17:29:22.546138Z"
    },
    "papermill": {
     "duration": 10.167975,
     "end_time": "2023-08-14T17:29:22.549964",
     "exception": false,
     "start_time": "2023-08-14T17:29:12.381989",
     "status": "completed"
    },
    "tags": []
   },
   "outputs": [
    {
     "name": "stderr",
     "output_type": "stream",
     "text": [
      "Processing: 100%|██████████| 8/8 [00:09<00:00,  1.16s/batch]\n"
     ]
    }
   ],
   "source": [
    "embeddings_bag, labels = get_embeddings(model, test_dataloader, device)"
   ]
  },
  {
   "cell_type": "code",
   "execution_count": 64,
   "id": "fae2d007",
   "metadata": {
    "collapsed": false,
    "execution": {
     "iopub.execute_input": "2023-08-14T17:29:23.970531Z",
     "iopub.status.busy": "2023-08-14T17:29:23.970134Z",
     "iopub.status.idle": "2023-08-14T17:29:30.721393Z",
     "shell.execute_reply": "2023-08-14T17:29:30.720517Z"
    },
    "jupyter": {
     "outputs_hidden": false
    },
    "papermill": {
     "duration": 7.468881,
     "end_time": "2023-08-14T17:29:30.726566",
     "exception": false,
     "start_time": "2023-08-14T17:29:23.257685",
     "status": "completed"
    },
    "tags": []
   },
   "outputs": [
    {
     "data": {
      "image/png": "[encoded data removed]",
      "text/plain": [
       "<Figure size 1600x600 with 3 Axes>"
      ]
     },
     "metadata": {},
     "output_type": "display_data"
    }
   ],
   "source": [
    "visualize_embeddings(\n",
    "    embeddings_bag[:300],\n",
    "    labels[:300],\n",
    "    reduce_with='tsne',\n",
    "    # reduce_with='pca',\n",
    ")"
   ]
  },
  {
   "cell_type": "code",
   "execution_count": 65,
   "id": "7449d989",
   "metadata": {
    "ExecuteTime": {
     "end_time": "2023-08-14T18:42:57.174431Z",
     "start_time": "2023-08-14T18:42:57.071415Z"
    },
    "execution": {
     "iopub.execute_input": "2023-08-14T17:29:32.278407Z",
     "iopub.status.busy": "2023-08-14T17:29:32.278025Z",
     "iopub.status.idle": "2023-08-14T17:29:32.282464Z",
     "shell.execute_reply": "2023-08-14T17:29:32.281576Z"
    },
    "papermill": {
     "duration": 0.845045,
     "end_time": "2023-08-14T17:29:32.284428",
     "exception": false,
     "start_time": "2023-08-14T17:29:31.439383",
     "status": "completed"
    },
    "tags": []
   },
   "outputs": [],
   "source": [
    "# image = train_dataset[90][0].to(device)\n",
    "# lab = torch.unsqueeze(torch.tensor(train_dataset[90][1]).to(device).to(torch.long), dim=0)\n",
    "# model = model.to(device)\n",
    "#\n",
    "# criterion3(model(torch.unsqueeze(image, dim=0)), lab)"
   ]
  },
  {
   "cell_type": "code",
   "execution_count": 66,
   "id": "8ab1550f",
   "metadata": {
    "execution": {
     "iopub.execute_input": "2023-08-14T17:29:33.715602Z",
     "iopub.status.busy": "2023-08-14T17:29:33.715205Z",
     "iopub.status.idle": "2023-08-14T17:29:43.114284Z",
     "shell.execute_reply": "2023-08-14T17:29:43.113069Z"
    },
    "id": "wk7eAo8cTFDx",
    "papermill": {
     "duration": 10.118892,
     "end_time": "2023-08-14T17:29:43.116952",
     "exception": false,
     "start_time": "2023-08-14T17:29:32.998060",
     "status": "completed"
    },
    "tags": []
   },
   "outputs": [
    {
     "name": "stderr",
     "output_type": "stream",
     "text": [
      "Processing: 100%|██████████| 8/8 [00:09<00:00,  1.17s/batch]"
     ]
    },
    {
     "name": "stdout",
     "output_type": "stream",
     "text": [
      "\u001B[43mManually calculated accuracy: 0.8648648648648649\u001B[0m\n"
     ]
    },
    {
     "name": "stderr",
     "output_type": "stream",
     "text": [
      "\n"
     ]
    }
   ],
   "source": [
    "model.eval()  # Set the model to evaluation mode\n",
    "predictions = []\n",
    "correct = 0\n",
    "total = 0\n",
    "\n",
    "with torch.no_grad():\n",
    "    with tqdm(test_dataloader, desc=\"Processing\",unit=\"batch\") as process:\n",
    "        for images, labels in process:\n",
    "            images = images.to(device)\n",
    "            labels = labels.to(device)\n",
    "            embeddings = model(images)\n",
    "            probabilities = criterion(embeddings, labels)\n",
    "            _, predicted = torch.max(probabilities, 1)\n",
    "            correct += (predicted == labels).sum().item()\n",
    "            total += labels.size(0)\n",
    "            \n",
    "            predictions.extend(predicted.cpu().numpy())\n",
    "\n",
    "            \n",
    "print_highlighted(f\"Manually calculated accuracy: {correct/total}\")"
   ]
  },
  {
   "cell_type": "code",
   "execution_count": 67,
   "id": "4c3434dc",
   "metadata": {
    "execution": {
     "iopub.execute_input": "2023-08-14T17:29:44.618044Z",
     "iopub.status.busy": "2023-08-14T17:29:44.617637Z",
     "iopub.status.idle": "2023-08-14T17:29:44.689042Z",
     "shell.execute_reply": "2023-08-14T17:29:44.688010Z"
    },
    "id": "q5VvToQGTFDy",
    "papermill": {
     "duration": 0.792285,
     "end_time": "2023-08-14T17:29:44.691623",
     "exception": false,
     "start_time": "2023-08-14T17:29:43.899338",
     "status": "completed"
    },
    "tags": []
   },
   "outputs": [
    {
     "data": {
      "text/html": [
       "<div>\n",
       "<style scoped>\n",
       "    .dataframe tbody tr th:only-of-type {\n",
       "        vertical-align: middle;\n",
       "    }\n",
       "\n",
       "    .dataframe tbody tr th {\n",
       "        vertical-align: top;\n",
       "    }\n",
       "\n",
       "    .dataframe thead th {\n",
       "        text-align: right;\n",
       "    }\n",
       "</style>\n",
       "<table border=\"1\" class=\"dataframe\">\n",
       "  <thead>\n",
       "    <tr style=\"text-align: right;\">\n",
       "      <th></th>\n",
       "      <th>precision</th>\n",
       "      <th>recall</th>\n",
       "      <th>f1-score</th>\n",
       "      <th>support</th>\n",
       "    </tr>\n",
       "  </thead>\n",
       "  <tbody>\n",
       "    <tr>\n",
       "      <th>0</th>\n",
       "      <td>1.000000</td>\n",
       "      <td>0.750000</td>\n",
       "      <td>0.857143</td>\n",
       "      <td>4.000000</td>\n",
       "    </tr>\n",
       "    <tr>\n",
       "      <th>1</th>\n",
       "      <td>1.000000</td>\n",
       "      <td>0.750000</td>\n",
       "      <td>0.857143</td>\n",
       "      <td>4.000000</td>\n",
       "    </tr>\n",
       "    <tr>\n",
       "      <th>2</th>\n",
       "      <td>1.000000</td>\n",
       "      <td>0.750000</td>\n",
       "      <td>0.857143</td>\n",
       "      <td>4.000000</td>\n",
       "    </tr>\n",
       "    <tr>\n",
       "      <th>3</th>\n",
       "      <td>0.800000</td>\n",
       "      <td>1.000000</td>\n",
       "      <td>0.888889</td>\n",
       "      <td>4.000000</td>\n",
       "    </tr>\n",
       "    <tr>\n",
       "      <th>4</th>\n",
       "      <td>1.000000</td>\n",
       "      <td>1.000000</td>\n",
       "      <td>1.000000</td>\n",
       "      <td>4.000000</td>\n",
       "    </tr>\n",
       "    <tr>\n",
       "      <th>...</th>\n",
       "      <td>...</td>\n",
       "      <td>...</td>\n",
       "      <td>...</td>\n",
       "      <td>...</td>\n",
       "    </tr>\n",
       "    <tr>\n",
       "      <th>758</th>\n",
       "      <td>0.500000</td>\n",
       "      <td>0.666667</td>\n",
       "      <td>0.571429</td>\n",
       "      <td>3.000000</td>\n",
       "    </tr>\n",
       "    <tr>\n",
       "      <th>759</th>\n",
       "      <td>1.000000</td>\n",
       "      <td>0.333333</td>\n",
       "      <td>0.500000</td>\n",
       "      <td>3.000000</td>\n",
       "    </tr>\n",
       "    <tr>\n",
       "      <th>accuracy</th>\n",
       "      <td>0.864865</td>\n",
       "      <td>0.864865</td>\n",
       "      <td>0.864865</td>\n",
       "      <td>0.864865</td>\n",
       "    </tr>\n",
       "    <tr>\n",
       "      <th>macro avg</th>\n",
       "      <td>0.878453</td>\n",
       "      <td>0.858173</td>\n",
       "      <td>0.852418</td>\n",
       "      <td>2775.000000</td>\n",
       "    </tr>\n",
       "    <tr>\n",
       "      <th>weighted avg</th>\n",
       "      <td>0.885377</td>\n",
       "      <td>0.864865</td>\n",
       "      <td>0.860467</td>\n",
       "      <td>2775.000000</td>\n",
       "    </tr>\n",
       "  </tbody>\n",
       "</table>\n",
       "<p>763 rows × 4 columns</p>\n",
       "</div>"
      ],
      "text/plain": [
       "              precision    recall  f1-score      support\n",
       "0              1.000000  0.750000  0.857143     4.000000\n",
       "1              1.000000  0.750000  0.857143     4.000000\n",
       "2              1.000000  0.750000  0.857143     4.000000\n",
       "3              0.800000  1.000000  0.888889     4.000000\n",
       "4              1.000000  1.000000  1.000000     4.000000\n",
       "...                 ...       ...       ...          ...\n",
       "758            0.500000  0.666667  0.571429     3.000000\n",
       "759            1.000000  0.333333  0.500000     3.000000\n",
       "accuracy       0.864865  0.864865  0.864865     0.864865\n",
       "macro avg      0.878453  0.858173  0.852418  2775.000000\n",
       "weighted avg   0.885377  0.864865  0.860467  2775.000000\n",
       "\n",
       "[763 rows x 4 columns]"
      ]
     },
     "execution_count": 67,
     "metadata": {},
     "output_type": "execute_result"
    }
   ],
   "source": [
    "c_report = classification_report(test_dataset.labels, np.array(predictions), output_dict=True, zero_division=0)\n",
    "c_report = pd.DataFrame(c_report).transpose()\n",
    "c_report"
   ]
  },
  {
   "cell_type": "code",
   "execution_count": 68,
   "id": "94ff6a44",
   "metadata": {
    "execution": {
     "iopub.execute_input": "2023-08-14T17:29:46.201628Z",
     "iopub.status.busy": "2023-08-14T17:29:46.201218Z",
     "iopub.status.idle": "2023-08-14T17:29:46.212445Z",
     "shell.execute_reply": "2023-08-14T17:29:46.211494Z"
    },
    "id": "UJLtt_s6TFDy",
    "papermill": {
     "duration": 0.803204,
     "end_time": "2023-08-14T17:29:46.214445",
     "exception": false,
     "start_time": "2023-08-14T17:29:45.411241",
     "status": "completed"
    },
    "tags": []
   },
   "outputs": [
    {
     "data": {
      "text/plain": [
       "precision    0.887799\n",
       "recall       0.867303\n",
       "f1-score     0.861486\n",
       "support      3.654255\n",
       "dtype: float64"
      ]
     },
     "execution_count": 68,
     "metadata": {},
     "output_type": "execute_result"
    }
   ],
   "source": [
    "c_report[c_report['precision'] > 0][:-3].mean()"
   ]
  },
  {
   "cell_type": "code",
   "execution_count": 69,
   "id": "b32f4d27",
   "metadata": {
    "execution": {
     "iopub.execute_input": "2023-08-14T17:29:47.702482Z",
     "iopub.status.busy": "2023-08-14T17:29:47.702060Z",
     "iopub.status.idle": "2023-08-14T17:29:47.711759Z",
     "shell.execute_reply": "2023-08-14T17:29:47.710360Z"
    },
    "id": "_Sw-oDmlTFDy",
    "papermill": {
     "duration": 0.764826,
     "end_time": "2023-08-14T17:29:47.714415",
     "exception": false,
     "start_time": "2023-08-14T17:29:46.949589",
     "status": "completed"
    },
    "tags": []
   },
   "outputs": [
    {
     "data": {
      "text/plain": [
       "0.8648648648648649"
      ]
     },
     "execution_count": 69,
     "metadata": {},
     "output_type": "execute_result"
    }
   ],
   "source": [
    "accuracy_score(test_dataset.labels, np.array(predictions))"
   ]
  },
  {
   "cell_type": "markdown",
   "id": "00f98651",
   "metadata": {
    "papermill": {
     "duration": 0.711078,
     "end_time": "2023-08-14T17:29:49.249729",
     "exception": false,
     "start_time": "2023-08-14T17:29:48.538651",
     "status": "completed"
    },
    "tags": []
   },
   "source": [
    "To download the model, use code below:"
   ]
  },
  {
   "cell_type": "code",
   "execution_count": 70,
   "id": "b9427f9f",
   "metadata": {
    "collapsed": false,
    "execution": {
     "iopub.execute_input": "2023-08-14T17:29:50.675708Z",
     "iopub.status.busy": "2023-08-14T17:29:50.675294Z",
     "iopub.status.idle": "2023-08-14T17:29:50.681727Z",
     "shell.execute_reply": "2023-08-14T17:29:50.680795Z"
    },
    "jupyter": {
     "outputs_hidden": false
    },
    "papermill": {
     "duration": 0.722568,
     "end_time": "2023-08-14T17:29:50.683794",
     "exception": false,
     "start_time": "2023-08-14T17:29:49.961226",
     "status": "completed"
    },
    "tags": []
   },
   "outputs": [
    {
     "data": {
      "text/html": [
       "<a href='ArcFace_efficientnet_b0.pth' target='_blank'>ArcFace_efficientnet_b0.pth</a><br>"
      ],
      "text/plain": [
       "/kaggle/working/ArcFace_efficientnet_b0.pth"
      ]
     },
     "execution_count": 70,
     "metadata": {},
     "output_type": "execute_result"
    }
   ],
   "source": [
    "from IPython.display import FileLink\n",
    "FileLink(model_file_name)"
   ]
  }
 ],
 "metadata": {
  "kernelspec": {
   "display_name": "Python 3",
   "language": "python",
   "name": "python3"
  },
  "language_info": {
   "codemirror_mode": {
    "name": "ipython",
    "version": 3
   },
   "file_extension": ".py",
   "mimetype": "text/x-python",
   "name": "python",
   "nbconvert_exporter": "python",
   "pygments_lexer": "ipython3",
   "version": "3.10.12"
  },
  "papermill": {
   "default_parameters": {},
   "duration": 3960.405937,
   "end_time": "2023-08-14T17:29:54.480893",
   "environment_variables": {},
   "exception": null,
   "input_path": "__notebook__.ipynb",
   "output_path": "__notebook__.ipynb",
   "parameters": {},
   "start_time": "2023-08-14T16:23:54.074956",
   "version": "2.4.0"
  }
 },
 "nbformat": 4,
 "nbformat_minor": 5
}
