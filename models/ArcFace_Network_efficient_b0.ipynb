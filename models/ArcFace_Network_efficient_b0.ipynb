{
 "cells": [
  {
   "cell_type": "markdown",
   "id": "7883fb35",
   "metadata": {
    "papermill": {
     "duration": 0.032565,
     "end_time": "2023-08-15T00:30:48.946586",
     "exception": false,
     "start_time": "2023-08-15T00:30:48.914021",
     "status": "completed"
    },
    "tags": []
   },
   "source": [
    "# Image Classification with ArcFace Loss"
   ]
  },
  {
   "cell_type": "markdown",
   "id": "3e306b0a",
   "metadata": {
    "papermill": {
     "duration": 0.030819,
     "end_time": "2023-08-15T00:30:49.009584",
     "exception": false,
     "start_time": "2023-08-15T00:30:48.978765",
     "status": "completed"
    },
    "tags": []
   },
   "source": [
    "In this notebook we will train SOTA Computer Vision models (such as MobileNet, EfficientNet) to classify car brands. We will ArcFace Loss function for this task, which is also state-of-art."
   ]
  },
  {
   "cell_type": "markdown",
   "id": "62f03a9f",
   "metadata": {
    "id": "DRrvM2BPUG3T",
    "papermill": {
     "duration": 0.030464,
     "end_time": "2023-08-15T00:30:49.069929",
     "exception": false,
     "start_time": "2023-08-15T00:30:49.039465",
     "status": "completed"
    },
    "tags": []
   },
   "source": [
    "# 1. Set up"
   ]
  },
  {
   "cell_type": "markdown",
   "id": "f5a268e1",
   "metadata": {
    "id": "G-cGfk5CTFDT",
    "papermill": {
     "duration": 0.03224,
     "end_time": "2023-08-15T00:30:49.134116",
     "exception": false,
     "start_time": "2023-08-15T00:30:49.101876",
     "status": "completed"
    },
    "tags": []
   },
   "source": [
    "## 1. Packages and requirements"
   ]
  },
  {
   "cell_type": "code",
   "execution_count": 1,
   "id": "2dae565d",
   "metadata": {
    "ExecuteTime": {
     "end_time": "2023-08-14T17:23:26.280767Z",
     "start_time": "2023-08-14T17:23:26.031025Z"
    },
    "execution": {
     "iopub.execute_input": "2023-08-15T00:30:49.201297Z",
     "iopub.status.busy": "2023-08-15T00:30:49.200182Z",
     "iopub.status.idle": "2023-08-15T00:30:49.213829Z",
     "shell.execute_reply": "2023-08-15T00:30:49.212930Z"
    },
    "id": "YJ1bPQE1TFDW",
    "papermill": {
     "duration": 0.048621,
     "end_time": "2023-08-15T00:30:49.216043",
     "exception": false,
     "start_time": "2023-08-15T00:30:49.167422",
     "status": "completed"
    },
    "tags": []
   },
   "outputs": [],
   "source": [
    "# Major builtin libraries\n",
    "import os\n",
    "import gc\n",
    "# import cv2\n",
    "import math\n",
    "import time\n",
    "import random\n",
    "import typing as t\n",
    "from copy import deepcopy\n",
    "# from collections import defaultdict"
   ]
  },
  {
   "cell_type": "code",
   "execution_count": 2,
   "id": "64bd0eae",
   "metadata": {
    "ExecuteTime": {
     "end_time": "2023-08-14T17:23:26.305028Z",
     "start_time": "2023-08-14T17:23:26.088278Z"
    },
    "execution": {
     "iopub.execute_input": "2023-08-15T00:30:49.281589Z",
     "iopub.status.busy": "2023-08-15T00:30:49.280498Z",
     "iopub.status.idle": "2023-08-15T00:30:49.285539Z",
     "shell.execute_reply": "2023-08-15T00:30:49.284424Z"
    },
    "id": "9byYPbwhTFDW",
    "outputId": "f21315f6-d034-4060-f927-1dfcc117d99b",
    "papermill": {
     "duration": 0.039824,
     "end_time": "2023-08-15T00:30:49.287757",
     "exception": false,
     "start_time": "2023-08-15T00:30:49.247933",
     "status": "completed"
    },
    "tags": []
   },
   "outputs": [],
   "source": [
    "# To work with Google Collab\n",
    "# from google.colab import drive\n",
    "# drive.mount('/content/drive/', force_remount=True)"
   ]
  },
  {
   "cell_type": "code",
   "execution_count": 3,
   "id": "ae03753c",
   "metadata": {
    "ExecuteTime": {
     "end_time": "2023-08-14T17:23:26.306033Z",
     "start_time": "2023-08-14T17:23:26.105655Z"
    },
    "execution": {
     "iopub.execute_input": "2023-08-15T00:30:49.353978Z",
     "iopub.status.busy": "2023-08-15T00:30:49.352152Z",
     "iopub.status.idle": "2023-08-15T00:30:49.357834Z",
     "shell.execute_reply": "2023-08-15T00:30:49.356922Z"
    },
    "id": "BwyVeWsUTFDX",
    "papermill": {
     "duration": 0.040832,
     "end_time": "2023-08-15T00:30:49.359912",
     "exception": false,
     "start_time": "2023-08-15T00:30:49.319080",
     "status": "completed"
    },
    "tags": []
   },
   "outputs": [],
   "source": [
    "import warnings  # If you want to disable warnings\n",
    "warnings.filterwarnings(\"ignore\")\n",
    "\n",
    "# For descriptive error messages\n",
    "os.environ['CUDA_LAUNCH_BLOCKING'] = \"1\""
   ]
  },
  {
   "cell_type": "code",
   "execution_count": 4,
   "id": "dfeb5791",
   "metadata": {
    "ExecuteTime": {
     "end_time": "2023-08-14T17:23:26.306033Z",
     "start_time": "2023-08-14T17:23:26.129062Z"
    },
    "execution": {
     "iopub.execute_input": "2023-08-15T00:30:49.422873Z",
     "iopub.status.busy": "2023-08-15T00:30:49.421059Z",
     "iopub.status.idle": "2023-08-15T00:30:49.426345Z",
     "shell.execute_reply": "2023-08-15T00:30:49.425534Z"
    },
    "id": "AGRBRJORTFDX",
    "papermill": {
     "duration": 0.038065,
     "end_time": "2023-08-15T00:30:49.428266",
     "exception": false,
     "start_time": "2023-08-15T00:30:49.390201",
     "status": "completed"
    },
    "tags": []
   },
   "outputs": [],
   "source": [
    "# Classic packages for data manipulation and visualization\n",
    "import numpy as np\n",
    "import pandas as pd\n",
    "import matplotlib.pyplot as plt"
   ]
  },
  {
   "cell_type": "code",
   "execution_count": 5,
   "id": "54cdb678",
   "metadata": {
    "ExecuteTime": {
     "end_time": "2023-08-14T17:23:26.306033Z",
     "start_time": "2023-08-14T17:23:26.164300Z"
    },
    "execution": {
     "iopub.execute_input": "2023-08-15T00:30:49.491641Z",
     "iopub.status.busy": "2023-08-15T00:30:49.491250Z",
     "iopub.status.idle": "2023-08-15T00:30:53.239504Z",
     "shell.execute_reply": "2023-08-15T00:30:53.238500Z"
    },
    "id": "FXSN-XzxTFDX",
    "papermill": {
     "duration": 3.783006,
     "end_time": "2023-08-15T00:30:53.242362",
     "exception": false,
     "start_time": "2023-08-15T00:30:49.459356",
     "status": "completed"
    },
    "tags": []
   },
   "outputs": [],
   "source": [
    "# Basic PyTorch\n",
    "import torch\n",
    "import torch.nn as nn\n",
    "import torch.optim as optim  # Optimization algorithms and dynamic learning rate adjusting\n",
    "import torch.nn.functional as F\n",
    "# from torch.nn.modules.loss import _Loss  # For writing a custom Loss function\n",
    "from torch.utils.data import DataLoader, Dataset  # For custom data presentation"
   ]
  },
  {
   "cell_type": "code",
   "execution_count": 6,
   "id": "51f2ce84",
   "metadata": {
    "ExecuteTime": {
     "end_time": "2023-08-14T17:23:26.307036Z",
     "start_time": "2023-08-14T17:23:26.188493Z"
    },
    "execution": {
     "iopub.execute_input": "2023-08-15T00:30:53.307383Z",
     "iopub.status.busy": "2023-08-15T00:30:53.306826Z",
     "iopub.status.idle": "2023-08-15T00:30:54.335589Z",
     "shell.execute_reply": "2023-08-15T00:30:54.334474Z"
    },
    "id": "7QjRLiOzTFDY",
    "papermill": {
     "duration": 1.065683,
     "end_time": "2023-08-15T00:30:54.340174",
     "exception": false,
     "start_time": "2023-08-15T00:30:53.274491",
     "status": "completed"
    },
    "tags": []
   },
   "outputs": [],
   "source": [
    "# Utils\n",
    "import joblib  # Pipelining, pickling (dump/load), parallel processing\n",
    "from tqdm import tqdm  # Progress bar for training process\n",
    "from tempfile import TemporaryDirectory\n",
    "\n",
    "# Classic ML tools\n",
    "from sklearn.preprocessing import LabelEncoder\n",
    "from sklearn.model_selection import StratifiedKFold  # Cross-Validation"
   ]
  },
  {
   "cell_type": "code",
   "execution_count": 7,
   "id": "ca44a7ca",
   "metadata": {
    "ExecuteTime": {
     "end_time": "2023-08-14T17:23:26.307036Z",
     "start_time": "2023-08-14T17:23:26.231449Z"
    },
    "collapsed": false,
    "execution": {
     "iopub.execute_input": "2023-08-15T00:30:54.418547Z",
     "iopub.status.busy": "2023-08-15T00:30:54.418200Z",
     "iopub.status.idle": "2023-08-15T00:30:54.749625Z",
     "shell.execute_reply": "2023-08-15T00:30:54.748241Z"
    },
    "jupyter": {
     "outputs_hidden": false
    },
    "papermill": {
     "duration": 0.367504,
     "end_time": "2023-08-15T00:30:54.752424",
     "exception": false,
     "start_time": "2023-08-15T00:30:54.384920",
     "status": "completed"
    },
    "tags": []
   },
   "outputs": [],
   "source": [
    "# Data dimensionality reduction\n",
    "from sklearn.manifold import TSNE  # high-dimensional data visualization\n",
    "from sklearn.decomposition import PCA  # More effective dimensionality reduction method\n",
    "\n",
    "# kNN classification\n",
    "from sklearn.neighbors import KNeighborsClassifier\n",
    "\n",
    "# Clustering methods\n",
    "from sklearn.cluster import KMeans\n",
    "from sklearn.cluster import DBSCAN"
   ]
  },
  {
   "cell_type": "code",
   "execution_count": 8,
   "id": "5cec51ce",
   "metadata": {
    "ExecuteTime": {
     "end_time": "2023-08-14T17:23:26.307036Z",
     "start_time": "2023-08-14T17:23:26.247030Z"
    },
    "execution": {
     "iopub.execute_input": "2023-08-15T00:30:54.822655Z",
     "iopub.status.busy": "2023-08-15T00:30:54.821562Z",
     "iopub.status.idle": "2023-08-15T00:30:54.826991Z",
     "shell.execute_reply": "2023-08-15T00:30:54.825886Z"
    },
    "id": "-iaQkd7xUuPW",
    "papermill": {
     "duration": 0.043139,
     "end_time": "2023-08-15T00:30:54.829379",
     "exception": false,
     "start_time": "2023-08-15T00:30:54.786240",
     "status": "completed"
    },
    "tags": []
   },
   "outputs": [],
   "source": [
    "# !pip install torchmetrics colorama"
   ]
  },
  {
   "cell_type": "code",
   "execution_count": 9,
   "id": "c50d42a5",
   "metadata": {
    "ExecuteTime": {
     "end_time": "2023-08-14T17:23:26.308035Z",
     "start_time": "2023-08-14T17:23:26.274048Z"
    },
    "execution": {
     "iopub.execute_input": "2023-08-15T00:30:54.898782Z",
     "iopub.status.busy": "2023-08-15T00:30:54.897697Z",
     "iopub.status.idle": "2023-08-15T00:31:06.375766Z",
     "shell.execute_reply": "2023-08-15T00:31:06.374685Z"
    },
    "id": "BuY4s3bsTFDZ",
    "papermill": {
     "duration": 11.515666,
     "end_time": "2023-08-15T00:31:06.378512",
     "exception": false,
     "start_time": "2023-08-15T00:30:54.862846",
     "status": "completed"
    },
    "tags": []
   },
   "outputs": [],
   "source": [
    "# ML Metrics\n",
    "from sklearn.metrics import accuracy_score\n",
    "from sklearn.metrics import classification_report\n",
    "from torchmetrics.classification import MulticlassF1Score # F1 metric for multiclass"
   ]
  },
  {
   "cell_type": "code",
   "execution_count": 10,
   "id": "ca2da469",
   "metadata": {
    "ExecuteTime": {
     "end_time": "2023-08-14T17:23:26.407058Z",
     "start_time": "2023-08-14T17:23:26.318039Z"
    },
    "execution": {
     "iopub.execute_input": "2023-08-15T00:31:06.445112Z",
     "iopub.status.busy": "2023-08-15T00:31:06.444744Z",
     "iopub.status.idle": "2023-08-15T00:31:06.450082Z",
     "shell.execute_reply": "2023-08-15T00:31:06.448912Z"
    },
    "id": "FEKtt6X5TFDZ",
    "papermill": {
     "duration": 0.04131,
     "end_time": "2023-08-15T00:31:06.452410",
     "exception": false,
     "start_time": "2023-08-15T00:31:06.411100",
     "status": "completed"
    },
    "tags": []
   },
   "outputs": [],
   "source": [
    "# Torch Computer Vision tools for images processing\n",
    "from torchvision.io import read_image\n",
    "from torchvision.transforms.functional import to_pil_image, to_grayscale, to_tensor\n",
    "from torchvision import models  # Pretrained models"
   ]
  },
  {
   "cell_type": "code",
   "execution_count": 11,
   "id": "e5a4efb8",
   "metadata": {
    "ExecuteTime": {
     "end_time": "2023-08-14T17:23:26.407058Z",
     "start_time": "2023-08-14T17:23:26.339529Z"
    },
    "execution": {
     "iopub.execute_input": "2023-08-15T00:31:06.519662Z",
     "iopub.status.busy": "2023-08-15T00:31:06.519253Z",
     "iopub.status.idle": "2023-08-15T00:31:07.545178Z",
     "shell.execute_reply": "2023-08-15T00:31:07.544170Z"
    },
    "id": "90C8yH1dTFDa",
    "papermill": {
     "duration": 1.062314,
     "end_time": "2023-08-15T00:31:07.548270",
     "exception": false,
     "start_time": "2023-08-15T00:31:06.485956",
     "status": "completed"
    },
    "tags": []
   },
   "outputs": [],
   "source": [
    "# Albumentations is an OS library for augmentations\n",
    "import albumentations as A\n",
    "from albumentations.pytorch import ToTensorV2\n",
    "# import torchvision.transforms as T  # We can use torch augmentations instead"
   ]
  },
  {
   "cell_type": "code",
   "execution_count": null,
   "id": "43f68320",
   "metadata": {
    "ExecuteTime": {
     "end_time": "2023-08-14T17:23:26.408301Z",
     "start_time": "2023-08-14T17:23:26.353714Z"
    },
    "id": "4QwB35yVTFDa",
    "papermill": {
     "duration": 0.030754,
     "end_time": "2023-08-15T00:31:07.612170",
     "exception": false,
     "start_time": "2023-08-15T00:31:07.581416",
     "status": "completed"
    },
    "tags": []
   },
   "outputs": [],
   "source": []
  },
  {
   "cell_type": "code",
   "execution_count": 12,
   "id": "6fe88e84",
   "metadata": {
    "ExecuteTime": {
     "end_time": "2023-08-14T17:23:26.408813Z",
     "start_time": "2023-08-14T17:23:26.365720Z"
    },
    "collapsed": false,
    "execution": {
     "iopub.execute_input": "2023-08-15T00:31:07.677743Z",
     "iopub.status.busy": "2023-08-15T00:31:07.677353Z",
     "iopub.status.idle": "2023-08-15T00:31:07.683156Z",
     "shell.execute_reply": "2023-08-15T00:31:07.681991Z"
    },
    "id": "pF1AWOXTTFDa",
    "jupyter": {
     "outputs_hidden": false
    },
    "papermill": {
     "duration": 0.042719,
     "end_time": "2023-08-15T00:31:07.686081",
     "exception": false,
     "start_time": "2023-08-15T00:31:07.643362",
     "status": "completed"
    },
    "tags": []
   },
   "outputs": [],
   "source": [
    "# Output text colorizing\n",
    "from colorama import Back, Style\n",
    "\n",
    "def print_highlighted(text: str, bgcolor=Back.YELLOW) -> None:\n",
    "    \"\"\"\n",
    "    Function to print a text with colored background.\n",
    "    \"\"\"\n",
    "    print(bgcolor + text + Style.RESET_ALL)"
   ]
  },
  {
   "cell_type": "code",
   "execution_count": 13,
   "id": "3e17eeea",
   "metadata": {
    "ExecuteTime": {
     "end_time": "2023-08-14T17:23:26.408813Z",
     "start_time": "2023-08-14T17:23:26.376150Z"
    },
    "collapsed": false,
    "execution": {
     "iopub.execute_input": "2023-08-15T00:31:07.749242Z",
     "iopub.status.busy": "2023-08-15T00:31:07.748885Z",
     "iopub.status.idle": "2023-08-15T00:31:07.754210Z",
     "shell.execute_reply": "2023-08-15T00:31:07.753264Z"
    },
    "id": "WHnMHaX_TFDb",
    "jupyter": {
     "outputs_hidden": false
    },
    "papermill": {
     "duration": 0.039358,
     "end_time": "2023-08-15T00:31:07.756535",
     "exception": false,
     "start_time": "2023-08-15T00:31:07.717177",
     "status": "completed"
    },
    "tags": []
   },
   "outputs": [],
   "source": [
    "# import wandb # MLOps platform to simplify and speed up the process of building ML models"
   ]
  },
  {
   "cell_type": "code",
   "execution_count": 14,
   "id": "c3881399",
   "metadata": {
    "ExecuteTime": {
     "end_time": "2023-08-14T17:23:26.408813Z",
     "start_time": "2023-08-14T17:23:26.382183Z"
    },
    "collapsed": false,
    "execution": {
     "iopub.execute_input": "2023-08-15T00:31:07.823041Z",
     "iopub.status.busy": "2023-08-15T00:31:07.822671Z",
     "iopub.status.idle": "2023-08-15T00:31:07.827431Z",
     "shell.execute_reply": "2023-08-15T00:31:07.826309Z"
    },
    "id": "1zarBgpbTFDb",
    "jupyter": {
     "outputs_hidden": false
    },
    "papermill": {
     "duration": 0.041531,
     "end_time": "2023-08-15T00:31:07.829947",
     "exception": false,
     "start_time": "2023-08-15T00:31:07.788416",
     "status": "completed"
    },
    "tags": []
   },
   "outputs": [],
   "source": [
    "# wandb.login() # We log in via pop-up,\n",
    "# wandb.login(key=api_key)  # but you can also log in manually with function args"
   ]
  },
  {
   "cell_type": "markdown",
   "id": "5a6df480",
   "metadata": {
    "id": "YuquAHEkTFDb",
    "papermill": {
     "duration": 0.030058,
     "end_time": "2023-08-15T00:31:07.890828",
     "exception": false,
     "start_time": "2023-08-15T00:31:07.860770",
     "status": "completed"
    },
    "tags": []
   },
   "source": [
    "## 2. Configuration"
   ]
  },
  {
   "cell_type": "code",
   "execution_count": 15,
   "id": "33e3660e",
   "metadata": {
    "ExecuteTime": {
     "end_time": "2023-08-14T17:23:26.470569Z",
     "start_time": "2023-08-14T17:23:26.407058Z"
    },
    "execution": {
     "iopub.execute_input": "2023-08-15T00:31:07.956544Z",
     "iopub.status.busy": "2023-08-15T00:31:07.956174Z",
     "iopub.status.idle": "2023-08-15T00:31:07.961969Z",
     "shell.execute_reply": "2023-08-15T00:31:07.960937Z"
    },
    "id": "JC-SbC9zTFDb",
    "papermill": {
     "duration": 0.0413,
     "end_time": "2023-08-15T00:31:07.964280",
     "exception": false,
     "start_time": "2023-08-15T00:31:07.922980",
     "status": "completed"
    },
    "tags": []
   },
   "outputs": [],
   "source": [
    "CONFIG = {\n",
    "    \"seed\": 2306,\n",
    "    \"epochs\": 20,\n",
    "    \"image_dimension\": 256,  # Depends on pretrained model used\n",
    "    \"model_name\": \"efficientnet_b0\",  # Pretrained model we will use\n",
    "    \"embedding_size\": 512,  # Embedding output size\n",
    "    \"train_batch_size\": 64,\n",
    "    \"val_batch_size\": 128,\n",
    "    \"learning_rate\": 1e-3,\n",
    "    \"min_lr\": 1e-8,\n",
    "    \"min_loss_delta\": 1e-7, # To stop training on plateau\n",
    "    \"weight_decay\": 1e-7,\n",
    "}"
   ]
  },
  {
   "cell_type": "code",
   "execution_count": 16,
   "id": "4cbcbe5d",
   "metadata": {
    "ExecuteTime": {
     "end_time": "2023-08-14T17:23:26.590184Z",
     "start_time": "2023-08-14T17:23:26.420836Z"
    },
    "collapsed": false,
    "execution": {
     "iopub.execute_input": "2023-08-15T00:31:08.029620Z",
     "iopub.status.busy": "2023-08-15T00:31:08.029221Z",
     "iopub.status.idle": "2023-08-15T00:31:08.035436Z",
     "shell.execute_reply": "2023-08-15T00:31:08.034270Z"
    },
    "id": "TzAQ9KIRTFDb",
    "jupyter": {
     "outputs_hidden": false
    },
    "papermill": {
     "duration": 0.041824,
     "end_time": "2023-08-15T00:31:08.037935",
     "exception": false,
     "start_time": "2023-08-15T00:31:07.996111",
     "status": "completed"
    },
    "tags": []
   },
   "outputs": [],
   "source": [
    "class Config:\n",
    "    \"\"\"\n",
    "    Class to simplify access to Config: not dict but object with attributes\n",
    "    \"\"\"\n",
    "    def __init__(self, config_dict):\n",
    "        for key, value in config_dict.items():\n",
    "            setattr(self, key, value)"
   ]
  },
  {
   "cell_type": "code",
   "execution_count": 17,
   "id": "483e1fe5",
   "metadata": {
    "ExecuteTime": {
     "end_time": "2023-08-14T17:23:26.590184Z",
     "start_time": "2023-08-14T17:23:26.468020Z"
    },
    "collapsed": false,
    "execution": {
     "iopub.execute_input": "2023-08-15T00:31:08.101644Z",
     "iopub.status.busy": "2023-08-15T00:31:08.101256Z",
     "iopub.status.idle": "2023-08-15T00:31:08.106144Z",
     "shell.execute_reply": "2023-08-15T00:31:08.105051Z"
    },
    "id": "wivQs3vJTFDb",
    "jupyter": {
     "outputs_hidden": false
    },
    "papermill": {
     "duration": 0.039657,
     "end_time": "2023-08-15T00:31:08.108811",
     "exception": false,
     "start_time": "2023-08-15T00:31:08.069154",
     "status": "completed"
    },
    "tags": []
   },
   "outputs": [],
   "source": [
    "config = Config(config_dict=CONFIG)\n",
    "del CONFIG"
   ]
  },
  {
   "cell_type": "code",
   "execution_count": 18,
   "id": "de4f171f",
   "metadata": {
    "ExecuteTime": {
     "end_time": "2023-08-14T17:23:26.609608Z",
     "start_time": "2023-08-14T17:23:26.476586Z"
    },
    "collapsed": false,
    "execution": {
     "iopub.execute_input": "2023-08-15T00:31:08.170043Z",
     "iopub.status.busy": "2023-08-15T00:31:08.169688Z",
     "iopub.status.idle": "2023-08-15T00:31:08.176912Z",
     "shell.execute_reply": "2023-08-15T00:31:08.175820Z"
    },
    "id": "ZZO47D8bTFDc",
    "jupyter": {
     "outputs_hidden": false
    },
    "outputId": "38bf95ae-905a-43be-f188-2c2c29dbb2f1",
    "papermill": {
     "duration": 0.042481,
     "end_time": "2023-08-15T00:31:08.181075",
     "exception": false,
     "start_time": "2023-08-15T00:31:08.138594",
     "status": "completed"
    },
    "tags": []
   },
   "outputs": [
    {
     "data": {
      "text/plain": [
       "2306"
      ]
     },
     "execution_count": 18,
     "metadata": {},
     "output_type": "execute_result"
    }
   ],
   "source": [
    "# Work example\n",
    "config.seed"
   ]
  },
  {
   "cell_type": "markdown",
   "id": "c56b0cb4",
   "metadata": {
    "id": "kotMeU-OTFDc",
    "papermill": {
     "duration": 0.032969,
     "end_time": "2023-08-15T00:31:08.246481",
     "exception": false,
     "start_time": "2023-08-15T00:31:08.213512",
     "status": "completed"
    },
    "tags": []
   },
   "source": [
    "Set Seed for Reproducibility"
   ]
  },
  {
   "cell_type": "code",
   "execution_count": 19,
   "id": "3b13f154",
   "metadata": {
    "ExecuteTime": {
     "end_time": "2023-08-14T17:23:26.610600Z",
     "start_time": "2023-08-14T17:23:26.506717Z"
    },
    "execution": {
     "iopub.execute_input": "2023-08-15T00:31:08.310668Z",
     "iopub.status.busy": "2023-08-15T00:31:08.310226Z",
     "iopub.status.idle": "2023-08-15T00:31:08.321860Z",
     "shell.execute_reply": "2023-08-15T00:31:08.320897Z"
    },
    "id": "RDIHP75uTFDc",
    "papermill": {
     "duration": 0.046731,
     "end_time": "2023-08-15T00:31:08.324132",
     "exception": false,
     "start_time": "2023-08-15T00:31:08.277401",
     "status": "completed"
    },
    "tags": []
   },
   "outputs": [],
   "source": [
    "def set_seed(seed=42):\n",
    "    \"\"\"\n",
    "    Sets the seed of the entire notebook so results are the same every time we run.\n",
    "    This is for REPRODUCIBILITY.\n",
    "    \"\"\"\n",
    "    np.random.seed(seed)\n",
    "    torch.manual_seed(seed)\n",
    "\n",
    "    # When running on the CuDNN backend, two further options must be set\n",
    "    # torch.backends.cudnn.deterministic = True\n",
    "    # torch.backends.cudnn.benchmark = False  # When False, this option makes CUDA reproducible, BUT the performance might suffer\n",
    "\n",
    "    # Set a fixed value for the hash seed\n",
    "    os.environ['PYTHONHASHSEED'] = str(seed)\n",
    "\n",
    "set_seed(seed=config.seed)"
   ]
  },
  {
   "cell_type": "markdown",
   "id": "c30a4ed1",
   "metadata": {
    "id": "UoHh0H1FVHnT",
    "papermill": {
     "duration": 0.03051,
     "end_time": "2023-08-15T00:31:08.386126",
     "exception": false,
     "start_time": "2023-08-15T00:31:08.355616",
     "status": "completed"
    },
    "tags": []
   },
   "source": [
    "# 2. Data"
   ]
  },
  {
   "cell_type": "markdown",
   "id": "30c503c7",
   "metadata": {
    "id": "Qst3Y-s4VKTk",
    "papermill": {
     "duration": 0.030269,
     "end_time": "2023-08-15T00:31:08.447689",
     "exception": false,
     "start_time": "2023-08-15T00:31:08.417420",
     "status": "completed"
    },
    "tags": []
   },
   "source": [
    "## 1. Location"
   ]
  },
  {
   "cell_type": "code",
   "execution_count": 20,
   "id": "d219b95b",
   "metadata": {
    "ExecuteTime": {
     "end_time": "2023-08-14T17:23:26.611598Z",
     "start_time": "2023-08-14T17:23:26.573436Z"
    },
    "execution": {
     "iopub.execute_input": "2023-08-15T00:31:08.510634Z",
     "iopub.status.busy": "2023-08-15T00:31:08.510243Z",
     "iopub.status.idle": "2023-08-15T00:31:08.516981Z",
     "shell.execute_reply": "2023-08-15T00:31:08.515972Z"
    },
    "id": "QKDBLmMrTFDd",
    "papermill": {
     "duration": 0.041086,
     "end_time": "2023-08-15T00:31:08.519072",
     "exception": false,
     "start_time": "2023-08-15T00:31:08.477986",
     "status": "completed"
    },
    "tags": []
   },
   "outputs": [],
   "source": [
    "config.repo = '760-data-cars/'  # dataset name on Kaggle\n",
    "# config.repo = 'data/'  # dataset name on local device\n",
    "# config.repo = 'car_brand_detection/'  # Google Collab\n",
    "\n",
    "config.root = '/kaggle/input/' + config.repo\n",
    "# config.root = 'drive/MyDrive/' + config.repo\n",
    "# config.root = '../'  + config.repo\n",
    "\n",
    "\n",
    "config.data = config.root\n",
    "\n",
    "config.train_images_path  = config.data + 'all_cars_yolodata/train'\n",
    "config.test_images_path = config.data + 'all_cars_yolodata/test'\n",
    "\n",
    "config.train_labels  = config.data + 'train_labels.csv'\n",
    "config.test_labels = config.data + 'test_labels.csv'\n",
    "\n",
    "# config.model_path = 'fine-tuned_mobilenet_v2'\n",
    "config.model_path = '/kaggle/input/arcface-params-and-efficient/fine-tuned_efficientnet_b0.pth'\n",
    "# config.arcface_weights = '/kaggle/input/efficient-model/ArcLoss_parametres.pth'\n",
    "# config.model_path = '/kaggle/input/efficient-model/ArcFace_efficientnet_b0.pth'"
   ]
  },
  {
   "cell_type": "markdown",
   "id": "9a3189bd",
   "metadata": {
    "id": "u0McLUXoTFDd",
    "papermill": {
     "duration": 0.031454,
     "end_time": "2023-08-15T00:31:08.581373",
     "exception": false,
     "start_time": "2023-08-15T00:31:08.549919",
     "status": "completed"
    },
    "tags": []
   },
   "source": [
    "## 2. Custom Data representation"
   ]
  },
  {
   "cell_type": "code",
   "execution_count": 21,
   "id": "a33f82c1",
   "metadata": {
    "ExecuteTime": {
     "end_time": "2023-08-14T17:23:26.612599Z",
     "start_time": "2023-08-14T17:23:26.586152Z"
    },
    "execution": {
     "iopub.execute_input": "2023-08-15T00:31:08.646246Z",
     "iopub.status.busy": "2023-08-15T00:31:08.645268Z",
     "iopub.status.idle": "2023-08-15T00:31:08.651029Z",
     "shell.execute_reply": "2023-08-15T00:31:08.649960Z"
    },
    "papermill": {
     "duration": 0.040636,
     "end_time": "2023-08-15T00:31:08.653241",
     "exception": false,
     "start_time": "2023-08-15T00:31:08.612605",
     "status": "completed"
    },
    "tags": []
   },
   "outputs": [],
   "source": [
    "def get_file_path_by_id(file_id, dir=config.root):\n",
    "    return os.path.join(dir, str(file_id) + \".jpg\")"
   ]
  },
  {
   "cell_type": "code",
   "execution_count": 22,
   "id": "cdd52c5b",
   "metadata": {
    "ExecuteTime": {
     "end_time": "2023-08-14T17:23:26.613599Z",
     "start_time": "2023-08-14T17:23:26.603179Z"
    },
    "collapsed": false,
    "execution": {
     "iopub.execute_input": "2023-08-15T00:31:08.718695Z",
     "iopub.status.busy": "2023-08-15T00:31:08.718276Z",
     "iopub.status.idle": "2023-08-15T00:31:08.726322Z",
     "shell.execute_reply": "2023-08-15T00:31:08.725336Z"
    },
    "id": "_dh7nUr3TFDd",
    "jupyter": {
     "outputs_hidden": false
    },
    "papermill": {
     "duration": 0.042651,
     "end_time": "2023-08-15T00:31:08.728332",
     "exception": false,
     "start_time": "2023-08-15T00:31:08.685681",
     "status": "completed"
    },
    "tags": []
   },
   "outputs": [],
   "source": [
    "def apply_label_encoding(data: t.Union[pd.DataFrame, np.array],\n",
    "                         encoder_name: os.path,\n",
    "                         column='label', action='encode',\n",
    "                         ):\n",
    "    \"\"\"\n",
    "    One Hot encoding. We apply encoding by replacing the label column in dataframe.\n",
    "    As for decoding data back, we work with vector-array (as it's most likely to\n",
    "    be a prediction result)\n",
    "    \"\"\"\n",
    "    encoder = LabelEncoder()\n",
    "    if action == 'encode':\n",
    "        # We transform dataframe here. Nothing returns\n",
    "        data[column] = encoder.fit_transform(data[column])\n",
    "        with open(f\"{encoder_name}_LEncoder.pkl\", \"wb\") as fp:\n",
    "            joblib.dump(encoder, fp)\n",
    "    elif action == 'decode':\n",
    "        # We pass vector here. Result is a vector\n",
    "        with open(f\"{encoder_name}_LEncoder.pkl\", \"rb\") as fp:\n",
    "            encoder: LabelEncoder = joblib.load(fp)\n",
    "        return encoder.inverse_transform(data)"
   ]
  },
  {
   "cell_type": "code",
   "execution_count": 23,
   "id": "cc40e68e",
   "metadata": {
    "ExecuteTime": {
     "end_time": "2023-08-14T17:23:26.774422Z",
     "start_time": "2023-08-14T17:23:26.640614Z"
    },
    "collapsed": false,
    "execution": {
     "iopub.execute_input": "2023-08-15T00:31:08.793865Z",
     "iopub.status.busy": "2023-08-15T00:31:08.792875Z",
     "iopub.status.idle": "2023-08-15T00:31:08.807691Z",
     "shell.execute_reply": "2023-08-15T00:31:08.806777Z"
    },
    "id": "piJ9PgTuTFDe",
    "jupyter": {
     "outputs_hidden": false
    },
    "papermill": {
     "duration": 0.050241,
     "end_time": "2023-08-15T00:31:08.809820",
     "exception": false,
     "start_time": "2023-08-15T00:31:08.759579",
     "status": "completed"
    },
    "tags": []
   },
   "outputs": [],
   "source": [
    "class CustomImagesDataset(Dataset):\n",
    "    \"\"\"\n",
    "    \"\"\"\n",
    "    def __init__(self, data: pd.DataFrame=None, images_path: os.path=None, labels_path:os.path=None, transform_images: A.Compose=None, encoder_name: str=None):\n",
    "        \"\"\"\n",
    "\n",
    "        \"\"\"\n",
    "        super().__init__()\n",
    "        assert (data is not None) or (labels_path is not None and images_path is not None)\n",
    "\n",
    "        if data is None:\n",
    "            data = pd.read_csv(labels_path)\n",
    "            data['file_path'] = data['id'].apply(get_file_path_by_id, dir=images_path)\n",
    "\n",
    "        self.images_paths = data['file_path'].values\n",
    "        self.encoder_name = encoder_name if encoder_name else self.__hash__()  # We use hash as a unique name\n",
    "        print_highlighted(f\"Label Encoder saved with id `{self.encoder_name}`\")\n",
    "        apply_label_encoding(data=data, action='encode', encoder_name=self.encoder_name)\n",
    "        self.labels = data['label'].values\n",
    "#         self.indexes = data['id'].values\n",
    "        self.transform_images = transform_images\n",
    "        self.__set_dataset_len()\n",
    "\n",
    "    def __set_dataset_len(self):\n",
    "        self.length = self.labels.shape[0] # Number of rows\n",
    "\n",
    "    def __len__(self):\n",
    "        \"\"\"\n",
    "        We calculate the len in another function, so that we are able to slice.\n",
    "        \"\"\"\n",
    "        return self.length\n",
    "\n",
    "    def decode_labels(self, labels_vector):\n",
    "        return apply_label_encoding(data=labels_vector, action='decode', encoder_name=self.encoder_name)\n",
    "\n",
    "    def __getitem__(self, index) -> tuple[torch.Tensor, int]:\n",
    "        \"\"\" Function to return item by indexing the dataset \"\"\"\n",
    "\n",
    "        if not isinstance(index, int) and isinstance(index, slice):\n",
    "            # It's not an index, but slice.\n",
    "            # We will return the part of data by making a copy of the dataset\n",
    "            index: slice\n",
    "            self = deepcopy(self)\n",
    "            self.length = index.stop  # Cut the length of dataset.\n",
    "            self.labels = self.labels[:self.length]\n",
    "            return self\n",
    "        assert self.__len__() >= index\n",
    "\n",
    "        image = to_pil_image(read_image(self.images_paths[index]))\n",
    "        if self.transform_images:\n",
    "            # Albumentations requires us to convert image to Numpy Array\n",
    "            image = self.transform_images(image=np.array(image))['image']\n",
    "\n",
    "        label = self.labels[index]\n",
    "        return image, label\n",
    "\n",
    "\n",
    "    @property\n",
    "    def classes_(self):\n",
    "        return self.decode_labels(np.unique(self.labels))\n"
   ]
  },
  {
   "cell_type": "markdown",
   "id": "77a2d786",
   "metadata": {
    "id": "lB9BnVDPTFDe",
    "papermill": {
     "duration": 0.030841,
     "end_time": "2023-08-15T00:31:08.871600",
     "exception": false,
     "start_time": "2023-08-15T00:31:08.840759",
     "status": "completed"
    },
    "tags": []
   },
   "source": [
    "## 3. Augmentations"
   ]
  },
  {
   "cell_type": "markdown",
   "id": "4546708b",
   "metadata": {
    "id": "i-F36u_bTFDe",
    "papermill": {
     "duration": 0.032922,
     "end_time": "2023-08-15T00:31:08.936295",
     "exception": false,
     "start_time": "2023-08-15T00:31:08.903373",
     "status": "completed"
    },
    "tags": []
   },
   "source": [
    "We use Albumantations lib"
   ]
  },
  {
   "cell_type": "code",
   "execution_count": 24,
   "id": "0d3017a8",
   "metadata": {
    "ExecuteTime": {
     "end_time": "2023-08-14T17:23:26.813412Z",
     "start_time": "2023-08-14T17:23:26.668859Z"
    },
    "collapsed": false,
    "execution": {
     "iopub.execute_input": "2023-08-15T00:31:09.002160Z",
     "iopub.status.busy": "2023-08-15T00:31:09.001230Z",
     "iopub.status.idle": "2023-08-15T00:31:09.011908Z",
     "shell.execute_reply": "2023-08-15T00:31:09.010906Z"
    },
    "id": "tROO0x2GTFDe",
    "jupyter": {
     "outputs_hidden": false
    },
    "papermill": {
     "duration": 0.04515,
     "end_time": "2023-08-15T00:31:09.014065",
     "exception": false,
     "start_time": "2023-08-15T00:31:08.968915",
     "status": "completed"
    },
    "tags": []
   },
   "outputs": [],
   "source": [
    "data_transforms = {\n",
    "    \"train\": A.Compose([\n",
    "#         A.ToRGB(),\n",
    "        A.Resize(config.image_dimension, config.image_dimension),\n",
    "        A.ShiftScaleRotate(\n",
    "            shift_limit=0.1,\n",
    "            scale_limit=0.15,\n",
    "            rotate_limit=30,\n",
    "            p=0.5),\n",
    "        A.HueSaturationValue(\n",
    "                hue_shift_limit=30,\n",
    "                sat_shift_limit=30,\n",
    "                val_shift_limit=30,\n",
    "                p=0.5\n",
    "            ),\n",
    "        A.RandomBrightnessContrast(\n",
    "                brightness_limit=(-0.01,0.01),\n",
    "                contrast_limit=(-0.01, 0.01),\n",
    "                p=0.5\n",
    "            ),\n",
    "        A.Normalize(\n",
    "                mean=[0.485, 0.456, 0.406],\n",
    "                std=[0.229, 0.224, 0.225],\n",
    "                max_pixel_value=255.0,\n",
    "                p=1.0\n",
    "            ),\n",
    "        ToTensorV2() # Advanced analogue of T.ToTensor\n",
    "    ], p=1.),\n",
    "\n",
    "    \"val\": A.Compose([\n",
    "#         A.ToRGB(),\n",
    "        A.Resize(config.image_dimension, config.image_dimension),\n",
    "        A.Normalize(\n",
    "                mean=[0.485, 0.456, 0.406],\n",
    "                std=[0.229, 0.224, 0.225],\n",
    "                max_pixel_value=255.0,\n",
    "                p=1.0\n",
    "            ),\n",
    "        ToTensorV2()], p=1.)\n",
    "}"
   ]
  },
  {
   "cell_type": "markdown",
   "id": "ed693198",
   "metadata": {
    "id": "LrSe00KeTFDe",
    "papermill": {
     "duration": 0.030997,
     "end_time": "2023-08-15T00:31:09.076647",
     "exception": false,
     "start_time": "2023-08-15T00:31:09.045650",
     "status": "completed"
    },
    "tags": []
   },
   "source": [
    "## 4. Load the data and have a look"
   ]
  },
  {
   "cell_type": "code",
   "execution_count": 25,
   "id": "df2aa6fa",
   "metadata": {
    "ExecuteTime": {
     "end_time": "2023-08-14T17:23:27.056859Z",
     "start_time": "2023-08-14T17:23:26.695204Z"
    },
    "collapsed": false,
    "execution": {
     "iopub.execute_input": "2023-08-15T00:31:09.145260Z",
     "iopub.status.busy": "2023-08-15T00:31:09.144273Z",
     "iopub.status.idle": "2023-08-15T00:31:09.271332Z",
     "shell.execute_reply": "2023-08-15T00:31:09.269893Z"
    },
    "id": "DmijxMsuTFDf",
    "jupyter": {
     "outputs_hidden": false
    },
    "outputId": "0f9bae18-cdd1-4716-8bc0-8d83c4eb2a3f",
    "papermill": {
     "duration": 0.163949,
     "end_time": "2023-08-15T00:31:09.273771",
     "exception": false,
     "start_time": "2023-08-15T00:31:09.109822",
     "status": "completed"
    },
    "tags": []
   },
   "outputs": [
    {
     "name": "stdout",
     "output_type": "stream",
     "text": [
      "\u001B[43mLabel Encoder saved with id `train`\u001B[0m\n"
     ]
    }
   ],
   "source": [
    "train_dataset = CustomImagesDataset(labels_path=config.train_labels, images_path=config.train_images_path, transform_images=data_transforms['train'], encoder_name='train')"
   ]
  },
  {
   "cell_type": "code",
   "execution_count": 26,
   "id": "6dfbe706",
   "metadata": {
    "ExecuteTime": {
     "end_time": "2023-08-14T17:23:27.146756Z",
     "start_time": "2023-08-14T17:23:27.057861Z"
    },
    "execution": {
     "iopub.execute_input": "2023-08-15T00:31:09.344875Z",
     "iopub.status.busy": "2023-08-15T00:31:09.343861Z",
     "iopub.status.idle": "2023-08-15T00:31:09.373670Z",
     "shell.execute_reply": "2023-08-15T00:31:09.372411Z"
    },
    "id": "NyHg814zTFDf",
    "outputId": "11706677-ef27-479d-c5a7-440ddb48b538",
    "papermill": {
     "duration": 0.06774,
     "end_time": "2023-08-15T00:31:09.375852",
     "exception": false,
     "start_time": "2023-08-15T00:31:09.308112",
     "status": "completed"
    },
    "tags": []
   },
   "outputs": [
    {
     "name": "stdout",
     "output_type": "stream",
     "text": [
      "\u001B[43mLabel Encoder saved with id `test`\u001B[0m\n"
     ]
    }
   ],
   "source": [
    "test_dataset = CustomImagesDataset(\n",
    "    labels_path=config.test_labels,\n",
    "    images_path=config.test_images_path,\n",
    "    transform_images=data_transforms['val'],\n",
    "    encoder_name='test',\n",
    ")"
   ]
  },
  {
   "cell_type": "code",
   "execution_count": 27,
   "id": "e8a4fd7a",
   "metadata": {
    "ExecuteTime": {
     "end_time": "2023-08-14T17:23:27.271816Z",
     "start_time": "2023-08-14T17:23:27.095977Z"
    },
    "execution": {
     "iopub.execute_input": "2023-08-15T00:31:09.444210Z",
     "iopub.status.busy": "2023-08-15T00:31:09.443226Z",
     "iopub.status.idle": "2023-08-15T00:31:09.572404Z",
     "shell.execute_reply": "2023-08-15T00:31:09.571354Z"
    },
    "id": "_bZMqZjoTFDf",
    "outputId": "a43afe2b-a8cb-4aee-9500-d4637cd905ef",
    "papermill": {
     "duration": 0.167753,
     "end_time": "2023-08-15T00:31:09.575995",
     "exception": false,
     "start_time": "2023-08-15T00:31:09.408242",
     "status": "completed"
    },
    "tags": []
   },
   "outputs": [
    {
     "data": {
      "image/png": "[encoded data removed]",
      "text/plain": [
       "<PIL.Image.Image image mode=RGB size=256x256>"
      ]
     },
     "execution_count": 27,
     "metadata": {},
     "output_type": "execute_result"
    }
   ],
   "source": [
    "to_pil_image(train_dataset[60][0])"
   ]
  },
  {
   "cell_type": "code",
   "execution_count": 28,
   "id": "6ef8b85f",
   "metadata": {
    "ExecuteTime": {
     "end_time": "2023-08-14T17:24:03.063583Z",
     "start_time": "2023-08-14T17:24:02.995949Z"
    },
    "collapsed": false,
    "execution": {
     "iopub.execute_input": "2023-08-15T00:31:09.650146Z",
     "iopub.status.busy": "2023-08-15T00:31:09.649721Z",
     "iopub.status.idle": "2023-08-15T00:31:09.660943Z",
     "shell.execute_reply": "2023-08-15T00:31:09.659717Z"
    },
    "id": "UUS_aiISTFDf",
    "jupyter": {
     "outputs_hidden": false
    },
    "outputId": "832f5ec9-3895-4f71-bc96-6e626c74ab34",
    "papermill": {
     "duration": 0.052341,
     "end_time": "2023-08-15T00:31:09.663620",
     "exception": false,
     "start_time": "2023-08-15T00:31:09.611279",
     "status": "completed"
    },
    "tags": []
   },
   "outputs": [
    {
     "data": {
      "text/plain": [
       "760"
      ]
     },
     "execution_count": 28,
     "metadata": {},
     "output_type": "execute_result"
    }
   ],
   "source": [
    "config.num_of_classes = len(train_dataset.classes_)\n",
    "config.num_of_classes"
   ]
  },
  {
   "cell_type": "markdown",
   "id": "1f44389f",
   "metadata": {
    "id": "1T2BVhnkTFDf",
    "papermill": {
     "duration": 0.036593,
     "end_time": "2023-08-15T00:31:09.736777",
     "exception": false,
     "start_time": "2023-08-15T00:31:09.700184",
     "status": "completed"
    },
    "tags": []
   },
   "source": [
    "Below we ensure that the test dataset doesn't contain unknown data"
   ]
  },
  {
   "cell_type": "code",
   "execution_count": 29,
   "id": "f9e4a71d",
   "metadata": {
    "ExecuteTime": {
     "end_time": "2023-08-14T17:24:03.362864Z",
     "start_time": "2023-08-14T17:24:03.308139Z"
    },
    "execution": {
     "iopub.execute_input": "2023-08-15T00:31:09.810518Z",
     "iopub.status.busy": "2023-08-15T00:31:09.810159Z",
     "iopub.status.idle": "2023-08-15T00:31:09.818293Z",
     "shell.execute_reply": "2023-08-15T00:31:09.817379Z"
    },
    "id": "52QN-ziNTFDg",
    "papermill": {
     "duration": 0.047111,
     "end_time": "2023-08-15T00:31:09.820421",
     "exception": false,
     "start_time": "2023-08-15T00:31:09.773310",
     "status": "completed"
    },
    "tags": []
   },
   "outputs": [],
   "source": [
    "assert not bool(set(test_dataset.classes_) - set(train_dataset.classes_))"
   ]
  },
  {
   "cell_type": "code",
   "execution_count": 30,
   "id": "ebaa26a7",
   "metadata": {
    "ExecuteTime": {
     "end_time": "2023-08-14T17:24:03.814742Z",
     "start_time": "2023-08-14T17:24:03.537760Z"
    },
    "execution": {
     "iopub.execute_input": "2023-08-15T00:31:09.890122Z",
     "iopub.status.busy": "2023-08-15T00:31:09.889067Z",
     "iopub.status.idle": "2023-08-15T00:31:09.897147Z",
     "shell.execute_reply": "2023-08-15T00:31:09.896147Z"
    },
    "id": "lYMINDi1TFDj",
    "outputId": "bdd6cc65-de03-495d-9883-53906ce9a165",
    "papermill": {
     "duration": 0.044655,
     "end_time": "2023-08-15T00:31:09.899148",
     "exception": false,
     "start_time": "2023-08-15T00:31:09.854493",
     "status": "completed"
    },
    "tags": []
   },
   "outputs": [
    {
     "name": "stdout",
     "output_type": "stream",
     "text": [
      "Acura_MDX;  Alfa Romeo_Giulietta;  Audi_100;  Audi_80;  Audi_A1;  Audi_A3;  Audi_A4;  Audi_A5;  Audi_A6;  Audi_A7;  Audi_A8;  Audi_Q3;  Audi_Q5;  Audi_Q7;  Audi_R8;  Audi_RS6;  Audi_S5;  Audi_S8;  Audi_TT;  BAW_FENIX..."
     ]
    }
   ],
   "source": [
    "print(*train_dataset.classes_[:20], sep=';  ', end='...')"
   ]
  },
  {
   "cell_type": "markdown",
   "id": "29a8837d",
   "metadata": {
    "id": "1nrMvID-TFDk",
    "papermill": {
     "duration": 0.034753,
     "end_time": "2023-08-15T00:31:09.968386",
     "exception": false,
     "start_time": "2023-08-15T00:31:09.933633",
     "status": "completed"
    },
    "tags": []
   },
   "source": [
    "# 3. Model"
   ]
  },
  {
   "cell_type": "markdown",
   "id": "49a07095",
   "metadata": {
    "papermill": {
     "duration": 0.032064,
     "end_time": "2023-08-15T00:31:10.034154",
     "exception": false,
     "start_time": "2023-08-15T00:31:10.002090",
     "status": "completed"
    },
    "tags": []
   },
   "source": [
    "ArcFace loss function is used on the embeddings, not on the final predictions"
   ]
  },
  {
   "cell_type": "markdown",
   "id": "1d165f11",
   "metadata": {
    "id": "CC_wCexMTFDk",
    "papermill": {
     "duration": 0.032138,
     "end_time": "2023-08-15T00:31:10.098790",
     "exception": false,
     "start_time": "2023-08-15T00:31:10.066652",
     "status": "completed"
    },
    "tags": []
   },
   "source": [
    "## 1. Getting the pretrained model"
   ]
  },
  {
   "cell_type": "code",
   "execution_count": 31,
   "id": "1b1d5145",
   "metadata": {
    "ExecuteTime": {
     "end_time": "2023-08-14T17:24:04.219145Z",
     "start_time": "2023-08-14T17:24:04.096107Z"
    },
    "collapsed": false,
    "execution": {
     "iopub.execute_input": "2023-08-15T00:31:10.165238Z",
     "iopub.status.busy": "2023-08-15T00:31:10.164869Z",
     "iopub.status.idle": "2023-08-15T00:31:10.169937Z",
     "shell.execute_reply": "2023-08-15T00:31:10.169012Z"
    },
    "jupyter": {
     "outputs_hidden": false
    },
    "papermill": {
     "duration": 0.040827,
     "end_time": "2023-08-15T00:31:10.172023",
     "exception": false,
     "start_time": "2023-08-15T00:31:10.131196",
     "status": "completed"
    },
    "tags": []
   },
   "outputs": [],
   "source": [
    "def get_input_feature_size(classifier: nn.Sequential) -> int:\n",
    "    for module in classifier.modules():\n",
    "        if isinstance(module, nn.Linear):\n",
    "            return module.in_features"
   ]
  },
  {
   "cell_type": "code",
   "execution_count": 32,
   "id": "9b435e32",
   "metadata": {
    "ExecuteTime": {
     "end_time": "2023-08-14T17:24:04.281142Z",
     "start_time": "2023-08-14T17:24:04.129656Z"
    },
    "execution": {
     "iopub.execute_input": "2023-08-15T00:31:10.239037Z",
     "iopub.status.busy": "2023-08-15T00:31:10.238676Z",
     "iopub.status.idle": "2023-08-15T00:31:10.249888Z",
     "shell.execute_reply": "2023-08-15T00:31:10.248924Z"
    },
    "id": "-NUikulCTFDk",
    "papermill": {
     "duration": 0.047802,
     "end_time": "2023-08-15T00:31:10.252112",
     "exception": false,
     "start_time": "2023-08-15T00:31:10.204310",
     "status": "completed"
    },
    "tags": []
   },
   "outputs": [],
   "source": [
    "def get_model(model_name='resnet18', from_path=None, pretrained=False, freeze_layers=0.0, get_embeddings=False) -> torch.nn.Module:\n",
    "    if from_path:\n",
    "        try:\n",
    "            model = torch.load(from_path, map_location=torch.device(\"cuda\" if torch.cuda.is_available() else \"cpu\"))\n",
    "        except FileNotFoundError:\n",
    "            raise\n",
    "    elif model_name:\n",
    "        model = getattr(models, model_name) # We use builtin function\n",
    "        model = model(\n",
    "        weights=('DEFAULT' if pretrained else None)\n",
    "        )\n",
    "\n",
    "    if bool(freeze_layers):\n",
    "        params = list(model.parameters())\n",
    "        for param in params[:int(len(params)*freeze_layers)]:\n",
    "            # Freeze some layers\n",
    "            param.requires_grad = False\n",
    "\n",
    "    if get_embeddings:\n",
    "        # That means remove classifier (last layer):\n",
    "        model.classifier = nn.Sequential(\n",
    "            # nn.Dropout(p=0.3, inplace=True),\n",
    "            nn.Linear(in_features=get_input_feature_size(model.classifier),\n",
    "                      out_features=config.embedding_size, bias=True\n",
    "                      ),\n",
    "\n",
    "        )\n",
    "    return model"
   ]
  },
  {
   "cell_type": "markdown",
   "id": "e13ec389",
   "metadata": {
    "papermill": {
     "duration": 0.032685,
     "end_time": "2023-08-15T00:31:10.317707",
     "exception": false,
     "start_time": "2023-08-15T00:31:10.285022",
     "status": "completed"
    },
    "tags": []
   },
   "source": [
    "We can fine-tune the model or train from scratch"
   ]
  },
  {
   "cell_type": "code",
   "execution_count": 33,
   "id": "c3e143b3",
   "metadata": {
    "ExecuteTime": {
     "end_time": "2023-08-14T17:24:06.082908Z",
     "start_time": "2023-08-14T17:24:06.050183Z"
    },
    "execution": {
     "iopub.execute_input": "2023-08-15T00:31:10.385875Z",
     "iopub.status.busy": "2023-08-15T00:31:10.384843Z",
     "iopub.status.idle": "2023-08-15T00:31:10.389620Z",
     "shell.execute_reply": "2023-08-15T00:31:10.388776Z"
    },
    "id": "v-BpLsBTTFDk",
    "outputId": "9f1358ab-175a-482d-a430-85a36c85a9c0",
    "papermill": {
     "duration": 0.041244,
     "end_time": "2023-08-15T00:31:10.391662",
     "exception": false,
     "start_time": "2023-08-15T00:31:10.350418",
     "status": "completed"
    },
    "tags": []
   },
   "outputs": [],
   "source": [
    "# model = get_model(\n",
    "#     model_name=config.model_name,\n",
    "#     pretrained=True,\n",
    "#     freeze_layers=0.0,\n",
    "#     get_embeddings=True\n",
    "# )"
   ]
  },
  {
   "cell_type": "markdown",
   "id": "695d28f7",
   "metadata": {
    "papermill": {
     "duration": 0.032168,
     "end_time": "2023-08-15T00:31:10.456097",
     "exception": false,
     "start_time": "2023-08-15T00:31:10.423929",
     "status": "completed"
    },
    "tags": []
   },
   "source": [
    "Or fine-tine the model that we've trained before"
   ]
  },
  {
   "cell_type": "code",
   "execution_count": 34,
   "id": "a1e45037",
   "metadata": {
    "ExecuteTime": {
     "end_time": "2023-08-14T17:24:06.509753Z",
     "start_time": "2023-08-14T17:24:06.426952Z"
    },
    "execution": {
     "iopub.execute_input": "2023-08-15T00:31:10.525555Z",
     "iopub.status.busy": "2023-08-15T00:31:10.523702Z",
     "iopub.status.idle": "2023-08-15T00:31:16.552324Z",
     "shell.execute_reply": "2023-08-15T00:31:16.551178Z"
    },
    "papermill": {
     "duration": 6.065627,
     "end_time": "2023-08-15T00:31:16.555122",
     "exception": false,
     "start_time": "2023-08-15T00:31:10.489495",
     "status": "completed"
    },
    "tags": []
   },
   "outputs": [],
   "source": [
    "model = get_model(\n",
    "    from_path=config.model_path,\n",
    "    pretrained=True,\n",
    "    freeze_layers=0.0,\n",
    "    get_embeddings=True\n",
    ")"
   ]
  },
  {
   "cell_type": "markdown",
   "id": "6f29462b",
   "metadata": {
    "papermill": {
     "duration": 0.035197,
     "end_time": "2023-08-15T00:31:16.626217",
     "exception": false,
     "start_time": "2023-08-15T00:31:16.591020",
     "status": "completed"
    },
    "tags": []
   },
   "source": [
    "It is a model that doesn't have classifier - only one linear layer that transforms embeddings to desired size"
   ]
  },
  {
   "cell_type": "code",
   "execution_count": 35,
   "id": "e4639e11",
   "metadata": {
    "ExecuteTime": {
     "end_time": "2023-08-14T17:24:12.695212Z",
     "start_time": "2023-08-14T17:24:12.655659Z"
    },
    "execution": {
     "iopub.execute_input": "2023-08-15T00:31:16.698742Z",
     "iopub.status.busy": "2023-08-15T00:31:16.696821Z",
     "iopub.status.idle": "2023-08-15T00:31:16.710312Z",
     "shell.execute_reply": "2023-08-15T00:31:16.709464Z"
    },
    "id": "GsWQ0vJoTFDm",
    "outputId": "fe3553cc-d992-44f6-f031-4c1c49705080",
    "papermill": {
     "duration": 0.052405,
     "end_time": "2023-08-15T00:31:16.712722",
     "exception": false,
     "start_time": "2023-08-15T00:31:16.660317",
     "status": "completed"
    },
    "tags": []
   },
   "outputs": [
    {
     "data": {
      "text/plain": [
       "EfficientNet(\n",
       "  (features): Sequential(\n",
       "    (0): Conv2dNormActivation(\n",
       "      (0): Conv2d(3, 32, kernel_size=(3, 3), stride=(2, 2), padding=(1, 1), bias=False)\n",
       "      (1): BatchNorm2d(32, eps=1e-05, momentum=0.1, affine=True, track_running_stats=True)\n",
       "      (2): SiLU(inplace=True)\n",
       "    )\n",
       "    (1): Sequential(\n",
       "      (0): MBConv(\n",
       "        (block): Sequential(\n",
       "          (0): Conv2dNormActivation(\n",
       "            (0): Conv2d(32, 32, kernel_size=(3, 3), stride=(1, 1), padding=(1, 1), groups=32, bias=False)\n",
       "            (1): BatchNorm2d(32, eps=1e-05, momentum=0.1, affine=True, track_running_stats=True)\n",
       "            (2): SiLU(inplace=True)\n",
       "          )\n",
       "          (1): SqueezeExcitation(\n",
       "            (avgpool): AdaptiveAvgPool2d(output_size=1)\n",
       "            (fc1): Conv2d(32, 8, kernel_size=(1, 1), stride=(1, 1))\n",
       "            (fc2): Conv2d(8, 32, kernel_size=(1, 1), stride=(1, 1))\n",
       "            (activation): SiLU(inplace=True)\n",
       "            (scale_activation): Sigmoid()\n",
       "          )\n",
       "          (2): Conv2dNormActivation(\n",
       "            (0): Conv2d(32, 16, kernel_size=(1, 1), stride=(1, 1), bias=False)\n",
       "            (1): BatchNorm2d(16, eps=1e-05, momentum=0.1, affine=True, track_running_stats=True)\n",
       "          )\n",
       "        )\n",
       "        (stochastic_depth): StochasticDepth(p=0.0, mode=row)\n",
       "      )\n",
       "    )\n",
       "    (2): Sequential(\n",
       "      (0): MBConv(\n",
       "        (block): Sequential(\n",
       "          (0): Conv2dNormActivation(\n",
       "            (0): Conv2d(16, 96, kernel_size=(1, 1), stride=(1, 1), bias=False)\n",
       "            (1): BatchNorm2d(96, eps=1e-05, momentum=0.1, affine=True, track_running_stats=True)\n",
       "            (2): SiLU(inplace=True)\n",
       "          )\n",
       "          (1): Conv2dNormActivation(\n",
       "            (0): Conv2d(96, 96, kernel_size=(3, 3), stride=(2, 2), padding=(1, 1), groups=96, bias=False)\n",
       "            (1): BatchNorm2d(96, eps=1e-05, momentum=0.1, affine=True, track_running_stats=True)\n",
       "            (2): SiLU(inplace=True)\n",
       "          )\n",
       "          (2): SqueezeExcitation(\n",
       "            (avgpool): AdaptiveAvgPool2d(output_size=1)\n",
       "            (fc1): Conv2d(96, 4, kernel_size=(1, 1), stride=(1, 1))\n",
       "            (fc2): Conv2d(4, 96, kernel_size=(1, 1), stride=(1, 1))\n",
       "            (activation): SiLU(inplace=True)\n",
       "            (scale_activation): Sigmoid()\n",
       "          )\n",
       "          (3): Conv2dNormActivation(\n",
       "            (0): Conv2d(96, 24, kernel_size=(1, 1), stride=(1, 1), bias=False)\n",
       "            (1): BatchNorm2d(24, eps=1e-05, momentum=0.1, affine=True, track_running_stats=True)\n",
       "          )\n",
       "        )\n",
       "        (stochastic_depth): StochasticDepth(p=0.0125, mode=row)\n",
       "      )\n",
       "      (1): MBConv(\n",
       "        (block): Sequential(\n",
       "          (0): Conv2dNormActivation(\n",
       "            (0): Conv2d(24, 144, kernel_size=(1, 1), stride=(1, 1), bias=False)\n",
       "            (1): BatchNorm2d(144, eps=1e-05, momentum=0.1, affine=True, track_running_stats=True)\n",
       "            (2): SiLU(inplace=True)\n",
       "          )\n",
       "          (1): Conv2dNormActivation(\n",
       "            (0): Conv2d(144, 144, kernel_size=(3, 3), stride=(1, 1), padding=(1, 1), groups=144, bias=False)\n",
       "            (1): BatchNorm2d(144, eps=1e-05, momentum=0.1, affine=True, track_running_stats=True)\n",
       "            (2): SiLU(inplace=True)\n",
       "          )\n",
       "          (2): SqueezeExcitation(\n",
       "            (avgpool): AdaptiveAvgPool2d(output_size=1)\n",
       "            (fc1): Conv2d(144, 6, kernel_size=(1, 1), stride=(1, 1))\n",
       "            (fc2): Conv2d(6, 144, kernel_size=(1, 1), stride=(1, 1))\n",
       "            (activation): SiLU(inplace=True)\n",
       "            (scale_activation): Sigmoid()\n",
       "          )\n",
       "          (3): Conv2dNormActivation(\n",
       "            (0): Conv2d(144, 24, kernel_size=(1, 1), stride=(1, 1), bias=False)\n",
       "            (1): BatchNorm2d(24, eps=1e-05, momentum=0.1, affine=True, track_running_stats=True)\n",
       "          )\n",
       "        )\n",
       "        (stochastic_depth): StochasticDepth(p=0.025, mode=row)\n",
       "      )\n",
       "    )\n",
       "    (3): Sequential(\n",
       "      (0): MBConv(\n",
       "        (block): Sequential(\n",
       "          (0): Conv2dNormActivation(\n",
       "            (0): Conv2d(24, 144, kernel_size=(1, 1), stride=(1, 1), bias=False)\n",
       "            (1): BatchNorm2d(144, eps=1e-05, momentum=0.1, affine=True, track_running_stats=True)\n",
       "            (2): SiLU(inplace=True)\n",
       "          )\n",
       "          (1): Conv2dNormActivation(\n",
       "            (0): Conv2d(144, 144, kernel_size=(5, 5), stride=(2, 2), padding=(2, 2), groups=144, bias=False)\n",
       "            (1): BatchNorm2d(144, eps=1e-05, momentum=0.1, affine=True, track_running_stats=True)\n",
       "            (2): SiLU(inplace=True)\n",
       "          )\n",
       "          (2): SqueezeExcitation(\n",
       "            (avgpool): AdaptiveAvgPool2d(output_size=1)\n",
       "            (fc1): Conv2d(144, 6, kernel_size=(1, 1), stride=(1, 1))\n",
       "            (fc2): Conv2d(6, 144, kernel_size=(1, 1), stride=(1, 1))\n",
       "            (activation): SiLU(inplace=True)\n",
       "            (scale_activation): Sigmoid()\n",
       "          )\n",
       "          (3): Conv2dNormActivation(\n",
       "            (0): Conv2d(144, 40, kernel_size=(1, 1), stride=(1, 1), bias=False)\n",
       "            (1): BatchNorm2d(40, eps=1e-05, momentum=0.1, affine=True, track_running_stats=True)\n",
       "          )\n",
       "        )\n",
       "        (stochastic_depth): StochasticDepth(p=0.037500000000000006, mode=row)\n",
       "      )\n",
       "      (1): MBConv(\n",
       "        (block): Sequential(\n",
       "          (0): Conv2dNormActivation(\n",
       "            (0): Conv2d(40, 240, kernel_size=(1, 1), stride=(1, 1), bias=False)\n",
       "            (1): BatchNorm2d(240, eps=1e-05, momentum=0.1, affine=True, track_running_stats=True)\n",
       "            (2): SiLU(inplace=True)\n",
       "          )\n",
       "          (1): Conv2dNormActivation(\n",
       "            (0): Conv2d(240, 240, kernel_size=(5, 5), stride=(1, 1), padding=(2, 2), groups=240, bias=False)\n",
       "            (1): BatchNorm2d(240, eps=1e-05, momentum=0.1, affine=True, track_running_stats=True)\n",
       "            (2): SiLU(inplace=True)\n",
       "          )\n",
       "          (2): SqueezeExcitation(\n",
       "            (avgpool): AdaptiveAvgPool2d(output_size=1)\n",
       "            (fc1): Conv2d(240, 10, kernel_size=(1, 1), stride=(1, 1))\n",
       "            (fc2): Conv2d(10, 240, kernel_size=(1, 1), stride=(1, 1))\n",
       "            (activation): SiLU(inplace=True)\n",
       "            (scale_activation): Sigmoid()\n",
       "          )\n",
       "          (3): Conv2dNormActivation(\n",
       "            (0): Conv2d(240, 40, kernel_size=(1, 1), stride=(1, 1), bias=False)\n",
       "            (1): BatchNorm2d(40, eps=1e-05, momentum=0.1, affine=True, track_running_stats=True)\n",
       "          )\n",
       "        )\n",
       "        (stochastic_depth): StochasticDepth(p=0.05, mode=row)\n",
       "      )\n",
       "    )\n",
       "    (4): Sequential(\n",
       "      (0): MBConv(\n",
       "        (block): Sequential(\n",
       "          (0): Conv2dNormActivation(\n",
       "            (0): Conv2d(40, 240, kernel_size=(1, 1), stride=(1, 1), bias=False)\n",
       "            (1): BatchNorm2d(240, eps=1e-05, momentum=0.1, affine=True, track_running_stats=True)\n",
       "            (2): SiLU(inplace=True)\n",
       "          )\n",
       "          (1): Conv2dNormActivation(\n",
       "            (0): Conv2d(240, 240, kernel_size=(3, 3), stride=(2, 2), padding=(1, 1), groups=240, bias=False)\n",
       "            (1): BatchNorm2d(240, eps=1e-05, momentum=0.1, affine=True, track_running_stats=True)\n",
       "            (2): SiLU(inplace=True)\n",
       "          )\n",
       "          (2): SqueezeExcitation(\n",
       "            (avgpool): AdaptiveAvgPool2d(output_size=1)\n",
       "            (fc1): Conv2d(240, 10, kernel_size=(1, 1), stride=(1, 1))\n",
       "            (fc2): Conv2d(10, 240, kernel_size=(1, 1), stride=(1, 1))\n",
       "            (activation): SiLU(inplace=True)\n",
       "            (scale_activation): Sigmoid()\n",
       "          )\n",
       "          (3): Conv2dNormActivation(\n",
       "            (0): Conv2d(240, 80, kernel_size=(1, 1), stride=(1, 1), bias=False)\n",
       "            (1): BatchNorm2d(80, eps=1e-05, momentum=0.1, affine=True, track_running_stats=True)\n",
       "          )\n",
       "        )\n",
       "        (stochastic_depth): StochasticDepth(p=0.0625, mode=row)\n",
       "      )\n",
       "      (1): MBConv(\n",
       "        (block): Sequential(\n",
       "          (0): Conv2dNormActivation(\n",
       "            (0): Conv2d(80, 480, kernel_size=(1, 1), stride=(1, 1), bias=False)\n",
       "            (1): BatchNorm2d(480, eps=1e-05, momentum=0.1, affine=True, track_running_stats=True)\n",
       "            (2): SiLU(inplace=True)\n",
       "          )\n",
       "          (1): Conv2dNormActivation(\n",
       "            (0): Conv2d(480, 480, kernel_size=(3, 3), stride=(1, 1), padding=(1, 1), groups=480, bias=False)\n",
       "            (1): BatchNorm2d(480, eps=1e-05, momentum=0.1, affine=True, track_running_stats=True)\n",
       "            (2): SiLU(inplace=True)\n",
       "          )\n",
       "          (2): SqueezeExcitation(\n",
       "            (avgpool): AdaptiveAvgPool2d(output_size=1)\n",
       "            (fc1): Conv2d(480, 20, kernel_size=(1, 1), stride=(1, 1))\n",
       "            (fc2): Conv2d(20, 480, kernel_size=(1, 1), stride=(1, 1))\n",
       "            (activation): SiLU(inplace=True)\n",
       "            (scale_activation): Sigmoid()\n",
       "          )\n",
       "          (3): Conv2dNormActivation(\n",
       "            (0): Conv2d(480, 80, kernel_size=(1, 1), stride=(1, 1), bias=False)\n",
       "            (1): BatchNorm2d(80, eps=1e-05, momentum=0.1, affine=True, track_running_stats=True)\n",
       "          )\n",
       "        )\n",
       "        (stochastic_depth): StochasticDepth(p=0.07500000000000001, mode=row)\n",
       "      )\n",
       "      (2): MBConv(\n",
       "        (block): Sequential(\n",
       "          (0): Conv2dNormActivation(\n",
       "            (0): Conv2d(80, 480, kernel_size=(1, 1), stride=(1, 1), bias=False)\n",
       "            (1): BatchNorm2d(480, eps=1e-05, momentum=0.1, affine=True, track_running_stats=True)\n",
       "            (2): SiLU(inplace=True)\n",
       "          )\n",
       "          (1): Conv2dNormActivation(\n",
       "            (0): Conv2d(480, 480, kernel_size=(3, 3), stride=(1, 1), padding=(1, 1), groups=480, bias=False)\n",
       "            (1): BatchNorm2d(480, eps=1e-05, momentum=0.1, affine=True, track_running_stats=True)\n",
       "            (2): SiLU(inplace=True)\n",
       "          )\n",
       "          (2): SqueezeExcitation(\n",
       "            (avgpool): AdaptiveAvgPool2d(output_size=1)\n",
       "            (fc1): Conv2d(480, 20, kernel_size=(1, 1), stride=(1, 1))\n",
       "            (fc2): Conv2d(20, 480, kernel_size=(1, 1), stride=(1, 1))\n",
       "            (activation): SiLU(inplace=True)\n",
       "            (scale_activation): Sigmoid()\n",
       "          )\n",
       "          (3): Conv2dNormActivation(\n",
       "            (0): Conv2d(480, 80, kernel_size=(1, 1), stride=(1, 1), bias=False)\n",
       "            (1): BatchNorm2d(80, eps=1e-05, momentum=0.1, affine=True, track_running_stats=True)\n",
       "          )\n",
       "        )\n",
       "        (stochastic_depth): StochasticDepth(p=0.08750000000000001, mode=row)\n",
       "      )\n",
       "    )\n",
       "    (5): Sequential(\n",
       "      (0): MBConv(\n",
       "        (block): Sequential(\n",
       "          (0): Conv2dNormActivation(\n",
       "            (0): Conv2d(80, 480, kernel_size=(1, 1), stride=(1, 1), bias=False)\n",
       "            (1): BatchNorm2d(480, eps=1e-05, momentum=0.1, affine=True, track_running_stats=True)\n",
       "            (2): SiLU(inplace=True)\n",
       "          )\n",
       "          (1): Conv2dNormActivation(\n",
       "            (0): Conv2d(480, 480, kernel_size=(5, 5), stride=(1, 1), padding=(2, 2), groups=480, bias=False)\n",
       "            (1): BatchNorm2d(480, eps=1e-05, momentum=0.1, affine=True, track_running_stats=True)\n",
       "            (2): SiLU(inplace=True)\n",
       "          )\n",
       "          (2): SqueezeExcitation(\n",
       "            (avgpool): AdaptiveAvgPool2d(output_size=1)\n",
       "            (fc1): Conv2d(480, 20, kernel_size=(1, 1), stride=(1, 1))\n",
       "            (fc2): Conv2d(20, 480, kernel_size=(1, 1), stride=(1, 1))\n",
       "            (activation): SiLU(inplace=True)\n",
       "            (scale_activation): Sigmoid()\n",
       "          )\n",
       "          (3): Conv2dNormActivation(\n",
       "            (0): Conv2d(480, 112, kernel_size=(1, 1), stride=(1, 1), bias=False)\n",
       "            (1): BatchNorm2d(112, eps=1e-05, momentum=0.1, affine=True, track_running_stats=True)\n",
       "          )\n",
       "        )\n",
       "        (stochastic_depth): StochasticDepth(p=0.1, mode=row)\n",
       "      )\n",
       "      (1): MBConv(\n",
       "        (block): Sequential(\n",
       "          (0): Conv2dNormActivation(\n",
       "            (0): Conv2d(112, 672, kernel_size=(1, 1), stride=(1, 1), bias=False)\n",
       "            (1): BatchNorm2d(672, eps=1e-05, momentum=0.1, affine=True, track_running_stats=True)\n",
       "            (2): SiLU(inplace=True)\n",
       "          )\n",
       "          (1): Conv2dNormActivation(\n",
       "            (0): Conv2d(672, 672, kernel_size=(5, 5), stride=(1, 1), padding=(2, 2), groups=672, bias=False)\n",
       "            (1): BatchNorm2d(672, eps=1e-05, momentum=0.1, affine=True, track_running_stats=True)\n",
       "            (2): SiLU(inplace=True)\n",
       "          )\n",
       "          (2): SqueezeExcitation(\n",
       "            (avgpool): AdaptiveAvgPool2d(output_size=1)\n",
       "            (fc1): Conv2d(672, 28, kernel_size=(1, 1), stride=(1, 1))\n",
       "            (fc2): Conv2d(28, 672, kernel_size=(1, 1), stride=(1, 1))\n",
       "            (activation): SiLU(inplace=True)\n",
       "            (scale_activation): Sigmoid()\n",
       "          )\n",
       "          (3): Conv2dNormActivation(\n",
       "            (0): Conv2d(672, 112, kernel_size=(1, 1), stride=(1, 1), bias=False)\n",
       "            (1): BatchNorm2d(112, eps=1e-05, momentum=0.1, affine=True, track_running_stats=True)\n",
       "          )\n",
       "        )\n",
       "        (stochastic_depth): StochasticDepth(p=0.1125, mode=row)\n",
       "      )\n",
       "      (2): MBConv(\n",
       "        (block): Sequential(\n",
       "          (0): Conv2dNormActivation(\n",
       "            (0): Conv2d(112, 672, kernel_size=(1, 1), stride=(1, 1), bias=False)\n",
       "            (1): BatchNorm2d(672, eps=1e-05, momentum=0.1, affine=True, track_running_stats=True)\n",
       "            (2): SiLU(inplace=True)\n",
       "          )\n",
       "          (1): Conv2dNormActivation(\n",
       "            (0): Conv2d(672, 672, kernel_size=(5, 5), stride=(1, 1), padding=(2, 2), groups=672, bias=False)\n",
       "            (1): BatchNorm2d(672, eps=1e-05, momentum=0.1, affine=True, track_running_stats=True)\n",
       "            (2): SiLU(inplace=True)\n",
       "          )\n",
       "          (2): SqueezeExcitation(\n",
       "            (avgpool): AdaptiveAvgPool2d(output_size=1)\n",
       "            (fc1): Conv2d(672, 28, kernel_size=(1, 1), stride=(1, 1))\n",
       "            (fc2): Conv2d(28, 672, kernel_size=(1, 1), stride=(1, 1))\n",
       "            (activation): SiLU(inplace=True)\n",
       "            (scale_activation): Sigmoid()\n",
       "          )\n",
       "          (3): Conv2dNormActivation(\n",
       "            (0): Conv2d(672, 112, kernel_size=(1, 1), stride=(1, 1), bias=False)\n",
       "            (1): BatchNorm2d(112, eps=1e-05, momentum=0.1, affine=True, track_running_stats=True)\n",
       "          )\n",
       "        )\n",
       "        (stochastic_depth): StochasticDepth(p=0.125, mode=row)\n",
       "      )\n",
       "    )\n",
       "    (6): Sequential(\n",
       "      (0): MBConv(\n",
       "        (block): Sequential(\n",
       "          (0): Conv2dNormActivation(\n",
       "            (0): Conv2d(112, 672, kernel_size=(1, 1), stride=(1, 1), bias=False)\n",
       "            (1): BatchNorm2d(672, eps=1e-05, momentum=0.1, affine=True, track_running_stats=True)\n",
       "            (2): SiLU(inplace=True)\n",
       "          )\n",
       "          (1): Conv2dNormActivation(\n",
       "            (0): Conv2d(672, 672, kernel_size=(5, 5), stride=(2, 2), padding=(2, 2), groups=672, bias=False)\n",
       "            (1): BatchNorm2d(672, eps=1e-05, momentum=0.1, affine=True, track_running_stats=True)\n",
       "            (2): SiLU(inplace=True)\n",
       "          )\n",
       "          (2): SqueezeExcitation(\n",
       "            (avgpool): AdaptiveAvgPool2d(output_size=1)\n",
       "            (fc1): Conv2d(672, 28, kernel_size=(1, 1), stride=(1, 1))\n",
       "            (fc2): Conv2d(28, 672, kernel_size=(1, 1), stride=(1, 1))\n",
       "            (activation): SiLU(inplace=True)\n",
       "            (scale_activation): Sigmoid()\n",
       "          )\n",
       "          (3): Conv2dNormActivation(\n",
       "            (0): Conv2d(672, 192, kernel_size=(1, 1), stride=(1, 1), bias=False)\n",
       "            (1): BatchNorm2d(192, eps=1e-05, momentum=0.1, affine=True, track_running_stats=True)\n",
       "          )\n",
       "        )\n",
       "        (stochastic_depth): StochasticDepth(p=0.1375, mode=row)\n",
       "      )\n",
       "      (1): MBConv(\n",
       "        (block): Sequential(\n",
       "          (0): Conv2dNormActivation(\n",
       "            (0): Conv2d(192, 1152, kernel_size=(1, 1), stride=(1, 1), bias=False)\n",
       "            (1): BatchNorm2d(1152, eps=1e-05, momentum=0.1, affine=True, track_running_stats=True)\n",
       "            (2): SiLU(inplace=True)\n",
       "          )\n",
       "          (1): Conv2dNormActivation(\n",
       "            (0): Conv2d(1152, 1152, kernel_size=(5, 5), stride=(1, 1), padding=(2, 2), groups=1152, bias=False)\n",
       "            (1): BatchNorm2d(1152, eps=1e-05, momentum=0.1, affine=True, track_running_stats=True)\n",
       "            (2): SiLU(inplace=True)\n",
       "          )\n",
       "          (2): SqueezeExcitation(\n",
       "            (avgpool): AdaptiveAvgPool2d(output_size=1)\n",
       "            (fc1): Conv2d(1152, 48, kernel_size=(1, 1), stride=(1, 1))\n",
       "            (fc2): Conv2d(48, 1152, kernel_size=(1, 1), stride=(1, 1))\n",
       "            (activation): SiLU(inplace=True)\n",
       "            (scale_activation): Sigmoid()\n",
       "          )\n",
       "          (3): Conv2dNormActivation(\n",
       "            (0): Conv2d(1152, 192, kernel_size=(1, 1), stride=(1, 1), bias=False)\n",
       "            (1): BatchNorm2d(192, eps=1e-05, momentum=0.1, affine=True, track_running_stats=True)\n",
       "          )\n",
       "        )\n",
       "        (stochastic_depth): StochasticDepth(p=0.15000000000000002, mode=row)\n",
       "      )\n",
       "      (2): MBConv(\n",
       "        (block): Sequential(\n",
       "          (0): Conv2dNormActivation(\n",
       "            (0): Conv2d(192, 1152, kernel_size=(1, 1), stride=(1, 1), bias=False)\n",
       "            (1): BatchNorm2d(1152, eps=1e-05, momentum=0.1, affine=True, track_running_stats=True)\n",
       "            (2): SiLU(inplace=True)\n",
       "          )\n",
       "          (1): Conv2dNormActivation(\n",
       "            (0): Conv2d(1152, 1152, kernel_size=(5, 5), stride=(1, 1), padding=(2, 2), groups=1152, bias=False)\n",
       "            (1): BatchNorm2d(1152, eps=1e-05, momentum=0.1, affine=True, track_running_stats=True)\n",
       "            (2): SiLU(inplace=True)\n",
       "          )\n",
       "          (2): SqueezeExcitation(\n",
       "            (avgpool): AdaptiveAvgPool2d(output_size=1)\n",
       "            (fc1): Conv2d(1152, 48, kernel_size=(1, 1), stride=(1, 1))\n",
       "            (fc2): Conv2d(48, 1152, kernel_size=(1, 1), stride=(1, 1))\n",
       "            (activation): SiLU(inplace=True)\n",
       "            (scale_activation): Sigmoid()\n",
       "          )\n",
       "          (3): Conv2dNormActivation(\n",
       "            (0): Conv2d(1152, 192, kernel_size=(1, 1), stride=(1, 1), bias=False)\n",
       "            (1): BatchNorm2d(192, eps=1e-05, momentum=0.1, affine=True, track_running_stats=True)\n",
       "          )\n",
       "        )\n",
       "        (stochastic_depth): StochasticDepth(p=0.1625, mode=row)\n",
       "      )\n",
       "      (3): MBConv(\n",
       "        (block): Sequential(\n",
       "          (0): Conv2dNormActivation(\n",
       "            (0): Conv2d(192, 1152, kernel_size=(1, 1), stride=(1, 1), bias=False)\n",
       "            (1): BatchNorm2d(1152, eps=1e-05, momentum=0.1, affine=True, track_running_stats=True)\n",
       "            (2): SiLU(inplace=True)\n",
       "          )\n",
       "          (1): Conv2dNormActivation(\n",
       "            (0): Conv2d(1152, 1152, kernel_size=(5, 5), stride=(1, 1), padding=(2, 2), groups=1152, bias=False)\n",
       "            (1): BatchNorm2d(1152, eps=1e-05, momentum=0.1, affine=True, track_running_stats=True)\n",
       "            (2): SiLU(inplace=True)\n",
       "          )\n",
       "          (2): SqueezeExcitation(\n",
       "            (avgpool): AdaptiveAvgPool2d(output_size=1)\n",
       "            (fc1): Conv2d(1152, 48, kernel_size=(1, 1), stride=(1, 1))\n",
       "            (fc2): Conv2d(48, 1152, kernel_size=(1, 1), stride=(1, 1))\n",
       "            (activation): SiLU(inplace=True)\n",
       "            (scale_activation): Sigmoid()\n",
       "          )\n",
       "          (3): Conv2dNormActivation(\n",
       "            (0): Conv2d(1152, 192, kernel_size=(1, 1), stride=(1, 1), bias=False)\n",
       "            (1): BatchNorm2d(192, eps=1e-05, momentum=0.1, affine=True, track_running_stats=True)\n",
       "          )\n",
       "        )\n",
       "        (stochastic_depth): StochasticDepth(p=0.17500000000000002, mode=row)\n",
       "      )\n",
       "    )\n",
       "    (7): Sequential(\n",
       "      (0): MBConv(\n",
       "        (block): Sequential(\n",
       "          (0): Conv2dNormActivation(\n",
       "            (0): Conv2d(192, 1152, kernel_size=(1, 1), stride=(1, 1), bias=False)\n",
       "            (1): BatchNorm2d(1152, eps=1e-05, momentum=0.1, affine=True, track_running_stats=True)\n",
       "            (2): SiLU(inplace=True)\n",
       "          )\n",
       "          (1): Conv2dNormActivation(\n",
       "            (0): Conv2d(1152, 1152, kernel_size=(3, 3), stride=(1, 1), padding=(1, 1), groups=1152, bias=False)\n",
       "            (1): BatchNorm2d(1152, eps=1e-05, momentum=0.1, affine=True, track_running_stats=True)\n",
       "            (2): SiLU(inplace=True)\n",
       "          )\n",
       "          (2): SqueezeExcitation(\n",
       "            (avgpool): AdaptiveAvgPool2d(output_size=1)\n",
       "            (fc1): Conv2d(1152, 48, kernel_size=(1, 1), stride=(1, 1))\n",
       "            (fc2): Conv2d(48, 1152, kernel_size=(1, 1), stride=(1, 1))\n",
       "            (activation): SiLU(inplace=True)\n",
       "            (scale_activation): Sigmoid()\n",
       "          )\n",
       "          (3): Conv2dNormActivation(\n",
       "            (0): Conv2d(1152, 320, kernel_size=(1, 1), stride=(1, 1), bias=False)\n",
       "            (1): BatchNorm2d(320, eps=1e-05, momentum=0.1, affine=True, track_running_stats=True)\n",
       "          )\n",
       "        )\n",
       "        (stochastic_depth): StochasticDepth(p=0.1875, mode=row)\n",
       "      )\n",
       "    )\n",
       "    (8): Conv2dNormActivation(\n",
       "      (0): Conv2d(320, 1280, kernel_size=(1, 1), stride=(1, 1), bias=False)\n",
       "      (1): BatchNorm2d(1280, eps=1e-05, momentum=0.1, affine=True, track_running_stats=True)\n",
       "      (2): SiLU(inplace=True)\n",
       "    )\n",
       "  )\n",
       "  (avgpool): AdaptiveAvgPool2d(output_size=1)\n",
       "  (classifier): Sequential(\n",
       "    (0): Linear(in_features=1280, out_features=512, bias=True)\n",
       "  )\n",
       ")"
      ]
     },
     "execution_count": 35,
     "metadata": {},
     "output_type": "execute_result"
    }
   ],
   "source": [
    "model"
   ]
  },
  {
   "cell_type": "code",
   "execution_count": 36,
   "id": "3d90d492",
   "metadata": {
    "execution": {
     "iopub.execute_input": "2023-08-15T00:31:16.784178Z",
     "iopub.status.busy": "2023-08-15T00:31:16.782281Z",
     "iopub.status.idle": "2023-08-15T00:31:16.790617Z",
     "shell.execute_reply": "2023-08-15T00:31:16.789309Z"
    },
    "papermill": {
     "duration": 0.046605,
     "end_time": "2023-08-15T00:31:16.793315",
     "exception": false,
     "start_time": "2023-08-15T00:31:16.746710",
     "status": "completed"
    },
    "tags": []
   },
   "outputs": [],
   "source": [
    "@torch.inference_mode()\n",
    "def accuracy(model, loader):\n",
    "    model.eval()\n",
    "    target = []\n",
    "    labels = []\n",
    "    for x, y in loader:\n",
    "        x, y = x.to(device), y.to(device)\n",
    "        \n",
    "        output = model(x)\n",
    "        _, y_pred = torch.max(output, dim=1)\n",
    "        \n",
    "        target.append(y)\n",
    "        labels.append(y_pred)\n",
    "    return (torch.cat(target) == torch.cat(labels)).sum() / len(torch.cat(labels))"
   ]
  },
  {
   "cell_type": "code",
   "execution_count": 37,
   "id": "db683a2a",
   "metadata": {
    "execution": {
     "iopub.execute_input": "2023-08-15T00:31:16.866122Z",
     "iopub.status.busy": "2023-08-15T00:31:16.865761Z",
     "iopub.status.idle": "2023-08-15T00:31:17.220953Z",
     "shell.execute_reply": "2023-08-15T00:31:17.219823Z"
    },
    "papermill": {
     "duration": 0.395054,
     "end_time": "2023-08-15T00:31:17.224178",
     "exception": false,
     "start_time": "2023-08-15T00:31:16.829124",
     "status": "completed"
    },
    "tags": []
   },
   "outputs": [],
   "source": [
    "model = torch.load('/kaggle/input/models/fine-tuned_efficientnet_b0.pth')"
   ]
  },
  {
   "cell_type": "code",
   "execution_count": 38,
   "id": "0a519f93",
   "metadata": {
    "execution": {
     "iopub.execute_input": "2023-08-15T00:31:17.298695Z",
     "iopub.status.busy": "2023-08-15T00:31:17.298290Z",
     "iopub.status.idle": "2023-08-15T00:31:17.305081Z",
     "shell.execute_reply": "2023-08-15T00:31:17.303883Z"
    },
    "papermill": {
     "duration": 0.047686,
     "end_time": "2023-08-15T00:31:17.307420",
     "exception": false,
     "start_time": "2023-08-15T00:31:17.259734",
     "status": "completed"
    },
    "tags": []
   },
   "outputs": [
    {
     "data": {
      "text/plain": [
       "Sequential(\n",
       "  (0): Dropout(p=0.2, inplace=True)\n",
       "  (1): Linear(in_features=1280, out_features=760, bias=True)\n",
       "  (2): Softmax(dim=-1)\n",
       ")"
      ]
     },
     "execution_count": 38,
     "metadata": {},
     "output_type": "execute_result"
    }
   ],
   "source": [
    "model.classifier"
   ]
  },
  {
   "cell_type": "code",
   "execution_count": null,
   "id": "c8075809",
   "metadata": {
    "papermill": {
     "duration": 0.033278,
     "end_time": "2023-08-15T00:31:17.374432",
     "exception": false,
     "start_time": "2023-08-15T00:31:17.341154",
     "status": "completed"
    },
    "tags": []
   },
   "outputs": [],
   "source": []
  },
  {
   "cell_type": "code",
   "execution_count": 39,
   "id": "f0f18b01",
   "metadata": {
    "execution": {
     "iopub.execute_input": "2023-08-15T00:31:17.443048Z",
     "iopub.status.busy": "2023-08-15T00:31:17.441188Z",
     "iopub.status.idle": "2023-08-15T00:31:17.452687Z",
     "shell.execute_reply": "2023-08-15T00:31:17.451428Z"
    },
    "papermill": {
     "duration": 0.048112,
     "end_time": "2023-08-15T00:31:17.455223",
     "exception": false,
     "start_time": "2023-08-15T00:31:17.407111",
     "status": "completed"
    },
    "tags": []
   },
   "outputs": [],
   "source": [
    "model.classifier = nn.Sequential(\n",
    "                   nn.Dropout(0.2, inplace=True),\n",
    "                   nn.Linear(1280, 512),\n",
    "                   )"
   ]
  },
  {
   "cell_type": "code",
   "execution_count": 40,
   "id": "8fbca714",
   "metadata": {
    "execution": {
     "iopub.execute_input": "2023-08-15T00:31:17.524996Z",
     "iopub.status.busy": "2023-08-15T00:31:17.524630Z",
     "iopub.status.idle": "2023-08-15T00:31:17.529225Z",
     "shell.execute_reply": "2023-08-15T00:31:17.527989Z"
    },
    "papermill": {
     "duration": 0.042093,
     "end_time": "2023-08-15T00:31:17.531553",
     "exception": false,
     "start_time": "2023-08-15T00:31:17.489460",
     "status": "completed"
    },
    "tags": []
   },
   "outputs": [],
   "source": [
    "#accuracy(model, test_dataloader)"
   ]
  },
  {
   "cell_type": "markdown",
   "id": "12f30a03",
   "metadata": {
    "id": "t6rYKZFqTFDn",
    "papermill": {
     "duration": 0.033746,
     "end_time": "2023-08-15T00:31:17.600341",
     "exception": false,
     "start_time": "2023-08-15T00:31:17.566595",
     "status": "completed"
    },
    "tags": []
   },
   "source": [
    "# 4. Various"
   ]
  },
  {
   "cell_type": "markdown",
   "id": "66d9a3a6",
   "metadata": {
    "id": "UhnkDGSqTFDn",
    "papermill": {
     "duration": 0.032274,
     "end_time": "2023-08-15T00:31:17.665097",
     "exception": false,
     "start_time": "2023-08-15T00:31:17.632823",
     "status": "completed"
    },
    "tags": []
   },
   "source": [
    "## 1. Quality metrics"
   ]
  },
  {
   "cell_type": "markdown",
   "id": "537d19d4",
   "metadata": {
    "id": "VpjMrvnfWgHC",
    "papermill": {
     "duration": 0.031991,
     "end_time": "2023-08-15T00:31:17.730196",
     "exception": false,
     "start_time": "2023-08-15T00:31:17.698205",
     "status": "completed"
    },
    "tags": []
   },
   "source": [
    "We will use accuracy and F1 score for out classification task"
   ]
  },
  {
   "cell_type": "code",
   "execution_count": 41,
   "id": "e3277494",
   "metadata": {
    "ExecuteTime": {
     "end_time": "2023-08-14T17:24:14.257455Z",
     "start_time": "2023-08-14T17:24:14.222546Z"
    },
    "execution": {
     "iopub.execute_input": "2023-08-15T00:31:17.797423Z",
     "iopub.status.busy": "2023-08-15T00:31:17.797076Z",
     "iopub.status.idle": "2023-08-15T00:31:17.808689Z",
     "shell.execute_reply": "2023-08-15T00:31:17.807743Z"
    },
    "id": "c_2AwnsfTFDn",
    "papermill": {
     "duration": 0.048049,
     "end_time": "2023-08-15T00:31:17.811278",
     "exception": false,
     "start_time": "2023-08-15T00:31:17.763229",
     "status": "completed"
    },
    "tags": []
   },
   "outputs": [],
   "source": [
    "f1_score = MulticlassF1Score(num_classes=config.num_of_classes, average=\"macro\")"
   ]
  },
  {
   "cell_type": "markdown",
   "id": "e4a9a2f5",
   "metadata": {
    "id": "WqgSgG2_TFDn",
    "papermill": {
     "duration": 0.058135,
     "end_time": "2023-08-15T00:31:17.920148",
     "exception": false,
     "start_time": "2023-08-15T00:31:17.862013",
     "status": "completed"
    },
    "tags": []
   },
   "source": [
    "## 2. Device"
   ]
  },
  {
   "cell_type": "code",
   "execution_count": 42,
   "id": "d7a7031e",
   "metadata": {
    "ExecuteTime": {
     "end_time": "2023-08-12T09:39:36.287885Z",
     "start_time": "2023-08-12T09:39:36.135928Z"
    },
    "execution": {
     "iopub.execute_input": "2023-08-15T00:31:18.032066Z",
     "iopub.status.busy": "2023-08-15T00:31:18.031471Z",
     "iopub.status.idle": "2023-08-15T00:31:18.048661Z",
     "shell.execute_reply": "2023-08-15T00:31:18.047642Z"
    },
    "id": "F7zEDfFvTFDo",
    "papermill": {
     "duration": 0.071982,
     "end_time": "2023-08-15T00:31:18.051153",
     "exception": false,
     "start_time": "2023-08-15T00:31:17.979171",
     "status": "completed"
    },
    "tags": []
   },
   "outputs": [],
   "source": [
    "device = torch.device(\"cuda\" if torch.cuda.is_available() else \"cpu\")\n",
    "model = model.to(device)\n",
    "f1_score = f1_score.to(device)\n",
    "torch.cuda.empty_cache()"
   ]
  },
  {
   "cell_type": "markdown",
   "id": "0c6ba8df",
   "metadata": {
    "id": "E7mbVBoGTFDo",
    "papermill": {
     "duration": 0.049628,
     "end_time": "2023-08-15T00:31:18.151257",
     "exception": false,
     "start_time": "2023-08-15T00:31:18.101629",
     "status": "completed"
    },
    "tags": []
   },
   "source": [
    "## 3. Data processing format"
   ]
  },
  {
   "cell_type": "code",
   "execution_count": 43,
   "id": "2c6015a4",
   "metadata": {
    "ExecuteTime": {
     "end_time": "2023-08-14T17:24:25.785305Z",
     "start_time": "2023-08-14T17:24:25.745896Z"
    },
    "execution": {
     "iopub.execute_input": "2023-08-15T00:31:18.249428Z",
     "iopub.status.busy": "2023-08-15T00:31:18.248661Z",
     "iopub.status.idle": "2023-08-15T00:31:18.253498Z",
     "shell.execute_reply": "2023-08-15T00:31:18.252628Z"
    },
    "id": "7xJPcyHwTFDo",
    "papermill": {
     "duration": 0.058287,
     "end_time": "2023-08-15T00:31:18.257902",
     "exception": false,
     "start_time": "2023-08-15T00:31:18.199615",
     "status": "completed"
    },
    "tags": []
   },
   "outputs": [],
   "source": [
    "config.train_batch_size, config.val_batch_size = 128, 128"
   ]
  },
  {
   "cell_type": "code",
   "execution_count": 44,
   "id": "5ccabc6a",
   "metadata": {
    "ExecuteTime": {
     "end_time": "2023-08-14T17:24:26.180270Z",
     "start_time": "2023-08-14T17:24:26.147993Z"
    },
    "execution": {
     "iopub.execute_input": "2023-08-15T00:31:18.359517Z",
     "iopub.status.busy": "2023-08-15T00:31:18.359071Z",
     "iopub.status.idle": "2023-08-15T00:31:18.365112Z",
     "shell.execute_reply": "2023-08-15T00:31:18.364144Z"
    },
    "id": "IqrseI2gTFDo",
    "papermill": {
     "duration": 0.05993,
     "end_time": "2023-08-15T00:31:18.369693",
     "exception": false,
     "start_time": "2023-08-15T00:31:18.309763",
     "status": "completed"
    },
    "tags": []
   },
   "outputs": [],
   "source": [
    "train_dataloader = DataLoader(train_dataset,\n",
    "                              batch_size=config.train_batch_size,\n",
    "                              shuffle=True,\n",
    "                              num_workers=os.cpu_count() % 4,\n",
    ")"
   ]
  },
  {
   "cell_type": "code",
   "execution_count": 45,
   "id": "577a0177",
   "metadata": {
    "ExecuteTime": {
     "end_time": "2023-08-14T17:24:26.456677Z",
     "start_time": "2023-08-14T17:24:26.378091Z"
    },
    "execution": {
     "iopub.execute_input": "2023-08-15T00:31:18.484408Z",
     "iopub.status.busy": "2023-08-15T00:31:18.483968Z",
     "iopub.status.idle": "2023-08-15T00:31:18.489522Z",
     "shell.execute_reply": "2023-08-15T00:31:18.488643Z"
    },
    "id": "GeiY7hELTFDo",
    "papermill": {
     "duration": 0.063028,
     "end_time": "2023-08-15T00:31:18.493861",
     "exception": false,
     "start_time": "2023-08-15T00:31:18.430833",
     "status": "completed"
    },
    "tags": []
   },
   "outputs": [],
   "source": [
    "test_dataloader = DataLoader(test_dataset,\n",
    "                              batch_size=config.val_batch_size,\n",
    "                              shuffle=False,\n",
    "                              num_workers=os.cpu_count() % 4,\n",
    ")"
   ]
  },
  {
   "cell_type": "markdown",
   "id": "1759c206",
   "metadata": {
    "papermill": {
     "duration": 0.053122,
     "end_time": "2023-08-15T00:31:18.597521",
     "exception": false,
     "start_time": "2023-08-15T00:31:18.544399",
     "status": "completed"
    },
    "tags": []
   },
   "source": [
    "# 5. Embeddings processing"
   ]
  },
  {
   "cell_type": "code",
   "execution_count": 46,
   "id": "be619fd3",
   "metadata": {
    "ExecuteTime": {
     "end_time": "2023-08-14T17:39:53.096957Z",
     "start_time": "2023-08-14T17:39:52.910951Z"
    },
    "collapsed": false,
    "execution": {
     "iopub.execute_input": "2023-08-15T00:31:18.698483Z",
     "iopub.status.busy": "2023-08-15T00:31:18.698060Z",
     "iopub.status.idle": "2023-08-15T00:31:18.709613Z",
     "shell.execute_reply": "2023-08-15T00:31:18.708720Z"
    },
    "jupyter": {
     "outputs_hidden": false
    },
    "papermill": {
     "duration": 0.065178,
     "end_time": "2023-08-15T00:31:18.712299",
     "exception": false,
     "start_time": "2023-08-15T00:31:18.647121",
     "status": "completed"
    },
    "tags": []
   },
   "outputs": [],
   "source": [
    "@torch.inference_mode()\n",
    "def get_embeddings(model, dataloader, device):\n",
    "    model.eval()\n",
    "    all_embeddings = []\n",
    "    all_labels = []\n",
    "\n",
    "    with tqdm(dataloader, desc=\"Processing\",unit=\"batch\") as process:\n",
    "        for images, labels in process:\n",
    "            images = images.to(device)\n",
    "            labels = labels.to(device)\n",
    "            embeddings = model(images)\n",
    "\n",
    "            all_embeddings.extend(tuple(embeddings.cpu().numpy()))\n",
    "            all_labels.extend(tuple(labels.cpu().numpy()))\n",
    "\n",
    "    return np.squeeze(np.array(all_embeddings)), np.array(all_labels)\n",
    "    return np.squeeze(np.array(embeddings))"
   ]
  },
  {
   "cell_type": "code",
   "execution_count": 47,
   "id": "4538e691",
   "metadata": {
    "collapsed": false,
    "execution": {
     "iopub.execute_input": "2023-08-15T00:31:18.814885Z",
     "iopub.status.busy": "2023-08-15T00:31:18.814274Z",
     "iopub.status.idle": "2023-08-15T00:31:18.819479Z",
     "shell.execute_reply": "2023-08-15T00:31:18.818593Z"
    },
    "jupyter": {
     "outputs_hidden": false
    },
    "papermill": {
     "duration": 0.062305,
     "end_time": "2023-08-15T00:31:18.824122",
     "exception": false,
     "start_time": "2023-08-15T00:31:18.761817",
     "status": "completed"
    },
    "tags": []
   },
   "outputs": [],
   "source": [
    "# embeddings_bag, labels = get_embeddings(model, test_dataloader, device)"
   ]
  },
  {
   "cell_type": "code",
   "execution_count": 48,
   "id": "a0e79325",
   "metadata": {
    "collapsed": false,
    "execution": {
     "iopub.execute_input": "2023-08-15T00:31:18.926620Z",
     "iopub.status.busy": "2023-08-15T00:31:18.926071Z",
     "iopub.status.idle": "2023-08-15T00:31:18.935156Z",
     "shell.execute_reply": "2023-08-15T00:31:18.934230Z"
    },
    "jupyter": {
     "outputs_hidden": false
    },
    "papermill": {
     "duration": 0.061032,
     "end_time": "2023-08-15T00:31:18.937833",
     "exception": false,
     "start_time": "2023-08-15T00:31:18.876801",
     "status": "completed"
    },
    "tags": []
   },
   "outputs": [],
   "source": [
    "def reduce_dimension(dimension, features, reduce_with='pca',) -> np.array:\n",
    "    \"\"\" Perform dimensionality reduction with PCA or t-SNE \"\"\"\n",
    "\n",
    "    assert reduce_with.lower() in ['pca', 'tsne']\n",
    "\n",
    "    if reduce_with.lower() == 'tsne':\n",
    "        reductor = TSNE(n_components=dimension, perplexity=2.0)\n",
    "    else: # PCA\n",
    "        reductor = PCA(n_components=dimension)\n",
    "\n",
    "    reduced_features = reductor.fit_transform(features)\n",
    "    return reduced_features"
   ]
  },
  {
   "cell_type": "code",
   "execution_count": 49,
   "id": "fbe0de35",
   "metadata": {
    "collapsed": false,
    "execution": {
     "iopub.execute_input": "2023-08-15T00:31:19.038269Z",
     "iopub.status.busy": "2023-08-15T00:31:19.037692Z",
     "iopub.status.idle": "2023-08-15T00:31:19.060499Z",
     "shell.execute_reply": "2023-08-15T00:31:19.059465Z"
    },
    "jupyter": {
     "outputs_hidden": false
    },
    "papermill": {
     "duration": 0.077492,
     "end_time": "2023-08-15T00:31:19.063353",
     "exception": false,
     "start_time": "2023-08-15T00:31:18.985861",
     "status": "completed"
    },
    "tags": []
   },
   "outputs": [],
   "source": [
    "def visualize_embeddings(embeddings, labels, reduce_with='pca', save_as: str=None,):\n",
    "    \"\"\"\n",
    "    To project the embeddings vectors onto a low-dimensional space (2d or 3d)\n",
    "    :param embeddings:\n",
    "    :param labels:\n",
    "    :param reduce_with:\n",
    "    :param save_as:\n",
    "    :return:\n",
    "    \"\"\"\n",
    "    assert reduce_with in ['pca', 'tsne']\n",
    "\n",
    "    embeddings = embeddings.squeeze()\n",
    "\n",
    "    embeddings_2d = reduce_dimension(\n",
    "        dimension=2,\n",
    "        features=embeddings,\n",
    "        reduce_with=reduce_with\n",
    "    )\n",
    "    embeddings_3d = reduce_dimension(\n",
    "        dimension=3,\n",
    "        features=embeddings,\n",
    "        reduce_with=reduce_with\n",
    "    )\n",
    "\n",
    "    # Plot the dots in 3D or 2D\n",
    "    fig = plt.figure(figsize=(16,6))\n",
    "    # ----------------------------------------------- #\n",
    "\n",
    "    # 2D\n",
    "    ax = fig.add_subplot(1,3,1)\n",
    "    dots = (embeddings_2d[:, 0], embeddings_2d[:, 1])\n",
    "    ax.scatter(*dots, c=labels, cmap='viridis')\n",
    "    ax.set_title('2D')\n",
    "    ax.set_xlabel('X')\n",
    "    ax.set_ylabel('Y')\n",
    "    # ----------------------------------------------- #\n",
    "\n",
    "    # Hypersphere\n",
    "    ax = fig.add_subplot(1,3,2, projection='3d')\n",
    "    r = 1.0  # Radius\n",
    "    pi = np.pi\n",
    "    cos = np.cos\n",
    "    sin = np.sin\n",
    "\n",
    "    # Surface\n",
    "    phi, theta = np.mgrid[0.0:pi:100j, 0.0:2.0*pi:100j]\n",
    "    x = r*sin(phi)*cos(theta)\n",
    "    y = r*sin(phi)*sin(theta)\n",
    "    z = r*cos(phi)\n",
    "    ax.plot_surface(\n",
    "        x, y, z,  rstride=1, cstride=1, color='w', alpha=0.3, linewidth=0\n",
    "    )\n",
    "\n",
    "    phi = embeddings_2d[:, 0] * 2 * pi\n",
    "    theta = (embeddings_2d[:, 1] - 0.5) * 2 * pi\n",
    "    # Embeddings dots\n",
    "    x = r * sin(theta) * cos(phi)\n",
    "    y = r * sin(theta) * sin(phi)\n",
    "    z = r * cos(theta)\n",
    "\n",
    "    dots = (x, y, z)\n",
    "    ax.scatter(*dots, c=labels, cmap='viridis', s=20)\n",
    "    ax.set_title('Sphere distribution')\n",
    "    ax.set_xlabel('X')\n",
    "    ax.set_ylabel('Y')\n",
    "    ax.set_zlabel('Z')\n",
    "    # ----------------------------------------------- #\n",
    "\n",
    "\n",
    "    # Simple 3D\n",
    "    ax = fig.add_subplot(1,3,3, projection='3d')\n",
    "    dots = (embeddings_3d[:, 0], embeddings_3d[:, 1], embeddings_3d[:, 2])\n",
    "    ax.scatter(*dots, c=labels, cmap='viridis')\n",
    "    ax.set_title('3D')\n",
    "    ax.set_xlabel('X')\n",
    "    ax.set_ylabel('Y')\n",
    "    ax.set_zlabel('Z')\n",
    "\n",
    "\n",
    "    if save_as:\n",
    "        plt.savefig(f'{save_as}.png')\n",
    "    plt.tight_layout()\n",
    "    plt.show()\n"
   ]
  },
  {
   "cell_type": "code",
   "execution_count": 50,
   "id": "d4b8ce0b",
   "metadata": {
    "collapsed": false,
    "execution": {
     "iopub.execute_input": "2023-08-15T00:31:19.172452Z",
     "iopub.status.busy": "2023-08-15T00:31:19.171902Z",
     "iopub.status.idle": "2023-08-15T00:31:19.177396Z",
     "shell.execute_reply": "2023-08-15T00:31:19.176439Z"
    },
    "jupyter": {
     "outputs_hidden": false
    },
    "papermill": {
     "duration": 0.064948,
     "end_time": "2023-08-15T00:31:19.182204",
     "exception": false,
     "start_time": "2023-08-15T00:31:19.117256",
     "status": "completed"
    },
    "tags": []
   },
   "outputs": [],
   "source": [
    "# visualize_embeddings(\n",
    "#     embeddings_bag[:100],\n",
    "#     labels[:100],\n",
    "#     reduce_with='tsne',\n",
    "#     # reduce_with='pca',\n",
    "# )"
   ]
  },
  {
   "cell_type": "markdown",
   "id": "6b2574f5",
   "metadata": {
    "id": "qCM07xVnTFDp",
    "papermill": {
     "duration": 0.048969,
     "end_time": "2023-08-15T00:31:19.283239",
     "exception": false,
     "start_time": "2023-08-15T00:31:19.234270",
     "status": "completed"
    },
    "tags": []
   },
   "source": [
    "# 5. Initialize the train process"
   ]
  },
  {
   "cell_type": "markdown",
   "id": "56d3ce74",
   "metadata": {
    "id": "afGGK718TFDp",
    "papermill": {
     "duration": 0.048143,
     "end_time": "2023-08-15T00:31:19.385460",
     "exception": false,
     "start_time": "2023-08-15T00:31:19.337317",
     "status": "completed"
    },
    "tags": []
   },
   "source": [
    "## 1. Functions to plot the result"
   ]
  },
  {
   "cell_type": "code",
   "execution_count": 51,
   "id": "6a194517",
   "metadata": {
    "ExecuteTime": {
     "end_time": "2023-08-12T09:39:36.314617Z",
     "start_time": "2023-08-12T09:39:36.184839Z"
    },
    "execution": {
     "iopub.execute_input": "2023-08-15T00:31:19.485178Z",
     "iopub.status.busy": "2023-08-15T00:31:19.484636Z",
     "iopub.status.idle": "2023-08-15T00:31:19.494090Z",
     "shell.execute_reply": "2023-08-15T00:31:19.493173Z"
    },
    "id": "QVJL1liGTFDp",
    "papermill": {
     "duration": 0.062724,
     "end_time": "2023-08-15T00:31:19.496861",
     "exception": false,
     "start_time": "2023-08-15T00:31:19.434137",
     "status": "completed"
    },
    "tags": []
   },
   "outputs": [],
   "source": [
    "def plot_two_curves(\n",
    "        title: str,\n",
    "        train_curve: list[float],\n",
    "        val_curve: list[float],\n",
    "\n",
    "):\n",
    "    plt.figure(figsize=(16, 8))\n",
    "    plt.title(title)\n",
    "    plt.plot(train_curve, label=f'Train {title}')\n",
    "    plt.plot(val_curve, label=f'Valid {title}')\n",
    "    plt.legend()\n",
    "    plt.grid()\n",
    "    plt.show()\n",
    "    #plt.savefig(title)"
   ]
  },
  {
   "cell_type": "code",
   "execution_count": 52,
   "id": "1d606e24",
   "metadata": {
    "ExecuteTime": {
     "end_time": "2023-08-12T09:41:59.670849Z",
     "start_time": "2023-08-12T09:41:59.575896Z"
    },
    "execution": {
     "iopub.execute_input": "2023-08-15T00:31:19.587529Z",
     "iopub.status.busy": "2023-08-15T00:31:19.587162Z",
     "iopub.status.idle": "2023-08-15T00:31:19.594403Z",
     "shell.execute_reply": "2023-08-15T00:31:19.593241Z"
    },
    "id": "GQrWiRJbTFDp",
    "papermill": {
     "duration": 0.049211,
     "end_time": "2023-08-15T00:31:19.596795",
     "exception": false,
     "start_time": "2023-08-15T00:31:19.547584",
     "status": "completed"
    },
    "tags": []
   },
   "outputs": [],
   "source": [
    "def plot_stats(\n",
    "        train_loss: list[float],\n",
    "        valid_loss: list[float],\n",
    "        train_accuracy: list[float]=None,\n",
    "        valid_accuracy: list[float]=None,\n",
    "        train_f1_score: list[float]=None,\n",
    "        valid_f1_score: list[float]=None,\n",
    "        title: str = None\n",
    "):\n",
    "    plot_two_curves(\n",
    "        'Loss',\n",
    "        train_loss,\n",
    "        valid_loss\n",
    "    )\n",
    "\n",
    "    if train_accuracy and valid_accuracy:\n",
    "        plot_two_curves(\n",
    "            'accuracy',\n",
    "            train_accuracy,\n",
    "            valid_accuracy\n",
    "        )\n",
    "\n",
    "    if train_f1_score and valid_f1_score:\n",
    "        plot_two_curves(\n",
    "            'F1 score',\n",
    "            train_f1_score,\n",
    "            valid_f1_score\n",
    "        )\n"
   ]
  },
  {
   "cell_type": "markdown",
   "id": "abab8c5d",
   "metadata": {
    "id": "ePLlKs4rTFDq",
    "papermill": {
     "duration": 0.036049,
     "end_time": "2023-08-15T00:31:19.670071",
     "exception": false,
     "start_time": "2023-08-15T00:31:19.634022",
     "status": "completed"
    },
    "tags": []
   },
   "source": [
    "## 2. Training and evaluation functions"
   ]
  },
  {
   "cell_type": "code",
   "execution_count": 53,
   "id": "7a4fbf41",
   "metadata": {
    "ExecuteTime": {
     "end_time": "2023-08-12T09:45:16.668278Z",
     "start_time": "2023-08-12T09:45:16.573930Z"
    },
    "execution": {
     "iopub.execute_input": "2023-08-15T00:31:19.743395Z",
     "iopub.status.busy": "2023-08-15T00:31:19.742291Z",
     "iopub.status.idle": "2023-08-15T00:31:19.753966Z",
     "shell.execute_reply": "2023-08-15T00:31:19.752672Z"
    },
    "id": "QObsYKNJTFDq",
    "jupyter": {
     "source_hidden": true
    },
    "papermill": {
     "duration": 0.050715,
     "end_time": "2023-08-15T00:31:19.756431",
     "exception": false,
     "start_time": "2023-08-15T00:31:19.705716",
     "status": "completed"
    },
    "tags": []
   },
   "outputs": [],
   "source": [
    "def train_one_epoch(model, dataloader, optimizer, criterion, device, epoch: str):\n",
    "    model.train()\n",
    "\n",
    "    train_loss = 0.0\n",
    "    train_correct = 0.0\n",
    "    train_f1 = 0.0\n",
    "    n_batches = 0\n",
    "    data_size = 0\n",
    "\n",
    "    with tqdm(dataloader, desc=f'Epoch: {epoch}', unit=\"batch\") as tepoch:\n",
    "        for images, labels in tepoch:\n",
    "            n_batches += 1\n",
    "            images = images.to(device)\n",
    "            labels = labels.to(device)\n",
    "\n",
    "            optimizer.zero_grad()\n",
    "\n",
    "            # Our model returns embeddings (instead of predictions).\n",
    "            embeddings = model(images)\n",
    "\n",
    "            # But we still want to calculate accuracy, so, we calculate probs it our ArcFace Function\n",
    "            probabilities = criterion(embeddings, labels)\n",
    "            loss = F.cross_entropy(probabilities, labels)\n",
    "            loss.backward()\n",
    "\n",
    "            optimizer.step()\n",
    "\n",
    "            loss = loss.item()  # item() extracts scalar\n",
    "            train_loss += loss\n",
    "\n",
    "            _, predicted = torch.max(probabilities, 1)\n",
    "\n",
    "            train_correct += (predicted == labels).sum().item()\n",
    "            data_size += labels.size(0)\n",
    "            train_accuracy = train_correct / data_size\n",
    "\n",
    "            f1 = f1_score(predicted, labels).item()\n",
    "            train_f1 += f1\n",
    "            tepoch.set_postfix(loss=loss, acc=train_accuracy)\n",
    "\n",
    "    train_loss /= n_batches\n",
    "    train_f1 /= n_batches\n",
    "    gc.collect()\n",
    "    torch.cuda.empty_cache()\n",
    "\n",
    "    return train_loss, train_accuracy, train_f1"
   ]
  },
  {
   "cell_type": "code",
   "execution_count": 54,
   "id": "2a70b621",
   "metadata": {
    "ExecuteTime": {
     "end_time": "2023-08-14T18:32:38.383222Z",
     "start_time": "2023-08-14T18:32:38.320822Z"
    },
    "execution": {
     "iopub.execute_input": "2023-08-15T00:31:19.828196Z",
     "iopub.status.busy": "2023-08-15T00:31:19.827805Z",
     "iopub.status.idle": "2023-08-15T00:31:19.838288Z",
     "shell.execute_reply": "2023-08-15T00:31:19.837196Z"
    },
    "id": "shn8rP6wTFDq",
    "jupyter": {
     "source_hidden": true
    },
    "papermill": {
     "duration": 0.050008,
     "end_time": "2023-08-15T00:31:19.840606",
     "exception": false,
     "start_time": "2023-08-15T00:31:19.790598",
     "status": "completed"
    },
    "tags": []
   },
   "outputs": [],
   "source": [
    "@torch.inference_mode()\n",
    "def validate_one_epoch(model, dataloader, criterion, device):\n",
    "    model.eval()\n",
    "\n",
    "    val_loss = 0.0\n",
    "    val_correct = 0.0\n",
    "    val_f1_score = 0.0\n",
    "    data_size = 0\n",
    "    n_batches = 0\n",
    "\n",
    "    with tqdm(dataloader, desc=\"Validation\",unit=\"batch\") as tepoch:\n",
    "        for images, labels in tepoch:\n",
    "            n_batches += 1\n",
    "            images = images.to(device)\n",
    "            labels = labels.to(device)\n",
    "            embeddings = model(images)\n",
    "\n",
    "            probabilities = criterion(embeddings, labels)\n",
    "            loss = F.cross_entropy(probabilities, labels).item()\n",
    "            val_loss += loss\n",
    "\n",
    "            _, predicted = torch.max(probabilities, 1)\n",
    "\n",
    "            correct = (predicted == labels).sum().item()\n",
    "            val_correct += correct\n",
    "            data_size += labels.size(0)\n",
    "            val_accuracy = val_correct / data_size\n",
    "\n",
    "            f1 = f1_score(predicted, labels).item()\n",
    "            val_f1_score += f1\n",
    "            tepoch.set_postfix(loss=loss, acc=val_accuracy)\n",
    "\n",
    "    val_loss /= n_batches\n",
    "    val_f1_score /= n_batches\n",
    "    gc.collect()\n",
    "    torch.cuda.empty_cache()\n",
    "\n",
    "    return val_loss, val_accuracy, val_f1_score"
   ]
  },
  {
   "cell_type": "markdown",
   "id": "c2cc84fe",
   "metadata": {
    "id": "1TWCVEGYTFDq",
    "papermill": {
     "duration": 0.035912,
     "end_time": "2023-08-15T00:31:19.912677",
     "exception": false,
     "start_time": "2023-08-15T00:31:19.876765",
     "status": "completed"
    },
    "tags": []
   },
   "source": [
    "## 3. Training cycle"
   ]
  },
  {
   "cell_type": "code",
   "execution_count": 55,
   "id": "ed06270a",
   "metadata": {
    "ExecuteTime": {
     "end_time": "2023-08-12T09:45:17.791357Z",
     "start_time": "2023-08-12T09:45:17.738181Z"
    },
    "execution": {
     "iopub.execute_input": "2023-08-15T00:31:19.984084Z",
     "iopub.status.busy": "2023-08-15T00:31:19.983707Z",
     "iopub.status.idle": "2023-08-15T00:31:19.997608Z",
     "shell.execute_reply": "2023-08-15T00:31:19.996624Z"
    },
    "id": "CXrp7xrOTFDu",
    "jupyter": {
     "source_hidden": true
    },
    "papermill": {
     "duration": 0.052209,
     "end_time": "2023-08-15T00:31:19.999644",
     "exception": false,
     "start_time": "2023-08-15T00:31:19.947435",
     "status": "completed"
    },
    "tags": []
   },
   "outputs": [],
   "source": [
    "def train_model(model, train_loader, val_loader,\n",
    "                criterion=None, optimizer=None, num_epochs=5,\n",
    "                scheduler=None, device=torch.device(\"cpu\"),\n",
    "                save_model_to=None, save_margin_parameters_to=None):\n",
    "    since = time.time()\n",
    "\n",
    "    train_loss_history, valid_loss_history = [], []\n",
    "    train_acc_history, valid_acc_history = [], []\n",
    "    train_f1_history, valid_f1_history = [], []\n",
    "\n",
    "\n",
    "    # Create a temporary directory to save training checkpoints\n",
    "    with TemporaryDirectory() as tempdir:\n",
    "        best_model_params_path = os.path.join(tempdir, 'best_model_params.pt')\n",
    "\n",
    "        for epoch in range(num_epochs):\n",
    "            train_loss, train_accuracy, train_f1 = train_one_epoch(model, train_loader, optimizer, criterion, device, epoch=f'{epoch+1}/{num_epochs}')\n",
    "            val_loss, val_accuracy, val_f1 = validate_one_epoch(model, val_loader, criterion, device,)\n",
    "\n",
    "\n",
    "            print_highlighted(\n",
    "                f\"Loss: {val_loss:.4f} - Accuracy: {val_accuracy:.4f} - F1: {val_f1:.4f} - LR: {get_lr(optimizer)}\"\n",
    "            )\n",
    "\n",
    "            if not valid_loss_history or val_loss < valid_loss_history[-1]:\n",
    "                # If it's either first step (history is empty) or our weights are getting better\n",
    "                print_highlighted(\"New weights were applied.\\n\", bgcolor=Back.CYAN)\n",
    "                torch.save(model.state_dict(), best_model_params_path)\n",
    "\n",
    "            scheduler.step(val_loss)\n",
    "\n",
    "            train_loss_history.append(train_loss)\n",
    "            valid_loss_history.append(val_loss)\n",
    "            train_acc_history.append(train_accuracy)\n",
    "            valid_acc_history.append(val_accuracy)\n",
    "            train_f1_history.append(train_f1)\n",
    "            valid_f1_history.append(val_f1)\n",
    "\n",
    "            del train_loss\n",
    "            del val_loss\n",
    "            gc.collect()\n",
    "            torch.cuda.empty_cache()\n",
    "\n",
    "        time_elapsed = time.time() - since\n",
    "        print_highlighted(f'Training complete in {time_elapsed // 60:.0f}m {time_elapsed % 60:.0f}s')\n",
    "\n",
    "        # load best model weights\n",
    "        model.load_state_dict(torch.load(best_model_params_path))\n",
    "\n",
    "        if save_model_to:\n",
    "            torch.save(model, save_model_to)\n",
    "            print(f\"Model was saved to: {save_model_to}\")\n",
    "        if save_margin_parameters_to:\n",
    "            torch.save(criterion.state_dict(), save_margin_parameters_to)\n",
    "            print(f\"Loss Function weights were saved to: {save_margin_parameters_to}\")\n",
    "\n",
    "\n",
    "        history = dict(\n",
    "            train_loss=train_loss_history,\n",
    "            valid_loss=valid_loss_history,\n",
    "            train_accuracy=train_acc_history,\n",
    "            valid_accuracy=valid_acc_history,\n",
    "            train_f1_score=train_f1_history,\n",
    "            valid_f1_score=valid_f1_history,\n",
    "        )\n",
    "    return model, history"
   ]
  },
  {
   "cell_type": "markdown",
   "id": "7733d2b7",
   "metadata": {
    "id": "GV7CqxbwTFDu",
    "papermill": {
     "duration": 0.034108,
     "end_time": "2023-08-15T00:31:20.067141",
     "exception": false,
     "start_time": "2023-08-15T00:31:20.033033",
     "status": "completed"
    },
    "tags": []
   },
   "source": [
    "# 6. Hyperparametres"
   ]
  },
  {
   "cell_type": "markdown",
   "id": "b872c15e",
   "metadata": {
    "papermill": {
     "duration": 0.033457,
     "end_time": "2023-08-15T00:31:20.135062",
     "exception": false,
     "start_time": "2023-08-15T00:31:20.101605",
     "status": "completed"
    },
    "tags": []
   },
   "source": [
    "## 1. ArcFace Loss"
   ]
  },
  {
   "cell_type": "markdown",
   "id": "8379d041",
   "metadata": {
    "id": "zuQ9db32TFDv",
    "papermill": {
     "duration": 0.034233,
     "end_time": "2023-08-15T00:31:20.204348",
     "exception": false,
     "start_time": "2023-08-15T00:31:20.170115",
     "status": "completed"
    },
    "tags": []
   },
   "source": [
    "Custom Loss Function"
   ]
  },
  {
   "cell_type": "markdown",
   "id": "6cc21cad",
   "metadata": {
    "papermill": {
     "duration": 0.036535,
     "end_time": "2023-08-15T00:31:20.275071",
     "exception": false,
     "start_time": "2023-08-15T00:31:20.238536",
     "status": "completed"
    },
    "tags": []
   },
   "source": [
    "$$L = - \\frac{1}{N} \\sum_{i=1}^{N}\\; \\log \\frac{e^{s(\\cos(\\theta_{y_i} +m))}}\n",
    "{e^{s\\cos(\\theta_{y_i} +m)} + \\sum_{j=1, j\\neq {y_i}}^{n} e^{s\\cos(\\theta_{j})}}$$"
   ]
  },
  {
   "cell_type": "code",
   "execution_count": 56,
   "id": "873891f5",
   "metadata": {
    "ExecuteTime": {
     "end_time": "2023-08-14T18:38:19.714250Z",
     "start_time": "2023-08-14T18:38:19.606549Z"
    },
    "execution": {
     "iopub.execute_input": "2023-08-15T00:31:20.350637Z",
     "iopub.status.busy": "2023-08-15T00:31:20.350220Z",
     "iopub.status.idle": "2023-08-15T00:31:20.364057Z",
     "shell.execute_reply": "2023-08-15T00:31:20.363011Z"
    },
    "papermill": {
     "duration": 0.052982,
     "end_time": "2023-08-15T00:31:20.366532",
     "exception": false,
     "start_time": "2023-08-15T00:31:20.313550",
     "status": "completed"
    },
    "tags": []
   },
   "outputs": [],
   "source": [
    "class ArcMarginProduct(nn.Module):\n",
    "    r\"\"\"Implement of large margin arc distance: :\n",
    "        Args:\n",
    "            in_features: size of each input sample\n",
    "            out_features: size of each output sample\n",
    "            s: norm of input feature\n",
    "            m: margin\n",
    "\n",
    "            cos(theta + m)\n",
    "        \"\"\"\n",
    "    def __init__(self, in_features, out_features, s=30.0, m=0.50, easy_margin=False):\n",
    "        super(ArcMarginProduct, self).__init__()\n",
    "        self.in_features = in_features\n",
    "        self.out_features = out_features\n",
    "        self.s = s\n",
    "        self.m = m\n",
    "        self.weight = nn.Parameter(torch.ones([out_features, in_features], dtype=torch.float32, device=device))\n",
    "        nn.init.xavier_uniform_(self.weight)\n",
    "\n",
    "        self.easy_margin = easy_margin\n",
    "        self.cos_m = math.cos(m)\n",
    "        self.sin_m = math.sin(m)\n",
    "        self.th = math.cos(math.pi - m)\n",
    "        self.mm = math.sin(math.pi - m) * m\n",
    "\n",
    "    def forward(self, input, label):\n",
    "        # --------------------------- cos(theta) & phi(theta) ---------------------------\n",
    "        cosine = F.linear(F.normalize(input), F.normalize(self.weight))\n",
    "\n",
    "        sine = torch.sqrt((1.0 - torch.pow(cosine, 2)).clamp(0, 1))\n",
    "        phi = cosine * self.cos_m - sine * self.sin_m\n",
    "        \n",
    "        if self.easy_margin:\n",
    "            phi = torch.where(cosine > 0, phi, cosine)\n",
    "        else:\n",
    "            phi = torch.where(cosine > self.th, phi, cosine - self.mm)\n",
    "            \n",
    "#         print(\"PHI IS: \", phi)\n",
    "\n",
    "\n",
    "        # --------------------------- convert label to one-hot ---------------------------\n",
    "        # one_hot = torch.zeros(cosine.size(), requires_grad=True, device='cuda')\n",
    "        one_hot = torch.zeros(cosine.size(), device=device)\n",
    "        one_hot.scatter_(1, label.view(-1, 1).long(), 1)\n",
    "        # -------------torch.where(out_i = {x_i if condition_i else y_i) -------------\n",
    "        output = (one_hot * phi) + ((1.0 - one_hot) * cosine)  # you can use torch.where if your torch.__version__ is 0.4\n",
    "        output *= self.s\n",
    "        # loss = F.cross_entropy(output, label)\n",
    "\n",
    "        return output"
   ]
  },
  {
   "cell_type": "code",
   "execution_count": 57,
   "id": "3ac44a17",
   "metadata": {
    "ExecuteTime": {
     "end_time": "2023-08-14T18:37:40.360727Z",
     "start_time": "2023-08-14T18:37:40.121354Z"
    },
    "collapsed": false,
    "execution": {
     "iopub.execute_input": "2023-08-15T00:31:20.440452Z",
     "iopub.status.busy": "2023-08-15T00:31:20.439422Z",
     "iopub.status.idle": "2023-08-15T00:31:20.450914Z",
     "shell.execute_reply": "2023-08-15T00:31:20.449852Z"
    },
    "jupyter": {
     "outputs_hidden": false
    },
    "papermill": {
     "duration": 0.049514,
     "end_time": "2023-08-15T00:31:20.453181",
     "exception": false,
     "start_time": "2023-08-15T00:31:20.403667",
     "status": "completed"
    },
    "tags": []
   },
   "outputs": [],
   "source": [
    "class ArcFaceLoss(nn.Module):\n",
    "    def __init__(self, embedding_size, num_classes, margin=0.5, scale=64):\n",
    "        super().__init__()\n",
    "        self.embedding_size = embedding_size\n",
    "        self.num_classes = num_classes\n",
    "        self.margin = margin\n",
    "        self.scale = scale\n",
    "        self.weight = nn.Parameter(torch.ones([num_classes, embedding_size], dtype=torch.float32, device=device))\n",
    "        nn.init.xavier_uniform_(self.weight)\n",
    "        self.easy_margin = False\n",
    "        \n",
    "#         self.cos_m = math.cos(margin)\n",
    "#         self.sin_m = math.sin(margin)\n",
    "#         self.th = math.cos(math.pi - margin)\n",
    "#         self.mm = math.sin(math.pi - margin) * margin\n",
    "        \n",
    "    def forward(self, embeddings, labels):\n",
    "        # Normalize the embeddings and weights\n",
    "        labels = labels.to(torch.long)\n",
    "\n",
    "        embeddings = F.normalize(embeddings, dim=1)\n",
    "        weights = F.normalize(self.weight, dim=1)\n",
    "\n",
    "        # Compute the cosine similarity between embeddings and weights\n",
    "        cosine = F.linear(embeddings, weights)\n",
    "        \n",
    "        # Calculate the theta (angle) values for each class\n",
    "        theta = torch.acos(torch.clip(cosine, -1 + 1e-7, 1 - 1e-7))\n",
    "\n",
    "        # Apply the ArcFace margin and calculate logits\n",
    "        \n",
    "        one_hot_labels = F.one_hot(labels, self.num_classes)\n",
    "        \n",
    "#         target_logits = torch.cos(theta + self.margin)\n",
    "\n",
    "        # Easy margin\n",
    "        target_logits = torch.cos(theta + self.margin * (1 - one_hot_labels.float()))\n",
    "\n",
    "        logits = self.scale * torch.where(one_hot_labels.bool(), target_logits, cosine)\n",
    "\n",
    "        probabilities = F.softmax(logits, dim=1)\n",
    "        return probabilities  # We will calculate the cross-entropy loss later\n",
    "    "
   ]
  },
  {
   "cell_type": "code",
   "execution_count": 58,
   "id": "fd82886c",
   "metadata": {
    "ExecuteTime": {
     "end_time": "2023-08-14T18:38:22.324056Z",
     "start_time": "2023-08-14T18:38:22.291923Z"
    },
    "collapsed": false,
    "execution": {
     "iopub.execute_input": "2023-08-15T00:31:20.525855Z",
     "iopub.status.busy": "2023-08-15T00:31:20.523868Z",
     "iopub.status.idle": "2023-08-15T00:31:20.530191Z",
     "shell.execute_reply": "2023-08-15T00:31:20.529236Z"
    },
    "id": "PQ1_CTZaTFDw",
    "jupyter": {
     "outputs_hidden": false
    },
    "papermill": {
     "duration": 0.044887,
     "end_time": "2023-08-15T00:31:20.532367",
     "exception": false,
     "start_time": "2023-08-15T00:31:20.487480",
     "status": "completed"
    },
    "tags": []
   },
   "outputs": [],
   "source": [
    "# criterion3 = nn.CrossEntropyLoss()\n",
    "# # criterion = losses.ArcFaceLoss(\n",
    "# #     num_classes=config.num_of_classes,\n",
    "# #     embedding_size=config.embedding_size\n",
    "# # )\n",
    "# criterion2 = ArcMarginProduct(\n",
    "#     in_features=config.embedding_size, \n",
    "#     out_features=config.num_of_classes,\n",
    "# )"
   ]
  },
  {
   "cell_type": "code",
   "execution_count": 59,
   "id": "f6499462",
   "metadata": {
    "ExecuteTime": {
     "end_time": "2023-08-14T18:38:22.324056Z",
     "start_time": "2023-08-14T18:38:22.291923Z"
    },
    "collapsed": false,
    "execution": {
     "iopub.execute_input": "2023-08-15T00:31:20.604345Z",
     "iopub.status.busy": "2023-08-15T00:31:20.603947Z",
     "iopub.status.idle": "2023-08-15T00:31:20.638247Z",
     "shell.execute_reply": "2023-08-15T00:31:20.636965Z"
    },
    "id": "PQ1_CTZaTFDw",
    "jupyter": {
     "outputs_hidden": false
    },
    "papermill": {
     "duration": 0.074068,
     "end_time": "2023-08-15T00:31:20.641119",
     "exception": false,
     "start_time": "2023-08-15T00:31:20.567051",
     "status": "completed"
    },
    "tags": []
   },
   "outputs": [],
   "source": [
    "criterion = ArcFaceLoss(\n",
    "    embedding_size=config.embedding_size,\n",
    "    num_classes=config.num_of_classes,\n",
    ")\n",
    "try:\n",
    "    # Load weights\n",
    "    criterion.load_state_dict(torch.load('/kaggle/input/arcface-params-and-efficient/Trained_ArcLoss_parameters.pth'))\n",
    "except FileNotFoundError:\n",
    "    pass"
   ]
  },
  {
   "cell_type": "code",
   "execution_count": 60,
   "id": "ba68dacc",
   "metadata": {
    "ExecuteTime": {
     "end_time": "2023-08-14T18:37:40.800859Z",
     "start_time": "2023-08-14T18:37:40.612815Z"
    },
    "execution": {
     "iopub.execute_input": "2023-08-15T00:31:20.712258Z",
     "iopub.status.busy": "2023-08-15T00:31:20.711905Z",
     "iopub.status.idle": "2023-08-15T00:31:20.717016Z",
     "shell.execute_reply": "2023-08-15T00:31:20.715999Z"
    },
    "id": "HZAr_gPLTFDv",
    "papermill": {
     "duration": 0.043413,
     "end_time": "2023-08-15T00:31:20.719245",
     "exception": false,
     "start_time": "2023-08-15T00:31:20.675832",
     "status": "completed"
    },
    "tags": []
   },
   "outputs": [],
   "source": [
    "config.learning_rate = 5e-4\n",
    "config.epochs = 30\n",
    "config.weight_decay = 1e-7\n",
    "config.min_loss_delta = 0.05"
   ]
  },
  {
   "cell_type": "code",
   "execution_count": 61,
   "id": "8b966f6a",
   "metadata": {
    "ExecuteTime": {
     "end_time": "2023-08-12T09:45:19.609679Z",
     "start_time": "2023-08-12T09:45:19.518789Z"
    },
    "collapsed": false,
    "execution": {
     "iopub.execute_input": "2023-08-15T00:31:20.788476Z",
     "iopub.status.busy": "2023-08-15T00:31:20.787396Z",
     "iopub.status.idle": "2023-08-15T00:31:20.792695Z",
     "shell.execute_reply": "2023-08-15T00:31:20.791702Z"
    },
    "id": "XcMxhj2oTFDv",
    "jupyter": {
     "outputs_hidden": false
    },
    "papermill": {
     "duration": 0.042826,
     "end_time": "2023-08-15T00:31:20.795030",
     "exception": false,
     "start_time": "2023-08-15T00:31:20.752204",
     "status": "completed"
    },
    "tags": []
   },
   "outputs": [],
   "source": [
    "# optimizer = torch.optim.Adam(filter(lambda p: p.requires_grad, model.parameters()), lr=config.learning_rate, weight_decay = config.weight_decay)\n",
    "# optimizer = torch.optim.Adam(model.parameters(), lr=1e-3, weight_decay=0)\n",
    "# optimizer = torch.optim.SGD(model.parameters(), lr=config.learning_rate, momentum=0.8)\n",
    "# optimizer = torch.optim.Adam(model.parameters(), lr=1e-4)\n"
   ]
  },
  {
   "cell_type": "code",
   "execution_count": 62,
   "id": "53a6d8bb",
   "metadata": {
    "ExecuteTime": {
     "end_time": "2023-08-12T09:45:19.841589Z",
     "start_time": "2023-08-12T09:45:19.721449Z"
    },
    "execution": {
     "iopub.execute_input": "2023-08-15T00:31:20.866036Z",
     "iopub.status.busy": "2023-08-15T00:31:20.865676Z",
     "iopub.status.idle": "2023-08-15T00:31:20.873590Z",
     "shell.execute_reply": "2023-08-15T00:31:20.872548Z"
    },
    "papermill": {
     "duration": 0.046126,
     "end_time": "2023-08-15T00:31:20.875913",
     "exception": false,
     "start_time": "2023-08-15T00:31:20.829787",
     "status": "completed"
    },
    "tags": []
   },
   "outputs": [],
   "source": [
    "optimizer = torch.optim.Adam(\n",
    "    [\n",
    "    {'params': filter(lambda p: p.requires_grad, model.features.parameters())},\n",
    "    {'params': model.classifier.parameters()},\n",
    "    {'params': criterion.parameters(), 'lr': 0.01}\n",
    "    ],\n",
    "    lr=config.learning_rate, \n",
    "    weight_decay = config.weight_decay)\n"
   ]
  },
  {
   "cell_type": "code",
   "execution_count": 63,
   "id": "ccf1cc2e",
   "metadata": {
    "ExecuteTime": {
     "end_time": "2023-08-12T09:45:20.026072Z",
     "start_time": "2023-08-12T09:45:19.913380Z"
    },
    "collapsed": false,
    "execution": {
     "iopub.execute_input": "2023-08-15T00:31:20.946068Z",
     "iopub.status.busy": "2023-08-15T00:31:20.945146Z",
     "iopub.status.idle": "2023-08-15T00:31:20.951060Z",
     "shell.execute_reply": "2023-08-15T00:31:20.950182Z"
    },
    "id": "mb4RgCFlTFDw",
    "jupyter": {
     "outputs_hidden": false
    },
    "papermill": {
     "duration": 0.043246,
     "end_time": "2023-08-15T00:31:20.953241",
     "exception": false,
     "start_time": "2023-08-15T00:31:20.909995",
     "status": "completed"
    },
    "tags": []
   },
   "outputs": [],
   "source": [
    "# scheduler = optim.lr_scheduler.StepLR(optimizer, step_size=2, gamma=0.5, verbose=False)\n",
    "\n",
    "\n",
    "scheduler = optim.lr_scheduler.ReduceLROnPlateau(\n",
    "    optimizer, 'min', patience = 5, factor=0.5, \n",
    "    min_lr=config.min_lr , verbose=False,\n",
    "    threshold = config.min_loss_delta\n",
    ")\n",
    "\n",
    "\n",
    "# scheduler = optim.lr_scheduler.ExponentialLR(optimizer, gamma=0.5, verbose=False)\n",
    "# scheduler = optim.lr_scheduler.StepLR(optimizer=optimizer, step_size=10, gamma=0.5, verbose=False)"
   ]
  },
  {
   "cell_type": "code",
   "execution_count": 64,
   "id": "cadc2e9c",
   "metadata": {
    "ExecuteTime": {
     "end_time": "2023-08-12T09:45:20.325987Z",
     "start_time": "2023-08-12T09:45:20.120019Z"
    },
    "execution": {
     "iopub.execute_input": "2023-08-15T00:31:21.025719Z",
     "iopub.status.busy": "2023-08-15T00:31:21.024981Z",
     "iopub.status.idle": "2023-08-15T00:31:21.030329Z",
     "shell.execute_reply": "2023-08-15T00:31:21.029317Z"
    },
    "papermill": {
     "duration": 0.045321,
     "end_time": "2023-08-15T00:31:21.032992",
     "exception": false,
     "start_time": "2023-08-15T00:31:20.987671",
     "status": "completed"
    },
    "tags": []
   },
   "outputs": [],
   "source": [
    "def get_lr(optimizer):\n",
    "    \"\"\"\n",
    "    For some schedulers we don't have `get_last_lr()` method.\n",
    "    So, we will get last lr ourselves.\n",
    "    \"\"\"\n",
    "    return list(\n",
    "        [group['lr'] for group in optimizer.param_groups]\n",
    "    )"
   ]
  },
  {
   "cell_type": "code",
   "execution_count": 65,
   "id": "291d1208",
   "metadata": {
    "ExecuteTime": {
     "end_time": "2023-08-12T09:45:20.557725Z",
     "start_time": "2023-08-12T09:45:20.226714Z"
    },
    "execution": {
     "iopub.execute_input": "2023-08-15T00:31:21.106494Z",
     "iopub.status.busy": "2023-08-15T00:31:21.106117Z",
     "iopub.status.idle": "2023-08-15T00:31:21.112726Z",
     "shell.execute_reply": "2023-08-15T00:31:21.111800Z"
    },
    "papermill": {
     "duration": 0.045746,
     "end_time": "2023-08-15T00:31:21.114956",
     "exception": false,
     "start_time": "2023-08-15T00:31:21.069210",
     "status": "completed"
    },
    "tags": []
   },
   "outputs": [
    {
     "data": {
      "text/plain": [
       "[0.0005, 0.0005, 0.01]"
      ]
     },
     "execution_count": 65,
     "metadata": {},
     "output_type": "execute_result"
    }
   ],
   "source": [
    "get_lr(optimizer)"
   ]
  },
  {
   "cell_type": "markdown",
   "id": "d0de9c7b",
   "metadata": {
    "id": "CKuqXRwrTFDw",
    "papermill": {
     "duration": 0.034051,
     "end_time": "2023-08-15T00:31:21.184903",
     "exception": false,
     "start_time": "2023-08-15T00:31:21.150852",
     "status": "completed"
    },
    "tags": []
   },
   "source": [
    "# 7. Run the training process"
   ]
  },
  {
   "cell_type": "code",
   "execution_count": 66,
   "id": "e25a8f04",
   "metadata": {
    "execution": {
     "iopub.execute_input": "2023-08-15T00:31:21.254468Z",
     "iopub.status.busy": "2023-08-15T00:31:21.254060Z",
     "iopub.status.idle": "2023-08-15T00:31:21.258938Z",
     "shell.execute_reply": "2023-08-15T00:31:21.257789Z"
    },
    "papermill": {
     "duration": 0.042104,
     "end_time": "2023-08-15T00:31:21.261117",
     "exception": false,
     "start_time": "2023-08-15T00:31:21.219013",
     "status": "completed"
    },
    "tags": []
   },
   "outputs": [],
   "source": [
    "config.epochs = 40"
   ]
  },
  {
   "cell_type": "code",
   "execution_count": 67,
   "id": "3b36b0f0",
   "metadata": {
    "execution": {
     "iopub.execute_input": "2023-08-15T00:31:21.335409Z",
     "iopub.status.busy": "2023-08-15T00:31:21.335017Z",
     "iopub.status.idle": "2023-08-15T02:18:15.431014Z",
     "shell.execute_reply": "2023-08-15T02:18:15.428926Z"
    },
    "id": "9WxsyvplTFDw",
    "outputId": "de053f41-a9bb-49b4-ceec-4245ce71efe0",
    "papermill": {
     "duration": 6414.137058,
     "end_time": "2023-08-15T02:18:15.433484",
     "exception": false,
     "start_time": "2023-08-15T00:31:21.296426",
     "status": "completed"
    },
    "tags": []
   },
   "outputs": [
    {
     "name": "stderr",
     "output_type": "stream",
     "text": [
      "Epoch: 1/40: 100%|██████████| 171/171 [03:00<00:00,  1.06s/batch, acc=0.551, loss=5.82]\n",
      "Validation: 100%|██████████| 22/22 [00:17<00:00,  1.25batch/s, acc=0.681, loss=6.02]\n"
     ]
    },
    {
     "name": "stdout",
     "output_type": "stream",
     "text": [
      "\u001B[43mLoss: 5.9686 - Accuracy: 0.6814 - F1: 0.4366 - LR: [0.0005, 0.0005, 0.01]\u001B[0m\n",
      "\u001B[46mNew weights were applied.\n",
      "\u001B[0m\n"
     ]
    },
    {
     "name": "stderr",
     "output_type": "stream",
     "text": [
      "Epoch: 2/40: 100%|██████████| 171/171 [02:23<00:00,  1.19batch/s, acc=0.826, loss=5.82]\n",
      "Validation: 100%|██████████| 22/22 [00:12<00:00,  1.78batch/s, acc=0.71, loss=6]\n"
     ]
    },
    {
     "name": "stdout",
     "output_type": "stream",
     "text": [
      "\u001B[43mLoss: 5.9374 - Accuracy: 0.7099 - F1: 0.4764 - LR: [0.0005, 0.0005, 0.01]\u001B[0m\n",
      "\u001B[46mNew weights were applied.\n",
      "\u001B[0m\n"
     ]
    },
    {
     "name": "stderr",
     "output_type": "stream",
     "text": [
      "Epoch: 3/40: 100%|██████████| 171/171 [02:24<00:00,  1.18batch/s, acc=0.853, loss=5.87]\n",
      "Validation: 100%|██████████| 22/22 [00:12<00:00,  1.83batch/s, acc=0.742, loss=6.01]\n"
     ]
    },
    {
     "name": "stdout",
     "output_type": "stream",
     "text": [
      "\u001B[43mLoss: 5.9060 - Accuracy: 0.7423 - F1: 0.5088 - LR: [0.0005, 0.0005, 0.01]\u001B[0m\n",
      "\u001B[46mNew weights were applied.\n",
      "\u001B[0m\n"
     ]
    },
    {
     "name": "stderr",
     "output_type": "stream",
     "text": [
      "Epoch: 4/40: 100%|██████████| 171/171 [02:25<00:00,  1.18batch/s, acc=0.865, loss=5.83]\n",
      "Validation: 100%|██████████| 22/22 [00:12<00:00,  1.77batch/s, acc=0.747, loss=5.95]\n"
     ]
    },
    {
     "name": "stdout",
     "output_type": "stream",
     "text": [
      "\u001B[43mLoss: 5.8940 - Accuracy: 0.7467 - F1: 0.5154 - LR: [0.0005, 0.0005, 0.01]\u001B[0m\n",
      "\u001B[46mNew weights were applied.\n",
      "\u001B[0m\n"
     ]
    },
    {
     "name": "stderr",
     "output_type": "stream",
     "text": [
      "Epoch: 5/40: 100%|██████████| 171/171 [02:26<00:00,  1.17batch/s, acc=0.872, loss=5.76]\n",
      "Validation: 100%|██████████| 22/22 [00:12<00:00,  1.82batch/s, acc=0.763, loss=5.99]\n"
     ]
    },
    {
     "name": "stdout",
     "output_type": "stream",
     "text": [
      "\u001B[43mLoss: 5.8838 - Accuracy: 0.7632 - F1: 0.5463 - LR: [0.0005, 0.0005, 0.01]\u001B[0m\n",
      "\u001B[46mNew weights were applied.\n",
      "\u001B[0m\n"
     ]
    },
    {
     "name": "stderr",
     "output_type": "stream",
     "text": [
      "Epoch: 6/40: 100%|██████████| 171/171 [02:21<00:00,  1.21batch/s, acc=0.877, loss=5.81]\n",
      "Validation: 100%|██████████| 22/22 [00:12<00:00,  1.81batch/s, acc=0.761, loss=5.95]\n"
     ]
    },
    {
     "name": "stdout",
     "output_type": "stream",
     "text": [
      "\u001B[43mLoss: 5.8844 - Accuracy: 0.7607 - F1: 0.5399 - LR: [0.0005, 0.0005, 0.01]\u001B[0m\n"
     ]
    },
    {
     "name": "stderr",
     "output_type": "stream",
     "text": [
      "Epoch: 7/40: 100%|██████████| 171/171 [02:25<00:00,  1.18batch/s, acc=0.883, loss=5.65]\n",
      "Validation: 100%|██████████| 22/22 [00:11<00:00,  1.93batch/s, acc=0.748, loss=5.97]\n"
     ]
    },
    {
     "name": "stdout",
     "output_type": "stream",
     "text": [
      "\u001B[43mLoss: 5.8963 - Accuracy: 0.7485 - F1: 0.5152 - LR: [0.0005, 0.0005, 0.01]\u001B[0m\n"
     ]
    },
    {
     "name": "stderr",
     "output_type": "stream",
     "text": [
      "Epoch: 8/40: 100%|██████████| 171/171 [02:20<00:00,  1.22batch/s, acc=0.908, loss=5.69]\n",
      "Validation: 100%|██████████| 22/22 [00:11<00:00,  1.98batch/s, acc=0.802, loss=5.89]\n"
     ]
    },
    {
     "name": "stdout",
     "output_type": "stream",
     "text": [
      "\u001B[43mLoss: 5.8399 - Accuracy: 0.8018 - F1: 0.5951 - LR: [0.00025, 0.00025, 0.005]\u001B[0m\n",
      "\u001B[46mNew weights were applied.\n",
      "\u001B[0m\n"
     ]
    },
    {
     "name": "stderr",
     "output_type": "stream",
     "text": [
      "Epoch: 9/40: 100%|██████████| 171/171 [02:23<00:00,  1.19batch/s, acc=0.921, loss=5.72]\n",
      "Validation: 100%|██████████| 22/22 [00:11<00:00,  1.88batch/s, acc=0.816, loss=5.92]\n"
     ]
    },
    {
     "name": "stdout",
     "output_type": "stream",
     "text": [
      "\u001B[43mLoss: 5.8279 - Accuracy: 0.8159 - F1: 0.6226 - LR: [0.00025, 0.00025, 0.005]\u001B[0m\n",
      "\u001B[46mNew weights were applied.\n",
      "\u001B[0m\n"
     ]
    },
    {
     "name": "stderr",
     "output_type": "stream",
     "text": [
      "Epoch: 10/40: 100%|██████████| 171/171 [02:24<00:00,  1.18batch/s, acc=0.926, loss=5.74]\n",
      "Validation: 100%|██████████| 22/22 [00:11<00:00,  1.93batch/s, acc=0.812, loss=5.88]\n"
     ]
    },
    {
     "name": "stdout",
     "output_type": "stream",
     "text": [
      "\u001B[43mLoss: 5.8298 - Accuracy: 0.8115 - F1: 0.6039 - LR: [0.00025, 0.00025, 0.005]\u001B[0m\n"
     ]
    },
    {
     "name": "stderr",
     "output_type": "stream",
     "text": [
      "Epoch: 11/40: 100%|██████████| 171/171 [02:23<00:00,  1.19batch/s, acc=0.927, loss=5.67]\n",
      "Validation: 100%|██████████| 22/22 [00:11<00:00,  1.93batch/s, acc=0.819, loss=5.9]\n"
     ]
    },
    {
     "name": "stdout",
     "output_type": "stream",
     "text": [
      "\u001B[43mLoss: 5.8250 - Accuracy: 0.8191 - F1: 0.6220 - LR: [0.00025, 0.00025, 0.005]\u001B[0m\n",
      "\u001B[46mNew weights were applied.\n",
      "\u001B[0m\n"
     ]
    },
    {
     "name": "stderr",
     "output_type": "stream",
     "text": [
      "Epoch: 12/40: 100%|██████████| 171/171 [02:22<00:00,  1.20batch/s, acc=0.93, loss=5.74]\n",
      "Validation: 100%|██████████| 22/22 [00:11<00:00,  1.86batch/s, acc=0.815, loss=5.89]\n"
     ]
    },
    {
     "name": "stdout",
     "output_type": "stream",
     "text": [
      "\u001B[43mLoss: 5.8267 - Accuracy: 0.8155 - F1: 0.6186 - LR: [0.00025, 0.00025, 0.005]\u001B[0m\n"
     ]
    },
    {
     "name": "stderr",
     "output_type": "stream",
     "text": [
      "Epoch: 13/40: 100%|██████████| 171/171 [02:24<00:00,  1.19batch/s, acc=0.931, loss=5.7]\n",
      "Validation: 100%|██████████| 22/22 [00:12<00:00,  1.81batch/s, acc=0.812, loss=5.92]\n"
     ]
    },
    {
     "name": "stdout",
     "output_type": "stream",
     "text": [
      "\u001B[43mLoss: 5.8328 - Accuracy: 0.8115 - F1: 0.6176 - LR: [0.00025, 0.00025, 0.005]\u001B[0m\n"
     ]
    },
    {
     "name": "stderr",
     "output_type": "stream",
     "text": [
      "Epoch: 14/40: 100%|██████████| 171/171 [02:24<00:00,  1.19batch/s, acc=0.936, loss=5.83]\n",
      "Validation: 100%|██████████| 22/22 [00:11<00:00,  1.84batch/s, acc=0.821, loss=5.91]\n"
     ]
    },
    {
     "name": "stdout",
     "output_type": "stream",
     "text": [
      "\u001B[43mLoss: 5.8224 - Accuracy: 0.8205 - F1: 0.6335 - LR: [0.000125, 0.000125, 0.0025]\u001B[0m\n",
      "\u001B[46mNew weights were applied.\n",
      "\u001B[0m\n"
     ]
    },
    {
     "name": "stderr",
     "output_type": "stream",
     "text": [
      "Epoch: 15/40: 100%|██████████| 171/171 [02:24<00:00,  1.19batch/s, acc=0.939, loss=5.74]\n",
      "Validation: 100%|██████████| 22/22 [00:11<00:00,  1.85batch/s, acc=0.83, loss=5.9]\n"
     ]
    },
    {
     "name": "stdout",
     "output_type": "stream",
     "text": [
      "\u001B[43mLoss: 5.8126 - Accuracy: 0.8299 - F1: 0.6432 - LR: [0.000125, 0.000125, 0.0025]\u001B[0m\n",
      "\u001B[46mNew weights were applied.\n",
      "\u001B[0m\n"
     ]
    },
    {
     "name": "stderr",
     "output_type": "stream",
     "text": [
      "Epoch: 16/40: 100%|██████████| 171/171 [02:28<00:00,  1.15batch/s, acc=0.941, loss=5.71]\n",
      "Validation: 100%|██████████| 22/22 [00:12<00:00,  1.78batch/s, acc=0.829, loss=5.89]\n"
     ]
    },
    {
     "name": "stdout",
     "output_type": "stream",
     "text": [
      "\u001B[43mLoss: 5.8139 - Accuracy: 0.8288 - F1: 0.6438 - LR: [0.000125, 0.000125, 0.0025]\u001B[0m\n"
     ]
    },
    {
     "name": "stderr",
     "output_type": "stream",
     "text": [
      "Epoch: 17/40: 100%|██████████| 171/171 [02:24<00:00,  1.18batch/s, acc=0.942, loss=5.74]\n",
      "Validation: 100%|██████████| 22/22 [00:12<00:00,  1.78batch/s, acc=0.832, loss=5.88]\n"
     ]
    },
    {
     "name": "stdout",
     "output_type": "stream",
     "text": [
      "\u001B[43mLoss: 5.8109 - Accuracy: 0.8324 - F1: 0.6507 - LR: [0.000125, 0.000125, 0.0025]\u001B[0m\n",
      "\u001B[46mNew weights were applied.\n",
      "\u001B[0m\n"
     ]
    },
    {
     "name": "stderr",
     "output_type": "stream",
     "text": [
      "Epoch: 18/40: 100%|██████████| 171/171 [02:24<00:00,  1.18batch/s, acc=0.942, loss=5.77]\n",
      "Validation: 100%|██████████| 22/22 [00:12<00:00,  1.82batch/s, acc=0.834, loss=5.89]\n"
     ]
    },
    {
     "name": "stdout",
     "output_type": "stream",
     "text": [
      "\u001B[43mLoss: 5.8096 - Accuracy: 0.8339 - F1: 0.6548 - LR: [0.000125, 0.000125, 0.0025]\u001B[0m\n",
      "\u001B[46mNew weights were applied.\n",
      "\u001B[0m\n"
     ]
    },
    {
     "name": "stderr",
     "output_type": "stream",
     "text": [
      "Epoch: 19/40: 100%|██████████| 171/171 [02:24<00:00,  1.19batch/s, acc=0.941, loss=5.72]\n",
      "Validation: 100%|██████████| 22/22 [00:11<00:00,  1.85batch/s, acc=0.838, loss=5.89]\n"
     ]
    },
    {
     "name": "stdout",
     "output_type": "stream",
     "text": [
      "\u001B[43mLoss: 5.8079 - Accuracy: 0.8378 - F1: 0.6599 - LR: [0.000125, 0.000125, 0.0025]\u001B[0m\n",
      "\u001B[46mNew weights were applied.\n",
      "\u001B[0m\n"
     ]
    },
    {
     "name": "stderr",
     "output_type": "stream",
     "text": [
      "Epoch: 20/40: 100%|██████████| 171/171 [02:23<00:00,  1.19batch/s, acc=0.944, loss=5.72]\n",
      "Validation: 100%|██████████| 22/22 [00:11<00:00,  1.95batch/s, acc=0.84, loss=5.88]\n"
     ]
    },
    {
     "name": "stdout",
     "output_type": "stream",
     "text": [
      "\u001B[43mLoss: 5.8036 - Accuracy: 0.8396 - F1: 0.6617 - LR: [6.25e-05, 6.25e-05, 0.00125]\u001B[0m\n",
      "\u001B[46mNew weights were applied.\n",
      "\u001B[0m\n"
     ]
    },
    {
     "name": "stderr",
     "output_type": "stream",
     "text": [
      "Epoch: 21/40: 100%|██████████| 171/171 [02:28<00:00,  1.15batch/s, acc=0.945, loss=5.74]\n",
      "Validation: 100%|██████████| 22/22 [00:11<00:00,  1.98batch/s, acc=0.844, loss=5.87]\n"
     ]
    },
    {
     "name": "stdout",
     "output_type": "stream",
     "text": [
      "\u001B[43mLoss: 5.8011 - Accuracy: 0.8436 - F1: 0.6688 - LR: [6.25e-05, 6.25e-05, 0.00125]\u001B[0m\n",
      "\u001B[46mNew weights were applied.\n",
      "\u001B[0m\n"
     ]
    },
    {
     "name": "stderr",
     "output_type": "stream",
     "text": [
      "Epoch: 22/40: 100%|██████████| 171/171 [02:22<00:00,  1.20batch/s, acc=0.946, loss=5.71]\n",
      "Validation: 100%|██████████| 22/22 [00:11<00:00,  1.86batch/s, acc=0.845, loss=5.87]\n"
     ]
    },
    {
     "name": "stdout",
     "output_type": "stream",
     "text": [
      "\u001B[43mLoss: 5.8000 - Accuracy: 0.8447 - F1: 0.6732 - LR: [6.25e-05, 6.25e-05, 0.00125]\u001B[0m\n",
      "\u001B[46mNew weights were applied.\n",
      "\u001B[0m\n"
     ]
    },
    {
     "name": "stderr",
     "output_type": "stream",
     "text": [
      "Epoch: 23/40: 100%|██████████| 171/171 [02:26<00:00,  1.17batch/s, acc=0.946, loss=5.78]\n",
      "Validation: 100%|██████████| 22/22 [00:11<00:00,  1.87batch/s, acc=0.84, loss=5.88]\n"
     ]
    },
    {
     "name": "stdout",
     "output_type": "stream",
     "text": [
      "\u001B[43mLoss: 5.8019 - Accuracy: 0.8400 - F1: 0.6639 - LR: [6.25e-05, 6.25e-05, 0.00125]\u001B[0m\n"
     ]
    },
    {
     "name": "stderr",
     "output_type": "stream",
     "text": [
      "Epoch: 24/40: 100%|██████████| 171/171 [02:26<00:00,  1.17batch/s, acc=0.947, loss=5.74]\n",
      "Validation: 100%|██████████| 22/22 [00:11<00:00,  1.86batch/s, acc=0.839, loss=5.87]\n"
     ]
    },
    {
     "name": "stdout",
     "output_type": "stream",
     "text": [
      "\u001B[43mLoss: 5.8023 - Accuracy: 0.8393 - F1: 0.6601 - LR: [6.25e-05, 6.25e-05, 0.00125]\u001B[0m\n"
     ]
    },
    {
     "name": "stderr",
     "output_type": "stream",
     "text": [
      "Epoch: 25/40: 100%|██████████| 171/171 [02:25<00:00,  1.17batch/s, acc=0.947, loss=5.74]\n",
      "Validation: 100%|██████████| 22/22 [00:11<00:00,  1.98batch/s, acc=0.842, loss=5.85]\n"
     ]
    },
    {
     "name": "stdout",
     "output_type": "stream",
     "text": [
      "\u001B[43mLoss: 5.8007 - Accuracy: 0.8422 - F1: 0.6692 - LR: [6.25e-05, 6.25e-05, 0.00125]\u001B[0m\n",
      "\u001B[46mNew weights were applied.\n",
      "\u001B[0m\n"
     ]
    },
    {
     "name": "stderr",
     "output_type": "stream",
     "text": [
      "Epoch: 26/40: 100%|██████████| 171/171 [02:25<00:00,  1.18batch/s, acc=0.948, loss=5.73]\n",
      "Validation: 100%|██████████| 22/22 [00:11<00:00,  2.00batch/s, acc=0.842, loss=5.85]\n"
     ]
    },
    {
     "name": "stdout",
     "output_type": "stream",
     "text": [
      "\u001B[43mLoss: 5.7991 - Accuracy: 0.8422 - F1: 0.6678 - LR: [3.125e-05, 3.125e-05, 0.000625]\u001B[0m\n",
      "\u001B[46mNew weights were applied.\n",
      "\u001B[0m\n"
     ]
    },
    {
     "name": "stderr",
     "output_type": "stream",
     "text": [
      "Epoch: 27/40: 100%|██████████| 171/171 [02:24<00:00,  1.18batch/s, acc=0.948, loss=5.68]\n",
      "Validation: 100%|██████████| 22/22 [00:11<00:00,  1.93batch/s, acc=0.847, loss=5.86]\n"
     ]
    },
    {
     "name": "stdout",
     "output_type": "stream",
     "text": [
      "\u001B[43mLoss: 5.7964 - Accuracy: 0.8472 - F1: 0.6741 - LR: [3.125e-05, 3.125e-05, 0.000625]\u001B[0m\n",
      "\u001B[46mNew weights were applied.\n",
      "\u001B[0m\n"
     ]
    },
    {
     "name": "stderr",
     "output_type": "stream",
     "text": [
      "Epoch: 28/40: 100%|██████████| 171/171 [02:23<00:00,  1.20batch/s, acc=0.949, loss=5.7]\n",
      "Validation: 100%|██████████| 22/22 [00:11<00:00,  1.85batch/s, acc=0.843, loss=5.86]\n"
     ]
    },
    {
     "name": "stdout",
     "output_type": "stream",
     "text": [
      "\u001B[43mLoss: 5.7980 - Accuracy: 0.8432 - F1: 0.6659 - LR: [3.125e-05, 3.125e-05, 0.000625]\u001B[0m\n"
     ]
    },
    {
     "name": "stderr",
     "output_type": "stream",
     "text": [
      "Epoch: 29/40: 100%|██████████| 171/171 [02:26<00:00,  1.17batch/s, acc=0.949, loss=5.7]\n",
      "Validation: 100%|██████████| 22/22 [00:11<00:00,  1.92batch/s, acc=0.839, loss=5.88]\n"
     ]
    },
    {
     "name": "stdout",
     "output_type": "stream",
     "text": [
      "\u001B[43mLoss: 5.8014 - Accuracy: 0.8389 - F1: 0.6579 - LR: [3.125e-05, 3.125e-05, 0.000625]\u001B[0m\n"
     ]
    },
    {
     "name": "stderr",
     "output_type": "stream",
     "text": [
      "Epoch: 30/40: 100%|██████████| 171/171 [02:29<00:00,  1.15batch/s, acc=0.949, loss=5.73]\n",
      "Validation: 100%|██████████| 22/22 [00:11<00:00,  1.92batch/s, acc=0.844, loss=5.86]\n"
     ]
    },
    {
     "name": "stdout",
     "output_type": "stream",
     "text": [
      "\u001B[43mLoss: 5.7992 - Accuracy: 0.8440 - F1: 0.6682 - LR: [3.125e-05, 3.125e-05, 0.000625]\u001B[0m\n",
      "\u001B[46mNew weights were applied.\n",
      "\u001B[0m\n"
     ]
    },
    {
     "name": "stderr",
     "output_type": "stream",
     "text": [
      "Epoch: 31/40: 100%|██████████| 171/171 [02:27<00:00,  1.16batch/s, acc=0.949, loss=5.78]\n",
      "Validation: 100%|██████████| 22/22 [00:12<00:00,  1.83batch/s, acc=0.843, loss=5.86]\n"
     ]
    },
    {
     "name": "stdout",
     "output_type": "stream",
     "text": [
      "\u001B[43mLoss: 5.7983 - Accuracy: 0.8425 - F1: 0.6672 - LR: [3.125e-05, 3.125e-05, 0.000625]\u001B[0m\n",
      "\u001B[46mNew weights were applied.\n",
      "\u001B[0m\n"
     ]
    },
    {
     "name": "stderr",
     "output_type": "stream",
     "text": [
      "Epoch: 32/40: 100%|██████████| 171/171 [02:26<00:00,  1.17batch/s, acc=0.95, loss=5.67]\n",
      "Validation: 100%|██████████| 22/22 [00:12<00:00,  1.71batch/s, acc=0.843, loss=5.86]\n"
     ]
    },
    {
     "name": "stdout",
     "output_type": "stream",
     "text": [
      "\u001B[43mLoss: 5.7981 - Accuracy: 0.8425 - F1: 0.6663 - LR: [1.5625e-05, 1.5625e-05, 0.0003125]\u001B[0m\n",
      "\u001B[46mNew weights were applied.\n",
      "\u001B[0m\n"
     ]
    },
    {
     "name": "stderr",
     "output_type": "stream",
     "text": [
      "Epoch: 33/40: 100%|██████████| 171/171 [02:26<00:00,  1.16batch/s, acc=0.95, loss=5.64]\n",
      "Validation: 100%|██████████| 22/22 [00:13<00:00,  1.69batch/s, acc=0.846, loss=5.86]\n"
     ]
    },
    {
     "name": "stdout",
     "output_type": "stream",
     "text": [
      "\u001B[43mLoss: 5.7979 - Accuracy: 0.8461 - F1: 0.6728 - LR: [1.5625e-05, 1.5625e-05, 0.0003125]\u001B[0m\n",
      "\u001B[46mNew weights were applied.\n",
      "\u001B[0m\n"
     ]
    },
    {
     "name": "stderr",
     "output_type": "stream",
     "text": [
      "Epoch: 34/40: 100%|██████████| 171/171 [02:28<00:00,  1.15batch/s, acc=0.951, loss=5.67]\n",
      "Validation: 100%|██████████| 22/22 [00:12<00:00,  1.77batch/s, acc=0.845, loss=5.86]\n"
     ]
    },
    {
     "name": "stdout",
     "output_type": "stream",
     "text": [
      "\u001B[43mLoss: 5.7969 - Accuracy: 0.8450 - F1: 0.6698 - LR: [1.5625e-05, 1.5625e-05, 0.0003125]\u001B[0m\n",
      "\u001B[46mNew weights were applied.\n",
      "\u001B[0m\n"
     ]
    },
    {
     "name": "stderr",
     "output_type": "stream",
     "text": [
      "Epoch: 35/40: 100%|██████████| 171/171 [02:31<00:00,  1.13batch/s, acc=0.95, loss=5.67]\n",
      "Validation: 100%|██████████| 22/22 [00:12<00:00,  1.82batch/s, acc=0.842, loss=5.85]\n"
     ]
    },
    {
     "name": "stdout",
     "output_type": "stream",
     "text": [
      "\u001B[43mLoss: 5.7979 - Accuracy: 0.8422 - F1: 0.6631 - LR: [1.5625e-05, 1.5625e-05, 0.0003125]\u001B[0m\n"
     ]
    },
    {
     "name": "stderr",
     "output_type": "stream",
     "text": [
      "Epoch: 36/40: 100%|██████████| 171/171 [02:30<00:00,  1.14batch/s, acc=0.951, loss=5.7]\n",
      "Validation: 100%|██████████| 22/22 [00:11<00:00,  1.89batch/s, acc=0.843, loss=5.85]\n"
     ]
    },
    {
     "name": "stdout",
     "output_type": "stream",
     "text": [
      "\u001B[43mLoss: 5.7980 - Accuracy: 0.8425 - F1: 0.6704 - LR: [1.5625e-05, 1.5625e-05, 0.0003125]\u001B[0m\n"
     ]
    },
    {
     "name": "stderr",
     "output_type": "stream",
     "text": [
      "Epoch: 37/40: 100%|██████████| 171/171 [02:28<00:00,  1.15batch/s, acc=0.951, loss=5.68]\n",
      "Validation: 100%|██████████| 22/22 [00:12<00:00,  1.81batch/s, acc=0.843, loss=5.85]\n"
     ]
    },
    {
     "name": "stdout",
     "output_type": "stream",
     "text": [
      "\u001B[43mLoss: 5.7973 - Accuracy: 0.8425 - F1: 0.6721 - LR: [1.5625e-05, 1.5625e-05, 0.0003125]\u001B[0m\n",
      "\u001B[46mNew weights were applied.\n",
      "\u001B[0m\n"
     ]
    },
    {
     "name": "stderr",
     "output_type": "stream",
     "text": [
      "Epoch: 38/40: 100%|██████████| 171/171 [02:28<00:00,  1.15batch/s, acc=0.951, loss=5.74]\n",
      "Validation: 100%|██████████| 22/22 [00:11<00:00,  1.89batch/s, acc=0.847, loss=5.85]\n"
     ]
    },
    {
     "name": "stdout",
     "output_type": "stream",
     "text": [
      "\u001B[43mLoss: 5.7952 - Accuracy: 0.8472 - F1: 0.6773 - LR: [7.8125e-06, 7.8125e-06, 0.00015625]\u001B[0m\n",
      "\u001B[46mNew weights were applied.\n",
      "\u001B[0m\n"
     ]
    },
    {
     "name": "stderr",
     "output_type": "stream",
     "text": [
      "Epoch: 39/40: 100%|██████████| 171/171 [02:28<00:00,  1.15batch/s, acc=0.951, loss=5.7]\n",
      "Validation: 100%|██████████| 22/22 [00:11<00:00,  1.97batch/s, acc=0.846, loss=5.85]\n"
     ]
    },
    {
     "name": "stdout",
     "output_type": "stream",
     "text": [
      "\u001B[43mLoss: 5.7956 - Accuracy: 0.8458 - F1: 0.6764 - LR: [7.8125e-06, 7.8125e-06, 0.00015625]\u001B[0m\n"
     ]
    },
    {
     "name": "stderr",
     "output_type": "stream",
     "text": [
      "Epoch: 40/40: 100%|██████████| 171/171 [02:29<00:00,  1.14batch/s, acc=0.951, loss=5.71]\n",
      "Validation: 100%|██████████| 22/22 [00:11<00:00,  1.91batch/s, acc=0.846, loss=5.85]\n"
     ]
    },
    {
     "name": "stdout",
     "output_type": "stream",
     "text": [
      "\u001B[43mLoss: 5.7952 - Accuracy: 0.8458 - F1: 0.6755 - LR: [7.8125e-06, 7.8125e-06, 0.00015625]\u001B[0m\n",
      "\u001B[46mNew weights were applied.\n",
      "\u001B[0m\n",
      "\u001B[43mTraining complete in 106m 54s\u001B[0m\n",
      "Model was saved to: ArcFace_efficientnet_b0.pth\n",
      "Loss Function weights were saved to: Trained_ArcLoss_parameters.pth\n"
     ]
    }
   ],
   "source": [
    "model_file_name = f'ArcFace_{config.model_name}.pth'\n",
    "arcface_parameters = 'Trained_ArcLoss_parameters.pth'\n",
    "\n",
    "model, history = train_model(\n",
    "    model=model,\n",
    "    train_loader=train_dataloader,\n",
    "    val_loader=test_dataloader,\n",
    "    criterion=criterion,\n",
    "    optimizer=optimizer,\n",
    "    num_epochs=config.epochs,\n",
    "    device=device,\n",
    "    scheduler=scheduler,\n",
    "    save_model_to=model_file_name,\n",
    "    save_margin_parameters_to=arcface_parameters\n",
    " )"
   ]
  },
  {
   "cell_type": "code",
   "execution_count": 68,
   "id": "516b8524",
   "metadata": {
    "execution": {
     "iopub.execute_input": "2023-08-15T02:18:18.237188Z",
     "iopub.status.busy": "2023-08-15T02:18:18.236765Z",
     "iopub.status.idle": "2023-08-15T02:18:19.466610Z",
     "shell.execute_reply": "2023-08-15T02:18:19.465509Z"
    },
    "id": "7zTLOYTWTFDx",
    "papermill": {
     "duration": 2.677966,
     "end_time": "2023-08-15T02:18:19.469101",
     "exception": false,
     "start_time": "2023-08-15T02:18:16.791135",
     "status": "completed"
    },
    "tags": []
   },
   "outputs": [
    {
     "data": {
      "image/png": "[encoded data removed]",
      "text/plain": [
       "<Figure size 1600x800 with 1 Axes>"
      ]
     },
     "metadata": {},
     "output_type": "display_data"
    },
    {
     "data": {
      "image/png": "[encoded data removed]",
      "text/plain": [
       "<Figure size 1600x800 with 1 Axes>"
      ]
     },
     "metadata": {},
     "output_type": "display_data"
    },
    {
     "data": {
      "image/png": "[encoded data removed]",
      "text/plain": [
       "<Figure size 1600x800 with 1 Axes>"
      ]
     },
     "metadata": {},
     "output_type": "display_data"
    }
   ],
   "source": [
    "plot_stats(\n",
    "    **history,\n",
    "    title=f\"Model {config.model_name}\"\n",
    ")"
   ]
  },
  {
   "cell_type": "code",
   "execution_count": null,
   "id": "295740eb",
   "metadata": {
    "collapsed": false,
    "jupyter": {
     "outputs_hidden": false
    },
    "papermill": {
     "duration": 1.370692,
     "end_time": "2023-08-15T02:18:22.294644",
     "exception": false,
     "start_time": "2023-08-15T02:18:20.923952",
     "status": "completed"
    },
    "tags": []
   },
   "outputs": [],
   "source": []
  },
  {
   "cell_type": "markdown",
   "id": "d5a14e4d",
   "metadata": {
    "id": "kJcjndrnTFDx",
    "papermill": {
     "duration": 1.903789,
     "end_time": "2023-08-15T02:18:25.819712",
     "exception": false,
     "start_time": "2023-08-15T02:18:23.915923",
     "status": "completed"
    },
    "tags": []
   },
   "source": [
    "# 8. Result evaluation"
   ]
  },
  {
   "cell_type": "code",
   "execution_count": 69,
   "id": "71f07296",
   "metadata": {
    "execution": {
     "iopub.execute_input": "2023-08-15T02:18:28.655378Z",
     "iopub.status.busy": "2023-08-15T02:18:28.654683Z",
     "iopub.status.idle": "2023-08-15T02:18:39.565185Z",
     "shell.execute_reply": "2023-08-15T02:18:39.563907Z"
    },
    "papermill": {
     "duration": 12.278815,
     "end_time": "2023-08-15T02:18:39.567812",
     "exception": false,
     "start_time": "2023-08-15T02:18:27.288997",
     "status": "completed"
    },
    "tags": []
   },
   "outputs": [
    {
     "name": "stderr",
     "output_type": "stream",
     "text": [
      "Processing: 100%|██████████| 22/22 [00:10<00:00,  2.02batch/s]\n"
     ]
    }
   ],
   "source": [
    "embeddings_bag, labels = get_embeddings(model, test_dataloader, device)"
   ]
  },
  {
   "cell_type": "code",
   "execution_count": 70,
   "id": "610a2561",
   "metadata": {
    "collapsed": false,
    "execution": {
     "iopub.execute_input": "2023-08-15T02:18:42.357395Z",
     "iopub.status.busy": "2023-08-15T02:18:42.356974Z",
     "iopub.status.idle": "2023-08-15T02:18:49.650343Z",
     "shell.execute_reply": "2023-08-15T02:18:49.649430Z"
    },
    "jupyter": {
     "outputs_hidden": false
    },
    "papermill": {
     "duration": 8.664234,
     "end_time": "2023-08-15T02:18:49.656055",
     "exception": false,
     "start_time": "2023-08-15T02:18:40.991821",
     "status": "completed"
    },
    "tags": []
   },
   "outputs": [
    {
     "data": {
      "image/png": "[encoded data removed]",
      "text/plain": [
       "<Figure size 1600x600 with 3 Axes>"
      ]
     },
     "metadata": {},
     "output_type": "display_data"
    }
   ],
   "source": [
    "visualize_embeddings(\n",
    "    embeddings_bag[:300],\n",
    "    labels[:300],\n",
    "    reduce_with='tsne',\n",
    "    # reduce_with='pca',\n",
    ")"
   ]
  },
  {
   "cell_type": "code",
   "execution_count": 71,
   "id": "6dcd3c54",
   "metadata": {
    "ExecuteTime": {
     "end_time": "2023-08-14T18:42:57.174431Z",
     "start_time": "2023-08-14T18:42:57.071415Z"
    },
    "execution": {
     "iopub.execute_input": "2023-08-15T02:18:52.482241Z",
     "iopub.status.busy": "2023-08-15T02:18:52.481507Z",
     "iopub.status.idle": "2023-08-15T02:18:52.486212Z",
     "shell.execute_reply": "2023-08-15T02:18:52.485104Z"
    },
    "papermill": {
     "duration": 1.451006,
     "end_time": "2023-08-15T02:18:52.488554",
     "exception": false,
     "start_time": "2023-08-15T02:18:51.037548",
     "status": "completed"
    },
    "tags": []
   },
   "outputs": [],
   "source": [
    "# image = train_dataset[90][0].to(device)\n",
    "# lab = torch.unsqueeze(torch.tensor(train_dataset[90][1]).to(device).to(torch.long), dim=0)\n",
    "# model = model.to(device)\n",
    "#\n",
    "# criterion3(model(torch.unsqueeze(image, dim=0)), lab)"
   ]
  },
  {
   "cell_type": "code",
   "execution_count": 72,
   "id": "21952471",
   "metadata": {
    "execution": {
     "iopub.execute_input": "2023-08-15T02:18:55.330353Z",
     "iopub.status.busy": "2023-08-15T02:18:55.329403Z",
     "iopub.status.idle": "2023-08-15T02:19:07.010822Z",
     "shell.execute_reply": "2023-08-15T02:19:07.008119Z"
    },
    "id": "wk7eAo8cTFDx",
    "papermill": {
     "duration": 13.168084,
     "end_time": "2023-08-15T02:19:07.013318",
     "exception": false,
     "start_time": "2023-08-15T02:18:53.845234",
     "status": "completed"
    },
    "tags": []
   },
   "outputs": [
    {
     "name": "stderr",
     "output_type": "stream",
     "text": [
      "Processing: 100%|██████████| 22/22 [00:11<00:00,  1.89batch/s]"
     ]
    },
    {
     "name": "stdout",
     "output_type": "stream",
     "text": [
      "\u001B[43mManually calculated accuracy: 0.8457657657657658\u001B[0m\n"
     ]
    },
    {
     "name": "stderr",
     "output_type": "stream",
     "text": [
      "\n"
     ]
    }
   ],
   "source": [
    "model.eval()  # Set the model to evaluation mode\n",
    "predictions = []\n",
    "correct = 0\n",
    "total = 0\n",
    "\n",
    "with torch.no_grad():\n",
    "    with tqdm(test_dataloader, desc=\"Processing\",unit=\"batch\") as process:\n",
    "        for images, labels in process:\n",
    "            images = images.to(device)\n",
    "            labels = labels.to(device)\n",
    "            embeddings = model(images)\n",
    "            probabilities = criterion(embeddings, labels)\n",
    "            _, predicted = torch.max(probabilities, 1)\n",
    "            correct += (predicted == labels).sum().item()\n",
    "            total += labels.size(0)\n",
    "            \n",
    "            predictions.extend(predicted.cpu().numpy())\n",
    "\n",
    "            \n",
    "print_highlighted(f\"Manually calculated accuracy: {correct/total}\")"
   ]
  },
  {
   "cell_type": "code",
   "execution_count": 73,
   "id": "6541202e",
   "metadata": {
    "execution": {
     "iopub.execute_input": "2023-08-15T02:19:09.791121Z",
     "iopub.status.busy": "2023-08-15T02:19:09.790694Z",
     "iopub.status.idle": "2023-08-15T02:19:09.865598Z",
     "shell.execute_reply": "2023-08-15T02:19:09.863605Z"
    },
    "id": "q5VvToQGTFDy",
    "papermill": {
     "duration": 1.420916,
     "end_time": "2023-08-15T02:19:09.868236",
     "exception": false,
     "start_time": "2023-08-15T02:19:08.447320",
     "status": "completed"
    },
    "tags": []
   },
   "outputs": [
    {
     "data": {
      "text/html": [
       "<div>\n",
       "<style scoped>\n",
       "    .dataframe tbody tr th:only-of-type {\n",
       "        vertical-align: middle;\n",
       "    }\n",
       "\n",
       "    .dataframe tbody tr th {\n",
       "        vertical-align: top;\n",
       "    }\n",
       "\n",
       "    .dataframe thead th {\n",
       "        text-align: right;\n",
       "    }\n",
       "</style>\n",
       "<table border=\"1\" class=\"dataframe\">\n",
       "  <thead>\n",
       "    <tr style=\"text-align: right;\">\n",
       "      <th></th>\n",
       "      <th>precision</th>\n",
       "      <th>recall</th>\n",
       "      <th>f1-score</th>\n",
       "      <th>support</th>\n",
       "    </tr>\n",
       "  </thead>\n",
       "  <tbody>\n",
       "    <tr>\n",
       "      <th>0</th>\n",
       "      <td>1.000000</td>\n",
       "      <td>0.500000</td>\n",
       "      <td>0.666667</td>\n",
       "      <td>4.000000</td>\n",
       "    </tr>\n",
       "    <tr>\n",
       "      <th>1</th>\n",
       "      <td>1.000000</td>\n",
       "      <td>0.750000</td>\n",
       "      <td>0.857143</td>\n",
       "      <td>4.000000</td>\n",
       "    </tr>\n",
       "    <tr>\n",
       "      <th>2</th>\n",
       "      <td>0.750000</td>\n",
       "      <td>0.750000</td>\n",
       "      <td>0.750000</td>\n",
       "      <td>4.000000</td>\n",
       "    </tr>\n",
       "    <tr>\n",
       "      <th>3</th>\n",
       "      <td>0.600000</td>\n",
       "      <td>0.750000</td>\n",
       "      <td>0.666667</td>\n",
       "      <td>4.000000</td>\n",
       "    </tr>\n",
       "    <tr>\n",
       "      <th>4</th>\n",
       "      <td>1.000000</td>\n",
       "      <td>1.000000</td>\n",
       "      <td>1.000000</td>\n",
       "      <td>4.000000</td>\n",
       "    </tr>\n",
       "    <tr>\n",
       "      <th>...</th>\n",
       "      <td>...</td>\n",
       "      <td>...</td>\n",
       "      <td>...</td>\n",
       "      <td>...</td>\n",
       "    </tr>\n",
       "    <tr>\n",
       "      <th>758</th>\n",
       "      <td>0.600000</td>\n",
       "      <td>1.000000</td>\n",
       "      <td>0.750000</td>\n",
       "      <td>3.000000</td>\n",
       "    </tr>\n",
       "    <tr>\n",
       "      <th>759</th>\n",
       "      <td>1.000000</td>\n",
       "      <td>0.666667</td>\n",
       "      <td>0.800000</td>\n",
       "      <td>3.000000</td>\n",
       "    </tr>\n",
       "    <tr>\n",
       "      <th>accuracy</th>\n",
       "      <td>0.845766</td>\n",
       "      <td>0.845766</td>\n",
       "      <td>0.845766</td>\n",
       "      <td>0.845766</td>\n",
       "    </tr>\n",
       "    <tr>\n",
       "      <th>macro avg</th>\n",
       "      <td>0.833859</td>\n",
       "      <td>0.840884</td>\n",
       "      <td>0.821103</td>\n",
       "      <td>2775.000000</td>\n",
       "    </tr>\n",
       "    <tr>\n",
       "      <th>weighted avg</th>\n",
       "      <td>0.841789</td>\n",
       "      <td>0.845766</td>\n",
       "      <td>0.828142</td>\n",
       "      <td>2775.000000</td>\n",
       "    </tr>\n",
       "  </tbody>\n",
       "</table>\n",
       "<p>763 rows × 4 columns</p>\n",
       "</div>"
      ],
      "text/plain": [
       "              precision    recall  f1-score      support\n",
       "0              1.000000  0.500000  0.666667     4.000000\n",
       "1              1.000000  0.750000  0.857143     4.000000\n",
       "2              0.750000  0.750000  0.750000     4.000000\n",
       "3              0.600000  0.750000  0.666667     4.000000\n",
       "4              1.000000  1.000000  1.000000     4.000000\n",
       "...                 ...       ...       ...          ...\n",
       "758            0.600000  1.000000  0.750000     3.000000\n",
       "759            1.000000  0.666667  0.800000     3.000000\n",
       "accuracy       0.845766  0.845766  0.845766     0.845766\n",
       "macro avg      0.833859  0.840884  0.821103  2775.000000\n",
       "weighted avg   0.841789  0.845766  0.828142  2775.000000\n",
       "\n",
       "[763 rows x 4 columns]"
      ]
     },
     "execution_count": 73,
     "metadata": {},
     "output_type": "execute_result"
    }
   ],
   "source": [
    "c_report = classification_report(test_dataset.labels, np.array(predictions), output_dict=True, zero_division=0)\n",
    "c_report = pd.DataFrame(c_report).transpose()\n",
    "c_report"
   ]
  },
  {
   "cell_type": "code",
   "execution_count": 74,
   "id": "577ff99d",
   "metadata": {
    "execution": {
     "iopub.execute_input": "2023-08-15T02:19:12.707554Z",
     "iopub.status.busy": "2023-08-15T02:19:12.707178Z",
     "iopub.status.idle": "2023-08-15T02:19:12.720256Z",
     "shell.execute_reply": "2023-08-15T02:19:12.719052Z"
    },
    "id": "UJLtt_s6TFDy",
    "papermill": {
     "duration": 1.350917,
     "end_time": "2023-08-15T02:19:12.722584",
     "exception": false,
     "start_time": "2023-08-15T02:19:11.371667",
     "status": "completed"
    },
    "tags": []
   },
   "outputs": [
    {
     "data": {
      "text/plain": [
       "precision    0.878964\n",
       "recall       0.886369\n",
       "f1-score     0.865518\n",
       "support      3.665742\n",
       "dtype: float64"
      ]
     },
     "execution_count": 74,
     "metadata": {},
     "output_type": "execute_result"
    }
   ],
   "source": [
    "c_report[c_report['precision'] > 0][:-3].mean()"
   ]
  },
  {
   "cell_type": "code",
   "execution_count": 75,
   "id": "af2933f7",
   "metadata": {
    "execution": {
     "iopub.execute_input": "2023-08-15T02:19:15.521693Z",
     "iopub.status.busy": "2023-08-15T02:19:15.521288Z",
     "iopub.status.idle": "2023-08-15T02:19:15.530125Z",
     "shell.execute_reply": "2023-08-15T02:19:15.529061Z"
    },
    "id": "_Sw-oDmlTFDy",
    "papermill": {
     "duration": 1.467906,
     "end_time": "2023-08-15T02:19:15.532141",
     "exception": false,
     "start_time": "2023-08-15T02:19:14.064235",
     "status": "completed"
    },
    "tags": []
   },
   "outputs": [
    {
     "data": {
      "text/plain": [
       "0.8457657657657658"
      ]
     },
     "execution_count": 75,
     "metadata": {},
     "output_type": "execute_result"
    }
   ],
   "source": [
    "accuracy_score(test_dataset.labels, np.array(predictions))"
   ]
  },
  {
   "cell_type": "markdown",
   "id": "c72a8913",
   "metadata": {
    "papermill": {
     "duration": 1.352644,
     "end_time": "2023-08-15T02:19:18.328773",
     "exception": false,
     "start_time": "2023-08-15T02:19:16.976129",
     "status": "completed"
    },
    "tags": []
   },
   "source": [
    "To download the model, use code below:"
   ]
  },
  {
   "cell_type": "code",
   "execution_count": 76,
   "id": "43bdf385",
   "metadata": {
    "collapsed": false,
    "execution": {
     "iopub.execute_input": "2023-08-15T02:19:21.121306Z",
     "iopub.status.busy": "2023-08-15T02:19:21.120158Z",
     "iopub.status.idle": "2023-08-15T02:19:21.127577Z",
     "shell.execute_reply": "2023-08-15T02:19:21.126532Z"
    },
    "jupyter": {
     "outputs_hidden": false
    },
    "papermill": {
     "duration": 1.365124,
     "end_time": "2023-08-15T02:19:21.129770",
     "exception": false,
     "start_time": "2023-08-15T02:19:19.764646",
     "status": "completed"
    },
    "tags": []
   },
   "outputs": [
    {
     "data": {
      "text/html": [
       "<a href='ArcFace_efficientnet_b0.pth' target='_blank'>ArcFace_efficientnet_b0.pth</a><br>"
      ],
      "text/plain": [
       "/kaggle/working/ArcFace_efficientnet_b0.pth"
      ]
     },
     "execution_count": 76,
     "metadata": {},
     "output_type": "execute_result"
    }
   ],
   "source": [
    "from IPython.display import FileLink\n",
    "FileLink(model_file_name)"
   ]
  }
 ],
 "metadata": {
  "kernelspec": {
   "display_name": "Python 3",
   "language": "python",
   "name": "python3"
  },
  "language_info": {
   "codemirror_mode": {
    "name": "ipython",
    "version": 3
   },
   "file_extension": ".py",
   "mimetype": "text/x-python",
   "name": "python",
   "nbconvert_exporter": "python",
   "pygments_lexer": "ipython3",
   "version": "3.10.12"
  },
  "papermill": {
   "default_parameters": {},
   "duration": 6528.494304,
   "end_time": "2023-08-15T02:19:25.969145",
   "environment_variables": {},
   "exception": null,
   "input_path": "__notebook__.ipynb",
   "output_path": "__notebook__.ipynb",
   "parameters": {},
   "start_time": "2023-08-15T00:30:37.474841",
   "version": "2.4.0"
  }
 },
 "nbformat": 4,
 "nbformat_minor": 5
}
