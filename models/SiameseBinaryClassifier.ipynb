{
 "metadata": {
  "kernelspec": {
   "name": "yolo_torch",
   "language": "python",
   "display_name": "yolo_torch"
  },
  "language_info": {
   "codemirror_mode": {
    "name": "ipython",
    "version": 3
   },
   "file_extension": ".py",
   "mimetype": "text/x-python",
   "name": "python",
   "nbconvert_exporter": "python",
   "pygments_lexer": "ipython3",
   "version": "3.10.12"
  },
  "papermill": {
   "default_parameters": {},
   "duration": 3960.405937,
   "end_time": "2023-08-14T17:29:54.480893",
   "environment_variables": {},
   "exception": null,
   "input_path": "__notebook__.ipynb",
   "output_path": "__notebook__.ipynb",
   "parameters": {},
   "start_time": "2023-08-14T16:23:54.074956",
   "version": "2.4.0"
  }
 },
 "nbformat_minor": 5,
 "nbformat": 4,
 "cells": [
  {
   "cell_type": "markdown",
   "source": [
    "# Pairwise Binary classification with Deep Learning"
   ],
   "metadata": {
    "papermill": {
     "duration": 0.028248,
     "end_time": "2023-08-14T16:24:04.236116",
     "exception": false,
     "start_time": "2023-08-14T16:24:04.207868",
     "status": "completed"
    },
    "tags": []
   }
  },
  {
   "cell_type": "markdown",
   "source": [
    "In this notebook we will train Multilayer Perceptron Neural Network to detect whether two images are from same class (car brand) or not. To train Perceptron, we will use image embeddings got from trained CNN model (SOTA models such as MobileNet)."
   ],
   "metadata": {
    "papermill": {
     "duration": 0.0269,
     "end_time": "2023-08-14T16:24:04.291517",
     "exception": false,
     "start_time": "2023-08-14T16:24:04.264617",
     "status": "completed"
    },
    "tags": []
   }
  },
  {
   "cell_type": "markdown",
   "source": [
    "# 1. Set up"
   ],
   "metadata": {
    "id": "DRrvM2BPUG3T",
    "papermill": {
     "duration": 0.02718,
     "end_time": "2023-08-14T16:24:04.346391",
     "exception": false,
     "start_time": "2023-08-14T16:24:04.319211",
     "status": "completed"
    },
    "tags": []
   }
  },
  {
   "cell_type": "markdown",
   "source": [
    "## 1. Packages and requirements"
   ],
   "metadata": {
    "id": "G-cGfk5CTFDT",
    "papermill": {
     "duration": 0.026993,
     "end_time": "2023-08-14T16:24:04.400603",
     "exception": false,
     "start_time": "2023-08-14T16:24:04.373610",
     "status": "completed"
    },
    "tags": []
   }
  },
  {
   "cell_type": "code",
   "source": [
    "# Major builtin libraries\n",
    "import os\n",
    "import gc\n",
    "# import cv2\n",
    "# import math\n",
    "import time\n",
    "import random\n",
    "import typing as t\n",
    "from copy import deepcopy\n",
    "# from collections import defaultdict"
   ],
   "metadata": {
    "ExecuteTime": {
     "start_time": "2023-08-17T08:45:43.356450Z",
     "end_time": "2023-08-17T08:45:43.498519Z"
    },
    "id": "YJ1bPQE1TFDW",
    "papermill": {
     "duration": 0.044843,
     "end_time": "2023-08-14T16:24:04.472823",
     "exception": false,
     "start_time": "2023-08-14T16:24:04.427980",
     "status": "completed"
    },
    "tags": [],
    "execution": {
     "iopub.status.busy": "2023-08-16T09:46:41.312001Z",
     "iopub.execute_input": "2023-08-16T09:46:41.312937Z",
     "iopub.status.idle": "2023-08-16T09:46:41.326046Z",
     "shell.execute_reply.started": "2023-08-16T09:46:41.312887Z",
     "shell.execute_reply": "2023-08-16T09:46:41.324601Z"
    },
    "trusted": true
   },
   "execution_count": 1,
   "outputs": []
  },
  {
   "cell_type": "code",
   "source": [
    "# To work with Google Collab\n",
    "# from google.colab import drive\n",
    "# drive.mount('/content/drive/', force_remount=True)"
   ],
   "metadata": {
    "ExecuteTime": {
     "start_time": "2023-08-17T08:45:43.356985Z",
     "end_time": "2023-08-17T08:45:43.514131Z"
    },
    "id": "9byYPbwhTFDW",
    "outputId": "f21315f6-d034-4060-f927-1dfcc117d99b",
    "papermill": {
     "duration": 0.034871,
     "end_time": "2023-08-14T16:24:04.535286",
     "exception": false,
     "start_time": "2023-08-14T16:24:04.500415",
     "status": "completed"
    },
    "tags": [],
    "execution": {
     "iopub.status.busy": "2023-08-16T09:46:41.329564Z",
     "iopub.execute_input": "2023-08-16T09:46:41.330296Z",
     "iopub.status.idle": "2023-08-16T09:46:41.340791Z",
     "shell.execute_reply.started": "2023-08-16T09:46:41.330258Z",
     "shell.execute_reply": "2023-08-16T09:46:41.339724Z"
    },
    "trusted": true
   },
   "execution_count": 2,
   "outputs": []
  },
  {
   "cell_type": "code",
   "source": [
    "import warnings  # If you want to disable warnings\n",
    "warnings.filterwarnings(\"ignore\")\n",
    "\n",
    "# For descriptive error messages\n",
    "os.environ['CUDA_LAUNCH_BLOCKING'] = \"1\""
   ],
   "metadata": {
    "ExecuteTime": {
     "start_time": "2023-08-17T08:45:43.356985Z",
     "end_time": "2023-08-17T08:45:43.514131Z"
    },
    "id": "BwyVeWsUTFDX",
    "papermill": {
     "duration": 0.035469,
     "end_time": "2023-08-14T16:24:04.598152",
     "exception": false,
     "start_time": "2023-08-14T16:24:04.562683",
     "status": "completed"
    },
    "tags": [],
    "execution": {
     "iopub.status.busy": "2023-08-16T09:46:41.342344Z",
     "iopub.execute_input": "2023-08-16T09:46:41.343028Z",
     "iopub.status.idle": "2023-08-16T09:46:41.352040Z",
     "shell.execute_reply.started": "2023-08-16T09:46:41.342993Z",
     "shell.execute_reply": "2023-08-16T09:46:41.351074Z"
    },
    "trusted": true
   },
   "execution_count": 3,
   "outputs": []
  },
  {
   "cell_type": "code",
   "source": [
    "# Classic packages for data manipulation and visualization\n",
    "import numpy as np\n",
    "import pandas as pd\n",
    "import polars as pl\n",
    "import matplotlib.pyplot as plt"
   ],
   "metadata": {
    "ExecuteTime": {
     "start_time": "2023-08-17T08:45:43.373462Z",
     "end_time": "2023-08-17T08:45:45.771521Z"
    },
    "id": "AGRBRJORTFDX",
    "papermill": {
     "duration": 0.035178,
     "end_time": "2023-08-14T16:24:04.660718",
     "exception": false,
     "start_time": "2023-08-14T16:24:04.625540",
     "status": "completed"
    },
    "tags": [],
    "execution": {
     "iopub.status.busy": "2023-08-16T09:46:41.355310Z",
     "iopub.execute_input": "2023-08-16T09:46:41.356112Z",
     "iopub.status.idle": "2023-08-16T09:46:41.366172Z",
     "shell.execute_reply.started": "2023-08-16T09:46:41.356077Z",
     "shell.execute_reply": "2023-08-16T09:46:41.364730Z"
    },
    "trusted": true
   },
   "execution_count": 4,
   "outputs": []
  },
  {
   "cell_type": "code",
   "source": [
    "# Basic PyTorch\n",
    "import torch\n",
    "import torch.nn as nn\n",
    "import torch.optim as optim  # Optimization algorithms and dynamic learning rate adjusting\n",
    "import torch.nn.functional as F\n",
    "# from torch.nn.modules.loss import _Loss  # For writing a custom Loss function\n",
    "from torch.utils.data import DataLoader, Dataset  # For custom data presentation"
   ],
   "metadata": {
    "ExecuteTime": {
     "start_time": "2023-08-17T08:45:45.755867Z",
     "end_time": "2023-08-17T08:45:50.530692Z"
    },
    "id": "FXSN-XzxTFDX",
    "papermill": {
     "duration": 3.82041,
     "end_time": "2023-08-14T16:24:08.508190",
     "exception": false,
     "start_time": "2023-08-14T16:24:04.687780",
     "status": "completed"
    },
    "tags": [],
    "execution": {
     "iopub.status.busy": "2023-08-16T09:46:41.367840Z",
     "iopub.execute_input": "2023-08-16T09:46:41.368495Z",
     "iopub.status.idle": "2023-08-16T09:46:45.734823Z",
     "shell.execute_reply.started": "2023-08-16T09:46:41.368463Z",
     "shell.execute_reply": "2023-08-16T09:46:45.733611Z"
    },
    "trusted": true
   },
   "execution_count": 5,
   "outputs": []
  },
  {
   "cell_type": "code",
   "source": [
    "# Utils\n",
    "import joblib  # Pipelining, pickling (dump/load), parallel processing\n",
    "from tqdm import tqdm  # Progress bar for training process\n",
    "from tempfile import TemporaryDirectory\n",
    "\n",
    "# Classic ML tools\n",
    "from sklearn.preprocessing import LabelEncoder\n",
    "from sklearn.model_selection import StratifiedKFold  # Cross-Validation"
   ],
   "metadata": {
    "ExecuteTime": {
     "start_time": "2023-08-17T08:45:50.530692Z",
     "end_time": "2023-08-17T08:45:52.316306Z"
    },
    "id": "7QjRLiOzTFDY",
    "papermill": {
     "duration": 0.980731,
     "end_time": "2023-08-14T16:24:09.517905",
     "exception": false,
     "start_time": "2023-08-14T16:24:08.537174",
     "status": "completed"
    },
    "tags": [],
    "execution": {
     "iopub.status.busy": "2023-08-16T09:46:45.737975Z",
     "iopub.execute_input": "2023-08-16T09:46:45.738897Z",
     "iopub.status.idle": "2023-08-16T09:46:46.875866Z",
     "shell.execute_reply.started": "2023-08-16T09:46:45.738861Z",
     "shell.execute_reply": "2023-08-16T09:46:46.874550Z"
    },
    "trusted": true
   },
   "execution_count": 6,
   "outputs": []
  },
  {
   "cell_type": "code",
   "source": [
    "# !pip install torchmetrics colorama"
   ],
   "metadata": {
    "ExecuteTime": {
     "start_time": "2023-08-17T08:45:52.316306Z",
     "end_time": "2023-08-17T08:45:52.326131Z"
    },
    "id": "-iaQkd7xUuPW",
    "papermill": {
     "duration": 0.0374,
     "end_time": "2023-08-14T16:24:09.953398",
     "exception": false,
     "start_time": "2023-08-14T16:24:09.915998",
     "status": "completed"
    },
    "tags": [],
    "execution": {
     "iopub.status.busy": "2023-08-16T09:46:46.877823Z",
     "iopub.execute_input": "2023-08-16T09:46:46.878604Z",
     "iopub.status.idle": "2023-08-16T09:46:46.884736Z",
     "shell.execute_reply.started": "2023-08-16T09:46:46.878563Z",
     "shell.execute_reply": "2023-08-16T09:46:46.882818Z"
    },
    "trusted": true
   },
   "execution_count": 7,
   "outputs": []
  },
  {
   "cell_type": "code",
   "source": [
    "# ML Metrics\n",
    "from sklearn.metrics import accuracy_score\n",
    "from sklearn.metrics import classification_report\n",
    "from torchmetrics.classification import MulticlassF1Score # F1 metric for multiclass"
   ],
   "metadata": {
    "ExecuteTime": {
     "start_time": "2023-08-17T08:45:52.326131Z",
     "end_time": "2023-08-17T08:45:54.258168Z"
    },
    "id": "BuY4s3bsTFDZ",
    "papermill": {
     "duration": 10.177643,
     "end_time": "2023-08-14T16:24:20.158465",
     "exception": false,
     "start_time": "2023-08-14T16:24:09.980822",
     "status": "completed"
    },
    "tags": [],
    "execution": {
     "iopub.status.busy": "2023-08-16T09:46:46.886898Z",
     "iopub.execute_input": "2023-08-16T09:46:46.887650Z",
     "iopub.status.idle": "2023-08-16T09:46:58.497135Z",
     "shell.execute_reply.started": "2023-08-16T09:46:46.887615Z",
     "shell.execute_reply": "2023-08-16T09:46:58.495793Z"
    },
    "trusted": true
   },
   "execution_count": 8,
   "outputs": []
  },
  {
   "cell_type": "code",
   "source": [
    "# Torch Computer Vision tools for images processing\n",
    "from torchvision.io import read_image\n",
    "from torchvision.transforms.functional import to_pil_image, to_grayscale, to_tensor\n",
    "from torchvision import models  # Pretrained models"
   ],
   "metadata": {
    "ExecuteTime": {
     "start_time": "2023-08-17T08:45:54.268051Z",
     "end_time": "2023-08-17T08:45:54.268575Z"
    },
    "id": "FEKtt6X5TFDZ",
    "papermill": {
     "duration": 0.03877,
     "end_time": "2023-08-14T16:24:20.224798",
     "exception": false,
     "start_time": "2023-08-14T16:24:20.186028",
     "status": "completed"
    },
    "tags": [],
    "execution": {
     "iopub.status.busy": "2023-08-16T09:46:58.498786Z",
     "iopub.execute_input": "2023-08-16T09:46:58.499176Z",
     "iopub.status.idle": "2023-08-16T09:46:58.505251Z",
     "shell.execute_reply.started": "2023-08-16T09:46:58.499137Z",
     "shell.execute_reply": "2023-08-16T09:46:58.504146Z"
    },
    "trusted": true
   },
   "execution_count": 9,
   "outputs": []
  },
  {
   "cell_type": "code",
   "source": [
    "# Albumentations is an OS library for augmentations\n",
    "import albumentations as A\n",
    "from albumentations.pytorch import ToTensorV2\n",
    "# import torchvision.transforms as T  # We can use torch augmentations instead"
   ],
   "metadata": {
    "ExecuteTime": {
     "start_time": "2023-08-17T08:45:54.280199Z",
     "end_time": "2023-08-17T08:45:54.958236Z"
    },
    "id": "90C8yH1dTFDa",
    "papermill": {
     "duration": 0.930793,
     "end_time": "2023-08-14T16:24:21.182870",
     "exception": false,
     "start_time": "2023-08-14T16:24:20.252077",
     "status": "completed"
    },
    "tags": [],
    "execution": {
     "iopub.status.busy": "2023-08-16T09:46:58.506957Z",
     "iopub.execute_input": "2023-08-16T09:46:58.507756Z",
     "iopub.status.idle": "2023-08-16T09:46:59.595237Z",
     "shell.execute_reply.started": "2023-08-16T09:46:58.507703Z",
     "shell.execute_reply": "2023-08-16T09:46:59.594030Z"
    },
    "trusted": true
   },
   "execution_count": 10,
   "outputs": []
  },
  {
   "cell_type": "code",
   "source": [
    "# Output text colorizing\n",
    "from colorama import Back, Style\n",
    "\n",
    "def print_highlighted(text: str, bgcolor=Back.YELLOW) -> None:\n",
    "    \"\"\"\n",
    "    Function to print a text with colored background.\n",
    "    \"\"\"\n",
    "    print(bgcolor + text + Style.RESET_ALL)"
   ],
   "metadata": {
    "ExecuteTime": {
     "start_time": "2023-08-17T08:45:54.965026Z",
     "end_time": "2023-08-17T08:45:54.969677Z"
    },
    "collapsed": false,
    "id": "pF1AWOXTTFDa",
    "jupyter": {
     "outputs_hidden": false
    },
    "papermill": {
     "duration": 0.037099,
     "end_time": "2023-08-14T16:24:21.300878",
     "exception": false,
     "start_time": "2023-08-14T16:24:21.263779",
     "status": "completed"
    },
    "tags": [],
    "execution": {
     "iopub.status.busy": "2023-08-16T09:46:59.600436Z",
     "iopub.execute_input": "2023-08-16T09:46:59.600803Z",
     "iopub.status.idle": "2023-08-16T09:46:59.607812Z",
     "shell.execute_reply.started": "2023-08-16T09:46:59.600773Z",
     "shell.execute_reply": "2023-08-16T09:46:59.606309Z"
    },
    "trusted": true
   },
   "execution_count": 11,
   "outputs": []
  },
  {
   "cell_type": "code",
   "source": [
    "import wandb # MLOps platform to simplify and speed up the process of building ML models"
   ],
   "metadata": {
    "ExecuteTime": {
     "start_time": "2023-08-17T08:45:54.969677Z",
     "end_time": "2023-08-17T08:45:56.520689Z"
    },
    "collapsed": false,
    "id": "WHnMHaX_TFDb",
    "jupyter": {
     "outputs_hidden": false
    },
    "papermill": {
     "duration": 0.034479,
     "end_time": "2023-08-14T16:24:21.363117",
     "exception": false,
     "start_time": "2023-08-14T16:24:21.328638",
     "status": "completed"
    },
    "tags": [],
    "execution": {
     "iopub.status.busy": "2023-08-16T09:46:59.609689Z",
     "iopub.execute_input": "2023-08-16T09:46:59.610321Z",
     "iopub.status.idle": "2023-08-16T09:46:59.627000Z",
     "shell.execute_reply.started": "2023-08-16T09:46:59.610286Z",
     "shell.execute_reply": "2023-08-16T09:46:59.625943Z"
    },
    "trusted": true
   },
   "execution_count": 12,
   "outputs": []
  },
  {
   "cell_type": "code",
   "source": [
    "wandb.login() # We log in via pop-up,\n",
    "# wandb.login(key=api_key)  # but you can also log in manually with function args"
   ],
   "metadata": {
    "ExecuteTime": {
     "start_time": "2023-08-17T08:45:56.540886Z",
     "end_time": "2023-08-17T08:46:03.608995Z"
    },
    "collapsed": false,
    "id": "1zarBgpbTFDb",
    "jupyter": {
     "outputs_hidden": false
    },
    "papermill": {
     "duration": 0.034968,
     "end_time": "2023-08-14T16:24:21.425112",
     "exception": false,
     "start_time": "2023-08-14T16:24:21.390144",
     "status": "completed"
    },
    "tags": [],
    "execution": {
     "iopub.status.busy": "2023-08-16T09:46:59.628449Z",
     "iopub.execute_input": "2023-08-16T09:46:59.628872Z",
     "iopub.status.idle": "2023-08-16T09:47:20.983784Z",
     "shell.execute_reply.started": "2023-08-16T09:46:59.628818Z",
     "shell.execute_reply": "2023-08-16T09:47:20.982636Z"
    },
    "trusted": true
   },
   "execution_count": 13,
   "outputs": [
    {
     "name": "stderr",
     "output_type": "stream",
     "text": [
      "\u001B[34m\u001B[1mwandb\u001B[0m: Currently logged in as: \u001B[33mremainedmind\u001B[0m. Use \u001B[1m`wandb login --relogin`\u001B[0m to force relogin\n"
     ]
    },
    {
     "data": {
      "text/plain": "True"
     },
     "execution_count": 13,
     "metadata": {},
     "output_type": "execute_result"
    }
   ]
  },
  {
   "cell_type": "markdown",
   "source": [
    "## 2. Configuration"
   ],
   "metadata": {
    "id": "YuquAHEkTFDb",
    "papermill": {
     "duration": 0.026802,
     "end_time": "2023-08-14T16:24:21.479509",
     "exception": false,
     "start_time": "2023-08-14T16:24:21.452707",
     "status": "completed"
    },
    "tags": []
   }
  },
  {
   "cell_type": "code",
   "source": [
    "CONFIG = {\n",
    "    \"seed\": 2306,\n",
    "    # \"epochs\": 20,\n",
    "    \"image_dimension\": 256,  # Depends on pretrained model used\n",
    "    \"model_name\": \"SiamesePerceptron\",  # Pretrained model we will use\n",
    "    \"embedding_size\": 512,  # Embedding output size\n",
    "    \"train_batch_size\": 200,\n",
    "    \"val_batch_size\": 400,\n",
    "    \"learning_rate\": 1e-3,\n",
    "    \"min_lr\": 1e-8,\n",
    "    \"min_loss_delta\": 1e-7, # To stop training on plateau\n",
    "    \"weight_decay\": 1e-7,\n",
    "\n",
    "}"
   ],
   "metadata": {
    "ExecuteTime": {
     "start_time": "2023-08-17T08:46:03.631211Z",
     "end_time": "2023-08-17T08:46:03.730176Z"
    },
    "id": "JC-SbC9zTFDb",
    "papermill": {
     "duration": 0.036674,
     "end_time": "2023-08-14T16:24:21.543459",
     "exception": false,
     "start_time": "2023-08-14T16:24:21.506785",
     "status": "completed"
    },
    "tags": [],
    "execution": {
     "iopub.status.busy": "2023-08-16T09:47:20.985129Z",
     "iopub.execute_input": "2023-08-16T09:47:20.986019Z",
     "iopub.status.idle": "2023-08-16T09:47:20.992446Z",
     "shell.execute_reply.started": "2023-08-16T09:47:20.985981Z",
     "shell.execute_reply": "2023-08-16T09:47:20.991541Z"
    },
    "trusted": true
   },
   "execution_count": 14,
   "outputs": []
  },
  {
   "cell_type": "code",
   "source": [
    "wandb_run = wandb.init(project=\"binary-classification-project\", config=CONFIG)"
   ],
   "metadata": {
    "collapsed": false,
    "ExecuteTime": {
     "start_time": "2023-08-17T08:46:03.651942Z",
     "end_time": "2023-08-17T08:46:05.873712Z"
    },
    "jupyter": {
     "outputs_hidden": false
    },
    "execution": {
     "iopub.status.busy": "2023-08-16T09:47:20.993970Z",
     "iopub.execute_input": "2023-08-16T09:47:20.994843Z",
     "iopub.status.idle": "2023-08-16T09:47:51.985947Z",
     "shell.execute_reply.started": "2023-08-16T09:47:20.994809Z",
     "shell.execute_reply": "2023-08-16T09:47:51.985036Z"
    },
    "trusted": true
   },
   "execution_count": 15,
   "outputs": [
    {
     "data": {
      "text/plain": "<IPython.core.display.HTML object>",
      "text/html": "Tracking run with wandb version 0.15.8"
     },
     "metadata": {},
     "output_type": "display_data"
    },
    {
     "data": {
      "text/plain": "<IPython.core.display.HTML object>",
      "text/html": "Run data is saved locally in <code>D:\\possessor\\Documents\\ESSE\\IT\\ML\\CV\\Statanly_Internship\\Projects\\car-brand-detection\\models\\wandb\\run-20230817_084603-b0erf59a</code>"
     },
     "metadata": {},
     "output_type": "display_data"
    },
    {
     "data": {
      "text/plain": "<IPython.core.display.HTML object>",
      "text/html": "Syncing run <strong><a href='https://wandb.ai/remainedmind/binary-classification-project/runs/b0erf59a' target=\"_blank\">colorful-tree-7</a></strong> to <a href='https://wandb.ai/remainedmind/binary-classification-project' target=\"_blank\">Weights & Biases</a> (<a href='https://wandb.me/run' target=\"_blank\">docs</a>)<br/>"
     },
     "metadata": {},
     "output_type": "display_data"
    },
    {
     "data": {
      "text/plain": "<IPython.core.display.HTML object>",
      "text/html": " View project at <a href='https://wandb.ai/remainedmind/binary-classification-project' target=\"_blank\">https://wandb.ai/remainedmind/binary-classification-project</a>"
     },
     "metadata": {},
     "output_type": "display_data"
    },
    {
     "data": {
      "text/plain": "<IPython.core.display.HTML object>",
      "text/html": " View run at <a href='https://wandb.ai/remainedmind/binary-classification-project/runs/b0erf59a' target=\"_blank\">https://wandb.ai/remainedmind/binary-classification-project/runs/b0erf59a</a>"
     },
     "metadata": {},
     "output_type": "display_data"
    }
   ]
  },
  {
   "cell_type": "code",
   "source": [
    "config = wandb.config\n",
    "del CONFIG"
   ],
   "metadata": {
    "collapsed": false,
    "ExecuteTime": {
     "start_time": "2023-08-17T08:46:05.824320Z",
     "end_time": "2023-08-17T08:46:05.873712Z"
    },
    "jupyter": {
     "outputs_hidden": false
    },
    "execution": {
     "iopub.status.busy": "2023-08-16T09:47:51.987436Z",
     "iopub.execute_input": "2023-08-16T09:47:51.987997Z",
     "iopub.status.idle": "2023-08-16T09:47:51.995305Z",
     "shell.execute_reply.started": "2023-08-16T09:47:51.987962Z",
     "shell.execute_reply": "2023-08-16T09:47:51.994380Z"
    },
    "trusted": true
   },
   "execution_count": 16,
   "outputs": []
  },
  {
   "cell_type": "markdown",
   "source": [
    "Set Seed for Reproducibility"
   ],
   "metadata": {
    "id": "kotMeU-OTFDc",
    "papermill": {
     "duration": 0.027693,
     "end_time": "2023-08-14T16:24:21.791364",
     "exception": false,
     "start_time": "2023-08-14T16:24:21.763671",
     "status": "completed"
    },
    "tags": []
   }
  },
  {
   "cell_type": "code",
   "source": [
    "def set_seed(seed=42):\n",
    "    \"\"\"\n",
    "    Sets the seed of the entire notebook so results are the same every time we run.\n",
    "    This is for REPRODUCIBILITY.\n",
    "    \"\"\"\n",
    "    np.random.seed(seed)\n",
    "    torch.manual_seed(seed)\n",
    "\n",
    "    # When running on the CuDNN backend, two further options must be set\n",
    "    # torch.backends.cudnn.deterministic = True\n",
    "    # torch.backends.cudnn.benchmark = False  # When False, this option makes CUDA reproducible, BUT the performance might suffer\n",
    "\n",
    "    # Set a fixed value for the hash seed\n",
    "    os.environ['PYTHONHASHSEED'] = str(seed)\n",
    "\n",
    "set_seed(seed=config.seed)"
   ],
   "metadata": {
    "ExecuteTime": {
     "start_time": "2023-08-17T08:46:05.839309Z",
     "end_time": "2023-08-17T08:46:05.931154Z"
    },
    "id": "RDIHP75uTFDc",
    "papermill": {
     "duration": 0.045937,
     "end_time": "2023-08-14T16:24:21.869710",
     "exception": false,
     "start_time": "2023-08-14T16:24:21.823773",
     "status": "completed"
    },
    "tags": [],
    "execution": {
     "iopub.status.busy": "2023-08-16T09:47:51.997546Z",
     "iopub.execute_input": "2023-08-16T09:47:51.999127Z",
     "iopub.status.idle": "2023-08-16T09:47:52.017148Z",
     "shell.execute_reply.started": "2023-08-16T09:47:51.999092Z",
     "shell.execute_reply": "2023-08-16T09:47:52.016034Z"
    },
    "trusted": true
   },
   "execution_count": 17,
   "outputs": []
  },
  {
   "cell_type": "markdown",
   "source": [
    "# 2. Data"
   ],
   "metadata": {
    "id": "UoHh0H1FVHnT",
    "papermill": {
     "duration": 0.027822,
     "end_time": "2023-08-14T16:24:21.925361",
     "exception": false,
     "start_time": "2023-08-14T16:24:21.897539",
     "status": "completed"
    },
    "tags": []
   }
  },
  {
   "cell_type": "markdown",
   "source": [
    "For our MLP we will use image embeddings - output from CNN models. We already got this data before, so we just load it."
   ],
   "metadata": {
    "collapsed": false
   }
  },
  {
   "cell_type": "markdown",
   "source": [
    "## 1. Set data location"
   ],
   "metadata": {
    "id": "Qst3Y-s4VKTk",
    "papermill": {
     "duration": 0.042797,
     "end_time": "2023-08-14T16:24:22.001996",
     "exception": false,
     "start_time": "2023-08-14T16:24:21.959199",
     "status": "completed"
    },
    "tags": []
   }
  },
  {
   "cell_type": "code",
   "source": [
    "# config.repo = 'car-brands/'  # dataset name on Kaggle\n",
    "config.repo = 'data/'  # dataset name on local device\n",
    "# config.repo = 'car_brand_detection/'  # Google Collab\n",
    "\n",
    "# config.root = '/kaggle/input/' + config.repo\n",
    "# config.root = 'drive/MyDrive/' + config.repo\n",
    "config.root = '../'  + config.repo\n",
    "\n",
    "\n",
    "config.data = config.root\n",
    "\n",
    "# config.train_images_path  = config.data + 'images/train'\n",
    "# config.test_images_path = config.data + 'images/test'\n",
    "# config.train_labels  = config.data + 'train_labels.csv'\n",
    "# config.test_labels = config.data + 'test_labels.csv'\n",
    "# config.embedding_model_path = '/kaggle/input/efficient-model/ArcFace_mobilenet_v2.pth'\n",
    "\n",
    "\n",
    "config.data_path = config.data + 'embeddings_and_labels.csv'\n",
    "\n",
    "\n",
    "config.save_model_to = f'{config.model_name}.pth'"
   ],
   "metadata": {
    "ExecuteTime": {
     "start_time": "2023-08-17T08:46:05.864679Z",
     "end_time": "2023-08-17T08:46:05.972772Z"
    },
    "id": "QKDBLmMrTFDd",
    "papermill": {
     "duration": 0.036856,
     "end_time": "2023-08-14T16:24:22.084008",
     "exception": false,
     "start_time": "2023-08-14T16:24:22.047152",
     "status": "completed"
    },
    "tags": [],
    "execution": {
     "iopub.status.busy": "2023-08-16T09:49:46.067390Z",
     "iopub.execute_input": "2023-08-16T09:49:46.067773Z",
     "iopub.status.idle": "2023-08-16T09:49:46.083258Z",
     "shell.execute_reply.started": "2023-08-16T09:49:46.067741Z",
     "shell.execute_reply": "2023-08-16T09:49:46.081741Z"
    },
    "trusted": true
   },
   "execution_count": 18,
   "outputs": []
  },
  {
   "cell_type": "code",
   "execution_count": 32,
   "outputs": [
    {
     "data": {
      "text/plain": "          0         1         2         3         4         5         6  \\\n0 -0.001561  0.159091 -0.326709 -0.226603 -0.097365  0.204614 -0.142634   \n1  0.229466 -0.186505 -0.329016 -0.650666  0.115301  0.149208  0.065496   \n2 -0.203165  0.330612 -0.413488 -0.128357  0.013811  0.244605 -0.137738   \n3 -0.052456  0.385235 -0.423291 -0.007358  0.031012  0.242327  0.118072   \n4  0.092909  0.075529 -0.040490  0.137453  0.531280  0.219033 -0.100117   \n\n          7         8         9  ...       503       504       505       506  \\\n0  0.208764  0.469837  0.069866  ...  0.410457 -0.024682  0.178265 -0.357340   \n1  0.191487  0.428920 -0.016147  ...  0.195697  0.171068  0.037157  0.049534   \n2  0.365148  0.385303  0.318809  ...  0.413026  0.040102  0.054195 -0.251548   \n3  0.235620  0.464901  0.320997  ...  0.412529  0.015200  0.237078 -0.429586   \n4  0.161784 -0.077920 -0.265161  ... -0.024520  0.143381 -0.099898  0.137324   \n\n        507       508       509       510       511      label  \n0 -0.073279  0.190458 -0.060786  0.364546  0.824516  Acura_MDX  \n1 -0.224402  0.225593  0.180314  0.073213  0.500426  Acura_MDX  \n2 -0.020557  0.241178  0.062900  0.354683  0.591870  Acura_MDX  \n3 -0.110773  0.166453  0.079581  0.243743  0.662615  Acura_MDX  \n4  0.137523  0.217806  0.313156  0.400654  0.217053  Acura_MDX  \n\n[5 rows x 513 columns]",
      "text/html": "<div>\n<style scoped>\n    .dataframe tbody tr th:only-of-type {\n        vertical-align: middle;\n    }\n\n    .dataframe tbody tr th {\n        vertical-align: top;\n    }\n\n    .dataframe thead th {\n        text-align: right;\n    }\n</style>\n<table border=\"1\" class=\"dataframe\">\n  <thead>\n    <tr style=\"text-align: right;\">\n      <th></th>\n      <th>0</th>\n      <th>1</th>\n      <th>2</th>\n      <th>3</th>\n      <th>4</th>\n      <th>5</th>\n      <th>6</th>\n      <th>7</th>\n      <th>8</th>\n      <th>9</th>\n      <th>...</th>\n      <th>503</th>\n      <th>504</th>\n      <th>505</th>\n      <th>506</th>\n      <th>507</th>\n      <th>508</th>\n      <th>509</th>\n      <th>510</th>\n      <th>511</th>\n      <th>label</th>\n    </tr>\n  </thead>\n  <tbody>\n    <tr>\n      <th>0</th>\n      <td>-0.001561</td>\n      <td>0.159091</td>\n      <td>-0.326709</td>\n      <td>-0.226603</td>\n      <td>-0.097365</td>\n      <td>0.204614</td>\n      <td>-0.142634</td>\n      <td>0.208764</td>\n      <td>0.469837</td>\n      <td>0.069866</td>\n      <td>...</td>\n      <td>0.410457</td>\n      <td>-0.024682</td>\n      <td>0.178265</td>\n      <td>-0.357340</td>\n      <td>-0.073279</td>\n      <td>0.190458</td>\n      <td>-0.060786</td>\n      <td>0.364546</td>\n      <td>0.824516</td>\n      <td>Acura_MDX</td>\n    </tr>\n    <tr>\n      <th>1</th>\n      <td>0.229466</td>\n      <td>-0.186505</td>\n      <td>-0.329016</td>\n      <td>-0.650666</td>\n      <td>0.115301</td>\n      <td>0.149208</td>\n      <td>0.065496</td>\n      <td>0.191487</td>\n      <td>0.428920</td>\n      <td>-0.016147</td>\n      <td>...</td>\n      <td>0.195697</td>\n      <td>0.171068</td>\n      <td>0.037157</td>\n      <td>0.049534</td>\n      <td>-0.224402</td>\n      <td>0.225593</td>\n      <td>0.180314</td>\n      <td>0.073213</td>\n      <td>0.500426</td>\n      <td>Acura_MDX</td>\n    </tr>\n    <tr>\n      <th>2</th>\n      <td>-0.203165</td>\n      <td>0.330612</td>\n      <td>-0.413488</td>\n      <td>-0.128357</td>\n      <td>0.013811</td>\n      <td>0.244605</td>\n      <td>-0.137738</td>\n      <td>0.365148</td>\n      <td>0.385303</td>\n      <td>0.318809</td>\n      <td>...</td>\n      <td>0.413026</td>\n      <td>0.040102</td>\n      <td>0.054195</td>\n      <td>-0.251548</td>\n      <td>-0.020557</td>\n      <td>0.241178</td>\n      <td>0.062900</td>\n      <td>0.354683</td>\n      <td>0.591870</td>\n      <td>Acura_MDX</td>\n    </tr>\n    <tr>\n      <th>3</th>\n      <td>-0.052456</td>\n      <td>0.385235</td>\n      <td>-0.423291</td>\n      <td>-0.007358</td>\n      <td>0.031012</td>\n      <td>0.242327</td>\n      <td>0.118072</td>\n      <td>0.235620</td>\n      <td>0.464901</td>\n      <td>0.320997</td>\n      <td>...</td>\n      <td>0.412529</td>\n      <td>0.015200</td>\n      <td>0.237078</td>\n      <td>-0.429586</td>\n      <td>-0.110773</td>\n      <td>0.166453</td>\n      <td>0.079581</td>\n      <td>0.243743</td>\n      <td>0.662615</td>\n      <td>Acura_MDX</td>\n    </tr>\n    <tr>\n      <th>4</th>\n      <td>0.092909</td>\n      <td>0.075529</td>\n      <td>-0.040490</td>\n      <td>0.137453</td>\n      <td>0.531280</td>\n      <td>0.219033</td>\n      <td>-0.100117</td>\n      <td>0.161784</td>\n      <td>-0.077920</td>\n      <td>-0.265161</td>\n      <td>...</td>\n      <td>-0.024520</td>\n      <td>0.143381</td>\n      <td>-0.099898</td>\n      <td>0.137324</td>\n      <td>0.137523</td>\n      <td>0.217806</td>\n      <td>0.313156</td>\n      <td>0.400654</td>\n      <td>0.217053</td>\n      <td>Acura_MDX</td>\n    </tr>\n  </tbody>\n</table>\n<p>5 rows × 513 columns</p>\n</div>"
     },
     "execution_count": 32,
     "metadata": {},
     "output_type": "execute_result"
    }
   ],
   "source": [
    "df = pd.read_csv(config.data_path)\n",
    "df.head()"
   ],
   "metadata": {
    "collapsed": false,
    "ExecuteTime": {
     "start_time": "2023-08-17T08:50:11.179832Z",
     "end_time": "2023-08-17T08:50:15.018959Z"
    }
   }
  },
  {
   "cell_type": "code",
   "execution_count": 33,
   "outputs": [
    {
     "data": {
      "text/plain": "Index(['493', '494', '495', '496', '497', '498', '499', '500', '501', '502',\n       '503', '504', '505', '506', '507', '508', '509', '510', '511', 'label'],\n      dtype='object')"
     },
     "execution_count": 33,
     "metadata": {},
     "output_type": "execute_result"
    }
   ],
   "source": [
    "df.columns[-20:]"
   ],
   "metadata": {
    "collapsed": false,
    "ExecuteTime": {
     "start_time": "2023-08-17T08:50:15.015941Z",
     "end_time": "2023-08-17T08:50:15.111141Z"
    }
   }
  },
  {
   "cell_type": "markdown",
   "source": [
    "**Label** is our last columns. Rest are embeddings"
   ],
   "metadata": {
    "collapsed": false
   }
  },
  {
   "cell_type": "code",
   "execution_count": 35,
   "outputs": [
    {
     "data": {
      "text/plain": "          0         1         2         3         4         5         6  \\\n0 -0.001561  0.159091 -0.326709 -0.226603 -0.097365  0.204614 -0.142634   \n1  0.229466 -0.186505 -0.329016 -0.650666  0.115301  0.149208  0.065496   \n\n          7         8         9  ...       502       503       504       505  \\\n0  0.208764  0.469837  0.069866  ...  0.111356  0.410457 -0.024682  0.178265   \n1  0.191487  0.428920 -0.016147  ...  0.135340  0.195697  0.171068  0.037157   \n\n        506       507       508       509       510       511  \n0 -0.357340 -0.073279  0.190458 -0.060786  0.364546  0.824516  \n1  0.049534 -0.224402  0.225593  0.180314  0.073213  0.500426  \n\n[2 rows x 512 columns]",
      "text/html": "<div>\n<style scoped>\n    .dataframe tbody tr th:only-of-type {\n        vertical-align: middle;\n    }\n\n    .dataframe tbody tr th {\n        vertical-align: top;\n    }\n\n    .dataframe thead th {\n        text-align: right;\n    }\n</style>\n<table border=\"1\" class=\"dataframe\">\n  <thead>\n    <tr style=\"text-align: right;\">\n      <th></th>\n      <th>0</th>\n      <th>1</th>\n      <th>2</th>\n      <th>3</th>\n      <th>4</th>\n      <th>5</th>\n      <th>6</th>\n      <th>7</th>\n      <th>8</th>\n      <th>9</th>\n      <th>...</th>\n      <th>502</th>\n      <th>503</th>\n      <th>504</th>\n      <th>505</th>\n      <th>506</th>\n      <th>507</th>\n      <th>508</th>\n      <th>509</th>\n      <th>510</th>\n      <th>511</th>\n    </tr>\n  </thead>\n  <tbody>\n    <tr>\n      <th>0</th>\n      <td>-0.001561</td>\n      <td>0.159091</td>\n      <td>-0.326709</td>\n      <td>-0.226603</td>\n      <td>-0.097365</td>\n      <td>0.204614</td>\n      <td>-0.142634</td>\n      <td>0.208764</td>\n      <td>0.469837</td>\n      <td>0.069866</td>\n      <td>...</td>\n      <td>0.111356</td>\n      <td>0.410457</td>\n      <td>-0.024682</td>\n      <td>0.178265</td>\n      <td>-0.357340</td>\n      <td>-0.073279</td>\n      <td>0.190458</td>\n      <td>-0.060786</td>\n      <td>0.364546</td>\n      <td>0.824516</td>\n    </tr>\n    <tr>\n      <th>1</th>\n      <td>0.229466</td>\n      <td>-0.186505</td>\n      <td>-0.329016</td>\n      <td>-0.650666</td>\n      <td>0.115301</td>\n      <td>0.149208</td>\n      <td>0.065496</td>\n      <td>0.191487</td>\n      <td>0.428920</td>\n      <td>-0.016147</td>\n      <td>...</td>\n      <td>0.135340</td>\n      <td>0.195697</td>\n      <td>0.171068</td>\n      <td>0.037157</td>\n      <td>0.049534</td>\n      <td>-0.224402</td>\n      <td>0.225593</td>\n      <td>0.180314</td>\n      <td>0.073213</td>\n      <td>0.500426</td>\n    </tr>\n  </tbody>\n</table>\n<p>2 rows × 512 columns</p>\n</div>"
     },
     "execution_count": 35,
     "metadata": {},
     "output_type": "execute_result"
    }
   ],
   "source": [
    "embeddings_bag = df[(df.columns[:-1])]\n",
    "embeddings_bag.head(2)"
   ],
   "metadata": {
    "collapsed": false,
    "ExecuteTime": {
     "start_time": "2023-08-17T08:50:39.541934Z",
     "end_time": "2023-08-17T08:50:39.691308Z"
    }
   }
  },
  {
   "cell_type": "code",
   "execution_count": 72,
   "outputs": [
    {
     "data": {
      "text/plain": "0    Acura_MDX\n1    Acura_MDX\nName: label, dtype: object"
     },
     "execution_count": 72,
     "metadata": {},
     "output_type": "execute_result"
    }
   ],
   "source": [
    "labels = df[df.columns[-1]]\n",
    "labels.head(2)"
   ],
   "metadata": {
    "collapsed": false,
    "ExecuteTime": {
     "start_time": "2023-08-17T09:07:10.631104Z",
     "end_time": "2023-08-17T09:07:10.668003Z"
    }
   }
  },
  {
   "cell_type": "code",
   "execution_count": 73,
   "outputs": [
    {
     "data": {
      "text/plain": "array(['Acura_MDX', 'Alfa Romeo_Giulietta', 'Audi_100', 'Audi_80',\n       'Audi_A1', 'Audi_A3', 'Audi_A4', 'Audi_A5', 'Audi_A6', 'Audi_A7',\n       'Audi_A8', 'Audi_Q3', 'Audi_Q5', 'Audi_Q7', 'Audi_R8', 'Audi_RS6',\n       'Audi_S5', 'Audi_S8', 'Audi_TT', 'BAW_FENIX', 'BAZ_A079_ETALON',\n       'BMW_1_Series', 'BMW_3_Series', 'BMW_4_Series', 'BMW_5_Series',\n       'BMW_6_Series', 'BMW_7_Series', 'BMW_X1', 'BMW_X3', 'BMW_X4',\n       'BMW_X5', 'BMW_X6', 'BMW_Z3', 'BMW_Z4', 'BRILLIANCE_V5',\n       'CARRUS_STAR', 'BYD_F3', 'Cadillac_CTS', 'Cadillac_Escalade',\n       'Cadillac_SRX', 'CHERY_AMULET_A15', 'CHERY_FORA', 'CHERY_KIMO_S12',\n       'CHERY_TIGGO', 'CHERY_TIGGO_5', 'CHERY_TIGGO_T11',\n       'Chevrolet_Aveo', 'Chevrolet_Blazer', 'Chevrolet_Camaro',\n       'Chevrolet_CAPRICE', 'Chevrolet_Captiva', 'Chevrolet_Cobalt',\n       'Chevrolet_Cruze', 'Chevrolet_Epica', 'Chevrolet_Express',\n       'Chevrolet_LACETTI', 'Chevrolet_LANOS', 'Chevrolet_NIVA',\n       'Chevrolet_Orlando', 'Chevrolet_REZZO', 'Chevrolet_Spark',\n       'Chevrolet_Suburban', 'Chevrolet_Tahoe', 'Chevrolet_TrailBlazer',\n       'Chrysler_300', 'Chrysler_300С', 'Chrysler_Grand_Voyager',\n       'Chrysler_Pacifica', 'Chrysler_PT_Cruiser', 'Chrysler_Sebring',\n       'Chrysler_Town_and_Country', 'Chrysler_Voyager',\n       'Citroen_Berlingo', 'Citroen_BX', 'Citroen_C_Crosser',\n       'Citroen_C_Elysee', 'Citroen_C1', 'Citroen_C2_C3',\n       'Citroen_C3_Picasso', 'Citroen_C4', 'Citroen_C4_AirCross',\n       'Citroen_C4_Picasso', 'Citroen_C5', 'Citroen_DS3', 'Citroen_DS4',\n       'Citroen_Grand_C4_Picasso', 'Citroen_JUMPER', 'Citroen_JUMPY',\n       'Citroen_Xantia', 'Citroen_Xsara', 'Daewoo_BS106', 'Daewoo_ESPERO',\n       'Daewoo_Gentra', 'Daewoo_LANOS', 'Daewoo_Leganza', 'Daewoo_Matiz',\n       'Daewoo_NEXIA', 'Daewoo_NUBIRA', 'DAF_95', 'DAF_CF', 'DAF_XF',\n       'Datsun_mi_DO', 'Datsun_ON_DO', 'Dodge_Caliber', 'Dodge_Caravan',\n       'Dodge_Challenger', 'Dodge_Grand_Caravan', 'Dodge_Ram',\n       'Dodge_STRATUS', 'DW_HOWER_H3', 'EMGRAND_EC7', 'FAW_BESTURN_B50',\n       'FAW_V5', 'FIAT_500', 'FIAT_ALBEA', 'FIAT_Bravo', 'FIAT_Doblo',\n       'FIAT_DUCATO', 'FIAT_Grande_Punto', 'FIAT_Linea', 'FIAT_Panda',\n       'FIAT_Punto', 'FIAT_SCUDO', 'FIAT_Stilo', 'FIAT_Uno', 'Ford_C_Max',\n       'Ford_CARGO', 'Ford_EcoSport', 'Ford_Escape', 'Ford_Escort',\n       'Ford_Expedition', 'Ford_Explorer', 'Ford_F_150', 'Ford_Fiesta',\n       'Ford_Focus', 'Ford_FOCUS_C_MAX', 'Ford_Fusion', 'Ford_Galaxy',\n       'Ford_Kuga', 'Ford_Maverick', 'Ford_Mondeo', 'Ford_Mustang',\n       'Ford_Ка', 'FOTON_AUMAN', 'FREIGHTLINER_Century_Class',\n       'FREIGHTLINER_Columbia', 'GAZ_24_Volga', 'GAZ_27_Gazel',\n       'GAZ_31_Volga', 'GAZ_3221_Gazel', 'GAZ_3302_Gazel', 'GAZ_3307',\n       'GAZ_3308_Sadko', 'GAZ_3310_Valday', 'GAZ_52', 'GAZ_53', 'GAZ_66',\n       'GAZ_Gazel', 'GAZ_GAZel_Next', 'GAZ_GAZon_Next', 'GAZ_SAZ_3507',\n       'Geely_CK', 'Geely_Emgrand_EC7', 'Geely_GC6', 'Geely_MK',\n       'Genesis_G80', 'GolAZ_5291_Cruise', 'Golden Dragon_XML6126',\n       'Golden Dragon_XML6957', 'Higer_A80', 'Hino_300_Series',\n       'Hino_500_Series', 'Honda_Accord', 'Honda_Accord_Crosstour',\n       'Honda_Airwave', 'Honda_Civic', 'Honda_CRV', 'Honda_Element',\n       'Honda_HR_V', 'Honda_Integra', 'Honda_Jazz', 'Honda_Legend',\n       'Honda_Odyssey', 'Honda_Pilot', 'Honda_Prelude', 'Honda_Stepwgn',\n       'Honda_Stream', 'HUMMER_H2', 'Hyundai_Accent', 'Hyundai_Aero_City',\n       'Hyundai_Avante', 'Hyundai_County', 'Hyundai_Coupe',\n       'Hyundai_Creta', 'Hyundai_Elantra', 'Hyundai_Equus',\n       'Hyundai_Galloper', 'Hyundai_Genesis', 'Hyundai_Getz',\n       'Hyundai_Grand_Santa_Fe_Grand_Starex', 'Hyundai_Grandeur',\n       'Hyundai_H_1', 'Hyundai_HD', 'Hyundai_i20', 'Hyundai_i30',\n       'Hyundai_i40', 'Hyundai_ix35', 'Hyundai_ix55', 'Hyundai_Matrix',\n       'Hyundai_NF', 'Hyundai_Porter', 'Hyundai_Santa_Fe',\n       'Hyundai_Solaris', 'Hyundai_Sonata', 'Hyundai_Starex',\n       'Hyundai_Terracan', 'Hyundai_Tiburon', 'Hyundai_Tucson',\n       'Hyundai_Universe_Space', 'Hyundai_Veloster', 'Ikarus_250',\n       'Ikarus_256', 'Ikarus_260', 'Ikarus_280', 'Infiniti_FX_Series',\n       'Infiniti_G_Series', 'Infiniti_JX_Series', 'Infiniti_Q50',\n       'Infiniti_Q70_M_Series', 'Infiniti_QX_Series', 'Infiniti_QX50',\n       'Infiniti_QX70', 'Infiniti_QX80', 'International_9000_Series',\n       'Iran Khodro_Samand', 'Isuzu_Elf', 'Isuzu_F_Series',\n       'Isuzu_Forward', 'Isuzu_N_Series', 'Iveco_Daily',\n       'Iveco_EuroCargo', 'Iveco_EuroStar', 'Iveco_EuroTech',\n       'Iveco_Stralis', 'Iveco_Trakker', 'Iveco_TurboDaily', 'Izh_2125',\n       'Izh_2126', 'Izh_21261_Fabula', 'Izh_2715', 'Izh_2717', 'Izh_412',\n       'Jaguar_Pace', 'Jaguar_S_Type', 'Jaguar_X_Type', 'Jaguar_XE',\n       'Jaguar_XF', 'Jaguar_XJ', 'Jaguar_XK', 'Jaguar_XKR',\n       'Jeep_Cherokee', 'Jeep_Compass', 'Jeep_Grand_Cherokee',\n       'Jeep_Wrangler', 'JMC_Carrying', 'KamAZ_4308', 'KamAZ_4310',\n       'KamAZ_44108', 'KamAZ_5308', 'KamAZ_5410', 'KamAZ_5411',\n       'KamAZ_5460', 'KamAZ_5490', 'KamAZ_5511', 'KamAZ_6460',\n       'KamAZ_6511', 'KamAZ_6520', 'KamAZ_6522', 'KAvZ_3976', 'KAvZ_4235',\n       'KAvZ_4238', 'KIA_Bongo', 'KIA_Carens', 'KIA_Carnival', 'KIA_ceed',\n       'KIA_Cerato', 'KIA_Granbird', 'KIA_Magentis', 'KIA_Mohave',\n       'KIA_Opirus', 'KIA_Optima', 'KIA_Picanto', 'KIA_pro_ceed',\n       'KIA_Quoris', 'KIA_Rio', 'KIA_Rio_X_Line', 'KIA_Sorento',\n       'KIA_Soul', 'KIA_Spectra', 'KIA_Sportage', 'KIA_Venga',\n       'King Long_XMQ', 'Land Rover_Defender', 'Land Rover_Discovery',\n       'Land Rover_Discovery_Sport', 'Land Rover_Freelander',\n       'Land Rover_Range_Rover', 'Land Rover_Range_Rover_Evoque',\n       'Land Rover_Range_Rover_Sport', 'Lexus_ES', 'Lexus_GS', 'Lexus_GX',\n       'Lexus_IS', 'Lexus_LC', 'Lexus_LS', 'Lexus_LX', 'Lexus_NX',\n       'Lexus_RX', 'Lexus_SC', 'LiA7_5256', 'LiA7_5292', 'LiA7_5293',\n       'LiA7_6213', 'LiA7_677', 'Lifan_Breez', 'Lifan_Cebrium',\n       'Lifan_Smily', 'Lifan_Solano', 'Lifan_X60', 'MAN_F2000', 'MAN_F90',\n       'MAN_L2000', \"MAN_Lion's_Regio\", 'MAN_Lions', 'MAN_TGA', 'MAN_TGL',\n       'MAN_TGS', 'MAN_TGX', 'Maserati_Levante', 'MAZ_103465',\n       'MAZ_206067', 'MAZ_43', 'MAZ_53', 'MAZ_54', 'MAZ_55', 'MAZ_63',\n       'MAZ_64', 'MAZ_65', 'Mazda_2', 'Mazda_3', 'Mazda_323', 'Mazda_5',\n       'Mazda_6', 'Mazda_626', 'Mazda_Bongo', 'Mazda_Bongo_Friendee',\n       'Mazda_BT_50', 'Mazda_Capella', 'Mazda_CX5', 'Mazda_CX7',\n       'Mazda_CX9', 'Mazda_Demio', 'Mazda_Familia', 'Mazda_MPV',\n       'Mazda_MX5', 'Mazda_Premacy', 'Mazda_RX_8', 'Mazda_Titan',\n       'Mazda_Tribute', 'Mercedes Benz_0350_Tourismo',\n       'Mercedes Benz_0560_Intouro', 'Mercedes Benz_405',\n       'Mercedes Benz_A_Klasse', 'Mercedes Benz_Actros',\n       'Mercedes Benz_Atego', 'Mercedes Benz_Axor',\n       'Mercedes Benz_B_Klasse', 'Mercedes Benz_C_Klasse',\n       'Mercedes Benz_Citan', 'Mercedes Benz_CL_Klasse',\n       'Mercedes Benz_CLA_Klasse', 'Mercedes Benz_CLK_Klasse',\n       'Mercedes Benz_CLS_Klasse', 'Mercedes Benz_Conecto',\n       'Mercedes Benz_E_Klasse', 'Mercedes Benz_GL_Klasse',\n       'Mercedes Benz_GLA_Klasse_GLC_Klasse_GLE_Klasse',\n       'Mercedes Benz_GLK_Klasse', 'Mercedes Benz_GLS_Klasse',\n       'Mercedes Benz_LK_Series', 'Mercedes Benz_M_Klasse',\n       'Mercedes Benz_MB_Series', 'Mercedes Benz_R_Klasse',\n       'Mercedes Benz_S_Klasse', 'Mercedes Benz_SK_Series',\n       'Mercedes Benz_SL_Klasse', 'Mercedes Benz_SLK_Klasse',\n       'Mercedes Benz_Sprinter', 'Mercedes Benz_T1', 'Mercedes Benz_T2',\n       'Mercedes Benz_Travego', 'Mercedes Benz_V_Klasse',\n       'Mercedes Benz_Vario', 'Mercedes Benz_Viano', 'Mercedes Benz_Vito',\n       'Mercedes Benz_О3О3', 'MINI_Cooper', 'MINI_Countryman',\n       'Mitsubishi_Airtrek', 'Mitsubishi_ASX', 'Mitsubishi_Canter',\n       'Mitsubishi_Carisma', 'Mitsubishi_Colt', 'Mitsubishi_Delica',\n       'Mitsubishi_Delica_Space_Gear', 'Mitsubishi_Eclipse',\n       'Mitsubishi_Fuso', 'Mitsubishi_Galant', 'Mitsubishi_Grandis',\n       'Mitsubishi_L200', 'Mitsubishi_Lancer',\n       'Mitsubishi_Lancer_Evolution', 'Mitsubishi_Lancer_Cedia',\n       'Mitsubishi_Outlander', 'Mitsubishi_Pajero',\n       'Mitsubishi_Pajero_iO', 'Mitsubishi_Pajero_Sport',\n       'Mitsubishi_RVR', 'Moskvich_2140', 'Moskvich_2141', 'Moskvich_408',\n       'Moskvich_412', 'Nefaz_5299', 'Neoplan_Cityliner',\n       'Neoplan_Skyliner', 'Nissan_AD', 'Nissan_Almera',\n       'Nissan_Almera_Classic', 'Nissan_Atlas', 'Nissan_Avenir',\n       'Nissan_Bluebird', 'Nissan_Bluebird_Sylphy', 'Nissan_Cedric',\n       'Nissan_Cefiro', 'Nissan_Cube', 'Nissan_Diesel_Condor',\n       'Nissan_GT_R', 'Nissan_Juke', 'Nissan_Laurel', 'Nissan_Liberty',\n       'Nissan_March', 'Nissan_Maxima', 'Nissan_Micra', 'Nissan_Murano',\n       'Nissan_Navara', 'Nissan_Note', 'Nissan_NP300_Pickup',\n       'Nissan_Pathfinder', 'Nissan_Patrol', 'Nissan_Presage',\n       'Nissan_Primera', 'Nissan_Pulsar', 'Nissan_Qashqai',\n       'Nissan_Qashqai_2nd', 'Nissan_Safari', 'Nissan_Sentra',\n       'Nissan_Serena', 'Nissan_Skyline', 'Nissan_Sunny', 'Nissan_Teana',\n       'Nissan_Terrano', 'Nissan_Terrano_II', 'Nissan_Tiida',\n       'Nissan_Vanette', 'Nissan_Wingroad', 'Nissan_X_Trail',\n       'Opel_Antara', 'Opel_Ascona', 'Opel_Astra', 'Opel_Calibra',\n       'Opel_Combo', 'Opel_Corsa', 'Opel_Frontera', 'Opel_Insignia',\n       'Opel_Kadett', 'Opel_Meriva', 'Opel_Mokka', 'Opel_Omega',\n       'Opel_Rekord', 'Opel_Tigra', 'Opel_Vectra', 'Opel_Vivaro',\n       'Opel_Zafira', 'PAZ_3204', 'PAZ_3205', 'PAZ_4230', 'PAZ_4234',\n       'Peugeot_106', 'Peugeot_107', 'Peugeot_205', 'Peugeot_206',\n       'Peugeot_207', 'Peugeot_208', 'Peugeot_3008', 'Peugeot_301',\n       'Peugeot_306', 'Peugeot_307', 'Peugeot_308', 'Peugeot_4007',\n       'Peugeot_405', 'Peugeot_406', 'Peugeot_407', 'Peugeot_408',\n       'Peugeot_508', 'Peugeot_607', 'Peugeot_Boxer', 'Peugeot_Expert',\n       'Peugeot_Expert_Tepee', 'Peugeot_Partner', 'Porsche_911',\n       'Porsche_Boxster', 'Porsche_Cayenne', 'Porsche_Cayman',\n       'Porsche_Macan', 'Porsche_Panamera', 'Ram_Pickup',\n       'Ravon_Nexia_R3', 'Renault_19-21', 'Renault_Clio',\n       'Renault_Duster', 'Renault_Espace', 'Renault_Fluence',\n       'Renault_Grand_Scenic', 'Renault_Kangoo', 'Renault_Kaptur',\n       'Renault_Koleos', 'Renault_Laguna', 'Renault_Logan',\n       'Renault_Magnum', 'Renault_Master', 'Renault_Megane',\n       'Renault_Premium', 'Renault_Sandero', 'Renault_Sandero_Stepway',\n       'Renault_Scenic', 'Renault_Symbol', 'Renault_Trafic',\n       'Renault_Twingo', 'Renault_T_Series', 'SAAB_9-3', 'SAAB_9-5',\n       'SAAB_900', 'SAAB_9000', 'Saturn_VUE', 'Scania_G', 'Scania_III',\n       'Scania_IV', 'Scania_P', 'Scania_R', 'SEAT_Leon', 'Setra_200',\n       'Setra_300', 'Skoda_Fabia', 'Skoda_Favorit', 'Skoda_Felicia',\n       'Skoda_Kodiaq', 'Skoda_Octavia', 'Skoda_Rapid', 'Skoda_Roomster',\n       'Skoda_Superb', 'Skoda_Yeti', 'SsangYong_Actyon',\n       'SsangYong_Actyon_Sports', 'SsangYong_Istana', 'SsangYong_Korando',\n       'SsangYong_Kyron', 'SsangYong_Rexton', 'Subaru_B9_Tribeca',\n       'Subaru_Forester', 'Subaru_Impreza', 'Subaru_Impreza_WRX',\n       'Subaru_Impreza_XV', 'Subaru_Legacy', 'Subaru_Outback',\n       'Subaru_Tribeca', 'Subaru_XV', 'Suzuki_Escudo',\n       'Suzuki_Grand_Vitara', 'Suzuki_Ignis', 'Suzuki_Jimny',\n       'Suzuki_Liana', 'Suzuki_Swift', 'Suzuki_SX4', 'Suzuki_Vitara',\n       'Suzuki_Wagon_R', 'Toyota_4Runner', 'Toyota_Allion',\n       'Toyota_Alphard', 'Toyota_Altezza', 'Toyota_Auris',\n       'Toyota_Avalon', 'Toyota_Avensis', 'Toyota_bB', 'Toyota_Caldina',\n       'Toyota_Camry', 'Toyota_Camry_Solara', 'Toyota_Carina',\n       'Toyota_Carina_E', 'Toyota_Carina_ED', 'Toyota_Celica',\n       'Toyota_Chaser', 'Toyota_Corolla', 'Toyota_Corolla_Allex',\n       'Toyota_Corolla_Axio', 'Toyota_Corolla_Verso',\n       'Toyota_Corolla_Fielder', 'Toyota_Corolla_Levin',\n       'Toyota_Corolla_Spacio', 'Toyota_Corona', 'Toyota_Corona_Premio',\n       'Toyota_Corsa', 'Toyota_Cresta', 'Toyota_Crown', 'Toyota_Dyna',\n       'Toyota_Estima', 'Toyota_FJ', 'Toyota_Fortuner', 'Toyota_Funcargo',\n       'Toyota_Gaia', 'Toyota_Harrier', 'Toyota_Hiace',\n       'Toyota_Highlander', 'Toyota_Hilux', 'Toyota_Hilux_Surf',\n       'Toyota_Ipsum', 'Toyota_Ist', 'Toyota_Kluger',\n       'Toyota_Land_Cruiser', 'Toyota_Land_Cruiser_Prado',\n       'Toyota_Lite_Ace_Noah', 'Toyota_Mark_II', 'Toyota_Mark_X',\n       'Toyota_Matrix', 'Toyota_Nadia', 'Toyota_Noah', 'Toyota_Opa',\n       'Toyota_Paseo', 'Toyota_Platz', 'Toyota_Premio', 'Toyota_Previa',\n       'Toyota_Prius', 'Toyota_Probox', 'Toyota_Ractis', 'Toyota_Raum',\n       'Toyota_RAV4', 'Toyota_Sequoia', 'Toyota_Sienna',\n       'Toyota_Sprinter', 'Toyota_Sprinter_Carib', 'Toyota_Starlet',\n       'Toyota_Succeed', 'Toyota_Supra', 'Toyota_TownAce',\n       'Toyota_TownAce_Noah', 'Toyota_ToyoAce', 'Toyota_Tundra',\n       'Toyota_Venza', 'Toyota_Verso', 'Toyota_Vista',\n       'Toyota_Vista_Ardeo', 'Toyota_Vitz', 'Toyota_Windom',\n       'Toyota_Wish', 'Toyota_Yaris', 'UAZ_2360', 'UAZ_23632', 'UAZ_3163',\n       'UAZ_3303', 'UAZ_452', 'UAZ_469', 'UAZ_5557', 'Van_Hool_T815',\n       'VAZ_Lada_1117_Kalina', 'VAZ_Lada_2101', 'VAZ_Lada_2102',\n       'VAZ_Lada_2103', 'VAZ_Lada_2104', 'VAZ_Lada_2105', 'VAZ_Lada_2106',\n       'VAZ_Lada_2107', 'VAZ_Lada_2108', 'VAZ_Lada_2109',\n       'VAZ_Lada_21099', 'VAZ_Lada_2110', 'VAZ_Lada_2111',\n       'VAZ_Lada_2112', 'VAZ_Lada_2112_Coupe', 'VAZ_Lada_2113',\n       'VAZ_Lada_2114', 'VAZ_Lada_2115', 'VAZ_Lada_2120',\n       'VAZ_Lada_2131_Niva', 'VAZ_Lada_2170_Priora',\n       'VAZ_Lada_2190_Granta', 'VAZ_Lada_Largus', 'VAZ_Lada_Oka',\n       'VAZ_Lada_Vesta', 'VAZ_Lada_Vesta_SW', 'VAZ_Lada_Vesta_SW_Cross',\n       'VAZ_Lada_XRAY', 'VIS_2347', 'VIS_2349', 'Volkswagen_Amarok',\n       'Volkswagen_Bora', 'Volkswagen_Caddy', 'Volkswagen_Caravelle',\n       'Volkswagen_Crafter', 'Volkswagen_Golf', 'Volkswagen_Jetta',\n       'Volkswagen_LT', 'Volkswagen_Multivan', 'Volkswagen_New_Beetle',\n       'Volkswagen_Passat', 'Volkswagen_Passat_CC', 'Volkswagen_Phaeton',\n       'Volkswagen_Polo', 'Volkswagen_Sharan', 'Volkswagen_Teramont',\n       'Volkswagen_Tiguan', 'Volkswagen_Touareg', 'Volkswagen_Touran',\n       'Volkswagen_Transporter', 'Volvo_240_Series', 'Volvo_740',\n       'Volvo_850', 'Volvo_940', 'Volvo_F12', 'Volvo_FE', 'Volvo_FH',\n       'Volvo_FL', 'Volvo_S40', 'Volvo_S60', 'Volvo_S80', 'Volvo_V40',\n       'Volvo_V50', 'Volvo_V70', 'Volvo_VN_Series', 'Volvo_XC60',\n       'Volvo_XC70', 'Volvo_XC90', 'Vortex_Tingo', 'ZAZ_1102_Tavriya',\n       'ZAZ_1103_Slavuta', 'ZAZ_11055', 'ZAZ_968', 'ZIL_130', 'ZIL_131',\n       'ZIL_133', 'ZIL_4331', 'ZIL_5301_Bychok'], dtype=object)"
     },
     "execution_count": 73,
     "metadata": {},
     "output_type": "execute_result"
    }
   ],
   "source": [
    "labels.unique()"
   ],
   "metadata": {
    "collapsed": false,
    "ExecuteTime": {
     "start_time": "2023-08-17T09:07:11.578813Z",
     "end_time": "2023-08-17T09:07:11.723107Z"
    }
   }
  },
  {
   "cell_type": "markdown",
   "source": [
    "Now we apply One Hot Encoding"
   ],
   "metadata": {
    "collapsed": false
   }
  },
  {
   "cell_type": "code",
   "execution_count": 74,
   "outputs": [],
   "source": [
    "def apply_label_encoding(labels: t.Union[pd.Series, np.array],\n",
    "                         encoder_name: os.path,\n",
    "                         action='encode',\n",
    "     ):\n",
    "    \"\"\"\n",
    "    One Hot encoding. We apply encoding by replacing the label column in dataframe.\n",
    "    As for decoding data back, we work with vector-array (as it's most likely to\n",
    "    be a prediction result)\n",
    "    \"\"\"\n",
    "    encoder = LabelEncoder()\n",
    "    if action == 'encode':\n",
    "        # We transform dataframe here. Nothing returns\n",
    "        # data = data.with_columns(pl.DataFrame(encoder.fit_transform(data[column]), schema=['label']))\n",
    "        labels = encoder.fit_transform(labels)\n",
    "\n",
    "        with open(f\"{encoder_name}_LEncoder.pkl\", \"wb\") as fp:\n",
    "                joblib.dump(encoder, fp)\n",
    "        return labels\n",
    "    elif action == 'decode':\n",
    "        # We pass vector here. Result is a vector\n",
    "        with open(f\"{encoder_name}_LEncoder.pkl\", \"rb\") as fp:\n",
    "            encoder: LabelEncoder = joblib.load(fp)\n",
    "        return encoder.inverse_transform(labels)"
   ],
   "metadata": {
    "collapsed": false,
    "ExecuteTime": {
     "start_time": "2023-08-17T09:07:13.524063Z",
     "end_time": "2023-08-17T09:07:13.570438Z"
    }
   }
  },
  {
   "cell_type": "code",
   "execution_count": 75,
   "outputs": [
    {
     "data": {
      "text/plain": "   label\n0      0\n1      0\n2      0\n3      0\n4      0",
      "text/html": "<div>\n<style scoped>\n    .dataframe tbody tr th:only-of-type {\n        vertical-align: middle;\n    }\n\n    .dataframe tbody tr th {\n        vertical-align: top;\n    }\n\n    .dataframe thead th {\n        text-align: right;\n    }\n</style>\n<table border=\"1\" class=\"dataframe\">\n  <thead>\n    <tr style=\"text-align: right;\">\n      <th></th>\n      <th>label</th>\n    </tr>\n  </thead>\n  <tbody>\n    <tr>\n      <th>0</th>\n      <td>0</td>\n    </tr>\n    <tr>\n      <th>1</th>\n      <td>0</td>\n    </tr>\n    <tr>\n      <th>2</th>\n      <td>0</td>\n    </tr>\n    <tr>\n      <th>3</th>\n      <td>0</td>\n    </tr>\n    <tr>\n      <th>4</th>\n      <td>0</td>\n    </tr>\n  </tbody>\n</table>\n</div>"
     },
     "execution_count": 75,
     "metadata": {},
     "output_type": "execute_result"
    }
   ],
   "source": [
    "labels = pd.DataFrame(apply_label_encoding(labels, action='encode', encoder_name=\"embeddings_labels\"), columns=['label'])\n",
    "labels.head()"
   ],
   "metadata": {
    "collapsed": false,
    "ExecuteTime": {
     "start_time": "2023-08-17T09:07:14.243496Z",
     "end_time": "2023-08-17T09:07:14.435761Z"
    }
   }
  },
  {
   "cell_type": "code",
   "execution_count": 76,
   "outputs": [
    {
     "data": {
      "text/plain": "array(['Acura_MDX', 'Acura_MDX', 'Acura_MDX', ..., 'ZIL_5301_Bychok',\n       'ZIL_5301_Bychok', 'ZIL_5301_Bychok'], dtype=object)"
     },
     "execution_count": 76,
     "metadata": {},
     "output_type": "execute_result"
    }
   ],
   "source": [
    "apply_label_encoding(labels, action='decode', encoder_name=\"embeddings_labels\")"
   ],
   "metadata": {
    "collapsed": false,
    "ExecuteTime": {
     "start_time": "2023-08-17T09:07:15.981081Z",
     "end_time": "2023-08-17T09:07:16.008272Z"
    }
   }
  },
  {
   "cell_type": "markdown",
   "source": [
    "## Pytorch Dataset to run model on"
   ],
   "metadata": {
    "collapsed": false
   }
  },
  {
   "cell_type": "code",
   "execution_count": 77,
   "outputs": [],
   "source": [
    "class SiameseDataset(Dataset):\n",
    "    def __init__(self, embeddings_data, labels):\n",
    "        super().__init__()\n",
    "\n",
    "        self.labels = labels\n",
    "        self.embeddings_data = embeddings_data\n",
    "        self.__set_dataset_len()\n",
    "        self.similarity_flag = True\n",
    "\n",
    "\n",
    "    def __set_dataset_len(self):\n",
    "        a = self.labels.shape[0] # Number of rows\n",
    "        b = self.embeddings_data.shape[0] # Amount of images\n",
    "        assert a == b  # CSV content and real number of photos are equal\n",
    "        self.length = a\n",
    "\n",
    "\n",
    "    def __len__(self):\n",
    "        \"\"\"\n",
    "        We calculate the len in another function, so that we are able to set it manually.\n",
    "        \"\"\"\n",
    "        return self.length\n",
    "\n",
    "\n",
    "    def __get_random_embedding(self, indexes):\n",
    "        image_index = np.random.choice(indexes)\n",
    "        embegging, label = self.embeddings_data[image_index], self.labels[image_index]\n",
    "        return embegging, label\n",
    "\n",
    "\n",
    "    def __getitem__(self, index) -> tuple[torch.Tensor, int]:\n",
    "        \"\"\" Function to return item by indexing the dataset \"\"\"\n",
    "        if not isinstance(index, int) and isinstance(index, slice):\n",
    "            # It's not an index, but slice.\n",
    "            # We will return the part of data by making a copy of the dataset\n",
    "            index: slice\n",
    "            self = deepcopy(self)\n",
    "            self.length = index.stop  # Cut the length of dataset.\n",
    "            self.labels = self.labels[:self.length]\n",
    "            self.embeddings_data = self.embeddings_data[:self.length]\n",
    "            return self\n",
    "\n",
    "\n",
    "        anchor, anchor_label = self.embeddings_data[index], self.labels[index]\n",
    "        positive_or_negative = np.where(\n",
    "            ((self.labels == anchor_label) == self.similarity_flag)\n",
    "        )[0]\n",
    "\n",
    "        # Delete source index, so we don't take two same pictures\n",
    "        correct_indexes = np.delete(positive_or_negative, np.where(positive_or_negative == index))\n",
    "\n",
    "        if len(correct_indexes) < 1:\n",
    "            self.similarity_flag = not self.similarity_flag\n",
    "            return self[index]\n",
    "\n",
    "        p_or_n_embedding, second_label = self.__get_random_embedding(correct_indexes)\n",
    "\n",
    "        self.similarity_flag = not self.similarity_flag  # Switch the flag\n",
    "\n",
    "        return anchor, p_or_n_embedding, float(anchor_label==second_label)\n"
   ],
   "metadata": {
    "collapsed": false,
    "ExecuteTime": {
     "start_time": "2023-08-17T09:07:25.659206Z",
     "end_time": "2023-08-17T09:07:25.716747Z"
    }
   }
  },
  {
   "cell_type": "code",
   "execution_count": 78,
   "outputs": [],
   "source": [
    "from sklearn.model_selection import train_test_split"
   ],
   "metadata": {
    "collapsed": false,
    "ExecuteTime": {
     "start_time": "2023-08-17T09:07:27.515930Z",
     "end_time": "2023-08-17T09:07:27.576332Z"
    }
   }
  },
  {
   "cell_type": "code",
   "execution_count": 87,
   "outputs": [],
   "source": [
    "train_embeddings_bag, test_embeddings_bag, train_labels, test_labels = train_test_split(embeddings_bag, labels, random_state=config.seed, test_size=0.05)"
   ],
   "metadata": {
    "collapsed": false,
    "ExecuteTime": {
     "start_time": "2023-08-17T09:09:45.191091Z",
     "end_time": "2023-08-17T09:09:45.276763Z"
    }
   }
  },
  {
   "cell_type": "code",
   "execution_count": 88,
   "outputs": [],
   "source": [
    "train_labels.reset_index(drop=True, inplace=True)\n",
    "test_labels.reset_index(drop=True, inplace=True)\n",
    "test_embeddings_bag.reset_index(drop=True, inplace=True)\n",
    "train_embeddings_bag.reset_index(drop=True, inplace=True)\n"
   ],
   "metadata": {
    "collapsed": false,
    "ExecuteTime": {
     "start_time": "2023-08-17T09:09:45.746016Z",
     "end_time": "2023-08-17T09:09:45.768427Z"
    }
   }
  },
  {
   "cell_type": "code",
   "source": [
    "train_dataset = SiameseDataset(embeddings_data=train_embeddings_bag, labels=train_labels)\n",
    "test_dataset = SiameseDataset(embeddings_data=test_embeddings_bag, labels=test_labels)"
   ],
   "metadata": {
    "collapsed": false,
    "ExecuteTime": {
     "start_time": "2023-08-17T09:09:48.519747Z",
     "end_time": "2023-08-17T09:09:48.571651Z"
    },
    "jupyter": {
     "outputs_hidden": false
    },
    "execution": {
     "iopub.status.busy": "2023-08-16T09:53:51.598724Z",
     "iopub.execute_input": "2023-08-16T09:53:51.599146Z",
     "iopub.status.idle": "2023-08-16T09:53:51.650276Z",
     "shell.execute_reply.started": "2023-08-16T09:53:51.599114Z",
     "shell.execute_reply": "2023-08-16T09:53:51.648985Z"
    },
    "trusted": true
   },
   "execution_count": 89,
   "outputs": []
  },
  {
   "cell_type": "code",
   "execution_count": 94,
   "outputs": [
    {
     "ename": "KeyError",
     "evalue": "10",
     "output_type": "error",
     "traceback": [
      "\u001B[1;31m---------------------------------------------------------------------------\u001B[0m",
      "\u001B[1;31mKeyError\u001B[0m                                  Traceback (most recent call last)",
      "File \u001B[1;32mD:\\possessor\\Documents\\ESSE\\IT\\ML\\CV\\cvenv\\Lib\\site-packages\\pandas\\core\\indexes\\base.py:3652\u001B[0m, in \u001B[0;36mIndex.get_loc\u001B[1;34m(self, key)\u001B[0m\n\u001B[0;32m   3651\u001B[0m \u001B[38;5;28;01mtry\u001B[39;00m:\n\u001B[1;32m-> 3652\u001B[0m     \u001B[38;5;28;01mreturn\u001B[39;00m \u001B[38;5;28;43mself\u001B[39;49m\u001B[38;5;241;43m.\u001B[39;49m\u001B[43m_engine\u001B[49m\u001B[38;5;241;43m.\u001B[39;49m\u001B[43mget_loc\u001B[49m\u001B[43m(\u001B[49m\u001B[43mcasted_key\u001B[49m\u001B[43m)\u001B[49m\n\u001B[0;32m   3653\u001B[0m \u001B[38;5;28;01mexcept\u001B[39;00m \u001B[38;5;167;01mKeyError\u001B[39;00m \u001B[38;5;28;01mas\u001B[39;00m err:\n",
      "File \u001B[1;32mD:\\possessor\\Documents\\ESSE\\IT\\ML\\CV\\cvenv\\Lib\\site-packages\\pandas\\_libs\\index.pyx:147\u001B[0m, in \u001B[0;36mpandas._libs.index.IndexEngine.get_loc\u001B[1;34m()\u001B[0m\n",
      "File \u001B[1;32mD:\\possessor\\Documents\\ESSE\\IT\\ML\\CV\\cvenv\\Lib\\site-packages\\pandas\\_libs\\index.pyx:176\u001B[0m, in \u001B[0;36mpandas._libs.index.IndexEngine.get_loc\u001B[1;34m()\u001B[0m\n",
      "File \u001B[1;32mpandas\\_libs\\hashtable_class_helper.pxi:7080\u001B[0m, in \u001B[0;36mpandas._libs.hashtable.PyObjectHashTable.get_item\u001B[1;34m()\u001B[0m\n",
      "File \u001B[1;32mpandas\\_libs\\hashtable_class_helper.pxi:7088\u001B[0m, in \u001B[0;36mpandas._libs.hashtable.PyObjectHashTable.get_item\u001B[1;34m()\u001B[0m\n",
      "\u001B[1;31mKeyError\u001B[0m: 10",
      "\nThe above exception was the direct cause of the following exception:\n",
      "\u001B[1;31mKeyError\u001B[0m                                  Traceback (most recent call last)",
      "Cell \u001B[1;32mIn[94], line 1\u001B[0m\n\u001B[1;32m----> 1\u001B[0m \u001B[43mtest_embeddings_bag\u001B[49m\u001B[43m[\u001B[49m\u001B[38;5;241;43m10\u001B[39;49m\u001B[43m]\u001B[49m\n",
      "File \u001B[1;32mD:\\possessor\\Documents\\ESSE\\IT\\ML\\CV\\cvenv\\Lib\\site-packages\\pandas\\core\\frame.py:3761\u001B[0m, in \u001B[0;36mDataFrame.__getitem__\u001B[1;34m(self, key)\u001B[0m\n\u001B[0;32m   3759\u001B[0m \u001B[38;5;28;01mif\u001B[39;00m \u001B[38;5;28mself\u001B[39m\u001B[38;5;241m.\u001B[39mcolumns\u001B[38;5;241m.\u001B[39mnlevels \u001B[38;5;241m>\u001B[39m \u001B[38;5;241m1\u001B[39m:\n\u001B[0;32m   3760\u001B[0m     \u001B[38;5;28;01mreturn\u001B[39;00m \u001B[38;5;28mself\u001B[39m\u001B[38;5;241m.\u001B[39m_getitem_multilevel(key)\n\u001B[1;32m-> 3761\u001B[0m indexer \u001B[38;5;241m=\u001B[39m \u001B[38;5;28;43mself\u001B[39;49m\u001B[38;5;241;43m.\u001B[39;49m\u001B[43mcolumns\u001B[49m\u001B[38;5;241;43m.\u001B[39;49m\u001B[43mget_loc\u001B[49m\u001B[43m(\u001B[49m\u001B[43mkey\u001B[49m\u001B[43m)\u001B[49m\n\u001B[0;32m   3762\u001B[0m \u001B[38;5;28;01mif\u001B[39;00m is_integer(indexer):\n\u001B[0;32m   3763\u001B[0m     indexer \u001B[38;5;241m=\u001B[39m [indexer]\n",
      "File \u001B[1;32mD:\\possessor\\Documents\\ESSE\\IT\\ML\\CV\\cvenv\\Lib\\site-packages\\pandas\\core\\indexes\\base.py:3654\u001B[0m, in \u001B[0;36mIndex.get_loc\u001B[1;34m(self, key)\u001B[0m\n\u001B[0;32m   3652\u001B[0m     \u001B[38;5;28;01mreturn\u001B[39;00m \u001B[38;5;28mself\u001B[39m\u001B[38;5;241m.\u001B[39m_engine\u001B[38;5;241m.\u001B[39mget_loc(casted_key)\n\u001B[0;32m   3653\u001B[0m \u001B[38;5;28;01mexcept\u001B[39;00m \u001B[38;5;167;01mKeyError\u001B[39;00m \u001B[38;5;28;01mas\u001B[39;00m err:\n\u001B[1;32m-> 3654\u001B[0m     \u001B[38;5;28;01mraise\u001B[39;00m \u001B[38;5;167;01mKeyError\u001B[39;00m(key) \u001B[38;5;28;01mfrom\u001B[39;00m \u001B[38;5;21;01merr\u001B[39;00m\n\u001B[0;32m   3655\u001B[0m \u001B[38;5;28;01mexcept\u001B[39;00m \u001B[38;5;167;01mTypeError\u001B[39;00m:\n\u001B[0;32m   3656\u001B[0m     \u001B[38;5;66;03m# If we have a listlike key, _check_indexing_error will raise\u001B[39;00m\n\u001B[0;32m   3657\u001B[0m     \u001B[38;5;66;03m#  InvalidIndexError. Otherwise we fall through and re-raise\u001B[39;00m\n\u001B[0;32m   3658\u001B[0m     \u001B[38;5;66;03m#  the TypeError.\u001B[39;00m\n\u001B[0;32m   3659\u001B[0m     \u001B[38;5;28mself\u001B[39m\u001B[38;5;241m.\u001B[39m_check_indexing_error(key)\n",
      "\u001B[1;31mKeyError\u001B[0m: 10"
     ]
    }
   ],
   "source": [
    "test_embeddings_bag.[10]"
   ],
   "metadata": {
    "collapsed": false,
    "ExecuteTime": {
     "start_time": "2023-08-17T09:10:08.103023Z",
     "end_time": "2023-08-17T09:10:08.202417Z"
    }
   }
  },
  {
   "cell_type": "code",
   "execution_count": 90,
   "outputs": [
    {
     "ename": "KeyError",
     "evalue": "10",
     "output_type": "error",
     "traceback": [
      "\u001B[1;31m---------------------------------------------------------------------------\u001B[0m",
      "\u001B[1;31mKeyError\u001B[0m                                  Traceback (most recent call last)",
      "File \u001B[1;32mD:\\possessor\\Documents\\ESSE\\IT\\ML\\CV\\cvenv\\Lib\\site-packages\\pandas\\core\\indexes\\base.py:3652\u001B[0m, in \u001B[0;36mIndex.get_loc\u001B[1;34m(self, key)\u001B[0m\n\u001B[0;32m   3651\u001B[0m \u001B[38;5;28;01mtry\u001B[39;00m:\n\u001B[1;32m-> 3652\u001B[0m     \u001B[38;5;28;01mreturn\u001B[39;00m \u001B[38;5;28;43mself\u001B[39;49m\u001B[38;5;241;43m.\u001B[39;49m\u001B[43m_engine\u001B[49m\u001B[38;5;241;43m.\u001B[39;49m\u001B[43mget_loc\u001B[49m\u001B[43m(\u001B[49m\u001B[43mcasted_key\u001B[49m\u001B[43m)\u001B[49m\n\u001B[0;32m   3653\u001B[0m \u001B[38;5;28;01mexcept\u001B[39;00m \u001B[38;5;167;01mKeyError\u001B[39;00m \u001B[38;5;28;01mas\u001B[39;00m err:\n",
      "File \u001B[1;32mD:\\possessor\\Documents\\ESSE\\IT\\ML\\CV\\cvenv\\Lib\\site-packages\\pandas\\_libs\\index.pyx:147\u001B[0m, in \u001B[0;36mpandas._libs.index.IndexEngine.get_loc\u001B[1;34m()\u001B[0m\n",
      "File \u001B[1;32mD:\\possessor\\Documents\\ESSE\\IT\\ML\\CV\\cvenv\\Lib\\site-packages\\pandas\\_libs\\index.pyx:176\u001B[0m, in \u001B[0;36mpandas._libs.index.IndexEngine.get_loc\u001B[1;34m()\u001B[0m\n",
      "File \u001B[1;32mpandas\\_libs\\hashtable_class_helper.pxi:7080\u001B[0m, in \u001B[0;36mpandas._libs.hashtable.PyObjectHashTable.get_item\u001B[1;34m()\u001B[0m\n",
      "File \u001B[1;32mpandas\\_libs\\hashtable_class_helper.pxi:7088\u001B[0m, in \u001B[0;36mpandas._libs.hashtable.PyObjectHashTable.get_item\u001B[1;34m()\u001B[0m\n",
      "\u001B[1;31mKeyError\u001B[0m: 10",
      "\nThe above exception was the direct cause of the following exception:\n",
      "\u001B[1;31mKeyError\u001B[0m                                  Traceback (most recent call last)",
      "Cell \u001B[1;32mIn[90], line 1\u001B[0m\n\u001B[1;32m----> 1\u001B[0m \u001B[43mtest_dataset\u001B[49m\u001B[43m[\u001B[49m\u001B[38;5;241;43m10\u001B[39;49m\u001B[43m]\u001B[49m\n",
      "Cell \u001B[1;32mIn[77], line 44\u001B[0m, in \u001B[0;36mSiameseDataset.__getitem__\u001B[1;34m(self, index)\u001B[0m\n\u001B[0;32m     40\u001B[0m     \u001B[38;5;28mself\u001B[39m\u001B[38;5;241m.\u001B[39membeddings_data \u001B[38;5;241m=\u001B[39m \u001B[38;5;28mself\u001B[39m\u001B[38;5;241m.\u001B[39membeddings_data[:\u001B[38;5;28mself\u001B[39m\u001B[38;5;241m.\u001B[39mlength]\n\u001B[0;32m     41\u001B[0m     \u001B[38;5;28;01mreturn\u001B[39;00m \u001B[38;5;28mself\u001B[39m\n\u001B[1;32m---> 44\u001B[0m anchor, anchor_label \u001B[38;5;241m=\u001B[39m \u001B[38;5;28;43mself\u001B[39;49m\u001B[38;5;241;43m.\u001B[39;49m\u001B[43membeddings_data\u001B[49m\u001B[43m[\u001B[49m\u001B[43mindex\u001B[49m\u001B[43m]\u001B[49m, \u001B[38;5;28mself\u001B[39m\u001B[38;5;241m.\u001B[39mlabels[index]\n\u001B[0;32m     45\u001B[0m positive_or_negative \u001B[38;5;241m=\u001B[39m np\u001B[38;5;241m.\u001B[39mwhere(\n\u001B[0;32m     46\u001B[0m     ((\u001B[38;5;28mself\u001B[39m\u001B[38;5;241m.\u001B[39mlabels \u001B[38;5;241m==\u001B[39m anchor_label) \u001B[38;5;241m==\u001B[39m \u001B[38;5;28mself\u001B[39m\u001B[38;5;241m.\u001B[39msimilarity_flag)\n\u001B[0;32m     47\u001B[0m )[\u001B[38;5;241m0\u001B[39m]\n\u001B[0;32m     49\u001B[0m \u001B[38;5;66;03m# Delete source index, so we don't take two same pictures\u001B[39;00m\n",
      "File \u001B[1;32mD:\\possessor\\Documents\\ESSE\\IT\\ML\\CV\\cvenv\\Lib\\site-packages\\pandas\\core\\frame.py:3761\u001B[0m, in \u001B[0;36mDataFrame.__getitem__\u001B[1;34m(self, key)\u001B[0m\n\u001B[0;32m   3759\u001B[0m \u001B[38;5;28;01mif\u001B[39;00m \u001B[38;5;28mself\u001B[39m\u001B[38;5;241m.\u001B[39mcolumns\u001B[38;5;241m.\u001B[39mnlevels \u001B[38;5;241m>\u001B[39m \u001B[38;5;241m1\u001B[39m:\n\u001B[0;32m   3760\u001B[0m     \u001B[38;5;28;01mreturn\u001B[39;00m \u001B[38;5;28mself\u001B[39m\u001B[38;5;241m.\u001B[39m_getitem_multilevel(key)\n\u001B[1;32m-> 3761\u001B[0m indexer \u001B[38;5;241m=\u001B[39m \u001B[38;5;28;43mself\u001B[39;49m\u001B[38;5;241;43m.\u001B[39;49m\u001B[43mcolumns\u001B[49m\u001B[38;5;241;43m.\u001B[39;49m\u001B[43mget_loc\u001B[49m\u001B[43m(\u001B[49m\u001B[43mkey\u001B[49m\u001B[43m)\u001B[49m\n\u001B[0;32m   3762\u001B[0m \u001B[38;5;28;01mif\u001B[39;00m is_integer(indexer):\n\u001B[0;32m   3763\u001B[0m     indexer \u001B[38;5;241m=\u001B[39m [indexer]\n",
      "File \u001B[1;32mD:\\possessor\\Documents\\ESSE\\IT\\ML\\CV\\cvenv\\Lib\\site-packages\\pandas\\core\\indexes\\base.py:3654\u001B[0m, in \u001B[0;36mIndex.get_loc\u001B[1;34m(self, key)\u001B[0m\n\u001B[0;32m   3652\u001B[0m     \u001B[38;5;28;01mreturn\u001B[39;00m \u001B[38;5;28mself\u001B[39m\u001B[38;5;241m.\u001B[39m_engine\u001B[38;5;241m.\u001B[39mget_loc(casted_key)\n\u001B[0;32m   3653\u001B[0m \u001B[38;5;28;01mexcept\u001B[39;00m \u001B[38;5;167;01mKeyError\u001B[39;00m \u001B[38;5;28;01mas\u001B[39;00m err:\n\u001B[1;32m-> 3654\u001B[0m     \u001B[38;5;28;01mraise\u001B[39;00m \u001B[38;5;167;01mKeyError\u001B[39;00m(key) \u001B[38;5;28;01mfrom\u001B[39;00m \u001B[38;5;21;01merr\u001B[39;00m\n\u001B[0;32m   3655\u001B[0m \u001B[38;5;28;01mexcept\u001B[39;00m \u001B[38;5;167;01mTypeError\u001B[39;00m:\n\u001B[0;32m   3656\u001B[0m     \u001B[38;5;66;03m# If we have a listlike key, _check_indexing_error will raise\u001B[39;00m\n\u001B[0;32m   3657\u001B[0m     \u001B[38;5;66;03m#  InvalidIndexError. Otherwise we fall through and re-raise\u001B[39;00m\n\u001B[0;32m   3658\u001B[0m     \u001B[38;5;66;03m#  the TypeError.\u001B[39;00m\n\u001B[0;32m   3659\u001B[0m     \u001B[38;5;28mself\u001B[39m\u001B[38;5;241m.\u001B[39m_check_indexing_error(key)\n",
      "\u001B[1;31mKeyError\u001B[0m: 10"
     ]
    }
   ],
   "source": [
    "test_dataset[10]"
   ],
   "metadata": {
    "collapsed": false,
    "ExecuteTime": {
     "start_time": "2023-08-17T09:03:22.882242Z",
     "end_time": "2023-08-17T09:03:22.942990Z"
    }
   }
  },
  {
   "cell_type": "code",
   "execution_count": 68,
   "outputs": [
    {
     "data": {
      "text/plain": "              0         1         2         3         4         5         6  \\\n4887   0.037575 -0.066096 -0.016135 -0.062686 -0.194813  0.190746 -0.417798   \n9556  -0.041652  0.438315  0.013559 -0.046987  0.021649 -0.110765 -0.261692   \n16403 -0.078765 -0.226591  0.034742  0.080701 -0.079768  0.096030 -0.055759   \n12059 -0.639670  0.034599 -0.167871  0.357551  0.384221 -0.132520 -0.181177   \n16543 -0.432308 -0.091295  0.038741 -0.087281 -0.132383  0.316011  0.118130   \n...         ...       ...       ...       ...       ...       ...       ...   \n11088 -0.115002 -0.001155  0.359325 -0.316851 -0.328655  0.039792 -0.039318   \n20074  0.183301 -0.181482 -0.150497  0.184815  0.214216 -0.022471 -0.022557   \n995    0.106969  0.134642  0.195039 -0.424222 -0.015339 -0.415955 -0.096164   \n13351  0.358733 -0.180579 -0.032065 -0.189290  0.131533 -0.334349 -0.276466   \n11804  0.036564 -0.113586  0.154429  0.110837 -0.106527 -0.040404  0.152005   \n\n              7         8         9  ...       502       503       504  \\\n4887  -0.185237 -0.291453 -0.473893  ... -0.210712  0.293591  0.085848   \n9556  -0.487588 -0.052194  0.024853  ...  0.310035  0.132173 -0.093009   \n16403  0.091666 -0.267085  0.214377  ... -0.106504 -0.020903 -0.325432   \n12059 -0.452871  0.339860 -0.044712  ...  0.450946 -0.553067 -0.150648   \n16543 -0.073155 -0.216728  0.427024  ... -0.092123  0.042614  0.015768   \n...         ...       ...       ...  ...       ...       ...       ...   \n11088 -0.249942  0.780302 -0.140349  ... -0.004177 -0.109909  0.268295   \n20074 -0.023463 -0.072060 -0.462796  ...  0.052693 -0.285461 -0.058376   \n995   -0.253265  0.195822 -0.097863  ... -0.244838 -0.171950  0.224962   \n13351  0.142602  0.127522  0.144114  ...  0.193543  0.053381 -0.006492   \n11804 -0.319384  0.242892  0.026510  ...  0.285718 -0.058671 -0.052070   \n\n            505       506       507       508       509       510       511  \n4887  -0.078687 -0.272077  0.054797 -0.338254 -0.191663 -0.011458 -0.056422  \n9556  -0.087218  0.101687  0.260449 -0.245910  0.169747  0.083053 -0.367968  \n16403  0.005511  0.008779  0.175032 -0.142119  0.040374 -0.029455  0.125380  \n12059  0.208875 -0.167638 -0.119064 -0.086561  0.081693  0.209527  0.038392  \n16543 -0.262150 -0.072917  0.305093 -0.022806  0.113784  0.194165  0.484626  \n...         ...       ...       ...       ...       ...       ...       ...  \n11088  0.181579 -0.042418  0.058142  0.514115  0.053900 -0.111740  0.377065  \n20074 -0.027986  0.026077  0.359280 -0.057999 -0.274840 -0.029227  0.032855  \n995    0.098151  0.135813  0.332630 -0.220765  0.110880 -0.017790 -0.201594  \n13351 -0.105606 -0.242649  0.066989 -0.071690 -0.101443  0.197346 -0.244758  \n11804  0.237669  0.159033  0.187964 -0.062143 -0.347887 -0.162841 -0.003481  \n\n[23335 rows x 512 columns]",
      "text/html": "<div>\n<style scoped>\n    .dataframe tbody tr th:only-of-type {\n        vertical-align: middle;\n    }\n\n    .dataframe tbody tr th {\n        vertical-align: top;\n    }\n\n    .dataframe thead th {\n        text-align: right;\n    }\n</style>\n<table border=\"1\" class=\"dataframe\">\n  <thead>\n    <tr style=\"text-align: right;\">\n      <th></th>\n      <th>0</th>\n      <th>1</th>\n      <th>2</th>\n      <th>3</th>\n      <th>4</th>\n      <th>5</th>\n      <th>6</th>\n      <th>7</th>\n      <th>8</th>\n      <th>9</th>\n      <th>...</th>\n      <th>502</th>\n      <th>503</th>\n      <th>504</th>\n      <th>505</th>\n      <th>506</th>\n      <th>507</th>\n      <th>508</th>\n      <th>509</th>\n      <th>510</th>\n      <th>511</th>\n    </tr>\n  </thead>\n  <tbody>\n    <tr>\n      <th>4887</th>\n      <td>0.037575</td>\n      <td>-0.066096</td>\n      <td>-0.016135</td>\n      <td>-0.062686</td>\n      <td>-0.194813</td>\n      <td>0.190746</td>\n      <td>-0.417798</td>\n      <td>-0.185237</td>\n      <td>-0.291453</td>\n      <td>-0.473893</td>\n      <td>...</td>\n      <td>-0.210712</td>\n      <td>0.293591</td>\n      <td>0.085848</td>\n      <td>-0.078687</td>\n      <td>-0.272077</td>\n      <td>0.054797</td>\n      <td>-0.338254</td>\n      <td>-0.191663</td>\n      <td>-0.011458</td>\n      <td>-0.056422</td>\n    </tr>\n    <tr>\n      <th>9556</th>\n      <td>-0.041652</td>\n      <td>0.438315</td>\n      <td>0.013559</td>\n      <td>-0.046987</td>\n      <td>0.021649</td>\n      <td>-0.110765</td>\n      <td>-0.261692</td>\n      <td>-0.487588</td>\n      <td>-0.052194</td>\n      <td>0.024853</td>\n      <td>...</td>\n      <td>0.310035</td>\n      <td>0.132173</td>\n      <td>-0.093009</td>\n      <td>-0.087218</td>\n      <td>0.101687</td>\n      <td>0.260449</td>\n      <td>-0.245910</td>\n      <td>0.169747</td>\n      <td>0.083053</td>\n      <td>-0.367968</td>\n    </tr>\n    <tr>\n      <th>16403</th>\n      <td>-0.078765</td>\n      <td>-0.226591</td>\n      <td>0.034742</td>\n      <td>0.080701</td>\n      <td>-0.079768</td>\n      <td>0.096030</td>\n      <td>-0.055759</td>\n      <td>0.091666</td>\n      <td>-0.267085</td>\n      <td>0.214377</td>\n      <td>...</td>\n      <td>-0.106504</td>\n      <td>-0.020903</td>\n      <td>-0.325432</td>\n      <td>0.005511</td>\n      <td>0.008779</td>\n      <td>0.175032</td>\n      <td>-0.142119</td>\n      <td>0.040374</td>\n      <td>-0.029455</td>\n      <td>0.125380</td>\n    </tr>\n    <tr>\n      <th>12059</th>\n      <td>-0.639670</td>\n      <td>0.034599</td>\n      <td>-0.167871</td>\n      <td>0.357551</td>\n      <td>0.384221</td>\n      <td>-0.132520</td>\n      <td>-0.181177</td>\n      <td>-0.452871</td>\n      <td>0.339860</td>\n      <td>-0.044712</td>\n      <td>...</td>\n      <td>0.450946</td>\n      <td>-0.553067</td>\n      <td>-0.150648</td>\n      <td>0.208875</td>\n      <td>-0.167638</td>\n      <td>-0.119064</td>\n      <td>-0.086561</td>\n      <td>0.081693</td>\n      <td>0.209527</td>\n      <td>0.038392</td>\n    </tr>\n    <tr>\n      <th>16543</th>\n      <td>-0.432308</td>\n      <td>-0.091295</td>\n      <td>0.038741</td>\n      <td>-0.087281</td>\n      <td>-0.132383</td>\n      <td>0.316011</td>\n      <td>0.118130</td>\n      <td>-0.073155</td>\n      <td>-0.216728</td>\n      <td>0.427024</td>\n      <td>...</td>\n      <td>-0.092123</td>\n      <td>0.042614</td>\n      <td>0.015768</td>\n      <td>-0.262150</td>\n      <td>-0.072917</td>\n      <td>0.305093</td>\n      <td>-0.022806</td>\n      <td>0.113784</td>\n      <td>0.194165</td>\n      <td>0.484626</td>\n    </tr>\n    <tr>\n      <th>...</th>\n      <td>...</td>\n      <td>...</td>\n      <td>...</td>\n      <td>...</td>\n      <td>...</td>\n      <td>...</td>\n      <td>...</td>\n      <td>...</td>\n      <td>...</td>\n      <td>...</td>\n      <td>...</td>\n      <td>...</td>\n      <td>...</td>\n      <td>...</td>\n      <td>...</td>\n      <td>...</td>\n      <td>...</td>\n      <td>...</td>\n      <td>...</td>\n      <td>...</td>\n      <td>...</td>\n    </tr>\n    <tr>\n      <th>11088</th>\n      <td>-0.115002</td>\n      <td>-0.001155</td>\n      <td>0.359325</td>\n      <td>-0.316851</td>\n      <td>-0.328655</td>\n      <td>0.039792</td>\n      <td>-0.039318</td>\n      <td>-0.249942</td>\n      <td>0.780302</td>\n      <td>-0.140349</td>\n      <td>...</td>\n      <td>-0.004177</td>\n      <td>-0.109909</td>\n      <td>0.268295</td>\n      <td>0.181579</td>\n      <td>-0.042418</td>\n      <td>0.058142</td>\n      <td>0.514115</td>\n      <td>0.053900</td>\n      <td>-0.111740</td>\n      <td>0.377065</td>\n    </tr>\n    <tr>\n      <th>20074</th>\n      <td>0.183301</td>\n      <td>-0.181482</td>\n      <td>-0.150497</td>\n      <td>0.184815</td>\n      <td>0.214216</td>\n      <td>-0.022471</td>\n      <td>-0.022557</td>\n      <td>-0.023463</td>\n      <td>-0.072060</td>\n      <td>-0.462796</td>\n      <td>...</td>\n      <td>0.052693</td>\n      <td>-0.285461</td>\n      <td>-0.058376</td>\n      <td>-0.027986</td>\n      <td>0.026077</td>\n      <td>0.359280</td>\n      <td>-0.057999</td>\n      <td>-0.274840</td>\n      <td>-0.029227</td>\n      <td>0.032855</td>\n    </tr>\n    <tr>\n      <th>995</th>\n      <td>0.106969</td>\n      <td>0.134642</td>\n      <td>0.195039</td>\n      <td>-0.424222</td>\n      <td>-0.015339</td>\n      <td>-0.415955</td>\n      <td>-0.096164</td>\n      <td>-0.253265</td>\n      <td>0.195822</td>\n      <td>-0.097863</td>\n      <td>...</td>\n      <td>-0.244838</td>\n      <td>-0.171950</td>\n      <td>0.224962</td>\n      <td>0.098151</td>\n      <td>0.135813</td>\n      <td>0.332630</td>\n      <td>-0.220765</td>\n      <td>0.110880</td>\n      <td>-0.017790</td>\n      <td>-0.201594</td>\n    </tr>\n    <tr>\n      <th>13351</th>\n      <td>0.358733</td>\n      <td>-0.180579</td>\n      <td>-0.032065</td>\n      <td>-0.189290</td>\n      <td>0.131533</td>\n      <td>-0.334349</td>\n      <td>-0.276466</td>\n      <td>0.142602</td>\n      <td>0.127522</td>\n      <td>0.144114</td>\n      <td>...</td>\n      <td>0.193543</td>\n      <td>0.053381</td>\n      <td>-0.006492</td>\n      <td>-0.105606</td>\n      <td>-0.242649</td>\n      <td>0.066989</td>\n      <td>-0.071690</td>\n      <td>-0.101443</td>\n      <td>0.197346</td>\n      <td>-0.244758</td>\n    </tr>\n    <tr>\n      <th>11804</th>\n      <td>0.036564</td>\n      <td>-0.113586</td>\n      <td>0.154429</td>\n      <td>0.110837</td>\n      <td>-0.106527</td>\n      <td>-0.040404</td>\n      <td>0.152005</td>\n      <td>-0.319384</td>\n      <td>0.242892</td>\n      <td>0.026510</td>\n      <td>...</td>\n      <td>0.285718</td>\n      <td>-0.058671</td>\n      <td>-0.052070</td>\n      <td>0.237669</td>\n      <td>0.159033</td>\n      <td>0.187964</td>\n      <td>-0.062143</td>\n      <td>-0.347887</td>\n      <td>-0.162841</td>\n      <td>-0.003481</td>\n    </tr>\n  </tbody>\n</table>\n<p>23335 rows × 512 columns</p>\n</div>"
     },
     "execution_count": 68,
     "metadata": {},
     "output_type": "execute_result"
    }
   ],
   "source": [
    "train_embeddings_bag"
   ],
   "metadata": {
    "collapsed": false,
    "ExecuteTime": {
     "start_time": "2023-08-17T09:04:20.916259Z",
     "end_time": "2023-08-17T09:04:21.034879Z"
    }
   }
  },
  {
   "cell_type": "markdown",
   "source": [
    "# 3. Models"
   ],
   "metadata": {
    "collapsed": false
   }
  },
  {
   "cell_type": "markdown",
   "source": [
    "## Feedforward model to process embeddings pairs"
   ],
   "metadata": {
    "collapsed": false
   }
  },
  {
   "cell_type": "code",
   "execution_count": 96,
   "outputs": [],
   "source": [
    "class SiameseNetwork(nn.Module):\n",
    "    def __init__(self, embedding_size):\n",
    "        super().__init__()\n",
    "\n",
    "        self.fc = nn.Sequential(\n",
    "            nn.Linear(in_features=embedding_size, out_features=1024),\n",
    "            nn.ReLU(),\n",
    "            nn.Linear(in_features=1024, out_features=1024),\n",
    "            nn.ReLU(),\n",
    "            nn.Dropout(p=0.2, inplace=False),\n",
    "            nn.Linear(in_features=1024, out_features=1),\n",
    "            nn.Sigmoid()\n",
    "        )\n",
    "\n",
    "    def forward(self, x1, x2):\n",
    "        square = (x1 - x2)**2\n",
    "        # Pass the inputs through fully connected layers\n",
    "        output = self.fc(square)\n",
    "        return output"
   ],
   "metadata": {
    "collapsed": false
   }
  },
  {
   "cell_type": "code",
   "execution_count": 97,
   "outputs": [
    {
     "execution_count": 97,
     "output_type": "execute_result",
     "data": {
      "text/plain": "SiameseNetwork(\n  (fc): Sequential(\n    (0): Linear(in_features=512, out_features=1024, bias=True)\n    (1): ReLU()\n    (2): Linear(in_features=1024, out_features=1024, bias=True)\n    (3): ReLU()\n    (4): Dropout(p=0.2, inplace=False)\n    (5): Linear(in_features=1024, out_features=1, bias=True)\n    (6): Sigmoid()\n  )\n)"
     },
     "metadata": {}
    }
   ],
   "source": [
    "perceptron_model = SiameseNetwork(config.embedding_size)\n",
    "perceptron_model"
   ],
   "metadata": {
    "collapsed": false
   }
  },
  {
   "cell_type": "markdown",
   "source": [
    "# 4. Various"
   ],
   "metadata": {
    "collapsed": false
   }
  },
  {
   "cell_type": "markdown",
   "source": [
    "## 1. Quality metrics"
   ],
   "metadata": {
    "collapsed": false
   }
  },
  {
   "cell_type": "markdown",
   "source": [
    "We will use accuracy and F1 score for out classification task"
   ],
   "metadata": {
    "collapsed": false
   }
  },
  {
   "cell_type": "code",
   "execution_count": 98,
   "outputs": [],
   "source": [
    "f1_score = MulticlassF1Score(num_classes=config.num_of_classes,)"
   ],
   "metadata": {
    "collapsed": false
   }
  },
  {
   "cell_type": "markdown",
   "source": [
    "## 2. Device"
   ],
   "metadata": {
    "collapsed": false
   }
  },
  {
   "cell_type": "code",
   "execution_count": 99,
   "outputs": [],
   "source": [
    "device = torch.device(\"cuda\" if torch.cuda.is_available() else \"cpu\")\n",
    "perceptron_model = perceptron_model.to(device)\n",
    "\n",
    "f1_score = f1_score.to(device)\n",
    "torch.cuda.empty_cache()"
   ],
   "metadata": {
    "collapsed": false
   }
  },
  {
   "cell_type": "markdown",
   "source": [
    "## 3. Data processing format"
   ],
   "metadata": {
    "collapsed": false
   }
  },
  {
   "cell_type": "code",
   "execution_count": 100,
   "outputs": [],
   "source": [
    "config.train_batch_size, config.val_batch_size = 160, 350"
   ],
   "metadata": {
    "collapsed": false
   }
  },
  {
   "cell_type": "markdown",
   "source": [
    "Split data to test and train for our Linear Model"
   ],
   "metadata": {
    "collapsed": false
   }
  },
  {
   "cell_type": "code",
   "source": [
    "torch.cuda.empty_cache()"
   ],
   "metadata": {
    "ExecuteTime": {
     "start_time": "2023-08-16T12:35:52.915659Z",
     "end_time": "2023-08-16T12:35:52.923622Z"
    },
    "execution": {
     "iopub.status.busy": "2023-08-16T09:53:54.977340Z",
     "iopub.execute_input": "2023-08-16T09:53:54.977773Z",
     "iopub.status.idle": "2023-08-16T09:53:55.063157Z",
     "shell.execute_reply.started": "2023-08-16T09:53:54.977736Z",
     "shell.execute_reply": "2023-08-16T09:53:55.061228Z"
    },
    "trusted": true
   },
   "execution_count": 63,
   "outputs": []
  },
  {
   "cell_type": "code",
   "source": [
    "train_dataloader = DataLoader(train_dataset,\n",
    "                              batch_size=config.train_batch_size,\n",
    "                              shuffle=True,\n",
    "                              num_workers=os.cpu_count() % 4,\n",
    ")"
   ],
   "metadata": {
    "collapsed": false,
    "ExecuteTime": {
     "start_time": "2023-08-16T12:35:52.923622Z",
     "end_time": "2023-08-16T12:35:52.932555Z"
    },
    "jupyter": {
     "outputs_hidden": false
    },
    "execution": {
     "iopub.status.busy": "2023-08-16T09:53:55.136763Z",
     "iopub.execute_input": "2023-08-16T09:53:55.137818Z",
     "iopub.status.idle": "2023-08-16T09:53:55.145437Z",
     "shell.execute_reply.started": "2023-08-16T09:53:55.137778Z",
     "shell.execute_reply": "2023-08-16T09:53:55.143865Z"
    },
    "trusted": true
   },
   "execution_count": 64,
   "outputs": []
  },
  {
   "cell_type": "code",
   "source": [
    "test_dataloader = DataLoader(test_dataset,\n",
    "                              batch_size=config.train_batch_size,\n",
    "                              shuffle=False,\n",
    "                              num_workers=os.cpu_count() % 4,\n",
    "                              )"
   ],
   "metadata": {
    "collapsed": false,
    "ExecuteTime": {
     "start_time": "2023-08-16T12:35:52.932555Z",
     "end_time": "2023-08-16T12:35:52.979679Z"
    },
    "jupyter": {
     "outputs_hidden": false
    },
    "execution": {
     "iopub.status.busy": "2023-08-16T09:53:56.301467Z",
     "iopub.execute_input": "2023-08-16T09:53:56.301857Z",
     "iopub.status.idle": "2023-08-16T09:53:56.309092Z",
     "shell.execute_reply.started": "2023-08-16T09:53:56.301822Z",
     "shell.execute_reply": "2023-08-16T09:53:56.307814Z"
    },
    "trusted": true
   },
   "execution_count": 65,
   "outputs": []
  },
  {
   "cell_type": "markdown",
   "source": [
    "## Choosing N nearest"
   ],
   "metadata": {}
  },
  {
   "cell_type": "code",
   "source": [
    "from sklearn.neighbors import NearestNeighbors"
   ],
   "metadata": {
    "ExecuteTime": {
     "start_time": "2023-08-16T12:35:52.941892Z",
     "end_time": "2023-08-16T12:35:53.057768Z"
    },
    "execution": {
     "iopub.status.busy": "2023-08-16T09:54:01.150831Z",
     "iopub.execute_input": "2023-08-16T09:54:01.152003Z",
     "iopub.status.idle": "2023-08-16T09:54:01.211880Z",
     "shell.execute_reply.started": "2023-08-16T09:54:01.151955Z",
     "shell.execute_reply": "2023-08-16T09:54:01.210754Z"
    },
    "trusted": true
   },
   "execution_count": 66,
   "outputs": []
  },
  {
   "cell_type": "code",
   "source": [
    "neigh = NearestNeighbors(n_neighbors=5, metric='cosine')"
   ],
   "metadata": {
    "ExecuteTime": {
     "start_time": "2023-08-16T12:35:53.057768Z",
     "end_time": "2023-08-16T12:35:53.064241Z"
    },
    "execution": {
     "iopub.status.busy": "2023-08-16T09:54:01.439223Z",
     "iopub.execute_input": "2023-08-16T09:54:01.439628Z",
     "iopub.status.idle": "2023-08-16T09:54:01.446046Z",
     "shell.execute_reply.started": "2023-08-16T09:54:01.439597Z",
     "shell.execute_reply": "2023-08-16T09:54:01.444220Z"
    },
    "trusted": true
   },
   "execution_count": 67,
   "outputs": []
  },
  {
   "cell_type": "code",
   "source": [
    "neigh.fit(embeddings_bag.cpu().numpy())"
   ],
   "metadata": {
    "ExecuteTime": {
     "start_time": "2023-08-16T12:35:53.064241Z",
     "end_time": "2023-08-16T12:35:53.089913Z"
    },
    "execution": {
     "iopub.status.busy": "2023-08-16T09:54:01.828131Z",
     "iopub.execute_input": "2023-08-16T09:54:01.828544Z",
     "iopub.status.idle": "2023-08-16T09:54:01.892051Z",
     "shell.execute_reply.started": "2023-08-16T09:54:01.828509Z",
     "shell.execute_reply": "2023-08-16T09:54:01.890984Z"
    },
    "trusted": true
   },
   "execution_count": 68,
   "outputs": [
    {
     "execution_count": 68,
     "output_type": "execute_result",
     "data": {
      "text/plain": "NearestNeighbors(metric='cosine')",
      "text/html": "<style>#sk-container-id-1 {color: black;background-color: white;}#sk-container-id-1 pre{padding: 0;}#sk-container-id-1 div.sk-toggleable {background-color: white;}#sk-container-id-1 label.sk-toggleable__label {cursor: pointer;display: block;width: 100%;margin-bottom: 0;padding: 0.3em;box-sizing: border-box;text-align: center;}#sk-container-id-1 label.sk-toggleable__label-arrow:before {content: \"▸\";float: left;margin-right: 0.25em;color: #696969;}#sk-container-id-1 label.sk-toggleable__label-arrow:hover:before {color: black;}#sk-container-id-1 div.sk-estimator:hover label.sk-toggleable__label-arrow:before {color: black;}#sk-container-id-1 div.sk-toggleable__content {max-height: 0;max-width: 0;overflow: hidden;text-align: left;background-color: #f0f8ff;}#sk-container-id-1 div.sk-toggleable__content pre {margin: 0.2em;color: black;border-radius: 0.25em;background-color: #f0f8ff;}#sk-container-id-1 input.sk-toggleable__control:checked~div.sk-toggleable__content {max-height: 200px;max-width: 100%;overflow: auto;}#sk-container-id-1 input.sk-toggleable__control:checked~label.sk-toggleable__label-arrow:before {content: \"▾\";}#sk-container-id-1 div.sk-estimator input.sk-toggleable__control:checked~label.sk-toggleable__label {background-color: #d4ebff;}#sk-container-id-1 div.sk-label input.sk-toggleable__control:checked~label.sk-toggleable__label {background-color: #d4ebff;}#sk-container-id-1 input.sk-hidden--visually {border: 0;clip: rect(1px 1px 1px 1px);clip: rect(1px, 1px, 1px, 1px);height: 1px;margin: -1px;overflow: hidden;padding: 0;position: absolute;width: 1px;}#sk-container-id-1 div.sk-estimator {font-family: monospace;background-color: #f0f8ff;border: 1px dotted black;border-radius: 0.25em;box-sizing: border-box;margin-bottom: 0.5em;}#sk-container-id-1 div.sk-estimator:hover {background-color: #d4ebff;}#sk-container-id-1 div.sk-parallel-item::after {content: \"\";width: 100%;border-bottom: 1px solid gray;flex-grow: 1;}#sk-container-id-1 div.sk-label:hover label.sk-toggleable__label {background-color: #d4ebff;}#sk-container-id-1 div.sk-serial::before {content: \"\";position: absolute;border-left: 1px solid gray;box-sizing: border-box;top: 0;bottom: 0;left: 50%;z-index: 0;}#sk-container-id-1 div.sk-serial {display: flex;flex-direction: column;align-items: center;background-color: white;padding-right: 0.2em;padding-left: 0.2em;position: relative;}#sk-container-id-1 div.sk-item {position: relative;z-index: 1;}#sk-container-id-1 div.sk-parallel {display: flex;align-items: stretch;justify-content: center;background-color: white;position: relative;}#sk-container-id-1 div.sk-item::before, #sk-container-id-1 div.sk-parallel-item::before {content: \"\";position: absolute;border-left: 1px solid gray;box-sizing: border-box;top: 0;bottom: 0;left: 50%;z-index: -1;}#sk-container-id-1 div.sk-parallel-item {display: flex;flex-direction: column;z-index: 1;position: relative;background-color: white;}#sk-container-id-1 div.sk-parallel-item:first-child::after {align-self: flex-end;width: 50%;}#sk-container-id-1 div.sk-parallel-item:last-child::after {align-self: flex-start;width: 50%;}#sk-container-id-1 div.sk-parallel-item:only-child::after {width: 0;}#sk-container-id-1 div.sk-dashed-wrapped {border: 1px dashed gray;margin: 0 0.4em 0.5em 0.4em;box-sizing: border-box;padding-bottom: 0.4em;background-color: white;}#sk-container-id-1 div.sk-label label {font-family: monospace;font-weight: bold;display: inline-block;line-height: 1.2em;}#sk-container-id-1 div.sk-label-container {text-align: center;}#sk-container-id-1 div.sk-container {/* jupyter's `normalize.less` sets `[hidden] { display: none; }` but bootstrap.min.css set `[hidden] { display: none !important; }` so we also need the `!important` here to be able to override the default hidden behavior on the sphinx rendered scikit-learn.org. See: https://github.com/scikit-learn/scikit-learn/issues/21755 */display: inline-block !important;position: relative;}#sk-container-id-1 div.sk-text-repr-fallback {display: none;}</style><div id=\"sk-container-id-1\" class=\"sk-top-container\"><div class=\"sk-text-repr-fallback\"><pre>NearestNeighbors(metric=&#x27;cosine&#x27;)</pre><b>In a Jupyter environment, please rerun this cell to show the HTML representation or trust the notebook. <br />On GitHub, the HTML representation is unable to render, please try loading this page with nbviewer.org.</b></div><div class=\"sk-container\" hidden><div class=\"sk-item\"><div class=\"sk-estimator sk-toggleable\"><input class=\"sk-toggleable__control sk-hidden--visually\" id=\"sk-estimator-id-1\" type=\"checkbox\" checked><label for=\"sk-estimator-id-1\" class=\"sk-toggleable__label sk-toggleable__label-arrow\">NearestNeighbors</label><div class=\"sk-toggleable__content\"><pre>NearestNeighbors(metric=&#x27;cosine&#x27;)</pre></div></div></div></div></div>"
     },
     "metadata": {}
    }
   ]
  },
  {
   "cell_type": "code",
   "source": [
    "# found_nearest = neigh.kneighbors(torch.unsqueeze(r_embedding, dim=0).cpu().numpy())\n",
    "found_nearest = neigh.kneighbors()"
   ],
   "metadata": {
    "ExecuteTime": {
     "start_time": "2023-08-16T12:35:53.089913Z",
     "end_time": "2023-08-16T12:35:53.141616Z"
    },
    "execution": {
     "iopub.status.busy": "2023-08-16T09:54:02.640486Z",
     "iopub.execute_input": "2023-08-16T09:54:02.640910Z",
     "iopub.status.idle": "2023-08-16T09:54:14.116186Z",
     "shell.execute_reply.started": "2023-08-16T09:54:02.640876Z",
     "shell.execute_reply": "2023-08-16T09:54:14.114970Z"
    },
    "trusted": true
   },
   "execution_count": 69,
   "outputs": []
  },
  {
   "cell_type": "code",
   "source": [
    "def get_dataset_with_nearest(array_of_nearest: np.array):\n",
    "    neighbors = []\n",
    "    for row_of_nearest in array_of_nearest:\n",
    "#         print(row_of_nearest)\n",
    "\n",
    "        labels_of_closest = []\n",
    "        for nearest_label in row_of_nearest:\n",
    "            labels_of_closest.append(labels[nearest_label].item())\n",
    "#         print(labels_of_closest)\n",
    "        neighbors.append(labels_of_closest)\n",
    "    label_array = pd.DataFrame(neighbors)\n",
    "    return label_array\n",
    "\n",
    "neighbors_labels = get_dataset_with_nearest(found_nearest[1])"
   ],
   "metadata": {
    "ExecuteTime": {
     "start_time": "2023-08-16T12:35:53.115504Z",
     "end_time": "2023-08-16T12:35:53.159611Z"
    },
    "execution": {
     "iopub.status.busy": "2023-08-16T09:54:14.118470Z",
     "iopub.execute_input": "2023-08-16T09:54:14.123389Z",
     "iopub.status.idle": "2023-08-16T09:54:16.245376Z",
     "shell.execute_reply.started": "2023-08-16T09:54:14.123349Z",
     "shell.execute_reply": "2023-08-16T09:54:16.244257Z"
    },
    "trusted": true
   },
   "execution_count": 70,
   "outputs": []
  },
  {
   "cell_type": "code",
   "source": [
    "neighbors_labels.nunique()"
   ],
   "metadata": {
    "ExecuteTime": {
     "start_time": "2023-08-16T12:35:53.136144Z",
     "end_time": "2023-08-16T12:35:53.192576Z"
    },
    "execution": {
     "iopub.status.busy": "2023-08-16T09:54:16.248522Z",
     "iopub.execute_input": "2023-08-16T09:54:16.252360Z",
     "iopub.status.idle": "2023-08-16T09:54:16.292085Z",
     "shell.execute_reply.started": "2023-08-16T09:54:16.252319Z",
     "shell.execute_reply": "2023-08-16T09:54:16.291145Z"
    },
    "trusted": true
   },
   "execution_count": 71,
   "outputs": [
    {
     "execution_count": 71,
     "output_type": "execute_result",
     "data": {
      "text/plain": "0    760\n1    760\n2    760\n3    760\n4    758\ndtype: int64"
     },
     "metadata": {}
    }
   ]
  },
  {
   "cell_type": "code",
   "source": [
    "# neighbors_labels"
   ],
   "metadata": {
    "ExecuteTime": {
     "start_time": "2023-08-16T12:35:53.165609Z",
     "end_time": "2023-08-16T12:35:53.275881Z"
    },
    "execution": {
     "iopub.status.busy": "2023-08-16T09:54:16.294575Z",
     "iopub.execute_input": "2023-08-16T09:54:16.299265Z",
     "iopub.status.idle": "2023-08-16T09:54:16.309084Z",
     "shell.execute_reply.started": "2023-08-16T09:54:16.299227Z",
     "shell.execute_reply": "2023-08-16T09:54:16.308104Z"
    },
    "trusted": true
   },
   "execution_count": 72,
   "outputs": []
  },
  {
   "cell_type": "code",
   "source": [
    "def all_values_same(row):\n",
    "    return all(row == row[0])"
   ],
   "metadata": {
    "ExecuteTime": {
     "start_time": "2023-08-16T12:35:53.177837Z",
     "end_time": "2023-08-16T12:35:53.275881Z"
    },
    "execution": {
     "iopub.status.busy": "2023-08-16T09:54:16.312437Z",
     "iopub.execute_input": "2023-08-16T09:54:16.314291Z",
     "iopub.status.idle": "2023-08-16T09:54:16.324515Z",
     "shell.execute_reply.started": "2023-08-16T09:54:16.314253Z",
     "shell.execute_reply": "2023-08-16T09:54:16.323566Z"
    },
    "trusted": true
   },
   "execution_count": 73,
   "outputs": []
  },
  {
   "cell_type": "code",
   "source": [
    "def some_values_same(row, number_of_same=3):\n",
    "    unique_numbers = set(row)\n",
    "    all_numbers = list(row)\n",
    "    [all_numbers.remove(u) for u in unique_numbers]\n",
    "    # Now we can select any number - list contains only numbers that represent the majority.\n",
    "    try:\n",
    "        value_to_compare = all_numbers[0]\n",
    "    except IndexError:\n",
    "        value_to_compare = row[0]\n",
    "\n",
    "    return ((row == value_to_compare).sum() >= number_of_same)"
   ],
   "metadata": {
    "ExecuteTime": {
     "start_time": "2023-08-16T12:35:53.192576Z",
     "end_time": "2023-08-16T12:35:53.275881Z"
    },
    "execution": {
     "iopub.status.busy": "2023-08-16T09:54:16.326002Z",
     "iopub.execute_input": "2023-08-16T09:54:16.327967Z",
     "iopub.status.idle": "2023-08-16T09:54:16.342174Z",
     "shell.execute_reply.started": "2023-08-16T09:54:16.327932Z",
     "shell.execute_reply": "2023-08-16T09:54:16.340220Z"
    },
    "trusted": true
   },
   "execution_count": 74,
   "outputs": []
  },
  {
   "cell_type": "code",
   "source": [
    "neighbors_labels['are_labels_same'] = neighbors_labels.apply(all_values_same, axis=1)"
   ],
   "metadata": {
    "ExecuteTime": {
     "start_time": "2023-08-16T12:35:53.229990Z",
     "end_time": "2023-08-16T12:35:53.275881Z"
    },
    "execution": {
     "iopub.status.busy": "2023-08-16T09:54:51.175352Z",
     "iopub.execute_input": "2023-08-16T09:54:51.175815Z",
     "iopub.status.idle": "2023-08-16T09:54:53.451473Z",
     "shell.execute_reply.started": "2023-08-16T09:54:51.175780Z",
     "shell.execute_reply": "2023-08-16T09:54:53.446551Z"
    },
    "trusted": true
   },
   "execution_count": 76,
   "outputs": []
  },
  {
   "cell_type": "code",
   "source": [
    "neighbors_labels['three_are_same'] = neighbors_labels.loc[:, neighbors_labels.columns[:-1]].apply(some_values_same, axis=1)"
   ],
   "metadata": {
    "ExecuteTime": {
     "start_time": "2023-08-16T12:35:53.275881Z",
     "end_time": "2023-08-16T12:35:53.342972Z"
    },
    "execution": {
     "iopub.status.busy": "2023-08-16T09:55:38.646406Z",
     "iopub.execute_input": "2023-08-16T09:55:38.646827Z",
     "iopub.status.idle": "2023-08-16T09:55:42.211651Z",
     "shell.execute_reply.started": "2023-08-16T09:55:38.646793Z",
     "shell.execute_reply": "2023-08-16T09:55:42.210402Z"
    },
    "trusted": true
   },
   "execution_count": 80,
   "outputs": []
  },
  {
   "cell_type": "code",
   "source": [
    "neighbors_labels"
   ],
   "metadata": {
    "ExecuteTime": {
     "start_time": "2023-08-16T12:35:53.342972Z",
     "end_time": "2023-08-16T12:35:53.409333Z"
    },
    "execution": {
     "iopub.status.busy": "2023-08-16T09:55:43.238434Z",
     "iopub.execute_input": "2023-08-16T09:55:43.238854Z",
     "iopub.status.idle": "2023-08-16T09:55:43.263565Z",
     "shell.execute_reply.started": "2023-08-16T09:55:43.238818Z",
     "shell.execute_reply": "2023-08-16T09:55:43.262592Z"
    },
    "trusted": true
   },
   "execution_count": 81,
   "outputs": [
    {
     "execution_count": 81,
     "output_type": "execute_result",
     "data": {
      "text/plain": "         0    1    2    3    4  are_labels_same  three_are_same\n0      628  628  628  628  628             True            True\n1      330  330  330  330  330             True            True\n2      367  352  367  604  604            False           False\n3      152  152  152  152  152             True            True\n4       33   33   33   33   33             True            True\n...    ...  ...  ...  ...  ...              ...             ...\n21784  282  282  282  282  282             True            True\n21785  345  345  345  344  344            False            True\n21786  657  657  657  657  484            False            True\n21787  660  660  621  608  660            False            True\n21788  706  706  706  706  706             True            True\n\n[21789 rows x 7 columns]",
      "text/html": "<div>\n<style scoped>\n    .dataframe tbody tr th:only-of-type {\n        vertical-align: middle;\n    }\n\n    .dataframe tbody tr th {\n        vertical-align: top;\n    }\n\n    .dataframe thead th {\n        text-align: right;\n    }\n</style>\n<table border=\"1\" class=\"dataframe\">\n  <thead>\n    <tr style=\"text-align: right;\">\n      <th></th>\n      <th>0</th>\n      <th>1</th>\n      <th>2</th>\n      <th>3</th>\n      <th>4</th>\n      <th>are_labels_same</th>\n      <th>three_are_same</th>\n    </tr>\n  </thead>\n  <tbody>\n    <tr>\n      <th>0</th>\n      <td>628</td>\n      <td>628</td>\n      <td>628</td>\n      <td>628</td>\n      <td>628</td>\n      <td>True</td>\n      <td>True</td>\n    </tr>\n    <tr>\n      <th>1</th>\n      <td>330</td>\n      <td>330</td>\n      <td>330</td>\n      <td>330</td>\n      <td>330</td>\n      <td>True</td>\n      <td>True</td>\n    </tr>\n    <tr>\n      <th>2</th>\n      <td>367</td>\n      <td>352</td>\n      <td>367</td>\n      <td>604</td>\n      <td>604</td>\n      <td>False</td>\n      <td>False</td>\n    </tr>\n    <tr>\n      <th>3</th>\n      <td>152</td>\n      <td>152</td>\n      <td>152</td>\n      <td>152</td>\n      <td>152</td>\n      <td>True</td>\n      <td>True</td>\n    </tr>\n    <tr>\n      <th>4</th>\n      <td>33</td>\n      <td>33</td>\n      <td>33</td>\n      <td>33</td>\n      <td>33</td>\n      <td>True</td>\n      <td>True</td>\n    </tr>\n    <tr>\n      <th>...</th>\n      <td>...</td>\n      <td>...</td>\n      <td>...</td>\n      <td>...</td>\n      <td>...</td>\n      <td>...</td>\n      <td>...</td>\n    </tr>\n    <tr>\n      <th>21784</th>\n      <td>282</td>\n      <td>282</td>\n      <td>282</td>\n      <td>282</td>\n      <td>282</td>\n      <td>True</td>\n      <td>True</td>\n    </tr>\n    <tr>\n      <th>21785</th>\n      <td>345</td>\n      <td>345</td>\n      <td>345</td>\n      <td>344</td>\n      <td>344</td>\n      <td>False</td>\n      <td>True</td>\n    </tr>\n    <tr>\n      <th>21786</th>\n      <td>657</td>\n      <td>657</td>\n      <td>657</td>\n      <td>657</td>\n      <td>484</td>\n      <td>False</td>\n      <td>True</td>\n    </tr>\n    <tr>\n      <th>21787</th>\n      <td>660</td>\n      <td>660</td>\n      <td>621</td>\n      <td>608</td>\n      <td>660</td>\n      <td>False</td>\n      <td>True</td>\n    </tr>\n    <tr>\n      <th>21788</th>\n      <td>706</td>\n      <td>706</td>\n      <td>706</td>\n      <td>706</td>\n      <td>706</td>\n      <td>True</td>\n      <td>True</td>\n    </tr>\n  </tbody>\n</table>\n<p>21789 rows × 7 columns</p>\n</div>"
     },
     "metadata": {}
    }
   ]
  },
  {
   "cell_type": "markdown",
   "source": [
    "Let's check how good our Neighbors model works"
   ],
   "metadata": {}
  },
  {
   "cell_type": "code",
   "source": [
    "print(f\"In {len(neighbors_labels[neighbors_labels['are_labels_same']]) / len(neighbors_labels) * 100}% of data classes have all same class in its' nearest vectors\")"
   ],
   "metadata": {
    "ExecuteTime": {
     "start_time": "2023-08-16T12:35:53.380339Z",
     "end_time": "2023-08-16T12:35:53.454421Z"
    },
    "execution": {
     "iopub.status.busy": "2023-08-16T09:55:54.688569Z",
     "iopub.execute_input": "2023-08-16T09:55:54.689283Z",
     "iopub.status.idle": "2023-08-16T09:55:54.700526Z",
     "shell.execute_reply.started": "2023-08-16T09:55:54.689246Z",
     "shell.execute_reply": "2023-08-16T09:55:54.699113Z"
    },
    "trusted": true
   },
   "execution_count": 82,
   "outputs": [
    {
     "name": "stdout",
     "text": "In 66.4693193813392% of data classes have all same class in its' nearest vectors\n",
     "output_type": "stream"
    }
   ]
  },
  {
   "cell_type": "code",
   "source": [
    "print(f\"In {len(neighbors_labels[neighbors_labels['three_are_same']]) / len(neighbors_labels) * 100}% of data classes have at least 3 of same class in its' nearest vectors\")"
   ],
   "metadata": {
    "ExecuteTime": {
     "start_time": "2023-08-16T12:35:53.392007Z",
     "end_time": "2023-08-16T12:35:53.454421Z"
    },
    "execution": {
     "iopub.status.busy": "2023-08-16T09:55:54.853620Z",
     "iopub.execute_input": "2023-08-16T09:55:54.854572Z",
     "iopub.status.idle": "2023-08-16T09:55:54.864062Z",
     "shell.execute_reply.started": "2023-08-16T09:55:54.854526Z",
     "shell.execute_reply": "2023-08-16T09:55:54.862988Z"
    },
    "trusted": true
   },
   "execution_count": 83,
   "outputs": [
    {
     "name": "stdout",
     "text": "In 91.90417182982239% of data classes have at least 3 of same class in its' nearest vectors\n",
     "output_type": "stream"
    }
   ]
  },
  {
   "cell_type": "markdown",
   "source": [
    "# 5. Initialize the train process"
   ],
   "metadata": {
    "id": "qCM07xVnTFDp",
    "papermill": {
     "duration": 0.029095,
     "end_time": "2023-08-14T16:24:30.635296",
     "exception": false,
     "start_time": "2023-08-14T16:24:30.606201",
     "status": "completed"
    },
    "tags": []
   }
  },
  {
   "cell_type": "markdown",
   "source": [
    "We will train the Linear Model to distinguish two images by their CNN embeddings. So, we can put two images into a model and learn wheather they are of same class or not."
   ],
   "metadata": {}
  },
  {
   "cell_type": "markdown",
   "source": [
    "## 1. Functions to plot the result"
   ],
   "metadata": {
    "id": "afGGK718TFDp",
    "papermill": {
     "duration": 0.029317,
     "end_time": "2023-08-14T16:24:30.693896",
     "exception": false,
     "start_time": "2023-08-14T16:24:30.664579",
     "status": "completed"
    },
    "tags": []
   }
  },
  {
   "cell_type": "code",
   "source": [
    "def plot_two_curves(\n",
    "        title: str,\n",
    "        train_curve: list[float],\n",
    "        val_curve: list[float],\n",
    "\n",
    "):\n",
    "    plt.figure(figsize=(16, 8))\n",
    "    plt.title(title)\n",
    "    plt.plot(train_curve, label=f'Train {title}')\n",
    "    plt.plot(val_curve, label=f'Valid {title}')\n",
    "    plt.legend()\n",
    "    plt.grid()\n",
    "    plt.show()"
   ],
   "metadata": {
    "ExecuteTime": {
     "start_time": "2023-08-16T12:35:53.408778Z",
     "end_time": "2023-08-16T12:35:53.454421Z"
    },
    "id": "QVJL1liGTFDp",
    "papermill": {
     "duration": 0.039318,
     "end_time": "2023-08-14T16:24:30.762320",
     "exception": false,
     "start_time": "2023-08-14T16:24:30.723002",
     "status": "completed"
    },
    "tags": [],
    "execution": {
     "iopub.status.busy": "2023-08-16T10:00:11.024749Z",
     "iopub.execute_input": "2023-08-16T10:00:11.025151Z",
     "iopub.status.idle": "2023-08-16T10:00:11.037915Z",
     "shell.execute_reply.started": "2023-08-16T10:00:11.025116Z",
     "shell.execute_reply": "2023-08-16T10:00:11.033734Z"
    },
    "trusted": true
   },
   "execution_count": 101,
   "outputs": []
  },
  {
   "cell_type": "code",
   "source": [
    "def plot_stats(\n",
    "        train_loss: list[float],\n",
    "        valid_loss: list[float],\n",
    "        train_accuracy: list[float]=None,\n",
    "        valid_accuracy: list[float]=None,\n",
    "        train_f1_score: list[float]=None,\n",
    "        valid_f1_score: list[float]=None,\n",
    "        title: str = None\n",
    "):\n",
    "    plot_two_curves(\n",
    "        'Loss',\n",
    "        train_loss,\n",
    "        valid_loss\n",
    "    )\n",
    "\n",
    "    if train_accuracy and valid_accuracy:\n",
    "        plot_two_curves(\n",
    "            'accuracy',\n",
    "            train_accuracy,\n",
    "            valid_accuracy\n",
    "        )\n",
    "\n",
    "    if train_f1_score and valid_f1_score:\n",
    "        plot_two_curves(\n",
    "            'F1 score',\n",
    "            train_f1_score,\n",
    "            valid_f1_score\n",
    "        )\n"
   ],
   "metadata": {
    "ExecuteTime": {
     "start_time": "2023-08-16T12:35:53.409333Z",
     "end_time": "2023-08-16T12:35:53.454421Z"
    },
    "id": "GQrWiRJbTFDp",
    "papermill": {
     "duration": 0.040323,
     "end_time": "2023-08-14T16:24:30.832595",
     "exception": false,
     "start_time": "2023-08-14T16:24:30.792272",
     "status": "completed"
    },
    "tags": [],
    "execution": {
     "iopub.status.busy": "2023-08-16T10:00:11.593894Z",
     "iopub.execute_input": "2023-08-16T10:00:11.594263Z",
     "iopub.status.idle": "2023-08-16T10:00:11.603558Z",
     "shell.execute_reply.started": "2023-08-16T10:00:11.594232Z",
     "shell.execute_reply": "2023-08-16T10:00:11.602442Z"
    },
    "trusted": true
   },
   "execution_count": 102,
   "outputs": []
  },
  {
   "cell_type": "markdown",
   "source": [
    "## 2. Training and evaluation functions"
   ],
   "metadata": {
    "id": "ePLlKs4rTFDq",
    "papermill": {
     "duration": 0.02992,
     "end_time": "2023-08-14T16:24:30.892994",
     "exception": false,
     "start_time": "2023-08-14T16:24:30.863074",
     "status": "completed"
    },
    "tags": []
   }
  },
  {
   "cell_type": "code",
   "source": [
    "def train_one_epoch(model, dataloader, optimizer, criterion, device, epoch: str):\n",
    "    model.train()\n",
    "    threshold = torch.Tensor([0.5]).to(device)\n",
    "    train_loss = 0.0\n",
    "    train_correct = 0.0\n",
    "    train_f1 = 0.0\n",
    "    n_batches = 0\n",
    "    data_size = 0\n",
    "\n",
    "    with tqdm(dataloader, desc=f'Epoch: {epoch}', unit=\"batch\") as tepoch:\n",
    "        for image_one, image_second, is_same_class in tepoch:\n",
    "            n_batches += 1\n",
    "            image_one = image_one.to(device)\n",
    "            image_second = image_second.to(device)\n",
    "            is_same_class = is_same_class.to(device)\n",
    "\n",
    "            optimizer.zero_grad()\n",
    "\n",
    "            # Our model returns embeddings (instead of predictions).\n",
    "            predicted_similarity = model(image_one, image_second)\n",
    "            predicted_similarity = torch.squeeze(predicted_similarity, dim=-1)\n",
    "\n",
    "            loss = criterion(predicted_similarity, is_same_class.to(torch.float32))\n",
    "            loss.backward()\n",
    "\n",
    "            optimizer.step()\n",
    "\n",
    "            loss = loss.item()  # item() extracts scalar\n",
    "            train_loss += loss\n",
    "\n",
    "\n",
    "            prediction = (predicted_similarity >= threshold).float()\n",
    "            # _, predicted = torch.max(probabilities, 1)\n",
    "            train_correct += (prediction == is_same_class).sum().item()\n",
    "            data_size += is_same_class.size(0)\n",
    "            train_accuracy = train_correct / data_size\n",
    "            f1 = f1_score(prediction, is_same_class).item()\n",
    "            train_f1 += f1\n",
    "\n",
    "\n",
    "            tepoch.set_postfix(loss=loss, acc=train_accuracy)\n",
    "\n",
    "    train_loss /= n_batches\n",
    "    train_f1 /= n_batches\n",
    "    gc.collect()\n",
    "    torch.cuda.empty_cache()\n",
    "\n",
    "    return train_loss, train_accuracy, train_f1"
   ],
   "metadata": {
    "ExecuteTime": {
     "start_time": "2023-08-16T12:35:53.421514Z",
     "end_time": "2023-08-16T12:35:53.526874Z"
    },
    "id": "QObsYKNJTFDq",
    "papermill": {
     "duration": 0.043445,
     "end_time": "2023-08-14T16:24:30.965904",
     "exception": false,
     "start_time": "2023-08-14T16:24:30.922459",
     "status": "completed"
    },
    "tags": [],
    "execution": {
     "iopub.status.busy": "2023-08-16T10:00:11.607118Z",
     "iopub.execute_input": "2023-08-16T10:00:11.607906Z",
     "iopub.status.idle": "2023-08-16T10:00:11.621255Z",
     "shell.execute_reply.started": "2023-08-16T10:00:11.607869Z",
     "shell.execute_reply": "2023-08-16T10:00:11.620245Z"
    },
    "trusted": true
   },
   "execution_count": 103,
   "outputs": []
  },
  {
   "cell_type": "code",
   "source": [
    "@torch.inference_mode()\n",
    "def validate_one_epoch(model, dataloader, criterion, device):\n",
    "    model.eval()\n",
    "    threshold = torch.Tensor([0.5]).to(device)\n",
    "    val_loss = 0.0\n",
    "    val_correct = 0.0\n",
    "    val_f1_score = 0.0\n",
    "    data_size = 0\n",
    "    n_batches = 0\n",
    "\n",
    "    with tqdm(dataloader, desc=\"Validation\",unit=\"batch\") as tepoch:\n",
    "        for image_one, image_second, is_same_class in tepoch:\n",
    "            n_batches += 1\n",
    "            image_one = image_one.to(device)\n",
    "            image_second = image_second.to(device)\n",
    "            is_same_class = is_same_class.to(device)\n",
    "\n",
    "            # Our model returns embeddings (instead of predictions).\n",
    "            predicted_similarity = model(image_one, image_second)\n",
    "            # print(predicted_similarity, predicted_similarity.int())\n",
    "            predicted_similarity = torch.squeeze(predicted_similarity, dim=-1)\n",
    "\n",
    "\n",
    "            # But we still want to calculate accuracy, so, we calculate probs it our ArcFace Function\n",
    "            loss = criterion(predicted_similarity, is_same_class.to(torch.float32))\n",
    "            loss = loss.item()  # item() extracts scalar\n",
    "            val_loss += loss\n",
    "\n",
    "\n",
    "            prediction = (predicted_similarity >= threshold).float()\n",
    "\n",
    "            correct = (prediction == is_same_class).sum().item()\n",
    "            val_correct += correct\n",
    "            data_size += is_same_class.size(0)  # Batch size\n",
    "\n",
    "            val_accuracy = val_correct / data_size\n",
    "            #\n",
    "            f1 = f1_score(prediction, is_same_class).item()\n",
    "            val_f1_score += f1\n",
    "            tepoch.set_postfix(loss=loss, acc=val_accuracy)\n",
    "\n",
    "    val_loss /= n_batches\n",
    "    val_f1_score /= n_batches\n",
    "    gc.collect()\n",
    "    torch.cuda.empty_cache()\n",
    "\n",
    "    return val_loss, val_accuracy, val_f1_score"
   ],
   "metadata": {
    "ExecuteTime": {
     "start_time": "2023-08-16T12:35:53.449764Z",
     "end_time": "2023-08-16T12:35:53.552214Z"
    },
    "id": "shn8rP6wTFDq",
    "papermill": {
     "duration": 0.043991,
     "end_time": "2023-08-14T16:24:31.039525",
     "exception": false,
     "start_time": "2023-08-14T16:24:30.995534",
     "status": "completed"
    },
    "tags": [],
    "execution": {
     "iopub.status.busy": "2023-08-16T10:00:11.758116Z",
     "iopub.execute_input": "2023-08-16T10:00:11.758485Z",
     "iopub.status.idle": "2023-08-16T10:00:11.773661Z",
     "shell.execute_reply.started": "2023-08-16T10:00:11.758453Z",
     "shell.execute_reply": "2023-08-16T10:00:11.772074Z"
    },
    "trusted": true
   },
   "execution_count": 104,
   "outputs": []
  },
  {
   "cell_type": "markdown",
   "source": [
    "## 3. Training cycle"
   ],
   "metadata": {
    "id": "1TWCVEGYTFDq",
    "papermill": {
     "duration": 0.029674,
     "end_time": "2023-08-14T16:24:31.098333",
     "exception": false,
     "start_time": "2023-08-14T16:24:31.068659",
     "status": "completed"
    },
    "tags": []
   }
  },
  {
   "cell_type": "code",
   "source": [
    "def train_model(model, train_loader, val_loader,\n",
    "                criterion=None, optimizer=None, num_epochs=5,\n",
    "                scheduler=None, device=torch.device(\"cpu\"),\n",
    "                save_model_to=None, wandb_logger=None):\n",
    "\n",
    "    # wandb.watch(model, criterion,)\n",
    "    since = time.time()\n",
    "\n",
    "    train_loss_history, valid_loss_history = [], []\n",
    "    train_acc_history, valid_acc_history = [], []\n",
    "    train_f1_history, valid_f1_history = [], []\n",
    "\n",
    "\n",
    "    # Create a temporary directory to save training checkpoints\n",
    "    with TemporaryDirectory() as tempdir:\n",
    "        best_model_params_path = os.path.join(tempdir, 'best_model_params.pt')\n",
    "\n",
    "        for epoch in range(num_epochs):\n",
    "            train_loss, train_accuracy, train_f1 = train_one_epoch(model, train_loader, optimizer, criterion, device, epoch=f'{epoch+1}/{num_epochs}')\n",
    "            val_loss, val_accuracy, val_f1 = validate_one_epoch(model, val_loader, criterion, device,)\n",
    "\n",
    "\n",
    "            print_highlighted(\n",
    "                f\"Loss: {val_loss:.4f} - Accuracy: {val_accuracy:.4f} - F1: {val_f1:.4f} - LR: {get_lr(optimizer)}\"\n",
    "            )\n",
    "\n",
    "            if not valid_loss_history or val_loss < valid_loss_history[-1]:\n",
    "                # If it's either first step (history is empty) or our weights are getting better\n",
    "                print_highlighted(\"New weights were applied.\\n\", bgcolor=Back.CYAN)\n",
    "                torch.save(model.state_dict(), best_model_params_path)\n",
    "\n",
    "            scheduler.step(val_loss)\n",
    "\n",
    "            train_loss_history.append(train_loss)\n",
    "            valid_loss_history.append(val_loss)\n",
    "            train_acc_history.append(train_accuracy)\n",
    "            valid_acc_history.append(val_accuracy)\n",
    "            train_f1_history.append(train_f1)\n",
    "            valid_f1_history.append(val_f1)\n",
    "\n",
    "            if wandb_logger is not None:\n",
    "\n",
    "                wandb_logger.log(\n",
    "                    dict(\n",
    "                        train_loss=train_loss,\n",
    "                        valid_loss=val_loss,\n",
    "                        train_accuracy=train_accuracy,\n",
    "                        val_accuracy=val_accuracy,\n",
    "                    )\n",
    "                )\n",
    "\n",
    "            del train_loss\n",
    "            del val_loss\n",
    "            gc.collect()\n",
    "            torch.cuda.empty_cache()\n",
    "\n",
    "        time_elapsed = time.time() - since\n",
    "        print_highlighted(f'Training complete in {time_elapsed // 60:.0f}m {time_elapsed % 60:.0f}s')\n",
    "\n",
    "        # load best model weights\n",
    "        model.load_state_dict(torch.load(best_model_params_path))\n",
    "\n",
    "        if save_model_to:\n",
    "            torch.save(model, save_model_to)\n",
    "            print_highlighted(f\"Model was saved to: {save_model_to}\")\n",
    "\n",
    "        history = dict(\n",
    "            train_loss=train_loss_history,\n",
    "            valid_loss=valid_loss_history,\n",
    "            train_accuracy=train_acc_history,\n",
    "            valid_accuracy=valid_acc_history,\n",
    "            train_f1_score=train_f1_history,\n",
    "            valid_f1_score=valid_f1_history,\n",
    "        )\n",
    "    return model, history"
   ],
   "metadata": {
    "ExecuteTime": {
     "start_time": "2023-08-16T12:35:53.470065Z",
     "end_time": "2023-08-16T12:35:53.552214Z"
    },
    "id": "CXrp7xrOTFDu",
    "papermill": {
     "duration": 0.045968,
     "end_time": "2023-08-14T16:24:31.173717",
     "exception": false,
     "start_time": "2023-08-14T16:24:31.127749",
     "status": "completed"
    },
    "tags": [],
    "execution": {
     "iopub.status.busy": "2023-08-16T10:00:12.106459Z",
     "iopub.execute_input": "2023-08-16T10:00:12.106980Z",
     "iopub.status.idle": "2023-08-16T10:00:12.129258Z",
     "shell.execute_reply.started": "2023-08-16T10:00:12.106941Z",
     "shell.execute_reply": "2023-08-16T10:00:12.128002Z"
    },
    "trusted": true
   },
   "execution_count": 105,
   "outputs": []
  },
  {
   "cell_type": "markdown",
   "source": [
    "# 6. Hyperparametres"
   ],
   "metadata": {
    "id": "GV7CqxbwTFDu",
    "papermill": {
     "duration": 0.029247,
     "end_time": "2023-08-14T16:24:31.232543",
     "exception": false,
     "start_time": "2023-08-14T16:24:31.203296",
     "status": "completed"
    },
    "tags": []
   }
  },
  {
   "cell_type": "code",
   "source": [
    "# criterion = nn.BCEWithLogitsLoss()\n",
    "criterion = nn.BCELoss()\n"
   ],
   "metadata": {
    "collapsed": false,
    "ExecuteTime": {
     "start_time": "2023-08-16T12:35:53.477501Z",
     "end_time": "2023-08-16T12:35:53.567838Z"
    },
    "jupyter": {
     "outputs_hidden": false
    },
    "execution": {
     "iopub.status.busy": "2023-08-16T10:00:12.567240Z",
     "iopub.execute_input": "2023-08-16T10:00:12.567695Z",
     "iopub.status.idle": "2023-08-16T10:00:12.574614Z",
     "shell.execute_reply.started": "2023-08-16T10:00:12.567642Z",
     "shell.execute_reply": "2023-08-16T10:00:12.573360Z"
    },
    "trusted": true
   },
   "execution_count": 106,
   "outputs": []
  },
  {
   "cell_type": "code",
   "source": [
    "config.learning_rate = 5e-5\n",
    "config.epochs = 30\n",
    "config.weight_decay = 1e-6\n",
    "config.min_loss_delta = 0.05"
   ],
   "metadata": {
    "ExecuteTime": {
     "start_time": "2023-08-16T12:35:53.485775Z",
     "end_time": "2023-08-16T12:35:53.567838Z"
    },
    "id": "HZAr_gPLTFDv",
    "papermill": {
     "duration": 0.04191,
     "end_time": "2023-08-14T16:24:31.822575",
     "exception": false,
     "start_time": "2023-08-14T16:24:31.780665",
     "status": "completed"
    },
    "tags": [],
    "execution": {
     "iopub.status.busy": "2023-08-16T10:07:59.733238Z",
     "iopub.execute_input": "2023-08-16T10:07:59.733671Z",
     "iopub.status.idle": "2023-08-16T10:07:59.745038Z",
     "shell.execute_reply.started": "2023-08-16T10:07:59.733637Z",
     "shell.execute_reply": "2023-08-16T10:07:59.742982Z"
    },
    "trusted": true
   },
   "execution_count": 121,
   "outputs": []
  },
  {
   "cell_type": "code",
   "source": [
    "optimizer = torch.optim.Adam(\n",
    "    perceptron_model.parameters(),\n",
    "    lr=config.learning_rate,\n",
    "    weight_decay = config.weight_decay)\n",
    "# optimizer = torch.optim.Adam(model.parameters(), lr=1e-3, weight_decay=0)\n",
    "# optimizer = torch.optim.SGD(model.parameters(), lr=config.learning_rate, momentum=0.8)\n",
    "# optimizer = torch.optim.Adam(model.parameters(), lr=1e-4)\n"
   ],
   "metadata": {
    "ExecuteTime": {
     "start_time": "2023-08-16T12:35:53.497841Z",
     "end_time": "2023-08-16T12:35:53.755340Z"
    },
    "collapsed": false,
    "id": "XcMxhj2oTFDv",
    "jupyter": {
     "outputs_hidden": false
    },
    "papermill": {
     "duration": 0.036695,
     "end_time": "2023-08-14T16:24:31.892729",
     "exception": false,
     "start_time": "2023-08-14T16:24:31.856034",
     "status": "completed"
    },
    "tags": [],
    "execution": {
     "iopub.status.busy": "2023-08-16T10:08:00.160684Z",
     "iopub.execute_input": "2023-08-16T10:08:00.161105Z",
     "iopub.status.idle": "2023-08-16T10:08:00.169976Z",
     "shell.execute_reply.started": "2023-08-16T10:08:00.161071Z",
     "shell.execute_reply": "2023-08-16T10:08:00.168336Z"
    },
    "trusted": true
   },
   "execution_count": 122,
   "outputs": []
  },
  {
   "cell_type": "code",
   "source": [
    "scheduler = optim.lr_scheduler.ReduceLROnPlateau(\n",
    "    optimizer, 'min', patience = 5, factor=0.5, \n",
    "    min_lr=config.min_lr , verbose=False,\n",
    "    threshold = config.min_loss_delta\n",
    ")"
   ],
   "metadata": {
    "ExecuteTime": {
     "start_time": "2023-08-16T12:35:53.510528Z",
     "end_time": "2023-08-16T12:35:53.786617Z"
    },
    "collapsed": false,
    "id": "mb4RgCFlTFDw",
    "jupyter": {
     "outputs_hidden": false
    },
    "papermill": {
     "duration": 0.048032,
     "end_time": "2023-08-14T16:24:32.072376",
     "exception": false,
     "start_time": "2023-08-14T16:24:32.024344",
     "status": "completed"
    },
    "tags": [],
    "execution": {
     "iopub.status.busy": "2023-08-16T10:08:00.659623Z",
     "iopub.execute_input": "2023-08-16T10:08:00.660379Z",
     "iopub.status.idle": "2023-08-16T10:08:00.667875Z",
     "shell.execute_reply.started": "2023-08-16T10:08:00.660341Z",
     "shell.execute_reply": "2023-08-16T10:08:00.666510Z"
    },
    "trusted": true
   },
   "execution_count": 123,
   "outputs": []
  },
  {
   "cell_type": "code",
   "source": [
    "def get_lr(optimizer):\n",
    "    \"\"\"\n",
    "    For some schedulers we don't have `get_last_lr()` method.\n",
    "    So, we will get last lr ourselves.\n",
    "    \"\"\"\n",
    "    return list(\n",
    "        [group['lr'] for group in optimizer.param_groups]\n",
    "    )"
   ],
   "metadata": {
    "ExecuteTime": {
     "start_time": "2023-08-16T12:35:53.519946Z",
     "end_time": "2023-08-16T12:35:53.786617Z"
    },
    "papermill": {
     "duration": 0.038065,
     "end_time": "2023-08-14T16:24:32.140787",
     "exception": false,
     "start_time": "2023-08-14T16:24:32.102722",
     "status": "completed"
    },
    "tags": [],
    "execution": {
     "iopub.status.busy": "2023-08-16T10:08:01.334809Z",
     "iopub.execute_input": "2023-08-16T10:08:01.335557Z",
     "iopub.status.idle": "2023-08-16T10:08:01.343531Z",
     "shell.execute_reply.started": "2023-08-16T10:08:01.335512Z",
     "shell.execute_reply": "2023-08-16T10:08:01.342301Z"
    },
    "trusted": true
   },
   "execution_count": 124,
   "outputs": []
  },
  {
   "cell_type": "code",
   "source": [
    "get_lr(optimizer)"
   ],
   "metadata": {
    "ExecuteTime": {
     "start_time": "2023-08-16T12:35:53.527392Z",
     "end_time": "2023-08-16T12:35:53.786617Z"
    },
    "papermill": {
     "duration": 0.038597,
     "end_time": "2023-08-14T16:24:32.208517",
     "exception": false,
     "start_time": "2023-08-14T16:24:32.169920",
     "status": "completed"
    },
    "tags": [],
    "execution": {
     "iopub.status.busy": "2023-08-16T10:08:02.032187Z",
     "iopub.execute_input": "2023-08-16T10:08:02.032612Z",
     "iopub.status.idle": "2023-08-16T10:08:02.049110Z",
     "shell.execute_reply.started": "2023-08-16T10:08:02.032578Z",
     "shell.execute_reply": "2023-08-16T10:08:02.047742Z"
    },
    "trusted": true
   },
   "execution_count": 125,
   "outputs": [
    {
     "execution_count": 125,
     "output_type": "execute_result",
     "data": {
      "text/plain": "[5e-05]"
     },
     "metadata": {}
    }
   ]
  },
  {
   "cell_type": "markdown",
   "source": [
    "# 7. Run the training process"
   ],
   "metadata": {
    "id": "CKuqXRwrTFDw",
    "papermill": {
     "duration": 0.029368,
     "end_time": "2023-08-14T16:24:32.266966",
     "exception": false,
     "start_time": "2023-08-14T16:24:32.237598",
     "status": "completed"
    },
    "tags": []
   }
  },
  {
   "cell_type": "code",
   "source": [
    "model, history = train_model(\n",
    "    model=perceptron_model,\n",
    "    train_loader=train_dataloader,\n",
    "    val_loader=test_dataloader,\n",
    "    criterion=criterion,\n",
    "    optimizer=optimizer,\n",
    "    num_epochs=config.epochs,\n",
    "    device=device,\n",
    "    scheduler=scheduler,\n",
    "    save_model_to=config.save_model_to,\n",
    "    wandb_logger=wandb_run\n",
    " )"
   ],
   "metadata": {
    "id": "9WxsyvplTFDw",
    "outputId": "de053f41-a9bb-49b4-ceec-4245ce71efe0",
    "papermill": {
     "duration": 3873.747084,
     "end_time": "2023-08-14T17:29:06.043157",
     "exception": false,
     "start_time": "2023-08-14T16:24:32.296073",
     "status": "completed"
    },
    "tags": [],
    "ExecuteTime": {
     "start_time": "2023-08-16T12:36:39.389861Z",
     "end_time": "2023-08-16T12:36:41.685419Z"
    },
    "execution": {
     "iopub.status.busy": "2023-08-16T10:08:04.490513Z",
     "iopub.execute_input": "2023-08-16T10:08:04.491434Z",
     "iopub.status.idle": "2023-08-16T10:11:16.573387Z",
     "shell.execute_reply.started": "2023-08-16T10:08:04.491395Z",
     "shell.execute_reply": "2023-08-16T10:11:16.568281Z"
    },
    "trusted": true
   },
   "execution_count": 126,
   "outputs": [
    {
     "name": "stderr",
     "text": "Epoch: 1/30: 100%|██████████| 130/130 [00:04<00:00, 27.33batch/s, acc=0.953, loss=0.109] \nValidation: 100%|██████████| 7/7 [00:00<00:00, 21.05batch/s, acc=0.931, loss=0.152]\n",
     "output_type": "stream"
    },
    {
     "name": "stdout",
     "text": "\u001B[43mLoss: 0.1743 - Accuracy: 0.9312 - F1: 0.9304 - LR: [5e-05]\u001B[0m\n\u001B[46mNew weights were applied.\n\u001B[0m\n",
     "output_type": "stream"
    },
    {
     "name": "stderr",
     "text": "Epoch: 2/30: 100%|██████████| 130/130 [00:04<00:00, 26.78batch/s, acc=0.957, loss=0.182] \nValidation: 100%|██████████| 7/7 [00:00<00:00, 21.35batch/s, acc=0.932, loss=0.165] \n",
     "output_type": "stream"
    },
    {
     "name": "stdout",
     "text": "\u001B[43mLoss: 0.1650 - Accuracy: 0.9321 - F1: 0.9309 - LR: [5e-05]\u001B[0m\n\u001B[46mNew weights were applied.\n\u001B[0m\n",
     "output_type": "stream"
    },
    {
     "name": "stderr",
     "text": "Epoch: 3/30: 100%|██████████| 130/130 [00:05<00:00, 23.54batch/s, acc=0.955, loss=0.0806]\nValidation: 100%|██████████| 7/7 [00:00<00:00, 21.10batch/s, acc=0.921, loss=0.155]\n",
     "output_type": "stream"
    },
    {
     "name": "stdout",
     "text": "\u001B[43mLoss: 0.1797 - Accuracy: 0.9211 - F1: 0.9200 - LR: [5e-05]\u001B[0m\n",
     "output_type": "stream"
    },
    {
     "name": "stderr",
     "text": "Epoch: 4/30: 100%|██████████| 130/130 [00:04<00:00, 28.36batch/s, acc=0.952, loss=0.0784]\nValidation: 100%|██████████| 7/7 [00:00<00:00, 20.71batch/s, acc=0.928, loss=0.163]\n",
     "output_type": "stream"
    },
    {
     "name": "stdout",
     "text": "\u001B[43mLoss: 0.1733 - Accuracy: 0.9284 - F1: 0.9278 - LR: [5e-05]\u001B[0m\n\u001B[46mNew weights were applied.\n\u001B[0m\n",
     "output_type": "stream"
    },
    {
     "name": "stderr",
     "text": "Epoch: 5/30: 100%|██████████| 130/130 [00:04<00:00, 26.92batch/s, acc=0.955, loss=0.264] \nValidation: 100%|██████████| 7/7 [00:00<00:00, 20.65batch/s, acc=0.934, loss=0.163] \n",
     "output_type": "stream"
    },
    {
     "name": "stdout",
     "text": "\u001B[43mLoss: 0.1611 - Accuracy: 0.9339 - F1: 0.9332 - LR: [5e-05]\u001B[0m\n\u001B[46mNew weights were applied.\n\u001B[0m\n",
     "output_type": "stream"
    },
    {
     "name": "stderr",
     "text": "Epoch: 6/30: 100%|██████████| 130/130 [00:04<00:00, 27.94batch/s, acc=0.958, loss=0.136] \nValidation: 100%|██████████| 7/7 [00:00<00:00, 20.95batch/s, acc=0.925, loss=0.23] \n",
     "output_type": "stream"
    },
    {
     "name": "stdout",
     "text": "\u001B[43mLoss: 0.1878 - Accuracy: 0.9248 - F1: 0.9233 - LR: [5e-05]\u001B[0m\n",
     "output_type": "stream"
    },
    {
     "name": "stderr",
     "text": "Epoch: 7/30: 100%|██████████| 130/130 [00:04<00:00, 28.17batch/s, acc=0.956, loss=0.115] \nValidation: 100%|██████████| 7/7 [00:00<00:00, 21.12batch/s, acc=0.93, loss=0.111] \n",
     "output_type": "stream"
    },
    {
     "name": "stdout",
     "text": "\u001B[43mLoss: 0.1828 - Accuracy: 0.9303 - F1: 0.9295 - LR: [5e-05]\u001B[0m\n\u001B[46mNew weights were applied.\n\u001B[0m\n",
     "output_type": "stream"
    },
    {
     "name": "stderr",
     "text": "Epoch: 8/30: 100%|██████████| 130/130 [00:05<00:00, 23.67batch/s, acc=0.956, loss=0.0614]\nValidation: 100%|██████████| 7/7 [00:00<00:00, 21.22batch/s, acc=0.926, loss=0.173]\n",
     "output_type": "stream"
    },
    {
     "name": "stdout",
     "text": "\u001B[43mLoss: 0.1659 - Accuracy: 0.9257 - F1: 0.9235 - LR: [5e-05]\u001B[0m\n\u001B[46mNew weights were applied.\n\u001B[0m\n",
     "output_type": "stream"
    },
    {
     "name": "stderr",
     "text": "Epoch: 9/30: 100%|██████████| 130/130 [00:04<00:00, 28.03batch/s, acc=0.957, loss=0.107] \nValidation: 100%|██████████| 7/7 [00:00<00:00, 21.58batch/s, acc=0.932, loss=0.239] \n",
     "output_type": "stream"
    },
    {
     "name": "stdout",
     "text": "\u001B[43mLoss: 0.1783 - Accuracy: 0.9321 - F1: 0.9303 - LR: [2.5e-05]\u001B[0m\n",
     "output_type": "stream"
    },
    {
     "name": "stderr",
     "text": "Epoch: 10/30: 100%|██████████| 130/130 [00:04<00:00, 27.68batch/s, acc=0.956, loss=0.0968]\nValidation: 100%|██████████| 7/7 [00:00<00:00, 21.52batch/s, acc=0.939, loss=0.167]\n",
     "output_type": "stream"
    },
    {
     "name": "stdout",
     "text": "\u001B[43mLoss: 0.1581 - Accuracy: 0.9394 - F1: 0.9386 - LR: [2.5e-05]\u001B[0m\n\u001B[46mNew weights were applied.\n\u001B[0m\n",
     "output_type": "stream"
    },
    {
     "name": "stderr",
     "text": "Epoch: 11/30: 100%|██████████| 130/130 [00:04<00:00, 26.99batch/s, acc=0.958, loss=0.0999]\nValidation: 100%|██████████| 7/7 [00:00<00:00, 20.64batch/s, acc=0.933, loss=0.169]\n",
     "output_type": "stream"
    },
    {
     "name": "stdout",
     "text": "\u001B[43mLoss: 0.1750 - Accuracy: 0.9330 - F1: 0.9321 - LR: [2.5e-05]\u001B[0m\n",
     "output_type": "stream"
    },
    {
     "name": "stderr",
     "text": "Epoch: 12/30: 100%|██████████| 130/130 [00:04<00:00, 27.99batch/s, acc=0.961, loss=0.0766]\nValidation: 100%|██████████| 7/7 [00:00<00:00, 21.64batch/s, acc=0.928, loss=0.134]\n",
     "output_type": "stream"
    },
    {
     "name": "stdout",
     "text": "\u001B[43mLoss: 0.1852 - Accuracy: 0.9284 - F1: 0.9280 - LR: [2.5e-05]\u001B[0m\n",
     "output_type": "stream"
    },
    {
     "name": "stderr",
     "text": "Epoch: 13/30: 100%|██████████| 130/130 [00:05<00:00, 23.49batch/s, acc=0.957, loss=0.112] \nValidation: 100%|██████████| 7/7 [00:00<00:00, 21.17batch/s, acc=0.932, loss=0.159] \n",
     "output_type": "stream"
    },
    {
     "name": "stdout",
     "text": "\u001B[43mLoss: 0.1713 - Accuracy: 0.9321 - F1: 0.9310 - LR: [2.5e-05]\u001B[0m\n\u001B[46mNew weights were applied.\n\u001B[0m\n",
     "output_type": "stream"
    },
    {
     "name": "stderr",
     "text": "Epoch: 14/30: 100%|██████████| 130/130 [00:04<00:00, 27.08batch/s, acc=0.96, loss=0.104]  \nValidation: 100%|██████████| 7/7 [00:00<00:00, 21.57batch/s, acc=0.939, loss=0.206] \n",
     "output_type": "stream"
    },
    {
     "name": "stdout",
     "text": "\u001B[43mLoss: 0.1608 - Accuracy: 0.9394 - F1: 0.9382 - LR: [2.5e-05]\u001B[0m\n\u001B[46mNew weights were applied.\n\u001B[0m\n",
     "output_type": "stream"
    },
    {
     "name": "stderr",
     "text": "Epoch: 15/30: 100%|██████████| 130/130 [00:04<00:00, 28.78batch/s, acc=0.958, loss=0.126] \nValidation: 100%|██████████| 7/7 [00:00<00:00, 21.74batch/s, acc=0.94, loss=0.184] \n",
     "output_type": "stream"
    },
    {
     "name": "stdout",
     "text": "\u001B[43mLoss: 0.1497 - Accuracy: 0.9404 - F1: 0.9386 - LR: [1.25e-05]\u001B[0m\n\u001B[46mNew weights were applied.\n\u001B[0m\n",
     "output_type": "stream"
    },
    {
     "name": "stderr",
     "text": "Epoch: 16/30: 100%|██████████| 130/130 [00:04<00:00, 26.95batch/s, acc=0.96, loss=0.086]  \nValidation: 100%|██████████| 7/7 [00:00<00:00, 20.67batch/s, acc=0.943, loss=0.202]\n",
     "output_type": "stream"
    },
    {
     "name": "stdout",
     "text": "\u001B[43mLoss: 0.1496 - Accuracy: 0.9431 - F1: 0.9409 - LR: [1.25e-05]\u001B[0m\n\u001B[46mNew weights were applied.\n\u001B[0m\n",
     "output_type": "stream"
    },
    {
     "name": "stderr",
     "text": "Epoch: 17/30: 100%|██████████| 130/130 [00:04<00:00, 28.37batch/s, acc=0.961, loss=0.0955]\nValidation: 100%|██████████| 7/7 [00:00<00:00, 21.39batch/s, acc=0.931, loss=0.18] \n",
     "output_type": "stream"
    },
    {
     "name": "stdout",
     "text": "\u001B[43mLoss: 0.1819 - Accuracy: 0.9312 - F1: 0.9297 - LR: [1.25e-05]\u001B[0m\n",
     "output_type": "stream"
    },
    {
     "name": "stderr",
     "text": "Epoch: 18/30: 100%|██████████| 130/130 [00:05<00:00, 24.16batch/s, acc=0.96, loss=0.0634] \nValidation: 100%|██████████| 7/7 [00:00<00:00, 21.71batch/s, acc=0.942, loss=0.159] \n",
     "output_type": "stream"
    },
    {
     "name": "stdout",
     "text": "\u001B[43mLoss: 0.1663 - Accuracy: 0.9422 - F1: 0.9414 - LR: [1.25e-05]\u001B[0m\n\u001B[46mNew weights were applied.\n\u001B[0m\n",
     "output_type": "stream"
    },
    {
     "name": "stderr",
     "text": "Epoch: 19/30: 100%|██████████| 130/130 [00:04<00:00, 26.79batch/s, acc=0.961, loss=0.216] \nValidation: 100%|██████████| 7/7 [00:00<00:00, 17.89batch/s, acc=0.924, loss=0.196]\n",
     "output_type": "stream"
    },
    {
     "name": "stdout",
     "text": "\u001B[43mLoss: 0.1754 - Accuracy: 0.9239 - F1: 0.9213 - LR: [1.25e-05]\u001B[0m\n",
     "output_type": "stream"
    },
    {
     "name": "stderr",
     "text": "Epoch: 20/30: 100%|██████████| 130/130 [00:04<00:00, 28.17batch/s, acc=0.959, loss=0.146] \nValidation: 100%|██████████| 7/7 [00:00<00:00, 21.95batch/s, acc=0.932, loss=0.185]\n",
     "output_type": "stream"
    },
    {
     "name": "stdout",
     "text": "\u001B[43mLoss: 0.1677 - Accuracy: 0.9321 - F1: 0.9305 - LR: [1.25e-05]\u001B[0m\n\u001B[46mNew weights were applied.\n\u001B[0m\n",
     "output_type": "stream"
    },
    {
     "name": "stderr",
     "text": "Epoch: 21/30: 100%|██████████| 130/130 [00:04<00:00, 28.21batch/s, acc=0.959, loss=0.0973]\nValidation: 100%|██████████| 7/7 [00:00<00:00, 21.31batch/s, acc=0.932, loss=0.153] \n",
     "output_type": "stream"
    },
    {
     "name": "stdout",
     "text": "\u001B[43mLoss: 0.1647 - Accuracy: 0.9321 - F1: 0.9310 - LR: [1.25e-05]\u001B[0m\n\u001B[46mNew weights were applied.\n\u001B[0m\n",
     "output_type": "stream"
    },
    {
     "name": "stderr",
     "text": "Epoch: 22/30: 100%|██████████| 130/130 [00:04<00:00, 27.23batch/s, acc=0.961, loss=0.0977]\nValidation: 100%|██████████| 7/7 [00:00<00:00, 21.63batch/s, acc=0.928, loss=0.192] \n",
     "output_type": "stream"
    },
    {
     "name": "stdout",
     "text": "\u001B[43mLoss: 0.1761 - Accuracy: 0.9275 - F1: 0.9262 - LR: [6.25e-06]\u001B[0m\n",
     "output_type": "stream"
    },
    {
     "name": "stderr",
     "text": "Epoch: 23/30: 100%|██████████| 130/130 [00:05<00:00, 24.48batch/s, acc=0.96, loss=0.164]  \nValidation: 100%|██████████| 7/7 [00:00<00:00, 21.31batch/s, acc=0.934, loss=0.222]\n",
     "output_type": "stream"
    },
    {
     "name": "stdout",
     "text": "\u001B[43mLoss: 0.1678 - Accuracy: 0.9339 - F1: 0.9318 - LR: [6.25e-06]\u001B[0m\n\u001B[46mNew weights were applied.\n\u001B[0m\n",
     "output_type": "stream"
    },
    {
     "name": "stderr",
     "text": "Epoch: 24/30: 100%|██████████| 130/130 [00:04<00:00, 26.95batch/s, acc=0.961, loss=0.0982]\nValidation: 100%|██████████| 7/7 [00:00<00:00, 21.91batch/s, acc=0.942, loss=0.19]  \n",
     "output_type": "stream"
    },
    {
     "name": "stdout",
     "text": "\u001B[43mLoss: 0.1665 - Accuracy: 0.9422 - F1: 0.9415 - LR: [6.25e-06]\u001B[0m\n\u001B[46mNew weights were applied.\n\u001B[0m\n",
     "output_type": "stream"
    },
    {
     "name": "stderr",
     "text": "Epoch: 25/30: 100%|██████████| 130/130 [00:04<00:00, 28.04batch/s, acc=0.96, loss=0.0422]\nValidation: 100%|██████████| 7/7 [00:00<00:00, 21.89batch/s, acc=0.929, loss=0.151] \n",
     "output_type": "stream"
    },
    {
     "name": "stdout",
     "text": "\u001B[43mLoss: 0.1619 - Accuracy: 0.9294 - F1: 0.9283 - LR: [6.25e-06]\u001B[0m\n\u001B[46mNew weights were applied.\n\u001B[0m\n",
     "output_type": "stream"
    },
    {
     "name": "stderr",
     "text": "Epoch: 26/30: 100%|██████████| 130/130 [00:04<00:00, 28.52batch/s, acc=0.962, loss=0.078] \nValidation: 100%|██████████| 7/7 [00:00<00:00, 21.15batch/s, acc=0.937, loss=0.149] \n",
     "output_type": "stream"
    },
    {
     "name": "stdout",
     "text": "\u001B[43mLoss: 0.1420 - Accuracy: 0.9367 - F1: 0.9356 - LR: [6.25e-06]\u001B[0m\n\u001B[46mNew weights were applied.\n\u001B[0m\n",
     "output_type": "stream"
    },
    {
     "name": "stderr",
     "text": "Epoch: 27/30: 100%|██████████| 130/130 [00:04<00:00, 27.53batch/s, acc=0.96, loss=0.175]  \nValidation: 100%|██████████| 7/7 [00:00<00:00, 21.72batch/s, acc=0.939, loss=0.132]\n",
     "output_type": "stream"
    },
    {
     "name": "stdout",
     "text": "\u001B[43mLoss: 0.1666 - Accuracy: 0.9385 - F1: 0.9380 - LR: [6.25e-06]\u001B[0m\n",
     "output_type": "stream"
    },
    {
     "name": "stderr",
     "text": "Epoch: 28/30: 100%|██████████| 130/130 [00:05<00:00, 24.29batch/s, acc=0.959, loss=0.0886]\nValidation: 100%|██████████| 7/7 [00:00<00:00, 18.59batch/s, acc=0.94, loss=0.179]  \n",
     "output_type": "stream"
    },
    {
     "name": "stdout",
     "text": "\u001B[43mLoss: 0.1596 - Accuracy: 0.9404 - F1: 0.9388 - LR: [6.25e-06]\u001B[0m\n\u001B[46mNew weights were applied.\n\u001B[0m\n",
     "output_type": "stream"
    },
    {
     "name": "stderr",
     "text": "Epoch: 29/30: 100%|██████████| 130/130 [00:04<00:00, 28.19batch/s, acc=0.96, loss=0.166]  \nValidation: 100%|██████████| 7/7 [00:00<00:00, 21.43batch/s, acc=0.929, loss=0.091] \n",
     "output_type": "stream"
    },
    {
     "name": "stdout",
     "text": "\u001B[43mLoss: 0.1664 - Accuracy: 0.9294 - F1: 0.9292 - LR: [6.25e-06]\u001B[0m\n",
     "output_type": "stream"
    },
    {
     "name": "stderr",
     "text": "Epoch: 30/30: 100%|██████████| 130/130 [00:04<00:00, 27.08batch/s, acc=0.961, loss=0.0922]\nValidation: 100%|██████████| 7/7 [00:00<00:00, 20.89batch/s, acc=0.934, loss=0.179]\n",
     "output_type": "stream"
    },
    {
     "name": "stdout",
     "text": "\u001B[43mLoss: 0.1715 - Accuracy: 0.9339 - F1: 0.9330 - LR: [6.25e-06]\u001B[0m\n\u001B[43mTraining complete in 3m 12s\u001B[0m\n\u001B[43mModel was saved to: SiamesePerceptron.pth\u001B[0m\n",
     "output_type": "stream"
    }
   ]
  },
  {
   "cell_type": "markdown",
   "source": [
    "## View training statistics"
   ],
   "metadata": {}
  },
  {
   "cell_type": "code",
   "source": [
    "plot_stats(\n",
    "    **history,\n",
    "    title=f\"Model {config.model_name}\"\n",
    ")"
   ],
   "metadata": {
    "id": "7zTLOYTWTFDx",
    "papermill": {
     "duration": 1.874642,
     "end_time": "2023-08-14T17:29:08.631773",
     "exception": false,
     "start_time": "2023-08-14T17:29:06.757131",
     "status": "completed"
    },
    "tags": [],
    "ExecuteTime": {
     "start_time": "2023-08-16T12:36:46.356181Z",
     "end_time": "2023-08-16T12:36:47.182049Z"
    },
    "execution": {
     "iopub.status.busy": "2023-08-16T10:11:16.575840Z",
     "iopub.execute_input": "2023-08-16T10:11:16.576488Z",
     "iopub.status.idle": "2023-08-16T10:11:17.702774Z",
     "shell.execute_reply.started": "2023-08-16T10:11:16.576451Z",
     "shell.execute_reply": "2023-08-16T10:11:17.701653Z"
    },
    "trusted": true
   },
   "execution_count": 127,
   "outputs": [
    {
     "output_type": "display_data",
     "data": {
      "text/plain": "<Figure size 1600x800 with 1 Axes>",
      "image/png": "[encoded data removed]"
     },
     "metadata": {}
    },
    {
     "output_type": "display_data",
     "data": {
      "text/plain": "<Figure size 1600x800 with 1 Axes>",
      "image/png": "[encoded data removed]"
     },
     "metadata": {}
    },
    {
     "output_type": "display_data",
     "data": {
      "text/plain": "<Figure size 1600x800 with 1 Axes>",
      "image/png": "[encoded data removed]"
     },
     "metadata": {}
    }
   ]
  },
  {
   "cell_type": "markdown",
   "source": [
    "Interactive training tensorboards are available on wandb:"
   ],
   "metadata": {}
  },
  {
   "cell_type": "code",
   "source": [
    "print(wandb_run.url)"
   ],
   "metadata": {
    "collapsed": false,
    "ExecuteTime": {
     "start_time": "2023-08-16T12:38:48.994020Z",
     "end_time": "2023-08-16T12:38:49.027399Z"
    },
    "jupyter": {
     "outputs_hidden": false
    },
    "execution": {
     "iopub.status.busy": "2023-08-16T10:05:23.638169Z",
     "iopub.execute_input": "2023-08-16T10:05:23.638560Z",
     "iopub.status.idle": "2023-08-16T10:05:23.653750Z",
     "shell.execute_reply.started": "2023-08-16T10:05:23.638531Z",
     "shell.execute_reply": "2023-08-16T10:05:23.650804Z"
    },
    "trusted": true
   },
   "execution_count": 120,
   "outputs": [
    {
     "execution_count": 120,
     "output_type": "execute_result",
     "data": {
      "text/plain": "'https://wandb.ai/remainedmind/binary-classification-project/runs/vlppfp1s'"
     },
     "metadata": {}
    }
   ]
  },
  {
   "cell_type": "markdown",
   "source": [
    "# Result evaluation"
   ],
   "metadata": {
    "id": "kJcjndrnTFDx",
    "papermill": {
     "duration": 0.720815,
     "end_time": "2023-08-14T17:29:11.613678",
     "exception": false,
     "start_time": "2023-08-14T17:29:10.892863",
     "status": "completed"
    },
    "tags": []
   }
  },
  {
   "cell_type": "markdown",
   "source": [
    "https://wandb.ai/remainedmind/binary-classification-project/runs/vlppfp1s"
   ],
   "metadata": {
    "collapsed": false
   }
  },
  {
   "cell_type": "markdown",
   "source": [],
   "metadata": {}
  }
 ]
}
