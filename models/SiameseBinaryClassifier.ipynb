{
 "metadata": {
  "kernelspec": {
   "name": "python3",
   "display_name": "Python 3",
   "language": "python"
  },
  "language_info": {
   "codemirror_mode": {
    "name": "ipython",
    "version": 3
   },
   "file_extension": ".py",
   "mimetype": "text/x-python",
   "name": "python",
   "nbconvert_exporter": "python",
   "pygments_lexer": "ipython3",
   "version": "3.10.12"
  },
  "papermill": {
   "default_parameters": {},
   "duration": 3960.405937,
   "end_time": "2023-08-14T17:29:54.480893",
   "environment_variables": {},
   "exception": null,
   "input_path": "__notebook__.ipynb",
   "output_path": "__notebook__.ipynb",
   "parameters": {},
   "start_time": "2023-08-14T16:23:54.074956",
   "version": "2.4.0"
  }
 },
 "nbformat_minor": 5,
 "nbformat": 4,
 "cells": [
  {
   "cell_type": "markdown",
   "source": "# Pairwise Binary classification with Deep Learning",
   "metadata": {
    "papermill": {
     "duration": 0.028248,
     "end_time": "2023-08-14T16:24:04.236116",
     "exception": false,
     "start_time": "2023-08-14T16:24:04.207868",
     "status": "completed"
    },
    "tags": []
   }
  },
  {
   "cell_type": "markdown",
   "source": "In this notebook we will train Multilayer Perceptron Neural Network to detect whether two images are from same class (car brand) or not. To train Perceptron, we will use image embeddings got from trained CNN model (SOTA models such as MobileNet).",
   "metadata": {
    "papermill": {
     "duration": 0.0269,
     "end_time": "2023-08-14T16:24:04.291517",
     "exception": false,
     "start_time": "2023-08-14T16:24:04.264617",
     "status": "completed"
    },
    "tags": []
   }
  },
  {
   "cell_type": "markdown",
   "source": "# 1. Set up",
   "metadata": {
    "id": "DRrvM2BPUG3T",
    "papermill": {
     "duration": 0.02718,
     "end_time": "2023-08-14T16:24:04.346391",
     "exception": false,
     "start_time": "2023-08-14T16:24:04.319211",
     "status": "completed"
    },
    "tags": []
   }
  },
  {
   "cell_type": "markdown",
   "source": "## 1. Packages and requirements",
   "metadata": {
    "id": "G-cGfk5CTFDT",
    "papermill": {
     "duration": 0.026993,
     "end_time": "2023-08-14T16:24:04.400603",
     "exception": false,
     "start_time": "2023-08-14T16:24:04.373610",
     "status": "completed"
    },
    "tags": []
   }
  },
  {
   "cell_type": "code",
   "source": "# Major builtin libraries\nimport os\nimport gc\n# import cv2\n# import math\nimport time\nimport random\nimport typing as t\nfrom copy import deepcopy\n# from collections import defaultdict",
   "metadata": {
    "ExecuteTime": {
     "start_time": "2023-08-16T12:35:15.919594Z",
     "end_time": "2023-08-16T12:35:17.255765Z"
    },
    "id": "YJ1bPQE1TFDW",
    "papermill": {
     "duration": 0.044843,
     "end_time": "2023-08-14T16:24:04.472823",
     "exception": false,
     "start_time": "2023-08-14T16:24:04.427980",
     "status": "completed"
    },
    "tags": [],
    "execution": {
     "iopub.status.busy": "2023-08-16T09:46:41.312001Z",
     "iopub.execute_input": "2023-08-16T09:46:41.312937Z",
     "iopub.status.idle": "2023-08-16T09:46:41.326046Z",
     "shell.execute_reply.started": "2023-08-16T09:46:41.312887Z",
     "shell.execute_reply": "2023-08-16T09:46:41.324601Z"
    },
    "trusted": true
   },
   "execution_count": 1,
   "outputs": []
  },
  {
   "cell_type": "code",
   "source": "# To work with Google Collab\n# from google.colab import drive\n# drive.mount('/content/drive/', force_remount=True)",
   "metadata": {
    "ExecuteTime": {
     "start_time": "2023-08-16T12:35:16.799525Z",
     "end_time": "2023-08-16T12:35:17.302658Z"
    },
    "id": "9byYPbwhTFDW",
    "outputId": "f21315f6-d034-4060-f927-1dfcc117d99b",
    "papermill": {
     "duration": 0.034871,
     "end_time": "2023-08-14T16:24:04.535286",
     "exception": false,
     "start_time": "2023-08-14T16:24:04.500415",
     "status": "completed"
    },
    "tags": [],
    "execution": {
     "iopub.status.busy": "2023-08-16T09:46:41.329564Z",
     "iopub.execute_input": "2023-08-16T09:46:41.330296Z",
     "iopub.status.idle": "2023-08-16T09:46:41.340791Z",
     "shell.execute_reply.started": "2023-08-16T09:46:41.330258Z",
     "shell.execute_reply": "2023-08-16T09:46:41.339724Z"
    },
    "trusted": true
   },
   "execution_count": 2,
   "outputs": []
  },
  {
   "cell_type": "code",
   "source": "import warnings  # If you want to disable warnings\nwarnings.filterwarnings(\"ignore\")\n\n# For descriptive error messages\nos.environ['CUDA_LAUNCH_BLOCKING'] = \"1\"",
   "metadata": {
    "ExecuteTime": {
     "start_time": "2023-08-16T12:35:17.318288Z",
     "end_time": "2023-08-16T12:35:17.438527Z"
    },
    "id": "BwyVeWsUTFDX",
    "papermill": {
     "duration": 0.035469,
     "end_time": "2023-08-14T16:24:04.598152",
     "exception": false,
     "start_time": "2023-08-14T16:24:04.562683",
     "status": "completed"
    },
    "tags": [],
    "execution": {
     "iopub.status.busy": "2023-08-16T09:46:41.342344Z",
     "iopub.execute_input": "2023-08-16T09:46:41.343028Z",
     "iopub.status.idle": "2023-08-16T09:46:41.352040Z",
     "shell.execute_reply.started": "2023-08-16T09:46:41.342993Z",
     "shell.execute_reply": "2023-08-16T09:46:41.351074Z"
    },
    "trusted": true
   },
   "execution_count": 3,
   "outputs": []
  },
  {
   "cell_type": "code",
   "source": "# Classic packages for data manipulation and visualization\nimport numpy as np\nimport pandas as pd\nimport matplotlib.pyplot as plt",
   "metadata": {
    "ExecuteTime": {
     "start_time": "2023-08-16T12:35:17.438527Z",
     "end_time": "2023-08-16T12:35:17.470504Z"
    },
    "id": "AGRBRJORTFDX",
    "papermill": {
     "duration": 0.035178,
     "end_time": "2023-08-14T16:24:04.660718",
     "exception": false,
     "start_time": "2023-08-14T16:24:04.625540",
     "status": "completed"
    },
    "tags": [],
    "execution": {
     "iopub.status.busy": "2023-08-16T09:46:41.355310Z",
     "iopub.execute_input": "2023-08-16T09:46:41.356112Z",
     "iopub.status.idle": "2023-08-16T09:46:41.366172Z",
     "shell.execute_reply.started": "2023-08-16T09:46:41.356077Z",
     "shell.execute_reply": "2023-08-16T09:46:41.364730Z"
    },
    "trusted": true
   },
   "execution_count": 4,
   "outputs": []
  },
  {
   "cell_type": "code",
   "source": "# Basic PyTorch\nimport torch\nimport torch.nn as nn\nimport torch.optim as optim  # Optimization algorithms and dynamic learning rate adjusting\nimport torch.nn.functional as F\n# from torch.nn.modules.loss import _Loss  # For writing a custom Loss function\nfrom torch.utils.data import DataLoader, Dataset  # For custom data presentation",
   "metadata": {
    "ExecuteTime": {
     "start_time": "2023-08-16T12:35:17.486129Z",
     "end_time": "2023-08-16T12:35:17.570492Z"
    },
    "id": "FXSN-XzxTFDX",
    "papermill": {
     "duration": 3.82041,
     "end_time": "2023-08-14T16:24:08.508190",
     "exception": false,
     "start_time": "2023-08-14T16:24:04.687780",
     "status": "completed"
    },
    "tags": [],
    "execution": {
     "iopub.status.busy": "2023-08-16T09:46:41.367840Z",
     "iopub.execute_input": "2023-08-16T09:46:41.368495Z",
     "iopub.status.idle": "2023-08-16T09:46:45.734823Z",
     "shell.execute_reply.started": "2023-08-16T09:46:41.368463Z",
     "shell.execute_reply": "2023-08-16T09:46:45.733611Z"
    },
    "trusted": true
   },
   "execution_count": 5,
   "outputs": []
  },
  {
   "cell_type": "code",
   "source": "# Utils\nimport joblib  # Pipelining, pickling (dump/load), parallel processing\nfrom tqdm import tqdm  # Progress bar for training process\nfrom tempfile import TemporaryDirectory\n\n# Classic ML tools\nfrom sklearn.preprocessing import LabelEncoder\nfrom sklearn.model_selection import StratifiedKFold  # Cross-Validation",
   "metadata": {
    "ExecuteTime": {
     "start_time": "2023-08-16T12:35:17.498435Z",
     "end_time": "2023-08-16T12:35:17.571015Z"
    },
    "id": "7QjRLiOzTFDY",
    "papermill": {
     "duration": 0.980731,
     "end_time": "2023-08-14T16:24:09.517905",
     "exception": false,
     "start_time": "2023-08-14T16:24:08.537174",
     "status": "completed"
    },
    "tags": [],
    "execution": {
     "iopub.status.busy": "2023-08-16T09:46:45.737975Z",
     "iopub.execute_input": "2023-08-16T09:46:45.738897Z",
     "iopub.status.idle": "2023-08-16T09:46:46.875866Z",
     "shell.execute_reply.started": "2023-08-16T09:46:45.738861Z",
     "shell.execute_reply": "2023-08-16T09:46:46.874550Z"
    },
    "trusted": true
   },
   "execution_count": 6,
   "outputs": []
  },
  {
   "cell_type": "code",
   "source": "# !pip install torchmetrics colorama",
   "metadata": {
    "ExecuteTime": {
     "start_time": "2023-08-16T12:35:17.554866Z",
     "end_time": "2023-08-16T12:35:17.623577Z"
    },
    "id": "-iaQkd7xUuPW",
    "papermill": {
     "duration": 0.0374,
     "end_time": "2023-08-14T16:24:09.953398",
     "exception": false,
     "start_time": "2023-08-14T16:24:09.915998",
     "status": "completed"
    },
    "tags": [],
    "execution": {
     "iopub.status.busy": "2023-08-16T09:46:46.877823Z",
     "iopub.execute_input": "2023-08-16T09:46:46.878604Z",
     "iopub.status.idle": "2023-08-16T09:46:46.884736Z",
     "shell.execute_reply.started": "2023-08-16T09:46:46.878563Z",
     "shell.execute_reply": "2023-08-16T09:46:46.882818Z"
    },
    "trusted": true
   },
   "execution_count": 7,
   "outputs": []
  },
  {
   "cell_type": "code",
   "source": "# ML Metrics\nfrom sklearn.metrics import accuracy_score\nfrom sklearn.metrics import classification_report\nfrom torchmetrics.classification import MulticlassF1Score # F1 metric for multiclass",
   "metadata": {
    "ExecuteTime": {
     "start_time": "2023-08-16T12:35:17.586665Z",
     "end_time": "2023-08-16T12:35:17.717329Z"
    },
    "id": "BuY4s3bsTFDZ",
    "papermill": {
     "duration": 10.177643,
     "end_time": "2023-08-14T16:24:20.158465",
     "exception": false,
     "start_time": "2023-08-14T16:24:09.980822",
     "status": "completed"
    },
    "tags": [],
    "execution": {
     "iopub.status.busy": "2023-08-16T09:46:46.886898Z",
     "iopub.execute_input": "2023-08-16T09:46:46.887650Z",
     "iopub.status.idle": "2023-08-16T09:46:58.497135Z",
     "shell.execute_reply.started": "2023-08-16T09:46:46.887615Z",
     "shell.execute_reply": "2023-08-16T09:46:58.495793Z"
    },
    "trusted": true
   },
   "execution_count": 8,
   "outputs": []
  },
  {
   "cell_type": "code",
   "source": "# Torch Computer Vision tools for images processing\nfrom torchvision.io import read_image\nfrom torchvision.transforms.functional import to_pil_image, to_grayscale, to_tensor\nfrom torchvision import models  # Pretrained models",
   "metadata": {
    "ExecuteTime": {
     "start_time": "2023-08-16T12:35:17.717329Z",
     "end_time": "2023-08-16T12:35:17.762309Z"
    },
    "id": "FEKtt6X5TFDZ",
    "papermill": {
     "duration": 0.03877,
     "end_time": "2023-08-14T16:24:20.224798",
     "exception": false,
     "start_time": "2023-08-14T16:24:20.186028",
     "status": "completed"
    },
    "tags": [],
    "execution": {
     "iopub.status.busy": "2023-08-16T09:46:58.498786Z",
     "iopub.execute_input": "2023-08-16T09:46:58.499176Z",
     "iopub.status.idle": "2023-08-16T09:46:58.505251Z",
     "shell.execute_reply.started": "2023-08-16T09:46:58.499137Z",
     "shell.execute_reply": "2023-08-16T09:46:58.504146Z"
    },
    "trusted": true
   },
   "execution_count": 9,
   "outputs": []
  },
  {
   "cell_type": "code",
   "source": "# Albumentations is an OS library for augmentations\nimport albumentations as A\nfrom albumentations.pytorch import ToTensorV2\n# import torchvision.transforms as T  # We can use torch augmentations instead",
   "metadata": {
    "ExecuteTime": {
     "start_time": "2023-08-16T12:35:17.746451Z",
     "end_time": "2023-08-16T12:35:17.809191Z"
    },
    "id": "90C8yH1dTFDa",
    "papermill": {
     "duration": 0.930793,
     "end_time": "2023-08-14T16:24:21.182870",
     "exception": false,
     "start_time": "2023-08-14T16:24:20.252077",
     "status": "completed"
    },
    "tags": [],
    "execution": {
     "iopub.status.busy": "2023-08-16T09:46:58.506957Z",
     "iopub.execute_input": "2023-08-16T09:46:58.507756Z",
     "iopub.status.idle": "2023-08-16T09:46:59.595237Z",
     "shell.execute_reply.started": "2023-08-16T09:46:58.507703Z",
     "shell.execute_reply": "2023-08-16T09:46:59.594030Z"
    },
    "trusted": true
   },
   "execution_count": 10,
   "outputs": []
  },
  {
   "cell_type": "code",
   "source": "# Output text colorizing\nfrom colorama import Back, Style\n\ndef print_highlighted(text: str, bgcolor=Back.YELLOW) -> None:\n    \"\"\"\n    Function to print a text with colored background.\n    \"\"\"\n    print(bgcolor + text + Style.RESET_ALL)",
   "metadata": {
    "ExecuteTime": {
     "start_time": "2023-08-16T12:35:17.809191Z",
     "end_time": "2023-08-16T12:35:17.854621Z"
    },
    "collapsed": false,
    "id": "pF1AWOXTTFDa",
    "jupyter": {
     "outputs_hidden": false
    },
    "papermill": {
     "duration": 0.037099,
     "end_time": "2023-08-14T16:24:21.300878",
     "exception": false,
     "start_time": "2023-08-14T16:24:21.263779",
     "status": "completed"
    },
    "tags": [],
    "execution": {
     "iopub.status.busy": "2023-08-16T09:46:59.600436Z",
     "iopub.execute_input": "2023-08-16T09:46:59.600803Z",
     "iopub.status.idle": "2023-08-16T09:46:59.607812Z",
     "shell.execute_reply.started": "2023-08-16T09:46:59.600773Z",
     "shell.execute_reply": "2023-08-16T09:46:59.606309Z"
    },
    "trusted": true
   },
   "execution_count": 11,
   "outputs": []
  },
  {
   "cell_type": "code",
   "source": "import wandb # MLOps platform to simplify and speed up the process of building ML models",
   "metadata": {
    "ExecuteTime": {
     "start_time": "2023-08-16T12:35:17.873273Z",
     "end_time": "2023-08-16T12:35:17.941030Z"
    },
    "collapsed": false,
    "id": "WHnMHaX_TFDb",
    "jupyter": {
     "outputs_hidden": false
    },
    "papermill": {
     "duration": 0.034479,
     "end_time": "2023-08-14T16:24:21.363117",
     "exception": false,
     "start_time": "2023-08-14T16:24:21.328638",
     "status": "completed"
    },
    "tags": [],
    "execution": {
     "iopub.status.busy": "2023-08-16T09:46:59.609689Z",
     "iopub.execute_input": "2023-08-16T09:46:59.610321Z",
     "iopub.status.idle": "2023-08-16T09:46:59.627000Z",
     "shell.execute_reply.started": "2023-08-16T09:46:59.610286Z",
     "shell.execute_reply": "2023-08-16T09:46:59.625943Z"
    },
    "trusted": true
   },
   "execution_count": 12,
   "outputs": []
  },
  {
   "cell_type": "code",
   "source": "wandb.login() # We log in via pop-up,\n# wandb.login(key=api_key)  # but you can also log in manually with function args",
   "metadata": {
    "ExecuteTime": {
     "start_time": "2023-08-16T12:35:17.941030Z",
     "end_time": "2023-08-16T12:35:18.109041Z"
    },
    "collapsed": false,
    "id": "1zarBgpbTFDb",
    "jupyter": {
     "outputs_hidden": false
    },
    "papermill": {
     "duration": 0.034968,
     "end_time": "2023-08-14T16:24:21.425112",
     "exception": false,
     "start_time": "2023-08-14T16:24:21.390144",
     "status": "completed"
    },
    "tags": [],
    "execution": {
     "iopub.status.busy": "2023-08-16T09:46:59.628449Z",
     "iopub.execute_input": "2023-08-16T09:46:59.628872Z",
     "iopub.status.idle": "2023-08-16T09:47:20.983784Z",
     "shell.execute_reply.started": "2023-08-16T09:46:59.628818Z",
     "shell.execute_reply": "2023-08-16T09:47:20.982636Z"
    },
    "trusted": true
   },
   "execution_count": 13,
   "outputs": [
    {
     "name": "stderr",
     "text": "\u001B[34m\u001B[1mwandb\u001B[0m: Logging into wandb.ai. (Learn how to deploy a W&B server locally: https://wandb.me/wandb-server)\n\u001B[34m\u001B[1mwandb\u001B[0m: You can find your API key in your browser here: https://wandb.ai/authorize\n\u001B[34m\u001B[1mwandb\u001B[0m: Paste an API key from your profile and hit enter, or press ctrl+c to quit:",
     "output_type": "stream"
    },
    {
     "output_type": "stream",
     "name": "stdin",
     "text": "  ········································\n"
    },
    {
     "name": "stderr",
     "text": "\u001B[34m\u001B[1mwandb\u001B[0m: Appending key for api.wandb.ai to your netrc file: /root/.netrc\n",
     "output_type": "stream"
    },
    {
     "execution_count": 13,
     "output_type": "execute_result",
     "data": {
      "text/plain": "True"
     },
     "metadata": {}
    }
   ]
  },
  {
   "cell_type": "markdown",
   "source": "## 2. Configuration",
   "metadata": {
    "id": "YuquAHEkTFDb",
    "papermill": {
     "duration": 0.026802,
     "end_time": "2023-08-14T16:24:21.479509",
     "exception": false,
     "start_time": "2023-08-14T16:24:21.452707",
     "status": "completed"
    },
    "tags": []
   }
  },
  {
   "cell_type": "code",
   "source": "CONFIG = {\n    \"seed\": 2306,\n    # \"epochs\": 20,\n    \"image_dimension\": 256,  # Depends on pretrained model used\n    \"model_name\": \"SiamesePerceptron\",  # Pretrained model we will use\n    \"embedding_size\": 512,  # Embedding output size\n    \"train_batch_size\": 64,\n    \"val_batch_size\": 128,\n    \"learning_rate\": 1e-3,\n    \"min_lr\": 1e-8,\n    \"min_loss_delta\": 1e-7, # To stop training on plateau\n    \"weight_decay\": 1e-7,\n\n}",
   "metadata": {
    "ExecuteTime": {
     "start_time": "2023-08-16T12:35:18.023595Z",
     "end_time": "2023-08-16T12:35:18.109041Z"
    },
    "id": "JC-SbC9zTFDb",
    "papermill": {
     "duration": 0.036674,
     "end_time": "2023-08-14T16:24:21.543459",
     "exception": false,
     "start_time": "2023-08-14T16:24:21.506785",
     "status": "completed"
    },
    "tags": [],
    "execution": {
     "iopub.status.busy": "2023-08-16T09:47:20.985129Z",
     "iopub.execute_input": "2023-08-16T09:47:20.986019Z",
     "iopub.status.idle": "2023-08-16T09:47:20.992446Z",
     "shell.execute_reply.started": "2023-08-16T09:47:20.985981Z",
     "shell.execute_reply": "2023-08-16T09:47:20.991541Z"
    },
    "trusted": true
   },
   "execution_count": 14,
   "outputs": []
  },
  {
   "cell_type": "code",
   "source": "wandb_run = wandb.init(project=\"binary-classification-project\", config=CONFIG)",
   "metadata": {
    "collapsed": false,
    "ExecuteTime": {
     "start_time": "2023-08-16T12:35:18.093425Z",
     "end_time": "2023-08-16T12:35:34.377643Z"
    },
    "jupyter": {
     "outputs_hidden": false
    },
    "execution": {
     "iopub.status.busy": "2023-08-16T09:47:20.993970Z",
     "iopub.execute_input": "2023-08-16T09:47:20.994843Z",
     "iopub.status.idle": "2023-08-16T09:47:51.985947Z",
     "shell.execute_reply.started": "2023-08-16T09:47:20.994809Z",
     "shell.execute_reply": "2023-08-16T09:47:51.985036Z"
    },
    "trusted": true
   },
   "execution_count": 15,
   "outputs": [
    {
     "name": "stderr",
     "text": "\u001B[34m\u001B[1mwandb\u001B[0m: Currently logged in as: \u001B[33mremainedmind\u001B[0m. Use \u001B[1m`wandb login --relogin`\u001B[0m to force relogin\n",
     "output_type": "stream"
    },
    {
     "output_type": "display_data",
     "data": {
      "text/plain": "<IPython.core.display.HTML object>",
      "text/html": "wandb version 0.15.8 is available!  To upgrade, please run:\n $ pip install wandb --upgrade"
     },
     "metadata": {}
    },
    {
     "output_type": "display_data",
     "data": {
      "text/plain": "<IPython.core.display.HTML object>",
      "text/html": "Tracking run with wandb version 0.15.5"
     },
     "metadata": {}
    },
    {
     "output_type": "display_data",
     "data": {
      "text/plain": "<IPython.core.display.HTML object>",
      "text/html": "Run data is saved locally in <code>/kaggle/working/wandb/run-20230816_094721-vlppfp1s</code>"
     },
     "metadata": {}
    },
    {
     "output_type": "display_data",
     "data": {
      "text/plain": "<IPython.core.display.HTML object>",
      "text/html": "Syncing run <strong><a href='https://wandb.ai/remainedmind/binary-classification-project/runs/vlppfp1s' target=\"_blank\">happy-pyramid-3</a></strong> to <a href='https://wandb.ai/remainedmind/binary-classification-project' target=\"_blank\">Weights & Biases</a> (<a href='https://wandb.me/run' target=\"_blank\">docs</a>)<br/>"
     },
     "metadata": {}
    },
    {
     "output_type": "display_data",
     "data": {
      "text/plain": "<IPython.core.display.HTML object>",
      "text/html": " View project at <a href='https://wandb.ai/remainedmind/binary-classification-project' target=\"_blank\">https://wandb.ai/remainedmind/binary-classification-project</a>"
     },
     "metadata": {}
    },
    {
     "output_type": "display_data",
     "data": {
      "text/plain": "<IPython.core.display.HTML object>",
      "text/html": " View run at <a href='https://wandb.ai/remainedmind/binary-classification-project/runs/vlppfp1s' target=\"_blank\">https://wandb.ai/remainedmind/binary-classification-project/runs/vlppfp1s</a>"
     },
     "metadata": {}
    }
   ]
  },
  {
   "cell_type": "code",
   "source": "config = wandb.config\ndel CONFIG",
   "metadata": {
    "collapsed": false,
    "ExecuteTime": {
     "start_time": "2023-08-16T12:35:34.377643Z",
     "end_time": "2023-08-16T12:35:34.400729Z"
    },
    "jupyter": {
     "outputs_hidden": false
    },
    "execution": {
     "iopub.status.busy": "2023-08-16T09:47:51.987436Z",
     "iopub.execute_input": "2023-08-16T09:47:51.987997Z",
     "iopub.status.idle": "2023-08-16T09:47:51.995305Z",
     "shell.execute_reply.started": "2023-08-16T09:47:51.987962Z",
     "shell.execute_reply": "2023-08-16T09:47:51.994380Z"
    },
    "trusted": true
   },
   "execution_count": 16,
   "outputs": []
  },
  {
   "cell_type": "markdown",
   "source": "Set Seed for Reproducibility",
   "metadata": {
    "id": "kotMeU-OTFDc",
    "papermill": {
     "duration": 0.027693,
     "end_time": "2023-08-14T16:24:21.791364",
     "exception": false,
     "start_time": "2023-08-14T16:24:21.763671",
     "status": "completed"
    },
    "tags": []
   }
  },
  {
   "cell_type": "code",
   "source": "def set_seed(seed=42):\n    \"\"\"\n    Sets the seed of the entire notebook so results are the same every time we run.\n    This is for REPRODUCIBILITY.\n    \"\"\"\n    np.random.seed(seed)\n    torch.manual_seed(seed)\n\n    # When running on the CuDNN backend, two further options must be set\n    # torch.backends.cudnn.deterministic = True\n    # torch.backends.cudnn.benchmark = False  # When False, this option makes CUDA reproducible, BUT the performance might suffer\n\n    # Set a fixed value for the hash seed\n    os.environ['PYTHONHASHSEED'] = str(seed)\n\nset_seed(seed=config.seed)",
   "metadata": {
    "ExecuteTime": {
     "start_time": "2023-08-16T12:35:34.385080Z",
     "end_time": "2023-08-16T12:35:34.427648Z"
    },
    "id": "RDIHP75uTFDc",
    "papermill": {
     "duration": 0.045937,
     "end_time": "2023-08-14T16:24:21.869710",
     "exception": false,
     "start_time": "2023-08-14T16:24:21.823773",
     "status": "completed"
    },
    "tags": [],
    "execution": {
     "iopub.status.busy": "2023-08-16T09:47:51.997546Z",
     "iopub.execute_input": "2023-08-16T09:47:51.999127Z",
     "iopub.status.idle": "2023-08-16T09:47:52.017148Z",
     "shell.execute_reply.started": "2023-08-16T09:47:51.999092Z",
     "shell.execute_reply": "2023-08-16T09:47:52.016034Z"
    },
    "trusted": true
   },
   "execution_count": 17,
   "outputs": []
  },
  {
   "cell_type": "markdown",
   "source": "# 2. Data",
   "metadata": {
    "id": "UoHh0H1FVHnT",
    "papermill": {
     "duration": 0.027822,
     "end_time": "2023-08-14T16:24:21.925361",
     "exception": false,
     "start_time": "2023-08-14T16:24:21.897539",
     "status": "completed"
    },
    "tags": []
   }
  },
  {
   "cell_type": "markdown",
   "source": "## 1. Set data location",
   "metadata": {
    "id": "Qst3Y-s4VKTk",
    "papermill": {
     "duration": 0.042797,
     "end_time": "2023-08-14T16:24:22.001996",
     "exception": false,
     "start_time": "2023-08-14T16:24:21.959199",
     "status": "completed"
    },
    "tags": []
   }
  },
  {
   "cell_type": "code",
   "source": "config.repo = 'car-brands/'  # dataset name on Kaggle\n# config.repo = 'data/'  # dataset name on local device\n# config.repo = 'car_brand_detection/'  # Google Collab\n\nconfig.root = '/kaggle/input/' + config.repo\n# config.root = 'drive/MyDrive/' + config.repo\n# config.root = '../'  + config.repo\n\n\nconfig.data = config.root\n\nconfig.train_images_path  = config.data + 'images/train'\nconfig.test_images_path = config.data + 'images/test'\n\nconfig.train_labels  = config.data + 'train_labels.csv'\nconfig.test_labels = config.data + 'test_labels.csv'\n\nconfig.save_model_to = f'{config.model_name}.pth'\nconfig.embedding_model_path = '/kaggle/input/efficient-model/ArcFace_mobilenet_v2.pth'",
   "metadata": {
    "ExecuteTime": {
     "start_time": "2023-08-16T12:35:34.430657Z",
     "end_time": "2023-08-16T12:35:34.500452Z"
    },
    "id": "QKDBLmMrTFDd",
    "papermill": {
     "duration": 0.036856,
     "end_time": "2023-08-14T16:24:22.084008",
     "exception": false,
     "start_time": "2023-08-14T16:24:22.047152",
     "status": "completed"
    },
    "tags": [],
    "execution": {
     "iopub.status.busy": "2023-08-16T09:49:46.067390Z",
     "iopub.execute_input": "2023-08-16T09:49:46.067773Z",
     "iopub.status.idle": "2023-08-16T09:49:46.083258Z",
     "shell.execute_reply.started": "2023-08-16T09:49:46.067741Z",
     "shell.execute_reply": "2023-08-16T09:49:46.081741Z"
    },
    "trusted": true
   },
   "execution_count": 36,
   "outputs": []
  },
  {
   "cell_type": "markdown",
   "source": "## 2. Custom Data representation",
   "metadata": {
    "id": "u0McLUXoTFDd",
    "papermill": {
     "duration": 0.026926,
     "end_time": "2023-08-14T16:24:22.138322",
     "exception": false,
     "start_time": "2023-08-14T16:24:22.111396",
     "status": "completed"
    },
    "tags": []
   }
  },
  {
   "cell_type": "code",
   "source": "def get_file_path_by_id(file_id, dir=config.root):\n    return os.path.join(dir, str(file_id) + \".jpg\")",
   "metadata": {
    "ExecuteTime": {
     "start_time": "2023-08-16T12:35:34.443893Z",
     "end_time": "2023-08-16T12:35:34.500452Z"
    },
    "papermill": {
     "duration": 0.035798,
     "end_time": "2023-08-14T16:24:22.201575",
     "exception": false,
     "start_time": "2023-08-14T16:24:22.165777",
     "status": "completed"
    },
    "tags": [],
    "execution": {
     "iopub.status.busy": "2023-08-16T09:49:46.392279Z",
     "iopub.execute_input": "2023-08-16T09:49:46.392645Z",
     "iopub.status.idle": "2023-08-16T09:49:46.399051Z",
     "shell.execute_reply.started": "2023-08-16T09:49:46.392612Z",
     "shell.execute_reply": "2023-08-16T09:49:46.398077Z"
    },
    "trusted": true
   },
   "execution_count": 37,
   "outputs": []
  },
  {
   "cell_type": "code",
   "source": "def apply_label_encoding(data: t.Union[pd.DataFrame, np.array],\n                         encoder_name: os.path,\n                         column='label', action='encode',\n                         ):\n    \"\"\"\n    One Hot encoding. We apply encoding by replacing the label column in dataframe.\n    As for decoding data back, we work with vector-array (as it's most likely to\n    be a prediction result)\n    \"\"\"\n    encoder = LabelEncoder()\n    if action == 'encode':\n        # We transform dataframe here. Nothing returns\n        data[column] = encoder.fit_transform(data[column])\n        with open(f\"{encoder_name}_LEncoder.pkl\", \"wb\") as fp:\n            joblib.dump(encoder, fp)\n    elif action == 'decode':\n        # We pass vector here. Result is a vector\n        with open(f\"{encoder_name}_LEncoder.pkl\", \"rb\") as fp:\n            encoder: LabelEncoder = joblib.load(fp)\n        return encoder.inverse_transform(data)",
   "metadata": {
    "ExecuteTime": {
     "start_time": "2023-08-16T12:35:34.453557Z",
     "end_time": "2023-08-16T12:35:34.500452Z"
    },
    "collapsed": false,
    "id": "_dh7nUr3TFDd",
    "jupyter": {
     "outputs_hidden": false
    },
    "papermill": {
     "duration": 0.039278,
     "end_time": "2023-08-14T16:24:22.268745",
     "exception": false,
     "start_time": "2023-08-14T16:24:22.229467",
     "status": "completed"
    },
    "tags": [],
    "execution": {
     "iopub.status.busy": "2023-08-16T09:49:46.548823Z",
     "iopub.execute_input": "2023-08-16T09:49:46.549247Z",
     "iopub.status.idle": "2023-08-16T09:49:46.559718Z",
     "shell.execute_reply.started": "2023-08-16T09:49:46.549213Z",
     "shell.execute_reply": "2023-08-16T09:49:46.558198Z"
    },
    "trusted": true
   },
   "execution_count": 38,
   "outputs": []
  },
  {
   "cell_type": "code",
   "source": "class CustomImagesDataset(Dataset):\n    \"\"\"\n    \"\"\"\n    def __init__(self, data: pd.DataFrame=None, images_path: os.path=None, labels_path:os.path=None, transform_images: A.Compose=None, encoder_name: str=None):\n        \"\"\"\n\n        \"\"\"\n        super().__init__()\n        assert (data is not None) or (labels_path is not None and images_path is not None)\n\n        if data is None:\n            data = pd.read_csv(labels_path)\n            data['file_path'] = data['id'].apply(get_file_path_by_id, dir=images_path)\n\n        self.images_paths = data['file_path'].values\n        self.encoder_name = encoder_name if encoder_name else self.__hash__()  # We use hash as a unique name\n        print_highlighted(f\"Label Encoder saved with id `{self.encoder_name}`\")\n        apply_label_encoding(data=data, action='encode', encoder_name=self.encoder_name)\n        self.labels = data['label'].values\n#         self.indexes = data['id'].values\n        self.transform_images = transform_images\n        self.__set_dataset_len()\n\n    def __set_dataset_len(self):\n        self.length = self.labels.shape[0] # Number of rows\n\n    def __len__(self):\n        \"\"\"\n        We calculate the len in another function, so that we are able to slice.\n        \"\"\"\n        return self.length\n\n    def decode_labels(self, labels_vector):\n        return apply_label_encoding(data=labels_vector, action='decode', encoder_name=self.encoder_name)\n\n    def __getitem__(self, index) -> tuple[torch.Tensor, int]:\n        \"\"\" Function to return item by indexing the dataset \"\"\"\n\n        if not isinstance(index, int) and isinstance(index, slice):\n            # It's not an index, but slice.\n            # We will return the part of data by making a copy of the dataset\n            index: slice\n            self = deepcopy(self)\n            self.length = index.stop  # Cut the length of dataset.\n            self.labels = self.labels[:self.length]\n            return self\n        assert self.__len__() >= index\n\n        image = to_pil_image(read_image(self.images_paths[index]))\n        if self.transform_images:\n            # Albumentations requires us to convert image to Numpy Array\n            image = self.transform_images(image=np.array(image))['image']\n\n        label = self.labels[index]\n        return image, label\n\n\n    @property\n    def classes_(self):\n        return self.decode_labels(np.unique(self.labels))\n",
   "metadata": {
    "ExecuteTime": {
     "start_time": "2023-08-16T12:35:34.486659Z",
     "end_time": "2023-08-16T12:35:34.500452Z"
    },
    "collapsed": false,
    "id": "piJ9PgTuTFDe",
    "jupyter": {
     "outputs_hidden": false
    },
    "papermill": {
     "duration": 0.044801,
     "end_time": "2023-08-14T16:24:22.341189",
     "exception": false,
     "start_time": "2023-08-14T16:24:22.296388",
     "status": "completed"
    },
    "tags": [],
    "execution": {
     "iopub.status.busy": "2023-08-16T09:49:46.723077Z",
     "iopub.execute_input": "2023-08-16T09:49:46.723450Z",
     "iopub.status.idle": "2023-08-16T09:49:46.739245Z",
     "shell.execute_reply.started": "2023-08-16T09:49:46.723417Z",
     "shell.execute_reply": "2023-08-16T09:49:46.738197Z"
    },
    "trusted": true
   },
   "execution_count": 39,
   "outputs": []
  },
  {
   "cell_type": "markdown",
   "source": "## 3. Data Normalization",
   "metadata": {
    "id": "lB9BnVDPTFDe",
    "papermill": {
     "duration": 0.02757,
     "end_time": "2023-08-14T16:24:22.396505",
     "exception": false,
     "start_time": "2023-08-14T16:24:22.368935",
     "status": "completed"
    },
    "tags": []
   }
  },
  {
   "cell_type": "markdown",
   "source": "We use Albumantations lib",
   "metadata": {
    "id": "i-F36u_bTFDe",
    "papermill": {
     "duration": 0.026968,
     "end_time": "2023-08-14T16:24:22.450897",
     "exception": false,
     "start_time": "2023-08-14T16:24:22.423929",
     "status": "completed"
    },
    "tags": []
   }
  },
  {
   "cell_type": "code",
   "source": "data_transforms = {\n    \"train\": A.Compose([\n#         A.ToRGB(),\n        A.Resize(config.image_dimension, config.image_dimension),\n        A.ShiftScaleRotate(\n            shift_limit=0.1,\n            scale_limit=0.15,\n            rotate_limit=30,\n            p=0.5),\n        A.HueSaturationValue(\n                hue_shift_limit=30,\n                sat_shift_limit=30,\n                val_shift_limit=30,\n                p=0.5\n            ),\n        A.RandomBrightnessContrast(\n                brightness_limit=(-0.01,0.01),\n                contrast_limit=(-0.01, 0.01),\n                p=0.5\n            ),\n        A.Normalize(\n                mean=[0.485, 0.456, 0.406],\n                std=[0.229, 0.224, 0.225],\n                max_pixel_value=255.0,\n                p=1.0\n            ),\n        ToTensorV2() # Advanced analogue of T.ToTensor\n    ], p=1.),\n\n    \"val\": A.Compose([\n#         A.ToRGB(),\n        A.Resize(config.image_dimension, config.image_dimension),\n        A.Normalize(\n                mean=[0.485, 0.456, 0.406],\n                std=[0.229, 0.224, 0.225],\n                max_pixel_value=255.0,\n                p=1.0\n            ),\n        ToTensorV2()], p=1.)\n}",
   "metadata": {
    "ExecuteTime": {
     "start_time": "2023-08-16T12:35:34.500452Z",
     "end_time": "2023-08-16T12:35:34.593790Z"
    },
    "collapsed": false,
    "id": "tROO0x2GTFDe",
    "jupyter": {
     "outputs_hidden": false
    },
    "papermill": {
     "duration": 0.041327,
     "end_time": "2023-08-14T16:24:22.519534",
     "exception": false,
     "start_time": "2023-08-14T16:24:22.478207",
     "status": "completed"
    },
    "tags": [],
    "execution": {
     "iopub.status.busy": "2023-08-16T09:49:47.288529Z",
     "iopub.execute_input": "2023-08-16T09:49:47.289744Z",
     "iopub.status.idle": "2023-08-16T09:49:47.302161Z",
     "shell.execute_reply.started": "2023-08-16T09:49:47.289690Z",
     "shell.execute_reply": "2023-08-16T09:49:47.300946Z"
    },
    "trusted": true
   },
   "execution_count": 40,
   "outputs": []
  },
  {
   "cell_type": "markdown",
   "source": "Load the images that we will pass into CNN model to get embeddings",
   "metadata": {}
  },
  {
   "cell_type": "code",
   "source": "images_dataset = CustomImagesDataset(labels_path=config.train_labels, images_path=config.train_images_path, transform_images=data_transforms['val'], encoder_name='dataset')",
   "metadata": {
    "ExecuteTime": {
     "start_time": "2023-08-16T12:35:34.531287Z",
     "end_time": "2023-08-16T12:35:34.789990Z"
    },
    "collapsed": false,
    "id": "DmijxMsuTFDf",
    "jupyter": {
     "outputs_hidden": false
    },
    "outputId": "0f9bae18-cdd1-4716-8bc0-8d83c4eb2a3f",
    "papermill": {
     "duration": 0.131857,
     "end_time": "2023-08-14T16:24:22.733140",
     "exception": false,
     "start_time": "2023-08-14T16:24:22.601283",
     "status": "completed"
    },
    "tags": [],
    "execution": {
     "iopub.status.busy": "2023-08-16T09:49:47.620881Z",
     "iopub.execute_input": "2023-08-16T09:49:47.621243Z",
     "iopub.status.idle": "2023-08-16T09:49:47.727441Z",
     "shell.execute_reply.started": "2023-08-16T09:49:47.621212Z",
     "shell.execute_reply": "2023-08-16T09:49:47.726254Z"
    },
    "trusted": true
   },
   "execution_count": 41,
   "outputs": [
    {
     "name": "stdout",
     "text": "\u001B[43mLabel Encoder saved with id `dataset`\u001B[0m\n",
     "output_type": "stream"
    }
   ]
  },
  {
   "cell_type": "code",
   "source": "to_pil_image(images_dataset[60][0])",
   "metadata": {
    "ExecuteTime": {
     "start_time": "2023-08-16T12:35:34.789990Z",
     "end_time": "2023-08-16T12:35:35.005855Z"
    },
    "id": "_bZMqZjoTFDf",
    "outputId": "a43afe2b-a8cb-4aee-9500-d4637cd905ef",
    "papermill": {
     "duration": 0.141629,
     "end_time": "2023-08-14T16:24:22.989267",
     "exception": false,
     "start_time": "2023-08-14T16:24:22.847638",
     "status": "completed"
    },
    "tags": [],
    "execution": {
     "iopub.status.busy": "2023-08-16T09:49:50.541379Z",
     "iopub.execute_input": "2023-08-16T09:49:50.541823Z",
     "iopub.status.idle": "2023-08-16T09:49:50.587523Z",
     "shell.execute_reply.started": "2023-08-16T09:49:50.541786Z",
     "shell.execute_reply": "2023-08-16T09:49:50.586494Z"
    },
    "trusted": true
   },
   "execution_count": 42,
   "outputs": [
    {
     "execution_count": 42,
     "output_type": "execute_result",
     "data": {
      "text/plain": "<PIL.Image.Image image mode=RGB size=256x256>",
      "image/png": "[encoded data removed]"
     },
     "metadata": {}
    }
   ]
  },
  {
   "cell_type": "code",
   "source": "config.num_of_classes = len(images_dataset.classes_)\nconfig.num_of_classes",
   "metadata": {
    "ExecuteTime": {
     "start_time": "2023-08-16T12:35:35.005855Z",
     "end_time": "2023-08-16T12:35:35.035041Z"
    },
    "collapsed": false,
    "id": "UUS_aiISTFDf",
    "jupyter": {
     "outputs_hidden": false
    },
    "outputId": "832f5ec9-3895-4f71-bc96-6e626c74ab34",
    "papermill": {
     "duration": 0.042393,
     "end_time": "2023-08-14T16:24:23.061573",
     "exception": false,
     "start_time": "2023-08-14T16:24:23.019180",
     "status": "completed"
    },
    "tags": [],
    "execution": {
     "iopub.status.busy": "2023-08-16T09:49:50.590164Z",
     "iopub.execute_input": "2023-08-16T09:49:50.590613Z",
     "iopub.status.idle": "2023-08-16T09:49:50.604926Z",
     "shell.execute_reply.started": "2023-08-16T09:49:50.590573Z",
     "shell.execute_reply": "2023-08-16T09:49:50.603736Z"
    },
    "trusted": true
   },
   "execution_count": 43,
   "outputs": [
    {
     "execution_count": 43,
     "output_type": "execute_result",
     "data": {
      "text/plain": "760"
     },
     "metadata": {}
    }
   ]
  },
  {
   "cell_type": "code",
   "source": "print(*images_dataset.classes_[:20], sep=';  ', end='...')",
   "metadata": {
    "ExecuteTime": {
     "start_time": "2023-08-16T12:35:35.035041Z",
     "end_time": "2023-08-16T12:35:35.101136Z"
    },
    "id": "lYMINDi1TFDj",
    "outputId": "bdd6cc65-de03-495d-9883-53906ce9a165",
    "papermill": {
     "duration": 0.03962,
     "end_time": "2023-08-14T16:24:23.258792",
     "exception": false,
     "start_time": "2023-08-14T16:24:23.219172",
     "status": "completed"
    },
    "tags": [],
    "execution": {
     "iopub.status.busy": "2023-08-16T09:49:50.608598Z",
     "iopub.execute_input": "2023-08-16T09:49:50.610845Z",
     "iopub.status.idle": "2023-08-16T09:49:50.627356Z",
     "shell.execute_reply.started": "2023-08-16T09:49:50.610802Z",
     "shell.execute_reply": "2023-08-16T09:49:50.626404Z"
    },
    "trusted": true
   },
   "execution_count": 44,
   "outputs": [
    {
     "name": "stdout",
     "text": "Acura_MDX;  Alfa Romeo_Giulietta;  Audi_100;  Audi_80;  Audi_A1;  Audi_A3;  Audi_A4;  Audi_A5;  Audi_A6;  Audi_A7;  Audi_A8;  Audi_Q3;  Audi_Q5;  Audi_Q7;  Audi_R8;  Audi_RS6;  Audi_S5;  Audi_S8;  Audi_TT;  BAW_FENIX...",
     "output_type": "stream"
    }
   ]
  },
  {
   "cell_type": "markdown",
   "source": "# 3. Models",
   "metadata": {
    "id": "1nrMvID-TFDk",
    "papermill": {
     "duration": 0.029139,
     "end_time": "2023-08-14T16:24:23.317070",
     "exception": false,
     "start_time": "2023-08-14T16:24:23.287931",
     "status": "completed"
    },
    "tags": []
   }
  },
  {
   "cell_type": "markdown",
   "source": "## 1. Pretrained SOTA model to get the embeddings",
   "metadata": {
    "id": "CC_wCexMTFDk",
    "papermill": {
     "duration": 0.028535,
     "end_time": "2023-08-14T16:24:23.432671",
     "exception": false,
     "start_time": "2023-08-14T16:24:23.404136",
     "status": "completed"
    },
    "tags": []
   }
  },
  {
   "cell_type": "code",
   "source": "def get_input_feature_size(classifier: nn.Sequential) -> int:\n    for module in classifier.modules():\n        if isinstance(module, nn.Linear):\n            return module.in_features",
   "metadata": {
    "ExecuteTime": {
     "start_time": "2023-08-16T12:35:35.047908Z",
     "end_time": "2023-08-16T12:35:35.101136Z"
    },
    "collapsed": false,
    "jupyter": {
     "outputs_hidden": false
    },
    "papermill": {
     "duration": 0.037894,
     "end_time": "2023-08-14T16:24:23.499805",
     "exception": false,
     "start_time": "2023-08-14T16:24:23.461911",
     "status": "completed"
    },
    "tags": [],
    "execution": {
     "iopub.status.busy": "2023-08-16T09:49:50.628882Z",
     "iopub.execute_input": "2023-08-16T09:49:50.630014Z",
     "iopub.status.idle": "2023-08-16T09:49:50.638941Z",
     "shell.execute_reply.started": "2023-08-16T09:49:50.629975Z",
     "shell.execute_reply": "2023-08-16T09:49:50.637071Z"
    },
    "trusted": true
   },
   "execution_count": 45,
   "outputs": []
  },
  {
   "cell_type": "markdown",
   "source": "Let's use a universal function that we made before.",
   "metadata": {}
  },
  {
   "cell_type": "code",
   "source": "def get_model(model_name='resnet18', from_path=None, pretrained=False, freeze_layers=0.0, get_embeddings=False) -> torch.nn.Module:\n    if from_path:\n        try:\n            model = torch.load(from_path, map_location=torch.device(\"cuda\" if torch.cuda.is_available() else \"cpu\"))\n            return model\n        except FileNotFoundError:\n            raise\n    elif model_name:\n        model = getattr(models, model_name) # We use builtin function\n        model = model(\n        weights=('DEFAULT' if pretrained else None)\n        )\n\n    if bool(freeze_layers):\n        params = list(model.parameters())\n        for param in params[:int(len(params)*freeze_layers)]:\n            # Freeze some layers\n            param.requires_grad = False\n\n    if get_embeddings:\n        # That means remove classifier (last layer):\n        model.classifier = nn.Sequential(\n            # nn.Dropout(p=0.3, inplace=True),\n            nn.Linear(in_features=get_input_feature_size(model.classifier),\n                      out_features=config.embedding_size, bias=True\n                      ),\n\n        )\n    return model",
   "metadata": {
    "ExecuteTime": {
     "start_time": "2023-08-16T12:35:35.055827Z",
     "end_time": "2023-08-16T12:35:35.101136Z"
    },
    "id": "-NUikulCTFDk",
    "papermill": {
     "duration": 0.040624,
     "end_time": "2023-08-14T16:24:23.570110",
     "exception": false,
     "start_time": "2023-08-14T16:24:23.529486",
     "status": "completed"
    },
    "tags": [],
    "execution": {
     "iopub.status.busy": "2023-08-16T09:49:50.642156Z",
     "iopub.execute_input": "2023-08-16T09:49:50.643148Z",
     "iopub.status.idle": "2023-08-16T09:49:50.655131Z",
     "shell.execute_reply.started": "2023-08-16T09:49:50.642894Z",
     "shell.execute_reply": "2023-08-16T09:49:50.653971Z"
    },
    "trusted": true
   },
   "execution_count": 46,
   "outputs": []
  },
  {
   "cell_type": "code",
   "source": "embedding_model = get_model(\n    from_path=config.embedding_model_path,\n    # pretrained=True,\n    freeze_layers=0.0,\n    # get_embeddings=True\n)",
   "metadata": {
    "ExecuteTime": {
     "start_time": "2023-08-16T12:35:35.069869Z",
     "end_time": "2023-08-16T12:35:35.279955Z"
    },
    "papermill": {
     "duration": 5.600845,
     "end_time": "2023-08-14T16:24:29.382961",
     "exception": false,
     "start_time": "2023-08-14T16:24:23.782116",
     "status": "completed"
    },
    "tags": [],
    "execution": {
     "iopub.status.busy": "2023-08-16T09:49:50.656547Z",
     "iopub.execute_input": "2023-08-16T09:49:50.657029Z",
     "iopub.status.idle": "2023-08-16T09:49:56.679604Z",
     "shell.execute_reply.started": "2023-08-16T09:49:50.656978Z",
     "shell.execute_reply": "2023-08-16T09:49:56.678514Z"
    },
    "trusted": true
   },
   "execution_count": 47,
   "outputs": []
  },
  {
   "cell_type": "markdown",
   "source": "It is a model that doesn't have classifier - only one linear layer that transforms embeddings to desired size",
   "metadata": {
    "papermill": {
     "duration": 0.028908,
     "end_time": "2023-08-14T16:24:29.441920",
     "exception": false,
     "start_time": "2023-08-14T16:24:29.413012",
     "status": "completed"
    },
    "tags": []
   }
  },
  {
   "cell_type": "code",
   "source": "embedding_model.classifier",
   "metadata": {
    "ExecuteTime": {
     "start_time": "2023-08-16T12:35:35.205032Z",
     "end_time": "2023-08-16T12:35:35.296272Z"
    },
    "id": "GsWQ0vJoTFDm",
    "outputId": "fe3553cc-d992-44f6-f031-4c1c49705080",
    "papermill": {
     "duration": 0.039105,
     "end_time": "2023-08-14T16:24:29.510375",
     "exception": false,
     "start_time": "2023-08-14T16:24:29.471270",
     "status": "completed"
    },
    "tags": [],
    "execution": {
     "iopub.status.busy": "2023-08-16T09:49:56.682009Z",
     "iopub.execute_input": "2023-08-16T09:49:56.687975Z",
     "iopub.status.idle": "2023-08-16T09:49:56.702272Z",
     "shell.execute_reply.started": "2023-08-16T09:49:56.687926Z",
     "shell.execute_reply": "2023-08-16T09:49:56.701141Z"
    },
    "trusted": true
   },
   "execution_count": 48,
   "outputs": [
    {
     "execution_count": 48,
     "output_type": "execute_result",
     "data": {
      "text/plain": "Sequential(\n  (0): Linear(in_features=960, out_features=512, bias=True)\n)"
     },
     "metadata": {}
    }
   ]
  },
  {
   "cell_type": "markdown",
   "source": "## 2. Feedforward model to process embeddings pairs",
   "metadata": {}
  },
  {
   "cell_type": "code",
   "source": "class SiameseNetwork(nn.Module):\n    def __init__(self, embedding_size):\n        super().__init__()\n\n        self.fc = nn.Sequential(\n            nn.Linear(in_features=embedding_size, out_features=1024),\n            nn.ReLU(),\n            nn.Linear(in_features=1024, out_features=1024),\n            nn.ReLU(),\n            nn.Dropout(p=0.2, inplace=False),\n            nn.Linear(in_features=1024, out_features=1),\n            nn.Sigmoid()\n        )\n\n    def forward(self, x1, x2):\n        square = (x1 - x2)**2        \n        # Pass the inputs through fully connected layers\n        output = self.fc(square)\n        return output",
   "metadata": {
    "collapsed": false,
    "ExecuteTime": {
     "start_time": "2023-08-16T12:35:35.215937Z",
     "end_time": "2023-08-16T12:35:35.296272Z"
    },
    "jupyter": {
     "outputs_hidden": false
    },
    "execution": {
     "iopub.status.busy": "2023-08-16T09:59:54.631769Z",
     "iopub.execute_input": "2023-08-16T09:59:54.632178Z",
     "iopub.status.idle": "2023-08-16T09:59:54.643644Z",
     "shell.execute_reply.started": "2023-08-16T09:59:54.632146Z",
     "shell.execute_reply": "2023-08-16T09:59:54.641342Z"
    },
    "trusted": true
   },
   "execution_count": 96,
   "outputs": []
  },
  {
   "cell_type": "code",
   "source": "perceptron_model = SiameseNetwork(config.embedding_size)\nperceptron_model",
   "metadata": {
    "collapsed": false,
    "ExecuteTime": {
     "start_time": "2023-08-16T12:35:35.226322Z",
     "end_time": "2023-08-16T12:35:35.296272Z"
    },
    "jupyter": {
     "outputs_hidden": false
    },
    "execution": {
     "iopub.status.busy": "2023-08-16T09:59:55.012882Z",
     "iopub.execute_input": "2023-08-16T09:59:55.013279Z",
     "iopub.status.idle": "2023-08-16T09:59:55.043644Z",
     "shell.execute_reply.started": "2023-08-16T09:59:55.013247Z",
     "shell.execute_reply": "2023-08-16T09:59:55.042565Z"
    },
    "trusted": true
   },
   "execution_count": 97,
   "outputs": [
    {
     "execution_count": 97,
     "output_type": "execute_result",
     "data": {
      "text/plain": "SiameseNetwork(\n  (fc): Sequential(\n    (0): Linear(in_features=512, out_features=1024, bias=True)\n    (1): ReLU()\n    (2): Linear(in_features=1024, out_features=1024, bias=True)\n    (3): ReLU()\n    (4): Dropout(p=0.2, inplace=False)\n    (5): Linear(in_features=1024, out_features=1, bias=True)\n    (6): Sigmoid()\n  )\n)"
     },
     "metadata": {}
    }
   ]
  },
  {
   "cell_type": "markdown",
   "source": "# 4. Various",
   "metadata": {
    "id": "t6rYKZFqTFDn",
    "papermill": {
     "duration": 0.030093,
     "end_time": "2023-08-14T16:24:29.570642",
     "exception": false,
     "start_time": "2023-08-14T16:24:29.540549",
     "status": "completed"
    },
    "tags": []
   }
  },
  {
   "cell_type": "markdown",
   "source": "## 1. Quality metrics",
   "metadata": {
    "id": "UhnkDGSqTFDn",
    "papermill": {
     "duration": 0.029828,
     "end_time": "2023-08-14T16:24:29.630054",
     "exception": false,
     "start_time": "2023-08-14T16:24:29.600226",
     "status": "completed"
    },
    "tags": []
   }
  },
  {
   "cell_type": "markdown",
   "source": "We will use accuracy and F1 score for out classification task",
   "metadata": {
    "id": "VpjMrvnfWgHC",
    "papermill": {
     "duration": 0.029419,
     "end_time": "2023-08-14T16:24:29.689395",
     "exception": false,
     "start_time": "2023-08-14T16:24:29.659976",
     "status": "completed"
    },
    "tags": []
   }
  },
  {
   "cell_type": "code",
   "source": "f1_score = MulticlassF1Score(num_classes=config.num_of_classes,)",
   "metadata": {
    "ExecuteTime": {
     "start_time": "2023-08-16T12:35:35.264314Z",
     "end_time": "2023-08-16T12:35:35.296272Z"
    },
    "id": "c_2AwnsfTFDn",
    "papermill": {
     "duration": 0.043366,
     "end_time": "2023-08-14T16:24:29.762611",
     "exception": false,
     "start_time": "2023-08-14T16:24:29.719245",
     "status": "completed"
    },
    "tags": [],
    "execution": {
     "iopub.status.busy": "2023-08-16T09:59:56.338332Z",
     "iopub.execute_input": "2023-08-16T09:59:56.338727Z",
     "iopub.status.idle": "2023-08-16T09:59:56.348211Z",
     "shell.execute_reply.started": "2023-08-16T09:59:56.338687Z",
     "shell.execute_reply": "2023-08-16T09:59:56.347042Z"
    },
    "trusted": true
   },
   "execution_count": 98,
   "outputs": []
  },
  {
   "cell_type": "markdown",
   "source": "## 2. Device",
   "metadata": {
    "id": "WqgSgG2_TFDn",
    "papermill": {
     "duration": 0.029561,
     "end_time": "2023-08-14T16:24:29.821752",
     "exception": false,
     "start_time": "2023-08-14T16:24:29.792191",
     "status": "completed"
    },
    "tags": []
   }
  },
  {
   "cell_type": "code",
   "source": "device = torch.device(\"cuda\" if torch.cuda.is_available() else \"cpu\")\nembedding_model = embedding_model.to(device)\nperceptron_model = perceptron_model.to(device)\n\nf1_score = f1_score.to(device)\ntorch.cuda.empty_cache()",
   "metadata": {
    "ExecuteTime": {
     "start_time": "2023-08-16T12:35:35.296272Z",
     "end_time": "2023-08-16T12:35:35.415334Z"
    },
    "id": "F7zEDfFvTFDo",
    "papermill": {
     "duration": 0.04363,
     "end_time": "2023-08-14T16:24:29.894974",
     "exception": false,
     "start_time": "2023-08-14T16:24:29.851344",
     "status": "completed"
    },
    "tags": [],
    "execution": {
     "iopub.status.busy": "2023-08-16T09:59:57.103820Z",
     "iopub.execute_input": "2023-08-16T09:59:57.104229Z",
     "iopub.status.idle": "2023-08-16T09:59:57.123007Z",
     "shell.execute_reply.started": "2023-08-16T09:59:57.104195Z",
     "shell.execute_reply": "2023-08-16T09:59:57.121737Z"
    },
    "trusted": true
   },
   "execution_count": 99,
   "outputs": []
  },
  {
   "cell_type": "markdown",
   "source": "## 3. Data processing format",
   "metadata": {
    "id": "E7mbVBoGTFDo",
    "papermill": {
     "duration": 0.029342,
     "end_time": "2023-08-14T16:24:29.953491",
     "exception": false,
     "start_time": "2023-08-14T16:24:29.924149",
     "status": "completed"
    },
    "tags": []
   }
  },
  {
   "cell_type": "code",
   "source": "config.train_batch_size, config.val_batch_size = 160, 350",
   "metadata": {
    "ExecuteTime": {
     "start_time": "2023-08-16T12:35:35.316526Z",
     "end_time": "2023-08-16T12:35:35.446589Z"
    },
    "id": "7xJPcyHwTFDo",
    "papermill": {
     "duration": 0.042453,
     "end_time": "2023-08-14T16:24:30.025418",
     "exception": false,
     "start_time": "2023-08-14T16:24:29.982965",
     "status": "completed"
    },
    "tags": [],
    "execution": {
     "iopub.status.busy": "2023-08-16T09:59:58.046342Z",
     "iopub.execute_input": "2023-08-16T09:59:58.047295Z",
     "iopub.status.idle": "2023-08-16T09:59:58.059988Z",
     "shell.execute_reply.started": "2023-08-16T09:59:58.047254Z",
     "shell.execute_reply": "2023-08-16T09:59:58.058989Z"
    },
    "trusted": true
   },
   "execution_count": 100,
   "outputs": []
  },
  {
   "cell_type": "code",
   "source": "images_dataloader = DataLoader(images_dataset,\n                              batch_size=config.train_batch_size,\n                              shuffle=True,\n                              num_workers=os.cpu_count() % 4,\n)",
   "metadata": {
    "ExecuteTime": {
     "start_time": "2023-08-16T12:35:35.325080Z",
     "end_time": "2023-08-16T12:35:35.462217Z"
    },
    "id": "IqrseI2gTFDo",
    "papermill": {
     "duration": 0.03949,
     "end_time": "2023-08-14T16:24:30.094630",
     "exception": false,
     "start_time": "2023-08-14T16:24:30.055140",
     "status": "completed"
    },
    "tags": [],
    "execution": {
     "iopub.status.busy": "2023-08-16T09:50:50.081964Z",
     "iopub.execute_input": "2023-08-16T09:50:50.082388Z",
     "iopub.status.idle": "2023-08-16T09:50:50.090254Z",
     "shell.execute_reply.started": "2023-08-16T09:50:50.082336Z",
     "shell.execute_reply": "2023-08-16T09:50:50.089045Z"
    },
    "trusted": true
   },
   "execution_count": 56,
   "outputs": []
  },
  {
   "cell_type": "markdown",
   "source": "# 5. Embeddings processing",
   "metadata": {
    "papermill": {
     "duration": 0.029126,
     "end_time": "2023-08-14T16:24:30.222159",
     "exception": false,
     "start_time": "2023-08-14T16:24:30.193033",
     "status": "completed"
    },
    "tags": []
   }
  },
  {
   "cell_type": "code",
   "source": "@torch.inference_mode()\ndef get_embeddings(model, dataloader, device):\n    model.eval()\n    all_embeddings = []\n    all_labels = []\n\n    with tqdm(dataloader, desc=\"Processing\",unit=\"batch\") as process:\n        for images, labels in process:\n            images = images.to(device)\n            labels = labels.to(device)\n            embeddings = model(images)\n\n            all_embeddings.append(embeddings)\n            all_labels.append(labels)\n\n    return torch.cat(all_embeddings), torch.cat(all_labels)\n",
   "metadata": {
    "ExecuteTime": {
     "start_time": "2023-08-16T12:35:35.357946Z",
     "end_time": "2023-08-16T12:35:35.462217Z"
    },
    "collapsed": false,
    "jupyter": {
     "outputs_hidden": false
    },
    "papermill": {
     "duration": 0.040451,
     "end_time": "2023-08-14T16:24:30.292152",
     "exception": false,
     "start_time": "2023-08-14T16:24:30.251701",
     "status": "completed"
    },
    "tags": [],
    "execution": {
     "iopub.status.busy": "2023-08-16T09:50:51.314225Z",
     "iopub.execute_input": "2023-08-16T09:50:51.316964Z",
     "iopub.status.idle": "2023-08-16T09:50:51.328447Z",
     "shell.execute_reply.started": "2023-08-16T09:50:51.316926Z",
     "shell.execute_reply": "2023-08-16T09:50:51.326861Z"
    },
    "trusted": true
   },
   "execution_count": 57,
   "outputs": []
  },
  {
   "cell_type": "code",
   "source": "embeddings_bag, labels = get_embeddings(embedding_model, images_dataloader, device)",
   "metadata": {
    "collapsed": false,
    "jupyter": {
     "outputs_hidden": false
    },
    "papermill": {
     "duration": 0.037387,
     "end_time": "2023-08-14T16:24:30.358847",
     "exception": false,
     "start_time": "2023-08-14T16:24:30.321460",
     "status": "completed"
    },
    "tags": [],
    "ExecuteTime": {
     "start_time": "2023-08-16T12:35:35.368210Z",
     "end_time": "2023-08-16T12:35:52.836151Z"
    },
    "execution": {
     "iopub.status.busy": "2023-08-16T09:50:51.714249Z",
     "iopub.execute_input": "2023-08-16T09:50:51.714640Z",
     "iopub.status.idle": "2023-08-16T09:53:12.735457Z",
     "shell.execute_reply.started": "2023-08-16T09:50:51.714606Z",
     "shell.execute_reply": "2023-08-16T09:53:12.734315Z"
    },
    "trusted": true
   },
   "execution_count": 58,
   "outputs": [
    {
     "name": "stderr",
     "text": "Processing: 100%|██████████| 137/137 [02:20<00:00,  1.03s/batch]\n",
     "output_type": "stream"
    }
   ]
  },
  {
   "cell_type": "markdown",
   "source": "Split data to test and train for our Linear Model",
   "metadata": {}
  },
  {
   "cell_type": "code",
   "source": "from sklearn.model_selection import train_test_split",
   "metadata": {
    "ExecuteTime": {
     "start_time": "2023-08-16T12:35:52.836151Z",
     "end_time": "2023-08-16T12:35:52.844031Z"
    },
    "execution": {
     "iopub.status.busy": "2023-08-16T09:53:48.166697Z",
     "iopub.execute_input": "2023-08-16T09:53:48.167120Z",
     "iopub.status.idle": "2023-08-16T09:53:48.174801Z",
     "shell.execute_reply.started": "2023-08-16T09:53:48.167085Z",
     "shell.execute_reply": "2023-08-16T09:53:48.173728Z"
    },
    "trusted": true
   },
   "execution_count": 59,
   "outputs": []
  },
  {
   "cell_type": "code",
   "source": "train_embeddings_bag, test_embeddings_bag, train_labels, test_labels = train_test_split(embeddings_bag, labels, random_state=config.seed, test_size=0.05)",
   "metadata": {
    "ExecuteTime": {
     "start_time": "2023-08-16T12:35:52.844031Z",
     "end_time": "2023-08-16T12:35:52.908236Z"
    },
    "execution": {
     "iopub.status.busy": "2023-08-16T09:53:48.551063Z",
     "iopub.execute_input": "2023-08-16T09:53:48.551487Z",
     "iopub.status.idle": "2023-08-16T09:53:48.577411Z",
     "shell.execute_reply.started": "2023-08-16T09:53:48.551453Z",
     "shell.execute_reply": "2023-08-16T09:53:48.576311Z"
    },
    "trusted": true
   },
   "execution_count": 60,
   "outputs": []
  },
  {
   "cell_type": "code",
   "source": "class SiameseDataset(Dataset):\n    \"\"\"\n    This dataset is used for Triplet NN. Here each item is a tuple of three images:\n    Anchor, Positive and Negative. This dataset doesn't provide the labels for images:\n    we use comparing of images to train a model; so,\n    whether the labels are equal IS OUR CRITERIA, not the labels itself.\n    \"\"\"\n    def __init__(self, embeddings_data, labels,):\n        super().__init__()\n        self.labels = labels.to('cpu')\n        self.embeddings_data = embeddings_data.to('cpu')\n        self.__set_dataset_len()\n        self.similarity_flag = True\n\n\n    def __set_dataset_len(self):\n        a = self.labels.size(0) # Number of rows\n        b = self.embeddings_data.size(0) # Amount of images\n        assert a == b  # CSV content and real number of photos are equal\n        self.length = a\n\n\n    def __len__(self):\n        \"\"\"\n        We calculate the len in another function, so that we are able to set it manually.\n        \"\"\"\n        return self.length\n\n\n    def __get_random_embedding(self, indexes):\n        image_index = np.random.choice(indexes)\n        embegging, label = self.embeddings_data[image_index], self.labels[image_index]\n        return embegging, label\n\n\n    def __getitem__(self, index) -> tuple[torch.Tensor, int]:\n        \"\"\" Function to return item by indexing the dataset \"\"\"\n        if not isinstance(index, int) and isinstance(index, slice):\n            # It's not an index, but slice.\n            # We will return the part of data by making a copy of the dataset\n            index: slice\n            self = deepcopy(self)\n            self.length = index.stop  # Cut the length of dataset.\n            self.labels = self.labels[:self.length]\n            self.embeddings_data = self.embeddings_data[:self.length]\n            return self\n\n\n        anchor, anchor_label = self.embeddings_data[index], self.labels[index]\n        positive_or_negative = np.where(\n            ((self.labels == anchor_label) == self.similarity_flag)\n        )[0]\n\n        # Delete source index, so we don't take two same pictures\n        correct_indexes = np.delete(positive_or_negative, np.where(positive_or_negative == index))\n\n        if len(correct_indexes) < 1:\n            self.similarity_flag = not self.similarity_flag\n            return self[index]\n\n        p_or_n_embedding, second_label = self.__get_random_embedding(correct_indexes)\n\n        self.similarity_flag = not self.similarity_flag  # Switch the flag\n\n        return anchor, p_or_n_embedding, float(anchor_label==second_label)\n",
   "metadata": {
    "collapsed": false,
    "ExecuteTime": {
     "start_time": "2023-08-16T12:35:52.890611Z",
     "end_time": "2023-08-16T12:35:52.908236Z"
    },
    "jupyter": {
     "outputs_hidden": false
    },
    "execution": {
     "iopub.status.busy": "2023-08-16T09:53:50.503974Z",
     "iopub.execute_input": "2023-08-16T09:53:50.504804Z",
     "iopub.status.idle": "2023-08-16T09:53:50.524231Z",
     "shell.execute_reply.started": "2023-08-16T09:53:50.504760Z",
     "shell.execute_reply": "2023-08-16T09:53:50.522597Z"
    },
    "trusted": true
   },
   "execution_count": 61,
   "outputs": []
  },
  {
   "cell_type": "code",
   "source": "train_dataset = SiameseDataset(embeddings_data=train_embeddings_bag, labels=train_labels)\ntest_dataset = SiameseDataset(embeddings_data=test_embeddings_bag, labels=test_labels)",
   "metadata": {
    "collapsed": false,
    "ExecuteTime": {
     "start_time": "2023-08-16T12:35:52.908236Z",
     "end_time": "2023-08-16T12:35:52.923622Z"
    },
    "jupyter": {
     "outputs_hidden": false
    },
    "execution": {
     "iopub.status.busy": "2023-08-16T09:53:51.598724Z",
     "iopub.execute_input": "2023-08-16T09:53:51.599146Z",
     "iopub.status.idle": "2023-08-16T09:53:51.650276Z",
     "shell.execute_reply.started": "2023-08-16T09:53:51.599114Z",
     "shell.execute_reply": "2023-08-16T09:53:51.648985Z"
    },
    "trusted": true
   },
   "execution_count": 62,
   "outputs": []
  },
  {
   "cell_type": "code",
   "source": "torch.cuda.empty_cache()",
   "metadata": {
    "ExecuteTime": {
     "start_time": "2023-08-16T12:35:52.915659Z",
     "end_time": "2023-08-16T12:35:52.923622Z"
    },
    "execution": {
     "iopub.status.busy": "2023-08-16T09:53:54.977340Z",
     "iopub.execute_input": "2023-08-16T09:53:54.977773Z",
     "iopub.status.idle": "2023-08-16T09:53:55.063157Z",
     "shell.execute_reply.started": "2023-08-16T09:53:54.977736Z",
     "shell.execute_reply": "2023-08-16T09:53:55.061228Z"
    },
    "trusted": true
   },
   "execution_count": 63,
   "outputs": []
  },
  {
   "cell_type": "code",
   "source": "train_dataloader = DataLoader(train_dataset,\n                              batch_size=config.train_batch_size,\n                              shuffle=True,\n                              num_workers=os.cpu_count() % 4,\n)",
   "metadata": {
    "collapsed": false,
    "ExecuteTime": {
     "start_time": "2023-08-16T12:35:52.923622Z",
     "end_time": "2023-08-16T12:35:52.932555Z"
    },
    "jupyter": {
     "outputs_hidden": false
    },
    "execution": {
     "iopub.status.busy": "2023-08-16T09:53:55.136763Z",
     "iopub.execute_input": "2023-08-16T09:53:55.137818Z",
     "iopub.status.idle": "2023-08-16T09:53:55.145437Z",
     "shell.execute_reply.started": "2023-08-16T09:53:55.137778Z",
     "shell.execute_reply": "2023-08-16T09:53:55.143865Z"
    },
    "trusted": true
   },
   "execution_count": 64,
   "outputs": []
  },
  {
   "cell_type": "code",
   "source": "test_dataloader = DataLoader(test_dataset,\n                              batch_size=config.train_batch_size,\n                              shuffle=False,\n                              num_workers=os.cpu_count() % 4,\n                              )",
   "metadata": {
    "collapsed": false,
    "ExecuteTime": {
     "start_time": "2023-08-16T12:35:52.932555Z",
     "end_time": "2023-08-16T12:35:52.979679Z"
    },
    "jupyter": {
     "outputs_hidden": false
    },
    "execution": {
     "iopub.status.busy": "2023-08-16T09:53:56.301467Z",
     "iopub.execute_input": "2023-08-16T09:53:56.301857Z",
     "iopub.status.idle": "2023-08-16T09:53:56.309092Z",
     "shell.execute_reply.started": "2023-08-16T09:53:56.301822Z",
     "shell.execute_reply": "2023-08-16T09:53:56.307814Z"
    },
    "trusted": true
   },
   "execution_count": 65,
   "outputs": []
  },
  {
   "cell_type": "markdown",
   "source": "## Choosing N nearest",
   "metadata": {}
  },
  {
   "cell_type": "code",
   "source": "from sklearn.neighbors import NearestNeighbors",
   "metadata": {
    "ExecuteTime": {
     "start_time": "2023-08-16T12:35:52.941892Z",
     "end_time": "2023-08-16T12:35:53.057768Z"
    },
    "execution": {
     "iopub.status.busy": "2023-08-16T09:54:01.150831Z",
     "iopub.execute_input": "2023-08-16T09:54:01.152003Z",
     "iopub.status.idle": "2023-08-16T09:54:01.211880Z",
     "shell.execute_reply.started": "2023-08-16T09:54:01.151955Z",
     "shell.execute_reply": "2023-08-16T09:54:01.210754Z"
    },
    "trusted": true
   },
   "execution_count": 66,
   "outputs": []
  },
  {
   "cell_type": "code",
   "source": "neigh = NearestNeighbors(n_neighbors=5, metric='cosine')",
   "metadata": {
    "ExecuteTime": {
     "start_time": "2023-08-16T12:35:53.057768Z",
     "end_time": "2023-08-16T12:35:53.064241Z"
    },
    "execution": {
     "iopub.status.busy": "2023-08-16T09:54:01.439223Z",
     "iopub.execute_input": "2023-08-16T09:54:01.439628Z",
     "iopub.status.idle": "2023-08-16T09:54:01.446046Z",
     "shell.execute_reply.started": "2023-08-16T09:54:01.439597Z",
     "shell.execute_reply": "2023-08-16T09:54:01.444220Z"
    },
    "trusted": true
   },
   "execution_count": 67,
   "outputs": []
  },
  {
   "cell_type": "code",
   "source": "neigh.fit(embeddings_bag.cpu().numpy())",
   "metadata": {
    "ExecuteTime": {
     "start_time": "2023-08-16T12:35:53.064241Z",
     "end_time": "2023-08-16T12:35:53.089913Z"
    },
    "execution": {
     "iopub.status.busy": "2023-08-16T09:54:01.828131Z",
     "iopub.execute_input": "2023-08-16T09:54:01.828544Z",
     "iopub.status.idle": "2023-08-16T09:54:01.892051Z",
     "shell.execute_reply.started": "2023-08-16T09:54:01.828509Z",
     "shell.execute_reply": "2023-08-16T09:54:01.890984Z"
    },
    "trusted": true
   },
   "execution_count": 68,
   "outputs": [
    {
     "execution_count": 68,
     "output_type": "execute_result",
     "data": {
      "text/plain": "NearestNeighbors(metric='cosine')",
      "text/html": "<style>#sk-container-id-1 {color: black;background-color: white;}#sk-container-id-1 pre{padding: 0;}#sk-container-id-1 div.sk-toggleable {background-color: white;}#sk-container-id-1 label.sk-toggleable__label {cursor: pointer;display: block;width: 100%;margin-bottom: 0;padding: 0.3em;box-sizing: border-box;text-align: center;}#sk-container-id-1 label.sk-toggleable__label-arrow:before {content: \"▸\";float: left;margin-right: 0.25em;color: #696969;}#sk-container-id-1 label.sk-toggleable__label-arrow:hover:before {color: black;}#sk-container-id-1 div.sk-estimator:hover label.sk-toggleable__label-arrow:before {color: black;}#sk-container-id-1 div.sk-toggleable__content {max-height: 0;max-width: 0;overflow: hidden;text-align: left;background-color: #f0f8ff;}#sk-container-id-1 div.sk-toggleable__content pre {margin: 0.2em;color: black;border-radius: 0.25em;background-color: #f0f8ff;}#sk-container-id-1 input.sk-toggleable__control:checked~div.sk-toggleable__content {max-height: 200px;max-width: 100%;overflow: auto;}#sk-container-id-1 input.sk-toggleable__control:checked~label.sk-toggleable__label-arrow:before {content: \"▾\";}#sk-container-id-1 div.sk-estimator input.sk-toggleable__control:checked~label.sk-toggleable__label {background-color: #d4ebff;}#sk-container-id-1 div.sk-label input.sk-toggleable__control:checked~label.sk-toggleable__label {background-color: #d4ebff;}#sk-container-id-1 input.sk-hidden--visually {border: 0;clip: rect(1px 1px 1px 1px);clip: rect(1px, 1px, 1px, 1px);height: 1px;margin: -1px;overflow: hidden;padding: 0;position: absolute;width: 1px;}#sk-container-id-1 div.sk-estimator {font-family: monospace;background-color: #f0f8ff;border: 1px dotted black;border-radius: 0.25em;box-sizing: border-box;margin-bottom: 0.5em;}#sk-container-id-1 div.sk-estimator:hover {background-color: #d4ebff;}#sk-container-id-1 div.sk-parallel-item::after {content: \"\";width: 100%;border-bottom: 1px solid gray;flex-grow: 1;}#sk-container-id-1 div.sk-label:hover label.sk-toggleable__label {background-color: #d4ebff;}#sk-container-id-1 div.sk-serial::before {content: \"\";position: absolute;border-left: 1px solid gray;box-sizing: border-box;top: 0;bottom: 0;left: 50%;z-index: 0;}#sk-container-id-1 div.sk-serial {display: flex;flex-direction: column;align-items: center;background-color: white;padding-right: 0.2em;padding-left: 0.2em;position: relative;}#sk-container-id-1 div.sk-item {position: relative;z-index: 1;}#sk-container-id-1 div.sk-parallel {display: flex;align-items: stretch;justify-content: center;background-color: white;position: relative;}#sk-container-id-1 div.sk-item::before, #sk-container-id-1 div.sk-parallel-item::before {content: \"\";position: absolute;border-left: 1px solid gray;box-sizing: border-box;top: 0;bottom: 0;left: 50%;z-index: -1;}#sk-container-id-1 div.sk-parallel-item {display: flex;flex-direction: column;z-index: 1;position: relative;background-color: white;}#sk-container-id-1 div.sk-parallel-item:first-child::after {align-self: flex-end;width: 50%;}#sk-container-id-1 div.sk-parallel-item:last-child::after {align-self: flex-start;width: 50%;}#sk-container-id-1 div.sk-parallel-item:only-child::after {width: 0;}#sk-container-id-1 div.sk-dashed-wrapped {border: 1px dashed gray;margin: 0 0.4em 0.5em 0.4em;box-sizing: border-box;padding-bottom: 0.4em;background-color: white;}#sk-container-id-1 div.sk-label label {font-family: monospace;font-weight: bold;display: inline-block;line-height: 1.2em;}#sk-container-id-1 div.sk-label-container {text-align: center;}#sk-container-id-1 div.sk-container {/* jupyter's `normalize.less` sets `[hidden] { display: none; }` but bootstrap.min.css set `[hidden] { display: none !important; }` so we also need the `!important` here to be able to override the default hidden behavior on the sphinx rendered scikit-learn.org. See: https://github.com/scikit-learn/scikit-learn/issues/21755 */display: inline-block !important;position: relative;}#sk-container-id-1 div.sk-text-repr-fallback {display: none;}</style><div id=\"sk-container-id-1\" class=\"sk-top-container\"><div class=\"sk-text-repr-fallback\"><pre>NearestNeighbors(metric=&#x27;cosine&#x27;)</pre><b>In a Jupyter environment, please rerun this cell to show the HTML representation or trust the notebook. <br />On GitHub, the HTML representation is unable to render, please try loading this page with nbviewer.org.</b></div><div class=\"sk-container\" hidden><div class=\"sk-item\"><div class=\"sk-estimator sk-toggleable\"><input class=\"sk-toggleable__control sk-hidden--visually\" id=\"sk-estimator-id-1\" type=\"checkbox\" checked><label for=\"sk-estimator-id-1\" class=\"sk-toggleable__label sk-toggleable__label-arrow\">NearestNeighbors</label><div class=\"sk-toggleable__content\"><pre>NearestNeighbors(metric=&#x27;cosine&#x27;)</pre></div></div></div></div></div>"
     },
     "metadata": {}
    }
   ]
  },
  {
   "cell_type": "code",
   "source": "# found_nearest = neigh.kneighbors(torch.unsqueeze(r_embedding, dim=0).cpu().numpy())\nfound_nearest = neigh.kneighbors()",
   "metadata": {
    "ExecuteTime": {
     "start_time": "2023-08-16T12:35:53.089913Z",
     "end_time": "2023-08-16T12:35:53.141616Z"
    },
    "execution": {
     "iopub.status.busy": "2023-08-16T09:54:02.640486Z",
     "iopub.execute_input": "2023-08-16T09:54:02.640910Z",
     "iopub.status.idle": "2023-08-16T09:54:14.116186Z",
     "shell.execute_reply.started": "2023-08-16T09:54:02.640876Z",
     "shell.execute_reply": "2023-08-16T09:54:14.114970Z"
    },
    "trusted": true
   },
   "execution_count": 69,
   "outputs": []
  },
  {
   "cell_type": "code",
   "source": "def get_dataset_with_nearest(array_of_nearest: np.array):\n    neighbors = []\n    for row_of_nearest in array_of_nearest:\n#         print(row_of_nearest)\n\n        labels_of_closest = []\n        for nearest_label in row_of_nearest:\n            labels_of_closest.append(labels[nearest_label].item())\n#         print(labels_of_closest)\n        neighbors.append(labels_of_closest)\n    label_array = pd.DataFrame(neighbors)\n    return label_array\n\nneighbors_labels = get_dataset_with_nearest(found_nearest[1])",
   "metadata": {
    "ExecuteTime": {
     "start_time": "2023-08-16T12:35:53.115504Z",
     "end_time": "2023-08-16T12:35:53.159611Z"
    },
    "execution": {
     "iopub.status.busy": "2023-08-16T09:54:14.118470Z",
     "iopub.execute_input": "2023-08-16T09:54:14.123389Z",
     "iopub.status.idle": "2023-08-16T09:54:16.245376Z",
     "shell.execute_reply.started": "2023-08-16T09:54:14.123349Z",
     "shell.execute_reply": "2023-08-16T09:54:16.244257Z"
    },
    "trusted": true
   },
   "execution_count": 70,
   "outputs": []
  },
  {
   "cell_type": "code",
   "source": "neighbors_labels.nunique()",
   "metadata": {
    "ExecuteTime": {
     "start_time": "2023-08-16T12:35:53.136144Z",
     "end_time": "2023-08-16T12:35:53.192576Z"
    },
    "execution": {
     "iopub.status.busy": "2023-08-16T09:54:16.248522Z",
     "iopub.execute_input": "2023-08-16T09:54:16.252360Z",
     "iopub.status.idle": "2023-08-16T09:54:16.292085Z",
     "shell.execute_reply.started": "2023-08-16T09:54:16.252319Z",
     "shell.execute_reply": "2023-08-16T09:54:16.291145Z"
    },
    "trusted": true
   },
   "execution_count": 71,
   "outputs": [
    {
     "execution_count": 71,
     "output_type": "execute_result",
     "data": {
      "text/plain": "0    760\n1    760\n2    760\n3    760\n4    758\ndtype: int64"
     },
     "metadata": {}
    }
   ]
  },
  {
   "cell_type": "code",
   "source": "# neighbors_labels",
   "metadata": {
    "ExecuteTime": {
     "start_time": "2023-08-16T12:35:53.165609Z",
     "end_time": "2023-08-16T12:35:53.275881Z"
    },
    "execution": {
     "iopub.status.busy": "2023-08-16T09:54:16.294575Z",
     "iopub.execute_input": "2023-08-16T09:54:16.299265Z",
     "iopub.status.idle": "2023-08-16T09:54:16.309084Z",
     "shell.execute_reply.started": "2023-08-16T09:54:16.299227Z",
     "shell.execute_reply": "2023-08-16T09:54:16.308104Z"
    },
    "trusted": true
   },
   "execution_count": 72,
   "outputs": []
  },
  {
   "cell_type": "code",
   "source": "def all_values_same(row):\n    return all(row == row[0])",
   "metadata": {
    "ExecuteTime": {
     "start_time": "2023-08-16T12:35:53.177837Z",
     "end_time": "2023-08-16T12:35:53.275881Z"
    },
    "execution": {
     "iopub.status.busy": "2023-08-16T09:54:16.312437Z",
     "iopub.execute_input": "2023-08-16T09:54:16.314291Z",
     "iopub.status.idle": "2023-08-16T09:54:16.324515Z",
     "shell.execute_reply.started": "2023-08-16T09:54:16.314253Z",
     "shell.execute_reply": "2023-08-16T09:54:16.323566Z"
    },
    "trusted": true
   },
   "execution_count": 73,
   "outputs": []
  },
  {
   "cell_type": "code",
   "source": "def some_values_same(row, number_of_same=3):\n    unique_numbers = set(row)\n    all_numbers = list(row)\n    [all_numbers.remove(u) for u in unique_numbers]\n    # Now we can select any number - list contains only numbers that represent the majority.\n    try:\n        value_to_compare = all_numbers[0]\n    except IndexError:\n        value_to_compare = row[0]\n\n    return ((row == value_to_compare).sum() >= number_of_same)",
   "metadata": {
    "ExecuteTime": {
     "start_time": "2023-08-16T12:35:53.192576Z",
     "end_time": "2023-08-16T12:35:53.275881Z"
    },
    "execution": {
     "iopub.status.busy": "2023-08-16T09:54:16.326002Z",
     "iopub.execute_input": "2023-08-16T09:54:16.327967Z",
     "iopub.status.idle": "2023-08-16T09:54:16.342174Z",
     "shell.execute_reply.started": "2023-08-16T09:54:16.327932Z",
     "shell.execute_reply": "2023-08-16T09:54:16.340220Z"
    },
    "trusted": true
   },
   "execution_count": 74,
   "outputs": []
  },
  {
   "cell_type": "code",
   "source": "neighbors_labels['are_labels_same'] = neighbors_labels.apply(all_values_same, axis=1)",
   "metadata": {
    "ExecuteTime": {
     "start_time": "2023-08-16T12:35:53.229990Z",
     "end_time": "2023-08-16T12:35:53.275881Z"
    },
    "execution": {
     "iopub.status.busy": "2023-08-16T09:54:51.175352Z",
     "iopub.execute_input": "2023-08-16T09:54:51.175815Z",
     "iopub.status.idle": "2023-08-16T09:54:53.451473Z",
     "shell.execute_reply.started": "2023-08-16T09:54:51.175780Z",
     "shell.execute_reply": "2023-08-16T09:54:53.446551Z"
    },
    "trusted": true
   },
   "execution_count": 76,
   "outputs": []
  },
  {
   "cell_type": "code",
   "source": "neighbors_labels['three_are_same'] = neighbors_labels.loc[:, neighbors_labels.columns[:-1]].apply(some_values_same, axis=1)",
   "metadata": {
    "ExecuteTime": {
     "start_time": "2023-08-16T12:35:53.275881Z",
     "end_time": "2023-08-16T12:35:53.342972Z"
    },
    "execution": {
     "iopub.status.busy": "2023-08-16T09:55:38.646406Z",
     "iopub.execute_input": "2023-08-16T09:55:38.646827Z",
     "iopub.status.idle": "2023-08-16T09:55:42.211651Z",
     "shell.execute_reply.started": "2023-08-16T09:55:38.646793Z",
     "shell.execute_reply": "2023-08-16T09:55:42.210402Z"
    },
    "trusted": true
   },
   "execution_count": 80,
   "outputs": []
  },
  {
   "cell_type": "code",
   "source": "neighbors_labels",
   "metadata": {
    "ExecuteTime": {
     "start_time": "2023-08-16T12:35:53.342972Z",
     "end_time": "2023-08-16T12:35:53.409333Z"
    },
    "execution": {
     "iopub.status.busy": "2023-08-16T09:55:43.238434Z",
     "iopub.execute_input": "2023-08-16T09:55:43.238854Z",
     "iopub.status.idle": "2023-08-16T09:55:43.263565Z",
     "shell.execute_reply.started": "2023-08-16T09:55:43.238818Z",
     "shell.execute_reply": "2023-08-16T09:55:43.262592Z"
    },
    "trusted": true
   },
   "execution_count": 81,
   "outputs": [
    {
     "execution_count": 81,
     "output_type": "execute_result",
     "data": {
      "text/plain": "         0    1    2    3    4  are_labels_same  three_are_same\n0      628  628  628  628  628             True            True\n1      330  330  330  330  330             True            True\n2      367  352  367  604  604            False           False\n3      152  152  152  152  152             True            True\n4       33   33   33   33   33             True            True\n...    ...  ...  ...  ...  ...              ...             ...\n21784  282  282  282  282  282             True            True\n21785  345  345  345  344  344            False            True\n21786  657  657  657  657  484            False            True\n21787  660  660  621  608  660            False            True\n21788  706  706  706  706  706             True            True\n\n[21789 rows x 7 columns]",
      "text/html": "<div>\n<style scoped>\n    .dataframe tbody tr th:only-of-type {\n        vertical-align: middle;\n    }\n\n    .dataframe tbody tr th {\n        vertical-align: top;\n    }\n\n    .dataframe thead th {\n        text-align: right;\n    }\n</style>\n<table border=\"1\" class=\"dataframe\">\n  <thead>\n    <tr style=\"text-align: right;\">\n      <th></th>\n      <th>0</th>\n      <th>1</th>\n      <th>2</th>\n      <th>3</th>\n      <th>4</th>\n      <th>are_labels_same</th>\n      <th>three_are_same</th>\n    </tr>\n  </thead>\n  <tbody>\n    <tr>\n      <th>0</th>\n      <td>628</td>\n      <td>628</td>\n      <td>628</td>\n      <td>628</td>\n      <td>628</td>\n      <td>True</td>\n      <td>True</td>\n    </tr>\n    <tr>\n      <th>1</th>\n      <td>330</td>\n      <td>330</td>\n      <td>330</td>\n      <td>330</td>\n      <td>330</td>\n      <td>True</td>\n      <td>True</td>\n    </tr>\n    <tr>\n      <th>2</th>\n      <td>367</td>\n      <td>352</td>\n      <td>367</td>\n      <td>604</td>\n      <td>604</td>\n      <td>False</td>\n      <td>False</td>\n    </tr>\n    <tr>\n      <th>3</th>\n      <td>152</td>\n      <td>152</td>\n      <td>152</td>\n      <td>152</td>\n      <td>152</td>\n      <td>True</td>\n      <td>True</td>\n    </tr>\n    <tr>\n      <th>4</th>\n      <td>33</td>\n      <td>33</td>\n      <td>33</td>\n      <td>33</td>\n      <td>33</td>\n      <td>True</td>\n      <td>True</td>\n    </tr>\n    <tr>\n      <th>...</th>\n      <td>...</td>\n      <td>...</td>\n      <td>...</td>\n      <td>...</td>\n      <td>...</td>\n      <td>...</td>\n      <td>...</td>\n    </tr>\n    <tr>\n      <th>21784</th>\n      <td>282</td>\n      <td>282</td>\n      <td>282</td>\n      <td>282</td>\n      <td>282</td>\n      <td>True</td>\n      <td>True</td>\n    </tr>\n    <tr>\n      <th>21785</th>\n      <td>345</td>\n      <td>345</td>\n      <td>345</td>\n      <td>344</td>\n      <td>344</td>\n      <td>False</td>\n      <td>True</td>\n    </tr>\n    <tr>\n      <th>21786</th>\n      <td>657</td>\n      <td>657</td>\n      <td>657</td>\n      <td>657</td>\n      <td>484</td>\n      <td>False</td>\n      <td>True</td>\n    </tr>\n    <tr>\n      <th>21787</th>\n      <td>660</td>\n      <td>660</td>\n      <td>621</td>\n      <td>608</td>\n      <td>660</td>\n      <td>False</td>\n      <td>True</td>\n    </tr>\n    <tr>\n      <th>21788</th>\n      <td>706</td>\n      <td>706</td>\n      <td>706</td>\n      <td>706</td>\n      <td>706</td>\n      <td>True</td>\n      <td>True</td>\n    </tr>\n  </tbody>\n</table>\n<p>21789 rows × 7 columns</p>\n</div>"
     },
     "metadata": {}
    }
   ]
  },
  {
   "cell_type": "markdown",
   "source": "Let's check how good our Neighbors model works",
   "metadata": {}
  },
  {
   "cell_type": "code",
   "source": "print(f\"In {len(neighbors_labels[neighbors_labels['are_labels_same']]) / len(neighbors_labels) * 100}% of data classes have all same class in its' nearest vectors\")",
   "metadata": {
    "ExecuteTime": {
     "start_time": "2023-08-16T12:35:53.380339Z",
     "end_time": "2023-08-16T12:35:53.454421Z"
    },
    "execution": {
     "iopub.status.busy": "2023-08-16T09:55:54.688569Z",
     "iopub.execute_input": "2023-08-16T09:55:54.689283Z",
     "iopub.status.idle": "2023-08-16T09:55:54.700526Z",
     "shell.execute_reply.started": "2023-08-16T09:55:54.689246Z",
     "shell.execute_reply": "2023-08-16T09:55:54.699113Z"
    },
    "trusted": true
   },
   "execution_count": 82,
   "outputs": [
    {
     "name": "stdout",
     "text": "In 66.4693193813392% of data classes have all same class in its' nearest vectors\n",
     "output_type": "stream"
    }
   ]
  },
  {
   "cell_type": "code",
   "source": "print(f\"In {len(neighbors_labels[neighbors_labels['three_are_same']]) / len(neighbors_labels) * 100}% of data classes have at least 3 of same class in its' nearest vectors\")",
   "metadata": {
    "ExecuteTime": {
     "start_time": "2023-08-16T12:35:53.392007Z",
     "end_time": "2023-08-16T12:35:53.454421Z"
    },
    "execution": {
     "iopub.status.busy": "2023-08-16T09:55:54.853620Z",
     "iopub.execute_input": "2023-08-16T09:55:54.854572Z",
     "iopub.status.idle": "2023-08-16T09:55:54.864062Z",
     "shell.execute_reply.started": "2023-08-16T09:55:54.854526Z",
     "shell.execute_reply": "2023-08-16T09:55:54.862988Z"
    },
    "trusted": true
   },
   "execution_count": 83,
   "outputs": [
    {
     "name": "stdout",
     "text": "In 91.90417182982239% of data classes have at least 3 of same class in its' nearest vectors\n",
     "output_type": "stream"
    }
   ]
  },
  {
   "cell_type": "markdown",
   "source": "# 5. Initialize the train process",
   "metadata": {
    "id": "qCM07xVnTFDp",
    "papermill": {
     "duration": 0.029095,
     "end_time": "2023-08-14T16:24:30.635296",
     "exception": false,
     "start_time": "2023-08-14T16:24:30.606201",
     "status": "completed"
    },
    "tags": []
   }
  },
  {
   "cell_type": "markdown",
   "source": "We will train the Linear Model to distinguish two images by their CNN embeddings. So, we can put two images into a model and learn wheather they are of same class or not.",
   "metadata": {}
  },
  {
   "cell_type": "markdown",
   "source": "## 1. Functions to plot the result",
   "metadata": {
    "id": "afGGK718TFDp",
    "papermill": {
     "duration": 0.029317,
     "end_time": "2023-08-14T16:24:30.693896",
     "exception": false,
     "start_time": "2023-08-14T16:24:30.664579",
     "status": "completed"
    },
    "tags": []
   }
  },
  {
   "cell_type": "code",
   "source": "def plot_two_curves(\n        title: str,\n        train_curve: list[float],\n        val_curve: list[float],\n\n):\n    plt.figure(figsize=(16, 8))\n    plt.title(title)\n    plt.plot(train_curve, label=f'Train {title}')\n    plt.plot(val_curve, label=f'Valid {title}')\n    plt.legend()\n    plt.grid()\n    plt.show()",
   "metadata": {
    "ExecuteTime": {
     "start_time": "2023-08-16T12:35:53.408778Z",
     "end_time": "2023-08-16T12:35:53.454421Z"
    },
    "id": "QVJL1liGTFDp",
    "papermill": {
     "duration": 0.039318,
     "end_time": "2023-08-14T16:24:30.762320",
     "exception": false,
     "start_time": "2023-08-14T16:24:30.723002",
     "status": "completed"
    },
    "tags": [],
    "execution": {
     "iopub.status.busy": "2023-08-16T10:00:11.024749Z",
     "iopub.execute_input": "2023-08-16T10:00:11.025151Z",
     "iopub.status.idle": "2023-08-16T10:00:11.037915Z",
     "shell.execute_reply.started": "2023-08-16T10:00:11.025116Z",
     "shell.execute_reply": "2023-08-16T10:00:11.033734Z"
    },
    "trusted": true
   },
   "execution_count": 101,
   "outputs": []
  },
  {
   "cell_type": "code",
   "source": "def plot_stats(\n        train_loss: list[float],\n        valid_loss: list[float],\n        train_accuracy: list[float]=None,\n        valid_accuracy: list[float]=None,\n        train_f1_score: list[float]=None,\n        valid_f1_score: list[float]=None,\n        title: str = None\n):\n    plot_two_curves(\n        'Loss',\n        train_loss,\n        valid_loss\n    )\n\n    if train_accuracy and valid_accuracy:\n        plot_two_curves(\n            'accuracy',\n            train_accuracy,\n            valid_accuracy\n        )\n\n    if train_f1_score and valid_f1_score:\n        plot_two_curves(\n            'F1 score',\n            train_f1_score,\n            valid_f1_score\n        )\n",
   "metadata": {
    "ExecuteTime": {
     "start_time": "2023-08-16T12:35:53.409333Z",
     "end_time": "2023-08-16T12:35:53.454421Z"
    },
    "id": "GQrWiRJbTFDp",
    "papermill": {
     "duration": 0.040323,
     "end_time": "2023-08-14T16:24:30.832595",
     "exception": false,
     "start_time": "2023-08-14T16:24:30.792272",
     "status": "completed"
    },
    "tags": [],
    "execution": {
     "iopub.status.busy": "2023-08-16T10:00:11.593894Z",
     "iopub.execute_input": "2023-08-16T10:00:11.594263Z",
     "iopub.status.idle": "2023-08-16T10:00:11.603558Z",
     "shell.execute_reply.started": "2023-08-16T10:00:11.594232Z",
     "shell.execute_reply": "2023-08-16T10:00:11.602442Z"
    },
    "trusted": true
   },
   "execution_count": 102,
   "outputs": []
  },
  {
   "cell_type": "markdown",
   "source": "## 2. Training and evaluation functions",
   "metadata": {
    "id": "ePLlKs4rTFDq",
    "papermill": {
     "duration": 0.02992,
     "end_time": "2023-08-14T16:24:30.892994",
     "exception": false,
     "start_time": "2023-08-14T16:24:30.863074",
     "status": "completed"
    },
    "tags": []
   }
  },
  {
   "cell_type": "code",
   "source": "def train_one_epoch(model, dataloader, optimizer, criterion, device, epoch: str):\n    model.train()\n    threshold = torch.Tensor([0.5]).to(device)\n    train_loss = 0.0\n    train_correct = 0.0\n    train_f1 = 0.0\n    n_batches = 0\n    data_size = 0\n\n    with tqdm(dataloader, desc=f'Epoch: {epoch}', unit=\"batch\") as tepoch:\n        for image_one, image_second, is_same_class in tepoch:\n            n_batches += 1\n            image_one = image_one.to(device)\n            image_second = image_second.to(device)\n            is_same_class = is_same_class.to(device)\n\n            optimizer.zero_grad()\n\n            # Our model returns embeddings (instead of predictions).\n            predicted_similarity = model(image_one, image_second)\n            predicted_similarity = torch.squeeze(predicted_similarity, dim=-1)\n\n            loss = criterion(predicted_similarity, is_same_class.to(torch.float32))\n            loss.backward()\n\n            optimizer.step()\n\n            loss = loss.item()  # item() extracts scalar\n            train_loss += loss\n\n\n            prediction = (predicted_similarity >= threshold).float()\n            # _, predicted = torch.max(probabilities, 1)\n            train_correct += (prediction == is_same_class).sum().item()\n            data_size += is_same_class.size(0)\n            train_accuracy = train_correct / data_size\n            f1 = f1_score(prediction, is_same_class).item()\n            train_f1 += f1\n\n\n            tepoch.set_postfix(loss=loss, acc=train_accuracy)\n\n    train_loss /= n_batches\n    train_f1 /= n_batches\n    gc.collect()\n    torch.cuda.empty_cache()\n\n    return train_loss, train_accuracy, train_f1",
   "metadata": {
    "ExecuteTime": {
     "start_time": "2023-08-16T12:35:53.421514Z",
     "end_time": "2023-08-16T12:35:53.526874Z"
    },
    "id": "QObsYKNJTFDq",
    "papermill": {
     "duration": 0.043445,
     "end_time": "2023-08-14T16:24:30.965904",
     "exception": false,
     "start_time": "2023-08-14T16:24:30.922459",
     "status": "completed"
    },
    "tags": [],
    "execution": {
     "iopub.status.busy": "2023-08-16T10:00:11.607118Z",
     "iopub.execute_input": "2023-08-16T10:00:11.607906Z",
     "iopub.status.idle": "2023-08-16T10:00:11.621255Z",
     "shell.execute_reply.started": "2023-08-16T10:00:11.607869Z",
     "shell.execute_reply": "2023-08-16T10:00:11.620245Z"
    },
    "trusted": true
   },
   "execution_count": 103,
   "outputs": []
  },
  {
   "cell_type": "code",
   "source": "@torch.inference_mode()\ndef validate_one_epoch(model, dataloader, criterion, device):\n    model.eval()\n    threshold = torch.Tensor([0.5]).to(device)\n    val_loss = 0.0\n    val_correct = 0.0\n    val_f1_score = 0.0\n    data_size = 0\n    n_batches = 0\n\n    with tqdm(dataloader, desc=\"Validation\",unit=\"batch\") as tepoch:\n        for image_one, image_second, is_same_class in tepoch:\n            n_batches += 1\n            image_one = image_one.to(device)\n            image_second = image_second.to(device)\n            is_same_class = is_same_class.to(device)\n\n            # Our model returns embeddings (instead of predictions).\n            predicted_similarity = model(image_one, image_second)\n            # print(predicted_similarity, predicted_similarity.int())\n            predicted_similarity = torch.squeeze(predicted_similarity, dim=-1)\n\n\n            # But we still want to calculate accuracy, so, we calculate probs it our ArcFace Function\n            loss = criterion(predicted_similarity, is_same_class.to(torch.float32))\n            loss = loss.item()  # item() extracts scalar\n            val_loss += loss\n\n\n            prediction = (predicted_similarity >= threshold).float()\n\n            correct = (prediction == is_same_class).sum().item()\n            val_correct += correct\n            data_size += is_same_class.size(0)  # Batch size\n\n            val_accuracy = val_correct / data_size\n            #\n            f1 = f1_score(prediction, is_same_class).item()\n            val_f1_score += f1\n            tepoch.set_postfix(loss=loss, acc=val_accuracy)\n\n    val_loss /= n_batches\n    val_f1_score /= n_batches\n    gc.collect()\n    torch.cuda.empty_cache()\n\n    return val_loss, val_accuracy, val_f1_score",
   "metadata": {
    "ExecuteTime": {
     "start_time": "2023-08-16T12:35:53.449764Z",
     "end_time": "2023-08-16T12:35:53.552214Z"
    },
    "id": "shn8rP6wTFDq",
    "papermill": {
     "duration": 0.043991,
     "end_time": "2023-08-14T16:24:31.039525",
     "exception": false,
     "start_time": "2023-08-14T16:24:30.995534",
     "status": "completed"
    },
    "tags": [],
    "execution": {
     "iopub.status.busy": "2023-08-16T10:00:11.758116Z",
     "iopub.execute_input": "2023-08-16T10:00:11.758485Z",
     "iopub.status.idle": "2023-08-16T10:00:11.773661Z",
     "shell.execute_reply.started": "2023-08-16T10:00:11.758453Z",
     "shell.execute_reply": "2023-08-16T10:00:11.772074Z"
    },
    "trusted": true
   },
   "execution_count": 104,
   "outputs": []
  },
  {
   "cell_type": "markdown",
   "source": "## 3. Training cycle",
   "metadata": {
    "id": "1TWCVEGYTFDq",
    "papermill": {
     "duration": 0.029674,
     "end_time": "2023-08-14T16:24:31.098333",
     "exception": false,
     "start_time": "2023-08-14T16:24:31.068659",
     "status": "completed"
    },
    "tags": []
   }
  },
  {
   "cell_type": "code",
   "source": "def train_model(model, train_loader, val_loader,\n                criterion=None, optimizer=None, num_epochs=5,\n                scheduler=None, device=torch.device(\"cpu\"),\n                save_model_to=None, wandb_logger=None):\n\n    # wandb.watch(model, criterion,)\n    since = time.time()\n\n    train_loss_history, valid_loss_history = [], []\n    train_acc_history, valid_acc_history = [], []\n    train_f1_history, valid_f1_history = [], []\n\n\n    # Create a temporary directory to save training checkpoints\n    with TemporaryDirectory() as tempdir:\n        best_model_params_path = os.path.join(tempdir, 'best_model_params.pt')\n\n        for epoch in range(num_epochs):\n            train_loss, train_accuracy, train_f1 = train_one_epoch(model, train_loader, optimizer, criterion, device, epoch=f'{epoch+1}/{num_epochs}')\n            val_loss, val_accuracy, val_f1 = validate_one_epoch(model, val_loader, criterion, device,)\n\n\n            print_highlighted(\n                f\"Loss: {val_loss:.4f} - Accuracy: {val_accuracy:.4f} - F1: {val_f1:.4f} - LR: {get_lr(optimizer)}\"\n            )\n\n            if not valid_loss_history or val_loss < valid_loss_history[-1]:\n                # If it's either first step (history is empty) or our weights are getting better\n                print_highlighted(\"New weights were applied.\\n\", bgcolor=Back.CYAN)\n                torch.save(model.state_dict(), best_model_params_path)\n\n            scheduler.step(val_loss)\n\n            train_loss_history.append(train_loss)\n            valid_loss_history.append(val_loss)\n            train_acc_history.append(train_accuracy)\n            valid_acc_history.append(val_accuracy)\n            train_f1_history.append(train_f1)\n            valid_f1_history.append(val_f1)\n\n            if wandb_logger is not None:\n\n                wandb_logger.log(\n                    dict(\n                        train_loss=train_loss,\n                        valid_loss=val_loss,\n                        train_accuracy=train_accuracy,\n                        val_accuracy=val_accuracy,\n                    )\n                )\n\n            del train_loss\n            del val_loss\n            gc.collect()\n            torch.cuda.empty_cache()\n\n        time_elapsed = time.time() - since\n        print_highlighted(f'Training complete in {time_elapsed // 60:.0f}m {time_elapsed % 60:.0f}s')\n\n        # load best model weights\n        model.load_state_dict(torch.load(best_model_params_path))\n\n        if save_model_to:\n            torch.save(model, save_model_to)\n            print_highlighted(f\"Model was saved to: {save_model_to}\")\n\n        history = dict(\n            train_loss=train_loss_history,\n            valid_loss=valid_loss_history,\n            train_accuracy=train_acc_history,\n            valid_accuracy=valid_acc_history,\n            train_f1_score=train_f1_history,\n            valid_f1_score=valid_f1_history,\n        )\n    return model, history",
   "metadata": {
    "ExecuteTime": {
     "start_time": "2023-08-16T12:35:53.470065Z",
     "end_time": "2023-08-16T12:35:53.552214Z"
    },
    "id": "CXrp7xrOTFDu",
    "papermill": {
     "duration": 0.045968,
     "end_time": "2023-08-14T16:24:31.173717",
     "exception": false,
     "start_time": "2023-08-14T16:24:31.127749",
     "status": "completed"
    },
    "tags": [],
    "execution": {
     "iopub.status.busy": "2023-08-16T10:00:12.106459Z",
     "iopub.execute_input": "2023-08-16T10:00:12.106980Z",
     "iopub.status.idle": "2023-08-16T10:00:12.129258Z",
     "shell.execute_reply.started": "2023-08-16T10:00:12.106941Z",
     "shell.execute_reply": "2023-08-16T10:00:12.128002Z"
    },
    "trusted": true
   },
   "execution_count": 105,
   "outputs": []
  },
  {
   "cell_type": "markdown",
   "source": "# 6. Hyperparametres",
   "metadata": {
    "id": "GV7CqxbwTFDu",
    "papermill": {
     "duration": 0.029247,
     "end_time": "2023-08-14T16:24:31.232543",
     "exception": false,
     "start_time": "2023-08-14T16:24:31.203296",
     "status": "completed"
    },
    "tags": []
   }
  },
  {
   "cell_type": "code",
   "source": "# criterion = nn.BCEWithLogitsLoss()\ncriterion = nn.BCELoss()\n",
   "metadata": {
    "collapsed": false,
    "ExecuteTime": {
     "start_time": "2023-08-16T12:35:53.477501Z",
     "end_time": "2023-08-16T12:35:53.567838Z"
    },
    "jupyter": {
     "outputs_hidden": false
    },
    "execution": {
     "iopub.status.busy": "2023-08-16T10:00:12.567240Z",
     "iopub.execute_input": "2023-08-16T10:00:12.567695Z",
     "iopub.status.idle": "2023-08-16T10:00:12.574614Z",
     "shell.execute_reply.started": "2023-08-16T10:00:12.567642Z",
     "shell.execute_reply": "2023-08-16T10:00:12.573360Z"
    },
    "trusted": true
   },
   "execution_count": 106,
   "outputs": []
  },
  {
   "cell_type": "code",
   "source": "config.learning_rate = 5e-5\nconfig.epochs = 30\nconfig.weight_decay = 1e-6\nconfig.min_loss_delta = 0.05",
   "metadata": {
    "ExecuteTime": {
     "start_time": "2023-08-16T12:35:53.485775Z",
     "end_time": "2023-08-16T12:35:53.567838Z"
    },
    "id": "HZAr_gPLTFDv",
    "papermill": {
     "duration": 0.04191,
     "end_time": "2023-08-14T16:24:31.822575",
     "exception": false,
     "start_time": "2023-08-14T16:24:31.780665",
     "status": "completed"
    },
    "tags": [],
    "execution": {
     "iopub.status.busy": "2023-08-16T10:07:59.733238Z",
     "iopub.execute_input": "2023-08-16T10:07:59.733671Z",
     "iopub.status.idle": "2023-08-16T10:07:59.745038Z",
     "shell.execute_reply.started": "2023-08-16T10:07:59.733637Z",
     "shell.execute_reply": "2023-08-16T10:07:59.742982Z"
    },
    "trusted": true
   },
   "execution_count": 121,
   "outputs": []
  },
  {
   "cell_type": "code",
   "source": "optimizer = torch.optim.Adam(\n    perceptron_model.parameters(),\n    lr=config.learning_rate,\n    weight_decay = config.weight_decay)\n# optimizer = torch.optim.Adam(model.parameters(), lr=1e-3, weight_decay=0)\n# optimizer = torch.optim.SGD(model.parameters(), lr=config.learning_rate, momentum=0.8)\n# optimizer = torch.optim.Adam(model.parameters(), lr=1e-4)\n",
   "metadata": {
    "ExecuteTime": {
     "start_time": "2023-08-16T12:35:53.497841Z",
     "end_time": "2023-08-16T12:35:53.755340Z"
    },
    "collapsed": false,
    "id": "XcMxhj2oTFDv",
    "jupyter": {
     "outputs_hidden": false
    },
    "papermill": {
     "duration": 0.036695,
     "end_time": "2023-08-14T16:24:31.892729",
     "exception": false,
     "start_time": "2023-08-14T16:24:31.856034",
     "status": "completed"
    },
    "tags": [],
    "execution": {
     "iopub.status.busy": "2023-08-16T10:08:00.160684Z",
     "iopub.execute_input": "2023-08-16T10:08:00.161105Z",
     "iopub.status.idle": "2023-08-16T10:08:00.169976Z",
     "shell.execute_reply.started": "2023-08-16T10:08:00.161071Z",
     "shell.execute_reply": "2023-08-16T10:08:00.168336Z"
    },
    "trusted": true
   },
   "execution_count": 122,
   "outputs": []
  },
  {
   "cell_type": "code",
   "source": "scheduler = optim.lr_scheduler.ReduceLROnPlateau(\n    optimizer, 'min', patience = 5, factor=0.5, \n    min_lr=config.min_lr , verbose=False,\n    threshold = config.min_loss_delta\n)",
   "metadata": {
    "ExecuteTime": {
     "start_time": "2023-08-16T12:35:53.510528Z",
     "end_time": "2023-08-16T12:35:53.786617Z"
    },
    "collapsed": false,
    "id": "mb4RgCFlTFDw",
    "jupyter": {
     "outputs_hidden": false
    },
    "papermill": {
     "duration": 0.048032,
     "end_time": "2023-08-14T16:24:32.072376",
     "exception": false,
     "start_time": "2023-08-14T16:24:32.024344",
     "status": "completed"
    },
    "tags": [],
    "execution": {
     "iopub.status.busy": "2023-08-16T10:08:00.659623Z",
     "iopub.execute_input": "2023-08-16T10:08:00.660379Z",
     "iopub.status.idle": "2023-08-16T10:08:00.667875Z",
     "shell.execute_reply.started": "2023-08-16T10:08:00.660341Z",
     "shell.execute_reply": "2023-08-16T10:08:00.666510Z"
    },
    "trusted": true
   },
   "execution_count": 123,
   "outputs": []
  },
  {
   "cell_type": "code",
   "source": "def get_lr(optimizer):\n    \"\"\"\n    For some schedulers we don't have `get_last_lr()` method.\n    So, we will get last lr ourselves.\n    \"\"\"\n    return list(\n        [group['lr'] for group in optimizer.param_groups]\n    )",
   "metadata": {
    "ExecuteTime": {
     "start_time": "2023-08-16T12:35:53.519946Z",
     "end_time": "2023-08-16T12:35:53.786617Z"
    },
    "papermill": {
     "duration": 0.038065,
     "end_time": "2023-08-14T16:24:32.140787",
     "exception": false,
     "start_time": "2023-08-14T16:24:32.102722",
     "status": "completed"
    },
    "tags": [],
    "execution": {
     "iopub.status.busy": "2023-08-16T10:08:01.334809Z",
     "iopub.execute_input": "2023-08-16T10:08:01.335557Z",
     "iopub.status.idle": "2023-08-16T10:08:01.343531Z",
     "shell.execute_reply.started": "2023-08-16T10:08:01.335512Z",
     "shell.execute_reply": "2023-08-16T10:08:01.342301Z"
    },
    "trusted": true
   },
   "execution_count": 124,
   "outputs": []
  },
  {
   "cell_type": "code",
   "source": "get_lr(optimizer)",
   "metadata": {
    "ExecuteTime": {
     "start_time": "2023-08-16T12:35:53.527392Z",
     "end_time": "2023-08-16T12:35:53.786617Z"
    },
    "papermill": {
     "duration": 0.038597,
     "end_time": "2023-08-14T16:24:32.208517",
     "exception": false,
     "start_time": "2023-08-14T16:24:32.169920",
     "status": "completed"
    },
    "tags": [],
    "execution": {
     "iopub.status.busy": "2023-08-16T10:08:02.032187Z",
     "iopub.execute_input": "2023-08-16T10:08:02.032612Z",
     "iopub.status.idle": "2023-08-16T10:08:02.049110Z",
     "shell.execute_reply.started": "2023-08-16T10:08:02.032578Z",
     "shell.execute_reply": "2023-08-16T10:08:02.047742Z"
    },
    "trusted": true
   },
   "execution_count": 125,
   "outputs": [
    {
     "execution_count": 125,
     "output_type": "execute_result",
     "data": {
      "text/plain": "[5e-05]"
     },
     "metadata": {}
    }
   ]
  },
  {
   "cell_type": "markdown",
   "source": "# 7. Run the training process",
   "metadata": {
    "id": "CKuqXRwrTFDw",
    "papermill": {
     "duration": 0.029368,
     "end_time": "2023-08-14T16:24:32.266966",
     "exception": false,
     "start_time": "2023-08-14T16:24:32.237598",
     "status": "completed"
    },
    "tags": []
   }
  },
  {
   "cell_type": "code",
   "source": "model, history = train_model(\n    model=perceptron_model,\n    train_loader=train_dataloader,\n    val_loader=test_dataloader,\n    criterion=criterion,\n    optimizer=optimizer,\n    num_epochs=config.epochs,\n    device=device,\n    scheduler=scheduler,\n    save_model_to=config.save_model_to,\n    wandb_logger=wandb_run\n )",
   "metadata": {
    "id": "9WxsyvplTFDw",
    "outputId": "de053f41-a9bb-49b4-ceec-4245ce71efe0",
    "papermill": {
     "duration": 3873.747084,
     "end_time": "2023-08-14T17:29:06.043157",
     "exception": false,
     "start_time": "2023-08-14T16:24:32.296073",
     "status": "completed"
    },
    "tags": [],
    "ExecuteTime": {
     "start_time": "2023-08-16T12:36:39.389861Z",
     "end_time": "2023-08-16T12:36:41.685419Z"
    },
    "execution": {
     "iopub.status.busy": "2023-08-16T10:08:04.490513Z",
     "iopub.execute_input": "2023-08-16T10:08:04.491434Z",
     "iopub.status.idle": "2023-08-16T10:11:16.573387Z",
     "shell.execute_reply.started": "2023-08-16T10:08:04.491395Z",
     "shell.execute_reply": "2023-08-16T10:11:16.568281Z"
    },
    "trusted": true
   },
   "execution_count": 126,
   "outputs": [
    {
     "name": "stderr",
     "text": "Epoch: 1/30: 100%|██████████| 130/130 [00:04<00:00, 27.33batch/s, acc=0.953, loss=0.109] \nValidation: 100%|██████████| 7/7 [00:00<00:00, 21.05batch/s, acc=0.931, loss=0.152]\n",
     "output_type": "stream"
    },
    {
     "name": "stdout",
     "text": "\u001B[43mLoss: 0.1743 - Accuracy: 0.9312 - F1: 0.9304 - LR: [5e-05]\u001B[0m\n\u001B[46mNew weights were applied.\n\u001B[0m\n",
     "output_type": "stream"
    },
    {
     "name": "stderr",
     "text": "Epoch: 2/30: 100%|██████████| 130/130 [00:04<00:00, 26.78batch/s, acc=0.957, loss=0.182] \nValidation: 100%|██████████| 7/7 [00:00<00:00, 21.35batch/s, acc=0.932, loss=0.165] \n",
     "output_type": "stream"
    },
    {
     "name": "stdout",
     "text": "\u001B[43mLoss: 0.1650 - Accuracy: 0.9321 - F1: 0.9309 - LR: [5e-05]\u001B[0m\n\u001B[46mNew weights were applied.\n\u001B[0m\n",
     "output_type": "stream"
    },
    {
     "name": "stderr",
     "text": "Epoch: 3/30: 100%|██████████| 130/130 [00:05<00:00, 23.54batch/s, acc=0.955, loss=0.0806]\nValidation: 100%|██████████| 7/7 [00:00<00:00, 21.10batch/s, acc=0.921, loss=0.155]\n",
     "output_type": "stream"
    },
    {
     "name": "stdout",
     "text": "\u001B[43mLoss: 0.1797 - Accuracy: 0.9211 - F1: 0.9200 - LR: [5e-05]\u001B[0m\n",
     "output_type": "stream"
    },
    {
     "name": "stderr",
     "text": "Epoch: 4/30: 100%|██████████| 130/130 [00:04<00:00, 28.36batch/s, acc=0.952, loss=0.0784]\nValidation: 100%|██████████| 7/7 [00:00<00:00, 20.71batch/s, acc=0.928, loss=0.163]\n",
     "output_type": "stream"
    },
    {
     "name": "stdout",
     "text": "\u001B[43mLoss: 0.1733 - Accuracy: 0.9284 - F1: 0.9278 - LR: [5e-05]\u001B[0m\n\u001B[46mNew weights were applied.\n\u001B[0m\n",
     "output_type": "stream"
    },
    {
     "name": "stderr",
     "text": "Epoch: 5/30: 100%|██████████| 130/130 [00:04<00:00, 26.92batch/s, acc=0.955, loss=0.264] \nValidation: 100%|██████████| 7/7 [00:00<00:00, 20.65batch/s, acc=0.934, loss=0.163] \n",
     "output_type": "stream"
    },
    {
     "name": "stdout",
     "text": "\u001B[43mLoss: 0.1611 - Accuracy: 0.9339 - F1: 0.9332 - LR: [5e-05]\u001B[0m\n\u001B[46mNew weights were applied.\n\u001B[0m\n",
     "output_type": "stream"
    },
    {
     "name": "stderr",
     "text": "Epoch: 6/30: 100%|██████████| 130/130 [00:04<00:00, 27.94batch/s, acc=0.958, loss=0.136] \nValidation: 100%|██████████| 7/7 [00:00<00:00, 20.95batch/s, acc=0.925, loss=0.23] \n",
     "output_type": "stream"
    },
    {
     "name": "stdout",
     "text": "\u001B[43mLoss: 0.1878 - Accuracy: 0.9248 - F1: 0.9233 - LR: [5e-05]\u001B[0m\n",
     "output_type": "stream"
    },
    {
     "name": "stderr",
     "text": "Epoch: 7/30: 100%|██████████| 130/130 [00:04<00:00, 28.17batch/s, acc=0.956, loss=0.115] \nValidation: 100%|██████████| 7/7 [00:00<00:00, 21.12batch/s, acc=0.93, loss=0.111] \n",
     "output_type": "stream"
    },
    {
     "name": "stdout",
     "text": "\u001B[43mLoss: 0.1828 - Accuracy: 0.9303 - F1: 0.9295 - LR: [5e-05]\u001B[0m\n\u001B[46mNew weights were applied.\n\u001B[0m\n",
     "output_type": "stream"
    },
    {
     "name": "stderr",
     "text": "Epoch: 8/30: 100%|██████████| 130/130 [00:05<00:00, 23.67batch/s, acc=0.956, loss=0.0614]\nValidation: 100%|██████████| 7/7 [00:00<00:00, 21.22batch/s, acc=0.926, loss=0.173]\n",
     "output_type": "stream"
    },
    {
     "name": "stdout",
     "text": "\u001B[43mLoss: 0.1659 - Accuracy: 0.9257 - F1: 0.9235 - LR: [5e-05]\u001B[0m\n\u001B[46mNew weights were applied.\n\u001B[0m\n",
     "output_type": "stream"
    },
    {
     "name": "stderr",
     "text": "Epoch: 9/30: 100%|██████████| 130/130 [00:04<00:00, 28.03batch/s, acc=0.957, loss=0.107] \nValidation: 100%|██████████| 7/7 [00:00<00:00, 21.58batch/s, acc=0.932, loss=0.239] \n",
     "output_type": "stream"
    },
    {
     "name": "stdout",
     "text": "\u001B[43mLoss: 0.1783 - Accuracy: 0.9321 - F1: 0.9303 - LR: [2.5e-05]\u001B[0m\n",
     "output_type": "stream"
    },
    {
     "name": "stderr",
     "text": "Epoch: 10/30: 100%|██████████| 130/130 [00:04<00:00, 27.68batch/s, acc=0.956, loss=0.0968]\nValidation: 100%|██████████| 7/7 [00:00<00:00, 21.52batch/s, acc=0.939, loss=0.167]\n",
     "output_type": "stream"
    },
    {
     "name": "stdout",
     "text": "\u001B[43mLoss: 0.1581 - Accuracy: 0.9394 - F1: 0.9386 - LR: [2.5e-05]\u001B[0m\n\u001B[46mNew weights were applied.\n\u001B[0m\n",
     "output_type": "stream"
    },
    {
     "name": "stderr",
     "text": "Epoch: 11/30: 100%|██████████| 130/130 [00:04<00:00, 26.99batch/s, acc=0.958, loss=0.0999]\nValidation: 100%|██████████| 7/7 [00:00<00:00, 20.64batch/s, acc=0.933, loss=0.169]\n",
     "output_type": "stream"
    },
    {
     "name": "stdout",
     "text": "\u001B[43mLoss: 0.1750 - Accuracy: 0.9330 - F1: 0.9321 - LR: [2.5e-05]\u001B[0m\n",
     "output_type": "stream"
    },
    {
     "name": "stderr",
     "text": "Epoch: 12/30: 100%|██████████| 130/130 [00:04<00:00, 27.99batch/s, acc=0.961, loss=0.0766]\nValidation: 100%|██████████| 7/7 [00:00<00:00, 21.64batch/s, acc=0.928, loss=0.134]\n",
     "output_type": "stream"
    },
    {
     "name": "stdout",
     "text": "\u001B[43mLoss: 0.1852 - Accuracy: 0.9284 - F1: 0.9280 - LR: [2.5e-05]\u001B[0m\n",
     "output_type": "stream"
    },
    {
     "name": "stderr",
     "text": "Epoch: 13/30: 100%|██████████| 130/130 [00:05<00:00, 23.49batch/s, acc=0.957, loss=0.112] \nValidation: 100%|██████████| 7/7 [00:00<00:00, 21.17batch/s, acc=0.932, loss=0.159] \n",
     "output_type": "stream"
    },
    {
     "name": "stdout",
     "text": "\u001B[43mLoss: 0.1713 - Accuracy: 0.9321 - F1: 0.9310 - LR: [2.5e-05]\u001B[0m\n\u001B[46mNew weights were applied.\n\u001B[0m\n",
     "output_type": "stream"
    },
    {
     "name": "stderr",
     "text": "Epoch: 14/30: 100%|██████████| 130/130 [00:04<00:00, 27.08batch/s, acc=0.96, loss=0.104]  \nValidation: 100%|██████████| 7/7 [00:00<00:00, 21.57batch/s, acc=0.939, loss=0.206] \n",
     "output_type": "stream"
    },
    {
     "name": "stdout",
     "text": "\u001B[43mLoss: 0.1608 - Accuracy: 0.9394 - F1: 0.9382 - LR: [2.5e-05]\u001B[0m\n\u001B[46mNew weights were applied.\n\u001B[0m\n",
     "output_type": "stream"
    },
    {
     "name": "stderr",
     "text": "Epoch: 15/30: 100%|██████████| 130/130 [00:04<00:00, 28.78batch/s, acc=0.958, loss=0.126] \nValidation: 100%|██████████| 7/7 [00:00<00:00, 21.74batch/s, acc=0.94, loss=0.184] \n",
     "output_type": "stream"
    },
    {
     "name": "stdout",
     "text": "\u001B[43mLoss: 0.1497 - Accuracy: 0.9404 - F1: 0.9386 - LR: [1.25e-05]\u001B[0m\n\u001B[46mNew weights were applied.\n\u001B[0m\n",
     "output_type": "stream"
    },
    {
     "name": "stderr",
     "text": "Epoch: 16/30: 100%|██████████| 130/130 [00:04<00:00, 26.95batch/s, acc=0.96, loss=0.086]  \nValidation: 100%|██████████| 7/7 [00:00<00:00, 20.67batch/s, acc=0.943, loss=0.202]\n",
     "output_type": "stream"
    },
    {
     "name": "stdout",
     "text": "\u001B[43mLoss: 0.1496 - Accuracy: 0.9431 - F1: 0.9409 - LR: [1.25e-05]\u001B[0m\n\u001B[46mNew weights were applied.\n\u001B[0m\n",
     "output_type": "stream"
    },
    {
     "name": "stderr",
     "text": "Epoch: 17/30: 100%|██████████| 130/130 [00:04<00:00, 28.37batch/s, acc=0.961, loss=0.0955]\nValidation: 100%|██████████| 7/7 [00:00<00:00, 21.39batch/s, acc=0.931, loss=0.18] \n",
     "output_type": "stream"
    },
    {
     "name": "stdout",
     "text": "\u001B[43mLoss: 0.1819 - Accuracy: 0.9312 - F1: 0.9297 - LR: [1.25e-05]\u001B[0m\n",
     "output_type": "stream"
    },
    {
     "name": "stderr",
     "text": "Epoch: 18/30: 100%|██████████| 130/130 [00:05<00:00, 24.16batch/s, acc=0.96, loss=0.0634] \nValidation: 100%|██████████| 7/7 [00:00<00:00, 21.71batch/s, acc=0.942, loss=0.159] \n",
     "output_type": "stream"
    },
    {
     "name": "stdout",
     "text": "\u001B[43mLoss: 0.1663 - Accuracy: 0.9422 - F1: 0.9414 - LR: [1.25e-05]\u001B[0m\n\u001B[46mNew weights were applied.\n\u001B[0m\n",
     "output_type": "stream"
    },
    {
     "name": "stderr",
     "text": "Epoch: 19/30: 100%|██████████| 130/130 [00:04<00:00, 26.79batch/s, acc=0.961, loss=0.216] \nValidation: 100%|██████████| 7/7 [00:00<00:00, 17.89batch/s, acc=0.924, loss=0.196]\n",
     "output_type": "stream"
    },
    {
     "name": "stdout",
     "text": "\u001B[43mLoss: 0.1754 - Accuracy: 0.9239 - F1: 0.9213 - LR: [1.25e-05]\u001B[0m\n",
     "output_type": "stream"
    },
    {
     "name": "stderr",
     "text": "Epoch: 20/30: 100%|██████████| 130/130 [00:04<00:00, 28.17batch/s, acc=0.959, loss=0.146] \nValidation: 100%|██████████| 7/7 [00:00<00:00, 21.95batch/s, acc=0.932, loss=0.185]\n",
     "output_type": "stream"
    },
    {
     "name": "stdout",
     "text": "\u001B[43mLoss: 0.1677 - Accuracy: 0.9321 - F1: 0.9305 - LR: [1.25e-05]\u001B[0m\n\u001B[46mNew weights were applied.\n\u001B[0m\n",
     "output_type": "stream"
    },
    {
     "name": "stderr",
     "text": "Epoch: 21/30: 100%|██████████| 130/130 [00:04<00:00, 28.21batch/s, acc=0.959, loss=0.0973]\nValidation: 100%|██████████| 7/7 [00:00<00:00, 21.31batch/s, acc=0.932, loss=0.153] \n",
     "output_type": "stream"
    },
    {
     "name": "stdout",
     "text": "\u001B[43mLoss: 0.1647 - Accuracy: 0.9321 - F1: 0.9310 - LR: [1.25e-05]\u001B[0m\n\u001B[46mNew weights were applied.\n\u001B[0m\n",
     "output_type": "stream"
    },
    {
     "name": "stderr",
     "text": "Epoch: 22/30: 100%|██████████| 130/130 [00:04<00:00, 27.23batch/s, acc=0.961, loss=0.0977]\nValidation: 100%|██████████| 7/7 [00:00<00:00, 21.63batch/s, acc=0.928, loss=0.192] \n",
     "output_type": "stream"
    },
    {
     "name": "stdout",
     "text": "\u001B[43mLoss: 0.1761 - Accuracy: 0.9275 - F1: 0.9262 - LR: [6.25e-06]\u001B[0m\n",
     "output_type": "stream"
    },
    {
     "name": "stderr",
     "text": "Epoch: 23/30: 100%|██████████| 130/130 [00:05<00:00, 24.48batch/s, acc=0.96, loss=0.164]  \nValidation: 100%|██████████| 7/7 [00:00<00:00, 21.31batch/s, acc=0.934, loss=0.222]\n",
     "output_type": "stream"
    },
    {
     "name": "stdout",
     "text": "\u001B[43mLoss: 0.1678 - Accuracy: 0.9339 - F1: 0.9318 - LR: [6.25e-06]\u001B[0m\n\u001B[46mNew weights were applied.\n\u001B[0m\n",
     "output_type": "stream"
    },
    {
     "name": "stderr",
     "text": "Epoch: 24/30: 100%|██████████| 130/130 [00:04<00:00, 26.95batch/s, acc=0.961, loss=0.0982]\nValidation: 100%|██████████| 7/7 [00:00<00:00, 21.91batch/s, acc=0.942, loss=0.19]  \n",
     "output_type": "stream"
    },
    {
     "name": "stdout",
     "text": "\u001B[43mLoss: 0.1665 - Accuracy: 0.9422 - F1: 0.9415 - LR: [6.25e-06]\u001B[0m\n\u001B[46mNew weights were applied.\n\u001B[0m\n",
     "output_type": "stream"
    },
    {
     "name": "stderr",
     "text": "Epoch: 25/30: 100%|██████████| 130/130 [00:04<00:00, 28.04batch/s, acc=0.96, loss=0.0422]\nValidation: 100%|██████████| 7/7 [00:00<00:00, 21.89batch/s, acc=0.929, loss=0.151] \n",
     "output_type": "stream"
    },
    {
     "name": "stdout",
     "text": "\u001B[43mLoss: 0.1619 - Accuracy: 0.9294 - F1: 0.9283 - LR: [6.25e-06]\u001B[0m\n\u001B[46mNew weights were applied.\n\u001B[0m\n",
     "output_type": "stream"
    },
    {
     "name": "stderr",
     "text": "Epoch: 26/30: 100%|██████████| 130/130 [00:04<00:00, 28.52batch/s, acc=0.962, loss=0.078] \nValidation: 100%|██████████| 7/7 [00:00<00:00, 21.15batch/s, acc=0.937, loss=0.149] \n",
     "output_type": "stream"
    },
    {
     "name": "stdout",
     "text": "\u001B[43mLoss: 0.1420 - Accuracy: 0.9367 - F1: 0.9356 - LR: [6.25e-06]\u001B[0m\n\u001B[46mNew weights were applied.\n\u001B[0m\n",
     "output_type": "stream"
    },
    {
     "name": "stderr",
     "text": "Epoch: 27/30: 100%|██████████| 130/130 [00:04<00:00, 27.53batch/s, acc=0.96, loss=0.175]  \nValidation: 100%|██████████| 7/7 [00:00<00:00, 21.72batch/s, acc=0.939, loss=0.132]\n",
     "output_type": "stream"
    },
    {
     "name": "stdout",
     "text": "\u001B[43mLoss: 0.1666 - Accuracy: 0.9385 - F1: 0.9380 - LR: [6.25e-06]\u001B[0m\n",
     "output_type": "stream"
    },
    {
     "name": "stderr",
     "text": "Epoch: 28/30: 100%|██████████| 130/130 [00:05<00:00, 24.29batch/s, acc=0.959, loss=0.0886]\nValidation: 100%|██████████| 7/7 [00:00<00:00, 18.59batch/s, acc=0.94, loss=0.179]  \n",
     "output_type": "stream"
    },
    {
     "name": "stdout",
     "text": "\u001B[43mLoss: 0.1596 - Accuracy: 0.9404 - F1: 0.9388 - LR: [6.25e-06]\u001B[0m\n\u001B[46mNew weights were applied.\n\u001B[0m\n",
     "output_type": "stream"
    },
    {
     "name": "stderr",
     "text": "Epoch: 29/30: 100%|██████████| 130/130 [00:04<00:00, 28.19batch/s, acc=0.96, loss=0.166]  \nValidation: 100%|██████████| 7/7 [00:00<00:00, 21.43batch/s, acc=0.929, loss=0.091] \n",
     "output_type": "stream"
    },
    {
     "name": "stdout",
     "text": "\u001B[43mLoss: 0.1664 - Accuracy: 0.9294 - F1: 0.9292 - LR: [6.25e-06]\u001B[0m\n",
     "output_type": "stream"
    },
    {
     "name": "stderr",
     "text": "Epoch: 30/30: 100%|██████████| 130/130 [00:04<00:00, 27.08batch/s, acc=0.961, loss=0.0922]\nValidation: 100%|██████████| 7/7 [00:00<00:00, 20.89batch/s, acc=0.934, loss=0.179]\n",
     "output_type": "stream"
    },
    {
     "name": "stdout",
     "text": "\u001B[43mLoss: 0.1715 - Accuracy: 0.9339 - F1: 0.9330 - LR: [6.25e-06]\u001B[0m\n\u001B[43mTraining complete in 3m 12s\u001B[0m\n\u001B[43mModel was saved to: SiamesePerceptron.pth\u001B[0m\n",
     "output_type": "stream"
    }
   ]
  },
  {
   "cell_type": "code",
   "source": "plot_stats(\n    **history,\n    title=f\"Model {config.model_name}\"\n)",
   "metadata": {
    "id": "7zTLOYTWTFDx",
    "papermill": {
     "duration": 1.874642,
     "end_time": "2023-08-14T17:29:08.631773",
     "exception": false,
     "start_time": "2023-08-14T17:29:06.757131",
     "status": "completed"
    },
    "tags": [],
    "ExecuteTime": {
     "start_time": "2023-08-16T12:36:46.356181Z",
     "end_time": "2023-08-16T12:36:47.182049Z"
    },
    "execution": {
     "iopub.status.busy": "2023-08-16T10:11:16.575840Z",
     "iopub.execute_input": "2023-08-16T10:11:16.576488Z",
     "iopub.status.idle": "2023-08-16T10:11:17.702774Z",
     "shell.execute_reply.started": "2023-08-16T10:11:16.576451Z",
     "shell.execute_reply": "2023-08-16T10:11:17.701653Z"
    },
    "trusted": true
   },
   "execution_count": 127,
   "outputs": [
    {
     "output_type": "display_data",
     "data": {
      "text/plain": "<Figure size 1600x800 with 1 Axes>",
      "image/png": "[encoded data removed]"
     },
     "metadata": {}
    },
    {
     "output_type": "display_data",
     "data": {
      "text/plain": "<Figure size 1600x800 with 1 Axes>",
      "image/png": "[encoded data removed]"
     },
     "metadata": {}
    },
    {
     "output_type": "display_data",
     "data": {
      "text/plain": "<Figure size 1600x800 with 1 Axes>",
      "image/png": "[encoded data removed]"
     },
     "metadata": {}
    }
   ]
  },
  {
   "cell_type": "markdown",
   "source": "# 8. Result evaluation",
   "metadata": {
    "id": "kJcjndrnTFDx",
    "papermill": {
     "duration": 0.720815,
     "end_time": "2023-08-14T17:29:11.613678",
     "exception": false,
     "start_time": "2023-08-14T17:29:10.892863",
     "status": "completed"
    },
    "tags": []
   }
  },
  {
   "cell_type": "markdown",
   "source": "Interactive training tensorboards are available on wandb:",
   "metadata": {}
  },
  {
   "cell_type": "code",
   "source": "wandb_run.url",
   "metadata": {
    "collapsed": false,
    "ExecuteTime": {
     "start_time": "2023-08-16T12:38:48.994020Z",
     "end_time": "2023-08-16T12:38:49.027399Z"
    },
    "jupyter": {
     "outputs_hidden": false
    },
    "execution": {
     "iopub.status.busy": "2023-08-16T10:05:23.638169Z",
     "iopub.execute_input": "2023-08-16T10:05:23.638560Z",
     "iopub.status.idle": "2023-08-16T10:05:23.653750Z",
     "shell.execute_reply.started": "2023-08-16T10:05:23.638531Z",
     "shell.execute_reply": "2023-08-16T10:05:23.650804Z"
    },
    "trusted": true
   },
   "execution_count": 120,
   "outputs": [
    {
     "execution_count": 120,
     "output_type": "execute_result",
     "data": {
      "text/plain": "'https://wandb.ai/remainedmind/binary-classification-project/runs/vlppfp1s'"
     },
     "metadata": {}
    }
   ]
  },
  {
   "cell_type": "code",
   "source": "",
   "metadata": {
    "collapsed": false,
    "jupyter": {
     "outputs_hidden": false
    }
   },
   "execution_count": null,
   "outputs": []
  }
 ]
}
