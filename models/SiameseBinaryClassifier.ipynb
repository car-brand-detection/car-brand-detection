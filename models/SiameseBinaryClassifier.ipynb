{
 "metadata": {
  "kernelspec": {
   "name": "yolo_torch",
   "language": "python",
   "display_name": "yolo_torch"
  },
  "language_info": {
   "codemirror_mode": {
    "name": "ipython",
    "version": 3
   },
   "file_extension": ".py",
   "mimetype": "text/x-python",
   "name": "python",
   "nbconvert_exporter": "python",
   "pygments_lexer": "ipython3",
   "version": "3.10.12"
  },
  "papermill": {
   "default_parameters": {},
   "duration": 3960.405937,
   "end_time": "2023-08-14T17:29:54.480893",
   "environment_variables": {},
   "exception": null,
   "input_path": "__notebook__.ipynb",
   "output_path": "__notebook__.ipynb",
   "parameters": {},
   "start_time": "2023-08-14T16:23:54.074956",
   "version": "2.4.0"
  }
 },
 "nbformat_minor": 5,
 "nbformat": 4,
 "cells": [
  {
   "cell_type": "markdown",
   "source": [
    "# Pairwise Binary classification with Deep Learning"
   ],
   "metadata": {
    "papermill": {
     "duration": 0.028248,
     "end_time": "2023-08-14T16:24:04.236116",
     "exception": false,
     "start_time": "2023-08-14T16:24:04.207868",
     "status": "completed"
    },
    "tags": []
   }
  },
  {
   "cell_type": "markdown",
   "source": [
    "In this notebook we will train Multilayer Perceptron Neural Network to detect whether two images are from same class (car brand) or not. To train Perceptron, we will use image embeddings got from trained CNN model (SOTA models such as MobileNet)."
   ],
   "metadata": {
    "papermill": {
     "duration": 0.0269,
     "end_time": "2023-08-14T16:24:04.291517",
     "exception": false,
     "start_time": "2023-08-14T16:24:04.264617",
     "status": "completed"
    },
    "tags": []
   }
  },
  {
   "cell_type": "markdown",
   "source": [
    "# 1. Set up"
   ],
   "metadata": {
    "id": "DRrvM2BPUG3T",
    "papermill": {
     "duration": 0.02718,
     "end_time": "2023-08-14T16:24:04.346391",
     "exception": false,
     "start_time": "2023-08-14T16:24:04.319211",
     "status": "completed"
    },
    "tags": []
   }
  },
  {
   "cell_type": "markdown",
   "source": [
    "## 1. Packages and requirements"
   ],
   "metadata": {
    "id": "G-cGfk5CTFDT",
    "papermill": {
     "duration": 0.026993,
     "end_time": "2023-08-14T16:24:04.400603",
     "exception": false,
     "start_time": "2023-08-14T16:24:04.373610",
     "status": "completed"
    },
    "tags": []
   }
  },
  {
   "cell_type": "code",
   "source": [
    "# Major builtin libraries\n",
    "import os\n",
    "import gc\n",
    "# import cv2\n",
    "# import math\n",
    "import time\n",
    "import random\n",
    "import typing as t\n",
    "from copy import deepcopy\n",
    "# from collections import defaultdict"
   ],
   "metadata": {
    "ExecuteTime": {
     "start_time": "2023-08-16T12:35:15.919594Z",
     "end_time": "2023-08-16T12:35:17.255765Z"
    },
    "id": "YJ1bPQE1TFDW",
    "papermill": {
     "duration": 0.044843,
     "end_time": "2023-08-14T16:24:04.472823",
     "exception": false,
     "start_time": "2023-08-14T16:24:04.427980",
     "status": "completed"
    },
    "tags": [],
    "execution": {
     "iopub.status.busy": "2023-08-15T18:42:57.580734Z",
     "iopub.execute_input": "2023-08-15T18:42:57.581197Z",
     "iopub.status.idle": "2023-08-15T18:42:57.587144Z",
     "shell.execute_reply.started": "2023-08-15T18:42:57.581159Z",
     "shell.execute_reply": "2023-08-15T18:42:57.586302Z"
    },
    "trusted": true
   },
   "execution_count": 30,
   "outputs": []
  },
  {
   "cell_type": "code",
   "source": [
    "# To work with Google Collab\n",
    "# from google.colab import drive\n",
    "# drive.mount('/content/drive/', force_remount=True)"
   ],
   "metadata": {
    "ExecuteTime": {
     "start_time": "2023-08-16T12:35:16.799525Z",
     "end_time": "2023-08-16T12:35:17.302658Z"
    },
    "id": "9byYPbwhTFDW",
    "outputId": "f21315f6-d034-4060-f927-1dfcc117d99b",
    "papermill": {
     "duration": 0.034871,
     "end_time": "2023-08-14T16:24:04.535286",
     "exception": false,
     "start_time": "2023-08-14T16:24:04.500415",
     "status": "completed"
    },
    "tags": [],
    "execution": {
     "iopub.status.busy": "2023-08-15T18:42:57.843605Z",
     "iopub.execute_input": "2023-08-15T18:42:57.843969Z",
     "iopub.status.idle": "2023-08-15T18:42:57.848653Z",
     "shell.execute_reply.started": "2023-08-15T18:42:57.843939Z",
     "shell.execute_reply": "2023-08-15T18:42:57.847347Z"
    },
    "trusted": true
   },
   "execution_count": 31,
   "outputs": []
  },
  {
   "cell_type": "code",
   "source": [
    "import warnings  # If you want to disable warnings\n",
    "warnings.filterwarnings(\"ignore\")\n",
    "\n",
    "# For descriptive error messages\n",
    "os.environ['CUDA_LAUNCH_BLOCKING'] = \"1\""
   ],
   "metadata": {
    "ExecuteTime": {
     "start_time": "2023-08-16T12:35:17.318288Z",
     "end_time": "2023-08-16T12:35:17.438527Z"
    },
    "id": "BwyVeWsUTFDX",
    "papermill": {
     "duration": 0.035469,
     "end_time": "2023-08-14T16:24:04.598152",
     "exception": false,
     "start_time": "2023-08-14T16:24:04.562683",
     "status": "completed"
    },
    "tags": [],
    "execution": {
     "iopub.status.busy": "2023-08-15T18:42:58.067492Z",
     "iopub.execute_input": "2023-08-15T18:42:58.067855Z",
     "iopub.status.idle": "2023-08-15T18:42:58.073077Z",
     "shell.execute_reply.started": "2023-08-15T18:42:58.067825Z",
     "shell.execute_reply": "2023-08-15T18:42:58.071704Z"
    },
    "trusted": true
   },
   "execution_count": 32,
   "outputs": []
  },
  {
   "cell_type": "code",
   "source": [
    "# Classic packages for data manipulation and visualization\n",
    "import numpy as np\n",
    "import pandas as pd\n",
    "import matplotlib.pyplot as plt"
   ],
   "metadata": {
    "ExecuteTime": {
     "start_time": "2023-08-16T12:35:17.438527Z",
     "end_time": "2023-08-16T12:35:17.470504Z"
    },
    "id": "AGRBRJORTFDX",
    "papermill": {
     "duration": 0.035178,
     "end_time": "2023-08-14T16:24:04.660718",
     "exception": false,
     "start_time": "2023-08-14T16:24:04.625540",
     "status": "completed"
    },
    "tags": [],
    "execution": {
     "iopub.status.busy": "2023-08-15T18:42:58.386513Z",
     "iopub.execute_input": "2023-08-15T18:42:58.386905Z",
     "iopub.status.idle": "2023-08-15T18:42:58.391659Z",
     "shell.execute_reply.started": "2023-08-15T18:42:58.386875Z",
     "shell.execute_reply": "2023-08-15T18:42:58.390751Z"
    },
    "trusted": true
   },
   "execution_count": 33,
   "outputs": []
  },
  {
   "cell_type": "code",
   "source": [
    "# Basic PyTorch\n",
    "import torch\n",
    "import torch.nn as nn\n",
    "import torch.optim as optim  # Optimization algorithms and dynamic learning rate adjusting\n",
    "import torch.nn.functional as F\n",
    "# from torch.nn.modules.loss import _Loss  # For writing a custom Loss function\n",
    "from torch.utils.data import DataLoader, Dataset  # For custom data presentation"
   ],
   "metadata": {
    "ExecuteTime": {
     "start_time": "2023-08-16T12:35:17.486129Z",
     "end_time": "2023-08-16T12:35:17.570492Z"
    },
    "id": "FXSN-XzxTFDX",
    "papermill": {
     "duration": 3.82041,
     "end_time": "2023-08-14T16:24:08.508190",
     "exception": false,
     "start_time": "2023-08-14T16:24:04.687780",
     "status": "completed"
    },
    "tags": [],
    "execution": {
     "iopub.status.busy": "2023-08-15T18:42:58.518010Z",
     "iopub.execute_input": "2023-08-15T18:42:58.518506Z",
     "iopub.status.idle": "2023-08-15T18:43:01.758254Z",
     "shell.execute_reply.started": "2023-08-15T18:42:58.518475Z",
     "shell.execute_reply": "2023-08-15T18:43:01.757038Z"
    },
    "trusted": true
   },
   "execution_count": 34,
   "outputs": []
  },
  {
   "cell_type": "code",
   "source": [
    "# Utils\n",
    "import joblib  # Pipelining, pickling (dump/load), parallel processing\n",
    "from tqdm import tqdm  # Progress bar for training process\n",
    "from tempfile import TemporaryDirectory\n",
    "\n",
    "# Classic ML tools\n",
    "from sklearn.preprocessing import LabelEncoder\n",
    "from sklearn.model_selection import StratifiedKFold  # Cross-Validation"
   ],
   "metadata": {
    "ExecuteTime": {
     "start_time": "2023-08-16T12:35:17.498435Z",
     "end_time": "2023-08-16T12:35:17.571015Z"
    },
    "id": "7QjRLiOzTFDY",
    "papermill": {
     "duration": 0.980731,
     "end_time": "2023-08-14T16:24:09.517905",
     "exception": false,
     "start_time": "2023-08-14T16:24:08.537174",
     "status": "completed"
    },
    "tags": [],
    "execution": {
     "iopub.status.busy": "2023-08-15T18:43:01.760453Z",
     "iopub.execute_input": "2023-08-15T18:43:01.761190Z",
     "iopub.status.idle": "2023-08-15T18:43:02.268222Z",
     "shell.execute_reply.started": "2023-08-15T18:43:01.761154Z",
     "shell.execute_reply": "2023-08-15T18:43:02.267244Z"
    },
    "trusted": true
   },
   "execution_count": 35,
   "outputs": []
  },
  {
   "cell_type": "code",
   "source": [
    "# !pip install torchmetrics colorama"
   ],
   "metadata": {
    "ExecuteTime": {
     "start_time": "2023-08-16T12:35:17.554866Z",
     "end_time": "2023-08-16T12:35:17.623577Z"
    },
    "id": "-iaQkd7xUuPW",
    "papermill": {
     "duration": 0.0374,
     "end_time": "2023-08-14T16:24:09.953398",
     "exception": false,
     "start_time": "2023-08-14T16:24:09.915998",
     "status": "completed"
    },
    "tags": [],
    "execution": {
     "iopub.status.busy": "2023-08-15T18:43:02.608692Z",
     "iopub.execute_input": "2023-08-15T18:43:02.609082Z",
     "iopub.status.idle": "2023-08-15T18:43:02.614203Z",
     "shell.execute_reply.started": "2023-08-15T18:43:02.609024Z",
     "shell.execute_reply": "2023-08-15T18:43:02.613355Z"
    },
    "trusted": true
   },
   "execution_count": 36,
   "outputs": []
  },
  {
   "cell_type": "code",
   "source": [
    "# ML Metrics\n",
    "from sklearn.metrics import accuracy_score\n",
    "from sklearn.metrics import classification_report\n",
    "from torchmetrics.classification import MulticlassF1Score # F1 metric for multiclass"
   ],
   "metadata": {
    "ExecuteTime": {
     "start_time": "2023-08-16T12:35:17.586665Z",
     "end_time": "2023-08-16T12:35:17.717329Z"
    },
    "id": "BuY4s3bsTFDZ",
    "papermill": {
     "duration": 10.177643,
     "end_time": "2023-08-14T16:24:20.158465",
     "exception": false,
     "start_time": "2023-08-14T16:24:09.980822",
     "status": "completed"
    },
    "tags": [],
    "execution": {
     "iopub.status.busy": "2023-08-15T18:43:02.615738Z",
     "iopub.execute_input": "2023-08-15T18:43:02.616731Z",
     "iopub.status.idle": "2023-08-15T18:43:13.643835Z",
     "shell.execute_reply.started": "2023-08-15T18:43:02.616699Z",
     "shell.execute_reply": "2023-08-15T18:43:13.642637Z"
    },
    "trusted": true
   },
   "execution_count": 37,
   "outputs": []
  },
  {
   "cell_type": "code",
   "source": [
    "# Torch Computer Vision tools for images processing\n",
    "from torchvision.io import read_image\n",
    "from torchvision.transforms.functional import to_pil_image, to_grayscale, to_tensor\n",
    "from torchvision import models  # Pretrained models"
   ],
   "metadata": {
    "ExecuteTime": {
     "start_time": "2023-08-16T12:35:17.717329Z",
     "end_time": "2023-08-16T12:35:17.762309Z"
    },
    "id": "FEKtt6X5TFDZ",
    "papermill": {
     "duration": 0.03877,
     "end_time": "2023-08-14T16:24:20.224798",
     "exception": false,
     "start_time": "2023-08-14T16:24:20.186028",
     "status": "completed"
    },
    "tags": [],
    "execution": {
     "iopub.status.busy": "2023-08-15T18:43:13.645701Z",
     "iopub.execute_input": "2023-08-15T18:43:13.646072Z",
     "iopub.status.idle": "2023-08-15T18:43:13.651635Z",
     "shell.execute_reply.started": "2023-08-15T18:43:13.646030Z",
     "shell.execute_reply": "2023-08-15T18:43:13.650474Z"
    },
    "trusted": true
   },
   "execution_count": 38,
   "outputs": []
  },
  {
   "cell_type": "code",
   "source": [
    "# Albumentations is an OS library for augmentations\n",
    "import albumentations as A\n",
    "from albumentations.pytorch import ToTensorV2\n",
    "# import torchvision.transforms as T  # We can use torch augmentations instead"
   ],
   "metadata": {
    "ExecuteTime": {
     "start_time": "2023-08-16T12:35:17.746451Z",
     "end_time": "2023-08-16T12:35:17.809191Z"
    },
    "id": "90C8yH1dTFDa",
    "papermill": {
     "duration": 0.930793,
     "end_time": "2023-08-14T16:24:21.182870",
     "exception": false,
     "start_time": "2023-08-14T16:24:20.252077",
     "status": "completed"
    },
    "tags": [],
    "execution": {
     "iopub.status.busy": "2023-08-15T18:43:13.653258Z",
     "iopub.execute_input": "2023-08-15T18:43:13.653877Z",
     "iopub.status.idle": "2023-08-15T18:43:14.589962Z",
     "shell.execute_reply.started": "2023-08-15T18:43:13.653841Z",
     "shell.execute_reply": "2023-08-15T18:43:14.588847Z"
    },
    "trusted": true
   },
   "execution_count": 39,
   "outputs": []
  },
  {
   "cell_type": "code",
   "source": [
    "# Output text colorizing\n",
    "from colorama import Back, Style\n",
    "\n",
    "def print_highlighted(text: str, bgcolor=Back.YELLOW) -> None:\n",
    "    \"\"\"\n",
    "    Function to print a text with colored background.\n",
    "    \"\"\"\n",
    "    print(bgcolor + text + Style.RESET_ALL)"
   ],
   "metadata": {
    "ExecuteTime": {
     "start_time": "2023-08-16T12:35:17.809191Z",
     "end_time": "2023-08-16T12:35:17.854621Z"
    },
    "collapsed": false,
    "id": "pF1AWOXTTFDa",
    "jupyter": {
     "outputs_hidden": false
    },
    "papermill": {
     "duration": 0.037099,
     "end_time": "2023-08-14T16:24:21.300878",
     "exception": false,
     "start_time": "2023-08-14T16:24:21.263779",
     "status": "completed"
    },
    "tags": [],
    "execution": {
     "iopub.status.busy": "2023-08-15T18:43:14.593974Z",
     "iopub.execute_input": "2023-08-15T18:43:14.594637Z",
     "iopub.status.idle": "2023-08-15T18:43:14.600978Z",
     "shell.execute_reply.started": "2023-08-15T18:43:14.594601Z",
     "shell.execute_reply": "2023-08-15T18:43:14.599604Z"
    },
    "trusted": true
   },
   "execution_count": 40,
   "outputs": []
  },
  {
   "cell_type": "code",
   "source": [
    "import wandb # MLOps platform to simplify and speed up the process of building ML models"
   ],
   "metadata": {
    "ExecuteTime": {
     "start_time": "2023-08-16T12:35:17.873273Z",
     "end_time": "2023-08-16T12:35:17.941030Z"
    },
    "collapsed": false,
    "id": "WHnMHaX_TFDb",
    "jupyter": {
     "outputs_hidden": false
    },
    "papermill": {
     "duration": 0.034479,
     "end_time": "2023-08-14T16:24:21.363117",
     "exception": false,
     "start_time": "2023-08-14T16:24:21.328638",
     "status": "completed"
    },
    "tags": [],
    "execution": {
     "iopub.status.busy": "2023-08-15T18:43:14.602765Z",
     "iopub.execute_input": "2023-08-15T18:43:14.603349Z",
     "iopub.status.idle": "2023-08-15T18:43:14.617614Z",
     "shell.execute_reply.started": "2023-08-15T18:43:14.603281Z",
     "shell.execute_reply": "2023-08-15T18:43:14.616550Z"
    },
    "trusted": true
   },
   "execution_count": 41,
   "outputs": []
  },
  {
   "cell_type": "code",
   "source": [
    "wandb.login() # We log in via pop-up,\n",
    "# wandb.login(key=api_key)  # but you can also log in manually with function args"
   ],
   "metadata": {
    "ExecuteTime": {
     "start_time": "2023-08-16T12:35:17.941030Z",
     "end_time": "2023-08-16T12:35:18.109041Z"
    },
    "collapsed": false,
    "id": "1zarBgpbTFDb",
    "jupyter": {
     "outputs_hidden": false
    },
    "papermill": {
     "duration": 0.034968,
     "end_time": "2023-08-14T16:24:21.425112",
     "exception": false,
     "start_time": "2023-08-14T16:24:21.390144",
     "status": "completed"
    },
    "tags": [],
    "execution": {
     "iopub.status.busy": "2023-08-15T18:43:14.619190Z",
     "iopub.execute_input": "2023-08-15T18:43:14.619648Z",
     "iopub.status.idle": "2023-08-15T18:43:14.632096Z",
     "shell.execute_reply.started": "2023-08-15T18:43:14.619614Z",
     "shell.execute_reply": "2023-08-15T18:43:14.631130Z"
    },
    "trusted": true
   },
   "execution_count": 42,
   "outputs": [
    {
     "name": "stderr",
     "output_type": "stream",
     "text": [
      "\u001B[34m\u001B[1mwandb\u001B[0m: \u001B[33mWARNING\u001B[0m Calling wandb.login() after wandb.init() has no effect.\n"
     ]
    },
    {
     "data": {
      "text/plain": "True"
     },
     "execution_count": 42,
     "metadata": {},
     "output_type": "execute_result"
    }
   ]
  },
  {
   "cell_type": "markdown",
   "source": [
    "## 2. Configuration"
   ],
   "metadata": {
    "id": "YuquAHEkTFDb",
    "papermill": {
     "duration": 0.026802,
     "end_time": "2023-08-14T16:24:21.479509",
     "exception": false,
     "start_time": "2023-08-14T16:24:21.452707",
     "status": "completed"
    },
    "tags": []
   }
  },
  {
   "cell_type": "code",
   "source": [
    "CONFIG = {\n",
    "    \"seed\": 2306,\n",
    "    # \"epochs\": 20,\n",
    "    \"image_dimension\": 256,  # Depends on pretrained model used\n",
    "    \"model_name\": \"SiamesePerceptron\",  # Pretrained model we will use\n",
    "    \"embedding_size\": 512,  # Embedding output size\n",
    "    \"train_batch_size\": 64,\n",
    "    \"val_batch_size\": 128,\n",
    "    \"learning_rate\": 1e-3,\n",
    "    \"min_lr\": 1e-8,\n",
    "    \"min_loss_delta\": 1e-7, # To stop training on plateau\n",
    "    \"weight_decay\": 1e-7,\n",
    "\n",
    "}"
   ],
   "metadata": {
    "ExecuteTime": {
     "start_time": "2023-08-16T12:35:18.023595Z",
     "end_time": "2023-08-16T12:35:18.109041Z"
    },
    "id": "JC-SbC9zTFDb",
    "papermill": {
     "duration": 0.036674,
     "end_time": "2023-08-14T16:24:21.543459",
     "exception": false,
     "start_time": "2023-08-14T16:24:21.506785",
     "status": "completed"
    },
    "tags": [],
    "execution": {
     "iopub.status.busy": "2023-08-15T18:43:14.633266Z",
     "iopub.execute_input": "2023-08-15T18:43:14.633854Z",
     "iopub.status.idle": "2023-08-15T18:43:14.644206Z",
     "shell.execute_reply.started": "2023-08-15T18:43:14.633820Z",
     "shell.execute_reply": "2023-08-15T18:43:14.643014Z"
    },
    "trusted": true
   },
   "execution_count": 43,
   "outputs": []
  },
  {
   "cell_type": "code",
   "execution_count": 44,
   "outputs": [
    {
     "data": {
      "text/plain": "<IPython.core.display.HTML object>",
      "text/html": "Finishing last run (ID:f3h74zjo) before initializing another..."
     },
     "metadata": {},
     "output_type": "display_data"
    },
    {
     "data": {
      "text/plain": "<IPython.core.display.HTML object>",
      "text/html": "Waiting for W&B process to finish... <strong style=\"color:green\">(success).</strong>"
     },
     "metadata": {},
     "output_type": "display_data"
    },
    {
     "data": {
      "text/plain": "<IPython.core.display.HTML object>",
      "text/html": " View run <strong style=\"color:#cdcd00\">sparkling-terrain-1</strong> at: <a href='https://wandb.ai/remainedmind/binary-classification-project/runs/f3h74zjo' target=\"_blank\">https://wandb.ai/remainedmind/binary-classification-project/runs/f3h74zjo</a><br/> View job at <a href='https://wandb.ai/remainedmind/binary-classification-project/jobs/QXJ0aWZhY3RDb2xsZWN0aW9uOjkwODIzMjMx/version_details/v0' target=\"_blank\">https://wandb.ai/remainedmind/binary-classification-project/jobs/QXJ0aWZhY3RDb2xsZWN0aW9uOjkwODIzMjMx/version_details/v0</a><br/>Synced 5 W&B file(s), 0 media file(s), 2 artifact file(s) and 0 other file(s)"
     },
     "metadata": {},
     "output_type": "display_data"
    },
    {
     "data": {
      "text/plain": "<IPython.core.display.HTML object>",
      "text/html": "Find logs at: <code>.\\wandb\\run-20230816_120352-f3h74zjo\\logs</code>"
     },
     "metadata": {},
     "output_type": "display_data"
    },
    {
     "data": {
      "text/plain": "<IPython.core.display.HTML object>",
      "text/html": "Successfully finished last run (ID:f3h74zjo). Initializing new run:<br/>"
     },
     "metadata": {},
     "output_type": "display_data"
    },
    {
     "data": {
      "text/plain": "<IPython.core.display.HTML object>",
      "text/html": "Tracking run with wandb version 0.15.8"
     },
     "metadata": {},
     "output_type": "display_data"
    },
    {
     "data": {
      "text/plain": "<IPython.core.display.HTML object>",
      "text/html": "Run data is saved locally in <code>D:\\possessor\\Documents\\ESSE\\IT\\ML\\CV\\Statanly_Internship\\Projects\\car-brand-detection\\models\\wandb\\run-20230816_123518-ddi8f5bc</code>"
     },
     "metadata": {},
     "output_type": "display_data"
    },
    {
     "data": {
      "text/plain": "<IPython.core.display.HTML object>",
      "text/html": "Syncing run <strong><a href='https://wandb.ai/remainedmind/binary-classification-project/runs/ddi8f5bc' target=\"_blank\">silver-paper-2</a></strong> to <a href='https://wandb.ai/remainedmind/binary-classification-project' target=\"_blank\">Weights & Biases</a> (<a href='https://wandb.me/run' target=\"_blank\">docs</a>)<br/>"
     },
     "metadata": {},
     "output_type": "display_data"
    },
    {
     "data": {
      "text/plain": "<IPython.core.display.HTML object>",
      "text/html": " View project at <a href='https://wandb.ai/remainedmind/binary-classification-project' target=\"_blank\">https://wandb.ai/remainedmind/binary-classification-project</a>"
     },
     "metadata": {},
     "output_type": "display_data"
    },
    {
     "data": {
      "text/plain": "<IPython.core.display.HTML object>",
      "text/html": " View run at <a href='https://wandb.ai/remainedmind/binary-classification-project/runs/ddi8f5bc' target=\"_blank\">https://wandb.ai/remainedmind/binary-classification-project/runs/ddi8f5bc</a>"
     },
     "metadata": {},
     "output_type": "display_data"
    }
   ],
   "source": [
    "wandb_run = wandb.init(project=\"binary-classification-project\", config=CONFIG)"
   ],
   "metadata": {
    "collapsed": false,
    "ExecuteTime": {
     "start_time": "2023-08-16T12:35:18.093425Z",
     "end_time": "2023-08-16T12:35:34.377643Z"
    }
   }
  },
  {
   "cell_type": "code",
   "execution_count": 45,
   "outputs": [],
   "source": [
    "config = wandb.config\n",
    "del CONFIG"
   ],
   "metadata": {
    "collapsed": false,
    "ExecuteTime": {
     "start_time": "2023-08-16T12:35:34.377643Z",
     "end_time": "2023-08-16T12:35:34.400729Z"
    }
   }
  },
  {
   "cell_type": "markdown",
   "source": [
    "Set Seed for Reproducibility"
   ],
   "metadata": {
    "id": "kotMeU-OTFDc",
    "papermill": {
     "duration": 0.027693,
     "end_time": "2023-08-14T16:24:21.791364",
     "exception": false,
     "start_time": "2023-08-14T16:24:21.763671",
     "status": "completed"
    },
    "tags": []
   }
  },
  {
   "cell_type": "code",
   "source": [
    "def set_seed(seed=42):\n",
    "    \"\"\"\n",
    "    Sets the seed of the entire notebook so results are the same every time we run.\n",
    "    This is for REPRODUCIBILITY.\n",
    "    \"\"\"\n",
    "    np.random.seed(seed)\n",
    "    torch.manual_seed(seed)\n",
    "\n",
    "    # When running on the CuDNN backend, two further options must be set\n",
    "    # torch.backends.cudnn.deterministic = True\n",
    "    # torch.backends.cudnn.benchmark = False  # When False, this option makes CUDA reproducible, BUT the performance might suffer\n",
    "\n",
    "    # Set a fixed value for the hash seed\n",
    "    os.environ['PYTHONHASHSEED'] = str(seed)\n",
    "\n",
    "set_seed(seed=config.seed)"
   ],
   "metadata": {
    "ExecuteTime": {
     "start_time": "2023-08-16T12:35:34.385080Z",
     "end_time": "2023-08-16T12:35:34.427648Z"
    },
    "id": "RDIHP75uTFDc",
    "papermill": {
     "duration": 0.045937,
     "end_time": "2023-08-14T16:24:21.869710",
     "exception": false,
     "start_time": "2023-08-14T16:24:21.823773",
     "status": "completed"
    },
    "tags": [],
    "execution": {
     "iopub.status.busy": "2023-08-15T18:43:16.625246Z",
     "iopub.execute_input": "2023-08-15T18:43:16.625627Z",
     "iopub.status.idle": "2023-08-15T18:43:16.636488Z",
     "shell.execute_reply.started": "2023-08-15T18:43:16.625597Z",
     "shell.execute_reply": "2023-08-15T18:43:16.635412Z"
    },
    "trusted": true
   },
   "execution_count": 46,
   "outputs": []
  },
  {
   "cell_type": "markdown",
   "source": [
    "# 2. Data"
   ],
   "metadata": {
    "id": "UoHh0H1FVHnT",
    "papermill": {
     "duration": 0.027822,
     "end_time": "2023-08-14T16:24:21.925361",
     "exception": false,
     "start_time": "2023-08-14T16:24:21.897539",
     "status": "completed"
    },
    "tags": []
   }
  },
  {
   "cell_type": "markdown",
   "source": [
    "## 1. Set data location"
   ],
   "metadata": {
    "id": "Qst3Y-s4VKTk",
    "papermill": {
     "duration": 0.042797,
     "end_time": "2023-08-14T16:24:22.001996",
     "exception": false,
     "start_time": "2023-08-14T16:24:21.959199",
     "status": "completed"
    },
    "tags": []
   }
  },
  {
   "cell_type": "code",
   "source": [
    "# config.repo = 'car-brands/'  # dataset name on Kaggle\n",
    "config.repo = 'data/'  # dataset name on local device\n",
    "# config.repo = 'car_brand_detection/'  # Google Collab\n",
    "\n",
    "# config.root = '/kaggle/input/' + config.repo\n",
    "# config.root = 'drive/MyDrive/' + config.repo\n",
    "config.root = '../'  + config.repo\n",
    "\n",
    "\n",
    "config.data = config.root\n",
    "\n",
    "config.train_images_path  = config.data + 'images/train'\n",
    "config.test_images_path = config.data + 'images/test'\n",
    "\n",
    "config.train_labels  = config.data + 'train_labels.csv'\n",
    "config.test_labels = config.data + 'test_labels.csv'\n",
    "\n",
    "config.embedding_model_path = 'saved_instances/ArcFace_mobilenet_v2.pth'\n",
    "config.save_model_to = f'saved_instances/{config.model_name}.pth'\n",
    "# config.model_path = '/kaggle/input/efficient-model/ArcFace_mobilenet_v2.pth'\n",
    "# config.model_path = '/kaggle/input/efficient-model/fine-tuned_efficientnet_b0'"
   ],
   "metadata": {
    "ExecuteTime": {
     "start_time": "2023-08-16T12:35:34.430657Z",
     "end_time": "2023-08-16T12:35:34.500452Z"
    },
    "id": "QKDBLmMrTFDd",
    "papermill": {
     "duration": 0.036856,
     "end_time": "2023-08-14T16:24:22.084008",
     "exception": false,
     "start_time": "2023-08-14T16:24:22.047152",
     "status": "completed"
    },
    "tags": [],
    "execution": {
     "iopub.status.busy": "2023-08-15T18:43:21.441330Z",
     "iopub.execute_input": "2023-08-15T18:43:21.441701Z",
     "iopub.status.idle": "2023-08-15T18:43:21.449505Z",
     "shell.execute_reply.started": "2023-08-15T18:43:21.441670Z",
     "shell.execute_reply": "2023-08-15T18:43:21.447681Z"
    },
    "trusted": true
   },
   "execution_count": 47,
   "outputs": []
  },
  {
   "cell_type": "markdown",
   "source": [
    "## 2. Custom Data representation"
   ],
   "metadata": {
    "id": "u0McLUXoTFDd",
    "papermill": {
     "duration": 0.026926,
     "end_time": "2023-08-14T16:24:22.138322",
     "exception": false,
     "start_time": "2023-08-14T16:24:22.111396",
     "status": "completed"
    },
    "tags": []
   }
  },
  {
   "cell_type": "code",
   "source": [
    "def get_file_path_by_id(file_id, dir=config.root):\n",
    "    return os.path.join(dir, str(file_id) + \".jpg\")"
   ],
   "metadata": {
    "ExecuteTime": {
     "start_time": "2023-08-16T12:35:34.443893Z",
     "end_time": "2023-08-16T12:35:34.500452Z"
    },
    "papermill": {
     "duration": 0.035798,
     "end_time": "2023-08-14T16:24:22.201575",
     "exception": false,
     "start_time": "2023-08-14T16:24:22.165777",
     "status": "completed"
    },
    "tags": [],
    "execution": {
     "iopub.status.busy": "2023-08-15T18:43:21.853525Z",
     "iopub.execute_input": "2023-08-15T18:43:21.853878Z",
     "iopub.status.idle": "2023-08-15T18:43:21.859416Z",
     "shell.execute_reply.started": "2023-08-15T18:43:21.853848Z",
     "shell.execute_reply": "2023-08-15T18:43:21.858356Z"
    },
    "trusted": true
   },
   "execution_count": 48,
   "outputs": []
  },
  {
   "cell_type": "code",
   "source": [
    "def apply_label_encoding(data: t.Union[pd.DataFrame, np.array],\n",
    "                         encoder_name: os.path,\n",
    "                         column='label', action='encode',\n",
    "                         ):\n",
    "    \"\"\"\n",
    "    One Hot encoding. We apply encoding by replacing the label column in dataframe.\n",
    "    As for decoding data back, we work with vector-array (as it's most likely to\n",
    "    be a prediction result)\n",
    "    \"\"\"\n",
    "    encoder = LabelEncoder()\n",
    "    if action == 'encode':\n",
    "        # We transform dataframe here. Nothing returns\n",
    "        data[column] = encoder.fit_transform(data[column])\n",
    "        with open(f\"{encoder_name}_LEncoder.pkl\", \"wb\") as fp:\n",
    "            joblib.dump(encoder, fp)\n",
    "    elif action == 'decode':\n",
    "        # We pass vector here. Result is a vector\n",
    "        with open(f\"{encoder_name}_LEncoder.pkl\", \"rb\") as fp:\n",
    "            encoder: LabelEncoder = joblib.load(fp)\n",
    "        return encoder.inverse_transform(data)"
   ],
   "metadata": {
    "ExecuteTime": {
     "start_time": "2023-08-16T12:35:34.453557Z",
     "end_time": "2023-08-16T12:35:34.500452Z"
    },
    "collapsed": false,
    "id": "_dh7nUr3TFDd",
    "jupyter": {
     "outputs_hidden": false
    },
    "papermill": {
     "duration": 0.039278,
     "end_time": "2023-08-14T16:24:22.268745",
     "exception": false,
     "start_time": "2023-08-14T16:24:22.229467",
     "status": "completed"
    },
    "tags": [],
    "execution": {
     "iopub.status.busy": "2023-08-15T18:43:21.992332Z",
     "iopub.execute_input": "2023-08-15T18:43:21.992690Z",
     "iopub.status.idle": "2023-08-15T18:43:22.001078Z",
     "shell.execute_reply.started": "2023-08-15T18:43:21.992659Z",
     "shell.execute_reply": "2023-08-15T18:43:21.999963Z"
    },
    "trusted": true
   },
   "execution_count": 49,
   "outputs": []
  },
  {
   "cell_type": "code",
   "source": [
    "class CustomImagesDataset(Dataset):\n",
    "    \"\"\"\n",
    "    \"\"\"\n",
    "    def __init__(self, data: pd.DataFrame=None, images_path: os.path=None, labels_path:os.path=None, transform_images: A.Compose=None, encoder_name: str=None):\n",
    "        \"\"\"\n",
    "\n",
    "        \"\"\"\n",
    "        super().__init__()\n",
    "        assert (data is not None) or (labels_path is not None and images_path is not None)\n",
    "\n",
    "        if data is None:\n",
    "            data = pd.read_csv(labels_path)\n",
    "            data['file_path'] = data['id'].apply(get_file_path_by_id, dir=images_path)\n",
    "\n",
    "        self.images_paths = data['file_path'].values\n",
    "        self.encoder_name = encoder_name if encoder_name else self.__hash__()  # We use hash as a unique name\n",
    "        print_highlighted(f\"Label Encoder saved with id `{self.encoder_name}`\")\n",
    "        apply_label_encoding(data=data, action='encode', encoder_name=self.encoder_name)\n",
    "        self.labels = data['label'].values\n",
    "#         self.indexes = data['id'].values\n",
    "        self.transform_images = transform_images\n",
    "        self.__set_dataset_len()\n",
    "\n",
    "    def __set_dataset_len(self):\n",
    "        self.length = self.labels.shape[0] # Number of rows\n",
    "\n",
    "    def __len__(self):\n",
    "        \"\"\"\n",
    "        We calculate the len in another function, so that we are able to slice.\n",
    "        \"\"\"\n",
    "        return self.length\n",
    "\n",
    "    def decode_labels(self, labels_vector):\n",
    "        return apply_label_encoding(data=labels_vector, action='decode', encoder_name=self.encoder_name)\n",
    "\n",
    "    def __getitem__(self, index) -> tuple[torch.Tensor, int]:\n",
    "        \"\"\" Function to return item by indexing the dataset \"\"\"\n",
    "\n",
    "        if not isinstance(index, int) and isinstance(index, slice):\n",
    "            # It's not an index, but slice.\n",
    "            # We will return the part of data by making a copy of the dataset\n",
    "            index: slice\n",
    "            self = deepcopy(self)\n",
    "            self.length = index.stop  # Cut the length of dataset.\n",
    "            self.labels = self.labels[:self.length]\n",
    "            return self\n",
    "        assert self.__len__() >= index\n",
    "\n",
    "        image = to_pil_image(read_image(self.images_paths[index]))\n",
    "        if self.transform_images:\n",
    "            # Albumentations requires us to convert image to Numpy Array\n",
    "            image = self.transform_images(image=np.array(image))['image']\n",
    "\n",
    "        label = self.labels[index]\n",
    "        return image, label\n",
    "\n",
    "\n",
    "    @property\n",
    "    def classes_(self):\n",
    "        return self.decode_labels(np.unique(self.labels))\n"
   ],
   "metadata": {
    "ExecuteTime": {
     "start_time": "2023-08-16T12:35:34.486659Z",
     "end_time": "2023-08-16T12:35:34.500452Z"
    },
    "collapsed": false,
    "id": "piJ9PgTuTFDe",
    "jupyter": {
     "outputs_hidden": false
    },
    "papermill": {
     "duration": 0.044801,
     "end_time": "2023-08-14T16:24:22.341189",
     "exception": false,
     "start_time": "2023-08-14T16:24:22.296388",
     "status": "completed"
    },
    "tags": [],
    "execution": {
     "iopub.status.busy": "2023-08-15T18:43:22.126128Z",
     "iopub.execute_input": "2023-08-15T18:43:22.127212Z",
     "iopub.status.idle": "2023-08-15T18:43:22.141187Z",
     "shell.execute_reply.started": "2023-08-15T18:43:22.127166Z",
     "shell.execute_reply": "2023-08-15T18:43:22.140115Z"
    },
    "trusted": true
   },
   "execution_count": 50,
   "outputs": []
  },
  {
   "cell_type": "markdown",
   "source": [
    "## 3. Data Normalization"
   ],
   "metadata": {
    "id": "lB9BnVDPTFDe",
    "papermill": {
     "duration": 0.02757,
     "end_time": "2023-08-14T16:24:22.396505",
     "exception": false,
     "start_time": "2023-08-14T16:24:22.368935",
     "status": "completed"
    },
    "tags": []
   }
  },
  {
   "cell_type": "markdown",
   "source": [
    "We use Albumantations lib"
   ],
   "metadata": {
    "id": "i-F36u_bTFDe",
    "papermill": {
     "duration": 0.026968,
     "end_time": "2023-08-14T16:24:22.450897",
     "exception": false,
     "start_time": "2023-08-14T16:24:22.423929",
     "status": "completed"
    },
    "tags": []
   }
  },
  {
   "cell_type": "code",
   "source": [
    "data_transforms = {\n",
    "    \"train\": A.Compose([\n",
    "#         A.ToRGB(),\n",
    "        A.Resize(config.image_dimension, config.image_dimension),\n",
    "        A.ShiftScaleRotate(\n",
    "            shift_limit=0.1,\n",
    "            scale_limit=0.15,\n",
    "            rotate_limit=30,\n",
    "            p=0.5),\n",
    "        A.HueSaturationValue(\n",
    "                hue_shift_limit=30,\n",
    "                sat_shift_limit=30,\n",
    "                val_shift_limit=30,\n",
    "                p=0.5\n",
    "            ),\n",
    "        A.RandomBrightnessContrast(\n",
    "                brightness_limit=(-0.01,0.01),\n",
    "                contrast_limit=(-0.01, 0.01),\n",
    "                p=0.5\n",
    "            ),\n",
    "        A.Normalize(\n",
    "                mean=[0.485, 0.456, 0.406],\n",
    "                std=[0.229, 0.224, 0.225],\n",
    "                max_pixel_value=255.0,\n",
    "                p=1.0\n",
    "            ),\n",
    "        ToTensorV2() # Advanced analogue of T.ToTensor\n",
    "    ], p=1.),\n",
    "\n",
    "    \"val\": A.Compose([\n",
    "#         A.ToRGB(),\n",
    "        A.Resize(config.image_dimension, config.image_dimension),\n",
    "        A.Normalize(\n",
    "                mean=[0.485, 0.456, 0.406],\n",
    "                std=[0.229, 0.224, 0.225],\n",
    "                max_pixel_value=255.0,\n",
    "                p=1.0\n",
    "            ),\n",
    "        ToTensorV2()], p=1.)\n",
    "}"
   ],
   "metadata": {
    "ExecuteTime": {
     "start_time": "2023-08-16T12:35:34.500452Z",
     "end_time": "2023-08-16T12:35:34.593790Z"
    },
    "collapsed": false,
    "id": "tROO0x2GTFDe",
    "jupyter": {
     "outputs_hidden": false
    },
    "papermill": {
     "duration": 0.041327,
     "end_time": "2023-08-14T16:24:22.519534",
     "exception": false,
     "start_time": "2023-08-14T16:24:22.478207",
     "status": "completed"
    },
    "tags": [],
    "execution": {
     "iopub.status.busy": "2023-08-15T18:43:22.906683Z",
     "iopub.execute_input": "2023-08-15T18:43:22.907061Z",
     "iopub.status.idle": "2023-08-15T18:43:22.919043Z",
     "shell.execute_reply.started": "2023-08-15T18:43:22.907030Z",
     "shell.execute_reply": "2023-08-15T18:43:22.917895Z"
    },
    "trusted": true
   },
   "execution_count": 51,
   "outputs": []
  },
  {
   "cell_type": "markdown",
   "source": [
    "Load the images that we will pass into CNN model to get embeddings"
   ],
   "metadata": {
    "collapsed": false
   }
  },
  {
   "cell_type": "code",
   "source": [
    "images_dataset = CustomImagesDataset(labels_path=config.train_labels, images_path=config.train_images_path, transform_images=data_transforms['val'], encoder_name='dataset')"
   ],
   "metadata": {
    "ExecuteTime": {
     "start_time": "2023-08-16T12:35:34.531287Z",
     "end_time": "2023-08-16T12:35:34.789990Z"
    },
    "collapsed": false,
    "id": "DmijxMsuTFDf",
    "jupyter": {
     "outputs_hidden": false
    },
    "outputId": "0f9bae18-cdd1-4716-8bc0-8d83c4eb2a3f",
    "papermill": {
     "duration": 0.131857,
     "end_time": "2023-08-14T16:24:22.733140",
     "exception": false,
     "start_time": "2023-08-14T16:24:22.601283",
     "status": "completed"
    },
    "tags": [],
    "execution": {
     "iopub.status.busy": "2023-08-15T18:43:24.245722Z",
     "iopub.execute_input": "2023-08-15T18:43:24.246111Z",
     "iopub.status.idle": "2023-08-15T18:43:24.357364Z",
     "shell.execute_reply.started": "2023-08-15T18:43:24.246078Z",
     "shell.execute_reply": "2023-08-15T18:43:24.356367Z"
    },
    "trusted": true
   },
   "execution_count": 52,
   "outputs": [
    {
     "name": "stdout",
     "output_type": "stream",
     "text": [
      "\u001B[43mLabel Encoder saved with id `dataset`\u001B[0m\n"
     ]
    }
   ]
  },
  {
   "cell_type": "code",
   "source": [
    "to_pil_image(images_dataset[60][0])"
   ],
   "metadata": {
    "ExecuteTime": {
     "start_time": "2023-08-16T12:35:34.789990Z",
     "end_time": "2023-08-16T12:35:35.005855Z"
    },
    "id": "_bZMqZjoTFDf",
    "outputId": "a43afe2b-a8cb-4aee-9500-d4637cd905ef",
    "papermill": {
     "duration": 0.141629,
     "end_time": "2023-08-14T16:24:22.989267",
     "exception": false,
     "start_time": "2023-08-14T16:24:22.847638",
     "status": "completed"
    },
    "tags": [],
    "execution": {
     "iopub.status.busy": "2023-08-15T18:43:28.785078Z",
     "iopub.execute_input": "2023-08-15T18:43:28.786151Z",
     "iopub.status.idle": "2023-08-15T18:43:28.904823Z",
     "shell.execute_reply.started": "2023-08-15T18:43:28.786110Z",
     "shell.execute_reply": "2023-08-15T18:43:28.903866Z"
    },
    "trusted": true
   },
   "execution_count": 53,
   "outputs": [
    {
     "data": {
      "text/plain": "<PIL.Image.Image image mode=RGB size=256x256>",
      "image/png": "[encoded data removed]",
      "image/jpeg": "[encoded data removed]"
     },
     "execution_count": 53,
     "metadata": {},
     "output_type": "execute_result"
    }
   ]
  },
  {
   "cell_type": "code",
   "source": [
    "config.num_of_classes = len(images_dataset.classes_)\n",
    "config.num_of_classes"
   ],
   "metadata": {
    "ExecuteTime": {
     "start_time": "2023-08-16T12:35:35.005855Z",
     "end_time": "2023-08-16T12:35:35.035041Z"
    },
    "collapsed": false,
    "id": "UUS_aiISTFDf",
    "jupyter": {
     "outputs_hidden": false
    },
    "outputId": "832f5ec9-3895-4f71-bc96-6e626c74ab34",
    "papermill": {
     "duration": 0.042393,
     "end_time": "2023-08-14T16:24:23.061573",
     "exception": false,
     "start_time": "2023-08-14T16:24:23.019180",
     "status": "completed"
    },
    "tags": [],
    "execution": {
     "iopub.status.busy": "2023-08-15T18:43:31.543427Z",
     "iopub.execute_input": "2023-08-15T18:43:31.544143Z",
     "iopub.status.idle": "2023-08-15T18:43:31.556858Z",
     "shell.execute_reply.started": "2023-08-15T18:43:31.544086Z",
     "shell.execute_reply": "2023-08-15T18:43:31.555595Z"
    },
    "trusted": true
   },
   "execution_count": 54,
   "outputs": [
    {
     "data": {
      "text/plain": "760"
     },
     "execution_count": 54,
     "metadata": {},
     "output_type": "execute_result"
    }
   ]
  },
  {
   "cell_type": "code",
   "source": [
    "print(*images_dataset.classes_[:20], sep=';  ', end='...')"
   ],
   "metadata": {
    "ExecuteTime": {
     "start_time": "2023-08-16T12:35:35.035041Z",
     "end_time": "2023-08-16T12:35:35.101136Z"
    },
    "id": "lYMINDi1TFDj",
    "outputId": "bdd6cc65-de03-495d-9883-53906ce9a165",
    "papermill": {
     "duration": 0.03962,
     "end_time": "2023-08-14T16:24:23.258792",
     "exception": false,
     "start_time": "2023-08-14T16:24:23.219172",
     "status": "completed"
    },
    "tags": [],
    "execution": {
     "iopub.status.busy": "2023-08-15T18:43:34.738197Z",
     "iopub.execute_input": "2023-08-15T18:43:34.738875Z",
     "iopub.status.idle": "2023-08-15T18:43:34.748700Z",
     "shell.execute_reply.started": "2023-08-15T18:43:34.738838Z",
     "shell.execute_reply": "2023-08-15T18:43:34.746651Z"
    },
    "trusted": true
   },
   "execution_count": 55,
   "outputs": [
    {
     "name": "stdout",
     "output_type": "stream",
     "text": [
      "Acura_MDX;  Alfa Romeo_Giulietta;  Audi_100;  Audi_80;  Audi_A1;  Audi_A3;  Audi_A4;  Audi_A5;  Audi_A6;  Audi_A7;  Audi_A8;  Audi_Q3;  Audi_Q5;  Audi_Q7;  Audi_R8;  Audi_RS6;  Audi_S5;  Audi_S8;  Audi_TT;  BAW_FENIX..."
     ]
    }
   ]
  },
  {
   "cell_type": "markdown",
   "source": [
    "# 3. Models"
   ],
   "metadata": {
    "id": "1nrMvID-TFDk",
    "papermill": {
     "duration": 0.029139,
     "end_time": "2023-08-14T16:24:23.317070",
     "exception": false,
     "start_time": "2023-08-14T16:24:23.287931",
     "status": "completed"
    },
    "tags": []
   }
  },
  {
   "cell_type": "markdown",
   "source": [
    "## 1. Pretrained SOTA model to get the embeddings"
   ],
   "metadata": {
    "id": "CC_wCexMTFDk",
    "papermill": {
     "duration": 0.028535,
     "end_time": "2023-08-14T16:24:23.432671",
     "exception": false,
     "start_time": "2023-08-14T16:24:23.404136",
     "status": "completed"
    },
    "tags": []
   }
  },
  {
   "cell_type": "code",
   "source": [
    "def get_input_feature_size(classifier: nn.Sequential) -> int:\n",
    "    for module in classifier.modules():\n",
    "        if isinstance(module, nn.Linear):\n",
    "            return module.in_features"
   ],
   "metadata": {
    "ExecuteTime": {
     "start_time": "2023-08-16T12:35:35.047908Z",
     "end_time": "2023-08-16T12:35:35.101136Z"
    },
    "collapsed": false,
    "jupyter": {
     "outputs_hidden": false
    },
    "papermill": {
     "duration": 0.037894,
     "end_time": "2023-08-14T16:24:23.499805",
     "exception": false,
     "start_time": "2023-08-14T16:24:23.461911",
     "status": "completed"
    },
    "tags": [],
    "execution": {
     "iopub.status.busy": "2023-08-15T18:43:52.549902Z",
     "iopub.execute_input": "2023-08-15T18:43:52.550270Z",
     "iopub.status.idle": "2023-08-15T18:43:52.555985Z",
     "shell.execute_reply.started": "2023-08-15T18:43:52.550238Z",
     "shell.execute_reply": "2023-08-15T18:43:52.554668Z"
    },
    "trusted": true
   },
   "execution_count": 56,
   "outputs": []
  },
  {
   "cell_type": "markdown",
   "source": [
    "Let's use a universal function that we made before."
   ],
   "metadata": {
    "collapsed": false
   }
  },
  {
   "cell_type": "code",
   "source": [
    "def get_model(model_name='resnet18', from_path=None, pretrained=False, freeze_layers=0.0, get_embeddings=False) -> torch.nn.Module:\n",
    "    if from_path:\n",
    "        try:\n",
    "            model = torch.load(from_path, map_location=torch.device(\"cuda\" if torch.cuda.is_available() else \"cpu\"))\n",
    "            return model\n",
    "        except FileNotFoundError:\n",
    "            raise\n",
    "    elif model_name:\n",
    "        model = getattr(models, model_name) # We use builtin function\n",
    "        model = model(\n",
    "        weights=('DEFAULT' if pretrained else None)\n",
    "        )\n",
    "\n",
    "    if bool(freeze_layers):\n",
    "        params = list(model.parameters())\n",
    "        for param in params[:int(len(params)*freeze_layers)]:\n",
    "            # Freeze some layers\n",
    "            param.requires_grad = False\n",
    "\n",
    "    if get_embeddings:\n",
    "        # That means remove classifier (last layer):\n",
    "        model.classifier = nn.Sequential(\n",
    "            # nn.Dropout(p=0.3, inplace=True),\n",
    "            nn.Linear(in_features=get_input_feature_size(model.classifier),\n",
    "                      out_features=config.embedding_size, bias=True\n",
    "                      ),\n",
    "\n",
    "        )\n",
    "    return model"
   ],
   "metadata": {
    "ExecuteTime": {
     "start_time": "2023-08-16T12:35:35.055827Z",
     "end_time": "2023-08-16T12:35:35.101136Z"
    },
    "id": "-NUikulCTFDk",
    "papermill": {
     "duration": 0.040624,
     "end_time": "2023-08-14T16:24:23.570110",
     "exception": false,
     "start_time": "2023-08-14T16:24:23.529486",
     "status": "completed"
    },
    "tags": [],
    "execution": {
     "iopub.status.busy": "2023-08-15T18:44:11.160206Z",
     "iopub.execute_input": "2023-08-15T18:44:11.161378Z",
     "iopub.status.idle": "2023-08-15T18:44:11.171100Z",
     "shell.execute_reply.started": "2023-08-15T18:44:11.161329Z",
     "shell.execute_reply": "2023-08-15T18:44:11.169875Z"
    },
    "trusted": true
   },
   "execution_count": 57,
   "outputs": []
  },
  {
   "cell_type": "code",
   "source": [
    "embedding_model = get_model(\n",
    "    from_path=config.embedding_model_path,\n",
    "    # pretrained=True,\n",
    "    freeze_layers=0.0,\n",
    "    # get_embeddings=True\n",
    ")"
   ],
   "metadata": {
    "ExecuteTime": {
     "start_time": "2023-08-16T12:35:35.069869Z",
     "end_time": "2023-08-16T12:35:35.279955Z"
    },
    "papermill": {
     "duration": 5.600845,
     "end_time": "2023-08-14T16:24:29.382961",
     "exception": false,
     "start_time": "2023-08-14T16:24:23.782116",
     "status": "completed"
    },
    "tags": [],
    "execution": {
     "iopub.status.busy": "2023-08-15T18:44:12.128116Z",
     "iopub.execute_input": "2023-08-15T18:44:12.128482Z",
     "iopub.status.idle": "2023-08-15T18:44:18.056352Z",
     "shell.execute_reply.started": "2023-08-15T18:44:12.128452Z",
     "shell.execute_reply": "2023-08-15T18:44:18.055272Z"
    },
    "trusted": true
   },
   "execution_count": 58,
   "outputs": []
  },
  {
   "cell_type": "markdown",
   "source": [
    "It is a model that doesn't have classifier - only one linear layer that transforms embeddings to desired size"
   ],
   "metadata": {
    "papermill": {
     "duration": 0.028908,
     "end_time": "2023-08-14T16:24:29.441920",
     "exception": false,
     "start_time": "2023-08-14T16:24:29.413012",
     "status": "completed"
    },
    "tags": []
   }
  },
  {
   "cell_type": "code",
   "source": [
    "embedding_model.classifier"
   ],
   "metadata": {
    "ExecuteTime": {
     "start_time": "2023-08-16T12:35:35.205032Z",
     "end_time": "2023-08-16T12:35:35.296272Z"
    },
    "id": "GsWQ0vJoTFDm",
    "outputId": "fe3553cc-d992-44f6-f031-4c1c49705080",
    "papermill": {
     "duration": 0.039105,
     "end_time": "2023-08-14T16:24:29.510375",
     "exception": false,
     "start_time": "2023-08-14T16:24:29.471270",
     "status": "completed"
    },
    "tags": [],
    "execution": {
     "iopub.status.busy": "2023-08-15T18:44:25.492259Z",
     "iopub.execute_input": "2023-08-15T18:44:25.492691Z",
     "iopub.status.idle": "2023-08-15T18:44:25.499562Z",
     "shell.execute_reply.started": "2023-08-15T18:44:25.492659Z",
     "shell.execute_reply": "2023-08-15T18:44:25.498455Z"
    },
    "trusted": true
   },
   "execution_count": 59,
   "outputs": [
    {
     "data": {
      "text/plain": "Sequential(\n  (0): Linear(in_features=960, out_features=512, bias=True)\n)"
     },
     "execution_count": 59,
     "metadata": {},
     "output_type": "execute_result"
    }
   ]
  },
  {
   "cell_type": "markdown",
   "source": [
    "## 2. Feedforward model to process embeddings pairs"
   ],
   "metadata": {}
  },
  {
   "cell_type": "code",
   "source": [
    "class SiameseNetwork(nn.Module):\n",
    "    def __init__(self, embedding_size):\n",
    "        super().__init__()\n",
    "\n",
    "        self.fc = nn.Sequential(\n",
    "            nn.Linear(in_features=embedding_size, out_features=1024),\n",
    "            nn.ReLU(),\n",
    "            nn.Linear(in_features=1024, out_features=1024),\n",
    "            nn.ReLU(),\n",
    "            nn.Dropout(p=0.2),\n",
    "            nn.Linear(in_features=1024, out_features=1),\n",
    "            nn.Sigmoid()\n",
    "        )\n",
    "\n",
    "    def forward(self, x1, x2):\n",
    "        square = (x1 - x2)**2        \n",
    "        # Pass the inputs through fully connected layers\n",
    "        output = self.fc(square)\n",
    "        return output"
   ],
   "metadata": {
    "collapsed": false,
    "ExecuteTime": {
     "start_time": "2023-08-16T12:35:35.215937Z",
     "end_time": "2023-08-16T12:35:35.296272Z"
    },
    "jupyter": {
     "outputs_hidden": false
    },
    "execution": {
     "iopub.status.busy": "2023-08-15T18:54:38.873431Z",
     "iopub.execute_input": "2023-08-15T18:54:38.873818Z",
     "iopub.status.idle": "2023-08-15T18:54:38.882674Z",
     "shell.execute_reply.started": "2023-08-15T18:54:38.873788Z",
     "shell.execute_reply": "2023-08-15T18:54:38.881569Z"
    },
    "trusted": true
   },
   "execution_count": 60,
   "outputs": []
  },
  {
   "cell_type": "code",
   "source": [
    "perceptron_model = SiameseNetwork(config.embedding_size)\n",
    "perceptron_model"
   ],
   "metadata": {
    "collapsed": false,
    "ExecuteTime": {
     "start_time": "2023-08-16T12:35:35.226322Z",
     "end_time": "2023-08-16T12:35:35.296272Z"
    },
    "jupyter": {
     "outputs_hidden": false
    },
    "execution": {
     "iopub.status.busy": "2023-08-15T18:54:40.237167Z",
     "iopub.execute_input": "2023-08-15T18:54:40.237913Z",
     "iopub.status.idle": "2023-08-15T18:54:40.253748Z",
     "shell.execute_reply.started": "2023-08-15T18:54:40.237874Z",
     "shell.execute_reply": "2023-08-15T18:54:40.252363Z"
    },
    "trusted": true
   },
   "execution_count": 61,
   "outputs": [
    {
     "data": {
      "text/plain": "SiameseNetwork(\n  (fc): Sequential(\n    (0): Linear(in_features=512, out_features=1024, bias=True)\n    (1): ReLU()\n    (2): Linear(in_features=1024, out_features=1024, bias=True)\n    (3): ReLU()\n    (4): Linear(in_features=1024, out_features=1, bias=True)\n    (5): Sigmoid()\n  )\n)"
     },
     "execution_count": 61,
     "metadata": {},
     "output_type": "execute_result"
    }
   ]
  },
  {
   "cell_type": "markdown",
   "source": [
    "# 4. Various"
   ],
   "metadata": {
    "id": "t6rYKZFqTFDn",
    "papermill": {
     "duration": 0.030093,
     "end_time": "2023-08-14T16:24:29.570642",
     "exception": false,
     "start_time": "2023-08-14T16:24:29.540549",
     "status": "completed"
    },
    "tags": []
   }
  },
  {
   "cell_type": "markdown",
   "source": [
    "## 1. Quality metrics"
   ],
   "metadata": {
    "id": "UhnkDGSqTFDn",
    "papermill": {
     "duration": 0.029828,
     "end_time": "2023-08-14T16:24:29.630054",
     "exception": false,
     "start_time": "2023-08-14T16:24:29.600226",
     "status": "completed"
    },
    "tags": []
   }
  },
  {
   "cell_type": "markdown",
   "source": [
    "We will use accuracy and F1 score for out classification task"
   ],
   "metadata": {
    "id": "VpjMrvnfWgHC",
    "papermill": {
     "duration": 0.029419,
     "end_time": "2023-08-14T16:24:29.689395",
     "exception": false,
     "start_time": "2023-08-14T16:24:29.659976",
     "status": "completed"
    },
    "tags": []
   }
  },
  {
   "cell_type": "code",
   "source": [
    "f1_score = MulticlassF1Score(num_classes=config.num_of_classes,)"
   ],
   "metadata": {
    "ExecuteTime": {
     "start_time": "2023-08-16T12:35:35.264314Z",
     "end_time": "2023-08-16T12:35:35.296272Z"
    },
    "id": "c_2AwnsfTFDn",
    "papermill": {
     "duration": 0.043366,
     "end_time": "2023-08-14T16:24:29.762611",
     "exception": false,
     "start_time": "2023-08-14T16:24:29.719245",
     "status": "completed"
    },
    "tags": [],
    "execution": {
     "iopub.status.busy": "2023-08-15T18:44:36.230608Z",
     "iopub.execute_input": "2023-08-15T18:44:36.230994Z",
     "iopub.status.idle": "2023-08-15T18:44:36.244662Z",
     "shell.execute_reply.started": "2023-08-15T18:44:36.230962Z",
     "shell.execute_reply": "2023-08-15T18:44:36.243445Z"
    },
    "trusted": true
   },
   "execution_count": 62,
   "outputs": []
  },
  {
   "cell_type": "markdown",
   "source": [
    "## 2. Device"
   ],
   "metadata": {
    "id": "WqgSgG2_TFDn",
    "papermill": {
     "duration": 0.029561,
     "end_time": "2023-08-14T16:24:29.821752",
     "exception": false,
     "start_time": "2023-08-14T16:24:29.792191",
     "status": "completed"
    },
    "tags": []
   }
  },
  {
   "cell_type": "code",
   "source": [
    "device = torch.device(\"cuda\" if torch.cuda.is_available() else \"cpu\")\n",
    "embedding_model = embedding_model.to(device)\n",
    "perceptron_model = perceptron_model.to(device)\n",
    "\n",
    "f1_score = f1_score.to(device)\n",
    "torch.cuda.empty_cache()"
   ],
   "metadata": {
    "ExecuteTime": {
     "start_time": "2023-08-16T12:35:35.296272Z",
     "end_time": "2023-08-16T12:35:35.415334Z"
    },
    "id": "F7zEDfFvTFDo",
    "papermill": {
     "duration": 0.04363,
     "end_time": "2023-08-14T16:24:29.894974",
     "exception": false,
     "start_time": "2023-08-14T16:24:29.851344",
     "status": "completed"
    },
    "tags": [],
    "execution": {
     "iopub.status.busy": "2023-08-15T18:54:44.901512Z",
     "iopub.execute_input": "2023-08-15T18:54:44.901909Z",
     "iopub.status.idle": "2023-08-15T18:54:44.917448Z",
     "shell.execute_reply.started": "2023-08-15T18:54:44.901876Z",
     "shell.execute_reply": "2023-08-15T18:54:44.915732Z"
    },
    "trusted": true
   },
   "execution_count": 63,
   "outputs": []
  },
  {
   "cell_type": "markdown",
   "source": [
    "## 3. Data processing format"
   ],
   "metadata": {
    "id": "E7mbVBoGTFDo",
    "papermill": {
     "duration": 0.029342,
     "end_time": "2023-08-14T16:24:29.953491",
     "exception": false,
     "start_time": "2023-08-14T16:24:29.924149",
     "status": "completed"
    },
    "tags": []
   }
  },
  {
   "cell_type": "code",
   "source": [
    "# config.train_batch_size, config.val_batch_size = 160, 350\n",
    "config.train_batch_size, config.val_batch_size = 3,3\n"
   ],
   "metadata": {
    "ExecuteTime": {
     "start_time": "2023-08-16T12:35:35.316526Z",
     "end_time": "2023-08-16T12:35:35.446589Z"
    },
    "id": "7xJPcyHwTFDo",
    "papermill": {
     "duration": 0.042453,
     "end_time": "2023-08-14T16:24:30.025418",
     "exception": false,
     "start_time": "2023-08-14T16:24:29.982965",
     "status": "completed"
    },
    "tags": [],
    "execution": {
     "iopub.status.busy": "2023-08-15T18:44:41.424432Z",
     "iopub.execute_input": "2023-08-15T18:44:41.424785Z",
     "iopub.status.idle": "2023-08-15T18:44:41.429950Z",
     "shell.execute_reply.started": "2023-08-15T18:44:41.424757Z",
     "shell.execute_reply": "2023-08-15T18:44:41.428710Z"
    },
    "trusted": true
   },
   "execution_count": 64,
   "outputs": []
  },
  {
   "cell_type": "code",
   "source": [
    "images_dataloader = DataLoader(images_dataset[:300],\n",
    "                              batch_size=config.train_batch_size,\n",
    "                              shuffle=True,\n",
    "                              num_workers=os.cpu_count() % 4,\n",
    ")"
   ],
   "metadata": {
    "ExecuteTime": {
     "start_time": "2023-08-16T12:35:35.325080Z",
     "end_time": "2023-08-16T12:35:35.462217Z"
    },
    "id": "IqrseI2gTFDo",
    "papermill": {
     "duration": 0.03949,
     "end_time": "2023-08-14T16:24:30.094630",
     "exception": false,
     "start_time": "2023-08-14T16:24:30.055140",
     "status": "completed"
    },
    "tags": [],
    "execution": {
     "iopub.status.busy": "2023-08-15T18:44:42.992869Z",
     "iopub.execute_input": "2023-08-15T18:44:42.993226Z",
     "iopub.status.idle": "2023-08-15T18:44:42.999238Z",
     "shell.execute_reply.started": "2023-08-15T18:44:42.993198Z",
     "shell.execute_reply": "2023-08-15T18:44:42.997887Z"
    },
    "trusted": true
   },
   "execution_count": 65,
   "outputs": []
  },
  {
   "cell_type": "markdown",
   "source": [
    "# 5. Embeddings processing"
   ],
   "metadata": {
    "papermill": {
     "duration": 0.029126,
     "end_time": "2023-08-14T16:24:30.222159",
     "exception": false,
     "start_time": "2023-08-14T16:24:30.193033",
     "status": "completed"
    },
    "tags": []
   }
  },
  {
   "cell_type": "code",
   "source": [
    "@torch.inference_mode()\n",
    "def get_embeddings(model, dataloader, device):\n",
    "    model.eval()\n",
    "    all_embeddings = []\n",
    "    all_labels = []\n",
    "\n",
    "    with tqdm(dataloader, desc=\"Processing\",unit=\"batch\") as process:\n",
    "        for images, labels in process:\n",
    "            images = images.to(device)\n",
    "            labels = labels.to(device)\n",
    "            embeddings = model(images)\n",
    "\n",
    "            all_embeddings.append(embeddings)\n",
    "            all_labels.append(labels)\n",
    "\n",
    "    return torch.cat(all_embeddings), torch.cat(all_labels)\n"
   ],
   "metadata": {
    "ExecuteTime": {
     "start_time": "2023-08-16T12:35:35.357946Z",
     "end_time": "2023-08-16T12:35:35.462217Z"
    },
    "collapsed": false,
    "jupyter": {
     "outputs_hidden": false
    },
    "papermill": {
     "duration": 0.040451,
     "end_time": "2023-08-14T16:24:30.292152",
     "exception": false,
     "start_time": "2023-08-14T16:24:30.251701",
     "status": "completed"
    },
    "tags": [],
    "execution": {
     "iopub.status.busy": "2023-08-15T18:44:46.570927Z",
     "iopub.execute_input": "2023-08-15T18:44:46.571393Z",
     "iopub.status.idle": "2023-08-15T18:44:46.579476Z",
     "shell.execute_reply.started": "2023-08-15T18:44:46.571353Z",
     "shell.execute_reply": "2023-08-15T18:44:46.578468Z"
    },
    "trusted": true
   },
   "execution_count": 66,
   "outputs": []
  },
  {
   "cell_type": "code",
   "source": [
    "embeddings_bag, labels = get_embeddings(embedding_model, images_dataloader, device)"
   ],
   "metadata": {
    "collapsed": false,
    "jupyter": {
     "outputs_hidden": false
    },
    "papermill": {
     "duration": 0.037387,
     "end_time": "2023-08-14T16:24:30.358847",
     "exception": false,
     "start_time": "2023-08-14T16:24:30.321460",
     "status": "completed"
    },
    "tags": [],
    "ExecuteTime": {
     "start_time": "2023-08-16T12:35:35.368210Z",
     "end_time": "2023-08-16T12:35:52.836151Z"
    },
    "execution": {
     "iopub.status.busy": "2023-08-15T18:44:49.472858Z",
     "iopub.execute_input": "2023-08-15T18:44:49.473239Z",
     "iopub.status.idle": "2023-08-15T18:47:15.471000Z",
     "shell.execute_reply.started": "2023-08-15T18:44:49.473206Z",
     "shell.execute_reply": "2023-08-15T18:47:15.469332Z"
    },
    "trusted": true
   },
   "execution_count": 67,
   "outputs": [
    {
     "name": "stderr",
     "output_type": "stream",
     "text": [
      "Processing: 100%|██████████| 100/100 [00:17<00:00,  5.74batch/s]\n"
     ]
    }
   ]
  },
  {
   "cell_type": "markdown",
   "source": [
    "Split data to test and train for our Linear Model"
   ],
   "metadata": {}
  },
  {
   "cell_type": "code",
   "source": [
    "from sklearn.model_selection import train_test_split"
   ],
   "metadata": {
    "execution": {
     "iopub.status.busy": "2023-08-15T18:48:03.385166Z",
     "iopub.execute_input": "2023-08-15T18:48:03.385927Z",
     "iopub.status.idle": "2023-08-15T18:48:03.390936Z",
     "shell.execute_reply.started": "2023-08-15T18:48:03.385890Z",
     "shell.execute_reply": "2023-08-15T18:48:03.389590Z"
    },
    "trusted": true,
    "ExecuteTime": {
     "start_time": "2023-08-16T12:35:52.836151Z",
     "end_time": "2023-08-16T12:35:52.844031Z"
    }
   },
   "execution_count": 68,
   "outputs": []
  },
  {
   "cell_type": "code",
   "source": [
    "train_embeddings_bag, test_embeddings_bag, train_labels, test_labels = train_test_split(embeddings_bag, labels, random_state=config.seed, test_size=0.05)"
   ],
   "metadata": {
    "execution": {
     "iopub.status.busy": "2023-08-15T18:48:05.418649Z",
     "iopub.execute_input": "2023-08-15T18:48:05.419400Z",
     "iopub.status.idle": "2023-08-15T18:48:05.436591Z",
     "shell.execute_reply.started": "2023-08-15T18:48:05.419356Z",
     "shell.execute_reply": "2023-08-15T18:48:05.435273Z"
    },
    "trusted": true,
    "ExecuteTime": {
     "start_time": "2023-08-16T12:35:52.844031Z",
     "end_time": "2023-08-16T12:35:52.908236Z"
    }
   },
   "execution_count": 69,
   "outputs": []
  },
  {
   "cell_type": "code",
   "source": [
    "class SiameseDataset(Dataset):\n",
    "    \"\"\"\n",
    "    This dataset is used for Triplet NN. Here each item is a tuple of three images:\n",
    "    Anchor, Positive and Negative. This dataset doesn't provide the labels for images:\n",
    "    we use comparing of images to train a model; so,\n",
    "    whether the labels are equal IS OUR CRITERIA, not the labels itself.\n",
    "    \"\"\"\n",
    "    def __init__(self, embeddings_data, labels,):\n",
    "        super().__init__()\n",
    "        self.labels = labels.to('cpu')\n",
    "        self.embeddings_data = embeddings_data.to('cpu')\n",
    "        self.__set_dataset_len()\n",
    "        self.similarity_flag = True\n",
    "\n",
    "\n",
    "    def __set_dataset_len(self):\n",
    "        a = self.labels.size(0) # Number of rows\n",
    "        b = self.embeddings_data.size(0) # Amount of images\n",
    "        assert a == b  # CSV content and real number of photos are equal\n",
    "        self.length = a\n",
    "\n",
    "\n",
    "    def __len__(self):\n",
    "        \"\"\"\n",
    "        We calculate the len in another function, so that we are able to set it manually.\n",
    "        \"\"\"\n",
    "        return self.length\n",
    "\n",
    "\n",
    "    def __get_random_embedding(self, indexes):\n",
    "        image_index = np.random.choice(indexes)\n",
    "        embegging, label = self.embeddings_data[image_index], self.labels[image_index]\n",
    "        return embegging, label\n",
    "\n",
    "\n",
    "    def __getitem__(self, index) -> tuple[torch.Tensor, int]:\n",
    "        \"\"\" Function to return item by indexing the dataset \"\"\"\n",
    "        if not isinstance(index, int) and isinstance(index, slice):\n",
    "            # It's not an index, but slice.\n",
    "            # We will return the part of data by making a copy of the dataset\n",
    "            index: slice\n",
    "            self = deepcopy(self)\n",
    "            self.length = index.stop  # Cut the length of dataset.\n",
    "            self.labels = self.labels[:self.length]\n",
    "            self.embeddings_data = self.embeddings_data[:self.length]\n",
    "            return self\n",
    "\n",
    "\n",
    "        anchor, anchor_label = self.embeddings_data[index], self.labels[index]\n",
    "        positive_or_negative = np.where(\n",
    "            ((self.labels == anchor_label) == self.similarity_flag)\n",
    "        )[0]\n",
    "\n",
    "        # Delete source index, so we don't take two same pictures\n",
    "        correct_indexes = np.delete(positive_or_negative, np.where(positive_or_negative == index))\n",
    "\n",
    "        if len(correct_indexes) < 1:\n",
    "            self.similarity_flag = not self.similarity_flag\n",
    "            return self[index]\n",
    "\n",
    "        p_or_n_embedding, second_label = self.__get_random_embedding(correct_indexes)\n",
    "\n",
    "        self.similarity_flag = not self.similarity_flag  # Switch the flag\n",
    "\n",
    "        return anchor, p_or_n_embedding, float(anchor_label==second_label)\n"
   ],
   "metadata": {
    "collapsed": false,
    "ExecuteTime": {
     "start_time": "2023-08-16T12:35:52.890611Z",
     "end_time": "2023-08-16T12:35:52.908236Z"
    },
    "jupyter": {
     "outputs_hidden": false
    },
    "execution": {
     "iopub.status.busy": "2023-08-15T18:48:12.851864Z",
     "iopub.execute_input": "2023-08-15T18:48:12.852401Z",
     "iopub.status.idle": "2023-08-15T18:48:12.876446Z",
     "shell.execute_reply.started": "2023-08-15T18:48:12.852360Z",
     "shell.execute_reply": "2023-08-15T18:48:12.875505Z"
    },
    "trusted": true
   },
   "execution_count": 70,
   "outputs": []
  },
  {
   "cell_type": "code",
   "source": [
    "config.train_batch_size, config.val_batch_size = 160, 350"
   ],
   "metadata": {
    "execution": {
     "iopub.status.busy": "2023-08-15T18:48:15.345978Z",
     "iopub.execute_input": "2023-08-15T18:48:15.346357Z",
     "iopub.status.idle": "2023-08-15T18:48:15.351393Z",
     "shell.execute_reply.started": "2023-08-15T18:48:15.346323Z",
     "shell.execute_reply": "2023-08-15T18:48:15.350332Z"
    },
    "trusted": true,
    "ExecuteTime": {
     "start_time": "2023-08-16T12:35:52.895317Z",
     "end_time": "2023-08-16T12:35:52.923622Z"
    }
   },
   "execution_count": 71,
   "outputs": []
  },
  {
   "cell_type": "code",
   "source": [
    "train_dataset = SiameseDataset(embeddings_data=train_embeddings_bag, labels=train_labels)\n",
    "test_dataset = SiameseDataset(embeddings_data=test_embeddings_bag, labels=test_labels)"
   ],
   "metadata": {
    "collapsed": false,
    "ExecuteTime": {
     "start_time": "2023-08-16T12:35:52.908236Z",
     "end_time": "2023-08-16T12:35:52.923622Z"
    },
    "jupyter": {
     "outputs_hidden": false
    },
    "execution": {
     "iopub.status.busy": "2023-08-15T18:48:18.190193Z",
     "iopub.execute_input": "2023-08-15T18:48:18.190581Z",
     "iopub.status.idle": "2023-08-15T18:48:18.233977Z",
     "shell.execute_reply.started": "2023-08-15T18:48:18.190552Z",
     "shell.execute_reply": "2023-08-15T18:48:18.233040Z"
    },
    "trusted": true
   },
   "execution_count": 72,
   "outputs": []
  },
  {
   "cell_type": "code",
   "source": [
    "torch.cuda.empty_cache()"
   ],
   "metadata": {
    "execution": {
     "iopub.status.busy": "2023-08-15T18:48:22.749795Z",
     "iopub.execute_input": "2023-08-15T18:48:22.750192Z",
     "iopub.status.idle": "2023-08-15T18:48:22.754940Z",
     "shell.execute_reply.started": "2023-08-15T18:48:22.750160Z",
     "shell.execute_reply": "2023-08-15T18:48:22.753951Z"
    },
    "trusted": true,
    "ExecuteTime": {
     "start_time": "2023-08-16T12:35:52.915659Z",
     "end_time": "2023-08-16T12:35:52.923622Z"
    }
   },
   "execution_count": 73,
   "outputs": []
  },
  {
   "cell_type": "code",
   "source": [
    "train_dataloader = DataLoader(train_dataset,\n",
    "                              batch_size=config.train_batch_size,\n",
    "                              shuffle=True,\n",
    "                              num_workers=os.cpu_count() % 4,\n",
    ")"
   ],
   "metadata": {
    "collapsed": false,
    "ExecuteTime": {
     "start_time": "2023-08-16T12:35:52.923622Z",
     "end_time": "2023-08-16T12:35:52.932555Z"
    },
    "jupyter": {
     "outputs_hidden": false
    },
    "execution": {
     "iopub.status.busy": "2023-08-15T18:49:09.876930Z",
     "iopub.execute_input": "2023-08-15T18:49:09.877327Z",
     "iopub.status.idle": "2023-08-15T18:49:09.884053Z",
     "shell.execute_reply.started": "2023-08-15T18:49:09.877274Z",
     "shell.execute_reply": "2023-08-15T18:49:09.883122Z"
    },
    "trusted": true
   },
   "execution_count": 74,
   "outputs": []
  },
  {
   "cell_type": "code",
   "source": [
    "test_dataloader = DataLoader(test_dataset,\n",
    "                              batch_size=config.train_batch_size,\n",
    "                              shuffle=False,\n",
    "                              num_workers=os.cpu_count() % 4,\n",
    "                              )"
   ],
   "metadata": {
    "collapsed": false,
    "ExecuteTime": {
     "start_time": "2023-08-16T12:35:52.932555Z",
     "end_time": "2023-08-16T12:35:52.979679Z"
    },
    "jupyter": {
     "outputs_hidden": false
    },
    "execution": {
     "iopub.status.busy": "2023-08-15T18:49:10.315741Z",
     "iopub.execute_input": "2023-08-15T18:49:10.316098Z",
     "iopub.status.idle": "2023-08-15T18:49:10.322267Z",
     "shell.execute_reply.started": "2023-08-15T18:49:10.316069Z",
     "shell.execute_reply": "2023-08-15T18:49:10.320902Z"
    },
    "trusted": true
   },
   "execution_count": 75,
   "outputs": []
  },
  {
   "cell_type": "markdown",
   "source": [
    "## Choosing N nearest"
   ],
   "metadata": {}
  },
  {
   "cell_type": "code",
   "source": [
    "from sklearn.neighbors import NearestNeighbors"
   ],
   "metadata": {
    "execution": {
     "iopub.status.busy": "2023-08-15T15:45:07.986692Z",
     "iopub.execute_input": "2023-08-15T15:45:07.987179Z",
     "iopub.status.idle": "2023-08-15T15:45:07.996568Z",
     "shell.execute_reply.started": "2023-08-15T15:45:07.987136Z",
     "shell.execute_reply": "2023-08-15T15:45:07.995403Z"
    },
    "trusted": true,
    "ExecuteTime": {
     "start_time": "2023-08-16T12:35:52.941892Z",
     "end_time": "2023-08-16T12:35:53.057768Z"
    }
   },
   "execution_count": 76,
   "outputs": []
  },
  {
   "cell_type": "code",
   "source": [
    "neigh = NearestNeighbors(n_neighbors=5, metric='cosine')"
   ],
   "metadata": {
    "execution": {
     "iopub.status.busy": "2023-08-15T15:45:12.882002Z",
     "iopub.execute_input": "2023-08-15T15:45:12.882433Z",
     "iopub.status.idle": "2023-08-15T15:45:12.888464Z",
     "shell.execute_reply.started": "2023-08-15T15:45:12.882398Z",
     "shell.execute_reply": "2023-08-15T15:45:12.887484Z"
    },
    "trusted": true,
    "ExecuteTime": {
     "start_time": "2023-08-16T12:35:53.057768Z",
     "end_time": "2023-08-16T12:35:53.064241Z"
    }
   },
   "execution_count": 77,
   "outputs": []
  },
  {
   "cell_type": "code",
   "source": [
    "neigh.fit(embeddings_bag.cpu().numpy())"
   ],
   "metadata": {
    "execution": {
     "iopub.status.busy": "2023-08-15T15:45:23.261078Z",
     "iopub.execute_input": "2023-08-15T15:45:23.261470Z",
     "iopub.status.idle": "2023-08-15T15:45:23.312673Z",
     "shell.execute_reply.started": "2023-08-15T15:45:23.261427Z",
     "shell.execute_reply": "2023-08-15T15:45:23.311715Z"
    },
    "trusted": true,
    "ExecuteTime": {
     "start_time": "2023-08-16T12:35:53.064241Z",
     "end_time": "2023-08-16T12:35:53.089913Z"
    }
   },
   "execution_count": 78,
   "outputs": [
    {
     "data": {
      "text/plain": "NearestNeighbors(metric='cosine')",
      "text/html": "<style>#sk-container-id-1 {color: black;}#sk-container-id-1 pre{padding: 0;}#sk-container-id-1 div.sk-toggleable {background-color: white;}#sk-container-id-1 label.sk-toggleable__label {cursor: pointer;display: block;width: 100%;margin-bottom: 0;padding: 0.3em;box-sizing: border-box;text-align: center;}#sk-container-id-1 label.sk-toggleable__label-arrow:before {content: \"▸\";float: left;margin-right: 0.25em;color: #696969;}#sk-container-id-1 label.sk-toggleable__label-arrow:hover:before {color: black;}#sk-container-id-1 div.sk-estimator:hover label.sk-toggleable__label-arrow:before {color: black;}#sk-container-id-1 div.sk-toggleable__content {max-height: 0;max-width: 0;overflow: hidden;text-align: left;background-color: #f0f8ff;}#sk-container-id-1 div.sk-toggleable__content pre {margin: 0.2em;color: black;border-radius: 0.25em;background-color: #f0f8ff;}#sk-container-id-1 input.sk-toggleable__control:checked~div.sk-toggleable__content {max-height: 200px;max-width: 100%;overflow: auto;}#sk-container-id-1 input.sk-toggleable__control:checked~label.sk-toggleable__label-arrow:before {content: \"▾\";}#sk-container-id-1 div.sk-estimator input.sk-toggleable__control:checked~label.sk-toggleable__label {background-color: #d4ebff;}#sk-container-id-1 div.sk-label input.sk-toggleable__control:checked~label.sk-toggleable__label {background-color: #d4ebff;}#sk-container-id-1 input.sk-hidden--visually {border: 0;clip: rect(1px 1px 1px 1px);clip: rect(1px, 1px, 1px, 1px);height: 1px;margin: -1px;overflow: hidden;padding: 0;position: absolute;width: 1px;}#sk-container-id-1 div.sk-estimator {font-family: monospace;background-color: #f0f8ff;border: 1px dotted black;border-radius: 0.25em;box-sizing: border-box;margin-bottom: 0.5em;}#sk-container-id-1 div.sk-estimator:hover {background-color: #d4ebff;}#sk-container-id-1 div.sk-parallel-item::after {content: \"\";width: 100%;border-bottom: 1px solid gray;flex-grow: 1;}#sk-container-id-1 div.sk-label:hover label.sk-toggleable__label {background-color: #d4ebff;}#sk-container-id-1 div.sk-serial::before {content: \"\";position: absolute;border-left: 1px solid gray;box-sizing: border-box;top: 0;bottom: 0;left: 50%;z-index: 0;}#sk-container-id-1 div.sk-serial {display: flex;flex-direction: column;align-items: center;background-color: white;padding-right: 0.2em;padding-left: 0.2em;position: relative;}#sk-container-id-1 div.sk-item {position: relative;z-index: 1;}#sk-container-id-1 div.sk-parallel {display: flex;align-items: stretch;justify-content: center;background-color: white;position: relative;}#sk-container-id-1 div.sk-item::before, #sk-container-id-1 div.sk-parallel-item::before {content: \"\";position: absolute;border-left: 1px solid gray;box-sizing: border-box;top: 0;bottom: 0;left: 50%;z-index: -1;}#sk-container-id-1 div.sk-parallel-item {display: flex;flex-direction: column;z-index: 1;position: relative;background-color: white;}#sk-container-id-1 div.sk-parallel-item:first-child::after {align-self: flex-end;width: 50%;}#sk-container-id-1 div.sk-parallel-item:last-child::after {align-self: flex-start;width: 50%;}#sk-container-id-1 div.sk-parallel-item:only-child::after {width: 0;}#sk-container-id-1 div.sk-dashed-wrapped {border: 1px dashed gray;margin: 0 0.4em 0.5em 0.4em;box-sizing: border-box;padding-bottom: 0.4em;background-color: white;}#sk-container-id-1 div.sk-label label {font-family: monospace;font-weight: bold;display: inline-block;line-height: 1.2em;}#sk-container-id-1 div.sk-label-container {text-align: center;}#sk-container-id-1 div.sk-container {/* jupyter's `normalize.less` sets `[hidden] { display: none; }` but bootstrap.min.css set `[hidden] { display: none !important; }` so we also need the `!important` here to be able to override the default hidden behavior on the sphinx rendered scikit-learn.org. See: https://github.com/scikit-learn/scikit-learn/issues/21755 */display: inline-block !important;position: relative;}#sk-container-id-1 div.sk-text-repr-fallback {display: none;}</style><div id=\"sk-container-id-1\" class=\"sk-top-container\"><div class=\"sk-text-repr-fallback\"><pre>NearestNeighbors(metric=&#x27;cosine&#x27;)</pre><b>In a Jupyter environment, please rerun this cell to show the HTML representation or trust the notebook. <br />On GitHub, the HTML representation is unable to render, please try loading this page with nbviewer.org.</b></div><div class=\"sk-container\" hidden><div class=\"sk-item\"><div class=\"sk-estimator sk-toggleable\"><input class=\"sk-toggleable__control sk-hidden--visually\" id=\"sk-estimator-id-1\" type=\"checkbox\" checked><label for=\"sk-estimator-id-1\" class=\"sk-toggleable__label sk-toggleable__label-arrow\">NearestNeighbors</label><div class=\"sk-toggleable__content\"><pre>NearestNeighbors(metric=&#x27;cosine&#x27;)</pre></div></div></div></div></div>"
     },
     "execution_count": 78,
     "metadata": {},
     "output_type": "execute_result"
    }
   ]
  },
  {
   "cell_type": "code",
   "source": [
    "# found_nearest = neigh.kneighbors(torch.unsqueeze(r_embedding, dim=0).cpu().numpy())\n",
    "found_nearest = neigh.kneighbors()"
   ],
   "metadata": {
    "execution": {
     "iopub.status.busy": "2023-08-15T15:46:07.107235Z",
     "iopub.execute_input": "2023-08-15T15:46:07.108376Z",
     "iopub.status.idle": "2023-08-15T15:46:17.944224Z",
     "shell.execute_reply.started": "2023-08-15T15:46:07.108331Z",
     "shell.execute_reply": "2023-08-15T15:46:17.943176Z"
    },
    "trusted": true,
    "ExecuteTime": {
     "start_time": "2023-08-16T12:35:53.089913Z",
     "end_time": "2023-08-16T12:35:53.141616Z"
    }
   },
   "execution_count": 79,
   "outputs": []
  },
  {
   "cell_type": "code",
   "source": [
    "def get_dataset_with_nearest(array_of_nearest: np.array):\n",
    "    neighbors = []\n",
    "    for row_of_nearest in array_of_nearest:\n",
    "#         print(row_of_nearest)\n",
    "\n",
    "        labels_of_closest = []\n",
    "        for nearest_label in row_of_nearest:\n",
    "            labels_of_closest.append(labels[nearest_label].item())\n",
    "#         print(labels_of_closest)\n",
    "        neighbors.append(labels_of_closest)\n",
    "    label_array = pd.DataFrame(neighbors)\n",
    "    return label_array\n",
    "\n",
    "neighbors_labels = get_dataset_with_nearest(found_nearest[1])"
   ],
   "metadata": {
    "execution": {
     "iopub.status.busy": "2023-08-15T16:10:27.145075Z",
     "iopub.execute_input": "2023-08-15T16:10:27.145441Z",
     "iopub.status.idle": "2023-08-15T16:10:29.479140Z",
     "shell.execute_reply.started": "2023-08-15T16:10:27.145409Z",
     "shell.execute_reply": "2023-08-15T16:10:29.478147Z"
    },
    "trusted": true,
    "ExecuteTime": {
     "start_time": "2023-08-16T12:35:53.115504Z",
     "end_time": "2023-08-16T12:35:53.159611Z"
    }
   },
   "execution_count": 80,
   "outputs": []
  },
  {
   "cell_type": "code",
   "source": [
    "neighbors_labels.nunique()"
   ],
   "metadata": {
    "execution": {
     "iopub.status.busy": "2023-08-15T16:15:34.040915Z",
     "iopub.execute_input": "2023-08-15T16:15:34.041371Z",
     "iopub.status.idle": "2023-08-15T16:15:34.062351Z",
     "shell.execute_reply.started": "2023-08-15T16:15:34.041335Z",
     "shell.execute_reply": "2023-08-15T16:15:34.061461Z"
    },
    "trusted": true,
    "ExecuteTime": {
     "start_time": "2023-08-16T12:35:53.136144Z",
     "end_time": "2023-08-16T12:35:53.192576Z"
    }
   },
   "execution_count": 81,
   "outputs": [
    {
     "data": {
      "text/plain": "0    16\n1    16\n2    16\n3    16\n4    16\ndtype: int64"
     },
     "execution_count": 81,
     "metadata": {},
     "output_type": "execute_result"
    }
   ]
  },
  {
   "cell_type": "code",
   "source": [
    "# neighbors_labels"
   ],
   "metadata": {
    "execution": {
     "iopub.status.busy": "2023-08-15T16:05:10.987699Z",
     "iopub.execute_input": "2023-08-15T16:05:10.988211Z",
     "iopub.status.idle": "2023-08-15T16:05:10.996132Z",
     "shell.execute_reply.started": "2023-08-15T16:05:10.988169Z",
     "shell.execute_reply": "2023-08-15T16:05:10.995170Z"
    },
    "trusted": true,
    "ExecuteTime": {
     "start_time": "2023-08-16T12:35:53.165609Z",
     "end_time": "2023-08-16T12:35:53.275881Z"
    }
   },
   "execution_count": 82,
   "outputs": []
  },
  {
   "cell_type": "code",
   "source": [
    "def all_values_same(row):\n",
    "    return all(row == row[0])"
   ],
   "metadata": {
    "execution": {
     "iopub.status.busy": "2023-08-15T16:10:52.130617Z",
     "iopub.execute_input": "2023-08-15T16:10:52.131107Z",
     "iopub.status.idle": "2023-08-15T16:10:52.137631Z",
     "shell.execute_reply.started": "2023-08-15T16:10:52.131062Z",
     "shell.execute_reply": "2023-08-15T16:10:52.136668Z"
    },
    "trusted": true,
    "ExecuteTime": {
     "start_time": "2023-08-16T12:35:53.177837Z",
     "end_time": "2023-08-16T12:35:53.275881Z"
    }
   },
   "execution_count": 83,
   "outputs": []
  },
  {
   "cell_type": "code",
   "source": [
    "def some_values_same(row, number_of_same=3):\n",
    "    unique_numbers = set(row)\n",
    "    all_numbers = list(row)\n",
    "    [all_numbers.remove(u) for u in unique_numbers]\n",
    "    # Now we can select any number - list contains only numbers that represent the majority.\n",
    "    try:\n",
    "        value_to_compare = all_numbers[0]\n",
    "    except IndexError:\n",
    "        value_to_compare = row[0]\n",
    "\n",
    "    return ((row == value_to_compare).sum() >= number_of_same)"
   ],
   "metadata": {
    "execution": {
     "iopub.status.busy": "2023-08-15T16:47:38.949298Z",
     "iopub.execute_input": "2023-08-15T16:47:38.949681Z",
     "iopub.status.idle": "2023-08-15T16:47:38.959268Z",
     "shell.execute_reply.started": "2023-08-15T16:47:38.949651Z",
     "shell.execute_reply": "2023-08-15T16:47:38.958024Z"
    },
    "trusted": true,
    "ExecuteTime": {
     "start_time": "2023-08-16T12:35:53.192576Z",
     "end_time": "2023-08-16T12:35:53.275881Z"
    }
   },
   "execution_count": 84,
   "outputs": []
  },
  {
   "cell_type": "code",
   "source": [
    "neighbors_labels.columns[:-2]"
   ],
   "metadata": {
    "execution": {
     "iopub.status.busy": "2023-08-15T16:44:59.688124Z",
     "iopub.execute_input": "2023-08-15T16:44:59.689003Z",
     "iopub.status.idle": "2023-08-15T16:44:59.697789Z",
     "shell.execute_reply.started": "2023-08-15T16:44:59.688925Z",
     "shell.execute_reply": "2023-08-15T16:44:59.695294Z"
    },
    "trusted": true,
    "ExecuteTime": {
     "start_time": "2023-08-16T12:35:53.216671Z",
     "end_time": "2023-08-16T12:35:53.275881Z"
    }
   },
   "execution_count": 85,
   "outputs": [
    {
     "data": {
      "text/plain": "RangeIndex(start=0, stop=3, step=1)"
     },
     "execution_count": 85,
     "metadata": {},
     "output_type": "execute_result"
    }
   ]
  },
  {
   "cell_type": "code",
   "source": [
    "neighbors_labels['are_labels_same'] = neighbors_labels.apply(all_values_same, axis=1)"
   ],
   "metadata": {
    "execution": {
     "iopub.status.busy": "2023-08-15T16:10:52.682557Z",
     "iopub.execute_input": "2023-08-15T16:10:52.683017Z",
     "iopub.status.idle": "2023-08-15T16:10:54.916096Z",
     "shell.execute_reply.started": "2023-08-15T16:10:52.682941Z",
     "shell.execute_reply": "2023-08-15T16:10:54.915144Z"
    },
    "trusted": true,
    "ExecuteTime": {
     "start_time": "2023-08-16T12:35:53.229990Z",
     "end_time": "2023-08-16T12:35:53.275881Z"
    }
   },
   "execution_count": 86,
   "outputs": []
  },
  {
   "cell_type": "code",
   "source": [
    "neighbors_labels['three_are_same'] = neighbors_labels.loc[:, neighbors_labels.columns[:-2]].apply(some_values_same, axis=1)"
   ],
   "metadata": {
    "execution": {
     "iopub.status.busy": "2023-08-15T16:47:43.148689Z",
     "iopub.execute_input": "2023-08-15T16:47:43.149070Z",
     "iopub.status.idle": "2023-08-15T16:47:46.657098Z",
     "shell.execute_reply.started": "2023-08-15T16:47:43.149039Z",
     "shell.execute_reply": "2023-08-15T16:47:46.656048Z"
    },
    "trusted": true,
    "ExecuteTime": {
     "start_time": "2023-08-16T12:35:53.275881Z",
     "end_time": "2023-08-16T12:35:53.342972Z"
    }
   },
   "execution_count": 87,
   "outputs": []
  },
  {
   "cell_type": "code",
   "source": [
    "neighbors_labels"
   ],
   "metadata": {
    "execution": {
     "iopub.status.busy": "2023-08-15T16:47:50.161539Z",
     "iopub.execute_input": "2023-08-15T16:47:50.161899Z",
     "iopub.status.idle": "2023-08-15T16:47:50.179388Z",
     "shell.execute_reply.started": "2023-08-15T16:47:50.161869Z",
     "shell.execute_reply": "2023-08-15T16:47:50.178190Z"
    },
    "trusted": true,
    "ExecuteTime": {
     "start_time": "2023-08-16T12:35:53.342972Z",
     "end_time": "2023-08-16T12:35:53.409333Z"
    }
   },
   "execution_count": 88,
   "outputs": [
    {
     "data": {
      "text/plain": "      0   1   2   3   4  are_labels_same  three_are_same\n0    13  13  11  12  13            False           False\n1     4   4   4   4   4             True            True\n2     5   5   5   5   5             True            True\n3     7   7   9   7   7            False            True\n4     5   4   5   8   5            False           False\n..   ..  ..  ..  ..  ..              ...             ...\n295  11  12  11  11  13            False            True\n296   7   7   7   7   7             True            True\n297   8   8   8   8   8             True            True\n298   5   5   5   5   5             True            True\n299   9   7   9   5   9            False           False\n\n[300 rows x 7 columns]",
      "text/html": "<div>\n<style scoped>\n    .dataframe tbody tr th:only-of-type {\n        vertical-align: middle;\n    }\n\n    .dataframe tbody tr th {\n        vertical-align: top;\n    }\n\n    .dataframe thead th {\n        text-align: right;\n    }\n</style>\n<table border=\"1\" class=\"dataframe\">\n  <thead>\n    <tr style=\"text-align: right;\">\n      <th></th>\n      <th>0</th>\n      <th>1</th>\n      <th>2</th>\n      <th>3</th>\n      <th>4</th>\n      <th>are_labels_same</th>\n      <th>three_are_same</th>\n    </tr>\n  </thead>\n  <tbody>\n    <tr>\n      <th>0</th>\n      <td>13</td>\n      <td>13</td>\n      <td>11</td>\n      <td>12</td>\n      <td>13</td>\n      <td>False</td>\n      <td>False</td>\n    </tr>\n    <tr>\n      <th>1</th>\n      <td>4</td>\n      <td>4</td>\n      <td>4</td>\n      <td>4</td>\n      <td>4</td>\n      <td>True</td>\n      <td>True</td>\n    </tr>\n    <tr>\n      <th>2</th>\n      <td>5</td>\n      <td>5</td>\n      <td>5</td>\n      <td>5</td>\n      <td>5</td>\n      <td>True</td>\n      <td>True</td>\n    </tr>\n    <tr>\n      <th>3</th>\n      <td>7</td>\n      <td>7</td>\n      <td>9</td>\n      <td>7</td>\n      <td>7</td>\n      <td>False</td>\n      <td>True</td>\n    </tr>\n    <tr>\n      <th>4</th>\n      <td>5</td>\n      <td>4</td>\n      <td>5</td>\n      <td>8</td>\n      <td>5</td>\n      <td>False</td>\n      <td>False</td>\n    </tr>\n    <tr>\n      <th>...</th>\n      <td>...</td>\n      <td>...</td>\n      <td>...</td>\n      <td>...</td>\n      <td>...</td>\n      <td>...</td>\n      <td>...</td>\n    </tr>\n    <tr>\n      <th>295</th>\n      <td>11</td>\n      <td>12</td>\n      <td>11</td>\n      <td>11</td>\n      <td>13</td>\n      <td>False</td>\n      <td>True</td>\n    </tr>\n    <tr>\n      <th>296</th>\n      <td>7</td>\n      <td>7</td>\n      <td>7</td>\n      <td>7</td>\n      <td>7</td>\n      <td>True</td>\n      <td>True</td>\n    </tr>\n    <tr>\n      <th>297</th>\n      <td>8</td>\n      <td>8</td>\n      <td>8</td>\n      <td>8</td>\n      <td>8</td>\n      <td>True</td>\n      <td>True</td>\n    </tr>\n    <tr>\n      <th>298</th>\n      <td>5</td>\n      <td>5</td>\n      <td>5</td>\n      <td>5</td>\n      <td>5</td>\n      <td>True</td>\n      <td>True</td>\n    </tr>\n    <tr>\n      <th>299</th>\n      <td>9</td>\n      <td>7</td>\n      <td>9</td>\n      <td>5</td>\n      <td>9</td>\n      <td>False</td>\n      <td>False</td>\n    </tr>\n  </tbody>\n</table>\n<p>300 rows × 7 columns</p>\n</div>"
     },
     "execution_count": 88,
     "metadata": {},
     "output_type": "execute_result"
    }
   ]
  },
  {
   "cell_type": "markdown",
   "source": [
    "Let's check how good our Neighbors model works"
   ],
   "metadata": {}
  },
  {
   "cell_type": "code",
   "source": [
    "print(f\"In {len(neighbors_labels[neighbors_labels['are_labels_same']]) / len(neighbors_labels) * 100}% of data classes have all same class in its' nearest vectors\")"
   ],
   "metadata": {
    "execution": {
     "iopub.status.busy": "2023-08-15T16:48:56.156120Z",
     "iopub.execute_input": "2023-08-15T16:48:56.156811Z",
     "iopub.status.idle": "2023-08-15T16:48:56.164172Z",
     "shell.execute_reply.started": "2023-08-15T16:48:56.156777Z",
     "shell.execute_reply": "2023-08-15T16:48:56.162950Z"
    },
    "trusted": true,
    "ExecuteTime": {
     "start_time": "2023-08-16T12:35:53.380339Z",
     "end_time": "2023-08-16T12:35:53.454421Z"
    }
   },
   "execution_count": 89,
   "outputs": [
    {
     "name": "stdout",
     "output_type": "stream",
     "text": [
      "In 56.99999999999999% of data classes have all same class in its' nearest vectors\n"
     ]
    }
   ]
  },
  {
   "cell_type": "code",
   "source": [
    "print(f\"In {len(neighbors_labels[neighbors_labels['three_are_same']]) / len(neighbors_labels) * 100}% of data classes have at least 3 of same class in its' nearest vectors\")"
   ],
   "metadata": {
    "execution": {
     "iopub.status.busy": "2023-08-15T16:48:58.096670Z",
     "iopub.execute_input": "2023-08-15T16:48:58.097057Z",
     "iopub.status.idle": "2023-08-15T16:48:58.104123Z",
     "shell.execute_reply.started": "2023-08-15T16:48:58.097025Z",
     "shell.execute_reply": "2023-08-15T16:48:58.103148Z"
    },
    "trusted": true,
    "ExecuteTime": {
     "start_time": "2023-08-16T12:35:53.392007Z",
     "end_time": "2023-08-16T12:35:53.454421Z"
    }
   },
   "execution_count": 90,
   "outputs": [
    {
     "name": "stdout",
     "output_type": "stream",
     "text": [
      "In 86.0% of data classes have at least 3 of same class in its' nearest vectors\n"
     ]
    }
   ]
  },
  {
   "cell_type": "markdown",
   "source": [
    "# 5. Initialize the train process"
   ],
   "metadata": {
    "id": "qCM07xVnTFDp",
    "papermill": {
     "duration": 0.029095,
     "end_time": "2023-08-14T16:24:30.635296",
     "exception": false,
     "start_time": "2023-08-14T16:24:30.606201",
     "status": "completed"
    },
    "tags": []
   }
  },
  {
   "cell_type": "markdown",
   "source": [
    "We will train the Linear Model to distinguish two images by their CNN embeddings. So, we can put two images into a model and learn wheather they are of same class or not."
   ],
   "metadata": {}
  },
  {
   "cell_type": "markdown",
   "source": [
    "## 1. Functions to plot the result"
   ],
   "metadata": {
    "id": "afGGK718TFDp",
    "papermill": {
     "duration": 0.029317,
     "end_time": "2023-08-14T16:24:30.693896",
     "exception": false,
     "start_time": "2023-08-14T16:24:30.664579",
     "status": "completed"
    },
    "tags": []
   }
  },
  {
   "cell_type": "code",
   "source": [
    "def plot_two_curves(\n",
    "        title: str,\n",
    "        train_curve: list[float],\n",
    "        val_curve: list[float],\n",
    "\n",
    "):\n",
    "    plt.figure(figsize=(16, 8))\n",
    "    plt.title(title)\n",
    "    plt.plot(train_curve, label=f'Train {title}')\n",
    "    plt.plot(val_curve, label=f'Valid {title}')\n",
    "    plt.legend()\n",
    "    plt.grid()\n",
    "    plt.show()\n",
    "    #plt.savefig(title)"
   ],
   "metadata": {
    "ExecuteTime": {
     "start_time": "2023-08-16T12:35:53.408778Z",
     "end_time": "2023-08-16T12:35:53.454421Z"
    },
    "id": "QVJL1liGTFDp",
    "papermill": {
     "duration": 0.039318,
     "end_time": "2023-08-14T16:24:30.762320",
     "exception": false,
     "start_time": "2023-08-14T16:24:30.723002",
     "status": "completed"
    },
    "tags": [],
    "execution": {
     "iopub.status.busy": "2023-08-15T18:49:24.419803Z",
     "iopub.execute_input": "2023-08-15T18:49:24.420198Z",
     "iopub.status.idle": "2023-08-15T18:49:24.426441Z",
     "shell.execute_reply.started": "2023-08-15T18:49:24.420168Z",
     "shell.execute_reply": "2023-08-15T18:49:24.425507Z"
    },
    "trusted": true
   },
   "execution_count": 91,
   "outputs": []
  },
  {
   "cell_type": "code",
   "source": [
    "def plot_stats(\n",
    "        train_loss: list[float],\n",
    "        valid_loss: list[float],\n",
    "        train_accuracy: list[float]=None,\n",
    "        valid_accuracy: list[float]=None,\n",
    "        train_f1_score: list[float]=None,\n",
    "        valid_f1_score: list[float]=None,\n",
    "        title: str = None\n",
    "):\n",
    "    plot_two_curves(\n",
    "        'Loss',\n",
    "        train_loss,\n",
    "        valid_loss\n",
    "    )\n",
    "\n",
    "    if train_accuracy and valid_accuracy:\n",
    "        plot_two_curves(\n",
    "            'accuracy',\n",
    "            train_accuracy,\n",
    "            valid_accuracy\n",
    "        )\n",
    "\n",
    "    if train_f1_score and valid_f1_score:\n",
    "        plot_two_curves(\n",
    "            'F1 score',\n",
    "            train_f1_score,\n",
    "            valid_f1_score\n",
    "        )\n"
   ],
   "metadata": {
    "ExecuteTime": {
     "start_time": "2023-08-16T12:35:53.409333Z",
     "end_time": "2023-08-16T12:35:53.454421Z"
    },
    "id": "GQrWiRJbTFDp",
    "papermill": {
     "duration": 0.040323,
     "end_time": "2023-08-14T16:24:30.832595",
     "exception": false,
     "start_time": "2023-08-14T16:24:30.792272",
     "status": "completed"
    },
    "tags": [],
    "execution": {
     "iopub.status.busy": "2023-08-15T18:49:24.844300Z",
     "iopub.execute_input": "2023-08-15T18:49:24.844711Z",
     "iopub.status.idle": "2023-08-15T18:49:24.852373Z",
     "shell.execute_reply.started": "2023-08-15T18:49:24.844679Z",
     "shell.execute_reply": "2023-08-15T18:49:24.851240Z"
    },
    "trusted": true
   },
   "execution_count": 92,
   "outputs": []
  },
  {
   "cell_type": "markdown",
   "source": [
    "## 2. Training and evaluation functions"
   ],
   "metadata": {
    "id": "ePLlKs4rTFDq",
    "papermill": {
     "duration": 0.02992,
     "end_time": "2023-08-14T16:24:30.892994",
     "exception": false,
     "start_time": "2023-08-14T16:24:30.863074",
     "status": "completed"
    },
    "tags": []
   }
  },
  {
   "cell_type": "code",
   "source": [
    "def train_one_epoch(model, dataloader, optimizer, criterion, device, epoch: str):\n",
    "    model.train()\n",
    "    threshold = torch.Tensor([0.5]).to(device)\n",
    "    train_loss = 0.0\n",
    "    train_correct = 0.0\n",
    "    train_f1 = 0.0\n",
    "    n_batches = 0\n",
    "    data_size = 0\n",
    "\n",
    "    with tqdm(dataloader, desc=f'Epoch: {epoch}', unit=\"batch\") as tepoch:\n",
    "        for image_one, image_second, is_same_class in tepoch:\n",
    "            n_batches += 1\n",
    "            image_one = image_one.to(device)\n",
    "            image_second = image_second.to(device)\n",
    "            is_same_class = is_same_class.to(device)\n",
    "\n",
    "            optimizer.zero_grad()\n",
    "\n",
    "            # Our model returns embeddings (instead of predictions).\n",
    "            predicted_similarity = model(image_one, image_second)\n",
    "            predicted_similarity = torch.squeeze(predicted_similarity, dim=-1)\n",
    "\n",
    "            loss = criterion(predicted_similarity, is_same_class.to(torch.float32))\n",
    "            loss.backward()\n",
    "\n",
    "            optimizer.step()\n",
    "\n",
    "            loss = loss.item()  # item() extracts scalar\n",
    "            train_loss += loss\n",
    "\n",
    "\n",
    "            prediction = (predicted_similarity >= threshold).float()\n",
    "            # _, predicted = torch.max(probabilities, 1)\n",
    "            train_correct += (prediction == is_same_class).sum().item()\n",
    "            data_size += is_same_class.size(0)\n",
    "            train_accuracy = train_correct / data_size\n",
    "            f1 = f1_score(prediction, is_same_class).item()\n",
    "            train_f1 += f1\n",
    "\n",
    "\n",
    "            tepoch.set_postfix(loss=loss, acc=train_accuracy)\n",
    "\n",
    "    train_loss /= n_batches\n",
    "    train_f1 /= n_batches\n",
    "    gc.collect()\n",
    "    torch.cuda.empty_cache()\n",
    "\n",
    "    return train_loss, train_accuracy, train_f1"
   ],
   "metadata": {
    "ExecuteTime": {
     "start_time": "2023-08-16T12:35:53.421514Z",
     "end_time": "2023-08-16T12:35:53.526874Z"
    },
    "id": "QObsYKNJTFDq",
    "papermill": {
     "duration": 0.043445,
     "end_time": "2023-08-14T16:24:30.965904",
     "exception": false,
     "start_time": "2023-08-14T16:24:30.922459",
     "status": "completed"
    },
    "tags": [],
    "execution": {
     "iopub.status.busy": "2023-08-15T18:49:25.653341Z",
     "iopub.execute_input": "2023-08-15T18:49:25.654134Z",
     "iopub.status.idle": "2023-08-15T18:49:25.666316Z",
     "shell.execute_reply.started": "2023-08-15T18:49:25.654093Z",
     "shell.execute_reply": "2023-08-15T18:49:25.665175Z"
    },
    "trusted": true
   },
   "execution_count": 93,
   "outputs": []
  },
  {
   "cell_type": "code",
   "source": [
    "@torch.inference_mode()\n",
    "def validate_one_epoch(model, dataloader, criterion, device):\n",
    "    model.eval()\n",
    "    threshold = torch.Tensor([0.5]).to(device)\n",
    "    val_loss = 0.0\n",
    "    val_correct = 0.0\n",
    "    val_f1_score = 0.0\n",
    "    data_size = 0\n",
    "    n_batches = 0\n",
    "\n",
    "    with tqdm(dataloader, desc=\"Validation\",unit=\"batch\") as tepoch:\n",
    "        for image_one, image_second, is_same_class in tepoch:\n",
    "            n_batches += 1\n",
    "            image_one = image_one.to(device)\n",
    "            image_second = image_second.to(device)\n",
    "            is_same_class = is_same_class.to(device)\n",
    "\n",
    "            # Our model returns embeddings (instead of predictions).\n",
    "            predicted_similarity = model(image_one, image_second)\n",
    "            # print(predicted_similarity, predicted_similarity.int())\n",
    "            predicted_similarity = torch.squeeze(predicted_similarity, dim=-1)\n",
    "\n",
    "\n",
    "            # But we still want to calculate accuracy, so, we calculate probs it our ArcFace Function\n",
    "            loss = criterion(predicted_similarity, is_same_class.to(torch.float32))\n",
    "            loss = loss.item()  # item() extracts scalar\n",
    "            val_loss += loss\n",
    "\n",
    "\n",
    "            prediction = (predicted_similarity >= threshold).float()\n",
    "\n",
    "            correct = (prediction == is_same_class).sum().item()\n",
    "            val_correct += correct\n",
    "            data_size += is_same_class.size(0)  # Batch size\n",
    "\n",
    "            val_accuracy = val_correct / data_size\n",
    "            #\n",
    "            f1 = f1_score(prediction, is_same_class).item()\n",
    "            val_f1_score += f1\n",
    "            tepoch.set_postfix(loss=loss, acc=val_accuracy)\n",
    "\n",
    "    val_loss /= n_batches\n",
    "    val_f1_score /= n_batches\n",
    "    gc.collect()\n",
    "    torch.cuda.empty_cache()\n",
    "\n",
    "    return val_loss, val_accuracy, val_f1_score"
   ],
   "metadata": {
    "ExecuteTime": {
     "start_time": "2023-08-16T12:35:53.449764Z",
     "end_time": "2023-08-16T12:35:53.552214Z"
    },
    "id": "shn8rP6wTFDq",
    "papermill": {
     "duration": 0.043991,
     "end_time": "2023-08-14T16:24:31.039525",
     "exception": false,
     "start_time": "2023-08-14T16:24:30.995534",
     "status": "completed"
    },
    "tags": [],
    "execution": {
     "iopub.status.busy": "2023-08-15T18:49:25.849342Z",
     "iopub.execute_input": "2023-08-15T18:49:25.849743Z",
     "iopub.status.idle": "2023-08-15T18:49:25.861431Z",
     "shell.execute_reply.started": "2023-08-15T18:49:25.849711Z",
     "shell.execute_reply": "2023-08-15T18:49:25.860303Z"
    },
    "trusted": true
   },
   "execution_count": 94,
   "outputs": []
  },
  {
   "cell_type": "markdown",
   "source": [
    "## 3. Training cycle"
   ],
   "metadata": {
    "id": "1TWCVEGYTFDq",
    "papermill": {
     "duration": 0.029674,
     "end_time": "2023-08-14T16:24:31.098333",
     "exception": false,
     "start_time": "2023-08-14T16:24:31.068659",
     "status": "completed"
    },
    "tags": []
   }
  },
  {
   "cell_type": "code",
   "source": [
    "def train_model(model, train_loader, val_loader,\n",
    "                criterion=None, optimizer=None, num_epochs=5,\n",
    "                scheduler=None, device=torch.device(\"cpu\"),\n",
    "                save_model_to=None, wandb_logger=None):\n",
    "\n",
    "    # wandb.watch(model, criterion,)\n",
    "    since = time.time()\n",
    "\n",
    "    train_loss_history, valid_loss_history = [], []\n",
    "    train_acc_history, valid_acc_history = [], []\n",
    "    train_f1_history, valid_f1_history = [], []\n",
    "\n",
    "\n",
    "    # Create a temporary directory to save training checkpoints\n",
    "    with TemporaryDirectory() as tempdir:\n",
    "        best_model_params_path = os.path.join(tempdir, 'best_model_params.pt')\n",
    "\n",
    "        for epoch in range(num_epochs):\n",
    "            train_loss, train_accuracy, train_f1 = train_one_epoch(model, train_loader, optimizer, criterion, device, epoch=f'{epoch+1}/{num_epochs}')\n",
    "            val_loss, val_accuracy, val_f1 = validate_one_epoch(model, val_loader, criterion, device,)\n",
    "\n",
    "\n",
    "            print_highlighted(\n",
    "                f\"Loss: {val_loss:.4f} - Accuracy: {val_accuracy:.4f} - F1: {val_f1:.4f} - LR: {get_lr(optimizer)}\"\n",
    "            )\n",
    "\n",
    "            if not valid_loss_history or val_loss < valid_loss_history[-1]:\n",
    "                # If it's either first step (history is empty) or our weights are getting better\n",
    "                print_highlighted(\"New weights were applied.\\n\", bgcolor=Back.CYAN)\n",
    "                torch.save(model.state_dict(), best_model_params_path)\n",
    "\n",
    "            scheduler.step(val_loss)\n",
    "\n",
    "            train_loss_history.append(train_loss)\n",
    "            valid_loss_history.append(val_loss)\n",
    "            train_acc_history.append(train_accuracy)\n",
    "            valid_acc_history.append(val_accuracy)\n",
    "            train_f1_history.append(train_f1)\n",
    "            valid_f1_history.append(val_f1)\n",
    "\n",
    "            if wandb_logger is not None:\n",
    "\n",
    "                wandb_logger.log(\n",
    "                    dict(\n",
    "                        train_loss=train_loss,\n",
    "                        valid_loss=val_loss,\n",
    "                        train_accuracy=train_accuracy,\n",
    "                        val_accuracy=val_accuracy,\n",
    "                    )\n",
    "                )\n",
    "\n",
    "            del train_loss\n",
    "            del val_loss\n",
    "            gc.collect()\n",
    "            torch.cuda.empty_cache()\n",
    "\n",
    "        time_elapsed = time.time() - since\n",
    "        print_highlighted(f'Training complete in {time_elapsed // 60:.0f}m {time_elapsed % 60:.0f}s')\n",
    "\n",
    "        # load best model weights\n",
    "        model.load_state_dict(torch.load(best_model_params_path))\n",
    "\n",
    "        if save_model_to:\n",
    "            torch.save(model, save_model_to)\n",
    "            print_highlighted(f\"Model was saved to: {save_model_to}\")\n",
    "\n",
    "        history = dict(\n",
    "            train_loss=train_loss_history,\n",
    "            valid_loss=valid_loss_history,\n",
    "            train_accuracy=train_acc_history,\n",
    "            valid_accuracy=valid_acc_history,\n",
    "            train_f1_score=train_f1_history,\n",
    "            valid_f1_score=valid_f1_history,\n",
    "        )\n",
    "    return model, history"
   ],
   "metadata": {
    "ExecuteTime": {
     "start_time": "2023-08-16T12:35:53.470065Z",
     "end_time": "2023-08-16T12:35:53.552214Z"
    },
    "id": "CXrp7xrOTFDu",
    "papermill": {
     "duration": 0.045968,
     "end_time": "2023-08-14T16:24:31.173717",
     "exception": false,
     "start_time": "2023-08-14T16:24:31.127749",
     "status": "completed"
    },
    "tags": [],
    "execution": {
     "iopub.status.busy": "2023-08-15T18:49:26.233751Z",
     "iopub.execute_input": "2023-08-15T18:49:26.234109Z",
     "iopub.status.idle": "2023-08-15T18:49:26.247992Z",
     "shell.execute_reply.started": "2023-08-15T18:49:26.234079Z",
     "shell.execute_reply": "2023-08-15T18:49:26.247008Z"
    },
    "trusted": true
   },
   "execution_count": 95,
   "outputs": []
  },
  {
   "cell_type": "markdown",
   "source": [
    "# 6. Hyperparametres"
   ],
   "metadata": {
    "id": "GV7CqxbwTFDu",
    "papermill": {
     "duration": 0.029247,
     "end_time": "2023-08-14T16:24:31.232543",
     "exception": false,
     "start_time": "2023-08-14T16:24:31.203296",
     "status": "completed"
    },
    "tags": []
   }
  },
  {
   "cell_type": "code",
   "source": [
    "# criterion = nn.BCEWithLogitsLoss()\n",
    "criterion = nn.BCELoss()\n"
   ],
   "metadata": {
    "collapsed": false,
    "ExecuteTime": {
     "start_time": "2023-08-16T12:35:53.477501Z",
     "end_time": "2023-08-16T12:35:53.567838Z"
    },
    "jupyter": {
     "outputs_hidden": false
    },
    "execution": {
     "iopub.status.busy": "2023-08-15T18:49:28.360531Z",
     "iopub.execute_input": "2023-08-15T18:49:28.360883Z",
     "iopub.status.idle": "2023-08-15T18:49:28.365371Z",
     "shell.execute_reply.started": "2023-08-15T18:49:28.360855Z",
     "shell.execute_reply": "2023-08-15T18:49:28.364444Z"
    },
    "trusted": true
   },
   "execution_count": 96,
   "outputs": []
  },
  {
   "cell_type": "code",
   "source": [
    "config.learning_rate = 1e-4\n",
    "config.epochs = 3\n",
    "config.weight_decay = 1e-6\n",
    "config.min_loss_delta = 0.05"
   ],
   "metadata": {
    "ExecuteTime": {
     "start_time": "2023-08-16T12:35:53.485775Z",
     "end_time": "2023-08-16T12:35:53.567838Z"
    },
    "id": "HZAr_gPLTFDv",
    "papermill": {
     "duration": 0.04191,
     "end_time": "2023-08-14T16:24:31.822575",
     "exception": false,
     "start_time": "2023-08-14T16:24:31.780665",
     "status": "completed"
    },
    "tags": [],
    "execution": {
     "iopub.status.busy": "2023-08-15T18:57:59.950376Z",
     "iopub.execute_input": "2023-08-15T18:57:59.950827Z",
     "iopub.status.idle": "2023-08-15T18:57:59.956083Z",
     "shell.execute_reply.started": "2023-08-15T18:57:59.950782Z",
     "shell.execute_reply": "2023-08-15T18:57:59.954831Z"
    },
    "trusted": true
   },
   "execution_count": 97,
   "outputs": []
  },
  {
   "cell_type": "code",
   "source": [
    "optimizer = torch.optim.Adam(\n",
    "    perceptron_model.parameters(),\n",
    "    lr=config.learning_rate,\n",
    "    weight_decay = config.weight_decay)\n",
    "# optimizer = torch.optim.Adam(model.parameters(), lr=1e-3, weight_decay=0)\n",
    "# optimizer = torch.optim.SGD(model.parameters(), lr=config.learning_rate, momentum=0.8)\n",
    "# optimizer = torch.optim.Adam(model.parameters(), lr=1e-4)\n"
   ],
   "metadata": {
    "ExecuteTime": {
     "start_time": "2023-08-16T12:35:53.497841Z",
     "end_time": "2023-08-16T12:35:53.755340Z"
    },
    "collapsed": false,
    "id": "XcMxhj2oTFDv",
    "jupyter": {
     "outputs_hidden": false
    },
    "papermill": {
     "duration": 0.036695,
     "end_time": "2023-08-14T16:24:31.892729",
     "exception": false,
     "start_time": "2023-08-14T16:24:31.856034",
     "status": "completed"
    },
    "tags": [],
    "execution": {
     "iopub.status.busy": "2023-08-15T18:58:01.689163Z",
     "iopub.execute_input": "2023-08-15T18:58:01.690144Z",
     "iopub.status.idle": "2023-08-15T18:58:01.696632Z",
     "shell.execute_reply.started": "2023-08-15T18:58:01.690083Z",
     "shell.execute_reply": "2023-08-15T18:58:01.694909Z"
    },
    "trusted": true
   },
   "execution_count": 98,
   "outputs": []
  },
  {
   "cell_type": "code",
   "source": [
    "scheduler = optim.lr_scheduler.ReduceLROnPlateau(\n",
    "    optimizer, 'min', patience = 5, factor=0.5, \n",
    "    min_lr=config.min_lr , verbose=False,\n",
    "    threshold = config.min_loss_delta\n",
    ")"
   ],
   "metadata": {
    "ExecuteTime": {
     "start_time": "2023-08-16T12:35:53.510528Z",
     "end_time": "2023-08-16T12:35:53.786617Z"
    },
    "collapsed": false,
    "id": "mb4RgCFlTFDw",
    "jupyter": {
     "outputs_hidden": false
    },
    "papermill": {
     "duration": 0.048032,
     "end_time": "2023-08-14T16:24:32.072376",
     "exception": false,
     "start_time": "2023-08-14T16:24:32.024344",
     "status": "completed"
    },
    "tags": [],
    "execution": {
     "iopub.status.busy": "2023-08-15T18:58:01.875780Z",
     "iopub.execute_input": "2023-08-15T18:58:01.876529Z",
     "iopub.status.idle": "2023-08-15T18:58:01.883587Z",
     "shell.execute_reply.started": "2023-08-15T18:58:01.876483Z",
     "shell.execute_reply": "2023-08-15T18:58:01.882072Z"
    },
    "trusted": true
   },
   "execution_count": 99,
   "outputs": []
  },
  {
   "cell_type": "code",
   "source": [
    "def get_lr(optimizer):\n",
    "    \"\"\"\n",
    "    For some schedulers we don't have `get_last_lr()` method.\n",
    "    So, we will get last lr ourselves.\n",
    "    \"\"\"\n",
    "    return list(\n",
    "        [group['lr'] for group in optimizer.param_groups]\n",
    "    )"
   ],
   "metadata": {
    "ExecuteTime": {
     "start_time": "2023-08-16T12:35:53.519946Z",
     "end_time": "2023-08-16T12:35:53.786617Z"
    },
    "papermill": {
     "duration": 0.038065,
     "end_time": "2023-08-14T16:24:32.140787",
     "exception": false,
     "start_time": "2023-08-14T16:24:32.102722",
     "status": "completed"
    },
    "tags": [],
    "execution": {
     "iopub.status.busy": "2023-08-15T18:58:02.396237Z",
     "iopub.execute_input": "2023-08-15T18:58:02.397001Z",
     "iopub.status.idle": "2023-08-15T18:58:02.402452Z",
     "shell.execute_reply.started": "2023-08-15T18:58:02.396966Z",
     "shell.execute_reply": "2023-08-15T18:58:02.401322Z"
    },
    "trusted": true
   },
   "execution_count": 100,
   "outputs": []
  },
  {
   "cell_type": "code",
   "source": [
    "get_lr(optimizer)"
   ],
   "metadata": {
    "ExecuteTime": {
     "start_time": "2023-08-16T12:35:53.527392Z",
     "end_time": "2023-08-16T12:35:53.786617Z"
    },
    "papermill": {
     "duration": 0.038597,
     "end_time": "2023-08-14T16:24:32.208517",
     "exception": false,
     "start_time": "2023-08-14T16:24:32.169920",
     "status": "completed"
    },
    "tags": [],
    "execution": {
     "iopub.status.busy": "2023-08-15T18:58:03.417034Z",
     "iopub.execute_input": "2023-08-15T18:58:03.417451Z",
     "iopub.status.idle": "2023-08-15T18:58:03.424879Z",
     "shell.execute_reply.started": "2023-08-15T18:58:03.417415Z",
     "shell.execute_reply": "2023-08-15T18:58:03.423763Z"
    },
    "trusted": true
   },
   "execution_count": 101,
   "outputs": [
    {
     "data": {
      "text/plain": "[0.0001]"
     },
     "execution_count": 101,
     "metadata": {},
     "output_type": "execute_result"
    }
   ]
  },
  {
   "cell_type": "markdown",
   "source": [
    "# 7. Run the training process"
   ],
   "metadata": {
    "id": "CKuqXRwrTFDw",
    "papermill": {
     "duration": 0.029368,
     "end_time": "2023-08-14T16:24:32.266966",
     "exception": false,
     "start_time": "2023-08-14T16:24:32.237598",
     "status": "completed"
    },
    "tags": []
   }
  },
  {
   "cell_type": "code",
   "source": [
    "model, history = train_model(\n",
    "    model=perceptron_model,\n",
    "    train_loader=train_dataloader,\n",
    "    val_loader=test_dataloader,\n",
    "    criterion=criterion,\n",
    "    optimizer=optimizer,\n",
    "    num_epochs=config.epochs,\n",
    "    device=device,\n",
    "    scheduler=scheduler,\n",
    "    save_model_to=config.save_model_to,\n",
    "    wandb_logger=wandb_run\n",
    " )"
   ],
   "metadata": {
    "id": "9WxsyvplTFDw",
    "outputId": "de053f41-a9bb-49b4-ceec-4245ce71efe0",
    "papermill": {
     "duration": 3873.747084,
     "end_time": "2023-08-14T17:29:06.043157",
     "exception": false,
     "start_time": "2023-08-14T16:24:32.296073",
     "status": "completed"
    },
    "tags": [],
    "ExecuteTime": {
     "start_time": "2023-08-16T12:36:39.389861Z",
     "end_time": "2023-08-16T12:36:41.685419Z"
    },
    "execution": {
     "iopub.status.busy": "2023-08-15T18:58:07.259665Z",
     "iopub.execute_input": "2023-08-15T18:58:07.260062Z",
     "iopub.status.idle": "2023-08-15T18:59:14.172755Z",
     "shell.execute_reply.started": "2023-08-15T18:58:07.260031Z",
     "shell.execute_reply": "2023-08-15T18:59:14.171379Z"
    },
    "trusted": true
   },
   "execution_count": 105,
   "outputs": [
    {
     "name": "stderr",
     "output_type": "stream",
     "text": [
      "Epoch: 1/3: 100%|██████████| 2/2 [00:00<00:00, 15.23batch/s, acc=0.502, loss=0.675]\n",
      "Validation: 100%|██████████| 1/1 [00:00<00:00, 63.96batch/s, acc=0.733, loss=0.63]\n"
     ]
    },
    {
     "name": "stdout",
     "output_type": "stream",
     "text": [
      "\u001B[43mLoss: 0.6302 - Accuracy: 0.7333 - F1: 0.4231 - LR: [0.0001]\u001B[0m\n",
      "\u001B[46mNew weights were applied.\n",
      "\u001B[0m\n"
     ]
    },
    {
     "name": "stderr",
     "output_type": "stream",
     "text": [
      "Epoch: 2/3: 100%|██████████| 2/2 [00:00<00:00, 14.80batch/s, acc=0.498, loss=0.67]\n",
      "Validation: 100%|██████████| 1/1 [00:00<00:00, 76.99batch/s, acc=0.733, loss=0.605]\n"
     ]
    },
    {
     "name": "stdout",
     "output_type": "stream",
     "text": [
      "\u001B[43mLoss: 0.6054 - Accuracy: 0.7333 - F1: 0.4231 - LR: [0.0001]\u001B[0m\n",
      "\u001B[46mNew weights were applied.\n",
      "\u001B[0m\n"
     ]
    },
    {
     "name": "stderr",
     "output_type": "stream",
     "text": [
      "Epoch: 3/3: 100%|██████████| 2/2 [00:00<00:00, 13.72batch/s, acc=0.502, loss=0.669]\n",
      "Validation: 100%|██████████| 1/1 [00:00<?, ?batch/s, acc=0.733, loss=0.606]\n"
     ]
    },
    {
     "name": "stdout",
     "output_type": "stream",
     "text": [
      "\u001B[43mLoss: 0.6059 - Accuracy: 0.7333 - F1: 0.4231 - LR: [0.0001]\u001B[0m\n",
      "\u001B[43mTraining complete in 0m 2s\u001B[0m\n",
      "\u001B[43mModel was saved to: saved_instances/SiamesePerceptron.pth\u001B[0m\n"
     ]
    }
   ]
  },
  {
   "cell_type": "code",
   "source": [
    "plot_stats(\n",
    "    **history,\n",
    "    title=f\"Model {config.model_name}\"\n",
    ")"
   ],
   "metadata": {
    "id": "7zTLOYTWTFDx",
    "papermill": {
     "duration": 1.874642,
     "end_time": "2023-08-14T17:29:08.631773",
     "exception": false,
     "start_time": "2023-08-14T17:29:06.757131",
     "status": "completed"
    },
    "tags": [],
    "execution": {
     "iopub.status.busy": "2023-08-15T18:59:14.175355Z",
     "iopub.execute_input": "2023-08-15T18:59:14.175791Z",
     "iopub.status.idle": "2023-08-15T18:59:15.338468Z",
     "shell.execute_reply.started": "2023-08-15T18:59:14.175753Z",
     "shell.execute_reply": "2023-08-15T18:59:15.337365Z"
    },
    "trusted": true,
    "ExecuteTime": {
     "start_time": "2023-08-16T12:36:46.356181Z",
     "end_time": "2023-08-16T12:36:47.182049Z"
    }
   },
   "execution_count": 106,
   "outputs": [
    {
     "data": {
      "text/plain": "<Figure size 1600x800 with 1 Axes>",
      "image/png": "[encoded data removed]"
     },
     "metadata": {},
     "output_type": "display_data"
    },
    {
     "data": {
      "text/plain": "<Figure size 1600x800 with 1 Axes>",
      "image/png": "[encoded data removed]"
     },
     "metadata": {},
     "output_type": "display_data"
    },
    {
     "data": {
      "text/plain": "<Figure size 1600x800 with 1 Axes>",
      "image/png": "[encoded data removed]"
     },
     "metadata": {},
     "output_type": "display_data"
    }
   ]
  },
  {
   "cell_type": "markdown",
   "source": [
    "# 8. Result evaluation"
   ],
   "metadata": {
    "id": "kJcjndrnTFDx",
    "papermill": {
     "duration": 0.720815,
     "end_time": "2023-08-14T17:29:11.613678",
     "exception": false,
     "start_time": "2023-08-14T17:29:10.892863",
     "status": "completed"
    },
    "tags": []
   }
  },
  {
   "cell_type": "markdown",
   "source": [
    "Interactive tensorboard are available on wandb:"
   ],
   "metadata": {
    "collapsed": false
   }
  },
  {
   "cell_type": "code",
   "execution_count": 114,
   "outputs": [
    {
     "data": {
      "text/plain": "'https://wandb.ai/remainedmind/binary-classification-project/runs/ddi8f5bc'"
     },
     "execution_count": 114,
     "metadata": {},
     "output_type": "execute_result"
    }
   ],
   "source": [
    "wandb_run.url"
   ],
   "metadata": {
    "collapsed": false,
    "ExecuteTime": {
     "start_time": "2023-08-16T12:38:48.994020Z",
     "end_time": "2023-08-16T12:38:49.027399Z"
    }
   }
  },
  {
   "cell_type": "code",
   "execution_count": null,
   "outputs": [],
   "source": [],
   "metadata": {
    "collapsed": false
   }
  }
 ]
}
