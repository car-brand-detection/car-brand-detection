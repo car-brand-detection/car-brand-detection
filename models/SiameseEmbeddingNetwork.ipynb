{
 "metadata": {
  "kernelspec": {
   "name": "yolo_torch",
   "language": "python",
   "display_name": "yolo_torch"
  },
  "language_info": {
   "codemirror_mode": {
    "name": "ipython",
    "version": 3
   },
   "file_extension": ".py",
   "mimetype": "text/x-python",
   "name": "python",
   "nbconvert_exporter": "python",
   "pygments_lexer": "ipython3",
   "version": "3.10.12"
  },
  "papermill": {
   "default_parameters": {},
   "duration": 3960.405937,
   "end_time": "2023-08-14T17:29:54.480893",
   "environment_variables": {},
   "exception": null,
   "input_path": "__notebook__.ipynb",
   "output_path": "__notebook__.ipynb",
   "parameters": {},
   "start_time": "2023-08-14T16:23:54.074956",
   "version": "2.4.0"
  }
 },
 "nbformat_minor": 5,
 "nbformat": 4,
 "cells": [
  {
   "cell_type": "markdown",
   "source": [
    "# Image Classification with ArcFace Loss"
   ],
   "metadata": {
    "papermill": {
     "duration": 0.028248,
     "end_time": "2023-08-14T16:24:04.236116",
     "exception": false,
     "start_time": "2023-08-14T16:24:04.207868",
     "status": "completed"
    },
    "tags": []
   }
  },
  {
   "cell_type": "markdown",
   "source": [
    "In this notebook we will train SOTA Computer Vision models (such as MobileNet, EfficientNet) to classify car brands. We will ArcFace Loss function for this task, which is also state-of-art."
   ],
   "metadata": {
    "papermill": {
     "duration": 0.0269,
     "end_time": "2023-08-14T16:24:04.291517",
     "exception": false,
     "start_time": "2023-08-14T16:24:04.264617",
     "status": "completed"
    },
    "tags": []
   }
  },
  {
   "cell_type": "markdown",
   "source": [
    "# 1. Set up"
   ],
   "metadata": {
    "id": "DRrvM2BPUG3T",
    "papermill": {
     "duration": 0.02718,
     "end_time": "2023-08-14T16:24:04.346391",
     "exception": false,
     "start_time": "2023-08-14T16:24:04.319211",
     "status": "completed"
    },
    "tags": []
   }
  },
  {
   "cell_type": "markdown",
   "source": [
    "## 1. Packages and requirements"
   ],
   "metadata": {
    "id": "G-cGfk5CTFDT",
    "papermill": {
     "duration": 0.026993,
     "end_time": "2023-08-14T16:24:04.400603",
     "exception": false,
     "start_time": "2023-08-14T16:24:04.373610",
     "status": "completed"
    },
    "tags": []
   }
  },
  {
   "cell_type": "code",
   "source": [
    "# Major builtin libraries\n",
    "import os\n",
    "import gc\n",
    "# import cv2\n",
    "import math\n",
    "import time\n",
    "import random\n",
    "import typing as t\n",
    "from copy import deepcopy\n",
    "# from collections import defaultdict"
   ],
   "metadata": {
    "ExecuteTime": {
     "start_time": "2023-08-15T11:26:12.655329Z",
     "end_time": "2023-08-15T11:26:13.840683Z"
    },
    "execution": {
     "iopub.execute_input": "2023-08-14T16:24:04.458379Z",
     "iopub.status.busy": "2023-08-14T16:24:04.457906Z",
     "iopub.status.idle": "2023-08-14T16:24:04.470799Z",
     "shell.execute_reply": "2023-08-14T16:24:04.469899Z"
    },
    "id": "YJ1bPQE1TFDW",
    "papermill": {
     "duration": 0.044843,
     "end_time": "2023-08-14T16:24:04.472823",
     "exception": false,
     "start_time": "2023-08-14T16:24:04.427980",
     "status": "completed"
    },
    "tags": []
   },
   "execution_count": null,
   "outputs": []
  },
  {
   "cell_type": "code",
   "source": [
    "# To work with Google Collab\n",
    "# from google.colab import drive\n",
    "# drive.mount('/content/drive/', force_remount=True)"
   ],
   "metadata": {
    "ExecuteTime": {
     "start_time": "2023-08-15T11:26:12.655329Z",
     "end_time": "2023-08-15T11:26:13.840683Z"
    },
    "execution": {
     "iopub.execute_input": "2023-08-14T16:24:04.529490Z",
     "iopub.status.busy": "2023-08-14T16:24:04.529097Z",
     "iopub.status.idle": "2023-08-14T16:24:04.533339Z",
     "shell.execute_reply": "2023-08-14T16:24:04.532470Z"
    },
    "id": "9byYPbwhTFDW",
    "outputId": "f21315f6-d034-4060-f927-1dfcc117d99b",
    "papermill": {
     "duration": 0.034871,
     "end_time": "2023-08-14T16:24:04.535286",
     "exception": false,
     "start_time": "2023-08-14T16:24:04.500415",
     "status": "completed"
    },
    "tags": []
   },
   "execution_count": null,
   "outputs": []
  },
  {
   "cell_type": "code",
   "source": [
    "import warnings  # If you want to disable warnings\n",
    "warnings.filterwarnings(\"ignore\")\n",
    "\n",
    "# For descriptive error messages\n",
    "os.environ['CUDA_LAUNCH_BLOCKING'] = \"1\""
   ],
   "metadata": {
    "ExecuteTime": {
     "start_time": "2023-08-15T11:26:12.667251Z",
     "end_time": "2023-08-15T11:26:13.840683Z"
    },
    "execution": {
     "iopub.execute_input": "2023-08-14T16:24:04.591841Z",
     "iopub.status.busy": "2023-08-14T16:24:04.590916Z",
     "iopub.status.idle": "2023-08-14T16:24:04.596196Z",
     "shell.execute_reply": "2023-08-14T16:24:04.595332Z"
    },
    "id": "BwyVeWsUTFDX",
    "papermill": {
     "duration": 0.035469,
     "end_time": "2023-08-14T16:24:04.598152",
     "exception": false,
     "start_time": "2023-08-14T16:24:04.562683",
     "status": "completed"
    },
    "tags": []
   },
   "execution_count": null,
   "outputs": []
  },
  {
   "cell_type": "code",
   "source": [
    "# Classic packages for data manipulation and visualization\n",
    "import numpy as np\n",
    "import pandas as pd\n",
    "import matplotlib.pyplot as plt"
   ],
   "metadata": {
    "ExecuteTime": {
     "start_time": "2023-08-15T11:26:12.678795Z",
     "end_time": "2023-08-15T11:26:13.840683Z"
    },
    "execution": {
     "iopub.execute_input": "2023-08-14T16:24:04.653451Z",
     "iopub.status.busy": "2023-08-14T16:24:04.653166Z",
     "iopub.status.idle": "2023-08-14T16:24:04.658784Z",
     "shell.execute_reply": "2023-08-14T16:24:04.657935Z"
    },
    "id": "AGRBRJORTFDX",
    "papermill": {
     "duration": 0.035178,
     "end_time": "2023-08-14T16:24:04.660718",
     "exception": false,
     "start_time": "2023-08-14T16:24:04.625540",
     "status": "completed"
    },
    "tags": []
   },
   "execution_count": null,
   "outputs": []
  },
  {
   "cell_type": "code",
   "source": [
    "# Basic PyTorch\n",
    "import torch\n",
    "import torch.nn as nn\n",
    "import torch.optim as optim  # Optimization algorithms and dynamic learning rate adjusting\n",
    "import torch.nn.functional as F\n",
    "# from torch.nn.modules.loss import _Loss  # For writing a custom Loss function\n",
    "from torch.utils.data import DataLoader, Dataset  # For custom data presentation"
   ],
   "metadata": {
    "ExecuteTime": {
     "start_time": "2023-08-15T11:26:12.678795Z",
     "end_time": "2023-08-15T11:26:17.559987Z"
    },
    "execution": {
     "iopub.execute_input": "2023-08-14T16:24:04.717041Z",
     "iopub.status.busy": "2023-08-14T16:24:04.715962Z",
     "iopub.status.idle": "2023-08-14T16:24:08.505639Z",
     "shell.execute_reply": "2023-08-14T16:24:08.504586Z"
    },
    "id": "FXSN-XzxTFDX",
    "papermill": {
     "duration": 3.82041,
     "end_time": "2023-08-14T16:24:08.508190",
     "exception": false,
     "start_time": "2023-08-14T16:24:04.687780",
     "status": "completed"
    },
    "tags": []
   },
   "execution_count": null,
   "outputs": []
  },
  {
   "cell_type": "code",
   "source": [
    "# Utils\n",
    "import joblib  # Pipelining, pickling (dump/load), parallel processing\n",
    "from tqdm import tqdm  # Progress bar for training process\n",
    "from tempfile import TemporaryDirectory\n",
    "\n",
    "# Classic ML tools\n",
    "from sklearn.preprocessing import LabelEncoder\n",
    "from sklearn.model_selection import StratifiedKFold  # Cross-Validation"
   ],
   "metadata": {
    "ExecuteTime": {
     "start_time": "2023-08-15T11:26:17.559987Z",
     "end_time": "2023-08-15T11:26:17.861681Z"
    },
    "execution": {
     "iopub.execute_input": "2023-08-14T16:24:08.568306Z",
     "iopub.status.busy": "2023-08-14T16:24:08.566310Z",
     "iopub.status.idle": "2023-08-14T16:24:09.515023Z",
     "shell.execute_reply": "2023-08-14T16:24:09.513961Z"
    },
    "id": "7QjRLiOzTFDY",
    "papermill": {
     "duration": 0.980731,
     "end_time": "2023-08-14T16:24:09.517905",
     "exception": false,
     "start_time": "2023-08-14T16:24:08.537174",
     "status": "completed"
    },
    "tags": []
   },
   "execution_count": null,
   "outputs": []
  },
  {
   "cell_type": "code",
   "source": [
    "# Data dimensionality reduction\n",
    "from sklearn.manifold import TSNE  # high-dimensional data visualization\n",
    "from sklearn.decomposition import PCA  # More effective dimensionality reduction method\n",
    "\n",
    "# kNN classification\n",
    "from sklearn.neighbors import KNeighborsClassifier\n",
    "\n",
    "# Clustering methods\n",
    "from sklearn.cluster import KMeans\n",
    "from sklearn.cluster import DBSCAN"
   ],
   "metadata": {
    "ExecuteTime": {
     "start_time": "2023-08-15T11:26:17.861681Z",
     "end_time": "2023-08-15T11:26:18.245162Z"
    },
    "collapsed": false,
    "execution": {
     "iopub.execute_input": "2023-08-14T16:24:09.578212Z",
     "iopub.status.busy": "2023-08-14T16:24:09.577875Z",
     "iopub.status.idle": "2023-08-14T16:24:09.885840Z",
     "shell.execute_reply": "2023-08-14T16:24:09.884812Z"
    },
    "jupyter": {
     "outputs_hidden": false
    },
    "papermill": {
     "duration": 0.340413,
     "end_time": "2023-08-14T16:24:09.888321",
     "exception": false,
     "start_time": "2023-08-14T16:24:09.547908",
     "status": "completed"
    },
    "tags": []
   },
   "execution_count": null,
   "outputs": []
  },
  {
   "cell_type": "code",
   "source": [
    "# !pip install torchmetrics colorama"
   ],
   "metadata": {
    "ExecuteTime": {
     "start_time": "2023-08-15T11:26:18.245162Z",
     "end_time": "2023-08-15T11:26:18.344745Z"
    },
    "execution": {
     "iopub.execute_input": "2023-08-14T16:24:09.947826Z",
     "iopub.status.busy": "2023-08-14T16:24:09.946838Z",
     "iopub.status.idle": "2023-08-14T16:24:09.951311Z",
     "shell.execute_reply": "2023-08-14T16:24:09.950440Z"
    },
    "id": "-iaQkd7xUuPW",
    "papermill": {
     "duration": 0.0374,
     "end_time": "2023-08-14T16:24:09.953398",
     "exception": false,
     "start_time": "2023-08-14T16:24:09.915998",
     "status": "completed"
    },
    "tags": []
   },
   "execution_count": null,
   "outputs": []
  },
  {
   "cell_type": "code",
   "source": [
    "# ML Metrics\n",
    "from sklearn.metrics import accuracy_score\n",
    "from sklearn.metrics import classification_report\n",
    "from torchmetrics.classification import MulticlassF1Score # F1 metric for multiclass"
   ],
   "metadata": {
    "ExecuteTime": {
     "start_time": "2023-08-15T11:26:18.329061Z",
     "end_time": "2023-08-15T11:26:20.030460Z"
    },
    "execution": {
     "iopub.execute_input": "2023-08-14T16:24:10.009135Z",
     "iopub.status.busy": "2023-08-14T16:24:10.008847Z",
     "iopub.status.idle": "2023-08-14T16:24:20.156004Z",
     "shell.execute_reply": "2023-08-14T16:24:20.155003Z"
    },
    "id": "BuY4s3bsTFDZ",
    "papermill": {
     "duration": 10.177643,
     "end_time": "2023-08-14T16:24:20.158465",
     "exception": false,
     "start_time": "2023-08-14T16:24:09.980822",
     "status": "completed"
    },
    "tags": []
   },
   "execution_count": null,
   "outputs": []
  },
  {
   "cell_type": "code",
   "source": [
    "# Torch Computer Vision tools for images processing\n",
    "from torchvision.io import read_image\n",
    "from torchvision.transforms.functional import to_pil_image, to_grayscale, to_tensor\n",
    "from torchvision import models  # Pretrained models"
   ],
   "metadata": {
    "ExecuteTime": {
     "start_time": "2023-08-15T11:26:20.030460Z",
     "end_time": "2023-08-15T11:26:20.044417Z"
    },
    "execution": {
     "iopub.execute_input": "2023-08-14T16:24:20.218213Z",
     "iopub.status.busy": "2023-08-14T16:24:20.217860Z",
     "iopub.status.idle": "2023-08-14T16:24:20.222799Z",
     "shell.execute_reply": "2023-08-14T16:24:20.221890Z"
    },
    "id": "FEKtt6X5TFDZ",
    "papermill": {
     "duration": 0.03877,
     "end_time": "2023-08-14T16:24:20.224798",
     "exception": false,
     "start_time": "2023-08-14T16:24:20.186028",
     "status": "completed"
    },
    "tags": []
   },
   "execution_count": null,
   "outputs": []
  },
  {
   "cell_type": "code",
   "source": [
    "# Albumentations is an OS library for augmentations\n",
    "import albumentations as A\n",
    "from albumentations.pytorch import ToTensorV2\n",
    "# import torchvision.transforms as T  # We can use torch augmentations instead"
   ],
   "metadata": {
    "ExecuteTime": {
     "start_time": "2023-08-15T11:26:20.044417Z",
     "end_time": "2023-08-15T11:26:20.817048Z"
    },
    "execution": {
     "iopub.execute_input": "2023-08-14T16:24:20.281300Z",
     "iopub.status.busy": "2023-08-14T16:24:20.280288Z",
     "iopub.status.idle": "2023-08-14T16:24:21.180336Z",
     "shell.execute_reply": "2023-08-14T16:24:21.179378Z"
    },
    "id": "90C8yH1dTFDa",
    "papermill": {
     "duration": 0.930793,
     "end_time": "2023-08-14T16:24:21.182870",
     "exception": false,
     "start_time": "2023-08-14T16:24:20.252077",
     "status": "completed"
    },
    "tags": []
   },
   "execution_count": null,
   "outputs": []
  },
  {
   "cell_type": "code",
   "source": [],
   "metadata": {
    "ExecuteTime": {
     "start_time": "2023-08-15T11:26:20.832743Z",
     "end_time": "2023-08-15T11:26:20.866008Z"
    },
    "id": "4QwB35yVTFDa",
    "papermill": {
     "duration": 0.026766,
     "end_time": "2023-08-14T16:24:21.236825",
     "exception": false,
     "start_time": "2023-08-14T16:24:21.210059",
     "status": "completed"
    },
    "tags": []
   },
   "execution_count": null,
   "outputs": []
  },
  {
   "cell_type": "code",
   "source": [
    "# Output text colorizing\n",
    "from colorama import Back, Style\n",
    "\n",
    "def print_highlighted(text: str, bgcolor=Back.YELLOW) -> None:\n",
    "    \"\"\"\n",
    "    Function to print a text with colored background.\n",
    "    \"\"\"\n",
    "    print(bgcolor + text + Style.RESET_ALL)"
   ],
   "metadata": {
    "ExecuteTime": {
     "start_time": "2023-08-15T11:26:20.847424Z",
     "end_time": "2023-08-15T11:26:20.866008Z"
    },
    "collapsed": false,
    "execution": {
     "iopub.execute_input": "2023-08-14T16:24:21.293292Z",
     "iopub.status.busy": "2023-08-14T16:24:21.292268Z",
     "iopub.status.idle": "2023-08-14T16:24:21.298269Z",
     "shell.execute_reply": "2023-08-14T16:24:21.297160Z"
    },
    "id": "pF1AWOXTTFDa",
    "jupyter": {
     "outputs_hidden": false
    },
    "papermill": {
     "duration": 0.037099,
     "end_time": "2023-08-14T16:24:21.300878",
     "exception": false,
     "start_time": "2023-08-14T16:24:21.263779",
     "status": "completed"
    },
    "tags": []
   },
   "execution_count": null,
   "outputs": []
  },
  {
   "cell_type": "code",
   "source": [
    "# import wandb # MLOps platform to simplify and speed up the process of building ML models"
   ],
   "metadata": {
    "ExecuteTime": {
     "start_time": "2023-08-15T11:26:20.866008Z",
     "end_time": "2023-08-15T11:26:20.900833Z"
    },
    "collapsed": false,
    "execution": {
     "iopub.execute_input": "2023-08-14T16:24:21.357116Z",
     "iopub.status.busy": "2023-08-14T16:24:21.356776Z",
     "iopub.status.idle": "2023-08-14T16:24:21.361077Z",
     "shell.execute_reply": "2023-08-14T16:24:21.360145Z"
    },
    "id": "WHnMHaX_TFDb",
    "jupyter": {
     "outputs_hidden": false
    },
    "papermill": {
     "duration": 0.034479,
     "end_time": "2023-08-14T16:24:21.363117",
     "exception": false,
     "start_time": "2023-08-14T16:24:21.328638",
     "status": "completed"
    },
    "tags": []
   },
   "execution_count": null,
   "outputs": []
  },
  {
   "cell_type": "code",
   "source": [
    "# wandb.login() # We log in via pop-up,\n",
    "# wandb.login(key=api_key)  # but you can also log in manually with function args"
   ],
   "metadata": {
    "ExecuteTime": {
     "start_time": "2023-08-15T11:26:20.880893Z",
     "end_time": "2023-08-15T11:26:21.023472Z"
    },
    "collapsed": false,
    "execution": {
     "iopub.execute_input": "2023-08-14T16:24:21.419443Z",
     "iopub.status.busy": "2023-08-14T16:24:21.418412Z",
     "iopub.status.idle": "2023-08-14T16:24:21.423108Z",
     "shell.execute_reply": "2023-08-14T16:24:21.422216Z"
    },
    "id": "1zarBgpbTFDb",
    "jupyter": {
     "outputs_hidden": false
    },
    "papermill": {
     "duration": 0.034968,
     "end_time": "2023-08-14T16:24:21.425112",
     "exception": false,
     "start_time": "2023-08-14T16:24:21.390144",
     "status": "completed"
    },
    "tags": []
   },
   "execution_count": null,
   "outputs": []
  },
  {
   "cell_type": "markdown",
   "source": [
    "## 2. Configuration"
   ],
   "metadata": {
    "id": "YuquAHEkTFDb",
    "papermill": {
     "duration": 0.026802,
     "end_time": "2023-08-14T16:24:21.479509",
     "exception": false,
     "start_time": "2023-08-14T16:24:21.452707",
     "status": "completed"
    },
    "tags": []
   }
  },
  {
   "cell_type": "code",
   "source": [
    "CONFIG = {\n",
    "    \"seed\": 2306,\n",
    "    \"epochs\": 20,\n",
    "    \"image_dimension\": 256,  # Depends on pretrained model used\n",
    "    \"model_name\": \"efficientnet_b0\",  # Pretrained model we will use\n",
    "    \"embedding_size\": 512,  # Embedding output size\n",
    "    \"train_batch_size\": 64,\n",
    "    \"val_batch_size\": 128,\n",
    "    \"learning_rate\": 1e-3,\n",
    "    \"min_lr\": 1e-8,\n",
    "    \"min_loss_delta\": 1e-7, # To stop training on plateau\n",
    "    \"weight_decay\": 1e-7,\n",
    "}"
   ],
   "metadata": {
    "ExecuteTime": {
     "start_time": "2023-08-15T11:26:20.906949Z",
     "end_time": "2023-08-15T11:26:21.023472Z"
    },
    "execution": {
     "iopub.execute_input": "2023-08-14T16:24:21.536885Z",
     "iopub.status.busy": "2023-08-14T16:24:21.535989Z",
     "iopub.status.idle": "2023-08-14T16:24:21.541507Z",
     "shell.execute_reply": "2023-08-14T16:24:21.540570Z"
    },
    "id": "JC-SbC9zTFDb",
    "papermill": {
     "duration": 0.036674,
     "end_time": "2023-08-14T16:24:21.543459",
     "exception": false,
     "start_time": "2023-08-14T16:24:21.506785",
     "status": "completed"
    },
    "tags": []
   },
   "execution_count": null,
   "outputs": []
  },
  {
   "cell_type": "code",
   "source": [
    "class Config:\n",
    "    \"\"\"\n",
    "    Class to simplify access to Config: not dict but object with attributes\n",
    "    \"\"\"\n",
    "    def __init__(self, config_dict):\n",
    "        for key, value in config_dict.items():\n",
    "            setattr(self, key, value)"
   ],
   "metadata": {
    "ExecuteTime": {
     "start_time": "2023-08-15T11:26:20.911594Z",
     "end_time": "2023-08-15T11:26:21.032426Z"
    },
    "collapsed": false,
    "execution": {
     "iopub.execute_input": "2023-08-14T16:24:21.601087Z",
     "iopub.status.busy": "2023-08-14T16:24:21.599959Z",
     "iopub.status.idle": "2023-08-14T16:24:21.605955Z",
     "shell.execute_reply": "2023-08-14T16:24:21.605017Z"
    },
    "id": "TzAQ9KIRTFDb",
    "jupyter": {
     "outputs_hidden": false
    },
    "papermill": {
     "duration": 0.03692,
     "end_time": "2023-08-14T16:24:21.608045",
     "exception": false,
     "start_time": "2023-08-14T16:24:21.571125",
     "status": "completed"
    },
    "tags": []
   },
   "execution_count": null,
   "outputs": []
  },
  {
   "cell_type": "code",
   "source": [
    "config = Config(config_dict=CONFIG)\n",
    "del CONFIG"
   ],
   "metadata": {
    "ExecuteTime": {
     "start_time": "2023-08-15T11:26:20.924534Z",
     "end_time": "2023-08-15T11:26:21.032426Z"
    },
    "collapsed": false,
    "execution": {
     "iopub.execute_input": "2023-08-14T16:24:21.664457Z",
     "iopub.status.busy": "2023-08-14T16:24:21.663761Z",
     "iopub.status.idle": "2023-08-14T16:24:21.668360Z",
     "shell.execute_reply": "2023-08-14T16:24:21.667428Z"
    },
    "id": "wivQs3vJTFDb",
    "jupyter": {
     "outputs_hidden": false
    },
    "papermill": {
     "duration": 0.035139,
     "end_time": "2023-08-14T16:24:21.670496",
     "exception": false,
     "start_time": "2023-08-14T16:24:21.635357",
     "status": "completed"
    },
    "tags": []
   },
   "execution_count": null,
   "outputs": []
  },
  {
   "cell_type": "code",
   "source": [
    "# Work example\n",
    "config.seed"
   ],
   "metadata": {
    "ExecuteTime": {
     "start_time": "2023-08-15T11:26:20.933389Z",
     "end_time": "2023-08-15T11:26:21.032426Z"
    },
    "collapsed": false,
    "execution": {
     "iopub.execute_input": "2023-08-14T16:24:21.727057Z",
     "iopub.status.busy": "2023-08-14T16:24:21.726709Z",
     "iopub.status.idle": "2023-08-14T16:24:21.733329Z",
     "shell.execute_reply": "2023-08-14T16:24:21.732472Z"
    },
    "id": "ZZO47D8bTFDc",
    "jupyter": {
     "outputs_hidden": false
    },
    "outputId": "38bf95ae-905a-43be-f188-2c2c29dbb2f1",
    "papermill": {
     "duration": 0.038088,
     "end_time": "2023-08-14T16:24:21.735810",
     "exception": false,
     "start_time": "2023-08-14T16:24:21.697722",
     "status": "completed"
    },
    "tags": []
   },
   "execution_count": null,
   "outputs": []
  },
  {
   "cell_type": "markdown",
   "source": [
    "Set Seed for Reproducibility"
   ],
   "metadata": {
    "id": "kotMeU-OTFDc",
    "papermill": {
     "duration": 0.027693,
     "end_time": "2023-08-14T16:24:21.791364",
     "exception": false,
     "start_time": "2023-08-14T16:24:21.763671",
     "status": "completed"
    },
    "tags": []
   }
  },
  {
   "cell_type": "code",
   "source": [
    "def set_seed(seed=42):\n",
    "    \"\"\"\n",
    "    Sets the seed of the entire notebook so results are the same every time we run.\n",
    "    This is for REPRODUCIBILITY.\n",
    "    \"\"\"\n",
    "    np.random.seed(seed)\n",
    "    torch.manual_seed(seed)\n",
    "\n",
    "    # When running on the CuDNN backend, two further options must be set\n",
    "    # torch.backends.cudnn.deterministic = True\n",
    "    # torch.backends.cudnn.benchmark = False  # When False, this option makes CUDA reproducible, BUT the performance might suffer\n",
    "\n",
    "    # Set a fixed value for the hash seed\n",
    "    os.environ['PYTHONHASHSEED'] = str(seed)\n",
    "\n",
    "set_seed(seed=config.seed)"
   ],
   "metadata": {
    "ExecuteTime": {
     "start_time": "2023-08-15T11:26:20.953091Z",
     "end_time": "2023-08-15T11:26:21.070260Z"
    },
    "execution": {
     "iopub.execute_input": "2023-08-14T16:24:21.857387Z",
     "iopub.status.busy": "2023-08-14T16:24:21.857013Z",
     "iopub.status.idle": "2023-08-14T16:24:21.867395Z",
     "shell.execute_reply": "2023-08-14T16:24:21.866426Z"
    },
    "id": "RDIHP75uTFDc",
    "papermill": {
     "duration": 0.045937,
     "end_time": "2023-08-14T16:24:21.869710",
     "exception": false,
     "start_time": "2023-08-14T16:24:21.823773",
     "status": "completed"
    },
    "tags": []
   },
   "execution_count": null,
   "outputs": []
  },
  {
   "cell_type": "markdown",
   "source": [
    "# 2. Data"
   ],
   "metadata": {
    "id": "UoHh0H1FVHnT",
    "papermill": {
     "duration": 0.027822,
     "end_time": "2023-08-14T16:24:21.925361",
     "exception": false,
     "start_time": "2023-08-14T16:24:21.897539",
     "status": "completed"
    },
    "tags": []
   }
  },
  {
   "cell_type": "markdown",
   "source": [
    "## 1. Location"
   ],
   "metadata": {
    "id": "Qst3Y-s4VKTk",
    "papermill": {
     "duration": 0.042797,
     "end_time": "2023-08-14T16:24:22.001996",
     "exception": false,
     "start_time": "2023-08-14T16:24:21.959199",
     "status": "completed"
    },
    "tags": []
   }
  },
  {
   "cell_type": "code",
   "source": [
    "# config.repo = 'car-brands/'  # dataset name on Kaggle\n",
    "config.repo = 'data/'  # dataset name on local device\n",
    "# config.repo = 'car_brand_detection/'  # Google Collab\n",
    "\n",
    "# config.root = '/kaggle/input/' + config.repo\n",
    "# config.root = 'drive/MyDrive/' + config.repo\n",
    "config.root = '../'  + config.repo\n",
    "\n",
    "\n",
    "config.data = config.root\n",
    "\n",
    "config.train_images_path  = config.data + 'images/train'\n",
    "config.test_images_path = config.data + 'images/test'\n",
    "\n",
    "config.train_labels  = config.data + 'train_labels.csv'\n",
    "config.test_labels = config.data + 'test_labels.csv'\n",
    "\n",
    "# config.model_path = 'fine-tuned_mobilenet_v2'\n",
    "config.model_path = 'ArcFace_mobilenet_v2.pth'\n",
    "# config.model_path = '/kaggle/input/efficient-model/fine-tuned_efficientnet_b0'"
   ],
   "metadata": {
    "ExecuteTime": {
     "start_time": "2023-08-15T11:26:21.008765Z",
     "end_time": "2023-08-15T11:26:21.070260Z"
    },
    "execution": {
     "iopub.execute_input": "2023-08-14T16:24:22.076289Z",
     "iopub.status.busy": "2023-08-14T16:24:22.075930Z",
     "iopub.status.idle": "2023-08-14T16:24:22.082006Z",
     "shell.execute_reply": "2023-08-14T16:24:22.081066Z"
    },
    "id": "QKDBLmMrTFDd",
    "papermill": {
     "duration": 0.036856,
     "end_time": "2023-08-14T16:24:22.084008",
     "exception": false,
     "start_time": "2023-08-14T16:24:22.047152",
     "status": "completed"
    },
    "tags": []
   },
   "execution_count": null,
   "outputs": []
  },
  {
   "cell_type": "markdown",
   "source": [
    "## 2. Custom Data representation"
   ],
   "metadata": {
    "id": "u0McLUXoTFDd",
    "papermill": {
     "duration": 0.026926,
     "end_time": "2023-08-14T16:24:22.138322",
     "exception": false,
     "start_time": "2023-08-14T16:24:22.111396",
     "status": "completed"
    },
    "tags": []
   }
  },
  {
   "cell_type": "code",
   "source": [
    "def get_file_path_by_id(file_id, dir=config.root):\n",
    "    return os.path.join(dir, str(file_id) + \".jpg\")"
   ],
   "metadata": {
    "ExecuteTime": {
     "start_time": "2023-08-15T11:26:21.031902Z",
     "end_time": "2023-08-15T11:26:21.070260Z"
    },
    "execution": {
     "iopub.execute_input": "2023-08-14T16:24:22.195133Z",
     "iopub.status.busy": "2023-08-14T16:24:22.194137Z",
     "iopub.status.idle": "2023-08-14T16:24:22.199519Z",
     "shell.execute_reply": "2023-08-14T16:24:22.198611Z"
    },
    "papermill": {
     "duration": 0.035798,
     "end_time": "2023-08-14T16:24:22.201575",
     "exception": false,
     "start_time": "2023-08-14T16:24:22.165777",
     "status": "completed"
    },
    "tags": []
   },
   "execution_count": null,
   "outputs": []
  },
  {
   "cell_type": "code",
   "source": [
    "def apply_label_encoding(data: t.Union[pd.DataFrame, np.array],\n",
    "                         encoder_name: os.path,\n",
    "                         column='label', action='encode',\n",
    "                         ):\n",
    "    \"\"\"\n",
    "    One Hot encoding. We apply encoding by replacing the label column in dataframe.\n",
    "    As for decoding data back, we work with vector-array (as it's most likely to\n",
    "    be a prediction result)\n",
    "    \"\"\"\n",
    "    encoder = LabelEncoder()\n",
    "    if action == 'encode':\n",
    "        # We transform dataframe here. Nothing returns\n",
    "        data[column] = encoder.fit_transform(data[column])\n",
    "        with open(f\"{encoder_name}_LEncoder.pkl\", \"wb\") as fp:\n",
    "            joblib.dump(encoder, fp)\n",
    "    elif action == 'decode':\n",
    "        # We pass vector here. Result is a vector\n",
    "        with open(f\"{encoder_name}_LEncoder.pkl\", \"rb\") as fp:\n",
    "            encoder: LabelEncoder = joblib.load(fp)\n",
    "        return encoder.inverse_transform(data)"
   ],
   "metadata": {
    "ExecuteTime": {
     "start_time": "2023-08-15T11:26:21.032426Z",
     "end_time": "2023-08-15T11:26:21.070260Z"
    },
    "collapsed": false,
    "execution": {
     "iopub.execute_input": "2023-08-14T16:24:22.259625Z",
     "iopub.status.busy": "2023-08-14T16:24:22.258630Z",
     "iopub.status.idle": "2023-08-14T16:24:22.266598Z",
     "shell.execute_reply": "2023-08-14T16:24:22.265563Z"
    },
    "id": "_dh7nUr3TFDd",
    "jupyter": {
     "outputs_hidden": false
    },
    "papermill": {
     "duration": 0.039278,
     "end_time": "2023-08-14T16:24:22.268745",
     "exception": false,
     "start_time": "2023-08-14T16:24:22.229467",
     "status": "completed"
    },
    "tags": []
   },
   "execution_count": null,
   "outputs": []
  },
  {
   "cell_type": "code",
   "source": [
    "class CustomImagesDataset(Dataset):\n",
    "    \"\"\"\n",
    "    \"\"\"\n",
    "    def __init__(self, data: pd.DataFrame=None, images_path: os.path=None, labels_path:os.path=None, transform_images: A.Compose=None, encoder_name: str=None):\n",
    "        \"\"\"\n",
    "\n",
    "        \"\"\"\n",
    "        super().__init__()\n",
    "        assert (data is not None) or (labels_path is not None and images_path is not None)\n",
    "\n",
    "        if data is None:\n",
    "            data = pd.read_csv(labels_path)\n",
    "            data['file_path'] = data['id'].apply(get_file_path_by_id, dir=images_path)\n",
    "\n",
    "        self.images_paths = data['file_path'].values\n",
    "        self.encoder_name = encoder_name if encoder_name else self.__hash__()  # We use hash as a unique name\n",
    "        print_highlighted(f\"Label Encoder saved with id `{self.encoder_name}`\")\n",
    "        apply_label_encoding(data=data, action='encode', encoder_name=self.encoder_name)\n",
    "        self.labels = data['label'].values\n",
    "#         self.indexes = data['id'].values\n",
    "        self.transform_images = transform_images\n",
    "        self.__set_dataset_len()\n",
    "\n",
    "    def __set_dataset_len(self):\n",
    "        self.length = self.labels.shape[0] # Number of rows\n",
    "\n",
    "    def __len__(self):\n",
    "        \"\"\"\n",
    "        We calculate the len in another function, so that we are able to slice.\n",
    "        \"\"\"\n",
    "        return self.length\n",
    "\n",
    "    def decode_labels(self, labels_vector):\n",
    "        return apply_label_encoding(data=labels_vector, action='decode', encoder_name=self.encoder_name)\n",
    "\n",
    "    def __getitem__(self, index) -> tuple[torch.Tensor, int]:\n",
    "        \"\"\" Function to return item by indexing the dataset \"\"\"\n",
    "\n",
    "        if not isinstance(index, int) and isinstance(index, slice):\n",
    "            # It's not an index, but slice.\n",
    "            # We will return the part of data by making a copy of the dataset\n",
    "            index: slice\n",
    "            self = deepcopy(self)\n",
    "            self.length = index.stop  # Cut the length of dataset.\n",
    "            self.labels = self.labels[:self.length]\n",
    "            return self\n",
    "        assert self.__len__() >= index\n",
    "\n",
    "        image = to_pil_image(read_image(self.images_paths[index]))\n",
    "        if self.transform_images:\n",
    "            # Albumentations requires us to convert image to Numpy Array\n",
    "            image = self.transform_images(image=np.array(image))['image']\n",
    "\n",
    "        label = self.labels[index]\n",
    "        return image, label\n",
    "\n",
    "\n",
    "    @property\n",
    "    def classes_(self):\n",
    "        return self.decode_labels(np.unique(self.labels))\n"
   ],
   "metadata": {
    "ExecuteTime": {
     "start_time": "2023-08-15T11:26:21.046125Z",
     "end_time": "2023-08-15T11:26:21.299077Z"
    },
    "collapsed": false,
    "execution": {
     "iopub.execute_input": "2023-08-14T16:24:22.326614Z",
     "iopub.status.busy": "2023-08-14T16:24:22.326226Z",
     "iopub.status.idle": "2023-08-14T16:24:22.339181Z",
     "shell.execute_reply": "2023-08-14T16:24:22.338239Z"
    },
    "id": "piJ9PgTuTFDe",
    "jupyter": {
     "outputs_hidden": false
    },
    "papermill": {
     "duration": 0.044801,
     "end_time": "2023-08-14T16:24:22.341189",
     "exception": false,
     "start_time": "2023-08-14T16:24:22.296388",
     "status": "completed"
    },
    "tags": []
   },
   "execution_count": null,
   "outputs": []
  },
  {
   "cell_type": "markdown",
   "source": [
    "## 3. Augmentations"
   ],
   "metadata": {
    "id": "lB9BnVDPTFDe",
    "papermill": {
     "duration": 0.02757,
     "end_time": "2023-08-14T16:24:22.396505",
     "exception": false,
     "start_time": "2023-08-14T16:24:22.368935",
     "status": "completed"
    },
    "tags": []
   }
  },
  {
   "cell_type": "markdown",
   "source": [
    "We use Albumantations lib"
   ],
   "metadata": {
    "id": "i-F36u_bTFDe",
    "papermill": {
     "duration": 0.026968,
     "end_time": "2023-08-14T16:24:22.450897",
     "exception": false,
     "start_time": "2023-08-14T16:24:22.423929",
     "status": "completed"
    },
    "tags": []
   }
  },
  {
   "cell_type": "code",
   "source": [
    "data_transforms = {\n",
    "    \"train\": A.Compose([\n",
    "#         A.ToRGB(),\n",
    "        A.Resize(config.image_dimension, config.image_dimension),\n",
    "        # A.ShiftScaleRotate(\n",
    "        #     shift_limit=0.1,\n",
    "        #     scale_limit=0.15,\n",
    "        #     rotate_limit=30,\n",
    "        #     p=0.5),\n",
    "        # A.HueSaturationValue(\n",
    "        #         hue_shift_limit=30,\n",
    "        #         sat_shift_limit=30,\n",
    "        #         val_shift_limit=30,\n",
    "        #         p=0.5\n",
    "        #     ),\n",
    "        # A.RandomBrightnessContrast(\n",
    "        #         brightness_limit=(-0.01,0.01),\n",
    "        #         contrast_limit=(-0.01, 0.01),\n",
    "        #         p=0.5\n",
    "        #     ),\n",
    "        A.Normalize(\n",
    "                mean=[0.485, 0.456, 0.406],\n",
    "                std=[0.229, 0.224, 0.225],\n",
    "                max_pixel_value=255.0,\n",
    "                p=1.0\n",
    "            ),\n",
    "        ToTensorV2() # Advanced analogue of T.ToTensor\n",
    "    ], p=1.),\n",
    "\n",
    "    \"val\": A.Compose([\n",
    "#         A.ToRGB(),\n",
    "        A.Resize(config.image_dimension, config.image_dimension),\n",
    "        A.Normalize(\n",
    "                mean=[0.485, 0.456, 0.406],\n",
    "                std=[0.229, 0.224, 0.225],\n",
    "                max_pixel_value=255.0,\n",
    "                p=1.0\n",
    "            ),\n",
    "        ToTensorV2()], p=1.)\n",
    "}"
   ],
   "metadata": {
    "ExecuteTime": {
     "start_time": "2023-08-15T11:26:21.070260Z",
     "end_time": "2023-08-15T11:26:21.299077Z"
    },
    "collapsed": false,
    "execution": {
     "iopub.execute_input": "2023-08-14T16:24:22.507542Z",
     "iopub.status.busy": "2023-08-14T16:24:22.506527Z",
     "iopub.status.idle": "2023-08-14T16:24:22.517496Z",
     "shell.execute_reply": "2023-08-14T16:24:22.516604Z"
    },
    "id": "tROO0x2GTFDe",
    "jupyter": {
     "outputs_hidden": false
    },
    "papermill": {
     "duration": 0.041327,
     "end_time": "2023-08-14T16:24:22.519534",
     "exception": false,
     "start_time": "2023-08-14T16:24:22.478207",
     "status": "completed"
    },
    "tags": []
   },
   "execution_count": null,
   "outputs": []
  },
  {
   "cell_type": "markdown",
   "source": [
    "## 4. Load the data and have a look"
   ],
   "metadata": {
    "id": "LrSe00KeTFDe",
    "papermill": {
     "duration": 0.027117,
     "end_time": "2023-08-14T16:24:22.574348",
     "exception": false,
     "start_time": "2023-08-14T16:24:22.547231",
     "status": "completed"
    },
    "tags": []
   }
  },
  {
   "cell_type": "code",
   "source": [
    "train_dataset = CustomImagesDataset(labels_path=config.train_labels, images_path=config.train_images_path, transform_images=data_transforms['train'], encoder_name='train')"
   ],
   "metadata": {
    "ExecuteTime": {
     "start_time": "2023-08-15T11:26:21.083373Z",
     "end_time": "2023-08-15T11:26:21.340756Z"
    },
    "collapsed": false,
    "execution": {
     "iopub.execute_input": "2023-08-14T16:24:22.629859Z",
     "iopub.status.busy": "2023-08-14T16:24:22.629497Z",
     "iopub.status.idle": "2023-08-14T16:24:22.730870Z",
     "shell.execute_reply": "2023-08-14T16:24:22.729911Z"
    },
    "id": "DmijxMsuTFDf",
    "jupyter": {
     "outputs_hidden": false
    },
    "outputId": "0f9bae18-cdd1-4716-8bc0-8d83c4eb2a3f",
    "papermill": {
     "duration": 0.131857,
     "end_time": "2023-08-14T16:24:22.733140",
     "exception": false,
     "start_time": "2023-08-14T16:24:22.601283",
     "status": "completed"
    },
    "tags": []
   },
   "execution_count": null,
   "outputs": []
  },
  {
   "cell_type": "code",
   "source": [
    "test_dataset = CustomImagesDataset(\n",
    "    labels_path=config.test_labels,\n",
    "    images_path=config.test_images_path,\n",
    "    transform_images=data_transforms['val'],\n",
    "    encoder_name='test',\n",
    ")"
   ],
   "metadata": {
    "ExecuteTime": {
     "start_time": "2023-08-15T11:26:21.252375Z",
     "end_time": "2023-08-15T11:26:21.341284Z"
    },
    "execution": {
     "iopub.execute_input": "2023-08-14T16:24:22.790874Z",
     "iopub.status.busy": "2023-08-14T16:24:22.790502Z",
     "iopub.status.idle": "2023-08-14T16:24:22.817296Z",
     "shell.execute_reply": "2023-08-14T16:24:22.816038Z"
    },
    "id": "NyHg814zTFDf",
    "outputId": "11706677-ef27-479d-c5a7-440ddb48b538",
    "papermill": {
     "duration": 0.058274,
     "end_time": "2023-08-14T16:24:22.819446",
     "exception": false,
     "start_time": "2023-08-14T16:24:22.761172",
     "status": "completed"
    },
    "tags": []
   },
   "execution_count": null,
   "outputs": []
  },
  {
   "cell_type": "code",
   "source": [
    "to_pil_image(train_dataset[60][0])"
   ],
   "metadata": {
    "ExecuteTime": {
     "start_time": "2023-08-15T11:26:21.283432Z",
     "end_time": "2023-08-15T11:26:21.488634Z"
    },
    "execution": {
     "iopub.execute_input": "2023-08-14T16:24:22.876672Z",
     "iopub.status.busy": "2023-08-14T16:24:22.876327Z",
     "iopub.status.idle": "2023-08-14T16:24:22.983424Z",
     "shell.execute_reply": "2023-08-14T16:24:22.982488Z"
    },
    "id": "_bZMqZjoTFDf",
    "outputId": "a43afe2b-a8cb-4aee-9500-d4637cd905ef",
    "papermill": {
     "duration": 0.141629,
     "end_time": "2023-08-14T16:24:22.989267",
     "exception": false,
     "start_time": "2023-08-14T16:24:22.847638",
     "status": "completed"
    },
    "tags": []
   },
   "execution_count": null,
   "outputs": []
  },
  {
   "cell_type": "code",
   "source": [
    "config.num_of_classes = len(train_dataset.classes_)\n",
    "config.num_of_classes"
   ],
   "metadata": {
    "ExecuteTime": {
     "start_time": "2023-08-15T11:26:21.341284Z",
     "end_time": "2023-08-15T11:26:21.488634Z"
    },
    "collapsed": false,
    "execution": {
     "iopub.execute_input": "2023-08-14T16:24:23.050134Z",
     "iopub.status.busy": "2023-08-14T16:24:23.049729Z",
     "iopub.status.idle": "2023-08-14T16:24:23.059548Z",
     "shell.execute_reply": "2023-08-14T16:24:23.058571Z"
    },
    "id": "UUS_aiISTFDf",
    "jupyter": {
     "outputs_hidden": false
    },
    "outputId": "832f5ec9-3895-4f71-bc96-6e626c74ab34",
    "papermill": {
     "duration": 0.042393,
     "end_time": "2023-08-14T16:24:23.061573",
     "exception": false,
     "start_time": "2023-08-14T16:24:23.019180",
     "status": "completed"
    },
    "tags": []
   },
   "execution_count": null,
   "outputs": []
  },
  {
   "cell_type": "markdown",
   "source": [
    "Below we ensure that the test dataset doesn't contain unknown data"
   ],
   "metadata": {
    "id": "1T2BVhnkTFDf",
    "papermill": {
     "duration": 0.029092,
     "end_time": "2023-08-14T16:24:23.120233",
     "exception": false,
     "start_time": "2023-08-14T16:24:23.091141",
     "status": "completed"
    },
    "tags": []
   }
  },
  {
   "cell_type": "code",
   "source": [
    "assert not bool(set(test_dataset.classes_) - set(train_dataset.classes_))"
   ],
   "metadata": {
    "ExecuteTime": {
     "start_time": "2023-08-15T11:26:21.357464Z",
     "end_time": "2023-08-15T11:26:21.488634Z"
    },
    "execution": {
     "iopub.execute_input": "2023-08-14T16:24:23.181326Z",
     "iopub.status.busy": "2023-08-14T16:24:23.180383Z",
     "iopub.status.idle": "2023-08-14T16:24:23.188177Z",
     "shell.execute_reply": "2023-08-14T16:24:23.187350Z"
    },
    "id": "52QN-ziNTFDg",
    "papermill": {
     "duration": 0.04048,
     "end_time": "2023-08-14T16:24:23.190226",
     "exception": false,
     "start_time": "2023-08-14T16:24:23.149746",
     "status": "completed"
    },
    "tags": []
   },
   "execution_count": null,
   "outputs": []
  },
  {
   "cell_type": "code",
   "source": [
    "print(*train_dataset.classes_[:20], sep=';  ', end='...')"
   ],
   "metadata": {
    "ExecuteTime": {
     "start_time": "2023-08-15T11:26:21.371218Z",
     "end_time": "2023-08-15T11:26:21.488634Z"
    },
    "execution": {
     "iopub.execute_input": "2023-08-14T16:24:23.250351Z",
     "iopub.status.busy": "2023-08-14T16:24:23.249403Z",
     "iopub.status.idle": "2023-08-14T16:24:23.256797Z",
     "shell.execute_reply": "2023-08-14T16:24:23.255625Z"
    },
    "id": "lYMINDi1TFDj",
    "outputId": "bdd6cc65-de03-495d-9883-53906ce9a165",
    "papermill": {
     "duration": 0.03962,
     "end_time": "2023-08-14T16:24:23.258792",
     "exception": false,
     "start_time": "2023-08-14T16:24:23.219172",
     "status": "completed"
    },
    "tags": []
   },
   "execution_count": null,
   "outputs": []
  },
  {
   "cell_type": "markdown",
   "source": [
    "# 3. Model"
   ],
   "metadata": {
    "id": "1nrMvID-TFDk",
    "papermill": {
     "duration": 0.029139,
     "end_time": "2023-08-14T16:24:23.317070",
     "exception": false,
     "start_time": "2023-08-14T16:24:23.287931",
     "status": "completed"
    },
    "tags": []
   }
  },
  {
   "cell_type": "markdown",
   "source": [
    "ArcFace loss function is used on the embeddings, not on the final predictions"
   ],
   "metadata": {
    "papermill": {
     "duration": 0.028679,
     "end_time": "2023-08-14T16:24:23.375023",
     "exception": false,
     "start_time": "2023-08-14T16:24:23.346344",
     "status": "completed"
    },
    "tags": []
   }
  },
  {
   "cell_type": "markdown",
   "source": [
    "## 1. Pretrained model to get the embeddings"
   ],
   "metadata": {
    "id": "CC_wCexMTFDk",
    "papermill": {
     "duration": 0.028535,
     "end_time": "2023-08-14T16:24:23.432671",
     "exception": false,
     "start_time": "2023-08-14T16:24:23.404136",
     "status": "completed"
    },
    "tags": []
   }
  },
  {
   "cell_type": "code",
   "source": [
    "def get_input_feature_size(classifier: nn.Sequential) -> int:\n",
    "    for module in classifier.modules():\n",
    "        if isinstance(module, nn.Linear):\n",
    "            return module.in_features"
   ],
   "metadata": {
    "ExecuteTime": {
     "start_time": "2023-08-15T11:26:21.383000Z",
     "end_time": "2023-08-15T11:26:21.488634Z"
    },
    "collapsed": false,
    "execution": {
     "iopub.execute_input": "2023-08-14T16:24:23.492983Z",
     "iopub.status.busy": "2023-08-14T16:24:23.492026Z",
     "iopub.status.idle": "2023-08-14T16:24:23.497728Z",
     "shell.execute_reply": "2023-08-14T16:24:23.496840Z"
    },
    "jupyter": {
     "outputs_hidden": false
    },
    "papermill": {
     "duration": 0.037894,
     "end_time": "2023-08-14T16:24:23.499805",
     "exception": false,
     "start_time": "2023-08-14T16:24:23.461911",
     "status": "completed"
    },
    "tags": []
   },
   "execution_count": null,
   "outputs": []
  },
  {
   "cell_type": "code",
   "source": [
    "def get_model(model_name='resnet18', from_path=None, pretrained=False, freeze_layers=0.0, get_embeddings=False) -> torch.nn.Module:\n",
    "    if from_path:\n",
    "        try:\n",
    "            model = torch.load(from_path, map_location=torch.device(\"cuda\" if torch.cuda.is_available() else \"cpu\"))\n",
    "        except FileNotFoundError:\n",
    "            raise\n",
    "    elif model_name:\n",
    "        model = getattr(models, model_name) # We use builtin function\n",
    "        model = model(\n",
    "        weights=('DEFAULT' if pretrained else None)\n",
    "        )\n",
    "\n",
    "    if bool(freeze_layers):\n",
    "        params = list(model.parameters())\n",
    "        for param in params[:int(len(params)*freeze_layers)]:\n",
    "            # Freeze some layers\n",
    "            param.requires_grad = False\n",
    "\n",
    "    if get_embeddings:\n",
    "        # That means remove classifier (last layer):\n",
    "        model.classifier = nn.Sequential(\n",
    "            # nn.Dropout(p=0.3, inplace=True),\n",
    "            nn.Linear(in_features=get_input_feature_size(model.classifier),\n",
    "                      out_features=config.embedding_size, bias=True\n",
    "                      ),\n",
    "\n",
    "        )\n",
    "    return model"
   ],
   "metadata": {
    "ExecuteTime": {
     "start_time": "2023-08-15T11:26:21.410479Z",
     "end_time": "2023-08-15T11:26:21.488634Z"
    },
    "execution": {
     "iopub.execute_input": "2023-08-14T16:24:23.560535Z",
     "iopub.status.busy": "2023-08-14T16:24:23.560176Z",
     "iopub.status.idle": "2023-08-14T16:24:23.568100Z",
     "shell.execute_reply": "2023-08-14T16:24:23.567130Z"
    },
    "id": "-NUikulCTFDk",
    "papermill": {
     "duration": 0.040624,
     "end_time": "2023-08-14T16:24:23.570110",
     "exception": false,
     "start_time": "2023-08-14T16:24:23.529486",
     "status": "completed"
    },
    "tags": []
   },
   "execution_count": null,
   "outputs": []
  },
  {
   "cell_type": "code",
   "source": [
    "embedding_model = get_model(\n",
    "    from_path=config.model_path,\n",
    "    pretrained=True,\n",
    "    freeze_layers=0.0,\n",
    "    get_embeddings=True\n",
    ")"
   ],
   "metadata": {
    "ExecuteTime": {
     "start_time": "2023-08-15T11:26:21.410479Z",
     "end_time": "2023-08-15T11:26:21.551641Z"
    },
    "execution": {
     "iopub.execute_input": "2023-08-14T16:24:23.813067Z",
     "iopub.status.busy": "2023-08-14T16:24:23.812177Z",
     "iopub.status.idle": "2023-08-14T16:24:29.380586Z",
     "shell.execute_reply": "2023-08-14T16:24:29.379605Z"
    },
    "papermill": {
     "duration": 5.600845,
     "end_time": "2023-08-14T16:24:29.382961",
     "exception": false,
     "start_time": "2023-08-14T16:24:23.782116",
     "status": "completed"
    },
    "tags": []
   },
   "execution_count": null,
   "outputs": []
  },
  {
   "cell_type": "markdown",
   "source": [
    "It is a model that doesn't have classifier - only one linear layer that transforms embeddings to desired size"
   ],
   "metadata": {
    "papermill": {
     "duration": 0.028908,
     "end_time": "2023-08-14T16:24:29.441920",
     "exception": false,
     "start_time": "2023-08-14T16:24:29.413012",
     "status": "completed"
    },
    "tags": []
   }
  },
  {
   "cell_type": "code",
   "source": [
    "embedding_model.classifier"
   ],
   "metadata": {
    "ExecuteTime": {
     "start_time": "2023-08-15T11:26:21.513332Z",
     "end_time": "2023-08-15T11:26:21.721334Z"
    },
    "execution": {
     "iopub.execute_input": "2023-08-14T16:24:29.502070Z",
     "iopub.status.busy": "2023-08-14T16:24:29.501711Z",
     "iopub.status.idle": "2023-08-14T16:24:29.508255Z",
     "shell.execute_reply": "2023-08-14T16:24:29.507353Z"
    },
    "id": "GsWQ0vJoTFDm",
    "outputId": "fe3553cc-d992-44f6-f031-4c1c49705080",
    "papermill": {
     "duration": 0.039105,
     "end_time": "2023-08-14T16:24:29.510375",
     "exception": false,
     "start_time": "2023-08-14T16:24:29.471270",
     "status": "completed"
    },
    "tags": []
   },
   "execution_count": null,
   "outputs": []
  },
  {
   "cell_type": "markdown",
   "source": [
    "## 2. Linear model to process embeddings"
   ],
   "metadata": {
    "collapsed": false
   }
  },
  {
   "cell_type": "code",
   "execution_count": null,
   "outputs": [],
   "source": [
    "class SiameseNetwork(nn.Module):\n",
    "    def __init__(self, embedding_size):\n",
    "        super().__init__()\n",
    "\n",
    "        self.embedding_size = embedding_size\n",
    "\n",
    "        self.fc1 = nn.Linear(embedding_size, 512)\n",
    "        self.fc2 = nn.Linear(512, 256)\n",
    "        self.fc3 = nn.Linear(512, 1) # 256x2\n",
    "        self.sigmoid = nn.Sigmoid()\n",
    "\n",
    "    def forward(self, x1, x2):\n",
    "        # Pass the inputs through fully connected layers\n",
    "        out1 = self.fc1(x1)\n",
    "        out1 = self.fc2(out1)\n",
    "\n",
    "        out2 = self.fc1(x2)\n",
    "        out2 = self.fc2(out2)\n",
    "\n",
    "        # Concatenate the outputs from fc2 layers\n",
    "        out = torch.cat((out1, out2), dim=-1)\n",
    "\n",
    "        # Pass the concatenated tensor through fc3 layer and apply sigmoid activation function\n",
    "        out = self.fc3(out)\n",
    "\n",
    "        # We use BCEWithLogitsLoss as a Loss, so we can remove sigmoid here\n",
    "        out = self.sigmoid(out).float()\n",
    "        return out"
   ],
   "metadata": {
    "collapsed": false,
    "ExecuteTime": {
     "start_time": "2023-08-15T11:32:06.857339Z",
     "end_time": "2023-08-15T11:32:06.997998Z"
    }
   }
  },
  {
   "cell_type": "code",
   "execution_count": null,
   "outputs": [],
   "source": [
    "pairwise_linear_model = SiameseNetwork(config.embedding_size)\n",
    "pairwise_linear_model"
   ],
   "metadata": {
    "collapsed": false,
    "ExecuteTime": {
     "start_time": "2023-08-15T11:32:10.355651Z",
     "end_time": "2023-08-15T11:32:10.425531Z"
    }
   }
  },
  {
   "cell_type": "markdown",
   "source": [
    "# 4. Various"
   ],
   "metadata": {
    "id": "t6rYKZFqTFDn",
    "papermill": {
     "duration": 0.030093,
     "end_time": "2023-08-14T16:24:29.570642",
     "exception": false,
     "start_time": "2023-08-14T16:24:29.540549",
     "status": "completed"
    },
    "tags": []
   }
  },
  {
   "cell_type": "markdown",
   "source": [
    "## 1. Quality metrics"
   ],
   "metadata": {
    "id": "UhnkDGSqTFDn",
    "papermill": {
     "duration": 0.029828,
     "end_time": "2023-08-14T16:24:29.630054",
     "exception": false,
     "start_time": "2023-08-14T16:24:29.600226",
     "status": "completed"
    },
    "tags": []
   }
  },
  {
   "cell_type": "markdown",
   "source": [
    "We will use accuracy and F1 score for out classification task"
   ],
   "metadata": {
    "id": "VpjMrvnfWgHC",
    "papermill": {
     "duration": 0.029419,
     "end_time": "2023-08-14T16:24:29.689395",
     "exception": false,
     "start_time": "2023-08-14T16:24:29.659976",
     "status": "completed"
    },
    "tags": []
   }
  },
  {
   "cell_type": "code",
   "source": [
    "f1_score = MulticlassF1Score(num_classes=config.num_of_classes,)"
   ],
   "metadata": {
    "ExecuteTime": {
     "start_time": "2023-08-15T11:26:21.552161Z",
     "end_time": "2023-08-15T11:26:21.768208Z"
    },
    "execution": {
     "iopub.execute_input": "2023-08-14T16:24:29.750613Z",
     "iopub.status.busy": "2023-08-14T16:24:29.750232Z",
     "iopub.status.idle": "2023-08-14T16:24:29.760524Z",
     "shell.execute_reply": "2023-08-14T16:24:29.759648Z"
    },
    "id": "c_2AwnsfTFDn",
    "papermill": {
     "duration": 0.043366,
     "end_time": "2023-08-14T16:24:29.762611",
     "exception": false,
     "start_time": "2023-08-14T16:24:29.719245",
     "status": "completed"
    },
    "tags": []
   },
   "execution_count": null,
   "outputs": []
  },
  {
   "cell_type": "markdown",
   "source": [
    "## 2. Device"
   ],
   "metadata": {
    "id": "WqgSgG2_TFDn",
    "papermill": {
     "duration": 0.029561,
     "end_time": "2023-08-14T16:24:29.821752",
     "exception": false,
     "start_time": "2023-08-14T16:24:29.792191",
     "status": "completed"
    },
    "tags": []
   }
  },
  {
   "cell_type": "code",
   "source": [
    "device = torch.device(\"cuda\" if torch.cuda.is_available() else \"cpu\")\n",
    "embedding_model = embedding_model.to(device)\n",
    "pairwise_linear_model = pairwise_linear_model.to(device)\n",
    "\n",
    "f1_score = f1_score.to(device)\n",
    "torch.cuda.empty_cache()"
   ],
   "metadata": {
    "ExecuteTime": {
     "start_time": "2023-08-15T11:26:21.561408Z",
     "end_time": "2023-08-15T11:26:21.799458Z"
    },
    "execution": {
     "iopub.execute_input": "2023-08-14T16:24:29.882157Z",
     "iopub.status.busy": "2023-08-14T16:24:29.881821Z",
     "iopub.status.idle": "2023-08-14T16:24:29.892959Z",
     "shell.execute_reply": "2023-08-14T16:24:29.891963Z"
    },
    "id": "F7zEDfFvTFDo",
    "papermill": {
     "duration": 0.04363,
     "end_time": "2023-08-14T16:24:29.894974",
     "exception": false,
     "start_time": "2023-08-14T16:24:29.851344",
     "status": "completed"
    },
    "tags": []
   },
   "execution_count": null,
   "outputs": []
  },
  {
   "cell_type": "markdown",
   "source": [
    "## 3. Data processing format"
   ],
   "metadata": {
    "id": "E7mbVBoGTFDo",
    "papermill": {
     "duration": 0.029342,
     "end_time": "2023-08-14T16:24:29.953491",
     "exception": false,
     "start_time": "2023-08-14T16:24:29.924149",
     "status": "completed"
    },
    "tags": []
   }
  },
  {
   "cell_type": "code",
   "source": [
    "# config.train_batch_size, config.val_batch_size = 160, 350\n",
    "config.train_batch_size, config.val_batch_size = 3,3\n"
   ],
   "metadata": {
    "ExecuteTime": {
     "start_time": "2023-08-15T11:26:21.584563Z",
     "end_time": "2023-08-15T11:26:21.799458Z"
    },
    "execution": {
     "iopub.execute_input": "2023-08-14T16:24:30.014666Z",
     "iopub.status.busy": "2023-08-14T16:24:30.014283Z",
     "iopub.status.idle": "2023-08-14T16:24:30.021962Z",
     "shell.execute_reply": "2023-08-14T16:24:30.018850Z"
    },
    "id": "7xJPcyHwTFDo",
    "papermill": {
     "duration": 0.042453,
     "end_time": "2023-08-14T16:24:30.025418",
     "exception": false,
     "start_time": "2023-08-14T16:24:29.982965",
     "status": "completed"
    },
    "tags": []
   },
   "execution_count": null,
   "outputs": []
  },
  {
   "cell_type": "code",
   "source": [
    "train_dataloader = DataLoader(train_dataset[:500],\n",
    "                              batch_size=config.train_batch_size,\n",
    "                              shuffle=True,\n",
    "                              num_workers=os.cpu_count() % 4,\n",
    ")"
   ],
   "metadata": {
    "ExecuteTime": {
     "start_time": "2023-08-15T11:26:21.584563Z",
     "end_time": "2023-08-15T11:26:21.846323Z"
    },
    "execution": {
     "iopub.execute_input": "2023-08-14T16:24:30.087766Z",
     "iopub.status.busy": "2023-08-14T16:24:30.087391Z",
     "iopub.status.idle": "2023-08-14T16:24:30.092593Z",
     "shell.execute_reply": "2023-08-14T16:24:30.091592Z"
    },
    "id": "IqrseI2gTFDo",
    "papermill": {
     "duration": 0.03949,
     "end_time": "2023-08-14T16:24:30.094630",
     "exception": false,
     "start_time": "2023-08-14T16:24:30.055140",
     "status": "completed"
    },
    "tags": []
   },
   "execution_count": null,
   "outputs": []
  },
  {
   "cell_type": "code",
   "source": [
    "test_dataloader = DataLoader(test_dataset[:30],\n",
    "                              batch_size=config.val_batch_size,\n",
    "                              shuffle=False,\n",
    "                              num_workers=os.cpu_count() % 4,\n",
    ")"
   ],
   "metadata": {
    "ExecuteTime": {
     "start_time": "2023-08-15T11:26:21.607090Z",
     "end_time": "2023-08-15T11:26:21.846323Z"
    },
    "execution": {
     "iopub.execute_input": "2023-08-14T16:24:30.156605Z",
     "iopub.status.busy": "2023-08-14T16:24:30.155637Z",
     "iopub.status.idle": "2023-08-14T16:24:30.160974Z",
     "shell.execute_reply": "2023-08-14T16:24:30.159904Z"
    },
    "id": "GeiY7hELTFDo",
    "papermill": {
     "duration": 0.038515,
     "end_time": "2023-08-14T16:24:30.163019",
     "exception": false,
     "start_time": "2023-08-14T16:24:30.124504",
     "status": "completed"
    },
    "tags": []
   },
   "execution_count": null,
   "outputs": []
  },
  {
   "cell_type": "markdown",
   "source": [
    "# 5. Embeddings processing"
   ],
   "metadata": {
    "papermill": {
     "duration": 0.029126,
     "end_time": "2023-08-14T16:24:30.222159",
     "exception": false,
     "start_time": "2023-08-14T16:24:30.193033",
     "status": "completed"
    },
    "tags": []
   }
  },
  {
   "cell_type": "code",
   "source": [
    "@torch.inference_mode()\n",
    "def get_embeddings(model, dataloader, device):\n",
    "    model.eval()\n",
    "    all_embeddings = []\n",
    "    all_labels = []\n",
    "\n",
    "    with tqdm(dataloader, desc=\"Processing\",unit=\"batch\") as process:\n",
    "        for images, labels in process:\n",
    "            images = images.to(device)\n",
    "            labels = labels.to(device)\n",
    "            embeddings = model(images)\n",
    "\n",
    "            all_embeddings.append(embeddings)\n",
    "            all_labels.append(labels)\n",
    "\n",
    "    return torch.cat(all_embeddings), torch.cat(all_labels)\n"
   ],
   "metadata": {
    "ExecuteTime": {
     "start_time": "2023-08-15T11:26:21.617625Z",
     "end_time": "2023-08-15T11:26:21.846323Z"
    },
    "collapsed": false,
    "execution": {
     "iopub.execute_input": "2023-08-14T16:24:30.283155Z",
     "iopub.status.busy": "2023-08-14T16:24:30.282199Z",
     "iopub.status.idle": "2023-08-14T16:24:30.290212Z",
     "shell.execute_reply": "2023-08-14T16:24:30.289374Z"
    },
    "jupyter": {
     "outputs_hidden": false
    },
    "papermill": {
     "duration": 0.040451,
     "end_time": "2023-08-14T16:24:30.292152",
     "exception": false,
     "start_time": "2023-08-14T16:24:30.251701",
     "status": "completed"
    },
    "tags": []
   },
   "execution_count": null,
   "outputs": []
  },
  {
   "cell_type": "code",
   "source": [
    "embeddings_bag, labels = get_embeddings(embedding_model, train_dataloader, device)"
   ],
   "metadata": {
    "collapsed": false,
    "execution": {
     "iopub.execute_input": "2023-08-14T16:24:30.353223Z",
     "iopub.status.busy": "2023-08-14T16:24:30.352334Z",
     "iopub.status.idle": "2023-08-14T16:24:30.356854Z",
     "shell.execute_reply": "2023-08-14T16:24:30.355927Z"
    },
    "jupyter": {
     "outputs_hidden": false
    },
    "papermill": {
     "duration": 0.037387,
     "end_time": "2023-08-14T16:24:30.358847",
     "exception": false,
     "start_time": "2023-08-14T16:24:30.321460",
     "status": "completed"
    },
    "tags": [],
    "ExecuteTime": {
     "start_time": "2023-08-15T11:26:21.627552Z",
     "end_time": "2023-08-15T11:26:55.774452Z"
    }
   },
   "execution_count": null,
   "outputs": []
  },
  {
   "cell_type": "code",
   "execution_count": null,
   "outputs": [],
   "source": [
    "embeddings_bag.shape"
   ],
   "metadata": {
    "collapsed": false,
    "ExecuteTime": {
     "start_time": "2023-08-15T11:27:20.419790Z",
     "end_time": "2023-08-15T11:27:20.461332Z"
    }
   }
  },
  {
   "cell_type": "code",
   "execution_count": null,
   "outputs": [],
   "source": [
    "class SiameseDataset(Dataset):\n",
    "    \"\"\"\n",
    "    This dataset is used for Triplet NN. Here each item is a tuple of three images:\n",
    "    Anchor, Positive and Negative. This dataset doesn't provide the labels for images:\n",
    "    we use comparing of images to train a model; so,\n",
    "    whether the labels are equal IS OUR CRITERIA, not the labels itself.\n",
    "    \"\"\"\n",
    "    def __init__(self, embeddings_data, labels,):\n",
    "        super().__init__()\n",
    "        self.labels = labels\n",
    "        self.embeddings_data = embeddings_data\n",
    "        self.__set_dataset_len()\n",
    "        self.similarity_flag = True\n",
    "\n",
    "\n",
    "    def __set_dataset_len(self):\n",
    "        a = self.labels.size(0) # Number of rows\n",
    "        b = self.embeddings_data.size(0) # Amount of images\n",
    "        assert a == b  # CSV content and real number of photos are equal\n",
    "        self.length = a\n",
    "\n",
    "\n",
    "    def __len__(self):\n",
    "        \"\"\"\n",
    "        We calculate the len in another function, so that we are able to set it manually.\n",
    "        \"\"\"\n",
    "        return self.length\n",
    "\n",
    "\n",
    "    def __get_random_embedding(self, indexes):\n",
    "        image_index = np.random.choice(indexes)\n",
    "        embegging, label = self.embeddings_data[image_index], self.labels[image_index]\n",
    "        return embegging, label\n",
    "\n",
    "\n",
    "    def __getitem__(self, index) -> tuple[torch.Tensor, int]:\n",
    "        \"\"\" Function to return item by indexing the dataset \"\"\"\n",
    "        if not isinstance(index, int) and isinstance(index, slice):\n",
    "            # It's not an index, but slice.\n",
    "            # We will return the part of data by making a copy of the dataset\n",
    "            index: slice\n",
    "            self = deepcopy(self)\n",
    "            self.length = index.stop  # Cut the length of dataset.\n",
    "            self.labels = self.labels[:self.length]\n",
    "            self.embeddings_data = self.embeddings_data[:self.length]\n",
    "            return self\n",
    "\n",
    "\n",
    "        anchor, anchor_label = self.embeddings_data[index], self.labels[index]\n",
    "        positive_or_negative = np.where(\n",
    "            ((self.labels == anchor_label) == self.similarity_flag)\n",
    "        )[0]\n",
    "\n",
    "        # Delete source index, so we don't take two same pictures\n",
    "        correct_indexes = np.delete(positive_or_negative, np.where(positive_or_negative == index))\n",
    "\n",
    "        if len(correct_indexes) < 1:\n",
    "            self.similarity_flag = not self.similarity_flag\n",
    "            return self[index]\n",
    "\n",
    "        p_or_n_embedding, second_label = self.__get_random_embedding(correct_indexes)\n",
    "\n",
    "        self.similarity_flag = not self.similarity_flag  # Switch the flag\n",
    "\n",
    "        return anchor, p_or_n_embedding, float(anchor_label==second_label)\n"
   ],
   "metadata": {
    "collapsed": false,
    "ExecuteTime": {
     "start_time": "2023-08-15T11:42:54.568097Z",
     "end_time": "2023-08-15T11:42:54.683429Z"
    }
   }
  },
  {
   "cell_type": "code",
   "execution_count": null,
   "outputs": [],
   "source": [
    "train_dataset = SiameseDataset(embeddings_data=embeddings_bag, labels=labels)"
   ],
   "metadata": {
    "collapsed": false,
    "ExecuteTime": {
     "start_time": "2023-08-15T11:42:56.097777Z",
     "end_time": "2023-08-15T11:42:56.144915Z"
    }
   }
  },
  {
   "cell_type": "code",
   "execution_count": null,
   "outputs": [],
   "source": [
    "train_dataloader = DataLoader(train_dataset,\n",
    "                              batch_size=config.train_batch_size,\n",
    "                              shuffle=True,\n",
    "                              num_workers=os.cpu_count() % 4,\n",
    "                              )"
   ],
   "metadata": {
    "collapsed": false,
    "ExecuteTime": {
     "start_time": "2023-08-15T11:42:56.734679Z",
     "end_time": "2023-08-15T11:42:56.797230Z"
    }
   }
  },
  {
   "cell_type": "code",
   "execution_count": null,
   "outputs": [],
   "source": [
    "test_dataloader = DataLoader(train_dataset[:100],\n",
    "                              batch_size=config.train_batch_size,\n",
    "                              shuffle=True,\n",
    "                              num_workers=os.cpu_count() % 4,\n",
    "                              )"
   ],
   "metadata": {
    "collapsed": false,
    "ExecuteTime": {
     "start_time": "2023-08-15T11:42:57.217983Z",
     "end_time": "2023-08-15T11:42:57.320848Z"
    }
   }
  },
  {
   "cell_type": "code",
   "execution_count": null,
   "outputs": [],
   "source": [
    "for i in test_dataloader:\n",
    "    print(i[1].size())"
   ],
   "metadata": {
    "collapsed": false,
    "ExecuteTime": {
     "start_time": "2023-08-15T11:54:49.524661Z",
     "end_time": "2023-08-15T11:54:49.649337Z"
    }
   }
  },
  {
   "cell_type": "markdown",
   "source": [
    "# 5. Initialize the train process"
   ],
   "metadata": {
    "id": "qCM07xVnTFDp",
    "papermill": {
     "duration": 0.029095,
     "end_time": "2023-08-14T16:24:30.635296",
     "exception": false,
     "start_time": "2023-08-14T16:24:30.606201",
     "status": "completed"
    },
    "tags": []
   }
  },
  {
   "cell_type": "markdown",
   "source": [
    "We will train the Linear Model to distinguish two images by their CNN embeddings. So, we can put two images into a model and learn wheather they are of same class or not."
   ],
   "metadata": {
    "collapsed": false
   }
  },
  {
   "cell_type": "markdown",
   "source": [
    "## 1. Functions to plot the result"
   ],
   "metadata": {
    "id": "afGGK718TFDp",
    "papermill": {
     "duration": 0.029317,
     "end_time": "2023-08-14T16:24:30.693896",
     "exception": false,
     "start_time": "2023-08-14T16:24:30.664579",
     "status": "completed"
    },
    "tags": []
   }
  },
  {
   "cell_type": "code",
   "source": [
    "def plot_two_curves(\n",
    "        title: str,\n",
    "        train_curve: list[float],\n",
    "        val_curve: list[float],\n",
    "\n",
    "):\n",
    "    plt.figure(figsize=(16, 8))\n",
    "    plt.title(title)\n",
    "    plt.plot(train_curve, label=f'Train {title}')\n",
    "    plt.plot(val_curve, label=f'Valid {title}')\n",
    "    plt.legend()\n",
    "    plt.grid()\n",
    "    plt.show()\n",
    "    #plt.savefig(title)"
   ],
   "metadata": {
    "ExecuteTime": {
     "start_time": "2023-08-15T11:48:50.191301Z",
     "end_time": "2023-08-15T11:48:50.228197Z"
    },
    "execution": {
     "iopub.execute_input": "2023-08-14T16:24:30.754649Z",
     "iopub.status.busy": "2023-08-14T16:24:30.753541Z",
     "iopub.status.idle": "2023-08-14T16:24:30.760301Z",
     "shell.execute_reply": "2023-08-14T16:24:30.759380Z"
    },
    "id": "QVJL1liGTFDp",
    "papermill": {
     "duration": 0.039318,
     "end_time": "2023-08-14T16:24:30.762320",
     "exception": false,
     "start_time": "2023-08-14T16:24:30.723002",
     "status": "completed"
    },
    "tags": []
   },
   "execution_count": null,
   "outputs": []
  },
  {
   "cell_type": "code",
   "source": [
    "def plot_stats(\n",
    "        train_loss: list[float],\n",
    "        valid_loss: list[float],\n",
    "        train_accuracy: list[float]=None,\n",
    "        valid_accuracy: list[float]=None,\n",
    "        train_f1_score: list[float]=None,\n",
    "        valid_f1_score: list[float]=None,\n",
    "        title: str = None\n",
    "):\n",
    "    plot_two_curves(\n",
    "        'Loss',\n",
    "        train_loss,\n",
    "        valid_loss\n",
    "    )\n",
    "\n",
    "    if train_accuracy and valid_accuracy:\n",
    "        plot_two_curves(\n",
    "            'accuracy',\n",
    "            train_accuracy,\n",
    "            valid_accuracy\n",
    "        )\n",
    "\n",
    "    if train_f1_score and valid_f1_score:\n",
    "        plot_two_curves(\n",
    "            'F1 score',\n",
    "            train_f1_score,\n",
    "            valid_f1_score\n",
    "        )\n"
   ],
   "metadata": {
    "ExecuteTime": {
     "start_time": "2023-08-15T11:48:50.399061Z",
     "end_time": "2023-08-15T11:48:50.430880Z"
    },
    "execution": {
     "iopub.execute_input": "2023-08-14T16:24:30.824272Z",
     "iopub.status.busy": "2023-08-14T16:24:30.823221Z",
     "iopub.status.idle": "2023-08-14T16:24:30.830545Z",
     "shell.execute_reply": "2023-08-14T16:24:30.829665Z"
    },
    "id": "GQrWiRJbTFDp",
    "papermill": {
     "duration": 0.040323,
     "end_time": "2023-08-14T16:24:30.832595",
     "exception": false,
     "start_time": "2023-08-14T16:24:30.792272",
     "status": "completed"
    },
    "tags": []
   },
   "execution_count": null,
   "outputs": []
  },
  {
   "cell_type": "markdown",
   "source": [
    "## 2. Training and evaluation functions"
   ],
   "metadata": {
    "id": "ePLlKs4rTFDq",
    "papermill": {
     "duration": 0.02992,
     "end_time": "2023-08-14T16:24:30.892994",
     "exception": false,
     "start_time": "2023-08-14T16:24:30.863074",
     "status": "completed"
    },
    "tags": []
   }
  },
  {
   "cell_type": "code",
   "source": [
    "def train_one_epoch(model, dataloader, optimizer, criterion, device, epoch: str):\n",
    "    model.train()\n",
    "    threshold = torch.Tensor([0.5])\n",
    "    train_loss = 0.0\n",
    "    train_correct = 0.0\n",
    "    train_f1 = 0.0\n",
    "    n_batches = 0\n",
    "    data_size = 0\n",
    "\n",
    "    with tqdm(dataloader, desc=f'Epoch: {epoch}', unit=\"batch\") as tepoch:\n",
    "        for image_one, image_second, is_same_class in tepoch:\n",
    "            n_batches += 1\n",
    "            image_one = image_one.to(device)\n",
    "            image_second = image_second.to(device)\n",
    "            is_same_class = is_same_class.to(device)\n",
    "\n",
    "            optimizer.zero_grad()\n",
    "\n",
    "            # Our model returns embeddings (instead of predictions).\n",
    "            predicted_similarity = model(image_one, image_second)\n",
    "            predicted_similarity = torch.squeeze(predicted_similarity, dim=-1)\n",
    "\n",
    "            loss = criterion(predicted_similarity, is_same_class.to(torch.float32))\n",
    "            loss.backward()\n",
    "\n",
    "            optimizer.step()\n",
    "\n",
    "            loss = loss.item()  # item() extracts scalar\n",
    "            train_loss += loss\n",
    "\n",
    "\n",
    "            prediction = (predicted_similarity >= threshold).float()\n",
    "            # _, predicted = torch.max(probabilities, 1)\n",
    "            train_correct += (prediction == is_same_class).sum().item()\n",
    "            data_size += is_same_class.size(0)\n",
    "            train_accuracy = train_correct / data_size\n",
    "            f1 = f1_score(prediction, is_same_class).item()\n",
    "            train_f1 += f1\n",
    "\n",
    "\n",
    "            tepoch.set_postfix(loss=loss, acc=train_accuracy)\n",
    "\n",
    "    train_loss /= n_batches\n",
    "    train_f1 /= n_batches\n",
    "    gc.collect()\n",
    "    torch.cuda.empty_cache()\n",
    "\n",
    "    return train_loss, train_accuracy, train_f1"
   ],
   "metadata": {
    "ExecuteTime": {
     "start_time": "2023-08-15T12:20:39.738616Z",
     "end_time": "2023-08-15T12:20:39.772382Z"
    },
    "execution": {
     "iopub.execute_input": "2023-08-14T16:24:30.953960Z",
     "iopub.status.busy": "2023-08-14T16:24:30.953613Z",
     "iopub.status.idle": "2023-08-14T16:24:30.963647Z",
     "shell.execute_reply": "2023-08-14T16:24:30.962764Z"
    },
    "id": "QObsYKNJTFDq",
    "papermill": {
     "duration": 0.043445,
     "end_time": "2023-08-14T16:24:30.965904",
     "exception": false,
     "start_time": "2023-08-14T16:24:30.922459",
     "status": "completed"
    },
    "tags": []
   },
   "execution_count": 252,
   "outputs": []
  },
  {
   "cell_type": "code",
   "source": [
    "@torch.inference_mode()\n",
    "def validate_one_epoch(model, dataloader, criterion, device):\n",
    "    model.eval()\n",
    "    threshold = torch.Tensor([0.5])\n",
    "    val_loss = 0.0\n",
    "    val_correct = 0.0\n",
    "    val_f1_score = 0.0\n",
    "    data_size = 0\n",
    "    n_batches = 0\n",
    "\n",
    "    with tqdm(dataloader, desc=\"Validation\",unit=\"batch\") as tepoch:\n",
    "        for image_one, image_second, is_same_class in tepoch:\n",
    "            n_batches += 1\n",
    "            image_one = image_one.to(device)\n",
    "            image_second = image_second.to(device)\n",
    "            is_same_class = is_same_class.to(device)\n",
    "\n",
    "            # Our model returns embeddings (instead of predictions).\n",
    "            predicted_similarity = model(image_one, image_second)\n",
    "            # print(predicted_similarity, predicted_similarity.int())\n",
    "            predicted_similarity = torch.squeeze(predicted_similarity, dim=-1)\n",
    "\n",
    "\n",
    "            # But we still want to calculate accuracy, so, we calculate probs it our ArcFace Function\n",
    "            loss = criterion(predicted_similarity, is_same_class.to(torch.float32))\n",
    "            loss = loss.item()  # item() extracts scalar\n",
    "            val_loss += loss\n",
    "\n",
    "\n",
    "            prediction = (predicted_similarity >= threshold).float()\n",
    "\n",
    "            correct = (prediction == is_same_class).sum().item()\n",
    "            val_correct += correct\n",
    "            data_size += is_same_class.size(0)  # Batch size\n",
    "\n",
    "            val_accuracy = val_correct / data_size\n",
    "            #\n",
    "            f1 = f1_score(prediction, is_same_class).item()\n",
    "            val_f1_score += f1\n",
    "            tepoch.set_postfix(loss=loss, acc=val_accuracy)\n",
    "\n",
    "    val_loss /= n_batches\n",
    "    val_f1_score /= n_batches\n",
    "    gc.collect()\n",
    "    torch.cuda.empty_cache()\n",
    "\n",
    "    return val_loss, val_accuracy, val_f1_score"
   ],
   "metadata": {
    "ExecuteTime": {
     "start_time": "2023-08-15T12:20:40.001421Z",
     "end_time": "2023-08-15T12:20:40.023052Z"
    },
    "execution": {
     "iopub.execute_input": "2023-08-14T16:24:31.029043Z",
     "iopub.status.busy": "2023-08-14T16:24:31.028729Z",
     "iopub.status.idle": "2023-08-14T16:24:31.037577Z",
     "shell.execute_reply": "2023-08-14T16:24:31.036621Z"
    },
    "id": "shn8rP6wTFDq",
    "papermill": {
     "duration": 0.043991,
     "end_time": "2023-08-14T16:24:31.039525",
     "exception": false,
     "start_time": "2023-08-14T16:24:30.995534",
     "status": "completed"
    },
    "tags": []
   },
   "execution_count": 253,
   "outputs": []
  },
  {
   "cell_type": "markdown",
   "source": [
    "## 3. Training cycle"
   ],
   "metadata": {
    "id": "1TWCVEGYTFDq",
    "papermill": {
     "duration": 0.029674,
     "end_time": "2023-08-14T16:24:31.098333",
     "exception": false,
     "start_time": "2023-08-14T16:24:31.068659",
     "status": "completed"
    },
    "tags": []
   }
  },
  {
   "cell_type": "code",
   "source": [
    "def train_model(model, train_loader, val_loader,\n",
    "                criterion=None, optimizer=None, num_epochs=5,\n",
    "                scheduler=None, device=torch.device(\"cpu\"),\n",
    "                save_model_to=None, save_margin_parameters_to=None):\n",
    "    since = time.time()\n",
    "\n",
    "    train_loss_history, valid_loss_history = [], []\n",
    "    train_acc_history, valid_acc_history = [], []\n",
    "    train_f1_history, valid_f1_history = [], []\n",
    "\n",
    "\n",
    "    # Create a temporary directory to save training checkpoints\n",
    "    with TemporaryDirectory() as tempdir:\n",
    "        best_model_params_path = os.path.join(tempdir, 'best_model_params.pt')\n",
    "\n",
    "        for epoch in range(num_epochs):\n",
    "            train_loss, train_accuracy, train_f1 = train_one_epoch(model, train_loader, optimizer, criterion, device, epoch=f'{epoch+1}/{num_epochs}')\n",
    "            val_loss, val_accuracy, val_f1 = validate_one_epoch(model, val_loader, criterion, device,)\n",
    "\n",
    "\n",
    "            print_highlighted(\n",
    "                f\"Loss: {val_loss:.4f} - Accuracy: {val_accuracy:.4f} - F1: {val_f1:.4f} - LR: {get_lr(optimizer)}\"\n",
    "            )\n",
    "\n",
    "            if not valid_loss_history or val_loss < valid_loss_history[-1]:\n",
    "                # If it's either first step (history is empty) or our weights are getting better\n",
    "                print_highlighted(\"New weights were applied.\\n\", bgcolor=Back.CYAN)\n",
    "                torch.save(model.state_dict(), best_model_params_path)\n",
    "\n",
    "            scheduler.step(val_loss)\n",
    "\n",
    "            train_loss_history.append(train_loss)\n",
    "            valid_loss_history.append(val_loss)\n",
    "            train_acc_history.append(train_accuracy)\n",
    "            valid_acc_history.append(val_accuracy)\n",
    "            train_f1_history.append(train_f1)\n",
    "            valid_f1_history.append(val_f1)\n",
    "\n",
    "            del train_loss\n",
    "            del val_loss\n",
    "            gc.collect()\n",
    "            torch.cuda.empty_cache()\n",
    "\n",
    "        time_elapsed = time.time() - since\n",
    "        print_highlighted(f'Training complete in {time_elapsed // 60:.0f}m {time_elapsed % 60:.0f}s')\n",
    "\n",
    "        # load best model weights\n",
    "        model.load_state_dict(torch.load(best_model_params_path))\n",
    "\n",
    "        if save_model_to:\n",
    "            torch.save(model, save_model_to)\n",
    "            print(f\"Model was saved to: {save_model_to}\")\n",
    "        if save_margin_parameters_to:\n",
    "            torch.save(criterion.state_dict(), save_margin_parameters_to)\n",
    "            print(f\"Loss Function weights were saved to: {save_margin_parameters_to}\")\n",
    "\n",
    "\n",
    "        history = dict(\n",
    "            train_loss=train_loss_history,\n",
    "            valid_loss=valid_loss_history,\n",
    "            train_accuracy=train_acc_history,\n",
    "            valid_accuracy=valid_acc_history,\n",
    "            train_f1_score=train_f1_history,\n",
    "            valid_f1_score=valid_f1_history,\n",
    "        )\n",
    "    return model, history"
   ],
   "metadata": {
    "ExecuteTime": {
     "start_time": "2023-08-15T12:20:41.774736Z",
     "end_time": "2023-08-15T12:20:41.813298Z"
    },
    "execution": {
     "iopub.execute_input": "2023-08-14T16:24:31.159532Z",
     "iopub.status.busy": "2023-08-14T16:24:31.159207Z",
     "iopub.status.idle": "2023-08-14T16:24:31.171763Z",
     "shell.execute_reply": "2023-08-14T16:24:31.170768Z"
    },
    "id": "CXrp7xrOTFDu",
    "papermill": {
     "duration": 0.045968,
     "end_time": "2023-08-14T16:24:31.173717",
     "exception": false,
     "start_time": "2023-08-14T16:24:31.127749",
     "status": "completed"
    },
    "tags": []
   },
   "execution_count": 254,
   "outputs": []
  },
  {
   "cell_type": "markdown",
   "source": [
    "# 6. Hyperparametres"
   ],
   "metadata": {
    "id": "GV7CqxbwTFDu",
    "papermill": {
     "duration": 0.029247,
     "end_time": "2023-08-14T16:24:31.232543",
     "exception": false,
     "start_time": "2023-08-14T16:24:31.203296",
     "status": "completed"
    },
    "tags": []
   }
  },
  {
   "cell_type": "code",
   "execution_count": 241,
   "outputs": [],
   "source": [
    "# criterion = nn.BCEWithLogitsLoss()\n",
    "criterion = nn.BCELoss()\n"
   ],
   "metadata": {
    "collapsed": false,
    "ExecuteTime": {
     "start_time": "2023-08-15T12:13:50.780351Z",
     "end_time": "2023-08-15T12:13:50.827766Z"
    }
   }
  },
  {
   "cell_type": "code",
   "source": [
    "config.learning_rate = 5e-4\n",
    "config.epochs = 1\n",
    "config.weight_decay = 1e-6\n",
    "config.min_loss_delta = 0.05"
   ],
   "metadata": {
    "ExecuteTime": {
     "start_time": "2023-08-15T12:13:50.959742Z",
     "end_time": "2023-08-15T12:13:51.062809Z"
    },
    "execution": {
     "iopub.execute_input": "2023-08-14T16:24:31.812527Z",
     "iopub.status.busy": "2023-08-14T16:24:31.811079Z",
     "iopub.status.idle": "2023-08-14T16:24:31.819857Z",
     "shell.execute_reply": "2023-08-14T16:24:31.818888Z"
    },
    "id": "HZAr_gPLTFDv",
    "papermill": {
     "duration": 0.04191,
     "end_time": "2023-08-14T16:24:31.822575",
     "exception": false,
     "start_time": "2023-08-14T16:24:31.780665",
     "status": "completed"
    },
    "tags": []
   },
   "execution_count": 242,
   "outputs": []
  },
  {
   "cell_type": "code",
   "source": [
    "optimizer = torch.optim.Adam(\n",
    "    pairwise_linear_model.parameters(),\n",
    "    lr=config.learning_rate,\n",
    "    weight_decay = config.weight_decay)\n",
    "# optimizer = torch.optim.Adam(model.parameters(), lr=1e-3, weight_decay=0)\n",
    "# optimizer = torch.optim.SGD(model.parameters(), lr=config.learning_rate, momentum=0.8)\n",
    "# optimizer = torch.optim.Adam(model.parameters(), lr=1e-4)\n"
   ],
   "metadata": {
    "ExecuteTime": {
     "start_time": "2023-08-15T12:13:51.086107Z",
     "end_time": "2023-08-15T12:13:51.270571Z"
    },
    "collapsed": false,
    "execution": {
     "iopub.execute_input": "2023-08-14T16:24:31.887011Z",
     "iopub.status.busy": "2023-08-14T16:24:31.886696Z",
     "iopub.status.idle": "2023-08-14T16:24:31.890781Z",
     "shell.execute_reply": "2023-08-14T16:24:31.889889Z"
    },
    "id": "XcMxhj2oTFDv",
    "jupyter": {
     "outputs_hidden": false
    },
    "papermill": {
     "duration": 0.036695,
     "end_time": "2023-08-14T16:24:31.892729",
     "exception": false,
     "start_time": "2023-08-14T16:24:31.856034",
     "status": "completed"
    },
    "tags": []
   },
   "execution_count": 243,
   "outputs": []
  },
  {
   "cell_type": "code",
   "source": [
    "# scheduler = optim.lr_scheduler.StepLR(optimizer, step_size=2, gamma=0.5, verbose=False)\n",
    "\n",
    "\n",
    "scheduler = optim.lr_scheduler.ReduceLROnPlateau(\n",
    "    optimizer, 'min', patience = 5, factor=0.5, \n",
    "    min_lr=config.min_lr , verbose=False,\n",
    "    threshold = config.min_loss_delta\n",
    ")\n",
    "\n",
    "\n",
    "# scheduler = optim.lr_scheduler.ExponentialLR(optimizer, gamma=0.5, verbose=False)\n",
    "# scheduler = optim.lr_scheduler.StepLR(optimizer=optimizer, step_size=10, gamma=0.5, verbose=False)"
   ],
   "metadata": {
    "ExecuteTime": {
     "start_time": "2023-08-15T12:13:51.179976Z",
     "end_time": "2023-08-15T12:13:51.301821Z"
    },
    "collapsed": false,
    "execution": {
     "iopub.execute_input": "2023-08-14T16:24:32.065698Z",
     "iopub.status.busy": "2023-08-14T16:24:32.065305Z",
     "iopub.status.idle": "2023-08-14T16:24:32.070407Z",
     "shell.execute_reply": "2023-08-14T16:24:32.069520Z"
    },
    "id": "mb4RgCFlTFDw",
    "jupyter": {
     "outputs_hidden": false
    },
    "papermill": {
     "duration": 0.048032,
     "end_time": "2023-08-14T16:24:32.072376",
     "exception": false,
     "start_time": "2023-08-14T16:24:32.024344",
     "status": "completed"
    },
    "tags": []
   },
   "execution_count": 244,
   "outputs": []
  },
  {
   "cell_type": "code",
   "source": [
    "def get_lr(optimizer):\n",
    "    \"\"\"\n",
    "    For some schedulers we don't have `get_last_lr()` method.\n",
    "    So, we will get last lr ourselves.\n",
    "    \"\"\"\n",
    "    return list(\n",
    "        [group['lr'] for group in optimizer.param_groups]\n",
    "    )"
   ],
   "metadata": {
    "ExecuteTime": {
     "start_time": "2023-08-15T12:13:51.405694Z",
     "end_time": "2023-08-15T12:13:51.453119Z"
    },
    "execution": {
     "iopub.execute_input": "2023-08-14T16:24:32.134287Z",
     "iopub.status.busy": "2023-08-14T16:24:32.133328Z",
     "iopub.status.idle": "2023-08-14T16:24:32.138841Z",
     "shell.execute_reply": "2023-08-14T16:24:32.137931Z"
    },
    "papermill": {
     "duration": 0.038065,
     "end_time": "2023-08-14T16:24:32.140787",
     "exception": false,
     "start_time": "2023-08-14T16:24:32.102722",
     "status": "completed"
    },
    "tags": []
   },
   "execution_count": 245,
   "outputs": []
  },
  {
   "cell_type": "code",
   "source": [
    "get_lr(optimizer)"
   ],
   "metadata": {
    "ExecuteTime": {
     "start_time": "2023-08-15T12:13:51.619348Z",
     "end_time": "2023-08-15T12:13:51.721686Z"
    },
    "execution": {
     "iopub.execute_input": "2023-08-14T16:24:32.200826Z",
     "iopub.status.busy": "2023-08-14T16:24:32.200013Z",
     "iopub.status.idle": "2023-08-14T16:24:32.206563Z",
     "shell.execute_reply": "2023-08-14T16:24:32.205619Z"
    },
    "papermill": {
     "duration": 0.038597,
     "end_time": "2023-08-14T16:24:32.208517",
     "exception": false,
     "start_time": "2023-08-14T16:24:32.169920",
     "status": "completed"
    },
    "tags": []
   },
   "execution_count": 246,
   "outputs": [
    {
     "data": {
      "text/plain": "[0.0005]"
     },
     "execution_count": 246,
     "metadata": {},
     "output_type": "execute_result"
    }
   ]
  },
  {
   "cell_type": "markdown",
   "source": [
    "# 7. Run the training process"
   ],
   "metadata": {
    "id": "CKuqXRwrTFDw",
    "papermill": {
     "duration": 0.029368,
     "end_time": "2023-08-14T16:24:32.266966",
     "exception": false,
     "start_time": "2023-08-14T16:24:32.237598",
     "status": "completed"
    },
    "tags": []
   }
  },
  {
   "cell_type": "code",
   "source": [
    "model_file_name = f'Siamese_Linear_Network.pth'\n",
    "\n",
    "model, history = train_model(\n",
    "    model=pairwise_linear_model,\n",
    "    train_loader=train_dataloader,\n",
    "    val_loader=test_dataloader,\n",
    "    criterion=criterion,\n",
    "    optimizer=optimizer,\n",
    "    num_epochs=config.epochs,\n",
    "    device=device,\n",
    "    scheduler=scheduler,\n",
    "    save_model_to=model_file_name,\n",
    " )"
   ],
   "metadata": {
    "execution": {
     "iopub.execute_input": "2023-08-14T16:24:32.327266Z",
     "iopub.status.busy": "2023-08-14T16:24:32.326919Z",
     "iopub.status.idle": "2023-08-14T17:29:05.459331Z",
     "shell.execute_reply": "2023-08-14T17:29:05.458257Z"
    },
    "id": "9WxsyvplTFDw",
    "outputId": "de053f41-a9bb-49b4-ceec-4245ce71efe0",
    "papermill": {
     "duration": 3873.747084,
     "end_time": "2023-08-14T17:29:06.043157",
     "exception": false,
     "start_time": "2023-08-14T16:24:32.296073",
     "status": "completed"
    },
    "tags": [],
    "ExecuteTime": {
     "start_time": "2023-08-15T12:20:43.982458Z",
     "end_time": "2023-08-15T12:20:47.319975Z"
    }
   },
   "execution_count": 255,
   "outputs": [
    {
     "name": "stderr",
     "output_type": "stream",
     "text": [
      "Epoch: 1/1: 100%|██████████| 167/167 [00:02<00:00, 66.74batch/s, acc=0.476, loss=0.596]\n",
      "Validation: 100%|██████████| 34/34 [00:00<00:00, 147.28batch/s, acc=0.44, loss=1.06]  \n"
     ]
    },
    {
     "name": "stdout",
     "output_type": "stream",
     "text": [
      "\u001B[43mLoss: 0.7209 - Accuracy: 0.4400 - F1: 0.3657 - LR: [0.0005]\u001B[0m\n",
      "\u001B[46mNew weights were applied.\n",
      "\u001B[0m\n",
      "\u001B[43mTraining complete in 0m 3s\u001B[0m\n",
      "Model was saved to: Siamese_Linear_Network.pth\n"
     ]
    }
   ]
  },
  {
   "cell_type": "code",
   "source": [
    "plot_stats(\n",
    "    **history,\n",
    "    title=f\"Model {config.model_name}\"\n",
    ")"
   ],
   "metadata": {
    "execution": {
     "iopub.execute_input": "2023-08-14T17:29:07.552541Z",
     "iopub.status.busy": "2023-08-14T17:29:07.551520Z",
     "iopub.status.idle": "2023-08-14T17:29:08.629601Z",
     "shell.execute_reply": "2023-08-14T17:29:08.628617Z"
    },
    "id": "7zTLOYTWTFDx",
    "papermill": {
     "duration": 1.874642,
     "end_time": "2023-08-14T17:29:08.631773",
     "exception": false,
     "start_time": "2023-08-14T17:29:06.757131",
     "status": "completed"
    },
    "tags": []
   },
   "execution_count": null,
   "outputs": []
  },
  {
   "cell_type": "code",
   "source": [],
   "metadata": {
    "collapsed": false,
    "jupyter": {
     "outputs_hidden": false
    },
    "papermill": {
     "duration": 0.736094,
     "end_time": "2023-08-14T17:29:10.094482",
     "exception": false,
     "start_time": "2023-08-14T17:29:09.358388",
     "status": "completed"
    },
    "tags": []
   },
   "execution_count": null,
   "outputs": []
  },
  {
   "cell_type": "markdown",
   "source": [
    "# 8. Result evaluation"
   ],
   "metadata": {
    "id": "kJcjndrnTFDx",
    "papermill": {
     "duration": 0.720815,
     "end_time": "2023-08-14T17:29:11.613678",
     "exception": false,
     "start_time": "2023-08-14T17:29:10.892863",
     "status": "completed"
    },
    "tags": []
   }
  },
  {
   "cell_type": "code",
   "source": [
    "embeddings_bag, labels = get_embeddings(model, test_dataloader, device)"
   ],
   "metadata": {
    "execution": {
     "iopub.execute_input": "2023-08-14T17:29:13.180809Z",
     "iopub.status.busy": "2023-08-14T17:29:13.180423Z",
     "iopub.status.idle": "2023-08-14T17:29:22.547307Z",
     "shell.execute_reply": "2023-08-14T17:29:22.546138Z"
    },
    "papermill": {
     "duration": 10.167975,
     "end_time": "2023-08-14T17:29:22.549964",
     "exception": false,
     "start_time": "2023-08-14T17:29:12.381989",
     "status": "completed"
    },
    "tags": []
   },
   "execution_count": null,
   "outputs": []
  },
  {
   "cell_type": "code",
   "source": [
    "# image = train_dataset[90][0].to(device)\n",
    "# lab = torch.unsqueeze(torch.tensor(train_dataset[90][1]).to(device).to(torch.long), dim=0)\n",
    "# model = model.to(device)\n",
    "#\n",
    "# criterion3(model(torch.unsqueeze(image, dim=0)), lab)"
   ],
   "metadata": {
    "ExecuteTime": {
     "end_time": "2023-08-14T18:42:57.174431Z",
     "start_time": "2023-08-14T18:42:57.071415Z"
    },
    "execution": {
     "iopub.execute_input": "2023-08-14T17:29:32.278407Z",
     "iopub.status.busy": "2023-08-14T17:29:32.278025Z",
     "iopub.status.idle": "2023-08-14T17:29:32.282464Z",
     "shell.execute_reply": "2023-08-14T17:29:32.281576Z"
    },
    "papermill": {
     "duration": 0.845045,
     "end_time": "2023-08-14T17:29:32.284428",
     "exception": false,
     "start_time": "2023-08-14T17:29:31.439383",
     "status": "completed"
    },
    "tags": []
   },
   "execution_count": null,
   "outputs": []
  },
  {
   "cell_type": "code",
   "source": [
    "model.eval()  # Set the model to evaluation mode\n",
    "predictions = []\n",
    "correct = 0\n",
    "total = 0\n",
    "\n",
    "with torch.no_grad():\n",
    "    with tqdm(test_dataloader, desc=\"Processing\",unit=\"batch\") as process:\n",
    "        for images, labels in process:\n",
    "            images = images.to(device)\n",
    "            labels = labels.to(device)\n",
    "            embeddings = model(images)\n",
    "            probabilities = criterion(embeddings, labels)\n",
    "            _, predicted = torch.max(probabilities, 1)\n",
    "            correct += (predicted == labels).sum().item()\n",
    "            total += labels.size(0)\n",
    "            \n",
    "            predictions.extend(predicted.cpu().numpy())\n",
    "\n",
    "            \n",
    "print_highlighted(f\"Manually calculated accuracy: {correct/total}\")"
   ],
   "metadata": {
    "execution": {
     "iopub.execute_input": "2023-08-14T17:29:33.715602Z",
     "iopub.status.busy": "2023-08-14T17:29:33.715205Z",
     "iopub.status.idle": "2023-08-14T17:29:43.114284Z",
     "shell.execute_reply": "2023-08-14T17:29:43.113069Z"
    },
    "id": "wk7eAo8cTFDx",
    "papermill": {
     "duration": 10.118892,
     "end_time": "2023-08-14T17:29:43.116952",
     "exception": false,
     "start_time": "2023-08-14T17:29:32.998060",
     "status": "completed"
    },
    "tags": []
   },
   "execution_count": null,
   "outputs": []
  },
  {
   "cell_type": "code",
   "source": [
    "c_report = classification_report(test_dataset.labels, np.array(predictions), output_dict=True, zero_division=0)\n",
    "c_report = pd.DataFrame(c_report).transpose()\n",
    "c_report"
   ],
   "metadata": {
    "execution": {
     "iopub.execute_input": "2023-08-14T17:29:44.618044Z",
     "iopub.status.busy": "2023-08-14T17:29:44.617637Z",
     "iopub.status.idle": "2023-08-14T17:29:44.689042Z",
     "shell.execute_reply": "2023-08-14T17:29:44.688010Z"
    },
    "id": "q5VvToQGTFDy",
    "papermill": {
     "duration": 0.792285,
     "end_time": "2023-08-14T17:29:44.691623",
     "exception": false,
     "start_time": "2023-08-14T17:29:43.899338",
     "status": "completed"
    },
    "tags": []
   },
   "execution_count": null,
   "outputs": []
  },
  {
   "cell_type": "code",
   "source": [
    "c_report[c_report['precision'] > 0][:-3].mean()"
   ],
   "metadata": {
    "execution": {
     "iopub.execute_input": "2023-08-14T17:29:46.201628Z",
     "iopub.status.busy": "2023-08-14T17:29:46.201218Z",
     "iopub.status.idle": "2023-08-14T17:29:46.212445Z",
     "shell.execute_reply": "2023-08-14T17:29:46.211494Z"
    },
    "id": "UJLtt_s6TFDy",
    "papermill": {
     "duration": 0.803204,
     "end_time": "2023-08-14T17:29:46.214445",
     "exception": false,
     "start_time": "2023-08-14T17:29:45.411241",
     "status": "completed"
    },
    "tags": []
   },
   "execution_count": null,
   "outputs": []
  },
  {
   "cell_type": "code",
   "source": [
    "accuracy_score(test_dataset.labels, np.array(predictions))"
   ],
   "metadata": {
    "execution": {
     "iopub.execute_input": "2023-08-14T17:29:47.702482Z",
     "iopub.status.busy": "2023-08-14T17:29:47.702060Z",
     "iopub.status.idle": "2023-08-14T17:29:47.711759Z",
     "shell.execute_reply": "2023-08-14T17:29:47.710360Z"
    },
    "id": "_Sw-oDmlTFDy",
    "papermill": {
     "duration": 0.764826,
     "end_time": "2023-08-14T17:29:47.714415",
     "exception": false,
     "start_time": "2023-08-14T17:29:46.949589",
     "status": "completed"
    },
    "tags": []
   },
   "execution_count": null,
   "outputs": []
  },
  {
   "cell_type": "markdown",
   "source": [
    "To download the model, use code below:"
   ],
   "metadata": {
    "papermill": {
     "duration": 0.711078,
     "end_time": "2023-08-14T17:29:49.249729",
     "exception": false,
     "start_time": "2023-08-14T17:29:48.538651",
     "status": "completed"
    },
    "tags": []
   }
  },
  {
   "cell_type": "code",
   "source": [
    "from IPython.display import FileLink\n",
    "FileLink(model_file_name)"
   ],
   "metadata": {
    "collapsed": false,
    "execution": {
     "iopub.execute_input": "2023-08-14T17:29:50.675708Z",
     "iopub.status.busy": "2023-08-14T17:29:50.675294Z",
     "iopub.status.idle": "2023-08-14T17:29:50.681727Z",
     "shell.execute_reply": "2023-08-14T17:29:50.680795Z"
    },
    "jupyter": {
     "outputs_hidden": false
    },
    "papermill": {
     "duration": 0.722568,
     "end_time": "2023-08-14T17:29:50.683794",
     "exception": false,
     "start_time": "2023-08-14T17:29:49.961226",
     "status": "completed"
    },
    "tags": []
   },
   "execution_count": null,
   "outputs": []
  }
 ]
}
