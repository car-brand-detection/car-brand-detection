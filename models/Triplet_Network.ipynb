{
 "cells": [
  {
   "cell_type": "code",
   "execution_count": 1,
   "outputs": [],
   "source": [
    "import os\n",
    "import gc\n",
    "import time\n",
    "\n",
    "import numpy\n",
    "import numpy as np\n",
    "import pickle\n",
    "import pandas as pd\n",
    "import seaborn as sns\n",
    "import matplotlib.pyplot as plt\n",
    "from tempfile import TemporaryDirectory\n",
    "from tqdm import tqdm # To see the progress bar\n",
    "import PIL.Image as Image"
   ],
   "metadata": {
    "collapsed": false
   }
  },
  {
   "cell_type": "code",
   "execution_count": 2,
   "outputs": [],
   "source": [
    "import torch\n",
    "import torch.nn as nn\n",
    "import torch.optim as optim\n",
    "import torchvision.transforms as T\n",
    "import torchvision.transforms.functional as F\n"
   ],
   "metadata": {
    "collapsed": false
   }
  },
  {
   "cell_type": "code",
   "execution_count": 3,
   "outputs": [],
   "source": [
    "from torch.utils.data import DataLoader, Dataset\n",
    "import torchvision.transforms as T\n",
    "from torchvision.io import read_image\n",
    "from torchvision.transforms.functional import to_pil_image, to_grayscale, to_tensor\n",
    "import torchvision.transforms.functional as F\n",
    "from torchvision import models"
   ],
   "metadata": {
    "collapsed": false
   }
  },
  {
   "cell_type": "code",
   "execution_count": 83,
   "outputs": [],
   "source": [
    "# Classic ML\n",
    "from sklearn.decomposition import PCA\n",
    "from sklearn.manifold import TSNE\n",
    "\n",
    "from sklearn.preprocessing import StandardScaler\n",
    "from sklearn.neighbors import KNeighborsClassifier\n",
    "from sklearn.metrics import classification_report\n",
    "from sklearn.cluster import KMeans\n",
    "from sklearn.cluster import DBSCAN"
   ],
   "metadata": {
    "collapsed": false,
    "ExecuteTime": {
     "start_time": "2023-07-15T11:42:54.668460Z",
     "end_time": "2023-07-15T11:42:54.731534Z"
    }
   }
  },
  {
   "cell_type": "code",
   "execution_count": 4,
   "outputs": [],
   "source": [
    "\n",
    "# Preprocessing transformations\n",
    "Transform = T.Compose([\n",
    "    T.Resize(256),\n",
    "    T.ToTensor(),\n",
    "    T.Normalize(mean=[0.485, 0.456, 0.406], std=[0.229, 0.224, 0.225])\n",
    "])"
   ],
   "metadata": {
    "collapsed": false
   }
  },
  {
   "cell_type": "code",
   "execution_count": 5,
   "outputs": [],
   "source": [
    "IMAGE_DIMENSION = 256"
   ],
   "metadata": {
    "collapsed": false
   }
  },
  {
   "cell_type": "code",
   "execution_count": 6,
   "outputs": [],
   "source": [
    "# Define data transformations\n",
    "data_transforms = {\n",
    "    'train': T.Compose([\n",
    "        T.Resize((IMAGE_DIMENSION, IMAGE_DIMENSION)),\n",
    "        # T.RandomResizedCrop(224),\n",
    "        # T.RandomHorizontalFlip(),\n",
    "\n",
    "        T.ToTensor(),\n",
    "        # T.Normalize([0.5], [0.5]),\n",
    "        # T.Grayscale(num_output_channels=3),\n",
    "\n",
    "        # T.ToTensor(),\n",
    "        T.Normalize([0.485, 0.456, 0.406], [0.229, 0.224, 0.225])\n",
    "    ]),\n",
    "    'test': T.Compose([\n",
    "        T.Resize((IMAGE_DIMENSION, IMAGE_DIMENSION)),\n",
    "        # T.CenterCrop(224),\n",
    "\n",
    "        T.ToTensor(),\n",
    "        # T.Normalize([0.5], [0.5]),\n",
    "        # T.Grayscale(num_output_channels=3),\n",
    "\n",
    "\n",
    "        # T.ToTensor(),\n",
    "        T.Normalize([0.485, 0.456, 0.406], [0.229, 0.224, 0.225])\n",
    "    ])\n",
    "}"
   ],
   "metadata": {
    "collapsed": false
   }
  },
  {
   "cell_type": "code",
   "execution_count": 7,
   "outputs": [],
   "source": [
    "def apply_label_encoding_to_data(data: pd.DataFrame) -> pd.DataFrame:\n",
    "    class_label_mapping = {}  # Dictionary to map class labels to indices\n",
    "    unique_classes = data['label'].unique()  # Assuming 'label' is the column containing class labels in your CSV file\n",
    "\n",
    "    for idx, class_label in enumerate(unique_classes):\n",
    "        class_label_mapping[class_label] = idx\n",
    "\n",
    "    # Convert the class labels in your dataset to numeric format\n",
    "    data['label'] = data['label'].map(class_label_mapping)\n",
    "    return data"
   ],
   "metadata": {
    "collapsed": false
   }
  },
  {
   "cell_type": "code",
   "execution_count": 8,
   "outputs": [],
   "source": [
    "class CustomImageDataset(Dataset):\n",
    "    def __init__(self, labels_path, images_path, transform=None, target_transform=None):\n",
    "        super().__init__()\n",
    "        labels = pd.read_csv(labels_path)[:1000]\n",
    "        if target_transform:\n",
    "            labels = target_transform(labels)\n",
    "\n",
    "\n",
    "        self.img_labels = labels\n",
    "\n",
    "        self.img_dir = images_path\n",
    "\n",
    "        self.transform = transform\n",
    "\n",
    "    def __len__(self):\n",
    "        return min(np.max(self.img_labels['id']), len(os.listdir(self.img_dir)))\n",
    "        # return len(self.img_labels) - 1\n",
    "\n",
    "    def __getitem__(self, idx) -> tuple[torch.Tensor, int]:\n",
    "\n",
    "        (id, label) = self.img_labels.iloc[idx]\n",
    "        img_path = os.path.join(self.img_dir, str(id) + \".jpg\")\n",
    "        image = to_pil_image(read_image(img_path))\n",
    "\n",
    "        # image=to_grayscale(image)\n",
    "        image = image.convert(\"RGB\")\n",
    "\n",
    "        if self.transform:\n",
    "            image = self.transform(image)\n",
    "\n",
    "        return image, label\n",
    "\n",
    "\n",
    "    @property\n",
    "    def classes(self):\n",
    "        return self.img_labels['label'].nunique()"
   ],
   "metadata": {
    "collapsed": false
   }
  },
  {
   "cell_type": "code",
   "execution_count": 9,
   "outputs": [],
   "source": [
    "class TripletDataset(Dataset):\n",
    "    \"\"\"\n",
    "    This dataset is used for Triplet NN. Here each item is a tuple of three images:\n",
    "    Anchor, Positive and Negative. This dataset doesn't provide the labels for images:\n",
    "    we use comparing of images to train a model; so,\n",
    "    whether the labels are equal IS OUR CRITERIA, not the labels itself.\n",
    "    \"\"\"\n",
    "    def __init__(self, labels_path, images_path, transform=None):\n",
    "        super().__init__()\n",
    "        labels = pd.read_csv(labels_path)\n",
    "        self.img_labels = labels\n",
    "        self.img_dir = images_path\n",
    "        self.transform = transform\n",
    "\n",
    "    def __len__(self):\n",
    "        a = np.max(self.img_labels['id'])\n",
    "        b = len(os.listdir(self.img_dir))\n",
    "        assert a == b\n",
    "        return a\n",
    "        # return min(np.max(self.img_labels['id']), len(os.listdir(self.img_dir)))\n",
    "        # return len(self.img_labels) - 1\n",
    "\n",
    "    def __get_data_row(self, idx):\n",
    "        \"\"\"\n",
    "        This function gets item label and id.\n",
    "        :param idx: Pythonic item number (supposed to start from 0)\n",
    "        :return:\n",
    "            1) item id (which is equal to image name if the folder) (may start from both 0 or 1, or even other)\n",
    "            2) label\n",
    "        \"\"\"\n",
    "        id_value, label = self.img_labels.iloc[idx]\n",
    "        return id_value, label\n",
    "\n",
    "\n",
    "    def __get_image(self, img_id, kind=\"anchor\", label=None) -> tuple[torch.Tensor, int]:\n",
    "        img_path = os.path.join(self.img_dir, str(img_id) + \".jpg\")\n",
    "        image = to_pil_image(read_image(img_path))\n",
    "        image = image.convert(\"RGB\")\n",
    "        if self.transform:\n",
    "            image = self.transform(image)\n",
    "        return image\n",
    "\n",
    "\n",
    "    def __getitem__(self, idx) -> tuple[torch.Tensor, int]:\n",
    "        \"\"\" Function to return item by indexing the dataset \"\"\"\n",
    "\n",
    "        anchor_id, label = self.__get_data_row(idx)\n",
    "        anchor = self.__get_image(img_id=anchor_id)\n",
    "\n",
    "        positive_index = np.random.choice(np.where(self.img_labels['label'] == label)[0])\n",
    "        positive_id, _ = self.__get_data_row(positive_index)\n",
    "        positive = self.__get_image(img_id=positive_id)\n",
    "\n",
    "        negative_labels = np.where(self.img_labels['label'] != label)[0]\n",
    "        negative_index = np.random.choice(negative_labels)\n",
    "        negative_id, _ = self.__get_data_row(negative_index)\n",
    "        negative = self.__get_image(img_id=negative_id)\n",
    "\n",
    "        return anchor, positive, negative\n",
    "\n",
    "\n",
    "    @property\n",
    "    def classes_(self):\n",
    "        return self.img_labels['label'].unique()\n",
    "\n",
    "\n",
    "\n"
   ],
   "metadata": {
    "collapsed": false
   }
  },
  {
   "cell_type": "code",
   "execution_count": 10,
   "outputs": [],
   "source": [
    "data_path = '../'"
   ],
   "metadata": {
    "collapsed": false
   }
  },
  {
   "cell_type": "code",
   "execution_count": 11,
   "outputs": [],
   "source": [
    "# DATA_PATH = {\n",
    "#     'train': {\n",
    "#         'images': data_path + \"cars_data/train\",\n",
    "#         'labels': data_path + \"cars_data/train_labels.csv\"\n",
    "#     },\n",
    "#     'test': {\n",
    "#         'images': data_path + \"cars_data/test\",\n",
    "#         'labels': data_path + \"cars_data/test_labels.csv\"\n",
    "#     },\n",
    "#     'val': {\n",
    "#         'images': data_path + \"cars_data/test\",\n",
    "#         'labels': data_path + \"cars_data/test_labels.csv\"\n",
    "#     },\n",
    "# }\n",
    "DATA_PATH = {\n",
    "    'train': {\n",
    "        'images': data_path + \"Cropped_dogs/train\",\n",
    "        'labels': data_path + \"Dogs/train_labels.csv\"\n",
    "    },\n",
    "    'test': {\n",
    "        'images': data_path + \"Cropped_dogs/test\",\n",
    "        'labels': data_path + \"Dogs/test_labels.csv\"\n",
    "    },\n",
    "    'val': {\n",
    "        'images': data_path + \"Cropped_dogs/val\",\n",
    "        'labels': data_path + \"Dogs/val_labels.csv\"\n",
    "    },\n",
    "}"
   ],
   "metadata": {
    "collapsed": false
   }
  },
  {
   "cell_type": "code",
   "execution_count": 33,
   "outputs": [
    {
     "ename": "NameError",
     "evalue": "name 'CustomImageDataset' is not defined",
     "output_type": "error",
     "traceback": [
      "\u001B[1;31m---------------------------------------------------------------------------\u001B[0m",
      "\u001B[1;31mNameError\u001B[0m                                 Traceback (most recent call last)",
      "Cell \u001B[1;32mIn[33], line 1\u001B[0m\n\u001B[1;32m----> 1\u001B[0m train_dataset \u001B[38;5;241m=\u001B[39m \u001B[43mCustomImageDataset\u001B[49m(\n\u001B[0;32m      2\u001B[0m     labels_path\u001B[38;5;241m=\u001B[39mDATA_PATH[\u001B[38;5;124m'\u001B[39m\u001B[38;5;124mtrain\u001B[39m\u001B[38;5;124m'\u001B[39m][\u001B[38;5;124m'\u001B[39m\u001B[38;5;124mlabels\u001B[39m\u001B[38;5;124m'\u001B[39m],\n\u001B[0;32m      3\u001B[0m     images_path\u001B[38;5;241m=\u001B[39mDATA_PATH[\u001B[38;5;124m'\u001B[39m\u001B[38;5;124mtrain\u001B[39m\u001B[38;5;124m'\u001B[39m][\u001B[38;5;124m'\u001B[39m\u001B[38;5;124mimages\u001B[39m\u001B[38;5;124m'\u001B[39m],\n\u001B[0;32m      4\u001B[0m     transform\u001B[38;5;241m=\u001B[39mdata_transforms[\u001B[38;5;124m'\u001B[39m\u001B[38;5;124mtrain\u001B[39m\u001B[38;5;124m'\u001B[39m],\n\u001B[0;32m      5\u001B[0m     target_transform\u001B[38;5;241m=\u001B[39mapply_label_encoding_to_data\n\u001B[0;32m      6\u001B[0m )\n\u001B[0;32m      7\u001B[0m \u001B[38;5;66;03m# test_dataset = CustomImageDataset(\u001B[39;00m\n\u001B[0;32m      8\u001B[0m \u001B[38;5;66;03m#     labels_path=DATA_PATH['test']['labels'],\u001B[39;00m\n\u001B[0;32m      9\u001B[0m \u001B[38;5;66;03m#     images_path=DATA_PATH['test']['images'],\u001B[39;00m\n\u001B[0;32m     10\u001B[0m \u001B[38;5;66;03m#     transform=data_transforms['test'],\u001B[39;00m\n\u001B[0;32m     11\u001B[0m \u001B[38;5;66;03m#     target_transform=apply_label_encoding_to_data\u001B[39;00m\n\u001B[0;32m     12\u001B[0m \u001B[38;5;66;03m# )\u001B[39;00m\n\u001B[0;32m     13\u001B[0m val_dataset \u001B[38;5;241m=\u001B[39m CustomImageDataset(\n\u001B[0;32m     14\u001B[0m     labels_path\u001B[38;5;241m=\u001B[39mDATA_PATH[\u001B[38;5;124m'\u001B[39m\u001B[38;5;124mval\u001B[39m\u001B[38;5;124m'\u001B[39m][\u001B[38;5;124m'\u001B[39m\u001B[38;5;124mlabels\u001B[39m\u001B[38;5;124m'\u001B[39m],\n\u001B[0;32m     15\u001B[0m     images_path\u001B[38;5;241m=\u001B[39mDATA_PATH[\u001B[38;5;124m'\u001B[39m\u001B[38;5;124mval\u001B[39m\u001B[38;5;124m'\u001B[39m][\u001B[38;5;124m'\u001B[39m\u001B[38;5;124mimages\u001B[39m\u001B[38;5;124m'\u001B[39m],\n\u001B[0;32m     16\u001B[0m     transform\u001B[38;5;241m=\u001B[39mdata_transforms[\u001B[38;5;124m'\u001B[39m\u001B[38;5;124mtest\u001B[39m\u001B[38;5;124m'\u001B[39m],\n\u001B[0;32m     17\u001B[0m     target_transform\u001B[38;5;241m=\u001B[39mapply_label_encoding_to_data\n\u001B[0;32m     18\u001B[0m )\n",
      "\u001B[1;31mNameError\u001B[0m: name 'CustomImageDataset' is not defined"
     ]
    }
   ],
   "source": [
    "# train_dataset = CustomImageDataset(\n",
    "#     labels_path=DATA_PATH['train']['labels'],\n",
    "#     images_path=DATA_PATH['train']['images'],\n",
    "#     transform=data_transforms['train'],\n",
    "#     target_transform=apply_label_encoding_to_data\n",
    "# )\n",
    "# test_dataset = CustomImageDataset(\n",
    "#     labels_path=DATA_PATH['test']['labels'],\n",
    "#     images_path=DATA_PATH['test']['images'],\n",
    "#     transform=data_transforms['test'],\n",
    "#     target_transform=apply_label_encoding_to_data\n",
    "# )\n",
    "# val_dataset = CustomImageDataset(\n",
    "#     labels_path=DATA_PATH['val']['labels'],\n",
    "#     images_path=DATA_PATH['val']['images'],\n",
    "#     transform=data_transforms['test'],\n",
    "#     target_transform=apply_label_encoding_to_data\n",
    "# )"
   ],
   "metadata": {
    "collapsed": false
   }
  },
  {
   "cell_type": "code",
   "execution_count": 12,
   "outputs": [],
   "source": [
    "train_dataset = TripletDataset(\n",
    "    labels_path=DATA_PATH['train']['labels'],\n",
    "    images_path=DATA_PATH['train']['images'],\n",
    "    transform=data_transforms['train'],\n",
    ")\n",
    "# test_dataset = CustomImageDataset(\n",
    "#     labels_path=DATA_PATH['test']['labels'],\n",
    "#     images_path=DATA_PATH['test']['images'],\n",
    "#     transform=data_transforms['test'],\n",
    "#     target_transform=apply_label_encoding_to_data\n",
    "# )\n",
    "val_dataset = TripletDataset(\n",
    "    labels_path=DATA_PATH['val']['labels'],\n",
    "    images_path=DATA_PATH['val']['images'],\n",
    "    transform=data_transforms['test'],\n",
    ")"
   ],
   "metadata": {
    "collapsed": false
   }
  },
  {
   "cell_type": "code",
   "execution_count": 13,
   "outputs": [],
   "source": [
    "BATCH_SIZE = 16"
   ],
   "metadata": {
    "collapsed": false
   }
  },
  {
   "cell_type": "code",
   "execution_count": 14,
   "outputs": [],
   "source": [
    "train_dataloader = DataLoader(train_dataset, batch_size=BATCH_SIZE, shuffle=True)\n",
    "# test_dataloader = DataLoader(test_dataset, batch_size=BATCH_SIZE, shuffle=False)\n",
    "val_dataloader = DataLoader(val_dataset, batch_size=BATCH_SIZE, shuffle=False)"
   ],
   "metadata": {
    "collapsed": false
   }
  },
  {
   "cell_type": "code",
   "execution_count": 15,
   "outputs": [],
   "source": [
    "model = models.resnet18(weights='IMAGENET1K_V1')"
   ],
   "metadata": {
    "collapsed": false
   }
  },
  {
   "cell_type": "markdown",
   "source": [
    "Our Resnet model has 1000 out features. We will replace this number with **64**"
   ],
   "metadata": {
    "collapsed": false
   }
  },
  {
   "cell_type": "code",
   "execution_count": 16,
   "outputs": [],
   "source": [
    "model.fc = nn.Linear(model.fc.in_features, 64)"
   ],
   "metadata": {
    "collapsed": false
   }
  },
  {
   "cell_type": "code",
   "execution_count": 17,
   "outputs": [],
   "source": [
    "device = torch.device(\"cuda\" if torch.cuda.is_available() else \"cpu\")"
   ],
   "metadata": {
    "collapsed": false
   }
  },
  {
   "cell_type": "markdown",
   "source": [
    "## Triplet Loss Implementation"
   ],
   "metadata": {
    "collapsed": false
   }
  },
  {
   "cell_type": "code",
   "execution_count": 18,
   "outputs": [],
   "source": [
    "triplet_criterion = nn.TripletMarginLoss(margin=1.0, p=2)"
   ],
   "metadata": {
    "collapsed": false
   }
  },
  {
   "cell_type": "markdown",
   "source": [
    "Before the training, let's see how our criterion works"
   ],
   "metadata": {
    "collapsed": false
   }
  },
  {
   "cell_type": "code",
   "execution_count": 19,
   "outputs": [],
   "source": [
    "def show_loss(loss_list: list) -> None:\n",
    "    plt.plot(loss_list)\n",
    "    plt.xlabel('Epochs')\n",
    "    plt.ylabel('Loss')\n",
    "    plt.title('Loss History')\n",
    "    plt.show()\n"
   ],
   "metadata": {
    "collapsed": false
   }
  },
  {
   "cell_type": "code",
   "execution_count": 20,
   "outputs": [],
   "source": [
    "loss_history = []"
   ],
   "metadata": {
    "collapsed": false
   }
  },
  {
   "cell_type": "markdown",
   "source": [
    "Now we will calculate our loss for some items in dataset."
   ],
   "metadata": {
    "collapsed": false
   }
  },
  {
   "cell_type": "code",
   "execution_count": 69,
   "outputs": [],
   "source": [
    "dataset = val_dataset\n",
    "for i in range(len(dataset)):\n",
    "    anchor = dataset[i][0]\n",
    "    positive = dataset[i][1]\n",
    "    negative = dataset[i][2]\n",
    "\n",
    "    with torch.no_grad():\n",
    "        features1 = model(anchor.unsqueeze(0))\n",
    "        features2 = model(positive.unsqueeze(0))\n",
    "        features3 = model(negative.unsqueeze(0))\n",
    "\n",
    "\n",
    "    anchor_embedding = torch.flatten(features1, start_dim=1)\n",
    "    epositive_mbedding = torch.flatten(features2, start_dim=1)\n",
    "    negative_embedding = torch.flatten(features3, start_dim=1)\n",
    "\n",
    "    loss = triplet_criterion(anchor_embedding, epositive_mbedding, negative_embedding)\n",
    "\n",
    "    # embeddings_data.append(embedding1)\n",
    "    loss_history.append(loss)\n",
    "\n"
   ],
   "metadata": {
    "collapsed": false,
    "ExecuteTime": {
     "start_time": "2023-07-15T10:57:10.158405Z",
     "end_time": "2023-07-15T10:57:22.334931Z"
    }
   }
  },
  {
   "cell_type": "code",
   "execution_count": 70,
   "outputs": [
    {
     "data": {
      "text/plain": "<Figure size 640x480 with 1 Axes>",
      "image/png": "[encoded data removed]"
     },
     "metadata": {},
     "output_type": "display_data"
    }
   ],
   "source": [
    "show_loss(loss_history)"
   ],
   "metadata": {
    "collapsed": false,
    "ExecuteTime": {
     "start_time": "2023-07-15T10:57:51.916711Z",
     "end_time": "2023-07-15T10:57:52.207654Z"
    }
   }
  },
  {
   "cell_type": "markdown",
   "source": [
    "As long as we haven't train model yet, loss func is not minimized and loss is distributed randomly: model cannot recognize class relationship between images. So, any attempt to train classic ML classification algorithm (e.g. KNN) is going to failure - embeddings don't tell enough and they poorly capture the similarities and differences between images.\n",
    "To address this issue and correctly locate the vectors, we need to train our model using the Triplet Loss.\n"
   ],
   "metadata": {
    "collapsed": false
   }
  },
  {
   "cell_type": "markdown",
   "source": [
    "## Clustering"
   ],
   "metadata": {
    "collapsed": false
   }
  },
  {
   "cell_type": "markdown",
   "source": [
    "Let's see how well our data can be divided into classes"
   ],
   "metadata": {
    "collapsed": false
   }
  },
  {
   "cell_type": "code",
   "execution_count": 44,
   "outputs": [],
   "source": [
    "def collect_embeddings(model: nn.Module, data: TripletDataset, device='cpu') -> np.array:\n",
    "    \"\"\"\n",
    "    In this function we will extract ony Anchor images and process them\n",
    "    return: np.Array with embeddings of images\n",
    "    \"\"\"\n",
    "    embeddings = []\n",
    "    model.eval()\n",
    "    model.to(device)\n",
    "    with torch.no_grad():\n",
    "        for i in range(len(data)):\n",
    "            anchor_image = data[i][0]\n",
    "            embedding = model(anchor_image.unsqueeze(0))\n",
    "            embeddings.append(embedding.numpy())\n",
    "\n",
    "    return np.squeeze(np.array(embeddings), axis=1)  # We remove extra axis, so we get (N, B) instead of (N, 1, B)"
   ],
   "metadata": {
    "collapsed": false,
    "ExecuteTime": {
     "start_time": "2023-07-15T09:38:12.407193Z",
     "end_time": "2023-07-15T09:38:12.422843Z"
    }
   }
  },
  {
   "cell_type": "code",
   "execution_count": 45,
   "outputs": [],
   "source": [
    "val_embeddings = collect_embeddings(\n",
    "    model=model,\n",
    "    data=val_dataset,\n",
    "    device=device\n",
    ")"
   ],
   "metadata": {
    "collapsed": false,
    "ExecuteTime": {
     "start_time": "2023-07-15T09:38:13.289376Z",
     "end_time": "2023-07-15T09:38:17.486404Z"
    }
   }
  },
  {
   "cell_type": "code",
   "execution_count": 46,
   "outputs": [],
   "source": [
    "train_embeddings = collect_embeddings(\n",
    "    model=model,\n",
    "    data=train_dataset,\n",
    "    device=device\n",
    ")"
   ],
   "metadata": {
    "collapsed": false,
    "ExecuteTime": {
     "start_time": "2023-07-15T09:38:17.492435Z",
     "end_time": "2023-07-15T09:38:38.692975Z"
    }
   }
  },
  {
   "cell_type": "code",
   "execution_count": 255,
   "outputs": [],
   "source": [
    "def reduce_dimension(dimension, features, reduce_with='pca',) -> None:\n",
    "    \"\"\" Perform dimensionality reduction with PCA or t-SNE \"\"\"\n",
    "\n",
    "    if reduce_with == 'tsne' and dimension < 4:\n",
    "        reductor = TSNE(n_components=dimension, perplexity=25.0)\n",
    "    else: # PCA\n",
    "        reductor = PCA(n_components=dimension)\n",
    "\n",
    "    reduced_features = reductor.fit_transform(features)\n",
    "    return reduced_features"
   ],
   "metadata": {
    "collapsed": false,
    "ExecuteTime": {
     "start_time": "2023-07-15T13:23:10.457824Z",
     "end_time": "2023-07-15T13:23:10.493281Z"
    }
   }
  },
  {
   "cell_type": "code",
   "execution_count": 283,
   "outputs": [],
   "source": [
    "def cluster_and_visualize_embeddings(embeddings, reduce_embeddings_to=None, dimension=2, cluster_with='knn', reduce_with='pca', eps=2):\n",
    "    \"\"\" Function to cluster the data and visualize it in low-dimensional space\"\"\"\n",
    "    assert cluster_with in ['knn', 'dbscan']\n",
    "    assert reduce_with in ['pca', 'tsne']\n",
    "\n",
    "    if reduce_embeddings_to:\n",
    "        embeddings = reduce_dimension(\n",
    "            dimension=reduce_embeddings_to,\n",
    "            features=embeddings,\n",
    "            reduce_with=reduce_with\n",
    "        )\n",
    "\n",
    "    if cluster_with == 'knn':\n",
    "        kmeans = KMeans(n_clusters=10)\n",
    "        clusters = kmeans.fit_predict(embeddings)\n",
    "    else:\n",
    "        # EPS = 1.8 is a good value\n",
    "        dbscan = DBSCAN(eps=eps, min_samples=4, metric='euclidean')\n",
    "        clusters = dbscan.fit_predict(embeddings)\n",
    "        print(clusters)\n",
    "\n",
    "    # return\n",
    "\n",
    "    # Now we reduce data again so that we can plot it.\n",
    "    reduced_embeddings = reduce_dimension(\n",
    "        dimension=dimension,\n",
    "        features=embeddings,\n",
    "        reduce_with=reduce_with\n",
    "    )\n",
    "\n",
    "\n",
    "    # Plot the clusters in 3D or 2D\n",
    "    fig = plt.figure()\n",
    "    if dimension == 2:\n",
    "        ax = fig.add_subplot(111)\n",
    "        dots = (reduced_embeddings[:, 0], reduced_embeddings[:, 1])\n",
    "    elif dimension == 3:\n",
    "        ax = fig.add_subplot(111, projection='3d')\n",
    "        ax.set_zlabel('Dimension 3')\n",
    "        dots = (reduced_embeddings[:, 0], reduced_embeddings[:, 1], reduced_embeddings[:, 2]\n",
    "        )\n",
    "\n",
    "    plt.scatter(*dots, c=clusters, cmap='viridis')\n",
    "    ax.set_title('Cluster Visualization')\n",
    "    ax.set_xlabel('Dimension 1')\n",
    "    ax.set_ylabel('Dimension 2')\n",
    "\n",
    "    plt.show()\n"
   ],
   "metadata": {
    "collapsed": false,
    "ExecuteTime": {
     "start_time": "2023-07-15T13:26:49.088367Z",
     "end_time": "2023-07-15T13:26:49.103617Z"
    }
   }
  },
  {
   "cell_type": "code",
   "execution_count": 292,
   "outputs": [
    {
     "name": "stderr",
     "output_type": "stream",
     "text": [
      "D:\\possessor\\Documents\\ESSE\\IT\\ML\\CV\\cvenv\\Lib\\site-packages\\sklearn\\cluster\\_kmeans.py:1412: FutureWarning: The default value of `n_init` will change from 10 to 'auto' in 1.4. Set the value of `n_init` explicitly to suppress the warning\n",
      "  super()._check_params_vs_input(X, default_n_init=10)\n"
     ]
    },
    {
     "data": {
      "text/plain": "<Figure size 640x480 with 1 Axes>",
      "image/png": "[encoded data removed]"
     },
     "metadata": {},
     "output_type": "display_data"
    }
   ],
   "source": [
    "cluster_and_visualize_embeddings(train_embeddings,\n",
    "    dimension=2,\n",
    "    reduce_embeddings_to=8,\n",
    "    cluster_with='knn',\n",
    "    reduce_with='tsne',\n",
    "    eps=1.92\n",
    ")"
   ],
   "metadata": {
    "collapsed": false,
    "ExecuteTime": {
     "start_time": "2023-07-15T13:27:54.919276Z",
     "end_time": "2023-07-15T13:27:56.678067Z"
    }
   }
  },
  {
   "cell_type": "markdown",
   "source": [
    "|We can see that clustering failed"
   ],
   "metadata": {
    "collapsed": false
   }
  },
  {
   "cell_type": "markdown",
   "source": [
    "### NN Fine-Tuning"
   ],
   "metadata": {
    "collapsed": false
   }
  },
  {
   "cell_type": "code",
   "execution_count": 55,
   "outputs": [],
   "source": [
    "def train_iteration(model, train_loader, val_loader, criterion, optimizer, device):\n",
    "    model.train()\n",
    "    running_loss = 0.0\n",
    "    with tqdm(train_loader, unit=\"batch\") as tepoch:\n",
    "        for (anchor, positive, negative) in tepoch:\n",
    "            anchor = anchor.to(device)\n",
    "            positive = positive.to(device)\n",
    "            negative = negative.to(device)\n",
    "\n",
    "            optimizer.zero_grad()\n",
    "            anchor_embedding = model(anchor)\n",
    "            positive_embedding = model(positive)\n",
    "            negative_embedding = model(negative)\n",
    "            loss = criterion(anchor_embedding, positive_embedding, negative_embedding)\n",
    "            loss.backward()\n",
    "            optimizer.step()\n",
    "\n",
    "            running_loss += loss.item()\n",
    "\n",
    "        # tepoch.set_postfix(loss=loss.item())\n",
    "        time.sleep(0.01)\n",
    "\n",
    "    epoch_loss = running_loss / len(train_loader)\n",
    "\n",
    "    # Validation\n",
    "    model.eval()\n",
    "    val_loss = 0.0\n",
    "\n",
    "    with torch.no_grad():\n",
    "        for (anchor, positive, negative) in val_loader:\n",
    "            anchor = anchor.to(device)\n",
    "            positive = positive.to(device)\n",
    "            negative = negative.to(device)\n",
    "\n",
    "            anchor_embedding = model(anchor)\n",
    "            positive_embedding = model(positive)\n",
    "            negative_embedding = model(negative)\n",
    "            loss = criterion(anchor_embedding, positive_embedding, negative_embedding)\n",
    "            val_loss += loss.item()\n",
    "\n",
    "    torch.cuda.empty_cache()\n",
    "    val_loss /= len(val_loader)\n",
    "\n",
    "    return epoch_loss, val_loss\n"
   ],
   "metadata": {
    "collapsed": false,
    "ExecuteTime": {
     "start_time": "2023-07-15T09:42:25.669635Z",
     "end_time": "2023-07-15T09:42:25.685279Z"
    }
   }
  },
  {
   "cell_type": "code",
   "execution_count": 56,
   "outputs": [],
   "source": [
    "def plot_stats(\n",
    "        train_loss: list[float],\n",
    "        valid_loss: list[float],\n",
    "        title: str\n",
    "):\n",
    "    plt.figure(figsize=(16, 8))\n",
    "\n",
    "    plt.title(title + ' loss')\n",
    "\n",
    "    plt.plot(train_loss, label='Train loss')\n",
    "    plt.plot(valid_loss, label='Valid loss')\n",
    "    plt.legend()\n",
    "    plt.grid()\n",
    "    plt.show()"
   ],
   "metadata": {
    "collapsed": false,
    "ExecuteTime": {
     "start_time": "2023-07-15T09:42:26.031606Z",
     "end_time": "2023-07-15T09:42:26.056682Z"
    }
   }
  },
  {
   "cell_type": "code",
   "execution_count": 57,
   "outputs": [],
   "source": [
    "def train_model(model, train_loader, val_loader, criterion, optimizer, num_epochs=5, scheduler=None, device='cpu'):\n",
    "    since = time.time()\n",
    "\n",
    "    train_loss_history, valid_loss_history = [], []\n",
    "    # Create a temporary directory to save training checkpoints\n",
    "    with TemporaryDirectory() as tempdir:\n",
    "        best_model_params_path = os.path.join(tempdir, 'best_model_params.pt')\n",
    "\n",
    "        torch.save(model.state_dict(), best_model_params_path)\n",
    "\n",
    "        for epoch in range(num_epochs):\n",
    "            epoch_loss, val_loss = train_iteration(model, train_loader, val_loader, criterion, optimizer, device)\n",
    "            print(\n",
    "                f\"Epoch {epoch+1}/{num_epochs} - Train Loss: {epoch_loss:.4f} - Val Loss: {val_loss:.4f}\"\n",
    "            )\n",
    "\n",
    "            train_loss_history.append(epoch_loss)\n",
    "            valid_loss_history.append(val_loss)\n",
    "\n",
    "            if scheduler is not None:\n",
    "                scheduler.step()  # Update learning rate\n",
    "\n",
    "            del epoch_loss\n",
    "            del val_loss\n",
    "            gc.collect()\n",
    "            torch.cuda.empty_cache()\n",
    "\n",
    "        time_elapsed = time.time() - since\n",
    "        print(f'Training complete in {time_elapsed // 60:.0f}m {time_elapsed % 60:.0f}s')\n",
    "\n",
    "        # load best model weights\n",
    "        model.load_state_dict(torch.load(best_model_params_path))\n",
    "        plot_stats(\n",
    "            train_loss_history, valid_loss_history,\n",
    "            title=\"Model \"\n",
    "        )\n",
    "    return model"
   ],
   "metadata": {
    "collapsed": false,
    "ExecuteTime": {
     "start_time": "2023-07-15T09:42:26.555121Z",
     "end_time": "2023-07-15T09:42:26.571279Z"
    }
   }
  },
  {
   "cell_type": "code",
   "execution_count": 0,
   "outputs": [],
   "source": [
    "optimizer = torch.optim.Adam(model.parameters(), lr=1e-4, weight_decay = 1e-5)"
   ],
   "metadata": {
    "collapsed": false,
    "ExecuteTime": {
     "start_time": "2023-07-15T09:42:27.354389Z",
     "end_time": "2023-07-15T09:42:27.378569Z"
    }
   }
  },
  {
   "cell_type": "code",
   "execution_count": 60,
   "outputs": [],
   "source": [
    "num_epochs = 15"
   ],
   "metadata": {
    "collapsed": false,
    "ExecuteTime": {
     "start_time": "2023-07-15T09:49:13.888860Z",
     "end_time": "2023-07-15T09:49:13.903096Z"
    }
   }
  },
  {
   "cell_type": "code",
   "execution_count": 61,
   "outputs": [
    {
     "name": "stderr",
     "output_type": "stream",
     "text": [
      "100%|██████████| 13/13 [02:22<00:00, 10.96s/batch]\n"
     ]
    },
    {
     "name": "stdout",
     "output_type": "stream",
     "text": [
      "Epoch 1/15 - Train Loss: 0.3459 - Val Loss: 0.1124\n"
     ]
    },
    {
     "name": "stderr",
     "output_type": "stream",
     "text": [
      "100%|██████████| 13/13 [02:25<00:00, 11.19s/batch]\n"
     ]
    },
    {
     "name": "stdout",
     "output_type": "stream",
     "text": [
      "Epoch 2/15 - Train Loss: 0.1102 - Val Loss: 0.1183\n"
     ]
    },
    {
     "name": "stderr",
     "output_type": "stream",
     "text": [
      "100%|██████████| 13/13 [02:23<00:00, 11.02s/batch]\n"
     ]
    },
    {
     "name": "stdout",
     "output_type": "stream",
     "text": [
      "Epoch 3/15 - Train Loss: 0.1016 - Val Loss: 0.0078\n"
     ]
    },
    {
     "name": "stderr",
     "output_type": "stream",
     "text": [
      "100%|██████████| 13/13 [02:21<00:00, 10.87s/batch]\n"
     ]
    },
    {
     "name": "stdout",
     "output_type": "stream",
     "text": [
      "Epoch 4/15 - Train Loss: 0.0534 - Val Loss: 0.0000\n"
     ]
    },
    {
     "name": "stderr",
     "output_type": "stream",
     "text": [
      "100%|██████████| 13/13 [02:19<00:00, 10.75s/batch]\n"
     ]
    },
    {
     "name": "stdout",
     "output_type": "stream",
     "text": [
      "Epoch 5/15 - Train Loss: 0.0295 - Val Loss: 0.0375\n"
     ]
    },
    {
     "name": "stderr",
     "output_type": "stream",
     "text": [
      "100%|██████████| 13/13 [02:21<00:00, 10.86s/batch]\n"
     ]
    },
    {
     "name": "stdout",
     "output_type": "stream",
     "text": [
      "Epoch 6/15 - Train Loss: 0.0457 - Val Loss: 0.0745\n"
     ]
    },
    {
     "name": "stderr",
     "output_type": "stream",
     "text": [
      "100%|██████████| 13/13 [02:21<00:00, 10.92s/batch]\n"
     ]
    },
    {
     "name": "stdout",
     "output_type": "stream",
     "text": [
      "Epoch 7/15 - Train Loss: 0.0576 - Val Loss: 0.0818\n"
     ]
    },
    {
     "name": "stderr",
     "output_type": "stream",
     "text": [
      "100%|██████████| 13/13 [02:19<00:00, 10.73s/batch]\n"
     ]
    },
    {
     "name": "stdout",
     "output_type": "stream",
     "text": [
      "Epoch 8/15 - Train Loss: 0.0608 - Val Loss: 0.0052\n"
     ]
    },
    {
     "name": "stderr",
     "output_type": "stream",
     "text": [
      "100%|██████████| 13/13 [02:27<00:00, 11.35s/batch]\n"
     ]
    },
    {
     "name": "stdout",
     "output_type": "stream",
     "text": [
      "Epoch 9/15 - Train Loss: 0.0218 - Val Loss: 0.0897\n"
     ]
    },
    {
     "name": "stderr",
     "output_type": "stream",
     "text": [
      "100%|██████████| 13/13 [02:27<00:00, 11.32s/batch]\n"
     ]
    },
    {
     "name": "stdout",
     "output_type": "stream",
     "text": [
      "Epoch 10/15 - Train Loss: 0.0481 - Val Loss: 0.0359\n"
     ]
    },
    {
     "name": "stderr",
     "output_type": "stream",
     "text": [
      "100%|██████████| 13/13 [02:26<00:00, 11.24s/batch]\n"
     ]
    },
    {
     "name": "stdout",
     "output_type": "stream",
     "text": [
      "Epoch 11/15 - Train Loss: 0.0235 - Val Loss: 0.1386\n"
     ]
    },
    {
     "name": "stderr",
     "output_type": "stream",
     "text": [
      "100%|██████████| 13/13 [02:25<00:00, 11.22s/batch]\n"
     ]
    },
    {
     "name": "stdout",
     "output_type": "stream",
     "text": [
      "Epoch 12/15 - Train Loss: 0.0104 - Val Loss: 0.1361\n"
     ]
    },
    {
     "name": "stderr",
     "output_type": "stream",
     "text": [
      "100%|██████████| 13/13 [02:26<00:00, 11.26s/batch]\n"
     ]
    },
    {
     "name": "stdout",
     "output_type": "stream",
     "text": [
      "Epoch 13/15 - Train Loss: 0.0188 - Val Loss: 0.0151\n"
     ]
    },
    {
     "name": "stderr",
     "output_type": "stream",
     "text": [
      "100%|██████████| 13/13 [02:22<00:00, 10.99s/batch]\n"
     ]
    },
    {
     "name": "stdout",
     "output_type": "stream",
     "text": [
      "Epoch 14/15 - Train Loss: 0.0307 - Val Loss: 0.0000\n"
     ]
    },
    {
     "name": "stderr",
     "output_type": "stream",
     "text": [
      "100%|██████████| 13/13 [02:23<00:00, 11.07s/batch]\n"
     ]
    },
    {
     "name": "stdout",
     "output_type": "stream",
     "text": [
      "Epoch 15/15 - Train Loss: 0.0112 - Val Loss: 0.0077\n",
      "Training complete in 37m 52s\n"
     ]
    },
    {
     "data": {
      "text/plain": "<Figure size 1600x800 with 1 Axes>",
      "image/png": "[encoded data removed]"
     },
     "metadata": {},
     "output_type": "display_data"
    }
   ],
   "source": [
    "model = train_model(model=model,\n",
    "                    train_loader=train_dataloader,\n",
    "                    val_loader=val_dataloader,\n",
    "                    criterion=triplet_criterion,\n",
    "                    optimizer=optimizer,\n",
    "                    num_epochs=num_epochs,\n",
    "                    device=device)"
   ],
   "metadata": {
    "collapsed": false,
    "ExecuteTime": {
     "start_time": "2023-07-15T09:49:14.287390Z",
     "end_time": "2023-07-15T10:27:06.678811Z"
    }
   }
  },
  {
   "cell_type": "markdown",
   "source": [
    "Now, after trainig, let's try to cluster data again"
   ],
   "metadata": {
    "collapsed": false
   }
  },
  {
   "cell_type": "code",
   "execution_count": 293,
   "outputs": [
    {
     "name": "stderr",
     "output_type": "stream",
     "text": [
      "D:\\possessor\\Documents\\ESSE\\IT\\ML\\CV\\cvenv\\Lib\\site-packages\\sklearn\\cluster\\_kmeans.py:1412: FutureWarning: The default value of `n_init` will change from 10 to 'auto' in 1.4. Set the value of `n_init` explicitly to suppress the warning\n",
      "  super()._check_params_vs_input(X, default_n_init=10)\n"
     ]
    },
    {
     "data": {
      "text/plain": "<Figure size 640x480 with 1 Axes>",
      "image/png": "[encoded data removed]"
     },
     "metadata": {},
     "output_type": "display_data"
    },
    {
     "data": {
      "text/plain": "()"
     },
     "execution_count": 293,
     "metadata": {},
     "output_type": "execute_result"
    }
   ],
   "source": [
    "cluster_and_visualize_embeddings(\n",
    "    embeddings=collect_embeddings(\n",
    "        model=model,\n",
    "        data=train_dataset,\n",
    "        device=device\n",
    "    ),\n",
    "    dimension=2,\n",
    "    reduce_embeddings_to=8,\n",
    "    cluster_with='knn',\n",
    "    reduce_with='tsne',\n",
    "    eps=1.9,\n",
    ")\n",
    "(\n",
    ")"
   ],
   "metadata": {
    "collapsed": false,
    "ExecuteTime": {
     "start_time": "2023-07-15T13:32:20.726344Z",
     "end_time": "2023-07-15T13:32:46.761859Z"
    }
   }
  },
  {
   "cell_type": "markdown",
   "source": [
    "Now we can train our classification model!"
   ],
   "metadata": {
    "collapsed": false
   }
  },
  {
   "cell_type": "code",
   "execution_count": null,
   "outputs": [],
   "source": [],
   "metadata": {
    "collapsed": false
   }
  },
  {
   "cell_type": "code",
   "execution_count": null,
   "outputs": [],
   "source": [],
   "metadata": {
    "collapsed": false
   }
  },
  {
   "cell_type": "code",
   "execution_count": null,
   "outputs": [],
   "source": [],
   "metadata": {
    "collapsed": false
   }
  },
  {
   "cell_type": "code",
   "execution_count": 64,
   "outputs": [],
   "source": [],
   "metadata": {
    "collapsed": false
   }
  },
  {
   "cell_type": "code",
   "execution_count": 273,
   "outputs": [],
   "source": [
    "model = KMeans(n_clusters=10)"
   ],
   "metadata": {
    "collapsed": false
   }
  },
  {
   "cell_type": "code",
   "execution_count": 274,
   "outputs": [],
   "source": [
    "# Apply PCA for dimensionality reduction\n",
    "pca = PCA(\n",
    "    n_components=0.8\n",
    "    # n_components=10,\n",
    ")"
   ],
   "metadata": {
    "collapsed": false
   }
  },
  {
   "cell_type": "code",
   "execution_count": 275,
   "outputs": [],
   "source": [
    "X_train1 = pca.fit_transform(X_train)"
   ],
   "metadata": {
    "collapsed": false,
    "ExecuteTime": {
     "start_time": "2023-07-14T12:59:32.650023Z",
     "end_time": "2023-07-14T12:59:32.775546Z"
    }
   }
  },
  {
   "cell_type": "code",
   "execution_count": 276,
   "outputs": [
    {
     "data": {
      "text/plain": "(200, 69)"
     },
     "execution_count": 276,
     "metadata": {},
     "output_type": "execute_result"
    }
   ],
   "source": [
    "X_train1.shape"
   ],
   "metadata": {
    "collapsed": false,
    "ExecuteTime": {
     "start_time": "2023-07-14T12:59:33.184387Z",
     "end_time": "2023-07-14T12:59:33.226133Z"
    }
   }
  },
  {
   "cell_type": "code",
   "execution_count": 277,
   "outputs": [],
   "source": [
    "X_test1 = pca.transform(X_test)"
   ],
   "metadata": {
    "collapsed": false,
    "ExecuteTime": {
     "start_time": "2023-07-14T12:59:34.686987Z",
     "end_time": "2023-07-14T12:59:34.721406Z"
    }
   }
  },
  {
   "cell_type": "code",
   "execution_count": 278,
   "outputs": [],
   "source": [
    "scaler = StandardScaler()"
   ],
   "metadata": {
    "collapsed": false,
    "ExecuteTime": {
     "start_time": "2023-07-14T12:59:35.622285Z",
     "end_time": "2023-07-14T12:59:35.646835Z"
    }
   }
  },
  {
   "cell_type": "code",
   "execution_count": 279,
   "outputs": [],
   "source": [
    "X_train2 = scaler.fit_transform(X_train1)"
   ],
   "metadata": {
    "collapsed": false,
    "ExecuteTime": {
     "start_time": "2023-07-14T12:59:36.037874Z",
     "end_time": "2023-07-14T12:59:36.042601Z"
    }
   }
  },
  {
   "cell_type": "code",
   "execution_count": 280,
   "outputs": [],
   "source": [
    "X_test2 = scaler.transform(X_test1)"
   ],
   "metadata": {
    "collapsed": false,
    "ExecuteTime": {
     "start_time": "2023-07-14T12:59:36.191045Z",
     "end_time": "2023-07-14T12:59:36.217730Z"
    }
   }
  },
  {
   "cell_type": "code",
   "execution_count": 281,
   "outputs": [],
   "source": [
    "y_test = pd.read_csv(data_path + \"Dogs/val_labels.csv\")['label']"
   ],
   "metadata": {
    "collapsed": false,
    "ExecuteTime": {
     "start_time": "2023-07-14T12:59:37.733584Z",
     "end_time": "2023-07-14T12:59:37.762241Z"
    }
   }
  },
  {
   "cell_type": "code",
   "execution_count": 282,
   "outputs": [],
   "source": [
    "y_train = pd.read_csv(data_path + \"Dogs/train_labels.csv\")['label']"
   ],
   "metadata": {
    "collapsed": false,
    "ExecuteTime": {
     "start_time": "2023-07-14T12:59:38.118215Z",
     "end_time": "2023-07-14T12:59:38.149960Z"
    }
   }
  },
  {
   "cell_type": "code",
   "execution_count": 283,
   "outputs": [],
   "source": [
    "knn = KNeighborsClassifier(n_neighbors=5)  # You can choose the number of neighbors (K) here"
   ],
   "metadata": {
    "collapsed": false,
    "ExecuteTime": {
     "start_time": "2023-07-14T12:59:40.600651Z",
     "end_time": "2023-07-14T12:59:40.624688Z"
    }
   }
  },
  {
   "cell_type": "code",
   "execution_count": 284,
   "outputs": [
    {
     "data": {
      "text/plain": "KNeighborsClassifier()",
      "text/html": "<style>#sk-container-id-29 {color: black;}#sk-container-id-29 pre{padding: 0;}#sk-container-id-29 div.sk-toggleable {background-color: white;}#sk-container-id-29 label.sk-toggleable__label {cursor: pointer;display: block;width: 100%;margin-bottom: 0;padding: 0.3em;box-sizing: border-box;text-align: center;}#sk-container-id-29 label.sk-toggleable__label-arrow:before {content: \"▸\";float: left;margin-right: 0.25em;color: #696969;}#sk-container-id-29 label.sk-toggleable__label-arrow:hover:before {color: black;}#sk-container-id-29 div.sk-estimator:hover label.sk-toggleable__label-arrow:before {color: black;}#sk-container-id-29 div.sk-toggleable__content {max-height: 0;max-width: 0;overflow: hidden;text-align: left;background-color: #f0f8ff;}#sk-container-id-29 div.sk-toggleable__content pre {margin: 0.2em;color: black;border-radius: 0.25em;background-color: #f0f8ff;}#sk-container-id-29 input.sk-toggleable__control:checked~div.sk-toggleable__content {max-height: 200px;max-width: 100%;overflow: auto;}#sk-container-id-29 input.sk-toggleable__control:checked~label.sk-toggleable__label-arrow:before {content: \"▾\";}#sk-container-id-29 div.sk-estimator input.sk-toggleable__control:checked~label.sk-toggleable__label {background-color: #d4ebff;}#sk-container-id-29 div.sk-label input.sk-toggleable__control:checked~label.sk-toggleable__label {background-color: #d4ebff;}#sk-container-id-29 input.sk-hidden--visually {border: 0;clip: rect(1px 1px 1px 1px);clip: rect(1px, 1px, 1px, 1px);height: 1px;margin: -1px;overflow: hidden;padding: 0;position: absolute;width: 1px;}#sk-container-id-29 div.sk-estimator {font-family: monospace;background-color: #f0f8ff;border: 1px dotted black;border-radius: 0.25em;box-sizing: border-box;margin-bottom: 0.5em;}#sk-container-id-29 div.sk-estimator:hover {background-color: #d4ebff;}#sk-container-id-29 div.sk-parallel-item::after {content: \"\";width: 100%;border-bottom: 1px solid gray;flex-grow: 1;}#sk-container-id-29 div.sk-label:hover label.sk-toggleable__label {background-color: #d4ebff;}#sk-container-id-29 div.sk-serial::before {content: \"\";position: absolute;border-left: 1px solid gray;box-sizing: border-box;top: 0;bottom: 0;left: 50%;z-index: 0;}#sk-container-id-29 div.sk-serial {display: flex;flex-direction: column;align-items: center;background-color: white;padding-right: 0.2em;padding-left: 0.2em;position: relative;}#sk-container-id-29 div.sk-item {position: relative;z-index: 1;}#sk-container-id-29 div.sk-parallel {display: flex;align-items: stretch;justify-content: center;background-color: white;position: relative;}#sk-container-id-29 div.sk-item::before, #sk-container-id-29 div.sk-parallel-item::before {content: \"\";position: absolute;border-left: 1px solid gray;box-sizing: border-box;top: 0;bottom: 0;left: 50%;z-index: -1;}#sk-container-id-29 div.sk-parallel-item {display: flex;flex-direction: column;z-index: 1;position: relative;background-color: white;}#sk-container-id-29 div.sk-parallel-item:first-child::after {align-self: flex-end;width: 50%;}#sk-container-id-29 div.sk-parallel-item:last-child::after {align-self: flex-start;width: 50%;}#sk-container-id-29 div.sk-parallel-item:only-child::after {width: 0;}#sk-container-id-29 div.sk-dashed-wrapped {border: 1px dashed gray;margin: 0 0.4em 0.5em 0.4em;box-sizing: border-box;padding-bottom: 0.4em;background-color: white;}#sk-container-id-29 div.sk-label label {font-family: monospace;font-weight: bold;display: inline-block;line-height: 1.2em;}#sk-container-id-29 div.sk-label-container {text-align: center;}#sk-container-id-29 div.sk-container {/* jupyter's `normalize.less` sets `[hidden] { display: none; }` but bootstrap.min.css set `[hidden] { display: none !important; }` so we also need the `!important` here to be able to override the default hidden behavior on the sphinx rendered scikit-learn.org. See: https://github.com/scikit-learn/scikit-learn/issues/21755 */display: inline-block !important;position: relative;}#sk-container-id-29 div.sk-text-repr-fallback {display: none;}</style><div id=\"sk-container-id-29\" class=\"sk-top-container\"><div class=\"sk-text-repr-fallback\"><pre>KNeighborsClassifier()</pre><b>In a Jupyter environment, please rerun this cell to show the HTML representation or trust the notebook. <br />On GitHub, the HTML representation is unable to render, please try loading this page with nbviewer.org.</b></div><div class=\"sk-container\" hidden><div class=\"sk-item\"><div class=\"sk-estimator sk-toggleable\"><input class=\"sk-toggleable__control sk-hidden--visually\" id=\"sk-estimator-id-29\" type=\"checkbox\" checked><label for=\"sk-estimator-id-29\" class=\"sk-toggleable__label sk-toggleable__label-arrow\">KNeighborsClassifier</label><div class=\"sk-toggleable__content\"><pre>KNeighborsClassifier()</pre></div></div></div></div></div>"
     },
     "execution_count": 284,
     "metadata": {},
     "output_type": "execute_result"
    }
   ],
   "source": [
    "knn.fit(X_train2, y_train)"
   ],
   "metadata": {
    "collapsed": false,
    "ExecuteTime": {
     "start_time": "2023-07-14T12:59:43.266380Z",
     "end_time": "2023-07-14T12:59:43.284087Z"
    }
   }
  },
  {
   "cell_type": "code",
   "execution_count": 285,
   "outputs": [
    {
     "name": "stderr",
     "output_type": "stream",
     "text": [
      "D:\\possessor\\Documents\\ESSE\\IT\\ML\\CV\\cvenv\\Lib\\site-packages\\sklearn\\cluster\\_kmeans.py:1412: FutureWarning: The default value of `n_init` will change from 10 to 'auto' in 1.4. Set the value of `n_init` explicitly to suppress the warning\n",
      "  super()._check_params_vs_input(X, default_n_init=10)\n"
     ]
    },
    {
     "data": {
      "text/plain": "KMeans(n_clusters=10)",
      "text/html": "<style>#sk-container-id-30 {color: black;}#sk-container-id-30 pre{padding: 0;}#sk-container-id-30 div.sk-toggleable {background-color: white;}#sk-container-id-30 label.sk-toggleable__label {cursor: pointer;display: block;width: 100%;margin-bottom: 0;padding: 0.3em;box-sizing: border-box;text-align: center;}#sk-container-id-30 label.sk-toggleable__label-arrow:before {content: \"▸\";float: left;margin-right: 0.25em;color: #696969;}#sk-container-id-30 label.sk-toggleable__label-arrow:hover:before {color: black;}#sk-container-id-30 div.sk-estimator:hover label.sk-toggleable__label-arrow:before {color: black;}#sk-container-id-30 div.sk-toggleable__content {max-height: 0;max-width: 0;overflow: hidden;text-align: left;background-color: #f0f8ff;}#sk-container-id-30 div.sk-toggleable__content pre {margin: 0.2em;color: black;border-radius: 0.25em;background-color: #f0f8ff;}#sk-container-id-30 input.sk-toggleable__control:checked~div.sk-toggleable__content {max-height: 200px;max-width: 100%;overflow: auto;}#sk-container-id-30 input.sk-toggleable__control:checked~label.sk-toggleable__label-arrow:before {content: \"▾\";}#sk-container-id-30 div.sk-estimator input.sk-toggleable__control:checked~label.sk-toggleable__label {background-color: #d4ebff;}#sk-container-id-30 div.sk-label input.sk-toggleable__control:checked~label.sk-toggleable__label {background-color: #d4ebff;}#sk-container-id-30 input.sk-hidden--visually {border: 0;clip: rect(1px 1px 1px 1px);clip: rect(1px, 1px, 1px, 1px);height: 1px;margin: -1px;overflow: hidden;padding: 0;position: absolute;width: 1px;}#sk-container-id-30 div.sk-estimator {font-family: monospace;background-color: #f0f8ff;border: 1px dotted black;border-radius: 0.25em;box-sizing: border-box;margin-bottom: 0.5em;}#sk-container-id-30 div.sk-estimator:hover {background-color: #d4ebff;}#sk-container-id-30 div.sk-parallel-item::after {content: \"\";width: 100%;border-bottom: 1px solid gray;flex-grow: 1;}#sk-container-id-30 div.sk-label:hover label.sk-toggleable__label {background-color: #d4ebff;}#sk-container-id-30 div.sk-serial::before {content: \"\";position: absolute;border-left: 1px solid gray;box-sizing: border-box;top: 0;bottom: 0;left: 50%;z-index: 0;}#sk-container-id-30 div.sk-serial {display: flex;flex-direction: column;align-items: center;background-color: white;padding-right: 0.2em;padding-left: 0.2em;position: relative;}#sk-container-id-30 div.sk-item {position: relative;z-index: 1;}#sk-container-id-30 div.sk-parallel {display: flex;align-items: stretch;justify-content: center;background-color: white;position: relative;}#sk-container-id-30 div.sk-item::before, #sk-container-id-30 div.sk-parallel-item::before {content: \"\";position: absolute;border-left: 1px solid gray;box-sizing: border-box;top: 0;bottom: 0;left: 50%;z-index: -1;}#sk-container-id-30 div.sk-parallel-item {display: flex;flex-direction: column;z-index: 1;position: relative;background-color: white;}#sk-container-id-30 div.sk-parallel-item:first-child::after {align-self: flex-end;width: 50%;}#sk-container-id-30 div.sk-parallel-item:last-child::after {align-self: flex-start;width: 50%;}#sk-container-id-30 div.sk-parallel-item:only-child::after {width: 0;}#sk-container-id-30 div.sk-dashed-wrapped {border: 1px dashed gray;margin: 0 0.4em 0.5em 0.4em;box-sizing: border-box;padding-bottom: 0.4em;background-color: white;}#sk-container-id-30 div.sk-label label {font-family: monospace;font-weight: bold;display: inline-block;line-height: 1.2em;}#sk-container-id-30 div.sk-label-container {text-align: center;}#sk-container-id-30 div.sk-container {/* jupyter's `normalize.less` sets `[hidden] { display: none; }` but bootstrap.min.css set `[hidden] { display: none !important; }` so we also need the `!important` here to be able to override the default hidden behavior on the sphinx rendered scikit-learn.org. See: https://github.com/scikit-learn/scikit-learn/issues/21755 */display: inline-block !important;position: relative;}#sk-container-id-30 div.sk-text-repr-fallback {display: none;}</style><div id=\"sk-container-id-30\" class=\"sk-top-container\"><div class=\"sk-text-repr-fallback\"><pre>KMeans(n_clusters=10)</pre><b>In a Jupyter environment, please rerun this cell to show the HTML representation or trust the notebook. <br />On GitHub, the HTML representation is unable to render, please try loading this page with nbviewer.org.</b></div><div class=\"sk-container\" hidden><div class=\"sk-item\"><div class=\"sk-estimator sk-toggleable\"><input class=\"sk-toggleable__control sk-hidden--visually\" id=\"sk-estimator-id-30\" type=\"checkbox\" checked><label for=\"sk-estimator-id-30\" class=\"sk-toggleable__label sk-toggleable__label-arrow\">KMeans</label><div class=\"sk-toggleable__content\"><pre>KMeans(n_clusters=10)</pre></div></div></div></div></div>"
     },
     "execution_count": 285,
     "metadata": {},
     "output_type": "execute_result"
    }
   ],
   "source": [
    "model.fit(X_train2)"
   ],
   "metadata": {
    "collapsed": false,
    "ExecuteTime": {
     "start_time": "2023-07-14T12:59:47.280101Z",
     "end_time": "2023-07-14T12:59:47.406208Z"
    }
   }
  },
  {
   "cell_type": "code",
   "execution_count": 287,
   "outputs": [
    {
     "data": {
      "text/plain": "array([3, 7, 1, 8, 5, 8, 6, 1, 6, 8, 8, 1, 7, 5, 6, 3, 1, 5, 7, 7, 3, 8,\n       1, 3, 3, 1, 1, 5, 6, 3])"
     },
     "execution_count": 287,
     "metadata": {},
     "output_type": "execute_result"
    }
   ],
   "source": [
    "model.predict(X_test2)"
   ],
   "metadata": {
    "collapsed": false,
    "ExecuteTime": {
     "start_time": "2023-07-14T12:59:55.827390Z",
     "end_time": "2023-07-14T12:59:55.873098Z"
    }
   }
  },
  {
   "cell_type": "code",
   "execution_count": 288,
   "outputs": [
    {
     "name": "stdout",
     "output_type": "stream",
     "text": [
      "['chihuahua' 'bernese_mountain_dog' 'bernese_mountain_dog' 'chihuahua'\n",
      " 'dachshund' 'jack_russell' 'golden_retriever' 'border_collie' 'chihuahua'\n",
      " 'chihuahua' 'chihuahua' 'bernese_mountain_dog' 'chihuahua' 'corgi'\n",
      " 'jack_russell' 'golden_retriever' 'dachshund' 'border_collie' 'dachshund'\n",
      " 'jack_russell' 'border_collie' 'jack_russell' 'labrador' 'jack_russell'\n",
      " 'jack_russell' 'jack_russell' 'jack_russell' 'border_collie'\n",
      " 'bernese_mountain_dog' 'pug']\n"
     ]
    }
   ],
   "source": [
    "print(knn.predict(X_test2))"
   ],
   "metadata": {
    "collapsed": false,
    "ExecuteTime": {
     "start_time": "2023-07-14T13:00:03.863828Z",
     "end_time": "2023-07-14T13:00:03.894453Z"
    }
   }
  },
  {
   "cell_type": "code",
   "execution_count": 272,
   "outputs": [
    {
     "ename": "AttributeError",
     "evalue": "'Flags' object has no attribute 'c_contiguous'",
     "output_type": "error",
     "traceback": [
      "\u001B[1;31m---------------------------------------------------------------------------\u001B[0m",
      "\u001B[1;31mAttributeError\u001B[0m                            Traceback (most recent call last)",
      "Cell \u001B[1;32mIn[272], line 1\u001B[0m\n\u001B[1;32m----> 1\u001B[0m \u001B[43mknn\u001B[49m\u001B[38;5;241;43m.\u001B[39;49m\u001B[43mscore\u001B[49m\u001B[43m(\u001B[49m\u001B[43mX_test\u001B[49m\u001B[43m,\u001B[49m\u001B[43m \u001B[49m\u001B[43my_test\u001B[49m\u001B[43m)\u001B[49m\n",
      "File \u001B[1;32mD:\\possessor\\Documents\\ESSE\\IT\\ML\\CV\\cvenv\\Lib\\site-packages\\sklearn\\base.py:705\u001B[0m, in \u001B[0;36mClassifierMixin.score\u001B[1;34m(self, X, y, sample_weight)\u001B[0m\n\u001B[0;32m    680\u001B[0m \u001B[38;5;250m\u001B[39m\u001B[38;5;124;03m\"\"\"\u001B[39;00m\n\u001B[0;32m    681\u001B[0m \u001B[38;5;124;03mReturn the mean accuracy on the given test data and labels.\u001B[39;00m\n\u001B[0;32m    682\u001B[0m \n\u001B[1;32m   (...)\u001B[0m\n\u001B[0;32m    701\u001B[0m \u001B[38;5;124;03m    Mean accuracy of ``self.predict(X)`` w.r.t. `y`.\u001B[39;00m\n\u001B[0;32m    702\u001B[0m \u001B[38;5;124;03m\"\"\"\u001B[39;00m\n\u001B[0;32m    703\u001B[0m \u001B[38;5;28;01mfrom\u001B[39;00m \u001B[38;5;21;01m.\u001B[39;00m\u001B[38;5;21;01mmetrics\u001B[39;00m \u001B[38;5;28;01mimport\u001B[39;00m accuracy_score\n\u001B[1;32m--> 705\u001B[0m \u001B[38;5;28;01mreturn\u001B[39;00m accuracy_score(y, \u001B[38;5;28;43mself\u001B[39;49m\u001B[38;5;241;43m.\u001B[39;49m\u001B[43mpredict\u001B[49m\u001B[43m(\u001B[49m\u001B[43mX\u001B[49m\u001B[43m)\u001B[49m, sample_weight\u001B[38;5;241m=\u001B[39msample_weight)\n",
      "File \u001B[1;32mD:\\possessor\\Documents\\ESSE\\IT\\ML\\CV\\cvenv\\Lib\\site-packages\\sklearn\\neighbors\\_classification.py:246\u001B[0m, in \u001B[0;36mKNeighborsClassifier.predict\u001B[1;34m(self, X)\u001B[0m\n\u001B[0;32m    244\u001B[0m check_is_fitted(\u001B[38;5;28mself\u001B[39m, \u001B[38;5;124m\"\u001B[39m\u001B[38;5;124m_fit_method\u001B[39m\u001B[38;5;124m\"\u001B[39m)\n\u001B[0;32m    245\u001B[0m \u001B[38;5;28;01mif\u001B[39;00m \u001B[38;5;28mself\u001B[39m\u001B[38;5;241m.\u001B[39mweights \u001B[38;5;241m==\u001B[39m \u001B[38;5;124m\"\u001B[39m\u001B[38;5;124muniform\u001B[39m\u001B[38;5;124m\"\u001B[39m:\n\u001B[1;32m--> 246\u001B[0m     \u001B[38;5;28;01mif\u001B[39;00m \u001B[38;5;28mself\u001B[39m\u001B[38;5;241m.\u001B[39m_fit_method \u001B[38;5;241m==\u001B[39m \u001B[38;5;124m\"\u001B[39m\u001B[38;5;124mbrute\u001B[39m\u001B[38;5;124m\"\u001B[39m \u001B[38;5;129;01mand\u001B[39;00m \u001B[43mArgKminClassMode\u001B[49m\u001B[38;5;241;43m.\u001B[39;49m\u001B[43mis_usable_for\u001B[49m\u001B[43m(\u001B[49m\n\u001B[0;32m    247\u001B[0m \u001B[43m        \u001B[49m\u001B[43mX\u001B[49m\u001B[43m,\u001B[49m\u001B[43m \u001B[49m\u001B[38;5;28;43mself\u001B[39;49m\u001B[38;5;241;43m.\u001B[39;49m\u001B[43m_fit_X\u001B[49m\u001B[43m,\u001B[49m\u001B[43m \u001B[49m\u001B[38;5;28;43mself\u001B[39;49m\u001B[38;5;241;43m.\u001B[39;49m\u001B[43mmetric\u001B[49m\n\u001B[0;32m    248\u001B[0m \u001B[43m    \u001B[49m\u001B[43m)\u001B[49m:\n\u001B[0;32m    249\u001B[0m         probabilities \u001B[38;5;241m=\u001B[39m \u001B[38;5;28mself\u001B[39m\u001B[38;5;241m.\u001B[39mpredict_proba(X)\n\u001B[0;32m    250\u001B[0m         \u001B[38;5;28;01mif\u001B[39;00m \u001B[38;5;28mself\u001B[39m\u001B[38;5;241m.\u001B[39moutputs_2d_:\n",
      "File \u001B[1;32mD:\\possessor\\Documents\\ESSE\\IT\\ML\\CV\\cvenv\\Lib\\site-packages\\sklearn\\metrics\\_pairwise_distances_reduction\\_dispatcher.py:471\u001B[0m, in \u001B[0;36mArgKminClassMode.is_usable_for\u001B[1;34m(cls, X, Y, metric)\u001B[0m\n\u001B[0;32m    448\u001B[0m \u001B[38;5;129m@classmethod\u001B[39m\n\u001B[0;32m    449\u001B[0m \u001B[38;5;28;01mdef\u001B[39;00m \u001B[38;5;21mis_usable_for\u001B[39m(\u001B[38;5;28mcls\u001B[39m, X, Y, metric) \u001B[38;5;241m-\u001B[39m\u001B[38;5;241m>\u001B[39m \u001B[38;5;28mbool\u001B[39m:\n\u001B[0;32m    450\u001B[0m \u001B[38;5;250m    \u001B[39m\u001B[38;5;124;03m\"\"\"Return True if the dispatcher can be used for the given parameters.\u001B[39;00m\n\u001B[0;32m    451\u001B[0m \n\u001B[0;32m    452\u001B[0m \u001B[38;5;124;03m    Parameters\u001B[39;00m\n\u001B[1;32m   (...)\u001B[0m\n\u001B[0;32m    468\u001B[0m \u001B[38;5;124;03m    True if the PairwiseDistancesReduction can be used, else False.\u001B[39;00m\n\u001B[0;32m    469\u001B[0m \u001B[38;5;124;03m    \"\"\"\u001B[39;00m\n\u001B[0;32m    470\u001B[0m     \u001B[38;5;28;01mreturn\u001B[39;00m (\n\u001B[1;32m--> 471\u001B[0m         \u001B[43mArgKmin\u001B[49m\u001B[38;5;241;43m.\u001B[39;49m\u001B[43mis_usable_for\u001B[49m\u001B[43m(\u001B[49m\u001B[43mX\u001B[49m\u001B[43m,\u001B[49m\u001B[43m \u001B[49m\u001B[43mY\u001B[49m\u001B[43m,\u001B[49m\u001B[43m \u001B[49m\u001B[43mmetric\u001B[49m\u001B[43m)\u001B[49m\n\u001B[0;32m    472\u001B[0m         \u001B[38;5;66;03m# TODO: Support CSR matrices.\u001B[39;00m\n\u001B[0;32m    473\u001B[0m         \u001B[38;5;129;01mand\u001B[39;00m \u001B[38;5;129;01mnot\u001B[39;00m issparse(X)\n\u001B[0;32m    474\u001B[0m         \u001B[38;5;129;01mand\u001B[39;00m \u001B[38;5;129;01mnot\u001B[39;00m issparse(Y)\n\u001B[0;32m    475\u001B[0m         \u001B[38;5;66;03m# TODO: implement Euclidean specialization with GEMM.\u001B[39;00m\n\u001B[0;32m    476\u001B[0m         \u001B[38;5;129;01mand\u001B[39;00m metric \u001B[38;5;129;01mnot\u001B[39;00m \u001B[38;5;129;01min\u001B[39;00m (\u001B[38;5;124m\"\u001B[39m\u001B[38;5;124meuclidean\u001B[39m\u001B[38;5;124m\"\u001B[39m, \u001B[38;5;124m\"\u001B[39m\u001B[38;5;124msqeuclidean\u001B[39m\u001B[38;5;124m\"\u001B[39m)\n\u001B[0;32m    477\u001B[0m     )\n",
      "File \u001B[1;32mD:\\possessor\\Documents\\ESSE\\IT\\ML\\CV\\cvenv\\Lib\\site-packages\\sklearn\\metrics\\_pairwise_distances_reduction\\_dispatcher.py:115\u001B[0m, in \u001B[0;36mBaseDistancesReductionDispatcher.is_usable_for\u001B[1;34m(cls, X, Y, metric)\u001B[0m\n\u001B[0;32m    101\u001B[0m \u001B[38;5;28;01mdef\u001B[39;00m \u001B[38;5;21mis_valid_sparse_matrix\u001B[39m(X):\n\u001B[0;32m    102\u001B[0m     \u001B[38;5;28;01mreturn\u001B[39;00m (\n\u001B[0;32m    103\u001B[0m         isspmatrix_csr(X)\n\u001B[0;32m    104\u001B[0m         \u001B[38;5;129;01mand\u001B[39;00m\n\u001B[1;32m   (...)\u001B[0m\n\u001B[0;32m    110\u001B[0m         X\u001B[38;5;241m.\u001B[39mindices\u001B[38;5;241m.\u001B[39mdtype \u001B[38;5;241m==\u001B[39m X\u001B[38;5;241m.\u001B[39mindptr\u001B[38;5;241m.\u001B[39mdtype \u001B[38;5;241m==\u001B[39m np\u001B[38;5;241m.\u001B[39mint32\n\u001B[0;32m    111\u001B[0m     )\n\u001B[0;32m    113\u001B[0m is_usable \u001B[38;5;241m=\u001B[39m (\n\u001B[0;32m    114\u001B[0m     get_config()\u001B[38;5;241m.\u001B[39mget(\u001B[38;5;124m\"\u001B[39m\u001B[38;5;124menable_cython_pairwise_dist\u001B[39m\u001B[38;5;124m\"\u001B[39m, \u001B[38;5;28;01mTrue\u001B[39;00m)\n\u001B[1;32m--> 115\u001B[0m     \u001B[38;5;129;01mand\u001B[39;00m (\u001B[43mis_numpy_c_ordered\u001B[49m\u001B[43m(\u001B[49m\u001B[43mX\u001B[49m\u001B[43m)\u001B[49m \u001B[38;5;129;01mor\u001B[39;00m is_valid_sparse_matrix(X))\n\u001B[0;32m    116\u001B[0m     \u001B[38;5;129;01mand\u001B[39;00m (is_numpy_c_ordered(Y) \u001B[38;5;129;01mor\u001B[39;00m is_valid_sparse_matrix(Y))\n\u001B[0;32m    117\u001B[0m     \u001B[38;5;129;01mand\u001B[39;00m X\u001B[38;5;241m.\u001B[39mdtype \u001B[38;5;241m==\u001B[39m Y\u001B[38;5;241m.\u001B[39mdtype\n\u001B[0;32m    118\u001B[0m     \u001B[38;5;129;01mand\u001B[39;00m X\u001B[38;5;241m.\u001B[39mdtype \u001B[38;5;129;01min\u001B[39;00m (np\u001B[38;5;241m.\u001B[39mfloat32, np\u001B[38;5;241m.\u001B[39mfloat64)\n\u001B[0;32m    119\u001B[0m     \u001B[38;5;129;01mand\u001B[39;00m metric \u001B[38;5;129;01min\u001B[39;00m \u001B[38;5;28mcls\u001B[39m\u001B[38;5;241m.\u001B[39mvalid_metrics()\n\u001B[0;32m    120\u001B[0m )\n\u001B[0;32m    122\u001B[0m \u001B[38;5;28;01mreturn\u001B[39;00m is_usable\n",
      "File \u001B[1;32mD:\\possessor\\Documents\\ESSE\\IT\\ML\\CV\\cvenv\\Lib\\site-packages\\sklearn\\metrics\\_pairwise_distances_reduction\\_dispatcher.py:99\u001B[0m, in \u001B[0;36mBaseDistancesReductionDispatcher.is_usable_for.<locals>.is_numpy_c_ordered\u001B[1;34m(X)\u001B[0m\n\u001B[0;32m     98\u001B[0m \u001B[38;5;28;01mdef\u001B[39;00m \u001B[38;5;21mis_numpy_c_ordered\u001B[39m(X):\n\u001B[1;32m---> 99\u001B[0m     \u001B[38;5;28;01mreturn\u001B[39;00m \u001B[38;5;28mhasattr\u001B[39m(X, \u001B[38;5;124m\"\u001B[39m\u001B[38;5;124mflags\u001B[39m\u001B[38;5;124m\"\u001B[39m) \u001B[38;5;129;01mand\u001B[39;00m \u001B[43mX\u001B[49m\u001B[38;5;241;43m.\u001B[39;49m\u001B[43mflags\u001B[49m\u001B[38;5;241;43m.\u001B[39;49m\u001B[43mc_contiguous\u001B[49m\n",
      "\u001B[1;31mAttributeError\u001B[0m: 'Flags' object has no attribute 'c_contiguous'"
     ]
    }
   ],
   "source": [
    "knn.score(X_test, y_test)"
   ],
   "metadata": {
    "collapsed": false,
    "ExecuteTime": {
     "start_time": "2023-07-14T12:36:50.282846Z",
     "end_time": "2023-07-14T12:36:50.347632Z"
    }
   }
  },
  {
   "cell_type": "code",
   "execution_count": 89,
   "outputs": [
    {
     "data": {
      "text/plain": "array(['bernese_mountain_dog', 'border_collie', 'chihuahua', 'corgi',\n       'dachshund', 'golden_retriever', 'jack_russell', 'labrador', 'pug',\n       'siberian_husky'], dtype=object)"
     },
     "execution_count": 89,
     "metadata": {},
     "output_type": "execute_result"
    }
   ],
   "source": [],
   "metadata": {
    "collapsed": false,
    "ExecuteTime": {
     "start_time": "2023-07-14T09:59:41.600153Z",
     "end_time": "2023-07-14T09:59:41.649360Z"
    }
   }
  },
  {
   "cell_type": "code",
   "execution_count": 228,
   "outputs": [
    {
     "name": "stdout",
     "output_type": "stream",
     "text": [
      "                      precision    recall  f1-score   support\n",
      "\n",
      "bernese_mountain_dog       0.25      0.67      0.36         3\n",
      "       border_collie       0.00      0.00      0.00         3\n",
      "           chihuahua       0.00      0.00      0.00         3\n",
      "               corgi       0.33      0.33      0.33         3\n",
      "           dachshund       0.25      0.33      0.29         3\n",
      "    golden_retriever       0.00      0.00      0.00         3\n",
      "        jack_russell       0.00      0.00      0.00         3\n",
      "            labrador       1.00      0.33      0.50         3\n",
      "                 pug       0.00      0.00      0.00         3\n",
      "      siberian_husky       0.00      0.00      0.00         3\n",
      "\n",
      "            accuracy                           0.17        30\n",
      "           macro avg       0.18      0.17      0.15        30\n",
      "        weighted avg       0.18      0.17      0.15        30\n",
      "\n"
     ]
    },
    {
     "name": "stderr",
     "output_type": "stream",
     "text": [
      "D:\\possessor\\Documents\\ESSE\\IT\\ML\\CV\\cvenv\\Lib\\site-packages\\sklearn\\metrics\\_classification.py:1469: UndefinedMetricWarning: Precision and F-score are ill-defined and being set to 0.0 in labels with no predicted samples. Use `zero_division` parameter to control this behavior.\n",
      "  _warn_prf(average, modifier, msg_start, len(result))\n",
      "D:\\possessor\\Documents\\ESSE\\IT\\ML\\CV\\cvenv\\Lib\\site-packages\\sklearn\\metrics\\_classification.py:1469: UndefinedMetricWarning: Precision and F-score are ill-defined and being set to 0.0 in labels with no predicted samples. Use `zero_division` parameter to control this behavior.\n",
      "  _warn_prf(average, modifier, msg_start, len(result))\n",
      "D:\\possessor\\Documents\\ESSE\\IT\\ML\\CV\\cvenv\\Lib\\site-packages\\sklearn\\metrics\\_classification.py:1469: UndefinedMetricWarning: Precision and F-score are ill-defined and being set to 0.0 in labels with no predicted samples. Use `zero_division` parameter to control this behavior.\n",
      "  _warn_prf(average, modifier, msg_start, len(result))\n"
     ]
    }
   ],
   "source": [
    "print(classification_report(y_test, knn.predict(X_test2),\n",
    "                            target_names=y_test.unique()))"
   ],
   "metadata": {
    "collapsed": false,
    "ExecuteTime": {
     "start_time": "2023-07-14T12:36:18.034307Z",
     "end_time": "2023-07-14T12:36:18.112397Z"
    }
   }
  },
  {
   "cell_type": "code",
   "execution_count": 246,
   "outputs": [
    {
     "data": {
      "text/plain": "0.965195008357566"
     },
     "execution_count": 246,
     "metadata": {},
     "output_type": "execute_result"
    }
   ],
   "source": [
    "\n",
    "#define arrays\n",
    "a = [[23, 34, 44, 45, 42, 27, 33, 34]]\n",
    "b = [[17, 18, 22, 26, 26, 29, 31, 30]]\n",
    "\n",
    "#calculate Cosine Similarity\n",
    "cos_sim = np.dot(a[0], b[0])/(np.linalg.norm(a[0]) * np.linalg.norm(b[0]))\n",
    "\n",
    "cos_sim"
   ],
   "metadata": {
    "collapsed": false,
    "ExecuteTime": {
     "start_time": "2023-07-14T12:46:41.239819Z",
     "end_time": "2023-07-14T12:46:41.254507Z"
    }
   }
  },
  {
   "cell_type": "code",
   "execution_count": 44,
   "outputs": [],
   "source": [
    "discriminator = nn.CosineSimilarity(dim=1, eps=1e-8)"
   ],
   "metadata": {
    "collapsed": false,
    "ExecuteTime": {
     "start_time": "2023-07-14T08:04:57.008993Z",
     "end_time": "2023-07-14T08:04:57.031271Z"
    }
   }
  },
  {
   "cell_type": "code",
   "execution_count": 45,
   "outputs": [
    {
     "data": {
      "text/plain": "tensor([[23.],\n        [34.],\n        [44.],\n        [45.],\n        [42.],\n        [27.],\n        [33.],\n        [34.]])"
     },
     "execution_count": 45,
     "metadata": {},
     "output_type": "execute_result"
    }
   ],
   "source": [
    "torch.Tensor(a).permute(1, 0)"
   ],
   "metadata": {
    "collapsed": false,
    "ExecuteTime": {
     "start_time": "2023-07-14T08:04:57.234059Z",
     "end_time": "2023-07-14T08:04:57.238802Z"
    }
   }
  },
  {
   "cell_type": "code",
   "execution_count": 46,
   "outputs": [
    {
     "data": {
      "text/plain": "tensor([0.9803, 0.9803, 0.9803, 0.9803, 0.9803, 0.9803, 0.9803, 0.9803])"
     },
     "execution_count": 46,
     "metadata": {},
     "output_type": "execute_result"
    }
   ],
   "source": [
    "discriminator(torch.Tensor(a).permute(1, 0), torch.Tensor(b).permute(0, 1))"
   ],
   "metadata": {
    "collapsed": false,
    "ExecuteTime": {
     "start_time": "2023-07-14T08:04:58.054325Z",
     "end_time": "2023-07-14T08:04:58.059336Z"
    }
   }
  },
  {
   "cell_type": "code",
   "execution_count": 38,
   "outputs": [
    {
     "data": {
      "text/plain": "tensor([[23., 34., 44., 45., 42., 27., 33., 34.]])"
     },
     "execution_count": 38,
     "metadata": {},
     "output_type": "execute_result"
    }
   ],
   "source": [
    "torch.Tensor(a).permute(0, 1)"
   ],
   "metadata": {
    "collapsed": false,
    "ExecuteTime": {
     "start_time": "2023-07-14T07:16:05.124138Z",
     "end_time": "2023-07-14T07:16:05.187618Z"
    }
   }
  },
  {
   "cell_type": "code",
   "execution_count": 39,
   "outputs": [
    {
     "data": {
      "text/plain": "tensor([[17.],\n        [18.],\n        [22.],\n        [26.],\n        [26.],\n        [29.],\n        [31.],\n        [30.]])"
     },
     "execution_count": 39,
     "metadata": {},
     "output_type": "execute_result"
    }
   ],
   "source": [
    "torch.Tensor(b).permute(1, 0)"
   ],
   "metadata": {
    "collapsed": false,
    "ExecuteTime": {
     "start_time": "2023-07-14T07:16:05.442359Z",
     "end_time": "2023-07-14T07:16:05.486072Z"
    }
   }
  },
  {
   "cell_type": "code",
   "execution_count": null,
   "outputs": [],
   "source": [],
   "metadata": {
    "collapsed": false
   }
  }
 ],
 "metadata": {
  "kernelspec": {
   "name": "yolo_torch",
   "language": "python",
   "display_name": "yolo_torch"
  },
  "language_info": {
   "codemirror_mode": {
    "name": "ipython",
    "version": 2
   },
   "file_extension": ".py",
   "mimetype": "text/x-python",
   "name": "python",
   "nbconvert_exporter": "python",
   "pygments_lexer": "ipython2",
   "version": "2.7.6"
  }
 },
 "nbformat": 4,
 "nbformat_minor": 0
}
