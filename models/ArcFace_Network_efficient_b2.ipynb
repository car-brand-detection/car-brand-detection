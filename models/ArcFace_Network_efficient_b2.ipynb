{
 "metadata": {
  "kernelspec": {
   "display_name": "Python 3",
   "language": "python",
   "name": "python3"
  },
  "language_info": {
   "codemirror_mode": {
    "name": "ipython",
    "version": 3
   },
   "file_extension": ".py",
   "mimetype": "text/x-python",
   "name": "python",
   "nbconvert_exporter": "python",
   "pygments_lexer": "ipython3",
   "version": "3.10.12"
  },
  "papermill": {
   "default_parameters": {},
   "duration": 3960.405937,
   "end_time": "2023-08-14T17:29:54.480893",
   "environment_variables": {},
   "exception": null,
   "input_path": "__notebook__.ipynb",
   "output_path": "__notebook__.ipynb",
   "parameters": {},
   "start_time": "2023-08-14T16:23:54.074956",
   "version": "2.4.0"
  }
 },
 "nbformat_minor": 4,
 "nbformat": 4,
 "cells": [
  {
   "cell_type": "markdown",
   "source": [
    "# Image Classification with ArcFace Loss"
   ],
   "metadata": {
    "papermill": {
     "duration": 0.028248,
     "end_time": "2023-08-14T16:24:04.236116",
     "exception": false,
     "start_time": "2023-08-14T16:24:04.207868",
     "status": "completed"
    },
    "tags": []
   }
  },
  {
   "cell_type": "markdown",
   "source": [
    "In this notebook we will train SOTA Computer Vision models (such as MobileNet, EfficientNet) to classify car brands. We will ArcFace Loss function for this task, which is also state-of-art."
   ],
   "metadata": {
    "papermill": {
     "duration": 0.0269,
     "end_time": "2023-08-14T16:24:04.291517",
     "exception": false,
     "start_time": "2023-08-14T16:24:04.264617",
     "status": "completed"
    },
    "tags": []
   }
  },
  {
   "cell_type": "markdown",
   "source": [
    "# 1. Set up"
   ],
   "metadata": {
    "id": "DRrvM2BPUG3T",
    "papermill": {
     "duration": 0.02718,
     "end_time": "2023-08-14T16:24:04.346391",
     "exception": false,
     "start_time": "2023-08-14T16:24:04.319211",
     "status": "completed"
    },
    "tags": []
   }
  },
  {
   "cell_type": "markdown",
   "source": [
    "## 1. Packages and requirements"
   ],
   "metadata": {
    "id": "G-cGfk5CTFDT",
    "papermill": {
     "duration": 0.026993,
     "end_time": "2023-08-14T16:24:04.400603",
     "exception": false,
     "start_time": "2023-08-14T16:24:04.373610",
     "status": "completed"
    },
    "tags": []
   }
  },
  {
   "cell_type": "code",
   "source": [
    "# Major builtin libraries\n",
    "import os\n",
    "import gc\n",
    "import math\n",
    "import time\n",
    "import random\n",
    "import typing as t\n",
    "from copy import deepcopy\n",
    "# from collections import defaultdict"
   ],
   "metadata": {
    "ExecuteTime": {
     "end_time": "2023-08-14T17:23:26.280767Z",
     "start_time": "2023-08-14T17:23:26.031025Z"
    },
    "id": "YJ1bPQE1TFDW",
    "papermill": {
     "duration": 0.044843,
     "end_time": "2023-08-14T16:24:04.472823",
     "exception": false,
     "start_time": "2023-08-14T16:24:04.427980",
     "status": "completed"
    },
    "tags": [],
    "execution": {
     "iopub.status.busy": "2023-09-11T10:19:34.418614Z",
     "iopub.execute_input": "2023-09-11T10:19:34.418995Z",
     "iopub.status.idle": "2023-09-11T10:19:34.431826Z",
     "shell.execute_reply.started": "2023-09-11T10:19:34.418963Z",
     "shell.execute_reply": "2023-09-11T10:19:34.430624Z"
    },
    "trusted": true
   },
   "execution_count": null,
   "outputs": []
  },
  {
   "cell_type": "code",
   "source": [
    "import warnings  # If you want to disable warnings\n",
    "warnings.filterwarnings(\"ignore\")\n",
    "\n",
    "# For descriptive error messages\n",
    "os.environ['CUDA_LAUNCH_BLOCKING'] = \"1\""
   ],
   "metadata": {
    "ExecuteTime": {
     "end_time": "2023-08-14T17:23:26.306033Z",
     "start_time": "2023-08-14T17:23:26.105655Z"
    },
    "id": "BwyVeWsUTFDX",
    "papermill": {
     "duration": 0.035469,
     "end_time": "2023-08-14T16:24:04.598152",
     "exception": false,
     "start_time": "2023-08-14T16:24:04.562683",
     "status": "completed"
    },
    "tags": [],
    "execution": {
     "iopub.status.busy": "2023-09-11T10:19:34.434053Z",
     "iopub.execute_input": "2023-09-11T10:19:34.434455Z",
     "iopub.status.idle": "2023-09-11T10:19:34.453524Z",
     "shell.execute_reply.started": "2023-09-11T10:19:34.434420Z",
     "shell.execute_reply": "2023-09-11T10:19:34.452385Z"
    },
    "trusted": true
   },
   "execution_count": null,
   "outputs": []
  },
  {
   "cell_type": "code",
   "source": [
    "# Classic packages for data manipulation and visualization\n",
    "import numpy as np\n",
    "import pandas as pd\n",
    "import matplotlib.pyplot as plt"
   ],
   "metadata": {
    "ExecuteTime": {
     "end_time": "2023-08-14T17:23:26.306033Z",
     "start_time": "2023-08-14T17:23:26.129062Z"
    },
    "id": "AGRBRJORTFDX",
    "papermill": {
     "duration": 0.035178,
     "end_time": "2023-08-14T16:24:04.660718",
     "exception": false,
     "start_time": "2023-08-14T16:24:04.625540",
     "status": "completed"
    },
    "tags": [],
    "execution": {
     "iopub.status.busy": "2023-09-11T10:19:34.457254Z",
     "iopub.execute_input": "2023-09-11T10:19:34.458242Z",
     "iopub.status.idle": "2023-09-11T10:19:34.464271Z",
     "shell.execute_reply.started": "2023-09-11T10:19:34.458176Z",
     "shell.execute_reply": "2023-09-11T10:19:34.463153Z"
    },
    "trusted": true
   },
   "execution_count": null,
   "outputs": []
  },
  {
   "cell_type": "code",
   "source": [
    "# Basic PyTorch\n",
    "import torch\n",
    "import torch.nn as nn\n",
    "import torch.optim as optim  # Optimization algorithms and dynamic learning rate adjusting\n",
    "import torch.nn.functional as F\n",
    "# from torch.nn.modules.loss import _Loss  # For writing a custom Loss function\n",
    "from torch.utils.data import DataLoader, Dataset  # For custom data presentation"
   ],
   "metadata": {
    "ExecuteTime": {
     "end_time": "2023-08-14T17:23:26.306033Z",
     "start_time": "2023-08-14T17:23:26.164300Z"
    },
    "id": "FXSN-XzxTFDX",
    "papermill": {
     "duration": 3.82041,
     "end_time": "2023-08-14T16:24:08.508190",
     "exception": false,
     "start_time": "2023-08-14T16:24:04.687780",
     "status": "completed"
    },
    "tags": [],
    "execution": {
     "iopub.status.busy": "2023-09-11T10:19:34.467605Z",
     "iopub.execute_input": "2023-09-11T10:19:34.468320Z",
     "iopub.status.idle": "2023-09-11T10:19:37.650243Z",
     "shell.execute_reply.started": "2023-09-11T10:19:34.468285Z",
     "shell.execute_reply": "2023-09-11T10:19:37.649153Z"
    },
    "trusted": true
   },
   "execution_count": null,
   "outputs": []
  },
  {
   "cell_type": "code",
   "source": [
    "# Utils\n",
    "import joblib  # Pipelining, pickling (dump/load), parallel processing\n",
    "from tqdm import tqdm  # Progress bar for training process\n",
    "from tempfile import TemporaryDirectory\n",
    "\n",
    "# Classic ML tools\n",
    "from sklearn.preprocessing import LabelEncoder\n",
    "from sklearn.model_selection import StratifiedKFold  # Cross-Validation"
   ],
   "metadata": {
    "ExecuteTime": {
     "end_time": "2023-08-14T17:23:26.307036Z",
     "start_time": "2023-08-14T17:23:26.188493Z"
    },
    "id": "7QjRLiOzTFDY",
    "papermill": {
     "duration": 0.980731,
     "end_time": "2023-08-14T16:24:09.517905",
     "exception": false,
     "start_time": "2023-08-14T16:24:08.537174",
     "status": "completed"
    },
    "tags": [],
    "execution": {
     "iopub.status.busy": "2023-09-11T10:19:37.651808Z",
     "iopub.execute_input": "2023-09-11T10:19:37.652462Z",
     "iopub.status.idle": "2023-09-11T10:19:38.149616Z",
     "shell.execute_reply.started": "2023-09-11T10:19:37.652425Z",
     "shell.execute_reply": "2023-09-11T10:19:38.148513Z"
    },
    "trusted": true
   },
   "execution_count": null,
   "outputs": []
  },
  {
   "cell_type": "code",
   "source": [
    "!pip install -u scikit-learn"
   ],
   "metadata": {
    "execution": {
     "iopub.status.busy": "2023-09-11T10:19:38.151124Z",
     "iopub.execute_input": "2023-09-11T10:19:38.151554Z",
     "iopub.status.idle": "2023-09-11T10:19:39.854422Z",
     "shell.execute_reply.started": "2023-09-11T10:19:38.151515Z",
     "shell.execute_reply": "2023-09-11T10:19:39.853178Z"
    },
    "trusted": true
   },
   "execution_count": null,
   "outputs": []
  },
  {
   "cell_type": "code",
   "source": [
    "# Data dimensionality reduction\n",
    "from sklearn.manifold import TSNE  # high-dimensional data visualization\n",
    "from sklearn.decomposition import PCA  # More effective dimensionality reduction method\n",
    "\n",
    "# Clustering methods\n",
    "from sklearn.cluster import KMeans\n",
    "from sklearn.cluster import DBSCAN"
   ],
   "metadata": {
    "ExecuteTime": {
     "end_time": "2023-08-14T17:23:26.307036Z",
     "start_time": "2023-08-14T17:23:26.231449Z"
    },
    "collapsed": false,
    "jupyter": {
     "outputs_hidden": false
    },
    "papermill": {
     "duration": 0.340413,
     "end_time": "2023-08-14T16:24:09.888321",
     "exception": false,
     "start_time": "2023-08-14T16:24:09.547908",
     "status": "completed"
    },
    "tags": [],
    "execution": {
     "iopub.status.busy": "2023-09-11T10:19:39.856588Z",
     "iopub.execute_input": "2023-09-11T10:19:39.856930Z",
     "iopub.status.idle": "2023-09-11T10:19:40.203330Z",
     "shell.execute_reply.started": "2023-09-11T10:19:39.856895Z",
     "shell.execute_reply": "2023-09-11T10:19:40.202249Z"
    },
    "trusted": true
   },
   "execution_count": null,
   "outputs": []
  },
  {
   "cell_type": "code",
   "source": [
    "# ML Metrics\n",
    "from sklearn.metrics import accuracy_score\n",
    "from sklearn.metrics import classification_report\n",
    "from torchmetrics.classification import MulticlassF1Score # F1 metric for multiclass"
   ],
   "metadata": {
    "ExecuteTime": {
     "end_time": "2023-08-14T17:23:26.308035Z",
     "start_time": "2023-08-14T17:23:26.274048Z"
    },
    "id": "BuY4s3bsTFDZ",
    "papermill": {
     "duration": 10.177643,
     "end_time": "2023-08-14T16:24:20.158465",
     "exception": false,
     "start_time": "2023-08-14T16:24:09.980822",
     "status": "completed"
    },
    "tags": [],
    "execution": {
     "iopub.status.busy": "2023-09-11T10:19:40.205486Z",
     "iopub.execute_input": "2023-09-11T10:19:40.206094Z",
     "iopub.status.idle": "2023-09-11T10:19:49.929044Z",
     "shell.execute_reply.started": "2023-09-11T10:19:40.206055Z",
     "shell.execute_reply": "2023-09-11T10:19:49.927981Z"
    },
    "trusted": true
   },
   "execution_count": null,
   "outputs": []
  },
  {
   "cell_type": "code",
   "source": [
    "# Torch Computer Vision tools for images processing\n",
    "from torchvision.io import read_image\n",
    "from torchvision.transforms.functional import to_pil_image, to_grayscale, to_tensor\n",
    "from torchvision import models  # Pretrained models"
   ],
   "metadata": {
    "ExecuteTime": {
     "end_time": "2023-08-14T17:23:26.407058Z",
     "start_time": "2023-08-14T17:23:26.318039Z"
    },
    "id": "FEKtt6X5TFDZ",
    "papermill": {
     "duration": 0.03877,
     "end_time": "2023-08-14T16:24:20.224798",
     "exception": false,
     "start_time": "2023-08-14T16:24:20.186028",
     "status": "completed"
    },
    "tags": [],
    "execution": {
     "iopub.status.busy": "2023-09-11T10:19:49.930718Z",
     "iopub.execute_input": "2023-09-11T10:19:49.931082Z",
     "iopub.status.idle": "2023-09-11T10:19:49.936420Z",
     "shell.execute_reply.started": "2023-09-11T10:19:49.931045Z",
     "shell.execute_reply": "2023-09-11T10:19:49.935359Z"
    },
    "trusted": true
   },
   "execution_count": null,
   "outputs": []
  },
  {
   "cell_type": "code",
   "source": [
    "# Albumentations is an OS library for augmentations\n",
    "import albumentations as A\n",
    "from albumentations.pytorch import ToTensorV2"
   ],
   "metadata": {
    "ExecuteTime": {
     "end_time": "2023-08-14T17:23:26.407058Z",
     "start_time": "2023-08-14T17:23:26.339529Z"
    },
    "id": "90C8yH1dTFDa",
    "papermill": {
     "duration": 0.930793,
     "end_time": "2023-08-14T16:24:21.182870",
     "exception": false,
     "start_time": "2023-08-14T16:24:20.252077",
     "status": "completed"
    },
    "tags": [],
    "execution": {
     "iopub.status.busy": "2023-09-11T10:19:49.942522Z",
     "iopub.execute_input": "2023-09-11T10:19:49.942871Z",
     "iopub.status.idle": "2023-09-11T10:19:50.855302Z",
     "shell.execute_reply.started": "2023-09-11T10:19:49.942842Z",
     "shell.execute_reply": "2023-09-11T10:19:50.854259Z"
    },
    "trusted": true
   },
   "execution_count": null,
   "outputs": []
  },
  {
   "cell_type": "code",
   "source": [
    "# Output text colorizing\n",
    "from colorama import Back, Style\n",
    "\n",
    "def print_highlighted(text: str, bgcolor=Back.YELLOW) -> None:\n",
    "    \"\"\"\n",
    "    Function to print a text with colored background.\n",
    "    \"\"\"\n",
    "    print(bgcolor + text + Style.RESET_ALL)"
   ],
   "metadata": {
    "ExecuteTime": {
     "end_time": "2023-08-14T17:23:26.408813Z",
     "start_time": "2023-08-14T17:23:26.365720Z"
    },
    "collapsed": false,
    "id": "pF1AWOXTTFDa",
    "jupyter": {
     "outputs_hidden": false
    },
    "papermill": {
     "duration": 0.037099,
     "end_time": "2023-08-14T16:24:21.300878",
     "exception": false,
     "start_time": "2023-08-14T16:24:21.263779",
     "status": "completed"
    },
    "tags": [],
    "execution": {
     "iopub.status.busy": "2023-09-11T10:19:50.858032Z",
     "iopub.execute_input": "2023-09-11T10:19:50.858361Z",
     "iopub.status.idle": "2023-09-11T10:19:50.864281Z",
     "shell.execute_reply.started": "2023-09-11T10:19:50.858332Z",
     "shell.execute_reply": "2023-09-11T10:19:50.863266Z"
    },
    "trusted": true
   },
   "execution_count": null,
   "outputs": []
  },
  {
   "cell_type": "code",
   "source": [
    "# import wandb # MLOps platform to simplify and speed up the process of building ML models"
   ],
   "metadata": {
    "ExecuteTime": {
     "end_time": "2023-08-14T17:23:26.408813Z",
     "start_time": "2023-08-14T17:23:26.376150Z"
    },
    "collapsed": false,
    "id": "WHnMHaX_TFDb",
    "jupyter": {
     "outputs_hidden": false
    },
    "papermill": {
     "duration": 0.034479,
     "end_time": "2023-08-14T16:24:21.363117",
     "exception": false,
     "start_time": "2023-08-14T16:24:21.328638",
     "status": "completed"
    },
    "tags": [],
    "execution": {
     "iopub.status.busy": "2023-09-11T10:19:50.865869Z",
     "iopub.execute_input": "2023-09-11T10:19:50.868883Z",
     "iopub.status.idle": "2023-09-11T10:19:50.880248Z",
     "shell.execute_reply.started": "2023-09-11T10:19:50.868845Z",
     "shell.execute_reply": "2023-09-11T10:19:50.879242Z"
    },
    "trusted": true
   },
   "execution_count": null,
   "outputs": []
  },
  {
   "cell_type": "code",
   "source": [
    "# wandb.login() # We log in via pop-up,"
   ],
   "metadata": {
    "ExecuteTime": {
     "end_time": "2023-08-14T17:23:26.408813Z",
     "start_time": "2023-08-14T17:23:26.382183Z"
    },
    "collapsed": false,
    "id": "1zarBgpbTFDb",
    "jupyter": {
     "outputs_hidden": false
    },
    "papermill": {
     "duration": 0.034968,
     "end_time": "2023-08-14T16:24:21.425112",
     "exception": false,
     "start_time": "2023-08-14T16:24:21.390144",
     "status": "completed"
    },
    "tags": [],
    "execution": {
     "iopub.status.busy": "2023-09-11T10:19:50.882019Z",
     "iopub.execute_input": "2023-09-11T10:19:50.882554Z",
     "iopub.status.idle": "2023-09-11T10:19:50.891383Z",
     "shell.execute_reply.started": "2023-09-11T10:19:50.882519Z",
     "shell.execute_reply": "2023-09-11T10:19:50.890168Z"
    },
    "trusted": true
   },
   "execution_count": null,
   "outputs": []
  },
  {
   "cell_type": "markdown",
   "source": [
    "## 2. Configuration"
   ],
   "metadata": {
    "id": "YuquAHEkTFDb",
    "papermill": {
     "duration": 0.026802,
     "end_time": "2023-08-14T16:24:21.479509",
     "exception": false,
     "start_time": "2023-08-14T16:24:21.452707",
     "status": "completed"
    },
    "tags": []
   }
  },
  {
   "cell_type": "code",
   "source": [
    "CONFIG = {\n",
    "    \"seed\": 2306,\n",
    "    \"epochs\": 20,\n",
    "    \"image_dimension\": 256,  # Depends on pretrained model used\n",
    "    \"model_name\": \"efficientnet_b2\",  # Pretrained model we will use\n",
    "    \"embedding_size\": 512,  # Embedding output size\n",
    "    \"train_batch_size\": 64,\n",
    "    \"val_batch_size\": 128,\n",
    "    \"learning_rate\": 1e-3,\n",
    "    \"min_lr\": 1e-8,\n",
    "    \"min_loss_delta\": 1e-7, # To stop training on plateau\n",
    "    \"weight_decay\": 1e-7,\n",
    "}"
   ],
   "metadata": {
    "ExecuteTime": {
     "end_time": "2023-08-14T17:23:26.470569Z",
     "start_time": "2023-08-14T17:23:26.407058Z"
    },
    "id": "JC-SbC9zTFDb",
    "papermill": {
     "duration": 0.036674,
     "end_time": "2023-08-14T16:24:21.543459",
     "exception": false,
     "start_time": "2023-08-14T16:24:21.506785",
     "status": "completed"
    },
    "tags": [],
    "execution": {
     "iopub.status.busy": "2023-09-11T10:19:50.893205Z",
     "iopub.execute_input": "2023-09-11T10:19:50.893625Z",
     "iopub.status.idle": "2023-09-11T10:19:50.902107Z",
     "shell.execute_reply.started": "2023-09-11T10:19:50.893589Z",
     "shell.execute_reply": "2023-09-11T10:19:50.901025Z"
    },
    "trusted": true
   },
   "execution_count": null,
   "outputs": []
  },
  {
   "cell_type": "code",
   "source": [
    "class Config:\n",
    "    \"\"\"\n",
    "    Class to simplify access to Config: not dict but object with attributes\n",
    "    \"\"\"\n",
    "    def __init__(self, config_dict):\n",
    "        for key, value in config_dict.items():\n",
    "            setattr(self, key, value)"
   ],
   "metadata": {
    "ExecuteTime": {
     "end_time": "2023-08-14T17:23:26.590184Z",
     "start_time": "2023-08-14T17:23:26.420836Z"
    },
    "collapsed": false,
    "id": "TzAQ9KIRTFDb",
    "jupyter": {
     "outputs_hidden": false
    },
    "papermill": {
     "duration": 0.03692,
     "end_time": "2023-08-14T16:24:21.608045",
     "exception": false,
     "start_time": "2023-08-14T16:24:21.571125",
     "status": "completed"
    },
    "tags": [],
    "execution": {
     "iopub.status.busy": "2023-09-11T10:19:50.903712Z",
     "iopub.execute_input": "2023-09-11T10:19:50.904659Z",
     "iopub.status.idle": "2023-09-11T10:19:50.912129Z",
     "shell.execute_reply.started": "2023-09-11T10:19:50.904622Z",
     "shell.execute_reply": "2023-09-11T10:19:50.911066Z"
    },
    "trusted": true
   },
   "execution_count": null,
   "outputs": []
  },
  {
   "cell_type": "code",
   "source": [
    "config = Config(config_dict=CONFIG)\n",
    "del CONFIG"
   ],
   "metadata": {
    "ExecuteTime": {
     "end_time": "2023-08-14T17:23:26.590184Z",
     "start_time": "2023-08-14T17:23:26.468020Z"
    },
    "collapsed": false,
    "id": "wivQs3vJTFDb",
    "jupyter": {
     "outputs_hidden": false
    },
    "papermill": {
     "duration": 0.035139,
     "end_time": "2023-08-14T16:24:21.670496",
     "exception": false,
     "start_time": "2023-08-14T16:24:21.635357",
     "status": "completed"
    },
    "tags": [],
    "execution": {
     "iopub.status.busy": "2023-09-11T10:19:50.913831Z",
     "iopub.execute_input": "2023-09-11T10:19:50.914639Z",
     "iopub.status.idle": "2023-09-11T10:19:50.923088Z",
     "shell.execute_reply.started": "2023-09-11T10:19:50.914534Z",
     "shell.execute_reply": "2023-09-11T10:19:50.922106Z"
    },
    "trusted": true
   },
   "execution_count": null,
   "outputs": []
  },
  {
   "cell_type": "code",
   "source": [
    "# Work example\n",
    "config.seed"
   ],
   "metadata": {
    "ExecuteTime": {
     "end_time": "2023-08-14T17:23:26.609608Z",
     "start_time": "2023-08-14T17:23:26.476586Z"
    },
    "collapsed": false,
    "id": "ZZO47D8bTFDc",
    "jupyter": {
     "outputs_hidden": false
    },
    "outputId": "38bf95ae-905a-43be-f188-2c2c29dbb2f1",
    "papermill": {
     "duration": 0.038088,
     "end_time": "2023-08-14T16:24:21.735810",
     "exception": false,
     "start_time": "2023-08-14T16:24:21.697722",
     "status": "completed"
    },
    "tags": [],
    "execution": {
     "iopub.status.busy": "2023-09-11T10:19:50.924950Z",
     "iopub.execute_input": "2023-09-11T10:19:50.925640Z",
     "iopub.status.idle": "2023-09-11T10:19:50.938863Z",
     "shell.execute_reply.started": "2023-09-11T10:19:50.925606Z",
     "shell.execute_reply": "2023-09-11T10:19:50.937213Z"
    },
    "trusted": true
   },
   "execution_count": null,
   "outputs": []
  },
  {
   "cell_type": "markdown",
   "source": [
    "Set Seed for Reproducibility"
   ],
   "metadata": {
    "id": "kotMeU-OTFDc",
    "papermill": {
     "duration": 0.027693,
     "end_time": "2023-08-14T16:24:21.791364",
     "exception": false,
     "start_time": "2023-08-14T16:24:21.763671",
     "status": "completed"
    },
    "tags": []
   }
  },
  {
   "cell_type": "code",
   "source": [
    "def set_seed(seed=42):\n",
    "    \"\"\"\n",
    "    Sets the seed of the entire notebook so results are the same every time we run.\n",
    "    This is for REPRODUCIBILITY.\n",
    "    \"\"\"\n",
    "    np.random.seed(seed)\n",
    "    torch.manual_seed(seed)\n",
    "\n",
    "    # When running on the CuDNN backend, two further options must be set\n",
    "    # torch.backends.cudnn.deterministic = True\n",
    "    # torch.backends.cudnn.benchmark = False  # When False, this option makes CUDA reproducible, BUT the performance might suffer\n",
    "\n",
    "    # Set a fixed value for the hash seed\n",
    "    os.environ['PYTHONHASHSEED'] = str(seed)\n",
    "\n",
    "set_seed(seed=config.seed)"
   ],
   "metadata": {
    "ExecuteTime": {
     "end_time": "2023-08-14T17:23:26.610600Z",
     "start_time": "2023-08-14T17:23:26.506717Z"
    },
    "id": "RDIHP75uTFDc",
    "papermill": {
     "duration": 0.045937,
     "end_time": "2023-08-14T16:24:21.869710",
     "exception": false,
     "start_time": "2023-08-14T16:24:21.823773",
     "status": "completed"
    },
    "tags": [],
    "execution": {
     "iopub.status.busy": "2023-09-11T10:19:50.941908Z",
     "iopub.execute_input": "2023-09-11T10:19:50.942434Z",
     "iopub.status.idle": "2023-09-11T10:19:50.955452Z",
     "shell.execute_reply.started": "2023-09-11T10:19:50.942396Z",
     "shell.execute_reply": "2023-09-11T10:19:50.954246Z"
    },
    "trusted": true
   },
   "execution_count": null,
   "outputs": []
  },
  {
   "cell_type": "markdown",
   "source": [
    "# 2. Data"
   ],
   "metadata": {
    "id": "UoHh0H1FVHnT",
    "papermill": {
     "duration": 0.027822,
     "end_time": "2023-08-14T16:24:21.925361",
     "exception": false,
     "start_time": "2023-08-14T16:24:21.897539",
     "status": "completed"
    },
    "tags": []
   }
  },
  {
   "cell_type": "markdown",
   "source": [
    "## 1. Location"
   ],
   "metadata": {
    "id": "Qst3Y-s4VKTk",
    "papermill": {
     "duration": 0.042797,
     "end_time": "2023-08-14T16:24:22.001996",
     "exception": false,
     "start_time": "2023-08-14T16:24:21.959199",
     "status": "completed"
    },
    "tags": []
   }
  },
  {
   "cell_type": "code",
   "source": [
    "config.repo = 'car-brands/'  # dataset name on Kaggle\n",
    "\n",
    "config.root = '/kaggle/input/' + config.repo\n",
    "\n",
    "config.data = config.root + 'dataset/'\n",
    "\n",
    "config.train_images_path  = config.data + 'images/train'\n",
    "config.test_images_path = config.data + 'images/test'\n",
    "\n",
    "config.train_labels  = config.data + 'train_labels.csv'\n",
    "config.test_labels = config.data + 'test_labels.csv'\n",
    "\n",
    "# config.model_path = '/kaggle/input/efficient-model/EfficientNet_b2.pth'\n",
    "config.model_path = '/kaggle/input/efficient-model/ArcFace_efficientnet_b2.pth'"
   ],
   "metadata": {
    "ExecuteTime": {
     "end_time": "2023-08-14T17:23:26.611598Z",
     "start_time": "2023-08-14T17:23:26.573436Z"
    },
    "id": "QKDBLmMrTFDd",
    "papermill": {
     "duration": 0.036856,
     "end_time": "2023-08-14T16:24:22.084008",
     "exception": false,
     "start_time": "2023-08-14T16:24:22.047152",
     "status": "completed"
    },
    "tags": [],
    "execution": {
     "iopub.status.busy": "2023-09-11T10:19:50.956927Z",
     "iopub.execute_input": "2023-09-11T10:19:50.957910Z",
     "iopub.status.idle": "2023-09-11T10:19:50.967174Z",
     "shell.execute_reply.started": "2023-09-11T10:19:50.957871Z",
     "shell.execute_reply": "2023-09-11T10:19:50.966100Z"
    },
    "trusted": true
   },
   "execution_count": null,
   "outputs": []
  },
  {
   "cell_type": "markdown",
   "source": [
    "## 2. Custom Data representation"
   ],
   "metadata": {
    "id": "u0McLUXoTFDd",
    "papermill": {
     "duration": 0.026926,
     "end_time": "2023-08-14T16:24:22.138322",
     "exception": false,
     "start_time": "2023-08-14T16:24:22.111396",
     "status": "completed"
    },
    "tags": []
   }
  },
  {
   "cell_type": "code",
   "source": [
    "def get_file_path_by_id(file_id, dir=config.root):\n",
    "    return os.path.join(dir, str(file_id) + \".jpg\")"
   ],
   "metadata": {
    "ExecuteTime": {
     "end_time": "2023-08-14T17:23:26.612599Z",
     "start_time": "2023-08-14T17:23:26.586152Z"
    },
    "papermill": {
     "duration": 0.035798,
     "end_time": "2023-08-14T16:24:22.201575",
     "exception": false,
     "start_time": "2023-08-14T16:24:22.165777",
     "status": "completed"
    },
    "tags": [],
    "execution": {
     "iopub.status.busy": "2023-09-11T10:19:50.968458Z",
     "iopub.execute_input": "2023-09-11T10:19:50.969752Z",
     "iopub.status.idle": "2023-09-11T10:19:50.980589Z",
     "shell.execute_reply.started": "2023-09-11T10:19:50.969721Z",
     "shell.execute_reply": "2023-09-11T10:19:50.979260Z"
    },
    "trusted": true
   },
   "execution_count": null,
   "outputs": []
  },
  {
   "cell_type": "code",
   "source": [
    "def apply_label_encoding(data: t.Union[pd.DataFrame, np.array],\n",
    "                         encoder_name: os.path,\n",
    "                         column='label', action='encode',\n",
    "                         ):\n",
    "    \"\"\"\n",
    "    One Hot encoding. We apply encoding by replacing the label column in dataframe.\n",
    "    As for decoding data back, we work with vector-array (as it's most likely to\n",
    "    be a prediction result)\n",
    "    \"\"\"\n",
    "    encoder = LabelEncoder()\n",
    "    if action == 'encode':\n",
    "        # We transform dataframe here. Nothing returns\n",
    "        data[column] = encoder.fit_transform(data[column])\n",
    "        with open(f\"{encoder_name}_LEncoder.pkl\", \"wb\") as fp:\n",
    "            joblib.dump(encoder, fp)\n",
    "    elif action == 'decode':\n",
    "        # We pass vector here. Result is a vector\n",
    "        with open(f\"{encoder_name}_LEncoder.pkl\", \"rb\") as fp:\n",
    "            encoder: LabelEncoder = joblib.load(fp)\n",
    "        if type(data) == torch.Tensor:\n",
    "            data = data.cpu().numpy()\n",
    "        return encoder.inverse_transform(data)"
   ],
   "metadata": {
    "ExecuteTime": {
     "end_time": "2023-08-14T17:23:26.613599Z",
     "start_time": "2023-08-14T17:23:26.603179Z"
    },
    "collapsed": false,
    "id": "_dh7nUr3TFDd",
    "jupyter": {
     "outputs_hidden": false
    },
    "papermill": {
     "duration": 0.039278,
     "end_time": "2023-08-14T16:24:22.268745",
     "exception": false,
     "start_time": "2023-08-14T16:24:22.229467",
     "status": "completed"
    },
    "tags": [],
    "execution": {
     "iopub.status.busy": "2023-09-11T10:19:50.981842Z",
     "iopub.execute_input": "2023-09-11T10:19:50.982259Z",
     "iopub.status.idle": "2023-09-11T10:19:50.993827Z",
     "shell.execute_reply.started": "2023-09-11T10:19:50.982212Z",
     "shell.execute_reply": "2023-09-11T10:19:50.992742Z"
    },
    "trusted": true
   },
   "execution_count": null,
   "outputs": []
  },
  {
   "cell_type": "code",
   "source": [
    "class CustomImagesDataset(Dataset):\n",
    "    \"\"\"\n",
    "    \"\"\"\n",
    "    def __init__(self, data: pd.DataFrame=None, images_path: os.path=None, labels_path:os.path=None, transform_images: A.Compose=None, encoder_name: str=None):\n",
    "        \"\"\"\n",
    "\n",
    "        \"\"\"\n",
    "        super().__init__()\n",
    "        assert (data is not None) or (labels_path is not None and images_path is not None)\n",
    "\n",
    "        if data is None:\n",
    "            data = pd.read_csv(labels_path)\n",
    "            data['file_path'] = data['id'].apply(get_file_path_by_id, dir=images_path)\n",
    "\n",
    "        self.images_paths = data['file_path'].values\n",
    "        self.encoder_name = encoder_name if encoder_name else self.__hash__()  # We use hash as a unique name\n",
    "        print_highlighted(f\"Label Encoder saved with id `{self.encoder_name}`\")\n",
    "        apply_label_encoding(data=data, action='encode', encoder_name=self.encoder_name)\n",
    "        self.labels = data['label'].values\n",
    "#         self.indexes = data['id'].values\n",
    "        self.transform_images = transform_images\n",
    "        self.__set_dataset_len()\n",
    "\n",
    "    def __set_dataset_len(self):\n",
    "        self.length = self.labels.shape[0] # Number of rows\n",
    "\n",
    "    def __len__(self):\n",
    "        \"\"\"\n",
    "        We calculate the len in another function, so that we are able to slice.\n",
    "        \"\"\"\n",
    "        return self.length\n",
    "\n",
    "    def decode_labels(self, labels_vector):\n",
    "        return apply_label_encoding(data=labels_vector, action='decode', encoder_name=self.encoder_name)\n",
    "\n",
    "    def __getitem__(self, index) -> tuple[torch.Tensor, int]:\n",
    "        \"\"\" Function to return item by indexing the dataset \"\"\"\n",
    "\n",
    "        if not isinstance(index, int) and isinstance(index, slice):\n",
    "            # It's not an index, but slice.\n",
    "            # We will return the part of data by making a copy of the dataset\n",
    "            index: slice\n",
    "            self = deepcopy(self)\n",
    "            self.length = index.stop  # Cut the length of dataset.\n",
    "            self.labels = self.labels[:self.length]\n",
    "            return self\n",
    "        assert self.__len__() >= index\n",
    "\n",
    "        image = to_pil_image(read_image(self.images_paths[index]))\n",
    "        if self.transform_images:\n",
    "            # Albumentations requires us to convert image to Numpy Array\n",
    "            image = self.transform_images(image=np.array(image))['image']\n",
    "\n",
    "        label = self.labels[index]\n",
    "        return image, label\n",
    "\n",
    "\n",
    "    @property\n",
    "    def classes_(self):\n",
    "        return self.decode_labels(np.unique(self.labels))\n"
   ],
   "metadata": {
    "ExecuteTime": {
     "end_time": "2023-08-14T17:23:26.774422Z",
     "start_time": "2023-08-14T17:23:26.640614Z"
    },
    "collapsed": false,
    "id": "piJ9PgTuTFDe",
    "jupyter": {
     "outputs_hidden": false
    },
    "papermill": {
     "duration": 0.044801,
     "end_time": "2023-08-14T16:24:22.341189",
     "exception": false,
     "start_time": "2023-08-14T16:24:22.296388",
     "status": "completed"
    },
    "tags": [],
    "execution": {
     "iopub.status.busy": "2023-09-11T10:19:50.995507Z",
     "iopub.execute_input": "2023-09-11T10:19:50.995971Z",
     "iopub.status.idle": "2023-09-11T10:19:51.019272Z",
     "shell.execute_reply.started": "2023-09-11T10:19:50.995935Z",
     "shell.execute_reply": "2023-09-11T10:19:51.018088Z"
    },
    "trusted": true
   },
   "execution_count": null,
   "outputs": []
  },
  {
   "cell_type": "markdown",
   "source": [
    "## 3. Augmentations"
   ],
   "metadata": {
    "id": "lB9BnVDPTFDe",
    "papermill": {
     "duration": 0.02757,
     "end_time": "2023-08-14T16:24:22.396505",
     "exception": false,
     "start_time": "2023-08-14T16:24:22.368935",
     "status": "completed"
    },
    "tags": []
   }
  },
  {
   "cell_type": "markdown",
   "source": [
    "We use Albumantations lib"
   ],
   "metadata": {
    "id": "i-F36u_bTFDe",
    "papermill": {
     "duration": 0.026968,
     "end_time": "2023-08-14T16:24:22.450897",
     "exception": false,
     "start_time": "2023-08-14T16:24:22.423929",
     "status": "completed"
    },
    "tags": []
   }
  },
  {
   "cell_type": "code",
   "source": [
    "data_transforms = {\n",
    "    \"train\": A.Compose([\n",
    "        A.Resize(config.image_dimension, config.image_dimension),\n",
    "#         A.RandomCrop(width=224, height=224, p=1),\n",
    "        A.OneOf([\n",
    "            A.Resize(224, 224, p=0.5),\n",
    "            A.RandomCrop(width=224, height=224, p=1.0),\n",
    "        ], p=1.0),\n",
    "        A.ShiftScaleRotate(\n",
    "            shift_limit=0.1,\n",
    "            scale_limit=0.1,\n",
    "            rotate_limit=30,\n",
    "            p=0.5),\n",
    "\n",
    "        A.HueSaturationValue(\n",
    "                hue_shift_limit=30,\n",
    "                sat_shift_limit=30,\n",
    "                val_shift_limit=30,\n",
    "                p=0.5\n",
    "            ),\n",
    "        A.RandomBrightnessContrast(\n",
    "                brightness_limit=(-0.01,0.01),\n",
    "                contrast_limit=(-0.01, 0.01),\n",
    "                p=0.5\n",
    "            ),\n",
    "        A.Normalize(\n",
    "                mean=[0.485, 0.456, 0.406],\n",
    "                std=[0.229, 0.224, 0.225],\n",
    "                max_pixel_value=255.0,\n",
    "                p=1.0\n",
    "            ),\n",
    "        ToTensorV2() # Advanced analogue of T.ToTensor\n",
    "    ], p=1.),\n",
    "\n",
    "    \"val\": A.Compose([\n",
    "        A.Resize(config.image_dimension, config.image_dimension),\n",
    "        A.Normalize(\n",
    "                mean=[0.485, 0.456, 0.406],\n",
    "                std=[0.229, 0.224, 0.225],\n",
    "                max_pixel_value=255.0,\n",
    "                p=1.0\n",
    "            ),\n",
    "        ToTensorV2()], p=1.)\n",
    "}"
   ],
   "metadata": {
    "ExecuteTime": {
     "end_time": "2023-08-14T17:23:26.813412Z",
     "start_time": "2023-08-14T17:23:26.668859Z"
    },
    "collapsed": false,
    "id": "tROO0x2GTFDe",
    "jupyter": {
     "outputs_hidden": false
    },
    "papermill": {
     "duration": 0.041327,
     "end_time": "2023-08-14T16:24:22.519534",
     "exception": false,
     "start_time": "2023-08-14T16:24:22.478207",
     "status": "completed"
    },
    "tags": [],
    "execution": {
     "iopub.status.busy": "2023-09-11T10:19:51.021146Z",
     "iopub.execute_input": "2023-09-11T10:19:51.021575Z",
     "iopub.status.idle": "2023-09-11T10:19:51.035084Z",
     "shell.execute_reply.started": "2023-09-11T10:19:51.021539Z",
     "shell.execute_reply": "2023-09-11T10:19:51.033982Z"
    },
    "trusted": true
   },
   "execution_count": null,
   "outputs": []
  },
  {
   "cell_type": "markdown",
   "source": [
    "## 4. Load the data and have a look"
   ],
   "metadata": {
    "id": "LrSe00KeTFDe",
    "papermill": {
     "duration": 0.027117,
     "end_time": "2023-08-14T16:24:22.574348",
     "exception": false,
     "start_time": "2023-08-14T16:24:22.547231",
     "status": "completed"
    },
    "tags": []
   }
  },
  {
   "cell_type": "code",
   "source": [
    "train_dataset = CustomImagesDataset(labels_path=config.train_labels, images_path=config.train_images_path, transform_images=data_transforms['train'], encoder_name='train')"
   ],
   "metadata": {
    "ExecuteTime": {
     "end_time": "2023-08-14T17:23:27.056859Z",
     "start_time": "2023-08-14T17:23:26.695204Z"
    },
    "collapsed": false,
    "id": "DmijxMsuTFDf",
    "jupyter": {
     "outputs_hidden": false
    },
    "outputId": "0f9bae18-cdd1-4716-8bc0-8d83c4eb2a3f",
    "papermill": {
     "duration": 0.131857,
     "end_time": "2023-08-14T16:24:22.733140",
     "exception": false,
     "start_time": "2023-08-14T16:24:22.601283",
     "status": "completed"
    },
    "tags": [],
    "execution": {
     "iopub.status.busy": "2023-09-11T10:19:51.038672Z",
     "iopub.execute_input": "2023-09-11T10:19:51.039048Z",
     "iopub.status.idle": "2023-09-11T10:19:51.163566Z",
     "shell.execute_reply.started": "2023-09-11T10:19:51.039005Z",
     "shell.execute_reply": "2023-09-11T10:19:51.162517Z"
    },
    "trusted": true
   },
   "execution_count": null,
   "outputs": []
  },
  {
   "cell_type": "code",
   "source": [
    "test_dataset = CustomImagesDataset(\n",
    "    labels_path=config.test_labels,\n",
    "    images_path=config.test_images_path,\n",
    "    transform_images=data_transforms['val'],\n",
    "    encoder_name='test',\n",
    ")"
   ],
   "metadata": {
    "ExecuteTime": {
     "end_time": "2023-08-14T17:23:27.146756Z",
     "start_time": "2023-08-14T17:23:27.057861Z"
    },
    "id": "NyHg814zTFDf",
    "outputId": "11706677-ef27-479d-c5a7-440ddb48b538",
    "papermill": {
     "duration": 0.058274,
     "end_time": "2023-08-14T16:24:22.819446",
     "exception": false,
     "start_time": "2023-08-14T16:24:22.761172",
     "status": "completed"
    },
    "tags": [],
    "execution": {
     "iopub.status.busy": "2023-09-11T10:19:51.164709Z",
     "iopub.execute_input": "2023-09-11T10:19:51.165380Z",
     "iopub.status.idle": "2023-09-11T10:19:51.197637Z",
     "shell.execute_reply.started": "2023-09-11T10:19:51.165350Z",
     "shell.execute_reply": "2023-09-11T10:19:51.196596Z"
    },
    "trusted": true
   },
   "execution_count": null,
   "outputs": []
  },
  {
   "cell_type": "code",
   "source": [
    "to_pil_image(train_dataset[60][0])"
   ],
   "metadata": {
    "ExecuteTime": {
     "end_time": "2023-08-14T17:23:27.271816Z",
     "start_time": "2023-08-14T17:23:27.095977Z"
    },
    "id": "_bZMqZjoTFDf",
    "outputId": "a43afe2b-a8cb-4aee-9500-d4637cd905ef",
    "papermill": {
     "duration": 0.141629,
     "end_time": "2023-08-14T16:24:22.989267",
     "exception": false,
     "start_time": "2023-08-14T16:24:22.847638",
     "status": "completed"
    },
    "tags": [],
    "execution": {
     "iopub.status.busy": "2023-09-11T10:19:51.207735Z",
     "iopub.execute_input": "2023-09-11T10:19:51.208373Z",
     "iopub.status.idle": "2023-09-11T10:19:51.315254Z",
     "shell.execute_reply.started": "2023-09-11T10:19:51.208336Z",
     "shell.execute_reply": "2023-09-11T10:19:51.314178Z"
    },
    "trusted": true
   },
   "execution_count": null,
   "outputs": []
  },
  {
   "cell_type": "code",
   "source": [
    "config.num_of_classes = len(train_dataset.classes_)\n",
    "config.num_of_classes"
   ],
   "metadata": {
    "ExecuteTime": {
     "end_time": "2023-08-14T17:24:03.063583Z",
     "start_time": "2023-08-14T17:24:02.995949Z"
    },
    "collapsed": false,
    "id": "UUS_aiISTFDf",
    "jupyter": {
     "outputs_hidden": false
    },
    "outputId": "832f5ec9-3895-4f71-bc96-6e626c74ab34",
    "papermill": {
     "duration": 0.042393,
     "end_time": "2023-08-14T16:24:23.061573",
     "exception": false,
     "start_time": "2023-08-14T16:24:23.019180",
     "status": "completed"
    },
    "tags": [],
    "execution": {
     "iopub.status.busy": "2023-09-11T10:19:51.326821Z",
     "iopub.execute_input": "2023-09-11T10:19:51.327171Z",
     "iopub.status.idle": "2023-09-11T10:19:51.339355Z",
     "shell.execute_reply.started": "2023-09-11T10:19:51.327139Z",
     "shell.execute_reply": "2023-09-11T10:19:51.337505Z"
    },
    "trusted": true
   },
   "execution_count": null,
   "outputs": []
  },
  {
   "cell_type": "markdown",
   "source": [
    "Below we ensure that the test dataset doesn't contain unknown data"
   ],
   "metadata": {
    "id": "1T2BVhnkTFDf",
    "papermill": {
     "duration": 0.029092,
     "end_time": "2023-08-14T16:24:23.120233",
     "exception": false,
     "start_time": "2023-08-14T16:24:23.091141",
     "status": "completed"
    },
    "tags": []
   }
  },
  {
   "cell_type": "code",
   "source": [
    "assert not bool(set(test_dataset.classes_) - set(train_dataset.classes_))"
   ],
   "metadata": {
    "ExecuteTime": {
     "end_time": "2023-08-14T17:24:03.362864Z",
     "start_time": "2023-08-14T17:24:03.308139Z"
    },
    "id": "52QN-ziNTFDg",
    "papermill": {
     "duration": 0.04048,
     "end_time": "2023-08-14T16:24:23.190226",
     "exception": false,
     "start_time": "2023-08-14T16:24:23.149746",
     "status": "completed"
    },
    "tags": [],
    "execution": {
     "iopub.status.busy": "2023-09-11T10:19:51.340785Z",
     "iopub.execute_input": "2023-09-11T10:19:51.342505Z",
     "iopub.status.idle": "2023-09-11T10:19:51.350840Z",
     "shell.execute_reply.started": "2023-09-11T10:19:51.342465Z",
     "shell.execute_reply": "2023-09-11T10:19:51.349839Z"
    },
    "trusted": true
   },
   "execution_count": null,
   "outputs": []
  },
  {
   "cell_type": "code",
   "source": [
    "print(*train_dataset.classes_[:20], sep=';  ', end='...')"
   ],
   "metadata": {
    "ExecuteTime": {
     "end_time": "2023-08-14T17:24:03.814742Z",
     "start_time": "2023-08-14T17:24:03.537760Z"
    },
    "id": "lYMINDi1TFDj",
    "outputId": "bdd6cc65-de03-495d-9883-53906ce9a165",
    "papermill": {
     "duration": 0.03962,
     "end_time": "2023-08-14T16:24:23.258792",
     "exception": false,
     "start_time": "2023-08-14T16:24:23.219172",
     "status": "completed"
    },
    "tags": [],
    "execution": {
     "iopub.status.busy": "2023-09-11T10:19:51.352768Z",
     "iopub.execute_input": "2023-09-11T10:19:51.353326Z",
     "iopub.status.idle": "2023-09-11T10:19:51.361693Z",
     "shell.execute_reply.started": "2023-09-11T10:19:51.353287Z",
     "shell.execute_reply": "2023-09-11T10:19:51.360526Z"
    },
    "trusted": true
   },
   "execution_count": null,
   "outputs": []
  },
  {
   "cell_type": "markdown",
   "source": [
    "# 3. Model"
   ],
   "metadata": {
    "id": "1nrMvID-TFDk",
    "papermill": {
     "duration": 0.029139,
     "end_time": "2023-08-14T16:24:23.317070",
     "exception": false,
     "start_time": "2023-08-14T16:24:23.287931",
     "status": "completed"
    },
    "tags": []
   }
  },
  {
   "cell_type": "markdown",
   "source": [
    "ArcFace loss function is used on the embeddings, not on the final predictions"
   ],
   "metadata": {
    "papermill": {
     "duration": 0.028679,
     "end_time": "2023-08-14T16:24:23.375023",
     "exception": false,
     "start_time": "2023-08-14T16:24:23.346344",
     "status": "completed"
    },
    "tags": []
   }
  },
  {
   "cell_type": "markdown",
   "source": [
    "## 1. Getting the pretrained model"
   ],
   "metadata": {
    "id": "CC_wCexMTFDk",
    "papermill": {
     "duration": 0.028535,
     "end_time": "2023-08-14T16:24:23.432671",
     "exception": false,
     "start_time": "2023-08-14T16:24:23.404136",
     "status": "completed"
    },
    "tags": []
   }
  },
  {
   "cell_type": "code",
   "source": [
    "def get_input_feature_size(classifier: nn.Sequential) -> int:\n",
    "    for module in classifier.modules():\n",
    "        if isinstance(module, nn.Linear):\n",
    "            return module.in_features"
   ],
   "metadata": {
    "ExecuteTime": {
     "end_time": "2023-08-14T17:24:04.219145Z",
     "start_time": "2023-08-14T17:24:04.096107Z"
    },
    "collapsed": false,
    "jupyter": {
     "outputs_hidden": false
    },
    "papermill": {
     "duration": 0.037894,
     "end_time": "2023-08-14T16:24:23.499805",
     "exception": false,
     "start_time": "2023-08-14T16:24:23.461911",
     "status": "completed"
    },
    "tags": [],
    "execution": {
     "iopub.status.busy": "2023-09-11T10:19:51.363575Z",
     "iopub.execute_input": "2023-09-11T10:19:51.364090Z",
     "iopub.status.idle": "2023-09-11T10:19:51.370151Z",
     "shell.execute_reply.started": "2023-09-11T10:19:51.364053Z",
     "shell.execute_reply": "2023-09-11T10:19:51.369146Z"
    },
    "trusted": true
   },
   "execution_count": null,
   "outputs": []
  },
  {
   "cell_type": "code",
   "source": [
    "def get_model(model_name='resnet18', from_path=None, pretrained=False, freeze_layers=0.0, dropout=0.1, get_embeddings=False, transform_classifier=False) -> torch.nn.Module:\n",
    "    if from_path:\n",
    "        try:\n",
    "            model = torch.load(from_path, map_location=torch.device(\"cuda\" if torch.cuda.is_available() else \"cpu\"))\n",
    "        except FileNotFoundError:\n",
    "            raise\n",
    "    elif model_name:\n",
    "        model = getattr(models, model_name) # We use builtin function\n",
    "        model = model(\n",
    "        weights=('DEFAULT' if pretrained else None)\n",
    "        )\n",
    "\n",
    "    if bool(freeze_layers):\n",
    "        params = list(model.parameters())\n",
    "        for param in params[:int(len(params)*freeze_layers)]:\n",
    "            # Freeze some layers\n",
    "            param.requires_grad = False\n",
    "\n",
    "    if get_embeddings:\n",
    "        # That means remove classifier (last layer):\n",
    "        model.classifier = nn.Sequential(\n",
    "            nn.Dropout(p=0.2, inplace=True),\n",
    "            nn.Linear(in_features=get_input_feature_size(model.fc),\n",
    "                      out_features=config.embedding_size, bias=False\n",
    "                      ),\n",
    "\n",
    "        )\n",
    "    elif transform_classifier:\n",
    "        try:\n",
    "            output_layer = model.classifier\n",
    "        except AttributeError:\n",
    "            output_layer = model.fc\n",
    "            \n",
    "        model.classifier = nn.Sequential(\n",
    "            nn.Linear(in_features=get_input_feature_size(output_layer), out_features=config.num_of_classes, bias=True),\n",
    "            nn.Dropout(p=dropout, inplace=True),\n",
    "#             nn.Softmax(dim=-1)\n",
    "         )\n",
    "    return model"
   ],
   "metadata": {
    "ExecuteTime": {
     "end_time": "2023-08-14T17:24:04.281142Z",
     "start_time": "2023-08-14T17:24:04.129656Z"
    },
    "id": "-NUikulCTFDk",
    "papermill": {
     "duration": 0.040624,
     "end_time": "2023-08-14T16:24:23.570110",
     "exception": false,
     "start_time": "2023-08-14T16:24:23.529486",
     "status": "completed"
    },
    "tags": [],
    "execution": {
     "iopub.status.busy": "2023-09-11T10:19:51.372005Z",
     "iopub.execute_input": "2023-09-11T10:19:51.372674Z",
     "iopub.status.idle": "2023-09-11T10:19:51.384935Z",
     "shell.execute_reply.started": "2023-09-11T10:19:51.372639Z",
     "shell.execute_reply": "2023-09-11T10:19:51.384133Z"
    },
    "trusted": true
   },
   "execution_count": null,
   "outputs": []
  },
  {
   "cell_type": "markdown",
   "source": [
    "We can fine-tune the model or train from scratch"
   ],
   "metadata": {
    "papermill": {
     "duration": 0.028882,
     "end_time": "2023-08-14T16:24:23.628032",
     "exception": false,
     "start_time": "2023-08-14T16:24:23.599150",
     "status": "completed"
    },
    "tags": []
   }
  },
  {
   "cell_type": "code",
   "source": [
    "# model = get_model(\n",
    "#     model_name=config.model_name,\n",
    "#     pretrained=True,\n",
    "#     freeze_layers=0.0,\n",
    "#     get_embeddings=True\n",
    "# )"
   ],
   "metadata": {
    "ExecuteTime": {
     "end_time": "2023-08-14T17:24:06.082908Z",
     "start_time": "2023-08-14T17:24:06.050183Z"
    },
    "id": "v-BpLsBTTFDk",
    "outputId": "9f1358ab-175a-482d-a430-85a36c85a9c0",
    "papermill": {
     "duration": 0.036963,
     "end_time": "2023-08-14T16:24:23.694005",
     "exception": false,
     "start_time": "2023-08-14T16:24:23.657042",
     "status": "completed"
    },
    "tags": [],
    "execution": {
     "iopub.status.busy": "2023-09-11T10:19:51.386488Z",
     "iopub.execute_input": "2023-09-11T10:19:51.387258Z",
     "iopub.status.idle": "2023-09-11T10:19:51.396436Z",
     "shell.execute_reply.started": "2023-09-11T10:19:51.387220Z",
     "shell.execute_reply": "2023-09-11T10:19:51.395636Z"
    },
    "trusted": true
   },
   "execution_count": null,
   "outputs": []
  },
  {
   "cell_type": "markdown",
   "source": [
    "Or fine-tine the model that we've trained before"
   ],
   "metadata": {
    "papermill": {
     "duration": 0.029028,
     "end_time": "2023-08-14T16:24:23.752781",
     "exception": false,
     "start_time": "2023-08-14T16:24:23.723753",
     "status": "completed"
    },
    "tags": []
   }
  },
  {
   "cell_type": "code",
   "source": [
    "model = get_model(\n",
    "    # We don't apply transformations when we use saved model\n",
    "    from_path=config.model_path,\n",
    "    pretrained=True,\n",
    "    dropout=0.2,\n",
    ")"
   ],
   "metadata": {
    "ExecuteTime": {
     "end_time": "2023-08-14T17:24:06.509753Z",
     "start_time": "2023-08-14T17:24:06.426952Z"
    },
    "papermill": {
     "duration": 5.600845,
     "end_time": "2023-08-14T16:24:29.382961",
     "exception": false,
     "start_time": "2023-08-14T16:24:23.782116",
     "status": "completed"
    },
    "tags": [],
    "execution": {
     "iopub.status.busy": "2023-09-11T10:19:51.397986Z",
     "iopub.execute_input": "2023-09-11T10:19:51.398664Z",
     "iopub.status.idle": "2023-09-11T10:19:57.409797Z",
     "shell.execute_reply.started": "2023-09-11T10:19:51.398630Z",
     "shell.execute_reply": "2023-09-11T10:19:57.408741Z"
    },
    "trusted": true
   },
   "execution_count": null,
   "outputs": []
  },
  {
   "cell_type": "markdown",
   "source": [
    "It is a model that doesn't have classifier - only one linear layer that transforms embeddings to desired size"
   ],
   "metadata": {
    "papermill": {
     "duration": 0.028908,
     "end_time": "2023-08-14T16:24:29.441920",
     "exception": false,
     "start_time": "2023-08-14T16:24:29.413012",
     "status": "completed"
    },
    "tags": []
   }
  },
  {
   "cell_type": "code",
   "source": [
    "model.classifier"
   ],
   "metadata": {
    "ExecuteTime": {
     "end_time": "2023-08-14T17:24:12.695212Z",
     "start_time": "2023-08-14T17:24:12.655659Z"
    },
    "id": "GsWQ0vJoTFDm",
    "outputId": "fe3553cc-d992-44f6-f031-4c1c49705080",
    "papermill": {
     "duration": 0.039105,
     "end_time": "2023-08-14T16:24:29.510375",
     "exception": false,
     "start_time": "2023-08-14T16:24:29.471270",
     "status": "completed"
    },
    "tags": [],
    "execution": {
     "iopub.status.busy": "2023-09-11T10:19:57.413419Z",
     "iopub.execute_input": "2023-09-11T10:19:57.413766Z",
     "iopub.status.idle": "2023-09-11T10:19:57.420521Z",
     "shell.execute_reply.started": "2023-09-11T10:19:57.413738Z",
     "shell.execute_reply": "2023-09-11T10:19:57.419534Z"
    },
    "trusted": true
   },
   "execution_count": null,
   "outputs": []
  },
  {
   "cell_type": "markdown",
   "source": [
    "**Number of model parametres:**"
   ],
   "metadata": {}
  },
  {
   "cell_type": "code",
   "source": [
    "print_highlighted(str(sum([np.prod(p.size()) for p in model.parameters()])))"
   ],
   "metadata": {
    "execution": {
     "iopub.status.busy": "2023-09-11T10:19:57.422163Z",
     "iopub.execute_input": "2023-09-11T10:19:57.422865Z",
     "iopub.status.idle": "2023-09-11T10:19:57.444152Z",
     "shell.execute_reply.started": "2023-09-11T10:19:57.422832Z",
     "shell.execute_reply": "2023-09-11T10:19:57.443233Z"
    },
    "trusted": true
   },
   "execution_count": null,
   "outputs": []
  },
  {
   "cell_type": "markdown",
   "source": [
    "# 4. Various"
   ],
   "metadata": {
    "id": "t6rYKZFqTFDn",
    "papermill": {
     "duration": 0.030093,
     "end_time": "2023-08-14T16:24:29.570642",
     "exception": false,
     "start_time": "2023-08-14T16:24:29.540549",
     "status": "completed"
    },
    "tags": []
   }
  },
  {
   "cell_type": "markdown",
   "source": [
    "## 1. Quality metrics"
   ],
   "metadata": {
    "id": "UhnkDGSqTFDn",
    "papermill": {
     "duration": 0.029828,
     "end_time": "2023-08-14T16:24:29.630054",
     "exception": false,
     "start_time": "2023-08-14T16:24:29.600226",
     "status": "completed"
    },
    "tags": []
   }
  },
  {
   "cell_type": "markdown",
   "source": [
    "We will use accuracy and F1 score for out classification task"
   ],
   "metadata": {
    "id": "VpjMrvnfWgHC",
    "papermill": {
     "duration": 0.029419,
     "end_time": "2023-08-14T16:24:29.689395",
     "exception": false,
     "start_time": "2023-08-14T16:24:29.659976",
     "status": "completed"
    },
    "tags": []
   }
  },
  {
   "cell_type": "code",
   "source": [
    "f1_score = MulticlassF1Score(num_classes=config.num_of_classes, average=\"micro\")"
   ],
   "metadata": {
    "ExecuteTime": {
     "end_time": "2023-08-14T17:24:14.257455Z",
     "start_time": "2023-08-14T17:24:14.222546Z"
    },
    "id": "c_2AwnsfTFDn",
    "papermill": {
     "duration": 0.043366,
     "end_time": "2023-08-14T16:24:29.762611",
     "exception": false,
     "start_time": "2023-08-14T16:24:29.719245",
     "status": "completed"
    },
    "tags": [],
    "execution": {
     "iopub.status.busy": "2023-09-11T10:19:57.445481Z",
     "iopub.execute_input": "2023-09-11T10:19:57.445831Z",
     "iopub.status.idle": "2023-09-11T10:19:57.459784Z",
     "shell.execute_reply.started": "2023-09-11T10:19:57.445802Z",
     "shell.execute_reply": "2023-09-11T10:19:57.458877Z"
    },
    "trusted": true
   },
   "execution_count": null,
   "outputs": []
  },
  {
   "cell_type": "markdown",
   "source": [
    "## 2. Device"
   ],
   "metadata": {
    "id": "WqgSgG2_TFDn",
    "papermill": {
     "duration": 0.029561,
     "end_time": "2023-08-14T16:24:29.821752",
     "exception": false,
     "start_time": "2023-08-14T16:24:29.792191",
     "status": "completed"
    },
    "tags": []
   }
  },
  {
   "cell_type": "code",
   "source": [
    "device = torch.device(\"cuda\" if torch.cuda.is_available() else \"cpu\")\n",
    "model = model.to(device)\n",
    "f1_score = f1_score.to(device)\n",
    "torch.cuda.empty_cache()"
   ],
   "metadata": {
    "ExecuteTime": {
     "end_time": "2023-08-12T09:39:36.287885Z",
     "start_time": "2023-08-12T09:39:36.135928Z"
    },
    "id": "F7zEDfFvTFDo",
    "papermill": {
     "duration": 0.04363,
     "end_time": "2023-08-14T16:24:29.894974",
     "exception": false,
     "start_time": "2023-08-14T16:24:29.851344",
     "status": "completed"
    },
    "tags": [],
    "execution": {
     "iopub.status.busy": "2023-09-11T10:19:57.462304Z",
     "iopub.execute_input": "2023-09-11T10:19:57.463027Z",
     "iopub.status.idle": "2023-09-11T10:19:57.476442Z",
     "shell.execute_reply.started": "2023-09-11T10:19:57.462994Z",
     "shell.execute_reply": "2023-09-11T10:19:57.475499Z"
    },
    "trusted": true
   },
   "execution_count": null,
   "outputs": []
  },
  {
   "cell_type": "markdown",
   "source": [
    "## 3. Data processing format"
   ],
   "metadata": {
    "id": "E7mbVBoGTFDo",
    "papermill": {
     "duration": 0.029342,
     "end_time": "2023-08-14T16:24:29.953491",
     "exception": false,
     "start_time": "2023-08-14T16:24:29.924149",
     "status": "completed"
    },
    "tags": []
   }
  },
  {
   "cell_type": "code",
   "source": [
    "config.train_batch_size, config.val_batch_size = 96, 256"
   ],
   "metadata": {
    "ExecuteTime": {
     "end_time": "2023-08-14T17:24:25.785305Z",
     "start_time": "2023-08-14T17:24:25.745896Z"
    },
    "id": "7xJPcyHwTFDo",
    "papermill": {
     "duration": 0.042453,
     "end_time": "2023-08-14T16:24:30.025418",
     "exception": false,
     "start_time": "2023-08-14T16:24:29.982965",
     "status": "completed"
    },
    "tags": [],
    "execution": {
     "iopub.status.busy": "2023-09-11T10:19:57.478021Z",
     "iopub.execute_input": "2023-09-11T10:19:57.478381Z",
     "iopub.status.idle": "2023-09-11T10:19:57.483213Z",
     "shell.execute_reply.started": "2023-09-11T10:19:57.478349Z",
     "shell.execute_reply": "2023-09-11T10:19:57.482222Z"
    },
    "trusted": true
   },
   "execution_count": null,
   "outputs": []
  },
  {
   "cell_type": "code",
   "source": [
    "train_dataloader = DataLoader(train_dataset,\n",
    "                              batch_size=config.train_batch_size,\n",
    "                              shuffle=True,\n",
    "                              num_workers=os.cpu_count() % 4,\n",
    ")"
   ],
   "metadata": {
    "ExecuteTime": {
     "end_time": "2023-08-14T17:24:26.180270Z",
     "start_time": "2023-08-14T17:24:26.147993Z"
    },
    "id": "IqrseI2gTFDo",
    "papermill": {
     "duration": 0.03949,
     "end_time": "2023-08-14T16:24:30.094630",
     "exception": false,
     "start_time": "2023-08-14T16:24:30.055140",
     "status": "completed"
    },
    "tags": [],
    "execution": {
     "iopub.status.busy": "2023-09-11T10:19:57.484719Z",
     "iopub.execute_input": "2023-09-11T10:19:57.485364Z",
     "iopub.status.idle": "2023-09-11T10:19:57.493717Z",
     "shell.execute_reply.started": "2023-09-11T10:19:57.485332Z",
     "shell.execute_reply": "2023-09-11T10:19:57.492723Z"
    },
    "trusted": true
   },
   "execution_count": null,
   "outputs": []
  },
  {
   "cell_type": "code",
   "source": [
    "test_dataloader = DataLoader(test_dataset,\n",
    "                              batch_size=config.val_batch_size,\n",
    "                              shuffle=False,\n",
    "                              num_workers=os.cpu_count() % 4,\n",
    ")"
   ],
   "metadata": {
    "ExecuteTime": {
     "end_time": "2023-08-14T17:24:26.456677Z",
     "start_time": "2023-08-14T17:24:26.378091Z"
    },
    "id": "GeiY7hELTFDo",
    "papermill": {
     "duration": 0.038515,
     "end_time": "2023-08-14T16:24:30.163019",
     "exception": false,
     "start_time": "2023-08-14T16:24:30.124504",
     "status": "completed"
    },
    "tags": [],
    "execution": {
     "iopub.status.busy": "2023-09-11T10:19:57.495338Z",
     "iopub.execute_input": "2023-09-11T10:19:57.495723Z",
     "iopub.status.idle": "2023-09-11T10:19:57.503738Z",
     "shell.execute_reply.started": "2023-09-11T10:19:57.495683Z",
     "shell.execute_reply": "2023-09-11T10:19:57.502799Z"
    },
    "trusted": true
   },
   "execution_count": null,
   "outputs": []
  },
  {
   "cell_type": "markdown",
   "source": [
    "# 5. Initialize the train process"
   ],
   "metadata": {
    "id": "qCM07xVnTFDp",
    "papermill": {
     "duration": 0.029095,
     "end_time": "2023-08-14T16:24:30.635296",
     "exception": false,
     "start_time": "2023-08-14T16:24:30.606201",
     "status": "completed"
    },
    "tags": []
   }
  },
  {
   "cell_type": "markdown",
   "source": [
    "## 1. Functions to plot the result"
   ],
   "metadata": {
    "id": "afGGK718TFDp",
    "papermill": {
     "duration": 0.029317,
     "end_time": "2023-08-14T16:24:30.693896",
     "exception": false,
     "start_time": "2023-08-14T16:24:30.664579",
     "status": "completed"
    },
    "tags": []
   }
  },
  {
   "cell_type": "code",
   "source": [
    "def plot_two_curves(\n",
    "        title: str,\n",
    "        train_curve: list[float],\n",
    "        val_curve: list[float],\n",
    "\n",
    "):\n",
    "    plt.figure(figsize=(16, 8))\n",
    "    plt.title(title)\n",
    "    plt.plot(train_curve, label=f'Train {title}')\n",
    "    plt.plot(val_curve, label=f'Valid {title}')\n",
    "    plt.legend()\n",
    "    plt.grid()\n",
    "    plt.show()\n",
    "    #plt.savefig(title)"
   ],
   "metadata": {
    "ExecuteTime": {
     "end_time": "2023-08-12T09:39:36.314617Z",
     "start_time": "2023-08-12T09:39:36.184839Z"
    },
    "id": "QVJL1liGTFDp",
    "papermill": {
     "duration": 0.039318,
     "end_time": "2023-08-14T16:24:30.762320",
     "exception": false,
     "start_time": "2023-08-14T16:24:30.723002",
     "status": "completed"
    },
    "tags": [],
    "execution": {
     "iopub.status.busy": "2023-09-11T10:19:57.505330Z",
     "iopub.execute_input": "2023-09-11T10:19:57.505663Z",
     "iopub.status.idle": "2023-09-11T10:19:57.514630Z",
     "shell.execute_reply.started": "2023-09-11T10:19:57.505632Z",
     "shell.execute_reply": "2023-09-11T10:19:57.513615Z"
    },
    "trusted": true
   },
   "execution_count": null,
   "outputs": []
  },
  {
   "cell_type": "code",
   "source": [
    "def plot_stats(\n",
    "        train_loss: list[float],\n",
    "        valid_loss: list[float],\n",
    "        train_accuracy: list[float]=None,\n",
    "        valid_accuracy: list[float]=None,\n",
    "        train_f1_score: list[float]=None,\n",
    "        valid_f1_score: list[float]=None,\n",
    "        title: str = None\n",
    "):\n",
    "    plot_two_curves(\n",
    "        'Loss',\n",
    "        train_loss,\n",
    "        valid_loss\n",
    "    )\n",
    "\n",
    "    if train_accuracy and valid_accuracy:\n",
    "        plot_two_curves(\n",
    "            'accuracy',\n",
    "            train_accuracy,\n",
    "            valid_accuracy\n",
    "        )\n",
    "\n",
    "    if train_f1_score and valid_f1_score:\n",
    "        plot_two_curves(\n",
    "            'F1 score',\n",
    "            train_f1_score,\n",
    "            valid_f1_score\n",
    "        )\n"
   ],
   "metadata": {
    "ExecuteTime": {
     "end_time": "2023-08-12T09:41:59.670849Z",
     "start_time": "2023-08-12T09:41:59.575896Z"
    },
    "id": "GQrWiRJbTFDp",
    "papermill": {
     "duration": 0.040323,
     "end_time": "2023-08-14T16:24:30.832595",
     "exception": false,
     "start_time": "2023-08-14T16:24:30.792272",
     "status": "completed"
    },
    "tags": [],
    "execution": {
     "iopub.status.busy": "2023-09-11T10:19:57.517313Z",
     "iopub.execute_input": "2023-09-11T10:19:57.517946Z",
     "iopub.status.idle": "2023-09-11T10:19:57.526458Z",
     "shell.execute_reply.started": "2023-09-11T10:19:57.517919Z",
     "shell.execute_reply": "2023-09-11T10:19:57.525452Z"
    },
    "trusted": true
   },
   "execution_count": null,
   "outputs": []
  },
  {
   "cell_type": "markdown",
   "source": [
    "## 2. Training and evaluation functions"
   ],
   "metadata": {
    "id": "ePLlKs4rTFDq",
    "papermill": {
     "duration": 0.02992,
     "end_time": "2023-08-14T16:24:30.892994",
     "exception": false,
     "start_time": "2023-08-14T16:24:30.863074",
     "status": "completed"
    },
    "tags": []
   }
  },
  {
   "cell_type": "code",
   "source": [
    "def train_one_epoch(model, dataloader, optimizer, criterion, device, epoch: str, margin=None):\n",
    "    model.train()\n",
    "\n",
    "    train_loss = 0.0\n",
    "    train_correct = 0.0\n",
    "    train_f1 = 0.0\n",
    "    n_batches = 0\n",
    "    data_size = 0\n",
    "\n",
    "    with tqdm(dataloader, desc=f'Epoch: {epoch}', unit=\"batch\") as tepoch:\n",
    "        for images, labels in tepoch:\n",
    "            n_batches += 1\n",
    "            images = images.to(device)\n",
    "            labels = labels.to(device)\n",
    "\n",
    "            optimizer.zero_grad()\n",
    "\n",
    "            embeddings = model.features(images)\n",
    "            embeddings = torch.squeeze(model.avgpool(embeddings), dim=(2, 3))  # From (B, 1408, 1, 1) -> (B, 1408)\n",
    "            embeddings = F.normalize(embeddings, dim=1)\n",
    "            \n",
    "            weights = model.classifier[0].weight\n",
    "            weights = F.normalize(weights, dim=1)\n",
    "            \n",
    "#             # Compute the cosine similarity between embeddings and weights\n",
    "            cosine = F.linear(embeddings, weights)\n",
    "            del embeddings\n",
    "            del weights\n",
    "        \n",
    "            logits = margin(cosine, labels)\n",
    "            del cosine\n",
    "            \n",
    "#             logits = model(images)\n",
    "\n",
    "            loss = criterion(logits, labels)\n",
    "            \n",
    "            \n",
    "#             del weights\n",
    "            \n",
    "#             loss = F.cross_entropy(probabilities, labels)\n",
    "            loss.backward()\n",
    "\n",
    "            optimizer.step()\n",
    "            \n",
    "            gc.collect()\n",
    "\n",
    "            loss = loss.item()  # item() extracts scalar\n",
    "            train_loss += loss\n",
    "\n",
    "            _, predicted = torch.max(logits, 1)\n",
    "            del logits\n",
    "\n",
    "            train_correct += (predicted == labels).sum().item()\n",
    "            data_size += labels.size(0)\n",
    "            train_accuracy = train_correct / data_size\n",
    "\n",
    "            f1 = f1_score(predicted, labels).item()\n",
    "            train_f1 += f1\n",
    "            tepoch.set_postfix(loss=loss, acc=train_accuracy)\n",
    "\n",
    "    train_loss /= n_batches\n",
    "    train_f1 /= n_batches\n",
    "    gc.collect()\n",
    "    torch.cuda.empty_cache()\n",
    "\n",
    "    return train_loss, train_accuracy, train_f1"
   ],
   "metadata": {
    "ExecuteTime": {
     "end_time": "2023-08-12T09:45:16.668278Z",
     "start_time": "2023-08-12T09:45:16.573930Z"
    },
    "id": "QObsYKNJTFDq",
    "papermill": {
     "duration": 0.043445,
     "end_time": "2023-08-14T16:24:30.965904",
     "exception": false,
     "start_time": "2023-08-14T16:24:30.922459",
     "status": "completed"
    },
    "tags": [],
    "execution": {
     "iopub.status.busy": "2023-09-11T10:19:57.528142Z",
     "iopub.execute_input": "2023-09-11T10:19:57.528538Z",
     "iopub.status.idle": "2023-09-11T10:19:57.542368Z",
     "shell.execute_reply.started": "2023-09-11T10:19:57.528506Z",
     "shell.execute_reply": "2023-09-11T10:19:57.541351Z"
    },
    "trusted": true
   },
   "execution_count": null,
   "outputs": []
  },
  {
   "cell_type": "code",
   "source": [
    "@torch.inference_mode()\n",
    "def validate_one_epoch(model, dataloader, criterion, device):\n",
    "    model.eval()\n",
    "\n",
    "    val_loss = 0.0\n",
    "    val_correct = 0.0\n",
    "    val_f1_score = 0.0\n",
    "    data_size = 0\n",
    "    n_batches = 0\n",
    "\n",
    "    with tqdm(dataloader, desc=\"Validation\",unit=\"batch\") as tepoch:\n",
    "        for images, labels in tepoch:\n",
    "            n_batches += 1\n",
    "            images = images.to(device)\n",
    "            labels = labels.to(device)\n",
    "            \n",
    "            \n",
    "#             embeddings = model(images)\n",
    "#             probabilities = criterion(embeddings, labels)\n",
    "#             probabilities = criterion.predict(embeddings)\n",
    "#             loss = F.cross_entropy(probabilities, labels).item()\n",
    "\n",
    "            output = model(images)\n",
    "\n",
    "            loss = criterion(output, labels).item()\n",
    "    \n",
    "            \n",
    "            val_loss += loss\n",
    "\n",
    "            _, predicted = torch.max(output, 1)\n",
    "\n",
    "            correct = (predicted == labels).sum().item()\n",
    "            val_correct += correct\n",
    "            data_size += labels.size(0)\n",
    "            val_accuracy = val_correct / data_size\n",
    "\n",
    "            f1 = f1_score(predicted, labels).item()\n",
    "            val_f1_score += f1\n",
    "            tepoch.set_postfix(loss=loss, acc=val_accuracy)\n",
    "\n",
    "    val_loss /= n_batches\n",
    "    val_f1_score /= n_batches\n",
    "    gc.collect()\n",
    "    torch.cuda.empty_cache()\n",
    "\n",
    "    return val_loss, val_accuracy, val_f1_score"
   ],
   "metadata": {
    "ExecuteTime": {
     "end_time": "2023-08-14T18:32:38.383222Z",
     "start_time": "2023-08-14T18:32:38.320822Z"
    },
    "id": "shn8rP6wTFDq",
    "papermill": {
     "duration": 0.043991,
     "end_time": "2023-08-14T16:24:31.039525",
     "exception": false,
     "start_time": "2023-08-14T16:24:30.995534",
     "status": "completed"
    },
    "tags": [],
    "execution": {
     "iopub.status.busy": "2023-09-11T10:19:57.543915Z",
     "iopub.execute_input": "2023-09-11T10:19:57.544496Z",
     "iopub.status.idle": "2023-09-11T10:19:57.556167Z",
     "shell.execute_reply.started": "2023-09-11T10:19:57.544462Z",
     "shell.execute_reply": "2023-09-11T10:19:57.555414Z"
    },
    "trusted": true
   },
   "execution_count": null,
   "outputs": []
  },
  {
   "cell_type": "markdown",
   "source": [
    "## 3. Training cycle"
   ],
   "metadata": {
    "id": "1TWCVEGYTFDq",
    "papermill": {
     "duration": 0.029674,
     "end_time": "2023-08-14T16:24:31.098333",
     "exception": false,
     "start_time": "2023-08-14T16:24:31.068659",
     "status": "completed"
    },
    "tags": []
   }
  },
  {
   "cell_type": "code",
   "source": [
    "def train_model(model, train_loader, val_loader,\n",
    "                criterion=None, optimizer=None, \n",
    "                margin=lambda x, y: x, \n",
    "                num_epochs=5, scheduler=None, \n",
    "                device=torch.device(\"cpu\"),\n",
    "                save_model_to=None, save_margin_parameters_to=None\n",
    "       ) -> nn.Module:\n",
    "    since = time.time()\n",
    "\n",
    "    train_loss_history, valid_loss_history = [], []\n",
    "    train_acc_history, valid_acc_history = [], []\n",
    "    train_f1_history, valid_f1_history = [], []\n",
    "\n",
    "\n",
    "    # Create a temporary directory to save training checkpoints\n",
    "    with TemporaryDirectory() as tempdir:\n",
    "        best_model_params_path = os.path.join(tempdir, 'best_model_params.pt')\n",
    "\n",
    "        for epoch in range(num_epochs):\n",
    "            train_loss, train_accuracy, train_f1 = train_one_epoch(model, train_loader, optimizer, criterion, device, epoch=f'{epoch+1}/{num_epochs}', margin=margin)\n",
    "            val_loss, val_accuracy, val_f1 = validate_one_epoch(model, val_loader, criterion, device,)\n",
    "\n",
    "\n",
    "            print_highlighted(\n",
    "                f\"Loss: {val_loss:.4f} - Accuracy: {val_accuracy:.4f} - F1: {val_f1:.4f} - LR: {get_lr(optimizer)}\"\n",
    "            )\n",
    "\n",
    "            if not valid_loss_history or val_loss < valid_loss_history[-1]:\n",
    "                # If it's either first step (history is empty) or our weights are getting better\n",
    "                print_highlighted(\"New weights were applied.\\n\", bgcolor=Back.CYAN)\n",
    "                torch.save(model.state_dict(), best_model_params_path)\n",
    "\n",
    "            scheduler.step(val_loss)\n",
    "\n",
    "            train_loss_history.append(train_loss)\n",
    "            valid_loss_history.append(val_loss)\n",
    "            train_acc_history.append(train_accuracy)\n",
    "            valid_acc_history.append(val_accuracy)\n",
    "            train_f1_history.append(train_f1)\n",
    "            valid_f1_history.append(val_f1)\n",
    "\n",
    "            del train_loss\n",
    "            del val_loss\n",
    "            gc.collect()\n",
    "            torch.cuda.empty_cache()\n",
    "\n",
    "        time_elapsed = time.time() - since\n",
    "        print_highlighted(f'Training complete in {time_elapsed // 60:.0f}m {time_elapsed % 60:.0f}s')\n",
    "\n",
    "        # load best model weights\n",
    "        model.load_state_dict(torch.load(best_model_params_path))\n",
    "\n",
    "        if save_model_to:\n",
    "            torch.save(model, save_model_to)\n",
    "            print(f\"Model was saved to: {save_model_to}\")\n",
    "        if save_margin_parameters_to:\n",
    "            torch.save(criterion.state_dict(), save_margin_parameters_to)\n",
    "            print(f\"Loss Function weights were saved to: {save_margin_parameters_to}\")\n",
    "\n",
    "\n",
    "        history = dict(\n",
    "            train_loss=train_loss_history,\n",
    "            valid_loss=valid_loss_history,\n",
    "            train_accuracy=train_acc_history,\n",
    "            valid_accuracy=valid_acc_history,\n",
    "            train_f1_score=train_f1_history,\n",
    "            valid_f1_score=valid_f1_history,\n",
    "        )\n",
    "    return model, history"
   ],
   "metadata": {
    "ExecuteTime": {
     "end_time": "2023-08-12T09:45:17.791357Z",
     "start_time": "2023-08-12T09:45:17.738181Z"
    },
    "id": "CXrp7xrOTFDu",
    "papermill": {
     "duration": 0.045968,
     "end_time": "2023-08-14T16:24:31.173717",
     "exception": false,
     "start_time": "2023-08-14T16:24:31.127749",
     "status": "completed"
    },
    "tags": [],
    "execution": {
     "iopub.status.busy": "2023-09-11T10:19:57.557698Z",
     "iopub.execute_input": "2023-09-11T10:19:57.558350Z",
     "iopub.status.idle": "2023-09-11T10:19:57.572909Z",
     "shell.execute_reply.started": "2023-09-11T10:19:57.558316Z",
     "shell.execute_reply": "2023-09-11T10:19:57.571938Z"
    },
    "trusted": true
   },
   "execution_count": null,
   "outputs": []
  },
  {
   "cell_type": "markdown",
   "source": [
    "# 6. Hyperparametres"
   ],
   "metadata": {
    "id": "GV7CqxbwTFDu",
    "papermill": {
     "duration": 0.029247,
     "end_time": "2023-08-14T16:24:31.232543",
     "exception": false,
     "start_time": "2023-08-14T16:24:31.203296",
     "status": "completed"
    },
    "tags": []
   }
  },
  {
   "cell_type": "markdown",
   "source": [
    "## 1. ArcFace Loss"
   ],
   "metadata": {
    "papermill": {
     "duration": 0.028937,
     "end_time": "2023-08-14T16:24:31.290592",
     "exception": false,
     "start_time": "2023-08-14T16:24:31.261655",
     "status": "completed"
    },
    "tags": []
   }
  },
  {
   "cell_type": "markdown",
   "source": [
    "Custom Loss Function"
   ],
   "metadata": {
    "id": "zuQ9db32TFDv",
    "papermill": {
     "duration": 0.029596,
     "end_time": "2023-08-14T16:24:31.349314",
     "exception": false,
     "start_time": "2023-08-14T16:24:31.319718",
     "status": "completed"
    },
    "tags": []
   }
  },
  {
   "cell_type": "markdown",
   "source": [
    "$$L = - \\frac{1}{N} \\sum_{i=1}^{N}\\; \\log \\frac{e^{s(\\cos(\\theta_{y_i} +m))}}\n",
    "{e^{s\\cos(\\theta_{y_i} +m)} + \\sum_{j=1, j\\neq {y_i}}^{n} e^{s\\cos(\\theta_{j})}}$$"
   ],
   "metadata": {
    "papermill": {
     "duration": 0.028959,
     "end_time": "2023-08-14T16:24:31.407204",
     "exception": false,
     "start_time": "2023-08-14T16:24:31.378245",
     "status": "completed"
    },
    "tags": []
   }
  },
  {
   "cell_type": "code",
   "source": [
    "class ArcFaceMargin(nn.Module):\n",
    "    def __init__(self, num_classes, margin=0.5, scale=64, pretrain_without_margin=False):\n",
    "        super().__init__()\n",
    "        self.num_classes = num_classes\n",
    "        self.margin = margin\n",
    "        self.scale = scale\n",
    "        print_highlighted(f\"ArcFace margin. Params: s={scale}; m={margin}.\")\n",
    "        \n",
    "    \n",
    "    def forward(self, cosine: torch.Tensor, labels: torch.Tensor):\n",
    "        \"\"\"\n",
    "        Forward function takes backbone logits (last layer before the softmax), and applies margin to them\n",
    "        \"\"\"\n",
    "        labels = labels.to(torch.long)\n",
    "\n",
    "        # Calculate the theta (angle) values for each class\n",
    "        theta = torch.acos(torch.clip(cosine, -1 + 1e-7, 1 - 1e-7))\n",
    "\n",
    "        # Apply the ArcFace margin and calculate logits\n",
    "        \n",
    "        one_hot_labels = F.one_hot(labels, self.num_classes)\n",
    "        \n",
    "        # Easy margin\n",
    "        target_logits = torch.cos(theta + self.margin * (1 - one_hot_labels.float()))\n",
    "\n",
    "        logits = torch.where(one_hot_labels.bool(), target_logits, cosine)\n",
    "        \n",
    "        logits = self.scale * logits\n",
    "        \n",
    "        return logits\n"
   ],
   "metadata": {
    "execution": {
     "iopub.status.busy": "2023-09-11T10:19:57.574559Z",
     "iopub.execute_input": "2023-09-11T10:19:57.574890Z",
     "iopub.status.idle": "2023-09-11T10:19:57.589544Z",
     "shell.execute_reply.started": "2023-09-11T10:19:57.574859Z",
     "shell.execute_reply": "2023-09-11T10:19:57.588371Z"
    },
    "trusted": true
   },
   "execution_count": null,
   "outputs": []
  },
  {
   "cell_type": "code",
   "source": [
    "s = 2 ** 0.5 * np.log(config.num_of_classes - 1)"
   ],
   "metadata": {
    "execution": {
     "iopub.status.busy": "2023-09-11T10:19:57.592817Z",
     "iopub.execute_input": "2023-09-11T10:19:57.593138Z",
     "iopub.status.idle": "2023-09-11T10:19:57.601017Z",
     "shell.execute_reply.started": "2023-09-11T10:19:57.593112Z",
     "shell.execute_reply": "2023-09-11T10:19:57.599991Z"
    },
    "trusted": true
   },
   "execution_count": null,
   "outputs": []
  },
  {
   "cell_type": "code",
   "source": [
    "criterion = nn.CrossEntropyLoss()\n",
    "\n",
    "arcface_margin = ArcFaceMargin(num_classes=config.num_of_classes, margin=0.5 * (s / 64)**2, scale=s)"
   ],
   "metadata": {
    "ExecuteTime": {
     "end_time": "2023-08-14T18:38:22.324056Z",
     "start_time": "2023-08-14T18:38:22.291923Z"
    },
    "collapsed": false,
    "id": "PQ1_CTZaTFDw",
    "jupyter": {
     "outputs_hidden": false
    },
    "papermill": {
     "duration": 0.098721,
     "end_time": "2023-08-14T16:24:31.751248",
     "exception": false,
     "start_time": "2023-08-14T16:24:31.652527",
     "status": "completed"
    },
    "tags": [],
    "execution": {
     "iopub.status.busy": "2023-09-11T10:19:57.602510Z",
     "iopub.execute_input": "2023-09-11T10:19:57.602939Z",
     "iopub.status.idle": "2023-09-11T10:19:57.614269Z",
     "shell.execute_reply.started": "2023-09-11T10:19:57.602905Z",
     "shell.execute_reply": "2023-09-11T10:19:57.613199Z"
    },
    "trusted": true
   },
   "execution_count": null,
   "outputs": []
  },
  {
   "cell_type": "code",
   "source": [
    "config.learning_rate = 1e-4\n",
    "config.epochs = 20\n",
    "config.weight_decay = 1e-7\n",
    "config.min_loss_delta = 0.01"
   ],
   "metadata": {
    "ExecuteTime": {
     "end_time": "2023-08-14T18:37:40.800859Z",
     "start_time": "2023-08-14T18:37:40.612815Z"
    },
    "id": "HZAr_gPLTFDv",
    "papermill": {
     "duration": 0.04191,
     "end_time": "2023-08-14T16:24:31.822575",
     "exception": false,
     "start_time": "2023-08-14T16:24:31.780665",
     "status": "completed"
    },
    "tags": [],
    "execution": {
     "iopub.status.busy": "2023-09-11T10:19:57.615787Z",
     "iopub.execute_input": "2023-09-11T10:19:57.616171Z",
     "iopub.status.idle": "2023-09-11T10:19:57.629031Z",
     "shell.execute_reply.started": "2023-09-11T10:19:57.616140Z",
     "shell.execute_reply": "2023-09-11T10:19:57.628025Z"
    },
    "trusted": true
   },
   "execution_count": null,
   "outputs": []
  },
  {
   "cell_type": "code",
   "source": [
    "optimizer = torch.optim.Adam(\n",
    "    [\n",
    "    {'params': filter(lambda p: p.requires_grad, model.features.parameters())},\n",
    "    {'params': model.classifier.parameters(), 'lr': 0.01},\n",
    "    ],\n",
    "    lr=config.learning_rate, \n",
    "    weight_decay = config.weight_decay)\n"
   ],
   "metadata": {
    "ExecuteTime": {
     "end_time": "2023-08-12T09:45:19.841589Z",
     "start_time": "2023-08-12T09:45:19.721449Z"
    },
    "papermill": {
     "duration": 0.049928,
     "end_time": "2023-08-14T16:24:31.971382",
     "exception": false,
     "start_time": "2023-08-14T16:24:31.921454",
     "status": "completed"
    },
    "tags": [],
    "execution": {
     "iopub.status.busy": "2023-09-11T10:19:57.630781Z",
     "iopub.execute_input": "2023-09-11T10:19:57.631166Z",
     "iopub.status.idle": "2023-09-11T10:19:57.643635Z",
     "shell.execute_reply.started": "2023-09-11T10:19:57.631133Z",
     "shell.execute_reply": "2023-09-11T10:19:57.642611Z"
    },
    "trusted": true
   },
   "execution_count": null,
   "outputs": []
  },
  {
   "cell_type": "code",
   "source": [
    "# scheduler = optim.lr_scheduler.StepLR(optimizer, step_size=2, gamma=0.5, verbose=False)\n",
    "\n",
    "scheduler = optim.lr_scheduler.ReduceLROnPlateau(\n",
    "    optimizer, 'min', patience = 5, factor=0.5, \n",
    "    min_lr=config.min_lr , verbose=False,\n",
    "    threshold = config.min_loss_delta\n",
    ")"
   ],
   "metadata": {
    "ExecuteTime": {
     "end_time": "2023-08-12T09:45:20.026072Z",
     "start_time": "2023-08-12T09:45:19.913380Z"
    },
    "collapsed": false,
    "id": "mb4RgCFlTFDw",
    "jupyter": {
     "outputs_hidden": false
    },
    "papermill": {
     "duration": 0.048032,
     "end_time": "2023-08-14T16:24:32.072376",
     "exception": false,
     "start_time": "2023-08-14T16:24:32.024344",
     "status": "completed"
    },
    "tags": [],
    "execution": {
     "iopub.status.busy": "2023-09-11T10:19:57.645025Z",
     "iopub.execute_input": "2023-09-11T10:19:57.645981Z",
     "iopub.status.idle": "2023-09-11T10:19:57.654076Z",
     "shell.execute_reply.started": "2023-09-11T10:19:57.645949Z",
     "shell.execute_reply": "2023-09-11T10:19:57.653057Z"
    },
    "trusted": true
   },
   "execution_count": null,
   "outputs": []
  },
  {
   "cell_type": "code",
   "source": [
    "def get_lr(optimizer):\n",
    "    \"\"\"\n",
    "    For some schedulers we don't have `get_last_lr()` method.\n",
    "    So, we will get last lr ourselves.\n",
    "    \"\"\"\n",
    "    return list(\n",
    "        [group['lr'] for group in optimizer.param_groups]\n",
    "    )"
   ],
   "metadata": {
    "ExecuteTime": {
     "end_time": "2023-08-12T09:45:20.325987Z",
     "start_time": "2023-08-12T09:45:20.120019Z"
    },
    "papermill": {
     "duration": 0.038065,
     "end_time": "2023-08-14T16:24:32.140787",
     "exception": false,
     "start_time": "2023-08-14T16:24:32.102722",
     "status": "completed"
    },
    "tags": [],
    "execution": {
     "iopub.status.busy": "2023-09-11T10:19:57.655476Z",
     "iopub.execute_input": "2023-09-11T10:19:57.655949Z",
     "iopub.status.idle": "2023-09-11T10:19:57.664819Z",
     "shell.execute_reply.started": "2023-09-11T10:19:57.655915Z",
     "shell.execute_reply": "2023-09-11T10:19:57.663802Z"
    },
    "trusted": true
   },
   "execution_count": null,
   "outputs": []
  },
  {
   "cell_type": "code",
   "source": [
    "get_lr(optimizer)"
   ],
   "metadata": {
    "ExecuteTime": {
     "end_time": "2023-08-12T09:45:20.557725Z",
     "start_time": "2023-08-12T09:45:20.226714Z"
    },
    "papermill": {
     "duration": 0.038597,
     "end_time": "2023-08-14T16:24:32.208517",
     "exception": false,
     "start_time": "2023-08-14T16:24:32.169920",
     "status": "completed"
    },
    "tags": [],
    "execution": {
     "iopub.status.busy": "2023-09-11T10:19:57.666233Z",
     "iopub.execute_input": "2023-09-11T10:19:57.666979Z",
     "iopub.status.idle": "2023-09-11T10:19:57.677200Z",
     "shell.execute_reply.started": "2023-09-11T10:19:57.666875Z",
     "shell.execute_reply": "2023-09-11T10:19:57.676169Z"
    },
    "trusted": true
   },
   "execution_count": null,
   "outputs": []
  },
  {
   "cell_type": "markdown",
   "source": [
    "# 7. Run the training process"
   ],
   "metadata": {
    "id": "CKuqXRwrTFDw",
    "papermill": {
     "duration": 0.029368,
     "end_time": "2023-08-14T16:24:32.266966",
     "exception": false,
     "start_time": "2023-08-14T16:24:32.237598",
     "status": "completed"
    },
    "tags": []
   }
  },
  {
   "cell_type": "code",
   "source": [
    "model_file_name = f'ArcFace_{config.model_name}.pth'\n",
    "# arcface_parameters = 'Trained_ArcLoss_parameters.pth'\n",
    "\n",
    "model, history = train_model(\n",
    "    model=model,\n",
    "    train_loader=train_dataloader,\n",
    "    val_loader=test_dataloader,\n",
    "    criterion=criterion,\n",
    "    optimizer=optimizer,\n",
    "    num_epochs=config.epochs,\n",
    "    device=device,\n",
    "    scheduler=scheduler,\n",
    "    margin=arcface_margin,\n",
    "    save_model_to=model_file_name,\n",
    "#     save_margin_parameters_to=arcface_parameters\n",
    ")"
   ],
   "metadata": {
    "id": "9WxsyvplTFDw",
    "outputId": "de053f41-a9bb-49b4-ceec-4245ce71efe0",
    "papermill": {
     "duration": 3873.747084,
     "end_time": "2023-08-14T17:29:06.043157",
     "exception": false,
     "start_time": "2023-08-14T16:24:32.296073",
     "status": "completed"
    },
    "tags": [],
    "execution": {
     "iopub.status.busy": "2023-09-11T10:19:57.678574Z",
     "iopub.execute_input": "2023-09-11T10:19:57.679318Z"
    },
    "trusted": true
   },
   "execution_count": null,
   "outputs": []
  },
  {
   "cell_type": "code",
   "source": [
    "plot_stats(\n",
    "    **history,\n",
    "    title=f\"Model {config.model_name}\"\n",
    ")"
   ],
   "metadata": {
    "id": "7zTLOYTWTFDx",
    "papermill": {
     "duration": 1.874642,
     "end_time": "2023-08-14T17:29:08.631773",
     "exception": false,
     "start_time": "2023-08-14T17:29:06.757131",
     "status": "completed"
    },
    "tags": [],
    "trusted": true
   },
   "execution_count": null,
   "outputs": []
  },
  {
   "cell_type": "code",
   "source": [],
   "metadata": {
    "collapsed": false,
    "jupyter": {
     "outputs_hidden": false
    },
    "papermill": {
     "duration": 0.736094,
     "end_time": "2023-08-14T17:29:10.094482",
     "exception": false,
     "start_time": "2023-08-14T17:29:09.358388",
     "status": "completed"
    },
    "tags": []
   },
   "execution_count": null,
   "outputs": []
  },
  {
   "cell_type": "markdown",
   "source": [
    "# 8. Result evaluation"
   ],
   "metadata": {
    "id": "kJcjndrnTFDx",
    "papermill": {
     "duration": 0.720815,
     "end_time": "2023-08-14T17:29:11.613678",
     "exception": false,
     "start_time": "2023-08-14T17:29:10.892863",
     "status": "completed"
    },
    "tags": []
   }
  },
  {
   "cell_type": "code",
   "source": [
    "model.eval()  # Set the model to evaluation mode\n",
    "predictions = []\n",
    "correct = 0\n",
    "total = 0\n",
    "\n",
    "with torch.no_grad():\n",
    "    with tqdm(test_dataloader, desc=\"Processing\",unit=\"batch\") as process:\n",
    "        for images, labels in process:\n",
    "            images = images.to(device)\n",
    "            labels = labels.to(device)\n",
    "            output = model(images)\n",
    "            _, predicted = torch.max(output, 1)\n",
    "            correct += (predicted == labels).sum().item()\n",
    "            total += labels.size(0)\n",
    "            \n",
    "            predictions.extend(predicted.cpu().numpy())\n",
    "\n",
    "            \n",
    "print_highlighted(f\"Manually calculated accuracy: {correct/total}\")"
   ],
   "metadata": {
    "id": "wk7eAo8cTFDx",
    "papermill": {
     "duration": 10.118892,
     "end_time": "2023-08-14T17:29:43.116952",
     "exception": false,
     "start_time": "2023-08-14T17:29:32.998060",
     "status": "completed"
    },
    "tags": [],
    "trusted": true
   },
   "execution_count": null,
   "outputs": []
  },
  {
   "cell_type": "code",
   "source": [
    "c_report = classification_report(test_dataset.labels, np.array(predictions), output_dict=True, zero_division=0)\n",
    "c_report = pd.DataFrame(c_report).transpose()\n",
    "c_report"
   ],
   "metadata": {
    "id": "q5VvToQGTFDy",
    "papermill": {
     "duration": 0.792285,
     "end_time": "2023-08-14T17:29:44.691623",
     "exception": false,
     "start_time": "2023-08-14T17:29:43.899338",
     "status": "completed"
    },
    "tags": [],
    "trusted": true
   },
   "execution_count": null,
   "outputs": []
  },
  {
   "cell_type": "code",
   "source": [
    "c_report[c_report['precision'] > 0][:-3].mean()"
   ],
   "metadata": {
    "id": "UJLtt_s6TFDy",
    "papermill": {
     "duration": 0.803204,
     "end_time": "2023-08-14T17:29:46.214445",
     "exception": false,
     "start_time": "2023-08-14T17:29:45.411241",
     "status": "completed"
    },
    "tags": [],
    "trusted": true
   },
   "execution_count": null,
   "outputs": []
  },
  {
   "cell_type": "code",
   "source": [
    "accuracy_score(test_dataset.labels, np.array(predictions))"
   ],
   "metadata": {
    "id": "_Sw-oDmlTFDy",
    "papermill": {
     "duration": 0.764826,
     "end_time": "2023-08-14T17:29:47.714415",
     "exception": false,
     "start_time": "2023-08-14T17:29:46.949589",
     "status": "completed"
    },
    "tags": [],
    "trusted": true
   },
   "execution_count": null,
   "outputs": []
  },
  {
   "cell_type": "markdown",
   "source": [
    "To download the model, use code below:"
   ],
   "metadata": {
    "papermill": {
     "duration": 0.711078,
     "end_time": "2023-08-14T17:29:49.249729",
     "exception": false,
     "start_time": "2023-08-14T17:29:48.538651",
     "status": "completed"
    },
    "tags": []
   }
  },
  {
   "cell_type": "code",
   "source": [
    "from IPython.display import FileLink\n",
    "FileLink(model_file_name)"
   ],
   "metadata": {
    "collapsed": false,
    "jupyter": {
     "outputs_hidden": false
    },
    "papermill": {
     "duration": 0.722568,
     "end_time": "2023-08-14T17:29:50.683794",
     "exception": false,
     "start_time": "2023-08-14T17:29:49.961226",
     "status": "completed"
    },
    "tags": [],
    "trusted": true
   },
   "execution_count": null,
   "outputs": []
  },
  {
   "cell_type": "code",
   "source": [],
   "metadata": {},
   "execution_count": null,
   "outputs": []
  }
 ],
 "kernelspec": {
  "language": "python",
  "display_name": "Python 3",
  "name": "python3"
 },
 "language_info": {
  "pygments_lexer": "ipython3",
  "nbconvert_exporter": "python",
  "version": "3.6.4",
  "file_extension": ".py",
  "codemirror_mode": {
   "name": "ipython",
   "version": 3
  },
  "name": "python",
  "mimetype": "text/x-python"
 }
}
