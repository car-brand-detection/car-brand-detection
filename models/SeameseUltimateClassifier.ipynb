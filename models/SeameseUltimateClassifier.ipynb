{
 "metadata": {
  "kernelspec": {
   "name": "yolo_torch",
   "language": "python",
   "display_name": "yolo_torch"
  },
  "language_info": {
   "codemirror_mode": {
    "name": "ipython",
    "version": 3
   },
   "file_extension": ".py",
   "mimetype": "text/x-python",
   "name": "python",
   "nbconvert_exporter": "python",
   "pygments_lexer": "ipython3",
   "version": "3.10.12"
  },
  "papermill": {
   "default_parameters": {},
   "duration": 3960.405937,
   "end_time": "2023-08-14T17:29:54.480893",
   "environment_variables": {},
   "exception": null,
   "input_path": "__notebook__.ipynb",
   "output_path": "__notebook__.ipynb",
   "parameters": {},
   "start_time": "2023-08-14T16:23:54.074956",
   "version": "2.4.0"
  }
 },
 "nbformat_minor": 5,
 "nbformat": 4,
 "cells": [
  {
   "cell_type": "markdown",
   "source": [
    "# Pairwise Binary classification with Deep Learning"
   ],
   "metadata": {
    "papermill": {
     "duration": 0.028248,
     "end_time": "2023-08-14T16:24:04.236116",
     "exception": false,
     "start_time": "2023-08-14T16:24:04.207868",
     "status": "completed"
    },
    "tags": []
   }
  },
  {
   "cell_type": "markdown",
   "source": [
    "In this notebook we will train Multilayer Perceptron Neural Network to detect whether two images are from same class (car brand) or not. To train Perceptron, we will use image embeddings got from trained CNN model (SOTA models such as MobileNet)."
   ],
   "metadata": {
    "papermill": {
     "duration": 0.0269,
     "end_time": "2023-08-14T16:24:04.291517",
     "exception": false,
     "start_time": "2023-08-14T16:24:04.264617",
     "status": "completed"
    },
    "tags": []
   }
  },
  {
   "cell_type": "markdown",
   "source": [
    "# Set up"
   ],
   "metadata": {
    "id": "DRrvM2BPUG3T",
    "papermill": {
     "duration": 0.02718,
     "end_time": "2023-08-14T16:24:04.346391",
     "exception": false,
     "start_time": "2023-08-14T16:24:04.319211",
     "status": "completed"
    },
    "tags": []
   }
  },
  {
   "cell_type": "markdown",
   "source": [
    "## Packages and requirements"
   ],
   "metadata": {
    "id": "G-cGfk5CTFDT",
    "papermill": {
     "duration": 0.026993,
     "end_time": "2023-08-14T16:24:04.400603",
     "exception": false,
     "start_time": "2023-08-14T16:24:04.373610",
     "status": "completed"
    },
    "tags": []
   }
  },
  {
   "cell_type": "code",
   "source": [
    "# Major builtin libraries\n",
    "import os\n",
    "import gc\n",
    "import time\n",
    "import random\n",
    "import typing as t\n",
    "from copy import deepcopy\n",
    "from collections import defaultdict"
   ],
   "metadata": {
    "ExecuteTime": {
     "start_time": "2023-08-20T10:26:45.106150Z",
     "end_time": "2023-08-20T10:26:46.314512Z"
    },
    "id": "YJ1bPQE1TFDW",
    "papermill": {
     "duration": 0.044843,
     "end_time": "2023-08-14T16:24:04.472823",
     "exception": false,
     "start_time": "2023-08-14T16:24:04.427980",
     "status": "completed"
    },
    "tags": [],
    "execution": {
     "iopub.status.busy": "2023-08-17T07:15:57.323559Z",
     "iopub.execute_input": "2023-08-17T07:15:57.323917Z",
     "iopub.status.idle": "2023-08-17T07:15:57.330822Z",
     "shell.execute_reply.started": "2023-08-17T07:15:57.323886Z",
     "shell.execute_reply": "2023-08-17T07:15:57.328160Z"
    },
    "trusted": true
   },
   "execution_count": 386,
   "outputs": []
  },
  {
   "cell_type": "code",
   "source": [
    "import warnings  # If you want to disable warnings\n",
    "warnings.filterwarnings(\"ignore\")\n",
    "\n",
    "# For descriptive error messages\n",
    "os.environ['CUDA_LAUNCH_BLOCKING'] = \"1\""
   ],
   "metadata": {
    "ExecuteTime": {
     "start_time": "2023-08-20T10:26:45.116595Z",
     "end_time": "2023-08-20T10:26:46.967579Z"
    },
    "id": "BwyVeWsUTFDX",
    "papermill": {
     "duration": 0.035469,
     "end_time": "2023-08-14T16:24:04.598152",
     "exception": false,
     "start_time": "2023-08-14T16:24:04.562683",
     "status": "completed"
    },
    "tags": [],
    "execution": {
     "iopub.status.busy": "2023-08-17T07:15:57.351506Z",
     "iopub.execute_input": "2023-08-17T07:15:57.352204Z",
     "iopub.status.idle": "2023-08-17T07:15:57.359600Z",
     "shell.execute_reply.started": "2023-08-17T07:15:57.352170Z",
     "shell.execute_reply": "2023-08-17T07:15:57.358625Z"
    },
    "trusted": true
   },
   "execution_count": 387,
   "outputs": []
  },
  {
   "cell_type": "code",
   "source": [
    "# Classic packages for data manipulation and visualization\n",
    "import numpy as np\n",
    "import pandas as pd\n",
    "import polars as pl\n",
    "import matplotlib.pyplot as plt"
   ],
   "metadata": {
    "ExecuteTime": {
     "start_time": "2023-08-20T10:26:45.128249Z",
     "end_time": "2023-08-20T10:26:47.098578Z"
    },
    "id": "AGRBRJORTFDX",
    "papermill": {
     "duration": 0.035178,
     "end_time": "2023-08-14T16:24:04.660718",
     "exception": false,
     "start_time": "2023-08-14T16:24:04.625540",
     "status": "completed"
    },
    "tags": [],
    "execution": {
     "iopub.status.busy": "2023-08-17T07:15:57.363018Z",
     "iopub.execute_input": "2023-08-17T07:15:57.363728Z",
     "iopub.status.idle": "2023-08-17T07:15:57.522644Z",
     "shell.execute_reply.started": "2023-08-17T07:15:57.363695Z",
     "shell.execute_reply": "2023-08-17T07:15:57.521747Z"
    },
    "trusted": true
   },
   "execution_count": 388,
   "outputs": []
  },
  {
   "cell_type": "code",
   "source": [
    "# Basic PyTorch\n",
    "import torch\n",
    "import torch.nn as nn\n",
    "import torch.optim as optim  # Optimization algorithms and dynamic learning rate adjusting\n",
    "import torch.nn.functional as F\n",
    "# from torch.nn.modules.loss import _Loss  # For writing a custom Loss function\n",
    "from torch.utils.data import DataLoader, Dataset  # For custom data presentation"
   ],
   "metadata": {
    "ExecuteTime": {
     "start_time": "2023-08-20T10:26:45.142787Z",
     "end_time": "2023-08-20T10:26:47.098578Z"
    },
    "id": "FXSN-XzxTFDX",
    "papermill": {
     "duration": 3.82041,
     "end_time": "2023-08-14T16:24:08.508190",
     "exception": false,
     "start_time": "2023-08-14T16:24:04.687780",
     "status": "completed"
    },
    "tags": [],
    "execution": {
     "iopub.status.busy": "2023-08-17T07:15:57.524533Z",
     "iopub.execute_input": "2023-08-17T07:15:57.524842Z",
     "iopub.status.idle": "2023-08-17T07:15:59.036652Z",
     "shell.execute_reply.started": "2023-08-17T07:15:57.524811Z",
     "shell.execute_reply": "2023-08-17T07:15:59.035663Z"
    },
    "trusted": true
   },
   "execution_count": 389,
   "outputs": []
  },
  {
   "cell_type": "code",
   "source": [
    "# Utils\n",
    "import joblib  # Pipelining, pickling (dump/load), parallel processing\n",
    "from tqdm import tqdm  # Progress bar for training process\n",
    "from tempfile import TemporaryDirectory\n",
    "\n",
    "# Classic ML tools\n",
    "from sklearn.preprocessing import LabelEncoder\n",
    "from sklearn.model_selection import StratifiedKFold  # Cross-Validation"
   ],
   "metadata": {
    "ExecuteTime": {
     "start_time": "2023-08-20T10:26:45.153578Z",
     "end_time": "2023-08-20T10:26:47.098578Z"
    },
    "id": "7QjRLiOzTFDY",
    "papermill": {
     "duration": 0.980731,
     "end_time": "2023-08-14T16:24:09.517905",
     "exception": false,
     "start_time": "2023-08-14T16:24:08.537174",
     "status": "completed"
    },
    "tags": [],
    "execution": {
     "iopub.status.busy": "2023-08-17T07:15:59.038198Z",
     "iopub.execute_input": "2023-08-17T07:15:59.039259Z",
     "iopub.status.idle": "2023-08-17T07:15:59.645345Z",
     "shell.execute_reply.started": "2023-08-17T07:15:59.039220Z",
     "shell.execute_reply": "2023-08-17T07:15:59.644319Z"
    },
    "trusted": true
   },
   "execution_count": 390,
   "outputs": []
  },
  {
   "cell_type": "code",
   "source": [
    "# ML Metrics\n",
    "from sklearn.metrics import accuracy_score\n",
    "from sklearn.metrics import classification_report\n",
    "from torchmetrics.classification import MulticlassF1Score, F1Score # F1 metric for multiclass"
   ],
   "metadata": {
    "ExecuteTime": {
     "start_time": "2023-08-20T10:26:45.172782Z",
     "end_time": "2023-08-20T10:26:47.124580Z"
    },
    "id": "BuY4s3bsTFDZ",
    "papermill": {
     "duration": 10.177643,
     "end_time": "2023-08-14T16:24:20.158465",
     "exception": false,
     "start_time": "2023-08-14T16:24:09.980822",
     "status": "completed"
    },
    "tags": [],
    "execution": {
     "iopub.status.busy": "2023-08-17T07:15:59.655265Z",
     "iopub.execute_input": "2023-08-17T07:15:59.655975Z",
     "iopub.status.idle": "2023-08-17T07:16:09.540861Z",
     "shell.execute_reply.started": "2023-08-17T07:15:59.655941Z",
     "shell.execute_reply": "2023-08-17T07:16:09.539912Z"
    },
    "trusted": true
   },
   "execution_count": 391,
   "outputs": []
  },
  {
   "cell_type": "code",
   "source": [
    "# Torch Computer Vision tools for images processing\n",
    "from torchvision.io import read_image\n",
    "from torchvision.transforms.functional import to_pil_image, to_grayscale, to_tensor\n",
    "from torchvision import models  # Pretrained models"
   ],
   "metadata": {
    "ExecuteTime": {
     "start_time": "2023-08-20T10:26:45.182880Z",
     "end_time": "2023-08-20T10:26:47.124580Z"
    },
    "id": "FEKtt6X5TFDZ",
    "papermill": {
     "duration": 0.03877,
     "end_time": "2023-08-14T16:24:20.224798",
     "exception": false,
     "start_time": "2023-08-14T16:24:20.186028",
     "status": "completed"
    },
    "tags": [],
    "execution": {
     "iopub.status.busy": "2023-08-17T07:16:09.542028Z",
     "iopub.execute_input": "2023-08-17T07:16:09.542369Z",
     "iopub.status.idle": "2023-08-17T07:16:09.549300Z",
     "shell.execute_reply.started": "2023-08-17T07:16:09.542337Z",
     "shell.execute_reply": "2023-08-17T07:16:09.548129Z"
    },
    "trusted": true
   },
   "execution_count": 392,
   "outputs": []
  },
  {
   "cell_type": "code",
   "source": [
    "# Albumentations is an OS library for augmentations\n",
    "import albumentations as A\n",
    "from albumentations.pytorch import ToTensorV2\n",
    "# import torchvision.transforms as T  # We can use torch augmentations instead"
   ],
   "metadata": {
    "ExecuteTime": {
     "start_time": "2023-08-20T10:26:45.202310Z",
     "end_time": "2023-08-20T10:26:47.127589Z"
    },
    "id": "90C8yH1dTFDa",
    "papermill": {
     "duration": 0.930793,
     "end_time": "2023-08-14T16:24:21.182870",
     "exception": false,
     "start_time": "2023-08-14T16:24:20.252077",
     "status": "completed"
    },
    "tags": [],
    "execution": {
     "iopub.status.busy": "2023-08-17T07:16:09.551106Z",
     "iopub.execute_input": "2023-08-17T07:16:09.551869Z",
     "iopub.status.idle": "2023-08-17T07:16:10.486598Z",
     "shell.execute_reply.started": "2023-08-17T07:16:09.551830Z",
     "shell.execute_reply": "2023-08-17T07:16:10.485516Z"
    },
    "trusted": true
   },
   "execution_count": 393,
   "outputs": []
  },
  {
   "cell_type": "code",
   "source": [
    "# Output text colorizing\n",
    "from colorama import Back, Style\n",
    "\n",
    "def print_highlighted(text: str, bgcolor=Back.YELLOW) -> None:\n",
    "    \"\"\"\n",
    "    Function to print a text with colored background.\n",
    "    \"\"\"\n",
    "    print(bgcolor + text + Style.RESET_ALL)"
   ],
   "metadata": {
    "ExecuteTime": {
     "start_time": "2023-08-20T10:26:45.213571Z",
     "end_time": "2023-08-20T10:26:47.127589Z"
    },
    "collapsed": false,
    "id": "pF1AWOXTTFDa",
    "jupyter": {
     "outputs_hidden": false
    },
    "papermill": {
     "duration": 0.037099,
     "end_time": "2023-08-14T16:24:21.300878",
     "exception": false,
     "start_time": "2023-08-14T16:24:21.263779",
     "status": "completed"
    },
    "tags": [],
    "execution": {
     "iopub.status.busy": "2023-08-17T07:16:10.487905Z",
     "iopub.execute_input": "2023-08-17T07:16:10.489329Z",
     "iopub.status.idle": "2023-08-17T07:16:10.496277Z",
     "shell.execute_reply.started": "2023-08-17T07:16:10.489293Z",
     "shell.execute_reply": "2023-08-17T07:16:10.494608Z"
    },
    "trusted": true
   },
   "execution_count": 394,
   "outputs": []
  },
  {
   "cell_type": "code",
   "source": [
    "import wandb # MLOps platform to simplify and speed up the process of building ML models"
   ],
   "metadata": {
    "ExecuteTime": {
     "start_time": "2023-08-20T10:26:45.225187Z",
     "end_time": "2023-08-20T10:26:47.127589Z"
    },
    "collapsed": false,
    "id": "WHnMHaX_TFDb",
    "jupyter": {
     "outputs_hidden": false
    },
    "papermill": {
     "duration": 0.034479,
     "end_time": "2023-08-14T16:24:21.363117",
     "exception": false,
     "start_time": "2023-08-14T16:24:21.328638",
     "status": "completed"
    },
    "tags": [],
    "execution": {
     "iopub.status.busy": "2023-08-17T07:16:10.498039Z",
     "iopub.execute_input": "2023-08-17T07:16:10.498837Z",
     "iopub.status.idle": "2023-08-17T07:16:10.509859Z",
     "shell.execute_reply.started": "2023-08-17T07:16:10.498799Z",
     "shell.execute_reply": "2023-08-17T07:16:10.508871Z"
    },
    "trusted": true
   },
   "execution_count": 395,
   "outputs": []
  },
  {
   "cell_type": "code",
   "source": [
    "wandb.login() # We log in via pop-up,\n",
    "# wandb.login(key=api_key)  # but you can also log in manually with function args"
   ],
   "metadata": {
    "ExecuteTime": {
     "start_time": "2023-08-20T10:26:45.230216Z",
     "end_time": "2023-08-20T10:26:47.128588Z"
    },
    "collapsed": false,
    "id": "1zarBgpbTFDb",
    "jupyter": {
     "outputs_hidden": false
    },
    "papermill": {
     "duration": 0.034968,
     "end_time": "2023-08-14T16:24:21.425112",
     "exception": false,
     "start_time": "2023-08-14T16:24:21.390144",
     "status": "completed"
    },
    "tags": [],
    "execution": {
     "iopub.status.busy": "2023-08-17T07:16:10.515134Z",
     "iopub.execute_input": "2023-08-17T07:16:10.515417Z",
     "iopub.status.idle": "2023-08-17T07:16:21.325214Z",
     "shell.execute_reply.started": "2023-08-17T07:16:10.515392Z",
     "shell.execute_reply": "2023-08-17T07:16:21.324243Z"
    },
    "trusted": true
   },
   "execution_count": 396,
   "outputs": [
    {
     "name": "stderr",
     "output_type": "stream",
     "text": [
      "\u001B[34m\u001B[1mwandb\u001B[0m: \u001B[33mWARNING\u001B[0m Calling wandb.login() after wandb.init() has no effect.\n"
     ]
    },
    {
     "data": {
      "text/plain": "True"
     },
     "execution_count": 396,
     "metadata": {},
     "output_type": "execute_result"
    }
   ]
  },
  {
   "cell_type": "markdown",
   "source": [
    "## Configuration"
   ],
   "metadata": {
    "id": "YuquAHEkTFDb",
    "papermill": {
     "duration": 0.026802,
     "end_time": "2023-08-14T16:24:21.479509",
     "exception": false,
     "start_time": "2023-08-14T16:24:21.452707",
     "status": "completed"
    },
    "tags": []
   }
  },
  {
   "cell_type": "code",
   "source": [
    "CONFIG = {\n",
    "    \"seed\": 2306,\n",
    "    # \"epochs\": 20,\n",
    "    \"image_dimension\": 256,  # Depends on pretrained model used\n",
    "    \"model_name\": \"SiamesePerceptron\",  # Pretrained model we will use\n",
    "    \"embedding_size\": 512,  # Embedding output size\n",
    "    \"train_batch_size\": 200,\n",
    "    \"val_batch_size\": 400,\n",
    "    \"learning_rate\": 1e-3,\n",
    "    \"min_lr\": 1e-8,\n",
    "    \"min_loss_delta\": 1e-7, # To stop training on plateau\n",
    "    \"weight_decay\": 1e-7,\n",
    "\n",
    "}"
   ],
   "metadata": {
    "ExecuteTime": {
     "start_time": "2023-08-20T10:26:45.253618Z",
     "end_time": "2023-08-20T10:26:47.128588Z"
    },
    "id": "JC-SbC9zTFDb",
    "papermill": {
     "duration": 0.036674,
     "end_time": "2023-08-14T16:24:21.543459",
     "exception": false,
     "start_time": "2023-08-14T16:24:21.506785",
     "status": "completed"
    },
    "tags": [],
    "execution": {
     "iopub.status.busy": "2023-08-17T07:16:21.326556Z",
     "iopub.execute_input": "2023-08-17T07:16:21.327582Z",
     "iopub.status.idle": "2023-08-17T07:16:21.333528Z",
     "shell.execute_reply.started": "2023-08-17T07:16:21.327545Z",
     "shell.execute_reply": "2023-08-17T07:16:21.332534Z"
    },
    "trusted": true
   },
   "execution_count": 397,
   "outputs": []
  },
  {
   "cell_type": "code",
   "source": [
    "wandb_run = wandb.init(project=\"cars-classification-project\", config=CONFIG)"
   ],
   "metadata": {
    "collapsed": false,
    "ExecuteTime": {
     "start_time": "2023-08-20T10:26:45.271337Z",
     "end_time": "2023-08-20T10:26:55.230157Z"
    },
    "jupyter": {
     "outputs_hidden": false
    },
    "execution": {
     "iopub.status.busy": "2023-08-17T07:16:21.334769Z",
     "iopub.execute_input": "2023-08-17T07:16:21.335578Z",
     "iopub.status.idle": "2023-08-17T07:16:53.875522Z",
     "shell.execute_reply.started": "2023-08-17T07:16:21.335544Z",
     "shell.execute_reply": "2023-08-17T07:16:53.874496Z"
    },
    "trusted": true
   },
   "execution_count": 398,
   "outputs": [
    {
     "data": {
      "text/plain": "<IPython.core.display.HTML object>",
      "text/html": "Finishing last run (ID:5cukon3g) before initializing another..."
     },
     "metadata": {},
     "output_type": "display_data"
    },
    {
     "data": {
      "text/plain": "<IPython.core.display.HTML object>",
      "text/html": "Waiting for W&B process to finish... <strong style=\"color:green\">(success).</strong>"
     },
     "metadata": {},
     "output_type": "display_data"
    },
    {
     "data": {
      "text/plain": "<IPython.core.display.HTML object>",
      "text/html": " View run <strong style=\"color:#cdcd00\">flowing-moon-16</strong> at: <a href='https://wandb.ai/remainedmind/cars-classification-project/runs/5cukon3g' target=\"_blank\">https://wandb.ai/remainedmind/cars-classification-project/runs/5cukon3g</a><br/> View job at <a href='https://wandb.ai/remainedmind/cars-classification-project/jobs/QXJ0aWZhY3RDb2xsZWN0aW9uOjkxNDM1OTg3/version_details/v1' target=\"_blank\">https://wandb.ai/remainedmind/cars-classification-project/jobs/QXJ0aWZhY3RDb2xsZWN0aW9uOjkxNDM1OTg3/version_details/v1</a><br/>Synced 5 W&B file(s), 0 media file(s), 0 artifact file(s) and 0 other file(s)"
     },
     "metadata": {},
     "output_type": "display_data"
    },
    {
     "data": {
      "text/plain": "<IPython.core.display.HTML object>",
      "text/html": "Find logs at: <code>.\\wandb\\run-20230820_102230-5cukon3g\\logs</code>"
     },
     "metadata": {},
     "output_type": "display_data"
    },
    {
     "data": {
      "text/plain": "<IPython.core.display.HTML object>",
      "text/html": "Successfully finished last run (ID:5cukon3g). Initializing new run:<br/>"
     },
     "metadata": {},
     "output_type": "display_data"
    },
    {
     "data": {
      "text/plain": "VBox(children=(Label(value='Waiting for wandb.init()...\\r'), FloatProgress(value=0.016666666666666666, max=1.0…",
      "application/vnd.jupyter.widget-view+json": {
       "version_major": 2,
       "version_minor": 0,
       "model_id": "8b2b419ff4a44bad9b0f5778b7a35af9"
      }
     },
     "metadata": {},
     "output_type": "display_data"
    },
    {
     "data": {
      "text/plain": "<IPython.core.display.HTML object>",
      "text/html": "Tracking run with wandb version 0.15.8"
     },
     "metadata": {},
     "output_type": "display_data"
    },
    {
     "data": {
      "text/plain": "<IPython.core.display.HTML object>",
      "text/html": "Run data is saved locally in <code>D:\\possessor\\Documents\\ESSE\\IT\\ML\\CV\\Statanly_Internship\\Projects\\car-brand-detection\\models\\wandb\\run-20230820_102645-qncmsqho</code>"
     },
     "metadata": {},
     "output_type": "display_data"
    },
    {
     "data": {
      "text/plain": "<IPython.core.display.HTML object>",
      "text/html": "Syncing run <strong><a href='https://wandb.ai/remainedmind/cars-classification-project/runs/qncmsqho' target=\"_blank\">iconic-pond-17</a></strong> to <a href='https://wandb.ai/remainedmind/cars-classification-project' target=\"_blank\">Weights & Biases</a> (<a href='https://wandb.me/run' target=\"_blank\">docs</a>)<br/>"
     },
     "metadata": {},
     "output_type": "display_data"
    },
    {
     "data": {
      "text/plain": "<IPython.core.display.HTML object>",
      "text/html": " View project at <a href='https://wandb.ai/remainedmind/cars-classification-project' target=\"_blank\">https://wandb.ai/remainedmind/cars-classification-project</a>"
     },
     "metadata": {},
     "output_type": "display_data"
    },
    {
     "data": {
      "text/plain": "<IPython.core.display.HTML object>",
      "text/html": " View run at <a href='https://wandb.ai/remainedmind/cars-classification-project/runs/qncmsqho' target=\"_blank\">https://wandb.ai/remainedmind/cars-classification-project/runs/qncmsqho</a>"
     },
     "metadata": {},
     "output_type": "display_data"
    }
   ]
  },
  {
   "cell_type": "code",
   "source": [
    "config = wandb.config\n",
    "del CONFIG"
   ],
   "metadata": {
    "collapsed": false,
    "ExecuteTime": {
     "start_time": "2023-08-20T10:26:55.235144Z",
     "end_time": "2023-08-20T10:26:55.267324Z"
    },
    "jupyter": {
     "outputs_hidden": false
    },
    "execution": {
     "iopub.status.busy": "2023-08-17T07:16:53.877070Z",
     "iopub.execute_input": "2023-08-17T07:16:53.877403Z",
     "iopub.status.idle": "2023-08-17T07:16:53.883235Z",
     "shell.execute_reply.started": "2023-08-17T07:16:53.877371Z",
     "shell.execute_reply": "2023-08-17T07:16:53.882350Z"
    },
    "trusted": true
   },
   "execution_count": 399,
   "outputs": []
  },
  {
   "cell_type": "markdown",
   "source": [
    "Set Seed for Reproducibility"
   ],
   "metadata": {
    "id": "kotMeU-OTFDc",
    "papermill": {
     "duration": 0.027693,
     "end_time": "2023-08-14T16:24:21.791364",
     "exception": false,
     "start_time": "2023-08-14T16:24:21.763671",
     "status": "completed"
    },
    "tags": []
   }
  },
  {
   "cell_type": "code",
   "source": [
    "def set_seed(seed=42):\n",
    "    \"\"\"\n",
    "    Sets the seed of the entire notebook so results are the same every time we run.\n",
    "    This is for REPRODUCIBILITY.\n",
    "    \"\"\"\n",
    "    np.random.seed(seed)\n",
    "    torch.manual_seed(seed)\n",
    "\n",
    "    # When running on the CuDNN backend, two further options can be set\n",
    "    # torch.backends.cudnn.deterministic = True\n",
    "    # torch.backends.cudnn.benchmark = False  # When False, this option makes CUDA reproducible, BUT the performance might suffer\n",
    "\n",
    "    # Set a fixed value for the hash seed\n",
    "    os.environ['PYTHONHASHSEED'] = str(seed)\n",
    "\n",
    "set_seed(seed=config.seed)"
   ],
   "metadata": {
    "ExecuteTime": {
     "start_time": "2023-08-20T10:26:55.242153Z",
     "end_time": "2023-08-20T10:26:55.270320Z"
    },
    "id": "RDIHP75uTFDc",
    "papermill": {
     "duration": 0.045937,
     "end_time": "2023-08-14T16:24:21.869710",
     "exception": false,
     "start_time": "2023-08-14T16:24:21.823773",
     "status": "completed"
    },
    "tags": [],
    "execution": {
     "iopub.status.busy": "2023-08-17T07:16:53.885297Z",
     "iopub.execute_input": "2023-08-17T07:16:53.886593Z",
     "iopub.status.idle": "2023-08-17T07:16:53.898928Z",
     "shell.execute_reply.started": "2023-08-17T07:16:53.886559Z",
     "shell.execute_reply": "2023-08-17T07:16:53.897911Z"
    },
    "trusted": true
   },
   "execution_count": 400,
   "outputs": []
  },
  {
   "cell_type": "markdown",
   "source": [
    "# Data"
   ],
   "metadata": {
    "id": "UoHh0H1FVHnT",
    "papermill": {
     "duration": 0.027822,
     "end_time": "2023-08-14T16:24:21.925361",
     "exception": false,
     "start_time": "2023-08-14T16:24:21.897539",
     "status": "completed"
    },
    "tags": []
   }
  },
  {
   "cell_type": "markdown",
   "source": [
    "For our MLP we will use image embeddings - output from CNN models. We already got this data before, so we just load it."
   ],
   "metadata": {}
  },
  {
   "cell_type": "markdown",
   "source": [
    "## Set data location"
   ],
   "metadata": {
    "id": "Qst3Y-s4VKTk",
    "papermill": {
     "duration": 0.042797,
     "end_time": "2023-08-14T16:24:22.001996",
     "exception": false,
     "start_time": "2023-08-14T16:24:21.959199",
     "status": "completed"
    },
    "tags": []
   }
  },
  {
   "cell_type": "code",
   "source": [
    "# config.repo = 'car-brands/'  # dataset name on Kaggle\n",
    "config.repo = 'data/'  # dataset name on local device\n",
    "# config.repo = 'car_brand_detection/'  # Google Collab\n",
    "\n",
    "# config.root = '/kaggle/input/' + config.repo\n",
    "# config.root = 'drive/MyDrive/' + config.repo\n",
    "config.root = '../'  + config.repo\n",
    "\n",
    "config.data_path = config.root + 'embeddings_and_labels.csv'\n",
    "config.test_images_path = config.root + 'images/test'\n",
    "config.test_labels = config.root + 'test_labels.csv'\n",
    "\n",
    "config.mlp_model_path = 'saved_instances/SiamesePerceptron.pth'\n",
    "config.save_model_to = f'{config.model_name}.pth'"
   ],
   "metadata": {
    "ExecuteTime": {
     "start_time": "2023-08-20T10:26:55.279332Z",
     "end_time": "2023-08-20T10:26:55.422887Z"
    },
    "id": "QKDBLmMrTFDd",
    "papermill": {
     "duration": 0.036856,
     "end_time": "2023-08-14T16:24:22.084008",
     "exception": false,
     "start_time": "2023-08-14T16:24:22.047152",
     "status": "completed"
    },
    "tags": [],
    "execution": {
     "iopub.status.busy": "2023-08-17T07:16:53.900397Z",
     "iopub.execute_input": "2023-08-17T07:16:53.900974Z",
     "iopub.status.idle": "2023-08-17T07:16:53.912188Z",
     "shell.execute_reply.started": "2023-08-17T07:16:53.900944Z",
     "shell.execute_reply": "2023-08-17T07:16:53.911297Z"
    },
    "trusted": true
   },
   "execution_count": 401,
   "outputs": []
  },
  {
   "cell_type": "code",
   "source": [
    "df = pd.read_csv(config.data_path)\n",
    "df.head()"
   ],
   "metadata": {
    "collapsed": false,
    "ExecuteTime": {
     "start_time": "2023-08-20T10:26:55.299887Z",
     "end_time": "2023-08-20T10:26:57.438876Z"
    },
    "jupyter": {
     "outputs_hidden": false
    },
    "execution": {
     "iopub.status.busy": "2023-08-17T07:16:53.913988Z",
     "iopub.execute_input": "2023-08-17T07:16:53.914761Z",
     "iopub.status.idle": "2023-08-17T07:16:58.842205Z",
     "shell.execute_reply.started": "2023-08-17T07:16:53.914726Z",
     "shell.execute_reply": "2023-08-17T07:16:58.841235Z"
    },
    "trusted": true
   },
   "execution_count": 402,
   "outputs": [
    {
     "data": {
      "text/plain": "          0         1         2         3         4         5         6  \\\n0 -0.001561  0.159091 -0.326709 -0.226603 -0.097365  0.204614 -0.142634   \n1  0.229466 -0.186505 -0.329016 -0.650666  0.115301  0.149208  0.065496   \n2 -0.203165  0.330612 -0.413488 -0.128357  0.013811  0.244605 -0.137738   \n3 -0.052456  0.385235 -0.423291 -0.007358  0.031012  0.242327  0.118072   \n4  0.092909  0.075529 -0.040490  0.137453  0.531280  0.219033 -0.100117   \n\n          7         8         9  ...       503       504       505       506  \\\n0  0.208764  0.469837  0.069866  ...  0.410457 -0.024682  0.178265 -0.357340   \n1  0.191487  0.428920 -0.016147  ...  0.195697  0.171068  0.037157  0.049534   \n2  0.365148  0.385303  0.318809  ...  0.413026  0.040102  0.054195 -0.251548   \n3  0.235620  0.464901  0.320997  ...  0.412529  0.015200  0.237078 -0.429586   \n4  0.161784 -0.077920 -0.265161  ... -0.024520  0.143381 -0.099898  0.137324   \n\n        507       508       509       510       511      label  \n0 -0.073279  0.190458 -0.060786  0.364546  0.824516  Acura_MDX  \n1 -0.224402  0.225593  0.180314  0.073213  0.500426  Acura_MDX  \n2 -0.020557  0.241178  0.062900  0.354683  0.591870  Acura_MDX  \n3 -0.110773  0.166453  0.079581  0.243743  0.662615  Acura_MDX  \n4  0.137523  0.217806  0.313156  0.400654  0.217053  Acura_MDX  \n\n[5 rows x 513 columns]",
      "text/html": "<div>\n<style scoped>\n    .dataframe tbody tr th:only-of-type {\n        vertical-align: middle;\n    }\n\n    .dataframe tbody tr th {\n        vertical-align: top;\n    }\n\n    .dataframe thead th {\n        text-align: right;\n    }\n</style>\n<table border=\"1\" class=\"dataframe\">\n  <thead>\n    <tr style=\"text-align: right;\">\n      <th></th>\n      <th>0</th>\n      <th>1</th>\n      <th>2</th>\n      <th>3</th>\n      <th>4</th>\n      <th>5</th>\n      <th>6</th>\n      <th>7</th>\n      <th>8</th>\n      <th>9</th>\n      <th>...</th>\n      <th>503</th>\n      <th>504</th>\n      <th>505</th>\n      <th>506</th>\n      <th>507</th>\n      <th>508</th>\n      <th>509</th>\n      <th>510</th>\n      <th>511</th>\n      <th>label</th>\n    </tr>\n  </thead>\n  <tbody>\n    <tr>\n      <th>0</th>\n      <td>-0.001561</td>\n      <td>0.159091</td>\n      <td>-0.326709</td>\n      <td>-0.226603</td>\n      <td>-0.097365</td>\n      <td>0.204614</td>\n      <td>-0.142634</td>\n      <td>0.208764</td>\n      <td>0.469837</td>\n      <td>0.069866</td>\n      <td>...</td>\n      <td>0.410457</td>\n      <td>-0.024682</td>\n      <td>0.178265</td>\n      <td>-0.357340</td>\n      <td>-0.073279</td>\n      <td>0.190458</td>\n      <td>-0.060786</td>\n      <td>0.364546</td>\n      <td>0.824516</td>\n      <td>Acura_MDX</td>\n    </tr>\n    <tr>\n      <th>1</th>\n      <td>0.229466</td>\n      <td>-0.186505</td>\n      <td>-0.329016</td>\n      <td>-0.650666</td>\n      <td>0.115301</td>\n      <td>0.149208</td>\n      <td>0.065496</td>\n      <td>0.191487</td>\n      <td>0.428920</td>\n      <td>-0.016147</td>\n      <td>...</td>\n      <td>0.195697</td>\n      <td>0.171068</td>\n      <td>0.037157</td>\n      <td>0.049534</td>\n      <td>-0.224402</td>\n      <td>0.225593</td>\n      <td>0.180314</td>\n      <td>0.073213</td>\n      <td>0.500426</td>\n      <td>Acura_MDX</td>\n    </tr>\n    <tr>\n      <th>2</th>\n      <td>-0.203165</td>\n      <td>0.330612</td>\n      <td>-0.413488</td>\n      <td>-0.128357</td>\n      <td>0.013811</td>\n      <td>0.244605</td>\n      <td>-0.137738</td>\n      <td>0.365148</td>\n      <td>0.385303</td>\n      <td>0.318809</td>\n      <td>...</td>\n      <td>0.413026</td>\n      <td>0.040102</td>\n      <td>0.054195</td>\n      <td>-0.251548</td>\n      <td>-0.020557</td>\n      <td>0.241178</td>\n      <td>0.062900</td>\n      <td>0.354683</td>\n      <td>0.591870</td>\n      <td>Acura_MDX</td>\n    </tr>\n    <tr>\n      <th>3</th>\n      <td>-0.052456</td>\n      <td>0.385235</td>\n      <td>-0.423291</td>\n      <td>-0.007358</td>\n      <td>0.031012</td>\n      <td>0.242327</td>\n      <td>0.118072</td>\n      <td>0.235620</td>\n      <td>0.464901</td>\n      <td>0.320997</td>\n      <td>...</td>\n      <td>0.412529</td>\n      <td>0.015200</td>\n      <td>0.237078</td>\n      <td>-0.429586</td>\n      <td>-0.110773</td>\n      <td>0.166453</td>\n      <td>0.079581</td>\n      <td>0.243743</td>\n      <td>0.662615</td>\n      <td>Acura_MDX</td>\n    </tr>\n    <tr>\n      <th>4</th>\n      <td>0.092909</td>\n      <td>0.075529</td>\n      <td>-0.040490</td>\n      <td>0.137453</td>\n      <td>0.531280</td>\n      <td>0.219033</td>\n      <td>-0.100117</td>\n      <td>0.161784</td>\n      <td>-0.077920</td>\n      <td>-0.265161</td>\n      <td>...</td>\n      <td>-0.024520</td>\n      <td>0.143381</td>\n      <td>-0.099898</td>\n      <td>0.137324</td>\n      <td>0.137523</td>\n      <td>0.217806</td>\n      <td>0.313156</td>\n      <td>0.400654</td>\n      <td>0.217053</td>\n      <td>Acura_MDX</td>\n    </tr>\n  </tbody>\n</table>\n<p>5 rows × 513 columns</p>\n</div>"
     },
     "execution_count": 402,
     "metadata": {},
     "output_type": "execute_result"
    }
   ]
  },
  {
   "cell_type": "code",
   "source": [
    "# Last column is a label, rest are embeddings\n",
    "df.columns[-10:]"
   ],
   "metadata": {
    "collapsed": false,
    "ExecuteTime": {
     "start_time": "2023-08-20T10:26:57.434237Z",
     "end_time": "2023-08-20T10:26:57.445883Z"
    },
    "jupyter": {
     "outputs_hidden": false
    },
    "execution": {
     "iopub.status.busy": "2023-08-17T07:16:58.846617Z",
     "iopub.execute_input": "2023-08-17T07:16:58.848943Z",
     "iopub.status.idle": "2023-08-17T07:16:58.858952Z",
     "shell.execute_reply.started": "2023-08-17T07:16:58.848905Z",
     "shell.execute_reply": "2023-08-17T07:16:58.857820Z"
    },
    "trusted": true
   },
   "execution_count": 403,
   "outputs": [
    {
     "data": {
      "text/plain": "Index(['503', '504', '505', '506', '507', '508', '509', '510', '511', 'label'], dtype='object')"
     },
     "execution_count": 403,
     "metadata": {},
     "output_type": "execute_result"
    }
   ]
  },
  {
   "cell_type": "code",
   "source": [
    "embeddings_bag = df[(df.columns[:-1])]\n",
    "embeddings_bag.head(2)"
   ],
   "metadata": {
    "collapsed": false,
    "ExecuteTime": {
     "start_time": "2023-08-20T10:26:57.440881Z",
     "end_time": "2023-08-20T10:26:57.546867Z"
    },
    "jupyter": {
     "outputs_hidden": false
    },
    "execution": {
     "iopub.status.busy": "2023-08-17T07:16:58.860529Z",
     "iopub.execute_input": "2023-08-17T07:16:58.863661Z",
     "iopub.status.idle": "2023-08-17T07:16:58.932109Z",
     "shell.execute_reply.started": "2023-08-17T07:16:58.863622Z",
     "shell.execute_reply": "2023-08-17T07:16:58.931046Z"
    },
    "trusted": true
   },
   "execution_count": 404,
   "outputs": [
    {
     "data": {
      "text/plain": "          0         1         2         3         4         5         6  \\\n0 -0.001561  0.159091 -0.326709 -0.226603 -0.097365  0.204614 -0.142634   \n1  0.229466 -0.186505 -0.329016 -0.650666  0.115301  0.149208  0.065496   \n\n          7         8         9  ...       502       503       504       505  \\\n0  0.208764  0.469837  0.069866  ...  0.111356  0.410457 -0.024682  0.178265   \n1  0.191487  0.428920 -0.016147  ...  0.135340  0.195697  0.171068  0.037157   \n\n        506       507       508       509       510       511  \n0 -0.357340 -0.073279  0.190458 -0.060786  0.364546  0.824516  \n1  0.049534 -0.224402  0.225593  0.180314  0.073213  0.500426  \n\n[2 rows x 512 columns]",
      "text/html": "<div>\n<style scoped>\n    .dataframe tbody tr th:only-of-type {\n        vertical-align: middle;\n    }\n\n    .dataframe tbody tr th {\n        vertical-align: top;\n    }\n\n    .dataframe thead th {\n        text-align: right;\n    }\n</style>\n<table border=\"1\" class=\"dataframe\">\n  <thead>\n    <tr style=\"text-align: right;\">\n      <th></th>\n      <th>0</th>\n      <th>1</th>\n      <th>2</th>\n      <th>3</th>\n      <th>4</th>\n      <th>5</th>\n      <th>6</th>\n      <th>7</th>\n      <th>8</th>\n      <th>9</th>\n      <th>...</th>\n      <th>502</th>\n      <th>503</th>\n      <th>504</th>\n      <th>505</th>\n      <th>506</th>\n      <th>507</th>\n      <th>508</th>\n      <th>509</th>\n      <th>510</th>\n      <th>511</th>\n    </tr>\n  </thead>\n  <tbody>\n    <tr>\n      <th>0</th>\n      <td>-0.001561</td>\n      <td>0.159091</td>\n      <td>-0.326709</td>\n      <td>-0.226603</td>\n      <td>-0.097365</td>\n      <td>0.204614</td>\n      <td>-0.142634</td>\n      <td>0.208764</td>\n      <td>0.469837</td>\n      <td>0.069866</td>\n      <td>...</td>\n      <td>0.111356</td>\n      <td>0.410457</td>\n      <td>-0.024682</td>\n      <td>0.178265</td>\n      <td>-0.357340</td>\n      <td>-0.073279</td>\n      <td>0.190458</td>\n      <td>-0.060786</td>\n      <td>0.364546</td>\n      <td>0.824516</td>\n    </tr>\n    <tr>\n      <th>1</th>\n      <td>0.229466</td>\n      <td>-0.186505</td>\n      <td>-0.329016</td>\n      <td>-0.650666</td>\n      <td>0.115301</td>\n      <td>0.149208</td>\n      <td>0.065496</td>\n      <td>0.191487</td>\n      <td>0.428920</td>\n      <td>-0.016147</td>\n      <td>...</td>\n      <td>0.135340</td>\n      <td>0.195697</td>\n      <td>0.171068</td>\n      <td>0.037157</td>\n      <td>0.049534</td>\n      <td>-0.224402</td>\n      <td>0.225593</td>\n      <td>0.180314</td>\n      <td>0.073213</td>\n      <td>0.500426</td>\n    </tr>\n  </tbody>\n</table>\n<p>2 rows × 512 columns</p>\n</div>"
     },
     "execution_count": 404,
     "metadata": {},
     "output_type": "execute_result"
    }
   ]
  },
  {
   "cell_type": "code",
   "source": [
    "labels = df[df.columns[-1]]"
   ],
   "metadata": {
    "collapsed": false,
    "ExecuteTime": {
     "start_time": "2023-08-20T10:26:57.506047Z",
     "end_time": "2023-08-20T10:26:57.600354Z"
    },
    "jupyter": {
     "outputs_hidden": false
    },
    "execution": {
     "iopub.status.busy": "2023-08-17T07:16:58.933583Z",
     "iopub.execute_input": "2023-08-17T07:16:58.937799Z",
     "iopub.status.idle": "2023-08-17T07:16:58.950565Z",
     "shell.execute_reply.started": "2023-08-17T07:16:58.937760Z",
     "shell.execute_reply": "2023-08-17T07:16:58.949510Z"
    },
    "trusted": true
   },
   "execution_count": 405,
   "outputs": []
  },
  {
   "cell_type": "code",
   "source": [
    "print(labels.unique()[:10])"
   ],
   "metadata": {
    "collapsed": false,
    "ExecuteTime": {
     "start_time": "2023-08-20T10:26:57.516393Z",
     "end_time": "2023-08-20T10:26:57.608349Z"
    },
    "jupyter": {
     "outputs_hidden": false
    },
    "execution": {
     "iopub.status.busy": "2023-08-17T07:16:58.955437Z",
     "iopub.execute_input": "2023-08-17T07:16:58.957825Z",
     "iopub.status.idle": "2023-08-17T07:16:58.974407Z",
     "shell.execute_reply.started": "2023-08-17T07:16:58.957788Z",
     "shell.execute_reply": "2023-08-17T07:16:58.973248Z"
    },
    "trusted": true
   },
   "execution_count": 406,
   "outputs": [
    {
     "name": "stdout",
     "output_type": "stream",
     "text": [
      "['Acura_MDX' 'Alfa Romeo_Giulietta' 'Audi_100' 'Audi_80' 'Audi_A1'\n",
      " 'Audi_A3' 'Audi_A4' 'Audi_A5' 'Audi_A6' 'Audi_A7']\n"
     ]
    }
   ]
  },
  {
   "cell_type": "code",
   "source": [
    "config.num_of_classes = labels.nunique()"
   ],
   "metadata": {
    "execution": {
     "iopub.status.busy": "2023-08-17T07:16:58.975570Z",
     "iopub.execute_input": "2023-08-17T07:16:58.975874Z",
     "iopub.status.idle": "2023-08-17T07:16:58.985886Z",
     "shell.execute_reply.started": "2023-08-17T07:16:58.975842Z",
     "shell.execute_reply": "2023-08-17T07:16:58.984983Z"
    },
    "trusted": true,
    "ExecuteTime": {
     "start_time": "2023-08-20T10:26:57.530008Z",
     "end_time": "2023-08-20T10:26:57.621359Z"
    }
   },
   "execution_count": 407,
   "outputs": []
  },
  {
   "cell_type": "markdown",
   "source": [
    "Now we apply One Hot Encoding"
   ],
   "metadata": {}
  },
  {
   "cell_type": "code",
   "source": [
    "def apply_label_encoding(labels: t.Union[pd.Series, np.array],\n",
    "                         encoder_name: os.path,\n",
    "                         action='encode',\n",
    "     ):\n",
    "    \"\"\"\n",
    "    One Hot encoding. We apply encoding by replacing the label column in dataframe.\n",
    "    As for decoding data back, we work with vector-array (as it's most likely to\n",
    "    be a prediction result)\n",
    "    \"\"\"\n",
    "    encoder = LabelEncoder()\n",
    "    if action == 'encode':\n",
    "        # We transform dataframe here. Nothing returns\n",
    "        # data = data.with_columns(pl.DataFrame(encoder.fit_transform(data[column]), schema=['label']))\n",
    "        encoder_name = f\"{encoder_name}_LEncoder.pkl\"\n",
    "        if encoder_name in os.listdir():\n",
    "            with open(encoder_name, \"rb\") as fp:\n",
    "                encoder: LabelEncoder = joblib.load(fp)\n",
    "            labels = encoder.transform(labels)\n",
    "            print_highlighted(\"Encoded with existing encoder.\")\n",
    "        else:\n",
    "            labels = encoder.fit_transform(labels)\n",
    "            with open(encoder_name, \"wb\") as fp:\n",
    "                joblib.dump(encoder, fp)\n",
    "        return labels\n",
    "    elif action == 'decode':\n",
    "        # We pass vector here. Result is a vector\n",
    "        with open(f\"{encoder_name}_LEncoder.pkl\", \"rb\") as fp:\n",
    "            encoder: LabelEncoder = joblib.load(fp)\n",
    "        return encoder.inverse_transform(labels)"
   ],
   "metadata": {
    "collapsed": false,
    "ExecuteTime": {
     "start_time": "2023-08-20T10:26:57.545011Z",
     "end_time": "2023-08-20T10:26:57.621359Z"
    },
    "jupyter": {
     "outputs_hidden": false
    },
    "execution": {
     "iopub.status.busy": "2023-08-17T07:16:58.987545Z",
     "iopub.execute_input": "2023-08-17T07:16:58.988159Z",
     "iopub.status.idle": "2023-08-17T07:16:58.997030Z",
     "shell.execute_reply.started": "2023-08-17T07:16:58.988124Z",
     "shell.execute_reply": "2023-08-17T07:16:58.996053Z"
    },
    "trusted": true
   },
   "execution_count": 408,
   "outputs": []
  },
  {
   "cell_type": "code",
   "source": [
    "labels = pd.DataFrame(apply_label_encoding(labels, action='encode', encoder_name=\"embeddings_labels\"), columns=['label'])\n",
    "print(np.unique(labels)[:10])"
   ],
   "metadata": {
    "collapsed": false,
    "ExecuteTime": {
     "start_time": "2023-08-20T10:26:57.553864Z",
     "end_time": "2023-08-20T10:26:57.740790Z"
    },
    "jupyter": {
     "outputs_hidden": false
    },
    "execution": {
     "iopub.status.busy": "2023-08-17T07:16:58.998417Z",
     "iopub.execute_input": "2023-08-17T07:16:58.999152Z",
     "iopub.status.idle": "2023-08-17T07:16:59.031959Z",
     "shell.execute_reply.started": "2023-08-17T07:16:58.999119Z",
     "shell.execute_reply": "2023-08-17T07:16:59.031103Z"
    },
    "trusted": true
   },
   "execution_count": 409,
   "outputs": [
    {
     "name": "stdout",
     "output_type": "stream",
     "text": [
      "\u001B[43mEncoded with existing encoder.\u001B[0m\n",
      "[0 1 2 3 4 5 6 7 8 9]\n"
     ]
    }
   ]
  },
  {
   "cell_type": "code",
   "source": [
    "apply_label_encoding(labels, action='decode', encoder_name=\"embeddings_labels\")"
   ],
   "metadata": {
    "collapsed": false,
    "ExecuteTime": {
     "start_time": "2023-08-20T10:26:57.575258Z",
     "end_time": "2023-08-20T10:26:57.777630Z"
    },
    "jupyter": {
     "outputs_hidden": false
    },
    "execution": {
     "iopub.status.busy": "2023-08-17T07:16:59.033209Z",
     "iopub.execute_input": "2023-08-17T07:16:59.033719Z",
     "iopub.status.idle": "2023-08-17T07:16:59.048020Z",
     "shell.execute_reply.started": "2023-08-17T07:16:59.033688Z",
     "shell.execute_reply": "2023-08-17T07:16:59.047152Z"
    },
    "trusted": true
   },
   "execution_count": 410,
   "outputs": [
    {
     "data": {
      "text/plain": "array(['Acura_MDX', 'Acura_MDX', 'Acura_MDX', ..., 'ZIL_5301_Bychok',\n       'ZIL_5301_Bychok', 'ZIL_5301_Bychok'], dtype=object)"
     },
     "execution_count": 410,
     "metadata": {},
     "output_type": "execute_result"
    }
   ]
  },
  {
   "cell_type": "markdown",
   "source": [
    "## Pytorch Dataset to run model on"
   ],
   "metadata": {}
  },
  {
   "cell_type": "code",
   "source": [
    "from sklearn.model_selection import train_test_split"
   ],
   "metadata": {
    "collapsed": false,
    "ExecuteTime": {
     "start_time": "2023-08-20T10:26:57.588673Z",
     "end_time": "2023-08-20T10:26:57.777630Z"
    },
    "jupyter": {
     "outputs_hidden": false
    },
    "execution": {
     "iopub.status.busy": "2023-08-17T07:16:59.068374Z",
     "iopub.execute_input": "2023-08-17T07:16:59.069151Z",
     "iopub.status.idle": "2023-08-17T07:16:59.078543Z",
     "shell.execute_reply.started": "2023-08-17T07:16:59.069113Z",
     "shell.execute_reply": "2023-08-17T07:16:59.077486Z"
    },
    "trusted": true
   },
   "execution_count": 411,
   "outputs": []
  },
  {
   "cell_type": "code",
   "source": [
    "shuffle_ratio = 21790/24564\n",
    "train_embeddings_bag, test_embeddings_bag, train_labels, test_labels = train_test_split(embeddings_bag, labels, random_state=config.seed, train_size=shuffle_ratio, shuffle=False)"
   ],
   "metadata": {
    "collapsed": false,
    "ExecuteTime": {
     "start_time": "2023-08-20T10:26:57.599357Z",
     "end_time": "2023-08-20T10:26:57.836744Z"
    },
    "jupyter": {
     "outputs_hidden": false
    },
    "execution": {
     "iopub.status.busy": "2023-08-17T07:16:59.079917Z",
     "iopub.execute_input": "2023-08-17T07:16:59.080696Z",
     "iopub.status.idle": "2023-08-17T07:16:59.179418Z",
     "shell.execute_reply.started": "2023-08-17T07:16:59.080663Z",
     "shell.execute_reply": "2023-08-17T07:16:59.178373Z"
    },
    "trusted": true
   },
   "execution_count": 412,
   "outputs": []
  },
  {
   "cell_type": "code",
   "source": [
    "# If we shuffle the data, we need to reset indexes\n",
    "train_labels.reset_index(drop=True, inplace=True)\n",
    "test_labels.reset_index(drop=True, inplace=True)\n",
    "test_embeddings_bag.reset_index(drop=True, inplace=True)\n",
    "train_embeddings_bag.reset_index(drop=True, inplace=True)"
   ],
   "metadata": {
    "collapsed": false,
    "ExecuteTime": {
     "start_time": "2023-08-20T10:26:57.664741Z",
     "end_time": "2023-08-20T10:26:57.884747Z"
    },
    "jupyter": {
     "outputs_hidden": false
    },
    "execution": {
     "iopub.status.busy": "2023-08-17T07:16:59.186002Z",
     "iopub.execute_input": "2023-08-17T07:16:59.186652Z",
     "iopub.status.idle": "2023-08-17T07:16:59.194051Z",
     "shell.execute_reply.started": "2023-08-17T07:16:59.186614Z",
     "shell.execute_reply": "2023-08-17T07:16:59.192949Z"
    },
    "trusted": true
   },
   "execution_count": 413,
   "outputs": []
  },
  {
   "cell_type": "markdown",
   "source": [
    "## Feedforward model to process embeddings pairs"
   ],
   "metadata": {}
  },
  {
   "cell_type": "markdown",
   "source": [
    "That's the schema of our network"
   ],
   "metadata": {
    "collapsed": false
   }
  },
  {
   "cell_type": "code",
   "source": [
    "class SiameseNetwork(nn.Module):\n",
    "    def __init__(self, embedding_size):\n",
    "        super().__init__()\n",
    "\n",
    "        self.fc = nn.Sequential(\n",
    "            nn.Linear(in_features=embedding_size, out_features=1024),\n",
    "            nn.ReLU(),\n",
    "            nn.Linear(in_features=1024, out_features=1024),\n",
    "            nn.ReLU(),\n",
    "            nn.Dropout(p=0.3, inplace=False),\n",
    "            nn.Linear(in_features=1024, out_features=1),\n",
    "            nn.Sigmoid()\n",
    "        )\n",
    "\n",
    "    def forward(self, x1, x2):\n",
    "        square = (x1 - x2)**2\n",
    "        square = square.to(torch.float32)\n",
    "        # Pass the inputs through fully connected layers\n",
    "        output = self.fc(square)\n",
    "        return output"
   ],
   "metadata": {
    "collapsed": false,
    "jupyter": {
     "outputs_hidden": false
    },
    "execution": {
     "iopub.status.busy": "2023-08-17T07:16:59.218805Z",
     "iopub.execute_input": "2023-08-17T07:16:59.219865Z",
     "iopub.status.idle": "2023-08-17T07:16:59.230192Z",
     "shell.execute_reply.started": "2023-08-17T07:16:59.219830Z",
     "shell.execute_reply": "2023-08-17T07:16:59.229207Z"
    },
    "trusted": true,
    "ExecuteTime": {
     "start_time": "2023-08-20T10:26:57.674762Z",
     "end_time": "2023-08-20T10:26:57.885740Z"
    }
   },
   "execution_count": 414,
   "outputs": []
  },
  {
   "cell_type": "code",
   "source": [
    "# But we will use trained and saved model\n",
    "# perceptron_model = SiameseNetwork(config.embedding_size)"
   ],
   "metadata": {
    "collapsed": false,
    "jupyter": {
     "outputs_hidden": false
    },
    "execution": {
     "iopub.status.busy": "2023-08-17T07:16:59.231726Z",
     "iopub.execute_input": "2023-08-17T07:16:59.232498Z",
     "iopub.status.idle": "2023-08-17T07:16:59.277423Z",
     "shell.execute_reply.started": "2023-08-17T07:16:59.232463Z",
     "shell.execute_reply": "2023-08-17T07:16:59.275732Z"
    },
    "trusted": true,
    "ExecuteTime": {
     "start_time": "2023-08-20T10:26:57.693220Z",
     "end_time": "2023-08-20T10:26:57.890745Z"
    }
   },
   "execution_count": 415,
   "outputs": []
  },
  {
   "cell_type": "code",
   "source": [
    "try:\n",
    "    # Load weights from previously trained\n",
    "    perceptron_model = torch.load(config.mlp_model_path, map_location=torch.device('cpu'))\n",
    "except FileNotFoundError:\n",
    "    print(\"No trained model found.\")"
   ],
   "metadata": {
    "execution": {
     "iopub.status.busy": "2023-08-17T07:17:42.826029Z",
     "iopub.execute_input": "2023-08-17T07:17:42.826414Z",
     "iopub.status.idle": "2023-08-17T07:17:42.841574Z",
     "shell.execute_reply.started": "2023-08-17T07:17:42.826385Z",
     "shell.execute_reply": "2023-08-17T07:17:42.839630Z"
    },
    "trusted": true,
    "ExecuteTime": {
     "start_time": "2023-08-20T10:26:57.702243Z",
     "end_time": "2023-08-20T10:26:57.890745Z"
    }
   },
   "execution_count": 416,
   "outputs": []
  },
  {
   "cell_type": "markdown",
   "source": [
    "### Device"
   ],
   "metadata": {
    "collapsed": false
   }
  },
  {
   "cell_type": "code",
   "execution_count": 417,
   "outputs": [],
   "source": [
    "device = torch.device(\"cuda\" if torch.cuda.is_available() else \"cpu\")\n",
    "perceptron_model = perceptron_model.to(device)\n",
    "torch.cuda.empty_cache()"
   ],
   "metadata": {
    "collapsed": false,
    "ExecuteTime": {
     "start_time": "2023-08-20T10:26:57.740790Z",
     "end_time": "2023-08-20T10:26:57.893742Z"
    }
   }
  },
  {
   "cell_type": "markdown",
   "source": [
    "## Label prediction based of K Nearest"
   ],
   "metadata": {
    "collapsed": false
   }
  },
  {
   "cell_type": "markdown",
   "source": [
    "## How values match among nearest neighbors"
   ],
   "metadata": {
    "collapsed": false
   }
  },
  {
   "cell_type": "code",
   "execution_count": 418,
   "outputs": [],
   "source": [
    "from sklearn.neighbors import NearestNeighbors"
   ],
   "metadata": {
    "collapsed": false,
    "ExecuteTime": {
     "start_time": "2023-08-20T10:26:57.748328Z",
     "end_time": "2023-08-20T10:26:57.893742Z"
    }
   }
  },
  {
   "cell_type": "code",
   "execution_count": 419,
   "outputs": [],
   "source": [
    "neigh = NearestNeighbors(n_neighbors=13, metric='cosine')"
   ],
   "metadata": {
    "collapsed": false,
    "ExecuteTime": {
     "start_time": "2023-08-20T10:26:57.758503Z",
     "end_time": "2023-08-20T10:26:57.894739Z"
    }
   }
  },
  {
   "cell_type": "markdown",
   "source": [
    "We train Neighbors model on `train_embeddings_bag`, so the model will predict the indexes related with **that** array."
   ],
   "metadata": {
    "collapsed": false
   }
  },
  {
   "cell_type": "code",
   "execution_count": 420,
   "outputs": [
    {
     "data": {
      "text/plain": "NearestNeighbors(metric='cosine', n_neighbors=13)",
      "text/html": "<style>#sk-container-id-9 {color: black;}#sk-container-id-9 pre{padding: 0;}#sk-container-id-9 div.sk-toggleable {background-color: white;}#sk-container-id-9 label.sk-toggleable__label {cursor: pointer;display: block;width: 100%;margin-bottom: 0;padding: 0.3em;box-sizing: border-box;text-align: center;}#sk-container-id-9 label.sk-toggleable__label-arrow:before {content: \"▸\";float: left;margin-right: 0.25em;color: #696969;}#sk-container-id-9 label.sk-toggleable__label-arrow:hover:before {color: black;}#sk-container-id-9 div.sk-estimator:hover label.sk-toggleable__label-arrow:before {color: black;}#sk-container-id-9 div.sk-toggleable__content {max-height: 0;max-width: 0;overflow: hidden;text-align: left;background-color: #f0f8ff;}#sk-container-id-9 div.sk-toggleable__content pre {margin: 0.2em;color: black;border-radius: 0.25em;background-color: #f0f8ff;}#sk-container-id-9 input.sk-toggleable__control:checked~div.sk-toggleable__content {max-height: 200px;max-width: 100%;overflow: auto;}#sk-container-id-9 input.sk-toggleable__control:checked~label.sk-toggleable__label-arrow:before {content: \"▾\";}#sk-container-id-9 div.sk-estimator input.sk-toggleable__control:checked~label.sk-toggleable__label {background-color: #d4ebff;}#sk-container-id-9 div.sk-label input.sk-toggleable__control:checked~label.sk-toggleable__label {background-color: #d4ebff;}#sk-container-id-9 input.sk-hidden--visually {border: 0;clip: rect(1px 1px 1px 1px);clip: rect(1px, 1px, 1px, 1px);height: 1px;margin: -1px;overflow: hidden;padding: 0;position: absolute;width: 1px;}#sk-container-id-9 div.sk-estimator {font-family: monospace;background-color: #f0f8ff;border: 1px dotted black;border-radius: 0.25em;box-sizing: border-box;margin-bottom: 0.5em;}#sk-container-id-9 div.sk-estimator:hover {background-color: #d4ebff;}#sk-container-id-9 div.sk-parallel-item::after {content: \"\";width: 100%;border-bottom: 1px solid gray;flex-grow: 1;}#sk-container-id-9 div.sk-label:hover label.sk-toggleable__label {background-color: #d4ebff;}#sk-container-id-9 div.sk-serial::before {content: \"\";position: absolute;border-left: 1px solid gray;box-sizing: border-box;top: 0;bottom: 0;left: 50%;z-index: 0;}#sk-container-id-9 div.sk-serial {display: flex;flex-direction: column;align-items: center;background-color: white;padding-right: 0.2em;padding-left: 0.2em;position: relative;}#sk-container-id-9 div.sk-item {position: relative;z-index: 1;}#sk-container-id-9 div.sk-parallel {display: flex;align-items: stretch;justify-content: center;background-color: white;position: relative;}#sk-container-id-9 div.sk-item::before, #sk-container-id-9 div.sk-parallel-item::before {content: \"\";position: absolute;border-left: 1px solid gray;box-sizing: border-box;top: 0;bottom: 0;left: 50%;z-index: -1;}#sk-container-id-9 div.sk-parallel-item {display: flex;flex-direction: column;z-index: 1;position: relative;background-color: white;}#sk-container-id-9 div.sk-parallel-item:first-child::after {align-self: flex-end;width: 50%;}#sk-container-id-9 div.sk-parallel-item:last-child::after {align-self: flex-start;width: 50%;}#sk-container-id-9 div.sk-parallel-item:only-child::after {width: 0;}#sk-container-id-9 div.sk-dashed-wrapped {border: 1px dashed gray;margin: 0 0.4em 0.5em 0.4em;box-sizing: border-box;padding-bottom: 0.4em;background-color: white;}#sk-container-id-9 div.sk-label label {font-family: monospace;font-weight: bold;display: inline-block;line-height: 1.2em;}#sk-container-id-9 div.sk-label-container {text-align: center;}#sk-container-id-9 div.sk-container {/* jupyter's `normalize.less` sets `[hidden] { display: none; }` but bootstrap.min.css set `[hidden] { display: none !important; }` so we also need the `!important` here to be able to override the default hidden behavior on the sphinx rendered scikit-learn.org. See: https://github.com/scikit-learn/scikit-learn/issues/21755 */display: inline-block !important;position: relative;}#sk-container-id-9 div.sk-text-repr-fallback {display: none;}</style><div id=\"sk-container-id-9\" class=\"sk-top-container\"><div class=\"sk-text-repr-fallback\"><pre>NearestNeighbors(metric=&#x27;cosine&#x27;, n_neighbors=13)</pre><b>In a Jupyter environment, please rerun this cell to show the HTML representation or trust the notebook. <br />On GitHub, the HTML representation is unable to render, please try loading this page with nbviewer.org.</b></div><div class=\"sk-container\" hidden><div class=\"sk-item\"><div class=\"sk-estimator sk-toggleable\"><input class=\"sk-toggleable__control sk-hidden--visually\" id=\"sk-estimator-id-9\" type=\"checkbox\" checked><label for=\"sk-estimator-id-9\" class=\"sk-toggleable__label sk-toggleable__label-arrow\">NearestNeighbors</label><div class=\"sk-toggleable__content\"><pre>NearestNeighbors(metric=&#x27;cosine&#x27;, n_neighbors=13)</pre></div></div></div></div></div>"
     },
     "execution_count": 420,
     "metadata": {},
     "output_type": "execute_result"
    }
   ],
   "source": [
    "neigh.fit(train_embeddings_bag.to_numpy())"
   ],
   "metadata": {
    "collapsed": false,
    "ExecuteTime": {
     "start_time": "2023-08-20T10:26:57.766612Z",
     "end_time": "2023-08-20T10:26:58.237744Z"
    }
   }
  },
  {
   "cell_type": "code",
   "execution_count": 421,
   "outputs": [],
   "source": [
    "found_nearest = neigh.kneighbors(test_embeddings_bag, return_distance=False)"
   ],
   "metadata": {
    "collapsed": false,
    "ExecuteTime": {
     "start_time": "2023-08-20T10:26:57.850749Z",
     "end_time": "2023-08-20T10:27:00.955033Z"
    }
   }
  },
  {
   "cell_type": "code",
   "execution_count": 422,
   "outputs": [
    {
     "name": "stderr",
     "output_type": "stream",
     "text": [
      "Processing: 100%|██████████| 2774/2774 [00:00<00:00, 3399.56row/s]\n"
     ]
    }
   ],
   "source": [
    "def get_dataset_with_nearest(array_of_nearest: np.array):\n",
    "    neighbors = []\n",
    "    with tqdm(array_of_nearest, desc=\"Processing\",unit=\"row\") as process:\n",
    "        for row_of_nearest in process:\n",
    "            labels_of_closest = []\n",
    "            for nearest_label in row_of_nearest:\n",
    "                labels_of_closest.append(labels.iat[nearest_label, 0])  # Get scalar from current row and first column\n",
    "            neighbors.append(labels_of_closest)\n",
    "    label_array = pd.DataFrame(neighbors)\n",
    "    return label_array\n",
    "\n",
    "neighbors_labels = get_dataset_with_nearest(found_nearest)"
   ],
   "metadata": {
    "collapsed": false,
    "ExecuteTime": {
     "start_time": "2023-08-20T10:27:00.957038Z",
     "end_time": "2023-08-20T10:27:02.077800Z"
    }
   }
  },
  {
   "cell_type": "code",
   "execution_count": 423,
   "outputs": [
    {
     "name": "stdout",
     "output_type": "stream",
     "text": [
      "    0    1    2    3    4    5    6    7    8    9    10   11   12\n",
      "0    0  408  279  280  582  423  279  593    5  194  465  226  143\n",
      "1  138    0  131  229  138  138  131  229  350  350    5    5  350\n",
      "2    0    0    0    0  176  176  176  176    0    0  356  176  176\n",
      "3    1    1    1    1    1    1    1  192  192  481    1  115  192\n",
      "4    1    1    1  287  287  528    1    1  481    1  225  483   21\n"
     ]
    }
   ],
   "source": [
    "print(neighbors_labels.head())"
   ],
   "metadata": {
    "collapsed": false,
    "ExecuteTime": {
     "start_time": "2023-08-20T10:27:02.081669Z",
     "end_time": "2023-08-20T10:27:02.092684Z"
    }
   }
  },
  {
   "cell_type": "code",
   "execution_count": 424,
   "outputs": [
    {
     "data": {
      "text/plain": "0     756\n1     752\n2     750\n3     747\n4     749\n5     741\n6     731\n7     736\n8     724\n9     718\n10    718\n11    716\n12    718\ndtype: int64"
     },
     "execution_count": 424,
     "metadata": {},
     "output_type": "execute_result"
    }
   ],
   "source": [
    "neighbors_labels.nunique()"
   ],
   "metadata": {
    "collapsed": false,
    "ExecuteTime": {
     "start_time": "2023-08-20T10:27:02.089685Z",
     "end_time": "2023-08-20T10:27:02.104040Z"
    }
   }
  },
  {
   "cell_type": "markdown",
   "source": [
    "All labels are covered."
   ],
   "metadata": {
    "collapsed": false
   }
  },
  {
   "cell_type": "markdown",
   "source": [
    "Now we will check how do the neighbors labels match to each other."
   ],
   "metadata": {
    "collapsed": false
   }
  },
  {
   "cell_type": "code",
   "execution_count": 425,
   "outputs": [],
   "source": [
    "def all_values_same(row):\n",
    "    return all(row == row[0])"
   ],
   "metadata": {
    "collapsed": false,
    "ExecuteTime": {
     "start_time": "2023-08-20T10:27:02.105043Z",
     "end_time": "2023-08-20T10:27:02.149272Z"
    }
   }
  },
  {
   "cell_type": "code",
   "execution_count": 426,
   "outputs": [],
   "source": [
    "def some_values_same(row, number_of_same=3):\n",
    "    unique_numbers = set(row)\n",
    "    all_numbers = list(row)\n",
    "    [all_numbers.remove(u) for u in unique_numbers]\n",
    "    # Now we can select any number - list contains only numbers that represent the majority.\n",
    "    try:\n",
    "        value_to_compare = all_numbers[0]\n",
    "    except IndexError:\n",
    "        value_to_compare = row[0]\n",
    "\n",
    "    return ((row == value_to_compare).sum() >= number_of_same)"
   ],
   "metadata": {
    "collapsed": false,
    "ExecuteTime": {
     "start_time": "2023-08-20T10:27:02.116041Z",
     "end_time": "2023-08-20T10:27:02.149272Z"
    }
   }
  },
  {
   "cell_type": "code",
   "execution_count": 427,
   "outputs": [],
   "source": [
    "neighbors_labels['are_labels_same'] = neighbors_labels.apply(all_values_same, axis=1)"
   ],
   "metadata": {
    "collapsed": false,
    "ExecuteTime": {
     "start_time": "2023-08-20T10:27:02.125286Z",
     "end_time": "2023-08-20T10:27:02.393532Z"
    }
   }
  },
  {
   "cell_type": "code",
   "execution_count": 428,
   "outputs": [],
   "source": [
    "neighbors_labels['three_are_same'] = neighbors_labels.loc[:, neighbors_labels.columns[:-1]].apply(some_values_same, axis=1)"
   ],
   "metadata": {
    "collapsed": false,
    "ExecuteTime": {
     "start_time": "2023-08-20T10:27:02.395532Z",
     "end_time": "2023-08-20T10:27:02.798016Z"
    }
   }
  },
  {
   "cell_type": "markdown",
   "source": [
    "Let's check how good our Neighbors model works"
   ],
   "metadata": {
    "collapsed": false
   }
  },
  {
   "cell_type": "code",
   "execution_count": 429,
   "outputs": [
    {
     "data": {
      "text/plain": "        0    1    2    3    4    5    6    7    8    9   10   11   12  \\\n0       0  408  279  280  582  423  279  593    5  194  465  226  143   \n1     138    0  131  229  138  138  131  229  350  350    5    5  350   \n2       0    0    0    0  176  176  176  176    0    0  356  176  176   \n3       1    1    1    1    1    1    1  192  192  481    1  115  192   \n4       1    1    1  287  287  528    1    1  481    1  225  483   21   \n...   ...  ...  ...  ...  ...  ...  ...  ...  ...  ...  ...  ...  ...   \n2769  758  758  151  758  758  757  151  151  755  757  152  151  151   \n2770  758  758  758  758  758  758  758  758  758  758  758  758  758   \n2771  759  759  759  759  759  759  759  759  759  759  759  759  759   \n2772  759  160  759  154  160  160  154  160  160  160  152  677  296   \n2773  759  759  438  663  343  343  343  343  343  343  343  343  759   \n\n      are_labels_same  three_are_same  \n0               False           False  \n1               False            True  \n2               False            True  \n3               False            True  \n4               False            True  \n...               ...             ...  \n2769            False            True  \n2770             True            True  \n2771             True            True  \n2772            False           False  \n2773            False            True  \n\n[2774 rows x 15 columns]",
      "text/html": "<div>\n<style scoped>\n    .dataframe tbody tr th:only-of-type {\n        vertical-align: middle;\n    }\n\n    .dataframe tbody tr th {\n        vertical-align: top;\n    }\n\n    .dataframe thead th {\n        text-align: right;\n    }\n</style>\n<table border=\"1\" class=\"dataframe\">\n  <thead>\n    <tr style=\"text-align: right;\">\n      <th></th>\n      <th>0</th>\n      <th>1</th>\n      <th>2</th>\n      <th>3</th>\n      <th>4</th>\n      <th>5</th>\n      <th>6</th>\n      <th>7</th>\n      <th>8</th>\n      <th>9</th>\n      <th>10</th>\n      <th>11</th>\n      <th>12</th>\n      <th>are_labels_same</th>\n      <th>three_are_same</th>\n    </tr>\n  </thead>\n  <tbody>\n    <tr>\n      <th>0</th>\n      <td>0</td>\n      <td>408</td>\n      <td>279</td>\n      <td>280</td>\n      <td>582</td>\n      <td>423</td>\n      <td>279</td>\n      <td>593</td>\n      <td>5</td>\n      <td>194</td>\n      <td>465</td>\n      <td>226</td>\n      <td>143</td>\n      <td>False</td>\n      <td>False</td>\n    </tr>\n    <tr>\n      <th>1</th>\n      <td>138</td>\n      <td>0</td>\n      <td>131</td>\n      <td>229</td>\n      <td>138</td>\n      <td>138</td>\n      <td>131</td>\n      <td>229</td>\n      <td>350</td>\n      <td>350</td>\n      <td>5</td>\n      <td>5</td>\n      <td>350</td>\n      <td>False</td>\n      <td>True</td>\n    </tr>\n    <tr>\n      <th>2</th>\n      <td>0</td>\n      <td>0</td>\n      <td>0</td>\n      <td>0</td>\n      <td>176</td>\n      <td>176</td>\n      <td>176</td>\n      <td>176</td>\n      <td>0</td>\n      <td>0</td>\n      <td>356</td>\n      <td>176</td>\n      <td>176</td>\n      <td>False</td>\n      <td>True</td>\n    </tr>\n    <tr>\n      <th>3</th>\n      <td>1</td>\n      <td>1</td>\n      <td>1</td>\n      <td>1</td>\n      <td>1</td>\n      <td>1</td>\n      <td>1</td>\n      <td>192</td>\n      <td>192</td>\n      <td>481</td>\n      <td>1</td>\n      <td>115</td>\n      <td>192</td>\n      <td>False</td>\n      <td>True</td>\n    </tr>\n    <tr>\n      <th>4</th>\n      <td>1</td>\n      <td>1</td>\n      <td>1</td>\n      <td>287</td>\n      <td>287</td>\n      <td>528</td>\n      <td>1</td>\n      <td>1</td>\n      <td>481</td>\n      <td>1</td>\n      <td>225</td>\n      <td>483</td>\n      <td>21</td>\n      <td>False</td>\n      <td>True</td>\n    </tr>\n    <tr>\n      <th>...</th>\n      <td>...</td>\n      <td>...</td>\n      <td>...</td>\n      <td>...</td>\n      <td>...</td>\n      <td>...</td>\n      <td>...</td>\n      <td>...</td>\n      <td>...</td>\n      <td>...</td>\n      <td>...</td>\n      <td>...</td>\n      <td>...</td>\n      <td>...</td>\n      <td>...</td>\n    </tr>\n    <tr>\n      <th>2769</th>\n      <td>758</td>\n      <td>758</td>\n      <td>151</td>\n      <td>758</td>\n      <td>758</td>\n      <td>757</td>\n      <td>151</td>\n      <td>151</td>\n      <td>755</td>\n      <td>757</td>\n      <td>152</td>\n      <td>151</td>\n      <td>151</td>\n      <td>False</td>\n      <td>True</td>\n    </tr>\n    <tr>\n      <th>2770</th>\n      <td>758</td>\n      <td>758</td>\n      <td>758</td>\n      <td>758</td>\n      <td>758</td>\n      <td>758</td>\n      <td>758</td>\n      <td>758</td>\n      <td>758</td>\n      <td>758</td>\n      <td>758</td>\n      <td>758</td>\n      <td>758</td>\n      <td>True</td>\n      <td>True</td>\n    </tr>\n    <tr>\n      <th>2771</th>\n      <td>759</td>\n      <td>759</td>\n      <td>759</td>\n      <td>759</td>\n      <td>759</td>\n      <td>759</td>\n      <td>759</td>\n      <td>759</td>\n      <td>759</td>\n      <td>759</td>\n      <td>759</td>\n      <td>759</td>\n      <td>759</td>\n      <td>True</td>\n      <td>True</td>\n    </tr>\n    <tr>\n      <th>2772</th>\n      <td>759</td>\n      <td>160</td>\n      <td>759</td>\n      <td>154</td>\n      <td>160</td>\n      <td>160</td>\n      <td>154</td>\n      <td>160</td>\n      <td>160</td>\n      <td>160</td>\n      <td>152</td>\n      <td>677</td>\n      <td>296</td>\n      <td>False</td>\n      <td>False</td>\n    </tr>\n    <tr>\n      <th>2773</th>\n      <td>759</td>\n      <td>759</td>\n      <td>438</td>\n      <td>663</td>\n      <td>343</td>\n      <td>343</td>\n      <td>343</td>\n      <td>343</td>\n      <td>343</td>\n      <td>343</td>\n      <td>343</td>\n      <td>343</td>\n      <td>759</td>\n      <td>False</td>\n      <td>True</td>\n    </tr>\n  </tbody>\n</table>\n<p>2774 rows × 15 columns</p>\n</div>"
     },
     "execution_count": 429,
     "metadata": {},
     "output_type": "execute_result"
    }
   ],
   "source": [
    "neighbors_labels"
   ],
   "metadata": {
    "collapsed": false,
    "ExecuteTime": {
     "start_time": "2023-08-20T10:27:02.798016Z",
     "end_time": "2023-08-20T10:27:02.822409Z"
    }
   }
  },
  {
   "cell_type": "code",
   "execution_count": 430,
   "outputs": [
    {
     "name": "stdout",
     "output_type": "stream",
     "text": [
      "In 18.925739005046864% of data classes have all same class in its' nearest vectors\n"
     ]
    }
   ],
   "source": [
    "print(f\"In {len(neighbors_labels[neighbors_labels['are_labels_same']]) / len(neighbors_labels) * 100}% of data classes have all same class in its' nearest vectors\")"
   ],
   "metadata": {
    "collapsed": false,
    "ExecuteTime": {
     "start_time": "2023-08-20T10:27:02.823418Z",
     "end_time": "2023-08-20T10:27:02.910010Z"
    }
   }
  },
  {
   "cell_type": "code",
   "execution_count": 431,
   "outputs": [
    {
     "name": "stdout",
     "output_type": "stream",
     "text": [
      "In 96.39509733237203% of data classes have at least 3 of same class in its' nearest vectors\n"
     ]
    }
   ],
   "source": [
    "print(f\"In {len(neighbors_labels[neighbors_labels['three_are_same']]) / len(neighbors_labels) * 100}% of data classes have at least 3 of same class in its' nearest vectors\")"
   ],
   "metadata": {
    "collapsed": false,
    "ExecuteTime": {
     "start_time": "2023-08-20T10:27:02.833489Z",
     "end_time": "2023-08-20T10:27:02.910010Z"
    }
   }
  },
  {
   "cell_type": "markdown",
   "source": [
    "So, when we have target object to predict label for, we can take some odd number of neighbors (e.g. $N=5$), and then do a Vote using majority label! It is enough to have at least $\\frac{N-1}{2}$ of same class to make a strong prediction. Let's see does it work at all."
   ],
   "metadata": {
    "collapsed": false
   }
  },
  {
   "cell_type": "code",
   "execution_count": 432,
   "outputs": [],
   "source": [
    "# embeddings_bag = embeddings_bag.to_numpy()\n",
    "# labels = labels.to_numpy()\n",
    "# labels = apply_label_encoding(labels, action='decode', encoder_name=\"embeddings_labels\")"
   ],
   "metadata": {
    "collapsed": false,
    "ExecuteTime": {
     "start_time": "2023-08-20T10:27:02.840897Z",
     "end_time": "2023-08-20T10:27:02.910010Z"
    }
   }
  },
  {
   "cell_type": "code",
   "execution_count": 433,
   "outputs": [],
   "source": [
    "from collections import Counter"
   ],
   "metadata": {
    "collapsed": false,
    "ExecuteTime": {
     "start_time": "2023-08-20T10:27:02.849651Z",
     "end_time": "2023-08-20T10:27:02.910010Z"
    }
   }
  },
  {
   "cell_type": "code",
   "execution_count": 434,
   "outputs": [],
   "source": [
    "def predict_with_nearest(all_nearest_indexes, target_labels, labels_of_train_data):\n",
    "\n",
    "    correct = 0\n",
    "    total = 0\n",
    "\n",
    "    for i, row in enumerate(tqdm(all_nearest_indexes)):\n",
    "        nearest_indexes = row\n",
    "        nearest_classes = [labels_of_train_data[n].item() for n in nearest_indexes]\n",
    "        counter = Counter(nearest_classes)\n",
    "        predicted_class = counter.most_common(1)[0][0]\n",
    "\n",
    "        target_label = target_labels[i]  # Actual class\n",
    "        correct += int(target_label == predicted_class)\n",
    "        total += 1\n",
    "    print_highlighted(f\"Accuracy is: {correct/total}\")\n"
   ],
   "metadata": {
    "collapsed": false,
    "ExecuteTime": {
     "start_time": "2023-08-20T10:27:02.860216Z",
     "end_time": "2023-08-20T10:27:02.956010Z"
    }
   }
  },
  {
   "cell_type": "code",
   "execution_count": 435,
   "outputs": [],
   "source": [
    "# Here we get an array of size B x N, where B is a batch size we want to test at once; N is a number of neighbors (we will take all test dataset)\n",
    "bag_of_nearest = neigh.kneighbors(test_embeddings_bag, return_distance=False)"
   ],
   "metadata": {
    "collapsed": false,
    "ExecuteTime": {
     "start_time": "2023-08-20T10:27:02.869014Z",
     "end_time": "2023-08-20T10:27:05.712994Z"
    }
   }
  },
  {
   "cell_type": "code",
   "execution_count": 436,
   "outputs": [
    {
     "name": "stderr",
     "output_type": "stream",
     "text": [
      "100%|██████████| 2774/2774 [00:00<00:00, 37995.18it/s]"
     ]
    },
    {
     "name": "stdout",
     "output_type": "stream",
     "text": [
      "\u001B[43mAccuracy is: 0.8276856524873828\u001B[0m\n"
     ]
    },
    {
     "name": "stderr",
     "output_type": "stream",
     "text": [
      "\n"
     ]
    }
   ],
   "source": [
    "predict_with_nearest(bag_of_nearest, test_labels.to_numpy(), train_labels.to_numpy(),)"
   ],
   "metadata": {
    "collapsed": false,
    "ExecuteTime": {
     "start_time": "2023-08-20T10:27:05.716995Z",
     "end_time": "2023-08-20T10:27:05.875059Z"
    }
   }
  },
  {
   "cell_type": "markdown",
   "source": [
    "That's a result on all embeddings, either familiar for our Backbone CNN model (MobileNet trained with Arcface) or not."
   ],
   "metadata": {
    "collapsed": false
   }
  },
  {
   "cell_type": "code",
   "execution_count": 437,
   "outputs": [],
   "source": [
    "del bag_of_nearest\n",
    "del neighbors_labels"
   ],
   "metadata": {
    "collapsed": false,
    "ExecuteTime": {
     "start_time": "2023-08-20T10:27:05.804385Z",
     "end_time": "2023-08-20T10:27:05.875059Z"
    }
   }
  },
  {
   "cell_type": "code",
   "execution_count": 437,
   "outputs": [],
   "source": [],
   "metadata": {
    "collapsed": false,
    "ExecuteTime": {
     "start_time": "2023-08-20T10:27:05.809408Z",
     "end_time": "2023-08-20T10:27:05.876055Z"
    }
   }
  },
  {
   "cell_type": "code",
   "execution_count": 437,
   "outputs": [],
   "source": [],
   "metadata": {
    "collapsed": false,
    "ExecuteTime": {
     "start_time": "2023-08-20T10:27:05.815697Z",
     "end_time": "2023-08-20T10:27:05.877058Z"
    }
   }
  },
  {
   "cell_type": "markdown",
   "source": [
    "Let's test our Model by prediction the similarity between objects that are nearest in the vector area. For that case we will use our NearestNeighbors trained algorithm."
   ],
   "metadata": {
    "collapsed": false
   }
  },
  {
   "cell_type": "markdown",
   "source": [
    "## Testing on real photos"
   ],
   "metadata": {
    "collapsed": false
   }
  },
  {
   "cell_type": "markdown",
   "source": [
    "We will upload our backbone model to get embeddings of test photos."
   ],
   "metadata": {
    "collapsed": false
   }
  },
  {
   "cell_type": "code",
   "execution_count": 437,
   "outputs": [],
   "source": [],
   "metadata": {
    "collapsed": false,
    "ExecuteTime": {
     "start_time": "2023-08-20T10:27:05.821976Z",
     "end_time": "2023-08-20T10:27:05.877058Z"
    }
   }
  },
  {
   "cell_type": "code",
   "execution_count": 438,
   "outputs": [],
   "source": [
    "config.embedding_model_path = 'saved_instances/ArcFace_mobilenet_v2.pth'"
   ],
   "metadata": {
    "collapsed": false,
    "ExecuteTime": {
     "start_time": "2023-08-20T10:27:05.830457Z",
     "end_time": "2023-08-20T10:27:05.877058Z"
    }
   }
  },
  {
   "cell_type": "code",
   "execution_count": 439,
   "outputs": [],
   "source": [
    "def get_input_feature_size(classifier: nn.Sequential) -> int:\n",
    "    for module in classifier.modules():\n",
    "        if isinstance(module, nn.Linear):\n",
    "            return module.in_features"
   ],
   "metadata": {
    "collapsed": false,
    "ExecuteTime": {
     "start_time": "2023-08-20T10:27:05.841627Z",
     "end_time": "2023-08-20T10:27:05.877058Z"
    }
   }
  },
  {
   "cell_type": "code",
   "execution_count": 440,
   "outputs": [],
   "source": [
    "def get_model(model_name='resnet18', from_path=None, pretrained=True,) -> torch.nn.Module:\n",
    "    \"\"\"\n",
    "        Multipurpose function to load the model. For our task we will use fully trained model. If you don't have such, you may\n",
    "    download any pretrained model cut last layer - you both `pretrained` and `get_embeddings` set to True.\n",
    "    :param model_name:\n",
    "    :param get_embeddings: whether to cut the classifier layer\n",
    "    :return:\n",
    "    \"\"\"\n",
    "    if from_path:\n",
    "        try:\n",
    "            model = torch.load(from_path, map_location=torch.device(\"cuda\" if torch.cuda.is_available() else \"cpu\"))\n",
    "            return model\n",
    "        except FileNotFoundError:\n",
    "            raise\n",
    "    elif model_name:\n",
    "        model = getattr(models, model_name) # We use builtin function\n",
    "        model = model(\n",
    "            weights=('DEFAULT' if pretrained else None)\n",
    "        )\n",
    "\n",
    "    model.classifier = nn.Sequential(\n",
    "        # nn.Dropout(p=0.3, inplace=True),\n",
    "        nn.Linear(in_features=get_input_feature_size(model.classifier),\n",
    "                  out_features=config.embedding_size, bias=True\n",
    "                  ),\n",
    "\n",
    "    )\n",
    "    return model"
   ],
   "metadata": {
    "collapsed": false,
    "ExecuteTime": {
     "start_time": "2023-08-20T10:27:05.847647Z",
     "end_time": "2023-08-20T10:27:05.879054Z"
    }
   }
  },
  {
   "cell_type": "code",
   "execution_count": 441,
   "outputs": [],
   "source": [
    "embedding_model = get_model(\n",
    "    from_path=config.embedding_model_path,\n",
    ")"
   ],
   "metadata": {
    "collapsed": false,
    "ExecuteTime": {
     "start_time": "2023-08-20T10:27:05.864062Z",
     "end_time": "2023-08-20T10:27:06.048067Z"
    }
   }
  },
  {
   "cell_type": "code",
   "execution_count": 441,
   "outputs": [],
   "source": [],
   "metadata": {
    "collapsed": false,
    "ExecuteTime": {
     "start_time": "2023-08-20T10:27:05.958271Z",
     "end_time": "2023-08-20T10:27:06.063608Z"
    }
   }
  },
  {
   "cell_type": "markdown",
   "source": [
    "# Evaluation"
   ],
   "metadata": {
    "collapsed": false
   }
  },
  {
   "cell_type": "code",
   "execution_count": 442,
   "outputs": [],
   "source": [
    "f1_score = MulticlassF1Score(num_classes=config.num_of_classes)\n",
    "f1_score = f1_score.to(device)"
   ],
   "metadata": {
    "collapsed": false,
    "ExecuteTime": {
     "start_time": "2023-08-20T10:27:05.963286Z",
     "end_time": "2023-08-20T10:27:06.063608Z"
    }
   }
  },
  {
   "cell_type": "markdown",
   "source": [
    "## Get embeddings online"
   ],
   "metadata": {
    "collapsed": false
   }
  },
  {
   "cell_type": "markdown",
   "source": [
    "Let's build a test dataset of images. Then, we will pass them through the backbone and try to predict a label. So, we will use everything: backbone CNN model, KNeighbors model, Binary Classifier model."
   ],
   "metadata": {
    "collapsed": false
   }
  },
  {
   "cell_type": "code",
   "execution_count": 443,
   "outputs": [],
   "source": [
    "def get_file_path_by_id(file_id, dir=config.root):\n",
    "    return os.path.join(dir, str(file_id) + \".jpg\")"
   ],
   "metadata": {
    "collapsed": false,
    "ExecuteTime": {
     "start_time": "2023-08-20T10:27:05.981454Z",
     "end_time": "2023-08-20T10:27:06.063608Z"
    }
   }
  },
  {
   "cell_type": "code",
   "execution_count": 444,
   "outputs": [],
   "source": [
    "data_transforms = {\n",
    "    # Only validation is needed.\n",
    "\n",
    "    \"val\": A.Compose([\n",
    "        #         A.ToRGB(),\n",
    "        A.Resize(config.image_dimension, config.image_dimension),\n",
    "        A.Normalize(\n",
    "            mean=[0.485, 0.456, 0.406],\n",
    "            std=[0.229, 0.224, 0.225],\n",
    "            max_pixel_value=255.0,\n",
    "            p=1.0\n",
    "        ),\n",
    "        ToTensorV2()], p=1.)\n",
    "}"
   ],
   "metadata": {
    "collapsed": false,
    "ExecuteTime": {
     "start_time": "2023-08-20T10:27:05.989431Z",
     "end_time": "2023-08-20T10:27:06.064609Z"
    }
   }
  },
  {
   "cell_type": "code",
   "execution_count": 445,
   "outputs": [],
   "source": [
    "class CustomImagesDataset(Dataset):\n",
    "    \"\"\"\n",
    "    \"\"\"\n",
    "    def __init__(self, data: pd.DataFrame=None, images_path: os.path=None, labels_path:os.path=None, transform_images: A.Compose=None, encoder_name=None):\n",
    "        \"\"\"\n",
    "\n",
    "        \"\"\"\n",
    "        super().__init__()\n",
    "        assert (data is not None) or (labels_path is not None and images_path is not None)\n",
    "\n",
    "        if data is None:\n",
    "            data = pd.read_csv(labels_path)\n",
    "            data['file_path'] = data['id'].apply(get_file_path_by_id, dir=images_path)\n",
    "\n",
    "        self.images_paths = data['file_path']\n",
    "\n",
    "\n",
    "        self.encoder_name = encoder_name if encoder_name else self.__hash__()  # We use hash as a unique name\n",
    "        print_highlighted(f\"Label Encoder saved with id `{self.encoder_name}`\")\n",
    "        self.labels = apply_label_encoding(labels=data['label'], action='encode', encoder_name=self.encoder_name)\n",
    "\n",
    "        # self.labels = data['label']\n",
    "        #         self.indexes = data['id'].values\n",
    "        self.transform_images = transform_images\n",
    "        self.__set_dataset_len()\n",
    "\n",
    "    def __set_dataset_len(self):\n",
    "        self.length = self.labels.shape[0] # Number of rows\n",
    "\n",
    "    def __len__(self):\n",
    "        \"\"\"\n",
    "        We calculate the len in another function, so that we are able to slice.\n",
    "        \"\"\"\n",
    "        return self.length\n",
    "\n",
    "    def __getitem__(self, index) -> tuple[torch.Tensor, int]:\n",
    "        \"\"\" Function to return item by indexing the dataset \"\"\"\n",
    "\n",
    "        if not isinstance(index, int) and isinstance(index, slice):\n",
    "            # It's not an index, but slice.\n",
    "            # We will return the part of data by making a copy of the dataset\n",
    "            index: slice\n",
    "            self = deepcopy(self)\n",
    "            self.length = index.stop  # Cut the length of dataset.\n",
    "            self.labels = self.labels[:self.length]\n",
    "            return self\n",
    "        assert self.__len__() >= index\n",
    "\n",
    "        image = to_pil_image(read_image(self.images_paths[index]))\n",
    "        if self.transform_images:\n",
    "            # Albumentations requires us to convert image to Numpy Array\n",
    "            image = self.transform_images(image=np.array(image))['image']\n",
    "\n",
    "        label = self.labels[index]\n",
    "        return image, label"
   ],
   "metadata": {
    "collapsed": false,
    "ExecuteTime": {
     "start_time": "2023-08-20T10:27:05.997784Z",
     "end_time": "2023-08-20T10:27:06.066605Z"
    }
   }
  },
  {
   "cell_type": "code",
   "execution_count": 446,
   "outputs": [
    {
     "name": "stdout",
     "output_type": "stream",
     "text": [
      "\u001B[43mLabel Encoder saved with id `test_labels`\u001B[0m\n",
      "\u001B[43mEncoded with existing encoder.\u001B[0m\n"
     ]
    }
   ],
   "source": [
    "test_images_dataset = CustomImagesDataset(images_path=config.test_images_path, labels_path=config.test_labels, transform_images=data_transforms['val'], encoder_name='test_labels')"
   ],
   "metadata": {
    "collapsed": false,
    "ExecuteTime": {
     "start_time": "2023-08-20T10:27:06.016829Z",
     "end_time": "2023-08-20T10:27:06.066605Z"
    }
   }
  },
  {
   "cell_type": "code",
   "execution_count": 447,
   "outputs": [
    {
     "data": {
      "text/plain": "2775"
     },
     "execution_count": 447,
     "metadata": {},
     "output_type": "execute_result"
    }
   ],
   "source": [
    "len(test_images_dataset)"
   ],
   "metadata": {
    "collapsed": false,
    "ExecuteTime": {
     "start_time": "2023-08-20T10:27:06.043928Z",
     "end_time": "2023-08-20T10:27:06.067161Z"
    }
   }
  },
  {
   "cell_type": "code",
   "execution_count": 448,
   "outputs": [],
   "source": [
    "config.batch_size = 256"
   ],
   "metadata": {
    "collapsed": false,
    "ExecuteTime": {
     "start_time": "2023-08-20T10:27:06.054610Z",
     "end_time": "2023-08-20T10:27:06.067161Z"
    }
   }
  },
  {
   "cell_type": "code",
   "execution_count": 449,
   "outputs": [],
   "source": [
    "test_dataloader = DataLoader(\n",
    "    test_images_dataset,\n",
    "    batch_size=config.batch_size,\n",
    "    shuffle=False,\n",
    "    num_workers=os.cpu_count() % 4,\n",
    ")"
   ],
   "metadata": {
    "collapsed": false,
    "ExecuteTime": {
     "start_time": "2023-08-20T10:27:06.063608Z",
     "end_time": "2023-08-20T10:27:06.100756Z"
    }
   }
  },
  {
   "cell_type": "markdown",
   "source": [
    "Note: while using Siamese Network, we are able to pass one vector as `X1` and array of vectors as `X2`. So, we can pass one target vector and batch of nearest vectors - thus we get batch of similarity ratio"
   ],
   "metadata": {
    "collapsed": false
   }
  },
  {
   "cell_type": "code",
   "execution_count": 450,
   "outputs": [
    {
     "name": "stdout",
     "output_type": "stream",
     "text": [
      "torch.Size([4, 5, 1])\n"
     ]
    }
   ],
   "source": [
    "# Example\n",
    "k = 5\n",
    "with torch.no_grad():\n",
    "    print(perceptron_model(torch.rand(4, 1, 512), torch.rand(4, k, 512)).shape)\n",
    "del k"
   ],
   "metadata": {
    "collapsed": false,
    "ExecuteTime": {
     "start_time": "2023-08-20T10:27:06.074695Z",
     "end_time": "2023-08-20T10:27:06.267419Z"
    }
   }
  },
  {
   "cell_type": "code",
   "execution_count": 451,
   "outputs": [],
   "source": [
    "def get_probable_label(weights, labels) -> int:\n",
    "    \"\"\"\n",
    "    This function is supposed to process two vectors:\n",
    "    `labels` represents sequence of labels of neighbors, and values MAY REPEAT\n",
    "    `weights` show how probable each value is.\n",
    "    The main problem to solve here is that it might be two same labels in array (so it's more probable).\n",
    "    :param weights:\n",
    "    :param labels:\n",
    "    :return:\n",
    "    \"\"\"\n",
    "    probs = defaultdict(float)\n",
    "    for i, label in enumerate(labels):\n",
    "        probs[label.item()] += weights[i].item()\n",
    "\n",
    "    label_with_max_proba, _ = max(probs.items(), key=lambda x: x[1])  # Iterate over values, but get the key.\n",
    "    return label_with_max_proba\n"
   ],
   "metadata": {
    "collapsed": false,
    "ExecuteTime": {
     "start_time": "2023-08-20T10:27:06.100236Z",
     "end_time": "2023-08-20T10:27:06.277419Z"
    }
   }
  },
  {
   "cell_type": "code",
   "execution_count": 452,
   "outputs": [],
   "source": [
    "@torch.inference_mode()\n",
    "def predict_with_weighted_nearest(X: torch.tensor, backbone_model, binary_clf_model, device):\n",
    "    \"\"\"\n",
    "        Function to enhance the prediction of KNeighbors model. We still use nearest neighbors to get probable labels,\n",
    "    and then, we use Binary Classificator MLP to compare neighbors embeddings with our target image embedding.\n",
    "    :param X: image or sequence of images - normalized 3x256x256 vectors;\n",
    "    :param backbone_model: CNN network without classifier layer - to get image embedding;\n",
    "    :param binary_clf_model: embedding classifier that detects whether two vectors are of same class (label);\n",
    "    :param device:\n",
    "    :return: probabilities of predicted labels\n",
    "    \"\"\"\n",
    "    backbone_model = backbone_model.to(device)\n",
    "    binary_clf_model = binary_clf_model.to(device)\n",
    "\n",
    "    if X.dim() == 3:\n",
    "        # Means it's one image, not a batch\n",
    "        X = torch.unsqueeze(X, dim=0)  # Turn it into batch\n",
    "        print('unsqueezed.')\n",
    "    elif X.dim() == 4:\n",
    "        pass\n",
    "\n",
    "    embedding = backbone_model(X)  # This vector is two-dimensional as it is a batch\n",
    "\n",
    "    bag_of_nearest_indexes = neigh.kneighbors(embedding, return_distance=False)  # Shape is `B x k`, k are neighbors\n",
    "    # bag_of_nearest_indexes = torch.tensor(bag_of_nearest_indexes).to(device)\n",
    "    # print(bag_of_nearest_indexes)\n",
    "\n",
    "    # Now we select embeddings by their indexes. For the case of indexing array by another array, numpy.take (https://numpy.org/doc/stable/reference/generated/numpy.take.html) works fine.\n",
    "    # We're indexing the `N x 512` array by the `B x K` array, and the result is the `B x K x 512` array of embeddings.\n",
    "    # Try following to see:\n",
    "    # print(train_embeddings_bag.to_numpy().shape, bag_of_nearest_indexes.shape, np.take(train_embeddings_bag.to_numpy(), bag_of_nearest_indexes, axis=0).shape)\n",
    "\n",
    "    batch_of_nearest_vectors = np.take(train_embeddings_bag.to_numpy(), bag_of_nearest_indexes, axis=0)\n",
    "    batch_of_nearest_labels = torch.tensor(np.squeeze(np.take(train_labels.to_numpy(), bag_of_nearest_indexes, axis=0))) # Shape of (B, K)\n",
    "\n",
    "    # Note: `batch_of_nearest` is 3-dimensional. If we are to compare nearest with the target embedding,\n",
    "    # we have to adjust this vector to same dimension.\n",
    "    embedding = torch.unsqueeze(embedding, dim=1) # From shape (B, 512) to (B, 1, 512)\n",
    "    predicted_similarity = binary_clf_model(embedding, batch_of_nearest_vectors)\n",
    "    predicted_similarity = torch.squeeze(predicted_similarity)  # From (B, K, 1) to (B, K)\n",
    "\n",
    "    # Now we can get the highest probability, and apply it as our prediction. But there is also\n",
    "    # more stable way: to sum probabilities of same class firstly.\n",
    "\n",
    "    # We normalize the proba among the nearest (as they are too close originally), but it's not really necessary\n",
    "    predicted_similarity = F.normalize(predicted_similarity, dim=1)\n",
    "\n",
    "\n",
    "    # Now we are going to iterate over nearest to get most probable label per each item\n",
    "    predictions = []\n",
    "    for row_of_similarities, row_of_labels in zip(predicted_similarity, batch_of_nearest_labels):\n",
    "        predictions.append(get_probable_label(weights=row_of_similarities, labels=row_of_labels))\n",
    "    return torch.tensor(predictions)\n",
    "\n"
   ],
   "metadata": {
    "collapsed": false,
    "ExecuteTime": {
     "start_time": "2023-08-20T10:27:06.112772Z",
     "end_time": "2023-08-20T10:27:06.277419Z"
    }
   }
  },
  {
   "cell_type": "code",
   "execution_count": 453,
   "outputs": [],
   "source": [
    "def evaluate_models(dataloader) -> pl.DataFrame:\n",
    "    total = 0\n",
    "    correct = 0\n",
    "    preds = []\n",
    "    all_labels = []\n",
    "    with tqdm(dataloader, desc=\"Processing...\",unit=\"batch\") as process:\n",
    "        for x, labels in process:\n",
    "            y_pred = predict_with_weighted_nearest(X=x, backbone_model=embedding_model, binary_clf_model=perceptron_model, device=device)\n",
    "            correct += (labels == y_pred).int().sum().item()\n",
    "            total += labels.size(0)\n",
    "            preds.extend(list(y_pred.cpu().numpy()))\n",
    "            all_labels.extend(list(labels.cpu().numpy()))\n",
    "\n",
    "    print_highlighted(f\"Accuracy is: {correct/total}; F1 score: {f1_score(torch.tensor(all_labels), torch.tensor(preds))}\")\n",
    "    return pl.DataFrame(zip(preds, all_labels), schema=[\"Predicted\", \"Actual labels\"])"
   ],
   "metadata": {
    "collapsed": false,
    "ExecuteTime": {
     "start_time": "2023-08-20T10:27:06.136097Z",
     "end_time": "2023-08-20T10:27:06.277419Z"
    }
   }
  },
  {
   "cell_type": "code",
   "execution_count": 454,
   "outputs": [
    {
     "name": "stderr",
     "output_type": "stream",
     "text": [
      "Processing...: 100%|██████████| 11/11 [02:26<00:00, 13.35s/batch]"
     ]
    },
    {
     "name": "stdout",
     "output_type": "stream",
     "text": [
      "\u001B[43mAccuracy is: 0.827027027027027; F1 score: 0.8107395768165588\u001B[0m\n",
      "shape: (2_775, 2)\n",
      "┌───────────┬───────────────┐\n",
      "│ Predicted ┆ Actual labels │\n",
      "│ ---       ┆ ---           │\n",
      "│ i64       ┆ i64           │\n",
      "╞═══════════╪═══════════════╡\n",
      "│ 206       ┆ 0             │\n",
      "│ 279       ┆ 0             │\n",
      "│ 138       ┆ 0             │\n",
      "│ 0         ┆ 0             │\n",
      "│ …         ┆ …             │\n",
      "│ 758       ┆ 758           │\n",
      "│ 759       ┆ 759           │\n",
      "│ 160       ┆ 759           │\n",
      "│ 343       ┆ 759           │\n",
      "└───────────┴───────────────┘\n"
     ]
    },
    {
     "name": "stderr",
     "output_type": "stream",
     "text": [
      "\n"
     ]
    }
   ],
   "source": [
    "print(evaluate_models(test_dataloader))"
   ],
   "metadata": {
    "collapsed": false,
    "ExecuteTime": {
     "start_time": "2023-08-20T10:27:06.143425Z",
     "end_time": "2023-08-20T10:29:33.191187Z"
    }
   }
  },
  {
   "cell_type": "code",
   "execution_count": 454,
   "outputs": [],
   "source": [],
   "metadata": {
    "collapsed": false,
    "ExecuteTime": {
     "start_time": "2023-08-20T10:29:33.191187Z",
     "end_time": "2023-08-20T10:29:33.202516Z"
    }
   }
  },
  {
   "cell_type": "markdown",
   "source": [
    "## Real testing on the photos from Internet"
   ],
   "metadata": {
    "collapsed": false
   }
  },
  {
   "cell_type": "markdown",
   "source": [
    "Now we will repeat this experiment with real photos from Internet. No models were trained on them"
   ],
   "metadata": {
    "collapsed": false
   }
  },
  {
   "cell_type": "code",
   "execution_count": 455,
   "outputs": [
    {
     "name": "stdout",
     "output_type": "stream",
     "text": [
      "\u001B[43mLabel Encoder saved with id `test_labels`\u001B[0m\n",
      "\u001B[43mEncoded with existing encoder.\u001B[0m\n"
     ]
    }
   ],
   "source": [
    "config.test_images_path = '../data/val_dataset_segmented'\n",
    "config.test_labels = \"../data/val_labels.csv\"\n",
    "test_images_dataset = CustomImagesDataset(\n",
    "    images_path=config.test_images_path, labels_path=config.test_labels, transform_images=data_transforms['val'], encoder_name='test_labels'\n",
    ")\n",
    "test_dataloader = DataLoader(\n",
    "    test_images_dataset,\n",
    "    batch_size=config.batch_size,\n",
    "    shuffle=False,\n",
    "    num_workers=os.cpu_count() % 4,\n",
    ")"
   ],
   "metadata": {
    "collapsed": false,
    "ExecuteTime": {
     "start_time": "2023-08-20T10:29:33.202516Z",
     "end_time": "2023-08-20T10:29:33.356249Z"
    }
   }
  },
  {
   "cell_type": "code",
   "execution_count": 456,
   "outputs": [
    {
     "name": "stderr",
     "output_type": "stream",
     "text": [
      "Processing...: 100%|██████████| 1/1 [00:01<00:00,  1.00s/batch]"
     ]
    },
    {
     "name": "stdout",
     "output_type": "stream",
     "text": [
      "\u001B[43mAccuracy is: 0.8181818181818182; F1 score: 0.692307710647583\u001B[0m\n"
     ]
    },
    {
     "name": "stderr",
     "output_type": "stream",
     "text": [
      "\n"
     ]
    },
    {
     "data": {
      "text/plain": "shape: (11, 2)\n┌───────────┬───────────────┐\n│ Predicted ┆ Actual labels │\n│ ---       ┆ ---           │\n│ i64       ┆ i64           │\n╞═══════════╪═══════════════╡\n│ 269       ┆ 269           │\n│ 596       ┆ 279           │\n│ 303       ┆ 303           │\n│ 306       ┆ 306           │\n│ …         ┆ …             │\n│ 388       ┆ 388           │\n│ 458       ┆ 457           │\n│ 487       ┆ 487           │\n│ 516       ┆ 516           │\n└───────────┴───────────────┘",
      "text/html": "<div><style>\n.dataframe > thead > tr > th,\n.dataframe > tbody > tr > td {\n  text-align: right;\n}\n</style>\n<small>shape: (11, 2)</small><table border=\"1\" class=\"dataframe\"><thead><tr><th>Predicted</th><th>Actual labels</th></tr><tr><td>i64</td><td>i64</td></tr></thead><tbody><tr><td>269</td><td>269</td></tr><tr><td>596</td><td>279</td></tr><tr><td>303</td><td>303</td></tr><tr><td>306</td><td>306</td></tr><tr><td>308</td><td>308</td></tr><tr><td>316</td><td>316</td></tr><tr><td>354</td><td>354</td></tr><tr><td>388</td><td>388</td></tr><tr><td>458</td><td>457</td></tr><tr><td>487</td><td>487</td></tr><tr><td>516</td><td>516</td></tr></tbody></table></div>"
     },
     "execution_count": 456,
     "metadata": {},
     "output_type": "execute_result"
    }
   ],
   "source": [
    "evaluate_models(test_dataloader)"
   ],
   "metadata": {
    "collapsed": false,
    "ExecuteTime": {
     "start_time": "2023-08-20T10:29:33.340615Z",
     "end_time": "2023-08-20T10:29:34.436188Z"
    }
   }
  },
  {
   "cell_type": "code",
   "execution_count": 456,
   "outputs": [],
   "source": [],
   "metadata": {
    "collapsed": false,
    "ExecuteTime": {
     "start_time": "2023-08-20T10:29:34.377368Z",
     "end_time": "2023-08-20T10:29:34.451811Z"
    }
   }
  },
  {
   "cell_type": "code",
   "execution_count": 456,
   "outputs": [],
   "source": [],
   "metadata": {
    "collapsed": false,
    "ExecuteTime": {
     "start_time": "2023-08-20T10:29:34.385829Z",
     "end_time": "2023-08-20T10:29:34.451811Z"
    }
   }
  },
  {
   "cell_type": "code",
   "execution_count": 456,
   "outputs": [],
   "source": [],
   "metadata": {
    "collapsed": false,
    "ExecuteTime": {
     "start_time": "2023-08-20T10:29:34.391849Z",
     "end_time": "2023-08-20T10:29:34.451811Z"
    }
   }
  },
  {
   "cell_type": "code",
   "execution_count": 456,
   "outputs": [],
   "source": [],
   "metadata": {
    "collapsed": false,
    "ExecuteTime": {
     "start_time": "2023-08-20T10:29:34.404913Z",
     "end_time": "2023-08-20T10:29:34.451811Z"
    }
   }
  }
 ]
}
