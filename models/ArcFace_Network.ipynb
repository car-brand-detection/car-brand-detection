{
 "metadata": {
  "kernelspec": {
   "name": "yolo_torch",
   "language": "python",
   "display_name": "yolo_torch"
  },
  "language_info": {
   "name": "python",
   "version": "3.10.12",
   "mimetype": "text/x-python",
   "codemirror_mode": {
    "name": "ipython",
    "version": 3
   },
   "pygments_lexer": "ipython3",
   "nbconvert_exporter": "python",
   "file_extension": ".py"
  }
 },
 "nbformat_minor": 4,
 "nbformat": 4,
 "cells": [
  {
   "cell_type": "markdown",
   "source": [
    "# Image Classification with ArcFace Loss"
   ],
   "metadata": {
    "collapsed": false
   }
  },
  {
   "cell_type": "markdown",
   "source": [
    "In this notebook we will train SOTA Computer Vision models (such as MobileNet, EfficientNet) to classify car brands. We will ArcFace Loss function for this task, which is also state-of-art."
   ],
   "metadata": {
    "collapsed": false
   }
  },
  {
   "cell_type": "markdown",
   "source": [
    "# 1. Set up"
   ],
   "metadata": {
    "id": "DRrvM2BPUG3T"
   }
  },
  {
   "cell_type": "markdown",
   "source": [
    "## 1. Packages and requirements"
   ],
   "metadata": {
    "id": "G-cGfk5CTFDT"
   }
  },
  {
   "cell_type": "code",
   "source": [
    "# Major builtin libraries\n",
    "import os\n",
    "import gc\n",
    "# import cv2\n",
    "# import math\n",
    "import time\n",
    "import random\n",
    "import typing as t\n",
    "from copy import deepcopy\n",
    "# from collections import defaultdict"
   ],
   "metadata": {
    "id": "YJ1bPQE1TFDW",
    "execution": {
     "iopub.status.busy": "2023-08-09T22:19:46.190228Z",
     "iopub.execute_input": "2023-08-09T22:19:46.190666Z",
     "iopub.status.idle": "2023-08-09T22:19:46.405561Z",
     "shell.execute_reply.started": "2023-08-09T22:19:46.190627Z",
     "shell.execute_reply": "2023-08-09T22:19:46.404537Z"
    },
    "trusted": true,
    "ExecuteTime": {
     "start_time": "2023-08-12T09:39:28.058514Z",
     "end_time": "2023-08-12T09:39:28.210109Z"
    }
   },
   "execution_count": 1,
   "outputs": []
  },
  {
   "cell_type": "code",
   "source": [
    "# To work with Google Collab\n",
    "# from google.colab import drive\n",
    "# drive.mount('/content/drive/', force_remount=True)"
   ],
   "metadata": {
    "id": "9byYPbwhTFDW",
    "outputId": "f21315f6-d034-4060-f927-1dfcc117d99b",
    "execution": {
     "iopub.status.busy": "2023-08-09T22:19:46.417144Z",
     "iopub.execute_input": "2023-08-09T22:19:46.417529Z",
     "iopub.status.idle": "2023-08-09T22:19:46.422842Z",
     "shell.execute_reply.started": "2023-08-09T22:19:46.417491Z",
     "shell.execute_reply": "2023-08-09T22:19:46.421769Z"
    },
    "trusted": true,
    "ExecuteTime": {
     "start_time": "2023-08-12T09:39:28.220444Z",
     "end_time": "2023-08-12T09:39:28.233529Z"
    }
   },
   "execution_count": 2,
   "outputs": []
  },
  {
   "cell_type": "code",
   "source": [
    "import warnings  # If you want to disable warnings\n",
    "warnings.filterwarnings(\"ignore\")\n",
    "\n",
    "# For descriptive error messages\n",
    "os.environ['CUDA_LAUNCH_BLOCKING'] = \"1\""
   ],
   "metadata": {
    "id": "BwyVeWsUTFDX",
    "execution": {
     "iopub.status.busy": "2023-08-09T22:19:46.628705Z",
     "iopub.execute_input": "2023-08-09T22:19:46.629151Z",
     "iopub.status.idle": "2023-08-09T22:19:46.638598Z",
     "shell.execute_reply.started": "2023-08-09T22:19:46.629107Z",
     "shell.execute_reply": "2023-08-09T22:19:46.637496Z"
    },
    "trusted": true,
    "ExecuteTime": {
     "start_time": "2023-08-12T09:39:28.230807Z",
     "end_time": "2023-08-12T09:39:28.249391Z"
    }
   },
   "execution_count": 3,
   "outputs": []
  },
  {
   "cell_type": "code",
   "source": [
    "# Classic packages for data manipulation and visualization\n",
    "import numpy as np\n",
    "import pandas as pd\n",
    "import matplotlib.pyplot as plt"
   ],
   "metadata": {
    "id": "AGRBRJORTFDX",
    "execution": {
     "iopub.status.busy": "2023-08-09T22:19:46.784165Z",
     "iopub.execute_input": "2023-08-09T22:19:46.784597Z",
     "iopub.status.idle": "2023-08-09T22:19:46.800386Z",
     "shell.execute_reply.started": "2023-08-09T22:19:46.784559Z",
     "shell.execute_reply": "2023-08-09T22:19:46.799304Z"
    },
    "trusted": true,
    "ExecuteTime": {
     "start_time": "2023-08-12T09:39:28.241159Z",
     "end_time": "2023-08-12T09:39:28.249391Z"
    }
   },
   "execution_count": 4,
   "outputs": []
  },
  {
   "cell_type": "code",
   "source": [
    "# Basic PyTorch\n",
    "import torch\n",
    "import torch.nn as nn\n",
    "import torch.optim as optim  # Optimization algorithms and dynamic learning rate adjusting\n",
    "import torch.nn.functional as F\n",
    "# from torch.nn.modules.loss import _Loss  # For writing a custom Loss function\n",
    "from torch.utils.data import DataLoader, Dataset  # For custom data presentation"
   ],
   "metadata": {
    "id": "FXSN-XzxTFDX",
    "execution": {
     "iopub.status.busy": "2023-08-09T22:19:46.976579Z",
     "iopub.execute_input": "2023-08-09T22:19:46.977199Z",
     "iopub.status.idle": "2023-08-09T22:19:50.514874Z",
     "shell.execute_reply.started": "2023-08-09T22:19:46.977152Z",
     "shell.execute_reply": "2023-08-09T22:19:50.513892Z"
    },
    "trusted": true,
    "ExecuteTime": {
     "start_time": "2023-08-12T09:39:28.249391Z",
     "end_time": "2023-08-12T09:39:32.947069Z"
    }
   },
   "execution_count": 5,
   "outputs": []
  },
  {
   "cell_type": "code",
   "source": [
    "# Utils\n",
    "import joblib  # Pipelining, pickling (dump/load), parallel processing\n",
    "from tqdm import tqdm  # Progress bar for training process\n",
    "from tempfile import TemporaryDirectory\n",
    "\n",
    "# Classic ML tools\n",
    "from sklearn.preprocessing import LabelEncoder\n",
    "from sklearn.model_selection import StratifiedKFold  # Cross-Validation"
   ],
   "metadata": {
    "id": "7QjRLiOzTFDY",
    "execution": {
     "iopub.status.busy": "2023-08-09T22:19:50.517364Z",
     "iopub.execute_input": "2023-08-09T22:19:50.518362Z",
     "iopub.status.idle": "2023-08-09T22:19:51.011752Z",
     "shell.execute_reply.started": "2023-08-09T22:19:50.518325Z",
     "shell.execute_reply": "2023-08-09T22:19:51.010789Z"
    },
    "trusted": true,
    "ExecuteTime": {
     "start_time": "2023-08-12T09:39:32.947069Z",
     "end_time": "2023-08-12T09:39:33.259458Z"
    }
   },
   "execution_count": 6,
   "outputs": []
  },
  {
   "cell_type": "code",
   "execution_count": null,
   "outputs": [],
   "source": [
    "# Data dimensionality reduction\n",
    "from sklearn.manifold import TSNE  # high-dimensional data visualization\n",
    "from sklearn.decomposition import PCA  # More effective dimensionality reduction method\n",
    "\n",
    "# kNN classification\n",
    "from sklearn.neighbors import KNeighborsClassifier\n",
    "\n",
    "# Clustering methods\n",
    "from sklearn.cluster import KMeans\n",
    "from sklearn.cluster import DBSCAN"
   ],
   "metadata": {
    "collapsed": false
   }
  },
  {
   "cell_type": "code",
   "source": [
    "# !pip install torchmetrics colorama"
   ],
   "metadata": {
    "id": "-iaQkd7xUuPW",
    "execution": {
     "iopub.status.busy": "2023-08-09T22:19:51.013970Z",
     "iopub.execute_input": "2023-08-09T22:19:51.014652Z",
     "iopub.status.idle": "2023-08-09T22:19:51.019415Z",
     "shell.execute_reply.started": "2023-08-09T22:19:51.014613Z",
     "shell.execute_reply": "2023-08-09T22:19:51.018488Z"
    },
    "trusted": true,
    "ExecuteTime": {
     "start_time": "2023-08-12T09:39:33.259458Z",
     "end_time": "2023-08-12T09:39:33.266359Z"
    }
   },
   "execution_count": 7,
   "outputs": []
  },
  {
   "cell_type": "code",
   "source": [
    "# ML Metrics\n",
    "from sklearn.metrics import accuracy_score\n",
    "from sklearn.metrics import classification_report\n",
    "from torchmetrics.classification import MulticlassF1Score # F1 metric for multiclass"
   ],
   "metadata": {
    "id": "BuY4s3bsTFDZ",
    "execution": {
     "iopub.status.busy": "2023-08-09T22:19:51.022142Z",
     "iopub.execute_input": "2023-08-09T22:19:51.022892Z",
     "iopub.status.idle": "2023-08-09T22:20:01.816416Z",
     "shell.execute_reply.started": "2023-08-09T22:19:51.022859Z",
     "shell.execute_reply": "2023-08-09T22:20:01.815468Z"
    },
    "trusted": true,
    "ExecuteTime": {
     "start_time": "2023-08-12T09:39:33.266359Z",
     "end_time": "2023-08-12T09:39:34.920032Z"
    }
   },
   "execution_count": 8,
   "outputs": []
  },
  {
   "cell_type": "code",
   "source": [
    "# Torch Computer Vision tools for images processing\n",
    "from torchvision.io import read_image\n",
    "from torchvision.transforms.functional import to_pil_image, to_grayscale, to_tensor\n",
    "from torchvision import models  # Pretrained models"
   ],
   "metadata": {
    "id": "FEKtt6X5TFDZ",
    "execution": {
     "iopub.status.busy": "2023-08-09T22:20:01.817608Z",
     "iopub.execute_input": "2023-08-09T22:20:01.818503Z",
     "iopub.status.idle": "2023-08-09T22:20:01.825531Z",
     "shell.execute_reply.started": "2023-08-09T22:20:01.818473Z",
     "shell.execute_reply": "2023-08-09T22:20:01.823973Z"
    },
    "trusted": true,
    "ExecuteTime": {
     "start_time": "2023-08-12T09:39:34.920032Z",
     "end_time": "2023-08-12T09:39:34.927388Z"
    }
   },
   "execution_count": 9,
   "outputs": []
  },
  {
   "cell_type": "code",
   "source": [
    "# Albumentations is an OS library for augmentations\n",
    "import albumentations as A\n",
    "from albumentations.pytorch import ToTensorV2\n",
    "# import torchvision.transforms as T  # We can use torch augmentations instead"
   ],
   "metadata": {
    "id": "90C8yH1dTFDa",
    "execution": {
     "iopub.status.busy": "2023-08-09T22:20:01.827128Z",
     "iopub.execute_input": "2023-08-09T22:20:01.827524Z",
     "iopub.status.idle": "2023-08-09T22:20:02.676464Z",
     "shell.execute_reply.started": "2023-08-09T22:20:01.827491Z",
     "shell.execute_reply": "2023-08-09T22:20:02.675495Z"
    },
    "trusted": true,
    "ExecuteTime": {
     "start_time": "2023-08-12T09:39:34.927388Z",
     "end_time": "2023-08-12T09:39:35.447585Z"
    }
   },
   "execution_count": 10,
   "outputs": []
  },
  {
   "cell_type": "code",
   "source": [],
   "metadata": {
    "id": "4QwB35yVTFDa",
    "ExecuteTime": {
     "start_time": "2023-08-12T09:39:35.447585Z",
     "end_time": "2023-08-12T09:39:35.454060Z"
    }
   },
   "execution_count": 10,
   "outputs": []
  },
  {
   "cell_type": "code",
   "source": [
    "# Output text colorizing\n",
    "from colorama import Back, Style\n",
    "\n",
    "def print_highlighted(text: str, bgcolor=Back.YELLOW) -> None:\n",
    "    \"\"\"\n",
    "    Function to print a text with colored background.\n",
    "    \"\"\"\n",
    "    print(bgcolor + text + Style.RESET_ALL)"
   ],
   "metadata": {
    "ExecuteTime": {
     "start_time": "2023-08-12T09:39:35.454060Z",
     "end_time": "2023-08-12T09:39:35.462699Z"
    },
    "jupyter": {
     "outputs_hidden": false
    },
    "id": "pF1AWOXTTFDa",
    "collapsed": false,
    "execution": {
     "iopub.status.busy": "2023-08-09T22:20:02.678010Z",
     "iopub.execute_input": "2023-08-09T22:20:02.678643Z",
     "iopub.status.idle": "2023-08-09T22:20:02.688672Z",
     "shell.execute_reply.started": "2023-08-09T22:20:02.678608Z",
     "shell.execute_reply": "2023-08-09T22:20:02.685732Z"
    },
    "trusted": true
   },
   "execution_count": 11,
   "outputs": []
  },
  {
   "cell_type": "code",
   "source": [
    "# import wandb # MLOps platform to simplify and speed up the process of building ML models"
   ],
   "metadata": {
    "ExecuteTime": {
     "start_time": "2023-08-12T09:39:35.462699Z",
     "end_time": "2023-08-12T09:39:35.471518Z"
    },
    "jupyter": {
     "outputs_hidden": false
    },
    "id": "WHnMHaX_TFDb",
    "collapsed": false,
    "execution": {
     "iopub.status.busy": "2023-08-09T22:20:02.690002Z",
     "iopub.execute_input": "2023-08-09T22:20:02.690506Z",
     "iopub.status.idle": "2023-08-09T22:20:02.703505Z",
     "shell.execute_reply.started": "2023-08-09T22:20:02.690449Z",
     "shell.execute_reply": "2023-08-09T22:20:02.702563Z"
    },
    "trusted": true
   },
   "execution_count": 12,
   "outputs": []
  },
  {
   "cell_type": "code",
   "source": [
    "# wandb.login() # We log in via pop-up,\n",
    "# wandb.login(key=api_key)  # but you can also log in manually with function args"
   ],
   "metadata": {
    "ExecuteTime": {
     "start_time": "2023-08-12T09:39:35.471518Z",
     "end_time": "2023-08-12T09:39:35.527569Z"
    },
    "jupyter": {
     "outputs_hidden": false
    },
    "id": "1zarBgpbTFDb",
    "collapsed": false,
    "execution": {
     "iopub.status.busy": "2023-08-09T22:20:02.705184Z",
     "iopub.execute_input": "2023-08-09T22:20:02.705539Z",
     "iopub.status.idle": "2023-08-09T22:20:02.714559Z",
     "shell.execute_reply.started": "2023-08-09T22:20:02.705506Z",
     "shell.execute_reply": "2023-08-09T22:20:02.713641Z"
    },
    "trusted": true
   },
   "execution_count": 13,
   "outputs": []
  },
  {
   "cell_type": "markdown",
   "source": [
    "## 2. Configuration"
   ],
   "metadata": {
    "id": "YuquAHEkTFDb"
   }
  },
  {
   "cell_type": "code",
   "source": [
    "CONFIG = {\n",
    "    \"seed\": 2306,\n",
    "    \"epochs\": 20,\n",
    "    \"image_dimension\": 256,  # Depends on pretrained model used\n",
    "    \"model_name\": \"efficientnet_b0\",  # Pretrained model we will use\n",
    "    \"embedding_size\": 512,  # Embedding output size\n",
    "    \"train_batch_size\": 64,\n",
    "    \"val_batch_size\": 128,\n",
    "    \"learning_rate\": 1e-3,\n",
    "    \"min_lr\": 1e-8,\n",
    "    \"min_loss_delta\": 1e-7, # To stop training on plateau\n",
    "    \"weight_decay\": 1e-7,\n",
    "}"
   ],
   "metadata": {
    "ExecuteTime": {
     "start_time": "2023-08-12T09:39:35.480962Z",
     "end_time": "2023-08-12T09:39:35.546031Z"
    },
    "id": "JC-SbC9zTFDb",
    "execution": {
     "iopub.status.busy": "2023-08-09T22:20:02.719560Z",
     "iopub.execute_input": "2023-08-09T22:20:02.719824Z",
     "iopub.status.idle": "2023-08-09T22:20:02.727326Z",
     "shell.execute_reply.started": "2023-08-09T22:20:02.719799Z",
     "shell.execute_reply": "2023-08-09T22:20:02.726236Z"
    },
    "trusted": true
   },
   "execution_count": 14,
   "outputs": []
  },
  {
   "cell_type": "code",
   "source": [
    "class Config:\n",
    "    \"\"\"\n",
    "    Class to simplify access to Config: not dict but object with attributes\n",
    "    \"\"\"\n",
    "    def __init__(self, config_dict):\n",
    "        for key, value in config_dict.items():\n",
    "            setattr(self, key, value)"
   ],
   "metadata": {
    "ExecuteTime": {
     "start_time": "2023-08-12T09:39:35.498217Z",
     "end_time": "2023-08-12T09:39:35.554836Z"
    },
    "jupyter": {
     "outputs_hidden": false
    },
    "id": "TzAQ9KIRTFDb",
    "collapsed": false,
    "execution": {
     "iopub.status.busy": "2023-08-09T22:20:02.730115Z",
     "iopub.execute_input": "2023-08-09T22:20:02.731170Z",
     "iopub.status.idle": "2023-08-09T22:20:02.739402Z",
     "shell.execute_reply.started": "2023-08-09T22:20:02.731113Z",
     "shell.execute_reply": "2023-08-09T22:20:02.738208Z"
    },
    "trusted": true
   },
   "execution_count": 15,
   "outputs": []
  },
  {
   "cell_type": "code",
   "source": [
    "config = Config(config_dict=CONFIG)\n",
    "del CONFIG"
   ],
   "metadata": {
    "ExecuteTime": {
     "start_time": "2023-08-12T09:39:35.501963Z",
     "end_time": "2023-08-12T09:39:35.555363Z"
    },
    "jupyter": {
     "outputs_hidden": false
    },
    "id": "wivQs3vJTFDb",
    "collapsed": false,
    "execution": {
     "iopub.status.busy": "2023-08-09T22:20:02.741203Z",
     "iopub.execute_input": "2023-08-09T22:20:02.742436Z",
     "iopub.status.idle": "2023-08-09T22:20:02.752872Z",
     "shell.execute_reply.started": "2023-08-09T22:20:02.742393Z",
     "shell.execute_reply": "2023-08-09T22:20:02.751687Z"
    },
    "trusted": true
   },
   "execution_count": 16,
   "outputs": []
  },
  {
   "cell_type": "code",
   "source": [
    "# Work example\n",
    "config.seed"
   ],
   "metadata": {
    "ExecuteTime": {
     "start_time": "2023-08-12T09:39:35.513538Z",
     "end_time": "2023-08-12T09:39:35.568814Z"
    },
    "jupyter": {
     "outputs_hidden": false
    },
    "id": "ZZO47D8bTFDc",
    "outputId": "38bf95ae-905a-43be-f188-2c2c29dbb2f1",
    "collapsed": false,
    "execution": {
     "iopub.status.busy": "2023-08-09T22:20:02.754942Z",
     "iopub.execute_input": "2023-08-09T22:20:02.756325Z",
     "iopub.status.idle": "2023-08-09T22:20:02.768880Z",
     "shell.execute_reply.started": "2023-08-09T22:20:02.756239Z",
     "shell.execute_reply": "2023-08-09T22:20:02.767638Z"
    },
    "trusted": true
   },
   "execution_count": 17,
   "outputs": [
    {
     "data": {
      "text/plain": "2306"
     },
     "execution_count": 17,
     "metadata": {},
     "output_type": "execute_result"
    }
   ]
  },
  {
   "cell_type": "markdown",
   "source": [
    "Set Seed for Reproducibility"
   ],
   "metadata": {
    "id": "kotMeU-OTFDc"
   }
  },
  {
   "cell_type": "code",
   "source": [
    "def set_seed(seed=42):\n",
    "    \"\"\"\n",
    "    Sets the seed of the entire notebook so results are the same every time we run.\n",
    "    This is for REPRODUCIBILITY.\n",
    "    \"\"\"\n",
    "    np.random.seed(seed)\n",
    "    torch.manual_seed(seed)\n",
    "\n",
    "    # When running on the CuDNN backend, two further options must be set\n",
    "    # torch.backends.cudnn.deterministic = True\n",
    "    # torch.backends.cudnn.benchmark = False  # When False, this option makes CUDA reproducible, BUT the performance might suffer\n",
    "\n",
    "    # Set a fixed value for the hash seed\n",
    "    os.environ['PYTHONHASHSEED'] = str(seed)\n",
    "\n",
    "set_seed(seed=config.seed)"
   ],
   "metadata": {
    "ExecuteTime": {
     "start_time": "2023-08-12T09:39:35.528101Z",
     "end_time": "2023-08-12T09:39:35.568814Z"
    },
    "id": "RDIHP75uTFDc",
    "execution": {
     "iopub.status.busy": "2023-08-09T22:20:02.770501Z",
     "iopub.execute_input": "2023-08-09T22:20:02.771426Z",
     "iopub.status.idle": "2023-08-09T22:20:02.784680Z",
     "shell.execute_reply.started": "2023-08-09T22:20:02.771384Z",
     "shell.execute_reply": "2023-08-09T22:20:02.783523Z"
    },
    "trusted": true
   },
   "execution_count": 18,
   "outputs": []
  },
  {
   "cell_type": "markdown",
   "source": [
    "# 2. Data"
   ],
   "metadata": {
    "id": "UoHh0H1FVHnT"
   }
  },
  {
   "cell_type": "markdown",
   "source": [
    "## 1. Location"
   ],
   "metadata": {
    "id": "Qst3Y-s4VKTk"
   }
  },
  {
   "cell_type": "code",
   "source": [
    "config.repo = 'car-brands/'  # dataset name on Kaggle\n",
    "config.repo = 'data/'  # dataset name on local device\n",
    "# config.repo = 'car_brand_detection/'  # Google Collab\n",
    "\n",
    "# config.root = '/kaggle/input/' + config.repo\n",
    "# config.root = 'drive/MyDrive/' + config.repo\n",
    "config.root = '../'  + config.repo\n",
    "\n",
    "\n",
    "config.data = config.root\n",
    "\n",
    "config.train_images_path  = config.data + 'images/train'\n",
    "config.test_images_path = config.data + 'images/test'\n",
    "\n",
    "config.train_labels  = config.data + 'train_labels.csv'\n",
    "config.test_labels = config.data + 'test_labels.csv'\n",
    "\n",
    "# config.model_path = '../models/fine-tuned_efficientnet_b0.pth'\n",
    "config.model_path = '/kaggle/input/efficient-model/fine-tuned_efficientnet_b0.pth'"
   ],
   "metadata": {
    "ExecuteTime": {
     "start_time": "2023-08-12T09:39:35.546031Z",
     "end_time": "2023-08-12T09:39:35.568814Z"
    },
    "id": "QKDBLmMrTFDd",
    "execution": {
     "iopub.status.busy": "2023-08-10T00:57:23.460822Z",
     "iopub.execute_input": "2023-08-10T00:57:23.461577Z",
     "iopub.status.idle": "2023-08-10T00:57:23.467460Z",
     "shell.execute_reply.started": "2023-08-10T00:57:23.461539Z",
     "shell.execute_reply": "2023-08-10T00:57:23.466354Z"
    },
    "trusted": true
   },
   "execution_count": 19,
   "outputs": []
  },
  {
   "cell_type": "code",
   "source": [
    "def get_file_path_by_id(file_id, dir=config.root):\n",
    "    return os.path.join(dir, str(file_id) + \".jpg\")"
   ],
   "metadata": {
    "ExecuteTime": {
     "start_time": "2023-08-12T09:39:35.555363Z",
     "end_time": "2023-08-12T09:39:35.729847Z"
    },
    "id": "N8cJfeB1TFDd",
    "execution": {
     "iopub.status.busy": "2023-08-09T22:20:02.796727Z",
     "iopub.execute_input": "2023-08-09T22:20:02.797394Z",
     "iopub.status.idle": "2023-08-09T22:20:02.812509Z",
     "shell.execute_reply.started": "2023-08-09T22:20:02.797359Z",
     "shell.execute_reply": "2023-08-09T22:20:02.811468Z"
    },
    "trusted": true
   },
   "execution_count": 20,
   "outputs": []
  },
  {
   "cell_type": "markdown",
   "source": [
    "## 2. Custom Data representation"
   ],
   "metadata": {
    "id": "u0McLUXoTFDd"
   }
  },
  {
   "cell_type": "code",
   "source": [
    "def apply_label_encoding(data: t.Union[pd.DataFrame, np.array],\n",
    "                         encoder_name: os.path,\n",
    "                         column='label', action='encode',\n",
    "                         ):\n",
    "    \"\"\"\n",
    "    One Hot encoding. We apply encoding by replacing the label column in dataframe.\n",
    "    As for decoding data back, we work with vector-array (as it's most likely to\n",
    "    be a prediction result)\n",
    "    \"\"\"\n",
    "    encoder = LabelEncoder()\n",
    "    if action == 'encode':\n",
    "        # We transform dataframe here. Nothing returns\n",
    "        data[column] = encoder.fit_transform(data[column])\n",
    "        with open(f\"{encoder_name}_LEncoder.pkl\", \"wb\") as fp:\n",
    "            joblib.dump(encoder, fp)\n",
    "    elif action == 'decode':\n",
    "        # We pass vector here. Result is a vector\n",
    "        with open(f\"{encoder_name}_LEncoder.pkl\", \"rb\") as fp:\n",
    "            encoder: LabelEncoder = joblib.load(fp)\n",
    "        return encoder.inverse_transform(data)"
   ],
   "metadata": {
    "ExecuteTime": {
     "start_time": "2023-08-12T09:39:35.568814Z",
     "end_time": "2023-08-12T09:39:35.745479Z"
    },
    "jupyter": {
     "outputs_hidden": false
    },
    "id": "_dh7nUr3TFDd",
    "collapsed": false,
    "execution": {
     "iopub.status.busy": "2023-08-09T22:20:02.813500Z",
     "iopub.execute_input": "2023-08-09T22:20:02.813977Z",
     "iopub.status.idle": "2023-08-09T22:20:02.828478Z",
     "shell.execute_reply.started": "2023-08-09T22:20:02.813944Z",
     "shell.execute_reply": "2023-08-09T22:20:02.827453Z"
    },
    "trusted": true
   },
   "execution_count": 21,
   "outputs": []
  },
  {
   "cell_type": "code",
   "source": [
    "class CustomImagesDataset(Dataset):\n",
    "    \"\"\"\n",
    "    \"\"\"\n",
    "    def __init__(self, data: pd.DataFrame=None, images_path: os.path=None, labels_path:os.path=None, transform_images: A.Compose=None, encoder_name: str=None):\n",
    "        \"\"\"\n",
    "\n",
    "        \"\"\"\n",
    "        super().__init__()\n",
    "        assert (data is not None) or (labels_path is not None and images_path is not None)\n",
    "\n",
    "        if data is None:\n",
    "            data = pd.read_csv(labels_path)\n",
    "            data['file_path'] = data['id'].apply(get_file_path_by_id, dir=images_path)\n",
    "\n",
    "        self.images_paths = data['file_path'].values\n",
    "        self.encoder_name = encoder_name if encoder_name else self.__hash__()  # We use hash as a unique name\n",
    "        print_highlighted(f\"Label Encoder saved with id `{self.encoder_name}`\")\n",
    "        apply_label_encoding(data=data, action='encode', encoder_name=self.encoder_name)\n",
    "        self.labels = data['label'].values\n",
    "#         self.indexes = data['id'].values\n",
    "        self.transform_images = transform_images\n",
    "        self.__set_dataset_len()\n",
    "\n",
    "    def __set_dataset_len(self):\n",
    "        self.length = self.labels.shape[0] # Number of rows\n",
    "\n",
    "    def __len__(self):\n",
    "        \"\"\"\n",
    "        We calculate the len in another function, so that we are able to slice.\n",
    "        \"\"\"\n",
    "        return self.length\n",
    "\n",
    "    def decode_labels(self, labels_vector):\n",
    "        return apply_label_encoding(data=labels_vector, action='decode', encoder_name=self.encoder_name)\n",
    "\n",
    "    def __getitem__(self, index) -> tuple[torch.Tensor, int]:\n",
    "        \"\"\" Function to return item by indexing the dataset \"\"\"\n",
    "\n",
    "        if not isinstance(index, int) and isinstance(index, slice):\n",
    "            # It's not an index, but slice.\n",
    "            # We will return the part of data by making a copy of the dataset\n",
    "            index: slice\n",
    "            self = deepcopy(self)\n",
    "            self.length = index.stop  # Cut the length of dataset.\n",
    "            self.labels = self.labels[:self.length]\n",
    "            return self\n",
    "        assert self.__len__() >= index\n",
    "\n",
    "        image = to_pil_image(read_image(self.images_paths[index]))\n",
    "        if self.transform_images:\n",
    "            # Albumentations requires us to convert image to Numpy Array\n",
    "            image = self.transform_images(image=np.array(image))['image']\n",
    "\n",
    "        label = self.labels[index]\n",
    "        return image, label\n",
    "\n",
    "\n",
    "    @property\n",
    "    def classes_(self):\n",
    "        return self.decode_labels(np.unique(self.labels))\n"
   ],
   "metadata": {
    "ExecuteTime": {
     "start_time": "2023-08-12T09:39:35.581184Z",
     "end_time": "2023-08-12T09:39:35.745479Z"
    },
    "jupyter": {
     "outputs_hidden": false
    },
    "id": "piJ9PgTuTFDe",
    "collapsed": false,
    "execution": {
     "iopub.status.busy": "2023-08-09T22:20:02.830115Z",
     "iopub.execute_input": "2023-08-09T22:20:02.833246Z",
     "iopub.status.idle": "2023-08-09T22:20:02.854662Z",
     "shell.execute_reply.started": "2023-08-09T22:20:02.833212Z",
     "shell.execute_reply": "2023-08-09T22:20:02.853601Z"
    },
    "trusted": true
   },
   "execution_count": 22,
   "outputs": []
  },
  {
   "cell_type": "markdown",
   "source": [
    "## 3. Augmentations"
   ],
   "metadata": {
    "id": "lB9BnVDPTFDe"
   }
  },
  {
   "cell_type": "markdown",
   "source": [
    "We use Albumantations lib"
   ],
   "metadata": {
    "id": "i-F36u_bTFDe"
   }
  },
  {
   "cell_type": "code",
   "source": [
    "data_transforms = {\n",
    "    \"train\": A.Compose([\n",
    "#         A.ToRGB(),\n",
    "        A.Resize(config.image_dimension, config.image_dimension),\n",
    "        A.ShiftScaleRotate(\n",
    "            shift_limit=0.1,\n",
    "            scale_limit=0.15,\n",
    "            rotate_limit=30,\n",
    "            p=0.5),\n",
    "        A.HueSaturationValue(\n",
    "                hue_shift_limit=30,\n",
    "                sat_shift_limit=30,\n",
    "                val_shift_limit=30,\n",
    "                p=0.5\n",
    "            ),\n",
    "        A.RandomBrightnessContrast(\n",
    "                brightness_limit=(-0.01,0.01),\n",
    "                contrast_limit=(-0.01, 0.01),\n",
    "                p=0.5\n",
    "            ),\n",
    "        A.Normalize(\n",
    "                mean=[0.485, 0.456, 0.406],\n",
    "                std=[0.229, 0.224, 0.225],\n",
    "                max_pixel_value=255.0,\n",
    "                p=1.0\n",
    "            ),\n",
    "        ToTensorV2() # Advanced analogue of T.ToTensor\n",
    "    ], p=1.),\n",
    "\n",
    "    \"val\": A.Compose([\n",
    "#         A.ToRGB(),\n",
    "        A.Resize(config.image_dimension, config.image_dimension),\n",
    "        A.Normalize(\n",
    "                mean=[0.485, 0.456, 0.406],\n",
    "                std=[0.229, 0.224, 0.225],\n",
    "                max_pixel_value=255.0,\n",
    "                p=1.0\n",
    "            ),\n",
    "        ToTensorV2()], p=1.)\n",
    "}"
   ],
   "metadata": {
    "ExecuteTime": {
     "start_time": "2023-08-12T09:39:35.601075Z",
     "end_time": "2023-08-12T09:39:35.745479Z"
    },
    "jupyter": {
     "outputs_hidden": false
    },
    "id": "tROO0x2GTFDe",
    "collapsed": false,
    "execution": {
     "iopub.status.busy": "2023-08-09T22:20:02.858739Z",
     "iopub.execute_input": "2023-08-09T22:20:02.860298Z",
     "iopub.status.idle": "2023-08-09T22:20:02.872984Z",
     "shell.execute_reply.started": "2023-08-09T22:20:02.860263Z",
     "shell.execute_reply": "2023-08-09T22:20:02.872000Z"
    },
    "trusted": true
   },
   "execution_count": 23,
   "outputs": []
  },
  {
   "cell_type": "markdown",
   "source": [
    "## 4. Load the data and have a look"
   ],
   "metadata": {
    "id": "LrSe00KeTFDe"
   }
  },
  {
   "cell_type": "code",
   "source": [
    "train_dataset = CustomImagesDataset(labels_path=config.train_labels, images_path=config.train_images_path, transform_images=data_transforms['train'], encoder_name='train')"
   ],
   "metadata": {
    "ExecuteTime": {
     "start_time": "2023-08-12T09:39:35.614378Z",
     "end_time": "2023-08-12T09:39:35.902161Z"
    },
    "jupyter": {
     "outputs_hidden": false
    },
    "id": "DmijxMsuTFDf",
    "outputId": "0f9bae18-cdd1-4716-8bc0-8d83c4eb2a3f",
    "collapsed": false,
    "execution": {
     "iopub.status.busy": "2023-08-09T22:20:02.874774Z",
     "iopub.execute_input": "2023-08-09T22:20:02.875498Z",
     "iopub.status.idle": "2023-08-09T22:20:03.037991Z",
     "shell.execute_reply.started": "2023-08-09T22:20:02.875464Z",
     "shell.execute_reply": "2023-08-09T22:20:03.037005Z"
    },
    "trusted": true
   },
   "execution_count": 24,
   "outputs": [
    {
     "name": "stdout",
     "output_type": "stream",
     "text": [
      "\u001B[43mLabel Encoder saved with id `train`\u001B[0m\n"
     ]
    }
   ]
  },
  {
   "cell_type": "code",
   "source": [
    "test_dataset = CustomImagesDataset(\n",
    "    labels_path=config.test_labels,\n",
    "    images_path=config.test_images_path,\n",
    "    transform_images=data_transforms['val'],\n",
    "    encoder_name='test',\n",
    ")"
   ],
   "metadata": {
    "id": "NyHg814zTFDf",
    "outputId": "11706677-ef27-479d-c5a7-440ddb48b538",
    "execution": {
     "iopub.status.busy": "2023-08-09T22:20:03.039511Z",
     "iopub.execute_input": "2023-08-09T22:20:03.040173Z",
     "iopub.status.idle": "2023-08-09T22:20:03.071106Z",
     "shell.execute_reply.started": "2023-08-09T22:20:03.040137Z",
     "shell.execute_reply": "2023-08-09T22:20:03.070173Z"
    },
    "trusted": true,
    "ExecuteTime": {
     "start_time": "2023-08-12T09:39:35.772189Z",
     "end_time": "2023-08-12T09:39:35.902161Z"
    }
   },
   "execution_count": 25,
   "outputs": [
    {
     "name": "stdout",
     "output_type": "stream",
     "text": [
      "\u001B[43mLabel Encoder saved with id `test`\u001B[0m\n"
     ]
    }
   ]
  },
  {
   "cell_type": "code",
   "source": [
    "to_pil_image(train_dataset[60][0])"
   ],
   "metadata": {
    "ExecuteTime": {
     "start_time": "2023-08-12T09:39:35.812231Z",
     "end_time": "2023-08-12T09:39:35.902161Z"
    },
    "id": "_bZMqZjoTFDf",
    "outputId": "a43afe2b-a8cb-4aee-9500-d4637cd905ef",
    "execution": {
     "iopub.status.busy": "2023-08-09T22:20:03.074185Z",
     "iopub.execute_input": "2023-08-09T22:20:03.074478Z",
     "iopub.status.idle": "2023-08-09T22:20:03.208510Z",
     "shell.execute_reply.started": "2023-08-09T22:20:03.074451Z",
     "shell.execute_reply": "2023-08-09T22:20:03.207585Z"
    },
    "trusted": true
   },
   "execution_count": 26,
   "outputs": [
    {
     "data": {
      "text/plain": "<PIL.Image.Image image mode=RGB size=256x256>",
      "image/png": "[encoded data removed]",
      "image/jpeg": "[encoded data removed]"
     },
     "execution_count": 26,
     "metadata": {},
     "output_type": "execute_result"
    }
   ]
  },
  {
   "cell_type": "code",
   "source": [
    "config.num_of_classes = len(train_dataset.classes_)\n",
    "config.num_of_classes"
   ],
   "metadata": {
    "ExecuteTime": {
     "start_time": "2023-08-12T09:39:35.872727Z",
     "end_time": "2023-08-12T09:39:35.902161Z"
    },
    "jupyter": {
     "outputs_hidden": false
    },
    "id": "UUS_aiISTFDf",
    "outputId": "832f5ec9-3895-4f71-bc96-6e626c74ab34",
    "collapsed": false,
    "execution": {
     "iopub.status.busy": "2023-08-09T22:20:03.209549Z",
     "iopub.execute_input": "2023-08-09T22:20:03.209890Z",
     "iopub.status.idle": "2023-08-09T22:20:03.221650Z",
     "shell.execute_reply.started": "2023-08-09T22:20:03.209855Z",
     "shell.execute_reply": "2023-08-09T22:20:03.220545Z"
    },
    "trusted": true
   },
   "execution_count": 27,
   "outputs": [
    {
     "data": {
      "text/plain": "760"
     },
     "execution_count": 27,
     "metadata": {},
     "output_type": "execute_result"
    }
   ]
  },
  {
   "cell_type": "markdown",
   "source": [
    "Below we ensure that the test dataset doesn't contain unknown data"
   ],
   "metadata": {
    "id": "1T2BVhnkTFDf"
   }
  },
  {
   "cell_type": "code",
   "source": [
    "assert not bool(set(test_dataset.classes_) - set(train_dataset.classes_))"
   ],
   "metadata": {
    "id": "52QN-ziNTFDg",
    "execution": {
     "iopub.status.busy": "2023-08-09T22:20:03.223465Z",
     "iopub.execute_input": "2023-08-09T22:20:03.224289Z",
     "iopub.status.idle": "2023-08-09T22:20:03.233234Z",
     "shell.execute_reply.started": "2023-08-09T22:20:03.224255Z",
     "shell.execute_reply": "2023-08-09T22:20:03.232287Z"
    },
    "trusted": true,
    "ExecuteTime": {
     "start_time": "2023-08-12T09:39:35.886910Z",
     "end_time": "2023-08-12T09:39:35.902161Z"
    }
   },
   "execution_count": 28,
   "outputs": []
  },
  {
   "cell_type": "code",
   "source": [
    "print(*train_dataset.classes_[:20], sep=';  ', end='...')"
   ],
   "metadata": {
    "ExecuteTime": {
     "start_time": "2023-08-12T09:39:35.902161Z",
     "end_time": "2023-08-12T09:39:35.926862Z"
    },
    "id": "lYMINDi1TFDj",
    "outputId": "bdd6cc65-de03-495d-9883-53906ce9a165",
    "execution": {
     "iopub.status.busy": "2023-08-09T22:20:03.234578Z",
     "iopub.execute_input": "2023-08-09T22:20:03.235200Z",
     "iopub.status.idle": "2023-08-09T22:20:03.244520Z",
     "shell.execute_reply.started": "2023-08-09T22:20:03.235166Z",
     "shell.execute_reply": "2023-08-09T22:20:03.243484Z"
    },
    "trusted": true
   },
   "execution_count": 29,
   "outputs": [
    {
     "name": "stdout",
     "output_type": "stream",
     "text": [
      "Acura_MDX;  Alfa Romeo_Giulietta;  Audi_100;  Audi_80;  Audi_A1;  Audi_A3;  Audi_A4;  Audi_A5;  Audi_A6;  Audi_A7;  Audi_A8;  Audi_Q3;  Audi_Q5;  Audi_Q7;  Audi_R8;  Audi_RS6;  Audi_S5;  Audi_S8;  Audi_TT;  BAW_FENIX..."
     ]
    }
   ]
  },
  {
   "cell_type": "markdown",
   "source": [
    "# 3. Model"
   ],
   "metadata": {
    "id": "1nrMvID-TFDk"
   }
  },
  {
   "cell_type": "markdown",
   "source": [
    "ArcFace loss function is used on the embeddings, not on the final predictions"
   ],
   "metadata": {
    "collapsed": false
   }
  },
  {
   "cell_type": "markdown",
   "source": [
    "## 1. Getting the pretrained model"
   ],
   "metadata": {
    "id": "CC_wCexMTFDk"
   }
  },
  {
   "cell_type": "code",
   "execution_count": 30,
   "outputs": [],
   "source": [
    "def get_input_feature_size(classifier: nn.Sequential) -> int:\n",
    "    for module in classifier.modules():\n",
    "        if isinstance(module, nn.Linear):\n",
    "            return module.in_features"
   ],
   "metadata": {
    "collapsed": false,
    "ExecuteTime": {
     "start_time": "2023-08-12T09:39:35.916795Z",
     "end_time": "2023-08-12T09:39:35.966596Z"
    }
   }
  },
  {
   "cell_type": "code",
   "source": [
    "def get_model(model_name='resnet18', from_path=None, pretrained=False, freeze_layers=0.0, get_embeddings=False) -> torch.nn.Module:\n",
    "    if from_path:\n",
    "        try:\n",
    "            model = torch.load(from_path, map_location=torch.device(\"cuda\" if torch.cuda.is_available() else \"cpu\"))\n",
    "        except FileNotFoundError:\n",
    "            raise\n",
    "    elif model_name:\n",
    "        model = getattr(models, model_name) # We use builtin function\n",
    "        model = model(\n",
    "        weights=('DEFAULT' if pretrained else None)\n",
    "        )\n",
    "\n",
    "    if bool(freeze_layers):\n",
    "        params = list(model.parameters())\n",
    "        for param in params[:int(len(params)*freeze_layers)]:\n",
    "            # Freeze some layers\n",
    "            param.requires_grad = False\n",
    "\n",
    "    if get_embeddings:\n",
    "        # That means remove classifier (last layer):\n",
    "        model.classifier = nn.Sequential(\n",
    "            # nn.Dropout(p=0.3, inplace=True),\n",
    "            nn.Linear(in_features=get_input_feature_size(model.classifier),\n",
    "                      out_features=config.embedding_size, bias=True\n",
    "                      ),\n",
    "\n",
    "        )\n",
    "    return model"
   ],
   "metadata": {
    "ExecuteTime": {
     "start_time": "2023-08-12T09:39:35.926862Z",
     "end_time": "2023-08-12T09:39:36.253381Z"
    },
    "id": "-NUikulCTFDk",
    "execution": {
     "iopub.status.busy": "2023-08-10T00:56:55.322927Z",
     "iopub.execute_input": "2023-08-10T00:56:55.323546Z",
     "iopub.status.idle": "2023-08-10T00:56:55.332240Z",
     "shell.execute_reply.started": "2023-08-10T00:56:55.323510Z",
     "shell.execute_reply": "2023-08-10T00:56:55.331164Z"
    },
    "trusted": true
   },
   "execution_count": 31,
   "outputs": []
  },
  {
   "cell_type": "markdown",
   "source": [
    "We can fine-tune the model or train from scratch"
   ],
   "metadata": {
    "collapsed": false
   }
  },
  {
   "cell_type": "code",
   "source": [
    "# model = get_model(\n",
    "#     model_name=config.model_name,\n",
    "#     pretrained=True,\n",
    "#     freeze_layers=0.0,\n",
    "#     get_embeddings=False\n",
    "# )"
   ],
   "metadata": {
    "ExecuteTime": {
     "start_time": "2023-08-12T09:39:35.941190Z",
     "end_time": "2023-08-12T09:39:36.287885Z"
    },
    "id": "v-BpLsBTTFDk",
    "outputId": "9f1358ab-175a-482d-a430-85a36c85a9c0",
    "execution": {
     "iopub.status.busy": "2023-08-09T22:08:08.640243Z",
     "iopub.execute_input": "2023-08-09T22:08:08.640975Z",
     "iopub.status.idle": "2023-08-09T22:08:08.651200Z",
     "shell.execute_reply.started": "2023-08-09T22:08:08.640939Z",
     "shell.execute_reply": "2023-08-09T22:08:08.649807Z"
    },
    "trusted": true
   },
   "execution_count": 32,
   "outputs": []
  },
  {
   "cell_type": "markdown",
   "source": [
    "Or fine-tine the model that we've trained before"
   ],
   "metadata": {}
  },
  {
   "cell_type": "code",
   "source": [
    "model = get_model(\n",
    "    from_path=config.model_path,\n",
    "    pretrained=True,\n",
    "    freeze_layers=0.0,\n",
    "    get_embeddings=True\n",
    ")"
   ],
   "metadata": {
    "execution": {
     "iopub.status.busy": "2023-08-10T00:57:28.540271Z",
     "iopub.execute_input": "2023-08-10T00:57:28.540961Z",
     "iopub.status.idle": "2023-08-10T00:57:28.636787Z",
     "shell.execute_reply.started": "2023-08-10T00:57:28.540923Z",
     "shell.execute_reply": "2023-08-10T00:57:28.635793Z"
    },
    "trusted": true,
    "ExecuteTime": {
     "start_time": "2023-08-12T09:39:35.950953Z",
     "end_time": "2023-08-12T09:39:36.287885Z"
    }
   },
   "execution_count": 33,
   "outputs": []
  },
  {
   "cell_type": "markdown",
   "source": [
    "It is a model that doesn't have classifier - only one linear layer that transforms embeddings to desired size"
   ],
   "metadata": {
    "collapsed": false
   }
  },
  {
   "cell_type": "code",
   "source": [
    "model.classifier"
   ],
   "metadata": {
    "id": "GsWQ0vJoTFDm",
    "outputId": "fe3553cc-d992-44f6-f031-4c1c49705080",
    "execution": {
     "iopub.status.busy": "2023-08-09T22:25:08.178218Z",
     "iopub.execute_input": "2023-08-09T22:25:08.178567Z",
     "iopub.status.idle": "2023-08-09T22:25:08.184541Z",
     "shell.execute_reply.started": "2023-08-09T22:25:08.178536Z",
     "shell.execute_reply": "2023-08-09T22:25:08.183603Z"
    },
    "trusted": true,
    "ExecuteTime": {
     "start_time": "2023-08-12T09:39:36.101114Z",
     "end_time": "2023-08-12T09:39:36.287885Z"
    }
   },
   "execution_count": 34,
   "outputs": [
    {
     "data": {
      "text/plain": "Sequential(\n  (0): Dropout(p=0.2, inplace=True)\n  (1): Linear(in_features=1280, out_features=760, bias=True)\n  (2): Softmax(dim=-1)\n)"
     },
     "execution_count": 34,
     "metadata": {},
     "output_type": "execute_result"
    }
   ]
  },
  {
   "cell_type": "markdown",
   "source": [
    "# 4. Various"
   ],
   "metadata": {
    "id": "t6rYKZFqTFDn"
   }
  },
  {
   "cell_type": "markdown",
   "source": [
    "## 1. Quality metrics"
   ],
   "metadata": {
    "id": "UhnkDGSqTFDn"
   }
  },
  {
   "cell_type": "markdown",
   "source": [
    "We will use accuracy and F1 score for out classification task"
   ],
   "metadata": {
    "id": "VpjMrvnfWgHC"
   }
  },
  {
   "cell_type": "code",
   "source": [
    "f1_score = MulticlassF1Score(num_classes=config.num_of_classes, average=\"macro\")"
   ],
   "metadata": {
    "id": "c_2AwnsfTFDn",
    "execution": {
     "iopub.status.busy": "2023-08-09T22:25:18.771353Z",
     "iopub.execute_input": "2023-08-09T22:25:18.771718Z",
     "iopub.status.idle": "2023-08-09T22:25:18.779805Z",
     "shell.execute_reply.started": "2023-08-09T22:25:18.771689Z",
     "shell.execute_reply": "2023-08-09T22:25:18.778849Z"
    },
    "trusted": true,
    "ExecuteTime": {
     "start_time": "2023-08-12T09:39:36.122239Z",
     "end_time": "2023-08-12T09:39:36.287885Z"
    }
   },
   "execution_count": 36,
   "outputs": []
  },
  {
   "cell_type": "markdown",
   "source": [
    "## 2. Device"
   ],
   "metadata": {
    "id": "WqgSgG2_TFDn"
   }
  },
  {
   "cell_type": "code",
   "source": [
    "device = torch.device(\"cuda\" if torch.cuda.is_available() else \"cpu\")\n",
    "model = model.to(device)\n",
    "f1_score = f1_score.to(device)\n",
    "torch.cuda.empty_cache()"
   ],
   "metadata": {
    "id": "F7zEDfFvTFDo",
    "execution": {
     "iopub.status.busy": "2023-08-09T22:25:19.337266Z",
     "iopub.execute_input": "2023-08-09T22:25:19.338243Z",
     "iopub.status.idle": "2023-08-09T22:25:19.351874Z",
     "shell.execute_reply.started": "2023-08-09T22:25:19.338211Z",
     "shell.execute_reply": "2023-08-09T22:25:19.350768Z"
    },
    "trusted": true,
    "ExecuteTime": {
     "start_time": "2023-08-12T09:39:36.135928Z",
     "end_time": "2023-08-12T09:39:36.287885Z"
    }
   },
   "execution_count": 37,
   "outputs": []
  },
  {
   "cell_type": "markdown",
   "source": [
    "## 3. Data processing format"
   ],
   "metadata": {
    "id": "E7mbVBoGTFDo"
   }
  },
  {
   "cell_type": "code",
   "source": [
    "config.train_batch_size, config.val_batch_size"
   ],
   "metadata": {
    "id": "7xJPcyHwTFDo",
    "execution": {
     "iopub.status.busy": "2023-08-09T22:25:23.748461Z",
     "iopub.execute_input": "2023-08-09T22:25:23.748821Z",
     "iopub.status.idle": "2023-08-09T22:25:23.753728Z",
     "shell.execute_reply.started": "2023-08-09T22:25:23.748792Z",
     "shell.execute_reply": "2023-08-09T22:25:23.752660Z"
    },
    "trusted": true,
    "ExecuteTime": {
     "start_time": "2023-08-12T09:39:36.153383Z",
     "end_time": "2023-08-12T09:39:36.287885Z"
    }
   },
   "execution_count": 38,
   "outputs": []
  },
  {
   "cell_type": "code",
   "source": [
    "train_dataloader = DataLoader(train_dataset,\n",
    "                              batch_size=config.train_batch_size,\n",
    "                              shuffle=True,\n",
    "                              num_workers=os.cpu_count() % 4,\n",
    ")"
   ],
   "metadata": {
    "id": "IqrseI2gTFDo",
    "execution": {
     "iopub.status.busy": "2023-08-09T22:25:25.481543Z",
     "iopub.execute_input": "2023-08-09T22:25:25.481895Z",
     "iopub.status.idle": "2023-08-09T22:25:25.487355Z",
     "shell.execute_reply.started": "2023-08-09T22:25:25.481866Z",
     "shell.execute_reply": "2023-08-09T22:25:25.486029Z"
    },
    "trusted": true,
    "ExecuteTime": {
     "start_time": "2023-08-12T09:39:36.162219Z",
     "end_time": "2023-08-12T09:39:36.314617Z"
    }
   },
   "execution_count": 39,
   "outputs": []
  },
  {
   "cell_type": "code",
   "source": [
    "test_dataloader = DataLoader(test_dataset,\n",
    "                              batch_size=config.val_batch_size,\n",
    "                              shuffle=False,\n",
    "                              num_workers=os.cpu_count() % 4,\n",
    ")"
   ],
   "metadata": {
    "id": "GeiY7hELTFDo",
    "execution": {
     "iopub.status.busy": "2023-08-09T22:25:26.035360Z",
     "iopub.execute_input": "2023-08-09T22:25:26.035719Z",
     "iopub.status.idle": "2023-08-09T22:25:26.042180Z",
     "shell.execute_reply.started": "2023-08-09T22:25:26.035689Z",
     "shell.execute_reply": "2023-08-09T22:25:26.041099Z"
    },
    "trusted": true,
    "ExecuteTime": {
     "start_time": "2023-08-12T09:39:36.173261Z",
     "end_time": "2023-08-12T09:39:36.314617Z"
    }
   },
   "execution_count": 40,
   "outputs": []
  },
  {
   "cell_type": "markdown",
   "source": [
    "# 5. Embeddings processing"
   ],
   "metadata": {
    "collapsed": false
   }
  },
  {
   "cell_type": "code",
   "execution_count": null,
   "outputs": [],
   "source": [
    "@torch.inference_mode()\n",
    "def get_embeddings(model, dataloader, device):\n",
    "    model.eval()\n",
    "    all_embeddings = []\n",
    "    all_labels = []\n",
    "\n",
    "    with tqdm(dataloader, desc=\"Processing\",unit=\"batch\") as process:\n",
    "        for images, labels in process:\n",
    "            images = images.to(device)\n",
    "            labels = labels.to(device)\n",
    "            embeddings = model(images)\n",
    "\n",
    "            all_embeddings.extend(tuple(embeddings.cpu().numpy()))\n",
    "            all_labels.extend(tuple(labels.cpu().numpy()))\n",
    "\n",
    "    return np.squeeze(np.array(all_embeddings)), np.array(all_labels)\n",
    "    # return np.squeeze(np.array(embeddings))"
   ],
   "metadata": {
    "collapsed": false
   }
  },
  {
   "cell_type": "code",
   "execution_count": null,
   "outputs": [],
   "source": [
    "embeddings_bag, labels = get_embeddings(model, test_dataloader, device)"
   ],
   "metadata": {
    "collapsed": false
   }
  },
  {
   "cell_type": "code",
   "execution_count": null,
   "outputs": [],
   "source": [
    "def reduce_dimension(dimension, features, reduce_with='pca',) -> np.array:\n",
    "    \"\"\" Perform dimensionality reduction with PCA or t-SNE \"\"\"\n",
    "\n",
    "    assert reduce_with.lower() in ['pca', 'tsne']\n",
    "\n",
    "    if reduce_with.lower() == 'tsne':\n",
    "        reductor = TSNE(n_components=dimension, perplexity=2.0)\n",
    "    else: # PCA\n",
    "        reductor = PCA(n_components=dimension)\n",
    "\n",
    "    reduced_features = reductor.fit_transform(features)\n",
    "    return reduced_features"
   ],
   "metadata": {
    "collapsed": false
   }
  },
  {
   "cell_type": "code",
   "execution_count": null,
   "outputs": [],
   "source": [
    "def visualize_embeddings(embeddings, labels, reduce_with='pca', save_as: str=None,):\n",
    "    \"\"\"\n",
    "    To project the embeddings vectors onto a low-dimensional space (2d or 3d)\n",
    "    :param embeddings:\n",
    "    :param labels:\n",
    "    :param reduce_with:\n",
    "    :param save_as:\n",
    "    :return:\n",
    "    \"\"\"\n",
    "    assert reduce_with in ['pca', 'tsne']\n",
    "\n",
    "    embeddings = embeddings.squeeze()\n",
    "\n",
    "    embeddings_2d = reduce_dimension(\n",
    "        dimension=2,\n",
    "        features=embeddings,\n",
    "        reduce_with=reduce_with\n",
    "    )\n",
    "    embeddings_3d = reduce_dimension(\n",
    "        dimension=3,\n",
    "        features=embeddings,\n",
    "        reduce_with=reduce_with\n",
    "    )\n",
    "\n",
    "    # Plot the dots in 3D or 2D\n",
    "    fig = plt.figure(figsize=(16,6))\n",
    "\n",
    "    # 2D\n",
    "    ax = fig.add_subplot(1,3,1)\n",
    "    dots = (embeddings_2d[:, 0], embeddings_2d[:, 1])\n",
    "    ax.scatter(*dots, c=labels, cmap='viridis')\n",
    "    ax.set_title('2D')\n",
    "    ax.set_xlabel('X')\n",
    "    ax.set_ylabel('Y')\n",
    "\n",
    "\n",
    "    # Hypersphere\n",
    "    phi = embeddings_2d[:, 0] * 2 * np.pi\n",
    "    theta = (embeddings_2d[:, 1] - 0.5) * 2 * np.pi\n",
    "    r = 1.0  # Radius\n",
    "    x = r * np.sin(theta) * np.cos(phi)\n",
    "    y = r * np.sin(theta) * np.sin(phi)\n",
    "    z = r * np.cos(theta)\n",
    "\n",
    "    ax = fig.add_subplot(1,3,2, projection='3d')\n",
    "    dots = (x, y, z)\n",
    "    ax.scatter(*dots, c=labels, cmap='viridis')\n",
    "    ax.set_title('Sphere distribution')\n",
    "    ax.set_xlabel('X')\n",
    "    ax.set_ylabel('Y')\n",
    "    ax.set_zlabel('Z')\n",
    "\n",
    "\n",
    "    # Simple 3D\n",
    "    ax = fig.add_subplot(1,3,3, projection='3d')\n",
    "    dots = (embeddings_3d[:, 0], embeddings_3d[:, 1], embeddings_3d[:, 2])\n",
    "    ax.scatter(*dots, c=labels, cmap='viridis')\n",
    "    ax.set_title('3D')\n",
    "    ax.set_xlabel('X')\n",
    "    ax.set_ylabel('Y')\n",
    "    ax.set_zlabel('Z')\n",
    "\n",
    "\n",
    "    if save_as:\n",
    "        plt.savefig(f'{save_as}.png')\n",
    "    plt.tight_layout()\n",
    "    plt.show()\n"
   ],
   "metadata": {
    "collapsed": false
   }
  },
  {
   "cell_type": "code",
   "execution_count": null,
   "outputs": [],
   "source": [
    "visualize_embeddings(\n",
    "    embeddings_bag,\n",
    "    labels,\n",
    "    reduce_with='tsne',\n",
    "    # reduce_with='pca',\n",
    ")"
   ],
   "metadata": {
    "collapsed": false
   }
  },
  {
   "cell_type": "markdown",
   "source": [
    "# 5. Initialize the train process"
   ],
   "metadata": {
    "id": "qCM07xVnTFDp"
   }
  },
  {
   "cell_type": "markdown",
   "source": [
    "## 1. Functions to plot the result"
   ],
   "metadata": {
    "id": "afGGK718TFDp"
   }
  },
  {
   "cell_type": "code",
   "source": [
    "def plot_two_curves(\n",
    "        title: str,\n",
    "        train_curve: list[float],\n",
    "        val_curve: list[float],\n",
    "\n",
    "):\n",
    "    plt.figure(figsize=(16, 8))\n",
    "    plt.title(title)\n",
    "    plt.plot(train_curve, label=f'Train {title}')\n",
    "    plt.plot(val_curve, label=f'Valid {title}')\n",
    "    plt.legend()\n",
    "    plt.grid()\n",
    "    plt.show()\n",
    "    #plt.savefig(title)"
   ],
   "metadata": {
    "id": "QVJL1liGTFDp",
    "execution": {
     "iopub.status.busy": "2023-08-10T00:22:22.430881Z",
     "iopub.execute_input": "2023-08-10T00:22:22.431763Z",
     "iopub.status.idle": "2023-08-10T00:22:22.438458Z",
     "shell.execute_reply.started": "2023-08-10T00:22:22.431724Z",
     "shell.execute_reply": "2023-08-10T00:22:22.437483Z"
    },
    "trusted": true,
    "ExecuteTime": {
     "start_time": "2023-08-12T09:39:36.184839Z",
     "end_time": "2023-08-12T09:39:36.314617Z"
    }
   },
   "execution_count": 41,
   "outputs": []
  },
  {
   "cell_type": "code",
   "source": [
    "def plot_stats(\n",
    "        train_loss: list[float],\n",
    "        valid_loss: list[float],\n",
    "        train_accuracy: list[float]=None,\n",
    "        valid_accuracy: list[float]=None,\n",
    "        train_f1_score: list[float]=None,\n",
    "        valid_f1_score: list[float]=None,\n",
    "        title: str = None\n",
    "):\n",
    "    plot_two_curves(\n",
    "        'Loss',\n",
    "        train_loss,\n",
    "        valid_loss\n",
    "    )\n",
    "\n",
    "    if train_accuracy and valid_accuracy:\n",
    "        plot_two_curves(\n",
    "            'accuracy',\n",
    "            train_accuracy,\n",
    "            valid_accuracy\n",
    "        )\n",
    "\n",
    "    if train_f1_score and valid_f1_score:\n",
    "        plot_two_curves(\n",
    "            'F1 score',\n",
    "            train_f1_score,\n",
    "            valid_f1_score\n",
    "        )\n"
   ],
   "metadata": {
    "id": "GQrWiRJbTFDp",
    "execution": {
     "iopub.status.busy": "2023-08-09T22:25:28.180329Z",
     "iopub.execute_input": "2023-08-09T22:25:28.180694Z",
     "iopub.status.idle": "2023-08-09T22:25:28.187874Z",
     "shell.execute_reply.started": "2023-08-09T22:25:28.180664Z",
     "shell.execute_reply": "2023-08-09T22:25:28.186773Z"
    },
    "trusted": true,
    "ExecuteTime": {
     "start_time": "2023-08-12T09:41:59.575896Z",
     "end_time": "2023-08-12T09:41:59.670849Z"
    }
   },
   "execution_count": 64,
   "outputs": []
  },
  {
   "cell_type": "markdown",
   "source": [
    "## 2. Training and evaluation functions"
   ],
   "metadata": {
    "id": "ePLlKs4rTFDq"
   }
  },
  {
   "cell_type": "code",
   "source": [
    "def train_one_epoch(model, dataloader, optimizer, criterion, device, epoch: str):\n",
    "    model.train()\n",
    "\n",
    "    train_loss = 0.0\n",
    "    # train_correct = 0.0\n",
    "    # train_f1 = 0.0\n",
    "    n_batches = 0\n",
    "    data_size = 0\n",
    "    \n",
    "    with tqdm(dataloader, desc=f'Epoch: {epoch}', unit=\"batch\") as tepoch:\n",
    "        for images, labels in tepoch:\n",
    "            labels = labels.type(torch.LongTensor)\n",
    "            n_batches += 1\n",
    "            images = images.to(device)\n",
    "            labels = labels.to(device)\n",
    "\n",
    "            optimizer.zero_grad()\n",
    "\n",
    "            embeddings = model(images)\n",
    "\n",
    "            loss = criterion(embeddings, labels)\n",
    "            loss.backward()\n",
    "            optimizer.step()\n",
    "\n",
    "            loss = loss.item()  # item() extracts scalar\n",
    "            train_loss += loss\n",
    "\n",
    "            # _, predicted = torch.max(embeddings.data, 1)\n",
    "\n",
    "            # train_correct += (predicted == labels).sum().item()\n",
    "            data_size += labels.size(0)\n",
    "            # train_accuracy = train_correct / data_size\n",
    "\n",
    "            # f1 = f1_score(predicted, labels).item()\n",
    "            # train_f1 += f1\n",
    "            tepoch.set_postfix(loss=loss,)\n",
    "\n",
    "    train_loss /= n_batches\n",
    "    # train_f1 /= n_batches\n",
    "    gc.collect()\n",
    "    torch.cuda.empty_cache()\n",
    "\n",
    "    return train_loss"
   ],
   "metadata": {
    "id": "QObsYKNJTFDq",
    "execution": {
     "iopub.status.busy": "2023-08-09T22:25:28.851198Z",
     "iopub.execute_input": "2023-08-09T22:25:28.852160Z",
     "iopub.status.idle": "2023-08-09T22:25:28.861942Z",
     "shell.execute_reply.started": "2023-08-09T22:25:28.852115Z",
     "shell.execute_reply": "2023-08-09T22:25:28.860929Z"
    },
    "trusted": true,
    "ExecuteTime": {
     "start_time": "2023-08-12T09:45:16.573930Z",
     "end_time": "2023-08-12T09:45:16.668278Z"
    }
   },
   "execution_count": 91,
   "outputs": []
  },
  {
   "cell_type": "code",
   "source": [
    "@torch.inference_mode()\n",
    "def validate_one_epoch(model, dataloader, criterion, device):\n",
    "    model.eval()\n",
    "\n",
    "    val_loss = 0.0\n",
    "    # val_correct = 0.0\n",
    "    # val_f1_score = 0.0\n",
    "    data_size = 0\n",
    "    n_batches = 0\n",
    "\n",
    "    with tqdm(dataloader, desc=\"Validation\",unit=\"batch\") as tepoch:\n",
    "        for images, labels in tepoch:\n",
    "            labels = labels.type(torch.LongTensor)\n",
    "            n_batches += 1\n",
    "            images = images.to(device)\n",
    "            labels = labels.to(device)\n",
    "            embeddings = model(images)\n",
    "\n",
    "            loss = criterion(embeddings, labels).item()\n",
    "            val_loss += loss\n",
    "\n",
    "            _, predicted = torch.max(embeddings.data, 1)\n",
    "\n",
    "            # correct = (predicted == labels).sum().item()\n",
    "            # val_correct += correct\n",
    "            data_size += labels.size(0)\n",
    "            # val_accuracy = val_correct / data_size\n",
    "\n",
    "            # f1 = f1_score(predicted, labels).item()\n",
    "            # val_f1_score += f1\n",
    "            tepoch.set_postfix(loss=loss)\n",
    "\n",
    "    val_loss /= n_batches\n",
    "    # val_f1_score /= n_batches\n",
    "    gc.collect()\n",
    "    torch.cuda.empty_cache()\n",
    "\n",
    "    return val_loss"
   ],
   "metadata": {
    "id": "shn8rP6wTFDq",
    "execution": {
     "iopub.status.busy": "2023-08-09T22:25:29.108706Z",
     "iopub.execute_input": "2023-08-09T22:25:29.109746Z",
     "iopub.status.idle": "2023-08-09T22:25:29.121883Z",
     "shell.execute_reply.started": "2023-08-09T22:25:29.109699Z",
     "shell.execute_reply": "2023-08-09T22:25:29.118338Z"
    },
    "trusted": true,
    "ExecuteTime": {
     "start_time": "2023-08-12T09:45:16.932526Z",
     "end_time": "2023-08-12T09:45:16.989967Z"
    }
   },
   "execution_count": 92,
   "outputs": []
  },
  {
   "cell_type": "markdown",
   "source": [
    "## 3. Training cycle"
   ],
   "metadata": {
    "id": "1TWCVEGYTFDq"
   }
  },
  {
   "cell_type": "code",
   "source": [
    "def train_model(model, train_loader, val_loader,\n",
    "                criterion=None, optimizer=None, num_epochs=5,\n",
    "                scheduler=None, device=torch.device(\"cpu\"),\n",
    "                save_model_to=None):\n",
    "    since = time.time()\n",
    "\n",
    "    train_loss_history, valid_loss_history = [], []\n",
    "    train_acc_history, valid_acc_history = None, None\n",
    "    train_f1_history, valid_f1_history = None, None\n",
    "\n",
    "\n",
    "    # Create a temporary directory to save training checkpoints\n",
    "    with TemporaryDirectory() as tempdir:\n",
    "        best_model_params_path = os.path.join(tempdir, 'best_model_params.pt')\n",
    "\n",
    "        for epoch in range(num_epochs):\n",
    "            train_loss = train_one_epoch(model, train_loader, optimizer, criterion, device, epoch=f'{epoch+1}/{num_epochs}')\n",
    "            val_loss = validate_one_epoch(model, val_loader, criterion, device,)\n",
    "\n",
    "            \n",
    "            print_highlighted(\n",
    "                f\"Loss: {val_loss:.4f} - LR: {get_lr(optimizer)}\"\n",
    "            )\n",
    "\n",
    "            if not valid_loss_history or val_loss < valid_loss_history[-1]:\n",
    "                # If it's either first step (history is empty) or our weights are getting better\n",
    "                print_highlighted(\"New weights were applied.\\n\", bgcolor=Back.CYAN)\n",
    "                torch.save(model.state_dict(), best_model_params_path)\n",
    "\n",
    "            scheduler.step(val_loss)\n",
    "\n",
    "            train_loss_history.append(train_loss)\n",
    "            valid_loss_history.append(val_loss)\n",
    "\n",
    "            del train_loss\n",
    "            del val_loss\n",
    "            gc.collect()\n",
    "            torch.cuda.empty_cache()\n",
    "\n",
    "        time_elapsed = time.time() - since\n",
    "        print_highlighted(f'Training complete in {time_elapsed // 60:.0f}m {time_elapsed % 60:.0f}s')\n",
    "\n",
    "        # load best model weights\n",
    "        model.load_state_dict(torch.load(best_model_params_path))\n",
    "\n",
    "        if save_model_to:\n",
    "            torch.save(model, save_model_to)\n",
    "            print(f\"Model was saved to: {save_model_to}\")\n",
    "\n",
    "        history = dict(\n",
    "            train_loss=train_loss_history,\n",
    "            valid_loss=valid_loss_history,\n",
    "            train_accuracy=train_acc_history,\n",
    "            valid_accuracy=valid_acc_history,\n",
    "            train_f1_score=train_f1_history,\n",
    "            valid_f1_score=valid_f1_history,\n",
    "        )\n",
    "    return model, history"
   ],
   "metadata": {
    "id": "CXrp7xrOTFDu",
    "execution": {
     "iopub.status.busy": "2023-08-09T22:25:29.663634Z",
     "iopub.execute_input": "2023-08-09T22:25:29.664885Z",
     "iopub.status.idle": "2023-08-09T22:25:29.678290Z",
     "shell.execute_reply.started": "2023-08-09T22:25:29.664842Z",
     "shell.execute_reply": "2023-08-09T22:25:29.677239Z"
    },
    "trusted": true,
    "ExecuteTime": {
     "start_time": "2023-08-12T09:45:17.738181Z",
     "end_time": "2023-08-12T09:45:17.791357Z"
    }
   },
   "execution_count": 93,
   "outputs": []
  },
  {
   "cell_type": "markdown",
   "source": [
    "# 6. Hyperparametres"
   ],
   "metadata": {
    "id": "GV7CqxbwTFDu"
   }
  },
  {
   "cell_type": "markdown",
   "source": [
    "## 1. ArcFace Loss"
   ],
   "metadata": {
    "collapsed": false
   }
  },
  {
   "cell_type": "markdown",
   "source": [
    "Custom Loss Function"
   ],
   "metadata": {
    "id": "zuQ9db32TFDv"
   }
  },
  {
   "cell_type": "markdown",
   "source": [
    "$$L = - \\frac{1}{N} \\sum_{i=1}^{N}\\; \\log \\frac{e^{s(\\cos(\\theta_{y_i} +m))}}\n",
    "{e^{s\\cos(\\theta_{y_i} +m)} + \\sum_{j=1, j\\neq {y_i}}^{n} e^{s\\cos(\\theta_{j})}}$$"
   ],
   "metadata": {
    "collapsed": false
   }
  },
  {
   "cell_type": "code",
   "execution_count": 94,
   "outputs": [],
   "source": [
    "# !pip install pytorch_metric_learning"
   ],
   "metadata": {
    "collapsed": false,
    "ExecuteTime": {
     "start_time": "2023-08-12T09:45:18.693854Z",
     "end_time": "2023-08-12T09:45:18.752369Z"
    }
   }
  },
  {
   "cell_type": "code",
   "execution_count": 95,
   "outputs": [],
   "source": [
    "from pytorch_metric_learning import losses"
   ],
   "metadata": {
    "collapsed": false,
    "ExecuteTime": {
     "start_time": "2023-08-12T09:45:18.955848Z",
     "end_time": "2023-08-12T09:45:18.993533Z"
    }
   }
  },
  {
   "cell_type": "code",
   "execution_count": null,
   "outputs": [],
   "source": [
    "class ArcFaceLoss(nn.Module):\n",
    "    def __init__(self, embedding_size, num_classes, margin=0.5, scale=64):\n",
    "        super().__init__()\n",
    "        self.embedding_size = embedding_size\n",
    "        self.num_classes = num_classes\n",
    "        self.margin = margin\n",
    "        self.scale = scale\n",
    "        self.weight = nn.Parameter(torch.FloatTensor(num_classes, embedding_size))\n",
    "        nn.init.xavier_uniform_(self.weight)\n",
    "\n",
    "    def forward(self, embeddings, labels):\n",
    "        # Normalize the embeddings and weights\n",
    "        embeddings = torch.from_numpy(embeddings)\n",
    "        labels = torch.tensor(labels, dtype=torch.long)\n",
    "\n",
    "        embeddings = F.normalize(embeddings, dim=1)\n",
    "        weights = F.normalize(self.weight, dim=1)\n",
    "\n",
    "        # Compute the cosine similarity between embeddings and weights\n",
    "        cosine_sim = F.linear(embeddings, weights)\n",
    "\n",
    "        # Calculate the theta (angle) values for each class\n",
    "        theta = torch.acos(torch.clip(cosine_sim, -1 + 1e-7, 1 - 1e-7))\n",
    "\n",
    "        # Apply the ArcFace margin and calculate logits\n",
    "        target_logits = torch.cos(theta + self.margin)\n",
    "        one_hot_labels = F.one_hot(labels, self.num_classes).bool()\n",
    "        logits = self.scale * torch.where(one_hot_labels, target_logits, cosine_sim)\n",
    "\n",
    "        # Calculate the cross-entropy loss\n",
    "        loss = F.cross_entropy(logits, labels)\n",
    "\n",
    "        return loss"
   ],
   "metadata": {
    "collapsed": false
   }
  },
  {
   "cell_type": "code",
   "source": [
    "# criterion = nn.CrossEntropyLoss()\n",
    "# criterion = losses.ArcFaceLoss(\n",
    "#     num_classes=config.num_of_classes,\n",
    "#     embedding_size=config.embedding_size\n",
    "# )\n",
    "criterion = ArcFaceLoss(\n",
    "    embedding_size=config.embedding_size,\n",
    "    num_classes=config.num_of_classes,\n",
    ")"
   ],
   "metadata": {
    "ExecuteTime": {
     "start_time": "2023-08-12T09:45:19.147480Z",
     "end_time": "2023-08-12T09:45:19.209048Z"
    },
    "jupyter": {
     "outputs_hidden": false
    },
    "id": "PQ1_CTZaTFDw",
    "collapsed": false,
    "execution": {
     "iopub.status.busy": "2023-08-09T22:29:52.887496Z",
     "iopub.execute_input": "2023-08-09T22:29:52.887864Z",
     "iopub.status.idle": "2023-08-09T22:29:52.892856Z",
     "shell.execute_reply.started": "2023-08-09T22:29:52.887834Z",
     "shell.execute_reply": "2023-08-09T22:29:52.891731Z"
    },
    "trusted": true
   },
   "execution_count": 96,
   "outputs": []
  },
  {
   "cell_type": "code",
   "source": [
    "config.learning_rate = 1e-3\n",
    "config.epochs = 20\n",
    "config.weight_decay = 1e-5\n",
    "config.min_loss_delta = 0.1"
   ],
   "metadata": {
    "id": "HZAr_gPLTFDv",
    "execution": {
     "iopub.status.busy": "2023-08-09T22:29:53.129112Z",
     "iopub.execute_input": "2023-08-09T22:29:53.129513Z",
     "iopub.status.idle": "2023-08-09T22:29:53.134551Z",
     "shell.execute_reply.started": "2023-08-09T22:29:53.129481Z",
     "shell.execute_reply": "2023-08-09T22:29:53.133359Z"
    },
    "trusted": true,
    "ExecuteTime": {
     "start_time": "2023-08-12T09:45:19.344926Z",
     "end_time": "2023-08-12T09:45:19.409119Z"
    }
   },
   "execution_count": 97,
   "outputs": []
  },
  {
   "cell_type": "code",
   "source": [
    "# optimizer = torch.optim.Adam(filter(lambda p: p.requires_grad, model.parameters()), lr=config.learning_rate, weight_decay = config.weight_decay)\n",
    "# optimizer = torch.optim.Adam(model.parameters(), lr=1e-3, weight_decay=0)\n",
    "# optimizer = torch.optim.SGD(model.parameters(), lr=config.learning_rate, momentum=0.8)\n",
    "# optimizer = torch.optim.Adam(model.parameters(), lr=1e-4)\n"
   ],
   "metadata": {
    "ExecuteTime": {
     "start_time": "2023-08-12T09:45:19.518789Z",
     "end_time": "2023-08-12T09:45:19.609679Z"
    },
    "jupyter": {
     "outputs_hidden": false
    },
    "id": "XcMxhj2oTFDv",
    "collapsed": false,
    "execution": {
     "iopub.status.busy": "2023-08-09T22:08:40.401587Z",
     "iopub.execute_input": "2023-08-09T22:08:40.401944Z",
     "iopub.status.idle": "2023-08-09T22:08:40.406461Z",
     "shell.execute_reply.started": "2023-08-09T22:08:40.401914Z",
     "shell.execute_reply": "2023-08-09T22:08:40.405478Z"
    },
    "trusted": true
   },
   "execution_count": 98,
   "outputs": []
  },
  {
   "cell_type": "code",
   "source": [
    "optimizer = torch.optim.Adam(\n",
    "    [\n",
    "    {'params': filter(lambda p: p.requires_grad, model.features.parameters())},\n",
    "    {'params': model.classifier.parameters(), 'lr': 1e-3}\n",
    "    ],\n",
    "    lr=config.learning_rate, \n",
    "    weight_decay = config.weight_decay)\n"
   ],
   "metadata": {
    "execution": {
     "iopub.status.busy": "2023-08-09T22:30:19.966401Z",
     "iopub.execute_input": "2023-08-09T22:30:19.966771Z",
     "iopub.status.idle": "2023-08-09T22:30:19.974779Z",
     "shell.execute_reply.started": "2023-08-09T22:30:19.966740Z",
     "shell.execute_reply": "2023-08-09T22:30:19.973831Z"
    },
    "trusted": true,
    "ExecuteTime": {
     "start_time": "2023-08-12T09:45:19.721449Z",
     "end_time": "2023-08-12T09:45:19.841589Z"
    }
   },
   "execution_count": 99,
   "outputs": []
  },
  {
   "cell_type": "code",
   "source": [
    "# scheduler = optim.lr_scheduler.StepLR(optimizer, step_size=2, gamma=0.5, verbose=False)\n",
    "scheduler = optim.lr_scheduler.ReduceLROnPlateau(\n",
    "    optimizer, 'min', patience = 5, factor=0.5, \n",
    "    min_lr=config.min_lr , verbose=False,\n",
    "    threshold = config.min_loss_delta)\n",
    "# scheduler = optim.lr_scheduler.ExponentialLR(optimizer, gamma=0.5, verbose=False)\n",
    "# scheduler = optim.lr_scheduler.StepLR(optimizer=optimizer, step_size=10, gamma=0.5, verbose=False)"
   ],
   "metadata": {
    "ExecuteTime": {
     "start_time": "2023-08-12T09:45:19.913380Z",
     "end_time": "2023-08-12T09:45:20.026072Z"
    },
    "jupyter": {
     "outputs_hidden": false
    },
    "id": "mb4RgCFlTFDw",
    "collapsed": false,
    "execution": {
     "iopub.status.busy": "2023-08-09T22:30:21.391863Z",
     "iopub.execute_input": "2023-08-09T22:30:21.392561Z",
     "iopub.status.idle": "2023-08-09T22:30:21.399134Z",
     "shell.execute_reply.started": "2023-08-09T22:30:21.392522Z",
     "shell.execute_reply": "2023-08-09T22:30:21.396883Z"
    },
    "trusted": true
   },
   "execution_count": 100,
   "outputs": []
  },
  {
   "cell_type": "code",
   "source": [
    "def get_lr(optimizer):\n",
    "    \"\"\"\n",
    "    For some schedulers we don't have `get_last_lr()` method.\n",
    "    So, we will get last lr ourselves.\n",
    "    \"\"\"\n",
    "    return list(\n",
    "        [group['lr'] for group in optimizer.param_groups]\n",
    "    )"
   ],
   "metadata": {
    "execution": {
     "iopub.status.busy": "2023-08-09T22:30:22.199598Z",
     "iopub.execute_input": "2023-08-09T22:30:22.200283Z",
     "iopub.status.idle": "2023-08-09T22:30:22.205791Z",
     "shell.execute_reply.started": "2023-08-09T22:30:22.200245Z",
     "shell.execute_reply": "2023-08-09T22:30:22.204816Z"
    },
    "trusted": true,
    "ExecuteTime": {
     "start_time": "2023-08-12T09:45:20.120019Z",
     "end_time": "2023-08-12T09:45:20.325987Z"
    }
   },
   "execution_count": 101,
   "outputs": []
  },
  {
   "cell_type": "code",
   "source": [
    "get_lr(optimizer)"
   ],
   "metadata": {
    "execution": {
     "iopub.status.busy": "2023-08-09T22:30:22.985508Z",
     "iopub.execute_input": "2023-08-09T22:30:22.986223Z",
     "iopub.status.idle": "2023-08-09T22:30:22.992888Z",
     "shell.execute_reply.started": "2023-08-09T22:30:22.986186Z",
     "shell.execute_reply": "2023-08-09T22:30:22.991984Z"
    },
    "trusted": true,
    "ExecuteTime": {
     "start_time": "2023-08-12T09:45:20.226714Z",
     "end_time": "2023-08-12T09:45:20.557725Z"
    }
   },
   "execution_count": 102,
   "outputs": [
    {
     "data": {
      "text/plain": "[5e-05, 0.0005]"
     },
     "execution_count": 102,
     "metadata": {},
     "output_type": "execute_result"
    }
   ]
  },
  {
   "cell_type": "markdown",
   "source": [
    "# 7. Run the training process"
   ],
   "metadata": {
    "id": "CKuqXRwrTFDw"
   }
  },
  {
   "cell_type": "code",
   "source": [
    "model, history = train_model(\n",
    "    model=model,\n",
    "    train_loader=train_dataloader,\n",
    "    val_loader=test_dataloader,\n",
    "    criterion=criterion,\n",
    "    optimizer=optimizer,\n",
    "    num_epochs=config.epochs,\n",
    "    device=device,\n",
    "    scheduler=scheduler,\n",
    "    save_model_to=f'fine-tuned_{config.model_name}.pth'\n",
    " )"
   ],
   "metadata": {
    "id": "9WxsyvplTFDw",
    "outputId": "de053f41-a9bb-49b4-ceec-4245ce71efe0",
    "execution": {
     "iopub.status.busy": "2023-08-09T22:30:24.293978Z",
     "iopub.execute_input": "2023-08-09T22:30:24.294687Z",
     "iopub.status.idle": "2023-08-10T00:21:02.560876Z",
     "shell.execute_reply.started": "2023-08-09T22:30:24.294651Z",
     "shell.execute_reply": "2023-08-10T00:21:02.559745Z"
    },
    "trusted": true
   },
   "execution_count": 103,
   "outputs": [
    {
     "name": "stderr",
     "output_type": "stream",
     "text": [
      "Epoch: 1/2:   0%|          | 36/21789 [00:22<3:44:10,  1.62batch/s, acc=0, loss=6.63]\n"
     ]
    },
    {
     "ename": "KeyboardInterrupt",
     "evalue": "",
     "output_type": "error",
     "traceback": [
      "\u001B[1;31m---------------------------------------------------------------------------\u001B[0m",
      "\u001B[1;31mKeyboardInterrupt\u001B[0m                         Traceback (most recent call last)",
      "Cell \u001B[1;32mIn[103], line 1\u001B[0m\n\u001B[1;32m----> 1\u001B[0m model, history \u001B[38;5;241m=\u001B[39m \u001B[43mtrain_model\u001B[49m\u001B[43m(\u001B[49m\n\u001B[0;32m      2\u001B[0m \u001B[43m    \u001B[49m\u001B[43mmodel\u001B[49m\u001B[38;5;241;43m=\u001B[39;49m\u001B[43mmodel\u001B[49m\u001B[43m,\u001B[49m\n\u001B[0;32m      3\u001B[0m \u001B[43m    \u001B[49m\u001B[43mtrain_loader\u001B[49m\u001B[38;5;241;43m=\u001B[39;49m\u001B[43mtrain_dataloader\u001B[49m\u001B[43m,\u001B[49m\n\u001B[0;32m      4\u001B[0m \u001B[43m    \u001B[49m\u001B[43mval_loader\u001B[49m\u001B[38;5;241;43m=\u001B[39;49m\u001B[43mtest_dataloader\u001B[49m\u001B[43m,\u001B[49m\n\u001B[0;32m      5\u001B[0m \u001B[43m    \u001B[49m\u001B[43mcriterion\u001B[49m\u001B[38;5;241;43m=\u001B[39;49m\u001B[43mcriterion\u001B[49m\u001B[43m,\u001B[49m\n\u001B[0;32m      6\u001B[0m \u001B[43m    \u001B[49m\u001B[43moptimizer\u001B[49m\u001B[38;5;241;43m=\u001B[39;49m\u001B[43moptimizer\u001B[49m\u001B[43m,\u001B[49m\n\u001B[0;32m      7\u001B[0m \u001B[43m    \u001B[49m\u001B[43mnum_epochs\u001B[49m\u001B[38;5;241;43m=\u001B[39;49m\u001B[43mconfig\u001B[49m\u001B[38;5;241;43m.\u001B[39;49m\u001B[43mepochs\u001B[49m\u001B[43m,\u001B[49m\n\u001B[0;32m      8\u001B[0m \u001B[43m    \u001B[49m\u001B[43mdevice\u001B[49m\u001B[38;5;241;43m=\u001B[39;49m\u001B[43mdevice\u001B[49m\u001B[43m,\u001B[49m\n\u001B[0;32m      9\u001B[0m \u001B[43m    \u001B[49m\u001B[43mscheduler\u001B[49m\u001B[38;5;241;43m=\u001B[39;49m\u001B[43mscheduler\u001B[49m\u001B[43m,\u001B[49m\n\u001B[0;32m     10\u001B[0m \u001B[43m    \u001B[49m\u001B[43msave_model_to\u001B[49m\u001B[38;5;241;43m=\u001B[39;49m\u001B[38;5;124;43mf\u001B[39;49m\u001B[38;5;124;43m'\u001B[39;49m\u001B[38;5;124;43mfine-tuned_\u001B[39;49m\u001B[38;5;132;43;01m{\u001B[39;49;00m\u001B[43mconfig\u001B[49m\u001B[38;5;241;43m.\u001B[39;49m\u001B[43mmodel_name\u001B[49m\u001B[38;5;132;43;01m}\u001B[39;49;00m\u001B[38;5;124;43m.pth\u001B[39;49m\u001B[38;5;124;43m'\u001B[39;49m\n\u001B[0;32m     11\u001B[0m \u001B[43m \u001B[49m\u001B[43m)\u001B[49m\n",
      "Cell \u001B[1;32mIn[93], line 17\u001B[0m, in \u001B[0;36mtrain_model\u001B[1;34m(model, train_loader, val_loader, criterion, optimizer, num_epochs, scheduler, device, save_model_to)\u001B[0m\n\u001B[0;32m     14\u001B[0m best_model_params_path \u001B[38;5;241m=\u001B[39m os\u001B[38;5;241m.\u001B[39mpath\u001B[38;5;241m.\u001B[39mjoin(tempdir, \u001B[38;5;124m'\u001B[39m\u001B[38;5;124mbest_model_params.pt\u001B[39m\u001B[38;5;124m'\u001B[39m)\n\u001B[0;32m     16\u001B[0m \u001B[38;5;28;01mfor\u001B[39;00m epoch \u001B[38;5;129;01min\u001B[39;00m \u001B[38;5;28mrange\u001B[39m(num_epochs):\n\u001B[1;32m---> 17\u001B[0m     train_loss, train_accuracy, train_f1 \u001B[38;5;241m=\u001B[39m \u001B[43mtrain_one_epoch\u001B[49m\u001B[43m(\u001B[49m\u001B[43mmodel\u001B[49m\u001B[43m,\u001B[49m\u001B[43m \u001B[49m\u001B[43mtrain_loader\u001B[49m\u001B[43m,\u001B[49m\u001B[43m \u001B[49m\u001B[43moptimizer\u001B[49m\u001B[43m,\u001B[49m\u001B[43m \u001B[49m\u001B[43mcriterion\u001B[49m\u001B[43m,\u001B[49m\u001B[43m \u001B[49m\u001B[43mdevice\u001B[49m\u001B[43m,\u001B[49m\u001B[43m \u001B[49m\u001B[43mepoch\u001B[49m\u001B[38;5;241;43m=\u001B[39;49m\u001B[38;5;124;43mf\u001B[39;49m\u001B[38;5;124;43m'\u001B[39;49m\u001B[38;5;132;43;01m{\u001B[39;49;00m\u001B[43mepoch\u001B[49m\u001B[38;5;241;43m+\u001B[39;49m\u001B[38;5;241;43m1\u001B[39;49m\u001B[38;5;132;43;01m}\u001B[39;49;00m\u001B[38;5;124;43m/\u001B[39;49m\u001B[38;5;132;43;01m{\u001B[39;49;00m\u001B[43mnum_epochs\u001B[49m\u001B[38;5;132;43;01m}\u001B[39;49;00m\u001B[38;5;124;43m'\u001B[39;49m\u001B[43m)\u001B[49m\n\u001B[0;32m     18\u001B[0m     val_loss, val_accuracy, val_f1 \u001B[38;5;241m=\u001B[39m validate_one_epoch(model, val_loader, criterion, device,)\n\u001B[0;32m     21\u001B[0m     print_highlighted(\n\u001B[0;32m     22\u001B[0m         \u001B[38;5;124mf\u001B[39m\u001B[38;5;124m\"\u001B[39m\u001B[38;5;124mLoss: \u001B[39m\u001B[38;5;132;01m{\u001B[39;00mval_loss\u001B[38;5;132;01m:\u001B[39;00m\u001B[38;5;124m.4f\u001B[39m\u001B[38;5;132;01m}\u001B[39;00m\u001B[38;5;124m - Accuracy: \u001B[39m\u001B[38;5;132;01m{\u001B[39;00mval_accuracy\u001B[38;5;132;01m:\u001B[39;00m\u001B[38;5;124m.4f\u001B[39m\u001B[38;5;132;01m}\u001B[39;00m\u001B[38;5;124m - F1: \u001B[39m\u001B[38;5;132;01m{\u001B[39;00mval_f1\u001B[38;5;132;01m:\u001B[39;00m\u001B[38;5;124m.4f\u001B[39m\u001B[38;5;132;01m}\u001B[39;00m\u001B[38;5;124m - LR: \u001B[39m\u001B[38;5;132;01m{\u001B[39;00mget_lr(optimizer)\u001B[38;5;132;01m}\u001B[39;00m\u001B[38;5;124m\"\u001B[39m\n\u001B[0;32m     23\u001B[0m     )\n",
      "Cell \u001B[1;32mIn[91], line 19\u001B[0m, in \u001B[0;36mtrain_one_epoch\u001B[1;34m(model, dataloader, optimizer, criterion, device, epoch)\u001B[0m\n\u001B[0;32m     15\u001B[0m labels \u001B[38;5;241m=\u001B[39m labels\u001B[38;5;241m.\u001B[39mto(device)\n\u001B[0;32m     17\u001B[0m optimizer\u001B[38;5;241m.\u001B[39mzero_grad()\n\u001B[1;32m---> 19\u001B[0m embeddings \u001B[38;5;241m=\u001B[39m \u001B[43mmodel\u001B[49m\u001B[43m(\u001B[49m\u001B[43mimages\u001B[49m\u001B[43m)\u001B[49m\n\u001B[0;32m     21\u001B[0m loss \u001B[38;5;241m=\u001B[39m criterion(embeddings, labels)\n\u001B[0;32m     22\u001B[0m loss\u001B[38;5;241m.\u001B[39mbackward()\n",
      "File \u001B[1;32mD:\\possessor\\Documents\\ESSE\\IT\\ML\\CV\\cvenv\\Lib\\site-packages\\torch\\nn\\modules\\module.py:1501\u001B[0m, in \u001B[0;36mModule._call_impl\u001B[1;34m(self, *args, **kwargs)\u001B[0m\n\u001B[0;32m   1496\u001B[0m \u001B[38;5;66;03m# If we don't have any hooks, we want to skip the rest of the logic in\u001B[39;00m\n\u001B[0;32m   1497\u001B[0m \u001B[38;5;66;03m# this function, and just call forward.\u001B[39;00m\n\u001B[0;32m   1498\u001B[0m \u001B[38;5;28;01mif\u001B[39;00m \u001B[38;5;129;01mnot\u001B[39;00m (\u001B[38;5;28mself\u001B[39m\u001B[38;5;241m.\u001B[39m_backward_hooks \u001B[38;5;129;01mor\u001B[39;00m \u001B[38;5;28mself\u001B[39m\u001B[38;5;241m.\u001B[39m_backward_pre_hooks \u001B[38;5;129;01mor\u001B[39;00m \u001B[38;5;28mself\u001B[39m\u001B[38;5;241m.\u001B[39m_forward_hooks \u001B[38;5;129;01mor\u001B[39;00m \u001B[38;5;28mself\u001B[39m\u001B[38;5;241m.\u001B[39m_forward_pre_hooks\n\u001B[0;32m   1499\u001B[0m         \u001B[38;5;129;01mor\u001B[39;00m _global_backward_pre_hooks \u001B[38;5;129;01mor\u001B[39;00m _global_backward_hooks\n\u001B[0;32m   1500\u001B[0m         \u001B[38;5;129;01mor\u001B[39;00m _global_forward_hooks \u001B[38;5;129;01mor\u001B[39;00m _global_forward_pre_hooks):\n\u001B[1;32m-> 1501\u001B[0m     \u001B[38;5;28;01mreturn\u001B[39;00m \u001B[43mforward_call\u001B[49m\u001B[43m(\u001B[49m\u001B[38;5;241;43m*\u001B[39;49m\u001B[43margs\u001B[49m\u001B[43m,\u001B[49m\u001B[43m \u001B[49m\u001B[38;5;241;43m*\u001B[39;49m\u001B[38;5;241;43m*\u001B[39;49m\u001B[43mkwargs\u001B[49m\u001B[43m)\u001B[49m\n\u001B[0;32m   1502\u001B[0m \u001B[38;5;66;03m# Do not call functions when jit is used\u001B[39;00m\n\u001B[0;32m   1503\u001B[0m full_backward_hooks, non_full_backward_hooks \u001B[38;5;241m=\u001B[39m [], []\n",
      "File \u001B[1;32mD:\\possessor\\Documents\\ESSE\\IT\\ML\\CV\\cvenv\\Lib\\site-packages\\torchvision-0.15.2-py3.11-win-amd64.egg\\torchvision\\models\\efficientnet.py:343\u001B[0m, in \u001B[0;36mEfficientNet.forward\u001B[1;34m(self, x)\u001B[0m\n\u001B[0;32m    342\u001B[0m \u001B[38;5;28;01mdef\u001B[39;00m \u001B[38;5;21mforward\u001B[39m(\u001B[38;5;28mself\u001B[39m, x: Tensor) \u001B[38;5;241m-\u001B[39m\u001B[38;5;241m>\u001B[39m Tensor:\n\u001B[1;32m--> 343\u001B[0m     \u001B[38;5;28;01mreturn\u001B[39;00m \u001B[38;5;28;43mself\u001B[39;49m\u001B[38;5;241;43m.\u001B[39;49m\u001B[43m_forward_impl\u001B[49m\u001B[43m(\u001B[49m\u001B[43mx\u001B[49m\u001B[43m)\u001B[49m\n",
      "File \u001B[1;32mD:\\possessor\\Documents\\ESSE\\IT\\ML\\CV\\cvenv\\Lib\\site-packages\\torchvision-0.15.2-py3.11-win-amd64.egg\\torchvision\\models\\efficientnet.py:333\u001B[0m, in \u001B[0;36mEfficientNet._forward_impl\u001B[1;34m(self, x)\u001B[0m\n\u001B[0;32m    332\u001B[0m \u001B[38;5;28;01mdef\u001B[39;00m \u001B[38;5;21m_forward_impl\u001B[39m(\u001B[38;5;28mself\u001B[39m, x: Tensor) \u001B[38;5;241m-\u001B[39m\u001B[38;5;241m>\u001B[39m Tensor:\n\u001B[1;32m--> 333\u001B[0m     x \u001B[38;5;241m=\u001B[39m \u001B[38;5;28;43mself\u001B[39;49m\u001B[38;5;241;43m.\u001B[39;49m\u001B[43mfeatures\u001B[49m\u001B[43m(\u001B[49m\u001B[43mx\u001B[49m\u001B[43m)\u001B[49m\n\u001B[0;32m    335\u001B[0m     x \u001B[38;5;241m=\u001B[39m \u001B[38;5;28mself\u001B[39m\u001B[38;5;241m.\u001B[39mavgpool(x)\n\u001B[0;32m    336\u001B[0m     x \u001B[38;5;241m=\u001B[39m torch\u001B[38;5;241m.\u001B[39mflatten(x, \u001B[38;5;241m1\u001B[39m)\n",
      "File \u001B[1;32mD:\\possessor\\Documents\\ESSE\\IT\\ML\\CV\\cvenv\\Lib\\site-packages\\torch\\nn\\modules\\module.py:1501\u001B[0m, in \u001B[0;36mModule._call_impl\u001B[1;34m(self, *args, **kwargs)\u001B[0m\n\u001B[0;32m   1496\u001B[0m \u001B[38;5;66;03m# If we don't have any hooks, we want to skip the rest of the logic in\u001B[39;00m\n\u001B[0;32m   1497\u001B[0m \u001B[38;5;66;03m# this function, and just call forward.\u001B[39;00m\n\u001B[0;32m   1498\u001B[0m \u001B[38;5;28;01mif\u001B[39;00m \u001B[38;5;129;01mnot\u001B[39;00m (\u001B[38;5;28mself\u001B[39m\u001B[38;5;241m.\u001B[39m_backward_hooks \u001B[38;5;129;01mor\u001B[39;00m \u001B[38;5;28mself\u001B[39m\u001B[38;5;241m.\u001B[39m_backward_pre_hooks \u001B[38;5;129;01mor\u001B[39;00m \u001B[38;5;28mself\u001B[39m\u001B[38;5;241m.\u001B[39m_forward_hooks \u001B[38;5;129;01mor\u001B[39;00m \u001B[38;5;28mself\u001B[39m\u001B[38;5;241m.\u001B[39m_forward_pre_hooks\n\u001B[0;32m   1499\u001B[0m         \u001B[38;5;129;01mor\u001B[39;00m _global_backward_pre_hooks \u001B[38;5;129;01mor\u001B[39;00m _global_backward_hooks\n\u001B[0;32m   1500\u001B[0m         \u001B[38;5;129;01mor\u001B[39;00m _global_forward_hooks \u001B[38;5;129;01mor\u001B[39;00m _global_forward_pre_hooks):\n\u001B[1;32m-> 1501\u001B[0m     \u001B[38;5;28;01mreturn\u001B[39;00m \u001B[43mforward_call\u001B[49m\u001B[43m(\u001B[49m\u001B[38;5;241;43m*\u001B[39;49m\u001B[43margs\u001B[49m\u001B[43m,\u001B[49m\u001B[43m \u001B[49m\u001B[38;5;241;43m*\u001B[39;49m\u001B[38;5;241;43m*\u001B[39;49m\u001B[43mkwargs\u001B[49m\u001B[43m)\u001B[49m\n\u001B[0;32m   1502\u001B[0m \u001B[38;5;66;03m# Do not call functions when jit is used\u001B[39;00m\n\u001B[0;32m   1503\u001B[0m full_backward_hooks, non_full_backward_hooks \u001B[38;5;241m=\u001B[39m [], []\n",
      "File \u001B[1;32mD:\\possessor\\Documents\\ESSE\\IT\\ML\\CV\\cvenv\\Lib\\site-packages\\torch\\nn\\modules\\container.py:217\u001B[0m, in \u001B[0;36mSequential.forward\u001B[1;34m(self, input)\u001B[0m\n\u001B[0;32m    215\u001B[0m \u001B[38;5;28;01mdef\u001B[39;00m \u001B[38;5;21mforward\u001B[39m(\u001B[38;5;28mself\u001B[39m, \u001B[38;5;28minput\u001B[39m):\n\u001B[0;32m    216\u001B[0m     \u001B[38;5;28;01mfor\u001B[39;00m module \u001B[38;5;129;01min\u001B[39;00m \u001B[38;5;28mself\u001B[39m:\n\u001B[1;32m--> 217\u001B[0m         \u001B[38;5;28minput\u001B[39m \u001B[38;5;241m=\u001B[39m \u001B[43mmodule\u001B[49m\u001B[43m(\u001B[49m\u001B[38;5;28;43minput\u001B[39;49m\u001B[43m)\u001B[49m\n\u001B[0;32m    218\u001B[0m     \u001B[38;5;28;01mreturn\u001B[39;00m \u001B[38;5;28minput\u001B[39m\n",
      "File \u001B[1;32mD:\\possessor\\Documents\\ESSE\\IT\\ML\\CV\\cvenv\\Lib\\site-packages\\torch\\nn\\modules\\module.py:1501\u001B[0m, in \u001B[0;36mModule._call_impl\u001B[1;34m(self, *args, **kwargs)\u001B[0m\n\u001B[0;32m   1496\u001B[0m \u001B[38;5;66;03m# If we don't have any hooks, we want to skip the rest of the logic in\u001B[39;00m\n\u001B[0;32m   1497\u001B[0m \u001B[38;5;66;03m# this function, and just call forward.\u001B[39;00m\n\u001B[0;32m   1498\u001B[0m \u001B[38;5;28;01mif\u001B[39;00m \u001B[38;5;129;01mnot\u001B[39;00m (\u001B[38;5;28mself\u001B[39m\u001B[38;5;241m.\u001B[39m_backward_hooks \u001B[38;5;129;01mor\u001B[39;00m \u001B[38;5;28mself\u001B[39m\u001B[38;5;241m.\u001B[39m_backward_pre_hooks \u001B[38;5;129;01mor\u001B[39;00m \u001B[38;5;28mself\u001B[39m\u001B[38;5;241m.\u001B[39m_forward_hooks \u001B[38;5;129;01mor\u001B[39;00m \u001B[38;5;28mself\u001B[39m\u001B[38;5;241m.\u001B[39m_forward_pre_hooks\n\u001B[0;32m   1499\u001B[0m         \u001B[38;5;129;01mor\u001B[39;00m _global_backward_pre_hooks \u001B[38;5;129;01mor\u001B[39;00m _global_backward_hooks\n\u001B[0;32m   1500\u001B[0m         \u001B[38;5;129;01mor\u001B[39;00m _global_forward_hooks \u001B[38;5;129;01mor\u001B[39;00m _global_forward_pre_hooks):\n\u001B[1;32m-> 1501\u001B[0m     \u001B[38;5;28;01mreturn\u001B[39;00m \u001B[43mforward_call\u001B[49m\u001B[43m(\u001B[49m\u001B[38;5;241;43m*\u001B[39;49m\u001B[43margs\u001B[49m\u001B[43m,\u001B[49m\u001B[43m \u001B[49m\u001B[38;5;241;43m*\u001B[39;49m\u001B[38;5;241;43m*\u001B[39;49m\u001B[43mkwargs\u001B[49m\u001B[43m)\u001B[49m\n\u001B[0;32m   1502\u001B[0m \u001B[38;5;66;03m# Do not call functions when jit is used\u001B[39;00m\n\u001B[0;32m   1503\u001B[0m full_backward_hooks, non_full_backward_hooks \u001B[38;5;241m=\u001B[39m [], []\n",
      "File \u001B[1;32mD:\\possessor\\Documents\\ESSE\\IT\\ML\\CV\\cvenv\\Lib\\site-packages\\torch\\nn\\modules\\container.py:217\u001B[0m, in \u001B[0;36mSequential.forward\u001B[1;34m(self, input)\u001B[0m\n\u001B[0;32m    215\u001B[0m \u001B[38;5;28;01mdef\u001B[39;00m \u001B[38;5;21mforward\u001B[39m(\u001B[38;5;28mself\u001B[39m, \u001B[38;5;28minput\u001B[39m):\n\u001B[0;32m    216\u001B[0m     \u001B[38;5;28;01mfor\u001B[39;00m module \u001B[38;5;129;01min\u001B[39;00m \u001B[38;5;28mself\u001B[39m:\n\u001B[1;32m--> 217\u001B[0m         \u001B[38;5;28minput\u001B[39m \u001B[38;5;241m=\u001B[39m \u001B[43mmodule\u001B[49m\u001B[43m(\u001B[49m\u001B[38;5;28;43minput\u001B[39;49m\u001B[43m)\u001B[49m\n\u001B[0;32m    218\u001B[0m     \u001B[38;5;28;01mreturn\u001B[39;00m \u001B[38;5;28minput\u001B[39m\n",
      "File \u001B[1;32mD:\\possessor\\Documents\\ESSE\\IT\\ML\\CV\\cvenv\\Lib\\site-packages\\torch\\nn\\modules\\module.py:1501\u001B[0m, in \u001B[0;36mModule._call_impl\u001B[1;34m(self, *args, **kwargs)\u001B[0m\n\u001B[0;32m   1496\u001B[0m \u001B[38;5;66;03m# If we don't have any hooks, we want to skip the rest of the logic in\u001B[39;00m\n\u001B[0;32m   1497\u001B[0m \u001B[38;5;66;03m# this function, and just call forward.\u001B[39;00m\n\u001B[0;32m   1498\u001B[0m \u001B[38;5;28;01mif\u001B[39;00m \u001B[38;5;129;01mnot\u001B[39;00m (\u001B[38;5;28mself\u001B[39m\u001B[38;5;241m.\u001B[39m_backward_hooks \u001B[38;5;129;01mor\u001B[39;00m \u001B[38;5;28mself\u001B[39m\u001B[38;5;241m.\u001B[39m_backward_pre_hooks \u001B[38;5;129;01mor\u001B[39;00m \u001B[38;5;28mself\u001B[39m\u001B[38;5;241m.\u001B[39m_forward_hooks \u001B[38;5;129;01mor\u001B[39;00m \u001B[38;5;28mself\u001B[39m\u001B[38;5;241m.\u001B[39m_forward_pre_hooks\n\u001B[0;32m   1499\u001B[0m         \u001B[38;5;129;01mor\u001B[39;00m _global_backward_pre_hooks \u001B[38;5;129;01mor\u001B[39;00m _global_backward_hooks\n\u001B[0;32m   1500\u001B[0m         \u001B[38;5;129;01mor\u001B[39;00m _global_forward_hooks \u001B[38;5;129;01mor\u001B[39;00m _global_forward_pre_hooks):\n\u001B[1;32m-> 1501\u001B[0m     \u001B[38;5;28;01mreturn\u001B[39;00m \u001B[43mforward_call\u001B[49m\u001B[43m(\u001B[49m\u001B[38;5;241;43m*\u001B[39;49m\u001B[43margs\u001B[49m\u001B[43m,\u001B[49m\u001B[43m \u001B[49m\u001B[38;5;241;43m*\u001B[39;49m\u001B[38;5;241;43m*\u001B[39;49m\u001B[43mkwargs\u001B[49m\u001B[43m)\u001B[49m\n\u001B[0;32m   1502\u001B[0m \u001B[38;5;66;03m# Do not call functions when jit is used\u001B[39;00m\n\u001B[0;32m   1503\u001B[0m full_backward_hooks, non_full_backward_hooks \u001B[38;5;241m=\u001B[39m [], []\n",
      "File \u001B[1;32mD:\\possessor\\Documents\\ESSE\\IT\\ML\\CV\\cvenv\\Lib\\site-packages\\torchvision-0.15.2-py3.11-win-amd64.egg\\torchvision\\models\\efficientnet.py:164\u001B[0m, in \u001B[0;36mMBConv.forward\u001B[1;34m(self, input)\u001B[0m\n\u001B[0;32m    163\u001B[0m \u001B[38;5;28;01mdef\u001B[39;00m \u001B[38;5;21mforward\u001B[39m(\u001B[38;5;28mself\u001B[39m, \u001B[38;5;28minput\u001B[39m: Tensor) \u001B[38;5;241m-\u001B[39m\u001B[38;5;241m>\u001B[39m Tensor:\n\u001B[1;32m--> 164\u001B[0m     result \u001B[38;5;241m=\u001B[39m \u001B[38;5;28;43mself\u001B[39;49m\u001B[38;5;241;43m.\u001B[39;49m\u001B[43mblock\u001B[49m\u001B[43m(\u001B[49m\u001B[38;5;28;43minput\u001B[39;49m\u001B[43m)\u001B[49m\n\u001B[0;32m    165\u001B[0m     \u001B[38;5;28;01mif\u001B[39;00m \u001B[38;5;28mself\u001B[39m\u001B[38;5;241m.\u001B[39muse_res_connect:\n\u001B[0;32m    166\u001B[0m         result \u001B[38;5;241m=\u001B[39m \u001B[38;5;28mself\u001B[39m\u001B[38;5;241m.\u001B[39mstochastic_depth(result)\n",
      "File \u001B[1;32mD:\\possessor\\Documents\\ESSE\\IT\\ML\\CV\\cvenv\\Lib\\site-packages\\torch\\nn\\modules\\module.py:1501\u001B[0m, in \u001B[0;36mModule._call_impl\u001B[1;34m(self, *args, **kwargs)\u001B[0m\n\u001B[0;32m   1496\u001B[0m \u001B[38;5;66;03m# If we don't have any hooks, we want to skip the rest of the logic in\u001B[39;00m\n\u001B[0;32m   1497\u001B[0m \u001B[38;5;66;03m# this function, and just call forward.\u001B[39;00m\n\u001B[0;32m   1498\u001B[0m \u001B[38;5;28;01mif\u001B[39;00m \u001B[38;5;129;01mnot\u001B[39;00m (\u001B[38;5;28mself\u001B[39m\u001B[38;5;241m.\u001B[39m_backward_hooks \u001B[38;5;129;01mor\u001B[39;00m \u001B[38;5;28mself\u001B[39m\u001B[38;5;241m.\u001B[39m_backward_pre_hooks \u001B[38;5;129;01mor\u001B[39;00m \u001B[38;5;28mself\u001B[39m\u001B[38;5;241m.\u001B[39m_forward_hooks \u001B[38;5;129;01mor\u001B[39;00m \u001B[38;5;28mself\u001B[39m\u001B[38;5;241m.\u001B[39m_forward_pre_hooks\n\u001B[0;32m   1499\u001B[0m         \u001B[38;5;129;01mor\u001B[39;00m _global_backward_pre_hooks \u001B[38;5;129;01mor\u001B[39;00m _global_backward_hooks\n\u001B[0;32m   1500\u001B[0m         \u001B[38;5;129;01mor\u001B[39;00m _global_forward_hooks \u001B[38;5;129;01mor\u001B[39;00m _global_forward_pre_hooks):\n\u001B[1;32m-> 1501\u001B[0m     \u001B[38;5;28;01mreturn\u001B[39;00m \u001B[43mforward_call\u001B[49m\u001B[43m(\u001B[49m\u001B[38;5;241;43m*\u001B[39;49m\u001B[43margs\u001B[49m\u001B[43m,\u001B[49m\u001B[43m \u001B[49m\u001B[38;5;241;43m*\u001B[39;49m\u001B[38;5;241;43m*\u001B[39;49m\u001B[43mkwargs\u001B[49m\u001B[43m)\u001B[49m\n\u001B[0;32m   1502\u001B[0m \u001B[38;5;66;03m# Do not call functions when jit is used\u001B[39;00m\n\u001B[0;32m   1503\u001B[0m full_backward_hooks, non_full_backward_hooks \u001B[38;5;241m=\u001B[39m [], []\n",
      "File \u001B[1;32mD:\\possessor\\Documents\\ESSE\\IT\\ML\\CV\\cvenv\\Lib\\site-packages\\torch\\nn\\modules\\container.py:217\u001B[0m, in \u001B[0;36mSequential.forward\u001B[1;34m(self, input)\u001B[0m\n\u001B[0;32m    215\u001B[0m \u001B[38;5;28;01mdef\u001B[39;00m \u001B[38;5;21mforward\u001B[39m(\u001B[38;5;28mself\u001B[39m, \u001B[38;5;28minput\u001B[39m):\n\u001B[0;32m    216\u001B[0m     \u001B[38;5;28;01mfor\u001B[39;00m module \u001B[38;5;129;01min\u001B[39;00m \u001B[38;5;28mself\u001B[39m:\n\u001B[1;32m--> 217\u001B[0m         \u001B[38;5;28minput\u001B[39m \u001B[38;5;241m=\u001B[39m \u001B[43mmodule\u001B[49m\u001B[43m(\u001B[49m\u001B[38;5;28;43minput\u001B[39;49m\u001B[43m)\u001B[49m\n\u001B[0;32m    218\u001B[0m     \u001B[38;5;28;01mreturn\u001B[39;00m \u001B[38;5;28minput\u001B[39m\n",
      "File \u001B[1;32mD:\\possessor\\Documents\\ESSE\\IT\\ML\\CV\\cvenv\\Lib\\site-packages\\torch\\nn\\modules\\module.py:1501\u001B[0m, in \u001B[0;36mModule._call_impl\u001B[1;34m(self, *args, **kwargs)\u001B[0m\n\u001B[0;32m   1496\u001B[0m \u001B[38;5;66;03m# If we don't have any hooks, we want to skip the rest of the logic in\u001B[39;00m\n\u001B[0;32m   1497\u001B[0m \u001B[38;5;66;03m# this function, and just call forward.\u001B[39;00m\n\u001B[0;32m   1498\u001B[0m \u001B[38;5;28;01mif\u001B[39;00m \u001B[38;5;129;01mnot\u001B[39;00m (\u001B[38;5;28mself\u001B[39m\u001B[38;5;241m.\u001B[39m_backward_hooks \u001B[38;5;129;01mor\u001B[39;00m \u001B[38;5;28mself\u001B[39m\u001B[38;5;241m.\u001B[39m_backward_pre_hooks \u001B[38;5;129;01mor\u001B[39;00m \u001B[38;5;28mself\u001B[39m\u001B[38;5;241m.\u001B[39m_forward_hooks \u001B[38;5;129;01mor\u001B[39;00m \u001B[38;5;28mself\u001B[39m\u001B[38;5;241m.\u001B[39m_forward_pre_hooks\n\u001B[0;32m   1499\u001B[0m         \u001B[38;5;129;01mor\u001B[39;00m _global_backward_pre_hooks \u001B[38;5;129;01mor\u001B[39;00m _global_backward_hooks\n\u001B[0;32m   1500\u001B[0m         \u001B[38;5;129;01mor\u001B[39;00m _global_forward_hooks \u001B[38;5;129;01mor\u001B[39;00m _global_forward_pre_hooks):\n\u001B[1;32m-> 1501\u001B[0m     \u001B[38;5;28;01mreturn\u001B[39;00m \u001B[43mforward_call\u001B[49m\u001B[43m(\u001B[49m\u001B[38;5;241;43m*\u001B[39;49m\u001B[43margs\u001B[49m\u001B[43m,\u001B[49m\u001B[43m \u001B[49m\u001B[38;5;241;43m*\u001B[39;49m\u001B[38;5;241;43m*\u001B[39;49m\u001B[43mkwargs\u001B[49m\u001B[43m)\u001B[49m\n\u001B[0;32m   1502\u001B[0m \u001B[38;5;66;03m# Do not call functions when jit is used\u001B[39;00m\n\u001B[0;32m   1503\u001B[0m full_backward_hooks, non_full_backward_hooks \u001B[38;5;241m=\u001B[39m [], []\n",
      "File \u001B[1;32mD:\\possessor\\Documents\\ESSE\\IT\\ML\\CV\\cvenv\\Lib\\site-packages\\torch\\nn\\modules\\container.py:217\u001B[0m, in \u001B[0;36mSequential.forward\u001B[1;34m(self, input)\u001B[0m\n\u001B[0;32m    215\u001B[0m \u001B[38;5;28;01mdef\u001B[39;00m \u001B[38;5;21mforward\u001B[39m(\u001B[38;5;28mself\u001B[39m, \u001B[38;5;28minput\u001B[39m):\n\u001B[0;32m    216\u001B[0m     \u001B[38;5;28;01mfor\u001B[39;00m module \u001B[38;5;129;01min\u001B[39;00m \u001B[38;5;28mself\u001B[39m:\n\u001B[1;32m--> 217\u001B[0m         \u001B[38;5;28minput\u001B[39m \u001B[38;5;241m=\u001B[39m \u001B[43mmodule\u001B[49m\u001B[43m(\u001B[49m\u001B[38;5;28;43minput\u001B[39;49m\u001B[43m)\u001B[49m\n\u001B[0;32m    218\u001B[0m     \u001B[38;5;28;01mreturn\u001B[39;00m \u001B[38;5;28minput\u001B[39m\n",
      "File \u001B[1;32mD:\\possessor\\Documents\\ESSE\\IT\\ML\\CV\\cvenv\\Lib\\site-packages\\torch\\nn\\modules\\module.py:1501\u001B[0m, in \u001B[0;36mModule._call_impl\u001B[1;34m(self, *args, **kwargs)\u001B[0m\n\u001B[0;32m   1496\u001B[0m \u001B[38;5;66;03m# If we don't have any hooks, we want to skip the rest of the logic in\u001B[39;00m\n\u001B[0;32m   1497\u001B[0m \u001B[38;5;66;03m# this function, and just call forward.\u001B[39;00m\n\u001B[0;32m   1498\u001B[0m \u001B[38;5;28;01mif\u001B[39;00m \u001B[38;5;129;01mnot\u001B[39;00m (\u001B[38;5;28mself\u001B[39m\u001B[38;5;241m.\u001B[39m_backward_hooks \u001B[38;5;129;01mor\u001B[39;00m \u001B[38;5;28mself\u001B[39m\u001B[38;5;241m.\u001B[39m_backward_pre_hooks \u001B[38;5;129;01mor\u001B[39;00m \u001B[38;5;28mself\u001B[39m\u001B[38;5;241m.\u001B[39m_forward_hooks \u001B[38;5;129;01mor\u001B[39;00m \u001B[38;5;28mself\u001B[39m\u001B[38;5;241m.\u001B[39m_forward_pre_hooks\n\u001B[0;32m   1499\u001B[0m         \u001B[38;5;129;01mor\u001B[39;00m _global_backward_pre_hooks \u001B[38;5;129;01mor\u001B[39;00m _global_backward_hooks\n\u001B[0;32m   1500\u001B[0m         \u001B[38;5;129;01mor\u001B[39;00m _global_forward_hooks \u001B[38;5;129;01mor\u001B[39;00m _global_forward_pre_hooks):\n\u001B[1;32m-> 1501\u001B[0m     \u001B[38;5;28;01mreturn\u001B[39;00m \u001B[43mforward_call\u001B[49m\u001B[43m(\u001B[49m\u001B[38;5;241;43m*\u001B[39;49m\u001B[43margs\u001B[49m\u001B[43m,\u001B[49m\u001B[43m \u001B[49m\u001B[38;5;241;43m*\u001B[39;49m\u001B[38;5;241;43m*\u001B[39;49m\u001B[43mkwargs\u001B[49m\u001B[43m)\u001B[49m\n\u001B[0;32m   1502\u001B[0m \u001B[38;5;66;03m# Do not call functions when jit is used\u001B[39;00m\n\u001B[0;32m   1503\u001B[0m full_backward_hooks, non_full_backward_hooks \u001B[38;5;241m=\u001B[39m [], []\n",
      "File \u001B[1;32mD:\\possessor\\Documents\\ESSE\\IT\\ML\\CV\\cvenv\\Lib\\site-packages\\torch\\nn\\modules\\conv.py:463\u001B[0m, in \u001B[0;36mConv2d.forward\u001B[1;34m(self, input)\u001B[0m\n\u001B[0;32m    462\u001B[0m \u001B[38;5;28;01mdef\u001B[39;00m \u001B[38;5;21mforward\u001B[39m(\u001B[38;5;28mself\u001B[39m, \u001B[38;5;28minput\u001B[39m: Tensor) \u001B[38;5;241m-\u001B[39m\u001B[38;5;241m>\u001B[39m Tensor:\n\u001B[1;32m--> 463\u001B[0m     \u001B[38;5;28;01mreturn\u001B[39;00m \u001B[38;5;28;43mself\u001B[39;49m\u001B[38;5;241;43m.\u001B[39;49m\u001B[43m_conv_forward\u001B[49m\u001B[43m(\u001B[49m\u001B[38;5;28;43minput\u001B[39;49m\u001B[43m,\u001B[49m\u001B[43m \u001B[49m\u001B[38;5;28;43mself\u001B[39;49m\u001B[38;5;241;43m.\u001B[39;49m\u001B[43mweight\u001B[49m\u001B[43m,\u001B[49m\u001B[43m \u001B[49m\u001B[38;5;28;43mself\u001B[39;49m\u001B[38;5;241;43m.\u001B[39;49m\u001B[43mbias\u001B[49m\u001B[43m)\u001B[49m\n",
      "File \u001B[1;32mD:\\possessor\\Documents\\ESSE\\IT\\ML\\CV\\cvenv\\Lib\\site-packages\\torch\\nn\\modules\\conv.py:459\u001B[0m, in \u001B[0;36mConv2d._conv_forward\u001B[1;34m(self, input, weight, bias)\u001B[0m\n\u001B[0;32m    455\u001B[0m \u001B[38;5;28;01mif\u001B[39;00m \u001B[38;5;28mself\u001B[39m\u001B[38;5;241m.\u001B[39mpadding_mode \u001B[38;5;241m!=\u001B[39m \u001B[38;5;124m'\u001B[39m\u001B[38;5;124mzeros\u001B[39m\u001B[38;5;124m'\u001B[39m:\n\u001B[0;32m    456\u001B[0m     \u001B[38;5;28;01mreturn\u001B[39;00m F\u001B[38;5;241m.\u001B[39mconv2d(F\u001B[38;5;241m.\u001B[39mpad(\u001B[38;5;28minput\u001B[39m, \u001B[38;5;28mself\u001B[39m\u001B[38;5;241m.\u001B[39m_reversed_padding_repeated_twice, mode\u001B[38;5;241m=\u001B[39m\u001B[38;5;28mself\u001B[39m\u001B[38;5;241m.\u001B[39mpadding_mode),\n\u001B[0;32m    457\u001B[0m                     weight, bias, \u001B[38;5;28mself\u001B[39m\u001B[38;5;241m.\u001B[39mstride,\n\u001B[0;32m    458\u001B[0m                     _pair(\u001B[38;5;241m0\u001B[39m), \u001B[38;5;28mself\u001B[39m\u001B[38;5;241m.\u001B[39mdilation, \u001B[38;5;28mself\u001B[39m\u001B[38;5;241m.\u001B[39mgroups)\n\u001B[1;32m--> 459\u001B[0m \u001B[38;5;28;01mreturn\u001B[39;00m \u001B[43mF\u001B[49m\u001B[38;5;241;43m.\u001B[39;49m\u001B[43mconv2d\u001B[49m\u001B[43m(\u001B[49m\u001B[38;5;28;43minput\u001B[39;49m\u001B[43m,\u001B[49m\u001B[43m \u001B[49m\u001B[43mweight\u001B[49m\u001B[43m,\u001B[49m\u001B[43m \u001B[49m\u001B[43mbias\u001B[49m\u001B[43m,\u001B[49m\u001B[43m \u001B[49m\u001B[38;5;28;43mself\u001B[39;49m\u001B[38;5;241;43m.\u001B[39;49m\u001B[43mstride\u001B[49m\u001B[43m,\u001B[49m\n\u001B[0;32m    460\u001B[0m \u001B[43m                \u001B[49m\u001B[38;5;28;43mself\u001B[39;49m\u001B[38;5;241;43m.\u001B[39;49m\u001B[43mpadding\u001B[49m\u001B[43m,\u001B[49m\u001B[43m \u001B[49m\u001B[38;5;28;43mself\u001B[39;49m\u001B[38;5;241;43m.\u001B[39;49m\u001B[43mdilation\u001B[49m\u001B[43m,\u001B[49m\u001B[43m \u001B[49m\u001B[38;5;28;43mself\u001B[39;49m\u001B[38;5;241;43m.\u001B[39;49m\u001B[43mgroups\u001B[49m\u001B[43m)\u001B[49m\n",
      "\u001B[1;31mKeyboardInterrupt\u001B[0m: "
     ]
    }
   ]
  },
  {
   "cell_type": "code",
   "source": [
    "plot_stats(\n",
    "    **history,\n",
    "    title=f\"Model {config.model_name}\"\n",
    ")"
   ],
   "metadata": {
    "id": "7zTLOYTWTFDx",
    "execution": {
     "iopub.status.busy": "2023-08-10T00:22:27.330545Z",
     "iopub.execute_input": "2023-08-10T00:22:27.330943Z",
     "iopub.status.idle": "2023-08-10T00:22:28.448666Z",
     "shell.execute_reply.started": "2023-08-10T00:22:27.330908Z",
     "shell.execute_reply": "2023-08-10T00:22:28.447581Z"
    },
    "collapsed": true,
    "jupyter": {
     "outputs_hidden": true
    },
    "trusted": true
   },
   "execution_count": null,
   "outputs": []
  },
  {
   "cell_type": "code",
   "execution_count": null,
   "outputs": [],
   "source": [],
   "metadata": {
    "collapsed": false
   }
  },
  {
   "cell_type": "markdown",
   "source": [
    "# 8. Result evaluation"
   ],
   "metadata": {
    "id": "kJcjndrnTFDx"
   }
  },
  {
   "cell_type": "code",
   "execution_count": null,
   "outputs": [],
   "source": [
    "embeddings_bag, labels = get_embeddings(model, test_dataloader, device)"
   ],
   "metadata": {
    "collapsed": false
   }
  },
  {
   "cell_type": "code",
   "execution_count": null,
   "outputs": [],
   "source": [
    "cluster_and_visualize_embeddings(embeddings_bag,\n",
    "                                 dimension=3,\n",
    "                                 number_of_clusters=len(np.unique(labels)),\n",
    "                                 # cluster_with='dbscan',\n",
    "                                 cluster_with='knn',\n",
    "                                 reduce_with='tsne',\n",
    "                                 # reduce_with='pca',\n",
    "                                 save_as='mobilenet_embeddings'\n",
    "                                 )"
   ],
   "metadata": {
    "collapsed": false
   }
  },
  {
   "cell_type": "code",
   "source": [
    "model.eval()  # Set the model to evaluation mode\n",
    "predictions = []\n",
    "\n",
    "with torch.no_grad():\n",
    "    for images, _ in test_dataloader:\n",
    "        images = images.to(device)\n",
    "        outputs = model(images)\n",
    "\n",
    "        _, predicted = torch.max(outputs.data, 1)\n",
    "        predictions.extend(predicted.cpu().numpy())"
   ],
   "metadata": {
    "id": "wk7eAo8cTFDx",
    "execution": {
     "iopub.status.busy": "2023-08-10T00:42:24.846990Z",
     "iopub.execute_input": "2023-08-10T00:42:24.847563Z",
     "iopub.status.idle": "2023-08-10T00:42:35.566253Z",
     "shell.execute_reply.started": "2023-08-10T00:42:24.847523Z",
     "shell.execute_reply": "2023-08-10T00:42:35.564902Z"
    },
    "trusted": true
   },
   "execution_count": null,
   "outputs": []
  },
  {
   "cell_type": "code",
   "source": [
    "c_report = classification_report(test_dataset.labels, np.array(predictions), output_dict=True, zero_division=0)\n",
    "c_report = pd.DataFrame(c_report).transpose()\n",
    "c_report"
   ],
   "metadata": {
    "id": "q5VvToQGTFDy",
    "execution": {
     "iopub.status.busy": "2023-08-10T00:42:35.568521Z",
     "iopub.execute_input": "2023-08-10T00:42:35.568908Z",
     "iopub.status.idle": "2023-08-10T00:42:35.633419Z",
     "shell.execute_reply.started": "2023-08-10T00:42:35.568868Z",
     "shell.execute_reply": "2023-08-10T00:42:35.632374Z"
    },
    "trusted": true
   },
   "execution_count": null,
   "outputs": []
  },
  {
   "cell_type": "code",
   "source": [
    "c_report[c_report['precision'] > 0][:-3].mean()"
   ],
   "metadata": {
    "id": "UJLtt_s6TFDy",
    "execution": {
     "iopub.status.busy": "2023-08-09T22:17:02.537688Z",
     "iopub.execute_input": "2023-08-09T22:17:02.538059Z",
     "iopub.status.idle": "2023-08-09T22:17:02.552777Z",
     "shell.execute_reply.started": "2023-08-09T22:17:02.538028Z",
     "shell.execute_reply": "2023-08-09T22:17:02.551702Z"
    },
    "trusted": true
   },
   "execution_count": null,
   "outputs": []
  },
  {
   "cell_type": "code",
   "source": [
    "accuracy_score(test_dataset.labels, np.array(predictions))"
   ],
   "metadata": {
    "id": "_Sw-oDmlTFDy",
    "execution": {
     "iopub.status.busy": "2023-08-10T00:43:05.836750Z",
     "iopub.execute_input": "2023-08-10T00:43:05.837151Z",
     "iopub.status.idle": "2023-08-10T00:43:05.847097Z",
     "shell.execute_reply.started": "2023-08-10T00:43:05.837115Z",
     "shell.execute_reply": "2023-08-10T00:43:05.846063Z"
    },
    "trusted": true
   },
   "execution_count": null,
   "outputs": []
  },
  {
   "cell_type": "code",
   "execution_count": null,
   "outputs": [],
   "source": [],
   "metadata": {
    "collapsed": false
   }
  }
 ]
}
