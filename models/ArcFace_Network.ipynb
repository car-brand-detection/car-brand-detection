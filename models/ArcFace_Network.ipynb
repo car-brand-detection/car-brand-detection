{
 "metadata": {
  "kernelspec": {
   "name": "python3",
   "display_name": "Python 3",
   "language": "python"
  },
  "language_info": {
   "name": "python",
   "version": "3.10.12",
   "mimetype": "text/x-python",
   "codemirror_mode": {
    "name": "ipython",
    "version": 3
   },
   "pygments_lexer": "ipython3",
   "nbconvert_exporter": "python",
   "file_extension": ".py"
  }
 },
 "nbformat_minor": 4,
 "nbformat": 4,
 "cells": [
  {
   "cell_type": "markdown",
   "source": "# Image Classification with ArcFace Loss",
   "metadata": {}
  },
  {
   "cell_type": "markdown",
   "source": "In this notebook we will train SOTA Computer Vision models (such as MobileNet, EfficientNet) to classify car brands. We will ArcFace Loss function for this task, which is also state-of-art.",
   "metadata": {}
  },
  {
   "cell_type": "markdown",
   "source": "# 1. Set up",
   "metadata": {
    "id": "DRrvM2BPUG3T"
   }
  },
  {
   "cell_type": "markdown",
   "source": "## 1. Packages and requirements",
   "metadata": {
    "id": "G-cGfk5CTFDT"
   }
  },
  {
   "cell_type": "code",
   "source": "# Major builtin libraries\nimport os\nimport gc\n# import cv2\nimport math\nimport time\nimport random\nimport typing as t\nfrom copy import deepcopy\n# from collections import defaultdict",
   "metadata": {
    "id": "YJ1bPQE1TFDW",
    "ExecuteTime": {
     "start_time": "2023-08-14T17:23:26.031025Z",
     "end_time": "2023-08-14T17:23:26.280767Z"
    },
    "execution": {
     "iopub.status.busy": "2023-08-14T11:44:33.329704Z",
     "iopub.execute_input": "2023-08-14T11:44:33.330051Z",
     "iopub.status.idle": "2023-08-14T11:44:33.343723Z",
     "shell.execute_reply.started": "2023-08-14T11:44:33.330022Z",
     "shell.execute_reply": "2023-08-14T11:44:33.342631Z"
    },
    "trusted": true
   },
   "execution_count": null,
   "outputs": []
  },
  {
   "cell_type": "code",
   "source": "# To work with Google Collab\n# from google.colab import drive\n# drive.mount('/content/drive/', force_remount=True)",
   "metadata": {
    "id": "9byYPbwhTFDW",
    "outputId": "f21315f6-d034-4060-f927-1dfcc117d99b",
    "ExecuteTime": {
     "start_time": "2023-08-14T17:23:26.088278Z",
     "end_time": "2023-08-14T17:23:26.305028Z"
    },
    "execution": {
     "iopub.status.busy": "2023-08-14T11:44:33.359634Z",
     "iopub.execute_input": "2023-08-14T11:44:33.360581Z",
     "iopub.status.idle": "2023-08-14T11:44:33.365027Z",
     "shell.execute_reply.started": "2023-08-14T11:44:33.360548Z",
     "shell.execute_reply": "2023-08-14T11:44:33.363791Z"
    },
    "trusted": true
   },
   "execution_count": null,
   "outputs": []
  },
  {
   "cell_type": "code",
   "source": "import warnings  # If you want to disable warnings\nwarnings.filterwarnings(\"ignore\")\n\n# For descriptive error messages\nos.environ['CUDA_LAUNCH_BLOCKING'] = \"1\"",
   "metadata": {
    "id": "BwyVeWsUTFDX",
    "ExecuteTime": {
     "start_time": "2023-08-14T17:23:26.105655Z",
     "end_time": "2023-08-14T17:23:26.306033Z"
    },
    "execution": {
     "iopub.status.busy": "2023-08-14T11:44:33.383879Z",
     "iopub.execute_input": "2023-08-14T11:44:33.384650Z",
     "iopub.status.idle": "2023-08-14T11:44:33.390708Z",
     "shell.execute_reply.started": "2023-08-14T11:44:33.384616Z",
     "shell.execute_reply": "2023-08-14T11:44:33.389695Z"
    },
    "trusted": true
   },
   "execution_count": null,
   "outputs": []
  },
  {
   "cell_type": "code",
   "source": "# Classic packages for data manipulation and visualization\nimport numpy as np\nimport pandas as pd\nimport matplotlib.pyplot as plt",
   "metadata": {
    "id": "AGRBRJORTFDX",
    "ExecuteTime": {
     "start_time": "2023-08-14T17:23:26.129062Z",
     "end_time": "2023-08-14T17:23:26.306033Z"
    },
    "execution": {
     "iopub.status.busy": "2023-08-14T11:44:33.446864Z",
     "iopub.execute_input": "2023-08-14T11:44:33.447176Z",
     "iopub.status.idle": "2023-08-14T11:44:33.452050Z",
     "shell.execute_reply.started": "2023-08-14T11:44:33.447151Z",
     "shell.execute_reply": "2023-08-14T11:44:33.450865Z"
    },
    "trusted": true
   },
   "execution_count": null,
   "outputs": []
  },
  {
   "cell_type": "code",
   "source": "# Basic PyTorch\nimport torch\nimport torch.nn as nn\nimport torch.optim as optim  # Optimization algorithms and dynamic learning rate adjusting\nimport torch.nn.functional as F\n# from torch.nn.modules.loss import _Loss  # For writing a custom Loss function\nfrom torch.utils.data import DataLoader, Dataset  # For custom data presentation",
   "metadata": {
    "id": "FXSN-XzxTFDX",
    "ExecuteTime": {
     "start_time": "2023-08-14T17:23:26.164300Z",
     "end_time": "2023-08-14T17:23:26.306033Z"
    },
    "execution": {
     "iopub.status.busy": "2023-08-14T11:44:33.459174Z",
     "iopub.execute_input": "2023-08-14T11:44:33.459437Z",
     "iopub.status.idle": "2023-08-14T11:44:37.137875Z",
     "shell.execute_reply.started": "2023-08-14T11:44:33.459414Z",
     "shell.execute_reply": "2023-08-14T11:44:37.136880Z"
    },
    "trusted": true
   },
   "execution_count": null,
   "outputs": []
  },
  {
   "cell_type": "code",
   "source": "# Utils\nimport joblib  # Pipelining, pickling (dump/load), parallel processing\nfrom tqdm import tqdm  # Progress bar for training process\nfrom tempfile import TemporaryDirectory\n\n# Classic ML tools\nfrom sklearn.preprocessing import LabelEncoder\nfrom sklearn.model_selection import StratifiedKFold  # Cross-Validation",
   "metadata": {
    "id": "7QjRLiOzTFDY",
    "ExecuteTime": {
     "start_time": "2023-08-14T17:23:26.188493Z",
     "end_time": "2023-08-14T17:23:26.307036Z"
    },
    "execution": {
     "iopub.status.busy": "2023-08-14T11:44:37.139994Z",
     "iopub.execute_input": "2023-08-14T11:44:37.140896Z",
     "iopub.status.idle": "2023-08-14T11:44:38.222228Z",
     "shell.execute_reply.started": "2023-08-14T11:44:37.140859Z",
     "shell.execute_reply": "2023-08-14T11:44:38.220918Z"
    },
    "trusted": true
   },
   "execution_count": null,
   "outputs": []
  },
  {
   "cell_type": "code",
   "source": "# Data dimensionality reduction\nfrom sklearn.manifold import TSNE  # high-dimensional data visualization\nfrom sklearn.decomposition import PCA  # More effective dimensionality reduction method\n\n# kNN classification\nfrom sklearn.neighbors import KNeighborsClassifier\n\n# Clustering methods\nfrom sklearn.cluster import KMeans\nfrom sklearn.cluster import DBSCAN",
   "metadata": {
    "collapsed": false,
    "jupyter": {
     "outputs_hidden": false
    },
    "execution": {
     "iopub.status.busy": "2023-08-14T11:44:38.223700Z",
     "iopub.execute_input": "2023-08-14T11:44:38.224121Z",
     "iopub.status.idle": "2023-08-14T11:44:38.635918Z",
     "shell.execute_reply.started": "2023-08-14T11:44:38.224084Z",
     "shell.execute_reply": "2023-08-14T11:44:38.633657Z"
    },
    "trusted": true,
    "ExecuteTime": {
     "start_time": "2023-08-14T17:23:26.231449Z",
     "end_time": "2023-08-14T17:23:26.307036Z"
    }
   },
   "execution_count": null,
   "outputs": []
  },
  {
   "cell_type": "code",
   "source": "# !pip install torchmetrics colorama",
   "metadata": {
    "id": "-iaQkd7xUuPW",
    "ExecuteTime": {
     "start_time": "2023-08-14T17:23:26.247030Z",
     "end_time": "2023-08-14T17:23:26.307036Z"
    },
    "execution": {
     "iopub.status.busy": "2023-08-14T11:44:38.642739Z",
     "iopub.execute_input": "2023-08-14T11:44:38.643209Z",
     "iopub.status.idle": "2023-08-14T11:44:38.653250Z",
     "shell.execute_reply.started": "2023-08-14T11:44:38.643172Z",
     "shell.execute_reply": "2023-08-14T11:44:38.650961Z"
    },
    "trusted": true
   },
   "execution_count": null,
   "outputs": []
  },
  {
   "cell_type": "code",
   "source": "# ML Metrics\nfrom sklearn.metrics import accuracy_score\nfrom sklearn.metrics import classification_report\nfrom torchmetrics.classification import MulticlassF1Score # F1 metric for multiclass",
   "metadata": {
    "id": "BuY4s3bsTFDZ",
    "ExecuteTime": {
     "start_time": "2023-08-14T17:23:26.274048Z",
     "end_time": "2023-08-14T17:23:26.308035Z"
    },
    "execution": {
     "iopub.status.busy": "2023-08-14T11:44:38.658438Z",
     "iopub.execute_input": "2023-08-14T11:44:38.658900Z",
     "iopub.status.idle": "2023-08-14T11:44:48.905148Z",
     "shell.execute_reply.started": "2023-08-14T11:44:38.658853Z",
     "shell.execute_reply": "2023-08-14T11:44:48.904184Z"
    },
    "trusted": true
   },
   "execution_count": null,
   "outputs": []
  },
  {
   "cell_type": "code",
   "source": "# Torch Computer Vision tools for images processing\nfrom torchvision.io import read_image\nfrom torchvision.transforms.functional import to_pil_image, to_grayscale, to_tensor\nfrom torchvision import models  # Pretrained models",
   "metadata": {
    "id": "FEKtt6X5TFDZ",
    "ExecuteTime": {
     "start_time": "2023-08-14T17:23:26.318039Z",
     "end_time": "2023-08-14T17:23:26.407058Z"
    },
    "execution": {
     "iopub.status.busy": "2023-08-14T11:44:48.906732Z",
     "iopub.execute_input": "2023-08-14T11:44:48.907108Z",
     "iopub.status.idle": "2023-08-14T11:44:48.912163Z",
     "shell.execute_reply.started": "2023-08-14T11:44:48.907072Z",
     "shell.execute_reply": "2023-08-14T11:44:48.911213Z"
    },
    "trusted": true
   },
   "execution_count": null,
   "outputs": []
  },
  {
   "cell_type": "code",
   "source": "# Albumentations is an OS library for augmentations\nimport albumentations as A\nfrom albumentations.pytorch import ToTensorV2\n# import torchvision.transforms as T  # We can use torch augmentations instead",
   "metadata": {
    "id": "90C8yH1dTFDa",
    "ExecuteTime": {
     "start_time": "2023-08-14T17:23:26.339529Z",
     "end_time": "2023-08-14T17:23:26.407058Z"
    },
    "execution": {
     "iopub.status.busy": "2023-08-14T11:44:48.913892Z",
     "iopub.execute_input": "2023-08-14T11:44:48.914605Z",
     "iopub.status.idle": "2023-08-14T11:44:49.748871Z",
     "shell.execute_reply.started": "2023-08-14T11:44:48.914572Z",
     "shell.execute_reply": "2023-08-14T11:44:49.747827Z"
    },
    "trusted": true
   },
   "execution_count": null,
   "outputs": []
  },
  {
   "cell_type": "code",
   "source": "",
   "metadata": {
    "id": "4QwB35yVTFDa",
    "ExecuteTime": {
     "start_time": "2023-08-14T17:23:26.353714Z",
     "end_time": "2023-08-14T17:23:26.408301Z"
    }
   },
   "execution_count": null,
   "outputs": []
  },
  {
   "cell_type": "code",
   "source": "# Output text colorizing\nfrom colorama import Back, Style\n\ndef print_highlighted(text: str, bgcolor=Back.YELLOW) -> None:\n    \"\"\"\n    Function to print a text with colored background.\n    \"\"\"\n    print(bgcolor + text + Style.RESET_ALL)",
   "metadata": {
    "ExecuteTime": {
     "start_time": "2023-08-14T17:23:26.365720Z",
     "end_time": "2023-08-14T17:23:26.408813Z"
    },
    "jupyter": {
     "outputs_hidden": false
    },
    "id": "pF1AWOXTTFDa",
    "collapsed": false,
    "execution": {
     "iopub.status.busy": "2023-08-14T11:44:49.750785Z",
     "iopub.execute_input": "2023-08-14T11:44:49.751553Z",
     "iopub.status.idle": "2023-08-14T11:44:49.758436Z",
     "shell.execute_reply.started": "2023-08-14T11:44:49.751516Z",
     "shell.execute_reply": "2023-08-14T11:44:49.757377Z"
    },
    "trusted": true
   },
   "execution_count": null,
   "outputs": []
  },
  {
   "cell_type": "code",
   "source": "# import wandb # MLOps platform to simplify and speed up the process of building ML models",
   "metadata": {
    "ExecuteTime": {
     "start_time": "2023-08-14T17:23:26.376150Z",
     "end_time": "2023-08-14T17:23:26.408813Z"
    },
    "jupyter": {
     "outputs_hidden": false
    },
    "id": "WHnMHaX_TFDb",
    "collapsed": false,
    "execution": {
     "iopub.status.busy": "2023-08-14T11:44:49.759778Z",
     "iopub.execute_input": "2023-08-14T11:44:49.760219Z",
     "iopub.status.idle": "2023-08-14T11:44:49.769830Z",
     "shell.execute_reply.started": "2023-08-14T11:44:49.760185Z",
     "shell.execute_reply": "2023-08-14T11:44:49.768777Z"
    },
    "trusted": true
   },
   "execution_count": null,
   "outputs": []
  },
  {
   "cell_type": "code",
   "source": "# wandb.login() # We log in via pop-up,\n# wandb.login(key=api_key)  # but you can also log in manually with function args",
   "metadata": {
    "ExecuteTime": {
     "start_time": "2023-08-14T17:23:26.382183Z",
     "end_time": "2023-08-14T17:23:26.408813Z"
    },
    "jupyter": {
     "outputs_hidden": false
    },
    "id": "1zarBgpbTFDb",
    "collapsed": false,
    "execution": {
     "iopub.status.busy": "2023-08-14T11:44:49.775910Z",
     "iopub.execute_input": "2023-08-14T11:44:49.776706Z",
     "iopub.status.idle": "2023-08-14T11:44:49.783260Z",
     "shell.execute_reply.started": "2023-08-14T11:44:49.776661Z",
     "shell.execute_reply": "2023-08-14T11:44:49.782132Z"
    },
    "trusted": true
   },
   "execution_count": null,
   "outputs": []
  },
  {
   "cell_type": "markdown",
   "source": "## 2. Configuration",
   "metadata": {
    "id": "YuquAHEkTFDb"
   }
  },
  {
   "cell_type": "code",
   "source": "CONFIG = {\n    \"seed\": 2306,\n    \"epochs\": 20,\n    \"image_dimension\": 256,  # Depends on pretrained model used\n    \"model_name\": \"efficientnet_b0\",  # Pretrained model we will use\n    \"embedding_size\": 512,  # Embedding output size\n    \"train_batch_size\": 64,\n    \"val_batch_size\": 128,\n    \"learning_rate\": 1e-3,\n    \"min_lr\": 1e-8,\n    \"min_loss_delta\": 1e-7, # To stop training on plateau\n    \"weight_decay\": 1e-7,\n}",
   "metadata": {
    "ExecuteTime": {
     "start_time": "2023-08-14T17:23:26.407058Z",
     "end_time": "2023-08-14T17:23:26.470569Z"
    },
    "id": "JC-SbC9zTFDb",
    "execution": {
     "iopub.status.busy": "2023-08-14T11:44:49.784748Z",
     "iopub.execute_input": "2023-08-14T11:44:49.785829Z",
     "iopub.status.idle": "2023-08-14T11:44:49.793433Z",
     "shell.execute_reply.started": "2023-08-14T11:44:49.785772Z",
     "shell.execute_reply": "2023-08-14T11:44:49.792443Z"
    },
    "trusted": true
   },
   "execution_count": null,
   "outputs": []
  },
  {
   "cell_type": "code",
   "source": "class Config:\n    \"\"\"\n    Class to simplify access to Config: not dict but object with attributes\n    \"\"\"\n    def __init__(self, config_dict):\n        for key, value in config_dict.items():\n            setattr(self, key, value)",
   "metadata": {
    "ExecuteTime": {
     "start_time": "2023-08-14T17:23:26.420836Z",
     "end_time": "2023-08-14T17:23:26.590184Z"
    },
    "jupyter": {
     "outputs_hidden": false
    },
    "id": "TzAQ9KIRTFDb",
    "collapsed": false,
    "execution": {
     "iopub.status.busy": "2023-08-14T11:44:49.794983Z",
     "iopub.execute_input": "2023-08-14T11:44:49.795423Z",
     "iopub.status.idle": "2023-08-14T11:44:49.802368Z",
     "shell.execute_reply.started": "2023-08-14T11:44:49.795391Z",
     "shell.execute_reply": "2023-08-14T11:44:49.801131Z"
    },
    "trusted": true
   },
   "execution_count": null,
   "outputs": []
  },
  {
   "cell_type": "code",
   "source": "config = Config(config_dict=CONFIG)\ndel CONFIG",
   "metadata": {
    "ExecuteTime": {
     "start_time": "2023-08-14T17:23:26.468020Z",
     "end_time": "2023-08-14T17:23:26.590184Z"
    },
    "jupyter": {
     "outputs_hidden": false
    },
    "id": "wivQs3vJTFDb",
    "collapsed": false,
    "execution": {
     "iopub.status.busy": "2023-08-14T11:44:49.804253Z",
     "iopub.execute_input": "2023-08-14T11:44:49.804708Z",
     "iopub.status.idle": "2023-08-14T11:44:49.812104Z",
     "shell.execute_reply.started": "2023-08-14T11:44:49.804671Z",
     "shell.execute_reply": "2023-08-14T11:44:49.810743Z"
    },
    "trusted": true
   },
   "execution_count": null,
   "outputs": []
  },
  {
   "cell_type": "code",
   "source": "# Work example\nconfig.seed",
   "metadata": {
    "ExecuteTime": {
     "start_time": "2023-08-14T17:23:26.476586Z",
     "end_time": "2023-08-14T17:23:26.609608Z"
    },
    "jupyter": {
     "outputs_hidden": false
    },
    "id": "ZZO47D8bTFDc",
    "outputId": "38bf95ae-905a-43be-f188-2c2c29dbb2f1",
    "collapsed": false,
    "execution": {
     "iopub.status.busy": "2023-08-14T11:44:49.813862Z",
     "iopub.execute_input": "2023-08-14T11:44:49.814963Z",
     "iopub.status.idle": "2023-08-14T11:44:49.823977Z",
     "shell.execute_reply.started": "2023-08-14T11:44:49.814929Z",
     "shell.execute_reply": "2023-08-14T11:44:49.822716Z"
    },
    "trusted": true
   },
   "execution_count": null,
   "outputs": []
  },
  {
   "cell_type": "markdown",
   "source": "Set Seed for Reproducibility",
   "metadata": {
    "id": "kotMeU-OTFDc"
   }
  },
  {
   "cell_type": "code",
   "source": "def set_seed(seed=42):\n    \"\"\"\n    Sets the seed of the entire notebook so results are the same every time we run.\n    This is for REPRODUCIBILITY.\n    \"\"\"\n    np.random.seed(seed)\n    torch.manual_seed(seed)\n\n    # When running on the CuDNN backend, two further options must be set\n    # torch.backends.cudnn.deterministic = True\n    # torch.backends.cudnn.benchmark = False  # When False, this option makes CUDA reproducible, BUT the performance might suffer\n\n    # Set a fixed value for the hash seed\n    os.environ['PYTHONHASHSEED'] = str(seed)\n\nset_seed(seed=config.seed)",
   "metadata": {
    "ExecuteTime": {
     "start_time": "2023-08-14T17:23:26.506717Z",
     "end_time": "2023-08-14T17:23:26.610600Z"
    },
    "id": "RDIHP75uTFDc",
    "execution": {
     "iopub.status.busy": "2023-08-14T11:44:49.825441Z",
     "iopub.execute_input": "2023-08-14T11:44:49.826209Z",
     "iopub.status.idle": "2023-08-14T11:44:49.837951Z",
     "shell.execute_reply.started": "2023-08-14T11:44:49.826174Z",
     "shell.execute_reply": "2023-08-14T11:44:49.836716Z"
    },
    "trusted": true
   },
   "execution_count": null,
   "outputs": []
  },
  {
   "cell_type": "markdown",
   "source": "# 2. Data",
   "metadata": {
    "id": "UoHh0H1FVHnT"
   }
  },
  {
   "cell_type": "markdown",
   "source": "## 1. Location",
   "metadata": {
    "id": "Qst3Y-s4VKTk"
   }
  },
  {
   "cell_type": "code",
   "source": [
    "# config.repo = 'car-brands/'  # dataset name on Kaggle\n",
    "config.repo = 'data/'  # dataset name on local device\n",
    "# config.repo = 'car_brand_detection/'  # Google Collab\n",
    "\n",
    "# config.root = '/kaggle/input/' + config.repo\n",
    "# config.root = 'drive/MyDrive/' + config.repo\n",
    "config.root = '../'  + config.repo\n",
    "\n",
    "\n",
    "config.data = config.root\n",
    "\n",
    "config.train_images_path  = config.data + 'images/train'\n",
    "config.test_images_path = config.data + 'images/test'\n",
    "\n",
    "config.train_labels  = config.data + 'train_labels.csv'\n",
    "config.test_labels = config.data + 'test_labels.csv'\n",
    "\n",
    "config.model_path = 'fine-tuned_mobilenet_v2'\n",
    "# config.model_path = '/kaggle/input/efficient-model/fine-tuned_mobilenet_v2'\n",
    "# config.arcface_weights = '/kaggle/input/efficient-model/ArcLoss_parametres.pth'\n",
    "# config.model_path = '/kaggle/input/efficient-model/ArcFace_efficientnet_b0.pth'"
   ],
   "metadata": {
    "ExecuteTime": {
     "start_time": "2023-08-14T17:23:26.573436Z",
     "end_time": "2023-08-14T17:23:26.611598Z"
    },
    "id": "QKDBLmMrTFDd",
    "execution": {
     "iopub.status.busy": "2023-08-14T11:44:49.839696Z",
     "iopub.execute_input": "2023-08-14T11:44:49.840145Z",
     "iopub.status.idle": "2023-08-14T11:44:49.848418Z",
     "shell.execute_reply.started": "2023-08-14T11:44:49.840109Z",
     "shell.execute_reply": "2023-08-14T11:44:49.847223Z"
    },
    "trusted": true
   },
   "execution_count": null,
   "outputs": []
  },
  {
   "cell_type": "markdown",
   "source": "## 2. Custom Data representation",
   "metadata": {
    "id": "u0McLUXoTFDd"
   }
  },
  {
   "cell_type": "code",
   "source": "def get_file_path_by_id(file_id, dir=config.root):\n    return os.path.join(dir, str(file_id) + \".jpg\")",
   "metadata": {
    "execution": {
     "iopub.status.busy": "2023-08-14T11:44:49.850185Z",
     "iopub.execute_input": "2023-08-14T11:44:49.850591Z",
     "iopub.status.idle": "2023-08-14T11:44:49.857356Z",
     "shell.execute_reply.started": "2023-08-14T11:44:49.850552Z",
     "shell.execute_reply": "2023-08-14T11:44:49.856293Z"
    },
    "trusted": true,
    "ExecuteTime": {
     "start_time": "2023-08-14T17:23:26.586152Z",
     "end_time": "2023-08-14T17:23:26.612599Z"
    }
   },
   "execution_count": null,
   "outputs": []
  },
  {
   "cell_type": "code",
   "source": "def apply_label_encoding(data: t.Union[pd.DataFrame, np.array],\n                         encoder_name: os.path,\n                         column='label', action='encode',\n                         ):\n    \"\"\"\n    One Hot encoding. We apply encoding by replacing the label column in dataframe.\n    As for decoding data back, we work with vector-array (as it's most likely to\n    be a prediction result)\n    \"\"\"\n    encoder = LabelEncoder()\n    if action == 'encode':\n        # We transform dataframe here. Nothing returns\n        data[column] = encoder.fit_transform(data[column])\n        with open(f\"{encoder_name}_LEncoder.pkl\", \"wb\") as fp:\n            joblib.dump(encoder, fp)\n    elif action == 'decode':\n        # We pass vector here. Result is a vector\n        with open(f\"{encoder_name}_LEncoder.pkl\", \"rb\") as fp:\n            encoder: LabelEncoder = joblib.load(fp)\n        return encoder.inverse_transform(data)",
   "metadata": {
    "ExecuteTime": {
     "start_time": "2023-08-14T17:23:26.603179Z",
     "end_time": "2023-08-14T17:23:26.613599Z"
    },
    "jupyter": {
     "outputs_hidden": false
    },
    "id": "_dh7nUr3TFDd",
    "collapsed": false,
    "execution": {
     "iopub.status.busy": "2023-08-14T11:44:49.858845Z",
     "iopub.execute_input": "2023-08-14T11:44:49.860052Z",
     "iopub.status.idle": "2023-08-14T11:44:49.868764Z",
     "shell.execute_reply.started": "2023-08-14T11:44:49.859949Z",
     "shell.execute_reply": "2023-08-14T11:44:49.868003Z"
    },
    "trusted": true
   },
   "execution_count": null,
   "outputs": []
  },
  {
   "cell_type": "code",
   "source": "class CustomImagesDataset(Dataset):\n    \"\"\"\n    \"\"\"\n    def __init__(self, data: pd.DataFrame=None, images_path: os.path=None, labels_path:os.path=None, transform_images: A.Compose=None, encoder_name: str=None):\n        \"\"\"\n\n        \"\"\"\n        super().__init__()\n        assert (data is not None) or (labels_path is not None and images_path is not None)\n\n        if data is None:\n            data = pd.read_csv(labels_path)\n            data['file_path'] = data['id'].apply(get_file_path_by_id, dir=images_path)\n\n        self.images_paths = data['file_path'].values\n        self.encoder_name = encoder_name if encoder_name else self.__hash__()  # We use hash as a unique name\n        print_highlighted(f\"Label Encoder saved with id `{self.encoder_name}`\")\n        apply_label_encoding(data=data, action='encode', encoder_name=self.encoder_name)\n        self.labels = data['label'].values\n#         self.indexes = data['id'].values\n        self.transform_images = transform_images\n        self.__set_dataset_len()\n\n    def __set_dataset_len(self):\n        self.length = self.labels.shape[0] # Number of rows\n\n    def __len__(self):\n        \"\"\"\n        We calculate the len in another function, so that we are able to slice.\n        \"\"\"\n        return self.length\n\n    def decode_labels(self, labels_vector):\n        return apply_label_encoding(data=labels_vector, action='decode', encoder_name=self.encoder_name)\n\n    def __getitem__(self, index) -> tuple[torch.Tensor, int]:\n        \"\"\" Function to return item by indexing the dataset \"\"\"\n\n        if not isinstance(index, int) and isinstance(index, slice):\n            # It's not an index, but slice.\n            # We will return the part of data by making a copy of the dataset\n            index: slice\n            self = deepcopy(self)\n            self.length = index.stop  # Cut the length of dataset.\n            self.labels = self.labels[:self.length]\n            return self\n        assert self.__len__() >= index\n\n        image = to_pil_image(read_image(self.images_paths[index]))\n        if self.transform_images:\n            # Albumentations requires us to convert image to Numpy Array\n            image = self.transform_images(image=np.array(image))['image']\n\n        label = self.labels[index]\n        return image, label\n\n\n    @property\n    def classes_(self):\n        return self.decode_labels(np.unique(self.labels))\n",
   "metadata": {
    "ExecuteTime": {
     "start_time": "2023-08-14T17:23:26.640614Z",
     "end_time": "2023-08-14T17:23:26.774422Z"
    },
    "jupyter": {
     "outputs_hidden": false
    },
    "id": "piJ9PgTuTFDe",
    "collapsed": false,
    "execution": {
     "iopub.status.busy": "2023-08-14T11:44:49.870284Z",
     "iopub.execute_input": "2023-08-14T11:44:49.871007Z",
     "iopub.status.idle": "2023-08-14T11:44:49.887499Z",
     "shell.execute_reply.started": "2023-08-14T11:44:49.870972Z",
     "shell.execute_reply": "2023-08-14T11:44:49.886543Z"
    },
    "trusted": true
   },
   "execution_count": null,
   "outputs": []
  },
  {
   "cell_type": "markdown",
   "source": "## 3. Augmentations",
   "metadata": {
    "id": "lB9BnVDPTFDe"
   }
  },
  {
   "cell_type": "markdown",
   "source": "We use Albumantations lib",
   "metadata": {
    "id": "i-F36u_bTFDe"
   }
  },
  {
   "cell_type": "code",
   "source": "data_transforms = {\n    \"train\": A.Compose([\n#         A.ToRGB(),\n        A.Resize(config.image_dimension, config.image_dimension),\n        A.ShiftScaleRotate(\n            shift_limit=0.1,\n            scale_limit=0.15,\n            rotate_limit=30,\n            p=0.5),\n        A.HueSaturationValue(\n                hue_shift_limit=30,\n                sat_shift_limit=30,\n                val_shift_limit=30,\n                p=0.5\n            ),\n        A.RandomBrightnessContrast(\n                brightness_limit=(-0.01,0.01),\n                contrast_limit=(-0.01, 0.01),\n                p=0.5\n            ),\n        A.Normalize(\n                mean=[0.485, 0.456, 0.406],\n                std=[0.229, 0.224, 0.225],\n                max_pixel_value=255.0,\n                p=1.0\n            ),\n        ToTensorV2() # Advanced analogue of T.ToTensor\n    ], p=1.),\n\n    \"val\": A.Compose([\n#         A.ToRGB(),\n        A.Resize(config.image_dimension, config.image_dimension),\n        A.Normalize(\n                mean=[0.485, 0.456, 0.406],\n                std=[0.229, 0.224, 0.225],\n                max_pixel_value=255.0,\n                p=1.0\n            ),\n        ToTensorV2()], p=1.)\n}",
   "metadata": {
    "ExecuteTime": {
     "start_time": "2023-08-14T17:23:26.668859Z",
     "end_time": "2023-08-14T17:23:26.813412Z"
    },
    "jupyter": {
     "outputs_hidden": false
    },
    "id": "tROO0x2GTFDe",
    "collapsed": false,
    "execution": {
     "iopub.status.busy": "2023-08-14T11:44:49.889050Z",
     "iopub.execute_input": "2023-08-14T11:44:49.889876Z",
     "iopub.status.idle": "2023-08-14T11:44:49.900739Z",
     "shell.execute_reply.started": "2023-08-14T11:44:49.889835Z",
     "shell.execute_reply": "2023-08-14T11:44:49.899787Z"
    },
    "trusted": true
   },
   "execution_count": null,
   "outputs": []
  },
  {
   "cell_type": "markdown",
   "source": "## 4. Load the data and have a look",
   "metadata": {
    "id": "LrSe00KeTFDe"
   }
  },
  {
   "cell_type": "code",
   "source": "train_dataset = CustomImagesDataset(labels_path=config.train_labels, images_path=config.train_images_path, transform_images=data_transforms['train'], encoder_name='train')",
   "metadata": {
    "ExecuteTime": {
     "start_time": "2023-08-14T17:23:26.695204Z",
     "end_time": "2023-08-14T17:23:27.056859Z"
    },
    "jupyter": {
     "outputs_hidden": false
    },
    "id": "DmijxMsuTFDf",
    "outputId": "0f9bae18-cdd1-4716-8bc0-8d83c4eb2a3f",
    "collapsed": false,
    "execution": {
     "iopub.status.busy": "2023-08-14T11:44:49.902832Z",
     "iopub.execute_input": "2023-08-14T11:44:49.903667Z",
     "iopub.status.idle": "2023-08-14T11:44:50.023297Z",
     "shell.execute_reply.started": "2023-08-14T11:44:49.903631Z",
     "shell.execute_reply": "2023-08-14T11:44:50.022365Z"
    },
    "trusted": true
   },
   "execution_count": null,
   "outputs": []
  },
  {
   "cell_type": "code",
   "source": "test_dataset = CustomImagesDataset(\n    labels_path=config.test_labels,\n    images_path=config.test_images_path,\n    transform_images=data_transforms['val'],\n    encoder_name='test',\n)",
   "metadata": {
    "id": "NyHg814zTFDf",
    "outputId": "11706677-ef27-479d-c5a7-440ddb48b538",
    "ExecuteTime": {
     "start_time": "2023-08-14T17:23:27.057861Z",
     "end_time": "2023-08-14T17:23:27.146756Z"
    },
    "execution": {
     "iopub.status.busy": "2023-08-14T11:44:50.025365Z",
     "iopub.execute_input": "2023-08-14T11:44:50.026270Z",
     "iopub.status.idle": "2023-08-14T11:44:50.057510Z",
     "shell.execute_reply.started": "2023-08-14T11:44:50.026233Z",
     "shell.execute_reply": "2023-08-14T11:44:50.056610Z"
    },
    "trusted": true
   },
   "execution_count": null,
   "outputs": []
  },
  {
   "cell_type": "code",
   "source": "to_pil_image(train_dataset[60][0])",
   "metadata": {
    "ExecuteTime": {
     "start_time": "2023-08-14T17:23:27.095977Z",
     "end_time": "2023-08-14T17:23:27.271816Z"
    },
    "id": "_bZMqZjoTFDf",
    "outputId": "a43afe2b-a8cb-4aee-9500-d4637cd905ef",
    "execution": {
     "iopub.status.busy": "2023-08-14T11:44:50.058531Z",
     "iopub.execute_input": "2023-08-14T11:44:50.058791Z",
     "iopub.status.idle": "2023-08-14T11:44:50.182187Z",
     "shell.execute_reply.started": "2023-08-14T11:44:50.058767Z",
     "shell.execute_reply": "2023-08-14T11:44:50.181301Z"
    },
    "trusted": true
   },
   "execution_count": null,
   "outputs": []
  },
  {
   "cell_type": "code",
   "source": "config.num_of_classes = len(train_dataset.classes_)\nconfig.num_of_classes",
   "metadata": {
    "ExecuteTime": {
     "start_time": "2023-08-14T17:24:02.995949Z",
     "end_time": "2023-08-14T17:24:03.063583Z"
    },
    "jupyter": {
     "outputs_hidden": false
    },
    "id": "UUS_aiISTFDf",
    "outputId": "832f5ec9-3895-4f71-bc96-6e626c74ab34",
    "collapsed": false,
    "execution": {
     "iopub.status.busy": "2023-08-14T11:44:50.183363Z",
     "iopub.execute_input": "2023-08-14T11:44:50.183947Z",
     "iopub.status.idle": "2023-08-14T11:44:50.195491Z",
     "shell.execute_reply.started": "2023-08-14T11:44:50.183913Z",
     "shell.execute_reply": "2023-08-14T11:44:50.194399Z"
    },
    "trusted": true
   },
   "execution_count": null,
   "outputs": []
  },
  {
   "cell_type": "markdown",
   "source": "Below we ensure that the test dataset doesn't contain unknown data",
   "metadata": {
    "id": "1T2BVhnkTFDf"
   }
  },
  {
   "cell_type": "code",
   "source": "assert not bool(set(test_dataset.classes_) - set(train_dataset.classes_))",
   "metadata": {
    "id": "52QN-ziNTFDg",
    "ExecuteTime": {
     "start_time": "2023-08-14T17:24:03.308139Z",
     "end_time": "2023-08-14T17:24:03.362864Z"
    },
    "execution": {
     "iopub.status.busy": "2023-08-14T11:44:50.198544Z",
     "iopub.execute_input": "2023-08-14T11:44:50.198829Z",
     "iopub.status.idle": "2023-08-14T11:44:50.206543Z",
     "shell.execute_reply.started": "2023-08-14T11:44:50.198782Z",
     "shell.execute_reply": "2023-08-14T11:44:50.205736Z"
    },
    "trusted": true
   },
   "execution_count": null,
   "outputs": []
  },
  {
   "cell_type": "code",
   "source": "print(*train_dataset.classes_[:20], sep=';  ', end='...')",
   "metadata": {
    "ExecuteTime": {
     "start_time": "2023-08-14T17:24:03.537760Z",
     "end_time": "2023-08-14T17:24:03.814742Z"
    },
    "id": "lYMINDi1TFDj",
    "outputId": "bdd6cc65-de03-495d-9883-53906ce9a165",
    "execution": {
     "iopub.status.busy": "2023-08-14T11:44:50.207757Z",
     "iopub.execute_input": "2023-08-14T11:44:50.208510Z",
     "iopub.status.idle": "2023-08-14T11:44:50.216776Z",
     "shell.execute_reply.started": "2023-08-14T11:44:50.208478Z",
     "shell.execute_reply": "2023-08-14T11:44:50.215819Z"
    },
    "trusted": true
   },
   "execution_count": null,
   "outputs": []
  },
  {
   "cell_type": "markdown",
   "source": "# 3. Model",
   "metadata": {
    "id": "1nrMvID-TFDk"
   }
  },
  {
   "cell_type": "markdown",
   "source": "ArcFace loss function is used on the embeddings, not on the final predictions",
   "metadata": {}
  },
  {
   "cell_type": "markdown",
   "source": "## 1. Getting the pretrained model",
   "metadata": {
    "id": "CC_wCexMTFDk"
   }
  },
  {
   "cell_type": "code",
   "source": "def get_input_feature_size(classifier: nn.Sequential) -> int:\n    for module in classifier.modules():\n        if isinstance(module, nn.Linear):\n            return module.in_features",
   "metadata": {
    "collapsed": false,
    "ExecuteTime": {
     "start_time": "2023-08-14T17:24:04.096107Z",
     "end_time": "2023-08-14T17:24:04.219145Z"
    },
    "jupyter": {
     "outputs_hidden": false
    },
    "execution": {
     "iopub.status.busy": "2023-08-14T11:44:50.217970Z",
     "iopub.execute_input": "2023-08-14T11:44:50.218616Z",
     "iopub.status.idle": "2023-08-14T11:44:50.224533Z",
     "shell.execute_reply.started": "2023-08-14T11:44:50.218584Z",
     "shell.execute_reply": "2023-08-14T11:44:50.223368Z"
    },
    "trusted": true
   },
   "execution_count": null,
   "outputs": []
  },
  {
   "cell_type": "code",
   "source": "def get_model(model_name='resnet18', from_path=None, pretrained=False, freeze_layers=0.0, get_embeddings=False) -> torch.nn.Module:\n    if from_path:\n        try:\n            model = torch.load(from_path, map_location=torch.device(\"cuda\" if torch.cuda.is_available() else \"cpu\"))\n        except FileNotFoundError:\n            raise\n    elif model_name:\n        model = getattr(models, model_name) # We use builtin function\n        model = model(\n        weights=('DEFAULT' if pretrained else None)\n        )\n\n    if bool(freeze_layers):\n        params = list(model.parameters())\n        for param in params[:int(len(params)*freeze_layers)]:\n            # Freeze some layers\n            param.requires_grad = False\n\n    if get_embeddings:\n        # That means remove classifier (last layer):\n        model.classifier = nn.Sequential(\n            # nn.Dropout(p=0.3, inplace=True),\n            nn.Linear(in_features=get_input_feature_size(model.classifier),\n                      out_features=config.embedding_size, bias=True\n                      ),\n\n        )\n    return model",
   "metadata": {
    "ExecuteTime": {
     "start_time": "2023-08-14T17:24:04.129656Z",
     "end_time": "2023-08-14T17:24:04.281142Z"
    },
    "id": "-NUikulCTFDk",
    "execution": {
     "iopub.status.busy": "2023-08-14T11:44:50.231498Z",
     "iopub.execute_input": "2023-08-14T11:44:50.231750Z",
     "iopub.status.idle": "2023-08-14T11:44:50.239716Z",
     "shell.execute_reply.started": "2023-08-14T11:44:50.231728Z",
     "shell.execute_reply": "2023-08-14T11:44:50.238569Z"
    },
    "trusted": true
   },
   "execution_count": null,
   "outputs": []
  },
  {
   "cell_type": "markdown",
   "source": "We can fine-tune the model or train from scratch",
   "metadata": {}
  },
  {
   "cell_type": "code",
   "source": "# model = get_model(\n#     model_name=config.model_name,\n#     pretrained=True,\n#     freeze_layers=0.0,\n#     get_embeddings=True\n# )",
   "metadata": {
    "ExecuteTime": {
     "start_time": "2023-08-14T17:24:06.050183Z",
     "end_time": "2023-08-14T17:24:06.082908Z"
    },
    "id": "v-BpLsBTTFDk",
    "outputId": "9f1358ab-175a-482d-a430-85a36c85a9c0",
    "execution": {
     "iopub.status.busy": "2023-08-14T11:44:50.241391Z",
     "iopub.execute_input": "2023-08-14T11:44:50.241761Z",
     "iopub.status.idle": "2023-08-14T11:44:50.252604Z",
     "shell.execute_reply.started": "2023-08-14T11:44:50.241729Z",
     "shell.execute_reply": "2023-08-14T11:44:50.251849Z"
    },
    "trusted": true
   },
   "execution_count": null,
   "outputs": []
  },
  {
   "cell_type": "markdown",
   "source": "Or fine-tine the model that we've trained before",
   "metadata": {}
  },
  {
   "cell_type": "code",
   "source": "model = get_model(\n    from_path=config.model_path,\n    pretrained=True,\n    freeze_layers=0.0,\n    get_embeddings=True\n)",
   "metadata": {
    "ExecuteTime": {
     "start_time": "2023-08-14T17:24:06.426952Z",
     "end_time": "2023-08-14T17:24:06.509753Z"
    },
    "execution": {
     "iopub.status.busy": "2023-08-14T11:44:50.254166Z",
     "iopub.execute_input": "2023-08-14T11:44:50.254897Z",
     "iopub.status.idle": "2023-08-14T11:44:55.253288Z",
     "shell.execute_reply.started": "2023-08-14T11:44:50.254864Z",
     "shell.execute_reply": "2023-08-14T11:44:55.252250Z"
    },
    "trusted": true
   },
   "execution_count": null,
   "outputs": []
  },
  {
   "cell_type": "markdown",
   "source": "It is a model that doesn't have classifier - only one linear layer that transforms embeddings to desired size",
   "metadata": {}
  },
  {
   "cell_type": "code",
   "source": "model.classifier",
   "metadata": {
    "id": "GsWQ0vJoTFDm",
    "outputId": "fe3553cc-d992-44f6-f031-4c1c49705080",
    "ExecuteTime": {
     "start_time": "2023-08-14T17:24:12.655659Z",
     "end_time": "2023-08-14T17:24:12.695212Z"
    },
    "execution": {
     "iopub.status.busy": "2023-08-14T11:44:55.254639Z",
     "iopub.execute_input": "2023-08-14T11:44:55.255254Z",
     "iopub.status.idle": "2023-08-14T11:44:55.262933Z",
     "shell.execute_reply.started": "2023-08-14T11:44:55.255218Z",
     "shell.execute_reply": "2023-08-14T11:44:55.261762Z"
    },
    "trusted": true
   },
   "execution_count": null,
   "outputs": []
  },
  {
   "cell_type": "markdown",
   "source": "# 4. Various",
   "metadata": {
    "id": "t6rYKZFqTFDn"
   }
  },
  {
   "cell_type": "markdown",
   "source": "## 1. Quality metrics",
   "metadata": {
    "id": "UhnkDGSqTFDn"
   }
  },
  {
   "cell_type": "markdown",
   "source": "We will use accuracy and F1 score for out classification task",
   "metadata": {
    "id": "VpjMrvnfWgHC"
   }
  },
  {
   "cell_type": "code",
   "source": "f1_score = MulticlassF1Score(num_classes=config.num_of_classes, average=\"macro\")",
   "metadata": {
    "id": "c_2AwnsfTFDn",
    "ExecuteTime": {
     "start_time": "2023-08-14T17:24:14.222546Z",
     "end_time": "2023-08-14T17:24:14.257455Z"
    },
    "execution": {
     "iopub.status.busy": "2023-08-14T11:44:55.264281Z",
     "iopub.execute_input": "2023-08-14T11:44:55.265373Z",
     "iopub.status.idle": "2023-08-14T11:44:55.277322Z",
     "shell.execute_reply.started": "2023-08-14T11:44:55.265334Z",
     "shell.execute_reply": "2023-08-14T11:44:55.276363Z"
    },
    "trusted": true
   },
   "execution_count": null,
   "outputs": []
  },
  {
   "cell_type": "markdown",
   "source": "## 2. Device",
   "metadata": {
    "id": "WqgSgG2_TFDn"
   }
  },
  {
   "cell_type": "code",
   "source": "device = torch.device(\"cuda\" if torch.cuda.is_available() else \"cpu\")\nmodel = model.to(device)\nf1_score = f1_score.to(device)\ntorch.cuda.empty_cache()",
   "metadata": {
    "id": "F7zEDfFvTFDo",
    "ExecuteTime": {
     "start_time": "2023-08-12T09:39:36.135928Z",
     "end_time": "2023-08-12T09:39:36.287885Z"
    },
    "execution": {
     "iopub.status.busy": "2023-08-14T11:44:55.278634Z",
     "iopub.execute_input": "2023-08-14T11:44:55.279445Z",
     "iopub.status.idle": "2023-08-14T11:44:55.291202Z",
     "shell.execute_reply.started": "2023-08-14T11:44:55.279411Z",
     "shell.execute_reply": "2023-08-14T11:44:55.290249Z"
    },
    "trusted": true
   },
   "execution_count": null,
   "outputs": []
  },
  {
   "cell_type": "markdown",
   "source": "## 3. Data processing format",
   "metadata": {
    "id": "E7mbVBoGTFDo"
   }
  },
  {
   "cell_type": "code",
   "source": [
    "config.train_batch_size, config.val_batch_size = 1, 1"
   ],
   "metadata": {
    "id": "7xJPcyHwTFDo",
    "ExecuteTime": {
     "start_time": "2023-08-14T17:24:25.745896Z",
     "end_time": "2023-08-14T17:24:25.785305Z"
    },
    "execution": {
     "iopub.status.busy": "2023-08-14T11:44:55.292628Z",
     "iopub.execute_input": "2023-08-14T11:44:55.293203Z",
     "iopub.status.idle": "2023-08-14T11:44:55.297545Z",
     "shell.execute_reply.started": "2023-08-14T11:44:55.293171Z",
     "shell.execute_reply": "2023-08-14T11:44:55.296534Z"
    },
    "trusted": true
   },
   "execution_count": null,
   "outputs": []
  },
  {
   "cell_type": "code",
   "source": "train_dataloader = DataLoader(train_dataset,\n                              batch_size=config.train_batch_size,\n                              shuffle=True,\n                              num_workers=os.cpu_count() % 4,\n)",
   "metadata": {
    "id": "IqrseI2gTFDo",
    "ExecuteTime": {
     "start_time": "2023-08-14T17:24:26.147993Z",
     "end_time": "2023-08-14T17:24:26.180270Z"
    },
    "execution": {
     "iopub.status.busy": "2023-08-14T11:44:55.298948Z",
     "iopub.execute_input": "2023-08-14T11:44:55.299662Z",
     "iopub.status.idle": "2023-08-14T11:44:55.307705Z",
     "shell.execute_reply.started": "2023-08-14T11:44:55.299569Z",
     "shell.execute_reply": "2023-08-14T11:44:55.306755Z"
    },
    "trusted": true
   },
   "execution_count": null,
   "outputs": []
  },
  {
   "cell_type": "code",
   "source": "test_dataloader = DataLoader(test_dataset,\n                              batch_size=config.val_batch_size,\n                              shuffle=False,\n                              num_workers=os.cpu_count() % 4,\n)",
   "metadata": {
    "id": "GeiY7hELTFDo",
    "ExecuteTime": {
     "start_time": "2023-08-14T17:24:26.378091Z",
     "end_time": "2023-08-14T17:24:26.456677Z"
    },
    "execution": {
     "iopub.status.busy": "2023-08-14T11:50:32.271848Z",
     "iopub.execute_input": "2023-08-14T11:50:32.272216Z",
     "iopub.status.idle": "2023-08-14T11:50:32.277617Z",
     "shell.execute_reply.started": "2023-08-14T11:50:32.272184Z",
     "shell.execute_reply": "2023-08-14T11:50:32.276527Z"
    },
    "trusted": true
   },
   "execution_count": null,
   "outputs": []
  },
  {
   "cell_type": "markdown",
   "source": "# 5. Embeddings processing",
   "metadata": {}
  },
  {
   "cell_type": "code",
   "source": "@torch.inference_mode()\ndef get_embeddings(model, dataloader, device):\n    model.eval()\n    all_embeddings = []\n    all_labels = []\n\n    with tqdm(dataloader, desc=\"Processing\",unit=\"batch\") as process:\n        for images, labels in process:\n            images = images.to(device)\n            labels = labels.to(device)\n            embeddings = model(images)\n\n            all_embeddings.extend(tuple(embeddings.cpu().numpy()))\n            all_labels.extend(tuple(labels.cpu().numpy()))\n\n    return np.squeeze(np.array(all_embeddings)), np.array(all_labels)\n    # return np.squeeze(np.array(embeddings))",
   "metadata": {
    "collapsed": false,
    "jupyter": {
     "outputs_hidden": false
    },
    "execution": {
     "iopub.status.busy": "2023-08-14T11:50:32.609673Z",
     "iopub.execute_input": "2023-08-14T11:50:32.610059Z",
     "iopub.status.idle": "2023-08-14T11:50:32.617394Z",
     "shell.execute_reply.started": "2023-08-14T11:50:32.610027Z",
     "shell.execute_reply": "2023-08-14T11:50:32.616196Z"
    },
    "trusted": true,
    "ExecuteTime": {
     "start_time": "2023-08-14T17:39:52.910951Z",
     "end_time": "2023-08-14T17:39:53.096957Z"
    }
   },
   "execution_count": null,
   "outputs": []
  },
  {
   "cell_type": "code",
   "source": "embeddings_bag, labels = get_embeddings(model, test_dataloader, device)",
   "metadata": {
    "collapsed": false,
    "jupyter": {
     "outputs_hidden": false
    },
    "execution": {
     "iopub.status.busy": "2023-08-14T11:50:32.840035Z",
     "iopub.execute_input": "2023-08-14T11:50:32.840593Z",
     "iopub.status.idle": "2023-08-14T11:50:55.261888Z",
     "shell.execute_reply.started": "2023-08-14T11:50:32.840557Z",
     "shell.execute_reply": "2023-08-14T11:50:55.259744Z"
    },
    "trusted": true
   },
   "execution_count": null,
   "outputs": []
  },
  {
   "cell_type": "code",
   "source": "def reduce_dimension(dimension, features, reduce_with='pca',) -> np.array:\n    \"\"\" Perform dimensionality reduction with PCA or t-SNE \"\"\"\n\n    assert reduce_with.lower() in ['pca', 'tsne']\n\n    if reduce_with.lower() == 'tsne':\n        reductor = TSNE(n_components=dimension, perplexity=2.0)\n    else: # PCA\n        reductor = PCA(n_components=dimension)\n\n    reduced_features = reductor.fit_transform(features)\n    return reduced_features",
   "metadata": {
    "collapsed": false,
    "jupyter": {
     "outputs_hidden": false
    },
    "execution": {
     "iopub.status.busy": "2023-08-14T11:50:59.370483Z",
     "iopub.execute_input": "2023-08-14T11:50:59.370901Z",
     "iopub.status.idle": "2023-08-14T11:50:59.378106Z",
     "shell.execute_reply.started": "2023-08-14T11:50:59.370862Z",
     "shell.execute_reply": "2023-08-14T11:50:59.376991Z"
    },
    "trusted": true
   },
   "execution_count": null,
   "outputs": []
  },
  {
   "cell_type": "code",
   "source": "def visualize_embeddings(embeddings, labels, reduce_with='pca', save_as: str=None,):\n    \"\"\"\n    To project the embeddings vectors onto a low-dimensional space (2d or 3d)\n    :param embeddings:\n    :param labels:\n    :param reduce_with:\n    :param save_as:\n    :return:\n    \"\"\"\n    assert reduce_with in ['pca', 'tsne']\n\n    embeddings = embeddings.squeeze()\n\n    embeddings_2d = reduce_dimension(\n        dimension=2,\n        features=embeddings,\n        reduce_with=reduce_with\n    )\n    embeddings_3d = reduce_dimension(\n        dimension=3,\n        features=embeddings,\n        reduce_with=reduce_with\n    )\n\n    # Plot the dots in 3D or 2D\n    fig = plt.figure(figsize=(16,6))\n    # ----------------------------------------------- #\n\n    # 2D\n    ax = fig.add_subplot(1,3,1)\n    dots = (embeddings_2d[:, 0], embeddings_2d[:, 1])\n    ax.scatter(*dots, c=labels, cmap='viridis')\n    ax.set_title('2D')\n    ax.set_xlabel('X')\n    ax.set_ylabel('Y')\n    # ----------------------------------------------- #\n\n    # Hypersphere\n    ax = fig.add_subplot(1,3,2, projection='3d')\n    r = 1.0  # Radius\n    pi = np.pi\n    cos = np.cos\n    sin = np.sin\n\n    # Surface\n    phi, theta = np.mgrid[0.0:pi:100j, 0.0:2.0*pi:100j]\n    x = r*sin(phi)*cos(theta)\n    y = r*sin(phi)*sin(theta)\n    z = r*cos(phi)\n    ax.plot_surface(\n        x, y, z,  rstride=1, cstride=1, color='w', alpha=0.3, linewidth=0\n    )\n\n    phi = embeddings_2d[:, 0] * 2 * pi\n    theta = (embeddings_2d[:, 1] - 0.5) * 2 * pi\n    # Embeddings dots\n    x = r * sin(theta) * cos(phi)\n    y = r * sin(theta) * sin(phi)\n    z = r * cos(theta)\n\n    dots = (x, y, z)\n    ax.scatter(*dots, c=labels, cmap='viridis', s=20)\n    ax.set_title('Sphere distribution')\n    ax.set_xlabel('X')\n    ax.set_ylabel('Y')\n    ax.set_zlabel('Z')\n    # ----------------------------------------------- #\n\n\n    # Simple 3D\n    ax = fig.add_subplot(1,3,3, projection='3d')\n    dots = (embeddings_3d[:, 0], embeddings_3d[:, 1], embeddings_3d[:, 2])\n    ax.scatter(*dots, c=labels, cmap='viridis')\n    ax.set_title('3D')\n    ax.set_xlabel('X')\n    ax.set_ylabel('Y')\n    ax.set_zlabel('Z')\n\n\n    if save_as:\n        plt.savefig(f'{save_as}.png')\n    plt.tight_layout()\n    plt.show()\n",
   "metadata": {
    "collapsed": false,
    "jupyter": {
     "outputs_hidden": false
    },
    "execution": {
     "iopub.status.busy": "2023-08-14T11:50:59.765927Z",
     "iopub.execute_input": "2023-08-14T11:50:59.766247Z",
     "iopub.status.idle": "2023-08-14T11:50:59.781243Z",
     "shell.execute_reply.started": "2023-08-14T11:50:59.766220Z",
     "shell.execute_reply": "2023-08-14T11:50:59.780191Z"
    },
    "trusted": true
   },
   "execution_count": null,
   "outputs": []
  },
  {
   "cell_type": "code",
   "source": "visualize_embeddings(\n    embeddings_bag[:100],\n    labels[:100],\n    reduce_with='tsne',\n    # reduce_with='pca',\n)",
   "metadata": {
    "collapsed": false,
    "jupyter": {
     "outputs_hidden": false
    },
    "execution": {
     "iopub.status.busy": "2023-08-14T11:51:16.998038Z",
     "iopub.execute_input": "2023-08-14T11:51:16.998486Z",
     "iopub.status.idle": "2023-08-14T11:51:19.939434Z",
     "shell.execute_reply.started": "2023-08-14T11:51:16.998446Z",
     "shell.execute_reply": "2023-08-14T11:51:19.938516Z"
    },
    "trusted": true
   },
   "execution_count": null,
   "outputs": []
  },
  {
   "cell_type": "markdown",
   "source": "# 5. Initialize the train process",
   "metadata": {
    "id": "qCM07xVnTFDp"
   }
  },
  {
   "cell_type": "markdown",
   "source": "## 1. Functions to plot the result",
   "metadata": {
    "id": "afGGK718TFDp"
   }
  },
  {
   "cell_type": "code",
   "source": "def plot_two_curves(\n        title: str,\n        train_curve: list[float],\n        val_curve: list[float],\n\n):\n    plt.figure(figsize=(16, 8))\n    plt.title(title)\n    plt.plot(train_curve, label=f'Train {title}')\n    plt.plot(val_curve, label=f'Valid {title}')\n    plt.legend()\n    plt.grid()\n    plt.show()\n    #plt.savefig(title)",
   "metadata": {
    "id": "QVJL1liGTFDp",
    "ExecuteTime": {
     "start_time": "2023-08-12T09:39:36.184839Z",
     "end_time": "2023-08-12T09:39:36.314617Z"
    },
    "execution": {
     "iopub.status.busy": "2023-08-14T09:27:15.642356Z",
     "iopub.execute_input": "2023-08-14T09:27:15.643055Z",
     "iopub.status.idle": "2023-08-14T09:27:15.650088Z",
     "shell.execute_reply.started": "2023-08-14T09:27:15.643017Z",
     "shell.execute_reply": "2023-08-14T09:27:15.649097Z"
    },
    "trusted": true
   },
   "execution_count": null,
   "outputs": []
  },
  {
   "cell_type": "code",
   "source": "def plot_stats(\n        train_loss: list[float],\n        valid_loss: list[float],\n        train_accuracy: list[float]=None,\n        valid_accuracy: list[float]=None,\n        train_f1_score: list[float]=None,\n        valid_f1_score: list[float]=None,\n        title: str = None\n):\n    plot_two_curves(\n        'Loss',\n        train_loss,\n        valid_loss\n    )\n\n    if train_accuracy and valid_accuracy:\n        plot_two_curves(\n            'accuracy',\n            train_accuracy,\n            valid_accuracy\n        )\n\n    if train_f1_score and valid_f1_score:\n        plot_two_curves(\n            'F1 score',\n            train_f1_score,\n            valid_f1_score\n        )\n",
   "metadata": {
    "id": "GQrWiRJbTFDp",
    "ExecuteTime": {
     "start_time": "2023-08-12T09:41:59.575896Z",
     "end_time": "2023-08-12T09:41:59.670849Z"
    },
    "execution": {
     "iopub.status.busy": "2023-08-14T09:27:15.651837Z",
     "iopub.execute_input": "2023-08-14T09:27:15.652250Z",
     "iopub.status.idle": "2023-08-14T09:27:15.667727Z",
     "shell.execute_reply.started": "2023-08-14T09:27:15.652215Z",
     "shell.execute_reply": "2023-08-14T09:27:15.666695Z"
    },
    "trusted": true
   },
   "execution_count": null,
   "outputs": []
  },
  {
   "cell_type": "markdown",
   "source": "## 2. Training and evaluation functions",
   "metadata": {
    "id": "ePLlKs4rTFDq"
   }
  },
  {
   "cell_type": "code",
   "source": [
    "def train_one_epoch(model, dataloader, optimizer, criterion, device, epoch: str):\n",
    "    model.train()\n",
    "\n",
    "    train_loss = 0.0\n",
    "    train_correct = 0.0\n",
    "    train_f1 = 0.0\n",
    "    n_batches = 0\n",
    "    data_size = 0\n",
    "\n",
    "    with tqdm(dataloader, desc=f'Epoch: {epoch}', unit=\"batch\") as tepoch:\n",
    "        for images, labels in tepoch:\n",
    "            n_batches += 1\n",
    "            images = images.to(device)\n",
    "            labels = labels.to(device)\n",
    "\n",
    "            optimizer.zero_grad()\n",
    "\n",
    "            # Our model returns embeddings (instead of predictions).\n",
    "            embeddings = model(images)\n",
    "\n",
    "            # But we still want to calculate accuracy, so, we calculate probs it our ArcFace Function\n",
    "            probabilities = criterion(embeddings, labels)\n",
    "            loss = F.cross_entropy(probabilities, labels)\n",
    "            loss.backward()\n",
    "\n",
    "            optimizer.step()\n",
    "\n",
    "            loss = loss.item()  # item() extracts scalar\n",
    "            train_loss += loss\n",
    "\n",
    "            _, predicted = torch.max(probabilities, 1)\n",
    "\n",
    "            train_correct += (predicted == labels).sum().item()\n",
    "            data_size += labels.size(0)\n",
    "            train_accuracy = train_correct / data_size\n",
    "\n",
    "            f1 = f1_score(predicted, labels).item()\n",
    "            train_f1 += f1\n",
    "            tepoch.set_postfix(loss=loss, acc=train_accuracy)\n",
    "\n",
    "    train_loss /= n_batches\n",
    "    train_f1 /= n_batches\n",
    "    gc.collect()\n",
    "    torch.cuda.empty_cache()\n",
    "\n",
    "    return train_loss, train_accuracy, train_f1"
   ],
   "metadata": {
    "id": "QObsYKNJTFDq",
    "ExecuteTime": {
     "start_time": "2023-08-12T09:45:16.573930Z",
     "end_time": "2023-08-12T09:45:16.668278Z"
    },
    "execution": {
     "iopub.status.busy": "2023-08-14T09:27:15.669174Z",
     "iopub.execute_input": "2023-08-14T09:27:15.670030Z",
     "iopub.status.idle": "2023-08-14T09:27:15.680378Z",
     "shell.execute_reply.started": "2023-08-14T09:27:15.669996Z",
     "shell.execute_reply": "2023-08-14T09:27:15.679451Z"
    },
    "trusted": true
   },
   "execution_count": null,
   "outputs": []
  },
  {
   "cell_type": "code",
   "source": [
    "@torch.inference_mode()\n",
    "def validate_one_epoch(model, dataloader, criterion, device):\n",
    "    model.eval()\n",
    "\n",
    "    val_loss = 0.0\n",
    "    val_correct = 0.0\n",
    "    val_f1_score = 0.0\n",
    "    data_size = 0\n",
    "    n_batches = 0\n",
    "\n",
    "    with tqdm(dataloader, desc=\"Validation\",unit=\"batch\") as tepoch:\n",
    "        for images, labels in tepoch:\n",
    "            n_batches += 1\n",
    "            images = images.to(device)\n",
    "            labels = labels.to(device)\n",
    "            embeddings = model(images)\n",
    "\n",
    "            probabilities = criterion(embeddings, labels)\n",
    "            loss = F.cross_entropy(probabilities, labels).item()\n",
    "            val_loss += loss\n",
    "\n",
    "            _, predicted = torch.max(probabilities, 1)\n",
    "\n",
    "            correct = (predicted == labels).sum().item()\n",
    "            val_correct += correct\n",
    "            data_size += labels.size(0)\n",
    "            val_accuracy = val_correct / data_size\n",
    "\n",
    "            f1 = f1_score(predicted, labels).item()\n",
    "            val_f1_score += f1\n",
    "            tepoch.set_postfix(loss=loss, acc=val_accuracy)\n",
    "\n",
    "    val_loss /= n_batches\n",
    "    val_f1_score /= n_batches\n",
    "    gc.collect()\n",
    "    torch.cuda.empty_cache()\n",
    "\n",
    "    return val_loss, val_accuracy, val_f1_score"
   ],
   "metadata": {
    "id": "shn8rP6wTFDq",
    "ExecuteTime": {
     "start_time": "2023-08-14T18:32:38.320822Z",
     "end_time": "2023-08-14T18:32:38.383222Z"
    },
    "execution": {
     "iopub.status.busy": "2023-08-14T09:27:15.681780Z",
     "iopub.execute_input": "2023-08-14T09:27:15.682274Z",
     "iopub.status.idle": "2023-08-14T09:27:15.695127Z",
     "shell.execute_reply.started": "2023-08-14T09:27:15.682241Z",
     "shell.execute_reply": "2023-08-14T09:27:15.694163Z"
    },
    "trusted": true
   },
   "execution_count": null,
   "outputs": []
  },
  {
   "cell_type": "markdown",
   "source": "## 3. Training cycle",
   "metadata": {
    "id": "1TWCVEGYTFDq"
   }
  },
  {
   "cell_type": "code",
   "source": [
    "def train_model(model, train_loader, val_loader,\n",
    "                criterion=None, optimizer=None, num_epochs=5,\n",
    "                scheduler=None, device=torch.device(\"cpu\"),\n",
    "                save_model_to=None, save_margin_parameters_to=None):\n",
    "    since = time.time()\n",
    "\n",
    "    train_loss_history, valid_loss_history = [], []\n",
    "    train_acc_history, valid_acc_history = [], []\n",
    "    train_f1_history, valid_f1_history = [], []\n",
    "\n",
    "\n",
    "    # Create a temporary directory to save training checkpoints\n",
    "    with TemporaryDirectory() as tempdir:\n",
    "        best_model_params_path = os.path.join(tempdir, 'best_model_params.pt')\n",
    "\n",
    "        for epoch in range(num_epochs):\n",
    "            train_loss, train_accuracy, train_f1 = train_one_epoch(model, train_loader, optimizer, criterion, device, epoch=f'{epoch+1}/{num_epochs}')\n",
    "            val_loss, val_accuracy, val_f1 = validate_one_epoch(model, val_loader, criterion, device,)\n",
    "\n",
    "\n",
    "            print_highlighted(\n",
    "                f\"Loss: {val_loss:.4f} - Accuracy: {val_accuracy:.4f} - F1: {val_f1:.4f} - LR: {get_lr(optimizer)}\"\n",
    "            )\n",
    "\n",
    "            if not valid_loss_history or val_loss < valid_loss_history[-1]:\n",
    "                # If it's either first step (history is empty) or our weights are getting better\n",
    "                print_highlighted(\"New weights were applied.\\n\", bgcolor=Back.CYAN)\n",
    "                torch.save(model.state_dict(), best_model_params_path)\n",
    "\n",
    "            scheduler.step(val_loss)\n",
    "\n",
    "            train_loss_history.append(train_loss)\n",
    "            valid_loss_history.append(val_loss)\n",
    "            train_acc_history.append(train_accuracy)\n",
    "            valid_acc_history.append(val_accuracy)\n",
    "            train_f1_history.append(train_f1)\n",
    "            valid_f1_history.append(val_f1)\n",
    "\n",
    "            del train_loss\n",
    "            del val_loss\n",
    "            gc.collect()\n",
    "            torch.cuda.empty_cache()\n",
    "\n",
    "        time_elapsed = time.time() - since\n",
    "        print_highlighted(f'Training complete in {time_elapsed // 60:.0f}m {time_elapsed % 60:.0f}s')\n",
    "\n",
    "        # load best model weights\n",
    "        model.load_state_dict(torch.load(best_model_params_path))\n",
    "\n",
    "        if save_model_to:\n",
    "            torch.save(model, save_model_to)\n",
    "            print(f\"Model was saved to: {save_model_to}\")\n",
    "        if save_margin_parameters_to:\n",
    "            torch.save(criterion.state_dict(), save_margin_parameters_to)\n",
    "            print(f\"Loss Function weights were saved to: {save_margin_parameters_to}\")\n",
    "\n",
    "\n",
    "        history = dict(\n",
    "            train_loss=train_loss_history,\n",
    "            valid_loss=valid_loss_history,\n",
    "            train_accuracy=train_acc_history,\n",
    "            valid_accuracy=valid_acc_history,\n",
    "            train_f1_score=train_f1_history,\n",
    "            valid_f1_score=valid_f1_history,\n",
    "        )\n",
    "    return model, history"
   ],
   "metadata": {
    "id": "CXrp7xrOTFDu",
    "ExecuteTime": {
     "start_time": "2023-08-12T09:45:17.738181Z",
     "end_time": "2023-08-12T09:45:17.791357Z"
    },
    "execution": {
     "iopub.status.busy": "2023-08-14T09:27:15.696909Z",
     "iopub.execute_input": "2023-08-14T09:27:15.697307Z",
     "iopub.status.idle": "2023-08-14T09:27:15.711647Z",
     "shell.execute_reply.started": "2023-08-14T09:27:15.697210Z",
     "shell.execute_reply": "2023-08-14T09:27:15.710692Z"
    },
    "trusted": true
   },
   "execution_count": null,
   "outputs": []
  },
  {
   "cell_type": "markdown",
   "source": "# 6. Hyperparametres",
   "metadata": {
    "id": "GV7CqxbwTFDu"
   }
  },
  {
   "cell_type": "markdown",
   "source": "## 1. ArcFace Loss",
   "metadata": {}
  },
  {
   "cell_type": "markdown",
   "source": "Custom Loss Function",
   "metadata": {
    "id": "zuQ9db32TFDv"
   }
  },
  {
   "cell_type": "markdown",
   "source": "$$L = - \\frac{1}{N} \\sum_{i=1}^{N}\\; \\log \\frac{e^{s(\\cos(\\theta_{y_i} +m))}}\n{e^{s\\cos(\\theta_{y_i} +m)} + \\sum_{j=1, j\\neq {y_i}}^{n} e^{s\\cos(\\theta_{j})}}$$",
   "metadata": {}
  },
  {
   "cell_type": "code",
   "source": [
    "class ArcMarginProduct(nn.Module):\n",
    "    r\"\"\"Implement of large margin arc distance: :\n",
    "        Args:\n",
    "            in_features: size of each input sample\n",
    "            out_features: size of each output sample\n",
    "            s: norm of input feature\n",
    "            m: margin\n",
    "\n",
    "            cos(theta + m)\n",
    "        \"\"\"\n",
    "    def __init__(self, in_features, out_features, s=30.0, m=0.50, easy_margin=False):\n",
    "        super(ArcMarginProduct, self).__init__()\n",
    "        self.in_features = in_features\n",
    "        self.out_features = out_features\n",
    "        self.s = s\n",
    "        self.m = m\n",
    "        self.weight = nn.Parameter(torch.ones([out_features, in_features], dtype=torch.float32, device=device))\n",
    "        nn.init.xavier_uniform_(self.weight)\n",
    "\n",
    "        self.easy_margin = easy_margin\n",
    "        self.cos_m = math.cos(m)\n",
    "        self.sin_m = math.sin(m)\n",
    "        self.th = math.cos(math.pi - m)\n",
    "        self.mm = math.sin(math.pi - m) * m\n",
    "\n",
    "    def forward(self, input, label):\n",
    "        # --------------------------- cos(theta) & phi(theta) ---------------------------\n",
    "        cosine = F.linear(F.normalize(input), F.normalize(self.weight))\n",
    "        sine = torch.sqrt((1.0 - torch.pow(cosine, 2)).clamp(0, 1))\n",
    "        phi = cosine * self.cos_m - sine * self.sin_m\n",
    "        \n",
    "        if self.easy_margin:\n",
    "            phi = torch.where(cosine > 0, phi, cosine)\n",
    "        else:\n",
    "            phi = torch.where(cosine > self.th, phi, cosine - self.mm)\n",
    "            \n",
    "#         print(\"PHI IS: \", phi)\n",
    "\n",
    "\n",
    "        # --------------------------- convert label to one-hot ---------------------------\n",
    "        # one_hot = torch.zeros(cosine.size(), requires_grad=True, device='cuda')\n",
    "        one_hot = torch.zeros(cosine.size(), device=device)\n",
    "        one_hot.scatter_(1, label.view(-1, 1).long(), 1)\n",
    "        # -------------torch.where(out_i = {x_i if condition_i else y_i) -------------\n",
    "        output = (one_hot * phi) + ((1.0 - one_hot) * cosine)  # you can use torch.where if your torch.__version__ is 0.4\n",
    "        output *= self.s\n",
    "        # loss = F.cross_entropy(output, label)\n",
    "\n",
    "        return output"
   ],
   "metadata": {
    "execution": {
     "iopub.status.busy": "2023-08-14T12:02:03.427175Z",
     "iopub.execute_input": "2023-08-14T12:02:03.427816Z",
     "iopub.status.idle": "2023-08-14T12:02:03.441886Z",
     "shell.execute_reply.started": "2023-08-14T12:02:03.427762Z",
     "shell.execute_reply": "2023-08-14T12:02:03.439862Z"
    },
    "trusted": true,
    "ExecuteTime": {
     "start_time": "2023-08-14T18:38:19.606549Z",
     "end_time": "2023-08-14T18:38:19.714250Z"
    }
   },
   "execution_count": null,
   "outputs": []
  },
  {
   "cell_type": "code",
   "execution_count": null,
   "outputs": [],
   "source": [],
   "metadata": {
    "collapsed": false,
    "ExecuteTime": {
     "start_time": "2023-08-14T18:37:39.586754Z",
     "end_time": "2023-08-14T18:37:39.664926Z"
    }
   }
  },
  {
   "cell_type": "code",
   "source": [
    "class ArcFaceLoss(nn.Module):\n",
    "    def __init__(self, embedding_size, num_classes, margin=0.5, scale=64):\n",
    "        super().__init__()\n",
    "        self.embedding_size = embedding_size\n",
    "        self.num_classes = num_classes\n",
    "        self.margin = margin\n",
    "        self.scale = scale\n",
    "        self.weight = nn.Parameter(torch.ones([num_classes, embedding_size], dtype=torch.float32, device=device))\n",
    "        nn.init.xavier_uniform_(self.weight)\n",
    "        self.easy_margin = False\n",
    "        \n",
    "#         self.cos_m = math.cos(margin)\n",
    "#         self.sin_m = math.sin(margin)\n",
    "#         self.th = math.cos(math.pi - margin)\n",
    "#         self.mm = math.sin(math.pi - margin) * margin\n",
    "        \n",
    "    def forward(self, embeddings, labels):\n",
    "        # Normalize the embeddings and weights\n",
    "        labels = labels.to(torch.long)\n",
    "\n",
    "        embeddings = F.normalize(embeddings, dim=1)\n",
    "        weights = F.normalize(self.weight, dim=1)\n",
    "\n",
    "        # Compute the cosine similarity between embeddings and weights\n",
    "        cosine = F.linear(embeddings, weights)\n",
    "        \n",
    "        # Calculate the theta (angle) values for each class\n",
    "        theta = torch.acos(torch.clip(cosine, -1 + 1e-7, 1 - 1e-7))\n",
    "\n",
    "        # Apply the ArcFace margin and calculate logits\n",
    "        \n",
    "        one_hot_labels = F.one_hot(labels, self.num_classes)\n",
    "        \n",
    "#         target_logits = torch.cos(theta + self.margin)\n",
    "\n",
    "        # Easy margin\n",
    "        target_logits = torch.cos(theta + self.margin * (1 - one_hot_labels.float()))\n",
    "\n",
    "        logits = self.scale * torch.where(one_hot_labels.bool(), target_logits, cosine)\n",
    "\n",
    "        probabilities = F.softmax(logits, dim=1)\n",
    "        return probabilities  # We will calculate the cross-entropy loss later\n",
    "    "
   ],
   "metadata": {
    "collapsed": false,
    "jupyter": {
     "outputs_hidden": false
    },
    "execution": {
     "iopub.status.busy": "2023-08-14T12:01:53.129105Z",
     "iopub.execute_input": "2023-08-14T12:01:53.129964Z",
     "iopub.status.idle": "2023-08-14T12:01:53.140723Z",
     "shell.execute_reply.started": "2023-08-14T12:01:53.129931Z",
     "shell.execute_reply": "2023-08-14T12:01:53.139788Z"
    },
    "trusted": true,
    "ExecuteTime": {
     "start_time": "2023-08-14T18:37:40.121354Z",
     "end_time": "2023-08-14T18:37:40.360727Z"
    }
   },
   "execution_count": null,
   "outputs": []
  },
  {
   "cell_type": "code",
   "source": "criterion3 = nn.CrossEntropyLoss()\n# criterion = losses.ArcFaceLoss(\n#     num_classes=config.num_of_classes,\n#     embedding_size=config.embedding_size\n# )\ncriterion2 = ArcMarginProduct(\n    in_features=config.embedding_size, \n    out_features=config.num_of_classes,\n)\ncriterion = ArcFaceLoss(\n    embedding_size=config.embedding_size,\n    num_classes=config.num_of_classes,\n)\ntry:\n    # Load weights\n    criterion.load_state_dict(torch.load('/kaggle/input/efficient-model/ArcLoss_parametres.pth'))\nexcept FileNotFoundError:\n    pass",
   "metadata": {
    "ExecuteTime": {
     "start_time": "2023-08-14T18:38:22.291923Z",
     "end_time": "2023-08-14T18:38:22.324056Z"
    },
    "jupyter": {
     "outputs_hidden": false
    },
    "id": "PQ1_CTZaTFDw",
    "collapsed": false,
    "execution": {
     "iopub.status.busy": "2023-08-14T12:02:39.569399Z",
     "iopub.execute_input": "2023-08-14T12:02:39.569776Z",
     "iopub.status.idle": "2023-08-14T12:02:39.610889Z",
     "shell.execute_reply.started": "2023-08-14T12:02:39.569746Z",
     "shell.execute_reply": "2023-08-14T12:02:39.609966Z"
    },
    "trusted": true
   },
   "execution_count": null,
   "outputs": []
  },
  {
   "cell_type": "code",
   "source": "config.learning_rate = 5e-4\nconfig.epochs = 10\nconfig.weight_decay = 1e-7\nconfig.min_loss_delta = 0.05",
   "metadata": {
    "id": "HZAr_gPLTFDv",
    "ExecuteTime": {
     "start_time": "2023-08-14T18:37:40.612815Z",
     "end_time": "2023-08-14T18:37:40.800859Z"
    },
    "execution": {
     "iopub.status.busy": "2023-08-14T09:27:15.761084Z",
     "iopub.execute_input": "2023-08-14T09:27:15.761800Z",
     "iopub.status.idle": "2023-08-14T09:27:15.767963Z",
     "shell.execute_reply.started": "2023-08-14T09:27:15.761767Z",
     "shell.execute_reply": "2023-08-14T09:27:15.767058Z"
    },
    "trusted": true
   },
   "execution_count": null,
   "outputs": []
  },
  {
   "cell_type": "code",
   "source": "# optimizer = torch.optim.Adam(filter(lambda p: p.requires_grad, model.parameters()), lr=config.learning_rate, weight_decay = config.weight_decay)\n# optimizer = torch.optim.Adam(model.parameters(), lr=1e-3, weight_decay=0)\n# optimizer = torch.optim.SGD(model.parameters(), lr=config.learning_rate, momentum=0.8)\n# optimizer = torch.optim.Adam(model.parameters(), lr=1e-4)\n",
   "metadata": {
    "ExecuteTime": {
     "start_time": "2023-08-12T09:45:19.518789Z",
     "end_time": "2023-08-12T09:45:19.609679Z"
    },
    "jupyter": {
     "outputs_hidden": false
    },
    "id": "XcMxhj2oTFDv",
    "collapsed": false,
    "execution": {
     "iopub.status.busy": "2023-08-14T09:27:15.769113Z",
     "iopub.execute_input": "2023-08-14T09:27:15.770112Z",
     "iopub.status.idle": "2023-08-14T09:27:15.778077Z",
     "shell.execute_reply.started": "2023-08-14T09:27:15.770074Z",
     "shell.execute_reply": "2023-08-14T09:27:15.777214Z"
    },
    "trusted": true
   },
   "execution_count": null,
   "outputs": []
  },
  {
   "cell_type": "code",
   "source": "optimizer = torch.optim.Adam(\n    [\n    {'params': filter(lambda p: p.requires_grad, model.features.parameters())},\n    {'params': model.classifier.parameters()},\n    {'params': criterion.parameters(), 'lr': 0.005}\n    ],\n    lr=config.learning_rate, \n    weight_decay = config.weight_decay)\n",
   "metadata": {
    "ExecuteTime": {
     "start_time": "2023-08-12T09:45:19.721449Z",
     "end_time": "2023-08-12T09:45:19.841589Z"
    },
    "execution": {
     "iopub.status.busy": "2023-08-14T09:27:15.779243Z",
     "iopub.execute_input": "2023-08-14T09:27:15.779549Z",
     "iopub.status.idle": "2023-08-14T09:27:15.788800Z",
     "shell.execute_reply.started": "2023-08-14T09:27:15.779516Z",
     "shell.execute_reply": "2023-08-14T09:27:15.788148Z"
    },
    "trusted": true
   },
   "execution_count": null,
   "outputs": []
  },
  {
   "cell_type": "code",
   "source": "# scheduler = optim.lr_scheduler.StepLR(optimizer, step_size=2, gamma=0.5, verbose=False)\nscheduler = optim.lr_scheduler.ReduceLROnPlateau(\n    optimizer, 'min', patience = 5, factor=0.5, \n    min_lr=config.min_lr , verbose=False,\n    threshold = config.min_loss_delta)\n# scheduler = optim.lr_scheduler.ExponentialLR(optimizer, gamma=0.5, verbose=False)\n# scheduler = optim.lr_scheduler.StepLR(optimizer=optimizer, step_size=10, gamma=0.5, verbose=False)",
   "metadata": {
    "ExecuteTime": {
     "start_time": "2023-08-12T09:45:19.913380Z",
     "end_time": "2023-08-12T09:45:20.026072Z"
    },
    "jupyter": {
     "outputs_hidden": false
    },
    "id": "mb4RgCFlTFDw",
    "collapsed": false,
    "execution": {
     "iopub.status.busy": "2023-08-14T09:27:15.790031Z",
     "iopub.execute_input": "2023-08-14T09:27:15.790969Z",
     "iopub.status.idle": "2023-08-14T09:27:15.798756Z",
     "shell.execute_reply.started": "2023-08-14T09:27:15.790936Z",
     "shell.execute_reply": "2023-08-14T09:27:15.797887Z"
    },
    "trusted": true
   },
   "execution_count": null,
   "outputs": []
  },
  {
   "cell_type": "code",
   "source": "def get_lr(optimizer):\n    \"\"\"\n    For some schedulers we don't have `get_last_lr()` method.\n    So, we will get last lr ourselves.\n    \"\"\"\n    return list(\n        [group['lr'] for group in optimizer.param_groups]\n    )",
   "metadata": {
    "ExecuteTime": {
     "start_time": "2023-08-12T09:45:20.120019Z",
     "end_time": "2023-08-12T09:45:20.325987Z"
    },
    "execution": {
     "iopub.status.busy": "2023-08-14T09:27:15.802331Z",
     "iopub.execute_input": "2023-08-14T09:27:15.802673Z",
     "iopub.status.idle": "2023-08-14T09:27:15.807867Z",
     "shell.execute_reply.started": "2023-08-14T09:27:15.802648Z",
     "shell.execute_reply": "2023-08-14T09:27:15.806934Z"
    },
    "trusted": true
   },
   "execution_count": null,
   "outputs": []
  },
  {
   "cell_type": "code",
   "source": "get_lr(optimizer)",
   "metadata": {
    "ExecuteTime": {
     "start_time": "2023-08-12T09:45:20.226714Z",
     "end_time": "2023-08-12T09:45:20.557725Z"
    },
    "execution": {
     "iopub.status.busy": "2023-08-14T09:27:15.809087Z",
     "iopub.execute_input": "2023-08-14T09:27:15.810048Z",
     "iopub.status.idle": "2023-08-14T09:27:15.822781Z",
     "shell.execute_reply.started": "2023-08-14T09:27:15.810015Z",
     "shell.execute_reply": "2023-08-14T09:27:15.821814Z"
    },
    "trusted": true
   },
   "execution_count": null,
   "outputs": []
  },
  {
   "cell_type": "markdown",
   "source": "# 7. Run the training process",
   "metadata": {
    "id": "CKuqXRwrTFDw"
   }
  },
  {
   "cell_type": "code",
   "source": [
    "model_file_name = f'ArcFace_{config.model_name}.pth'\n",
    "arcface_parameters = 'Trained_ArcLoss_parameters.pth'\n",
    "model, history = train_model(\n",
    "    model=model,\n",
    "    train_loader=train_dataloader,\n",
    "    val_loader=test_dataloader,\n",
    "    criterion=criterion,\n",
    "    optimizer=optimizer,\n",
    "    num_epochs=config.epochs,\n",
    "    device=device,\n",
    "    scheduler=scheduler,\n",
    "    save_model_to=model_file_name,\n",
    "    save_margin_parameters_to=arcface_parameters\n",
    " )"
   ],
   "metadata": {
    "id": "9WxsyvplTFDw",
    "outputId": "de053f41-a9bb-49b4-ceec-4245ce71efe0",
    "execution": {
     "iopub.status.busy": "2023-08-14T09:27:15.825378Z",
     "iopub.execute_input": "2023-08-14T09:27:15.826030Z",
     "iopub.status.idle": "2023-08-14T09:53:04.350609Z",
     "shell.execute_reply.started": "2023-08-14T09:27:15.825997Z",
     "shell.execute_reply": "2023-08-14T09:53:04.349321Z"
    },
    "trusted": true
   },
   "execution_count": null,
   "outputs": []
  },
  {
   "cell_type": "code",
   "source": "plot_stats(\n    **history,\n    title=f\"Model {config.model_name}\"\n)",
   "metadata": {
    "id": "7zTLOYTWTFDx",
    "execution": {
     "iopub.status.busy": "2023-08-14T09:53:04.356488Z",
     "iopub.execute_input": "2023-08-14T09:53:04.356799Z",
     "iopub.status.idle": "2023-08-14T09:53:05.326382Z",
     "shell.execute_reply.started": "2023-08-14T09:53:04.356771Z",
     "shell.execute_reply": "2023-08-14T09:53:05.325362Z"
    },
    "trusted": true
   },
   "execution_count": null,
   "outputs": []
  },
  {
   "cell_type": "code",
   "source": "",
   "metadata": {
    "collapsed": false,
    "jupyter": {
     "outputs_hidden": false
    }
   },
   "execution_count": null,
   "outputs": []
  },
  {
   "cell_type": "markdown",
   "source": "# 8. Result evaluation",
   "metadata": {
    "id": "kJcjndrnTFDx"
   }
  },
  {
   "cell_type": "code",
   "source": "embeddings_bag, labels = get_embeddings(model, test_dataloader, device)",
   "metadata": {
    "execution": {
     "iopub.status.busy": "2023-08-14T09:53:05.328018Z",
     "iopub.execute_input": "2023-08-14T09:53:05.328369Z",
     "iopub.status.idle": "2023-08-14T09:53:14.435041Z",
     "shell.execute_reply.started": "2023-08-14T09:53:05.328334Z",
     "shell.execute_reply": "2023-08-14T09:53:14.433820Z"
    },
    "trusted": true
   },
   "execution_count": null,
   "outputs": []
  },
  {
   "cell_type": "code",
   "source": "visualize_embeddings(\n    embeddings_bag[:300],\n    labels[:300],\n    reduce_with='tsne',\n    # reduce_with='pca',\n)",
   "metadata": {
    "collapsed": false,
    "jupyter": {
     "outputs_hidden": false
    },
    "execution": {
     "iopub.status.busy": "2023-08-14T09:53:14.449515Z",
     "iopub.execute_input": "2023-08-14T09:53:14.449946Z",
     "iopub.status.idle": "2023-08-14T09:53:20.665270Z",
     "shell.execute_reply.started": "2023-08-14T09:53:14.449910Z",
     "shell.execute_reply": "2023-08-14T09:53:20.664353Z"
    },
    "trusted": true
   },
   "execution_count": null,
   "outputs": []
  },
  {
   "cell_type": "code",
   "source": [
    "# image = train_dataset[90][0].to(device)\n",
    "# lab = torch.unsqueeze(torch.tensor(train_dataset[90][1]).to(device).to(torch.long), dim=0)\n",
    "# model = model.to(device)\n",
    "#\n",
    "# criterion3(model(torch.unsqueeze(image, dim=0)), lab)"
   ],
   "metadata": {
    "execution": {
     "iopub.status.busy": "2023-08-14T12:07:36.860698Z",
     "iopub.execute_input": "2023-08-14T12:07:36.861416Z",
     "iopub.status.idle": "2023-08-14T12:07:36.904287Z",
     "shell.execute_reply.started": "2023-08-14T12:07:36.861380Z",
     "shell.execute_reply": "2023-08-14T12:07:36.903352Z"
    },
    "trusted": true,
    "ExecuteTime": {
     "start_time": "2023-08-14T18:42:57.071415Z",
     "end_time": "2023-08-14T18:42:57.174431Z"
    }
   },
   "execution_count": 202,
   "outputs": [
    {
     "data": {
      "text/plain": "tensor(6.2328, grad_fn=<NllLossBackward0>)"
     },
     "execution_count": 202,
     "metadata": {},
     "output_type": "execute_result"
    }
   ]
  },
  {
   "cell_type": "code",
   "source": [
    "model.eval()  # Set the model to evaluation mode\n",
    "predictions = []\n",
    "correct = 0\n",
    "total = 0\n",
    "\n",
    "with torch.no_grad():\n",
    "    with tqdm(test_dataloader, desc=\"Processing\",unit=\"batch\") as process:\n",
    "        for images, labels in process:\n",
    "            images = images.to(device)\n",
    "            labels = labels.to(device)\n",
    "            embeddings = model(images)\n",
    "            probabilities = criterion(embeddings, labels)\n",
    "            _, predicted = torch.max(probabilities, 1)\n",
    "            p = predicted.item()\n",
    "            correct += (p == labels).sum().item()\n",
    "            total += labels.size(0)\n",
    "print_highlighted(f\"Manually calculated accuracy: {correct/total}\")"
   ],
   "metadata": {
    "id": "wk7eAo8cTFDx",
    "execution": {
     "iopub.status.busy": "2023-08-14T09:53:20.707832Z",
     "iopub.execute_input": "2023-08-14T09:53:20.708418Z",
     "iopub.status.idle": "2023-08-14T09:53:30.306548Z",
     "shell.execute_reply.started": "2023-08-14T09:53:20.708369Z",
     "shell.execute_reply": "2023-08-14T09:53:30.304795Z"
    },
    "trusted": true
   },
   "execution_count": null,
   "outputs": []
  },
  {
   "cell_type": "code",
   "source": "c_report = classification_report(test_dataset.labels, np.array(predictions), output_dict=True, zero_division=0)\nc_report = pd.DataFrame(c_report).transpose()\nc_report",
   "metadata": {
    "id": "q5VvToQGTFDy",
    "execution": {
     "iopub.status.busy": "2023-08-14T09:53:30.718362Z",
     "iopub.status.idle": "2023-08-14T09:53:30.719163Z",
     "shell.execute_reply.started": "2023-08-14T09:53:30.718911Z",
     "shell.execute_reply": "2023-08-14T09:53:30.718936Z"
    },
    "trusted": true
   },
   "execution_count": null,
   "outputs": []
  },
  {
   "cell_type": "code",
   "source": "c_report[c_report['precision'] > 0][:-3].mean()",
   "metadata": {
    "id": "UJLtt_s6TFDy",
    "execution": {
     "iopub.status.busy": "2023-08-14T09:53:30.720703Z",
     "iopub.status.idle": "2023-08-14T09:53:30.721584Z",
     "shell.execute_reply.started": "2023-08-14T09:53:30.721293Z",
     "shell.execute_reply": "2023-08-14T09:53:30.721319Z"
    },
    "trusted": true
   },
   "execution_count": null,
   "outputs": []
  },
  {
   "cell_type": "code",
   "source": "accuracy_score(test_dataset.labels, np.array(predictions))",
   "metadata": {
    "id": "_Sw-oDmlTFDy",
    "execution": {
     "iopub.status.busy": "2023-08-14T09:53:30.723050Z",
     "iopub.status.idle": "2023-08-14T09:53:30.723853Z",
     "shell.execute_reply.started": "2023-08-14T09:53:30.723605Z",
     "shell.execute_reply": "2023-08-14T09:53:30.723629Z"
    },
    "trusted": true
   },
   "execution_count": null,
   "outputs": []
  },
  {
   "cell_type": "markdown",
   "source": "To download the model, use code below:",
   "metadata": {}
  },
  {
   "cell_type": "code",
   "source": "from IPython.display import FileLink\nFileLink(model_file_name)",
   "metadata": {
    "collapsed": false,
    "jupyter": {
     "outputs_hidden": false
    },
    "execution": {
     "iopub.status.busy": "2023-08-14T09:53:30.725272Z",
     "iopub.status.idle": "2023-08-14T09:53:30.726063Z",
     "shell.execute_reply.started": "2023-08-14T09:53:30.725814Z",
     "shell.execute_reply": "2023-08-14T09:53:30.725838Z"
    },
    "trusted": true
   },
   "execution_count": null,
   "outputs": []
  }
 ]
}
