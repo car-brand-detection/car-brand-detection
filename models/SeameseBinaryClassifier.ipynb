{
 "metadata": {
  "kernelspec": {
   "name": "python3",
   "display_name": "Python 3",
   "language": "python"
  },
  "language_info": {
   "codemirror_mode": {
    "name": "ipython",
    "version": 3
   },
   "file_extension": ".py",
   "mimetype": "text/x-python",
   "name": "python",
   "nbconvert_exporter": "python",
   "pygments_lexer": "ipython3",
   "version": "3.10.12"
  },
  "papermill": {
   "default_parameters": {},
   "duration": 3960.405937,
   "end_time": "2023-08-14T17:29:54.480893",
   "environment_variables": {},
   "exception": null,
   "input_path": "__notebook__.ipynb",
   "output_path": "__notebook__.ipynb",
   "parameters": {},
   "start_time": "2023-08-14T16:23:54.074956",
   "version": "2.4.0"
  }
 },
 "nbformat_minor": 5,
 "nbformat": 4,
 "cells": [
  {
   "cell_type": "markdown",
   "source": [
    "# Pairwise Binary classification with Deep Learning"
   ],
   "metadata": {
    "papermill": {
     "duration": 0.028248,
     "end_time": "2023-08-14T16:24:04.236116",
     "exception": false,
     "start_time": "2023-08-14T16:24:04.207868",
     "status": "completed"
    },
    "tags": []
   }
  },
  {
   "cell_type": "markdown",
   "source": [
    "In this notebook we will train Multilayer Perceptron Neural Network to detect whether two images are from same class (car brand) or not. To train Perceptron, we will use image embeddings got from trained CNN model (SOTA models such as MobileNet)."
   ],
   "metadata": {
    "papermill": {
     "duration": 0.0269,
     "end_time": "2023-08-14T16:24:04.291517",
     "exception": false,
     "start_time": "2023-08-14T16:24:04.264617",
     "status": "completed"
    },
    "tags": []
   }
  },
  {
   "cell_type": "markdown",
   "source": [
    "# Set up"
   ],
   "metadata": {
    "id": "DRrvM2BPUG3T",
    "papermill": {
     "duration": 0.02718,
     "end_time": "2023-08-14T16:24:04.346391",
     "exception": false,
     "start_time": "2023-08-14T16:24:04.319211",
     "status": "completed"
    },
    "tags": []
   }
  },
  {
   "cell_type": "markdown",
   "source": [
    "## Packages and requirements"
   ],
   "metadata": {
    "id": "G-cGfk5CTFDT",
    "papermill": {
     "duration": 0.026993,
     "end_time": "2023-08-14T16:24:04.400603",
     "exception": false,
     "start_time": "2023-08-14T16:24:04.373610",
     "status": "completed"
    },
    "tags": []
   }
  },
  {
   "cell_type": "code",
   "source": [
    "# Major builtin libraries\n",
    "import os\n",
    "import gc\n",
    "import time\n",
    "import random\n",
    "import typing as t\n",
    "from copy import deepcopy\n",
    "from collections import defaultdict"
   ],
   "metadata": {
    "ExecuteTime": {
     "start_time": "2023-08-17T12:54:48.330369Z",
     "end_time": "2023-08-17T12:54:48.595615Z"
    },
    "id": "YJ1bPQE1TFDW",
    "papermill": {
     "duration": 0.044843,
     "end_time": "2023-08-14T16:24:04.472823",
     "exception": false,
     "start_time": "2023-08-14T16:24:04.427980",
     "status": "completed"
    },
    "tags": [],
    "execution": {
     "iopub.status.busy": "2023-08-17T07:15:57.323559Z",
     "iopub.execute_input": "2023-08-17T07:15:57.323917Z",
     "iopub.status.idle": "2023-08-17T07:15:57.330822Z",
     "shell.execute_reply.started": "2023-08-17T07:15:57.323886Z",
     "shell.execute_reply": "2023-08-17T07:15:57.328160Z"
    },
    "trusted": true
   },
   "execution_count": 1,
   "outputs": []
  },
  {
   "cell_type": "code",
   "source": [
    "import warnings  # If you want to disable warnings\n",
    "warnings.filterwarnings(\"ignore\")\n",
    "\n",
    "# For descriptive error messages\n",
    "os.environ['CUDA_LAUNCH_BLOCKING'] = \"1\""
   ],
   "metadata": {
    "ExecuteTime": {
     "start_time": "2023-08-17T12:54:48.362423Z",
     "end_time": "2023-08-17T12:54:48.642480Z"
    },
    "id": "BwyVeWsUTFDX",
    "papermill": {
     "duration": 0.035469,
     "end_time": "2023-08-14T16:24:04.598152",
     "exception": false,
     "start_time": "2023-08-14T16:24:04.562683",
     "status": "completed"
    },
    "tags": [],
    "execution": {
     "iopub.status.busy": "2023-08-17T07:15:57.351506Z",
     "iopub.execute_input": "2023-08-17T07:15:57.352204Z",
     "iopub.status.idle": "2023-08-17T07:15:57.359600Z",
     "shell.execute_reply.started": "2023-08-17T07:15:57.352170Z",
     "shell.execute_reply": "2023-08-17T07:15:57.358625Z"
    },
    "trusted": true
   },
   "execution_count": 3,
   "outputs": []
  },
  {
   "cell_type": "code",
   "source": [
    "# Classic packages for data manipulation and visualization\n",
    "import numpy as np\n",
    "import pandas as pd\n",
    "import polars as pl\n",
    "import matplotlib.pyplot as plt"
   ],
   "metadata": {
    "ExecuteTime": {
     "start_time": "2023-08-17T12:54:48.366379Z",
     "end_time": "2023-08-17T12:54:51.312660Z"
    },
    "id": "AGRBRJORTFDX",
    "papermill": {
     "duration": 0.035178,
     "end_time": "2023-08-14T16:24:04.660718",
     "exception": false,
     "start_time": "2023-08-14T16:24:04.625540",
     "status": "completed"
    },
    "tags": [],
    "execution": {
     "iopub.status.busy": "2023-08-17T07:15:57.363018Z",
     "iopub.execute_input": "2023-08-17T07:15:57.363728Z",
     "iopub.status.idle": "2023-08-17T07:15:57.522644Z",
     "shell.execute_reply.started": "2023-08-17T07:15:57.363695Z",
     "shell.execute_reply": "2023-08-17T07:15:57.521747Z"
    },
    "trusted": true
   },
   "execution_count": 4,
   "outputs": []
  },
  {
   "cell_type": "code",
   "source": [
    "# Basic PyTorch\n",
    "import torch\n",
    "import torch.nn as nn\n",
    "import torch.optim as optim  # Optimization algorithms and dynamic learning rate adjusting\n",
    "import torch.nn.functional as F\n",
    "# from torch.nn.modules.loss import _Loss  # For writing a custom Loss function\n",
    "from torch.utils.data import DataLoader, Dataset  # For custom data presentation"
   ],
   "metadata": {
    "ExecuteTime": {
     "start_time": "2023-08-17T12:54:51.312660Z",
     "end_time": "2023-08-17T12:54:56.294580Z"
    },
    "id": "FXSN-XzxTFDX",
    "papermill": {
     "duration": 3.82041,
     "end_time": "2023-08-14T16:24:08.508190",
     "exception": false,
     "start_time": "2023-08-14T16:24:04.687780",
     "status": "completed"
    },
    "tags": [],
    "execution": {
     "iopub.status.busy": "2023-08-17T07:15:57.524533Z",
     "iopub.execute_input": "2023-08-17T07:15:57.524842Z",
     "iopub.status.idle": "2023-08-17T07:15:59.036652Z",
     "shell.execute_reply.started": "2023-08-17T07:15:57.524811Z",
     "shell.execute_reply": "2023-08-17T07:15:59.035663Z"
    },
    "trusted": true
   },
   "execution_count": 5,
   "outputs": []
  },
  {
   "cell_type": "code",
   "source": [
    "# Utils\n",
    "import joblib  # Pipelining, pickling (dump/load), parallel processing\n",
    "from tqdm import tqdm  # Progress bar for training process\n",
    "from tempfile import TemporaryDirectory\n",
    "\n",
    "# Classic ML tools\n",
    "from sklearn.preprocessing import LabelEncoder\n",
    "from sklearn.model_selection import StratifiedKFold  # Cross-Validation"
   ],
   "metadata": {
    "ExecuteTime": {
     "start_time": "2023-08-17T12:54:56.294580Z",
     "end_time": "2023-08-17T12:54:58.520503Z"
    },
    "id": "7QjRLiOzTFDY",
    "papermill": {
     "duration": 0.980731,
     "end_time": "2023-08-14T16:24:09.517905",
     "exception": false,
     "start_time": "2023-08-14T16:24:08.537174",
     "status": "completed"
    },
    "tags": [],
    "execution": {
     "iopub.status.busy": "2023-08-17T07:15:59.038198Z",
     "iopub.execute_input": "2023-08-17T07:15:59.039259Z",
     "iopub.status.idle": "2023-08-17T07:15:59.645345Z",
     "shell.execute_reply.started": "2023-08-17T07:15:59.039220Z",
     "shell.execute_reply": "2023-08-17T07:15:59.644319Z"
    },
    "trusted": true
   },
   "execution_count": 6,
   "outputs": []
  },
  {
   "cell_type": "code",
   "source": [
    "# ML Metrics\n",
    "from sklearn.metrics import accuracy_score\n",
    "from sklearn.metrics import classification_report\n",
    "from torchmetrics.classification import MulticlassF1Score, F1Score # F1 metric for multiclass"
   ],
   "metadata": {
    "ExecuteTime": {
     "start_time": "2023-08-17T12:54:58.527356Z",
     "end_time": "2023-08-17T12:55:00.764026Z"
    },
    "id": "BuY4s3bsTFDZ",
    "papermill": {
     "duration": 10.177643,
     "end_time": "2023-08-14T16:24:20.158465",
     "exception": false,
     "start_time": "2023-08-14T16:24:09.980822",
     "status": "completed"
    },
    "tags": [],
    "execution": {
     "iopub.status.busy": "2023-08-17T07:15:59.655265Z",
     "iopub.execute_input": "2023-08-17T07:15:59.655975Z",
     "iopub.status.idle": "2023-08-17T07:16:09.540861Z",
     "shell.execute_reply.started": "2023-08-17T07:15:59.655941Z",
     "shell.execute_reply": "2023-08-17T07:16:09.539912Z"
    },
    "trusted": true
   },
   "execution_count": 8,
   "outputs": []
  },
  {
   "cell_type": "code",
   "source": [
    "# Torch Computer Vision tools for images processing\n",
    "from torchvision.io import read_image\n",
    "from torchvision.transforms.functional import to_pil_image, to_grayscale, to_tensor\n",
    "from torchvision import models  # Pretrained models"
   ],
   "metadata": {
    "ExecuteTime": {
     "start_time": "2023-08-17T12:55:00.775111Z",
     "end_time": "2023-08-17T12:55:00.775111Z"
    },
    "id": "FEKtt6X5TFDZ",
    "papermill": {
     "duration": 0.03877,
     "end_time": "2023-08-14T16:24:20.224798",
     "exception": false,
     "start_time": "2023-08-14T16:24:20.186028",
     "status": "completed"
    },
    "tags": [],
    "execution": {
     "iopub.status.busy": "2023-08-17T07:16:09.542028Z",
     "iopub.execute_input": "2023-08-17T07:16:09.542369Z",
     "iopub.status.idle": "2023-08-17T07:16:09.549300Z",
     "shell.execute_reply.started": "2023-08-17T07:16:09.542337Z",
     "shell.execute_reply": "2023-08-17T07:16:09.548129Z"
    },
    "trusted": true
   },
   "execution_count": 9,
   "outputs": []
  },
  {
   "cell_type": "code",
   "source": [
    "# Albumentations is an OS library for augmentations\n",
    "import albumentations as A\n",
    "from albumentations.pytorch import ToTensorV2\n",
    "# import torchvision.transforms as T  # We can use torch augmentations instead"
   ],
   "metadata": {
    "ExecuteTime": {
     "start_time": "2023-08-17T12:55:00.775111Z",
     "end_time": "2023-08-17T12:55:02.056202Z"
    },
    "id": "90C8yH1dTFDa",
    "papermill": {
     "duration": 0.930793,
     "end_time": "2023-08-14T16:24:21.182870",
     "exception": false,
     "start_time": "2023-08-14T16:24:20.252077",
     "status": "completed"
    },
    "tags": [],
    "execution": {
     "iopub.status.busy": "2023-08-17T07:16:09.551106Z",
     "iopub.execute_input": "2023-08-17T07:16:09.551869Z",
     "iopub.status.idle": "2023-08-17T07:16:10.486598Z",
     "shell.execute_reply.started": "2023-08-17T07:16:09.551830Z",
     "shell.execute_reply": "2023-08-17T07:16:10.485516Z"
    },
    "trusted": true
   },
   "execution_count": 10,
   "outputs": []
  },
  {
   "cell_type": "code",
   "source": [
    "# Output text colorizing\n",
    "from colorama import Back, Style\n",
    "\n",
    "def print_highlighted(text: str, bgcolor=Back.YELLOW) -> None:\n",
    "    \"\"\"\n",
    "    Function to print a text with colored background.\n",
    "    \"\"\"\n",
    "    print(bgcolor + text + Style.RESET_ALL)"
   ],
   "metadata": {
    "ExecuteTime": {
     "start_time": "2023-08-17T12:55:02.056202Z",
     "end_time": "2023-08-17T12:55:02.067629Z"
    },
    "collapsed": false,
    "id": "pF1AWOXTTFDa",
    "jupyter": {
     "outputs_hidden": false
    },
    "papermill": {
     "duration": 0.037099,
     "end_time": "2023-08-14T16:24:21.300878",
     "exception": false,
     "start_time": "2023-08-14T16:24:21.263779",
     "status": "completed"
    },
    "tags": [],
    "execution": {
     "iopub.status.busy": "2023-08-17T07:16:10.487905Z",
     "iopub.execute_input": "2023-08-17T07:16:10.489329Z",
     "iopub.status.idle": "2023-08-17T07:16:10.496277Z",
     "shell.execute_reply.started": "2023-08-17T07:16:10.489293Z",
     "shell.execute_reply": "2023-08-17T07:16:10.494608Z"
    },
    "trusted": true
   },
   "execution_count": 11,
   "outputs": []
  },
  {
   "cell_type": "code",
   "source": [
    "import wandb # MLOps platform to simplify and speed up the process of building ML models"
   ],
   "metadata": {
    "ExecuteTime": {
     "start_time": "2023-08-17T12:55:02.067629Z",
     "end_time": "2023-08-17T12:55:03.517606Z"
    },
    "collapsed": false,
    "id": "WHnMHaX_TFDb",
    "jupyter": {
     "outputs_hidden": false
    },
    "papermill": {
     "duration": 0.034479,
     "end_time": "2023-08-14T16:24:21.363117",
     "exception": false,
     "start_time": "2023-08-14T16:24:21.328638",
     "status": "completed"
    },
    "tags": [],
    "execution": {
     "iopub.status.busy": "2023-08-17T07:16:10.498039Z",
     "iopub.execute_input": "2023-08-17T07:16:10.498837Z",
     "iopub.status.idle": "2023-08-17T07:16:10.509859Z",
     "shell.execute_reply.started": "2023-08-17T07:16:10.498799Z",
     "shell.execute_reply": "2023-08-17T07:16:10.508871Z"
    },
    "trusted": true
   },
   "execution_count": 12,
   "outputs": []
  },
  {
   "cell_type": "code",
   "source": [
    "wandb.login() # We log in via pop-up,\n",
    "# wandb.login(key=api_key)  # but you can also log in manually with function args"
   ],
   "metadata": {
    "ExecuteTime": {
     "start_time": "2023-08-17T12:55:03.517606Z",
     "end_time": "2023-08-17T12:55:09.027694Z"
    },
    "collapsed": false,
    "id": "1zarBgpbTFDb",
    "jupyter": {
     "outputs_hidden": false
    },
    "papermill": {
     "duration": 0.034968,
     "end_time": "2023-08-14T16:24:21.425112",
     "exception": false,
     "start_time": "2023-08-14T16:24:21.390144",
     "status": "completed"
    },
    "tags": [],
    "execution": {
     "iopub.status.busy": "2023-08-17T07:16:10.515134Z",
     "iopub.execute_input": "2023-08-17T07:16:10.515417Z",
     "iopub.status.idle": "2023-08-17T07:16:21.325214Z",
     "shell.execute_reply.started": "2023-08-17T07:16:10.515392Z",
     "shell.execute_reply": "2023-08-17T07:16:21.324243Z"
    },
    "trusted": true
   },
   "execution_count": 13,
   "outputs": [
    {
     "name": "stderr",
     "output_type": "stream",
     "text": [
      "\u001B[34m\u001B[1mwandb\u001B[0m: Currently logged in as: \u001B[33mremainedmind\u001B[0m. Use \u001B[1m`wandb login --relogin`\u001B[0m to force relogin\n"
     ]
    },
    {
     "data": {
      "text/plain": "True"
     },
     "execution_count": 13,
     "metadata": {},
     "output_type": "execute_result"
    }
   ]
  },
  {
   "cell_type": "markdown",
   "source": [
    "## Configuration"
   ],
   "metadata": {
    "id": "YuquAHEkTFDb",
    "papermill": {
     "duration": 0.026802,
     "end_time": "2023-08-14T16:24:21.479509",
     "exception": false,
     "start_time": "2023-08-14T16:24:21.452707",
     "status": "completed"
    },
    "tags": []
   }
  },
  {
   "cell_type": "code",
   "source": [
    "CONFIG = {\n",
    "    \"seed\": 2306,\n",
    "    # \"epochs\": 20,\n",
    "    \"image_dimension\": 256,  # Depends on pretrained model used\n",
    "    \"model_name\": \"SiamesePerceptron\",  # Pretrained model we will use\n",
    "    \"embedding_size\": 512,  # Embedding output size\n",
    "    \"train_batch_size\": 200,\n",
    "    \"val_batch_size\": 400,\n",
    "    \"learning_rate\": 1e-3,\n",
    "    \"min_lr\": 1e-8,\n",
    "    \"min_loss_delta\": 1e-7, # To stop training on plateau\n",
    "    \"weight_decay\": 1e-7,\n",
    "\n",
    "}"
   ],
   "metadata": {
    "ExecuteTime": {
     "start_time": "2023-08-17T12:55:09.043577Z",
     "end_time": "2023-08-17T12:55:09.116291Z"
    },
    "id": "JC-SbC9zTFDb",
    "papermill": {
     "duration": 0.036674,
     "end_time": "2023-08-14T16:24:21.543459",
     "exception": false,
     "start_time": "2023-08-14T16:24:21.506785",
     "status": "completed"
    },
    "tags": [],
    "execution": {
     "iopub.status.busy": "2023-08-17T07:16:21.326556Z",
     "iopub.execute_input": "2023-08-17T07:16:21.327582Z",
     "iopub.status.idle": "2023-08-17T07:16:21.333528Z",
     "shell.execute_reply.started": "2023-08-17T07:16:21.327545Z",
     "shell.execute_reply": "2023-08-17T07:16:21.332534Z"
    },
    "trusted": true
   },
   "execution_count": 14,
   "outputs": []
  },
  {
   "cell_type": "code",
   "source": [
    "wandb_run = wandb.init(project=\"binary-classification-project\", config=CONFIG)"
   ],
   "metadata": {
    "collapsed": false,
    "ExecuteTime": {
     "start_time": "2023-08-17T12:55:09.053738Z",
     "end_time": "2023-08-17T12:55:11.058711Z"
    },
    "jupyter": {
     "outputs_hidden": false
    },
    "execution": {
     "iopub.status.busy": "2023-08-17T07:16:21.334769Z",
     "iopub.execute_input": "2023-08-17T07:16:21.335578Z",
     "iopub.status.idle": "2023-08-17T07:16:53.875522Z",
     "shell.execute_reply.started": "2023-08-17T07:16:21.335544Z",
     "shell.execute_reply": "2023-08-17T07:16:53.874496Z"
    },
    "trusted": true
   },
   "execution_count": 15,
   "outputs": [
    {
     "data": {
      "text/plain": "<IPython.core.display.HTML object>",
      "text/html": "Tracking run with wandb version 0.15.8"
     },
     "metadata": {},
     "output_type": "display_data"
    },
    {
     "data": {
      "text/plain": "<IPython.core.display.HTML object>",
      "text/html": "Run data is saved locally in <code>D:\\possessor\\Documents\\ESSE\\IT\\ML\\CV\\Statanly_Internship\\Projects\\car-brand-detection\\models\\wandb\\run-20230817_125509-hzq5qutr</code>"
     },
     "metadata": {},
     "output_type": "display_data"
    },
    {
     "data": {
      "text/plain": "<IPython.core.display.HTML object>",
      "text/html": "Syncing run <strong><a href='https://wandb.ai/remainedmind/binary-classification-project/runs/hzq5qutr' target=\"_blank\">solar-water-11</a></strong> to <a href='https://wandb.ai/remainedmind/binary-classification-project' target=\"_blank\">Weights & Biases</a> (<a href='https://wandb.me/run' target=\"_blank\">docs</a>)<br/>"
     },
     "metadata": {},
     "output_type": "display_data"
    },
    {
     "data": {
      "text/plain": "<IPython.core.display.HTML object>",
      "text/html": " View project at <a href='https://wandb.ai/remainedmind/binary-classification-project' target=\"_blank\">https://wandb.ai/remainedmind/binary-classification-project</a>"
     },
     "metadata": {},
     "output_type": "display_data"
    },
    {
     "data": {
      "text/plain": "<IPython.core.display.HTML object>",
      "text/html": " View run at <a href='https://wandb.ai/remainedmind/binary-classification-project/runs/hzq5qutr' target=\"_blank\">https://wandb.ai/remainedmind/binary-classification-project/runs/hzq5qutr</a>"
     },
     "metadata": {},
     "output_type": "display_data"
    }
   ]
  },
  {
   "cell_type": "code",
   "source": [
    "config = wandb.config\n",
    "del CONFIG"
   ],
   "metadata": {
    "collapsed": false,
    "ExecuteTime": {
     "start_time": "2023-08-17T12:55:11.019777Z",
     "end_time": "2023-08-17T12:55:11.096775Z"
    },
    "jupyter": {
     "outputs_hidden": false
    },
    "execution": {
     "iopub.status.busy": "2023-08-17T07:16:53.877070Z",
     "iopub.execute_input": "2023-08-17T07:16:53.877403Z",
     "iopub.status.idle": "2023-08-17T07:16:53.883235Z",
     "shell.execute_reply.started": "2023-08-17T07:16:53.877371Z",
     "shell.execute_reply": "2023-08-17T07:16:53.882350Z"
    },
    "trusted": true
   },
   "execution_count": 16,
   "outputs": []
  },
  {
   "cell_type": "markdown",
   "source": [
    "Set Seed for Reproducibility"
   ],
   "metadata": {
    "id": "kotMeU-OTFDc",
    "papermill": {
     "duration": 0.027693,
     "end_time": "2023-08-14T16:24:21.791364",
     "exception": false,
     "start_time": "2023-08-14T16:24:21.763671",
     "status": "completed"
    },
    "tags": []
   }
  },
  {
   "cell_type": "code",
   "source": [
    "def set_seed(seed=42):\n",
    "    \"\"\"\n",
    "    Sets the seed of the entire notebook so results are the same every time we run.\n",
    "    This is for REPRODUCIBILITY.\n",
    "    \"\"\"\n",
    "    np.random.seed(seed)\n",
    "    torch.manual_seed(seed)\n",
    "\n",
    "    # When running on the CuDNN backend, two further options must be set\n",
    "    # torch.backends.cudnn.deterministic = True\n",
    "    # torch.backends.cudnn.benchmark = False  # When False, this option makes CUDA reproducible, BUT the performance might suffer\n",
    "\n",
    "    # Set a fixed value for the hash seed\n",
    "    os.environ['PYTHONHASHSEED'] = str(seed)\n",
    "\n",
    "set_seed(seed=config.seed)"
   ],
   "metadata": {
    "ExecuteTime": {
     "start_time": "2023-08-17T12:55:11.027993Z",
     "end_time": "2023-08-17T12:55:11.096775Z"
    },
    "id": "RDIHP75uTFDc",
    "papermill": {
     "duration": 0.045937,
     "end_time": "2023-08-14T16:24:21.869710",
     "exception": false,
     "start_time": "2023-08-14T16:24:21.823773",
     "status": "completed"
    },
    "tags": [],
    "execution": {
     "iopub.status.busy": "2023-08-17T07:16:53.885297Z",
     "iopub.execute_input": "2023-08-17T07:16:53.886593Z",
     "iopub.status.idle": "2023-08-17T07:16:53.898928Z",
     "shell.execute_reply.started": "2023-08-17T07:16:53.886559Z",
     "shell.execute_reply": "2023-08-17T07:16:53.897911Z"
    },
    "trusted": true
   },
   "execution_count": 17,
   "outputs": []
  },
  {
   "cell_type": "markdown",
   "source": [
    "# Data"
   ],
   "metadata": {
    "id": "UoHh0H1FVHnT",
    "papermill": {
     "duration": 0.027822,
     "end_time": "2023-08-14T16:24:21.925361",
     "exception": false,
     "start_time": "2023-08-14T16:24:21.897539",
     "status": "completed"
    },
    "tags": []
   }
  },
  {
   "cell_type": "markdown",
   "source": [
    "For our MLP we will use image embeddings - output from CNN models. We already got this data before, so we just load it."
   ],
   "metadata": {}
  },
  {
   "cell_type": "markdown",
   "source": [
    "## Set data location"
   ],
   "metadata": {
    "id": "Qst3Y-s4VKTk",
    "papermill": {
     "duration": 0.042797,
     "end_time": "2023-08-14T16:24:22.001996",
     "exception": false,
     "start_time": "2023-08-14T16:24:21.959199",
     "status": "completed"
    },
    "tags": []
   }
  },
  {
   "cell_type": "code",
   "source": [
    "# config.repo = 'car-brands/'  # dataset name on Kaggle\n",
    "config.repo = 'data/'  # dataset name on local device\n",
    "# config.repo = 'car_brand_detection/'  # Google Collab\n",
    "\n",
    "# config.root = '/kaggle/input/' + config.repo\n",
    "# config.root = 'drive/MyDrive/' + config.repo\n",
    "config.root = '../'  + config.repo\n",
    "\n",
    "config.data_path = config.root + 'embeddings_and_labels.csv'\n",
    "\n",
    "config.mlp_model_path = 'saved_instances/SiamesePerceptron.pth'\n",
    "config.save_model_to = f'{config.model_name}.pth'"
   ],
   "metadata": {
    "ExecuteTime": {
     "start_time": "2023-08-17T12:55:37.135880Z",
     "end_time": "2023-08-17T12:55:37.191315Z"
    },
    "id": "QKDBLmMrTFDd",
    "papermill": {
     "duration": 0.036856,
     "end_time": "2023-08-14T16:24:22.084008",
     "exception": false,
     "start_time": "2023-08-14T16:24:22.047152",
     "status": "completed"
    },
    "tags": [],
    "execution": {
     "iopub.status.busy": "2023-08-17T07:16:53.900397Z",
     "iopub.execute_input": "2023-08-17T07:16:53.900974Z",
     "iopub.status.idle": "2023-08-17T07:16:53.912188Z",
     "shell.execute_reply.started": "2023-08-17T07:16:53.900944Z",
     "shell.execute_reply": "2023-08-17T07:16:53.911297Z"
    },
    "trusted": true
   },
   "execution_count": 20,
   "outputs": []
  },
  {
   "cell_type": "code",
   "source": [
    "df = pd.read_csv(config.data_path)\n",
    "df.head()"
   ],
   "metadata": {
    "collapsed": false,
    "ExecuteTime": {
     "start_time": "2023-08-17T12:55:37.638114Z",
     "end_time": "2023-08-17T12:55:41.126535Z"
    },
    "jupyter": {
     "outputs_hidden": false
    },
    "execution": {
     "iopub.status.busy": "2023-08-17T07:16:53.913988Z",
     "iopub.execute_input": "2023-08-17T07:16:53.914761Z",
     "iopub.status.idle": "2023-08-17T07:16:58.842205Z",
     "shell.execute_reply.started": "2023-08-17T07:16:53.914726Z",
     "shell.execute_reply": "2023-08-17T07:16:58.841235Z"
    },
    "trusted": true
   },
   "execution_count": 21,
   "outputs": [
    {
     "data": {
      "text/plain": "          0         1         2         3         4         5         6  \\\n0 -0.001561  0.159091 -0.326709 -0.226603 -0.097365  0.204614 -0.142634   \n1  0.229466 -0.186505 -0.329016 -0.650666  0.115301  0.149208  0.065496   \n2 -0.203165  0.330612 -0.413488 -0.128357  0.013811  0.244605 -0.137738   \n3 -0.052456  0.385235 -0.423291 -0.007358  0.031012  0.242327  0.118072   \n4  0.092909  0.075529 -0.040490  0.137453  0.531280  0.219033 -0.100117   \n\n          7         8         9  ...       503       504       505       506  \\\n0  0.208764  0.469837  0.069866  ...  0.410457 -0.024682  0.178265 -0.357340   \n1  0.191487  0.428920 -0.016147  ...  0.195697  0.171068  0.037157  0.049534   \n2  0.365148  0.385303  0.318809  ...  0.413026  0.040102  0.054195 -0.251548   \n3  0.235620  0.464901  0.320997  ...  0.412529  0.015200  0.237078 -0.429586   \n4  0.161784 -0.077920 -0.265161  ... -0.024520  0.143381 -0.099898  0.137324   \n\n        507       508       509       510       511      label  \n0 -0.073279  0.190458 -0.060786  0.364546  0.824516  Acura_MDX  \n1 -0.224402  0.225593  0.180314  0.073213  0.500426  Acura_MDX  \n2 -0.020557  0.241178  0.062900  0.354683  0.591870  Acura_MDX  \n3 -0.110773  0.166453  0.079581  0.243743  0.662615  Acura_MDX  \n4  0.137523  0.217806  0.313156  0.400654  0.217053  Acura_MDX  \n\n[5 rows x 513 columns]",
      "text/html": "<div>\n<style scoped>\n    .dataframe tbody tr th:only-of-type {\n        vertical-align: middle;\n    }\n\n    .dataframe tbody tr th {\n        vertical-align: top;\n    }\n\n    .dataframe thead th {\n        text-align: right;\n    }\n</style>\n<table border=\"1\" class=\"dataframe\">\n  <thead>\n    <tr style=\"text-align: right;\">\n      <th></th>\n      <th>0</th>\n      <th>1</th>\n      <th>2</th>\n      <th>3</th>\n      <th>4</th>\n      <th>5</th>\n      <th>6</th>\n      <th>7</th>\n      <th>8</th>\n      <th>9</th>\n      <th>...</th>\n      <th>503</th>\n      <th>504</th>\n      <th>505</th>\n      <th>506</th>\n      <th>507</th>\n      <th>508</th>\n      <th>509</th>\n      <th>510</th>\n      <th>511</th>\n      <th>label</th>\n    </tr>\n  </thead>\n  <tbody>\n    <tr>\n      <th>0</th>\n      <td>-0.001561</td>\n      <td>0.159091</td>\n      <td>-0.326709</td>\n      <td>-0.226603</td>\n      <td>-0.097365</td>\n      <td>0.204614</td>\n      <td>-0.142634</td>\n      <td>0.208764</td>\n      <td>0.469837</td>\n      <td>0.069866</td>\n      <td>...</td>\n      <td>0.410457</td>\n      <td>-0.024682</td>\n      <td>0.178265</td>\n      <td>-0.357340</td>\n      <td>-0.073279</td>\n      <td>0.190458</td>\n      <td>-0.060786</td>\n      <td>0.364546</td>\n      <td>0.824516</td>\n      <td>Acura_MDX</td>\n    </tr>\n    <tr>\n      <th>1</th>\n      <td>0.229466</td>\n      <td>-0.186505</td>\n      <td>-0.329016</td>\n      <td>-0.650666</td>\n      <td>0.115301</td>\n      <td>0.149208</td>\n      <td>0.065496</td>\n      <td>0.191487</td>\n      <td>0.428920</td>\n      <td>-0.016147</td>\n      <td>...</td>\n      <td>0.195697</td>\n      <td>0.171068</td>\n      <td>0.037157</td>\n      <td>0.049534</td>\n      <td>-0.224402</td>\n      <td>0.225593</td>\n      <td>0.180314</td>\n      <td>0.073213</td>\n      <td>0.500426</td>\n      <td>Acura_MDX</td>\n    </tr>\n    <tr>\n      <th>2</th>\n      <td>-0.203165</td>\n      <td>0.330612</td>\n      <td>-0.413488</td>\n      <td>-0.128357</td>\n      <td>0.013811</td>\n      <td>0.244605</td>\n      <td>-0.137738</td>\n      <td>0.365148</td>\n      <td>0.385303</td>\n      <td>0.318809</td>\n      <td>...</td>\n      <td>0.413026</td>\n      <td>0.040102</td>\n      <td>0.054195</td>\n      <td>-0.251548</td>\n      <td>-0.020557</td>\n      <td>0.241178</td>\n      <td>0.062900</td>\n      <td>0.354683</td>\n      <td>0.591870</td>\n      <td>Acura_MDX</td>\n    </tr>\n    <tr>\n      <th>3</th>\n      <td>-0.052456</td>\n      <td>0.385235</td>\n      <td>-0.423291</td>\n      <td>-0.007358</td>\n      <td>0.031012</td>\n      <td>0.242327</td>\n      <td>0.118072</td>\n      <td>0.235620</td>\n      <td>0.464901</td>\n      <td>0.320997</td>\n      <td>...</td>\n      <td>0.412529</td>\n      <td>0.015200</td>\n      <td>0.237078</td>\n      <td>-0.429586</td>\n      <td>-0.110773</td>\n      <td>0.166453</td>\n      <td>0.079581</td>\n      <td>0.243743</td>\n      <td>0.662615</td>\n      <td>Acura_MDX</td>\n    </tr>\n    <tr>\n      <th>4</th>\n      <td>0.092909</td>\n      <td>0.075529</td>\n      <td>-0.040490</td>\n      <td>0.137453</td>\n      <td>0.531280</td>\n      <td>0.219033</td>\n      <td>-0.100117</td>\n      <td>0.161784</td>\n      <td>-0.077920</td>\n      <td>-0.265161</td>\n      <td>...</td>\n      <td>-0.024520</td>\n      <td>0.143381</td>\n      <td>-0.099898</td>\n      <td>0.137324</td>\n      <td>0.137523</td>\n      <td>0.217806</td>\n      <td>0.313156</td>\n      <td>0.400654</td>\n      <td>0.217053</td>\n      <td>Acura_MDX</td>\n    </tr>\n  </tbody>\n</table>\n<p>5 rows × 513 columns</p>\n</div>"
     },
     "execution_count": 21,
     "metadata": {},
     "output_type": "execute_result"
    }
   ]
  },
  {
   "cell_type": "code",
   "source": [
    "df.columns[-20:]"
   ],
   "metadata": {
    "collapsed": false,
    "ExecuteTime": {
     "start_time": "2023-08-17T12:55:42.120042Z",
     "end_time": "2023-08-17T12:55:42.183942Z"
    },
    "jupyter": {
     "outputs_hidden": false
    },
    "execution": {
     "iopub.status.busy": "2023-08-17T07:16:58.846617Z",
     "iopub.execute_input": "2023-08-17T07:16:58.848943Z",
     "iopub.status.idle": "2023-08-17T07:16:58.858952Z",
     "shell.execute_reply.started": "2023-08-17T07:16:58.848905Z",
     "shell.execute_reply": "2023-08-17T07:16:58.857820Z"
    },
    "trusted": true
   },
   "execution_count": 22,
   "outputs": [
    {
     "data": {
      "text/plain": "Index(['493', '494', '495', '496', '497', '498', '499', '500', '501', '502',\n       '503', '504', '505', '506', '507', '508', '509', '510', '511', 'label'],\n      dtype='object')"
     },
     "execution_count": 22,
     "metadata": {},
     "output_type": "execute_result"
    }
   ]
  },
  {
   "cell_type": "markdown",
   "source": [
    "**label** is our last column. Rest are embeddings"
   ],
   "metadata": {}
  },
  {
   "cell_type": "code",
   "source": [
    "embeddings_bag = df[(df.columns[:-1])]\n",
    "embeddings_bag.head(2)"
   ],
   "metadata": {
    "collapsed": false,
    "ExecuteTime": {
     "start_time": "2023-08-17T12:55:43.711501Z",
     "end_time": "2023-08-17T12:55:43.839124Z"
    },
    "jupyter": {
     "outputs_hidden": false
    },
    "execution": {
     "iopub.status.busy": "2023-08-17T07:16:58.860529Z",
     "iopub.execute_input": "2023-08-17T07:16:58.863661Z",
     "iopub.status.idle": "2023-08-17T07:16:58.932109Z",
     "shell.execute_reply.started": "2023-08-17T07:16:58.863622Z",
     "shell.execute_reply": "2023-08-17T07:16:58.931046Z"
    },
    "trusted": true
   },
   "execution_count": 23,
   "outputs": [
    {
     "data": {
      "text/plain": "          0         1         2         3         4         5         6  \\\n0 -0.001561  0.159091 -0.326709 -0.226603 -0.097365  0.204614 -0.142634   \n1  0.229466 -0.186505 -0.329016 -0.650666  0.115301  0.149208  0.065496   \n\n          7         8         9  ...       502       503       504       505  \\\n0  0.208764  0.469837  0.069866  ...  0.111356  0.410457 -0.024682  0.178265   \n1  0.191487  0.428920 -0.016147  ...  0.135340  0.195697  0.171068  0.037157   \n\n        506       507       508       509       510       511  \n0 -0.357340 -0.073279  0.190458 -0.060786  0.364546  0.824516  \n1  0.049534 -0.224402  0.225593  0.180314  0.073213  0.500426  \n\n[2 rows x 512 columns]",
      "text/html": "<div>\n<style scoped>\n    .dataframe tbody tr th:only-of-type {\n        vertical-align: middle;\n    }\n\n    .dataframe tbody tr th {\n        vertical-align: top;\n    }\n\n    .dataframe thead th {\n        text-align: right;\n    }\n</style>\n<table border=\"1\" class=\"dataframe\">\n  <thead>\n    <tr style=\"text-align: right;\">\n      <th></th>\n      <th>0</th>\n      <th>1</th>\n      <th>2</th>\n      <th>3</th>\n      <th>4</th>\n      <th>5</th>\n      <th>6</th>\n      <th>7</th>\n      <th>8</th>\n      <th>9</th>\n      <th>...</th>\n      <th>502</th>\n      <th>503</th>\n      <th>504</th>\n      <th>505</th>\n      <th>506</th>\n      <th>507</th>\n      <th>508</th>\n      <th>509</th>\n      <th>510</th>\n      <th>511</th>\n    </tr>\n  </thead>\n  <tbody>\n    <tr>\n      <th>0</th>\n      <td>-0.001561</td>\n      <td>0.159091</td>\n      <td>-0.326709</td>\n      <td>-0.226603</td>\n      <td>-0.097365</td>\n      <td>0.204614</td>\n      <td>-0.142634</td>\n      <td>0.208764</td>\n      <td>0.469837</td>\n      <td>0.069866</td>\n      <td>...</td>\n      <td>0.111356</td>\n      <td>0.410457</td>\n      <td>-0.024682</td>\n      <td>0.178265</td>\n      <td>-0.357340</td>\n      <td>-0.073279</td>\n      <td>0.190458</td>\n      <td>-0.060786</td>\n      <td>0.364546</td>\n      <td>0.824516</td>\n    </tr>\n    <tr>\n      <th>1</th>\n      <td>0.229466</td>\n      <td>-0.186505</td>\n      <td>-0.329016</td>\n      <td>-0.650666</td>\n      <td>0.115301</td>\n      <td>0.149208</td>\n      <td>0.065496</td>\n      <td>0.191487</td>\n      <td>0.428920</td>\n      <td>-0.016147</td>\n      <td>...</td>\n      <td>0.135340</td>\n      <td>0.195697</td>\n      <td>0.171068</td>\n      <td>0.037157</td>\n      <td>0.049534</td>\n      <td>-0.224402</td>\n      <td>0.225593</td>\n      <td>0.180314</td>\n      <td>0.073213</td>\n      <td>0.500426</td>\n    </tr>\n  </tbody>\n</table>\n<p>2 rows × 512 columns</p>\n</div>"
     },
     "execution_count": 23,
     "metadata": {},
     "output_type": "execute_result"
    }
   ]
  },
  {
   "cell_type": "code",
   "source": [
    "labels = df[df.columns[-1]]\n",
    "labels.head(2)"
   ],
   "metadata": {
    "collapsed": false,
    "ExecuteTime": {
     "start_time": "2023-08-17T12:55:44.031626Z",
     "end_time": "2023-08-17T12:55:44.161966Z"
    },
    "jupyter": {
     "outputs_hidden": false
    },
    "execution": {
     "iopub.status.busy": "2023-08-17T07:16:58.933583Z",
     "iopub.execute_input": "2023-08-17T07:16:58.937799Z",
     "iopub.status.idle": "2023-08-17T07:16:58.950565Z",
     "shell.execute_reply.started": "2023-08-17T07:16:58.937760Z",
     "shell.execute_reply": "2023-08-17T07:16:58.949510Z"
    },
    "trusted": true
   },
   "execution_count": 24,
   "outputs": [
    {
     "data": {
      "text/plain": "0    Acura_MDX\n1    Acura_MDX\nName: label, dtype: object"
     },
     "execution_count": 24,
     "metadata": {},
     "output_type": "execute_result"
    }
   ]
  },
  {
   "cell_type": "code",
   "source": [
    "labels.unique()[:10]"
   ],
   "metadata": {
    "collapsed": false,
    "ExecuteTime": {
     "start_time": "2023-08-17T12:55:44.568553Z",
     "end_time": "2023-08-17T12:55:44.622704Z"
    },
    "jupyter": {
     "outputs_hidden": false
    },
    "execution": {
     "iopub.status.busy": "2023-08-17T07:16:58.955437Z",
     "iopub.execute_input": "2023-08-17T07:16:58.957825Z",
     "iopub.status.idle": "2023-08-17T07:16:58.974407Z",
     "shell.execute_reply.started": "2023-08-17T07:16:58.957788Z",
     "shell.execute_reply": "2023-08-17T07:16:58.973248Z"
    },
    "trusted": true
   },
   "execution_count": 25,
   "outputs": [
    {
     "data": {
      "text/plain": "array(['Acura_MDX', 'Alfa Romeo_Giulietta', 'Audi_100', 'Audi_80',\n       'Audi_A1', 'Audi_A3', 'Audi_A4', 'Audi_A5', 'Audi_A6', 'Audi_A7'],\n      dtype=object)"
     },
     "execution_count": 25,
     "metadata": {},
     "output_type": "execute_result"
    }
   ]
  },
  {
   "cell_type": "code",
   "source": [
    "config.num_of_classes = labels.nunique()"
   ],
   "metadata": {
    "execution": {
     "iopub.status.busy": "2023-08-17T07:16:58.975570Z",
     "iopub.execute_input": "2023-08-17T07:16:58.975874Z",
     "iopub.status.idle": "2023-08-17T07:16:58.985886Z",
     "shell.execute_reply.started": "2023-08-17T07:16:58.975842Z",
     "shell.execute_reply": "2023-08-17T07:16:58.984983Z"
    },
    "trusted": true,
    "ExecuteTime": {
     "start_time": "2023-08-17T12:55:44.948453Z",
     "end_time": "2023-08-17T12:55:45.502457Z"
    }
   },
   "execution_count": 26,
   "outputs": []
  },
  {
   "cell_type": "markdown",
   "source": [
    "Now we apply One Hot Encoding"
   ],
   "metadata": {}
  },
  {
   "cell_type": "code",
   "source": [
    "def apply_label_encoding(labels: t.Union[pd.Series, np.array],\n",
    "                         encoder_name: os.path,\n",
    "                         action='encode',\n",
    "     ):\n",
    "    \"\"\"\n",
    "    One Hot encoding. We apply encoding by replacing the label column in dataframe.\n",
    "    As for decoding data back, we work with vector-array (as it's most likely to\n",
    "    be a prediction result)\n",
    "    \"\"\"\n",
    "    encoder = LabelEncoder()\n",
    "    if action == 'encode':\n",
    "        # We transform dataframe here. Nothing returns\n",
    "        # data = data.with_columns(pl.DataFrame(encoder.fit_transform(data[column]), schema=['label']))\n",
    "        labels = encoder.fit_transform(labels)\n",
    "\n",
    "        with open(f\"{encoder_name}_LEncoder.pkl\", \"wb\") as fp:\n",
    "                joblib.dump(encoder, fp)\n",
    "        return labels\n",
    "    elif action == 'decode':\n",
    "        # We pass vector here. Result is a vector\n",
    "        with open(f\"{encoder_name}_LEncoder.pkl\", \"rb\") as fp:\n",
    "            encoder: LabelEncoder = joblib.load(fp)\n",
    "        return encoder.inverse_transform(labels)"
   ],
   "metadata": {
    "collapsed": false,
    "ExecuteTime": {
     "start_time": "2023-08-17T12:55:45.854147Z",
     "end_time": "2023-08-17T12:55:45.986363Z"
    },
    "jupyter": {
     "outputs_hidden": false
    },
    "execution": {
     "iopub.status.busy": "2023-08-17T07:16:58.987545Z",
     "iopub.execute_input": "2023-08-17T07:16:58.988159Z",
     "iopub.status.idle": "2023-08-17T07:16:58.997030Z",
     "shell.execute_reply.started": "2023-08-17T07:16:58.988124Z",
     "shell.execute_reply": "2023-08-17T07:16:58.996053Z"
    },
    "trusted": true
   },
   "execution_count": 27,
   "outputs": []
  },
  {
   "cell_type": "code",
   "source": [
    "labels = pd.DataFrame(apply_label_encoding(labels, action='encode', encoder_name=\"embeddings_labels\"), columns=['label'])\n",
    "labels.head()"
   ],
   "metadata": {
    "collapsed": false,
    "ExecuteTime": {
     "start_time": "2023-08-17T12:55:46.403054Z",
     "end_time": "2023-08-17T12:55:46.495339Z"
    },
    "jupyter": {
     "outputs_hidden": false
    },
    "execution": {
     "iopub.status.busy": "2023-08-17T07:16:58.998417Z",
     "iopub.execute_input": "2023-08-17T07:16:58.999152Z",
     "iopub.status.idle": "2023-08-17T07:16:59.031959Z",
     "shell.execute_reply.started": "2023-08-17T07:16:58.999119Z",
     "shell.execute_reply": "2023-08-17T07:16:59.031103Z"
    },
    "trusted": true
   },
   "execution_count": 28,
   "outputs": [
    {
     "data": {
      "text/plain": "   label\n0      0\n1      0\n2      0\n3      0\n4      0",
      "text/html": "<div>\n<style scoped>\n    .dataframe tbody tr th:only-of-type {\n        vertical-align: middle;\n    }\n\n    .dataframe tbody tr th {\n        vertical-align: top;\n    }\n\n    .dataframe thead th {\n        text-align: right;\n    }\n</style>\n<table border=\"1\" class=\"dataframe\">\n  <thead>\n    <tr style=\"text-align: right;\">\n      <th></th>\n      <th>label</th>\n    </tr>\n  </thead>\n  <tbody>\n    <tr>\n      <th>0</th>\n      <td>0</td>\n    </tr>\n    <tr>\n      <th>1</th>\n      <td>0</td>\n    </tr>\n    <tr>\n      <th>2</th>\n      <td>0</td>\n    </tr>\n    <tr>\n      <th>3</th>\n      <td>0</td>\n    </tr>\n    <tr>\n      <th>4</th>\n      <td>0</td>\n    </tr>\n  </tbody>\n</table>\n</div>"
     },
     "execution_count": 28,
     "metadata": {},
     "output_type": "execute_result"
    }
   ]
  },
  {
   "cell_type": "code",
   "source": [
    "apply_label_encoding(labels, action='decode', encoder_name=\"embeddings_labels\")"
   ],
   "metadata": {
    "collapsed": false,
    "ExecuteTime": {
     "start_time": "2023-08-17T12:55:46.733804Z",
     "end_time": "2023-08-17T12:55:46.905955Z"
    },
    "jupyter": {
     "outputs_hidden": false
    },
    "execution": {
     "iopub.status.busy": "2023-08-17T07:16:59.033209Z",
     "iopub.execute_input": "2023-08-17T07:16:59.033719Z",
     "iopub.status.idle": "2023-08-17T07:16:59.048020Z",
     "shell.execute_reply.started": "2023-08-17T07:16:59.033688Z",
     "shell.execute_reply": "2023-08-17T07:16:59.047152Z"
    },
    "trusted": true
   },
   "execution_count": 29,
   "outputs": [
    {
     "data": {
      "text/plain": "array(['Acura_MDX', 'Acura_MDX', 'Acura_MDX', ..., 'ZIL_5301_Bychok',\n       'ZIL_5301_Bychok', 'ZIL_5301_Bychok'], dtype=object)"
     },
     "execution_count": 29,
     "metadata": {},
     "output_type": "execute_result"
    }
   ]
  },
  {
   "cell_type": "markdown",
   "source": [
    "## Pytorch Dataset to run model on"
   ],
   "metadata": {}
  },
  {
   "cell_type": "code",
   "source": [
    "class SiameseDataset(Dataset):\n",
    "    def __init__(self, embeddings_data, labels):\n",
    "        super().__init__()\n",
    "\n",
    "        self.labels = labels\n",
    "        self.embeddings_data = embeddings_data\n",
    "        self.__set_dataset_len()\n",
    "        self.similarity_flag = True\n",
    "\n",
    "\n",
    "    def __set_dataset_len(self):\n",
    "        a = self.labels.shape[0] # Number of rows\n",
    "        b = self.embeddings_data.shape[0] # Amount of images\n",
    "        assert a == b  # CSV content and real number of photos are equal\n",
    "        self.length = a\n",
    "\n",
    "\n",
    "    def __len__(self):\n",
    "        \"\"\"\n",
    "        We calculate the len in another function, so that we are able to set it manually.\n",
    "        \"\"\"\n",
    "        return self.length\n",
    "\n",
    "\n",
    "    def __get_random_embedding(self, indexes):\n",
    "        image_index = np.random.choice(indexes)\n",
    "        embegging, label = self.embeddings_data.iloc[image_index], self.labels.iloc[image_index]\n",
    "        return embegging, label\n",
    "\n",
    "\n",
    "    def __getitem__(self, index) -> tuple[torch.Tensor, int]:\n",
    "        \"\"\" Function to return item by indexing the dataset \"\"\"\n",
    "        if not isinstance(index, int) and isinstance(index, slice):\n",
    "            # It's not an index, but slice.\n",
    "            # We will return the part of data by making a copy of the dataset\n",
    "            index: slice\n",
    "            self = deepcopy(self)\n",
    "            self.length = index.stop  # Cut the length of dataset.\n",
    "            self.labels = self.labels[:self.length]\n",
    "            self.embeddings_data = self.embeddings_data[:self.length]\n",
    "            return self\n",
    "\n",
    "\n",
    "        anchor, anchor_label = self.embeddings_data.iloc[index], self.labels.iloc[index]\n",
    "        positive_or_negative = np.where(\n",
    "            ((self.labels == anchor_label) == self.similarity_flag)\n",
    "        )[0]\n",
    "\n",
    "        # Delete source index, so we don't take two same pictures\n",
    "        correct_indexes = np.delete(positive_or_negative, np.where(positive_or_negative == index))\n",
    "\n",
    "        if len(correct_indexes) < 1:\n",
    "            self.similarity_flag = not self.similarity_flag\n",
    "            return self[index]\n",
    "\n",
    "        p_or_n_embedding, second_label = self.__get_random_embedding(correct_indexes)\n",
    "\n",
    "        self.similarity_flag = not self.similarity_flag  # Switch the flag\n",
    "\n",
    "        return anchor.to_numpy(), p_or_n_embedding.to_numpy(), float(anchor_label==second_label)\n"
   ],
   "metadata": {
    "collapsed": false,
    "ExecuteTime": {
     "start_time": "2023-08-17T12:55:47.310703Z",
     "end_time": "2023-08-17T12:55:47.434881Z"
    },
    "jupyter": {
     "outputs_hidden": false
    },
    "execution": {
     "iopub.status.busy": "2023-08-17T07:16:59.049572Z",
     "iopub.execute_input": "2023-08-17T07:16:59.050137Z",
     "iopub.status.idle": "2023-08-17T07:16:59.066850Z",
     "shell.execute_reply.started": "2023-08-17T07:16:59.050104Z",
     "shell.execute_reply": "2023-08-17T07:16:59.065952Z"
    },
    "trusted": true
   },
   "execution_count": 30,
   "outputs": []
  },
  {
   "cell_type": "code",
   "source": [
    "from sklearn.model_selection import train_test_split"
   ],
   "metadata": {
    "collapsed": false,
    "ExecuteTime": {
     "start_time": "2023-08-17T12:55:47.701570Z",
     "end_time": "2023-08-17T12:55:47.766805Z"
    },
    "jupyter": {
     "outputs_hidden": false
    },
    "execution": {
     "iopub.status.busy": "2023-08-17T07:16:59.068374Z",
     "iopub.execute_input": "2023-08-17T07:16:59.069151Z",
     "iopub.status.idle": "2023-08-17T07:16:59.078543Z",
     "shell.execute_reply.started": "2023-08-17T07:16:59.069113Z",
     "shell.execute_reply": "2023-08-17T07:16:59.077486Z"
    },
    "trusted": true
   },
   "execution_count": 31,
   "outputs": []
  },
  {
   "cell_type": "code",
   "source": [
    "train_embeddings_bag, test_embeddings_bag, train_labels, test_labels = train_test_split(embeddings_bag, labels, random_state=config.seed, test_size=0.05)"
   ],
   "metadata": {
    "collapsed": false,
    "ExecuteTime": {
     "start_time": "2023-08-17T12:55:48.082396Z",
     "end_time": "2023-08-17T12:55:48.299725Z"
    },
    "jupyter": {
     "outputs_hidden": false
    },
    "execution": {
     "iopub.status.busy": "2023-08-17T07:16:59.079917Z",
     "iopub.execute_input": "2023-08-17T07:16:59.080696Z",
     "iopub.status.idle": "2023-08-17T07:16:59.179418Z",
     "shell.execute_reply.started": "2023-08-17T07:16:59.080663Z",
     "shell.execute_reply": "2023-08-17T07:16:59.178373Z"
    },
    "trusted": true
   },
   "execution_count": 32,
   "outputs": []
  },
  {
   "cell_type": "code",
   "source": [
    "train_labels.reset_index(drop=True, inplace=True)\n",
    "test_labels.reset_index(drop=True, inplace=True)\n",
    "test_embeddings_bag.reset_index(drop=True, inplace=True)\n",
    "train_embeddings_bag.reset_index(drop=True, inplace=True)\n"
   ],
   "metadata": {
    "collapsed": false,
    "ExecuteTime": {
     "start_time": "2023-08-17T12:55:49.203810Z",
     "end_time": "2023-08-17T12:55:49.267018Z"
    },
    "jupyter": {
     "outputs_hidden": false
    },
    "execution": {
     "iopub.status.busy": "2023-08-17T07:16:59.186002Z",
     "iopub.execute_input": "2023-08-17T07:16:59.186652Z",
     "iopub.status.idle": "2023-08-17T07:16:59.194051Z",
     "shell.execute_reply.started": "2023-08-17T07:16:59.186614Z",
     "shell.execute_reply": "2023-08-17T07:16:59.192949Z"
    },
    "trusted": true
   },
   "execution_count": 33,
   "outputs": []
  },
  {
   "cell_type": "code",
   "source": [
    "train_dataset = SiameseDataset(embeddings_data=train_embeddings_bag, labels=train_labels)\n",
    "test_dataset = SiameseDataset(embeddings_data=test_embeddings_bag, labels=test_labels)"
   ],
   "metadata": {
    "collapsed": false,
    "ExecuteTime": {
     "start_time": "2023-08-17T12:55:50.676655Z",
     "end_time": "2023-08-17T12:55:50.741468Z"
    },
    "jupyter": {
     "outputs_hidden": false
    },
    "execution": {
     "iopub.status.busy": "2023-08-17T07:16:59.195762Z",
     "iopub.execute_input": "2023-08-17T07:16:59.196525Z",
     "iopub.status.idle": "2023-08-17T07:16:59.203304Z",
     "shell.execute_reply.started": "2023-08-17T07:16:59.196486Z",
     "shell.execute_reply": "2023-08-17T07:16:59.202124Z"
    },
    "trusted": true
   },
   "execution_count": 34,
   "outputs": []
  },
  {
   "cell_type": "code",
   "source": [
    "# To have a look\n",
    "# test_dataset[323]"
   ],
   "metadata": {
    "collapsed": false,
    "ExecuteTime": {
     "start_time": "2023-08-17T12:55:52.436156Z",
     "end_time": "2023-08-17T12:55:52.467969Z"
    },
    "jupyter": {
     "outputs_hidden": false
    },
    "execution": {
     "iopub.status.busy": "2023-08-17T07:16:59.204773Z",
     "iopub.execute_input": "2023-08-17T07:16:59.205553Z",
     "iopub.status.idle": "2023-08-17T07:16:59.217703Z",
     "shell.execute_reply.started": "2023-08-17T07:16:59.205518Z",
     "shell.execute_reply": "2023-08-17T07:16:59.216718Z"
    },
    "trusted": true
   },
   "execution_count": 35,
   "outputs": []
  },
  {
   "cell_type": "markdown",
   "source": [
    "## Feedforward model to process embeddings pairs"
   ],
   "metadata": {}
  },
  {
   "cell_type": "code",
   "source": [
    "class SiameseNetwork(nn.Module):\n",
    "    def __init__(self, embedding_size):\n",
    "        super().__init__()\n",
    "\n",
    "        self.fc = nn.Sequential(\n",
    "            nn.Linear(in_features=embedding_size, out_features=1024),\n",
    "            nn.ReLU(),\n",
    "            nn.Linear(in_features=1024, out_features=1024),\n",
    "            nn.ReLU(),\n",
    "            nn.Dropout(p=0.3, inplace=False),\n",
    "            nn.Linear(in_features=1024, out_features=1),\n",
    "            nn.Sigmoid()\n",
    "        )\n",
    "\n",
    "    def forward(self, x1, x2):\n",
    "        square = (x1 - x2)**2\n",
    "        square = square.to(torch.float32)\n",
    "        # Pass the inputs through fully connected layers\n",
    "        output = self.fc(square)\n",
    "        return output"
   ],
   "metadata": {
    "collapsed": false,
    "jupyter": {
     "outputs_hidden": false
    },
    "execution": {
     "iopub.status.busy": "2023-08-17T07:16:59.218805Z",
     "iopub.execute_input": "2023-08-17T07:16:59.219865Z",
     "iopub.status.idle": "2023-08-17T07:16:59.230192Z",
     "shell.execute_reply.started": "2023-08-17T07:16:59.219830Z",
     "shell.execute_reply": "2023-08-17T07:16:59.229207Z"
    },
    "trusted": true,
    "ExecuteTime": {
     "start_time": "2023-08-17T12:55:55.638561Z",
     "end_time": "2023-08-17T12:55:55.762815Z"
    }
   },
   "execution_count": 36,
   "outputs": []
  },
  {
   "cell_type": "code",
   "source": [
    "perceptron_model = SiameseNetwork(config.embedding_size)\n",
    "perceptron_model"
   ],
   "metadata": {
    "collapsed": false,
    "jupyter": {
     "outputs_hidden": false
    },
    "execution": {
     "iopub.status.busy": "2023-08-17T07:16:59.231726Z",
     "iopub.execute_input": "2023-08-17T07:16:59.232498Z",
     "iopub.status.idle": "2023-08-17T07:16:59.277423Z",
     "shell.execute_reply.started": "2023-08-17T07:16:59.232463Z",
     "shell.execute_reply": "2023-08-17T07:16:59.275732Z"
    },
    "trusted": true,
    "ExecuteTime": {
     "start_time": "2023-08-17T12:55:56.337133Z",
     "end_time": "2023-08-17T12:55:56.444461Z"
    }
   },
   "execution_count": 37,
   "outputs": [
    {
     "data": {
      "text/plain": "SiameseNetwork(\n  (fc): Sequential(\n    (0): Linear(in_features=512, out_features=1024, bias=True)\n    (1): ReLU()\n    (2): Linear(in_features=1024, out_features=1024, bias=True)\n    (3): ReLU()\n    (4): Dropout(p=0.3, inplace=False)\n    (5): Linear(in_features=1024, out_features=1, bias=True)\n    (6): Sigmoid()\n  )\n)"
     },
     "execution_count": 37,
     "metadata": {},
     "output_type": "execute_result"
    }
   ]
  },
  {
   "cell_type": "markdown",
   "source": [
    "The code to load trained model is below:"
   ],
   "metadata": {
    "collapsed": false
   }
  },
  {
   "cell_type": "code",
   "source": [
    "try:\n",
    "    # Load weights from previously trained\n",
    "    perceptron_model = torch.load(config.mlp_model_path, map_location=torch.device('cpu'))\n",
    "except FileNotFoundError:\n",
    "    print(\"No trained model found.\")"
   ],
   "metadata": {
    "execution": {
     "iopub.status.busy": "2023-08-17T07:17:42.826029Z",
     "iopub.execute_input": "2023-08-17T07:17:42.826414Z",
     "iopub.status.idle": "2023-08-17T07:17:42.841574Z",
     "shell.execute_reply.started": "2023-08-17T07:17:42.826385Z",
     "shell.execute_reply": "2023-08-17T07:17:42.839630Z"
    },
    "trusted": true,
    "ExecuteTime": {
     "start_time": "2023-08-17T12:57:09.828193Z",
     "end_time": "2023-08-17T12:57:09.852923Z"
    }
   },
   "execution_count": 41,
   "outputs": []
  },
  {
   "cell_type": "markdown",
   "source": [
    "## Quality metrics"
   ],
   "metadata": {}
  },
  {
   "cell_type": "markdown",
   "source": [
    "For training tracking we will use accuracy and F1 score"
   ],
   "metadata": {}
  },
  {
   "cell_type": "code",
   "source": [
    "f1_score = F1Score(num_classes=config.num_of_classes,)"
   ],
   "metadata": {
    "collapsed": false,
    "jupyter": {
     "outputs_hidden": false
    },
    "execution": {
     "iopub.status.busy": "2023-08-17T07:17:45.176587Z",
     "iopub.execute_input": "2023-08-17T07:17:45.176945Z",
     "iopub.status.idle": "2023-08-17T07:17:45.184963Z",
     "shell.execute_reply.started": "2023-08-17T07:17:45.176914Z",
     "shell.execute_reply": "2023-08-17T07:17:45.183358Z"
    },
    "trusted": true,
    "ExecuteTime": {
     "start_time": "2023-08-17T12:57:14.486183Z",
     "end_time": "2023-08-17T12:57:14.579701Z"
    }
   },
   "execution_count": 42,
   "outputs": []
  },
  {
   "cell_type": "markdown",
   "source": [
    "For model evaluation we will also use other metrics"
   ],
   "metadata": {
    "collapsed": false
   }
  },
  {
   "cell_type": "code",
   "execution_count": 179,
   "outputs": [],
   "source": [
    "from sklearn.metrics import roc_curve, roc_auc_score, precision_recall_curve, auc, f1_score, precision_score"
   ],
   "metadata": {
    "collapsed": false,
    "ExecuteTime": {
     "start_time": "2023-08-17T18:19:59.241236Z",
     "end_time": "2023-08-17T18:19:59.278959Z"
    }
   }
  },
  {
   "cell_type": "markdown",
   "source": [
    "## Device"
   ],
   "metadata": {
    "collapsed": false
   }
  },
  {
   "cell_type": "code",
   "execution_count": 43,
   "outputs": [],
   "source": [
    "device = torch.device(\"cuda\" if torch.cuda.is_available() else \"cpu\")\n",
    "perceptron_model = perceptron_model.to(device)\n",
    "\n",
    "f1_score = f1_score.to(device)\n",
    "torch.cuda.empty_cache()"
   ],
   "metadata": {
    "collapsed": false
   }
  },
  {
   "cell_type": "code",
   "execution_count": 44,
   "outputs": [],
   "source": [
    "config.train_batch_size, config.val_batch_size = 960, 1600"
   ],
   "metadata": {
    "collapsed": false
   }
  },
  {
   "cell_type": "code",
   "execution_count": 45,
   "outputs": [],
   "source": [
    "train_dataloader = DataLoader(train_dataset,\n",
    "                              batch_size=config.train_batch_size,\n",
    "                              shuffle=True,\n",
    "                              num_workers=os.cpu_count() % 4,\n",
    ")"
   ],
   "metadata": {
    "collapsed": false
   }
  },
  {
   "cell_type": "code",
   "execution_count": 46,
   "outputs": [],
   "source": [
    "test_dataloader = DataLoader(test_dataset,\n",
    "                              batch_size=config.train_batch_size,\n",
    "                              shuffle=False,\n",
    "                              num_workers=os.cpu_count() % 4,\n",
    "                              )"
   ],
   "metadata": {
    "collapsed": false
   }
  },
  {
   "cell_type": "markdown",
   "source": [
    "# Initialize the train process"
   ],
   "metadata": {
    "collapsed": false
   }
  },
  {
   "cell_type": "markdown",
   "source": [
    "We will train the Linear Model to distinguish two images by their CNN embeddings. So, we can put two images into a model and learn wheather they are of same class or not."
   ],
   "metadata": {
    "collapsed": false
   }
  },
  {
   "cell_type": "markdown",
   "source": [
    "## Functions to plot the result"
   ],
   "metadata": {
    "collapsed": false
   }
  },
  {
   "cell_type": "code",
   "execution_count": 45,
   "outputs": [],
   "source": [
    "def plot_two_curves(\n",
    "        title: str,\n",
    "        train_curve: list[float],\n",
    "        val_curve: list[float],\n",
    "\n",
    "):\n",
    "    plt.figure(figsize=(16, 8))\n",
    "    plt.title(title)\n",
    "    plt.plot(train_curve, label=f'Train {title}')\n",
    "    plt.plot(val_curve, label=f'Valid {title}')\n",
    "    plt.legend()\n",
    "    plt.grid()\n",
    "    plt.show()"
   ],
   "metadata": {
    "collapsed": false
   }
  },
  {
   "cell_type": "code",
   "execution_count": 46,
   "outputs": [],
   "source": [
    "def plot_stats(\n",
    "        train_loss: list[float],\n",
    "        valid_loss: list[float],\n",
    "        train_accuracy: list[float]=None,\n",
    "        valid_accuracy: list[float]=None,\n",
    "        train_f1_score: list[float]=None,\n",
    "        valid_f1_score: list[float]=None,\n",
    "        title: str = None\n",
    "):\n",
    "    plot_two_curves(\n",
    "        'Loss',\n",
    "        train_loss,\n",
    "        valid_loss\n",
    "    )\n",
    "\n",
    "    if train_accuracy and valid_accuracy:\n",
    "        plot_two_curves(\n",
    "            'accuracy',\n",
    "            train_accuracy,\n",
    "            valid_accuracy\n",
    "        )\n",
    "\n",
    "    if train_f1_score and valid_f1_score:\n",
    "        plot_two_curves(\n",
    "            'F1 score',\n",
    "            train_f1_score,\n",
    "            valid_f1_score\n",
    "        )\n"
   ],
   "metadata": {
    "collapsed": false
   }
  },
  {
   "cell_type": "markdown",
   "source": [
    "## Training and evaluation functions"
   ],
   "metadata": {
    "collapsed": false
   }
  },
  {
   "cell_type": "code",
   "execution_count": 47,
   "outputs": [],
   "source": [
    "def train_one_epoch(model, dataloader, optimizer, criterion, device, epoch: str):\n",
    "    model.train()\n",
    "    threshold = torch.Tensor([0.5]).to(device)\n",
    "    train_loss = 0.0\n",
    "    train_correct = 0.0\n",
    "    train_f1 = 0.0\n",
    "    n_batches = 0\n",
    "    data_size = 0\n",
    "\n",
    "    with tqdm(dataloader, desc=f'Epoch: {epoch}', unit=\"batch\") as tepoch:\n",
    "        for image_one, image_second, is_same_class in tepoch:\n",
    "            n_batches += 1\n",
    "            image_one = image_one.to(device)\n",
    "            image_second = image_second.to(device)\n",
    "            is_same_class = is_same_class.to(device)\n",
    "\n",
    "            optimizer.zero_grad()\n",
    "\n",
    "            predicted_similarity = model(image_one, image_second)\n",
    "            predicted_similarity = torch.squeeze(predicted_similarity, dim=-1)\n",
    "\n",
    "            loss = criterion(predicted_similarity, is_same_class.to(torch.float32))\n",
    "            loss.backward()\n",
    "\n",
    "            optimizer.step()\n",
    "\n",
    "            loss = loss.item()  # item() extracts scalar\n",
    "            train_loss += loss\n",
    "\n",
    "\n",
    "            prediction = (predicted_similarity >= threshold).float()\n",
    "            # _, predicted = torch.max(probabilities, 1)\n",
    "            train_correct += (prediction == is_same_class).sum().item()\n",
    "            data_size += is_same_class.size(0)\n",
    "            train_accuracy = train_correct / data_size\n",
    "            f1 = f1_score(prediction, is_same_class).item()\n",
    "            train_f1 += f1\n",
    "\n",
    "\n",
    "            tepoch.set_postfix(loss=loss, acc=train_accuracy)\n",
    "\n",
    "    train_loss /= n_batches\n",
    "    train_f1 /= n_batches\n",
    "    gc.collect()\n",
    "    torch.cuda.empty_cache()\n",
    "\n",
    "    return train_loss, train_accuracy, train_f1"
   ],
   "metadata": {
    "collapsed": false
   }
  },
  {
   "cell_type": "code",
   "execution_count": 48,
   "outputs": [],
   "source": [
    "@torch.inference_mode()\n",
    "def validate_one_epoch(model, dataloader, criterion, device):\n",
    "    model.eval()\n",
    "    threshold = torch.Tensor([0.5]).to(device)\n",
    "    val_loss = 0.0\n",
    "    val_correct = 0.0\n",
    "    val_f1_score = 0.0\n",
    "    data_size = 0\n",
    "    n_batches = 0\n",
    "\n",
    "    with tqdm(dataloader, desc=\"Validation\",unit=\"batch\") as tepoch:\n",
    "        for image_one, image_second, is_same_class in tepoch:\n",
    "            n_batches += 1\n",
    "            image_one = image_one.to(device)\n",
    "            image_second = image_second.to(device)\n",
    "            is_same_class = is_same_class.to(device)\n",
    "\n",
    "            predicted_similarity = model(image_one, image_second)\n",
    "            predicted_similarity = torch.squeeze(predicted_similarity, dim=-1)\n",
    "\n",
    "\n",
    "            # But we still want to calculate accuracy, so, we calculate probs it our ArcFace Function\n",
    "            loss = criterion(predicted_similarity, is_same_class.to(torch.float32))\n",
    "            loss = loss.item()  # item() extracts scalar\n",
    "            val_loss += loss\n",
    "\n",
    "\n",
    "            prediction = (predicted_similarity >= threshold).float()\n",
    "\n",
    "            correct = (prediction == is_same_class).sum().item()\n",
    "            val_correct += correct\n",
    "            data_size += is_same_class.size(0)  # Batch size\n",
    "\n",
    "            val_accuracy = val_correct / data_size\n",
    "            #\n",
    "            f1 = f1_score(prediction, is_same_class).item()\n",
    "            val_f1_score += f1\n",
    "            tepoch.set_postfix(loss=loss, acc=val_accuracy)\n",
    "\n",
    "    val_loss /= n_batches\n",
    "    val_f1_score /= n_batches\n",
    "    gc.collect()\n",
    "    torch.cuda.empty_cache()\n",
    "\n",
    "    return val_loss, val_accuracy, val_f1_score"
   ],
   "metadata": {
    "collapsed": false
   }
  },
  {
   "cell_type": "markdown",
   "source": [
    "## Training cycle"
   ],
   "metadata": {
    "collapsed": false
   }
  },
  {
   "cell_type": "code",
   "execution_count": 49,
   "outputs": [],
   "source": [
    "def train_model(model, train_loader, val_loader,\n",
    "                criterion=None, optimizer=None, num_epochs=5,\n",
    "                scheduler=None, device=torch.device(\"cpu\"),\n",
    "                save_model_to=None, wandb_logger=None):\n",
    "\n",
    "    # wandb.watch(model, criterion,)\n",
    "    since = time.time()\n",
    "\n",
    "    train_loss_history, valid_loss_history = [], []\n",
    "    train_acc_history, valid_acc_history = [], []\n",
    "    train_f1_history, valid_f1_history = [], []\n",
    "\n",
    "\n",
    "    # Create a temporary directory to save training checkpoints\n",
    "    with TemporaryDirectory() as tempdir:\n",
    "        best_model_params_path = os.path.join(tempdir, 'best_model_params.pt')\n",
    "\n",
    "        for epoch in range(num_epochs):\n",
    "            train_loss, train_accuracy, train_f1 = train_one_epoch(model, train_loader, optimizer, criterion, device, epoch=f'{epoch+1}/{num_epochs}')\n",
    "            val_loss, val_accuracy, val_f1 = validate_one_epoch(model, val_loader, criterion, device,)\n",
    "\n",
    "\n",
    "            print_highlighted(\n",
    "                f\"Loss: {val_loss:.4f} - Accuracy: {val_accuracy:.4f} - F1: {val_f1:.4f} - LR: {get_lr(optimizer)}\"\n",
    "            )\n",
    "\n",
    "            if not valid_loss_history or val_loss < valid_loss_history[-1]:\n",
    "                # If it's either first step (history is empty) or our weights are getting better\n",
    "                print_highlighted(\"New weights were applied.\\n\", bgcolor=Back.CYAN)\n",
    "                torch.save(model.state_dict(), best_model_params_path)\n",
    "\n",
    "            scheduler.step(val_loss)\n",
    "\n",
    "            train_loss_history.append(train_loss)\n",
    "            valid_loss_history.append(val_loss)\n",
    "            train_acc_history.append(train_accuracy)\n",
    "            valid_acc_history.append(val_accuracy)\n",
    "            train_f1_history.append(train_f1)\n",
    "            valid_f1_history.append(val_f1)\n",
    "\n",
    "            if wandb_logger is not None:\n",
    "\n",
    "                wandb_logger.log(\n",
    "                    dict(\n",
    "                        train_loss=train_loss,\n",
    "                        valid_loss=val_loss,\n",
    "                        train_accuracy=train_accuracy,\n",
    "                        val_accuracy=val_accuracy,\n",
    "                    )\n",
    "                )\n",
    "\n",
    "            del train_loss\n",
    "            del val_loss\n",
    "            gc.collect()\n",
    "            torch.cuda.empty_cache()\n",
    "\n",
    "        time_elapsed = time.time() - since\n",
    "        print_highlighted(f'Training complete in {time_elapsed // 60:.0f}m {time_elapsed % 60:.0f}s')\n",
    "\n",
    "        # load best model weights\n",
    "        model.load_state_dict(torch.load(best_model_params_path))\n",
    "\n",
    "        if save_model_to:\n",
    "            torch.save(model, save_model_to)\n",
    "            print_highlighted(f\"Model was saved to: {save_model_to}\")\n",
    "\n",
    "        history = dict(\n",
    "            train_loss=train_loss_history,\n",
    "            valid_loss=valid_loss_history,\n",
    "            train_accuracy=train_acc_history,\n",
    "            valid_accuracy=valid_acc_history,\n",
    "            train_f1_score=train_f1_history,\n",
    "            valid_f1_score=valid_f1_history,\n",
    "        )\n",
    "    return model, history"
   ],
   "metadata": {
    "collapsed": false
   }
  },
  {
   "cell_type": "markdown",
   "source": [
    "## Hyperparametres"
   ],
   "metadata": {
    "collapsed": false
   }
  },
  {
   "cell_type": "code",
   "execution_count": 72,
   "outputs": [],
   "source": [
    "# criterion = nn.BCEWithLogitsLoss()\n",
    "criterion = nn.BCELoss()\n"
   ],
   "metadata": {
    "collapsed": false
   }
  },
  {
   "cell_type": "code",
   "execution_count": 80,
   "outputs": [],
   "source": [
    "config.learning_rate = 1e-5\n",
    "config.epochs = 30\n",
    "config.weight_decay = 1e-7\n",
    "config.min_loss_delta = 0.05"
   ],
   "metadata": {
    "collapsed": false
   }
  },
  {
   "cell_type": "code",
   "execution_count": 81,
   "outputs": [],
   "source": [
    "optimizer = torch.optim.Adam(\n",
    "    perceptron_model.parameters(),\n",
    "    lr=config.learning_rate,\n",
    "    weight_decay = config.weight_decay)\n"
   ],
   "metadata": {
    "collapsed": false
   }
  },
  {
   "cell_type": "code",
   "execution_count": 82,
   "outputs": [],
   "source": [
    "scheduler = optim.lr_scheduler.ReduceLROnPlateau(\n",
    "    optimizer, 'min', patience = 5, factor=0.5,\n",
    "    min_lr=config.min_lr , verbose=False,\n",
    "    threshold = config.min_loss_delta\n",
    ")"
   ],
   "metadata": {
    "collapsed": false
   }
  },
  {
   "cell_type": "code",
   "execution_count": 83,
   "outputs": [],
   "source": [
    "def get_lr(optimizer):\n",
    "    \"\"\"\n",
    "    For some schedulers we don't have `get_last_lr()` method.\n",
    "    So, we will get last lr ourselves.\n",
    "    \"\"\"\n",
    "    return list(\n",
    "        [group['lr'] for group in optimizer.param_groups]\n",
    "    )"
   ],
   "metadata": {
    "collapsed": false
   }
  },
  {
   "cell_type": "code",
   "execution_count": 84,
   "outputs": [
    {
     "execution_count": 84,
     "output_type": "execute_result",
     "data": {
      "text/plain": "[1e-05]"
     },
     "metadata": {}
    }
   ],
   "source": [
    "get_lr(optimizer)"
   ],
   "metadata": {
    "collapsed": false
   }
  },
  {
   "cell_type": "markdown",
   "source": [
    "# 7. Run the training process"
   ],
   "metadata": {
    "collapsed": false
   }
  },
  {
   "cell_type": "code",
   "execution_count": 85,
   "outputs": [
    {
     "name": "stderr",
     "text": "Epoch: 1/30: 100%|██████████| 25/25 [00:17<00:00,  1.45batch/s, acc=0.942, loss=0.122]\nValidation: 100%|██████████| 2/2 [00:00<00:00,  2.01batch/s, acc=0.928, loss=0.175]\n",
     "output_type": "stream"
    },
    {
     "name": "stdout",
     "text": "\u001B[43mLoss: 0.1729 - Accuracy: 0.9276 - F1: 0.9219 - LR: [1e-05]\u001B[0m\n\u001B[46mNew weights were applied.\n\u001B[0m\n",
     "output_type": "stream"
    },
    {
     "name": "stderr",
     "text": "Epoch: 2/30: 100%|██████████| 25/25 [00:16<00:00,  1.51batch/s, acc=0.942, loss=0.172]\nValidation: 100%|██████████| 2/2 [00:00<00:00,  2.02batch/s, acc=0.923, loss=0.191]\n",
     "output_type": "stream"
    },
    {
     "name": "stdout",
     "text": "\u001B[43mLoss: 0.1909 - Accuracy: 0.9227 - F1: 0.9175 - LR: [1e-05]\u001B[0m\n",
     "output_type": "stream"
    },
    {
     "name": "stderr",
     "text": "Epoch: 3/30: 100%|██████████| 25/25 [00:17<00:00,  1.45batch/s, acc=0.941, loss=0.172]\nValidation: 100%|██████████| 2/2 [00:00<00:00,  2.02batch/s, acc=0.921, loss=0.171]\n",
     "output_type": "stream"
    },
    {
     "name": "stdout",
     "text": "\u001B[43mLoss: 0.1833 - Accuracy: 0.9211 - F1: 0.9215 - LR: [1e-05]\u001B[0m\n\u001B[46mNew weights were applied.\n\u001B[0m\n",
     "output_type": "stream"
    },
    {
     "name": "stderr",
     "text": "Epoch: 4/30: 100%|██████████| 25/25 [00:16<00:00,  1.51batch/s, acc=0.943, loss=0.111]\nValidation: 100%|██████████| 2/2 [00:00<00:00,  2.02batch/s, acc=0.931, loss=0.172]\n",
     "output_type": "stream"
    },
    {
     "name": "stdout",
     "text": "\u001B[43mLoss: 0.1808 - Accuracy: 0.9308 - F1: 0.9269 - LR: [1e-05]\u001B[0m\n\u001B[46mNew weights were applied.\n\u001B[0m\n",
     "output_type": "stream"
    },
    {
     "name": "stderr",
     "text": "Epoch: 5/30: 100%|██████████| 25/25 [00:17<00:00,  1.44batch/s, acc=0.944, loss=0.153]\nValidation: 100%|██████████| 2/2 [00:01<00:00,  2.00batch/s, acc=0.913, loss=0.191]\n",
     "output_type": "stream"
    },
    {
     "name": "stdout",
     "text": "\u001B[43mLoss: 0.2022 - Accuracy: 0.9129 - F1: 0.9085 - LR: [1e-05]\u001B[0m\n",
     "output_type": "stream"
    },
    {
     "name": "stderr",
     "text": "Epoch: 6/30: 100%|██████████| 25/25 [00:16<00:00,  1.50batch/s, acc=0.943, loss=0.165]\nValidation: 100%|██████████| 2/2 [00:01<00:00,  1.70batch/s, acc=0.91, loss=0.183] \n",
     "output_type": "stream"
    },
    {
     "name": "stdout",
     "text": "\u001B[43mLoss: 0.1949 - Accuracy: 0.9105 - F1: 0.9106 - LR: [1e-05]\u001B[0m\n\u001B[46mNew weights were applied.\n\u001B[0m\n",
     "output_type": "stream"
    },
    {
     "name": "stderr",
     "text": "Epoch: 7/30: 100%|██████████| 25/25 [00:16<00:00,  1.52batch/s, acc=0.943, loss=0.149]\nValidation: 100%|██████████| 2/2 [00:00<00:00,  2.01batch/s, acc=0.921, loss=0.182]\n",
     "output_type": "stream"
    },
    {
     "name": "stdout",
     "text": "\u001B[43mLoss: 0.1944 - Accuracy: 0.9211 - F1: 0.9219 - LR: [1e-05]\u001B[0m\n\u001B[46mNew weights were applied.\n\u001B[0m\n",
     "output_type": "stream"
    },
    {
     "name": "stderr",
     "text": "Epoch: 8/30: 100%|██████████| 25/25 [00:17<00:00,  1.46batch/s, acc=0.943, loss=0.161]\nValidation: 100%|██████████| 2/2 [00:01<00:00,  1.89batch/s, acc=0.918, loss=0.184]\n",
     "output_type": "stream"
    },
    {
     "name": "stdout",
     "text": "\u001B[43mLoss: 0.1968 - Accuracy: 0.9178 - F1: 0.9131 - LR: [5e-06]\u001B[0m\n",
     "output_type": "stream"
    },
    {
     "name": "stderr",
     "text": "Epoch: 9/30: 100%|██████████| 25/25 [00:16<00:00,  1.52batch/s, acc=0.941, loss=0.172]\nValidation: 100%|██████████| 2/2 [00:00<00:00,  2.02batch/s, acc=0.921, loss=0.156]\n",
     "output_type": "stream"
    },
    {
     "name": "stdout",
     "text": "\u001B[43mLoss: 0.1709 - Accuracy: 0.9211 - F1: 0.9230 - LR: [5e-06]\u001B[0m\n\u001B[46mNew weights were applied.\n\u001B[0m\n",
     "output_type": "stream"
    },
    {
     "name": "stderr",
     "text": "Epoch: 10/30: 100%|██████████| 25/25 [00:17<00:00,  1.46batch/s, acc=0.945, loss=0.151]\nValidation: 100%|██████████| 2/2 [00:00<00:00,  2.02batch/s, acc=0.926, loss=0.152]\n",
     "output_type": "stream"
    },
    {
     "name": "stdout",
     "text": "\u001B[43mLoss: 0.1688 - Accuracy: 0.9260 - F1: 0.9288 - LR: [5e-06]\u001B[0m\n\u001B[46mNew weights were applied.\n\u001B[0m\n",
     "output_type": "stream"
    },
    {
     "name": "stderr",
     "text": "Epoch: 11/30: 100%|██████████| 25/25 [00:16<00:00,  1.52batch/s, acc=0.941, loss=0.169]\nValidation: 100%|██████████| 2/2 [00:01<00:00,  1.56batch/s, acc=0.915, loss=0.151]\n",
     "output_type": "stream"
    },
    {
     "name": "stdout",
     "text": "\u001B[43mLoss: 0.1809 - Accuracy: 0.9146 - F1: 0.9162 - LR: [5e-06]\u001B[0m\n",
     "output_type": "stream"
    },
    {
     "name": "stderr",
     "text": "Epoch: 12/30: 100%|██████████| 25/25 [00:16<00:00,  1.51batch/s, acc=0.942, loss=0.142]\nValidation: 100%|██████████| 2/2 [00:00<00:00,  2.03batch/s, acc=0.93, loss=0.157] \n",
     "output_type": "stream"
    },
    {
     "name": "stdout",
     "text": "\u001B[43mLoss: 0.1676 - Accuracy: 0.9300 - F1: 0.9247 - LR: [5e-06]\u001B[0m\n\u001B[46mNew weights were applied.\n\u001B[0m\n",
     "output_type": "stream"
    },
    {
     "name": "stderr",
     "text": "Epoch: 13/30: 100%|██████████| 25/25 [00:17<00:00,  1.44batch/s, acc=0.944, loss=0.141]\nValidation: 100%|██████████| 2/2 [00:00<00:00,  2.01batch/s, acc=0.912, loss=0.147]\n",
     "output_type": "stream"
    },
    {
     "name": "stdout",
     "text": "\u001B[43mLoss: 0.1866 - Accuracy: 0.9121 - F1: 0.9159 - LR: [5e-06]\u001B[0m\n",
     "output_type": "stream"
    },
    {
     "name": "stderr",
     "text": "Epoch: 14/30: 100%|██████████| 25/25 [00:16<00:00,  1.52batch/s, acc=0.942, loss=0.143]\nValidation: 100%|██████████| 2/2 [00:00<00:00,  2.02batch/s, acc=0.919, loss=0.178]\n",
     "output_type": "stream"
    },
    {
     "name": "stdout",
     "text": "\u001B[43mLoss: 0.1857 - Accuracy: 0.9186 - F1: 0.9160 - LR: [2.5e-06]\u001B[0m\n\u001B[46mNew weights were applied.\n\u001B[0m\n",
     "output_type": "stream"
    },
    {
     "name": "stderr",
     "text": "Epoch: 15/30: 100%|██████████| 25/25 [00:17<00:00,  1.45batch/s, acc=0.942, loss=0.0938]\nValidation: 100%|██████████| 2/2 [00:00<00:00,  2.03batch/s, acc=0.916, loss=0.19] \n",
     "output_type": "stream"
    },
    {
     "name": "stdout",
     "text": "\u001B[43mLoss: 0.1954 - Accuracy: 0.9162 - F1: 0.9187 - LR: [2.5e-06]\u001B[0m\n",
     "output_type": "stream"
    },
    {
     "name": "stderr",
     "text": "Epoch: 16/30: 100%|██████████| 25/25 [00:16<00:00,  1.52batch/s, acc=0.943, loss=0.147]\nValidation: 100%|██████████| 2/2 [00:00<00:00,  2.04batch/s, acc=0.923, loss=0.157]\n",
     "output_type": "stream"
    },
    {
     "name": "stdout",
     "text": "\u001B[43mLoss: 0.1779 - Accuracy: 0.9227 - F1: 0.9213 - LR: [2.5e-06]\u001B[0m\n\u001B[46mNew weights were applied.\n\u001B[0m\n",
     "output_type": "stream"
    },
    {
     "name": "stderr",
     "text": "Epoch: 17/30: 100%|██████████| 25/25 [00:17<00:00,  1.46batch/s, acc=0.943, loss=0.152]\nValidation: 100%|██████████| 2/2 [00:00<00:00,  2.02batch/s, acc=0.921, loss=0.181]\n",
     "output_type": "stream"
    },
    {
     "name": "stdout",
     "text": "\u001B[43mLoss: 0.1838 - Accuracy: 0.9211 - F1: 0.9137 - LR: [2.5e-06]\u001B[0m\n",
     "output_type": "stream"
    },
    {
     "name": "stderr",
     "text": "Epoch: 18/30: 100%|██████████| 25/25 [00:17<00:00,  1.45batch/s, acc=0.942, loss=0.121]\nValidation: 100%|██████████| 2/2 [00:00<00:00,  2.03batch/s, acc=0.923, loss=0.175]\n",
     "output_type": "stream"
    },
    {
     "name": "stdout",
     "text": "\u001B[43mLoss: 0.1807 - Accuracy: 0.9227 - F1: 0.9174 - LR: [2.5e-06]\u001B[0m\n\u001B[46mNew weights were applied.\n\u001B[0m\n",
     "output_type": "stream"
    },
    {
     "name": "stderr",
     "text": "Epoch: 19/30: 100%|██████████| 25/25 [00:16<00:00,  1.53batch/s, acc=0.945, loss=0.144]\nValidation: 100%|██████████| 2/2 [00:00<00:00,  2.03batch/s, acc=0.928, loss=0.162]\n",
     "output_type": "stream"
    },
    {
     "name": "stdout",
     "text": "\u001B[43mLoss: 0.1772 - Accuracy: 0.9276 - F1: 0.9262 - LR: [2.5e-06]\u001B[0m\n\u001B[46mNew weights were applied.\n\u001B[0m\n",
     "output_type": "stream"
    },
    {
     "name": "stderr",
     "text": "Epoch: 20/30: 100%|██████████| 25/25 [00:17<00:00,  1.45batch/s, acc=0.943, loss=0.142]\nValidation: 100%|██████████| 2/2 [00:00<00:00,  2.05batch/s, acc=0.927, loss=0.208]\n",
     "output_type": "stream"
    },
    {
     "name": "stdout",
     "text": "\u001B[43mLoss: 0.1903 - Accuracy: 0.9268 - F1: 0.9202 - LR: [1.25e-06]\u001B[0m\n",
     "output_type": "stream"
    },
    {
     "name": "stderr",
     "text": "Epoch: 21/30: 100%|██████████| 25/25 [00:16<00:00,  1.53batch/s, acc=0.942, loss=0.182]\nValidation: 100%|██████████| 2/2 [00:00<00:00,  2.02batch/s, acc=0.926, loss=0.176]\n",
     "output_type": "stream"
    },
    {
     "name": "stdout",
     "text": "\u001B[43mLoss: 0.1897 - Accuracy: 0.9260 - F1: 0.9222 - LR: [1.25e-06]\u001B[0m\n\u001B[46mNew weights were applied.\n\u001B[0m\n",
     "output_type": "stream"
    },
    {
     "name": "stderr",
     "text": "Epoch: 22/30: 100%|██████████| 25/25 [00:17<00:00,  1.44batch/s, acc=0.941, loss=0.138]\nValidation: 100%|██████████| 2/2 [00:00<00:00,  2.03batch/s, acc=0.912, loss=0.202]\n",
     "output_type": "stream"
    },
    {
     "name": "stdout",
     "text": "\u001B[43mLoss: 0.2048 - Accuracy: 0.9121 - F1: 0.9106 - LR: [1.25e-06]\u001B[0m\n",
     "output_type": "stream"
    },
    {
     "name": "stderr",
     "text": "Epoch: 23/30: 100%|██████████| 25/25 [00:17<00:00,  1.44batch/s, acc=0.942, loss=0.2]  \nValidation: 100%|██████████| 2/2 [00:00<00:00,  2.05batch/s, acc=0.928, loss=0.169]\n",
     "output_type": "stream"
    },
    {
     "name": "stdout",
     "text": "\u001B[43mLoss: 0.1851 - Accuracy: 0.9284 - F1: 0.9278 - LR: [1.25e-06]\u001B[0m\n\u001B[46mNew weights were applied.\n\u001B[0m\n",
     "output_type": "stream"
    },
    {
     "name": "stderr",
     "text": "Epoch: 24/30: 100%|██████████| 25/25 [00:16<00:00,  1.52batch/s, acc=0.945, loss=0.152]\nValidation: 100%|██████████| 2/2 [00:00<00:00,  2.01batch/s, acc=0.917, loss=0.156]\n",
     "output_type": "stream"
    },
    {
     "name": "stdout",
     "text": "\u001B[43mLoss: 0.1780 - Accuracy: 0.9170 - F1: 0.9204 - LR: [1.25e-06]\u001B[0m\n\u001B[46mNew weights were applied.\n\u001B[0m\n",
     "output_type": "stream"
    },
    {
     "name": "stderr",
     "text": "Epoch: 25/30: 100%|██████████| 25/25 [00:17<00:00,  1.43batch/s, acc=0.943, loss=0.141]\nValidation: 100%|██████████| 2/2 [00:00<00:00,  2.07batch/s, acc=0.932, loss=0.183]\n",
     "output_type": "stream"
    },
    {
     "name": "stdout",
     "text": "\u001B[43mLoss: 0.1806 - Accuracy: 0.9325 - F1: 0.9263 - LR: [1.25e-06]\u001B[0m\n",
     "output_type": "stream"
    },
    {
     "name": "stderr",
     "text": "Epoch: 26/30: 100%|██████████| 25/25 [00:16<00:00,  1.52batch/s, acc=0.942, loss=0.132]\nValidation: 100%|██████████| 2/2 [00:00<00:00,  2.06batch/s, acc=0.913, loss=0.222]\n",
     "output_type": "stream"
    },
    {
     "name": "stdout",
     "text": "\u001B[43mLoss: 0.2178 - Accuracy: 0.9129 - F1: 0.9097 - LR: [6.25e-07]\u001B[0m\n",
     "output_type": "stream"
    },
    {
     "name": "stderr",
     "text": "Epoch: 27/30: 100%|██████████| 25/25 [00:17<00:00,  1.46batch/s, acc=0.941, loss=0.117]\nValidation: 100%|██████████| 2/2 [00:00<00:00,  2.05batch/s, acc=0.919, loss=0.171]\n",
     "output_type": "stream"
    },
    {
     "name": "stdout",
     "text": "\u001B[43mLoss: 0.1910 - Accuracy: 0.9194 - F1: 0.9196 - LR: [6.25e-07]\u001B[0m\n\u001B[46mNew weights were applied.\n\u001B[0m\n",
     "output_type": "stream"
    },
    {
     "name": "stderr",
     "text": "Epoch: 28/30: 100%|██████████| 25/25 [00:17<00:00,  1.45batch/s, acc=0.942, loss=0.21] \nValidation: 100%|██████████| 2/2 [00:00<00:00,  2.04batch/s, acc=0.923, loss=0.195]\n",
     "output_type": "stream"
    },
    {
     "name": "stdout",
     "text": "\u001B[43mLoss: 0.1970 - Accuracy: 0.9227 - F1: 0.9172 - LR: [6.25e-07]\u001B[0m\n",
     "output_type": "stream"
    },
    {
     "name": "stderr",
     "text": "Epoch: 29/30: 100%|██████████| 25/25 [00:16<00:00,  1.53batch/s, acc=0.942, loss=0.155]\nValidation: 100%|██████████| 2/2 [00:01<00:00,  1.92batch/s, acc=0.92, loss=0.174]\n",
     "output_type": "stream"
    },
    {
     "name": "stdout",
     "text": "\u001B[43mLoss: 0.1878 - Accuracy: 0.9203 - F1: 0.9198 - LR: [6.25e-07]\u001B[0m\n\u001B[46mNew weights were applied.\n\u001B[0m\n",
     "output_type": "stream"
    },
    {
     "name": "stderr",
     "text": "Epoch: 30/30: 100%|██████████| 25/25 [00:17<00:00,  1.43batch/s, acc=0.943, loss=0.107]\nValidation: 100%|██████████| 2/2 [00:00<00:00,  2.02batch/s, acc=0.927, loss=0.153]\n",
     "output_type": "stream"
    },
    {
     "name": "stdout",
     "text": "\u001B[43mLoss: 0.1725 - Accuracy: 0.9268 - F1: 0.9295 - LR: [6.25e-07]\u001B[0m\n\u001B[46mNew weights were applied.\n\u001B[0m\n\u001B[43mTraining complete in 9m 31s\u001B[0m\n\u001B[43mModel was saved to: SiamesePerceptron.pth\u001B[0m\n",
     "output_type": "stream"
    }
   ],
   "source": [
    "perceptron_model, history = train_model(\n",
    "    model=perceptron_model,\n",
    "    train_loader=train_dataloader,\n",
    "    val_loader=test_dataloader,\n",
    "    criterion=criterion,\n",
    "    optimizer=optimizer,\n",
    "    num_epochs=config.epochs,\n",
    "    device=device,\n",
    "    scheduler=scheduler,\n",
    "    save_model_to=config.save_model_to,\n",
    "    wandb_logger=wandb_run\n",
    " )"
   ],
   "metadata": {
    "collapsed": false
   }
  },
  {
   "cell_type": "markdown",
   "source": [
    "## View training statistics"
   ],
   "metadata": {
    "collapsed": false
   }
  },
  {
   "cell_type": "code",
   "execution_count": 86,
   "outputs": [
    {
     "output_type": "display_data",
     "data": {
      "text/plain": "<Figure size 1600x800 with 1 Axes>",
      "image/png": "[encoded data removed]"
     },
     "metadata": {}
    },
    {
     "output_type": "display_data",
     "data": {
      "text/plain": "<Figure size 1600x800 with 1 Axes>",
      "image/png": "[encoded data removed]"
     },
     "metadata": {}
    },
    {
     "output_type": "display_data",
     "data": {
      "text/plain": "<Figure size 1600x800 with 1 Axes>",
      "image/png": "[encoded data removed]"
     },
     "metadata": {}
    }
   ],
   "source": [
    "plot_stats(\n",
    "    **history,\n",
    "    title=f\"Model {config.model_name}\"\n",
    ")"
   ],
   "metadata": {
    "collapsed": false
   }
  },
  {
   "cell_type": "markdown",
   "source": [
    "Interactive training tensorboards are available on wandb:"
   ],
   "metadata": {
    "collapsed": false
   }
  },
  {
   "cell_type": "code",
   "execution_count": 87,
   "outputs": [
    {
     "name": "stdout",
     "text": "https://wandb.ai/remainedmind/binary-classification-project/runs/gd9dccs2\n",
     "output_type": "stream"
    }
   ],
   "source": [
    "print(wandb_run.url)"
   ],
   "metadata": {
    "collapsed": false
   }
  },
  {
   "cell_type": "markdown",
   "source": [
    "# Result evaluation"
   ],
   "metadata": {
    "collapsed": false
   }
  },
  {
   "cell_type": "markdown",
   "source": [
    "Let's test our Model by prediction the similarity between objects that are nearest in the vector area. For that case we will use our NearestNeighbors trained algorithm."
   ],
   "metadata": {
    "collapsed": false
   }
  },
  {
   "cell_type": "code",
   "execution_count": 171,
   "outputs": [],
   "source": [
    "@torch.inference_mode()\n",
    "def get_probabilities(model, dataloader, device,):\n",
    "    model.eval()  # Set the model to evaluation mode\n",
    "    predictions = []\n",
    "    target_labels = []\n",
    "\n",
    "    with tqdm(dataloader, desc=\"Processing\",unit=\"batch\") as process:\n",
    "        for anchor_vector, pair_vector, is_same_class in process:\n",
    "            anchor_vector = anchor_vector.to(device)\n",
    "            pair_vector = pair_vector.to(device)\n",
    "            is_same_class = is_same_class.to(device)\n",
    "\n",
    "            predicted_similarity = model(anchor_vector, pair_vector)\n",
    "            predicted_similarity = torch.squeeze(predicted_similarity, dim=-1)\n",
    "\n",
    "\n",
    "            predictions.extend(predicted_similarity.cpu().numpy())\n",
    "            target_labels.extend(is_same_class.cpu().numpy())\n",
    "\n",
    "    return np.array(predictions), np.array(target_labels)"
   ],
   "metadata": {
    "collapsed": false
   }
  },
  {
   "cell_type": "code",
   "execution_count": 172,
   "outputs": [
    {
     "name": "stderr",
     "output_type": "stream",
     "text": [
      "Processing: 100%|██████████| 308/308 [00:02<00:00, 117.82batch/s]\n"
     ]
    }
   ],
   "source": [
    "predicted_proba, target_labels = get_probabilities(model=perceptron_model, dataloader=test_dataloader, device=device)"
   ],
   "metadata": {
    "collapsed": false
   }
  },
  {
   "cell_type": "code",
   "execution_count": 0,
   "outputs": [],
   "source": [
    "def plot_metric_curves(y_true, y_scores):\n",
    "    # Compute Precision-Recall and ROC curves\n",
    "    precision, recall, thresholds  = precision_recall_curve(y_true, y_scores, drop_intermediate=False)\n",
    "    fpr, tpr, _ = roc_curve(y_true, y_scores)\n",
    "\n",
    "    # Compute F1 scores for different thresholds\n",
    "    f1_scores = [2 * (p * r) / (p + r) if (p + r) > 0 else 0 for p, r in zip(precision, recall)]\n",
    "\n",
    "    # Find the threshold that maximizes F1 score\n",
    "    best_f1_index = np.argmax(f1_scores)\n",
    "    best_threshold = thresholds[best_f1_index]\n",
    "    best_f1 = f1_scores[best_f1_index]\n",
    "\n",
    "    # Compute area under the curves\n",
    "    pr_auc = auc(recall, precision)\n",
    "    roc_auc = roc_auc_score(y_true, y_scores)\n",
    "\n",
    "    # Plot Precision-Recall-F1 curve\n",
    "    plt.figure(figsize=(15, 5))\n",
    "\n",
    "    plt.subplot(1, 3, 1)\n",
    "    plt.plot(recall, precision, color='darkorange', lw=2, label='PR curve (AUC = %0.2f)' % pr_auc)\n",
    "    plt.xlabel('Recall')\n",
    "    plt.ylabel('Precision')\n",
    "    plt.title('Precision-Recall Curve')\n",
    "    plt.scatter(\n",
    "        recall[best_f1_index], precision[best_f1_index], color='red', label='Max F1 is %.2f)' % best_f1\n",
    "    )\n",
    "    plt.legend(loc='lower left')\n",
    "\n",
    "    plt.subplot(1, 3, 2)\n",
    "    plt.plot(fpr, tpr, color='darkorange', lw=2, label='ROC curve (AUC = %0.2f)' % roc_auc)\n",
    "    plt.plot([0, 1], [0, 1], color='navy', lw=2, linestyle='--')\n",
    "    plt.xlabel('False Positive Rate')\n",
    "    plt.ylabel('True Positive Rate')\n",
    "    plt.title('Receiver Operating Characteristic (ROC) Curve')\n",
    "    plt.legend(loc='lower right')\n",
    "\n",
    "    plt.subplot(1, 3, 3)\n",
    "    plt.plot(recall, f1_scores, color='darkorange', lw=2, label='F1 curve')\n",
    "    # plt.plot(recall, [0, *thresholds], color='darkorange', lw=2, label='F1 curve')\n",
    "\n",
    "    plt.xlabel('Recall')\n",
    "    plt.ylabel('F1 Score')\n",
    "    plt.title('F1 Score Curve')\n",
    "    plt.scatter(recall[best_f1_index], best_f1, color='red', label='Extrema  (F1 = %.2f)' % best_f1 + ' with t=%.2f' % best_threshold)\n",
    "    plt.legend(loc='lower left')\n",
    "\n",
    "    plt.tight_layout()\n",
    "    plt.show()"
   ],
   "metadata": {
    "collapsed": false,
    "ExecuteTime": {
     "start_time": "2023-08-17T19:12:05.443208Z",
     "end_time": "2023-08-17T19:12:10.573927Z"
    }
   }
  },
  {
   "cell_type": "code",
   "execution_count": 197,
   "outputs": [
    {
     "data": {
      "text/plain": "<Figure size 1500x500 with 3 Axes>",
      "image/png": "[encoded data removed]"
     },
     "metadata": {},
     "output_type": "display_data"
    }
   ],
   "source": [
    "plot_metric_curves(target_labels, predicted_proba)"
   ],
   "metadata": {
    "collapsed": false
   }
  },
  {
   "cell_type": "code",
   "execution_count": null,
   "outputs": [],
   "source": [],
   "metadata": {
    "collapsed": false
   }
  }
 ]
}
