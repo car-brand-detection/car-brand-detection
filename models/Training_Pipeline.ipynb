{
 "cells": [
  {
   "cell_type": "code",
   "execution_count": 2,
   "metadata": {
    "collapsed": true,
    "ExecuteTime": {
     "start_time": "2023-07-10T14:17:26.384227Z",
     "end_time": "2023-07-10T14:17:26.399880Z"
    }
   },
   "outputs": [],
   "source": [
    "# Classic\n",
    "import os\n",
    "import time\n",
    "import numpy as np\n",
    "import pickle\n",
    "import pandas as pd\n",
    "import seaborn as sns\n",
    "import matplotlib.pyplot as plt\n",
    "from tempfile import TemporaryDirectory\n",
    "import PIL.Image as Image"
   ]
  },
  {
   "cell_type": "code",
   "execution_count": 3,
   "outputs": [],
   "source": [
    "# Basic Torch\n",
    "import torch\n",
    "import torch.nn as nn\n",
    "import torch.optim as optim"
   ],
   "metadata": {
    "collapsed": false,
    "ExecuteTime": {
     "start_time": "2023-07-10T14:17:26.607013Z",
     "end_time": "2023-07-10T14:17:31.857254Z"
    }
   }
  },
  {
   "cell_type": "code",
   "execution_count": 4,
   "outputs": [],
   "source": [
    "# For custom data loading and processing\n",
    "from torch.utils.data import DataLoader, Dataset\n",
    "import torchvision.transforms as T\n",
    "from torchvision.io import read_image\n",
    "from torchvision.transforms.functional import to_pil_image, to_grayscale, to_tensor\n",
    "import torchvision.transforms.functional as F\n",
    "from torchvision import models"
   ],
   "metadata": {
    "collapsed": false,
    "ExecuteTime": {
     "start_time": "2023-07-10T14:17:31.857254Z",
     "end_time": "2023-07-10T14:17:32.569358Z"
    }
   }
  },
  {
   "cell_type": "code",
   "execution_count": 5,
   "outputs": [],
   "source": [
    "# Special\n",
    "from tqdm import tqdm # To see the progress bar\n",
    "from torchsummary import summary"
   ],
   "metadata": {
    "collapsed": false,
    "ExecuteTime": {
     "start_time": "2023-07-10T14:17:32.569358Z",
     "end_time": "2023-07-10T14:17:32.585514Z"
    }
   }
  },
  {
   "cell_type": "code",
   "execution_count": 5,
   "outputs": [],
   "source": [],
   "metadata": {
    "collapsed": false,
    "ExecuteTime": {
     "start_time": "2023-07-10T14:17:32.592338Z",
     "end_time": "2023-07-10T14:17:32.602455Z"
    }
   }
  },
  {
   "cell_type": "code",
   "execution_count": 6,
   "outputs": [],
   "source": [
    "def apply_label_encoding_to_data(data: pd.DataFrame) -> pd.DataFrame:\n",
    "    class_label_mapping = {}  # Dictionary to map class labels to indices\n",
    "    unique_classes = data['label'].unique()  # Assuming 'label' is the column containing class labels in your CSV file\n",
    "\n",
    "    for idx, class_label in enumerate(unique_classes):\n",
    "        class_label_mapping[class_label] = idx\n",
    "\n",
    "    # Convert the class labels in your dataset to numeric format\n",
    "    data['label'] = data['label'].map(class_label_mapping)\n",
    "    return data"
   ],
   "metadata": {
    "collapsed": false,
    "ExecuteTime": {
     "start_time": "2023-07-10T14:17:32.592338Z",
     "end_time": "2023-07-10T14:17:32.653107Z"
    }
   }
  },
  {
   "cell_type": "code",
   "execution_count": 7,
   "outputs": [],
   "source": [
    "IMAGE_DIMENSION = 256"
   ],
   "metadata": {
    "collapsed": false,
    "ExecuteTime": {
     "start_time": "2023-07-10T14:17:32.602455Z",
     "end_time": "2023-07-10T14:17:32.653107Z"
    }
   }
  },
  {
   "cell_type": "code",
   "execution_count": 8,
   "outputs": [],
   "source": [
    "# Define data transformations\n",
    "data_transforms = {\n",
    "    'train': T.Compose([\n",
    "        T.Resize((IMAGE_DIMENSION, IMAGE_DIMENSION)),\n",
    "        # T.RandomResizedCrop(224),\n",
    "        # T.RandomHorizontalFlip(),\n",
    "\n",
    "        T.ToTensor(),\n",
    "        # T.Normalize([0.5], [0.5]),\n",
    "        # T.Grayscale(num_output_channels=3),\n",
    "\n",
    "        # T.ToTensor(),\n",
    "        T.Normalize([0.485, 0.456, 0.406], [0.229, 0.224, 0.225])\n",
    "    ]),\n",
    "    'test': T.Compose([\n",
    "        T.Resize((IMAGE_DIMENSION, IMAGE_DIMENSION)),\n",
    "        # T.CenterCrop(224),\n",
    "\n",
    "        T.ToTensor(),\n",
    "        # T.Normalize([0.5], [0.5]),\n",
    "        # T.Grayscale(num_output_channels=3),\n",
    "\n",
    "\n",
    "        # T.ToTensor(),\n",
    "        T.Normalize([0.485, 0.456, 0.406], [0.229, 0.224, 0.225])\n",
    "    ])\n",
    "}"
   ],
   "metadata": {
    "collapsed": false,
    "ExecuteTime": {
     "start_time": "2023-07-10T14:17:32.611381Z",
     "end_time": "2023-07-10T14:17:32.653107Z"
    }
   }
  },
  {
   "cell_type": "code",
   "execution_count": 9,
   "outputs": [],
   "source": [
    "def cut_df(data: pd.DataFrame, bound: int) -> pd.DataFrame:\n",
    "    if len(data) > bound:\n",
    "        return data.drop([bound, len(data)-1], inplace=False)"
   ],
   "metadata": {
    "collapsed": false,
    "ExecuteTime": {
     "start_time": "2023-07-10T14:17:32.620734Z",
     "end_time": "2023-07-10T14:17:32.653107Z"
    }
   }
  },
  {
   "cell_type": "code",
   "execution_count": 10,
   "outputs": [],
   "source": [
    "class CustomImageDataset(Dataset):\n",
    "    def __init__(self, labels_path, images_path, transform=None, target_transform=None):\n",
    "        super().__init__()\n",
    "        labels = pd.read_csv(labels_path)\n",
    "        if target_transform:\n",
    "            labels = target_transform(labels)\n",
    "\n",
    "        labels = cut_df(labels, len(os.listdir(images_path)))\n",
    "\n",
    "        self.img_labels = labels\n",
    "\n",
    "        self.img_dir = images_path\n",
    "\n",
    "        self.transform = transform\n",
    "\n",
    "    def __len__(self):\n",
    "        return min(np.max(self.img_labels['id']), len(os.listdir(self.img_dir)))\n",
    "        # return len(self.img_labels) - 1\n",
    "\n",
    "    def __getitem__(self, idx) -> tuple[torch.Tensor, int]:\n",
    "        (id, label) = self.img_labels.iloc[idx]\n",
    "        img_path = os.path.join(self.img_dir, str(id) + \".jpg\")\n",
    "        image = to_pil_image(read_image(img_path))\n",
    "\n",
    "        # image=to_grayscale(image)\n",
    "        image = image.convert(\"RGB\")\n",
    "\n",
    "        if self.transform:\n",
    "            image = self.transform(image)\n",
    "\n",
    "        return image, label\n",
    "\n",
    "\n",
    "    @property\n",
    "    def classes(self):\n",
    "        return self.img_labels['label'].nunique()"
   ],
   "metadata": {
    "collapsed": false,
    "ExecuteTime": {
     "start_time": "2023-07-10T14:17:32.631004Z",
     "end_time": "2023-07-10T14:17:32.653107Z"
    }
   }
  },
  {
   "cell_type": "code",
   "execution_count": 13,
   "outputs": [],
   "source": [
    "DATA_PATH = {\n",
    "    'train': {\n",
    "        'images': \"../output/train\",\n",
    "        'labels': \"../train_labels.csv\"\n",
    "    },\n",
    "    'test': {\n",
    "        'images': \"../output/test\",\n",
    "        'labels': \"../test_labels.csv\"\n",
    "    },\n",
    "    'val': {\n",
    "        'images': \"../output/test\",\n",
    "        'labels': \"../test_labels.csv\"\n",
    "    },\n",
    "}"
   ],
   "metadata": {
    "collapsed": false,
    "ExecuteTime": {
     "start_time": "2023-07-10T14:18:15.632471Z",
     "end_time": "2023-07-10T14:18:15.632471Z"
    }
   }
  },
  {
   "cell_type": "code",
   "execution_count": 14,
   "outputs": [],
   "source": [
    "train_dataset = CustomImageDataset(\n",
    "    labels_path=DATA_PATH['train']['labels'],\n",
    "    images_path=DATA_PATH['train']['images'],\n",
    "    transform=data_transforms['train'],\n",
    "    target_transform=apply_label_encoding_to_data\n",
    ")\n",
    "\n",
    "test_dataset = CustomImageDataset(\n",
    "    labels_path=DATA_PATH['test']['labels'],\n",
    "    images_path=DATA_PATH['test']['images'],\n",
    "    transform=data_transforms['test'],\n",
    "    target_transform=apply_label_encoding_to_data\n",
    ")\n",
    "\n",
    "val_dataset = CustomImageDataset(\n",
    "    labels_path=DATA_PATH['val']['labels'],\n",
    "    images_path=DATA_PATH['val']['images'],\n",
    "    transform=data_transforms['test'],\n",
    "    target_transform=apply_label_encoding_to_data\n",
    ")"
   ],
   "metadata": {
    "collapsed": false,
    "ExecuteTime": {
     "start_time": "2023-07-10T14:18:15.939786Z",
     "end_time": "2023-07-10T14:18:16.002821Z"
    }
   }
  },
  {
   "cell_type": "code",
   "execution_count": 15,
   "outputs": [
    {
     "data": {
      "text/plain": "85"
     },
     "execution_count": 15,
     "metadata": {},
     "output_type": "execute_result"
    }
   ],
   "source": [
    "len(train_dataset)"
   ],
   "metadata": {
    "collapsed": false,
    "ExecuteTime": {
     "start_time": "2023-07-10T14:18:16.773933Z",
     "end_time": "2023-07-10T14:18:16.798276Z"
    }
   }
  },
  {
   "cell_type": "code",
   "execution_count": 16,
   "outputs": [
    {
     "data": {
      "text/plain": "torch.Size([3, 256, 256])"
     },
     "execution_count": 16,
     "metadata": {},
     "output_type": "execute_result"
    }
   ],
   "source": [
    "train_dataset[84][0].shape"
   ],
   "metadata": {
    "collapsed": false,
    "ExecuteTime": {
     "start_time": "2023-07-10T14:18:17.423629Z",
     "end_time": "2023-07-10T14:18:17.490466Z"
    }
   }
  },
  {
   "cell_type": "code",
   "execution_count": 17,
   "outputs": [],
   "source": [
    "for image, label in val_dataset:\n",
    "    if image.shape[0] != 3:\n",
    "        print(label)"
   ],
   "metadata": {
    "collapsed": false,
    "ExecuteTime": {
     "start_time": "2023-07-10T14:18:18.828940Z",
     "end_time": "2023-07-10T14:18:19.181900Z"
    }
   }
  },
  {
   "cell_type": "code",
   "execution_count": 18,
   "outputs": [],
   "source": [
    "train_dataloader = DataLoader(train_dataset, batch_size=64, shuffle=True)\n",
    "test_dataloader = DataLoader(test_dataset, batch_size=64, shuffle=False)\n",
    "val_dataloader = DataLoader(val_dataset, batch_size=64, shuffle=False)\n"
   ],
   "metadata": {
    "collapsed": false,
    "ExecuteTime": {
     "start_time": "2023-07-10T14:18:19.353409Z",
     "end_time": "2023-07-10T14:18:19.365222Z"
    }
   }
  },
  {
   "cell_type": "code",
   "execution_count": 19,
   "outputs": [],
   "source": [
    "def show_one_image():\n",
    "    train_features, train_labels = next(iter(train_dataloader))\n",
    "    print(f\"Feature batch shape: {train_features.size()}\")\n",
    "    print(f\"Labels batch shape: {train_labels.size()}\")\n",
    "    img = train_features[0].permute(1, 2, 0)  # Permutations of channels\n",
    "    label = train_labels[0]\n",
    "    plt.imshow(img, cmap=\"RdBu\")\n",
    "    plt.show()\n",
    "    print(f\"Label: {label}\")\n"
   ],
   "metadata": {
    "collapsed": false,
    "ExecuteTime": {
     "start_time": "2023-07-10T14:18:21.680143Z",
     "end_time": "2023-07-10T14:18:21.708190Z"
    }
   }
  },
  {
   "cell_type": "code",
   "execution_count": 20,
   "outputs": [
    {
     "name": "stderr",
     "output_type": "stream",
     "text": [
      "Clipping input data to the valid range for imshow with RGB data ([0..1] for floats or [0..255] for integers).\n"
     ]
    },
    {
     "name": "stdout",
     "output_type": "stream",
     "text": [
      "Feature batch shape: torch.Size([64, 3, 256, 256])\n",
      "Labels batch shape: torch.Size([64])\n"
     ]
    },
    {
     "data": {
      "text/plain": "<Figure size 640x480 with 1 Axes>",
      "image/png": "[encoded data removed]"
     },
     "metadata": {},
     "output_type": "display_data"
    },
    {
     "name": "stdout",
     "output_type": "stream",
     "text": [
      "Label: 5\n"
     ]
    }
   ],
   "source": [
    "show_one_image()"
   ],
   "metadata": {
    "collapsed": false,
    "ExecuteTime": {
     "start_time": "2023-07-10T14:18:21.920032Z",
     "end_time": "2023-07-10T14:18:24.064538Z"
    }
   }
  },
  {
   "cell_type": "code",
   "execution_count": 63,
   "outputs": [],
   "source": [
    "def train_iteration(model, train_loader, val_loader, criterion, optimizer, device):\n",
    "    model.train()\n",
    "    running_loss = 0.0\n",
    "\n",
    "    for images, labels in train_loader:\n",
    "        images = images.to(device)\n",
    "        labels = labels.to(device)\n",
    "\n",
    "        optimizer.zero_grad()\n",
    "        outputs = model(images)\n",
    "        loss = criterion(outputs, labels)\n",
    "        loss.backward()\n",
    "        optimizer.step()\n",
    "\n",
    "        running_loss += loss.item()\n",
    "\n",
    "    epoch_loss = running_loss / len(train_loader)\n",
    "\n",
    "    # Validation\n",
    "    model.eval()\n",
    "    val_loss = 0.0\n",
    "    val_correct = 0\n",
    "    val_total = 0\n",
    "    train_correct = 0\n",
    "    train_total = 0\n",
    "\n",
    "    with torch.no_grad():\n",
    "        for images, labels in val_loader:\n",
    "            images = images.to(device)\n",
    "            labels = labels.to(device)\n",
    "\n",
    "            outputs = model(images)\n",
    "            loss = criterion(outputs, labels)\n",
    "\n",
    "            val_loss += loss.item()\n",
    "\n",
    "            _, predicted = torch.max(outputs.data, 1)\n",
    "            val_total += labels.size(0)\n",
    "            val_correct += (predicted == labels).sum().item()\n",
    "\n",
    "        for images, labels in train_loader:\n",
    "            images = images.to(device)\n",
    "            labels = labels.to(device)\n",
    "\n",
    "            outputs = model(images)\n",
    "            _, predicted = torch.max(outputs.data, 1)\n",
    "\n",
    "            train_correct += (predicted == labels).sum().item()\n",
    "            train_total += labels.size(0)\n",
    "\n",
    "    val_loss /= len(val_loader)\n",
    "    val_accuracy = val_correct / val_total\n",
    "\n",
    "    train_accuracy = train_correct / train_total\n",
    "\n",
    "    return epoch_loss, val_loss, train_accuracy, val_accuracy\n"
   ],
   "metadata": {
    "collapsed": false,
    "ExecuteTime": {
     "start_time": "2023-07-10T08:43:24.740409Z",
     "end_time": "2023-07-10T08:43:24.753969Z"
    }
   }
  },
  {
   "cell_type": "code",
   "execution_count": 63,
   "outputs": [],
   "source": [],
   "metadata": {
    "collapsed": false,
    "ExecuteTime": {
     "start_time": "2023-07-10T08:43:24.759610Z",
     "end_time": "2023-07-10T08:43:24.759610Z"
    }
   }
  },
  {
   "cell_type": "code",
   "execution_count": 64,
   "outputs": [],
   "source": [
    "def plot_stats(\n",
    "        train_loss: list[float],\n",
    "        valid_loss: list[float],\n",
    "        train_accuracy: list[float],\n",
    "        valid_accuracy: list[float],\n",
    "        title: str\n",
    "):\n",
    "    plt.figure(figsize=(16, 8))\n",
    "\n",
    "    plt.title(title + ' loss')\n",
    "\n",
    "    plt.plot(train_loss, label='Train loss')\n",
    "    plt.plot(valid_loss, label='Valid loss')\n",
    "    plt.legend()\n",
    "    plt.grid()\n",
    "\n",
    "    plt.show()\n",
    "\n",
    "    plt.figure(figsize=(16, 8))\n",
    "\n",
    "    plt.title(title + ' accuracy')\n",
    "\n",
    "    plt.plot(train_accuracy, label='Train accuracy')\n",
    "    plt.plot(valid_accuracy, label='Valid accuracy')\n",
    "    plt.legend()\n",
    "    plt.grid()\n",
    "\n",
    "    plt.show()"
   ],
   "metadata": {
    "collapsed": false,
    "ExecuteTime": {
     "start_time": "2023-07-10T08:43:24.759610Z",
     "end_time": "2023-07-10T08:43:24.769439Z"
    }
   }
  },
  {
   "cell_type": "code",
   "execution_count": 65,
   "outputs": [],
   "source": [
    "def train_model(model, train_loader, val_loader, criterion, optimizer, num_epochs=5, scheduler=None):\n",
    "    since = time.time()\n",
    "\n",
    "    train_loss_history, valid_loss_history = [], []\n",
    "    train_accuracy_history, valid_accuracy_history = [], []\n",
    "\n",
    "    # Create a temporary directory to save training checkpoints\n",
    "    with TemporaryDirectory() as tempdir:\n",
    "        best_model_params_path = os.path.join(tempdir, 'best_model_params.pt')\n",
    "\n",
    "        torch.save(model.state_dict(), best_model_params_path)\n",
    "        best_acc = 0.0\n",
    "\n",
    "        for epoch in range(num_epochs):\n",
    "            epoch_loss, val_loss, train_accuracy, val_accuracy = train_iteration(model, train_loader, val_loader, criterion, optimizer, device)\n",
    "            print(f\"Epoch {epoch+1}/{num_epochs} - Train Loss: {epoch_loss:.4f} - Val Loss: {val_loss:.4f} - Val Accuracy: {val_accuracy:.4f}\"\n",
    "            )\n",
    "\n",
    "            train_loss_history.append(epoch_loss)\n",
    "            valid_loss_history.append(val_loss)\n",
    "\n",
    "            train_accuracy_history.append(train_accuracy)\n",
    "            valid_accuracy_history.append(val_accuracy)\n",
    "            best_acc = max(best_acc, val_accuracy)\n",
    "\n",
    "        time_elapsed = time.time() - since\n",
    "        print(f'Training complete in {time_elapsed // 60:.0f}m {time_elapsed % 60:.0f}s')\n",
    "        print(f'Best val Acc: {best_acc:4f}')\n",
    "\n",
    "        # load best model weights\n",
    "        model.load_state_dict(torch.load(best_model_params_path))\n",
    "        plot_stats(\n",
    "            train_loss_history, valid_loss_history,\n",
    "            train_accuracy_history, valid_accuracy_history,\n",
    "            title=\"Model \"\n",
    "        )\n",
    "    return model"
   ],
   "metadata": {
    "collapsed": false,
    "ExecuteTime": {
     "start_time": "2023-07-10T08:43:24.769439Z",
     "end_time": "2023-07-10T08:43:24.870519Z"
    }
   }
  },
  {
   "cell_type": "code",
   "execution_count": 28,
   "outputs": [],
   "source": [
    "NUM_CLASSES = train_dataset.classes"
   ],
   "metadata": {
    "collapsed": false,
    "ExecuteTime": {
     "start_time": "2023-07-10T14:19:43.872982Z",
     "end_time": "2023-07-10T14:19:43.892606Z"
    }
   }
  },
  {
   "cell_type": "code",
   "execution_count": 67,
   "outputs": [],
   "source": [
    "#mobilenet_v2\n",
    "model = models.mobilenet_v2(weights='IMAGENET1K_V1')\n",
    "# model = models.resnet18(weights='IMAGENET1K_V1')"
   ],
   "metadata": {
    "collapsed": false,
    "ExecuteTime": {
     "start_time": "2023-07-10T08:43:24.792363Z",
     "end_time": "2023-07-10T08:43:24.971042Z"
    }
   }
  },
  {
   "cell_type": "code",
   "execution_count": 68,
   "outputs": [
    {
     "name": "stdout",
     "output_type": "stream",
     "text": [
      "----------------------------------------------------------------\n",
      "        Layer (type)               Output Shape         Param #\n",
      "================================================================\n",
      "            Conv2d-1         [-1, 32, 128, 128]             864\n",
      "       BatchNorm2d-2         [-1, 32, 128, 128]              64\n",
      "             ReLU6-3         [-1, 32, 128, 128]               0\n",
      "            Conv2d-4         [-1, 32, 128, 128]             288\n",
      "       BatchNorm2d-5         [-1, 32, 128, 128]              64\n",
      "             ReLU6-6         [-1, 32, 128, 128]               0\n",
      "            Conv2d-7         [-1, 16, 128, 128]             512\n",
      "       BatchNorm2d-8         [-1, 16, 128, 128]              32\n",
      "  InvertedResidual-9         [-1, 16, 128, 128]               0\n",
      "           Conv2d-10         [-1, 96, 128, 128]           1,536\n",
      "      BatchNorm2d-11         [-1, 96, 128, 128]             192\n",
      "            ReLU6-12         [-1, 96, 128, 128]               0\n",
      "           Conv2d-13           [-1, 96, 64, 64]             864\n",
      "      BatchNorm2d-14           [-1, 96, 64, 64]             192\n",
      "            ReLU6-15           [-1, 96, 64, 64]               0\n",
      "           Conv2d-16           [-1, 24, 64, 64]           2,304\n",
      "      BatchNorm2d-17           [-1, 24, 64, 64]              48\n",
      " InvertedResidual-18           [-1, 24, 64, 64]               0\n",
      "           Conv2d-19          [-1, 144, 64, 64]           3,456\n",
      "      BatchNorm2d-20          [-1, 144, 64, 64]             288\n",
      "            ReLU6-21          [-1, 144, 64, 64]               0\n",
      "           Conv2d-22          [-1, 144, 64, 64]           1,296\n",
      "      BatchNorm2d-23          [-1, 144, 64, 64]             288\n",
      "            ReLU6-24          [-1, 144, 64, 64]               0\n",
      "           Conv2d-25           [-1, 24, 64, 64]           3,456\n",
      "      BatchNorm2d-26           [-1, 24, 64, 64]              48\n",
      " InvertedResidual-27           [-1, 24, 64, 64]               0\n",
      "           Conv2d-28          [-1, 144, 64, 64]           3,456\n",
      "      BatchNorm2d-29          [-1, 144, 64, 64]             288\n",
      "            ReLU6-30          [-1, 144, 64, 64]               0\n",
      "           Conv2d-31          [-1, 144, 32, 32]           1,296\n",
      "      BatchNorm2d-32          [-1, 144, 32, 32]             288\n",
      "            ReLU6-33          [-1, 144, 32, 32]               0\n",
      "           Conv2d-34           [-1, 32, 32, 32]           4,608\n",
      "      BatchNorm2d-35           [-1, 32, 32, 32]              64\n",
      " InvertedResidual-36           [-1, 32, 32, 32]               0\n",
      "           Conv2d-37          [-1, 192, 32, 32]           6,144\n",
      "      BatchNorm2d-38          [-1, 192, 32, 32]             384\n",
      "            ReLU6-39          [-1, 192, 32, 32]               0\n",
      "           Conv2d-40          [-1, 192, 32, 32]           1,728\n",
      "      BatchNorm2d-41          [-1, 192, 32, 32]             384\n",
      "            ReLU6-42          [-1, 192, 32, 32]               0\n",
      "           Conv2d-43           [-1, 32, 32, 32]           6,144\n",
      "      BatchNorm2d-44           [-1, 32, 32, 32]              64\n",
      " InvertedResidual-45           [-1, 32, 32, 32]               0\n",
      "           Conv2d-46          [-1, 192, 32, 32]           6,144\n",
      "      BatchNorm2d-47          [-1, 192, 32, 32]             384\n",
      "            ReLU6-48          [-1, 192, 32, 32]               0\n",
      "           Conv2d-49          [-1, 192, 32, 32]           1,728\n",
      "      BatchNorm2d-50          [-1, 192, 32, 32]             384\n",
      "            ReLU6-51          [-1, 192, 32, 32]               0\n",
      "           Conv2d-52           [-1, 32, 32, 32]           6,144\n",
      "      BatchNorm2d-53           [-1, 32, 32, 32]              64\n",
      " InvertedResidual-54           [-1, 32, 32, 32]               0\n",
      "           Conv2d-55          [-1, 192, 32, 32]           6,144\n",
      "      BatchNorm2d-56          [-1, 192, 32, 32]             384\n",
      "            ReLU6-57          [-1, 192, 32, 32]               0\n",
      "           Conv2d-58          [-1, 192, 16, 16]           1,728\n",
      "      BatchNorm2d-59          [-1, 192, 16, 16]             384\n",
      "            ReLU6-60          [-1, 192, 16, 16]               0\n",
      "           Conv2d-61           [-1, 64, 16, 16]          12,288\n",
      "      BatchNorm2d-62           [-1, 64, 16, 16]             128\n",
      " InvertedResidual-63           [-1, 64, 16, 16]               0\n",
      "           Conv2d-64          [-1, 384, 16, 16]          24,576\n",
      "      BatchNorm2d-65          [-1, 384, 16, 16]             768\n",
      "            ReLU6-66          [-1, 384, 16, 16]               0\n",
      "           Conv2d-67          [-1, 384, 16, 16]           3,456\n",
      "      BatchNorm2d-68          [-1, 384, 16, 16]             768\n",
      "            ReLU6-69          [-1, 384, 16, 16]               0\n",
      "           Conv2d-70           [-1, 64, 16, 16]          24,576\n",
      "      BatchNorm2d-71           [-1, 64, 16, 16]             128\n",
      " InvertedResidual-72           [-1, 64, 16, 16]               0\n",
      "           Conv2d-73          [-1, 384, 16, 16]          24,576\n",
      "      BatchNorm2d-74          [-1, 384, 16, 16]             768\n",
      "            ReLU6-75          [-1, 384, 16, 16]               0\n",
      "           Conv2d-76          [-1, 384, 16, 16]           3,456\n",
      "      BatchNorm2d-77          [-1, 384, 16, 16]             768\n",
      "            ReLU6-78          [-1, 384, 16, 16]               0\n",
      "           Conv2d-79           [-1, 64, 16, 16]          24,576\n",
      "      BatchNorm2d-80           [-1, 64, 16, 16]             128\n",
      " InvertedResidual-81           [-1, 64, 16, 16]               0\n",
      "           Conv2d-82          [-1, 384, 16, 16]          24,576\n",
      "      BatchNorm2d-83          [-1, 384, 16, 16]             768\n",
      "            ReLU6-84          [-1, 384, 16, 16]               0\n",
      "           Conv2d-85          [-1, 384, 16, 16]           3,456\n",
      "      BatchNorm2d-86          [-1, 384, 16, 16]             768\n",
      "            ReLU6-87          [-1, 384, 16, 16]               0\n",
      "           Conv2d-88           [-1, 64, 16, 16]          24,576\n",
      "      BatchNorm2d-89           [-1, 64, 16, 16]             128\n",
      " InvertedResidual-90           [-1, 64, 16, 16]               0\n",
      "           Conv2d-91          [-1, 384, 16, 16]          24,576\n",
      "      BatchNorm2d-92          [-1, 384, 16, 16]             768\n",
      "            ReLU6-93          [-1, 384, 16, 16]               0\n",
      "           Conv2d-94          [-1, 384, 16, 16]           3,456\n",
      "      BatchNorm2d-95          [-1, 384, 16, 16]             768\n",
      "            ReLU6-96          [-1, 384, 16, 16]               0\n",
      "           Conv2d-97           [-1, 96, 16, 16]          36,864\n",
      "      BatchNorm2d-98           [-1, 96, 16, 16]             192\n",
      " InvertedResidual-99           [-1, 96, 16, 16]               0\n",
      "          Conv2d-100          [-1, 576, 16, 16]          55,296\n",
      "     BatchNorm2d-101          [-1, 576, 16, 16]           1,152\n",
      "           ReLU6-102          [-1, 576, 16, 16]               0\n",
      "          Conv2d-103          [-1, 576, 16, 16]           5,184\n",
      "     BatchNorm2d-104          [-1, 576, 16, 16]           1,152\n",
      "           ReLU6-105          [-1, 576, 16, 16]               0\n",
      "          Conv2d-106           [-1, 96, 16, 16]          55,296\n",
      "     BatchNorm2d-107           [-1, 96, 16, 16]             192\n",
      "InvertedResidual-108           [-1, 96, 16, 16]               0\n",
      "          Conv2d-109          [-1, 576, 16, 16]          55,296\n",
      "     BatchNorm2d-110          [-1, 576, 16, 16]           1,152\n",
      "           ReLU6-111          [-1, 576, 16, 16]               0\n",
      "          Conv2d-112          [-1, 576, 16, 16]           5,184\n",
      "     BatchNorm2d-113          [-1, 576, 16, 16]           1,152\n",
      "           ReLU6-114          [-1, 576, 16, 16]               0\n",
      "          Conv2d-115           [-1, 96, 16, 16]          55,296\n",
      "     BatchNorm2d-116           [-1, 96, 16, 16]             192\n",
      "InvertedResidual-117           [-1, 96, 16, 16]               0\n",
      "          Conv2d-118          [-1, 576, 16, 16]          55,296\n",
      "     BatchNorm2d-119          [-1, 576, 16, 16]           1,152\n",
      "           ReLU6-120          [-1, 576, 16, 16]               0\n",
      "          Conv2d-121            [-1, 576, 8, 8]           5,184\n",
      "     BatchNorm2d-122            [-1, 576, 8, 8]           1,152\n",
      "           ReLU6-123            [-1, 576, 8, 8]               0\n",
      "          Conv2d-124            [-1, 160, 8, 8]          92,160\n",
      "     BatchNorm2d-125            [-1, 160, 8, 8]             320\n",
      "InvertedResidual-126            [-1, 160, 8, 8]               0\n",
      "          Conv2d-127            [-1, 960, 8, 8]         153,600\n",
      "     BatchNorm2d-128            [-1, 960, 8, 8]           1,920\n",
      "           ReLU6-129            [-1, 960, 8, 8]               0\n",
      "          Conv2d-130            [-1, 960, 8, 8]           8,640\n",
      "     BatchNorm2d-131            [-1, 960, 8, 8]           1,920\n",
      "           ReLU6-132            [-1, 960, 8, 8]               0\n",
      "          Conv2d-133            [-1, 160, 8, 8]         153,600\n",
      "     BatchNorm2d-134            [-1, 160, 8, 8]             320\n",
      "InvertedResidual-135            [-1, 160, 8, 8]               0\n",
      "          Conv2d-136            [-1, 960, 8, 8]         153,600\n",
      "     BatchNorm2d-137            [-1, 960, 8, 8]           1,920\n",
      "           ReLU6-138            [-1, 960, 8, 8]               0\n",
      "          Conv2d-139            [-1, 960, 8, 8]           8,640\n",
      "     BatchNorm2d-140            [-1, 960, 8, 8]           1,920\n",
      "           ReLU6-141            [-1, 960, 8, 8]               0\n",
      "          Conv2d-142            [-1, 160, 8, 8]         153,600\n",
      "     BatchNorm2d-143            [-1, 160, 8, 8]             320\n",
      "InvertedResidual-144            [-1, 160, 8, 8]               0\n",
      "          Conv2d-145            [-1, 960, 8, 8]         153,600\n",
      "     BatchNorm2d-146            [-1, 960, 8, 8]           1,920\n",
      "           ReLU6-147            [-1, 960, 8, 8]               0\n",
      "          Conv2d-148            [-1, 960, 8, 8]           8,640\n",
      "     BatchNorm2d-149            [-1, 960, 8, 8]           1,920\n",
      "           ReLU6-150            [-1, 960, 8, 8]               0\n",
      "          Conv2d-151            [-1, 320, 8, 8]         307,200\n",
      "     BatchNorm2d-152            [-1, 320, 8, 8]             640\n",
      "InvertedResidual-153            [-1, 320, 8, 8]               0\n",
      "          Conv2d-154           [-1, 1280, 8, 8]         409,600\n",
      "     BatchNorm2d-155           [-1, 1280, 8, 8]           2,560\n",
      "           ReLU6-156           [-1, 1280, 8, 8]               0\n",
      "         Dropout-157                 [-1, 1280]               0\n",
      "          Linear-158                 [-1, 1000]       1,281,000\n",
      "================================================================\n",
      "Total params: 3,504,872\n",
      "Trainable params: 3,504,872\n",
      "Non-trainable params: 0\n",
      "----------------------------------------------------------------\n",
      "Input size (MB): 0.75\n",
      "Forward/backward pass size (MB): 199.66\n",
      "Params size (MB): 13.37\n",
      "Estimated Total Size (MB): 213.78\n",
      "----------------------------------------------------------------\n"
     ]
    }
   ],
   "source": [
    "summary(model, input_size=(3, 256, 256))"
   ],
   "metadata": {
    "collapsed": false,
    "ExecuteTime": {
     "start_time": "2023-07-10T08:43:24.955397Z",
     "end_time": "2023-07-10T08:43:25.378382Z"
    }
   }
  },
  {
   "cell_type": "code",
   "execution_count": 29,
   "outputs": [],
   "source": [
    "try:\n",
    "    model.classifier[-1] = nn.Linear(model.classifier[-1].in_features, NUM_CLASSES)\n",
    "except AttributeError:\n",
    "    model.classifier = nn.Sequential(\n",
    "        nn.Dropout(p=0.2, inplace=False),\n",
    "        nn.Linear(in_features=model.fc.out_features,\n",
    "                  out_features=NUM_CLASSES, bias=True)\n",
    "    )"
   ],
   "metadata": {
    "collapsed": false,
    "ExecuteTime": {
     "start_time": "2023-07-10T14:19:46.027910Z",
     "end_time": "2023-07-10T14:19:46.052949Z"
    }
   }
  },
  {
   "cell_type": "code",
   "execution_count": 70,
   "outputs": [],
   "source": [
    "criterion = nn.CrossEntropyLoss()\n",
    "optimizer = optim.SGD(model.parameters(), lr=0.001, momentum=0.9)\n",
    "optimizer = torch.optim.Adam(model.parameters(), lr=1e-4, weight_decay = 1e-5)\n",
    "\n",
    "# exp_lr_scheduler = lr_scheduler.StepLR(optimizer_ft, step_size=7, gamma=0.1)\n",
    "\n",
    "num_epochs = 30\n",
    "device = torch.device(\"cuda\" if torch.cuda.is_available() else \"cpu\")"
   ],
   "metadata": {
    "collapsed": false,
    "ExecuteTime": {
     "start_time": "2023-07-10T08:43:25.362751Z",
     "end_time": "2023-07-10T08:43:25.378382Z"
    }
   }
  },
  {
   "cell_type": "code",
   "execution_count": 71,
   "outputs": [
    {
     "name": "stdout",
     "output_type": "stream",
     "text": [
      "Epoch 1/30 - Train Loss: 1.8813 - Val Loss: 1.7878 - Val Accuracy: 0.3500\n",
      "Epoch 2/30 - Train Loss: 1.3635 - Val Loss: 1.7824 - Val Accuracy: 0.4500\n",
      "Epoch 3/30 - Train Loss: 1.0689 - Val Loss: 1.7838 - Val Accuracy: 0.5500\n",
      "Epoch 4/30 - Train Loss: 0.8850 - Val Loss: 1.7814 - Val Accuracy: 0.5500\n",
      "Epoch 5/30 - Train Loss: 0.6382 - Val Loss: 1.7757 - Val Accuracy: 0.5500\n",
      "Epoch 6/30 - Train Loss: 0.6167 - Val Loss: 1.7689 - Val Accuracy: 0.5500\n",
      "Epoch 7/30 - Train Loss: 0.4023 - Val Loss: 1.7461 - Val Accuracy: 0.6500\n",
      "Epoch 8/30 - Train Loss: 0.3299 - Val Loss: 1.7315 - Val Accuracy: 0.6500\n",
      "Epoch 9/30 - Train Loss: 0.2504 - Val Loss: 1.7150 - Val Accuracy: 0.6500\n",
      "Epoch 10/30 - Train Loss: 0.2114 - Val Loss: 1.6822 - Val Accuracy: 0.6500\n",
      "Epoch 11/30 - Train Loss: 0.1701 - Val Loss: 1.6731 - Val Accuracy: 0.6500\n",
      "Epoch 12/30 - Train Loss: 0.1159 - Val Loss: 1.6564 - Val Accuracy: 0.6500\n",
      "Epoch 13/30 - Train Loss: 0.1039 - Val Loss: 1.6526 - Val Accuracy: 0.6500\n",
      "Epoch 14/30 - Train Loss: 0.0701 - Val Loss: 1.6239 - Val Accuracy: 0.6500\n",
      "Epoch 15/30 - Train Loss: 0.0837 - Val Loss: 1.6332 - Val Accuracy: 0.6500\n",
      "Epoch 16/30 - Train Loss: 0.0509 - Val Loss: 1.6024 - Val Accuracy: 0.6500\n",
      "Epoch 17/30 - Train Loss: 0.0439 - Val Loss: 1.5717 - Val Accuracy: 0.6500\n",
      "Epoch 18/30 - Train Loss: 0.0311 - Val Loss: 1.5549 - Val Accuracy: 0.6500\n",
      "Epoch 19/30 - Train Loss: 0.0345 - Val Loss: 1.5407 - Val Accuracy: 0.6500\n",
      "Epoch 20/30 - Train Loss: 0.0241 - Val Loss: 1.5350 - Val Accuracy: 0.6500\n",
      "Epoch 21/30 - Train Loss: 0.0175 - Val Loss: 1.5462 - Val Accuracy: 0.6500\n",
      "Epoch 22/30 - Train Loss: 0.0269 - Val Loss: 1.5495 - Val Accuracy: 0.6000\n"
     ]
    },
    {
     "name": "stderr",
     "output_type": "stream",
     "text": [
      "\n",
      "KeyboardInterrupt\n",
      "\n"
     ]
    }
   ],
   "source": [
    "model = train_model(model=model,\n",
    "                       train_loader=train_dataloader,\n",
    "                       val_loader=val_dataloader,\n",
    "                       criterion=criterion,\n",
    "                       optimizer=optimizer,\n",
    "                       num_epochs=num_epochs)"
   ],
   "metadata": {
    "collapsed": false,
    "ExecuteTime": {
     "start_time": "2023-07-10T08:33:58.910677Z",
     "end_time": "2023-07-10T08:35:30.255663Z"
    }
   }
  },
  {
   "cell_type": "code",
   "execution_count": null,
   "outputs": [],
   "source": [
    "def save_model(model, path, entire_model=False):\n",
    "    if entire_model:\n",
    "        torch.save(model, path)\n",
    "    else:\n",
    "        torch.save(model.state_dict(), path)"
   ],
   "metadata": {
    "collapsed": false,
    "ExecuteTime": {
     "start_time": "2023-07-10T08:43:10.148391Z",
     "end_time": "2023-07-10T08:43:10.179664Z"
    }
   }
  },
  {
   "cell_type": "code",
   "execution_count": 22,
   "outputs": [],
   "source": [
    "model_path = '../model.pth'"
   ],
   "metadata": {
    "collapsed": false,
    "ExecuteTime": {
     "start_time": "2023-07-10T14:18:43.154626Z",
     "end_time": "2023-07-10T14:18:43.170273Z"
    }
   }
  },
  {
   "cell_type": "code",
   "execution_count": null,
   "outputs": [],
   "source": [
    "save_model(model, path=model_path, entire_model=True)"
   ],
   "metadata": {
    "collapsed": false,
    "ExecuteTime": {
     "start_time": "2023-07-10T08:43:11.043537Z",
     "end_time": "2023-07-10T08:43:11.123411Z"
    }
   }
  },
  {
   "cell_type": "code",
   "execution_count": 23,
   "outputs": [
    {
     "data": {
      "text/plain": "MobileNetV2(\n  (features): Sequential(\n    (0): Conv2dNormActivation(\n      (0): Conv2d(3, 32, kernel_size=(3, 3), stride=(2, 2), padding=(1, 1), bias=False)\n      (1): BatchNorm2d(32, eps=1e-05, momentum=0.1, affine=True, track_running_stats=True)\n      (2): ReLU6(inplace=True)\n    )\n    (1): InvertedResidual(\n      (conv): Sequential(\n        (0): Conv2dNormActivation(\n          (0): Conv2d(32, 32, kernel_size=(3, 3), stride=(1, 1), padding=(1, 1), groups=32, bias=False)\n          (1): BatchNorm2d(32, eps=1e-05, momentum=0.1, affine=True, track_running_stats=True)\n          (2): ReLU6(inplace=True)\n        )\n        (1): Conv2d(32, 16, kernel_size=(1, 1), stride=(1, 1), bias=False)\n        (2): BatchNorm2d(16, eps=1e-05, momentum=0.1, affine=True, track_running_stats=True)\n      )\n    )\n    (2): InvertedResidual(\n      (conv): Sequential(\n        (0): Conv2dNormActivation(\n          (0): Conv2d(16, 96, kernel_size=(1, 1), stride=(1, 1), bias=False)\n          (1): BatchNorm2d(96, eps=1e-05, momentum=0.1, affine=True, track_running_stats=True)\n          (2): ReLU6(inplace=True)\n        )\n        (1): Conv2dNormActivation(\n          (0): Conv2d(96, 96, kernel_size=(3, 3), stride=(2, 2), padding=(1, 1), groups=96, bias=False)\n          (1): BatchNorm2d(96, eps=1e-05, momentum=0.1, affine=True, track_running_stats=True)\n          (2): ReLU6(inplace=True)\n        )\n        (2): Conv2d(96, 24, kernel_size=(1, 1), stride=(1, 1), bias=False)\n        (3): BatchNorm2d(24, eps=1e-05, momentum=0.1, affine=True, track_running_stats=True)\n      )\n    )\n    (3): InvertedResidual(\n      (conv): Sequential(\n        (0): Conv2dNormActivation(\n          (0): Conv2d(24, 144, kernel_size=(1, 1), stride=(1, 1), bias=False)\n          (1): BatchNorm2d(144, eps=1e-05, momentum=0.1, affine=True, track_running_stats=True)\n          (2): ReLU6(inplace=True)\n        )\n        (1): Conv2dNormActivation(\n          (0): Conv2d(144, 144, kernel_size=(3, 3), stride=(1, 1), padding=(1, 1), groups=144, bias=False)\n          (1): BatchNorm2d(144, eps=1e-05, momentum=0.1, affine=True, track_running_stats=True)\n          (2): ReLU6(inplace=True)\n        )\n        (2): Conv2d(144, 24, kernel_size=(1, 1), stride=(1, 1), bias=False)\n        (3): BatchNorm2d(24, eps=1e-05, momentum=0.1, affine=True, track_running_stats=True)\n      )\n    )\n    (4): InvertedResidual(\n      (conv): Sequential(\n        (0): Conv2dNormActivation(\n          (0): Conv2d(24, 144, kernel_size=(1, 1), stride=(1, 1), bias=False)\n          (1): BatchNorm2d(144, eps=1e-05, momentum=0.1, affine=True, track_running_stats=True)\n          (2): ReLU6(inplace=True)\n        )\n        (1): Conv2dNormActivation(\n          (0): Conv2d(144, 144, kernel_size=(3, 3), stride=(2, 2), padding=(1, 1), groups=144, bias=False)\n          (1): BatchNorm2d(144, eps=1e-05, momentum=0.1, affine=True, track_running_stats=True)\n          (2): ReLU6(inplace=True)\n        )\n        (2): Conv2d(144, 32, kernel_size=(1, 1), stride=(1, 1), bias=False)\n        (3): BatchNorm2d(32, eps=1e-05, momentum=0.1, affine=True, track_running_stats=True)\n      )\n    )\n    (5): InvertedResidual(\n      (conv): Sequential(\n        (0): Conv2dNormActivation(\n          (0): Conv2d(32, 192, kernel_size=(1, 1), stride=(1, 1), bias=False)\n          (1): BatchNorm2d(192, eps=1e-05, momentum=0.1, affine=True, track_running_stats=True)\n          (2): ReLU6(inplace=True)\n        )\n        (1): Conv2dNormActivation(\n          (0): Conv2d(192, 192, kernel_size=(3, 3), stride=(1, 1), padding=(1, 1), groups=192, bias=False)\n          (1): BatchNorm2d(192, eps=1e-05, momentum=0.1, affine=True, track_running_stats=True)\n          (2): ReLU6(inplace=True)\n        )\n        (2): Conv2d(192, 32, kernel_size=(1, 1), stride=(1, 1), bias=False)\n        (3): BatchNorm2d(32, eps=1e-05, momentum=0.1, affine=True, track_running_stats=True)\n      )\n    )\n    (6): InvertedResidual(\n      (conv): Sequential(\n        (0): Conv2dNormActivation(\n          (0): Conv2d(32, 192, kernel_size=(1, 1), stride=(1, 1), bias=False)\n          (1): BatchNorm2d(192, eps=1e-05, momentum=0.1, affine=True, track_running_stats=True)\n          (2): ReLU6(inplace=True)\n        )\n        (1): Conv2dNormActivation(\n          (0): Conv2d(192, 192, kernel_size=(3, 3), stride=(1, 1), padding=(1, 1), groups=192, bias=False)\n          (1): BatchNorm2d(192, eps=1e-05, momentum=0.1, affine=True, track_running_stats=True)\n          (2): ReLU6(inplace=True)\n        )\n        (2): Conv2d(192, 32, kernel_size=(1, 1), stride=(1, 1), bias=False)\n        (3): BatchNorm2d(32, eps=1e-05, momentum=0.1, affine=True, track_running_stats=True)\n      )\n    )\n    (7): InvertedResidual(\n      (conv): Sequential(\n        (0): Conv2dNormActivation(\n          (0): Conv2d(32, 192, kernel_size=(1, 1), stride=(1, 1), bias=False)\n          (1): BatchNorm2d(192, eps=1e-05, momentum=0.1, affine=True, track_running_stats=True)\n          (2): ReLU6(inplace=True)\n        )\n        (1): Conv2dNormActivation(\n          (0): Conv2d(192, 192, kernel_size=(3, 3), stride=(2, 2), padding=(1, 1), groups=192, bias=False)\n          (1): BatchNorm2d(192, eps=1e-05, momentum=0.1, affine=True, track_running_stats=True)\n          (2): ReLU6(inplace=True)\n        )\n        (2): Conv2d(192, 64, kernel_size=(1, 1), stride=(1, 1), bias=False)\n        (3): BatchNorm2d(64, eps=1e-05, momentum=0.1, affine=True, track_running_stats=True)\n      )\n    )\n    (8): InvertedResidual(\n      (conv): Sequential(\n        (0): Conv2dNormActivation(\n          (0): Conv2d(64, 384, kernel_size=(1, 1), stride=(1, 1), bias=False)\n          (1): BatchNorm2d(384, eps=1e-05, momentum=0.1, affine=True, track_running_stats=True)\n          (2): ReLU6(inplace=True)\n        )\n        (1): Conv2dNormActivation(\n          (0): Conv2d(384, 384, kernel_size=(3, 3), stride=(1, 1), padding=(1, 1), groups=384, bias=False)\n          (1): BatchNorm2d(384, eps=1e-05, momentum=0.1, affine=True, track_running_stats=True)\n          (2): ReLU6(inplace=True)\n        )\n        (2): Conv2d(384, 64, kernel_size=(1, 1), stride=(1, 1), bias=False)\n        (3): BatchNorm2d(64, eps=1e-05, momentum=0.1, affine=True, track_running_stats=True)\n      )\n    )\n    (9): InvertedResidual(\n      (conv): Sequential(\n        (0): Conv2dNormActivation(\n          (0): Conv2d(64, 384, kernel_size=(1, 1), stride=(1, 1), bias=False)\n          (1): BatchNorm2d(384, eps=1e-05, momentum=0.1, affine=True, track_running_stats=True)\n          (2): ReLU6(inplace=True)\n        )\n        (1): Conv2dNormActivation(\n          (0): Conv2d(384, 384, kernel_size=(3, 3), stride=(1, 1), padding=(1, 1), groups=384, bias=False)\n          (1): BatchNorm2d(384, eps=1e-05, momentum=0.1, affine=True, track_running_stats=True)\n          (2): ReLU6(inplace=True)\n        )\n        (2): Conv2d(384, 64, kernel_size=(1, 1), stride=(1, 1), bias=False)\n        (3): BatchNorm2d(64, eps=1e-05, momentum=0.1, affine=True, track_running_stats=True)\n      )\n    )\n    (10): InvertedResidual(\n      (conv): Sequential(\n        (0): Conv2dNormActivation(\n          (0): Conv2d(64, 384, kernel_size=(1, 1), stride=(1, 1), bias=False)\n          (1): BatchNorm2d(384, eps=1e-05, momentum=0.1, affine=True, track_running_stats=True)\n          (2): ReLU6(inplace=True)\n        )\n        (1): Conv2dNormActivation(\n          (0): Conv2d(384, 384, kernel_size=(3, 3), stride=(1, 1), padding=(1, 1), groups=384, bias=False)\n          (1): BatchNorm2d(384, eps=1e-05, momentum=0.1, affine=True, track_running_stats=True)\n          (2): ReLU6(inplace=True)\n        )\n        (2): Conv2d(384, 64, kernel_size=(1, 1), stride=(1, 1), bias=False)\n        (3): BatchNorm2d(64, eps=1e-05, momentum=0.1, affine=True, track_running_stats=True)\n      )\n    )\n    (11): InvertedResidual(\n      (conv): Sequential(\n        (0): Conv2dNormActivation(\n          (0): Conv2d(64, 384, kernel_size=(1, 1), stride=(1, 1), bias=False)\n          (1): BatchNorm2d(384, eps=1e-05, momentum=0.1, affine=True, track_running_stats=True)\n          (2): ReLU6(inplace=True)\n        )\n        (1): Conv2dNormActivation(\n          (0): Conv2d(384, 384, kernel_size=(3, 3), stride=(1, 1), padding=(1, 1), groups=384, bias=False)\n          (1): BatchNorm2d(384, eps=1e-05, momentum=0.1, affine=True, track_running_stats=True)\n          (2): ReLU6(inplace=True)\n        )\n        (2): Conv2d(384, 96, kernel_size=(1, 1), stride=(1, 1), bias=False)\n        (3): BatchNorm2d(96, eps=1e-05, momentum=0.1, affine=True, track_running_stats=True)\n      )\n    )\n    (12): InvertedResidual(\n      (conv): Sequential(\n        (0): Conv2dNormActivation(\n          (0): Conv2d(96, 576, kernel_size=(1, 1), stride=(1, 1), bias=False)\n          (1): BatchNorm2d(576, eps=1e-05, momentum=0.1, affine=True, track_running_stats=True)\n          (2): ReLU6(inplace=True)\n        )\n        (1): Conv2dNormActivation(\n          (0): Conv2d(576, 576, kernel_size=(3, 3), stride=(1, 1), padding=(1, 1), groups=576, bias=False)\n          (1): BatchNorm2d(576, eps=1e-05, momentum=0.1, affine=True, track_running_stats=True)\n          (2): ReLU6(inplace=True)\n        )\n        (2): Conv2d(576, 96, kernel_size=(1, 1), stride=(1, 1), bias=False)\n        (3): BatchNorm2d(96, eps=1e-05, momentum=0.1, affine=True, track_running_stats=True)\n      )\n    )\n    (13): InvertedResidual(\n      (conv): Sequential(\n        (0): Conv2dNormActivation(\n          (0): Conv2d(96, 576, kernel_size=(1, 1), stride=(1, 1), bias=False)\n          (1): BatchNorm2d(576, eps=1e-05, momentum=0.1, affine=True, track_running_stats=True)\n          (2): ReLU6(inplace=True)\n        )\n        (1): Conv2dNormActivation(\n          (0): Conv2d(576, 576, kernel_size=(3, 3), stride=(1, 1), padding=(1, 1), groups=576, bias=False)\n          (1): BatchNorm2d(576, eps=1e-05, momentum=0.1, affine=True, track_running_stats=True)\n          (2): ReLU6(inplace=True)\n        )\n        (2): Conv2d(576, 96, kernel_size=(1, 1), stride=(1, 1), bias=False)\n        (3): BatchNorm2d(96, eps=1e-05, momentum=0.1, affine=True, track_running_stats=True)\n      )\n    )\n    (14): InvertedResidual(\n      (conv): Sequential(\n        (0): Conv2dNormActivation(\n          (0): Conv2d(96, 576, kernel_size=(1, 1), stride=(1, 1), bias=False)\n          (1): BatchNorm2d(576, eps=1e-05, momentum=0.1, affine=True, track_running_stats=True)\n          (2): ReLU6(inplace=True)\n        )\n        (1): Conv2dNormActivation(\n          (0): Conv2d(576, 576, kernel_size=(3, 3), stride=(2, 2), padding=(1, 1), groups=576, bias=False)\n          (1): BatchNorm2d(576, eps=1e-05, momentum=0.1, affine=True, track_running_stats=True)\n          (2): ReLU6(inplace=True)\n        )\n        (2): Conv2d(576, 160, kernel_size=(1, 1), stride=(1, 1), bias=False)\n        (3): BatchNorm2d(160, eps=1e-05, momentum=0.1, affine=True, track_running_stats=True)\n      )\n    )\n    (15): InvertedResidual(\n      (conv): Sequential(\n        (0): Conv2dNormActivation(\n          (0): Conv2d(160, 960, kernel_size=(1, 1), stride=(1, 1), bias=False)\n          (1): BatchNorm2d(960, eps=1e-05, momentum=0.1, affine=True, track_running_stats=True)\n          (2): ReLU6(inplace=True)\n        )\n        (1): Conv2dNormActivation(\n          (0): Conv2d(960, 960, kernel_size=(3, 3), stride=(1, 1), padding=(1, 1), groups=960, bias=False)\n          (1): BatchNorm2d(960, eps=1e-05, momentum=0.1, affine=True, track_running_stats=True)\n          (2): ReLU6(inplace=True)\n        )\n        (2): Conv2d(960, 160, kernel_size=(1, 1), stride=(1, 1), bias=False)\n        (3): BatchNorm2d(160, eps=1e-05, momentum=0.1, affine=True, track_running_stats=True)\n      )\n    )\n    (16): InvertedResidual(\n      (conv): Sequential(\n        (0): Conv2dNormActivation(\n          (0): Conv2d(160, 960, kernel_size=(1, 1), stride=(1, 1), bias=False)\n          (1): BatchNorm2d(960, eps=1e-05, momentum=0.1, affine=True, track_running_stats=True)\n          (2): ReLU6(inplace=True)\n        )\n        (1): Conv2dNormActivation(\n          (0): Conv2d(960, 960, kernel_size=(3, 3), stride=(1, 1), padding=(1, 1), groups=960, bias=False)\n          (1): BatchNorm2d(960, eps=1e-05, momentum=0.1, affine=True, track_running_stats=True)\n          (2): ReLU6(inplace=True)\n        )\n        (2): Conv2d(960, 160, kernel_size=(1, 1), stride=(1, 1), bias=False)\n        (3): BatchNorm2d(160, eps=1e-05, momentum=0.1, affine=True, track_running_stats=True)\n      )\n    )\n    (17): InvertedResidual(\n      (conv): Sequential(\n        (0): Conv2dNormActivation(\n          (0): Conv2d(160, 960, kernel_size=(1, 1), stride=(1, 1), bias=False)\n          (1): BatchNorm2d(960, eps=1e-05, momentum=0.1, affine=True, track_running_stats=True)\n          (2): ReLU6(inplace=True)\n        )\n        (1): Conv2dNormActivation(\n          (0): Conv2d(960, 960, kernel_size=(3, 3), stride=(1, 1), padding=(1, 1), groups=960, bias=False)\n          (1): BatchNorm2d(960, eps=1e-05, momentum=0.1, affine=True, track_running_stats=True)\n          (2): ReLU6(inplace=True)\n        )\n        (2): Conv2d(960, 320, kernel_size=(1, 1), stride=(1, 1), bias=False)\n        (3): BatchNorm2d(320, eps=1e-05, momentum=0.1, affine=True, track_running_stats=True)\n      )\n    )\n    (18): Conv2dNormActivation(\n      (0): Conv2d(320, 1280, kernel_size=(1, 1), stride=(1, 1), bias=False)\n      (1): BatchNorm2d(1280, eps=1e-05, momentum=0.1, affine=True, track_running_stats=True)\n      (2): ReLU6(inplace=True)\n    )\n  )\n  (classifier): Sequential(\n    (0): Dropout(p=0.2, inplace=False)\n    (1): Linear(in_features=1280, out_features=1000, bias=True)\n  )\n)"
     },
     "execution_count": 23,
     "metadata": {},
     "output_type": "execute_result"
    }
   ],
   "source": [
    "model = torch.load(model_path)\n",
    "model.eval()"
   ],
   "metadata": {
    "collapsed": false,
    "ExecuteTime": {
     "start_time": "2023-07-10T14:18:48.511171Z",
     "end_time": "2023-07-10T14:18:48.606199Z"
    }
   }
  },
  {
   "cell_type": "code",
   "execution_count": 31,
   "outputs": [
    {
     "name": "stdout",
     "output_type": "stream",
     "text": [
      "tensor(5)\n"
     ]
    }
   ],
   "source": [
    "with torch.no_grad():\n",
    "    print(np.argmax(model.forward(torch.unsqueeze(test_dataset[16][0], dim=0))))"
   ],
   "metadata": {
    "collapsed": false,
    "ExecuteTime": {
     "start_time": "2023-07-10T14:20:02.430720Z",
     "end_time": "2023-07-10T14:20:02.529959Z"
    }
   }
  },
  {
   "cell_type": "code",
   "execution_count": 43,
   "outputs": [
    {
     "data": {
      "text/plain": "array([5, 5, 0, 5, 0, 5, 5, 5, 5, 5, 5, 0, 0, 0, 5, 0, 5, 5, 5, 0],\n      dtype=int64)"
     },
     "execution_count": 43,
     "metadata": {},
     "output_type": "execute_result"
    }
   ],
   "source": [
    "with torch.no_grad():\n",
    "    for images, _ in test_dataloader:\n",
    "        output = np.argmax(np.array(model.forward(images)), axis=1)\n",
    "output"
   ],
   "metadata": {
    "collapsed": false,
    "ExecuteTime": {
     "start_time": "2023-07-10T14:23:58.938384Z",
     "end_time": "2023-07-10T14:24:01.323537Z"
    }
   }
  },
  {
   "cell_type": "code",
   "execution_count": null,
   "outputs": [],
   "source": [],
   "metadata": {
    "collapsed": false
   }
  },
  {
   "cell_type": "code",
   "execution_count": null,
   "outputs": [],
   "source": [],
   "metadata": {
    "collapsed": false
   }
  }
 ],
 "metadata": {
  "kernelspec": {
   "name": "yolo_torch",
   "language": "python",
   "display_name": "yolo_torch"
  },
  "language_info": {
   "codemirror_mode": {
    "name": "ipython",
    "version": 2
   },
   "file_extension": ".py",
   "mimetype": "text/x-python",
   "name": "python",
   "nbconvert_exporter": "python",
   "pygments_lexer": "ipython2",
   "version": "2.7.6"
  }
 },
 "nbformat": 4,
 "nbformat_minor": 0
}
