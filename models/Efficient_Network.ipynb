{
 "cells": [
  {
   "cell_type": "markdown",
   "id": "2368ae14",
   "metadata": {
    "id": "DRrvM2BPUG3T",
    "papermill": {
     "duration": 0.023995,
     "end_time": "2023-08-09T05:42:01.588465",
     "exception": false,
     "start_time": "2023-08-09T05:42:01.564470",
     "status": "completed"
    },
    "tags": []
   },
   "source": [
    "# 1. Set up"
   ]
  },
  {
   "cell_type": "markdown",
   "id": "e6fcbf8f",
   "metadata": {
    "id": "G-cGfk5CTFDT",
    "papermill": {
     "duration": 0.023018,
     "end_time": "2023-08-09T05:42:01.634733",
     "exception": false,
     "start_time": "2023-08-09T05:42:01.611715",
     "status": "completed"
    },
    "tags": []
   },
   "source": [
    "## 1. Packages and requirements"
   ]
  },
  {
   "cell_type": "code",
   "execution_count": 1,
   "id": "7d5d3353",
   "metadata": {
    "execution": {
     "iopub.execute_input": "2023-08-09T05:42:01.684945Z",
     "iopub.status.busy": "2023-08-09T05:42:01.684408Z",
     "iopub.status.idle": "2023-08-09T05:42:01.878725Z",
     "shell.execute_reply": "2023-08-09T05:42:01.877799Z"
    },
    "id": "YJ1bPQE1TFDW",
    "papermill": {
     "duration": 0.221021,
     "end_time": "2023-08-09T05:42:01.881110",
     "exception": false,
     "start_time": "2023-08-09T05:42:01.660089",
     "status": "completed"
    },
    "tags": []
   },
   "outputs": [],
   "source": [
    "# Major builtin libraries\n",
    "import os\n",
    "import gc\n",
    "import cv2\n",
    "# import mat\n",
    "import time\n",
    "import random\n",
    "import typing as t\n",
    "from copy import deepcopy\n",
    "from collections import defaultdict"
   ]
  },
  {
   "cell_type": "code",
   "execution_count": 2,
   "id": "59eae62e",
   "metadata": {
    "execution": {
     "iopub.execute_input": "2023-08-09T05:42:01.930191Z",
     "iopub.status.busy": "2023-08-09T05:42:01.928707Z",
     "iopub.status.idle": "2023-08-09T05:42:01.933205Z",
     "shell.execute_reply": "2023-08-09T05:42:01.932375Z"
    },
    "id": "9byYPbwhTFDW",
    "outputId": "f21315f6-d034-4060-f927-1dfcc117d99b",
    "papermill": {
     "duration": 0.030507,
     "end_time": "2023-08-09T05:42:01.935155",
     "exception": false,
     "start_time": "2023-08-09T05:42:01.904648",
     "status": "completed"
    },
    "tags": []
   },
   "outputs": [],
   "source": [
    "# To work with Google Collab\n",
    "# from google.colab import drive\n",
    "# drive.mount('/content/drive/', force_remount=True)"
   ]
  },
  {
   "cell_type": "code",
   "execution_count": 3,
   "id": "e954455d",
   "metadata": {
    "execution": {
     "iopub.execute_input": "2023-08-09T05:42:01.983317Z",
     "iopub.status.busy": "2023-08-09T05:42:01.981774Z",
     "iopub.status.idle": "2023-08-09T05:42:01.987179Z",
     "shell.execute_reply": "2023-08-09T05:42:01.986246Z"
    },
    "id": "BwyVeWsUTFDX",
    "papermill": {
     "duration": 0.031265,
     "end_time": "2023-08-09T05:42:01.989281",
     "exception": false,
     "start_time": "2023-08-09T05:42:01.958016",
     "status": "completed"
    },
    "tags": []
   },
   "outputs": [],
   "source": [
    "import warnings  # If you want to disable warnings\n",
    "warnings.filterwarnings(\"ignore\")\n",
    "\n",
    "# For descriptive error messages\n",
    "os.environ['CUDA_LAUNCH_BLOCKING'] = \"1\""
   ]
  },
  {
   "cell_type": "code",
   "execution_count": 4,
   "id": "80460f2b",
   "metadata": {
    "execution": {
     "iopub.execute_input": "2023-08-09T05:42:02.036601Z",
     "iopub.status.busy": "2023-08-09T05:42:02.035853Z",
     "iopub.status.idle": "2023-08-09T05:42:02.040400Z",
     "shell.execute_reply": "2023-08-09T05:42:02.039620Z"
    },
    "id": "AGRBRJORTFDX",
    "papermill": {
     "duration": 0.02993,
     "end_time": "2023-08-09T05:42:02.042321",
     "exception": false,
     "start_time": "2023-08-09T05:42:02.012391",
     "status": "completed"
    },
    "tags": []
   },
   "outputs": [],
   "source": [
    "# Classic packages for data manipulation and visualization\n",
    "import numpy as np\n",
    "import pandas as pd\n",
    "import matplotlib.pyplot as plt"
   ]
  },
  {
   "cell_type": "code",
   "execution_count": 5,
   "id": "336c1fa5",
   "metadata": {
    "execution": {
     "iopub.execute_input": "2023-08-09T05:42:02.090315Z",
     "iopub.status.busy": "2023-08-09T05:42:02.088974Z",
     "iopub.status.idle": "2023-08-09T05:42:05.474923Z",
     "shell.execute_reply": "2023-08-09T05:42:05.473927Z"
    },
    "id": "FXSN-XzxTFDX",
    "papermill": {
     "duration": 3.412115,
     "end_time": "2023-08-09T05:42:05.477307",
     "exception": false,
     "start_time": "2023-08-09T05:42:02.065192",
     "status": "completed"
    },
    "tags": []
   },
   "outputs": [],
   "source": [
    "# Basic PyTorch\n",
    "import torch\n",
    "import torch.nn as nn\n",
    "import torch.optim as optim  # Optimization algorithms\n",
    "import torch.nn.functional as F\n",
    "from torch.nn.modules.loss import _Loss\n",
    "from torch.optim import lr_scheduler  # Dynamic learning rate adjusting\n",
    "from torch.utils.data import DataLoader, Dataset  # For custom data presentation\n",
    "# from torch.cuda import amp"
   ]
  },
  {
   "cell_type": "code",
   "execution_count": 6,
   "id": "82eacd68",
   "metadata": {
    "execution": {
     "iopub.execute_input": "2023-08-09T05:42:05.524766Z",
     "iopub.status.busy": "2023-08-09T05:42:05.524247Z",
     "iopub.status.idle": "2023-08-09T05:42:06.468370Z",
     "shell.execute_reply": "2023-08-09T05:42:06.467355Z"
    },
    "id": "7QjRLiOzTFDY",
    "papermill": {
     "duration": 0.970505,
     "end_time": "2023-08-09T05:42:06.470940",
     "exception": false,
     "start_time": "2023-08-09T05:42:05.500435",
     "status": "completed"
    },
    "tags": []
   },
   "outputs": [],
   "source": [
    "# Utils\n",
    "import joblib  # Pipelining and pickling (dump/load)\n",
    "from tqdm import tqdm  # Progress bar for training process\n",
    "from tempfile import TemporaryDirectory\n",
    "\n",
    "# Classic ML tools\n",
    "from sklearn.preprocessing import LabelEncoder\n",
    "from sklearn.model_selection import StratifiedKFold  # Cross-Validation"
   ]
  },
  {
   "cell_type": "code",
   "execution_count": 7,
   "id": "113642ce",
   "metadata": {
    "execution": {
     "iopub.execute_input": "2023-08-09T05:42:06.518596Z",
     "iopub.status.busy": "2023-08-09T05:42:06.517715Z",
     "iopub.status.idle": "2023-08-09T05:42:06.522245Z",
     "shell.execute_reply": "2023-08-09T05:42:06.521386Z"
    },
    "id": "-iaQkd7xUuPW",
    "papermill": {
     "duration": 0.030155,
     "end_time": "2023-08-09T05:42:06.524159",
     "exception": false,
     "start_time": "2023-08-09T05:42:06.494004",
     "status": "completed"
    },
    "tags": []
   },
   "outputs": [],
   "source": [
    "# !pip install torchmetrics colorama"
   ]
  },
  {
   "cell_type": "code",
   "execution_count": 8,
   "id": "72ed701d",
   "metadata": {
    "execution": {
     "iopub.execute_input": "2023-08-09T05:42:06.570808Z",
     "iopub.status.busy": "2023-08-09T05:42:06.570517Z",
     "iopub.status.idle": "2023-08-09T05:42:17.137418Z",
     "shell.execute_reply": "2023-08-09T05:42:17.136445Z"
    },
    "id": "BuY4s3bsTFDZ",
    "papermill": {
     "duration": 10.592894,
     "end_time": "2023-08-09T05:42:17.139870",
     "exception": false,
     "start_time": "2023-08-09T05:42:06.546976",
     "status": "completed"
    },
    "tags": []
   },
   "outputs": [],
   "source": [
    "# ML Metrics\n",
    "from sklearn.metrics import accuracy_score\n",
    "from sklearn.metrics import classification_report\n",
    "from torchmetrics.classification import F1Score  # F1 metric for multiclass"
   ]
  },
  {
   "cell_type": "code",
   "execution_count": 9,
   "id": "afdf7f4a",
   "metadata": {
    "execution": {
     "iopub.execute_input": "2023-08-09T05:42:17.187851Z",
     "iopub.status.busy": "2023-08-09T05:42:17.187049Z",
     "iopub.status.idle": "2023-08-09T05:42:17.192124Z",
     "shell.execute_reply": "2023-08-09T05:42:17.191286Z"
    },
    "id": "FEKtt6X5TFDZ",
    "papermill": {
     "duration": 0.030896,
     "end_time": "2023-08-09T05:42:17.194118",
     "exception": false,
     "start_time": "2023-08-09T05:42:17.163222",
     "status": "completed"
    },
    "tags": []
   },
   "outputs": [],
   "source": [
    "# Torch Computer Vision tools for images processing\n",
    "from torchvision.io import read_image\n",
    "from torchvision.transforms.functional import to_pil_image, to_grayscale, to_tensor\n",
    "from torchvision import models  # Pretrained models"
   ]
  },
  {
   "cell_type": "code",
   "execution_count": 10,
   "id": "04b444d2",
   "metadata": {
    "execution": {
     "iopub.execute_input": "2023-08-09T05:42:17.240865Z",
     "iopub.status.busy": "2023-08-09T05:42:17.240210Z",
     "iopub.status.idle": "2023-08-09T05:42:18.129414Z",
     "shell.execute_reply": "2023-08-09T05:42:18.128446Z"
    },
    "id": "90C8yH1dTFDa",
    "papermill": {
     "duration": 0.915383,
     "end_time": "2023-08-09T05:42:18.132201",
     "exception": false,
     "start_time": "2023-08-09T05:42:17.216818",
     "status": "completed"
    },
    "tags": []
   },
   "outputs": [],
   "source": [
    "# Albumentations is an OS library for augmentations\n",
    "import albumentations as A\n",
    "from albumentations.pytorch import ToTensorV2\n",
    "# import torchvision.transforms as T  # We can use torch augmentations instead"
   ]
  },
  {
   "cell_type": "code",
   "execution_count": null,
   "id": "e12f87cb",
   "metadata": {
    "id": "4QwB35yVTFDa",
    "papermill": {
     "duration": 0.022521,
     "end_time": "2023-08-09T05:42:18.177811",
     "exception": false,
     "start_time": "2023-08-09T05:42:18.155290",
     "status": "completed"
    },
    "tags": []
   },
   "outputs": [],
   "source": []
  },
  {
   "cell_type": "code",
   "execution_count": 11,
   "id": "e7cce9c0",
   "metadata": {
    "ExecuteTime": {
     "end_time": "2023-08-07T11:30:00.498733Z",
     "start_time": "2023-08-07T11:30:00.457680Z"
    },
    "collapsed": false,
    "execution": {
     "iopub.execute_input": "2023-08-09T05:42:18.224778Z",
     "iopub.status.busy": "2023-08-09T05:42:18.223970Z",
     "iopub.status.idle": "2023-08-09T05:42:18.229441Z",
     "shell.execute_reply": "2023-08-09T05:42:18.228555Z"
    },
    "id": "pF1AWOXTTFDa",
    "jupyter": {
     "outputs_hidden": false
    },
    "papermill": {
     "duration": 0.030902,
     "end_time": "2023-08-09T05:42:18.231444",
     "exception": false,
     "start_time": "2023-08-09T05:42:18.200542",
     "status": "completed"
    },
    "tags": []
   },
   "outputs": [],
   "source": [
    "# Output text colorizing\n",
    "from colorama import Back, Style\n",
    "\n",
    "def print_highlighted(text: str, bgcolor=Back.YELLOW) -> None:\n",
    "    \"\"\"\n",
    "    Function to print a text with colored background.\n",
    "    \"\"\"\n",
    "    print(bgcolor + text + Style.RESET_ALL)"
   ]
  },
  {
   "cell_type": "code",
   "execution_count": 12,
   "id": "77adf38e",
   "metadata": {
    "ExecuteTime": {
     "end_time": "2023-08-07T11:30:01.598206Z",
     "start_time": "2023-08-07T11:30:00.467461Z"
    },
    "collapsed": false,
    "execution": {
     "iopub.execute_input": "2023-08-09T05:42:18.278352Z",
     "iopub.status.busy": "2023-08-09T05:42:18.278084Z",
     "iopub.status.idle": "2023-08-09T05:42:18.281997Z",
     "shell.execute_reply": "2023-08-09T05:42:18.281117Z"
    },
    "id": "WHnMHaX_TFDb",
    "jupyter": {
     "outputs_hidden": false
    },
    "papermill": {
     "duration": 0.029998,
     "end_time": "2023-08-09T05:42:18.283946",
     "exception": false,
     "start_time": "2023-08-09T05:42:18.253948",
     "status": "completed"
    },
    "tags": []
   },
   "outputs": [],
   "source": [
    "# import wandb # MLOps platform to simplify and speed up the process of building ML models"
   ]
  },
  {
   "cell_type": "code",
   "execution_count": 13,
   "id": "b0bec22c",
   "metadata": {
    "ExecuteTime": {
     "end_time": "2023-08-07T11:30:01.605103Z",
     "start_time": "2023-08-07T11:30:01.598206Z"
    },
    "collapsed": false,
    "execution": {
     "iopub.execute_input": "2023-08-09T05:42:18.330521Z",
     "iopub.status.busy": "2023-08-09T05:42:18.329787Z",
     "iopub.status.idle": "2023-08-09T05:42:18.333926Z",
     "shell.execute_reply": "2023-08-09T05:42:18.333086Z"
    },
    "id": "1zarBgpbTFDb",
    "jupyter": {
     "outputs_hidden": false
    },
    "papermill": {
     "duration": 0.029453,
     "end_time": "2023-08-09T05:42:18.335846",
     "exception": false,
     "start_time": "2023-08-09T05:42:18.306393",
     "status": "completed"
    },
    "tags": []
   },
   "outputs": [],
   "source": [
    "# wandb.login() # We log in via pop-up,\n",
    "# wandb.login(key=api_key)  # but you can also log in manually with function args"
   ]
  },
  {
   "cell_type": "markdown",
   "id": "7afd49e5",
   "metadata": {
    "id": "YuquAHEkTFDb",
    "papermill": {
     "duration": 0.022424,
     "end_time": "2023-08-09T05:42:18.381137",
     "exception": false,
     "start_time": "2023-08-09T05:42:18.358713",
     "status": "completed"
    },
    "tags": []
   },
   "source": [
    "## 2. Configuration"
   ]
  },
  {
   "cell_type": "code",
   "execution_count": 14,
   "id": "38cf579d",
   "metadata": {
    "ExecuteTime": {
     "end_time": "2023-08-07T11:30:01.616556Z",
     "start_time": "2023-08-07T11:30:01.605103Z"
    },
    "execution": {
     "iopub.execute_input": "2023-08-09T05:42:18.427774Z",
     "iopub.status.busy": "2023-08-09T05:42:18.427153Z",
     "iopub.status.idle": "2023-08-09T05:42:18.432199Z",
     "shell.execute_reply": "2023-08-09T05:42:18.431336Z"
    },
    "id": "JC-SbC9zTFDb",
    "papermill": {
     "duration": 0.030241,
     "end_time": "2023-08-09T05:42:18.434098",
     "exception": false,
     "start_time": "2023-08-09T05:42:18.403857",
     "status": "completed"
    },
    "tags": []
   },
   "outputs": [],
   "source": [
    "CONFIG = {\n",
    "    \"seed\": 2306,\n",
    "    \"epochs\": 20,\n",
    "    \"image_dimension\": 256,  # Depends on pretrained model used\n",
    "    \"model_name\": \"efficientnet_b0\",  # Pretrained model we will use\n",
    "    # \"embedding_size\": 512,  # Embedding output size\n",
    "    \"train_batch_size\": 32,\n",
    "    \"val_batch_size\": 64,\n",
    "    \"learning_rate\": 1e-3,\n",
    "    \"min_lr\": 1e-8,\n",
    "    \"min_loss_delta\": 1e-5, # To stop training on plateau\n",
    "    \"weight_decay\": 1e-6,\n",
    "    \"n_folds\": 5,\n",
    "    \"n_accumulate\": 1,\n",
    "}"
   ]
  },
  {
   "cell_type": "code",
   "execution_count": 15,
   "id": "1b969c5a",
   "metadata": {
    "ExecuteTime": {
     "end_time": "2023-08-07T11:30:01.678626Z",
     "start_time": "2023-08-07T11:30:01.616556Z"
    },
    "collapsed": false,
    "execution": {
     "iopub.execute_input": "2023-08-09T05:42:18.481665Z",
     "iopub.status.busy": "2023-08-09T05:42:18.480244Z",
     "iopub.status.idle": "2023-08-09T05:42:18.485424Z",
     "shell.execute_reply": "2023-08-09T05:42:18.484576Z"
    },
    "id": "TzAQ9KIRTFDb",
    "jupyter": {
     "outputs_hidden": false
    },
    "papermill": {
     "duration": 0.030566,
     "end_time": "2023-08-09T05:42:18.487372",
     "exception": false,
     "start_time": "2023-08-09T05:42:18.456806",
     "status": "completed"
    },
    "tags": []
   },
   "outputs": [],
   "source": [
    "class Config:\n",
    "    \"\"\"\n",
    "    Class to simplify access to Config: not dict but object with attributes\n",
    "    \"\"\"\n",
    "    def __init__(self, config_dict):\n",
    "        for key, value in config_dict.items():\n",
    "            setattr(self, key, value)"
   ]
  },
  {
   "cell_type": "code",
   "execution_count": 16,
   "id": "8a280a3c",
   "metadata": {
    "ExecuteTime": {
     "end_time": "2023-08-07T11:30:01.678626Z",
     "start_time": "2023-08-07T11:30:01.624380Z"
    },
    "collapsed": false,
    "execution": {
     "iopub.execute_input": "2023-08-09T05:42:18.534079Z",
     "iopub.status.busy": "2023-08-09T05:42:18.533468Z",
     "iopub.status.idle": "2023-08-09T05:42:18.537453Z",
     "shell.execute_reply": "2023-08-09T05:42:18.536590Z"
    },
    "id": "wivQs3vJTFDb",
    "jupyter": {
     "outputs_hidden": false
    },
    "papermill": {
     "duration": 0.029681,
     "end_time": "2023-08-09T05:42:18.539461",
     "exception": false,
     "start_time": "2023-08-09T05:42:18.509780",
     "status": "completed"
    },
    "tags": []
   },
   "outputs": [],
   "source": [
    "config = Config(config_dict=CONFIG)\n",
    "del CONFIG"
   ]
  },
  {
   "cell_type": "code",
   "execution_count": 17,
   "id": "49c77a02",
   "metadata": {
    "ExecuteTime": {
     "end_time": "2023-08-07T11:30:01.678626Z",
     "start_time": "2023-08-07T11:30:01.632597Z"
    },
    "collapsed": false,
    "execution": {
     "iopub.execute_input": "2023-08-09T05:42:18.592717Z",
     "iopub.status.busy": "2023-08-09T05:42:18.591884Z",
     "iopub.status.idle": "2023-08-09T05:42:18.598702Z",
     "shell.execute_reply": "2023-08-09T05:42:18.597866Z"
    },
    "id": "ZZO47D8bTFDc",
    "jupyter": {
     "outputs_hidden": false
    },
    "outputId": "38bf95ae-905a-43be-f188-2c2c29dbb2f1",
    "papermill": {
     "duration": 0.038698,
     "end_time": "2023-08-09T05:42:18.600646",
     "exception": false,
     "start_time": "2023-08-09T05:42:18.561948",
     "status": "completed"
    },
    "tags": []
   },
   "outputs": [
    {
     "data": {
      "text/plain": [
       "2306"
      ]
     },
     "execution_count": 17,
     "metadata": {},
     "output_type": "execute_result"
    }
   ],
   "source": [
    "# Work example\n",
    "config.seed"
   ]
  },
  {
   "cell_type": "markdown",
   "id": "452e6567",
   "metadata": {
    "id": "kotMeU-OTFDc",
    "papermill": {
     "duration": 0.022492,
     "end_time": "2023-08-09T05:42:18.645893",
     "exception": false,
     "start_time": "2023-08-09T05:42:18.623401",
     "status": "completed"
    },
    "tags": []
   },
   "source": [
    "## 3. Set Seed for Reproducibility"
   ]
  },
  {
   "cell_type": "code",
   "execution_count": 18,
   "id": "803b5582",
   "metadata": {
    "ExecuteTime": {
     "end_time": "2023-08-07T11:30:01.678626Z",
     "start_time": "2023-08-07T11:30:01.646043Z"
    },
    "execution": {
     "iopub.execute_input": "2023-08-09T05:42:18.693002Z",
     "iopub.status.busy": "2023-08-09T05:42:18.692217Z",
     "iopub.status.idle": "2023-08-09T05:42:18.701933Z",
     "shell.execute_reply": "2023-08-09T05:42:18.701095Z"
    },
    "id": "RDIHP75uTFDc",
    "papermill": {
     "duration": 0.035346,
     "end_time": "2023-08-09T05:42:18.703919",
     "exception": false,
     "start_time": "2023-08-09T05:42:18.668573",
     "status": "completed"
    },
    "tags": []
   },
   "outputs": [],
   "source": [
    "def set_seed(seed=42):\n",
    "    \"\"\"\n",
    "    Sets the seed of the entire notebook so results are the same every time we run.\n",
    "    This is for REPRODUCIBILITY.\n",
    "    \"\"\"\n",
    "    np.random.seed(seed)\n",
    "    torch.manual_seed(seed)\n",
    "\n",
    "    # When running on the CuDNN backend, two further options must be set\n",
    "    torch.backends.cudnn.deterministic = True\n",
    "    torch.backends.cudnn.benchmark = True  # When False, this option makes CUDA reproducible, BUT the performance might suffer\n",
    "\n",
    "    # Set a fixed value for the hash seed\n",
    "    os.environ['PYTHONHASHSEED'] = str(seed)\n",
    "\n",
    "set_seed(seed=config.seed)"
   ]
  },
  {
   "cell_type": "markdown",
   "id": "f45e97c8",
   "metadata": {
    "id": "UoHh0H1FVHnT",
    "papermill": {
     "duration": 0.02242,
     "end_time": "2023-08-09T05:42:18.751968",
     "exception": false,
     "start_time": "2023-08-09T05:42:18.729548",
     "status": "completed"
    },
    "tags": []
   },
   "source": [
    "# 2. Data"
   ]
  },
  {
   "cell_type": "markdown",
   "id": "4c28b5dc",
   "metadata": {
    "id": "Qst3Y-s4VKTk",
    "papermill": {
     "duration": 0.035515,
     "end_time": "2023-08-09T05:42:18.819486",
     "exception": false,
     "start_time": "2023-08-09T05:42:18.783971",
     "status": "completed"
    },
    "tags": []
   },
   "source": [
    "## 1. Files location"
   ]
  },
  {
   "cell_type": "code",
   "execution_count": 19,
   "id": "5a081c11",
   "metadata": {
    "ExecuteTime": {
     "end_time": "2023-08-07T11:30:01.678626Z",
     "start_time": "2023-08-07T11:30:01.661618Z"
    },
    "execution": {
     "iopub.execute_input": "2023-08-09T05:42:18.888837Z",
     "iopub.status.busy": "2023-08-09T05:42:18.888444Z",
     "iopub.status.idle": "2023-08-09T05:42:18.894268Z",
     "shell.execute_reply": "2023-08-09T05:42:18.893293Z"
    },
    "id": "QKDBLmMrTFDd",
    "papermill": {
     "duration": 0.03929,
     "end_time": "2023-08-09T05:42:18.896341",
     "exception": false,
     "start_time": "2023-08-09T05:42:18.857051",
     "status": "completed"
    },
    "tags": []
   },
   "outputs": [],
   "source": [
    "config.repo = 'car-brands/'  # dataset name on Kaggle\n",
    "# config.repo = 'data/'  # dataset name on local device\n",
    "# config.repo = 'car_brand_detection/'  # Google Collab\n",
    "\n",
    "config.root = '/kaggle/input/' + config.repo\n",
    "# config.root = 'drive/MyDrive/' + config.repo\n",
    "# config.root = '../'\n",
    "\n",
    "\n",
    "config.data = config.root\n",
    "\n",
    "config.train_images_path  = config.data + 'images/train'\n",
    "config.test_images_path = config.data + 'images/test'\n",
    "\n",
    "config.train_labels  = config.data + 'train_labels.csv'\n",
    "config.test_labels = config.data + 'test_labels.csv'"
   ]
  },
  {
   "cell_type": "code",
   "execution_count": 20,
   "id": "e6ac7cd1",
   "metadata": {
    "ExecuteTime": {
     "end_time": "2023-08-07T11:30:01.691816Z",
     "start_time": "2023-08-07T11:30:01.669776Z"
    },
    "execution": {
     "iopub.execute_input": "2023-08-09T05:42:18.942919Z",
     "iopub.status.busy": "2023-08-09T05:42:18.942652Z",
     "iopub.status.idle": "2023-08-09T05:42:18.946980Z",
     "shell.execute_reply": "2023-08-09T05:42:18.946113Z"
    },
    "id": "N8cJfeB1TFDd",
    "papermill": {
     "duration": 0.029867,
     "end_time": "2023-08-09T05:42:18.948906",
     "exception": false,
     "start_time": "2023-08-09T05:42:18.919039",
     "status": "completed"
    },
    "tags": []
   },
   "outputs": [],
   "source": [
    "def get_file_path_by_id(file_id, dir=config.root):\n",
    "    return os.path.join(dir, str(file_id) + \".jpg\")"
   ]
  },
  {
   "cell_type": "markdown",
   "id": "c148c81b",
   "metadata": {
    "id": "u0McLUXoTFDd",
    "papermill": {
     "duration": 0.023017,
     "end_time": "2023-08-09T05:42:18.994396",
     "exception": false,
     "start_time": "2023-08-09T05:42:18.971379",
     "status": "completed"
    },
    "tags": []
   },
   "source": [
    "## 2. Custom Data representation"
   ]
  },
  {
   "cell_type": "code",
   "execution_count": 21,
   "id": "c5b69225",
   "metadata": {
    "ExecuteTime": {
     "end_time": "2023-08-07T11:30:01.692337Z",
     "start_time": "2023-08-07T11:30:01.678626Z"
    },
    "collapsed": false,
    "execution": {
     "iopub.execute_input": "2023-08-09T05:42:19.041046Z",
     "iopub.status.busy": "2023-08-09T05:42:19.040763Z",
     "iopub.status.idle": "2023-08-09T05:42:19.047644Z",
     "shell.execute_reply": "2023-08-09T05:42:19.046651Z"
    },
    "id": "_dh7nUr3TFDd",
    "jupyter": {
     "outputs_hidden": false
    },
    "papermill": {
     "duration": 0.032602,
     "end_time": "2023-08-09T05:42:19.049594",
     "exception": false,
     "start_time": "2023-08-09T05:42:19.016992",
     "status": "completed"
    },
    "tags": []
   },
   "outputs": [],
   "source": [
    "def apply_label_encoding(data: t.Union[pd.DataFrame, np.array],\n",
    "                         encoder_name: os.path,\n",
    "                         column='label', action='encode',\n",
    "                         ):\n",
    "    \"\"\"\n",
    "    One Hot encoding. We apply encoding by replacing the label column in dataframe.\n",
    "    As for decoding data back, we work with vector-array (as it's most likely to\n",
    "    be a prediction result)\n",
    "    \"\"\"\n",
    "    encoder = LabelEncoder()\n",
    "    if action == 'encode':\n",
    "        # We transform dataframe here. Nothing returns\n",
    "        data[column] = encoder.fit_transform(data[column])\n",
    "        with open(f\"{encoder_name}_LEncoder.pkl\", \"wb\") as fp:\n",
    "            joblib.dump(encoder, fp)\n",
    "    elif action == 'decode':\n",
    "        # We pass vector here. Result is a vector\n",
    "        with open(f\"{encoder_name}_LEncoder.pkl\", \"rb\") as fp:\n",
    "            encoder: LabelEncoder = joblib.load(fp)\n",
    "        return encoder.inverse_transform(data)"
   ]
  },
  {
   "cell_type": "code",
   "execution_count": 22,
   "id": "5ff7ff45",
   "metadata": {
    "ExecuteTime": {
     "end_time": "2023-08-07T11:30:01.711734Z",
     "start_time": "2023-08-07T11:30:01.692337Z"
    },
    "collapsed": false,
    "execution": {
     "iopub.execute_input": "2023-08-09T05:42:19.096791Z",
     "iopub.status.busy": "2023-08-09T05:42:19.096500Z",
     "iopub.status.idle": "2023-08-09T05:42:19.108922Z",
     "shell.execute_reply": "2023-08-09T05:42:19.108035Z"
    },
    "id": "piJ9PgTuTFDe",
    "jupyter": {
     "outputs_hidden": false
    },
    "papermill": {
     "duration": 0.038867,
     "end_time": "2023-08-09T05:42:19.111167",
     "exception": false,
     "start_time": "2023-08-09T05:42:19.072300",
     "status": "completed"
    },
    "tags": []
   },
   "outputs": [],
   "source": [
    "class CustomImagesDataset(Dataset):\n",
    "    \"\"\"\n",
    "    \"\"\"\n",
    "    def __init__(self, data: pd.DataFrame=None, images_path: os.path=None, labels_path:os.path=None, transform_images: A.Compose=None, encoder_name: str=None):\n",
    "        \"\"\"\n",
    "\n",
    "        \"\"\"\n",
    "        super().__init__()\n",
    "        assert (data is not None) or (labels_path is not None and images_path is not None)\n",
    "\n",
    "        if data is None:\n",
    "            data = pd.read_csv(labels_path)\n",
    "            data['file_path'] = data['id'].apply(get_file_path_by_id, dir=images_path)\n",
    "\n",
    "        self.images_paths = data['file_path'].values\n",
    "        self.encoder_name = encoder_name if encoder_name else self.__hash__()  # We use hash as a unique name\n",
    "        print_highlighted(f\"Label Encoder saved with id `{self.encoder_name}`\")\n",
    "        apply_label_encoding(data=data, action='encode', encoder_name=self.encoder_name)\n",
    "        self.labels = data['label'].values\n",
    "#         self.indexes = data['id'].values\n",
    "        self.transform_images = transform_images\n",
    "        self.__set_dataset_len()\n",
    "\n",
    "    def __set_dataset_len(self):\n",
    "        self.length = self.labels.shape[0] # Number of rows\n",
    "\n",
    "    def __len__(self):\n",
    "        \"\"\"\n",
    "        We calculate the len in another function, so that we are able to slice.\n",
    "        \"\"\"\n",
    "        return self.length\n",
    "\n",
    "    def decode_labels(self, labels_vector):\n",
    "        return apply_label_encoding(data=labels_vector, action='decode', encoder_name=self.encoder_name)\n",
    "\n",
    "    def __getitem__(self, index) -> tuple[torch.Tensor, int]:\n",
    "        \"\"\" Function to return item by indexing the dataset \"\"\"\n",
    "\n",
    "        if not isinstance(index, int) and isinstance(index, slice):\n",
    "            # It's not an index, but slice.\n",
    "            # We will return the part of data by making a copy of the dataset\n",
    "            index: slice\n",
    "            self = deepcopy(self)\n",
    "            self.length = index.stop  # Cut the length of dataset.\n",
    "            self.labels = self.labels[:self.length]\n",
    "            return self\n",
    "        assert self.__len__() >= index\n",
    "\n",
    "        image = to_pil_image(read_image(self.images_paths[index]))\n",
    "        if self.transform_images:\n",
    "            # Albumentations requires us to convert image to Numpy Array\n",
    "            image = self.transform_images(image=np.array(image))['image']\n",
    "\n",
    "        label = self.labels[index]\n",
    "        return image, label\n",
    "\n",
    "\n",
    "    @property\n",
    "    def classes_(self):\n",
    "        return self.decode_labels(np.unique(self.labels))\n"
   ]
  },
  {
   "cell_type": "markdown",
   "id": "9f762e5a",
   "metadata": {
    "id": "lB9BnVDPTFDe",
    "papermill": {
     "duration": 0.022536,
     "end_time": "2023-08-09T05:42:19.156308",
     "exception": false,
     "start_time": "2023-08-09T05:42:19.133772",
     "status": "completed"
    },
    "tags": []
   },
   "source": [
    "## 3. Augmentations"
   ]
  },
  {
   "cell_type": "markdown",
   "id": "88ecd89e",
   "metadata": {
    "id": "i-F36u_bTFDe",
    "papermill": {
     "duration": 0.022499,
     "end_time": "2023-08-09T05:42:19.201430",
     "exception": false,
     "start_time": "2023-08-09T05:42:19.178931",
     "status": "completed"
    },
    "tags": []
   },
   "source": [
    "We use Albumantations lib"
   ]
  },
  {
   "cell_type": "code",
   "execution_count": 23,
   "id": "12193efc",
   "metadata": {
    "ExecuteTime": {
     "end_time": "2023-08-07T11:30:01.846460Z",
     "start_time": "2023-08-07T11:30:01.721854Z"
    },
    "collapsed": false,
    "execution": {
     "iopub.execute_input": "2023-08-09T05:42:19.247949Z",
     "iopub.status.busy": "2023-08-09T05:42:19.247691Z",
     "iopub.status.idle": "2023-08-09T05:42:19.256039Z",
     "shell.execute_reply": "2023-08-09T05:42:19.255112Z"
    },
    "id": "tROO0x2GTFDe",
    "jupyter": {
     "outputs_hidden": false
    },
    "papermill": {
     "duration": 0.033825,
     "end_time": "2023-08-09T05:42:19.257990",
     "exception": false,
     "start_time": "2023-08-09T05:42:19.224165",
     "status": "completed"
    },
    "tags": []
   },
   "outputs": [],
   "source": [
    "data_transforms = {\n",
    "    \"train\": A.Compose([\n",
    "#         A.ToRGB(),\n",
    "        A.Resize(config.image_dimension, config.image_dimension),\n",
    "        A.ShiftScaleRotate(shift_limit=0.1,\n",
    "                           scale_limit=0.15,\n",
    "                           rotate_limit=30,\n",
    "                           p=0.5),\n",
    "        A.HueSaturationValue(\n",
    "                hue_shift_limit=30,\n",
    "                sat_shift_limit=30,\n",
    "                val_shift_limit=30,\n",
    "                p=0.5\n",
    "            ),\n",
    "        A.RandomBrightnessContrast(\n",
    "                brightness_limit=(-0.01,0.01),\n",
    "                contrast_limit=(-0.01, 0.01),\n",
    "                p=0.5\n",
    "            ),\n",
    "        A.Normalize(\n",
    "                mean=[0.485, 0.456, 0.406],\n",
    "                std=[0.229, 0.224, 0.225],\n",
    "                max_pixel_value=255.0,\n",
    "                p=1.0\n",
    "            ),\n",
    "        ToTensorV2() # Advanced analogue of T.ToTensor\n",
    "    ], p=1.),\n",
    "\n",
    "    \"val\": A.Compose([\n",
    "#         A.ToRGB(),\n",
    "        A.Resize(config.image_dimension, config.image_dimension),\n",
    "        A.Normalize(\n",
    "                mean=[0.485, 0.456, 0.406],\n",
    "                std=[0.229, 0.224, 0.225],\n",
    "                max_pixel_value=255.0,\n",
    "                p=1.0\n",
    "            ),\n",
    "        ToTensorV2()], p=1.)\n",
    "}"
   ]
  },
  {
   "cell_type": "markdown",
   "id": "d71bc242",
   "metadata": {
    "id": "LrSe00KeTFDe",
    "papermill": {
     "duration": 0.022646,
     "end_time": "2023-08-09T05:42:19.303603",
     "exception": false,
     "start_time": "2023-08-09T05:42:19.280957",
     "status": "completed"
    },
    "tags": []
   },
   "source": [
    "## 4. Load the data and have a look"
   ]
  },
  {
   "cell_type": "code",
   "execution_count": 24,
   "id": "ca94b9bf",
   "metadata": {
    "ExecuteTime": {
     "end_time": "2023-08-07T11:30:01.874617Z",
     "start_time": "2023-08-07T11:30:01.737063Z"
    },
    "collapsed": false,
    "execution": {
     "iopub.execute_input": "2023-08-09T05:42:19.350103Z",
     "iopub.status.busy": "2023-08-09T05:42:19.349830Z",
     "iopub.status.idle": "2023-08-09T05:42:19.452031Z",
     "shell.execute_reply": "2023-08-09T05:42:19.450975Z"
    },
    "id": "DmijxMsuTFDf",
    "jupyter": {
     "outputs_hidden": false
    },
    "outputId": "0f9bae18-cdd1-4716-8bc0-8d83c4eb2a3f",
    "papermill": {
     "duration": 0.127813,
     "end_time": "2023-08-09T05:42:19.454046",
     "exception": false,
     "start_time": "2023-08-09T05:42:19.326233",
     "status": "completed"
    },
    "tags": []
   },
   "outputs": [
    {
     "name": "stdout",
     "output_type": "stream",
     "text": [
      "\u001B[43mLabel Encoder saved with id `train`\u001B[0m\n"
     ]
    }
   ],
   "source": [
    "train_dataset = CustomImagesDataset(labels_path=config.train_labels, images_path=config.train_images_path, transform_images=data_transforms['train'], encoder_name='train')"
   ]
  },
  {
   "cell_type": "code",
   "execution_count": 25,
   "id": "ded815bd",
   "metadata": {
    "execution": {
     "iopub.execute_input": "2023-08-09T05:42:19.501515Z",
     "iopub.status.busy": "2023-08-09T05:42:19.500679Z",
     "iopub.status.idle": "2023-08-09T05:42:19.525658Z",
     "shell.execute_reply": "2023-08-09T05:42:19.524603Z"
    },
    "id": "NyHg814zTFDf",
    "outputId": "11706677-ef27-479d-c5a7-440ddb48b538",
    "papermill": {
     "duration": 0.050734,
     "end_time": "2023-08-09T05:42:19.527773",
     "exception": false,
     "start_time": "2023-08-09T05:42:19.477039",
     "status": "completed"
    },
    "tags": []
   },
   "outputs": [
    {
     "name": "stdout",
     "output_type": "stream",
     "text": [
      "\u001B[43mLabel Encoder saved with id `test`\u001B[0m\n"
     ]
    }
   ],
   "source": [
    "test_dataset = CustomImagesDataset(\n",
    "    labels_path=config.test_labels,\n",
    "    images_path=config.test_images_path,\n",
    "    transform_images=data_transforms['val'],\n",
    "    encoder_name='test',\n",
    ")"
   ]
  },
  {
   "cell_type": "code",
   "execution_count": 26,
   "id": "904029df",
   "metadata": {
    "ExecuteTime": {
     "end_time": "2023-08-07T11:30:01.996918Z",
     "start_time": "2023-08-07T11:30:01.874617Z"
    },
    "execution": {
     "iopub.execute_input": "2023-08-09T05:42:19.574660Z",
     "iopub.status.busy": "2023-08-09T05:42:19.574374Z",
     "iopub.status.idle": "2023-08-09T05:42:19.683264Z",
     "shell.execute_reply": "2023-08-09T05:42:19.682484Z"
    },
    "id": "_bZMqZjoTFDf",
    "outputId": "a43afe2b-a8cb-4aee-9500-d4637cd905ef",
    "papermill": {
     "duration": 0.134406,
     "end_time": "2023-08-09T05:42:19.685195",
     "exception": false,
     "start_time": "2023-08-09T05:42:19.550789",
     "status": "completed"
    },
    "tags": []
   },
   "outputs": [
    {
     "data": {
      "image/png": "[encoded data removed]",
      "text/plain": [
       "<PIL.Image.Image image mode=RGB size=256x256>"
      ]
     },
     "execution_count": 26,
     "metadata": {},
     "output_type": "execute_result"
    }
   ],
   "source": [
    "to_pil_image(train_dataset[60][0])"
   ]
  },
  {
   "cell_type": "code",
   "execution_count": 27,
   "id": "fe87eede",
   "metadata": {
    "ExecuteTime": {
     "end_time": "2023-08-07T11:30:01.997434Z",
     "start_time": "2023-08-07T11:30:01.971021Z"
    },
    "collapsed": false,
    "execution": {
     "iopub.execute_input": "2023-08-09T05:42:19.737571Z",
     "iopub.status.busy": "2023-08-09T05:42:19.737278Z",
     "iopub.status.idle": "2023-08-09T05:42:19.747736Z",
     "shell.execute_reply": "2023-08-09T05:42:19.746761Z"
    },
    "id": "UUS_aiISTFDf",
    "jupyter": {
     "outputs_hidden": false
    },
    "outputId": "832f5ec9-3895-4f71-bc96-6e626c74ab34",
    "papermill": {
     "duration": 0.040364,
     "end_time": "2023-08-09T05:42:19.749687",
     "exception": false,
     "start_time": "2023-08-09T05:42:19.709323",
     "status": "completed"
    },
    "tags": []
   },
   "outputs": [
    {
     "data": {
      "text/plain": [
       "760"
      ]
     },
     "execution_count": 27,
     "metadata": {},
     "output_type": "execute_result"
    }
   ],
   "source": [
    "config.num_of_classes = len(train_dataset.classes_)\n",
    "config.num_of_classes"
   ]
  },
  {
   "cell_type": "markdown",
   "id": "042714d6",
   "metadata": {
    "id": "1T2BVhnkTFDf",
    "papermill": {
     "duration": 0.024035,
     "end_time": "2023-08-09T05:42:19.797917",
     "exception": false,
     "start_time": "2023-08-09T05:42:19.773882",
     "status": "completed"
    },
    "tags": []
   },
   "source": [
    "Below we ensure that the test dataset doesn't contain unknown data"
   ]
  },
  {
   "cell_type": "code",
   "execution_count": 28,
   "id": "b93c0b2d",
   "metadata": {
    "execution": {
     "iopub.execute_input": "2023-08-09T05:42:19.848151Z",
     "iopub.status.busy": "2023-08-09T05:42:19.847384Z",
     "iopub.status.idle": "2023-08-09T05:42:19.854607Z",
     "shell.execute_reply": "2023-08-09T05:42:19.853676Z"
    },
    "id": "52QN-ziNTFDg",
    "papermill": {
     "duration": 0.034159,
     "end_time": "2023-08-09T05:42:19.856567",
     "exception": false,
     "start_time": "2023-08-09T05:42:19.822408",
     "status": "completed"
    },
    "tags": []
   },
   "outputs": [],
   "source": [
    "assert not bool(set(test_dataset.classes_) - set(train_dataset.classes_))"
   ]
  },
  {
   "cell_type": "code",
   "execution_count": 29,
   "id": "ab213d99",
   "metadata": {
    "ExecuteTime": {
     "end_time": "2023-08-07T11:30:01.997434Z",
     "start_time": "2023-08-07T11:30:01.987185Z"
    },
    "execution": {
     "iopub.execute_input": "2023-08-09T05:42:19.907014Z",
     "iopub.status.busy": "2023-08-09T05:42:19.906273Z",
     "iopub.status.idle": "2023-08-09T05:42:19.913115Z",
     "shell.execute_reply": "2023-08-09T05:42:19.912051Z"
    },
    "id": "lYMINDi1TFDj",
    "outputId": "bdd6cc65-de03-495d-9883-53906ce9a165",
    "papermill": {
     "duration": 0.034063,
     "end_time": "2023-08-09T05:42:19.915058",
     "exception": false,
     "start_time": "2023-08-09T05:42:19.880995",
     "status": "completed"
    },
    "tags": []
   },
   "outputs": [
    {
     "name": "stdout",
     "output_type": "stream",
     "text": [
      "Acura_MDX;  Alfa Romeo_Giulietta;  Audi_100;  Audi_80;  Audi_A1;  Audi_A3;  Audi_A4;  Audi_A5;  Audi_A6;  Audi_A7;  Audi_A8;  Audi_Q3;  Audi_Q5;  Audi_Q7;  Audi_R8;  Audi_RS6;  Audi_S5;  Audi_S8;  Audi_TT;  BAW_FENIX..."
     ]
    }
   ],
   "source": [
    "print(*train_dataset.classes_[:20], sep=';  ', end='...')"
   ]
  },
  {
   "cell_type": "markdown",
   "id": "b98e778b",
   "metadata": {
    "id": "1nrMvID-TFDk",
    "papermill": {
     "duration": 0.024028,
     "end_time": "2023-08-09T05:42:19.963263",
     "exception": false,
     "start_time": "2023-08-09T05:42:19.939235",
     "status": "completed"
    },
    "tags": []
   },
   "source": [
    "# 3. Model"
   ]
  },
  {
   "cell_type": "markdown",
   "id": "43362c11",
   "metadata": {
    "id": "CC_wCexMTFDk",
    "papermill": {
     "duration": 0.024283,
     "end_time": "2023-08-09T05:42:20.012088",
     "exception": false,
     "start_time": "2023-08-09T05:42:19.987805",
     "status": "completed"
    },
    "tags": []
   },
   "source": [
    "## 1. Getting the pretrained model"
   ]
  },
  {
   "cell_type": "code",
   "execution_count": 30,
   "id": "d779da30",
   "metadata": {
    "ExecuteTime": {
     "end_time": "2023-08-07T11:31:34.594472Z",
     "start_time": "2023-08-07T11:31:34.594472Z"
    },
    "execution": {
     "iopub.execute_input": "2023-08-09T05:42:20.062813Z",
     "iopub.status.busy": "2023-08-09T05:42:20.062029Z",
     "iopub.status.idle": "2023-08-09T05:42:20.069587Z",
     "shell.execute_reply": "2023-08-09T05:42:20.068711Z"
    },
    "id": "-NUikulCTFDk",
    "papermill": {
     "duration": 0.035323,
     "end_time": "2023-08-09T05:42:20.071542",
     "exception": false,
     "start_time": "2023-08-09T05:42:20.036219",
     "status": "completed"
    },
    "tags": []
   },
   "outputs": [],
   "source": [
    "def get_model(model_name='resnet18', from_path=None, pretrained=False, freeze_layers=0.0, get_embeddings=False) -> torch.nn.Module:\n",
    "    if from_path:\n",
    "        try:\n",
    "            model = torch.load(from_path)\n",
    "        except FileNotFoundError:\n",
    "            pass\n",
    "    elif model_name:  # Then we download it\n",
    "        model = getattr(models, model_name) # We use builtin function\n",
    "        model = model(\n",
    "        weights=('DEFAULT' if pretrained else None)\n",
    "        )\n",
    "\n",
    "    if bool(freeze_layers):\n",
    "        params = list(model.parameters())\n",
    "        for param in params[:int(len(params)*freeze_layers)]:\n",
    "            # Freeze some layers\n",
    "            param.requires_grad = False\n",
    "\n",
    "    if get_embeddings:\n",
    "        # That means remove classifier (last layer):\n",
    "        model = nn.Sequential(*list(model.children())[:-1])\n",
    "    return model"
   ]
  },
  {
   "cell_type": "markdown",
   "id": "4fee43d9",
   "metadata": {
    "papermill": {
     "duration": 0.024088,
     "end_time": "2023-08-09T05:42:20.119764",
     "exception": false,
     "start_time": "2023-08-09T05:42:20.095676",
     "status": "completed"
    },
    "tags": []
   },
   "source": [
    "We can fine-tune the model or train from scratch"
   ]
  },
  {
   "cell_type": "code",
   "execution_count": 31,
   "id": "29c9a4d7",
   "metadata": {
    "ExecuteTime": {
     "end_time": "2023-08-07T11:31:36.138948Z",
     "start_time": "2023-08-07T11:31:35.809264Z"
    },
    "execution": {
     "iopub.execute_input": "2023-08-09T05:42:20.169733Z",
     "iopub.status.busy": "2023-08-09T05:42:20.168987Z",
     "iopub.status.idle": "2023-08-09T05:42:20.173035Z",
     "shell.execute_reply": "2023-08-09T05:42:20.172041Z"
    },
    "id": "v-BpLsBTTFDk",
    "outputId": "9f1358ab-175a-482d-a430-85a36c85a9c0",
    "papermill": {
     "duration": 0.031113,
     "end_time": "2023-08-09T05:42:20.175008",
     "exception": false,
     "start_time": "2023-08-09T05:42:20.143895",
     "status": "completed"
    },
    "tags": []
   },
   "outputs": [],
   "source": [
    "# model = get_model(\n",
    "#     model_name=config.model_name,\n",
    "#     pretrained=True,\n",
    "#     freeze_layers=0.0,\n",
    "#     get_embeddings=False\n",
    "# )"
   ]
  },
  {
   "cell_type": "markdown",
   "id": "24f64764",
   "metadata": {
    "papermill": {
     "duration": 0.024148,
     "end_time": "2023-08-09T05:42:20.223332",
     "exception": false,
     "start_time": "2023-08-09T05:42:20.199184",
     "status": "completed"
    },
    "tags": []
   },
   "source": [
    "Or fine-tine the model that we've trained before"
   ]
  },
  {
   "cell_type": "code",
   "execution_count": 32,
   "id": "cc9e3762",
   "metadata": {
    "execution": {
     "iopub.execute_input": "2023-08-09T05:42:20.274457Z",
     "iopub.status.busy": "2023-08-09T05:42:20.273601Z",
     "iopub.status.idle": "2023-08-09T05:42:25.807030Z",
     "shell.execute_reply": "2023-08-09T05:42:25.805951Z"
    },
    "papermill": {
     "duration": 5.561841,
     "end_time": "2023-08-09T05:42:25.809790",
     "exception": false,
     "start_time": "2023-08-09T05:42:20.247949",
     "status": "completed"
    },
    "tags": []
   },
   "outputs": [],
   "source": [
    "model = get_model(\n",
    "    from_path='/kaggle/input/efficient-model/fine-tuned_efficientnet_b0.pth',\n",
    "    pretrained=True,\n",
    "    freeze_layers=0.0,\n",
    "    get_embeddings=False\n",
    ")"
   ]
  },
  {
   "cell_type": "code",
   "execution_count": 33,
   "id": "f5c91959",
   "metadata": {
    "execution": {
     "iopub.execute_input": "2023-08-09T05:42:25.861199Z",
     "iopub.status.busy": "2023-08-09T05:42:25.860876Z",
     "iopub.status.idle": "2023-08-09T05:42:25.866331Z",
     "shell.execute_reply": "2023-08-09T05:42:25.865323Z"
    },
    "id": "wc8eOoJQTFDl",
    "papermill": {
     "duration": 0.033687,
     "end_time": "2023-08-09T05:42:25.868562",
     "exception": false,
     "start_time": "2023-08-09T05:42:25.834875",
     "status": "completed"
    },
    "tags": []
   },
   "outputs": [],
   "source": [
    "# model"
   ]
  },
  {
   "cell_type": "markdown",
   "id": "3f60bcda",
   "metadata": {
    "id": "b45cPpjkTFDl",
    "papermill": {
     "duration": 0.024359,
     "end_time": "2023-08-09T05:42:25.917171",
     "exception": false,
     "start_time": "2023-08-09T05:42:25.892812",
     "status": "completed"
    },
    "tags": []
   },
   "source": [
    "## 2. Set up the output layer"
   ]
  },
  {
   "cell_type": "markdown",
   "id": "091f6b79",
   "metadata": {
    "id": "fzxyvh00TFDl",
    "papermill": {
     "duration": 0.023999,
     "end_time": "2023-08-09T05:42:25.965502",
     "exception": false,
     "start_time": "2023-08-09T05:42:25.941503",
     "status": "completed"
    },
    "tags": []
   },
   "source": [
    "Efficient Model consists of 3 blocks (2 Sequential and one Avg Pooling between them. Let's have a look at last two layers"
   ]
  },
  {
   "cell_type": "markdown",
   "id": "e0e05cdf",
   "metadata": {
    "id": "oo2UzH7fTFDl",
    "papermill": {
     "duration": 0.024164,
     "end_time": "2023-08-09T05:42:26.014375",
     "exception": false,
     "start_time": "2023-08-09T05:42:25.990211",
     "status": "completed"
    },
    "tags": []
   },
   "source": [
    "Last layer is classifier."
   ]
  },
  {
   "cell_type": "code",
   "execution_count": 34,
   "id": "90d43d02",
   "metadata": {
    "execution": {
     "iopub.execute_input": "2023-08-09T05:42:26.064654Z",
     "iopub.status.busy": "2023-08-09T05:42:26.064332Z",
     "iopub.status.idle": "2023-08-09T05:42:26.070497Z",
     "shell.execute_reply": "2023-08-09T05:42:26.069549Z"
    },
    "id": "GsWQ0vJoTFDm",
    "outputId": "fe3553cc-d992-44f6-f031-4c1c49705080",
    "papermill": {
     "duration": 0.033601,
     "end_time": "2023-08-09T05:42:26.072457",
     "exception": false,
     "start_time": "2023-08-09T05:42:26.038856",
     "status": "completed"
    },
    "tags": []
   },
   "outputs": [
    {
     "data": {
      "text/plain": [
       "Sequential(\n",
       "  (0): Dropout(p=0.2, inplace=True)\n",
       "  (1): Linear(in_features=1280, out_features=760, bias=True)\n",
       "  (2): Softmax(dim=-1)\n",
       ")"
      ]
     },
     "execution_count": 34,
     "metadata": {},
     "output_type": "execute_result"
    }
   ],
   "source": [
    "model.classifier"
   ]
  },
  {
   "cell_type": "markdown",
   "id": "60c3f655",
   "metadata": {
    "id": "3nx3jVitTFDm",
    "papermill": {
     "duration": 0.024185,
     "end_time": "2023-08-09T05:42:26.120996",
     "exception": false,
     "start_time": "2023-08-09T05:42:26.096811",
     "status": "completed"
    },
    "tags": []
   },
   "source": [
    "Let's change the number of classes (according with our task), and add a Softmax. Also we can change FC Dropout ratio"
   ]
  },
  {
   "cell_type": "code",
   "execution_count": null,
   "outputs": [],
   "source": [
    "fc_dropout = 0.3"
   ],
   "metadata": {
    "collapsed": false
   }
  },
  {
   "cell_type": "code",
   "execution_count": 35,
   "id": "438376a1",
   "metadata": {
    "execution": {
     "iopub.execute_input": "2023-08-09T05:42:26.171288Z",
     "iopub.status.busy": "2023-08-09T05:42:26.170506Z",
     "iopub.status.idle": "2023-08-09T05:42:26.185812Z",
     "shell.execute_reply": "2023-08-09T05:42:26.184981Z"
    },
    "id": "wUliJRZETFDm",
    "papermill": {
     "duration": 0.042866,
     "end_time": "2023-08-09T05:42:26.188126",
     "exception": false,
     "start_time": "2023-08-09T05:42:26.145260",
     "status": "completed"
    },
    "tags": []
   },
   "outputs": [],
   "source": [
    "model.classifier = nn.Sequential(\n",
    "    nn.Dropout(p=fc_dropout, inplace=True),\n",
    "    nn.Linear(in_features=model.classifier[1].in_features, out_features=config.num_of_classes, bias=True),\n",
    "    nn.Softmax(dim=-1)\n",
    ")"
   ]
  },
  {
   "cell_type": "code",
   "execution_count": 36,
   "id": "3f9265b6",
   "metadata": {
    "execution": {
     "iopub.execute_input": "2023-08-09T05:42:26.237888Z",
     "iopub.status.busy": "2023-08-09T05:42:26.237626Z",
     "iopub.status.idle": "2023-08-09T05:42:26.241241Z",
     "shell.execute_reply": "2023-08-09T05:42:26.240360Z"
    },
    "id": "fYhJdkx7TFDm",
    "outputId": "0af13989-cf17-4ff1-cee3-24dfd090f0d3",
    "papermill": {
     "duration": 0.030823,
     "end_time": "2023-08-09T05:42:26.243247",
     "exception": false,
     "start_time": "2023-08-09T05:42:26.212424",
     "status": "completed"
    },
    "tags": []
   },
   "outputs": [],
   "source": [
    "# model  # If you want to see the architecture (it's long)"
   ]
  },
  {
   "cell_type": "markdown",
   "id": "59d3f9ed",
   "metadata": {
    "id": "t6rYKZFqTFDn",
    "papermill": {
     "duration": 0.02452,
     "end_time": "2023-08-09T05:42:26.292415",
     "exception": false,
     "start_time": "2023-08-09T05:42:26.267895",
     "status": "completed"
    },
    "tags": []
   },
   "source": [
    "# 4. Various"
   ]
  },
  {
   "cell_type": "markdown",
   "id": "d9b1454a",
   "metadata": {
    "id": "UhnkDGSqTFDn",
    "papermill": {
     "duration": 0.024262,
     "end_time": "2023-08-09T05:42:26.341015",
     "exception": false,
     "start_time": "2023-08-09T05:42:26.316753",
     "status": "completed"
    },
    "tags": []
   },
   "source": [
    "## 1. Quality metrics"
   ]
  },
  {
   "cell_type": "markdown",
   "id": "47ac0d05",
   "metadata": {
    "id": "VpjMrvnfWgHC",
    "papermill": {
     "duration": 0.024194,
     "end_time": "2023-08-09T05:42:26.389846",
     "exception": false,
     "start_time": "2023-08-09T05:42:26.365652",
     "status": "completed"
    },
    "tags": []
   },
   "source": [
    "We will use accuracy and F1 score for out classification task"
   ]
  },
  {
   "cell_type": "code",
   "execution_count": 37,
   "id": "96730d0f",
   "metadata": {
    "execution": {
     "iopub.execute_input": "2023-08-09T05:42:26.439691Z",
     "iopub.status.busy": "2023-08-09T05:42:26.439402Z",
     "iopub.status.idle": "2023-08-09T05:42:26.450188Z",
     "shell.execute_reply": "2023-08-09T05:42:26.449332Z"
    },
    "id": "c_2AwnsfTFDn",
    "papermill": {
     "duration": 0.038082,
     "end_time": "2023-08-09T05:42:26.452269",
     "exception": false,
     "start_time": "2023-08-09T05:42:26.414187",
     "status": "completed"
    },
    "tags": []
   },
   "outputs": [],
   "source": [
    "f1_score = F1Score(task=\"multiclass\", num_classes=config.num_of_classes, average=\"macro\")"
   ]
  },
  {
   "cell_type": "markdown",
   "id": "03e3406f",
   "metadata": {
    "id": "WqgSgG2_TFDn",
    "papermill": {
     "duration": 0.024196,
     "end_time": "2023-08-09T05:42:26.500817",
     "exception": false,
     "start_time": "2023-08-09T05:42:26.476621",
     "status": "completed"
    },
    "tags": []
   },
   "source": [
    "## 2. Device"
   ]
  },
  {
   "cell_type": "code",
   "execution_count": 38,
   "id": "3ebaea22",
   "metadata": {
    "execution": {
     "iopub.execute_input": "2023-08-09T05:42:26.550881Z",
     "iopub.status.busy": "2023-08-09T05:42:26.550616Z",
     "iopub.status.idle": "2023-08-09T05:42:26.562573Z",
     "shell.execute_reply": "2023-08-09T05:42:26.561793Z"
    },
    "id": "F7zEDfFvTFDo",
    "papermill": {
     "duration": 0.039372,
     "end_time": "2023-08-09T05:42:26.564543",
     "exception": false,
     "start_time": "2023-08-09T05:42:26.525171",
     "status": "completed"
    },
    "tags": []
   },
   "outputs": [],
   "source": [
    "device = torch.device(\"cuda\" if torch.cuda.is_available() else \"cpu\")\n",
    "model = model.to(device)\n",
    "f1_score = f1_score.to(device)\n",
    "torch.cuda.empty_cache()"
   ]
  },
  {
   "cell_type": "markdown",
   "id": "3c02f3e7",
   "metadata": {
    "id": "E7mbVBoGTFDo",
    "papermill": {
     "duration": 0.024338,
     "end_time": "2023-08-09T05:42:26.613451",
     "exception": false,
     "start_time": "2023-08-09T05:42:26.589113",
     "status": "completed"
    },
    "tags": []
   },
   "source": [
    "## 3. Data processing format"
   ]
  },
  {
   "cell_type": "code",
   "execution_count": 39,
   "id": "d774ec22",
   "metadata": {
    "execution": {
     "iopub.execute_input": "2023-08-09T05:42:26.663582Z",
     "iopub.status.busy": "2023-08-09T05:42:26.662737Z",
     "iopub.status.idle": "2023-08-09T05:42:26.667311Z",
     "shell.execute_reply": "2023-08-09T05:42:26.666469Z"
    },
    "id": "7xJPcyHwTFDo",
    "papermill": {
     "duration": 0.031572,
     "end_time": "2023-08-09T05:42:26.669254",
     "exception": false,
     "start_time": "2023-08-09T05:42:26.637682",
     "status": "completed"
    },
    "tags": []
   },
   "outputs": [],
   "source": [
    "config.train_batch_size, config.val_batch_size = 128, 256"
   ]
  },
  {
   "cell_type": "code",
   "execution_count": 40,
   "id": "3c3d5f60",
   "metadata": {
    "execution": {
     "iopub.execute_input": "2023-08-09T05:42:26.719478Z",
     "iopub.status.busy": "2023-08-09T05:42:26.718762Z",
     "iopub.status.idle": "2023-08-09T05:42:26.723805Z",
     "shell.execute_reply": "2023-08-09T05:42:26.722942Z"
    },
    "id": "IqrseI2gTFDo",
    "papermill": {
     "duration": 0.032241,
     "end_time": "2023-08-09T05:42:26.725737",
     "exception": false,
     "start_time": "2023-08-09T05:42:26.693496",
     "status": "completed"
    },
    "tags": []
   },
   "outputs": [],
   "source": [
    "train_dataloader = DataLoader(train_dataset,\n",
    "                              batch_size=config.train_batch_size,\n",
    "                              shuffle=True,\n",
    "                              num_workers=os.cpu_count(),\n",
    ")"
   ]
  },
  {
   "cell_type": "code",
   "execution_count": 41,
   "id": "2e2e4674",
   "metadata": {
    "execution": {
     "iopub.execute_input": "2023-08-09T05:42:26.777534Z",
     "iopub.status.busy": "2023-08-09T05:42:26.777259Z",
     "iopub.status.idle": "2023-08-09T05:42:26.781767Z",
     "shell.execute_reply": "2023-08-09T05:42:26.780829Z"
    },
    "id": "GeiY7hELTFDo",
    "papermill": {
     "duration": 0.031601,
     "end_time": "2023-08-09T05:42:26.783676",
     "exception": false,
     "start_time": "2023-08-09T05:42:26.752075",
     "status": "completed"
    },
    "tags": []
   },
   "outputs": [],
   "source": [
    "test_dataloader = DataLoader(test_dataset,\n",
    "                              batch_size=config.val_batch_size,\n",
    "                              shuffle=False,\n",
    "                              num_workers=os.cpu_count(),\n",
    ")"
   ]
  },
  {
   "cell_type": "markdown",
   "id": "da7cff5f",
   "metadata": {
    "id": "qCM07xVnTFDp",
    "papermill": {
     "duration": 0.024277,
     "end_time": "2023-08-09T05:42:26.832267",
     "exception": false,
     "start_time": "2023-08-09T05:42:26.807990",
     "status": "completed"
    },
    "tags": []
   },
   "source": [
    "# 5. Initialize the train process"
   ]
  },
  {
   "cell_type": "markdown",
   "id": "59cdbdcf",
   "metadata": {
    "id": "afGGK718TFDp",
    "papermill": {
     "duration": 0.024458,
     "end_time": "2023-08-09T05:42:26.880916",
     "exception": false,
     "start_time": "2023-08-09T05:42:26.856458",
     "status": "completed"
    },
    "tags": []
   },
   "source": [
    "## 1. Functions to plot the result"
   ]
  },
  {
   "cell_type": "code",
   "execution_count": 42,
   "id": "8512f8be",
   "metadata": {
    "execution": {
     "iopub.execute_input": "2023-08-09T05:42:26.931048Z",
     "iopub.status.busy": "2023-08-09T05:42:26.930733Z",
     "iopub.status.idle": "2023-08-09T05:42:26.936612Z",
     "shell.execute_reply": "2023-08-09T05:42:26.935594Z"
    },
    "id": "QVJL1liGTFDp",
    "papermill": {
     "duration": 0.033157,
     "end_time": "2023-08-09T05:42:26.938495",
     "exception": false,
     "start_time": "2023-08-09T05:42:26.905338",
     "status": "completed"
    },
    "tags": []
   },
   "outputs": [],
   "source": [
    "def plot_two_curves(\n",
    "        title: str,\n",
    "        train_curve: list[float],\n",
    "        val_curve: list[float],\n",
    "\n",
    "):\n",
    "    plt.figure(figsize=(16, 8))\n",
    "    plt.title(title)\n",
    "    plt.plot(train_curve, label=f'Train {title}')\n",
    "    plt.plot(val_curve, label=f'Valid {title}')\n",
    "    plt.legend()\n",
    "    plt.grid()\n",
    "    plt.show()\n"
   ]
  },
  {
   "cell_type": "code",
   "execution_count": 43,
   "id": "988065b4",
   "metadata": {
    "execution": {
     "iopub.execute_input": "2023-08-09T05:42:26.989318Z",
     "iopub.status.busy": "2023-08-09T05:42:26.988574Z",
     "iopub.status.idle": "2023-08-09T05:42:26.995102Z",
     "shell.execute_reply": "2023-08-09T05:42:26.994246Z"
    },
    "id": "GQrWiRJbTFDp",
    "papermill": {
     "duration": 0.034201,
     "end_time": "2023-08-09T05:42:26.997002",
     "exception": false,
     "start_time": "2023-08-09T05:42:26.962801",
     "status": "completed"
    },
    "tags": []
   },
   "outputs": [],
   "source": [
    "def plot_stats(\n",
    "        train_loss: list[float],\n",
    "        valid_loss: list[float],\n",
    "        train_accuracy: list[float]=None,\n",
    "        valid_accuracy: list[float]=None,\n",
    "        train_f1_score: list[float]=None,\n",
    "        valid_f1_score: list[float]=None,\n",
    "        title: str = None\n",
    "):\n",
    "    plot_two_curves(\n",
    "        'Loss',\n",
    "        train_loss,\n",
    "        valid_loss\n",
    "    )\n",
    "\n",
    "    if train_accuracy and valid_accuracy:\n",
    "        plot_two_curves(\n",
    "            'accuracy',\n",
    "            train_accuracy,\n",
    "            valid_accuracy\n",
    "        )\n",
    "\n",
    "    if train_f1_score and valid_f1_score:\n",
    "        plot_two_curves(\n",
    "            'F1 score',\n",
    "            train_f1_score,\n",
    "            valid_f1_score\n",
    "        )\n"
   ]
  },
  {
   "cell_type": "markdown",
   "id": "e58c011e",
   "metadata": {
    "id": "ePLlKs4rTFDq",
    "papermill": {
     "duration": 0.024527,
     "end_time": "2023-08-09T05:42:27.045843",
     "exception": false,
     "start_time": "2023-08-09T05:42:27.021316",
     "status": "completed"
    },
    "tags": []
   },
   "source": [
    "## 2. Training and evaluation functions"
   ]
  },
  {
   "cell_type": "code",
   "execution_count": 44,
   "id": "0848dc5a",
   "metadata": {
    "execution": {
     "iopub.execute_input": "2023-08-09T05:42:27.096146Z",
     "iopub.status.busy": "2023-08-09T05:42:27.095383Z",
     "iopub.status.idle": "2023-08-09T05:42:27.104444Z",
     "shell.execute_reply": "2023-08-09T05:42:27.103588Z"
    },
    "id": "QObsYKNJTFDq",
    "papermill": {
     "duration": 0.036318,
     "end_time": "2023-08-09T05:42:27.106453",
     "exception": false,
     "start_time": "2023-08-09T05:42:27.070135",
     "status": "completed"
    },
    "tags": []
   },
   "outputs": [],
   "source": [
    "def train_one_epoch(model, dataloader, optimizer, criterion, device, epoch: str):\n",
    "    model.train()\n",
    "\n",
    "    train_loss = 0.0\n",
    "    train_correct = 0.0\n",
    "    train_f1 = 0.0\n",
    "    n_batches = 0\n",
    "    data_size = 0\n",
    "    \n",
    "    with tqdm(dataloader, desc=f'Epoch: {epoch}', unit=\"batch\") as tepoch:\n",
    "        for images, labels in tepoch:\n",
    "            n_batches += 1\n",
    "            images = images.to(device)\n",
    "            labels = labels.to(device)\n",
    "\n",
    "            optimizer.zero_grad()\n",
    "\n",
    "            embeddings = model(images)\n",
    "\n",
    "            loss = criterion(embeddings, labels)\n",
    "            loss.backward()\n",
    "            optimizer.step()\n",
    "\n",
    "            loss = loss.item()  # item() extracts scalar\n",
    "            train_loss += loss\n",
    "\n",
    "            _, predicted = torch.max(embeddings.data, 1)\n",
    "\n",
    "            train_correct += (predicted == labels).sum().item()\n",
    "            data_size += labels.size(0)\n",
    "            train_accuracy = train_correct / data_size\n",
    "\n",
    "            f1 = f1_score(predicted, labels).item()\n",
    "            train_f1 += f1\n",
    "            tepoch.set_postfix(loss=loss, acc=train_accuracy)\n",
    "\n",
    "    train_loss /= n_batches\n",
    "    train_f1 /= n_batches\n",
    "    gc.collect()\n",
    "    torch.cuda.empty_cache()\n",
    "\n",
    "    return train_loss, train_accuracy, train_f1"
   ]
  },
  {
   "cell_type": "code",
   "execution_count": 45,
   "id": "c9d3e8fb",
   "metadata": {
    "execution": {
     "iopub.execute_input": "2023-08-09T05:42:27.156190Z",
     "iopub.status.busy": "2023-08-09T05:42:27.155929Z",
     "iopub.status.idle": "2023-08-09T05:42:27.164036Z",
     "shell.execute_reply": "2023-08-09T05:42:27.163183Z"
    },
    "id": "shn8rP6wTFDq",
    "papermill": {
     "duration": 0.035238,
     "end_time": "2023-08-09T05:42:27.165930",
     "exception": false,
     "start_time": "2023-08-09T05:42:27.130692",
     "status": "completed"
    },
    "tags": []
   },
   "outputs": [],
   "source": [
    "@torch.inference_mode()\n",
    "def validate_one_epoch(model, dataloader, criterion, device):\n",
    "    model.eval()\n",
    "\n",
    "    val_loss = 0.0\n",
    "    val_correct = 0.0\n",
    "    val_f1_score = 0.0\n",
    "    data_size = 0\n",
    "    n_batches = 0\n",
    "\n",
    "    with tqdm(dataloader, desc=\"Validation\",unit=\"batch\") as tepoch:\n",
    "        for images, labels in tepoch:\n",
    "            n_batches += 1\n",
    "            images = images.to(device)\n",
    "            labels = labels.to(device)\n",
    "            embeddings = model(images)\n",
    "\n",
    "            loss = criterion(embeddings, labels).item()\n",
    "            val_loss += loss\n",
    "\n",
    "            _, predicted = torch.max(embeddings.data, 1)\n",
    "\n",
    "            correct = (predicted == labels).sum().item()\n",
    "            val_correct += correct\n",
    "            data_size += labels.size(0)\n",
    "            val_accuracy = val_correct / data_size\n",
    "\n",
    "            f1 = f1_score(predicted, labels).item()\n",
    "            val_f1_score += f1\n",
    "            tepoch.set_postfix(loss=loss, acc=val_accuracy)\n",
    "\n",
    "    val_loss /= n_batches\n",
    "    val_f1_score /= n_batches\n",
    "    gc.collect()\n",
    "    torch.cuda.empty_cache()\n",
    "\n",
    "    return val_loss, val_accuracy, val_f1_score"
   ]
  },
  {
   "cell_type": "markdown",
   "id": "d6af2a25",
   "metadata": {
    "id": "1TWCVEGYTFDq",
    "papermill": {
     "duration": 0.024454,
     "end_time": "2023-08-09T05:42:27.214597",
     "exception": false,
     "start_time": "2023-08-09T05:42:27.190143",
     "status": "completed"
    },
    "tags": []
   },
   "source": [
    "## 3. Training cycle"
   ]
  },
  {
   "cell_type": "code",
   "execution_count": 46,
   "id": "f9789204",
   "metadata": {
    "execution": {
     "iopub.execute_input": "2023-08-09T05:42:27.264494Z",
     "iopub.status.busy": "2023-08-09T05:42:27.264234Z",
     "iopub.status.idle": "2023-08-09T05:42:27.275997Z",
     "shell.execute_reply": "2023-08-09T05:42:27.275124Z"
    },
    "id": "CXrp7xrOTFDu",
    "papermill": {
     "duration": 0.039106,
     "end_time": "2023-08-09T05:42:27.277953",
     "exception": false,
     "start_time": "2023-08-09T05:42:27.238847",
     "status": "completed"
    },
    "tags": []
   },
   "outputs": [],
   "source": [
    "  def train_model(model, train_loader, val_loader,\n",
    "                criterion=None, optimizer=None, num_epochs=5,\n",
    "                scheduler=None, device=torch.device(\"cpu\"),\n",
    "                save_model_to=None):\n",
    "    since = time.time()\n",
    "\n",
    "    train_loss_history, valid_loss_history = [], []\n",
    "    train_acc_history, valid_acc_history = [], []\n",
    "    train_f1_history, valid_f1_history = [], []\n",
    "\n",
    "\n",
    "    # Create a temporary directory to save training checkpoints\n",
    "    with TemporaryDirectory() as tempdir:\n",
    "        best_model_params_path = os.path.join(tempdir, 'best_model_params.pt')\n",
    "\n",
    "        for epoch in range(num_epochs):\n",
    "            train_loss, train_accuracy, train_f1 = train_one_epoch(model, train_loader, optimizer, criterion, device, epoch=f'{epoch+1}/{num_epochs}')\n",
    "            val_loss, val_accuracy, val_f1 = validate_one_epoch(model, val_loader, criterion, device,)\n",
    "\n",
    "            \n",
    "            print_highlighted(\n",
    "                f\"Loss: {val_loss:.4f} - Accuracy: {val_accuracy:.4f} - F1: {val_f1:.4f} - LR: {get_lr(optimizer)}\"\n",
    "            )\n",
    "\n",
    "            if not valid_loss_history or val_loss < valid_loss_history[-1]:\n",
    "                # If it's either first step (history is empty) or our weights are getting better\n",
    "                print_highlighted(\"New weights were applied.\\n\", bgcolor=Back.CYAN)\n",
    "                torch.save(model.state_dict(), best_model_params_path)\n",
    "\n",
    "            scheduler.step(val_loss)\n",
    "\n",
    "            train_loss_history.append(train_loss)\n",
    "            valid_loss_history.append(val_loss)\n",
    "            train_acc_history.append(train_accuracy)\n",
    "            valid_acc_history.append(val_accuracy)\n",
    "            train_f1_history.append(train_f1)\n",
    "            valid_f1_history.append(val_f1)\n",
    "\n",
    "            del train_loss\n",
    "            del val_loss\n",
    "            gc.collect()\n",
    "            torch.cuda.empty_cache()\n",
    "\n",
    "        time_elapsed = time.time() - since\n",
    "        print_highlighted(f'Training complete in {time_elapsed // 60:.0f}m {time_elapsed % 60:.0f}s')\n",
    "\n",
    "        # load best model weights\n",
    "        model.load_state_dict(torch.load(best_model_params_path))\n",
    "\n",
    "        if save_model_to:\n",
    "            torch.save(model, save_model_to)\n",
    "            print(f\"Model was saved to: {save_model_to}\")\n",
    "\n",
    "        history = dict(\n",
    "            train_loss=train_loss_history,\n",
    "            valid_loss=valid_loss_history,\n",
    "            train_accuracy=train_acc_history,\n",
    "            valid_accuracy=valid_acc_history,\n",
    "            train_f1_score=train_f1_history,\n",
    "            valid_f1_score=valid_f1_history,\n",
    "        )\n",
    "    return model, history"
   ]
  },
  {
   "cell_type": "markdown",
   "id": "ebf859df",
   "metadata": {
    "id": "GV7CqxbwTFDu",
    "papermill": {
     "duration": 0.024143,
     "end_time": "2023-08-09T05:42:27.326713",
     "exception": false,
     "start_time": "2023-08-09T05:42:27.302570",
     "status": "completed"
    },
    "tags": []
   },
   "source": [
    "# 6. Hyperparametres"
   ]
  },
  {
   "cell_type": "markdown",
   "id": "33cd38f2",
   "metadata": {
    "id": "zuQ9db32TFDv",
    "papermill": {
     "duration": 0.024196,
     "end_time": "2023-08-09T05:42:27.375245",
     "exception": false,
     "start_time": "2023-08-09T05:42:27.351049",
     "status": "completed"
    },
    "tags": []
   },
   "source": [
    "Custom Loss Function"
   ]
  },
  {
   "cell_type": "code",
   "execution_count": 47,
   "id": "ed26a9b0",
   "metadata": {
    "execution": {
     "iopub.execute_input": "2023-08-09T05:42:27.425590Z",
     "iopub.status.busy": "2023-08-09T05:42:27.425301Z",
     "iopub.status.idle": "2023-08-09T05:42:27.433848Z",
     "shell.execute_reply": "2023-08-09T05:42:27.432987Z"
    },
    "id": "wzYs3ipyTFDv",
    "papermill": {
     "duration": 0.036032,
     "end_time": "2023-08-09T05:42:27.435902",
     "exception": false,
     "start_time": "2023-08-09T05:42:27.399870",
     "status": "completed"
    },
    "tags": []
   },
   "outputs": [],
   "source": [
    "class FocalLoss(nn.Module):\n",
    "    def __init__(self, alpha=None, gamma=2, reduction='mean'):\n",
    "        super(FocalLoss, self).__init__()\n",
    "        self.alpha = alpha\n",
    "        self.gamma = gamma\n",
    "        self.reduction = reduction\n",
    "        self.ce_loss = nn.CrossEntropyLoss(reduction='none')\n",
    "\n",
    "    def forward(self, inputs, targets):\n",
    "        ce_loss = self.ce_loss(inputs, targets)\n",
    "        pt = torch.exp(-ce_loss)\n",
    "        focal_loss = ((1 - pt) ** self.gamma) * ce_loss\n",
    "\n",
    "        if self.alpha is not None and self.alpha != 1.0:\n",
    "            focal_loss = alpha * focal_loss\n",
    "\n",
    "        if self.reduction == 'mean':\n",
    "            return focal_loss.mean()\n",
    "        elif self.reduction == 'sum':\n",
    "            return focal_loss.sum()\n",
    "        else:\n",
    "            return focal_loss"
   ]
  },
  {
   "cell_type": "code",
   "execution_count": 48,
   "id": "d88373ed",
   "metadata": {
    "ExecuteTime": {
     "end_time": "2023-08-07T11:31:44.587501Z",
     "start_time": "2023-08-07T11:31:44.581064Z"
    },
    "collapsed": false,
    "execution": {
     "iopub.execute_input": "2023-08-09T05:42:27.485515Z",
     "iopub.status.busy": "2023-08-09T05:42:27.485250Z",
     "iopub.status.idle": "2023-08-09T05:42:27.489461Z",
     "shell.execute_reply": "2023-08-09T05:42:27.488562Z"
    },
    "id": "PQ1_CTZaTFDw",
    "jupyter": {
     "outputs_hidden": false
    },
    "papermill": {
     "duration": 0.031247,
     "end_time": "2023-08-09T05:42:27.491428",
     "exception": false,
     "start_time": "2023-08-09T05:42:27.460181",
     "status": "completed"
    },
    "tags": []
   },
   "outputs": [],
   "source": [
    "criterion = nn.CrossEntropyLoss()\n",
    "# criterion = FocalLoss(alpha=1.0, gamma=2, reduction = 'mean')"
   ]
  },
  {
   "cell_type": "code",
   "execution_count": 49,
   "id": "bbc92d08",
   "metadata": {
    "execution": {
     "iopub.execute_input": "2023-08-09T05:42:27.541244Z",
     "iopub.status.busy": "2023-08-09T05:42:27.540986Z",
     "iopub.status.idle": "2023-08-09T05:42:27.545182Z",
     "shell.execute_reply": "2023-08-09T05:42:27.544314Z"
    },
    "id": "HZAr_gPLTFDv",
    "papermill": {
     "duration": 0.031219,
     "end_time": "2023-08-09T05:42:27.547121",
     "exception": false,
     "start_time": "2023-08-09T05:42:27.515902",
     "status": "completed"
    },
    "tags": []
   },
   "outputs": [],
   "source": [
    "config.learning_rate = 1e-4\n",
    "config.epochs = 40\n",
    "config.weight_decay = 1e-5"
   ]
  },
  {
   "cell_type": "code",
   "execution_count": 50,
   "id": "1aa0dead",
   "metadata": {
    "ExecuteTime": {
     "end_time": "2023-08-07T11:31:44.587501Z",
     "start_time": "2023-08-07T11:31:44.581064Z"
    },
    "collapsed": false,
    "execution": {
     "iopub.execute_input": "2023-08-09T05:42:27.597652Z",
     "iopub.status.busy": "2023-08-09T05:42:27.596911Z",
     "iopub.status.idle": "2023-08-09T05:42:27.600966Z",
     "shell.execute_reply": "2023-08-09T05:42:27.600021Z"
    },
    "id": "XcMxhj2oTFDv",
    "jupyter": {
     "outputs_hidden": false
    },
    "papermill": {
     "duration": 0.03116,
     "end_time": "2023-08-09T05:42:27.602917",
     "exception": false,
     "start_time": "2023-08-09T05:42:27.571757",
     "status": "completed"
    },
    "tags": []
   },
   "outputs": [],
   "source": [
    "# optimizer = torch.optim.Adam(filter(lambda p: p.requires_grad, model.parameters()), lr=config.learning_rate, weight_decay = config.weight_decay)\n",
    "# optimizer = torch.optim.Adam(model.parameters(), lr=1e-3, weight_decay=0)\n",
    "# optimizer = torch.optim.SGD(model.parameters(), lr=config.learning_rate, momentum=0.8)\n",
    "# optimizer = torch.optim.Adam(model.parameters(), lr=1e-4)\n"
   ]
  },
  {
   "cell_type": "code",
   "execution_count": 51,
   "id": "1dab0154",
   "metadata": {
    "execution": {
     "iopub.execute_input": "2023-08-09T05:42:27.653150Z",
     "iopub.status.busy": "2023-08-09T05:42:27.652411Z",
     "iopub.status.idle": "2023-08-09T05:42:27.659390Z",
     "shell.execute_reply": "2023-08-09T05:42:27.658545Z"
    },
    "papermill": {
     "duration": 0.034009,
     "end_time": "2023-08-09T05:42:27.661281",
     "exception": false,
     "start_time": "2023-08-09T05:42:27.627272",
     "status": "completed"
    },
    "tags": []
   },
   "outputs": [],
   "source": [
    "optimizer = torch.optim.Adam(\n",
    "    [\n",
    "    {'params': filter(lambda p: p.requires_grad, model.features.parameters())},\n",
    "    {'params': model.classifier.parameters(), 'lr': 1e-2}  # We set higher LR for classifier\n",
    "    ],\n",
    "    lr=config.learning_rate, \n",
    "    weight_decay = config.weight_decay)\n"
   ]
  },
  {
   "cell_type": "code",
   "execution_count": 52,
   "id": "2f8d5866",
   "metadata": {
    "ExecuteTime": {
     "end_time": "2023-08-07T11:31:44.587501Z",
     "start_time": "2023-08-07T11:31:44.581064Z"
    },
    "collapsed": false,
    "execution": {
     "iopub.execute_input": "2023-08-09T05:42:27.711328Z",
     "iopub.status.busy": "2023-08-09T05:42:27.710649Z",
     "iopub.status.idle": "2023-08-09T05:42:27.715793Z",
     "shell.execute_reply": "2023-08-09T05:42:27.714953Z"
    },
    "id": "mb4RgCFlTFDw",
    "jupyter": {
     "outputs_hidden": false
    },
    "papermill": {
     "duration": 0.032311,
     "end_time": "2023-08-09T05:42:27.717726",
     "exception": false,
     "start_time": "2023-08-09T05:42:27.685415",
     "status": "completed"
    },
    "tags": []
   },
   "outputs": [],
   "source": [
    "# scheduler = optim.lr_scheduler.StepLR(optimizer, step_size=2, gamma=0.5, verbose=False)\n",
    "scheduler = optim.lr_scheduler.ReduceLROnPlateau(optimizer, 'min', patience = 5, factor=0.5, min_lr=config.min_lr , verbose=False)\n",
    "# scheduler = optim.lr_scheduler.ExponentialLR(optimizer, gamma=0.5, verbose=False)\n",
    "# scheduler = optim.lr_scheduler.StepLR(optimizer=optimizer, step_size=10, gamma=0.5, verbose=False)"
   ]
  },
  {
   "cell_type": "code",
   "execution_count": 53,
   "id": "98fa4632",
   "metadata": {
    "execution": {
     "iopub.execute_input": "2023-08-09T05:42:27.769932Z",
     "iopub.status.busy": "2023-08-09T05:42:27.769672Z",
     "iopub.status.idle": "2023-08-09T05:42:27.774151Z",
     "shell.execute_reply": "2023-08-09T05:42:27.773243Z"
    },
    "papermill": {
     "duration": 0.033368,
     "end_time": "2023-08-09T05:42:27.776041",
     "exception": false,
     "start_time": "2023-08-09T05:42:27.742673",
     "status": "completed"
    },
    "tags": []
   },
   "outputs": [],
   "source": [
    "def get_lr(optimizer):\n",
    "    \"\"\"\n",
    "    For some schedulers we don't have `get_last_lr()` method.\n",
    "    So, we will get last lr ourselves.\n",
    "    \"\"\"\n",
    "    return list(\n",
    "        [group['lr'] for group in optimizer.param_groups]\n",
    "    )"
   ]
  },
  {
   "cell_type": "code",
   "execution_count": 54,
   "id": "aa587d6c",
   "metadata": {
    "execution": {
     "iopub.execute_input": "2023-08-09T05:42:27.826001Z",
     "iopub.status.busy": "2023-08-09T05:42:27.825247Z",
     "iopub.status.idle": "2023-08-09T05:42:27.831280Z",
     "shell.execute_reply": "2023-08-09T05:42:27.830356Z"
    },
    "papermill": {
     "duration": 0.03301,
     "end_time": "2023-08-09T05:42:27.833193",
     "exception": false,
     "start_time": "2023-08-09T05:42:27.800183",
     "status": "completed"
    },
    "tags": []
   },
   "outputs": [
    {
     "data": {
      "text/plain": [
       "[0.0005, 0.001]"
      ]
     },
     "execution_count": 54,
     "metadata": {},
     "output_type": "execute_result"
    }
   ],
   "source": [
    "get_lr(optimizer)"
   ]
  },
  {
   "cell_type": "markdown",
   "id": "d18e788a",
   "metadata": {
    "id": "CKuqXRwrTFDw",
    "papermill": {
     "duration": 0.024439,
     "end_time": "2023-08-09T05:42:27.882181",
     "exception": false,
     "start_time": "2023-08-09T05:42:27.857742",
     "status": "completed"
    },
    "tags": []
   },
   "source": [
    "# 7. Run the training process"
   ]
  },
  {
   "cell_type": "code",
   "execution_count": 55,
   "id": "85401bd5",
   "metadata": {
    "collapsed": false,
    "execution": {
     "iopub.execute_input": "2023-08-09T05:42:27.932259Z",
     "iopub.status.busy": "2023-08-09T05:42:27.931975Z",
     "iopub.status.idle": "2023-08-09T07:16:32.112276Z",
     "shell.execute_reply": "2023-08-09T07:16:32.110300Z"
    },
    "id": "9WxsyvplTFDw",
    "jupyter": {
     "outputs_hidden": false
    },
    "outputId": "de053f41-a9bb-49b4-ceec-4245ce71efe0",
    "papermill": {
     "duration": 5644.207852,
     "end_time": "2023-08-09T07:16:32.114567",
     "exception": false,
     "start_time": "2023-08-09T05:42:27.906715",
     "status": "completed"
    },
    "pycharm": {
     "is_executing": true
    },
    "tags": []
   },
   "outputs": [
    {
     "name": "stderr",
     "output_type": "stream",
     "text": [
      "Epoch: 1/40: 100%|██████████| 171/171 [03:11<00:00,  1.12s/batch, acc=0.29, loss=6.21]\n",
      "Validation: 100%|██████████| 11/11 [00:22<00:00,  2.02s/batch, acc=0.343, loss=6.34]\n"
     ]
    },
    {
     "name": "stdout",
     "output_type": "stream",
     "text": [
      "\u001B[43mLoss: 6.3147 - Accuracy: 0.3427 - F1: 0.1597 - LR: [0.0005, 0.001]\u001B[0m\n",
      "\u001B[46mNew weights were applied.\n",
      "\u001B[0m\n"
     ]
    },
    {
     "name": "stderr",
     "output_type": "stream",
     "text": [
      "Epoch: 2/40: 100%|██████████| 171/171 [02:05<00:00,  1.36batch/s, acc=0.5, loss=6.12]\n",
      "Validation: 100%|██████████| 11/11 [00:09<00:00,  1.13batch/s, acc=0.431, loss=6.23]\n"
     ]
    },
    {
     "name": "stdout",
     "output_type": "stream",
     "text": [
      "\u001B[43mLoss: 6.2230 - Accuracy: 0.4314 - F1: 0.2136 - LR: [0.0005, 0.001]\u001B[0m\n",
      "\u001B[46mNew weights were applied.\n",
      "\u001B[0m\n"
     ]
    },
    {
     "name": "stderr",
     "output_type": "stream",
     "text": [
      "Epoch: 3/40: 100%|██████████| 171/171 [02:05<00:00,  1.36batch/s, acc=0.562, loss=6.24]\n",
      "Validation: 100%|██████████| 11/11 [00:10<00:00,  1.05batch/s, acc=0.47, loss=6.16]\n"
     ]
    },
    {
     "name": "stdout",
     "output_type": "stream",
     "text": [
      "\u001B[43mLoss: 6.1824 - Accuracy: 0.4703 - F1: 0.2388 - LR: [0.0005, 0.001]\u001B[0m\n",
      "\u001B[46mNew weights were applied.\n",
      "\u001B[0m\n"
     ]
    },
    {
     "name": "stderr",
     "output_type": "stream",
     "text": [
      "Epoch: 4/40: 100%|██████████| 171/171 [02:05<00:00,  1.37batch/s, acc=0.591, loss=6.03]\n",
      "Validation: 100%|██████████| 11/11 [00:09<00:00,  1.13batch/s, acc=0.488, loss=6.14]\n"
     ]
    },
    {
     "name": "stdout",
     "output_type": "stream",
     "text": [
      "\u001B[43mLoss: 6.1597 - Accuracy: 0.4883 - F1: 0.2539 - LR: [0.0005, 0.001]\u001B[0m\n",
      "\u001B[46mNew weights were applied.\n",
      "\u001B[0m\n"
     ]
    },
    {
     "name": "stderr",
     "output_type": "stream",
     "text": [
      "Epoch: 5/40: 100%|██████████| 171/171 [02:05<00:00,  1.36batch/s, acc=0.615, loss=6.07]\n",
      "Validation: 100%|██████████| 11/11 [00:10<00:00,  1.09batch/s, acc=0.509, loss=6.12]\n"
     ]
    },
    {
     "name": "stdout",
     "output_type": "stream",
     "text": [
      "\u001B[43mLoss: 6.1411 - Accuracy: 0.5088 - F1: 0.2762 - LR: [0.0005, 0.001]\u001B[0m\n",
      "\u001B[46mNew weights were applied.\n",
      "\u001B[0m\n"
     ]
    },
    {
     "name": "stderr",
     "output_type": "stream",
     "text": [
      "Epoch: 6/40: 100%|██████████| 171/171 [02:05<00:00,  1.36batch/s, acc=0.637, loss=6.09]\n",
      "Validation: 100%|██████████| 11/11 [00:09<00:00,  1.11batch/s, acc=0.517, loss=6.12]\n"
     ]
    },
    {
     "name": "stdout",
     "output_type": "stream",
     "text": [
      "\u001B[43mLoss: 6.1299 - Accuracy: 0.5171 - F1: 0.2759 - LR: [0.0005, 0.001]\u001B[0m\n",
      "\u001B[46mNew weights were applied.\n",
      "\u001B[0m\n"
     ]
    },
    {
     "name": "stderr",
     "output_type": "stream",
     "text": [
      "Epoch: 7/40: 100%|██████████| 171/171 [02:04<00:00,  1.37batch/s, acc=0.652, loss=5.94]\n",
      "Validation: 100%|██████████| 11/11 [00:10<00:00,  1.07batch/s, acc=0.528, loss=6.07]\n"
     ]
    },
    {
     "name": "stdout",
     "output_type": "stream",
     "text": [
      "\u001B[43mLoss: 6.1176 - Accuracy: 0.5276 - F1: 0.2894 - LR: [0.0005, 0.001]\u001B[0m\n",
      "\u001B[46mNew weights were applied.\n",
      "\u001B[0m\n"
     ]
    },
    {
     "name": "stderr",
     "output_type": "stream",
     "text": [
      "Epoch: 8/40: 100%|██████████| 171/171 [02:06<00:00,  1.35batch/s, acc=0.661, loss=6.09]\n",
      "Validation: 100%|██████████| 11/11 [00:10<00:00,  1.05batch/s, acc=0.547, loss=6.08]\n"
     ]
    },
    {
     "name": "stdout",
     "output_type": "stream",
     "text": [
      "\u001B[43mLoss: 6.1038 - Accuracy: 0.5467 - F1: 0.2998 - LR: [0.0005, 0.001]\u001B[0m\n",
      "\u001B[46mNew weights were applied.\n",
      "\u001B[0m\n"
     ]
    },
    {
     "name": "stderr",
     "output_type": "stream",
     "text": [
      "Epoch: 9/40: 100%|██████████| 171/171 [02:06<00:00,  1.35batch/s, acc=0.668, loss=5.93]\n",
      "Validation: 100%|██████████| 11/11 [00:10<00:00,  1.04batch/s, acc=0.546, loss=6.06]\n"
     ]
    },
    {
     "name": "stdout",
     "output_type": "stream",
     "text": [
      "\u001B[43mLoss: 6.0993 - Accuracy: 0.5463 - F1: 0.3055 - LR: [0.0005, 0.001]\u001B[0m\n",
      "\u001B[46mNew weights were applied.\n",
      "\u001B[0m\n"
     ]
    },
    {
     "name": "stderr",
     "output_type": "stream",
     "text": [
      "Epoch: 10/40: 100%|██████████| 171/171 [02:08<00:00,  1.33batch/s, acc=0.677, loss=5.93]\n",
      "Validation: 100%|██████████| 11/11 [00:09<00:00,  1.11batch/s, acc=0.563, loss=6.04]\n"
     ]
    },
    {
     "name": "stdout",
     "output_type": "stream",
     "text": [
      "\u001B[43mLoss: 6.0854 - Accuracy: 0.5625 - F1: 0.3143 - LR: [0.0005, 0.001]\u001B[0m\n",
      "\u001B[46mNew weights were applied.\n",
      "\u001B[0m\n"
     ]
    },
    {
     "name": "stderr",
     "output_type": "stream",
     "text": [
      "Epoch: 11/40: 100%|██████████| 171/171 [02:06<00:00,  1.36batch/s, acc=0.685, loss=5.98]\n",
      "Validation: 100%|██████████| 11/11 [00:09<00:00,  1.12batch/s, acc=0.575, loss=6.04]\n"
     ]
    },
    {
     "name": "stdout",
     "output_type": "stream",
     "text": [
      "\u001B[43mLoss: 6.0736 - Accuracy: 0.5751 - F1: 0.3246 - LR: [0.0005, 0.001]\u001B[0m\n",
      "\u001B[46mNew weights were applied.\n",
      "\u001B[0m\n"
     ]
    },
    {
     "name": "stderr",
     "output_type": "stream",
     "text": [
      "Epoch: 12/40: 100%|██████████| 171/171 [02:07<00:00,  1.34batch/s, acc=0.693, loss=6.05]\n",
      "Validation: 100%|██████████| 11/11 [00:10<00:00,  1.01batch/s, acc=0.565, loss=6.04]\n"
     ]
    },
    {
     "name": "stdout",
     "output_type": "stream",
     "text": [
      "\u001B[43mLoss: 6.0778 - Accuracy: 0.5647 - F1: 0.3135 - LR: [0.0005, 0.001]\u001B[0m\n"
     ]
    },
    {
     "name": "stderr",
     "output_type": "stream",
     "text": [
      "Epoch: 13/40: 100%|██████████| 171/171 [02:06<00:00,  1.35batch/s, acc=0.696, loss=6.08]\n",
      "Validation: 100%|██████████| 11/11 [00:09<00:00,  1.11batch/s, acc=0.574, loss=6.02]\n"
     ]
    },
    {
     "name": "stdout",
     "output_type": "stream",
     "text": [
      "\u001B[43mLoss: 6.0680 - Accuracy: 0.5744 - F1: 0.3219 - LR: [0.0005, 0.001]\u001B[0m\n",
      "\u001B[46mNew weights were applied.\n",
      "\u001B[0m\n"
     ]
    },
    {
     "name": "stderr",
     "output_type": "stream",
     "text": [
      "Epoch: 14/40: 100%|██████████| 171/171 [02:06<00:00,  1.36batch/s, acc=0.704, loss=6.07]\n",
      "Validation: 100%|██████████| 11/11 [00:09<00:00,  1.12batch/s, acc=0.577, loss=6.01]\n"
     ]
    },
    {
     "name": "stdout",
     "output_type": "stream",
     "text": [
      "\u001B[43mLoss: 6.0686 - Accuracy: 0.5773 - F1: 0.3284 - LR: [0.0005, 0.001]\u001B[0m\n"
     ]
    },
    {
     "name": "stderr",
     "output_type": "stream",
     "text": [
      "Epoch: 15/40: 100%|██████████| 171/171 [02:06<00:00,  1.35batch/s, acc=0.704, loss=5.85]\n",
      "Validation: 100%|██████████| 11/11 [00:10<00:00,  1.01batch/s, acc=0.593, loss=6]\n"
     ]
    },
    {
     "name": "stdout",
     "output_type": "stream",
     "text": [
      "\u001B[43mLoss: 6.0574 - Accuracy: 0.5928 - F1: 0.3401 - LR: [0.0005, 0.001]\u001B[0m\n",
      "\u001B[46mNew weights were applied.\n",
      "\u001B[0m\n"
     ]
    },
    {
     "name": "stderr",
     "output_type": "stream",
     "text": [
      "Epoch: 16/40: 100%|██████████| 171/171 [02:06<00:00,  1.35batch/s, acc=0.712, loss=5.98]\n",
      "Validation: 100%|██████████| 11/11 [00:09<00:00,  1.12batch/s, acc=0.583, loss=6.01]\n"
     ]
    },
    {
     "name": "stdout",
     "output_type": "stream",
     "text": [
      "\u001B[43mLoss: 6.0599 - Accuracy: 0.5834 - F1: 0.3352 - LR: [0.0005, 0.001]\u001B[0m\n"
     ]
    },
    {
     "name": "stderr",
     "output_type": "stream",
     "text": [
      "Epoch: 17/40: 100%|██████████| 171/171 [02:06<00:00,  1.35batch/s, acc=0.712, loss=6.06]\n",
      "Validation: 100%|██████████| 11/11 [00:09<00:00,  1.13batch/s, acc=0.594, loss=6]\n"
     ]
    },
    {
     "name": "stdout",
     "output_type": "stream",
     "text": [
      "\u001B[43mLoss: 6.0483 - Accuracy: 0.5942 - F1: 0.3396 - LR: [0.0005, 0.001]\u001B[0m\n",
      "\u001B[46mNew weights were applied.\n",
      "\u001B[0m\n"
     ]
    },
    {
     "name": "stderr",
     "output_type": "stream",
     "text": [
      "Epoch: 18/40: 100%|██████████| 171/171 [02:06<00:00,  1.35batch/s, acc=0.719, loss=5.87]\n",
      "Validation: 100%|██████████| 11/11 [00:10<00:00,  1.07batch/s, acc=0.591, loss=6.02]\n"
     ]
    },
    {
     "name": "stdout",
     "output_type": "stream",
     "text": [
      "\u001B[43mLoss: 6.0511 - Accuracy: 0.5910 - F1: 0.3436 - LR: [0.0005, 0.001]\u001B[0m\n"
     ]
    },
    {
     "name": "stderr",
     "output_type": "stream",
     "text": [
      "Epoch: 19/40: 100%|██████████| 171/171 [02:06<00:00,  1.35batch/s, acc=0.72, loss=6.01]\n",
      "Validation: 100%|██████████| 11/11 [00:09<00:00,  1.12batch/s, acc=0.599, loss=6.02]\n"
     ]
    },
    {
     "name": "stdout",
     "output_type": "stream",
     "text": [
      "\u001B[43mLoss: 6.0470 - Accuracy: 0.5989 - F1: 0.3508 - LR: [0.0005, 0.001]\u001B[0m\n",
      "\u001B[46mNew weights were applied.\n",
      "\u001B[0m\n"
     ]
    },
    {
     "name": "stderr",
     "output_type": "stream",
     "text": [
      "Epoch: 20/40: 100%|██████████| 171/171 [02:06<00:00,  1.35batch/s, acc=0.728, loss=6.11]\n",
      "Validation: 100%|██████████| 11/11 [00:10<00:00,  1.04batch/s, acc=0.595, loss=6]\n"
     ]
    },
    {
     "name": "stdout",
     "output_type": "stream",
     "text": [
      "\u001B[43mLoss: 6.0485 - Accuracy: 0.5946 - F1: 0.3476 - LR: [0.0005, 0.001]\u001B[0m\n"
     ]
    },
    {
     "name": "stderr",
     "output_type": "stream",
     "text": [
      "Epoch: 21/40: 100%|██████████| 171/171 [02:07<00:00,  1.34batch/s, acc=0.728, loss=6.02]\n",
      "Validation: 100%|██████████| 11/11 [00:10<00:00,  1.07batch/s, acc=0.608, loss=5.99]\n"
     ]
    },
    {
     "name": "stdout",
     "output_type": "stream",
     "text": [
      "\u001B[43mLoss: 6.0364 - Accuracy: 0.6079 - F1: 0.3661 - LR: [0.0005, 0.001]\u001B[0m\n",
      "\u001B[46mNew weights were applied.\n",
      "\u001B[0m\n"
     ]
    },
    {
     "name": "stderr",
     "output_type": "stream",
     "text": [
      "Epoch: 22/40: 100%|██████████| 171/171 [02:06<00:00,  1.35batch/s, acc=0.735, loss=5.94]\n",
      "Validation: 100%|██████████| 11/11 [00:09<00:00,  1.13batch/s, acc=0.608, loss=6]\n"
     ]
    },
    {
     "name": "stdout",
     "output_type": "stream",
     "text": [
      "\u001B[43mLoss: 6.0368 - Accuracy: 0.6079 - F1: 0.3588 - LR: [0.0005, 0.001]\u001B[0m\n"
     ]
    },
    {
     "name": "stderr",
     "output_type": "stream",
     "text": [
      "Epoch: 23/40: 100%|██████████| 171/171 [02:06<00:00,  1.35batch/s, acc=0.736, loss=6.01]\n",
      "Validation: 100%|██████████| 11/11 [00:10<00:00,  1.05batch/s, acc=0.611, loss=5.99]\n"
     ]
    },
    {
     "name": "stdout",
     "output_type": "stream",
     "text": [
      "\u001B[43mLoss: 6.0354 - Accuracy: 0.6112 - F1: 0.3636 - LR: [0.0005, 0.001]\u001B[0m\n",
      "\u001B[46mNew weights were applied.\n",
      "\u001B[0m\n"
     ]
    },
    {
     "name": "stderr",
     "output_type": "stream",
     "text": [
      "Epoch: 24/40: 100%|██████████| 171/171 [02:06<00:00,  1.36batch/s, acc=0.741, loss=5.86]\n",
      "Validation: 100%|██████████| 11/11 [00:09<00:00,  1.12batch/s, acc=0.62, loss=6.01]\n"
     ]
    },
    {
     "name": "stdout",
     "output_type": "stream",
     "text": [
      "\u001B[43mLoss: 6.0257 - Accuracy: 0.6198 - F1: 0.3690 - LR: [0.0005, 0.001]\u001B[0m\n",
      "\u001B[46mNew weights were applied.\n",
      "\u001B[0m\n"
     ]
    },
    {
     "name": "stderr",
     "output_type": "stream",
     "text": [
      "Epoch: 25/40: 100%|██████████| 171/171 [02:06<00:00,  1.35batch/s, acc=0.742, loss=5.9]\n",
      "Validation: 100%|██████████| 11/11 [00:10<00:00,  1.05batch/s, acc=0.621, loss=5.97]\n"
     ]
    },
    {
     "name": "stdout",
     "output_type": "stream",
     "text": [
      "\u001B[43mLoss: 6.0199 - Accuracy: 0.6205 - F1: 0.3724 - LR: [0.0005, 0.001]\u001B[0m\n",
      "\u001B[46mNew weights were applied.\n",
      "\u001B[0m\n"
     ]
    },
    {
     "name": "stderr",
     "output_type": "stream",
     "text": [
      "Epoch: 26/40: 100%|██████████| 171/171 [02:08<00:00,  1.34batch/s, acc=0.749, loss=5.88]\n",
      "Validation: 100%|██████████| 11/11 [00:10<00:00,  1.08batch/s, acc=0.626, loss=6.01]\n"
     ]
    },
    {
     "name": "stdout",
     "output_type": "stream",
     "text": [
      "\u001B[43mLoss: 6.0214 - Accuracy: 0.6256 - F1: 0.3785 - LR: [0.0005, 0.001]\u001B[0m\n"
     ]
    },
    {
     "name": "stderr",
     "output_type": "stream",
     "text": [
      "Epoch: 27/40: 100%|██████████| 171/171 [02:08<00:00,  1.33batch/s, acc=0.754, loss=5.94]\n",
      "Validation: 100%|██████████| 11/11 [00:09<00:00,  1.11batch/s, acc=0.628, loss=6.02]\n"
     ]
    },
    {
     "name": "stdout",
     "output_type": "stream",
     "text": [
      "\u001B[43mLoss: 6.0208 - Accuracy: 0.6277 - F1: 0.3792 - LR: [0.0005, 0.001]\u001B[0m\n",
      "\u001B[46mNew weights were applied.\n",
      "\u001B[0m\n"
     ]
    },
    {
     "name": "stderr",
     "output_type": "stream",
     "text": [
      "Epoch: 28/40: 100%|██████████| 171/171 [02:09<00:00,  1.32batch/s, acc=0.755, loss=5.89]\n",
      "Validation: 100%|██████████| 11/11 [00:11<00:00,  1.00s/batch, acc=0.63, loss=5.96]\n"
     ]
    },
    {
     "name": "stdout",
     "output_type": "stream",
     "text": [
      "\u001B[43mLoss: 6.0159 - Accuracy: 0.6295 - F1: 0.3869 - LR: [0.0005, 0.001]\u001B[0m\n",
      "\u001B[46mNew weights were applied.\n",
      "\u001B[0m\n"
     ]
    },
    {
     "name": "stderr",
     "output_type": "stream",
     "text": [
      "Epoch: 29/40: 100%|██████████| 171/171 [02:09<00:00,  1.32batch/s, acc=0.757, loss=6]\n",
      "Validation: 100%|██████████| 11/11 [00:09<00:00,  1.11batch/s, acc=0.63, loss=5.97]\n"
     ]
    },
    {
     "name": "stdout",
     "output_type": "stream",
     "text": [
      "\u001B[43mLoss: 6.0139 - Accuracy: 0.6303 - F1: 0.3848 - LR: [0.0005, 0.001]\u001B[0m\n",
      "\u001B[46mNew weights were applied.\n",
      "\u001B[0m\n"
     ]
    },
    {
     "name": "stderr",
     "output_type": "stream",
     "text": [
      "Epoch: 30/40: 100%|██████████| 171/171 [02:09<00:00,  1.32batch/s, acc=0.759, loss=5.86]\n",
      "Validation: 100%|██████████| 11/11 [00:10<00:00,  1.03batch/s, acc=0.632, loss=5.97]\n"
     ]
    },
    {
     "name": "stdout",
     "output_type": "stream",
     "text": [
      "\u001B[43mLoss: 6.0131 - Accuracy: 0.6324 - F1: 0.3852 - LR: [0.0005, 0.001]\u001B[0m\n",
      "\u001B[46mNew weights were applied.\n",
      "\u001B[0m\n"
     ]
    },
    {
     "name": "stderr",
     "output_type": "stream",
     "text": [
      "Epoch: 31/40: 100%|██████████| 171/171 [02:09<00:00,  1.32batch/s, acc=0.762, loss=5.94]\n",
      "Validation: 100%|██████████| 11/11 [00:10<00:00,  1.06batch/s, acc=0.628, loss=6.02]\n"
     ]
    },
    {
     "name": "stdout",
     "output_type": "stream",
     "text": [
      "\u001B[43mLoss: 6.0189 - Accuracy: 0.6277 - F1: 0.3794 - LR: [0.0005, 0.001]\u001B[0m\n"
     ]
    },
    {
     "name": "stderr",
     "output_type": "stream",
     "text": [
      "Epoch: 32/40: 100%|██████████| 171/171 [02:08<00:00,  1.33batch/s, acc=0.763, loss=5.9]\n",
      "Validation: 100%|██████████| 11/11 [00:10<00:00,  1.03batch/s, acc=0.636, loss=6.01]\n"
     ]
    },
    {
     "name": "stdout",
     "output_type": "stream",
     "text": [
      "\u001B[43mLoss: 6.0129 - Accuracy: 0.6357 - F1: 0.3923 - LR: [0.0005, 0.001]\u001B[0m\n",
      "\u001B[46mNew weights were applied.\n",
      "\u001B[0m\n"
     ]
    },
    {
     "name": "stderr",
     "output_type": "stream",
     "text": [
      "Epoch: 33/40: 100%|██████████| 171/171 [02:08<00:00,  1.33batch/s, acc=0.764, loss=6]\n",
      "Validation: 100%|██████████| 11/11 [00:09<00:00,  1.11batch/s, acc=0.639, loss=6]\n"
     ]
    },
    {
     "name": "stdout",
     "output_type": "stream",
     "text": [
      "\u001B[43mLoss: 6.0083 - Accuracy: 0.6393 - F1: 0.3927 - LR: [0.0005, 0.001]\u001B[0m\n",
      "\u001B[46mNew weights were applied.\n",
      "\u001B[0m\n"
     ]
    },
    {
     "name": "stderr",
     "output_type": "stream",
     "text": [
      "Epoch: 34/40: 100%|██████████| 171/171 [02:09<00:00,  1.32batch/s, acc=0.767, loss=6]\n",
      "Validation: 100%|██████████| 11/11 [00:09<00:00,  1.13batch/s, acc=0.644, loss=5.98]\n"
     ]
    },
    {
     "name": "stdout",
     "output_type": "stream",
     "text": [
      "\u001B[43mLoss: 6.0032 - Accuracy: 0.6443 - F1: 0.3988 - LR: [0.0005, 0.001]\u001B[0m\n",
      "\u001B[46mNew weights were applied.\n",
      "\u001B[0m\n"
     ]
    },
    {
     "name": "stderr",
     "output_type": "stream",
     "text": [
      "Epoch: 35/40: 100%|██████████| 171/171 [02:09<00:00,  1.32batch/s, acc=0.768, loss=6.01]\n",
      "Validation: 100%|██████████| 11/11 [00:10<00:00,  1.03batch/s, acc=0.637, loss=5.99]\n"
     ]
    },
    {
     "name": "stdout",
     "output_type": "stream",
     "text": [
      "\u001B[43mLoss: 6.0089 - Accuracy: 0.6368 - F1: 0.3921 - LR: [0.0005, 0.001]\u001B[0m\n"
     ]
    },
    {
     "name": "stderr",
     "output_type": "stream",
     "text": [
      "Epoch: 36/40: 100%|██████████| 171/171 [02:07<00:00,  1.34batch/s, acc=0.768, loss=5.86]\n",
      "Validation: 100%|██████████| 11/11 [00:10<00:00,  1.03batch/s, acc=0.641, loss=6.01]\n"
     ]
    },
    {
     "name": "stdout",
     "output_type": "stream",
     "text": [
      "\u001B[43mLoss: 6.0065 - Accuracy: 0.6411 - F1: 0.3922 - LR: [0.0005, 0.001]\u001B[0m\n",
      "\u001B[46mNew weights were applied.\n",
      "\u001B[0m\n"
     ]
    },
    {
     "name": "stderr",
     "output_type": "stream",
     "text": [
      "Epoch: 37/40: 100%|██████████| 171/171 [02:08<00:00,  1.33batch/s, acc=0.771, loss=5.92]\n",
      "Validation: 100%|██████████| 11/11 [00:09<00:00,  1.11batch/s, acc=0.64, loss=5.99]\n"
     ]
    },
    {
     "name": "stdout",
     "output_type": "stream",
     "text": [
      "\u001B[43mLoss: 6.0071 - Accuracy: 0.6396 - F1: 0.3951 - LR: [0.0005, 0.001]\u001B[0m\n"
     ]
    },
    {
     "name": "stderr",
     "output_type": "stream",
     "text": [
      "Epoch: 38/40: 100%|██████████| 171/171 [02:09<00:00,  1.32batch/s, acc=0.772, loss=5.86]\n",
      "Validation: 100%|██████████| 11/11 [00:09<00:00,  1.12batch/s, acc=0.646, loss=5.97]\n"
     ]
    },
    {
     "name": "stdout",
     "output_type": "stream",
     "text": [
      "\u001B[43mLoss: 6.0005 - Accuracy: 0.6465 - F1: 0.4006 - LR: [0.0005, 0.001]\u001B[0m\n",
      "\u001B[46mNew weights were applied.\n",
      "\u001B[0m\n"
     ]
    },
    {
     "name": "stderr",
     "output_type": "stream",
     "text": [
      "Epoch: 39/40: 100%|██████████| 171/171 [02:08<00:00,  1.33batch/s, acc=0.774, loss=5.85]\n",
      "Validation: 100%|██████████| 11/11 [00:10<00:00,  1.01batch/s, acc=0.641, loss=5.99]\n"
     ]
    },
    {
     "name": "stdout",
     "output_type": "stream",
     "text": [
      "\u001B[43mLoss: 6.0043 - Accuracy: 0.6407 - F1: 0.3898 - LR: [0.0005, 0.001]\u001B[0m\n"
     ]
    },
    {
     "name": "stderr",
     "output_type": "stream",
     "text": [
      "Epoch: 40/40: 100%|██████████| 171/171 [02:08<00:00,  1.33batch/s, acc=0.774, loss=5.84]\n",
      "Validation: 100%|██████████| 11/11 [00:09<00:00,  1.11batch/s, acc=0.646, loss=5.98]\n"
     ]
    },
    {
     "name": "stdout",
     "output_type": "stream",
     "text": [
      "\u001B[43mLoss: 6.0023 - Accuracy: 0.6461 - F1: 0.3970 - LR: [0.0005, 0.001]\u001B[0m\n",
      "\u001B[46mNew weights were applied.\n",
      "\u001B[0m\n",
      "\u001B[43mTraining complete in 94m 4s\u001B[0m\n",
      "Model was saved to: fine-tuned_efficientnet_b0.pth\n"
     ]
    }
   ],
   "source": [
    "model, history = train_model(model=model,\n",
    "                    train_loader=train_dataloader,\n",
    "                    val_loader=test_dataloader,\n",
    "                    criterion=criterion,\n",
    "                    optimizer=optimizer,\n",
    "                    num_epochs=config.epochs,\n",
    "                    device=device,\n",
    "                    scheduler=scheduler,\n",
    "                    save_model_to=f'fine-tuned_{config.model_name}.pth')"
   ]
  },
  {
   "cell_type": "code",
   "execution_count": 56,
   "id": "7e073fd2",
   "metadata": {
    "execution": {
     "iopub.execute_input": "2023-08-09T07:16:34.464371Z",
     "iopub.status.busy": "2023-08-09T07:16:34.463989Z",
     "iopub.status.idle": "2023-08-09T07:16:35.499346Z",
     "shell.execute_reply": "2023-08-09T07:16:35.498408Z"
    },
    "id": "7zTLOYTWTFDx",
    "papermill": {
     "duration": 2.249346,
     "end_time": "2023-08-09T07:16:35.501657",
     "exception": false,
     "start_time": "2023-08-09T07:16:33.252311",
     "status": "completed"
    },
    "pycharm": {
     "is_executing": true
    },
    "tags": []
   },
   "outputs": [
    {
     "data": {
      "image/png": "[encoded data removed]",
      "text/plain": [
       "<Figure size 1600x800 with 1 Axes>"
      ]
     },
     "metadata": {},
     "output_type": "display_data"
    },
    {
     "data": {
      "image/png": "[encoded data removed]",
      "text/plain": [
       "<Figure size 1600x800 with 1 Axes>"
      ]
     },
     "metadata": {},
     "output_type": "display_data"
    },
    {
     "data": {
      "image/png": "[encoded data removed]",
      "text/plain": [
       "<Figure size 1600x800 with 1 Axes>"
      ]
     },
     "metadata": {},
     "output_type": "display_data"
    }
   ],
   "source": [
    "plot_stats(\n",
    "    **history,\n",
    "    title=f\"Model {config.model_name}\"\n",
    ")"
   ]
  },
  {
   "cell_type": "markdown",
   "id": "dab9d0b7",
   "metadata": {
    "id": "kJcjndrnTFDx",
    "papermill": {
     "duration": 1.211406,
     "end_time": "2023-08-09T07:16:37.870960",
     "exception": false,
     "start_time": "2023-08-09T07:16:36.659554",
     "status": "completed"
    },
    "tags": []
   },
   "source": [
    "# 8. Result evaluation"
   ]
  },
  {
   "cell_type": "code",
   "execution_count": 57,
   "id": "60c5344f",
   "metadata": {
    "execution": {
     "iopub.execute_input": "2023-08-09T07:16:40.274932Z",
     "iopub.status.busy": "2023-08-09T07:16:40.274570Z",
     "iopub.status.idle": "2023-08-09T07:16:50.269367Z",
     "shell.execute_reply": "2023-08-09T07:16:50.267924Z"
    },
    "id": "wk7eAo8cTFDx",
    "papermill": {
     "duration": 11.136466,
     "end_time": "2023-08-09T07:16:50.272253",
     "exception": false,
     "start_time": "2023-08-09T07:16:39.135787",
     "status": "completed"
    },
    "tags": []
   },
   "outputs": [],
   "source": [
    "model.eval()  # Set the model to evaluation mode\n",
    "predictions = []\n",
    "\n",
    "with torch.no_grad():\n",
    "    for images, _ in test_dataloader:\n",
    "        images = images.to(device)\n",
    "        outputs = model(images)\n",
    "\n",
    "        _, predicted = torch.max(outputs.data, 1)\n",
    "        predictions.extend(predicted.cpu().numpy())"
   ]
  },
  {
   "cell_type": "code",
   "execution_count": 58,
   "id": "c71ccd48",
   "metadata": {
    "execution": {
     "iopub.execute_input": "2023-08-09T07:16:52.619765Z",
     "iopub.status.busy": "2023-08-09T07:16:52.619363Z",
     "iopub.status.idle": "2023-08-09T07:16:52.686143Z",
     "shell.execute_reply": "2023-08-09T07:16:52.685064Z"
    },
    "id": "q5VvToQGTFDy",
    "papermill": {
     "duration": 1.27958,
     "end_time": "2023-08-09T07:16:52.688788",
     "exception": false,
     "start_time": "2023-08-09T07:16:51.409208",
     "status": "completed"
    },
    "tags": []
   },
   "outputs": [
    {
     "data": {
      "text/html": [
       "<div>\n",
       "<style scoped>\n",
       "    .dataframe tbody tr th:only-of-type {\n",
       "        vertical-align: middle;\n",
       "    }\n",
       "\n",
       "    .dataframe tbody tr th {\n",
       "        vertical-align: top;\n",
       "    }\n",
       "\n",
       "    .dataframe thead th {\n",
       "        text-align: right;\n",
       "    }\n",
       "</style>\n",
       "<table border=\"1\" class=\"dataframe\">\n",
       "  <thead>\n",
       "    <tr style=\"text-align: right;\">\n",
       "      <th></th>\n",
       "      <th>precision</th>\n",
       "      <th>recall</th>\n",
       "      <th>f1-score</th>\n",
       "      <th>support</th>\n",
       "    </tr>\n",
       "  </thead>\n",
       "  <tbody>\n",
       "    <tr>\n",
       "      <th>0</th>\n",
       "      <td>1.000000</td>\n",
       "      <td>0.250000</td>\n",
       "      <td>0.400000</td>\n",
       "      <td>4.000000</td>\n",
       "    </tr>\n",
       "    <tr>\n",
       "      <th>1</th>\n",
       "      <td>0.750000</td>\n",
       "      <td>0.750000</td>\n",
       "      <td>0.750000</td>\n",
       "      <td>4.000000</td>\n",
       "    </tr>\n",
       "    <tr>\n",
       "      <th>2</th>\n",
       "      <td>0.000000</td>\n",
       "      <td>0.000000</td>\n",
       "      <td>0.000000</td>\n",
       "      <td>4.000000</td>\n",
       "    </tr>\n",
       "    <tr>\n",
       "      <th>3</th>\n",
       "      <td>0.000000</td>\n",
       "      <td>0.000000</td>\n",
       "      <td>0.000000</td>\n",
       "      <td>4.000000</td>\n",
       "    </tr>\n",
       "    <tr>\n",
       "      <th>4</th>\n",
       "      <td>1.000000</td>\n",
       "      <td>1.000000</td>\n",
       "      <td>1.000000</td>\n",
       "      <td>4.000000</td>\n",
       "    </tr>\n",
       "    <tr>\n",
       "      <th>...</th>\n",
       "      <td>...</td>\n",
       "      <td>...</td>\n",
       "      <td>...</td>\n",
       "      <td>...</td>\n",
       "    </tr>\n",
       "    <tr>\n",
       "      <th>758</th>\n",
       "      <td>1.000000</td>\n",
       "      <td>0.333333</td>\n",
       "      <td>0.500000</td>\n",
       "      <td>3.000000</td>\n",
       "    </tr>\n",
       "    <tr>\n",
       "      <th>759</th>\n",
       "      <td>0.666667</td>\n",
       "      <td>0.666667</td>\n",
       "      <td>0.666667</td>\n",
       "      <td>3.000000</td>\n",
       "    </tr>\n",
       "    <tr>\n",
       "      <th>accuracy</th>\n",
       "      <td>0.646126</td>\n",
       "      <td>0.646126</td>\n",
       "      <td>0.646126</td>\n",
       "      <td>0.646126</td>\n",
       "    </tr>\n",
       "    <tr>\n",
       "      <th>macro avg</th>\n",
       "      <td>0.531321</td>\n",
       "      <td>0.630279</td>\n",
       "      <td>0.552713</td>\n",
       "      <td>2775.000000</td>\n",
       "    </tr>\n",
       "    <tr>\n",
       "      <th>weighted avg</th>\n",
       "      <td>0.548020</td>\n",
       "      <td>0.646126</td>\n",
       "      <td>0.570186</td>\n",
       "      <td>2775.000000</td>\n",
       "    </tr>\n",
       "  </tbody>\n",
       "</table>\n",
       "<p>763 rows × 4 columns</p>\n",
       "</div>"
      ],
      "text/plain": [
       "              precision    recall  f1-score      support\n",
       "0              1.000000  0.250000  0.400000     4.000000\n",
       "1              0.750000  0.750000  0.750000     4.000000\n",
       "2              0.000000  0.000000  0.000000     4.000000\n",
       "3              0.000000  0.000000  0.000000     4.000000\n",
       "4              1.000000  1.000000  1.000000     4.000000\n",
       "...                 ...       ...       ...          ...\n",
       "758            1.000000  0.333333  0.500000     3.000000\n",
       "759            0.666667  0.666667  0.666667     3.000000\n",
       "accuracy       0.646126  0.646126  0.646126     0.646126\n",
       "macro avg      0.531321  0.630279  0.552713  2775.000000\n",
       "weighted avg   0.548020  0.646126  0.570186  2775.000000\n",
       "\n",
       "[763 rows x 4 columns]"
      ]
     },
     "execution_count": 58,
     "metadata": {},
     "output_type": "execute_result"
    }
   ],
   "source": [
    "c_report = classification_report(test_dataset.labels, np.array(predictions), output_dict=True, zero_division=0)\n",
    "c_report = pd.DataFrame(c_report).transpose()\n",
    "c_report"
   ]
  },
  {
   "cell_type": "code",
   "execution_count": 59,
   "id": "76ea168e",
   "metadata": {
    "execution": {
     "iopub.execute_input": "2023-08-09T07:16:55.042891Z",
     "iopub.status.busy": "2023-08-09T07:16:55.042478Z",
     "iopub.status.idle": "2023-08-09T07:16:55.054294Z",
     "shell.execute_reply": "2023-08-09T07:16:55.053405Z"
    },
    "id": "UJLtt_s6TFDy",
    "papermill": {
     "duration": 1.225064,
     "end_time": "2023-08-09T07:16:55.056246",
     "exception": false,
     "start_time": "2023-08-09T07:16:53.831182",
     "status": "completed"
    },
    "tags": []
   },
   "outputs": [
    {
     "data": {
      "text/plain": [
       "precision    0.730206\n",
       "recall       0.866206\n",
       "f1-score     0.759606\n",
       "support      3.723327\n",
       "dtype: float64"
      ]
     },
     "execution_count": 59,
     "metadata": {},
     "output_type": "execute_result"
    }
   ],
   "source": [
    "c_report[c_report['precision'] > 0][:-3].mean()"
   ]
  },
  {
   "cell_type": "code",
   "execution_count": 60,
   "id": "a659eb81",
   "metadata": {
    "execution": {
     "iopub.execute_input": "2023-08-09T07:16:57.419385Z",
     "iopub.status.busy": "2023-08-09T07:16:57.417348Z",
     "iopub.status.idle": "2023-08-09T07:16:57.426831Z",
     "shell.execute_reply": "2023-08-09T07:16:57.425782Z"
    },
    "id": "_Sw-oDmlTFDy",
    "papermill": {
     "duration": 1.154165,
     "end_time": "2023-08-09T07:16:57.429032",
     "exception": false,
     "start_time": "2023-08-09T07:16:56.274867",
     "status": "completed"
    },
    "tags": []
   },
   "outputs": [
    {
     "data": {
      "text/plain": [
       "0.6461261261261261"
      ]
     },
     "execution_count": 60,
     "metadata": {},
     "output_type": "execute_result"
    }
   ],
   "source": [
    "accuracy_score(test_dataset.labels, np.array(predictions))"
   ]
  },
  {
   "cell_type": "code",
   "execution_count": 61,
   "id": "47347bff",
   "metadata": {
    "execution": {
     "iopub.execute_input": "2023-08-09T07:16:59.827409Z",
     "iopub.status.busy": "2023-08-09T07:16:59.827049Z",
     "iopub.status.idle": "2023-08-09T07:16:59.833953Z",
     "shell.execute_reply": "2023-08-09T07:16:59.833029Z"
    },
    "id": "SeonAQRQTFDz",
    "papermill": {
     "duration": 1.26949,
     "end_time": "2023-08-09T07:16:59.836227",
     "exception": false,
     "start_time": "2023-08-09T07:16:58.566737",
     "status": "completed"
    },
    "tags": []
   },
   "outputs": [
    {
     "data": {
      "text/plain": [
       "array([  0,   0,   0, ..., 759, 759, 759])"
      ]
     },
     "execution_count": 61,
     "metadata": {},
     "output_type": "execute_result"
    }
   ],
   "source": [
    "test_dataset.labels"
   ]
  },
  {
   "cell_type": "code",
   "execution_count": 62,
   "id": "1b4cca95",
   "metadata": {
    "execution": {
     "iopub.execute_input": "2023-08-09T07:17:02.194878Z",
     "iopub.status.busy": "2023-08-09T07:17:02.194454Z",
     "iopub.status.idle": "2023-08-09T07:17:02.201074Z",
     "shell.execute_reply": "2023-08-09T07:17:02.200184Z"
    },
    "id": "z0DhHWGiTFDz",
    "papermill": {
     "duration": 1.225192,
     "end_time": "2023-08-09T07:17:02.203091",
     "exception": false,
     "start_time": "2023-08-09T07:17:00.977899",
     "status": "completed"
    },
    "tags": []
   },
   "outputs": [
    {
     "data": {
      "text/plain": [
       "array([206, 408, 284, ..., 759, 759, 664])"
      ]
     },
     "execution_count": 62,
     "metadata": {},
     "output_type": "execute_result"
    }
   ],
   "source": [
    "np.array(predictions)"
   ]
  },
  {
   "cell_type": "code",
   "execution_count": null,
   "id": "09bc5d07",
   "metadata": {
    "id": "SbIjxUl2TFDz",
    "papermill": {
     "duration": 1.149496,
     "end_time": "2023-08-09T07:17:04.580745",
     "exception": false,
     "start_time": "2023-08-09T07:17:03.431249",
     "status": "completed"
    },
    "tags": []
   },
   "outputs": [],
   "source": []
  }
 ],
 "metadata": {
  "kernelspec": {
   "display_name": "Python 3",
   "language": "python",
   "name": "python3"
  },
  "language_info": {
   "codemirror_mode": {
    "name": "ipython",
    "version": 3
   },
   "file_extension": ".py",
   "mimetype": "text/x-python",
   "name": "python",
   "nbconvert_exporter": "python",
   "pygments_lexer": "ipython3",
   "version": "3.10.12"
  },
  "papermill": {
   "default_parameters": {},
   "duration": 5717.690774,
   "end_time": "2023-08-09T07:17:09.228407",
   "environment_variables": {},
   "exception": null,
   "input_path": "__notebook__.ipynb",
   "output_path": "__notebook__.ipynb",
   "parameters": {},
   "start_time": "2023-08-09T05:41:51.537633",
   "version": "2.4.0"
  }
 },
 "nbformat": 4,
 "nbformat_minor": 5
}
