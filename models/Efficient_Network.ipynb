{
 "metadata": {
  "kernelspec": {
   "language": "python",
   "display_name": "Python 3",
   "name": "python3"
  },
  "language_info": {
   "name": "python",
   "version": "3.10.12",
   "mimetype": "text/x-python",
   "codemirror_mode": {
    "name": "ipython",
    "version": 3
   },
   "pygments_lexer": "ipython3",
   "nbconvert_exporter": "python",
   "file_extension": ".py"
  }
 },
 "nbformat_minor": 4,
 "nbformat": 4,
 "cells": [
  {
   "cell_type": "markdown",
   "source": [
    "# 1. Set up"
   ],
   "metadata": {
    "id": "DRrvM2BPUG3T"
   }
  },
  {
   "cell_type": "markdown",
   "source": [
    "## 1. Packages and requirements"
   ],
   "metadata": {
    "id": "G-cGfk5CTFDT"
   }
  },
  {
   "cell_type": "code",
   "source": [
    "# Major builtin libraries\n",
    "import os\n",
    "import gc\n",
    "import cv2\n",
    "# import mat\n",
    "import time\n",
    "import random\n",
    "import typing as t\n",
    "from copy import deepcopy\n",
    "from collections import defaultdict"
   ],
   "metadata": {
    "id": "YJ1bPQE1TFDW",
    "execution": {
     "iopub.status.busy": "2023-08-09T22:19:46.190228Z",
     "iopub.execute_input": "2023-08-09T22:19:46.190666Z",
     "iopub.status.idle": "2023-08-09T22:19:46.405561Z",
     "shell.execute_reply.started": "2023-08-09T22:19:46.190627Z",
     "shell.execute_reply": "2023-08-09T22:19:46.404537Z"
    },
    "trusted": true
   },
   "execution_count": 1,
   "outputs": []
  },
  {
   "cell_type": "code",
   "source": [
    "# To work with Google Collab\n",
    "# from google.colab import drive\n",
    "# drive.mount('/content/drive/', force_remount=True)"
   ],
   "metadata": {
    "id": "9byYPbwhTFDW",
    "outputId": "f21315f6-d034-4060-f927-1dfcc117d99b",
    "execution": {
     "iopub.status.busy": "2023-08-09T22:19:46.417144Z",
     "iopub.execute_input": "2023-08-09T22:19:46.417529Z",
     "iopub.status.idle": "2023-08-09T22:19:46.422842Z",
     "shell.execute_reply.started": "2023-08-09T22:19:46.417491Z",
     "shell.execute_reply": "2023-08-09T22:19:46.421769Z"
    },
    "trusted": true
   },
   "execution_count": 2,
   "outputs": []
  },
  {
   "cell_type": "code",
   "source": [
    "import warnings  # If you want to disable warnings\n",
    "warnings.filterwarnings(\"ignore\")\n",
    "\n",
    "# For descriptive error messages\n",
    "os.environ['CUDA_LAUNCH_BLOCKING'] = \"1\""
   ],
   "metadata": {
    "id": "BwyVeWsUTFDX",
    "execution": {
     "iopub.status.busy": "2023-08-09T22:19:46.628705Z",
     "iopub.execute_input": "2023-08-09T22:19:46.629151Z",
     "iopub.status.idle": "2023-08-09T22:19:46.638598Z",
     "shell.execute_reply.started": "2023-08-09T22:19:46.629107Z",
     "shell.execute_reply": "2023-08-09T22:19:46.637496Z"
    },
    "trusted": true
   },
   "execution_count": 3,
   "outputs": []
  },
  {
   "cell_type": "code",
   "source": [
    "# Classic packages for data manipulation and visualization\n",
    "import numpy as np\n",
    "import pandas as pd\n",
    "import matplotlib.pyplot as plt"
   ],
   "metadata": {
    "id": "AGRBRJORTFDX",
    "execution": {
     "iopub.status.busy": "2023-08-09T22:19:46.784165Z",
     "iopub.execute_input": "2023-08-09T22:19:46.784597Z",
     "iopub.status.idle": "2023-08-09T22:19:46.800386Z",
     "shell.execute_reply.started": "2023-08-09T22:19:46.784559Z",
     "shell.execute_reply": "2023-08-09T22:19:46.799304Z"
    },
    "trusted": true
   },
   "execution_count": 4,
   "outputs": []
  },
  {
   "cell_type": "code",
   "source": [
    "# Basic PyTorch\n",
    "import torch\n",
    "import torch.nn as nn\n",
    "import torch.optim as optim  # Optimization algorithms\n",
    "import torch.nn.functional as F\n",
    "from torch.nn.modules.loss import _Loss\n",
    "from torch.optim import lr_scheduler  # Dynamic learning rate adjusting\n",
    "from torch.utils.data import DataLoader, Dataset  # For custom data presentation\n",
    "# from torch.cuda import amp"
   ],
   "metadata": {
    "id": "FXSN-XzxTFDX",
    "execution": {
     "iopub.status.busy": "2023-08-09T22:19:46.976579Z",
     "iopub.execute_input": "2023-08-09T22:19:46.977199Z",
     "iopub.status.idle": "2023-08-09T22:19:50.514874Z",
     "shell.execute_reply.started": "2023-08-09T22:19:46.977152Z",
     "shell.execute_reply": "2023-08-09T22:19:50.513892Z"
    },
    "trusted": true
   },
   "execution_count": 5,
   "outputs": []
  },
  {
   "cell_type": "code",
   "source": [
    "# Utils\n",
    "import joblib  # Pipelining and pickling (dump/load)\n",
    "from tqdm import tqdm  # Progress bar for training process\n",
    "from tempfile import TemporaryDirectory\n",
    "\n",
    "# Classic ML tools\n",
    "from sklearn.preprocessing import LabelEncoder\n",
    "from sklearn.model_selection import StratifiedKFold  # Cross-Validation"
   ],
   "metadata": {
    "id": "7QjRLiOzTFDY",
    "execution": {
     "iopub.status.busy": "2023-08-09T22:19:50.517364Z",
     "iopub.execute_input": "2023-08-09T22:19:50.518362Z",
     "iopub.status.idle": "2023-08-09T22:19:51.011752Z",
     "shell.execute_reply.started": "2023-08-09T22:19:50.518325Z",
     "shell.execute_reply": "2023-08-09T22:19:51.010789Z"
    },
    "trusted": true
   },
   "execution_count": 6,
   "outputs": []
  },
  {
   "cell_type": "code",
   "source": [
    "# !pip install torchmetrics colorama"
   ],
   "metadata": {
    "id": "-iaQkd7xUuPW",
    "execution": {
     "iopub.status.busy": "2023-08-09T22:19:51.013970Z",
     "iopub.execute_input": "2023-08-09T22:19:51.014652Z",
     "iopub.status.idle": "2023-08-09T22:19:51.019415Z",
     "shell.execute_reply.started": "2023-08-09T22:19:51.014613Z",
     "shell.execute_reply": "2023-08-09T22:19:51.018488Z"
    },
    "trusted": true
   },
   "execution_count": 7,
   "outputs": []
  },
  {
   "cell_type": "code",
   "source": [
    "# ML Metrics\n",
    "from sklearn.metrics import accuracy_score\n",
    "from sklearn.metrics import classification_report\n",
    "from torchmetrics.classification import F1Score  # F1 metric for multiclass"
   ],
   "metadata": {
    "id": "BuY4s3bsTFDZ",
    "execution": {
     "iopub.status.busy": "2023-08-09T22:19:51.022142Z",
     "iopub.execute_input": "2023-08-09T22:19:51.022892Z",
     "iopub.status.idle": "2023-08-09T22:20:01.816416Z",
     "shell.execute_reply.started": "2023-08-09T22:19:51.022859Z",
     "shell.execute_reply": "2023-08-09T22:20:01.815468Z"
    },
    "trusted": true
   },
   "execution_count": 8,
   "outputs": []
  },
  {
   "cell_type": "code",
   "source": [
    "# Torch Computer Vision tools for images processing\n",
    "from torchvision.io import read_image\n",
    "from torchvision.transforms.functional import to_pil_image, to_grayscale, to_tensor\n",
    "from torchvision import models  # Pretrained models"
   ],
   "metadata": {
    "id": "FEKtt6X5TFDZ",
    "execution": {
     "iopub.status.busy": "2023-08-09T22:20:01.817608Z",
     "iopub.execute_input": "2023-08-09T22:20:01.818503Z",
     "iopub.status.idle": "2023-08-09T22:20:01.825531Z",
     "shell.execute_reply.started": "2023-08-09T22:20:01.818473Z",
     "shell.execute_reply": "2023-08-09T22:20:01.823973Z"
    },
    "trusted": true
   },
   "execution_count": 9,
   "outputs": []
  },
  {
   "cell_type": "code",
   "source": [
    "# Albumentations is an OS library for augmentations\n",
    "import albumentations as A\n",
    "from albumentations.pytorch import ToTensorV2\n",
    "# import torchvision.transforms as T  # We can use torch augmentations instead"
   ],
   "metadata": {
    "id": "90C8yH1dTFDa",
    "execution": {
     "iopub.status.busy": "2023-08-09T22:20:01.827128Z",
     "iopub.execute_input": "2023-08-09T22:20:01.827524Z",
     "iopub.status.idle": "2023-08-09T22:20:02.676464Z",
     "shell.execute_reply.started": "2023-08-09T22:20:01.827491Z",
     "shell.execute_reply": "2023-08-09T22:20:02.675495Z"
    },
    "trusted": true
   },
   "execution_count": 10,
   "outputs": []
  },
  {
   "cell_type": "code",
   "source": [],
   "metadata": {
    "id": "4QwB35yVTFDa"
   },
   "execution_count": null,
   "outputs": []
  },
  {
   "cell_type": "code",
   "source": [
    "# Output text colorizing\n",
    "from colorama import Back, Style\n",
    "\n",
    "def print_highlighted(text: str, bgcolor=Back.YELLOW) -> None:\n",
    "    \"\"\"\n",
    "    Function to print a text with colored background.\n",
    "    \"\"\"\n",
    "    print(bgcolor + text + Style.RESET_ALL)"
   ],
   "metadata": {
    "ExecuteTime": {
     "start_time": "2023-08-07T11:30:00.45768Z",
     "end_time": "2023-08-07T11:30:00.498733Z"
    },
    "jupyter": {
     "outputs_hidden": false
    },
    "id": "pF1AWOXTTFDa",
    "collapsed": false,
    "execution": {
     "iopub.status.busy": "2023-08-09T22:20:02.678010Z",
     "iopub.execute_input": "2023-08-09T22:20:02.678643Z",
     "iopub.status.idle": "2023-08-09T22:20:02.688672Z",
     "shell.execute_reply.started": "2023-08-09T22:20:02.678608Z",
     "shell.execute_reply": "2023-08-09T22:20:02.685732Z"
    },
    "trusted": true
   },
   "execution_count": 11,
   "outputs": []
  },
  {
   "cell_type": "code",
   "source": [
    "# import wandb # MLOps platform to simplify and speed up the process of building ML models"
   ],
   "metadata": {
    "ExecuteTime": {
     "start_time": "2023-08-07T11:30:00.467461Z",
     "end_time": "2023-08-07T11:30:01.598206Z"
    },
    "jupyter": {
     "outputs_hidden": false
    },
    "id": "WHnMHaX_TFDb",
    "collapsed": false,
    "execution": {
     "iopub.status.busy": "2023-08-09T22:20:02.690002Z",
     "iopub.execute_input": "2023-08-09T22:20:02.690506Z",
     "iopub.status.idle": "2023-08-09T22:20:02.703505Z",
     "shell.execute_reply.started": "2023-08-09T22:20:02.690449Z",
     "shell.execute_reply": "2023-08-09T22:20:02.702563Z"
    },
    "trusted": true
   },
   "execution_count": 12,
   "outputs": []
  },
  {
   "cell_type": "code",
   "source": [
    "# wandb.login() # We log in via pop-up,\n",
    "# wandb.login(key=api_key)  # but you can also log in manually with function args"
   ],
   "metadata": {
    "ExecuteTime": {
     "start_time": "2023-08-07T11:30:01.598206Z",
     "end_time": "2023-08-07T11:30:01.605103Z"
    },
    "jupyter": {
     "outputs_hidden": false
    },
    "id": "1zarBgpbTFDb",
    "collapsed": false,
    "execution": {
     "iopub.status.busy": "2023-08-09T22:20:02.705184Z",
     "iopub.execute_input": "2023-08-09T22:20:02.705539Z",
     "iopub.status.idle": "2023-08-09T22:20:02.714559Z",
     "shell.execute_reply.started": "2023-08-09T22:20:02.705506Z",
     "shell.execute_reply": "2023-08-09T22:20:02.713641Z"
    },
    "trusted": true
   },
   "execution_count": 13,
   "outputs": []
  },
  {
   "cell_type": "markdown",
   "source": [
    "## 2. Configuration"
   ],
   "metadata": {
    "id": "YuquAHEkTFDb"
   }
  },
  {
   "cell_type": "code",
   "source": [
    "CONFIG = {\n",
    "    \"seed\": 2306,\n",
    "    \"epochs\": 20,\n",
    "    \"image_dimension\": 256,  # Depends on pretrained model used\n",
    "    \"model_name\": \"efficientnet_b0\",  # Pretrained model we will use\n",
    "    # \"embedding_size\": 512,  # Embedding output size\n",
    "    \"train_batch_size\": 32,\n",
    "    \"val_batch_size\": 64,\n",
    "    \"learning_rate\": 1e-3,\n",
    "    \"min_lr\": 1e-8,\n",
    "    \"min_loss_delta\": 1e-7, # To stop training on plateau\n",
    "    \"weight_decay\": 1e-7,\n",
    "}"
   ],
   "metadata": {
    "ExecuteTime": {
     "start_time": "2023-08-07T11:30:01.605103Z",
     "end_time": "2023-08-07T11:30:01.616556Z"
    },
    "id": "JC-SbC9zTFDb",
    "execution": {
     "iopub.status.busy": "2023-08-09T22:20:02.719560Z",
     "iopub.execute_input": "2023-08-09T22:20:02.719824Z",
     "iopub.status.idle": "2023-08-09T22:20:02.727326Z",
     "shell.execute_reply.started": "2023-08-09T22:20:02.719799Z",
     "shell.execute_reply": "2023-08-09T22:20:02.726236Z"
    },
    "trusted": true
   },
   "execution_count": 14,
   "outputs": []
  },
  {
   "cell_type": "code",
   "source": [
    "class Config:\n",
    "    \"\"\"\n",
    "    Class to simplify access to Config: not dict but object with attributes\n",
    "    \"\"\"\n",
    "    def __init__(self, config_dict):\n",
    "        for key, value in config_dict.items():\n",
    "            setattr(self, key, value)"
   ],
   "metadata": {
    "ExecuteTime": {
     "start_time": "2023-08-07T11:30:01.616556Z",
     "end_time": "2023-08-07T11:30:01.678626Z"
    },
    "jupyter": {
     "outputs_hidden": false
    },
    "id": "TzAQ9KIRTFDb",
    "collapsed": false,
    "execution": {
     "iopub.status.busy": "2023-08-09T22:20:02.730115Z",
     "iopub.execute_input": "2023-08-09T22:20:02.731170Z",
     "iopub.status.idle": "2023-08-09T22:20:02.739402Z",
     "shell.execute_reply.started": "2023-08-09T22:20:02.731113Z",
     "shell.execute_reply": "2023-08-09T22:20:02.738208Z"
    },
    "trusted": true
   },
   "execution_count": 15,
   "outputs": []
  },
  {
   "cell_type": "code",
   "source": [
    "config = Config(config_dict=CONFIG)\n",
    "del CONFIG"
   ],
   "metadata": {
    "ExecuteTime": {
     "start_time": "2023-08-07T11:30:01.62438Z",
     "end_time": "2023-08-07T11:30:01.678626Z"
    },
    "jupyter": {
     "outputs_hidden": false
    },
    "id": "wivQs3vJTFDb",
    "collapsed": false,
    "execution": {
     "iopub.status.busy": "2023-08-09T22:20:02.741203Z",
     "iopub.execute_input": "2023-08-09T22:20:02.742436Z",
     "iopub.status.idle": "2023-08-09T22:20:02.752872Z",
     "shell.execute_reply.started": "2023-08-09T22:20:02.742393Z",
     "shell.execute_reply": "2023-08-09T22:20:02.751687Z"
    },
    "trusted": true
   },
   "execution_count": 16,
   "outputs": []
  },
  {
   "cell_type": "code",
   "source": [
    "# Work example\n",
    "config.seed"
   ],
   "metadata": {
    "ExecuteTime": {
     "start_time": "2023-08-07T11:30:01.632597Z",
     "end_time": "2023-08-07T11:30:01.678626Z"
    },
    "jupyter": {
     "outputs_hidden": false
    },
    "id": "ZZO47D8bTFDc",
    "outputId": "38bf95ae-905a-43be-f188-2c2c29dbb2f1",
    "collapsed": false,
    "execution": {
     "iopub.status.busy": "2023-08-09T22:20:02.754942Z",
     "iopub.execute_input": "2023-08-09T22:20:02.756325Z",
     "iopub.status.idle": "2023-08-09T22:20:02.768880Z",
     "shell.execute_reply.started": "2023-08-09T22:20:02.756239Z",
     "shell.execute_reply": "2023-08-09T22:20:02.767638Z"
    },
    "trusted": true
   },
   "execution_count": 17,
   "outputs": [
    {
     "execution_count": 17,
     "output_type": "execute_result",
     "data": {
      "text/plain": "2306"
     },
     "metadata": {}
    }
   ]
  },
  {
   "cell_type": "markdown",
   "source": [
    "## 3. Set Seed for Reproducibility"
   ],
   "metadata": {
    "id": "kotMeU-OTFDc"
   }
  },
  {
   "cell_type": "code",
   "source": [
    "def set_seed(seed=42):\n",
    "    \"\"\"\n",
    "    Sets the seed of the entire notebook so results are the same every time we run.\n",
    "    This is for REPRODUCIBILITY.\n",
    "    \"\"\"\n",
    "    np.random.seed(seed)\n",
    "    torch.manual_seed(seed)\n",
    "\n",
    "    # When running on the CuDNN backend, two further options must be set\n",
    "    torch.backends.cudnn.deterministic = True\n",
    "    torch.backends.cudnn.benchmark = True  # When False, this option makes CUDA reproducible, BUT the performance might suffer\n",
    "\n",
    "    # Set a fixed value for the hash seed\n",
    "    os.environ['PYTHONHASHSEED'] = str(seed)\n",
    "\n",
    "set_seed(seed=config.seed)"
   ],
   "metadata": {
    "ExecuteTime": {
     "start_time": "2023-08-07T11:30:01.646043Z",
     "end_time": "2023-08-07T11:30:01.678626Z"
    },
    "id": "RDIHP75uTFDc",
    "execution": {
     "iopub.status.busy": "2023-08-09T22:20:02.770501Z",
     "iopub.execute_input": "2023-08-09T22:20:02.771426Z",
     "iopub.status.idle": "2023-08-09T22:20:02.784680Z",
     "shell.execute_reply.started": "2023-08-09T22:20:02.771384Z",
     "shell.execute_reply": "2023-08-09T22:20:02.783523Z"
    },
    "trusted": true
   },
   "execution_count": 18,
   "outputs": []
  },
  {
   "cell_type": "markdown",
   "source": [
    "# 2. Data"
   ],
   "metadata": {
    "id": "UoHh0H1FVHnT"
   }
  },
  {
   "cell_type": "markdown",
   "source": [
    "# 1. Location"
   ],
   "metadata": {
    "id": "Qst3Y-s4VKTk"
   }
  },
  {
   "cell_type": "code",
   "source": [
    "config.repo = '760-data-cars/all_cars_yolodata/'  # dataset name on Kaggle\n",
    "# config.repo = 'data/'  # dataset name on local device\n",
    "# config.repo = 'car_brand_detection/'  # Google Collab\n",
    "\n",
    "config.root = '/kaggle/input/' + config.repo\n",
    "# config.root = 'drive/MyDrive/' + config.repo\n",
    "# config.root = '../'\n",
    "\n",
    "\n",
    "config.data = config.root\n",
    "\n",
    "config.train_images_path  = '/kaggle/input/760-data-cars/all_cars_yolodata/train'\n",
    "config.test_images_path = '/kaggle/input/760-data-cars/all_cars_yolodata/test'\n",
    "\n",
    "config.train_labels  = '/kaggle/input/760-data-cars/train_labels.csv'\n",
    "config.test_labels = '/kaggle/input/760-data-cars/test_labels.csv'\n",
    "\n",
    "config.model_path = '/kaggle/input/model-efficient/fine-tuned_efficientnet_b0.pth'\n"
   ],
   "metadata": {
    "ExecuteTime": {
     "start_time": "2023-08-07T11:30:01.661618Z",
     "end_time": "2023-08-07T11:30:01.678626Z"
    },
    "id": "QKDBLmMrTFDd",
    "execution": {
     "iopub.status.busy": "2023-08-10T00:57:23.460822Z",
     "iopub.execute_input": "2023-08-10T00:57:23.461577Z",
     "iopub.status.idle": "2023-08-10T00:57:23.467460Z",
     "shell.execute_reply.started": "2023-08-10T00:57:23.461539Z",
     "shell.execute_reply": "2023-08-10T00:57:23.466354Z"
    },
    "trusted": true
   },
   "execution_count": 146,
   "outputs": []
  },
  {
   "cell_type": "code",
   "source": [
    "def get_file_path_by_id(file_id, dir=config.root):\n",
    "    return os.path.join(dir, str(file_id) + \".jpg\")"
   ],
   "metadata": {
    "ExecuteTime": {
     "start_time": "2023-08-07T11:30:01.669776Z",
     "end_time": "2023-08-07T11:30:01.691816Z"
    },
    "id": "N8cJfeB1TFDd",
    "execution": {
     "iopub.status.busy": "2023-08-09T22:20:02.796727Z",
     "iopub.execute_input": "2023-08-09T22:20:02.797394Z",
     "iopub.status.idle": "2023-08-09T22:20:02.812509Z",
     "shell.execute_reply.started": "2023-08-09T22:20:02.797359Z",
     "shell.execute_reply": "2023-08-09T22:20:02.811468Z"
    },
    "trusted": true
   },
   "execution_count": 20,
   "outputs": []
  },
  {
   "cell_type": "markdown",
   "source": [
    "## 2. Custom Data representation"
   ],
   "metadata": {
    "id": "u0McLUXoTFDd"
   }
  },
  {
   "cell_type": "code",
   "source": [
    "def apply_label_encoding(data: t.Union[pd.DataFrame, np.array],\n",
    "                         encoder_name: os.path,\n",
    "                         column='label', action='encode',\n",
    "                         ):\n",
    "    \"\"\"\n",
    "    One Hot encoding. We apply encoding by replacing the label column in dataframe.\n",
    "    As for decoding data back, we work with vector-array (as it's most likely to\n",
    "    be a prediction result)\n",
    "    \"\"\"\n",
    "    encoder = LabelEncoder()\n",
    "    if action == 'encode':\n",
    "        # We transform dataframe here. Nothing returns\n",
    "        data[column] = encoder.fit_transform(data[column])\n",
    "        with open(f\"{encoder_name}_LEncoder.pkl\", \"wb\") as fp:\n",
    "            joblib.dump(encoder, fp)\n",
    "    elif action == 'decode':\n",
    "        # We pass vector here. Result is a vector\n",
    "        with open(f\"{encoder_name}_LEncoder.pkl\", \"rb\") as fp:\n",
    "            encoder: LabelEncoder = joblib.load(fp)\n",
    "        return encoder.inverse_transform(data)"
   ],
   "metadata": {
    "ExecuteTime": {
     "start_time": "2023-08-07T11:30:01.678626Z",
     "end_time": "2023-08-07T11:30:01.692337Z"
    },
    "jupyter": {
     "outputs_hidden": false
    },
    "id": "_dh7nUr3TFDd",
    "collapsed": false,
    "execution": {
     "iopub.status.busy": "2023-08-09T22:20:02.813500Z",
     "iopub.execute_input": "2023-08-09T22:20:02.813977Z",
     "iopub.status.idle": "2023-08-09T22:20:02.828478Z",
     "shell.execute_reply.started": "2023-08-09T22:20:02.813944Z",
     "shell.execute_reply": "2023-08-09T22:20:02.827453Z"
    },
    "trusted": true
   },
   "execution_count": 21,
   "outputs": []
  },
  {
   "cell_type": "code",
   "source": [
    "class CustomImagesDataset(Dataset):\n",
    "    \"\"\"\n",
    "    \"\"\"\n",
    "    def __init__(self, data: pd.DataFrame=None, images_path: os.path=None, labels_path:os.path=None, transform_images: A.Compose=None, encoder_name: str=None):\n",
    "        \"\"\"\n",
    "\n",
    "        \"\"\"\n",
    "        super().__init__()\n",
    "        assert (data is not None) or (labels_path is not None and images_path is not None)\n",
    "\n",
    "        if data is None:\n",
    "            data = pd.read_csv(labels_path)\n",
    "            data['file_path'] = data['id'].apply(get_file_path_by_id, dir=images_path)\n",
    "\n",
    "        self.images_paths = data['file_path'].values\n",
    "        self.encoder_name = encoder_name if encoder_name else self.__hash__()  # We use hash as a unique name\n",
    "        print_highlighted(f\"Label Encoder saved with id `{self.encoder_name}`\")\n",
    "        apply_label_encoding(data=data, action='encode', encoder_name=self.encoder_name)\n",
    "        self.labels = data['label'].values\n",
    "#         self.indexes = data['id'].values\n",
    "        self.transform_images = transform_images\n",
    "        self.__set_dataset_len()\n",
    "\n",
    "    def __set_dataset_len(self):\n",
    "        self.length = self.labels.shape[0] # Number of rows\n",
    "\n",
    "    def __len__(self):\n",
    "        \"\"\"\n",
    "        We calculate the len in another function, so that we are able to slice.\n",
    "        \"\"\"\n",
    "        return self.length\n",
    "\n",
    "    def decode_labels(self, labels_vector):\n",
    "        return apply_label_encoding(data=labels_vector, action='decode', encoder_name=self.encoder_name)\n",
    "\n",
    "    def __getitem__(self, index) -> tuple[torch.Tensor, int]:\n",
    "        \"\"\" Function to return item by indexing the dataset \"\"\"\n",
    "\n",
    "        if not isinstance(index, int) and isinstance(index, slice):\n",
    "            # It's not an index, but slice.\n",
    "            # We will return the part of data by making a copy of the dataset\n",
    "            index: slice\n",
    "            self = deepcopy(self)\n",
    "            self.length = index.stop  # Cut the length of dataset.\n",
    "            self.labels = self.labels[:self.length]\n",
    "            return self\n",
    "        assert self.__len__() >= index\n",
    "\n",
    "        image = to_pil_image(read_image(self.images_paths[index]))\n",
    "        if self.transform_images:\n",
    "            # Albumentations requires us to convert image to Numpy Array\n",
    "            image = self.transform_images(image=np.array(image))['image']\n",
    "\n",
    "        label = self.labels[index]\n",
    "        return image, label\n",
    "\n",
    "\n",
    "    @property\n",
    "    def classes_(self):\n",
    "        return self.decode_labels(np.unique(self.labels))\n"
   ],
   "metadata": {
    "ExecuteTime": {
     "start_time": "2023-08-07T11:30:01.692337Z",
     "end_time": "2023-08-07T11:30:01.711734Z"
    },
    "jupyter": {
     "outputs_hidden": false
    },
    "id": "piJ9PgTuTFDe",
    "collapsed": false,
    "execution": {
     "iopub.status.busy": "2023-08-09T22:20:02.830115Z",
     "iopub.execute_input": "2023-08-09T22:20:02.833246Z",
     "iopub.status.idle": "2023-08-09T22:20:02.854662Z",
     "shell.execute_reply.started": "2023-08-09T22:20:02.833212Z",
     "shell.execute_reply": "2023-08-09T22:20:02.853601Z"
    },
    "trusted": true
   },
   "execution_count": 22,
   "outputs": []
  },
  {
   "cell_type": "markdown",
   "source": [
    "## 3. Augmentations"
   ],
   "metadata": {
    "id": "lB9BnVDPTFDe"
   }
  },
  {
   "cell_type": "markdown",
   "source": [
    "We use Albumantations lib"
   ],
   "metadata": {
    "id": "i-F36u_bTFDe"
   }
  },
  {
   "cell_type": "code",
   "source": [
    "data_transforms = {\n",
    "    \"train\": A.Compose([\n",
    "#         A.ToRGB(),\n",
    "        A.Resize(config.image_dimension, config.image_dimension),\n",
    "        A.ShiftScaleRotate(shift_limit=0.1,\n",
    "                           scale_limit=0.15,\n",
    "                           rotate_limit=30,\n",
    "                           p=0.5),\n",
    "        A.HueSaturationValue(\n",
    "                hue_shift_limit=30,\n",
    "                sat_shift_limit=30,\n",
    "                val_shift_limit=30,\n",
    "                p=0.5\n",
    "            ),\n",
    "        A.RandomBrightnessContrast(\n",
    "                brightness_limit=(-0.01,0.01),\n",
    "                contrast_limit=(-0.01, 0.01),\n",
    "                p=0.5\n",
    "            ),\n",
    "        A.Normalize(\n",
    "                mean=[0.485, 0.456, 0.406],\n",
    "                std=[0.229, 0.224, 0.225],\n",
    "                max_pixel_value=255.0,\n",
    "                p=1.0\n",
    "            ),\n",
    "        ToTensorV2() # Advanced analogue of T.ToTensor\n",
    "    ], p=1.),\n",
    "\n",
    "    \"val\": A.Compose([\n",
    "#         A.ToRGB(),\n",
    "        A.Resize(config.image_dimension, config.image_dimension),\n",
    "        A.Normalize(\n",
    "                mean=[0.485, 0.456, 0.406],\n",
    "                std=[0.229, 0.224, 0.225],\n",
    "                max_pixel_value=255.0,\n",
    "                p=1.0\n",
    "            ),\n",
    "        ToTensorV2()], p=1.)\n",
    "}"
   ],
   "metadata": {
    "ExecuteTime": {
     "start_time": "2023-08-07T11:30:01.721854Z",
     "end_time": "2023-08-07T11:30:01.84646Z"
    },
    "jupyter": {
     "outputs_hidden": false
    },
    "id": "tROO0x2GTFDe",
    "collapsed": false,
    "execution": {
     "iopub.status.busy": "2023-08-09T22:20:02.858739Z",
     "iopub.execute_input": "2023-08-09T22:20:02.860298Z",
     "iopub.status.idle": "2023-08-09T22:20:02.872984Z",
     "shell.execute_reply.started": "2023-08-09T22:20:02.860263Z",
     "shell.execute_reply": "2023-08-09T22:20:02.872000Z"
    },
    "trusted": true
   },
   "execution_count": 23,
   "outputs": []
  },
  {
   "cell_type": "markdown",
   "source": [
    "## 4. Load the data and have a look"
   ],
   "metadata": {
    "id": "LrSe00KeTFDe"
   }
  },
  {
   "cell_type": "code",
   "source": [
    "train_dataset = CustomImagesDataset(labels_path=config.train_labels, images_path=config.train_images_path, transform_images=data_transforms['train'], encoder_name='train')"
   ],
   "metadata": {
    "ExecuteTime": {
     "start_time": "2023-08-07T11:30:01.737063Z",
     "end_time": "2023-08-07T11:30:01.874617Z"
    },
    "jupyter": {
     "outputs_hidden": false
    },
    "id": "DmijxMsuTFDf",
    "outputId": "0f9bae18-cdd1-4716-8bc0-8d83c4eb2a3f",
    "collapsed": false,
    "execution": {
     "iopub.status.busy": "2023-08-09T22:20:02.874774Z",
     "iopub.execute_input": "2023-08-09T22:20:02.875498Z",
     "iopub.status.idle": "2023-08-09T22:20:03.037991Z",
     "shell.execute_reply.started": "2023-08-09T22:20:02.875464Z",
     "shell.execute_reply": "2023-08-09T22:20:03.037005Z"
    },
    "trusted": true
   },
   "execution_count": 24,
   "outputs": [
    {
     "name": "stdout",
     "text": "\u001B[43mLabel Encoder saved with id `train`\u001B[0m\n",
     "output_type": "stream"
    }
   ]
  },
  {
   "cell_type": "code",
   "source": [
    "test_dataset = CustomImagesDataset(\n",
    "    labels_path=config.test_labels,\n",
    "    images_path=config.test_images_path,\n",
    "    transform_images=data_transforms['val'],\n",
    "    encoder_name='test',\n",
    ")"
   ],
   "metadata": {
    "id": "NyHg814zTFDf",
    "outputId": "11706677-ef27-479d-c5a7-440ddb48b538",
    "execution": {
     "iopub.status.busy": "2023-08-09T22:20:03.039511Z",
     "iopub.execute_input": "2023-08-09T22:20:03.040173Z",
     "iopub.status.idle": "2023-08-09T22:20:03.071106Z",
     "shell.execute_reply.started": "2023-08-09T22:20:03.040137Z",
     "shell.execute_reply": "2023-08-09T22:20:03.070173Z"
    },
    "trusted": true
   },
   "execution_count": 25,
   "outputs": [
    {
     "name": "stdout",
     "text": "\u001B[43mLabel Encoder saved with id `test`\u001B[0m\n",
     "output_type": "stream"
    }
   ]
  },
  {
   "cell_type": "code",
   "source": [
    "to_pil_image(train_dataset[60][0])"
   ],
   "metadata": {
    "ExecuteTime": {
     "start_time": "2023-08-07T11:30:01.874617Z",
     "end_time": "2023-08-07T11:30:01.996918Z"
    },
    "id": "_bZMqZjoTFDf",
    "outputId": "a43afe2b-a8cb-4aee-9500-d4637cd905ef",
    "execution": {
     "iopub.status.busy": "2023-08-09T22:20:03.074185Z",
     "iopub.execute_input": "2023-08-09T22:20:03.074478Z",
     "iopub.status.idle": "2023-08-09T22:20:03.208510Z",
     "shell.execute_reply.started": "2023-08-09T22:20:03.074451Z",
     "shell.execute_reply": "2023-08-09T22:20:03.207585Z"
    },
    "trusted": true
   },
   "execution_count": 26,
   "outputs": [
    {
     "execution_count": 26,
     "output_type": "execute_result",
     "data": {
      "text/plain": "<PIL.Image.Image image mode=RGB size=256x256>",
      "image/png": "[encoded data removed]"
     },
     "metadata": {}
    }
   ]
  },
  {
   "cell_type": "code",
   "source": [
    "config.num_of_classes = len(train_dataset.classes_)\n",
    "config.num_of_classes"
   ],
   "metadata": {
    "ExecuteTime": {
     "start_time": "2023-08-07T11:30:01.971021Z",
     "end_time": "2023-08-07T11:30:01.997434Z"
    },
    "jupyter": {
     "outputs_hidden": false
    },
    "id": "UUS_aiISTFDf",
    "outputId": "832f5ec9-3895-4f71-bc96-6e626c74ab34",
    "collapsed": false,
    "execution": {
     "iopub.status.busy": "2023-08-09T22:20:03.209549Z",
     "iopub.execute_input": "2023-08-09T22:20:03.209890Z",
     "iopub.status.idle": "2023-08-09T22:20:03.221650Z",
     "shell.execute_reply.started": "2023-08-09T22:20:03.209855Z",
     "shell.execute_reply": "2023-08-09T22:20:03.220545Z"
    },
    "trusted": true
   },
   "execution_count": 27,
   "outputs": [
    {
     "execution_count": 27,
     "output_type": "execute_result",
     "data": {
      "text/plain": "760"
     },
     "metadata": {}
    }
   ]
  },
  {
   "cell_type": "markdown",
   "source": [
    "Below we ensure that the test dataset doesn't contain unknown data"
   ],
   "metadata": {
    "id": "1T2BVhnkTFDf"
   }
  },
  {
   "cell_type": "code",
   "source": [
    "assert not bool(set(test_dataset.classes_) - set(train_dataset.classes_))"
   ],
   "metadata": {
    "id": "52QN-ziNTFDg",
    "execution": {
     "iopub.status.busy": "2023-08-09T22:20:03.223465Z",
     "iopub.execute_input": "2023-08-09T22:20:03.224289Z",
     "iopub.status.idle": "2023-08-09T22:20:03.233234Z",
     "shell.execute_reply.started": "2023-08-09T22:20:03.224255Z",
     "shell.execute_reply": "2023-08-09T22:20:03.232287Z"
    },
    "trusted": true
   },
   "execution_count": 28,
   "outputs": []
  },
  {
   "cell_type": "code",
   "source": [
    "print(*train_dataset.classes_[:20], sep=';  ', end='...')"
   ],
   "metadata": {
    "ExecuteTime": {
     "start_time": "2023-08-07T11:30:01.987185Z",
     "end_time": "2023-08-07T11:30:01.997434Z"
    },
    "id": "lYMINDi1TFDj",
    "outputId": "bdd6cc65-de03-495d-9883-53906ce9a165",
    "execution": {
     "iopub.status.busy": "2023-08-09T22:20:03.234578Z",
     "iopub.execute_input": "2023-08-09T22:20:03.235200Z",
     "iopub.status.idle": "2023-08-09T22:20:03.244520Z",
     "shell.execute_reply.started": "2023-08-09T22:20:03.235166Z",
     "shell.execute_reply": "2023-08-09T22:20:03.243484Z"
    },
    "trusted": true
   },
   "execution_count": 29,
   "outputs": [
    {
     "name": "stdout",
     "text": "Acura_MDX;  Alfa Romeo_Giulietta;  Audi_100;  Audi_80;  Audi_A1;  Audi_A3;  Audi_A4;  Audi_A5;  Audi_A6;  Audi_A7;  Audi_A8;  Audi_Q3;  Audi_Q5;  Audi_Q7;  Audi_R8;  Audi_RS6;  Audi_S5;  Audi_S8;  Audi_TT;  BAW_FENIX...",
     "output_type": "stream"
    }
   ]
  },
  {
   "cell_type": "markdown",
   "source": [
    "# 3. Model"
   ],
   "metadata": {
    "id": "1nrMvID-TFDk"
   }
  },
  {
   "cell_type": "markdown",
   "source": [
    "## 1. Getting the pretrained model"
   ],
   "metadata": {
    "id": "CC_wCexMTFDk"
   }
  },
  {
   "cell_type": "code",
   "source": [
    "def get_model(model_name='resnet18', from_path=None, pretrained=False, freeze_layers=0.0, get_embeddings=False) -> torch.nn.Module:\n",
    "    got_model = False\n",
    "    if from_path:\n",
    "        try:\n",
    "            model = torch.load(from_path)\n",
    "            got_model = True\n",
    "        except FileNotFoundError:\n",
    "            pass\n",
    "    if not got_model:\n",
    "        model = getattr(models, model_name) # We use builtin function\n",
    "        model = model(\n",
    "        weights=('DEFAULT' if pretrained else None)\n",
    "        )\n",
    "        return model\n",
    "\n",
    "    if bool(freeze_layers):\n",
    "        params = list(model.parameters())\n",
    "        for param in params[:int(len(params)*freeze_layers)]:\n",
    "            # Freeze some layers\n",
    "            param.requires_grad = False\n",
    "\n",
    "    if get_embeddings:\n",
    "        # That means remove classifyer (last layer):\n",
    "        model = nn.Sequential(*list(model.children())[:-1])\n",
    "    return model"
   ],
   "metadata": {
    "ExecuteTime": {
     "start_time": "2023-08-07T11:31:34.594472Z",
     "end_time": "2023-08-07T11:31:34.594472Z"
    },
    "id": "-NUikulCTFDk",
    "execution": {
     "iopub.status.busy": "2023-08-10T00:56:55.322927Z",
     "iopub.execute_input": "2023-08-10T00:56:55.323546Z",
     "iopub.status.idle": "2023-08-10T00:56:55.332240Z",
     "shell.execute_reply.started": "2023-08-10T00:56:55.323510Z",
     "shell.execute_reply": "2023-08-10T00:56:55.331164Z"
    },
    "trusted": true
   },
   "execution_count": 143,
   "outputs": []
  },
  {
   "cell_type": "markdown",
   "source": [
    "We can fine-tune the model or train from scratch"
   ],
   "metadata": {}
  },
  {
   "cell_type": "code",
   "source": [
    "# model = get_model(\n",
    "#     model_name=config.model_name,\n",
    "#     pretrained=True,\n",
    "#     freeze_layers=0.0,\n",
    "#     get_embeddings=False\n",
    "# )"
   ],
   "metadata": {
    "ExecuteTime": {
     "start_time": "2023-08-07T11:31:35.809264Z",
     "end_time": "2023-08-07T11:31:36.138948Z"
    },
    "id": "v-BpLsBTTFDk",
    "outputId": "9f1358ab-175a-482d-a430-85a36c85a9c0",
    "execution": {
     "iopub.status.busy": "2023-08-09T22:08:08.640243Z",
     "iopub.execute_input": "2023-08-09T22:08:08.640975Z",
     "iopub.status.idle": "2023-08-09T22:08:08.651200Z",
     "shell.execute_reply.started": "2023-08-09T22:08:08.640939Z",
     "shell.execute_reply": "2023-08-09T22:08:08.649807Z"
    },
    "trusted": true
   },
   "execution_count": 31,
   "outputs": []
  },
  {
   "cell_type": "markdown",
   "source": [
    "Or fine-tine the model that we've trained before"
   ],
   "metadata": {}
  },
  {
   "cell_type": "code",
   "source": [
    "model = get_model(\n",
    "    from_path=config.model_path,\n",
    "    pretrained=True,\n",
    "    freeze_layers=0.0,\n",
    "    get_embeddings=False\n",
    ")"
   ],
   "metadata": {
    "execution": {
     "iopub.status.busy": "2023-08-10T00:57:28.540271Z",
     "iopub.execute_input": "2023-08-10T00:57:28.540961Z",
     "iopub.status.idle": "2023-08-10T00:57:28.636787Z",
     "shell.execute_reply.started": "2023-08-10T00:57:28.540923Z",
     "shell.execute_reply": "2023-08-10T00:57:28.635793Z"
    },
    "trusted": true
   },
   "execution_count": 147,
   "outputs": []
  },
  {
   "cell_type": "code",
   "source": [
    "model "
   ],
   "metadata": {
    "execution": {
     "iopub.status.busy": "2023-08-10T00:57:29.330828Z",
     "iopub.execute_input": "2023-08-10T00:57:29.331257Z",
     "iopub.status.idle": "2023-08-10T00:57:29.346672Z",
     "shell.execute_reply.started": "2023-08-10T00:57:29.331227Z",
     "shell.execute_reply": "2023-08-10T00:57:29.345707Z"
    },
    "collapsed": true,
    "jupyter": {
     "outputs_hidden": true
    },
    "trusted": true
   },
   "execution_count": 148,
   "outputs": [
    {
     "execution_count": 148,
     "output_type": "execute_result",
     "data": {
      "text/plain": "EfficientNet(\n  (features): Sequential(\n    (0): Conv2dNormActivation(\n      (0): Conv2d(3, 32, kernel_size=(3, 3), stride=(2, 2), padding=(1, 1), bias=False)\n      (1): BatchNorm2d(32, eps=1e-05, momentum=0.1, affine=True, track_running_stats=True)\n      (2): SiLU(inplace=True)\n    )\n    (1): Sequential(\n      (0): MBConv(\n        (block): Sequential(\n          (0): Conv2dNormActivation(\n            (0): Conv2d(32, 32, kernel_size=(3, 3), stride=(1, 1), padding=(1, 1), groups=32, bias=False)\n            (1): BatchNorm2d(32, eps=1e-05, momentum=0.1, affine=True, track_running_stats=True)\n            (2): SiLU(inplace=True)\n          )\n          (1): SqueezeExcitation(\n            (avgpool): AdaptiveAvgPool2d(output_size=1)\n            (fc1): Conv2d(32, 8, kernel_size=(1, 1), stride=(1, 1))\n            (fc2): Conv2d(8, 32, kernel_size=(1, 1), stride=(1, 1))\n            (activation): SiLU(inplace=True)\n            (scale_activation): Sigmoid()\n          )\n          (2): Conv2dNormActivation(\n            (0): Conv2d(32, 16, kernel_size=(1, 1), stride=(1, 1), bias=False)\n            (1): BatchNorm2d(16, eps=1e-05, momentum=0.1, affine=True, track_running_stats=True)\n          )\n        )\n        (stochastic_depth): StochasticDepth(p=0.0, mode=row)\n      )\n    )\n    (2): Sequential(\n      (0): MBConv(\n        (block): Sequential(\n          (0): Conv2dNormActivation(\n            (0): Conv2d(16, 96, kernel_size=(1, 1), stride=(1, 1), bias=False)\n            (1): BatchNorm2d(96, eps=1e-05, momentum=0.1, affine=True, track_running_stats=True)\n            (2): SiLU(inplace=True)\n          )\n          (1): Conv2dNormActivation(\n            (0): Conv2d(96, 96, kernel_size=(3, 3), stride=(2, 2), padding=(1, 1), groups=96, bias=False)\n            (1): BatchNorm2d(96, eps=1e-05, momentum=0.1, affine=True, track_running_stats=True)\n            (2): SiLU(inplace=True)\n          )\n          (2): SqueezeExcitation(\n            (avgpool): AdaptiveAvgPool2d(output_size=1)\n            (fc1): Conv2d(96, 4, kernel_size=(1, 1), stride=(1, 1))\n            (fc2): Conv2d(4, 96, kernel_size=(1, 1), stride=(1, 1))\n            (activation): SiLU(inplace=True)\n            (scale_activation): Sigmoid()\n          )\n          (3): Conv2dNormActivation(\n            (0): Conv2d(96, 24, kernel_size=(1, 1), stride=(1, 1), bias=False)\n            (1): BatchNorm2d(24, eps=1e-05, momentum=0.1, affine=True, track_running_stats=True)\n          )\n        )\n        (stochastic_depth): StochasticDepth(p=0.0125, mode=row)\n      )\n      (1): MBConv(\n        (block): Sequential(\n          (0): Conv2dNormActivation(\n            (0): Conv2d(24, 144, kernel_size=(1, 1), stride=(1, 1), bias=False)\n            (1): BatchNorm2d(144, eps=1e-05, momentum=0.1, affine=True, track_running_stats=True)\n            (2): SiLU(inplace=True)\n          )\n          (1): Conv2dNormActivation(\n            (0): Conv2d(144, 144, kernel_size=(3, 3), stride=(1, 1), padding=(1, 1), groups=144, bias=False)\n            (1): BatchNorm2d(144, eps=1e-05, momentum=0.1, affine=True, track_running_stats=True)\n            (2): SiLU(inplace=True)\n          )\n          (2): SqueezeExcitation(\n            (avgpool): AdaptiveAvgPool2d(output_size=1)\n            (fc1): Conv2d(144, 6, kernel_size=(1, 1), stride=(1, 1))\n            (fc2): Conv2d(6, 144, kernel_size=(1, 1), stride=(1, 1))\n            (activation): SiLU(inplace=True)\n            (scale_activation): Sigmoid()\n          )\n          (3): Conv2dNormActivation(\n            (0): Conv2d(144, 24, kernel_size=(1, 1), stride=(1, 1), bias=False)\n            (1): BatchNorm2d(24, eps=1e-05, momentum=0.1, affine=True, track_running_stats=True)\n          )\n        )\n        (stochastic_depth): StochasticDepth(p=0.025, mode=row)\n      )\n    )\n    (3): Sequential(\n      (0): MBConv(\n        (block): Sequential(\n          (0): Conv2dNormActivation(\n            (0): Conv2d(24, 144, kernel_size=(1, 1), stride=(1, 1), bias=False)\n            (1): BatchNorm2d(144, eps=1e-05, momentum=0.1, affine=True, track_running_stats=True)\n            (2): SiLU(inplace=True)\n          )\n          (1): Conv2dNormActivation(\n            (0): Conv2d(144, 144, kernel_size=(5, 5), stride=(2, 2), padding=(2, 2), groups=144, bias=False)\n            (1): BatchNorm2d(144, eps=1e-05, momentum=0.1, affine=True, track_running_stats=True)\n            (2): SiLU(inplace=True)\n          )\n          (2): SqueezeExcitation(\n            (avgpool): AdaptiveAvgPool2d(output_size=1)\n            (fc1): Conv2d(144, 6, kernel_size=(1, 1), stride=(1, 1))\n            (fc2): Conv2d(6, 144, kernel_size=(1, 1), stride=(1, 1))\n            (activation): SiLU(inplace=True)\n            (scale_activation): Sigmoid()\n          )\n          (3): Conv2dNormActivation(\n            (0): Conv2d(144, 40, kernel_size=(1, 1), stride=(1, 1), bias=False)\n            (1): BatchNorm2d(40, eps=1e-05, momentum=0.1, affine=True, track_running_stats=True)\n          )\n        )\n        (stochastic_depth): StochasticDepth(p=0.037500000000000006, mode=row)\n      )\n      (1): MBConv(\n        (block): Sequential(\n          (0): Conv2dNormActivation(\n            (0): Conv2d(40, 240, kernel_size=(1, 1), stride=(1, 1), bias=False)\n            (1): BatchNorm2d(240, eps=1e-05, momentum=0.1, affine=True, track_running_stats=True)\n            (2): SiLU(inplace=True)\n          )\n          (1): Conv2dNormActivation(\n            (0): Conv2d(240, 240, kernel_size=(5, 5), stride=(1, 1), padding=(2, 2), groups=240, bias=False)\n            (1): BatchNorm2d(240, eps=1e-05, momentum=0.1, affine=True, track_running_stats=True)\n            (2): SiLU(inplace=True)\n          )\n          (2): SqueezeExcitation(\n            (avgpool): AdaptiveAvgPool2d(output_size=1)\n            (fc1): Conv2d(240, 10, kernel_size=(1, 1), stride=(1, 1))\n            (fc2): Conv2d(10, 240, kernel_size=(1, 1), stride=(1, 1))\n            (activation): SiLU(inplace=True)\n            (scale_activation): Sigmoid()\n          )\n          (3): Conv2dNormActivation(\n            (0): Conv2d(240, 40, kernel_size=(1, 1), stride=(1, 1), bias=False)\n            (1): BatchNorm2d(40, eps=1e-05, momentum=0.1, affine=True, track_running_stats=True)\n          )\n        )\n        (stochastic_depth): StochasticDepth(p=0.05, mode=row)\n      )\n    )\n    (4): Sequential(\n      (0): MBConv(\n        (block): Sequential(\n          (0): Conv2dNormActivation(\n            (0): Conv2d(40, 240, kernel_size=(1, 1), stride=(1, 1), bias=False)\n            (1): BatchNorm2d(240, eps=1e-05, momentum=0.1, affine=True, track_running_stats=True)\n            (2): SiLU(inplace=True)\n          )\n          (1): Conv2dNormActivation(\n            (0): Conv2d(240, 240, kernel_size=(3, 3), stride=(2, 2), padding=(1, 1), groups=240, bias=False)\n            (1): BatchNorm2d(240, eps=1e-05, momentum=0.1, affine=True, track_running_stats=True)\n            (2): SiLU(inplace=True)\n          )\n          (2): SqueezeExcitation(\n            (avgpool): AdaptiveAvgPool2d(output_size=1)\n            (fc1): Conv2d(240, 10, kernel_size=(1, 1), stride=(1, 1))\n            (fc2): Conv2d(10, 240, kernel_size=(1, 1), stride=(1, 1))\n            (activation): SiLU(inplace=True)\n            (scale_activation): Sigmoid()\n          )\n          (3): Conv2dNormActivation(\n            (0): Conv2d(240, 80, kernel_size=(1, 1), stride=(1, 1), bias=False)\n            (1): BatchNorm2d(80, eps=1e-05, momentum=0.1, affine=True, track_running_stats=True)\n          )\n        )\n        (stochastic_depth): StochasticDepth(p=0.0625, mode=row)\n      )\n      (1): MBConv(\n        (block): Sequential(\n          (0): Conv2dNormActivation(\n            (0): Conv2d(80, 480, kernel_size=(1, 1), stride=(1, 1), bias=False)\n            (1): BatchNorm2d(480, eps=1e-05, momentum=0.1, affine=True, track_running_stats=True)\n            (2): SiLU(inplace=True)\n          )\n          (1): Conv2dNormActivation(\n            (0): Conv2d(480, 480, kernel_size=(3, 3), stride=(1, 1), padding=(1, 1), groups=480, bias=False)\n            (1): BatchNorm2d(480, eps=1e-05, momentum=0.1, affine=True, track_running_stats=True)\n            (2): SiLU(inplace=True)\n          )\n          (2): SqueezeExcitation(\n            (avgpool): AdaptiveAvgPool2d(output_size=1)\n            (fc1): Conv2d(480, 20, kernel_size=(1, 1), stride=(1, 1))\n            (fc2): Conv2d(20, 480, kernel_size=(1, 1), stride=(1, 1))\n            (activation): SiLU(inplace=True)\n            (scale_activation): Sigmoid()\n          )\n          (3): Conv2dNormActivation(\n            (0): Conv2d(480, 80, kernel_size=(1, 1), stride=(1, 1), bias=False)\n            (1): BatchNorm2d(80, eps=1e-05, momentum=0.1, affine=True, track_running_stats=True)\n          )\n        )\n        (stochastic_depth): StochasticDepth(p=0.07500000000000001, mode=row)\n      )\n      (2): MBConv(\n        (block): Sequential(\n          (0): Conv2dNormActivation(\n            (0): Conv2d(80, 480, kernel_size=(1, 1), stride=(1, 1), bias=False)\n            (1): BatchNorm2d(480, eps=1e-05, momentum=0.1, affine=True, track_running_stats=True)\n            (2): SiLU(inplace=True)\n          )\n          (1): Conv2dNormActivation(\n            (0): Conv2d(480, 480, kernel_size=(3, 3), stride=(1, 1), padding=(1, 1), groups=480, bias=False)\n            (1): BatchNorm2d(480, eps=1e-05, momentum=0.1, affine=True, track_running_stats=True)\n            (2): SiLU(inplace=True)\n          )\n          (2): SqueezeExcitation(\n            (avgpool): AdaptiveAvgPool2d(output_size=1)\n            (fc1): Conv2d(480, 20, kernel_size=(1, 1), stride=(1, 1))\n            (fc2): Conv2d(20, 480, kernel_size=(1, 1), stride=(1, 1))\n            (activation): SiLU(inplace=True)\n            (scale_activation): Sigmoid()\n          )\n          (3): Conv2dNormActivation(\n            (0): Conv2d(480, 80, kernel_size=(1, 1), stride=(1, 1), bias=False)\n            (1): BatchNorm2d(80, eps=1e-05, momentum=0.1, affine=True, track_running_stats=True)\n          )\n        )\n        (stochastic_depth): StochasticDepth(p=0.08750000000000001, mode=row)\n      )\n    )\n    (5): Sequential(\n      (0): MBConv(\n        (block): Sequential(\n          (0): Conv2dNormActivation(\n            (0): Conv2d(80, 480, kernel_size=(1, 1), stride=(1, 1), bias=False)\n            (1): BatchNorm2d(480, eps=1e-05, momentum=0.1, affine=True, track_running_stats=True)\n            (2): SiLU(inplace=True)\n          )\n          (1): Conv2dNormActivation(\n            (0): Conv2d(480, 480, kernel_size=(5, 5), stride=(1, 1), padding=(2, 2), groups=480, bias=False)\n            (1): BatchNorm2d(480, eps=1e-05, momentum=0.1, affine=True, track_running_stats=True)\n            (2): SiLU(inplace=True)\n          )\n          (2): SqueezeExcitation(\n            (avgpool): AdaptiveAvgPool2d(output_size=1)\n            (fc1): Conv2d(480, 20, kernel_size=(1, 1), stride=(1, 1))\n            (fc2): Conv2d(20, 480, kernel_size=(1, 1), stride=(1, 1))\n            (activation): SiLU(inplace=True)\n            (scale_activation): Sigmoid()\n          )\n          (3): Conv2dNormActivation(\n            (0): Conv2d(480, 112, kernel_size=(1, 1), stride=(1, 1), bias=False)\n            (1): BatchNorm2d(112, eps=1e-05, momentum=0.1, affine=True, track_running_stats=True)\n          )\n        )\n        (stochastic_depth): StochasticDepth(p=0.1, mode=row)\n      )\n      (1): MBConv(\n        (block): Sequential(\n          (0): Conv2dNormActivation(\n            (0): Conv2d(112, 672, kernel_size=(1, 1), stride=(1, 1), bias=False)\n            (1): BatchNorm2d(672, eps=1e-05, momentum=0.1, affine=True, track_running_stats=True)\n            (2): SiLU(inplace=True)\n          )\n          (1): Conv2dNormActivation(\n            (0): Conv2d(672, 672, kernel_size=(5, 5), stride=(1, 1), padding=(2, 2), groups=672, bias=False)\n            (1): BatchNorm2d(672, eps=1e-05, momentum=0.1, affine=True, track_running_stats=True)\n            (2): SiLU(inplace=True)\n          )\n          (2): SqueezeExcitation(\n            (avgpool): AdaptiveAvgPool2d(output_size=1)\n            (fc1): Conv2d(672, 28, kernel_size=(1, 1), stride=(1, 1))\n            (fc2): Conv2d(28, 672, kernel_size=(1, 1), stride=(1, 1))\n            (activation): SiLU(inplace=True)\n            (scale_activation): Sigmoid()\n          )\n          (3): Conv2dNormActivation(\n            (0): Conv2d(672, 112, kernel_size=(1, 1), stride=(1, 1), bias=False)\n            (1): BatchNorm2d(112, eps=1e-05, momentum=0.1, affine=True, track_running_stats=True)\n          )\n        )\n        (stochastic_depth): StochasticDepth(p=0.1125, mode=row)\n      )\n      (2): MBConv(\n        (block): Sequential(\n          (0): Conv2dNormActivation(\n            (0): Conv2d(112, 672, kernel_size=(1, 1), stride=(1, 1), bias=False)\n            (1): BatchNorm2d(672, eps=1e-05, momentum=0.1, affine=True, track_running_stats=True)\n            (2): SiLU(inplace=True)\n          )\n          (1): Conv2dNormActivation(\n            (0): Conv2d(672, 672, kernel_size=(5, 5), stride=(1, 1), padding=(2, 2), groups=672, bias=False)\n            (1): BatchNorm2d(672, eps=1e-05, momentum=0.1, affine=True, track_running_stats=True)\n            (2): SiLU(inplace=True)\n          )\n          (2): SqueezeExcitation(\n            (avgpool): AdaptiveAvgPool2d(output_size=1)\n            (fc1): Conv2d(672, 28, kernel_size=(1, 1), stride=(1, 1))\n            (fc2): Conv2d(28, 672, kernel_size=(1, 1), stride=(1, 1))\n            (activation): SiLU(inplace=True)\n            (scale_activation): Sigmoid()\n          )\n          (3): Conv2dNormActivation(\n            (0): Conv2d(672, 112, kernel_size=(1, 1), stride=(1, 1), bias=False)\n            (1): BatchNorm2d(112, eps=1e-05, momentum=0.1, affine=True, track_running_stats=True)\n          )\n        )\n        (stochastic_depth): StochasticDepth(p=0.125, mode=row)\n      )\n    )\n    (6): Sequential(\n      (0): MBConv(\n        (block): Sequential(\n          (0): Conv2dNormActivation(\n            (0): Conv2d(112, 672, kernel_size=(1, 1), stride=(1, 1), bias=False)\n            (1): BatchNorm2d(672, eps=1e-05, momentum=0.1, affine=True, track_running_stats=True)\n            (2): SiLU(inplace=True)\n          )\n          (1): Conv2dNormActivation(\n            (0): Conv2d(672, 672, kernel_size=(5, 5), stride=(2, 2), padding=(2, 2), groups=672, bias=False)\n            (1): BatchNorm2d(672, eps=1e-05, momentum=0.1, affine=True, track_running_stats=True)\n            (2): SiLU(inplace=True)\n          )\n          (2): SqueezeExcitation(\n            (avgpool): AdaptiveAvgPool2d(output_size=1)\n            (fc1): Conv2d(672, 28, kernel_size=(1, 1), stride=(1, 1))\n            (fc2): Conv2d(28, 672, kernel_size=(1, 1), stride=(1, 1))\n            (activation): SiLU(inplace=True)\n            (scale_activation): Sigmoid()\n          )\n          (3): Conv2dNormActivation(\n            (0): Conv2d(672, 192, kernel_size=(1, 1), stride=(1, 1), bias=False)\n            (1): BatchNorm2d(192, eps=1e-05, momentum=0.1, affine=True, track_running_stats=True)\n          )\n        )\n        (stochastic_depth): StochasticDepth(p=0.1375, mode=row)\n      )\n      (1): MBConv(\n        (block): Sequential(\n          (0): Conv2dNormActivation(\n            (0): Conv2d(192, 1152, kernel_size=(1, 1), stride=(1, 1), bias=False)\n            (1): BatchNorm2d(1152, eps=1e-05, momentum=0.1, affine=True, track_running_stats=True)\n            (2): SiLU(inplace=True)\n          )\n          (1): Conv2dNormActivation(\n            (0): Conv2d(1152, 1152, kernel_size=(5, 5), stride=(1, 1), padding=(2, 2), groups=1152, bias=False)\n            (1): BatchNorm2d(1152, eps=1e-05, momentum=0.1, affine=True, track_running_stats=True)\n            (2): SiLU(inplace=True)\n          )\n          (2): SqueezeExcitation(\n            (avgpool): AdaptiveAvgPool2d(output_size=1)\n            (fc1): Conv2d(1152, 48, kernel_size=(1, 1), stride=(1, 1))\n            (fc2): Conv2d(48, 1152, kernel_size=(1, 1), stride=(1, 1))\n            (activation): SiLU(inplace=True)\n            (scale_activation): Sigmoid()\n          )\n          (3): Conv2dNormActivation(\n            (0): Conv2d(1152, 192, kernel_size=(1, 1), stride=(1, 1), bias=False)\n            (1): BatchNorm2d(192, eps=1e-05, momentum=0.1, affine=True, track_running_stats=True)\n          )\n        )\n        (stochastic_depth): StochasticDepth(p=0.15000000000000002, mode=row)\n      )\n      (2): MBConv(\n        (block): Sequential(\n          (0): Conv2dNormActivation(\n            (0): Conv2d(192, 1152, kernel_size=(1, 1), stride=(1, 1), bias=False)\n            (1): BatchNorm2d(1152, eps=1e-05, momentum=0.1, affine=True, track_running_stats=True)\n            (2): SiLU(inplace=True)\n          )\n          (1): Conv2dNormActivation(\n            (0): Conv2d(1152, 1152, kernel_size=(5, 5), stride=(1, 1), padding=(2, 2), groups=1152, bias=False)\n            (1): BatchNorm2d(1152, eps=1e-05, momentum=0.1, affine=True, track_running_stats=True)\n            (2): SiLU(inplace=True)\n          )\n          (2): SqueezeExcitation(\n            (avgpool): AdaptiveAvgPool2d(output_size=1)\n            (fc1): Conv2d(1152, 48, kernel_size=(1, 1), stride=(1, 1))\n            (fc2): Conv2d(48, 1152, kernel_size=(1, 1), stride=(1, 1))\n            (activation): SiLU(inplace=True)\n            (scale_activation): Sigmoid()\n          )\n          (3): Conv2dNormActivation(\n            (0): Conv2d(1152, 192, kernel_size=(1, 1), stride=(1, 1), bias=False)\n            (1): BatchNorm2d(192, eps=1e-05, momentum=0.1, affine=True, track_running_stats=True)\n          )\n        )\n        (stochastic_depth): StochasticDepth(p=0.1625, mode=row)\n      )\n      (3): MBConv(\n        (block): Sequential(\n          (0): Conv2dNormActivation(\n            (0): Conv2d(192, 1152, kernel_size=(1, 1), stride=(1, 1), bias=False)\n            (1): BatchNorm2d(1152, eps=1e-05, momentum=0.1, affine=True, track_running_stats=True)\n            (2): SiLU(inplace=True)\n          )\n          (1): Conv2dNormActivation(\n            (0): Conv2d(1152, 1152, kernel_size=(5, 5), stride=(1, 1), padding=(2, 2), groups=1152, bias=False)\n            (1): BatchNorm2d(1152, eps=1e-05, momentum=0.1, affine=True, track_running_stats=True)\n            (2): SiLU(inplace=True)\n          )\n          (2): SqueezeExcitation(\n            (avgpool): AdaptiveAvgPool2d(output_size=1)\n            (fc1): Conv2d(1152, 48, kernel_size=(1, 1), stride=(1, 1))\n            (fc2): Conv2d(48, 1152, kernel_size=(1, 1), stride=(1, 1))\n            (activation): SiLU(inplace=True)\n            (scale_activation): Sigmoid()\n          )\n          (3): Conv2dNormActivation(\n            (0): Conv2d(1152, 192, kernel_size=(1, 1), stride=(1, 1), bias=False)\n            (1): BatchNorm2d(192, eps=1e-05, momentum=0.1, affine=True, track_running_stats=True)\n          )\n        )\n        (stochastic_depth): StochasticDepth(p=0.17500000000000002, mode=row)\n      )\n    )\n    (7): Sequential(\n      (0): MBConv(\n        (block): Sequential(\n          (0): Conv2dNormActivation(\n            (0): Conv2d(192, 1152, kernel_size=(1, 1), stride=(1, 1), bias=False)\n            (1): BatchNorm2d(1152, eps=1e-05, momentum=0.1, affine=True, track_running_stats=True)\n            (2): SiLU(inplace=True)\n          )\n          (1): Conv2dNormActivation(\n            (0): Conv2d(1152, 1152, kernel_size=(3, 3), stride=(1, 1), padding=(1, 1), groups=1152, bias=False)\n            (1): BatchNorm2d(1152, eps=1e-05, momentum=0.1, affine=True, track_running_stats=True)\n            (2): SiLU(inplace=True)\n          )\n          (2): SqueezeExcitation(\n            (avgpool): AdaptiveAvgPool2d(output_size=1)\n            (fc1): Conv2d(1152, 48, kernel_size=(1, 1), stride=(1, 1))\n            (fc2): Conv2d(48, 1152, kernel_size=(1, 1), stride=(1, 1))\n            (activation): SiLU(inplace=True)\n            (scale_activation): Sigmoid()\n          )\n          (3): Conv2dNormActivation(\n            (0): Conv2d(1152, 320, kernel_size=(1, 1), stride=(1, 1), bias=False)\n            (1): BatchNorm2d(320, eps=1e-05, momentum=0.1, affine=True, track_running_stats=True)\n          )\n        )\n        (stochastic_depth): StochasticDepth(p=0.1875, mode=row)\n      )\n    )\n    (8): Conv2dNormActivation(\n      (0): Conv2d(320, 1280, kernel_size=(1, 1), stride=(1, 1), bias=False)\n      (1): BatchNorm2d(1280, eps=1e-05, momentum=0.1, affine=True, track_running_stats=True)\n      (2): SiLU(inplace=True)\n    )\n  )\n  (avgpool): AdaptiveAvgPool2d(output_size=1)\n  (classifier): Sequential(\n    (0): Dropout(p=0.2, inplace=True)\n    (1): Linear(in_features=1280, out_features=760, bias=True)\n    (2): Softmax(dim=-1)\n  )\n)"
     },
     "metadata": {}
    }
   ]
  },
  {
   "cell_type": "code",
   "source": [],
   "metadata": {},
   "execution_count": null,
   "outputs": []
  },
  {
   "cell_type": "markdown",
   "source": [
    "## 2. Set up the output layer"
   ],
   "metadata": {
    "id": "b45cPpjkTFDl"
   }
  },
  {
   "cell_type": "markdown",
   "source": [
    "Efficient Model consists of 3 blocks (2 Sequential and one Avg Pooling between them. Let's have a look at last two layers"
   ],
   "metadata": {
    "id": "fzxyvh00TFDl"
   }
  },
  {
   "cell_type": "markdown",
   "source": [
    "Last layer is classifier."
   ],
   "metadata": {
    "id": "oo2UzH7fTFDl"
   }
  },
  {
   "cell_type": "code",
   "source": [
    "model.classifier"
   ],
   "metadata": {
    "id": "GsWQ0vJoTFDm",
    "outputId": "fe3553cc-d992-44f6-f031-4c1c49705080",
    "execution": {
     "iopub.status.busy": "2023-08-09T22:25:08.178218Z",
     "iopub.execute_input": "2023-08-09T22:25:08.178567Z",
     "iopub.status.idle": "2023-08-09T22:25:08.184541Z",
     "shell.execute_reply.started": "2023-08-09T22:25:08.178536Z",
     "shell.execute_reply": "2023-08-09T22:25:08.183603Z"
    },
    "trusted": true
   },
   "execution_count": 43,
   "outputs": [
    {
     "execution_count": 43,
     "output_type": "execute_result",
     "data": {
      "text/plain": "Sequential(\n  (0): Dropout(p=0.2, inplace=True)\n  (1): Linear(in_features=1280, out_features=760, bias=True)\n  (2): Softmax(dim=-1)\n)"
     },
     "metadata": {}
    }
   ]
  },
  {
   "cell_type": "markdown",
   "source": [
    "Let's change the number of classes (according with our task), and add a Softmax"
   ],
   "metadata": {
    "id": "3nx3jVitTFDm"
   }
  },
  {
   "cell_type": "code",
   "source": [
    "fc_dropout = 0.3"
   ],
   "metadata": {
    "execution": {
     "iopub.status.busy": "2023-08-09T22:25:10.319431Z",
     "iopub.execute_input": "2023-08-09T22:25:10.319803Z",
     "iopub.status.idle": "2023-08-09T22:25:10.325407Z",
     "shell.execute_reply.started": "2023-08-09T22:25:10.319772Z",
     "shell.execute_reply": "2023-08-09T22:25:10.324385Z"
    },
    "trusted": true
   },
   "execution_count": 44,
   "outputs": []
  },
  {
   "cell_type": "code",
   "source": [
    "model.classifier = nn.Sequential(\n",
    "    nn.Dropout(p=fc_dropout, inplace=True),\n",
    "    nn.Linear(in_features=model.classifier[1].in_features, out_features=config.num_of_classes, bias=True),\n",
    "    nn.Softmax(dim=-1)\n",
    " )"
   ],
   "metadata": {
    "id": "wUliJRZETFDm",
    "execution": {
     "iopub.status.busy": "2023-08-09T22:25:11.153574Z",
     "iopub.execute_input": "2023-08-09T22:25:11.154278Z",
     "iopub.status.idle": "2023-08-09T22:25:11.168420Z",
     "shell.execute_reply.started": "2023-08-09T22:25:11.154240Z",
     "shell.execute_reply": "2023-08-09T22:25:11.167356Z"
    },
    "trusted": true
   },
   "execution_count": 45,
   "outputs": []
  },
  {
   "cell_type": "markdown",
   "source": [
    "For model loaded from path we can also change the dropout ratio (without affecting the weights)"
   ],
   "metadata": {}
  },
  {
   "cell_type": "code",
   "source": [
    "model.classifier[0] = nn.Dropout(p=fc_dropout, inplace=False)"
   ],
   "metadata": {
    "execution": {
     "iopub.status.busy": "2023-08-09T22:25:13.055310Z",
     "iopub.execute_input": "2023-08-09T22:25:13.055680Z",
     "iopub.status.idle": "2023-08-09T22:25:13.060715Z",
     "shell.execute_reply.started": "2023-08-09T22:25:13.055649Z",
     "shell.execute_reply": "2023-08-09T22:25:13.059780Z"
    },
    "trusted": true
   },
   "execution_count": 46,
   "outputs": []
  },
  {
   "cell_type": "code",
   "source": [
    "model"
   ],
   "metadata": {
    "id": "fYhJdkx7TFDm",
    "outputId": "0af13989-cf17-4ff1-cee3-24dfd090f0d3",
    "execution": {
     "iopub.status.busy": "2023-08-09T22:25:13.626513Z",
     "iopub.execute_input": "2023-08-09T22:25:13.627102Z",
     "iopub.status.idle": "2023-08-09T22:25:13.640838Z",
     "shell.execute_reply.started": "2023-08-09T22:25:13.627056Z",
     "shell.execute_reply": "2023-08-09T22:25:13.639721Z"
    },
    "collapsed": true,
    "jupyter": {
     "outputs_hidden": true
    },
    "trusted": true
   },
   "execution_count": 47,
   "outputs": [
    {
     "execution_count": 47,
     "output_type": "execute_result",
     "data": {
      "text/plain": "EfficientNet(\n  (features): Sequential(\n    (0): Conv2dNormActivation(\n      (0): Conv2d(3, 32, kernel_size=(3, 3), stride=(2, 2), padding=(1, 1), bias=False)\n      (1): BatchNorm2d(32, eps=1e-05, momentum=0.1, affine=True, track_running_stats=True)\n      (2): SiLU(inplace=True)\n    )\n    (1): Sequential(\n      (0): MBConv(\n        (block): Sequential(\n          (0): Conv2dNormActivation(\n            (0): Conv2d(32, 32, kernel_size=(3, 3), stride=(1, 1), padding=(1, 1), groups=32, bias=False)\n            (1): BatchNorm2d(32, eps=1e-05, momentum=0.1, affine=True, track_running_stats=True)\n            (2): SiLU(inplace=True)\n          )\n          (1): SqueezeExcitation(\n            (avgpool): AdaptiveAvgPool2d(output_size=1)\n            (fc1): Conv2d(32, 8, kernel_size=(1, 1), stride=(1, 1))\n            (fc2): Conv2d(8, 32, kernel_size=(1, 1), stride=(1, 1))\n            (activation): SiLU(inplace=True)\n            (scale_activation): Sigmoid()\n          )\n          (2): Conv2dNormActivation(\n            (0): Conv2d(32, 16, kernel_size=(1, 1), stride=(1, 1), bias=False)\n            (1): BatchNorm2d(16, eps=1e-05, momentum=0.1, affine=True, track_running_stats=True)\n          )\n        )\n        (stochastic_depth): StochasticDepth(p=0.0, mode=row)\n      )\n    )\n    (2): Sequential(\n      (0): MBConv(\n        (block): Sequential(\n          (0): Conv2dNormActivation(\n            (0): Conv2d(16, 96, kernel_size=(1, 1), stride=(1, 1), bias=False)\n            (1): BatchNorm2d(96, eps=1e-05, momentum=0.1, affine=True, track_running_stats=True)\n            (2): SiLU(inplace=True)\n          )\n          (1): Conv2dNormActivation(\n            (0): Conv2d(96, 96, kernel_size=(3, 3), stride=(2, 2), padding=(1, 1), groups=96, bias=False)\n            (1): BatchNorm2d(96, eps=1e-05, momentum=0.1, affine=True, track_running_stats=True)\n            (2): SiLU(inplace=True)\n          )\n          (2): SqueezeExcitation(\n            (avgpool): AdaptiveAvgPool2d(output_size=1)\n            (fc1): Conv2d(96, 4, kernel_size=(1, 1), stride=(1, 1))\n            (fc2): Conv2d(4, 96, kernel_size=(1, 1), stride=(1, 1))\n            (activation): SiLU(inplace=True)\n            (scale_activation): Sigmoid()\n          )\n          (3): Conv2dNormActivation(\n            (0): Conv2d(96, 24, kernel_size=(1, 1), stride=(1, 1), bias=False)\n            (1): BatchNorm2d(24, eps=1e-05, momentum=0.1, affine=True, track_running_stats=True)\n          )\n        )\n        (stochastic_depth): StochasticDepth(p=0.0125, mode=row)\n      )\n      (1): MBConv(\n        (block): Sequential(\n          (0): Conv2dNormActivation(\n            (0): Conv2d(24, 144, kernel_size=(1, 1), stride=(1, 1), bias=False)\n            (1): BatchNorm2d(144, eps=1e-05, momentum=0.1, affine=True, track_running_stats=True)\n            (2): SiLU(inplace=True)\n          )\n          (1): Conv2dNormActivation(\n            (0): Conv2d(144, 144, kernel_size=(3, 3), stride=(1, 1), padding=(1, 1), groups=144, bias=False)\n            (1): BatchNorm2d(144, eps=1e-05, momentum=0.1, affine=True, track_running_stats=True)\n            (2): SiLU(inplace=True)\n          )\n          (2): SqueezeExcitation(\n            (avgpool): AdaptiveAvgPool2d(output_size=1)\n            (fc1): Conv2d(144, 6, kernel_size=(1, 1), stride=(1, 1))\n            (fc2): Conv2d(6, 144, kernel_size=(1, 1), stride=(1, 1))\n            (activation): SiLU(inplace=True)\n            (scale_activation): Sigmoid()\n          )\n          (3): Conv2dNormActivation(\n            (0): Conv2d(144, 24, kernel_size=(1, 1), stride=(1, 1), bias=False)\n            (1): BatchNorm2d(24, eps=1e-05, momentum=0.1, affine=True, track_running_stats=True)\n          )\n        )\n        (stochastic_depth): StochasticDepth(p=0.025, mode=row)\n      )\n    )\n    (3): Sequential(\n      (0): MBConv(\n        (block): Sequential(\n          (0): Conv2dNormActivation(\n            (0): Conv2d(24, 144, kernel_size=(1, 1), stride=(1, 1), bias=False)\n            (1): BatchNorm2d(144, eps=1e-05, momentum=0.1, affine=True, track_running_stats=True)\n            (2): SiLU(inplace=True)\n          )\n          (1): Conv2dNormActivation(\n            (0): Conv2d(144, 144, kernel_size=(5, 5), stride=(2, 2), padding=(2, 2), groups=144, bias=False)\n            (1): BatchNorm2d(144, eps=1e-05, momentum=0.1, affine=True, track_running_stats=True)\n            (2): SiLU(inplace=True)\n          )\n          (2): SqueezeExcitation(\n            (avgpool): AdaptiveAvgPool2d(output_size=1)\n            (fc1): Conv2d(144, 6, kernel_size=(1, 1), stride=(1, 1))\n            (fc2): Conv2d(6, 144, kernel_size=(1, 1), stride=(1, 1))\n            (activation): SiLU(inplace=True)\n            (scale_activation): Sigmoid()\n          )\n          (3): Conv2dNormActivation(\n            (0): Conv2d(144, 40, kernel_size=(1, 1), stride=(1, 1), bias=False)\n            (1): BatchNorm2d(40, eps=1e-05, momentum=0.1, affine=True, track_running_stats=True)\n          )\n        )\n        (stochastic_depth): StochasticDepth(p=0.037500000000000006, mode=row)\n      )\n      (1): MBConv(\n        (block): Sequential(\n          (0): Conv2dNormActivation(\n            (0): Conv2d(40, 240, kernel_size=(1, 1), stride=(1, 1), bias=False)\n            (1): BatchNorm2d(240, eps=1e-05, momentum=0.1, affine=True, track_running_stats=True)\n            (2): SiLU(inplace=True)\n          )\n          (1): Conv2dNormActivation(\n            (0): Conv2d(240, 240, kernel_size=(5, 5), stride=(1, 1), padding=(2, 2), groups=240, bias=False)\n            (1): BatchNorm2d(240, eps=1e-05, momentum=0.1, affine=True, track_running_stats=True)\n            (2): SiLU(inplace=True)\n          )\n          (2): SqueezeExcitation(\n            (avgpool): AdaptiveAvgPool2d(output_size=1)\n            (fc1): Conv2d(240, 10, kernel_size=(1, 1), stride=(1, 1))\n            (fc2): Conv2d(10, 240, kernel_size=(1, 1), stride=(1, 1))\n            (activation): SiLU(inplace=True)\n            (scale_activation): Sigmoid()\n          )\n          (3): Conv2dNormActivation(\n            (0): Conv2d(240, 40, kernel_size=(1, 1), stride=(1, 1), bias=False)\n            (1): BatchNorm2d(40, eps=1e-05, momentum=0.1, affine=True, track_running_stats=True)\n          )\n        )\n        (stochastic_depth): StochasticDepth(p=0.05, mode=row)\n      )\n    )\n    (4): Sequential(\n      (0): MBConv(\n        (block): Sequential(\n          (0): Conv2dNormActivation(\n            (0): Conv2d(40, 240, kernel_size=(1, 1), stride=(1, 1), bias=False)\n            (1): BatchNorm2d(240, eps=1e-05, momentum=0.1, affine=True, track_running_stats=True)\n            (2): SiLU(inplace=True)\n          )\n          (1): Conv2dNormActivation(\n            (0): Conv2d(240, 240, kernel_size=(3, 3), stride=(2, 2), padding=(1, 1), groups=240, bias=False)\n            (1): BatchNorm2d(240, eps=1e-05, momentum=0.1, affine=True, track_running_stats=True)\n            (2): SiLU(inplace=True)\n          )\n          (2): SqueezeExcitation(\n            (avgpool): AdaptiveAvgPool2d(output_size=1)\n            (fc1): Conv2d(240, 10, kernel_size=(1, 1), stride=(1, 1))\n            (fc2): Conv2d(10, 240, kernel_size=(1, 1), stride=(1, 1))\n            (activation): SiLU(inplace=True)\n            (scale_activation): Sigmoid()\n          )\n          (3): Conv2dNormActivation(\n            (0): Conv2d(240, 80, kernel_size=(1, 1), stride=(1, 1), bias=False)\n            (1): BatchNorm2d(80, eps=1e-05, momentum=0.1, affine=True, track_running_stats=True)\n          )\n        )\n        (stochastic_depth): StochasticDepth(p=0.0625, mode=row)\n      )\n      (1): MBConv(\n        (block): Sequential(\n          (0): Conv2dNormActivation(\n            (0): Conv2d(80, 480, kernel_size=(1, 1), stride=(1, 1), bias=False)\n            (1): BatchNorm2d(480, eps=1e-05, momentum=0.1, affine=True, track_running_stats=True)\n            (2): SiLU(inplace=True)\n          )\n          (1): Conv2dNormActivation(\n            (0): Conv2d(480, 480, kernel_size=(3, 3), stride=(1, 1), padding=(1, 1), groups=480, bias=False)\n            (1): BatchNorm2d(480, eps=1e-05, momentum=0.1, affine=True, track_running_stats=True)\n            (2): SiLU(inplace=True)\n          )\n          (2): SqueezeExcitation(\n            (avgpool): AdaptiveAvgPool2d(output_size=1)\n            (fc1): Conv2d(480, 20, kernel_size=(1, 1), stride=(1, 1))\n            (fc2): Conv2d(20, 480, kernel_size=(1, 1), stride=(1, 1))\n            (activation): SiLU(inplace=True)\n            (scale_activation): Sigmoid()\n          )\n          (3): Conv2dNormActivation(\n            (0): Conv2d(480, 80, kernel_size=(1, 1), stride=(1, 1), bias=False)\n            (1): BatchNorm2d(80, eps=1e-05, momentum=0.1, affine=True, track_running_stats=True)\n          )\n        )\n        (stochastic_depth): StochasticDepth(p=0.07500000000000001, mode=row)\n      )\n      (2): MBConv(\n        (block): Sequential(\n          (0): Conv2dNormActivation(\n            (0): Conv2d(80, 480, kernel_size=(1, 1), stride=(1, 1), bias=False)\n            (1): BatchNorm2d(480, eps=1e-05, momentum=0.1, affine=True, track_running_stats=True)\n            (2): SiLU(inplace=True)\n          )\n          (1): Conv2dNormActivation(\n            (0): Conv2d(480, 480, kernel_size=(3, 3), stride=(1, 1), padding=(1, 1), groups=480, bias=False)\n            (1): BatchNorm2d(480, eps=1e-05, momentum=0.1, affine=True, track_running_stats=True)\n            (2): SiLU(inplace=True)\n          )\n          (2): SqueezeExcitation(\n            (avgpool): AdaptiveAvgPool2d(output_size=1)\n            (fc1): Conv2d(480, 20, kernel_size=(1, 1), stride=(1, 1))\n            (fc2): Conv2d(20, 480, kernel_size=(1, 1), stride=(1, 1))\n            (activation): SiLU(inplace=True)\n            (scale_activation): Sigmoid()\n          )\n          (3): Conv2dNormActivation(\n            (0): Conv2d(480, 80, kernel_size=(1, 1), stride=(1, 1), bias=False)\n            (1): BatchNorm2d(80, eps=1e-05, momentum=0.1, affine=True, track_running_stats=True)\n          )\n        )\n        (stochastic_depth): StochasticDepth(p=0.08750000000000001, mode=row)\n      )\n    )\n    (5): Sequential(\n      (0): MBConv(\n        (block): Sequential(\n          (0): Conv2dNormActivation(\n            (0): Conv2d(80, 480, kernel_size=(1, 1), stride=(1, 1), bias=False)\n            (1): BatchNorm2d(480, eps=1e-05, momentum=0.1, affine=True, track_running_stats=True)\n            (2): SiLU(inplace=True)\n          )\n          (1): Conv2dNormActivation(\n            (0): Conv2d(480, 480, kernel_size=(5, 5), stride=(1, 1), padding=(2, 2), groups=480, bias=False)\n            (1): BatchNorm2d(480, eps=1e-05, momentum=0.1, affine=True, track_running_stats=True)\n            (2): SiLU(inplace=True)\n          )\n          (2): SqueezeExcitation(\n            (avgpool): AdaptiveAvgPool2d(output_size=1)\n            (fc1): Conv2d(480, 20, kernel_size=(1, 1), stride=(1, 1))\n            (fc2): Conv2d(20, 480, kernel_size=(1, 1), stride=(1, 1))\n            (activation): SiLU(inplace=True)\n            (scale_activation): Sigmoid()\n          )\n          (3): Conv2dNormActivation(\n            (0): Conv2d(480, 112, kernel_size=(1, 1), stride=(1, 1), bias=False)\n            (1): BatchNorm2d(112, eps=1e-05, momentum=0.1, affine=True, track_running_stats=True)\n          )\n        )\n        (stochastic_depth): StochasticDepth(p=0.1, mode=row)\n      )\n      (1): MBConv(\n        (block): Sequential(\n          (0): Conv2dNormActivation(\n            (0): Conv2d(112, 672, kernel_size=(1, 1), stride=(1, 1), bias=False)\n            (1): BatchNorm2d(672, eps=1e-05, momentum=0.1, affine=True, track_running_stats=True)\n            (2): SiLU(inplace=True)\n          )\n          (1): Conv2dNormActivation(\n            (0): Conv2d(672, 672, kernel_size=(5, 5), stride=(1, 1), padding=(2, 2), groups=672, bias=False)\n            (1): BatchNorm2d(672, eps=1e-05, momentum=0.1, affine=True, track_running_stats=True)\n            (2): SiLU(inplace=True)\n          )\n          (2): SqueezeExcitation(\n            (avgpool): AdaptiveAvgPool2d(output_size=1)\n            (fc1): Conv2d(672, 28, kernel_size=(1, 1), stride=(1, 1))\n            (fc2): Conv2d(28, 672, kernel_size=(1, 1), stride=(1, 1))\n            (activation): SiLU(inplace=True)\n            (scale_activation): Sigmoid()\n          )\n          (3): Conv2dNormActivation(\n            (0): Conv2d(672, 112, kernel_size=(1, 1), stride=(1, 1), bias=False)\n            (1): BatchNorm2d(112, eps=1e-05, momentum=0.1, affine=True, track_running_stats=True)\n          )\n        )\n        (stochastic_depth): StochasticDepth(p=0.1125, mode=row)\n      )\n      (2): MBConv(\n        (block): Sequential(\n          (0): Conv2dNormActivation(\n            (0): Conv2d(112, 672, kernel_size=(1, 1), stride=(1, 1), bias=False)\n            (1): BatchNorm2d(672, eps=1e-05, momentum=0.1, affine=True, track_running_stats=True)\n            (2): SiLU(inplace=True)\n          )\n          (1): Conv2dNormActivation(\n            (0): Conv2d(672, 672, kernel_size=(5, 5), stride=(1, 1), padding=(2, 2), groups=672, bias=False)\n            (1): BatchNorm2d(672, eps=1e-05, momentum=0.1, affine=True, track_running_stats=True)\n            (2): SiLU(inplace=True)\n          )\n          (2): SqueezeExcitation(\n            (avgpool): AdaptiveAvgPool2d(output_size=1)\n            (fc1): Conv2d(672, 28, kernel_size=(1, 1), stride=(1, 1))\n            (fc2): Conv2d(28, 672, kernel_size=(1, 1), stride=(1, 1))\n            (activation): SiLU(inplace=True)\n            (scale_activation): Sigmoid()\n          )\n          (3): Conv2dNormActivation(\n            (0): Conv2d(672, 112, kernel_size=(1, 1), stride=(1, 1), bias=False)\n            (1): BatchNorm2d(112, eps=1e-05, momentum=0.1, affine=True, track_running_stats=True)\n          )\n        )\n        (stochastic_depth): StochasticDepth(p=0.125, mode=row)\n      )\n    )\n    (6): Sequential(\n      (0): MBConv(\n        (block): Sequential(\n          (0): Conv2dNormActivation(\n            (0): Conv2d(112, 672, kernel_size=(1, 1), stride=(1, 1), bias=False)\n            (1): BatchNorm2d(672, eps=1e-05, momentum=0.1, affine=True, track_running_stats=True)\n            (2): SiLU(inplace=True)\n          )\n          (1): Conv2dNormActivation(\n            (0): Conv2d(672, 672, kernel_size=(5, 5), stride=(2, 2), padding=(2, 2), groups=672, bias=False)\n            (1): BatchNorm2d(672, eps=1e-05, momentum=0.1, affine=True, track_running_stats=True)\n            (2): SiLU(inplace=True)\n          )\n          (2): SqueezeExcitation(\n            (avgpool): AdaptiveAvgPool2d(output_size=1)\n            (fc1): Conv2d(672, 28, kernel_size=(1, 1), stride=(1, 1))\n            (fc2): Conv2d(28, 672, kernel_size=(1, 1), stride=(1, 1))\n            (activation): SiLU(inplace=True)\n            (scale_activation): Sigmoid()\n          )\n          (3): Conv2dNormActivation(\n            (0): Conv2d(672, 192, kernel_size=(1, 1), stride=(1, 1), bias=False)\n            (1): BatchNorm2d(192, eps=1e-05, momentum=0.1, affine=True, track_running_stats=True)\n          )\n        )\n        (stochastic_depth): StochasticDepth(p=0.1375, mode=row)\n      )\n      (1): MBConv(\n        (block): Sequential(\n          (0): Conv2dNormActivation(\n            (0): Conv2d(192, 1152, kernel_size=(1, 1), stride=(1, 1), bias=False)\n            (1): BatchNorm2d(1152, eps=1e-05, momentum=0.1, affine=True, track_running_stats=True)\n            (2): SiLU(inplace=True)\n          )\n          (1): Conv2dNormActivation(\n            (0): Conv2d(1152, 1152, kernel_size=(5, 5), stride=(1, 1), padding=(2, 2), groups=1152, bias=False)\n            (1): BatchNorm2d(1152, eps=1e-05, momentum=0.1, affine=True, track_running_stats=True)\n            (2): SiLU(inplace=True)\n          )\n          (2): SqueezeExcitation(\n            (avgpool): AdaptiveAvgPool2d(output_size=1)\n            (fc1): Conv2d(1152, 48, kernel_size=(1, 1), stride=(1, 1))\n            (fc2): Conv2d(48, 1152, kernel_size=(1, 1), stride=(1, 1))\n            (activation): SiLU(inplace=True)\n            (scale_activation): Sigmoid()\n          )\n          (3): Conv2dNormActivation(\n            (0): Conv2d(1152, 192, kernel_size=(1, 1), stride=(1, 1), bias=False)\n            (1): BatchNorm2d(192, eps=1e-05, momentum=0.1, affine=True, track_running_stats=True)\n          )\n        )\n        (stochastic_depth): StochasticDepth(p=0.15000000000000002, mode=row)\n      )\n      (2): MBConv(\n        (block): Sequential(\n          (0): Conv2dNormActivation(\n            (0): Conv2d(192, 1152, kernel_size=(1, 1), stride=(1, 1), bias=False)\n            (1): BatchNorm2d(1152, eps=1e-05, momentum=0.1, affine=True, track_running_stats=True)\n            (2): SiLU(inplace=True)\n          )\n          (1): Conv2dNormActivation(\n            (0): Conv2d(1152, 1152, kernel_size=(5, 5), stride=(1, 1), padding=(2, 2), groups=1152, bias=False)\n            (1): BatchNorm2d(1152, eps=1e-05, momentum=0.1, affine=True, track_running_stats=True)\n            (2): SiLU(inplace=True)\n          )\n          (2): SqueezeExcitation(\n            (avgpool): AdaptiveAvgPool2d(output_size=1)\n            (fc1): Conv2d(1152, 48, kernel_size=(1, 1), stride=(1, 1))\n            (fc2): Conv2d(48, 1152, kernel_size=(1, 1), stride=(1, 1))\n            (activation): SiLU(inplace=True)\n            (scale_activation): Sigmoid()\n          )\n          (3): Conv2dNormActivation(\n            (0): Conv2d(1152, 192, kernel_size=(1, 1), stride=(1, 1), bias=False)\n            (1): BatchNorm2d(192, eps=1e-05, momentum=0.1, affine=True, track_running_stats=True)\n          )\n        )\n        (stochastic_depth): StochasticDepth(p=0.1625, mode=row)\n      )\n      (3): MBConv(\n        (block): Sequential(\n          (0): Conv2dNormActivation(\n            (0): Conv2d(192, 1152, kernel_size=(1, 1), stride=(1, 1), bias=False)\n            (1): BatchNorm2d(1152, eps=1e-05, momentum=0.1, affine=True, track_running_stats=True)\n            (2): SiLU(inplace=True)\n          )\n          (1): Conv2dNormActivation(\n            (0): Conv2d(1152, 1152, kernel_size=(5, 5), stride=(1, 1), padding=(2, 2), groups=1152, bias=False)\n            (1): BatchNorm2d(1152, eps=1e-05, momentum=0.1, affine=True, track_running_stats=True)\n            (2): SiLU(inplace=True)\n          )\n          (2): SqueezeExcitation(\n            (avgpool): AdaptiveAvgPool2d(output_size=1)\n            (fc1): Conv2d(1152, 48, kernel_size=(1, 1), stride=(1, 1))\n            (fc2): Conv2d(48, 1152, kernel_size=(1, 1), stride=(1, 1))\n            (activation): SiLU(inplace=True)\n            (scale_activation): Sigmoid()\n          )\n          (3): Conv2dNormActivation(\n            (0): Conv2d(1152, 192, kernel_size=(1, 1), stride=(1, 1), bias=False)\n            (1): BatchNorm2d(192, eps=1e-05, momentum=0.1, affine=True, track_running_stats=True)\n          )\n        )\n        (stochastic_depth): StochasticDepth(p=0.17500000000000002, mode=row)\n      )\n    )\n    (7): Sequential(\n      (0): MBConv(\n        (block): Sequential(\n          (0): Conv2dNormActivation(\n            (0): Conv2d(192, 1152, kernel_size=(1, 1), stride=(1, 1), bias=False)\n            (1): BatchNorm2d(1152, eps=1e-05, momentum=0.1, affine=True, track_running_stats=True)\n            (2): SiLU(inplace=True)\n          )\n          (1): Conv2dNormActivation(\n            (0): Conv2d(1152, 1152, kernel_size=(3, 3), stride=(1, 1), padding=(1, 1), groups=1152, bias=False)\n            (1): BatchNorm2d(1152, eps=1e-05, momentum=0.1, affine=True, track_running_stats=True)\n            (2): SiLU(inplace=True)\n          )\n          (2): SqueezeExcitation(\n            (avgpool): AdaptiveAvgPool2d(output_size=1)\n            (fc1): Conv2d(1152, 48, kernel_size=(1, 1), stride=(1, 1))\n            (fc2): Conv2d(48, 1152, kernel_size=(1, 1), stride=(1, 1))\n            (activation): SiLU(inplace=True)\n            (scale_activation): Sigmoid()\n          )\n          (3): Conv2dNormActivation(\n            (0): Conv2d(1152, 320, kernel_size=(1, 1), stride=(1, 1), bias=False)\n            (1): BatchNorm2d(320, eps=1e-05, momentum=0.1, affine=True, track_running_stats=True)\n          )\n        )\n        (stochastic_depth): StochasticDepth(p=0.1875, mode=row)\n      )\n    )\n    (8): Conv2dNormActivation(\n      (0): Conv2d(320, 1280, kernel_size=(1, 1), stride=(1, 1), bias=False)\n      (1): BatchNorm2d(1280, eps=1e-05, momentum=0.1, affine=True, track_running_stats=True)\n      (2): SiLU(inplace=True)\n    )\n  )\n  (avgpool): AdaptiveAvgPool2d(output_size=1)\n  (classifier): Sequential(\n    (0): Dropout(p=0.3, inplace=False)\n    (1): Linear(in_features=1280, out_features=760, bias=True)\n    (2): Softmax(dim=-1)\n  )\n)"
     },
     "metadata": {}
    }
   ]
  },
  {
   "cell_type": "markdown",
   "source": [
    "# 4. Various"
   ],
   "metadata": {
    "id": "t6rYKZFqTFDn"
   }
  },
  {
   "cell_type": "markdown",
   "source": [
    "## 1. Quality metrics"
   ],
   "metadata": {
    "id": "UhnkDGSqTFDn"
   }
  },
  {
   "cell_type": "markdown",
   "source": [
    "We will use accuracy and F1 score for out classification task"
   ],
   "metadata": {
    "id": "VpjMrvnfWgHC"
   }
  },
  {
   "cell_type": "code",
   "source": [
    "f1_score = F1Score(task=\"multiclass\", num_classes=config.num_of_classes, average=\"macro\")"
   ],
   "metadata": {
    "id": "c_2AwnsfTFDn",
    "execution": {
     "iopub.status.busy": "2023-08-09T22:25:18.771353Z",
     "iopub.execute_input": "2023-08-09T22:25:18.771718Z",
     "iopub.status.idle": "2023-08-09T22:25:18.779805Z",
     "shell.execute_reply.started": "2023-08-09T22:25:18.771689Z",
     "shell.execute_reply": "2023-08-09T22:25:18.778849Z"
    },
    "trusted": true
   },
   "execution_count": 48,
   "outputs": []
  },
  {
   "cell_type": "markdown",
   "source": [
    "## 2. Device"
   ],
   "metadata": {
    "id": "WqgSgG2_TFDn"
   }
  },
  {
   "cell_type": "code",
   "source": [
    "device = torch.device(\"cuda\" if torch.cuda.is_available() else \"cpu\")\n",
    "model = model.to(device)\n",
    "f1_score = f1_score.to(device)\n",
    "torch.cuda.empty_cache()"
   ],
   "metadata": {
    "id": "F7zEDfFvTFDo",
    "execution": {
     "iopub.status.busy": "2023-08-09T22:25:19.337266Z",
     "iopub.execute_input": "2023-08-09T22:25:19.338243Z",
     "iopub.status.idle": "2023-08-09T22:25:19.351874Z",
     "shell.execute_reply.started": "2023-08-09T22:25:19.338211Z",
     "shell.execute_reply": "2023-08-09T22:25:19.350768Z"
    },
    "trusted": true
   },
   "execution_count": 49,
   "outputs": []
  },
  {
   "cell_type": "markdown",
   "source": [
    "## 3. Data processing format"
   ],
   "metadata": {
    "id": "E7mbVBoGTFDo"
   }
  },
  {
   "cell_type": "code",
   "source": [
    "config.train_batch_size, config.val_batch_size = 128, 128"
   ],
   "metadata": {
    "id": "7xJPcyHwTFDo",
    "execution": {
     "iopub.status.busy": "2023-08-09T22:25:23.748461Z",
     "iopub.execute_input": "2023-08-09T22:25:23.748821Z",
     "iopub.status.idle": "2023-08-09T22:25:23.753728Z",
     "shell.execute_reply.started": "2023-08-09T22:25:23.748792Z",
     "shell.execute_reply": "2023-08-09T22:25:23.752660Z"
    },
    "trusted": true
   },
   "execution_count": 50,
   "outputs": []
  },
  {
   "cell_type": "code",
   "source": [
    "train_dataloader = DataLoader(train_dataset,\n",
    "                              batch_size=config.train_batch_size,\n",
    "                              shuffle=True,\n",
    "                              num_workers=os.cpu_count(),\n",
    ")"
   ],
   "metadata": {
    "id": "IqrseI2gTFDo",
    "execution": {
     "iopub.status.busy": "2023-08-09T22:25:25.481543Z",
     "iopub.execute_input": "2023-08-09T22:25:25.481895Z",
     "iopub.status.idle": "2023-08-09T22:25:25.487355Z",
     "shell.execute_reply.started": "2023-08-09T22:25:25.481866Z",
     "shell.execute_reply": "2023-08-09T22:25:25.486029Z"
    },
    "trusted": true
   },
   "execution_count": 51,
   "outputs": []
  },
  {
   "cell_type": "code",
   "source": [
    "test_dataloader = DataLoader(test_dataset,\n",
    "                              batch_size=config.val_batch_size,\n",
    "                              shuffle=False,\n",
    "                              num_workers=os.cpu_count(),\n",
    ")"
   ],
   "metadata": {
    "id": "GeiY7hELTFDo",
    "execution": {
     "iopub.status.busy": "2023-08-09T22:25:26.035360Z",
     "iopub.execute_input": "2023-08-09T22:25:26.035719Z",
     "iopub.status.idle": "2023-08-09T22:25:26.042180Z",
     "shell.execute_reply.started": "2023-08-09T22:25:26.035689Z",
     "shell.execute_reply": "2023-08-09T22:25:26.041099Z"
    },
    "trusted": true
   },
   "execution_count": 52,
   "outputs": []
  },
  {
   "cell_type": "markdown",
   "source": [
    "# 5. Initialize the train process"
   ],
   "metadata": {
    "id": "qCM07xVnTFDp"
   }
  },
  {
   "cell_type": "markdown",
   "source": [
    "## 1. Functions to plot the result"
   ],
   "metadata": {
    "id": "afGGK718TFDp"
   }
  },
  {
   "cell_type": "code",
   "source": [
    "def plot_two_curves(\n",
    "        title: str,\n",
    "        train_curve: list[float],\n",
    "        val_curve: list[float],\n",
    "\n",
    "):\n",
    "    plt.figure(figsize=(16, 8))\n",
    "    plt.title(title)\n",
    "    plt.plot(train_curve, label=f'Train {title}')\n",
    "    plt.plot(val_curve, label=f'Valid {title}')\n",
    "    plt.legend()\n",
    "    plt.grid()\n",
    "    plt.show()\n",
    "    #plt.savefig(title)"
   ],
   "metadata": {
    "id": "QVJL1liGTFDp",
    "execution": {
     "iopub.status.busy": "2023-08-10T00:22:22.430881Z",
     "iopub.execute_input": "2023-08-10T00:22:22.431763Z",
     "iopub.status.idle": "2023-08-10T00:22:22.438458Z",
     "shell.execute_reply.started": "2023-08-10T00:22:22.431724Z",
     "shell.execute_reply": "2023-08-10T00:22:22.437483Z"
    },
    "trusted": true
   },
   "execution_count": 83,
   "outputs": []
  },
  {
   "cell_type": "code",
   "source": [
    "def plot_stats(\n",
    "        train_loss: list[float],\n",
    "        valid_loss: list[float],\n",
    "        train_accuracy: list[float]=None,\n",
    "        valid_accuracy: list[float]=None,\n",
    "        train_f1_score: list[float]=None,\n",
    "        valid_f1_score: list[float]=None,\n",
    "        title: str = None\n",
    "):\n",
    "    plot_two_curves(\n",
    "        'Loss',\n",
    "        train_loss,\n",
    "        valid_loss\n",
    "    )\n",
    "\n",
    "    if train_accuracy and valid_accuracy:\n",
    "        plot_two_curves(\n",
    "            'accuracy',\n",
    "            train_accuracy,\n",
    "            valid_accuracy\n",
    "        )\n",
    "\n",
    "    if train_f1_score and valid_f1_score:\n",
    "        plot_two_curves(\n",
    "            'F1 score',\n",
    "            train_f1_score,\n",
    "            valid_f1_score\n",
    "        )\n"
   ],
   "metadata": {
    "id": "GQrWiRJbTFDp",
    "execution": {
     "iopub.status.busy": "2023-08-09T22:25:28.180329Z",
     "iopub.execute_input": "2023-08-09T22:25:28.180694Z",
     "iopub.status.idle": "2023-08-09T22:25:28.187874Z",
     "shell.execute_reply.started": "2023-08-09T22:25:28.180664Z",
     "shell.execute_reply": "2023-08-09T22:25:28.186773Z"
    },
    "trusted": true
   },
   "execution_count": 54,
   "outputs": []
  },
  {
   "cell_type": "markdown",
   "source": [
    "## 2. Training and evaluation functions"
   ],
   "metadata": {
    "id": "ePLlKs4rTFDq"
   }
  },
  {
   "cell_type": "code",
   "source": [
    "def train_one_epoch(model, dataloader, optimizer, criterion, device, epoch: str):\n",
    "    model.train()\n",
    "\n",
    "    train_loss = 0.0\n",
    "    train_correct = 0.0\n",
    "    train_f1 = 0.0\n",
    "    n_batches = 0\n",
    "    data_size = 0\n",
    "    \n",
    "    with tqdm(dataloader, desc=f'Epoch: {epoch}', unit=\"batch\") as tepoch:\n",
    "        for images, labels in tepoch:\n",
    "            n_batches += 1\n",
    "            images = images.to(device)\n",
    "            labels = labels.to(device)\n",
    "\n",
    "            optimizer.zero_grad()\n",
    "\n",
    "            embeddings = model(images)\n",
    "\n",
    "            loss = criterion(embeddings, labels)\n",
    "            loss.backward()\n",
    "            optimizer.step()\n",
    "\n",
    "            loss = loss.item()  # item() extracts scalar\n",
    "            train_loss += loss\n",
    "\n",
    "            _, predicted = torch.max(embeddings.data, 1)\n",
    "\n",
    "            train_correct += (predicted == labels).sum().item()\n",
    "            data_size += labels.size(0)\n",
    "            train_accuracy = train_correct / data_size\n",
    "\n",
    "            f1 = f1_score(predicted, labels).item()\n",
    "            train_f1 += f1\n",
    "            tepoch.set_postfix(loss=loss, acc=train_accuracy)\n",
    "\n",
    "    train_loss /= n_batches\n",
    "    train_f1 /= n_batches\n",
    "    gc.collect()\n",
    "    torch.cuda.empty_cache()\n",
    "\n",
    "    return train_loss, train_accuracy, train_f1"
   ],
   "metadata": {
    "id": "QObsYKNJTFDq",
    "execution": {
     "iopub.status.busy": "2023-08-09T22:25:28.851198Z",
     "iopub.execute_input": "2023-08-09T22:25:28.852160Z",
     "iopub.status.idle": "2023-08-09T22:25:28.861942Z",
     "shell.execute_reply.started": "2023-08-09T22:25:28.852115Z",
     "shell.execute_reply": "2023-08-09T22:25:28.860929Z"
    },
    "trusted": true
   },
   "execution_count": 55,
   "outputs": []
  },
  {
   "cell_type": "code",
   "source": [
    "@torch.inference_mode()\n",
    "def validate_one_epoch(model, dataloader, criterion, device):\n",
    "    model.eval()\n",
    "\n",
    "    val_loss = 0.0\n",
    "    val_correct = 0.0\n",
    "    val_f1_score = 0.0\n",
    "    data_size = 0\n",
    "    n_batches = 0\n",
    "\n",
    "    with tqdm(dataloader, desc=\"Validation\",unit=\"batch\") as tepoch:\n",
    "        for images, labels in tepoch:\n",
    "            n_batches += 1\n",
    "            images = images.to(device)\n",
    "            labels = labels.to(device)\n",
    "            embeddings = model(images)\n",
    "\n",
    "            loss = criterion(embeddings, labels).item()\n",
    "            val_loss += loss\n",
    "\n",
    "            _, predicted = torch.max(embeddings.data, 1)\n",
    "\n",
    "            correct = (predicted == labels).sum().item()\n",
    "            val_correct += correct\n",
    "            data_size += labels.size(0)\n",
    "            val_accuracy = val_correct / data_size\n",
    "\n",
    "            f1 = f1_score(predicted, labels).item()\n",
    "            val_f1_score += f1\n",
    "            tepoch.set_postfix(loss=loss, acc=val_accuracy)\n",
    "\n",
    "    val_loss /= n_batches\n",
    "    val_f1_score /= n_batches\n",
    "    gc.collect()\n",
    "    torch.cuda.empty_cache()\n",
    "\n",
    "    return val_loss, val_accuracy, val_f1_score"
   ],
   "metadata": {
    "id": "shn8rP6wTFDq",
    "execution": {
     "iopub.status.busy": "2023-08-09T22:25:29.108706Z",
     "iopub.execute_input": "2023-08-09T22:25:29.109746Z",
     "iopub.status.idle": "2023-08-09T22:25:29.121883Z",
     "shell.execute_reply.started": "2023-08-09T22:25:29.109699Z",
     "shell.execute_reply": "2023-08-09T22:25:29.118338Z"
    },
    "trusted": true
   },
   "execution_count": 56,
   "outputs": []
  },
  {
   "cell_type": "markdown",
   "source": [
    "## 3. Training cycle"
   ],
   "metadata": {
    "id": "1TWCVEGYTFDq"
   }
  },
  {
   "cell_type": "code",
   "source": [
    "  def train_model(model, train_loader, val_loader,\n",
    "                criterion=None, optimizer=None, num_epochs=5,\n",
    "                scheduler=None, device=torch.device(\"cpu\"),\n",
    "                save_model_to=None):\n",
    "    since = time.time()\n",
    "\n",
    "    train_loss_history, valid_loss_history = [], []\n",
    "    train_acc_history, valid_acc_history = [], []\n",
    "    train_f1_history, valid_f1_history = [], []\n",
    "\n",
    "\n",
    "    # Create a temporary directory to save training checkpoints\n",
    "    with TemporaryDirectory() as tempdir:\n",
    "        best_model_params_path = os.path.join(tempdir, 'best_model_params.pt')\n",
    "\n",
    "        for epoch in range(num_epochs):\n",
    "            train_loss, train_accuracy, train_f1 = train_one_epoch(model, train_loader, optimizer, criterion, device, epoch=f'{epoch+1}/{num_epochs}')\n",
    "            val_loss, val_accuracy, val_f1 = validate_one_epoch(model, val_loader, criterion, device,)\n",
    "\n",
    "            \n",
    "            print_highlighted(\n",
    "                f\"Loss: {val_loss:.4f} - Accuracy: {val_accuracy:.4f} - F1: {val_f1:.4f} - LR: {get_lr(optimizer)}\"\n",
    "            )\n",
    "\n",
    "            if not valid_loss_history or val_loss < valid_loss_history[-1]:\n",
    "                # If it's either first step (history is empty) or our weights are getting better\n",
    "                print_highlighted(\"New weights were applied.\\n\", bgcolor=Back.CYAN)\n",
    "                torch.save(model.state_dict(), best_model_params_path)\n",
    "\n",
    "            scheduler.step(val_loss)\n",
    "\n",
    "            train_loss_history.append(train_loss)\n",
    "            valid_loss_history.append(val_loss)\n",
    "            train_acc_history.append(train_accuracy)\n",
    "            valid_acc_history.append(val_accuracy)\n",
    "            train_f1_history.append(train_f1)\n",
    "            valid_f1_history.append(val_f1)\n",
    "\n",
    "            del train_loss\n",
    "            del val_loss\n",
    "            gc.collect()\n",
    "            torch.cuda.empty_cache()\n",
    "\n",
    "        time_elapsed = time.time() - since\n",
    "        print_highlighted(f'Training complete in {time_elapsed // 60:.0f}m {time_elapsed % 60:.0f}s')\n",
    "\n",
    "        # load best model weights\n",
    "        model.load_state_dict(torch.load(best_model_params_path))\n",
    "\n",
    "        if save_model_to:\n",
    "            torch.save(model, save_model_to)\n",
    "            print(f\"Model was saved to: {save_model_to}\")\n",
    "\n",
    "        history = dict(\n",
    "            train_loss=train_loss_history,\n",
    "            valid_loss=valid_loss_history,\n",
    "            train_accuracy=train_acc_history,\n",
    "            valid_accuracy=valid_acc_history,\n",
    "            train_f1_score=train_f1_history,\n",
    "            valid_f1_score=valid_f1_history,\n",
    "        )\n",
    "    return model, history"
   ],
   "metadata": {
    "id": "CXrp7xrOTFDu",
    "execution": {
     "iopub.status.busy": "2023-08-09T22:25:29.663634Z",
     "iopub.execute_input": "2023-08-09T22:25:29.664885Z",
     "iopub.status.idle": "2023-08-09T22:25:29.678290Z",
     "shell.execute_reply.started": "2023-08-09T22:25:29.664842Z",
     "shell.execute_reply": "2023-08-09T22:25:29.677239Z"
    },
    "trusted": true
   },
   "execution_count": 57,
   "outputs": []
  },
  {
   "cell_type": "markdown",
   "source": [
    "# 6. Hyperparametres"
   ],
   "metadata": {
    "id": "GV7CqxbwTFDu"
   }
  },
  {
   "cell_type": "markdown",
   "source": [
    "Custom Loss Function"
   ],
   "metadata": {
    "id": "zuQ9db32TFDv"
   }
  },
  {
   "cell_type": "code",
   "source": [
    "class FocalLoss(nn.Module):\n",
    "    def __init__(self, alpha=None, gamma=2, reduction='mean'):\n",
    "        super(FocalLoss, self).__init__()\n",
    "        self.alpha = alpha\n",
    "        self.gamma = gamma\n",
    "        self.reduction = reduction\n",
    "        self.ce_loss = nn.CrossEntropyLoss(reduction='none')\n",
    "\n",
    "    def forward(self, inputs, targets):\n",
    "        ce_loss = self.ce_loss(inputs, targets)\n",
    "        pt = torch.exp(-ce_loss)\n",
    "        focal_loss = ((1 - pt) ** self.gamma) * ce_loss\n",
    "\n",
    "        if self.alpha is not None and self.alpha != 1.0:\n",
    "            focal_loss = alpha * focal_loss\n",
    "\n",
    "        if self.reduction == 'mean':\n",
    "            return focal_loss.mean()\n",
    "        elif self.reduction == 'sum':\n",
    "            return focal_loss.sum()\n",
    "        else:\n",
    "            return focal_loss"
   ],
   "metadata": {
    "id": "wzYs3ipyTFDv",
    "execution": {
     "iopub.status.busy": "2023-08-09T22:08:39.775841Z",
     "iopub.execute_input": "2023-08-09T22:08:39.776203Z",
     "iopub.status.idle": "2023-08-09T22:08:39.788069Z",
     "shell.execute_reply.started": "2023-08-09T22:08:39.776171Z",
     "shell.execute_reply": "2023-08-09T22:08:39.783177Z"
    },
    "jupyter": {
     "source_hidden": true
    },
    "trusted": true
   },
   "execution_count": 49,
   "outputs": []
  },
  {
   "cell_type": "code",
   "source": [
    "criterion = nn.CrossEntropyLoss()\n",
    "# criterion = FocalLoss(alpha=1.0, gamma=2, reduction = 'mean')"
   ],
   "metadata": {
    "ExecuteTime": {
     "start_time": "2023-08-07T11:31:44.581064Z",
     "end_time": "2023-08-07T11:31:44.587501Z"
    },
    "jupyter": {
     "outputs_hidden": false
    },
    "id": "PQ1_CTZaTFDw",
    "collapsed": false,
    "execution": {
     "iopub.status.busy": "2023-08-09T22:29:52.887496Z",
     "iopub.execute_input": "2023-08-09T22:29:52.887864Z",
     "iopub.status.idle": "2023-08-09T22:29:52.892856Z",
     "shell.execute_reply.started": "2023-08-09T22:29:52.887834Z",
     "shell.execute_reply": "2023-08-09T22:29:52.891731Z"
    },
    "trusted": true
   },
   "execution_count": 72,
   "outputs": []
  },
  {
   "cell_type": "code",
   "source": [
    "config.learning_rate = 5e-4\n",
    "config.epochs = 40\n",
    "config.weight_decay = 1e-5\n",
    "config.min_loss_delta = 0.1"
   ],
   "metadata": {
    "id": "HZAr_gPLTFDv",
    "execution": {
     "iopub.status.busy": "2023-08-09T22:29:53.129112Z",
     "iopub.execute_input": "2023-08-09T22:29:53.129513Z",
     "iopub.status.idle": "2023-08-09T22:29:53.134551Z",
     "shell.execute_reply.started": "2023-08-09T22:29:53.129481Z",
     "shell.execute_reply": "2023-08-09T22:29:53.133359Z"
    },
    "trusted": true
   },
   "execution_count": 73,
   "outputs": []
  },
  {
   "cell_type": "code",
   "source": [
    "# optimizer = torch.optim.Adam(filter(lambda p: p.requires_grad, model.parameters()), lr=config.learning_rate, weight_decay = config.weight_decay)\n",
    "# optimizer = torch.optim.Adam(model.parameters(), lr=1e-3, weight_decay=0)\n",
    "# optimizer = torch.optim.SGD(model.parameters(), lr=config.learning_rate, momentum=0.8)\n",
    "# optimizer = torch.optim.Adam(model.parameters(), lr=1e-4)\n"
   ],
   "metadata": {
    "ExecuteTime": {
     "start_time": "2023-08-07T11:31:44.581064Z",
     "end_time": "2023-08-07T11:31:44.587501Z"
    },
    "jupyter": {
     "outputs_hidden": false
    },
    "id": "XcMxhj2oTFDv",
    "collapsed": false,
    "execution": {
     "iopub.status.busy": "2023-08-09T22:08:40.401587Z",
     "iopub.execute_input": "2023-08-09T22:08:40.401944Z",
     "iopub.status.idle": "2023-08-09T22:08:40.406461Z",
     "shell.execute_reply.started": "2023-08-09T22:08:40.401914Z",
     "shell.execute_reply": "2023-08-09T22:08:40.405478Z"
    },
    "trusted": true
   },
   "execution_count": 52,
   "outputs": []
  },
  {
   "cell_type": "code",
   "source": [
    "optimizer = torch.optim.Adam(\n",
    "    [\n",
    "    {'params': filter(lambda p: p.requires_grad, model.features.parameters())},\n",
    "    {'params': model.classifier.parameters(), 'lr': 5e-4}\n",
    "    ],\n",
    "    lr=config.learning_rate, \n",
    "    weight_decay = config.weight_decay)\n"
   ],
   "metadata": {
    "execution": {
     "iopub.status.busy": "2023-08-09T22:30:19.966401Z",
     "iopub.execute_input": "2023-08-09T22:30:19.966771Z",
     "iopub.status.idle": "2023-08-09T22:30:19.974779Z",
     "shell.execute_reply.started": "2023-08-09T22:30:19.966740Z",
     "shell.execute_reply": "2023-08-09T22:30:19.973831Z"
    },
    "trusted": true
   },
   "execution_count": 77,
   "outputs": []
  },
  {
   "cell_type": "code",
   "source": [
    "# scheduler = optim.lr_scheduler.StepLR(optimizer, step_size=2, gamma=0.5, verbose=False)\n",
    "scheduler = optim.lr_scheduler.ReduceLROnPlateau(\n",
    "    optimizer, 'min', patience = 5, factor=0.5, \n",
    "    min_lr=config.min_lr , verbose=False,\n",
    "    threshold = config.min_loss_delta)\n",
    "# scheduler = optim.lr_scheduler.ExponentialLR(optimizer, gamma=0.5, verbose=False)\n",
    "# scheduler = optim.lr_scheduler.StepLR(optimizer=optimizer, step_size=10, gamma=0.5, verbose=False)"
   ],
   "metadata": {
    "ExecuteTime": {
     "start_time": "2023-08-07T11:31:44.581064Z",
     "end_time": "2023-08-07T11:31:44.587501Z"
    },
    "jupyter": {
     "outputs_hidden": false
    },
    "id": "mb4RgCFlTFDw",
    "collapsed": false,
    "execution": {
     "iopub.status.busy": "2023-08-09T22:30:21.391863Z",
     "iopub.execute_input": "2023-08-09T22:30:21.392561Z",
     "iopub.status.idle": "2023-08-09T22:30:21.399134Z",
     "shell.execute_reply.started": "2023-08-09T22:30:21.392522Z",
     "shell.execute_reply": "2023-08-09T22:30:21.396883Z"
    },
    "trusted": true
   },
   "execution_count": 78,
   "outputs": []
  },
  {
   "cell_type": "code",
   "source": [
    "def get_lr(optimizer):\n",
    "    \"\"\"\n",
    "    For some schedulers we don't have `get_last_lr()` method.\n",
    "    So, we will get last lr ourselves.\n",
    "    \"\"\"\n",
    "    return list(\n",
    "        [group['lr'] for group in optimizer.param_groups]\n",
    "    )"
   ],
   "metadata": {
    "execution": {
     "iopub.status.busy": "2023-08-09T22:30:22.199598Z",
     "iopub.execute_input": "2023-08-09T22:30:22.200283Z",
     "iopub.status.idle": "2023-08-09T22:30:22.205791Z",
     "shell.execute_reply.started": "2023-08-09T22:30:22.200245Z",
     "shell.execute_reply": "2023-08-09T22:30:22.204816Z"
    },
    "trusted": true
   },
   "execution_count": 79,
   "outputs": []
  },
  {
   "cell_type": "code",
   "source": [
    "get_lr(optimizer)"
   ],
   "metadata": {
    "execution": {
     "iopub.status.busy": "2023-08-09T22:30:22.985508Z",
     "iopub.execute_input": "2023-08-09T22:30:22.986223Z",
     "iopub.status.idle": "2023-08-09T22:30:22.992888Z",
     "shell.execute_reply.started": "2023-08-09T22:30:22.986186Z",
     "shell.execute_reply": "2023-08-09T22:30:22.991984Z"
    },
    "trusted": true
   },
   "execution_count": 80,
   "outputs": [
    {
     "execution_count": 80,
     "output_type": "execute_result",
     "data": {
      "text/plain": "[0.0005, 0.0005]"
     },
     "metadata": {}
    }
   ]
  },
  {
   "cell_type": "markdown",
   "source": [
    "# 7. Run the training process"
   ],
   "metadata": {
    "id": "CKuqXRwrTFDw"
   }
  },
  {
   "cell_type": "code",
   "source": [
    "model, history = train_model(model=model,\n",
    "                    train_loader=train_dataloader,\n",
    "                    val_loader=test_dataloader,\n",
    "                    criterion=criterion,\n",
    "                    optimizer=optimizer,\n",
    "                    num_epochs=config.epochs,\n",
    "                    device=device,\n",
    "                    scheduler=scheduler,\n",
    "                    save_model_to=f'fine-tuned_{config.model_name}.pth')"
   ],
   "metadata": {
    "pycharm": {
     "is_executing": true
    },
    "id": "9WxsyvplTFDw",
    "outputId": "de053f41-a9bb-49b4-ceec-4245ce71efe0",
    "execution": {
     "iopub.status.busy": "2023-08-09T22:30:24.293978Z",
     "iopub.execute_input": "2023-08-09T22:30:24.294687Z",
     "iopub.status.idle": "2023-08-10T00:21:02.560876Z",
     "shell.execute_reply.started": "2023-08-09T22:30:24.294651Z",
     "shell.execute_reply": "2023-08-10T00:21:02.559745Z"
    },
    "trusted": true
   },
   "execution_count": 81,
   "outputs": [
    {
     "name": "stderr",
     "text": "Epoch: 1/40: 100%|██████████| 171/171 [03:26<00:00,  1.21s/batch, acc=0.859, loss=5.84]\nValidation: 100%|██████████| 22/22 [00:10<00:00,  2.08batch/s, acc=0.728, loss=5.99]\n",
     "output_type": "stream"
    },
    {
     "name": "stdout",
     "text": "\u001B[43mLoss: 5.9306 - Accuracy: 0.7279 - F1: 0.4886 - LR: [0.0005, 0.0005]\u001B[0m\n\u001B[46mNew weights were applied.\n\u001B[0m\n",
     "output_type": "stream"
    },
    {
     "name": "stderr",
     "text": "Epoch: 2/40: 100%|██████████| 171/171 [02:32<00:00,  1.12batch/s, acc=0.858, loss=5.79]\nValidation: 100%|██████████| 22/22 [00:10<00:00,  2.19batch/s, acc=0.732, loss=5.97]\n",
     "output_type": "stream"
    },
    {
     "name": "stdout",
     "text": "\u001B[43mLoss: 5.9263 - Accuracy: 0.7315 - F1: 0.4999 - LR: [0.0005, 0.0005]\u001B[0m\n\u001B[46mNew weights were applied.\n\u001B[0m\n",
     "output_type": "stream"
    },
    {
     "name": "stderr",
     "text": "Epoch: 3/40: 100%|██████████| 171/171 [02:32<00:00,  1.12batch/s, acc=0.861, loss=5.87]\nValidation: 100%|██████████| 22/22 [00:11<00:00,  1.95batch/s, acc=0.733, loss=5.98]\n",
     "output_type": "stream"
    },
    {
     "name": "stdout",
     "text": "\u001B[43mLoss: 5.9227 - Accuracy: 0.7326 - F1: 0.4912 - LR: [0.0005, 0.0005]\u001B[0m\n\u001B[46mNew weights were applied.\n\u001B[0m\n",
     "output_type": "stream"
    },
    {
     "name": "stderr",
     "text": "Epoch: 4/40: 100%|██████████| 171/171 [02:32<00:00,  1.12batch/s, acc=0.862, loss=5.8] \nValidation: 100%|██████████| 22/22 [00:09<00:00,  2.23batch/s, acc=0.747, loss=5.94]\n",
     "output_type": "stream"
    },
    {
     "name": "stdout",
     "text": "\u001B[43mLoss: 5.9117 - Accuracy: 0.7467 - F1: 0.5193 - LR: [0.0005, 0.0005]\u001B[0m\n\u001B[46mNew weights were applied.\n\u001B[0m\n",
     "output_type": "stream"
    },
    {
     "name": "stderr",
     "text": "Epoch: 5/40: 100%|██████████| 171/171 [02:31<00:00,  1.13batch/s, acc=0.865, loss=5.89]\nValidation: 100%|██████████| 22/22 [00:09<00:00,  2.20batch/s, acc=0.735, loss=5.95]\n",
     "output_type": "stream"
    },
    {
     "name": "stdout",
     "text": "\u001B[43mLoss: 5.9224 - Accuracy: 0.7355 - F1: 0.5035 - LR: [0.0005, 0.0005]\u001B[0m\n",
     "output_type": "stream"
    },
    {
     "name": "stderr",
     "text": "Epoch: 6/40: 100%|██████████| 171/171 [02:31<00:00,  1.13batch/s, acc=0.865, loss=5.8] \nValidation: 100%|██████████| 22/22 [00:10<00:00,  2.07batch/s, acc=0.744, loss=5.93]\n",
     "output_type": "stream"
    },
    {
     "name": "stdout",
     "text": "\u001B[43mLoss: 5.9101 - Accuracy: 0.7441 - F1: 0.5136 - LR: [0.0005, 0.0005]\u001B[0m\n\u001B[46mNew weights were applied.\n\u001B[0m\n",
     "output_type": "stream"
    },
    {
     "name": "stderr",
     "text": "Epoch: 7/40: 100%|██████████| 171/171 [02:32<00:00,  1.12batch/s, acc=0.866, loss=5.8] \nValidation: 100%|██████████| 22/22 [00:09<00:00,  2.21batch/s, acc=0.745, loss=5.94]\n",
     "output_type": "stream"
    },
    {
     "name": "stdout",
     "text": "\u001B[43mLoss: 5.9124 - Accuracy: 0.7445 - F1: 0.5186 - LR: [0.0005, 0.0005]\u001B[0m\n",
     "output_type": "stream"
    },
    {
     "name": "stderr",
     "text": "Epoch: 8/40: 100%|██████████| 171/171 [02:31<00:00,  1.13batch/s, acc=0.872, loss=5.85]\nValidation: 100%|██████████| 22/22 [00:09<00:00,  2.20batch/s, acc=0.759, loss=5.91]\n",
     "output_type": "stream"
    },
    {
     "name": "stdout",
     "text": "\u001B[43mLoss: 5.8929 - Accuracy: 0.7586 - F1: 0.5315 - LR: [0.00025, 0.00025]\u001B[0m\n\u001B[46mNew weights were applied.\n\u001B[0m\n",
     "output_type": "stream"
    },
    {
     "name": "stderr",
     "text": "Epoch: 9/40: 100%|██████████| 171/171 [02:31<00:00,  1.13batch/s, acc=0.875, loss=5.72]\nValidation: 100%|██████████| 22/22 [00:09<00:00,  2.21batch/s, acc=0.76, loss=5.89] \n",
     "output_type": "stream"
    },
    {
     "name": "stdout",
     "text": "\u001B[43mLoss: 5.8919 - Accuracy: 0.7596 - F1: 0.5373 - LR: [0.00025, 0.00025]\u001B[0m\n\u001B[46mNew weights were applied.\n\u001B[0m\n",
     "output_type": "stream"
    },
    {
     "name": "stderr",
     "text": "Epoch: 10/40: 100%|██████████| 171/171 [02:32<00:00,  1.12batch/s, acc=0.876, loss=5.83]\nValidation: 100%|██████████| 22/22 [00:10<00:00,  2.19batch/s, acc=0.762, loss=5.91]\n",
     "output_type": "stream"
    },
    {
     "name": "stdout",
     "text": "\u001B[43mLoss: 5.8907 - Accuracy: 0.7618 - F1: 0.5401 - LR: [0.00025, 0.00025]\u001B[0m\n\u001B[46mNew weights were applied.\n\u001B[0m\n",
     "output_type": "stream"
    },
    {
     "name": "stderr",
     "text": "Epoch: 11/40: 100%|██████████| 171/171 [02:32<00:00,  1.12batch/s, acc=0.879, loss=5.79]\nValidation: 100%|██████████| 22/22 [00:10<00:00,  2.01batch/s, acc=0.762, loss=5.9] \n",
     "output_type": "stream"
    },
    {
     "name": "stdout",
     "text": "\u001B[43mLoss: 5.8882 - Accuracy: 0.7622 - F1: 0.5409 - LR: [0.00025, 0.00025]\u001B[0m\n\u001B[46mNew weights were applied.\n\u001B[0m\n",
     "output_type": "stream"
    },
    {
     "name": "stderr",
     "text": "Epoch: 12/40: 100%|██████████| 171/171 [02:30<00:00,  1.13batch/s, acc=0.884, loss=5.77]\nValidation: 100%|██████████| 22/22 [00:10<00:00,  2.09batch/s, acc=0.774, loss=5.87]\n",
     "output_type": "stream"
    },
    {
     "name": "stdout",
     "text": "\u001B[43mLoss: 5.8779 - Accuracy: 0.7744 - F1: 0.5706 - LR: [0.00025, 0.00025]\u001B[0m\n\u001B[46mNew weights were applied.\n\u001B[0m\n",
     "output_type": "stream"
    },
    {
     "name": "stderr",
     "text": "Epoch: 13/40: 100%|██████████| 171/171 [02:31<00:00,  1.13batch/s, acc=0.887, loss=5.64]\nValidation: 100%|██████████| 22/22 [00:10<00:00,  2.07batch/s, acc=0.775, loss=5.91]\n",
     "output_type": "stream"
    },
    {
     "name": "stdout",
     "text": "\u001B[43mLoss: 5.8791 - Accuracy: 0.7748 - F1: 0.5629 - LR: [0.00025, 0.00025]\u001B[0m\n",
     "output_type": "stream"
    },
    {
     "name": "stderr",
     "text": "Epoch: 14/40: 100%|██████████| 171/171 [02:31<00:00,  1.13batch/s, acc=0.889, loss=5.78]\nValidation: 100%|██████████| 22/22 [00:10<00:00,  2.15batch/s, acc=0.778, loss=5.89]\n",
     "output_type": "stream"
    },
    {
     "name": "stdout",
     "text": "\u001B[43mLoss: 5.8740 - Accuracy: 0.7784 - F1: 0.5728 - LR: [0.000125, 0.000125]\u001B[0m\n\u001B[46mNew weights were applied.\n\u001B[0m\n",
     "output_type": "stream"
    },
    {
     "name": "stderr",
     "text": "Epoch: 15/40: 100%|██████████| 171/171 [02:32<00:00,  1.12batch/s, acc=0.891, loss=5.83]\nValidation: 100%|██████████| 22/22 [00:10<00:00,  2.17batch/s, acc=0.78, loss=5.88] \n",
     "output_type": "stream"
    },
    {
     "name": "stdout",
     "text": "\u001B[43mLoss: 5.8705 - Accuracy: 0.7798 - F1: 0.5753 - LR: [0.000125, 0.000125]\u001B[0m\n\u001B[46mNew weights were applied.\n\u001B[0m\n",
     "output_type": "stream"
    },
    {
     "name": "stderr",
     "text": "Epoch: 16/40: 100%|██████████| 171/171 [02:31<00:00,  1.13batch/s, acc=0.893, loss=5.73]\nValidation: 100%|██████████| 22/22 [00:10<00:00,  2.20batch/s, acc=0.778, loss=5.89]\n",
     "output_type": "stream"
    },
    {
     "name": "stdout",
     "text": "\u001B[43mLoss: 5.8706 - Accuracy: 0.7784 - F1: 0.5735 - LR: [0.000125, 0.000125]\u001B[0m\n",
     "output_type": "stream"
    },
    {
     "name": "stderr",
     "text": "Epoch: 17/40: 100%|██████████| 171/171 [02:34<00:00,  1.10batch/s, acc=0.895, loss=5.7] \nValidation: 100%|██████████| 22/22 [00:10<00:00,  2.04batch/s, acc=0.782, loss=5.87]\n",
     "output_type": "stream"
    },
    {
     "name": "stdout",
     "text": "\u001B[43mLoss: 5.8678 - Accuracy: 0.7816 - F1: 0.5778 - LR: [0.000125, 0.000125]\u001B[0m\n\u001B[46mNew weights were applied.\n\u001B[0m\n",
     "output_type": "stream"
    },
    {
     "name": "stderr",
     "text": "Epoch: 18/40: 100%|██████████| 171/171 [02:31<00:00,  1.13batch/s, acc=0.897, loss=5.75]\nValidation: 100%|██████████| 22/22 [00:09<00:00,  2.20batch/s, acc=0.791, loss=5.88]\n",
     "output_type": "stream"
    },
    {
     "name": "stdout",
     "text": "\u001B[43mLoss: 5.8634 - Accuracy: 0.7914 - F1: 0.5896 - LR: [0.000125, 0.000125]\u001B[0m\n\u001B[46mNew weights were applied.\n\u001B[0m\n",
     "output_type": "stream"
    },
    {
     "name": "stderr",
     "text": "Epoch: 19/40: 100%|██████████| 171/171 [02:32<00:00,  1.12batch/s, acc=0.898, loss=5.69]\nValidation: 100%|██████████| 22/22 [00:10<00:00,  2.19batch/s, acc=0.791, loss=5.86]\n",
     "output_type": "stream"
    },
    {
     "name": "stdout",
     "text": "\u001B[43mLoss: 5.8610 - Accuracy: 0.7910 - F1: 0.5838 - LR: [0.000125, 0.000125]\u001B[0m\n\u001B[46mNew weights were applied.\n\u001B[0m\n",
     "output_type": "stream"
    },
    {
     "name": "stderr",
     "text": "Epoch: 20/40: 100%|██████████| 171/171 [02:32<00:00,  1.12batch/s, acc=0.9, loss=5.72]  \nValidation: 100%|██████████| 22/22 [00:10<00:00,  2.19batch/s, acc=0.791, loss=5.86]\n",
     "output_type": "stream"
    },
    {
     "name": "stdout",
     "text": "\u001B[43mLoss: 5.8603 - Accuracy: 0.7906 - F1: 0.5880 - LR: [6.25e-05, 6.25e-05]\u001B[0m\n\u001B[46mNew weights were applied.\n\u001B[0m\n",
     "output_type": "stream"
    },
    {
     "name": "stderr",
     "text": "Epoch: 21/40: 100%|██████████| 171/171 [02:31<00:00,  1.13batch/s, acc=0.901, loss=5.78]\nValidation: 100%|██████████| 22/22 [00:10<00:00,  2.19batch/s, acc=0.794, loss=5.85]\n",
     "output_type": "stream"
    },
    {
     "name": "stdout",
     "text": "\u001B[43mLoss: 5.8598 - Accuracy: 0.7942 - F1: 0.5939 - LR: [6.25e-05, 6.25e-05]\u001B[0m\n\u001B[46mNew weights were applied.\n\u001B[0m\n",
     "output_type": "stream"
    },
    {
     "name": "stderr",
     "text": "Epoch: 22/40: 100%|██████████| 171/171 [02:31<00:00,  1.13batch/s, acc=0.901, loss=5.7] \nValidation: 100%|██████████| 22/22 [00:10<00:00,  2.05batch/s, acc=0.795, loss=5.85]\n",
     "output_type": "stream"
    },
    {
     "name": "stdout",
     "text": "\u001B[43mLoss: 5.8585 - Accuracy: 0.7950 - F1: 0.5985 - LR: [6.25e-05, 6.25e-05]\u001B[0m\n\u001B[46mNew weights were applied.\n\u001B[0m\n",
     "output_type": "stream"
    },
    {
     "name": "stderr",
     "text": "Epoch: 23/40: 100%|██████████| 171/171 [02:32<00:00,  1.12batch/s, acc=0.901, loss=5.67]\nValidation: 100%|██████████| 22/22 [00:10<00:00,  2.03batch/s, acc=0.798, loss=5.86]\n",
     "output_type": "stream"
    },
    {
     "name": "stdout",
     "text": "\u001B[43mLoss: 5.8573 - Accuracy: 0.7982 - F1: 0.6026 - LR: [6.25e-05, 6.25e-05]\u001B[0m\n\u001B[46mNew weights were applied.\n\u001B[0m\n",
     "output_type": "stream"
    },
    {
     "name": "stderr",
     "text": "Epoch: 24/40: 100%|██████████| 171/171 [02:33<00:00,  1.11batch/s, acc=0.903, loss=5.72]\nValidation: 100%|██████████| 22/22 [00:10<00:00,  2.17batch/s, acc=0.798, loss=5.87]\n",
     "output_type": "stream"
    },
    {
     "name": "stdout",
     "text": "\u001B[43mLoss: 5.8565 - Accuracy: 0.7982 - F1: 0.5947 - LR: [6.25e-05, 6.25e-05]\u001B[0m\n\u001B[46mNew weights were applied.\n\u001B[0m\n",
     "output_type": "stream"
    },
    {
     "name": "stderr",
     "text": "Epoch: 25/40: 100%|██████████| 171/171 [02:32<00:00,  1.12batch/s, acc=0.904, loss=5.71]\nValidation: 100%|██████████| 22/22 [00:09<00:00,  2.23batch/s, acc=0.799, loss=5.88]\n",
     "output_type": "stream"
    },
    {
     "name": "stdout",
     "text": "\u001B[43mLoss: 5.8554 - Accuracy: 0.7986 - F1: 0.5946 - LR: [6.25e-05, 6.25e-05]\u001B[0m\n\u001B[46mNew weights were applied.\n\u001B[0m\n",
     "output_type": "stream"
    },
    {
     "name": "stderr",
     "text": "Epoch: 26/40: 100%|██████████| 171/171 [02:33<00:00,  1.11batch/s, acc=0.905, loss=5.78]\nValidation: 100%|██████████| 22/22 [00:09<00:00,  2.24batch/s, acc=0.8, loss=5.87]  \n",
     "output_type": "stream"
    },
    {
     "name": "stdout",
     "text": "\u001B[43mLoss: 5.8543 - Accuracy: 0.8000 - F1: 0.5981 - LR: [3.125e-05, 3.125e-05]\u001B[0m\n\u001B[46mNew weights were applied.\n\u001B[0m\n",
     "output_type": "stream"
    },
    {
     "name": "stderr",
     "text": "Epoch: 27/40: 100%|██████████| 171/171 [02:32<00:00,  1.12batch/s, acc=0.905, loss=5.74]\nValidation: 100%|██████████| 22/22 [00:10<00:00,  2.05batch/s, acc=0.802, loss=5.87]\n",
     "output_type": "stream"
    },
    {
     "name": "stdout",
     "text": "\u001B[43mLoss: 5.8527 - Accuracy: 0.8018 - F1: 0.6006 - LR: [3.125e-05, 3.125e-05]\u001B[0m\n\u001B[46mNew weights were applied.\n\u001B[0m\n",
     "output_type": "stream"
    },
    {
     "name": "stderr",
     "text": "Epoch: 28/40: 100%|██████████| 171/171 [02:30<00:00,  1.13batch/s, acc=0.905, loss=5.67]\nValidation: 100%|██████████| 22/22 [00:10<00:00,  2.09batch/s, acc=0.802, loss=5.88]\n",
     "output_type": "stream"
    },
    {
     "name": "stdout",
     "text": "\u001B[43mLoss: 5.8527 - Accuracy: 0.8022 - F1: 0.6042 - LR: [3.125e-05, 3.125e-05]\u001B[0m\n",
     "output_type": "stream"
    },
    {
     "name": "stderr",
     "text": "Epoch: 29/40: 100%|██████████| 171/171 [02:31<00:00,  1.13batch/s, acc=0.906, loss=5.65]\nValidation: 100%|██████████| 22/22 [00:09<00:00,  2.21batch/s, acc=0.803, loss=5.87]\n",
     "output_type": "stream"
    },
    {
     "name": "stdout",
     "text": "\u001B[43mLoss: 5.8530 - Accuracy: 0.8032 - F1: 0.6072 - LR: [3.125e-05, 3.125e-05]\u001B[0m\n",
     "output_type": "stream"
    },
    {
     "name": "stderr",
     "text": "Epoch: 30/40: 100%|██████████| 171/171 [02:32<00:00,  1.12batch/s, acc=0.907, loss=5.78]\nValidation: 100%|██████████| 22/22 [00:09<00:00,  2.21batch/s, acc=0.805, loss=5.88]\n",
     "output_type": "stream"
    },
    {
     "name": "stdout",
     "text": "\u001B[43mLoss: 5.8502 - Accuracy: 0.8054 - F1: 0.6110 - LR: [3.125e-05, 3.125e-05]\u001B[0m\n\u001B[46mNew weights were applied.\n\u001B[0m\n",
     "output_type": "stream"
    },
    {
     "name": "stderr",
     "text": "Epoch: 31/40: 100%|██████████| 171/171 [02:33<00:00,  1.11batch/s, acc=0.907, loss=5.75]\nValidation: 100%|██████████| 22/22 [00:10<00:00,  2.19batch/s, acc=0.805, loss=5.88]\n",
     "output_type": "stream"
    },
    {
     "name": "stdout",
     "text": "\u001B[43mLoss: 5.8507 - Accuracy: 0.8047 - F1: 0.6099 - LR: [3.125e-05, 3.125e-05]\u001B[0m\n",
     "output_type": "stream"
    },
    {
     "name": "stderr",
     "text": "Epoch: 32/40: 100%|██████████| 171/171 [02:32<00:00,  1.12batch/s, acc=0.907, loss=5.74]\nValidation: 100%|██████████| 22/22 [00:10<00:00,  2.03batch/s, acc=0.806, loss=5.87]\n",
     "output_type": "stream"
    },
    {
     "name": "stdout",
     "text": "\u001B[43mLoss: 5.8499 - Accuracy: 0.8065 - F1: 0.6121 - LR: [1.5625e-05, 1.5625e-05]\u001B[0m\n\u001B[46mNew weights were applied.\n\u001B[0m\n",
     "output_type": "stream"
    },
    {
     "name": "stderr",
     "text": "Epoch: 33/40: 100%|██████████| 171/171 [02:32<00:00,  1.12batch/s, acc=0.907, loss=5.68]\nValidation: 100%|██████████| 22/22 [00:10<00:00,  2.07batch/s, acc=0.808, loss=5.88]\n",
     "output_type": "stream"
    },
    {
     "name": "stdout",
     "text": "\u001B[43mLoss: 5.8490 - Accuracy: 0.8076 - F1: 0.6124 - LR: [1.5625e-05, 1.5625e-05]\u001B[0m\n\u001B[46mNew weights were applied.\n\u001B[0m\n",
     "output_type": "stream"
    },
    {
     "name": "stderr",
     "text": "Epoch: 34/40: 100%|██████████| 171/171 [02:32<00:00,  1.12batch/s, acc=0.907, loss=5.71]\nValidation: 100%|██████████| 22/22 [00:10<00:00,  2.20batch/s, acc=0.806, loss=5.88]\n",
     "output_type": "stream"
    },
    {
     "name": "stdout",
     "text": "\u001B[43mLoss: 5.8493 - Accuracy: 0.8058 - F1: 0.6137 - LR: [1.5625e-05, 1.5625e-05]\u001B[0m\n",
     "output_type": "stream"
    },
    {
     "name": "stderr",
     "text": "Epoch: 35/40: 100%|██████████| 171/171 [02:37<00:00,  1.08batch/s, acc=0.908, loss=5.71]\nValidation: 100%|██████████| 22/22 [00:10<00:00,  2.03batch/s, acc=0.807, loss=5.87]\n",
     "output_type": "stream"
    },
    {
     "name": "stdout",
     "text": "\u001B[43mLoss: 5.8487 - Accuracy: 0.8068 - F1: 0.6129 - LR: [1.5625e-05, 1.5625e-05]\u001B[0m\n\u001B[46mNew weights were applied.\n\u001B[0m\n",
     "output_type": "stream"
    },
    {
     "name": "stderr",
     "text": "Epoch: 36/40: 100%|██████████| 171/171 [02:38<00:00,  1.08batch/s, acc=0.908, loss=5.65]\nValidation: 100%|██████████| 22/22 [00:10<00:00,  2.08batch/s, acc=0.805, loss=5.87]\n",
     "output_type": "stream"
    },
    {
     "name": "stdout",
     "text": "\u001B[43mLoss: 5.8493 - Accuracy: 0.8054 - F1: 0.6128 - LR: [1.5625e-05, 1.5625e-05]\u001B[0m\n",
     "output_type": "stream"
    },
    {
     "name": "stderr",
     "text": "Epoch: 37/40: 100%|██████████| 171/171 [02:31<00:00,  1.13batch/s, acc=0.908, loss=5.74]\nValidation: 100%|██████████| 22/22 [00:10<00:00,  2.17batch/s, acc=0.805, loss=5.87]\n",
     "output_type": "stream"
    },
    {
     "name": "stdout",
     "text": "\u001B[43mLoss: 5.8491 - Accuracy: 0.8050 - F1: 0.6116 - LR: [1.5625e-05, 1.5625e-05]\u001B[0m\n\u001B[46mNew weights were applied.\n\u001B[0m\n",
     "output_type": "stream"
    },
    {
     "name": "stderr",
     "text": "Epoch: 38/40: 100%|██████████| 171/171 [02:31<00:00,  1.13batch/s, acc=0.908, loss=5.92]\nValidation: 100%|██████████| 22/22 [00:09<00:00,  2.24batch/s, acc=0.806, loss=5.87]\n",
     "output_type": "stream"
    },
    {
     "name": "stdout",
     "text": "\u001B[43mLoss: 5.8485 - Accuracy: 0.8058 - F1: 0.6107 - LR: [7.8125e-06, 7.8125e-06]\u001B[0m\n\u001B[46mNew weights were applied.\n\u001B[0m\n",
     "output_type": "stream"
    },
    {
     "name": "stderr",
     "text": "Epoch: 39/40: 100%|██████████| 171/171 [02:31<00:00,  1.13batch/s, acc=0.908, loss=5.76]\nValidation: 100%|██████████| 22/22 [00:09<00:00,  2.23batch/s, acc=0.806, loss=5.87]\n",
     "output_type": "stream"
    },
    {
     "name": "stdout",
     "text": "\u001B[43mLoss: 5.8487 - Accuracy: 0.8058 - F1: 0.6138 - LR: [7.8125e-06, 7.8125e-06]\u001B[0m\n",
     "output_type": "stream"
    },
    {
     "name": "stderr",
     "text": "Epoch: 40/40: 100%|██████████| 171/171 [02:31<00:00,  1.13batch/s, acc=0.908, loss=5.67]\nValidation: 100%|██████████| 22/22 [00:09<00:00,  2.22batch/s, acc=0.807, loss=5.86]\n",
     "output_type": "stream"
    },
    {
     "name": "stdout",
     "text": "\u001B[43mLoss: 5.8478 - Accuracy: 0.8068 - F1: 0.6113 - LR: [7.8125e-06, 7.8125e-06]\u001B[0m\n\u001B[46mNew weights were applied.\n\u001B[0m\n\u001B[43mTraining complete in 110m 38s\u001B[0m\nModel was saved to: fine-tuned_efficientnet_b0.pth\n",
     "output_type": "stream"
    }
   ]
  },
  {
   "cell_type": "code",
   "source": [
    "plot_stats(\n",
    "    **history,\n",
    "    title=f\"Model {config.model_name}\"\n",
    ")"
   ],
   "metadata": {
    "pycharm": {
     "is_executing": true
    },
    "id": "7zTLOYTWTFDx",
    "execution": {
     "iopub.status.busy": "2023-08-10T00:22:27.330545Z",
     "iopub.execute_input": "2023-08-10T00:22:27.330943Z",
     "iopub.status.idle": "2023-08-10T00:22:28.448666Z",
     "shell.execute_reply.started": "2023-08-10T00:22:27.330908Z",
     "shell.execute_reply": "2023-08-10T00:22:28.447581Z"
    },
    "collapsed": true,
    "jupyter": {
     "outputs_hidden": true
    },
    "trusted": true
   },
   "execution_count": 84,
   "outputs": [
    {
     "output_type": "display_data",
     "data": {
      "text/plain": "<Figure size 1600x800 with 1 Axes>",
      "image/png": "[encoded data removed]"
     },
     "metadata": {}
    },
    {
     "output_type": "display_data",
     "data": {
      "text/plain": "<Figure size 640x480 with 0 Axes>"
     },
     "metadata": {}
    },
    {
     "output_type": "display_data",
     "data": {
      "text/plain": "<Figure size 1600x800 with 1 Axes>",
      "image/png": "[encoded data removed]"
     },
     "metadata": {}
    },
    {
     "output_type": "display_data",
     "data": {
      "text/plain": "<Figure size 640x480 with 0 Axes>"
     },
     "metadata": {}
    },
    {
     "output_type": "display_data",
     "data": {
      "text/plain": "<Figure size 1600x800 with 1 Axes>",
      "image/png": "[encoded data removed]"
     },
     "metadata": {}
    },
    {
     "output_type": "display_data",
     "data": {
      "text/plain": "<Figure size 640x480 with 0 Axes>"
     },
     "metadata": {}
    }
   ]
  },
  {
   "cell_type": "markdown",
   "source": [
    "# 8. Result evaluation"
   ],
   "metadata": {
    "id": "kJcjndrnTFDx"
   }
  },
  {
   "cell_type": "code",
   "source": [
    "model.eval()  # Set the model to evaluation mode\n",
    "predictions = []\n",
    "\n",
    "with torch.no_grad():\n",
    "    for images, _ in test_dataloader:\n",
    "        images = images.to(device)\n",
    "        outputs = model(images)\n",
    "\n",
    "        _, predicted = torch.max(outputs.data, 1)\n",
    "        predictions.extend(predicted.cpu().numpy())"
   ],
   "metadata": {
    "id": "wk7eAo8cTFDx",
    "execution": {
     "iopub.status.busy": "2023-08-10T00:42:24.846990Z",
     "iopub.execute_input": "2023-08-10T00:42:24.847563Z",
     "iopub.status.idle": "2023-08-10T00:42:35.566253Z",
     "shell.execute_reply.started": "2023-08-10T00:42:24.847523Z",
     "shell.execute_reply": "2023-08-10T00:42:35.564902Z"
    },
    "trusted": true
   },
   "execution_count": 125,
   "outputs": []
  },
  {
   "cell_type": "code",
   "source": [
    "c_report = classification_report(test_dataset.labels, np.array(predictions), output_dict=True, zero_division=0)\n",
    "c_report = pd.DataFrame(c_report).transpose()\n",
    "c_report"
   ],
   "metadata": {
    "id": "q5VvToQGTFDy",
    "execution": {
     "iopub.status.busy": "2023-08-10T00:42:35.568521Z",
     "iopub.execute_input": "2023-08-10T00:42:35.568908Z",
     "iopub.status.idle": "2023-08-10T00:42:35.633419Z",
     "shell.execute_reply.started": "2023-08-10T00:42:35.568868Z",
     "shell.execute_reply": "2023-08-10T00:42:35.632374Z"
    },
    "trusted": true
   },
   "execution_count": 126,
   "outputs": [
    {
     "execution_count": 126,
     "output_type": "execute_result",
     "data": {
      "text/plain": "              precision    recall  f1-score      support\n0              1.000000  0.750000  0.857143     4.000000\n1              1.000000  0.750000  0.857143     4.000000\n2              0.750000  0.750000  0.750000     4.000000\n3              0.750000  0.750000  0.750000     4.000000\n4              1.000000  1.000000  1.000000     4.000000\n...                 ...       ...       ...          ...\n758            0.500000  0.333333  0.400000     3.000000\n759            0.666667  0.666667  0.666667     3.000000\naccuracy       0.806847  0.806847  0.806847     0.806847\nmacro avg      0.761689  0.798409  0.762034  2775.000000\nweighted avg   0.774213  0.806847  0.772862  2775.000000\n\n[763 rows x 4 columns]",
      "text/html": "<div>\n<style scoped>\n    .dataframe tbody tr th:only-of-type {\n        vertical-align: middle;\n    }\n\n    .dataframe tbody tr th {\n        vertical-align: top;\n    }\n\n    .dataframe thead th {\n        text-align: right;\n    }\n</style>\n<table border=\"1\" class=\"dataframe\">\n  <thead>\n    <tr style=\"text-align: right;\">\n      <th></th>\n      <th>precision</th>\n      <th>recall</th>\n      <th>f1-score</th>\n      <th>support</th>\n    </tr>\n  </thead>\n  <tbody>\n    <tr>\n      <th>0</th>\n      <td>1.000000</td>\n      <td>0.750000</td>\n      <td>0.857143</td>\n      <td>4.000000</td>\n    </tr>\n    <tr>\n      <th>1</th>\n      <td>1.000000</td>\n      <td>0.750000</td>\n      <td>0.857143</td>\n      <td>4.000000</td>\n    </tr>\n    <tr>\n      <th>2</th>\n      <td>0.750000</td>\n      <td>0.750000</td>\n      <td>0.750000</td>\n      <td>4.000000</td>\n    </tr>\n    <tr>\n      <th>3</th>\n      <td>0.750000</td>\n      <td>0.750000</td>\n      <td>0.750000</td>\n      <td>4.000000</td>\n    </tr>\n    <tr>\n      <th>4</th>\n      <td>1.000000</td>\n      <td>1.000000</td>\n      <td>1.000000</td>\n      <td>4.000000</td>\n    </tr>\n    <tr>\n      <th>...</th>\n      <td>...</td>\n      <td>...</td>\n      <td>...</td>\n      <td>...</td>\n    </tr>\n    <tr>\n      <th>758</th>\n      <td>0.500000</td>\n      <td>0.333333</td>\n      <td>0.400000</td>\n      <td>3.000000</td>\n    </tr>\n    <tr>\n      <th>759</th>\n      <td>0.666667</td>\n      <td>0.666667</td>\n      <td>0.666667</td>\n      <td>3.000000</td>\n    </tr>\n    <tr>\n      <th>accuracy</th>\n      <td>0.806847</td>\n      <td>0.806847</td>\n      <td>0.806847</td>\n      <td>0.806847</td>\n    </tr>\n    <tr>\n      <th>macro avg</th>\n      <td>0.761689</td>\n      <td>0.798409</td>\n      <td>0.762034</td>\n      <td>2775.000000</td>\n    </tr>\n    <tr>\n      <th>weighted avg</th>\n      <td>0.774213</td>\n      <td>0.806847</td>\n      <td>0.772862</td>\n      <td>2775.000000</td>\n    </tr>\n  </tbody>\n</table>\n<p>763 rows × 4 columns</p>\n</div>"
     },
     "metadata": {}
    }
   ]
  },
  {
   "cell_type": "code",
   "source": [
    "c_report[c_report['precision'] > 0][:-3].mean()"
   ],
   "metadata": {
    "id": "UJLtt_s6TFDy",
    "execution": {
     "iopub.status.busy": "2023-08-09T22:17:02.537688Z",
     "iopub.execute_input": "2023-08-09T22:17:02.538059Z",
     "iopub.status.idle": "2023-08-09T22:17:02.552777Z",
     "shell.execute_reply.started": "2023-08-09T22:17:02.538028Z",
     "shell.execute_reply": "2023-08-09T22:17:02.551702Z"
    },
    "trusted": true
   },
   "execution_count": 67,
   "outputs": [
    {
     "execution_count": 67,
     "output_type": "execute_result",
     "data": {
      "text/plain": "precision    0.811249\nrecall       0.891418\nf1-score     0.829521\nsupport      3.702830\ndtype: float64"
     },
     "metadata": {}
    }
   ]
  },
  {
   "cell_type": "code",
   "source": [
    "accuracy_score(test_dataset.labels, np.array(predictions))"
   ],
   "metadata": {
    "id": "_Sw-oDmlTFDy",
    "execution": {
     "iopub.status.busy": "2023-08-10T00:43:05.836750Z",
     "iopub.execute_input": "2023-08-10T00:43:05.837151Z",
     "iopub.status.idle": "2023-08-10T00:43:05.847097Z",
     "shell.execute_reply.started": "2023-08-10T00:43:05.837115Z",
     "shell.execute_reply": "2023-08-10T00:43:05.846063Z"
    },
    "trusted": true
   },
   "execution_count": 127,
   "outputs": [
    {
     "execution_count": 127,
     "output_type": "execute_result",
     "data": {
      "text/plain": "0.8068468468468468"
     },
     "metadata": {}
    }
   ]
  },
  {
   "cell_type": "code",
   "source": [
    "from torchmetrics.classification import MulticlassF1Score\n",
    "f1_score = MulticlassF1Score() # 0.76"
   ],
   "metadata": {},
   "execution_count": null,
   "outputs": []
  }
 ]
}
