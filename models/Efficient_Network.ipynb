{
 "metadata": {
  "kernelspec": {
   "name": "python3",
   "display_name": "Python 3",
   "language": "python"
  },
  "language_info": {
   "name": "python",
   "version": "3.10.12",
   "mimetype": "text/x-python",
   "codemirror_mode": {
    "name": "ipython",
    "version": 3
   },
   "pygments_lexer": "ipython3",
   "nbconvert_exporter": "python",
   "file_extension": ".py"
  }
 },
 "nbformat_minor": 4,
 "nbformat": 4,
 "cells": [
  {
   "cell_type": "markdown",
   "source": [
    "# 1. Set up"
   ],
   "metadata": {
    "collapsed": false
   }
  },
  {
   "cell_type": "markdown",
   "source": [
    "## 1. Packages and requirements"
   ],
   "metadata": {}
  },
  {
   "cell_type": "code",
   "execution_count": 1,
   "outputs": [],
   "source": [
    "# Major builtin libraries\n",
    "import os\n",
    "import gc\n",
    "import cv2\n",
    "# import mat\n",
    "import time\n",
    "import random\n",
    "import typing as t\n",
    "from copy import deepcopy\n",
    "from collections import defaultdict"
   ],
   "metadata": {
    "collapsed": false
   }
  },
  {
   "cell_type": "code",
   "execution_count": null,
   "outputs": [],
   "source": [
    "# To work with Google Collab\n",
    "from google.colab import drive\n",
    "drive.mount('/content/drive/', force_remount=True)"
   ],
   "metadata": {
    "collapsed": false
   }
  },
  {
   "cell_type": "code",
   "execution_count": 8,
   "outputs": [],
   "source": [
    "import warnings  # If you want to disable warnings\n",
    "warnings.filterwarnings(\"ignore\")\n",
    "\n",
    "# For descriptive error messages\n",
    "os.environ['CUDA_LAUNCH_BLOCKING'] = \"1\""
   ],
   "metadata": {
    "collapsed": false
   }
  },
  {
   "cell_type": "code",
   "execution_count": 2,
   "outputs": [],
   "source": [
    "# Classic packages for data manipulation and visualization\n",
    "import numpy as np\n",
    "import pandas as pd\n",
    "import matplotlib.pyplot as plt"
   ],
   "metadata": {
    "collapsed": false
   }
  },
  {
   "cell_type": "code",
   "execution_count": 3,
   "outputs": [],
   "source": [
    "# Basic PyTorch\n",
    "import torch\n",
    "import torch.nn as nn\n",
    "import torch.optim as optim  # Optimization algorithms\n",
    "import torch.nn.functional as F\n",
    "from torch.nn.modules.loss import _Loss\n",
    "from torch.optim import lr_scheduler  # Dynamic learning rate adjusting\n",
    "from torch.utils.data import DataLoader, Dataset  # For custom data presentation\n",
    "# from torch.cuda import amp"
   ],
   "metadata": {
    "collapsed": false
   }
  },
  {
   "cell_type": "code",
   "execution_count": 4,
   "outputs": [
    {
     "name": "stderr",
     "text": "/opt/conda/lib/python3.10/site-packages/scipy/__init__.py:146: UserWarning: A NumPy version >=1.16.5 and <1.23.0 is required for this version of SciPy (detected version 1.23.5\n  warnings.warn(f\"A NumPy version >={np_minversion} and <{np_maxversion}\"\n",
     "output_type": "stream"
    }
   ],
   "source": [
    "# Utils\n",
    "import joblib  # Pipelining and pickling (dump/load)\n",
    "from tqdm import tqdm  # Progress bar for training process\n",
    "from tempfile import TemporaryDirectory\n",
    "\n",
    "# Classic ML tools\n",
    "from sklearn.preprocessing import LabelEncoder\n",
    "from sklearn.model_selection import StratifiedKFold  # Cross-Validation"
   ],
   "metadata": {
    "collapsed": false
   }
  },
  {
   "cell_type": "code",
   "execution_count": 5,
   "outputs": [
    {
     "name": "stderr",
     "text": "/opt/conda/lib/python3.10/site-packages/tensorflow_io/python/ops/__init__.py:98: UserWarning: unable to load libtensorflow_io_plugins.so: unable to open file: libtensorflow_io_plugins.so, from paths: ['/opt/conda/lib/python3.10/site-packages/tensorflow_io/python/ops/libtensorflow_io_plugins.so']\ncaused by: ['/opt/conda/lib/python3.10/site-packages/tensorflow_io/python/ops/libtensorflow_io_plugins.so: undefined symbol: _ZN3tsl6StatusC1EN10tensorflow5error4CodeESt17basic_string_viewIcSt11char_traitsIcEENS_14SourceLocationE']\n  warnings.warn(f\"unable to load libtensorflow_io_plugins.so: {e}\")\n/opt/conda/lib/python3.10/site-packages/tensorflow_io/python/ops/__init__.py:104: UserWarning: file system plugins are not loaded: unable to open file: libtensorflow_io.so, from paths: ['/opt/conda/lib/python3.10/site-packages/tensorflow_io/python/ops/libtensorflow_io.so']\ncaused by: ['/opt/conda/lib/python3.10/site-packages/tensorflow_io/python/ops/libtensorflow_io.so: undefined symbol: _ZTVN10tensorflow13GcsFileSystemE']\n  warnings.warn(f\"file system plugins are not loaded: {e}\")\n",
     "output_type": "stream"
    }
   ],
   "source": [
    "# ML Metrics\n",
    "from sklearn.metrics import accuracy_score\n",
    "from sklearn.metrics import classification_report\n",
    "from torchmetrics.classification import F1Score  # F1 metric for multiclass"
   ],
   "metadata": {
    "collapsed": false
   }
  },
  {
   "cell_type": "code",
   "execution_count": 6,
   "outputs": [],
   "source": [
    "# Torch Computer Vision tools for images processing\n",
    "from torchvision.io import read_image\n",
    "from torchvision.transforms.functional import to_pil_image, to_grayscale, to_tensor\n",
    "from torchvision import models  # Pretrained models"
   ],
   "metadata": {
    "collapsed": false
   }
  },
  {
   "cell_type": "code",
   "execution_count": 8,
   "outputs": [],
   "source": [
    "# Albumentations is an OS library for augmentations\n",
    "import albumentations as A\n",
    "from albumentations.pytorch import ToTensorV2\n",
    "# import torchvision.transforms as T  # We can use torch augmentations instead"
   ],
   "metadata": {
    "collapsed": false
   }
  },
  {
   "cell_type": "code",
   "execution_count": null,
   "outputs": [],
   "source": [],
   "metadata": {
    "collapsed": false
   }
  },
  {
   "cell_type": "code",
   "source": [
    "# Output text colorizing\n",
    "from colorama import Back, Style\n",
    "\n",
    "def print_highlighted(text: str, bgcolor=Back.YELLOW) -> None:\n",
    "    \"\"\"\n",
    "    Function to print a text with colored background.\n",
    "    \"\"\"\n",
    "    print(bgcolor + text + Style.RESET_ALL)"
   ],
   "metadata": {
    "collapsed": false,
    "ExecuteTime": {
     "start_time": "2023-08-07T11:30:00.457680Z",
     "end_time": "2023-08-07T11:30:00.498733Z"
    },
    "jupyter": {
     "outputs_hidden": false
    },
    "execution": {
     "iopub.status.busy": "2023-08-08T13:19:37.922657Z",
     "iopub.execute_input": "2023-08-08T13:19:37.923571Z",
     "iopub.status.idle": "2023-08-08T13:19:37.929881Z",
     "shell.execute_reply.started": "2023-08-08T13:19:37.923522Z",
     "shell.execute_reply": "2023-08-08T13:19:37.928566Z"
    },
    "trusted": true
   },
   "execution_count": 9,
   "outputs": []
  },
  {
   "cell_type": "code",
   "source": [
    "import wandb # MLOps platform to simplify and speed up the process of building ML models"
   ],
   "metadata": {
    "collapsed": false,
    "ExecuteTime": {
     "start_time": "2023-08-07T11:30:00.467461Z",
     "end_time": "2023-08-07T11:30:01.598206Z"
    },
    "jupyter": {
     "outputs_hidden": false
    },
    "execution": {
     "iopub.status.busy": "2023-08-08T13:19:38.572928Z",
     "iopub.execute_input": "2023-08-08T13:19:38.573334Z",
     "iopub.status.idle": "2023-08-08T13:19:38.580424Z",
     "shell.execute_reply.started": "2023-08-08T13:19:38.573302Z",
     "shell.execute_reply": "2023-08-08T13:19:38.579234Z"
    },
    "trusted": true
   },
   "execution_count": 10,
   "outputs": []
  },
  {
   "cell_type": "code",
   "source": [
    "# wandb.login() # We log in via pop-up,\n",
    "# wandb.login(key=api_key)  # but you can also log in manually with function args"
   ],
   "metadata": {
    "collapsed": false,
    "ExecuteTime": {
     "start_time": "2023-08-07T11:30:01.598206Z",
     "end_time": "2023-08-07T11:30:01.605103Z"
    },
    "jupyter": {
     "outputs_hidden": false
    },
    "execution": {
     "iopub.status.busy": "2023-08-08T13:19:39.474163Z",
     "iopub.execute_input": "2023-08-08T13:19:39.474595Z",
     "iopub.status.idle": "2023-08-08T13:19:39.479481Z",
     "shell.execute_reply.started": "2023-08-08T13:19:39.474554Z",
     "shell.execute_reply": "2023-08-08T13:19:39.478360Z"
    },
    "trusted": true
   },
   "execution_count": 11,
   "outputs": []
  },
  {
   "cell_type": "markdown",
   "source": [
    "## 2. Configuration"
   ],
   "metadata": {}
  },
  {
   "cell_type": "code",
   "source": [
    "CONFIG = {\n",
    "    \"seed\": 2306,\n",
    "    \"epochs\": 20,\n",
    "    \"image_dimension\": 256,  # Depends on pretrained model used\n",
    "    \"model_name\": \"efficientnet_b0\",  # Pretrained model we will use\n",
    "    # \"embedding_size\": 512,  # Embedding output size\n",
    "    \"train_batch_size\": 32,\n",
    "    \"val_batch_size\": 64,\n",
    "    \"learning_rate\": 1e-3,\n",
    "    \"min_lr\": 1e-8,\n",
    "    \"min_loss_delta\": 1e-5, # To stop training on plateau\n",
    "    \"weight_decay\": 1e-6,\n",
    "    \"n_folds\": 5,\n",
    "    \"n_accumulate\": 1,\n",
    "}"
   ],
   "metadata": {
    "ExecuteTime": {
     "start_time": "2023-08-07T11:30:01.605103Z",
     "end_time": "2023-08-07T11:30:01.616556Z"
    },
    "execution": {
     "iopub.status.busy": "2023-08-08T13:19:40.450263Z",
     "iopub.execute_input": "2023-08-08T13:19:40.450665Z",
     "iopub.status.idle": "2023-08-08T13:19:40.457365Z",
     "shell.execute_reply.started": "2023-08-08T13:19:40.450631Z",
     "shell.execute_reply": "2023-08-08T13:19:40.456148Z"
    },
    "trusted": true
   },
   "execution_count": 12,
   "outputs": []
  },
  {
   "cell_type": "code",
   "source": [
    "class Config:\n",
    "    \"\"\"\n",
    "    Class to simplify access to Config: not dict but object with attributes\n",
    "    \"\"\"\n",
    "    def __init__(self, config_dict):\n",
    "        for key, value in config_dict.items():\n",
    "            setattr(self, key, value)"
   ],
   "metadata": {
    "collapsed": false,
    "ExecuteTime": {
     "start_time": "2023-08-07T11:30:01.616556Z",
     "end_time": "2023-08-07T11:30:01.678626Z"
    },
    "jupyter": {
     "outputs_hidden": false
    },
    "execution": {
     "iopub.status.busy": "2023-08-08T13:19:40.921392Z",
     "iopub.execute_input": "2023-08-08T13:19:40.922661Z",
     "iopub.status.idle": "2023-08-08T13:19:40.929433Z",
     "shell.execute_reply.started": "2023-08-08T13:19:40.922607Z",
     "shell.execute_reply": "2023-08-08T13:19:40.928148Z"
    },
    "trusted": true
   },
   "execution_count": 13,
   "outputs": []
  },
  {
   "cell_type": "code",
   "source": [
    "config = Config(config_dict=CONFIG)\n",
    "del CONFIG"
   ],
   "metadata": {
    "collapsed": false,
    "ExecuteTime": {
     "start_time": "2023-08-07T11:30:01.624380Z",
     "end_time": "2023-08-07T11:30:01.678626Z"
    },
    "jupyter": {
     "outputs_hidden": false
    },
    "execution": {
     "iopub.status.busy": "2023-08-08T13:19:41.464019Z",
     "iopub.execute_input": "2023-08-08T13:19:41.465038Z",
     "iopub.status.idle": "2023-08-08T13:19:41.470794Z",
     "shell.execute_reply.started": "2023-08-08T13:19:41.464988Z",
     "shell.execute_reply": "2023-08-08T13:19:41.469774Z"
    },
    "trusted": true
   },
   "execution_count": 14,
   "outputs": []
  },
  {
   "cell_type": "code",
   "source": [
    "# Work example\n",
    "config.seed"
   ],
   "metadata": {
    "collapsed": false,
    "ExecuteTime": {
     "start_time": "2023-08-07T11:30:01.632597Z",
     "end_time": "2023-08-07T11:30:01.678626Z"
    },
    "jupyter": {
     "outputs_hidden": false
    },
    "execution": {
     "iopub.status.busy": "2023-08-08T13:19:41.954080Z",
     "iopub.execute_input": "2023-08-08T13:19:41.954803Z",
     "iopub.status.idle": "2023-08-08T13:19:41.963147Z",
     "shell.execute_reply.started": "2023-08-08T13:19:41.954759Z",
     "shell.execute_reply": "2023-08-08T13:19:41.961765Z"
    },
    "trusted": true
   },
   "execution_count": 15,
   "outputs": [
    {
     "execution_count": 15,
     "output_type": "execute_result",
     "data": {
      "text/plain": "2306"
     },
     "metadata": {}
    }
   ]
  },
  {
   "cell_type": "markdown",
   "source": [
    "## 3. Set Seed for Reproducibility"
   ],
   "metadata": {}
  },
  {
   "cell_type": "code",
   "source": [
    "def set_seed(seed=42):\n",
    "    \"\"\"\n",
    "    Sets the seed of the entire notebook so results are the same every time we run.\n",
    "    This is for REPRODUCIBILITY.\n",
    "    \"\"\"\n",
    "    np.random.seed(seed)\n",
    "    torch.manual_seed(seed)\n",
    "\n",
    "    # When running on the CuDNN backend, two further options must be set\n",
    "    torch.backends.cudnn.deterministic = True\n",
    "    torch.backends.cudnn.benchmark = True  # When False, this option makes CUDA reproducible, BUT the performance might suffer\n",
    "\n",
    "    # Set a fixed value for the hash seed\n",
    "    os.environ['PYTHONHASHSEED'] = str(seed)\n",
    "    \n",
    "set_seed(seed=config.seed)"
   ],
   "metadata": {
    "ExecuteTime": {
     "start_time": "2023-08-07T11:30:01.646043Z",
     "end_time": "2023-08-07T11:30:01.678626Z"
    },
    "execution": {
     "iopub.status.busy": "2023-08-08T13:19:42.896163Z",
     "iopub.execute_input": "2023-08-08T13:19:42.896777Z",
     "iopub.status.idle": "2023-08-08T13:19:42.908167Z",
     "shell.execute_reply.started": "2023-08-08T13:19:42.896742Z",
     "shell.execute_reply": "2023-08-08T13:19:42.907065Z"
    },
    "trusted": true
   },
   "execution_count": 16,
   "outputs": []
  },
  {
   "cell_type": "code",
   "execution_count": null,
   "outputs": [],
   "source": [
    "# 2. Data"
   ],
   "metadata": {
    "collapsed": false
   }
  },
  {
   "cell_type": "code",
   "execution_count": null,
   "outputs": [],
   "source": [
    "# 1. Location"
   ],
   "metadata": {
    "collapsed": false
   }
  },
  {
   "cell_type": "code",
   "source": [
    "config.repo = 'car-brands/'  # dataset name on Kaggle\n",
    "# config.repo = 'data/'  # dataset name on local device\n",
    "\n",
    "config.root = '/kaggle/input/' + config.repo\n",
    "# config.root = '../'\n",
    "\n",
    "config.data = config.root\n",
    "# config.data = config.root + 'data/'\n",
    "\n",
    "config.train_images_path  = config.data + 'images/train'\n",
    "config.test_images_path = config.data + 'images/test'\n",
    "# config.train_images_path  = config.data + 'dataset/train'\n",
    "# config.test_images_path = config.data + 'dataset/test'\n",
    "\n",
    "config.train_labels  = config.data + 'train_labels.csv'\n",
    "config.test_labels = config.data + 'test_labels.csv'"
   ],
   "metadata": {
    "ExecuteTime": {
     "start_time": "2023-08-07T11:30:01.661618Z",
     "end_time": "2023-08-07T11:30:01.678626Z"
    },
    "execution": {
     "iopub.status.busy": "2023-08-08T13:19:44.972293Z",
     "iopub.execute_input": "2023-08-08T13:19:44.972683Z",
     "iopub.status.idle": "2023-08-08T13:19:44.979799Z",
     "shell.execute_reply.started": "2023-08-08T13:19:44.972651Z",
     "shell.execute_reply": "2023-08-08T13:19:44.978504Z"
    },
    "trusted": true
   },
   "execution_count": 17,
   "outputs": []
  },
  {
   "cell_type": "code",
   "source": [
    "def get_file_path_by_id(file_id, dir=config.root):\n",
    "    return os.path.join(dir, str(file_id) + \".jpg\")"
   ],
   "metadata": {
    "ExecuteTime": {
     "start_time": "2023-08-07T11:30:01.669776Z",
     "end_time": "2023-08-07T11:30:01.691816Z"
    },
    "execution": {
     "iopub.status.busy": "2023-08-08T13:19:45.758964Z",
     "iopub.execute_input": "2023-08-08T13:19:45.759959Z",
     "iopub.status.idle": "2023-08-08T13:19:45.765543Z",
     "shell.execute_reply.started": "2023-08-08T13:19:45.759915Z",
     "shell.execute_reply": "2023-08-08T13:19:45.764172Z"
    },
    "trusted": true
   },
   "execution_count": 19,
   "outputs": []
  },
  {
   "cell_type": "markdown",
   "source": [
    "## 2. Custom Data representation"
   ],
   "metadata": {}
  },
  {
   "cell_type": "code",
   "source": [
    "def apply_label_encoding(data: t.Union[pd.DataFrame, np.array],\n",
    "                         encoder_name: os.path,\n",
    "                         column='label', action='encode',\n",
    "                         ):\n",
    "    \"\"\"\n",
    "    One Hot encoding. We apply encoding by replacing the label column in dataframe.\n",
    "    As for decoding data back, we work with vector-array (as it's most likely to\n",
    "    be a prediction result)\n",
    "    \"\"\"\n",
    "    encoder = LabelEncoder()\n",
    "    if action == 'encode':\n",
    "        # We transform dataframe here. Nothing returns\n",
    "        data[column] = encoder.fit_transform(data[column])\n",
    "        with open(f\"{encoder_name}_LEncoder.pkl\", \"wb\") as fp:\n",
    "            joblib.dump(encoder, fp)\n",
    "    elif action == 'decode':\n",
    "        # We pass vector here. Result is a vector\n",
    "        with open(f\"{encoder_name}_LEncoder.pkl\", \"rb\") as fp:\n",
    "            encoder: LabelEncoder = joblib.load(fp)\n",
    "        return encoder.inverse_transform(data)"
   ],
   "metadata": {
    "collapsed": false,
    "ExecuteTime": {
     "start_time": "2023-08-07T11:30:01.678626Z",
     "end_time": "2023-08-07T11:30:01.692337Z"
    },
    "jupyter": {
     "outputs_hidden": false
    },
    "execution": {
     "iopub.status.busy": "2023-08-08T13:19:50.466576Z",
     "iopub.execute_input": "2023-08-08T13:19:50.467754Z",
     "iopub.status.idle": "2023-08-08T13:19:50.476378Z",
     "shell.execute_reply.started": "2023-08-08T13:19:50.467710Z",
     "shell.execute_reply": "2023-08-08T13:19:50.475061Z"
    },
    "trusted": true
   },
   "execution_count": 25,
   "outputs": []
  },
  {
   "cell_type": "code",
   "source": [
    "class CustomImagesDataset(Dataset):\n",
    "    \"\"\"\n",
    "    \"\"\"\n",
    "    def __init__(self, data: pd.DataFrame=None, images_path: os.path=None, labels_path:os.path=None, transform_images: A.Compose=None, encoder_name: str=None):\n",
    "        \"\"\"\n",
    "\n",
    "        \"\"\"\n",
    "        super().__init__()\n",
    "        assert (data is not None) or (labels_path is not None and images_path is not None)\n",
    "\n",
    "        if data is None:\n",
    "            data = pd.read_csv(labels_path)\n",
    "            data['file_path'] = data['id'].apply(get_file_path_by_id, dir=images_path)\n",
    "\n",
    "        self.images_paths = data['file_path'].values\n",
    "        self.encoder_name = encoder_name if encoder_name else self.__hash__()  # We use hash as a unique name\n",
    "        print_highlighted(f\"Label Encoder saved with id `{self.encoder_name}`\")\n",
    "        apply_label_encoding(data=data, action='encode', encoder_name=self.encoder_name)\n",
    "        self.labels = data['label'].values\n",
    "#         self.indexes = data['id'].values\n",
    "        self.transform_images = transform_images\n",
    "        self.__set_dataset_len()\n",
    "\n",
    "    def __set_dataset_len(self):\n",
    "        self.length = self.labels.shape[0] # Number of rows\n",
    "\n",
    "    def __len__(self):\n",
    "        \"\"\"\n",
    "        We calculate the len in another function, so that we are able to slice.\n",
    "        \"\"\"\n",
    "        return self.length\n",
    "\n",
    "    def decode_labels(self, labels_vector):\n",
    "        return apply_label_encoding(data=labels_vector, action='decode', encoder_name=self.encoder_name)\n",
    "\n",
    "    def __getitem__(self, index) -> tuple[torch.Tensor, int]:\n",
    "        \"\"\" Function to return item by indexing the dataset \"\"\"\n",
    "\n",
    "        if not isinstance(index, int) and isinstance(index, slice):\n",
    "            # It's not an index, but slice.\n",
    "            # We will return the part of data by making a copy of the dataset\n",
    "            index: slice\n",
    "            self = deepcopy(self)\n",
    "            self.length = index.stop  # Cut the length of dataset.\n",
    "            self.labels = self.labels[:self.length]\n",
    "            return self\n",
    "        assert self.__len__() >= index\n",
    "\n",
    "        image = to_pil_image(read_image(self.images_paths[index]))\n",
    "        if self.transform_images:\n",
    "            # Albumentations requires us to convert image to Numpy Array\n",
    "            image = self.transform_images(image=np.array(image))['image']\n",
    "\n",
    "        label = self.labels[index]\n",
    "        return image, label\n",
    "\n",
    "\n",
    "    @property\n",
    "    def classes_(self):\n",
    "        return self.decode_labels(np.unique(self.labels))\n"
   ],
   "metadata": {
    "collapsed": false,
    "ExecuteTime": {
     "start_time": "2023-08-07T11:30:01.692337Z",
     "end_time": "2023-08-07T11:30:01.711734Z"
    },
    "jupyter": {
     "outputs_hidden": false
    },
    "execution": {
     "iopub.status.busy": "2023-08-08T13:19:51.003232Z",
     "iopub.execute_input": "2023-08-08T13:19:51.003626Z",
     "iopub.status.idle": "2023-08-08T13:19:51.019065Z",
     "shell.execute_reply.started": "2023-08-08T13:19:51.003592Z",
     "shell.execute_reply": "2023-08-08T13:19:51.017932Z"
    },
    "trusted": true
   },
   "execution_count": 26,
   "outputs": []
  },
  {
   "cell_type": "markdown",
   "source": [
    "## 3. Augmentations"
   ],
   "metadata": {}
  },
  {
   "cell_type": "markdown",
   "source": [
    "We use Albumantations lib"
   ],
   "metadata": {}
  },
  {
   "cell_type": "code",
   "source": [
    "data_transforms = {\n",
    "    \"train\": A.Compose([\n",
    "#         A.ToRGB(),\n",
    "        A.Resize(config.image_dimension, config.image_dimension),\n",
    "        A.ShiftScaleRotate(shift_limit=0.1,\n",
    "                           scale_limit=0.15,\n",
    "                           rotate_limit=30,\n",
    "                           p=0.5),\n",
    "        A.HueSaturationValue(\n",
    "                hue_shift_limit=30,\n",
    "                sat_shift_limit=30,\n",
    "                val_shift_limit=30,\n",
    "                p=0.5\n",
    "            ),\n",
    "        A.RandomBrightnessContrast(\n",
    "                brightness_limit=(-0.01,0.01),\n",
    "                contrast_limit=(-0.01, 0.01),\n",
    "                p=0.5\n",
    "            ),\n",
    "        A.Normalize(\n",
    "                mean=[0.485, 0.456, 0.406],\n",
    "                std=[0.229, 0.224, 0.225],\n",
    "                max_pixel_value=255.0,\n",
    "                p=1.0\n",
    "            ),\n",
    "        ToTensorV2() # Advanced analogue of T.ToTensor\n",
    "    ], p=1.),\n",
    "\n",
    "    \"val\": A.Compose([\n",
    "#         A.ToRGB(),\n",
    "        A.Resize(config.image_dimension, config.image_dimension),\n",
    "        A.Normalize(\n",
    "                mean=[0.485, 0.456, 0.406],\n",
    "                std=[0.229, 0.224, 0.225],\n",
    "                max_pixel_value=255.0,\n",
    "                p=1.0\n",
    "            ),\n",
    "        ToTensorV2()], p=1.)\n",
    "}"
   ],
   "metadata": {
    "collapsed": false,
    "ExecuteTime": {
     "start_time": "2023-08-07T11:30:01.721854Z",
     "end_time": "2023-08-07T11:30:01.846460Z"
    },
    "jupyter": {
     "outputs_hidden": false
    },
    "execution": {
     "iopub.status.busy": "2023-08-08T13:19:53.002377Z",
     "iopub.execute_input": "2023-08-08T13:19:53.003376Z",
     "iopub.status.idle": "2023-08-08T13:19:53.014094Z",
     "shell.execute_reply.started": "2023-08-08T13:19:53.003339Z",
     "shell.execute_reply": "2023-08-08T13:19:53.012917Z"
    },
    "trusted": true
   },
   "execution_count": 27,
   "outputs": []
  },
  {
   "cell_type": "markdown",
   "source": [
    "## 4. Load the data and have a look"
   ],
   "metadata": {}
  },
  {
   "cell_type": "code",
   "source": [
    "train_dataset = CustomImagesDataset(labels_path=config.train_labels, images_path=config.train_images_path, transform_images=data_transforms['train'], encoder_name='train')"
   ],
   "metadata": {
    "collapsed": false,
    "ExecuteTime": {
     "start_time": "2023-08-07T11:30:01.737063Z",
     "end_time": "2023-08-07T11:30:01.874617Z"
    },
    "jupyter": {
     "outputs_hidden": false
    },
    "execution": {
     "iopub.status.busy": "2023-08-08T13:19:54.328585Z",
     "iopub.execute_input": "2023-08-08T13:19:54.329387Z",
     "iopub.status.idle": "2023-08-08T13:19:54.334520Z",
     "shell.execute_reply.started": "2023-08-08T13:19:54.329352Z",
     "shell.execute_reply": "2023-08-08T13:19:54.333510Z"
    },
    "trusted": true
   },
   "execution_count": 28,
   "outputs": []
  },
  {
   "cell_type": "code",
   "source": [
    "test_dataset = CustomImagesDataset(\n",
    "    labels_path=config.test_labels,\n",
    "    images_path=config.test_images_path,\n",
    "    transform_images=data_transforms['val'],\n",
    "    encoder_name='test',\n",
    ")"
   ],
   "metadata": {
    "execution": {
     "iopub.status.busy": "2023-08-08T13:19:54.860964Z",
     "iopub.execute_input": "2023-08-08T13:19:54.862205Z",
     "iopub.status.idle": "2023-08-08T13:19:54.866561Z",
     "shell.execute_reply.started": "2023-08-08T13:19:54.862143Z",
     "shell.execute_reply": "2023-08-08T13:19:54.865552Z"
    },
    "trusted": true
   },
   "execution_count": 29,
   "outputs": []
  },
  {
   "cell_type": "code",
   "source": [
    "to_pil_image(test_dataset[60][0])"
   ],
   "metadata": {
    "ExecuteTime": {
     "start_time": "2023-08-07T11:30:01.874617Z",
     "end_time": "2023-08-07T11:30:01.996918Z"
    },
    "execution": {
     "iopub.status.busy": "2023-08-08T13:19:55.949618Z",
     "iopub.execute_input": "2023-08-08T13:19:55.950019Z",
     "iopub.status.idle": "2023-08-08T13:19:56.053268Z",
     "shell.execute_reply.started": "2023-08-08T13:19:55.949987Z",
     "shell.execute_reply": "2023-08-08T13:19:56.052315Z"
    },
    "trusted": true
   },
   "execution_count": 31,
   "outputs": [
    {
     "execution_count": 31,
     "output_type": "execute_result",
     "data": {
      "text/plain": "<PIL.Image.Image image mode=RGB size=256x256>",
      "image/png": "[encoded data removed]"
     },
     "metadata": {}
    }
   ]
  },
  {
   "cell_type": "code",
   "source": [
    "config.num_of_classes = len(train_dataset.classes_)\n",
    "config.num_of_classes"
   ],
   "metadata": {
    "collapsed": false,
    "ExecuteTime": {
     "start_time": "2023-08-07T11:30:01.971021Z",
     "end_time": "2023-08-07T11:30:01.997434Z"
    },
    "jupyter": {
     "outputs_hidden": false
    },
    "execution": {
     "iopub.status.busy": "2023-08-08T13:21:02.379288Z",
     "iopub.execute_input": "2023-08-08T13:21:02.379678Z",
     "iopub.status.idle": "2023-08-08T13:21:02.388320Z",
     "shell.execute_reply.started": "2023-08-08T13:21:02.379646Z",
     "shell.execute_reply": "2023-08-08T13:21:02.387267Z"
    },
    "trusted": true
   },
   "execution_count": 46,
   "outputs": [
    {
     "execution_count": 46,
     "output_type": "execute_result",
     "data": {
      "text/plain": "75"
     },
     "metadata": {}
    }
   ]
  },
  {
   "cell_type": "markdown",
   "source": [
    "Below we ensure that the test dataset doesn't contain unknown data"
   ],
   "metadata": {
    "collapsed": false
   }
  },
  {
   "cell_type": "code",
   "source": [
    "assert not bool(set(test_dataset.classes_) - set(train_dataset.classes_))"
   ],
   "metadata": {
    "execution": {
     "iopub.status.busy": "2023-08-08T13:21:02.608728Z",
     "iopub.execute_input": "2023-08-08T13:21:02.609478Z",
     "iopub.status.idle": "2023-08-08T13:21:02.617420Z",
     "shell.execute_reply.started": "2023-08-08T13:21:02.609440Z",
     "shell.execute_reply": "2023-08-08T13:21:02.616382Z"
    },
    "trusted": true
   },
   "execution_count": 47,
   "outputs": []
  },
  {
   "cell_type": "code",
   "source": [
    "print(*train_dataset.classes_[:20], sep=';  ', end='...')"
   ],
   "metadata": {
    "ExecuteTime": {
     "start_time": "2023-08-07T11:30:01.987185Z",
     "end_time": "2023-08-07T11:30:01.997434Z"
    },
    "execution": {
     "iopub.status.busy": "2023-08-08T13:21:03.165995Z",
     "iopub.execute_input": "2023-08-08T13:21:03.166394Z",
     "iopub.status.idle": "2023-08-08T13:21:03.174757Z",
     "shell.execute_reply.started": "2023-08-08T13:21:03.166361Z",
     "shell.execute_reply": "2023-08-08T13:21:03.173448Z"
    },
    "trusted": true
   },
   "execution_count": 48,
   "outputs": [
    {
     "name": "stdout",
     "text": "ADONIS;  AFRICAN GIANT SWALLOWTAIL;  AMERICAN SNOOT;  AN 88;  APPOLLO;  ATALA;  BANDED ORANGE HELICONIAN;  BANDED PEACOCK;  BECKERS WHITE;  BLACK HAIRSTREAK;  BLUE MORPHO;  BLUE SPOTTED CROW;  BROWN SIPROETA;  CABBAGE WHITE;  CAIRNS BIRDWING;  CHECQUERED SKIPPER;  CHESTNUT;  CLEOPATRA;  CLODIUS PARNASSIAN;  CLOUDED SULPHUR...",
     "output_type": "stream"
    }
   ]
  },
  {
   "cell_type": "markdown",
   "source": [
    "# 3. Model"
   ],
   "metadata": {
    "collapsed": false
   }
  },
  {
   "cell_type": "markdown",
   "source": [
    "## 1. Getting the pretrained model"
   ],
   "metadata": {
    "collapsed": false
   }
  },
  {
   "cell_type": "code",
   "source": [
    "def get_model(model_name='resnet18', from_path=None, pretrained=False, freeze_layers=0.0, get_embeddings=False) -> torch.nn.Module:\n",
    "    got_model = False\n",
    "    if from_path:\n",
    "        try:\n",
    "            model = torch.load(from_path)\n",
    "            got_model = True\n",
    "        except FileNotFoundError:\n",
    "            pass\n",
    "    if not got_model:\n",
    "        model = getattr(models, model_name) # We use builtin function\n",
    "        model = model(\n",
    "        weights=('DEFAULT' if pretrained else None)\n",
    "        )\n",
    "        return model\n",
    "\n",
    "    if bool(freeze_layers):\n",
    "        params = list(model.parameters())\n",
    "        for param in params[:int(len(params)*freeze_layers)]:\n",
    "            # Freeze some layers\n",
    "            param.requires_grad = False\n",
    "\n",
    "    if get_embeddings:\n",
    "        # That means remove classifyer (last layer):\n",
    "        model = nn.Sequential(*list(model.children())[:-1])\n",
    "    return model"
   ],
   "metadata": {
    "ExecuteTime": {
     "start_time": "2023-08-07T11:31:34.594472Z",
     "end_time": "2023-08-07T11:31:34.594472Z"
    },
    "execution": {
     "iopub.status.busy": "2023-08-08T13:21:04.726149Z",
     "iopub.execute_input": "2023-08-08T13:21:04.726579Z",
     "iopub.status.idle": "2023-08-08T13:21:04.737109Z",
     "shell.execute_reply.started": "2023-08-08T13:21:04.726535Z",
     "shell.execute_reply": "2023-08-08T13:21:04.735695Z"
    },
    "trusted": true
   },
   "execution_count": 51,
   "outputs": []
  },
  {
   "cell_type": "code",
   "source": [
    "model = get_model(\n",
    "    model_name=config.model_name, \n",
    "    pretrained=True, \n",
    "    freeze_layers=0.0, \n",
    "    get_embeddings=False\n",
    ")"
   ],
   "metadata": {
    "ExecuteTime": {
     "start_time": "2023-08-07T11:31:35.809264Z",
     "end_time": "2023-08-07T11:31:36.138948Z"
    },
    "execution": {
     "iopub.status.busy": "2023-08-08T13:21:05.320452Z",
     "iopub.execute_input": "2023-08-08T13:21:05.321670Z",
     "iopub.status.idle": "2023-08-08T13:21:06.520577Z",
     "shell.execute_reply.started": "2023-08-08T13:21:05.321625Z",
     "shell.execute_reply": "2023-08-08T13:21:06.519420Z"
    },
    "trusted": true
   },
   "execution_count": 52,
   "outputs": [
    {
     "name": "stderr",
     "text": "Downloading: \"https://download.pytorch.org/models/efficientnet_b0_rwightman-3dd342df.pth\" to /root/.cache/torch/hub/checkpoints/efficientnet_b0_rwightman-3dd342df.pth\n100%|██████████| 20.5M/20.5M [00:00<00:00, 29.9MB/s]\n",
     "output_type": "stream"
    }
   ]
  },
  {
   "cell_type": "code",
   "source": [
    "# model"
   ],
   "metadata": {
    "execution": {
     "iopub.status.busy": "2023-08-08T13:21:07.730384Z",
     "iopub.execute_input": "2023-08-08T13:21:07.731202Z",
     "iopub.status.idle": "2023-08-08T13:21:07.735908Z",
     "shell.execute_reply.started": "2023-08-08T13:21:07.731150Z",
     "shell.execute_reply": "2023-08-08T13:21:07.734552Z"
    },
    "trusted": true
   },
   "execution_count": 53,
   "outputs": []
  },
  {
   "cell_type": "markdown",
   "source": [
    "## 2. Set up the output layer"
   ],
   "metadata": {
    "collapsed": false
   }
  },
  {
   "cell_type": "markdown",
   "source": [
    "Efficient Model consists of 3 blocks (2 Sequential and one Avg Pooling between them. Let's have a look at last two layers"
   ],
   "metadata": {
    "collapsed": false
   }
  },
  {
   "cell_type": "markdown",
   "source": [
    "Last layer is classifier."
   ],
   "metadata": {}
  },
  {
   "cell_type": "code",
   "source": [
    "model.classifier"
   ],
   "metadata": {
    "execution": {
     "iopub.status.busy": "2023-08-08T13:21:08.578199Z",
     "iopub.execute_input": "2023-08-08T13:21:08.578659Z",
     "iopub.status.idle": "2023-08-08T13:21:08.585392Z",
     "shell.execute_reply.started": "2023-08-08T13:21:08.578606Z",
     "shell.execute_reply": "2023-08-08T13:21:08.584373Z"
    },
    "trusted": true
   },
   "execution_count": 54,
   "outputs": [
    {
     "execution_count": 54,
     "output_type": "execute_result",
     "data": {
      "text/plain": "Sequential(\n  (0): Dropout(p=0.2, inplace=True)\n  (1): Linear(in_features=1280, out_features=1000, bias=True)\n)"
     },
     "metadata": {}
    }
   ]
  },
  {
   "cell_type": "markdown",
   "source": [
    "Let's change the number of classes (according with our task), and add a Softmax"
   ],
   "metadata": {}
  },
  {
   "cell_type": "code",
   "source": [
    "model.classifier = nn.Sequential(\n",
    "    nn.Dropout(p=0.2, inplace=True),\n",
    "    nn.Linear(in_features=model.classifier[1].in_features, out_features=config.num_of_classes, bias=True),\n",
    "    nn.Softmax(dim=-1)\n",
    ")"
   ],
   "metadata": {
    "execution": {
     "iopub.status.busy": "2023-08-08T13:21:09.662359Z",
     "iopub.execute_input": "2023-08-08T13:21:09.663455Z",
     "iopub.status.idle": "2023-08-08T13:21:09.670437Z",
     "shell.execute_reply.started": "2023-08-08T13:21:09.663416Z",
     "shell.execute_reply": "2023-08-08T13:21:09.669228Z"
    },
    "trusted": true
   },
   "execution_count": 55,
   "outputs": []
  },
  {
   "cell_type": "code",
   "source": [
    "# model"
   ],
   "metadata": {
    "execution": {
     "iopub.status.busy": "2023-08-08T13:21:10.651679Z",
     "iopub.execute_input": "2023-08-08T13:21:10.652065Z",
     "iopub.status.idle": "2023-08-08T13:21:10.664911Z",
     "shell.execute_reply.started": "2023-08-08T13:21:10.652020Z",
     "shell.execute_reply": "2023-08-08T13:21:10.663937Z"
    },
    "trusted": true
   },
   "execution_count": 57,
   "outputs": [
    {
     "execution_count": 57,
     "output_type": "execute_result",
     "data": {
      "text/plain": "EfficientNet(\n  (features): Sequential(\n    (0): Conv2dNormActivation(\n      (0): Conv2d(3, 32, kernel_size=(3, 3), stride=(2, 2), padding=(1, 1), bias=False)\n      (1): BatchNorm2d(32, eps=1e-05, momentum=0.1, affine=True, track_running_stats=True)\n      (2): SiLU(inplace=True)\n    )\n    (1): Sequential(\n      (0): MBConv(\n        (block): Sequential(\n          (0): Conv2dNormActivation(\n            (0): Conv2d(32, 32, kernel_size=(3, 3), stride=(1, 1), padding=(1, 1), groups=32, bias=False)\n            (1): BatchNorm2d(32, eps=1e-05, momentum=0.1, affine=True, track_running_stats=True)\n            (2): SiLU(inplace=True)\n          )\n          (1): SqueezeExcitation(\n            (avgpool): AdaptiveAvgPool2d(output_size=1)\n            (fc1): Conv2d(32, 8, kernel_size=(1, 1), stride=(1, 1))\n            (fc2): Conv2d(8, 32, kernel_size=(1, 1), stride=(1, 1))\n            (activation): SiLU(inplace=True)\n            (scale_activation): Sigmoid()\n          )\n          (2): Conv2dNormActivation(\n            (0): Conv2d(32, 16, kernel_size=(1, 1), stride=(1, 1), bias=False)\n            (1): BatchNorm2d(16, eps=1e-05, momentum=0.1, affine=True, track_running_stats=True)\n          )\n        )\n        (stochastic_depth): StochasticDepth(p=0.0, mode=row)\n      )\n    )\n    (2): Sequential(\n      (0): MBConv(\n        (block): Sequential(\n          (0): Conv2dNormActivation(\n            (0): Conv2d(16, 96, kernel_size=(1, 1), stride=(1, 1), bias=False)\n            (1): BatchNorm2d(96, eps=1e-05, momentum=0.1, affine=True, track_running_stats=True)\n            (2): SiLU(inplace=True)\n          )\n          (1): Conv2dNormActivation(\n            (0): Conv2d(96, 96, kernel_size=(3, 3), stride=(2, 2), padding=(1, 1), groups=96, bias=False)\n            (1): BatchNorm2d(96, eps=1e-05, momentum=0.1, affine=True, track_running_stats=True)\n            (2): SiLU(inplace=True)\n          )\n          (2): SqueezeExcitation(\n            (avgpool): AdaptiveAvgPool2d(output_size=1)\n            (fc1): Conv2d(96, 4, kernel_size=(1, 1), stride=(1, 1))\n            (fc2): Conv2d(4, 96, kernel_size=(1, 1), stride=(1, 1))\n            (activation): SiLU(inplace=True)\n            (scale_activation): Sigmoid()\n          )\n          (3): Conv2dNormActivation(\n            (0): Conv2d(96, 24, kernel_size=(1, 1), stride=(1, 1), bias=False)\n            (1): BatchNorm2d(24, eps=1e-05, momentum=0.1, affine=True, track_running_stats=True)\n          )\n        )\n        (stochastic_depth): StochasticDepth(p=0.0125, mode=row)\n      )\n      (1): MBConv(\n        (block): Sequential(\n          (0): Conv2dNormActivation(\n            (0): Conv2d(24, 144, kernel_size=(1, 1), stride=(1, 1), bias=False)\n            (1): BatchNorm2d(144, eps=1e-05, momentum=0.1, affine=True, track_running_stats=True)\n            (2): SiLU(inplace=True)\n          )\n          (1): Conv2dNormActivation(\n            (0): Conv2d(144, 144, kernel_size=(3, 3), stride=(1, 1), padding=(1, 1), groups=144, bias=False)\n            (1): BatchNorm2d(144, eps=1e-05, momentum=0.1, affine=True, track_running_stats=True)\n            (2): SiLU(inplace=True)\n          )\n          (2): SqueezeExcitation(\n            (avgpool): AdaptiveAvgPool2d(output_size=1)\n            (fc1): Conv2d(144, 6, kernel_size=(1, 1), stride=(1, 1))\n            (fc2): Conv2d(6, 144, kernel_size=(1, 1), stride=(1, 1))\n            (activation): SiLU(inplace=True)\n            (scale_activation): Sigmoid()\n          )\n          (3): Conv2dNormActivation(\n            (0): Conv2d(144, 24, kernel_size=(1, 1), stride=(1, 1), bias=False)\n            (1): BatchNorm2d(24, eps=1e-05, momentum=0.1, affine=True, track_running_stats=True)\n          )\n        )\n        (stochastic_depth): StochasticDepth(p=0.025, mode=row)\n      )\n    )\n    (3): Sequential(\n      (0): MBConv(\n        (block): Sequential(\n          (0): Conv2dNormActivation(\n            (0): Conv2d(24, 144, kernel_size=(1, 1), stride=(1, 1), bias=False)\n            (1): BatchNorm2d(144, eps=1e-05, momentum=0.1, affine=True, track_running_stats=True)\n            (2): SiLU(inplace=True)\n          )\n          (1): Conv2dNormActivation(\n            (0): Conv2d(144, 144, kernel_size=(5, 5), stride=(2, 2), padding=(2, 2), groups=144, bias=False)\n            (1): BatchNorm2d(144, eps=1e-05, momentum=0.1, affine=True, track_running_stats=True)\n            (2): SiLU(inplace=True)\n          )\n          (2): SqueezeExcitation(\n            (avgpool): AdaptiveAvgPool2d(output_size=1)\n            (fc1): Conv2d(144, 6, kernel_size=(1, 1), stride=(1, 1))\n            (fc2): Conv2d(6, 144, kernel_size=(1, 1), stride=(1, 1))\n            (activation): SiLU(inplace=True)\n            (scale_activation): Sigmoid()\n          )\n          (3): Conv2dNormActivation(\n            (0): Conv2d(144, 40, kernel_size=(1, 1), stride=(1, 1), bias=False)\n            (1): BatchNorm2d(40, eps=1e-05, momentum=0.1, affine=True, track_running_stats=True)\n          )\n        )\n        (stochastic_depth): StochasticDepth(p=0.037500000000000006, mode=row)\n      )\n      (1): MBConv(\n        (block): Sequential(\n          (0): Conv2dNormActivation(\n            (0): Conv2d(40, 240, kernel_size=(1, 1), stride=(1, 1), bias=False)\n            (1): BatchNorm2d(240, eps=1e-05, momentum=0.1, affine=True, track_running_stats=True)\n            (2): SiLU(inplace=True)\n          )\n          (1): Conv2dNormActivation(\n            (0): Conv2d(240, 240, kernel_size=(5, 5), stride=(1, 1), padding=(2, 2), groups=240, bias=False)\n            (1): BatchNorm2d(240, eps=1e-05, momentum=0.1, affine=True, track_running_stats=True)\n            (2): SiLU(inplace=True)\n          )\n          (2): SqueezeExcitation(\n            (avgpool): AdaptiveAvgPool2d(output_size=1)\n            (fc1): Conv2d(240, 10, kernel_size=(1, 1), stride=(1, 1))\n            (fc2): Conv2d(10, 240, kernel_size=(1, 1), stride=(1, 1))\n            (activation): SiLU(inplace=True)\n            (scale_activation): Sigmoid()\n          )\n          (3): Conv2dNormActivation(\n            (0): Conv2d(240, 40, kernel_size=(1, 1), stride=(1, 1), bias=False)\n            (1): BatchNorm2d(40, eps=1e-05, momentum=0.1, affine=True, track_running_stats=True)\n          )\n        )\n        (stochastic_depth): StochasticDepth(p=0.05, mode=row)\n      )\n    )\n    (4): Sequential(\n      (0): MBConv(\n        (block): Sequential(\n          (0): Conv2dNormActivation(\n            (0): Conv2d(40, 240, kernel_size=(1, 1), stride=(1, 1), bias=False)\n            (1): BatchNorm2d(240, eps=1e-05, momentum=0.1, affine=True, track_running_stats=True)\n            (2): SiLU(inplace=True)\n          )\n          (1): Conv2dNormActivation(\n            (0): Conv2d(240, 240, kernel_size=(3, 3), stride=(2, 2), padding=(1, 1), groups=240, bias=False)\n            (1): BatchNorm2d(240, eps=1e-05, momentum=0.1, affine=True, track_running_stats=True)\n            (2): SiLU(inplace=True)\n          )\n          (2): SqueezeExcitation(\n            (avgpool): AdaptiveAvgPool2d(output_size=1)\n            (fc1): Conv2d(240, 10, kernel_size=(1, 1), stride=(1, 1))\n            (fc2): Conv2d(10, 240, kernel_size=(1, 1), stride=(1, 1))\n            (activation): SiLU(inplace=True)\n            (scale_activation): Sigmoid()\n          )\n          (3): Conv2dNormActivation(\n            (0): Conv2d(240, 80, kernel_size=(1, 1), stride=(1, 1), bias=False)\n            (1): BatchNorm2d(80, eps=1e-05, momentum=0.1, affine=True, track_running_stats=True)\n          )\n        )\n        (stochastic_depth): StochasticDepth(p=0.0625, mode=row)\n      )\n      (1): MBConv(\n        (block): Sequential(\n          (0): Conv2dNormActivation(\n            (0): Conv2d(80, 480, kernel_size=(1, 1), stride=(1, 1), bias=False)\n            (1): BatchNorm2d(480, eps=1e-05, momentum=0.1, affine=True, track_running_stats=True)\n            (2): SiLU(inplace=True)\n          )\n          (1): Conv2dNormActivation(\n            (0): Conv2d(480, 480, kernel_size=(3, 3), stride=(1, 1), padding=(1, 1), groups=480, bias=False)\n            (1): BatchNorm2d(480, eps=1e-05, momentum=0.1, affine=True, track_running_stats=True)\n            (2): SiLU(inplace=True)\n          )\n          (2): SqueezeExcitation(\n            (avgpool): AdaptiveAvgPool2d(output_size=1)\n            (fc1): Conv2d(480, 20, kernel_size=(1, 1), stride=(1, 1))\n            (fc2): Conv2d(20, 480, kernel_size=(1, 1), stride=(1, 1))\n            (activation): SiLU(inplace=True)\n            (scale_activation): Sigmoid()\n          )\n          (3): Conv2dNormActivation(\n            (0): Conv2d(480, 80, kernel_size=(1, 1), stride=(1, 1), bias=False)\n            (1): BatchNorm2d(80, eps=1e-05, momentum=0.1, affine=True, track_running_stats=True)\n          )\n        )\n        (stochastic_depth): StochasticDepth(p=0.07500000000000001, mode=row)\n      )\n      (2): MBConv(\n        (block): Sequential(\n          (0): Conv2dNormActivation(\n            (0): Conv2d(80, 480, kernel_size=(1, 1), stride=(1, 1), bias=False)\n            (1): BatchNorm2d(480, eps=1e-05, momentum=0.1, affine=True, track_running_stats=True)\n            (2): SiLU(inplace=True)\n          )\n          (1): Conv2dNormActivation(\n            (0): Conv2d(480, 480, kernel_size=(3, 3), stride=(1, 1), padding=(1, 1), groups=480, bias=False)\n            (1): BatchNorm2d(480, eps=1e-05, momentum=0.1, affine=True, track_running_stats=True)\n            (2): SiLU(inplace=True)\n          )\n          (2): SqueezeExcitation(\n            (avgpool): AdaptiveAvgPool2d(output_size=1)\n            (fc1): Conv2d(480, 20, kernel_size=(1, 1), stride=(1, 1))\n            (fc2): Conv2d(20, 480, kernel_size=(1, 1), stride=(1, 1))\n            (activation): SiLU(inplace=True)\n            (scale_activation): Sigmoid()\n          )\n          (3): Conv2dNormActivation(\n            (0): Conv2d(480, 80, kernel_size=(1, 1), stride=(1, 1), bias=False)\n            (1): BatchNorm2d(80, eps=1e-05, momentum=0.1, affine=True, track_running_stats=True)\n          )\n        )\n        (stochastic_depth): StochasticDepth(p=0.08750000000000001, mode=row)\n      )\n    )\n    (5): Sequential(\n      (0): MBConv(\n        (block): Sequential(\n          (0): Conv2dNormActivation(\n            (0): Conv2d(80, 480, kernel_size=(1, 1), stride=(1, 1), bias=False)\n            (1): BatchNorm2d(480, eps=1e-05, momentum=0.1, affine=True, track_running_stats=True)\n            (2): SiLU(inplace=True)\n          )\n          (1): Conv2dNormActivation(\n            (0): Conv2d(480, 480, kernel_size=(5, 5), stride=(1, 1), padding=(2, 2), groups=480, bias=False)\n            (1): BatchNorm2d(480, eps=1e-05, momentum=0.1, affine=True, track_running_stats=True)\n            (2): SiLU(inplace=True)\n          )\n          (2): SqueezeExcitation(\n            (avgpool): AdaptiveAvgPool2d(output_size=1)\n            (fc1): Conv2d(480, 20, kernel_size=(1, 1), stride=(1, 1))\n            (fc2): Conv2d(20, 480, kernel_size=(1, 1), stride=(1, 1))\n            (activation): SiLU(inplace=True)\n            (scale_activation): Sigmoid()\n          )\n          (3): Conv2dNormActivation(\n            (0): Conv2d(480, 112, kernel_size=(1, 1), stride=(1, 1), bias=False)\n            (1): BatchNorm2d(112, eps=1e-05, momentum=0.1, affine=True, track_running_stats=True)\n          )\n        )\n        (stochastic_depth): StochasticDepth(p=0.1, mode=row)\n      )\n      (1): MBConv(\n        (block): Sequential(\n          (0): Conv2dNormActivation(\n            (0): Conv2d(112, 672, kernel_size=(1, 1), stride=(1, 1), bias=False)\n            (1): BatchNorm2d(672, eps=1e-05, momentum=0.1, affine=True, track_running_stats=True)\n            (2): SiLU(inplace=True)\n          )\n          (1): Conv2dNormActivation(\n            (0): Conv2d(672, 672, kernel_size=(5, 5), stride=(1, 1), padding=(2, 2), groups=672, bias=False)\n            (1): BatchNorm2d(672, eps=1e-05, momentum=0.1, affine=True, track_running_stats=True)\n            (2): SiLU(inplace=True)\n          )\n          (2): SqueezeExcitation(\n            (avgpool): AdaptiveAvgPool2d(output_size=1)\n            (fc1): Conv2d(672, 28, kernel_size=(1, 1), stride=(1, 1))\n            (fc2): Conv2d(28, 672, kernel_size=(1, 1), stride=(1, 1))\n            (activation): SiLU(inplace=True)\n            (scale_activation): Sigmoid()\n          )\n          (3): Conv2dNormActivation(\n            (0): Conv2d(672, 112, kernel_size=(1, 1), stride=(1, 1), bias=False)\n            (1): BatchNorm2d(112, eps=1e-05, momentum=0.1, affine=True, track_running_stats=True)\n          )\n        )\n        (stochastic_depth): StochasticDepth(p=0.1125, mode=row)\n      )\n      (2): MBConv(\n        (block): Sequential(\n          (0): Conv2dNormActivation(\n            (0): Conv2d(112, 672, kernel_size=(1, 1), stride=(1, 1), bias=False)\n            (1): BatchNorm2d(672, eps=1e-05, momentum=0.1, affine=True, track_running_stats=True)\n            (2): SiLU(inplace=True)\n          )\n          (1): Conv2dNormActivation(\n            (0): Conv2d(672, 672, kernel_size=(5, 5), stride=(1, 1), padding=(2, 2), groups=672, bias=False)\n            (1): BatchNorm2d(672, eps=1e-05, momentum=0.1, affine=True, track_running_stats=True)\n            (2): SiLU(inplace=True)\n          )\n          (2): SqueezeExcitation(\n            (avgpool): AdaptiveAvgPool2d(output_size=1)\n            (fc1): Conv2d(672, 28, kernel_size=(1, 1), stride=(1, 1))\n            (fc2): Conv2d(28, 672, kernel_size=(1, 1), stride=(1, 1))\n            (activation): SiLU(inplace=True)\n            (scale_activation): Sigmoid()\n          )\n          (3): Conv2dNormActivation(\n            (0): Conv2d(672, 112, kernel_size=(1, 1), stride=(1, 1), bias=False)\n            (1): BatchNorm2d(112, eps=1e-05, momentum=0.1, affine=True, track_running_stats=True)\n          )\n        )\n        (stochastic_depth): StochasticDepth(p=0.125, mode=row)\n      )\n    )\n    (6): Sequential(\n      (0): MBConv(\n        (block): Sequential(\n          (0): Conv2dNormActivation(\n            (0): Conv2d(112, 672, kernel_size=(1, 1), stride=(1, 1), bias=False)\n            (1): BatchNorm2d(672, eps=1e-05, momentum=0.1, affine=True, track_running_stats=True)\n            (2): SiLU(inplace=True)\n          )\n          (1): Conv2dNormActivation(\n            (0): Conv2d(672, 672, kernel_size=(5, 5), stride=(2, 2), padding=(2, 2), groups=672, bias=False)\n            (1): BatchNorm2d(672, eps=1e-05, momentum=0.1, affine=True, track_running_stats=True)\n            (2): SiLU(inplace=True)\n          )\n          (2): SqueezeExcitation(\n            (avgpool): AdaptiveAvgPool2d(output_size=1)\n            (fc1): Conv2d(672, 28, kernel_size=(1, 1), stride=(1, 1))\n            (fc2): Conv2d(28, 672, kernel_size=(1, 1), stride=(1, 1))\n            (activation): SiLU(inplace=True)\n            (scale_activation): Sigmoid()\n          )\n          (3): Conv2dNormActivation(\n            (0): Conv2d(672, 192, kernel_size=(1, 1), stride=(1, 1), bias=False)\n            (1): BatchNorm2d(192, eps=1e-05, momentum=0.1, affine=True, track_running_stats=True)\n          )\n        )\n        (stochastic_depth): StochasticDepth(p=0.1375, mode=row)\n      )\n      (1): MBConv(\n        (block): Sequential(\n          (0): Conv2dNormActivation(\n            (0): Conv2d(192, 1152, kernel_size=(1, 1), stride=(1, 1), bias=False)\n            (1): BatchNorm2d(1152, eps=1e-05, momentum=0.1, affine=True, track_running_stats=True)\n            (2): SiLU(inplace=True)\n          )\n          (1): Conv2dNormActivation(\n            (0): Conv2d(1152, 1152, kernel_size=(5, 5), stride=(1, 1), padding=(2, 2), groups=1152, bias=False)\n            (1): BatchNorm2d(1152, eps=1e-05, momentum=0.1, affine=True, track_running_stats=True)\n            (2): SiLU(inplace=True)\n          )\n          (2): SqueezeExcitation(\n            (avgpool): AdaptiveAvgPool2d(output_size=1)\n            (fc1): Conv2d(1152, 48, kernel_size=(1, 1), stride=(1, 1))\n            (fc2): Conv2d(48, 1152, kernel_size=(1, 1), stride=(1, 1))\n            (activation): SiLU(inplace=True)\n            (scale_activation): Sigmoid()\n          )\n          (3): Conv2dNormActivation(\n            (0): Conv2d(1152, 192, kernel_size=(1, 1), stride=(1, 1), bias=False)\n            (1): BatchNorm2d(192, eps=1e-05, momentum=0.1, affine=True, track_running_stats=True)\n          )\n        )\n        (stochastic_depth): StochasticDepth(p=0.15000000000000002, mode=row)\n      )\n      (2): MBConv(\n        (block): Sequential(\n          (0): Conv2dNormActivation(\n            (0): Conv2d(192, 1152, kernel_size=(1, 1), stride=(1, 1), bias=False)\n            (1): BatchNorm2d(1152, eps=1e-05, momentum=0.1, affine=True, track_running_stats=True)\n            (2): SiLU(inplace=True)\n          )\n          (1): Conv2dNormActivation(\n            (0): Conv2d(1152, 1152, kernel_size=(5, 5), stride=(1, 1), padding=(2, 2), groups=1152, bias=False)\n            (1): BatchNorm2d(1152, eps=1e-05, momentum=0.1, affine=True, track_running_stats=True)\n            (2): SiLU(inplace=True)\n          )\n          (2): SqueezeExcitation(\n            (avgpool): AdaptiveAvgPool2d(output_size=1)\n            (fc1): Conv2d(1152, 48, kernel_size=(1, 1), stride=(1, 1))\n            (fc2): Conv2d(48, 1152, kernel_size=(1, 1), stride=(1, 1))\n            (activation): SiLU(inplace=True)\n            (scale_activation): Sigmoid()\n          )\n          (3): Conv2dNormActivation(\n            (0): Conv2d(1152, 192, kernel_size=(1, 1), stride=(1, 1), bias=False)\n            (1): BatchNorm2d(192, eps=1e-05, momentum=0.1, affine=True, track_running_stats=True)\n          )\n        )\n        (stochastic_depth): StochasticDepth(p=0.1625, mode=row)\n      )\n      (3): MBConv(\n        (block): Sequential(\n          (0): Conv2dNormActivation(\n            (0): Conv2d(192, 1152, kernel_size=(1, 1), stride=(1, 1), bias=False)\n            (1): BatchNorm2d(1152, eps=1e-05, momentum=0.1, affine=True, track_running_stats=True)\n            (2): SiLU(inplace=True)\n          )\n          (1): Conv2dNormActivation(\n            (0): Conv2d(1152, 1152, kernel_size=(5, 5), stride=(1, 1), padding=(2, 2), groups=1152, bias=False)\n            (1): BatchNorm2d(1152, eps=1e-05, momentum=0.1, affine=True, track_running_stats=True)\n            (2): SiLU(inplace=True)\n          )\n          (2): SqueezeExcitation(\n            (avgpool): AdaptiveAvgPool2d(output_size=1)\n            (fc1): Conv2d(1152, 48, kernel_size=(1, 1), stride=(1, 1))\n            (fc2): Conv2d(48, 1152, kernel_size=(1, 1), stride=(1, 1))\n            (activation): SiLU(inplace=True)\n            (scale_activation): Sigmoid()\n          )\n          (3): Conv2dNormActivation(\n            (0): Conv2d(1152, 192, kernel_size=(1, 1), stride=(1, 1), bias=False)\n            (1): BatchNorm2d(192, eps=1e-05, momentum=0.1, affine=True, track_running_stats=True)\n          )\n        )\n        (stochastic_depth): StochasticDepth(p=0.17500000000000002, mode=row)\n      )\n    )\n    (7): Sequential(\n      (0): MBConv(\n        (block): Sequential(\n          (0): Conv2dNormActivation(\n            (0): Conv2d(192, 1152, kernel_size=(1, 1), stride=(1, 1), bias=False)\n            (1): BatchNorm2d(1152, eps=1e-05, momentum=0.1, affine=True, track_running_stats=True)\n            (2): SiLU(inplace=True)\n          )\n          (1): Conv2dNormActivation(\n            (0): Conv2d(1152, 1152, kernel_size=(3, 3), stride=(1, 1), padding=(1, 1), groups=1152, bias=False)\n            (1): BatchNorm2d(1152, eps=1e-05, momentum=0.1, affine=True, track_running_stats=True)\n            (2): SiLU(inplace=True)\n          )\n          (2): SqueezeExcitation(\n            (avgpool): AdaptiveAvgPool2d(output_size=1)\n            (fc1): Conv2d(1152, 48, kernel_size=(1, 1), stride=(1, 1))\n            (fc2): Conv2d(48, 1152, kernel_size=(1, 1), stride=(1, 1))\n            (activation): SiLU(inplace=True)\n            (scale_activation): Sigmoid()\n          )\n          (3): Conv2dNormActivation(\n            (0): Conv2d(1152, 320, kernel_size=(1, 1), stride=(1, 1), bias=False)\n            (1): BatchNorm2d(320, eps=1e-05, momentum=0.1, affine=True, track_running_stats=True)\n          )\n        )\n        (stochastic_depth): StochasticDepth(p=0.1875, mode=row)\n      )\n    )\n    (8): Conv2dNormActivation(\n      (0): Conv2d(320, 1280, kernel_size=(1, 1), stride=(1, 1), bias=False)\n      (1): BatchNorm2d(1280, eps=1e-05, momentum=0.1, affine=True, track_running_stats=True)\n      (2): SiLU(inplace=True)\n    )\n  )\n  (avgpool): AdaptiveAvgPool2d(output_size=1)\n  (classifier): Sequential(\n    (0): Dropout(p=0.2, inplace=True)\n    (1): Linear(in_features=1280, out_features=75, bias=True)\n    (2): Softmax(dim=-1)\n  )\n)"
     },
     "metadata": {}
    }
   ]
  },
  {
   "cell_type": "markdown",
   "source": [
    "# 4. Various"
   ],
   "metadata": {
    "collapsed": false
   }
  },
  {
   "cell_type": "markdown",
   "source": [
    "## 1. Quality metrics"
   ],
   "metadata": {
    "collapsed": false
   }
  },
  {
   "cell_type": "code",
   "execution_count": null,
   "outputs": [],
   "source": [
    "We will use accuracy and F1 score for out classification task"
   ],
   "metadata": {
    "collapsed": false
   }
  },
  {
   "cell_type": "code",
   "execution_count": 49,
   "outputs": [],
   "source": [
    "f1_score = F1Score(task=\"multiclass\", num_classes=config.num_of_classes, average=\"macro\")"
   ],
   "metadata": {
    "collapsed": false
   }
  },
  {
   "cell_type": "markdown",
   "source": [
    "## 2. Device"
   ],
   "metadata": {
    "collapsed": false
   }
  },
  {
   "cell_type": "code",
   "execution_count": 58,
   "outputs": [],
   "source": [
    "device = torch.device(\"cuda\" if torch.cuda.is_available() else \"cpu\")\n",
    "model = model.to(device)\n",
    "f1_score = f1_score.to(device)\n",
    "torch.cuda.empty_cache()"
   ],
   "metadata": {
    "collapsed": false
   }
  },
  {
   "cell_type": "markdown",
   "source": [
    "## 3. Data processing format"
   ],
   "metadata": {
    "collapsed": false
   }
  },
  {
   "cell_type": "code",
   "execution_count": 50,
   "outputs": [],
   "source": [
    "config.train_batch_size, config.val_batch_size = 64, 128"
   ],
   "metadata": {
    "collapsed": false
   }
  },
  {
   "cell_type": "code",
   "execution_count": 59,
   "outputs": [],
   "source": [
    "train_dataloader = DataLoader(train_dataset,\n",
    "                              batch_size=config.train_batch_size,\n",
    "                              shuffle=True,\n",
    "                              num_workers=os.cpu_count(),\n",
    ")"
   ],
   "metadata": {
    "collapsed": false
   }
  },
  {
   "cell_type": "code",
   "execution_count": 60,
   "outputs": [],
   "source": [
    "test_dataloader = DataLoader(test_dataset,\n",
    "                              batch_size=config.val_batch_size,\n",
    "                              shuffle=False,\n",
    "                              num_workers=os.cpu_count(),\n",
    ")"
   ],
   "metadata": {
    "collapsed": false
   }
  },
  {
   "cell_type": "markdown",
   "source": [
    "# 5. Initialize train process"
   ],
   "metadata": {
    "collapsed": false
   }
  },
  {
   "cell_type": "markdown",
   "source": [
    "## 1. Functions to plot the result"
   ],
   "metadata": {
    "collapsed": false
   }
  },
  {
   "cell_type": "code",
   "execution_count": null,
   "outputs": [],
   "source": [
    "def plot_two_curves(\n",
    "        title: str = None,\n",
    "        train_curve: list[float],\n",
    "        val_curve: list[float],\n",
    "\n",
    "):\n",
    "    plt.figure(figsize=(16, 8))\n",
    "    plt.title(title)\n",
    "    plt.plot(train_curve, label=f'Train {title}')\n",
    "    plt.plot(val_curve, label=f'Valid {title}')\n",
    "    plt.legend()\n",
    "    plt.grid()\n",
    "    plt.show()\n"
   ],
   "metadata": {
    "collapsed": false
   }
  },
  {
   "cell_type": "code",
   "execution_count": 61,
   "outputs": [],
   "source": [
    "def plot_stats(\n",
    "        train_loss: list[float],\n",
    "        valid_loss: list[float],\n",
    "        train_accuracy: list[float]=None,\n",
    "        valid_accuracy: list[float]=None,\n",
    "        train_f1_score: list[float]=None,\n",
    "        valid_f1_score: list[float]=None,\n",
    "        title: str = None\n",
    "):\n",
    "    plot_two_curves(\n",
    "        'Loss',\n",
    "        train_loss,\n",
    "        valid_loss\n",
    "    )\n",
    "\n",
    "    if train_accuracy and valid_accuracy:\n",
    "        plot_two_curves(\n",
    "            'accuracy',\n",
    "            train_accuracy,\n",
    "            valid_accuracy\n",
    "        )\n",
    "\n",
    "    if train_f1_score and valid_f1_score:\n",
    "        plot_two_curves(\n",
    "            title='F1 score',\n",
    "            train_f1_score,\n",
    "            valid_f1_score\n",
    "        )\n"
   ],
   "metadata": {
    "collapsed": false
   }
  },
  {
   "cell_type": "markdown",
   "source": [
    "## 2. Training and evaluation functions"
   ],
   "metadata": {
    "collapsed": false
   }
  },
  {
   "cell_type": "code",
   "execution_count": 62,
   "outputs": [],
   "source": [
    "def train_one_epoch(model, dataloader, optimizer, criterion, scheduler, device, epoch: str):\n",
    "    model.train()\n",
    "\n",
    "    train_loss = 0.0\n",
    "    train_correct = 0.0\n",
    "    train_f1 = 0.0\n",
    "    n_batches = 0\n",
    "    data_size = 0\n",
    "    lr = scheduler.get_last_lr()\n",
    "\n",
    "    with tqdm(dataloader, desc=f'Epoch: {epoch}', unit=\"batch\") as tepoch:\n",
    "        for images, labels in tepoch:\n",
    "            n_batches += 1\n",
    "            images = images.to(device)\n",
    "            labels = labels.to(device)\n",
    "\n",
    "            optimizer.zero_grad()\n",
    "\n",
    "            embeddings = model(images)\n",
    "\n",
    "            loss = criterion(embeddings, labels)\n",
    "            loss.backward()\n",
    "            optimizer.step()\n",
    "\n",
    "            loss = loss.item()  # item() extracts scalar\n",
    "            train_loss += loss\n",
    "\n",
    "            _, predicted = torch.max(embeddings.data, 1)\n",
    "\n",
    "            train_correct += (predicted == labels).sum().item()\n",
    "            data_size += labels.size(0)\n",
    "            train_accuracy = train_correct / data_size\n",
    "\n",
    "            f1 = f1_score(predicted, labels).item()\n",
    "            train_f1 += f1\n",
    "            tepoch.set_postfix(loss=loss, acc=train_accuracy, lr=lr)\n",
    "\n",
    "    train_loss /= n_batches\n",
    "    train_f1 /= n_batches\n",
    "    gc.collect()\n",
    "    torch.cuda.empty_cache()\n",
    "\n",
    "    return train_loss, train_accuracy, train_f1"
   ],
   "metadata": {
    "collapsed": false
   }
  },
  {
   "cell_type": "code",
   "execution_count": 64,
   "outputs": [],
   "source": [
    "@torch.inference_mode()\n",
    "def validate_one_epoch(model, dataloader, criterion, device):\n",
    "    model.eval()\n",
    "\n",
    "    val_loss = 0.0\n",
    "    val_correct = 0.0\n",
    "    val_f1_score = 0.0\n",
    "    data_size = 0\n",
    "    n_batches = 0\n",
    "\n",
    "    with tqdm(dataloader, desc=\"Validation\",unit=\"batch\") as tepoch:\n",
    "        for images, labels in tepoch:\n",
    "            n_batches += 1\n",
    "            images = images.to(device)\n",
    "            labels = labels.to(device)\n",
    "            embeddings = model(images)\n",
    "\n",
    "            loss = criterion(embeddings, labels).item()\n",
    "            val_loss += loss\n",
    "\n",
    "            _, predicted = torch.max(embeddings.data, 1)\n",
    "\n",
    "            correct = (predicted == labels).sum().item()\n",
    "            val_correct += correct\n",
    "            data_size += labels.size(0)\n",
    "            val_accuracy = val_correct / data_size\n",
    "\n",
    "            f1 = f1_score(predicted, labels).item()\n",
    "            val_f1_score += f1\n",
    "            tepoch.set_postfix(loss=loss, acc=val_accuracy)\n",
    "\n",
    "    val_loss /= n_batches\n",
    "    val_f1_score /= n_batches\n",
    "    gc.collect()\n",
    "    torch.cuda.empty_cache()\n",
    "\n",
    "    return val_loss, val_accuracy, val_f1_score"
   ],
   "metadata": {
    "collapsed": false
   }
  },
  {
   "cell_type": "markdown",
   "source": [
    "## 3. Training cycle"
   ],
   "metadata": {
    "collapsed": false
   }
  },
  {
   "cell_type": "code",
   "execution_count": 63,
   "outputs": [],
   "source": [
    "def train_model(model, train_loader, val_loader,\n",
    "                criterion=None, optimizer=None, num_epochs=5,\n",
    "                scheduler=None, device=torch.device(\"cpu\"),\n",
    "                save_model_to=None):\n",
    "    since = time.time()\n",
    "\n",
    "    train_loss_history, valid_loss_history = [], []\n",
    "    train_acc_history, valid_acc_history = [], []\n",
    "    train_f1_history, valid_f1_history = [], []\n",
    "\n",
    "\n",
    "# Create a temporary directory to save training checkpoints\n",
    "    with TemporaryDirectory() as tempdir:\n",
    "        best_model_params_path = os.path.join(tempdir, 'best_model_params.pt')\n",
    "\n",
    "        for epoch in range(num_epochs):\n",
    "            train_loss, train_accuracy, train_f1 = train_one_epoch(model, train_loader, optimizer, criterion, scheduler, device, epoch=f'{epoch+1}/{num_epochs}')\n",
    "            val_loss, val_accuracy, val_f1 = validate_one_epoch(model, val_loader, criterion, device,)\n",
    "\n",
    "            print_highlighted(\n",
    "                f\"Loss: {val_loss:.4f} - Accuracy: {val_accuracy:.4f} - F1: {val_f1:.4f}\"\n",
    "            )\n",
    "\n",
    "            if not valid_loss_history or val_loss < valid_loss_history[-1]:\n",
    "                # If it's either first step (history is empty) or our weights are getting better\n",
    "                print_highlighted(\"New weights were applied.\\n\", bgcolor=Back.CYAN)\n",
    "                torch.save(model.state_dict(), best_model_params_path)\n",
    "\n",
    "            scheduler.step()\n",
    "\n",
    "            train_loss_history.append(train_loss)\n",
    "            valid_loss_history.append(val_loss)\n",
    "            train_acc_history.append(train_accuracy)\n",
    "            valid_acc_history.append(val_accuracy)\n",
    "            train_f1_history.append(train_f1)\n",
    "            valid_f1_history.append(val_f1)\n",
    "\n",
    "            del train_loss\n",
    "            del val_loss\n",
    "            gc.collect()\n",
    "            torch.cuda.empty_cache()\n",
    "\n",
    "        time_elapsed = time.time() - since\n",
    "        print_highlighted(f'Training complete in {time_elapsed // 60:.0f}m {time_elapsed % 60:.0f}s')\n",
    "\n",
    "        # load best model weights\n",
    "        model.load_state_dict(torch.load(best_model_params_path))\n",
    "\n",
    "        if save_model_to:\n",
    "            torch.save(model, save_model_to)\n",
    "            print(f\"Model was saved to: {save_model_to}\")\n",
    "\n",
    "        history = dict(\n",
    "            train_loss=train_loss_history,\n",
    "            valid_loss=valid_loss_history,\n",
    "            train_accuracy=train_acc_history,\n",
    "            valid_accuracy=valid_acc_history,\n",
    "            train_f1_score=train_f1_history,\n",
    "            valid_f1_score=valid_f1_history,\n",
    "        )\n",
    "    return model, history"
   ],
   "metadata": {
    "collapsed": false
   }
  },
  {
   "cell_type": "markdown",
   "source": [
    "# 6. Hyperparametres"
   ],
   "metadata": {
    "collapsed": false
   }
  },
  {
   "cell_type": "markdown",
   "source": [
    "Custom Loss Function"
   ],
   "metadata": {
    "collapsed": false
   }
  },
  {
   "cell_type": "code",
   "source": [
    "class FocalLoss(nn.Module):\n",
    "    def __init__(self, alpha=None, gamma=2, reduction='mean'):\n",
    "        super(FocalLoss, self).__init__()\n",
    "        self.alpha = alpha\n",
    "        self.gamma = gamma\n",
    "        self.reduction = reduction\n",
    "        self.ce_loss = nn.CrossEntropyLoss(reduction='none')\n",
    "\n",
    "    def forward(self, inputs, targets):\n",
    "        ce_loss = self.ce_loss(inputs, targets)\n",
    "        pt = torch.exp(-ce_loss)\n",
    "        focal_loss = ((1 - pt) ** self.gamma) * ce_loss\n",
    "        \n",
    "        if self.alpha is not None and self.alpha != 1.0:\n",
    "            focal_loss = alpha * focal_loss\n",
    "        \n",
    "        if self.reduction == 'mean':\n",
    "            return focal_loss.mean()\n",
    "        elif self.reduction == 'sum':\n",
    "            return focal_loss.sum()\n",
    "        else:\n",
    "            return focal_loss"
   ],
   "metadata": {
    "execution": {
     "iopub.status.busy": "2023-08-08T13:21:25.152053Z",
     "iopub.execute_input": "2023-08-08T13:21:25.152412Z",
     "iopub.status.idle": "2023-08-08T13:21:25.161265Z",
     "shell.execute_reply.started": "2023-08-08T13:21:25.152382Z",
     "shell.execute_reply": "2023-08-08T13:21:25.159974Z"
    },
    "trusted": true
   },
   "execution_count": 65,
   "outputs": []
  },
  {
   "cell_type": "code",
   "source": [
    "config.learning_rate = 1e-4\n",
    "config.epochs = 25\n",
    "config.weight_decay = 1e-6"
   ],
   "metadata": {
    "execution": {
     "iopub.status.busy": "2023-08-08T13:21:25.582245Z",
     "iopub.execute_input": "2023-08-08T13:21:25.582695Z",
     "iopub.status.idle": "2023-08-08T13:21:25.588475Z",
     "shell.execute_reply.started": "2023-08-08T13:21:25.582660Z",
     "shell.execute_reply": "2023-08-08T13:21:25.587174Z"
    },
    "trusted": true
   },
   "execution_count": 66,
   "outputs": []
  },
  {
   "cell_type": "code",
   "source": [
    "optimizer = torch.optim.Adam(filter(lambda p: p.requires_grad, model.parameters()), lr=config.learning_rate, weight_decay = config.weight_decay)\n",
    "# optimizer = torch.optim.Adam(model.parameters(), lr=1e-3, weight_decay=0)\n",
    "# optimizer = torch.optim.SGD(model.parameters(), lr=config.learning_rate, momentum=0.8)\n",
    "# optimizer = torch.optim.Adam(model.parameters(), lr=1e-4)\n"
   ],
   "metadata": {
    "collapsed": false,
    "ExecuteTime": {
     "start_time": "2023-08-07T11:31:44.581064Z",
     "end_time": "2023-08-07T11:31:44.587501Z"
    },
    "jupyter": {
     "outputs_hidden": false
    },
    "execution": {
     "iopub.status.busy": "2023-08-08T13:21:26.174964Z",
     "iopub.execute_input": "2023-08-08T13:21:26.175316Z",
     "iopub.status.idle": "2023-08-08T13:21:26.182907Z",
     "shell.execute_reply.started": "2023-08-08T13:21:26.175286Z",
     "shell.execute_reply": "2023-08-08T13:21:26.181766Z"
    },
    "trusted": true
   },
   "execution_count": 67,
   "outputs": []
  },
  {
   "cell_type": "code",
   "source": [
    "criterion = nn.CrossEntropyLoss()\n",
    "# criterion = FocalLoss(alpha=1.0, gamma=2, reduction = 'mean')"
   ],
   "metadata": {
    "collapsed": false,
    "ExecuteTime": {
     "start_time": "2023-08-07T11:31:44.581064Z",
     "end_time": "2023-08-07T11:31:44.587501Z"
    },
    "jupyter": {
     "outputs_hidden": false
    },
    "execution": {
     "iopub.status.busy": "2023-08-08T13:21:26.584402Z",
     "iopub.execute_input": "2023-08-08T13:21:26.585470Z",
     "iopub.status.idle": "2023-08-08T13:21:26.591089Z",
     "shell.execute_reply.started": "2023-08-08T13:21:26.585421Z",
     "shell.execute_reply": "2023-08-08T13:21:26.589961Z"
    },
    "trusted": true
   },
   "execution_count": 68,
   "outputs": []
  },
  {
   "cell_type": "code",
   "source": [
    "# scheduler = optim.lr_scheduler.StepLR(optimizer, step_size=2, gamma=0.5, verbose=False)\n",
    "# scheduler = optim.lr_scheduler.ReduceLROnPlateau(optimizer, 'min', patience = 3, factor=0.5, verbose=False)\n",
    "# scheduler = optim.lr_scheduler.ExponentialLR(optimizer, gamma=0.5, verbose=False)\n",
    "scheduler = optim.lr_scheduler.StepLR(optimizer=optimizer, step_size=5, gamma=0.5, verbose=False)"
   ],
   "metadata": {
    "collapsed": false,
    "ExecuteTime": {
     "start_time": "2023-08-07T11:31:44.581064Z",
     "end_time": "2023-08-07T11:31:44.587501Z"
    },
    "jupyter": {
     "outputs_hidden": false
    },
    "execution": {
     "iopub.status.busy": "2023-08-08T13:21:27.059921Z",
     "iopub.execute_input": "2023-08-08T13:21:27.060729Z",
     "iopub.status.idle": "2023-08-08T13:21:27.066929Z",
     "shell.execute_reply.started": "2023-08-08T13:21:27.060693Z",
     "shell.execute_reply": "2023-08-08T13:21:27.065697Z"
    },
    "trusted": true
   },
   "execution_count": 69,
   "outputs": []
  },
  {
   "cell_type": "markdown",
   "source": [
    "# 7. Run the training process"
   ],
   "metadata": {
    "collapsed": false
   }
  },
  {
   "cell_type": "code",
   "source": [
    "model, history = train_model(model=model,\n",
    "                    train_loader=train_dataloader,\n",
    "                    val_loader=test_dataloader,\n",
    "                    criterion=criterion,\n",
    "                    optimizer=optimizer,\n",
    "                    num_epochs=config.epochs,\n",
    "                    device=device,\n",
    "                    scheduler=scheduler,\n",
    "                    save_model_to=f'fine-tuned_{config.model_name}.pth')"
   ],
   "metadata": {
    "collapsed": false,
    "jupyter": {
     "outputs_hidden": false
    },
    "pycharm": {
     "is_executing": true
    },
    "execution": {
     "iopub.status.busy": "2023-08-08T13:21:27.574231Z",
     "iopub.execute_input": "2023-08-08T13:21:27.574661Z",
     "iopub.status.idle": "2023-08-08T13:36:18.030209Z",
     "shell.execute_reply.started": "2023-08-08T13:21:27.574626Z",
     "shell.execute_reply": "2023-08-08T13:36:18.028849Z"
    },
    "trusted": true
   },
   "execution_count": 70,
   "outputs": [
    {
     "name": "stderr",
     "text": "Epoch: 1/25: 100%|██████████| 97/97 [00:53<00:00,  1.82batch/s, acc=0.217, loss=4.11, lr=[0.0001]] \nValidation: 100%|██████████| 3/3 [00:03<00:00,  1.19s/batch, acc=0.138, loss=4.24]\n",
     "output_type": "stream"
    },
    {
     "name": "stdout",
     "text": "\u001B[43mLoss: 0.0393 - Accuracy: 0.1385 - F1: 0.0009\u001B[0m\n\u001B[46mNew weights were applied.\n\u001B[0m\n",
     "output_type": "stream"
    },
    {
     "name": "stderr",
     "text": "Epoch: 2/25: 100%|██████████| 97/97 [00:31<00:00,  3.10batch/s, acc=0.456, loss=4.03, lr=[0.0001]]\nValidation: 100%|██████████| 3/3 [00:01<00:00,  1.92batch/s, acc=0.2, loss=4.18]  \n",
     "output_type": "stream"
    },
    {
     "name": "stdout",
     "text": "\u001B[43mLoss: 0.0388 - Accuracy: 0.2000 - F1: 0.0014\u001B[0m\n\u001B[46mNew weights were applied.\n\u001B[0m\n",
     "output_type": "stream"
    },
    {
     "name": "stderr",
     "text": "Epoch: 3/25: 100%|██████████| 97/97 [00:31<00:00,  3.09batch/s, acc=0.626, loss=3.74, lr=[0.0001]]\nValidation: 100%|██████████| 3/3 [00:01<00:00,  1.88batch/s, acc=0.252, loss=4.16]\n",
     "output_type": "stream"
    },
    {
     "name": "stdout",
     "text": "\u001B[43mLoss: 0.0381 - Accuracy: 0.2523 - F1: 0.0018\u001B[0m\n\u001B[46mNew weights were applied.\n\u001B[0m\n",
     "output_type": "stream"
    },
    {
     "name": "stderr",
     "text": "Epoch: 4/25: 100%|██████████| 97/97 [00:31<00:00,  3.05batch/s, acc=0.755, loss=3.59, lr=[0.0001]]\nValidation: 100%|██████████| 3/3 [00:01<00:00,  1.91batch/s, acc=0.298, loss=4.09]\n",
     "output_type": "stream"
    },
    {
     "name": "stdout",
     "text": "\u001B[43mLoss: 0.0375 - Accuracy: 0.2985 - F1: 0.0021\u001B[0m\n\u001B[46mNew weights were applied.\n\u001B[0m\n",
     "output_type": "stream"
    },
    {
     "name": "stderr",
     "text": "Epoch: 5/25: 100%|██████████| 97/97 [00:31<00:00,  3.08batch/s, acc=0.847, loss=3.54, lr=[0.0001]]\nValidation: 100%|██████████| 3/3 [00:01<00:00,  1.70batch/s, acc=0.335, loss=4.05]\n",
     "output_type": "stream"
    },
    {
     "name": "stdout",
     "text": "\u001B[43mLoss: 0.0372 - Accuracy: 0.3354 - F1: 0.0024\u001B[0m\n\u001B[46mNew weights were applied.\n\u001B[0m\n",
     "output_type": "stream"
    },
    {
     "name": "stderr",
     "text": "Epoch: 6/25: 100%|██████████| 97/97 [00:31<00:00,  3.07batch/s, acc=0.895, loss=3.44, lr=[5e-05]]\nValidation: 100%|██████████| 3/3 [00:01<00:00,  1.96batch/s, acc=0.338, loss=4.03]\n",
     "output_type": "stream"
    },
    {
     "name": "stdout",
     "text": "\u001B[43mLoss: 0.0371 - Accuracy: 0.3385 - F1: 0.0024\u001B[0m\n\u001B[46mNew weights were applied.\n\u001B[0m\n",
     "output_type": "stream"
    },
    {
     "name": "stderr",
     "text": "Epoch: 7/25: 100%|██████████| 97/97 [00:31<00:00,  3.09batch/s, acc=0.914, loss=3.46, lr=[5e-05]]\nValidation: 100%|██████████| 3/3 [00:01<00:00,  1.93batch/s, acc=0.348, loss=4.02]\n",
     "output_type": "stream"
    },
    {
     "name": "stdout",
     "text": "\u001B[43mLoss: 0.0370 - Accuracy: 0.3477 - F1: 0.0025\u001B[0m\n\u001B[46mNew weights were applied.\n\u001B[0m\n",
     "output_type": "stream"
    },
    {
     "name": "stderr",
     "text": "Epoch: 8/25: 100%|██████████| 97/97 [00:31<00:00,  3.07batch/s, acc=0.928, loss=3.58, lr=[5e-05]]\nValidation: 100%|██████████| 3/3 [00:01<00:00,  1.89batch/s, acc=0.338, loss=4.03]\n",
     "output_type": "stream"
    },
    {
     "name": "stdout",
     "text": "\u001B[43mLoss: 0.0370 - Accuracy: 0.3385 - F1: 0.0024\u001B[0m\n",
     "output_type": "stream"
    },
    {
     "name": "stderr",
     "text": "Epoch: 9/25: 100%|██████████| 97/97 [00:31<00:00,  3.07batch/s, acc=0.937, loss=3.5, lr=[5e-05]] \nValidation: 100%|██████████| 3/3 [00:01<00:00,  1.92batch/s, acc=0.345, loss=4.01]\n",
     "output_type": "stream"
    },
    {
     "name": "stdout",
     "text": "\u001B[43mLoss: 0.0370 - Accuracy: 0.3446 - F1: 0.0024\u001B[0m\n\u001B[46mNew weights were applied.\n\u001B[0m\n",
     "output_type": "stream"
    },
    {
     "name": "stderr",
     "text": "Epoch: 10/25: 100%|██████████| 97/97 [00:31<00:00,  3.09batch/s, acc=0.944, loss=3.46, lr=[5e-05]]\nValidation: 100%|██████████| 3/3 [00:01<00:00,  1.93batch/s, acc=0.345, loss=4.02]\n",
     "output_type": "stream"
    },
    {
     "name": "stdout",
     "text": "\u001B[43mLoss: 0.0370 - Accuracy: 0.3446 - F1: 0.0025\u001B[0m\n",
     "output_type": "stream"
    },
    {
     "name": "stderr",
     "text": "Epoch: 11/25: 100%|██████████| 97/97 [00:31<00:00,  3.09batch/s, acc=0.948, loss=3.41, lr=[2.5e-05]]\nValidation: 100%|██████████| 3/3 [00:01<00:00,  1.78batch/s, acc=0.348, loss=4.02]\n",
     "output_type": "stream"
    },
    {
     "name": "stdout",
     "text": "\u001B[43mLoss: 0.0369 - Accuracy: 0.3477 - F1: 0.0025\u001B[0m\n\u001B[46mNew weights were applied.\n\u001B[0m\n",
     "output_type": "stream"
    },
    {
     "name": "stderr",
     "text": "Epoch: 12/25: 100%|██████████| 97/97 [00:31<00:00,  3.10batch/s, acc=0.95, loss=3.41, lr=[2.5e-05]] \nValidation: 100%|██████████| 3/3 [00:01<00:00,  1.95batch/s, acc=0.345, loss=4.01]\n",
     "output_type": "stream"
    },
    {
     "name": "stdout",
     "text": "\u001B[43mLoss: 0.0370 - Accuracy: 0.3446 - F1: 0.0025\u001B[0m\n",
     "output_type": "stream"
    },
    {
     "name": "stderr",
     "text": "Epoch: 13/25: 100%|██████████| 97/97 [00:31<00:00,  3.12batch/s, acc=0.953, loss=3.39, lr=[2.5e-05]]\nValidation: 100%|██████████| 3/3 [00:02<00:00,  1.41batch/s, acc=0.348, loss=4.02]\n",
     "output_type": "stream"
    },
    {
     "name": "stdout",
     "text": "\u001B[43mLoss: 0.0369 - Accuracy: 0.3477 - F1: 0.0025\u001B[0m\n\u001B[46mNew weights were applied.\n\u001B[0m\n",
     "output_type": "stream"
    },
    {
     "name": "stderr",
     "text": "Epoch: 14/25: 100%|██████████| 97/97 [00:30<00:00,  3.16batch/s, acc=0.955, loss=3.37, lr=[2.5e-05]]\nValidation: 100%|██████████| 3/3 [00:01<00:00,  1.95batch/s, acc=0.342, loss=4.01]\n",
     "output_type": "stream"
    },
    {
     "name": "stdout",
     "text": "\u001B[43mLoss: 0.0370 - Accuracy: 0.3415 - F1: 0.0025\u001B[0m\n",
     "output_type": "stream"
    },
    {
     "name": "stderr",
     "text": "Epoch: 15/25: 100%|██████████| 97/97 [00:31<00:00,  3.10batch/s, acc=0.958, loss=3.39, lr=[2.5e-05]]\nValidation: 100%|██████████| 3/3 [00:01<00:00,  1.91batch/s, acc=0.342, loss=4.02]\n",
     "output_type": "stream"
    },
    {
     "name": "stdout",
     "text": "\u001B[43mLoss: 0.0370 - Accuracy: 0.3415 - F1: 0.0024\u001B[0m\n",
     "output_type": "stream"
    },
    {
     "name": "stderr",
     "text": "Epoch: 16/25: 100%|██████████| 97/97 [00:31<00:00,  3.08batch/s, acc=0.961, loss=3.38, lr=[1.25e-05]]\nValidation: 100%|██████████| 3/3 [00:01<00:00,  1.90batch/s, acc=0.342, loss=4.02]\n",
     "output_type": "stream"
    },
    {
     "name": "stdout",
     "text": "\u001B[43mLoss: 0.0370 - Accuracy: 0.3415 - F1: 0.0025\u001B[0m\n\u001B[46mNew weights were applied.\n\u001B[0m\n",
     "output_type": "stream"
    },
    {
     "name": "stderr",
     "text": "Epoch: 17/25: 100%|██████████| 97/97 [00:31<00:00,  3.11batch/s, acc=0.961, loss=3.45, lr=[1.25e-05]]\nValidation: 100%|██████████| 3/3 [00:01<00:00,  1.98batch/s, acc=0.342, loss=4.02]\n",
     "output_type": "stream"
    },
    {
     "name": "stdout",
     "text": "\u001B[43mLoss: 0.0370 - Accuracy: 0.3415 - F1: 0.0025\u001B[0m\n",
     "output_type": "stream"
    },
    {
     "name": "stderr",
     "text": "Epoch: 18/25: 100%|██████████| 97/97 [00:31<00:00,  3.08batch/s, acc=0.96, loss=3.48, lr=[1.25e-05]] \nValidation: 100%|██████████| 3/3 [00:01<00:00,  1.90batch/s, acc=0.338, loss=4.03]\n",
     "output_type": "stream"
    },
    {
     "name": "stdout",
     "text": "\u001B[43mLoss: 0.0370 - Accuracy: 0.3385 - F1: 0.0024\u001B[0m\n",
     "output_type": "stream"
    },
    {
     "name": "stderr",
     "text": "Epoch: 19/25: 100%|██████████| 97/97 [00:31<00:00,  3.11batch/s, acc=0.963, loss=3.44, lr=[1.25e-05]]\nValidation: 100%|██████████| 3/3 [00:01<00:00,  1.98batch/s, acc=0.345, loss=4.01]\n",
     "output_type": "stream"
    },
    {
     "name": "stdout",
     "text": "\u001B[43mLoss: 0.0370 - Accuracy: 0.3446 - F1: 0.0025\u001B[0m\n\u001B[46mNew weights were applied.\n\u001B[0m\n",
     "output_type": "stream"
    },
    {
     "name": "stderr",
     "text": "Epoch: 20/25: 100%|██████████| 97/97 [00:31<00:00,  3.06batch/s, acc=0.964, loss=3.4, lr=[1.25e-05]] \nValidation: 100%|██████████| 3/3 [00:01<00:00,  1.69batch/s, acc=0.345, loss=4.02]\n",
     "output_type": "stream"
    },
    {
     "name": "stdout",
     "text": "\u001B[43mLoss: 0.0369 - Accuracy: 0.3446 - F1: 0.0025\u001B[0m\n\u001B[46mNew weights were applied.\n\u001B[0m\n",
     "output_type": "stream"
    },
    {
     "name": "stderr",
     "text": "Epoch: 21/25: 100%|██████████| 97/97 [00:31<00:00,  3.08batch/s, acc=0.963, loss=3.37, lr=[6.25e-06]]\nValidation: 100%|██████████| 3/3 [00:01<00:00,  1.97batch/s, acc=0.342, loss=4.02]\n",
     "output_type": "stream"
    },
    {
     "name": "stdout",
     "text": "\u001B[43mLoss: 0.0370 - Accuracy: 0.3415 - F1: 0.0025\u001B[0m\n",
     "output_type": "stream"
    },
    {
     "name": "stderr",
     "text": "Epoch: 22/25: 100%|██████████| 97/97 [00:31<00:00,  3.08batch/s, acc=0.962, loss=3.39, lr=[6.25e-06]]\nValidation: 100%|██████████| 3/3 [00:01<00:00,  1.91batch/s, acc=0.345, loss=4.01]\n",
     "output_type": "stream"
    },
    {
     "name": "stdout",
     "text": "\u001B[43mLoss: 0.0369 - Accuracy: 0.3446 - F1: 0.0025\u001B[0m\n\u001B[46mNew weights were applied.\n\u001B[0m\n",
     "output_type": "stream"
    },
    {
     "name": "stderr",
     "text": "Epoch: 23/25: 100%|██████████| 97/97 [00:31<00:00,  3.07batch/s, acc=0.966, loss=3.42, lr=[6.25e-06]]\nValidation: 100%|██████████| 3/3 [00:02<00:00,  1.26batch/s, acc=0.348, loss=4.01]\n",
     "output_type": "stream"
    },
    {
     "name": "stdout",
     "text": "\u001B[43mLoss: 0.0369 - Accuracy: 0.3477 - F1: 0.0025\u001B[0m\n\u001B[46mNew weights were applied.\n\u001B[0m\n",
     "output_type": "stream"
    },
    {
     "name": "stderr",
     "text": "Epoch: 24/25: 100%|██████████| 97/97 [00:32<00:00,  2.95batch/s, acc=0.967, loss=3.42, lr=[6.25e-06]]\nValidation: 100%|██████████| 3/3 [00:01<00:00,  1.93batch/s, acc=0.342, loss=4.01]\n",
     "output_type": "stream"
    },
    {
     "name": "stdout",
     "text": "\u001B[43mLoss: 0.0369 - Accuracy: 0.3415 - F1: 0.0025\u001B[0m\n",
     "output_type": "stream"
    },
    {
     "name": "stderr",
     "text": "Epoch: 25/25: 100%|██████████| 97/97 [00:31<00:00,  3.03batch/s, acc=0.967, loss=3.36, lr=[6.25e-06]]\nValidation: 100%|██████████| 3/3 [00:01<00:00,  1.89batch/s, acc=0.345, loss=4.01]\n",
     "output_type": "stream"
    },
    {
     "name": "stdout",
     "text": "\u001B[43mLoss: 0.0369 - Accuracy: 0.3446 - F1: 0.0025\u001B[0m\n\u001B[46mNew weights were applied.\n\u001B[0m\n\u001B[43mTraining complete in 14m 50s\u001B[0m\nModel was saved to: efficientnet_b0.pth\n",
     "output_type": "stream"
    }
   ]
  },
  {
   "cell_type": "code",
   "source": [
    "plot_stats(\n",
    "    **history,\n",
    "    title=f\"Model {config.model_name}\"\n",
    ")"
   ],
   "metadata": {
    "pycharm": {
     "is_executing": true
    },
    "execution": {
     "iopub.status.busy": "2023-08-08T13:36:18.032827Z",
     "iopub.execute_input": "2023-08-08T13:36:18.033227Z",
     "iopub.status.idle": "2023-08-08T13:36:19.130545Z",
     "shell.execute_reply.started": "2023-08-08T13:36:18.033190Z",
     "shell.execute_reply": "2023-08-08T13:36:19.129503Z"
    },
    "trusted": true
   },
   "execution_count": 71,
   "outputs": [
    {
     "output_type": "display_data",
     "data": {
      "text/plain": "<Figure size 1600x800 with 1 Axes>",
      "image/png": "[encoded data removed]"
     },
     "metadata": {}
    },
    {
     "output_type": "display_data",
     "data": {
      "text/plain": "<Figure size 1600x800 with 1 Axes>",
      "image/png": "[encoded data removed]"
     },
     "metadata": {}
    },
    {
     "output_type": "display_data",
     "data": {
      "text/plain": "<Figure size 1600x800 with 1 Axes>",
      "image/png": "[encoded data removed]"
     },
     "metadata": {}
    }
   ]
  },
  {
   "cell_type": "markdown",
   "source": [
    "# 8. Result evaluation"
   ],
   "metadata": {
    "collapsed": false
   }
  },
  {
   "cell_type": "code",
   "source": [
    "model.eval()  # Set the model to evaluation mode\n",
    "predictions = []\n",
    "\n",
    "with torch.no_grad():\n",
    "    for images, _ in test_dataloader:\n",
    "        images = images.to(device)\n",
    "        outputs = model(images)\n",
    "        \n",
    "        _, predicted = torch.max(outputs.data, 1)\n",
    "        predictions.extend(predicted.cpu().numpy())"
   ],
   "metadata": {
    "execution": {
     "iopub.status.busy": "2023-08-08T13:36:19.133546Z",
     "iopub.execute_input": "2023-08-08T13:36:19.133826Z",
     "iopub.status.idle": "2023-08-08T13:36:20.863228Z",
     "shell.execute_reply.started": "2023-08-08T13:36:19.133801Z",
     "shell.execute_reply": "2023-08-08T13:36:20.861892Z"
    },
    "trusted": true
   },
   "execution_count": 72,
   "outputs": []
  },
  {
   "cell_type": "code",
   "source": [
    "c_report = classification_report(test_dataset.labels, np.array(predictions), output_dict=True, zero_division=0)\n",
    "c_report = pd.DataFrame(c_report).transpose()\n",
    "c_report"
   ],
   "metadata": {
    "execution": {
     "iopub.status.busy": "2023-08-08T13:36:20.866383Z",
     "iopub.execute_input": "2023-08-08T13:36:20.866843Z",
     "iopub.status.idle": "2023-08-08T13:36:20.905081Z",
     "shell.execute_reply.started": "2023-08-08T13:36:20.866800Z",
     "shell.execute_reply": "2023-08-08T13:36:20.903447Z"
    },
    "trusted": true
   },
   "execution_count": 73,
   "outputs": [
    {
     "execution_count": 73,
     "output_type": "execute_result",
     "data": {
      "text/plain": "              precision    recall  f1-score     support\n0              1.000000  1.000000  1.000000    2.000000\n1              1.000000  1.000000  1.000000    6.000000\n2              0.750000  1.000000  0.857143    3.000000\n3              1.000000  1.000000  1.000000    4.000000\n4              1.000000  1.000000  1.000000    4.000000\n...                 ...       ...       ...         ...\n73             0.000000  0.000000  0.000000    5.000000\n74             0.000000  0.000000  0.000000    0.000000\naccuracy       0.344615  0.344615  0.344615    0.344615\nmacro avg      0.306487  0.323259  0.313201  325.000000\nweighted avg   0.329382  0.344615  0.335335  325.000000\n\n[78 rows x 4 columns]",
      "text/html": "<div>\n<style scoped>\n    .dataframe tbody tr th:only-of-type {\n        vertical-align: middle;\n    }\n\n    .dataframe tbody tr th {\n        vertical-align: top;\n    }\n\n    .dataframe thead th {\n        text-align: right;\n    }\n</style>\n<table border=\"1\" class=\"dataframe\">\n  <thead>\n    <tr style=\"text-align: right;\">\n      <th></th>\n      <th>precision</th>\n      <th>recall</th>\n      <th>f1-score</th>\n      <th>support</th>\n    </tr>\n  </thead>\n  <tbody>\n    <tr>\n      <th>0</th>\n      <td>1.000000</td>\n      <td>1.000000</td>\n      <td>1.000000</td>\n      <td>2.000000</td>\n    </tr>\n    <tr>\n      <th>1</th>\n      <td>1.000000</td>\n      <td>1.000000</td>\n      <td>1.000000</td>\n      <td>6.000000</td>\n    </tr>\n    <tr>\n      <th>2</th>\n      <td>0.750000</td>\n      <td>1.000000</td>\n      <td>0.857143</td>\n      <td>3.000000</td>\n    </tr>\n    <tr>\n      <th>3</th>\n      <td>1.000000</td>\n      <td>1.000000</td>\n      <td>1.000000</td>\n      <td>4.000000</td>\n    </tr>\n    <tr>\n      <th>4</th>\n      <td>1.000000</td>\n      <td>1.000000</td>\n      <td>1.000000</td>\n      <td>4.000000</td>\n    </tr>\n    <tr>\n      <th>...</th>\n      <td>...</td>\n      <td>...</td>\n      <td>...</td>\n      <td>...</td>\n    </tr>\n    <tr>\n      <th>73</th>\n      <td>0.000000</td>\n      <td>0.000000</td>\n      <td>0.000000</td>\n      <td>5.000000</td>\n    </tr>\n    <tr>\n      <th>74</th>\n      <td>0.000000</td>\n      <td>0.000000</td>\n      <td>0.000000</td>\n      <td>0.000000</td>\n    </tr>\n    <tr>\n      <th>accuracy</th>\n      <td>0.344615</td>\n      <td>0.344615</td>\n      <td>0.344615</td>\n      <td>0.344615</td>\n    </tr>\n    <tr>\n      <th>macro avg</th>\n      <td>0.306487</td>\n      <td>0.323259</td>\n      <td>0.313201</td>\n      <td>325.000000</td>\n    </tr>\n    <tr>\n      <th>weighted avg</th>\n      <td>0.329382</td>\n      <td>0.344615</td>\n      <td>0.335335</td>\n      <td>325.000000</td>\n    </tr>\n  </tbody>\n</table>\n<p>78 rows × 4 columns</p>\n</div>"
     },
     "metadata": {}
    }
   ]
  },
  {
   "cell_type": "code",
   "source": [
    "c_report[c_report['precision'] > 0][:-3].mean()"
   ],
   "metadata": {
    "execution": {
     "iopub.status.busy": "2023-08-08T13:36:20.906646Z",
     "iopub.execute_input": "2023-08-08T13:36:20.907779Z",
     "iopub.status.idle": "2023-08-08T13:36:20.918772Z",
     "shell.execute_reply.started": "2023-08-08T13:36:20.907739Z",
     "shell.execute_reply": "2023-08-08T13:36:20.917566Z"
    },
    "trusted": true
   },
   "execution_count": 74,
   "outputs": [
    {
     "execution_count": 74,
     "output_type": "execute_result",
     "data": {
      "text/plain": "precision    0.919460\nrecall       0.969778\nf1-score     0.939604\nsupport      4.680000\ndtype: float64"
     },
     "metadata": {}
    }
   ]
  },
  {
   "cell_type": "code",
   "source": [
    "accuracy_score(test_dataset.labels, np.array(predictions))"
   ],
   "metadata": {
    "execution": {
     "iopub.status.busy": "2023-08-08T13:39:21.398249Z",
     "iopub.execute_input": "2023-08-08T13:39:21.401550Z",
     "iopub.status.idle": "2023-08-08T13:39:21.425881Z",
     "shell.execute_reply.started": "2023-08-08T13:39:21.401460Z",
     "shell.execute_reply": "2023-08-08T13:39:21.424647Z"
    },
    "trusted": true
   },
   "execution_count": 79,
   "outputs": [
    {
     "execution_count": 79,
     "output_type": "execute_result",
     "data": {
      "text/plain": "0.3446153846153846"
     },
     "metadata": {}
    }
   ]
  },
  {
   "cell_type": "code",
   "source": [
    "test_dataset.labels"
   ],
   "metadata": {
    "execution": {
     "iopub.status.busy": "2023-08-08T13:37:46.721590Z",
     "iopub.execute_input": "2023-08-08T13:37:46.722355Z",
     "iopub.status.idle": "2023-08-08T13:37:46.732460Z",
     "shell.execute_reply.started": "2023-08-08T13:37:46.722299Z",
     "shell.execute_reply": "2023-08-08T13:37:46.731200Z"
    },
    "trusted": true
   },
   "execution_count": 77,
   "outputs": [
    {
     "execution_count": 77,
     "output_type": "execute_result",
     "data": {
      "text/plain": "array([59, 39, 42,  6, 42, 19, 56, 66, 20, 27, 23, 70, 13, 11, 17, 21, 26,\n       72, 62,  1, 31, 39, 28, 13, 37, 17, 26, 41,  0, 64, 52, 54, 68, 10,\n       45, 23, 64, 72, 16, 50, 49, 33,  6,  4, 32, 33, 16, 11, 23, 48,  1,\n       23,  1, 34, 66, 34, 29, 45,  8, 44, 58, 69, 57, 59, 63, 21, 56, 44,\n       64, 71, 33, 55, 48, 60, 51, 46, 43,  3, 63, 12, 13, 41, 26,  4, 42,\n       52, 37, 12,  1, 34, 13, 34, 54, 61, 26, 11,  3, 36, 33, 59, 46, 26,\n       27, 26, 58,  1, 66, 67, 35,  9, 73, 30, 24, 62,  0, 17,  6, 26, 22,\n       34, 32, 20, 48, 38, 21, 64,  5, 29, 40, 73, 44, 34, 50, 60, 73, 64,\n       24, 43, 40, 73, 32, 38, 31, 28, 19, 21, 44,  9, 47, 54, 18, 62, 40,\n       70, 11, 10, 20, 17, 15, 27, 36, 55, 61, 51, 12, 39,  5, 49, 22,  3,\n       39, 53, 56, 31, 70, 27, 47,  5, 45,  7, 44, 17, 64, 49, 29, 60, 19,\n       54, 37, 38, 10, 55, 54, 42, 46, 30, 63, 28, 15, 37,  8, 69, 10, 14,\n       53, 11, 65, 18,  6, 63, 14, 27, 71, 34, 23, 18, 72,  5, 18, 10, 64,\n       23, 54, 29, 12, 20, 22, 63, 16, 61, 36, 20, 18, 65, 48, 19,  1, 22,\n        6, 47, 17, 72, 51, 68,  2, 34, 16,  5,  8, 17, 49, 57, 58, 49,  7,\n       31,  2, 13, 69, 55, 49, 58, 20, 15, 62,  8, 22, 31, 65, 55, 38, 50,\n       17, 20, 21, 23, 29, 20,  3,  5, 44,  4, 16, 25,  5, 58, 27, 54, 36,\n       55, 51, 41,  5, 63, 22, 66, 34, 20, 53, 14, 49, 59, 60,  2, 58, 40,\n       52, 64, 44, 66, 53, 63, 27, 54, 63, 30, 10, 73, 34, 54, 43, 25, 28,\n       70,  4])"
     },
     "metadata": {}
    }
   ]
  },
  {
   "cell_type": "code",
   "source": [
    "np.array(predictions)"
   ],
   "metadata": {
    "execution": {
     "iopub.status.busy": "2023-08-08T13:37:53.026682Z",
     "iopub.execute_input": "2023-08-08T13:37:53.027066Z",
     "iopub.status.idle": "2023-08-08T13:37:53.035988Z",
     "shell.execute_reply.started": "2023-08-08T13:37:53.027035Z",
     "shell.execute_reply": "2023-08-08T13:37:53.034761Z"
    },
    "trusted": true
   },
   "execution_count": 78,
   "outputs": [
    {
     "execution_count": 78,
     "output_type": "execute_result",
     "data": {
      "text/plain": "array([60, 40, 43,  6, 10, 19, 57, 67, 20, 28, 23, 44, 13, 11, 17, 21, 27,\n       73, 63,  1, 32, 69, 29, 13, 38, 17, 27, 42,  0, 65, 53, 55, 69, 10,\n       46, 23, 65, 73, 16, 51, 50, 34,  6,  4, 33, 34, 16, 11, 23, 49,  1,\n       23,  1, 35, 67, 35, 30, 46,  8, 45, 59, 70, 58, 60, 64, 21, 57,  2,\n       65, 72, 34, 56, 49, 61, 52, 47, 44,  3, 64, 12, 13, 42, 27,  4, 43,\n       53, 38, 12,  1, 35, 13, 35, 55, 62, 27, 11,  3, 37, 34, 60, 47,  8,\n       28, 27, 59,  1, 67, 68, 36,  9, 74, 31, 24, 63,  0, 17,  6, 27, 22,\n       35, 33, 20, 23, 39, 21, 65,  5, 30, 41, 74, 45, 45, 51, 61, 74, 65,\n       24, 44, 20, 74, 33, 39, 32, 29, 19, 21, 45,  9, 48, 55, 18, 63, 41,\n       71, 11, 10, 20, 17, 15, 28, 37, 56, 73, 52, 12, 40,  5, 16, 56,  3,\n       40, 54, 57, 32, 71, 28, 48,  5, 46,  7, 45, 17, 65, 50, 30, 61, 19,\n       55, 38, 39, 10, 56, 55, 43, 47, 31, 64, 29, 15, 38,  8, 70, 10, 14,\n       54, 11, 66, 18, 37, 17, 14, 28, 72, 35, 23, 18, 73,  5, 18, 70, 65,\n       23, 55, 30, 12, 20, 22, 64, 16, 62, 37, 30, 18, 66, 49, 19,  1, 22,\n        6, 48, 17, 73, 52, 69,  2, 35, 16,  5,  8, 17, 50, 58, 59, 16,  7,\n       32,  2, 13, 70, 56, 50, 59, 20, 15, 63,  8, 22, 32, 19, 56, 39, 51,\n       17, 65, 21, 23, 30, 20,  3,  5, 45,  4, 16, 26,  5, 59, 28, 22, 37,\n       56,  8, 42,  5, 64, 22, 67, 35, 20, 14, 14, 50, 60, 61,  2, 59, 41,\n       53, 65, 45, 67, 54, 64, 28, 55, 64, 31, 10, 74, 35, 55, 44, 26, 29,\n       71,  4])"
     },
     "metadata": {}
    }
   ]
  },
  {
   "cell_type": "code",
   "source": [],
   "metadata": {},
   "execution_count": null,
   "outputs": []
  }
 ]
}
