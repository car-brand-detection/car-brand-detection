{
 "cells": [
  {
   "cell_type": "code",
   "execution_count": 54,
   "outputs": [],
   "source": [
    "import os\n",
    "import re\n",
    "import xml.etree.ElementTree as ET\n",
    "import numpy as np\n",
    "import pandas as pd"
   ],
   "metadata": {
    "collapsed": false,
    "ExecuteTime": {
     "start_time": "2023-07-11T11:21:42.356266Z",
     "end_time": "2023-07-11T11:21:42.530057Z"
    }
   }
  },
  {
   "cell_type": "markdown",
   "source": [
    "All tags:\n",
    "{'link', 'plate_number_image_url', 'plate_id', 'plate_title', 'tags', 'plate_region', 'fon_id', 'fon_title', 'model', 'photo_url', 'plate_number', 'country', 'model2', 'car'}"
   ],
   "metadata": {
    "collapsed": false
   }
  },
  {
   "cell_type": "code",
   "execution_count": 55,
   "outputs": [],
   "source": [
    "car_pattern = r\"([a-zA-Z0-9а-яА-Я]+)\""
   ],
   "metadata": {
    "collapsed": false,
    "ExecuteTime": {
     "start_time": "2023-07-11T11:21:42.378421Z",
     "end_time": "2023-07-11T11:21:42.530057Z"
    }
   }
  },
  {
   "cell_type": "code",
   "execution_count": 56,
   "outputs": [],
   "source": [
    "TAGS = [\n",
    "    'car', 'model', 'model2', 'photo_url', 'image_path', 'plate_number',\n",
    "    'plate_number_image_url',  'plate_id', 'plate_title', 'plate_region', 'tags','fon_id', 'fon_title',  'country', 'link',\n",
    "]"
   ],
   "metadata": {
    "collapsed": false,
    "ExecuteTime": {
     "start_time": "2023-07-11T11:21:42.387066Z",
     "end_time": "2023-07-11T11:21:42.545686Z"
    }
   }
  },
  {
   "cell_type": "code",
   "execution_count": 57,
   "outputs": [],
   "source": [
    "def get_folder_name(generation: str) -> str:\n",
    "    \"\"\"\n",
    "    Generation name looks like a mess. This func will extract only numeric info\n",
    "    :param generation:\n",
    "    :return: number or string like \"2nd\"\n",
    "    \"\"\"\n",
    "    if generation is None: return '0'\n",
    "\n",
    "    match = re.search(car_pattern, generation)\n",
    "    if match:\n",
    "        return match.group(1)\n",
    "\n",
    "    try:\n",
    "        int(generation)\n",
    "        return generation\n",
    "    except ValueError:\n",
    "        gen = generation.split()[0]\n",
    "        if gen[-1] in ',:.;':\n",
    "            gen = gen[:-1]\n",
    "        return gen"
   ],
   "metadata": {
    "collapsed": false,
    "ExecuteTime": {
     "start_time": "2023-07-11T11:21:42.419469Z",
     "end_time": "2023-07-11T11:21:42.561304Z"
    }
   }
  },
  {
   "cell_type": "code",
   "execution_count": 58,
   "outputs": [],
   "source": [
    "def get_car_image_name(url: str) -> str:\n",
    "    \"\"\"\n",
    "    Function to get unique name for image. All url are unique (as long as pictures are different), so why don't we use that\n",
    "    \"\"\"\n",
    "    name = url.split('/')[-1]\n",
    "    # name = name.split('.')[0]\n",
    "    return name"
   ],
   "metadata": {
    "collapsed": false,
    "ExecuteTime": {
     "start_time": "2023-07-11T11:21:42.433294Z",
     "end_time": "2023-07-11T11:21:42.561304Z"
    }
   }
  },
  {
   "cell_type": "code",
   "execution_count": 59,
   "outputs": [],
   "source": [
    "def remove_slash_and_other_trash(model:str) -> str:\n",
    "    \"\"\"\n",
    "    We don't need lots of nested folders!\n",
    "    \"\"\"\n",
    "    if model:\n",
    "        return model.replace(\"/\", \"_&_\").replace(\":\", \"-\")\n",
    "    else:\n",
    "        return '0'"
   ],
   "metadata": {
    "collapsed": false,
    "ExecuteTime": {
     "start_time": "2023-07-11T11:21:42.447043Z",
     "end_time": "2023-07-11T11:21:42.561304Z"
    }
   }
  },
  {
   "cell_type": "code",
   "execution_count": 60,
   "outputs": [],
   "source": [
    "def parse_xml(xml_files_path: str, save_result_to: str):\n",
    "    \"\"\" Function to parse all XML files in folder and create all folders according to model names\"\"\"\n",
    "    save_result_to += \"/\"\n",
    "    xml_files = os.listdir(xml_files_path)\n",
    "    os.makedirs(save_result_to, exist_ok=True)\n",
    "    data_rows = []\n",
    "    for file_n, file_path in enumerate(xml_files[:]):\n",
    "        with open(xml_files_path + file_path, 'r', encoding='utf-8') as file:\n",
    "            tree = ET.parse(file)\n",
    "        root = tree.getroot()\n",
    "\n",
    "        # Access elements and attributes in the XML file\n",
    "        for n, child in enumerate(root[:]):\n",
    "\n",
    "            data = {}\n",
    "\n",
    "            car = child.find(\"car\").text\n",
    "            if not car or len(car) < 2:\n",
    "                continue\n",
    "            photo_url = child.find(\"photo_url\").text\n",
    "\n",
    "            image_name = get_car_image_name(photo_url)\n",
    "\n",
    "            model = child.find(\"model\").text\n",
    "            model2 = child.find(\"model2\").text\n",
    "\n",
    "\n",
    "\n",
    "            path_tags = [car, model, model2]\n",
    "\n",
    "            for tag_n, tag in enumerate(path_tags[:], start=0):\n",
    "                tag = get_folder_name(tag)\n",
    "                path_tags[tag_n] = remove_slash_and_other_trash(tag)\n",
    "\n",
    "\n",
    "            for tag in TAGS:\n",
    "                if tag != 'image_path':\n",
    "                    data[tag] = child.find(tag).text\n",
    "                else:\n",
    "                    data[tag] = '/'.join(path_tags) + '/' + image_name\n",
    "\n",
    "\n",
    "            data_rows.append(data)\n",
    "\n",
    "\n",
    "\n",
    "# print(f\"File {file_n} is processed successfully.\")\n",
    "\n",
    "    # Create a DataFrame from the collected data\n",
    "    df = pd.DataFrame(data_rows)\n",
    "\n",
    "    # Sort the DataFrame by the first two columns\n",
    "    df.sort_values(by=[TAGS[0], TAGS[1], TAGS[2]], inplace=True)\n",
    "\n",
    "    # Save the sorted data to a CSV file\n",
    "    df.to_csv(save_result_to + 'car_labels_from_XMLs.csv', index=False)\n",
    "    return\n"
   ],
   "metadata": {
    "collapsed": false,
    "ExecuteTime": {
     "start_time": "2023-07-11T11:21:42.462694Z",
     "end_time": "2023-07-11T11:21:42.561304Z"
    }
   }
  },
  {
   "cell_type": "code",
   "execution_count": 61,
   "outputs": [],
   "source": [
    "parse_xml(xml_files_path=\"../50k/\", save_result_to=\"../labels_of_parsed_XML/\")"
   ],
   "metadata": {
    "collapsed": false,
    "ExecuteTime": {
     "start_time": "2023-07-11T11:21:42.467524Z",
     "end_time": "2023-07-11T11:21:47.068621Z"
    }
   }
  },
  {
   "cell_type": "code",
   "execution_count": 62,
   "outputs": [
    {
     "data": {
      "text/plain": "             car   model model2  \\\n0      ABG Titan       0      0   \n1            ABM  Volcan      0   \n2            ABM  Volcan      0   \n3             AC   Cobra      0   \n4             AC   Cobra      0   \n...          ...     ...    ...   \n45314         ČZ  Čezeta      0   \n45315         ČZ  Čezeta      0   \n45316         ČZ  Čezeta      0   \n45317         ČZ  Čezeta      0   \n45318         ČZ  Čezeta      0   \n\n                                               photo_url  \\\n0      https://img03.platesmania.com/230502/o/2145242...   \n1      https://img03.platesmania.com/230226/o/2096495...   \n2      http://img03.platesmania.com/190808/o/13282911...   \n3      https://img03.platesmania.com/230207/o/2084763...   \n4      https://img03.platesmania.com/230313/o/2107214...   \n...                                                  ...   \n45314  https://img03.platesmania.com/230611/o/2178016...   \n45315  https://img03.platesmania.com/230611/o/2178000...   \n45316  https://img03.platesmania.com/230322/o/2113222...   \n45317  http://img03.platesmania.com/210110/o/16002861...   \n45318  http://img03.platesmania.com/210109/o/15998048...   \n\n                      image_path plate_number  \\\n0           ABG/0/0/21452423.jpg    CA-4 8974   \n1      ABM/Volcan/0/20964955.jpg      AB 2884   \n2      ABM/Volcan/0/13282911.jpg      AB 2635   \n3        AC/Cobra/0/20847630.jpg    HH 064455   \n4        AC/Cobra/0/21072141.jpg      BG BM-8   \n...                          ...          ...   \n45314     Z/ezeta/0/21780160.jpg     HO 60-10   \n45315     Z/ezeta/0/21780003.jpg    SO1 38-89   \n45316     Z/ezeta/0/21132223.jpg     CH 00-28   \n45317     Z/ezeta/0/16002861.jpg      TC 2252   \n45318     Z/ezeta/0/15998048.jpg      TB 6623   \n\n                                  plate_number_image_url  plate_id  \\\n0      https://img03.platesmania.com/230502/inf/21452...         7   \n1      https://img03.platesmania.com/230226/inf/20964...         3   \n2      http://img03.platesmania.com/190808/inf/132829...         3   \n3      https://img03.platesmania.com/230207/inf/20847...         8   \n4      https://img03.platesmania.com/230313/inf/21072...         4   \n...                                                  ...       ...   \n45314  https://img03.platesmania.com/230611/inf/21780...         8   \n45315  https://img03.platesmania.com/230611/inf/21780...         8   \n45316  https://img03.platesmania.com/230322/inf/21132...         8   \n45317  http://img03.platesmania.com/210110/inf/160028...         5   \n45318  http://img03.platesmania.com/210109/inf/159980...         5   \n\n                   plate_title               plate_region  \\\n0      Special vehicles (2004)              Grodno Oblast   \n1           Motorcycles (2014)                          0   \n2           Motorcycles (2014)                          0   \n3          Trade plates (06th)  Hanseatic City of Hamburg   \n4                Vanity Plates                   Belgrade   \n...                        ...                        ...   \n45314       Motorcycles (1960)           Hodonín District   \n45315       Motorcycles (1960)           Sokolov District   \n45316       Motorcycles (1960)              Cheb District   \n45317              Motorcycles                          0   \n45318              Motorcycles                          0   \n\n                         tags  fon_id                   fon_title  \\\n0                         NaN       2               Two-row plate   \n1                  motorcycle       2               Two-row plate   \n2                  motorcycle       2               Two-row plate   \n3        cabriolet | oldtimer       2               Two-row plate   \n4        cabriolet | oldtimer       1            Single-row plate   \n...                       ...     ...                         ...   \n45314   oldtimer | motorcycle      10  back (two-row trapezoidal)   \n45315   oldtimer | motorcycle      10  back (two-row trapezoidal)   \n45316              motorcycle       9  back (two-row rectangular)   \n45317   oldtimer | motorcycle       4     Two-row plate with flag   \n45318   oldtimer | motorcycle       4     Two-row plate with flag   \n\n             country                                      link  \n0            belarus  https://platesmania.com/by/nomer21452423  \n1            georgia  https://platesmania.com/ge/nomer20964955  \n2            georgia  https://platesmania.com/ge/nomer13282911  \n3            germany  https://platesmania.com/de/nomer20847630  \n4             serbia  https://platesmania.com/rs/nomer21072141  \n...              ...                                       ...  \n45314  czechrepublic  https://platesmania.com/cz/nomer21780160  \n45315  czechrepublic  https://platesmania.com/cz/nomer21780003  \n45316  czechrepublic  https://platesmania.com/cz/nomer21132223  \n45317         latvia  https://platesmania.com/lv/nomer16002861  \n45318         latvia  https://platesmania.com/lv/nomer15998048  \n\n[45319 rows x 15 columns]",
      "text/html": "<div>\n<style scoped>\n    .dataframe tbody tr th:only-of-type {\n        vertical-align: middle;\n    }\n\n    .dataframe tbody tr th {\n        vertical-align: top;\n    }\n\n    .dataframe thead th {\n        text-align: right;\n    }\n</style>\n<table border=\"1\" class=\"dataframe\">\n  <thead>\n    <tr style=\"text-align: right;\">\n      <th></th>\n      <th>car</th>\n      <th>model</th>\n      <th>model2</th>\n      <th>photo_url</th>\n      <th>image_path</th>\n      <th>plate_number</th>\n      <th>plate_number_image_url</th>\n      <th>plate_id</th>\n      <th>plate_title</th>\n      <th>plate_region</th>\n      <th>tags</th>\n      <th>fon_id</th>\n      <th>fon_title</th>\n      <th>country</th>\n      <th>link</th>\n    </tr>\n  </thead>\n  <tbody>\n    <tr>\n      <th>0</th>\n      <td>ABG Titan</td>\n      <td>0</td>\n      <td>0</td>\n      <td>https://img03.platesmania.com/230502/o/2145242...</td>\n      <td>ABG/0/0/21452423.jpg</td>\n      <td>CA-4 8974</td>\n      <td>https://img03.platesmania.com/230502/inf/21452...</td>\n      <td>7</td>\n      <td>Special vehicles (2004)</td>\n      <td>Grodno Oblast</td>\n      <td>NaN</td>\n      <td>2</td>\n      <td>Two-row plate</td>\n      <td>belarus</td>\n      <td>https://platesmania.com/by/nomer21452423</td>\n    </tr>\n    <tr>\n      <th>1</th>\n      <td>ABM</td>\n      <td>Volcan</td>\n      <td>0</td>\n      <td>https://img03.platesmania.com/230226/o/2096495...</td>\n      <td>ABM/Volcan/0/20964955.jpg</td>\n      <td>AB 2884</td>\n      <td>https://img03.platesmania.com/230226/inf/20964...</td>\n      <td>3</td>\n      <td>Motorcycles (2014)</td>\n      <td>0</td>\n      <td>motorcycle</td>\n      <td>2</td>\n      <td>Two-row plate</td>\n      <td>georgia</td>\n      <td>https://platesmania.com/ge/nomer20964955</td>\n    </tr>\n    <tr>\n      <th>2</th>\n      <td>ABM</td>\n      <td>Volcan</td>\n      <td>0</td>\n      <td>http://img03.platesmania.com/190808/o/13282911...</td>\n      <td>ABM/Volcan/0/13282911.jpg</td>\n      <td>AB 2635</td>\n      <td>http://img03.platesmania.com/190808/inf/132829...</td>\n      <td>3</td>\n      <td>Motorcycles (2014)</td>\n      <td>0</td>\n      <td>motorcycle</td>\n      <td>2</td>\n      <td>Two-row plate</td>\n      <td>georgia</td>\n      <td>https://platesmania.com/ge/nomer13282911</td>\n    </tr>\n    <tr>\n      <th>3</th>\n      <td>AC</td>\n      <td>Cobra</td>\n      <td>0</td>\n      <td>https://img03.platesmania.com/230207/o/2084763...</td>\n      <td>AC/Cobra/0/20847630.jpg</td>\n      <td>HH 064455</td>\n      <td>https://img03.platesmania.com/230207/inf/20847...</td>\n      <td>8</td>\n      <td>Trade plates (06th)</td>\n      <td>Hanseatic City of Hamburg</td>\n      <td>cabriolet | oldtimer</td>\n      <td>2</td>\n      <td>Two-row plate</td>\n      <td>germany</td>\n      <td>https://platesmania.com/de/nomer20847630</td>\n    </tr>\n    <tr>\n      <th>4</th>\n      <td>AC</td>\n      <td>Cobra</td>\n      <td>0</td>\n      <td>https://img03.platesmania.com/230313/o/2107214...</td>\n      <td>AC/Cobra/0/21072141.jpg</td>\n      <td>BG BM-8</td>\n      <td>https://img03.platesmania.com/230313/inf/21072...</td>\n      <td>4</td>\n      <td>Vanity Plates</td>\n      <td>Belgrade</td>\n      <td>cabriolet | oldtimer</td>\n      <td>1</td>\n      <td>Single-row plate</td>\n      <td>serbia</td>\n      <td>https://platesmania.com/rs/nomer21072141</td>\n    </tr>\n    <tr>\n      <th>...</th>\n      <td>...</td>\n      <td>...</td>\n      <td>...</td>\n      <td>...</td>\n      <td>...</td>\n      <td>...</td>\n      <td>...</td>\n      <td>...</td>\n      <td>...</td>\n      <td>...</td>\n      <td>...</td>\n      <td>...</td>\n      <td>...</td>\n      <td>...</td>\n      <td>...</td>\n    </tr>\n    <tr>\n      <th>45314</th>\n      <td>ČZ</td>\n      <td>Čezeta</td>\n      <td>0</td>\n      <td>https://img03.platesmania.com/230611/o/2178016...</td>\n      <td>Z/ezeta/0/21780160.jpg</td>\n      <td>HO 60-10</td>\n      <td>https://img03.platesmania.com/230611/inf/21780...</td>\n      <td>8</td>\n      <td>Motorcycles (1960)</td>\n      <td>Hodonín District</td>\n      <td>oldtimer | motorcycle</td>\n      <td>10</td>\n      <td>back (two-row trapezoidal)</td>\n      <td>czechrepublic</td>\n      <td>https://platesmania.com/cz/nomer21780160</td>\n    </tr>\n    <tr>\n      <th>45315</th>\n      <td>ČZ</td>\n      <td>Čezeta</td>\n      <td>0</td>\n      <td>https://img03.platesmania.com/230611/o/2178000...</td>\n      <td>Z/ezeta/0/21780003.jpg</td>\n      <td>SO1 38-89</td>\n      <td>https://img03.platesmania.com/230611/inf/21780...</td>\n      <td>8</td>\n      <td>Motorcycles (1960)</td>\n      <td>Sokolov District</td>\n      <td>oldtimer | motorcycle</td>\n      <td>10</td>\n      <td>back (two-row trapezoidal)</td>\n      <td>czechrepublic</td>\n      <td>https://platesmania.com/cz/nomer21780003</td>\n    </tr>\n    <tr>\n      <th>45316</th>\n      <td>ČZ</td>\n      <td>Čezeta</td>\n      <td>0</td>\n      <td>https://img03.platesmania.com/230322/o/2113222...</td>\n      <td>Z/ezeta/0/21132223.jpg</td>\n      <td>CH 00-28</td>\n      <td>https://img03.platesmania.com/230322/inf/21132...</td>\n      <td>8</td>\n      <td>Motorcycles (1960)</td>\n      <td>Cheb District</td>\n      <td>motorcycle</td>\n      <td>9</td>\n      <td>back (two-row rectangular)</td>\n      <td>czechrepublic</td>\n      <td>https://platesmania.com/cz/nomer21132223</td>\n    </tr>\n    <tr>\n      <th>45317</th>\n      <td>ČZ</td>\n      <td>Čezeta</td>\n      <td>0</td>\n      <td>http://img03.platesmania.com/210110/o/16002861...</td>\n      <td>Z/ezeta/0/16002861.jpg</td>\n      <td>TC 2252</td>\n      <td>http://img03.platesmania.com/210110/inf/160028...</td>\n      <td>5</td>\n      <td>Motorcycles</td>\n      <td>0</td>\n      <td>oldtimer | motorcycle</td>\n      <td>4</td>\n      <td>Two-row plate with flag</td>\n      <td>latvia</td>\n      <td>https://platesmania.com/lv/nomer16002861</td>\n    </tr>\n    <tr>\n      <th>45318</th>\n      <td>ČZ</td>\n      <td>Čezeta</td>\n      <td>0</td>\n      <td>http://img03.platesmania.com/210109/o/15998048...</td>\n      <td>Z/ezeta/0/15998048.jpg</td>\n      <td>TB 6623</td>\n      <td>http://img03.platesmania.com/210109/inf/159980...</td>\n      <td>5</td>\n      <td>Motorcycles</td>\n      <td>0</td>\n      <td>oldtimer | motorcycle</td>\n      <td>4</td>\n      <td>Two-row plate with flag</td>\n      <td>latvia</td>\n      <td>https://platesmania.com/lv/nomer15998048</td>\n    </tr>\n  </tbody>\n</table>\n<p>45319 rows × 15 columns</p>\n</div>"
     },
     "execution_count": 62,
     "metadata": {},
     "output_type": "execute_result"
    }
   ],
   "source": [
    "pd.read_csv(\"../labels_of_parsed_XML/car_labels_from_XMLs.csv\", na_values=' ')"
   ],
   "metadata": {
    "collapsed": false,
    "ExecuteTime": {
     "start_time": "2023-07-11T11:21:47.079173Z",
     "end_time": "2023-07-11T11:21:47.583272Z"
    }
   }
  },
  {
   "cell_type": "code",
   "execution_count": 62,
   "outputs": [],
   "source": [],
   "metadata": {
    "collapsed": false,
    "ExecuteTime": {
     "start_time": "2023-07-11T11:21:47.590472Z",
     "end_time": "2023-07-11T11:21:47.590998Z"
    }
   }
  }
 ],
 "metadata": {
  "kernelspec": {
   "display_name": "Python 3",
   "language": "python",
   "name": "python3"
  },
  "language_info": {
   "codemirror_mode": {
    "name": "ipython",
    "version": 2
   },
   "file_extension": ".py",
   "mimetype": "text/x-python",
   "name": "python",
   "nbconvert_exporter": "python",
   "pygments_lexer": "ipython2",
   "version": "2.7.6"
  }
 },
 "nbformat": 4,
 "nbformat_minor": 0
}
