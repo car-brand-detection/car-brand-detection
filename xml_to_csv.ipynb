{
 "cells": [
  {
   "cell_type": "code",
   "execution_count": 6,
   "metadata": {},
   "outputs": [],
   "source": [
    "import os\n",
    "import xml.etree.ElementTree as xml\n",
    "import pandas as pd\n",
    "\n",
    "#set your own path for folder with XML files\n",
    "path = 'your path'\n",
    "os.chdir(path)"
   ]
  },
  {
   "cell_type": "code",
   "execution_count": 7,
   "metadata": {},
   "outputs": [],
   "source": [
    "import xml.etree.ElementTree as xml\n",
    "import os\n",
    "\n",
    "def check_xml():\n",
    "    list_xml = os.listdir(path='.')\n",
    "    for file_ in list_xml:\n",
    "        try:\n",
    "            check_all_xml = xml.parse(file_)\n",
    "        except xml.ParseError:\n",
    "            list_xml.remove(file_)\n",
    "            print(f'В папке находился не XML файл и он был удален из списка XML файлов, {file_}')\n",
    "    return list_xml"
   ]
  },
  {
   "cell_type": "code",
   "execution_count": null,
   "metadata": {},
   "outputs": [],
   "source": [
    "def collect_headers(file_path):\n",
    "    with open(file_path, 'r', encoding='utf-8') as file:\n",
    "        tree = xml.parse(file)\n",
    "    root = tree.getroot()\n",
    "    cols = set()\n",
    "    for child in root:\n",
    "        for subchild in child:\n",
    "            cols.add(subchild.tag)\n",
    "        return cols"
   ]
  },
  {
   "cell_type": "code",
   "execution_count": null,
   "metadata": {},
   "outputs": [],
   "source": [
    "def convert_xml_to_csv():\n",
    "    list_xml = check_xml()\n",
    "\n",
    "    cols = ['plate_id', 'country', 'plate_number', 'car', 'photo_url',\n",
    "                'fon_title', 'model', 'plate_title', 'plate_number_image_url',\n",
    "                'model2', 'tags', 'plate_region', 'link', 'fon_id']\n",
    "    rows = []\n",
    "\n",
    "    for file_ in list_xml:\n",
    "        xmlparse = xml.parse(file_)\n",
    "        root = xmlparse.getroot()\n",
    "        for i in root:\n",
    "            data = {}\n",
    "            for tag in cols:\n",
    "                data[tag] = i.find(tag).text\n",
    "\n",
    "            rows.append(data)\n",
    "    return rows, cols\n",
    "\n",
    "rows, cols = convert_xml_to_csv()\n",
    "df = pd.DataFrame(rows, columns=cols)\n",
    "df.to_csv('output.csv')"
   ]
  }
 ],
 "metadata": {
  "kernelspec": {
   "display_name": "venv",
   "language": "python",
   "name": "python3"
  },
  "language_info": {
   "codemirror_mode": {
    "name": "ipython",
    "version": 3
   },
   "file_extension": ".py",
   "mimetype": "text/x-python",
   "name": "python",
   "nbconvert_exporter": "python",
   "pygments_lexer": "ipython3",
   "version": "3.11.3"
  },
  "orig_nbformat": 4
 },
 "nbformat": 4,
 "nbformat_minor": 2
}
