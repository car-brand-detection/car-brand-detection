{
 "cells": [
  {
   "cell_type": "code",
   "execution_count": 2,
   "outputs": [],
   "source": [
    "# !pip install python-dotenv"
   ],
   "metadata": {
    "collapsed": false,
    "ExecuteTime": {
     "start_time": "2023-06-29T09:57:37.074723Z",
     "end_time": "2023-06-29T09:57:37.184098Z"
    }
   }
  },
  {
   "cell_type": "code",
   "execution_count": 3,
   "outputs": [],
   "source": [
    "import os\n",
    "import time\n",
    "import requests\n",
    "from dotenv import load_dotenv\n",
    "import pandas as pd"
   ],
   "metadata": {
    "collapsed": false,
    "ExecuteTime": {
     "start_time": "2023-06-29T09:57:37.090356Z",
     "end_time": "2023-06-29T09:57:38.940845Z"
    }
   }
  },
  {
   "cell_type": "code",
   "execution_count": 4,
   "outputs": [
    {
     "data": {
      "text/plain": "True"
     },
     "execution_count": 4,
     "metadata": {},
     "output_type": "execute_result"
    }
   ],
   "source": [
    "load_dotenv()"
   ],
   "metadata": {
    "collapsed": false,
    "ExecuteTime": {
     "start_time": "2023-06-29T09:57:38.940845Z",
     "end_time": "2023-06-29T09:57:38.960151Z"
    }
   }
  },
  {
   "cell_type": "code",
   "execution_count": 5,
   "outputs": [],
   "source": [
    "data_images_path = \"data/images/\"\n",
    "labels_to_download = \"data/labels/\" + \"models_missed_in_datasets.csv\""
   ],
   "metadata": {
    "collapsed": false,
    "ExecuteTime": {
     "start_time": "2023-06-29T09:57:38.968471Z",
     "end_time": "2023-06-29T09:57:38.968471Z"
    }
   }
  },
  {
   "cell_type": "code",
   "execution_count": 6,
   "outputs": [],
   "source": [
    "# Set the API key and Custom Search Engine ID\n",
    "GOOGLE_API_KEY = os.getenv(\"GOOGLE_API_KEY\")\n",
    "CX_ID = os.getenv(\"CX_ID\")"
   ],
   "metadata": {
    "collapsed": false,
    "ExecuteTime": {
     "start_time": "2023-06-29T09:57:38.968471Z",
     "end_time": "2023-06-29T09:57:39.040554Z"
    }
   }
  },
  {
   "cell_type": "code",
   "execution_count": 7,
   "outputs": [],
   "source": [
    "def download_images_for_a_query(url, query, count=0):\n",
    "    url = url.format(q=query, start=count+1)\n",
    "\n",
    "    pieces = query.split()\n",
    "\n",
    "    make = pieces[0]\n",
    "    model = '_'.join(pieces[1:])\n",
    "\n",
    "    query = query.replace(' ', '_')\n",
    "    try:\n",
    "\n",
    "        response = requests.get(url, timeout=30)\n",
    "        if response.status_code == 429:  # API access limit is reached, we have to wait\n",
    "            return 0  # Skip\n",
    "        elif response.status_code != 200:\n",
    "            return 0\n",
    "        data = response.json()\n",
    "        if 'items' not in data:\n",
    "            return None\n",
    "\n",
    "        folder_path = data_images_path + make + '/' + model  + \"/\"\n",
    "        os.makedirs(folder_path, exist_ok=True)\n",
    "\n",
    "        items = data['items']\n",
    "        while items:\n",
    "\n",
    "            item = items.pop()\n",
    "            image_url = item['link']\n",
    "            response = requests.get(image_url, timeout=10)\n",
    "            if response.status_code == 429:  # API access limit is reached, we have to wait\n",
    "                return 0  # Skip\n",
    "            elif response.status_code != 200:  # Most probably 403 - Forbidden user, no access\n",
    "                continue  # Skip\n",
    "\n",
    "            count += 1\n",
    "\n",
    "            with open(f\"{folder_path}{query}_{count:05d}.jpg\", \"wb\") as file:\n",
    "                file.write(response.content)\n",
    "    except requests.exceptions.Timeout:\n",
    "        print(\"Timeout reached\")\n",
    "    except Exception as e:\n",
    "        print(\"Exception: \", e)\n",
    "    finally:\n",
    "\n",
    "        return count  # Amount of downloaded images"
   ],
   "metadata": {
    "collapsed": false,
    "ExecuteTime": {
     "start_time": "2023-06-29T09:57:39.000684Z",
     "end_time": "2023-06-29T09:57:39.046929Z"
    }
   }
  },
  {
   "cell_type": "code",
   "execution_count": 8,
   "outputs": [
    {
     "data": {
      "text/plain": "     models\n0  AUDI 100\n1   AUDI 80",
      "text/html": "<div>\n<style scoped>\n    .dataframe tbody tr th:only-of-type {\n        vertical-align: middle;\n    }\n\n    .dataframe tbody tr th {\n        vertical-align: top;\n    }\n\n    .dataframe thead th {\n        text-align: right;\n    }\n</style>\n<table border=\"1\" class=\"dataframe\">\n  <thead>\n    <tr style=\"text-align: right;\">\n      <th></th>\n      <th>models</th>\n    </tr>\n  </thead>\n  <tbody>\n    <tr>\n      <th>0</th>\n      <td>AUDI 100</td>\n    </tr>\n    <tr>\n      <th>1</th>\n      <td>AUDI 80</td>\n    </tr>\n  </tbody>\n</table>\n</div>"
     },
     "execution_count": 8,
     "metadata": {},
     "output_type": "execute_result"
    }
   ],
   "source": [
    "labels = pd.read_csv(labels_to_download)\n",
    "labels.head(2)"
   ],
   "metadata": {
    "collapsed": false,
    "ExecuteTime": {
     "start_time": "2023-06-29T09:57:39.009283Z",
     "end_time": "2023-06-29T09:57:39.072889Z"
    }
   }
  },
  {
   "cell_type": "code",
   "execution_count": 9,
   "outputs": [],
   "source": [
    "AMOUNT_OF_IMAGES = 50"
   ],
   "metadata": {
    "collapsed": false,
    "ExecuteTime": {
     "start_time": "2023-06-29T09:57:39.055398Z",
     "end_time": "2023-06-29T09:57:39.072889Z"
    }
   }
  },
  {
   "cell_type": "code",
   "execution_count": 10,
   "outputs": [],
   "source": [
    "URL = (\n",
    "        f\"https://www.googleapis.com/customsearch/v1?key={GOOGLE_API_KEY}&cx={CX_ID}&q=\"+\"{q}&start={start}&num=10&searchType=image\"\n",
    ")"
   ],
   "metadata": {
    "collapsed": false,
    "ExecuteTime": {
     "start_time": "2023-06-29T09:57:39.072374Z",
     "end_time": "2023-06-29T09:57:39.099372Z"
    }
   }
  },
  {
   "cell_type": "code",
   "execution_count": 11,
   "outputs": [],
   "source": [
    "def download_missing_data(labels, continue_with=1):\n",
    "    for row, label in enumerate(labels[continue_with:], start=continue_with):\n",
    "        count_of_downloaded = 0\n",
    "        while count_of_downloaded < AMOUNT_OF_IMAGES:\n",
    "            downloaded = download_images_for_a_query(url=URL, query=label, count=count_of_downloaded)\n",
    "            if downloaded > 0:\n",
    "                count_of_downloaded = downloaded\n",
    "            else:\n",
    "                return f\"STOPPED DUE TO REACHED LIMITS AT LABEL: {row}\"\n",
    "        print(f\"{count_of_downloaded} of {label} car are downloaded. Label number is {row}\")\n",
    "        time.sleep(10)"
   ],
   "metadata": {
    "collapsed": false,
    "ExecuteTime": {
     "start_time": "2023-06-29T09:57:39.072889Z",
     "end_time": "2023-06-29T09:57:39.099372Z"
    }
   }
  },
  {
   "cell_type": "code",
   "execution_count": 12,
   "outputs": [
    {
     "name": "stdout",
     "output_type": "stream",
     "text": [
      "58 of CHERY TIGGO T11 car are downloaded. Label number is 20\n",
      "Timeout reached\n",
      "Timeout reached\n",
      "Timeout reached\n",
      "Timeout reached\n",
      "Timeout reached\n",
      "Timeout reached\n",
      "Timeout reached\n",
      "Timeout reached\n",
      "Timeout reached\n",
      "52 of CHEVROLET AVEO car are downloaded. Label number is 21\n",
      "Timeout reached\n",
      "Timeout reached\n",
      "50 of CHEVROLET CAPRICE car are downloaded. Label number is 22\n",
      "Timeout reached\n",
      "Timeout reached\n",
      "Timeout reached\n",
      "54 of CHEVROLET LACETTI car are downloaded. Label number is 23\n",
      "54 of CHEVROLET LANOS car are downloaded. Label number is 24\n",
      "Exception:  HTTPSConnectionPool(host='www.freshnessmag.com', port=443): Max retries exceeded with url: /.image/t_share/MTM1OTkxNjAzNzE3NDAyNTk0/chevy-niva-concept-01.jpg (Caused by SSLError(CertificateError(\"hostname 'www.freshnessmag.com' doesn't match either of 'www.saydaily.com', 'airows.com', 'artsandcraftshomes.com', 'axleaddict.com', 'beautyeditor.ca', 'bestpethomeremedies.com', 'cupcakesandcashmere.com', 'daytimeconfidential.com', 'delishably.com', 'dengarden.com', 'discover.hubpages.com', 'dogdiscoveries.com', 'dogshealthproblems.com', 'dogsupsetstomach.com', 'exemplore.com', 'fashionista.com', 'feltmagnet.com', 'getoutdoorstv.com', 'healthproadvice.com', 'hobbylark.com', 'holidappy.com', 'hubpageshelp.com', 'imabeautygeek.com', 'levelskip.com', 'meninblazers.com', 'news.cancerconnect.com', 'ostomyconnection.com', 'owlcation.com', 'pairedlife.com', 'patientslounge.com', 'patriotscountry.com', 'pethelpful.com', 'psmag.com', 'reelrundown.com', 'skyaboveus.com', 'spinditty.com', 'sportscollectorsdigest.com', 'thedailybanter.com', 'thefoldmag.com', 'toughnickel.com', 'trailridermag.com', 'turbofuture.com', 'verilymag.com', 'wanderwisdom.com', 'wehavekids.com', 'whelpingpuppies.com', 'whydodogs.com', 'www.acquiremag.com', 'www.anglersjournal.com', 'www.daniamarinefleamarket.com', 'www.fitedm.com', 'www.goldminemag.com', 'www.hortmag.com', 'www.joyofkosher.com', 'www.magneticmag.com', 'www.passagemaker.com', 'www.period-homes.com', 'www.powerandmotoryacht.com', 'www.sailmagazine.com', 'www.soundingsonline.com', 'www.sportscollectorsdigest.com', 'www.tradeonlytoday.com', 'www.traditionalbuilding.com', 'www.traditionalbuildingshow.com', 'www.woodshopnews.com', 'www.yachtsinternational.com', 'footballscoop.com', 'insidethehawkeyes.com', '*.saydaily.com', 'thn.com', 'missworld.com', 'www.missworld.com', 'hollywoodprogressive.com', 'www.hollywoodprogressive.com', 'goodsport.me', 'www.goodsport.me', 'autoracingdigest.com', 'www.autoracingdigest.com', 'blockleaders.io', 'www.blockleaders.io', 'laprogressive.com', 'www.laprogressive.com', 'kim.theindependent.io', 'thefreethoughtproject.com', 'www.thefreethoughtproject.com', 'talkoffametwo.com', 'www.talkoffametwo.com', 'mens.fitness', 'mensjournal.biz', 'mensjournal.tv', 'newschoolers.tv', 'transworld.tv', 'twsnow.tv', 'www.mens.fitness', 'www.mensjournal.biz', 'www.mensjournal.tv', 'www.newschoolers.tv', 'www.transworld.tv', 'www.twsnow.tv'\")))\n",
      "Exception:  HTTPSConnectionPool(host='www.freshnessmag.com', port=443): Max retries exceeded with url: /.image/t_share/MTM1OTkxNjAzNzE3NDAyNTk0/chevy-niva-concept-01.jpg (Caused by SSLError(CertificateError(\"hostname 'www.freshnessmag.com' doesn't match either of 'www.saydaily.com', 'airows.com', 'artsandcraftshomes.com', 'axleaddict.com', 'beautyeditor.ca', 'bestpethomeremedies.com', 'cupcakesandcashmere.com', 'daytimeconfidential.com', 'delishably.com', 'dengarden.com', 'discover.hubpages.com', 'dogdiscoveries.com', 'dogshealthproblems.com', 'dogsupsetstomach.com', 'exemplore.com', 'fashionista.com', 'feltmagnet.com', 'getoutdoorstv.com', 'healthproadvice.com', 'hobbylark.com', 'holidappy.com', 'hubpageshelp.com', 'imabeautygeek.com', 'levelskip.com', 'meninblazers.com', 'news.cancerconnect.com', 'ostomyconnection.com', 'owlcation.com', 'pairedlife.com', 'patientslounge.com', 'patriotscountry.com', 'pethelpful.com', 'psmag.com', 'reelrundown.com', 'skyaboveus.com', 'spinditty.com', 'sportscollectorsdigest.com', 'thedailybanter.com', 'thefoldmag.com', 'toughnickel.com', 'trailridermag.com', 'turbofuture.com', 'verilymag.com', 'wanderwisdom.com', 'wehavekids.com', 'whelpingpuppies.com', 'whydodogs.com', 'www.acquiremag.com', 'www.anglersjournal.com', 'www.daniamarinefleamarket.com', 'www.fitedm.com', 'www.goldminemag.com', 'www.hortmag.com', 'www.joyofkosher.com', 'www.magneticmag.com', 'www.passagemaker.com', 'www.period-homes.com', 'www.powerandmotoryacht.com', 'www.sailmagazine.com', 'www.soundingsonline.com', 'www.sportscollectorsdigest.com', 'www.tradeonlytoday.com', 'www.traditionalbuilding.com', 'www.traditionalbuildingshow.com', 'www.woodshopnews.com', 'www.yachtsinternational.com', 'footballscoop.com', 'insidethehawkeyes.com', '*.saydaily.com', 'thn.com', 'missworld.com', 'www.missworld.com', 'hollywoodprogressive.com', 'www.hollywoodprogressive.com', 'goodsport.me', 'www.goodsport.me', 'autoracingdigest.com', 'www.autoracingdigest.com', 'blockleaders.io', 'www.blockleaders.io', 'laprogressive.com', 'www.laprogressive.com', 'kim.theindependent.io', 'thefreethoughtproject.com', 'www.thefreethoughtproject.com', 'talkoffametwo.com', 'www.talkoffametwo.com', 'mens.fitness', 'mensjournal.biz', 'mensjournal.tv', 'newschoolers.tv', 'transworld.tv', 'twsnow.tv', 'www.mens.fitness', 'www.mensjournal.biz', 'www.mensjournal.tv', 'www.newschoolers.tv', 'www.transworld.tv', 'www.twsnow.tv'\")))\n",
      "54 of CHEVROLET NIVA car are downloaded. Label number is 25\n"
     ]
    },
    {
     "ename": "KeyboardInterrupt",
     "evalue": "",
     "output_type": "error",
     "traceback": [
      "\u001B[1;31m---------------------------------------------------------------------------\u001B[0m",
      "\u001B[1;31mKeyboardInterrupt\u001B[0m                         Traceback (most recent call last)",
      "Cell \u001B[1;32mIn[12], line 1\u001B[0m\n\u001B[1;32m----> 1\u001B[0m \u001B[43mdownload_missing_data\u001B[49m\u001B[43m(\u001B[49m\u001B[43mlabels\u001B[49m\u001B[43m[\u001B[49m\u001B[38;5;124;43m'\u001B[39;49m\u001B[38;5;124;43mmodels\u001B[39;49m\u001B[38;5;124;43m'\u001B[39;49m\u001B[43m]\u001B[49m\u001B[43m,\u001B[49m\u001B[43m \u001B[49m\u001B[43mcontinue_with\u001B[49m\u001B[38;5;241;43m=\u001B[39;49m\u001B[38;5;241;43m20\u001B[39;49m\u001B[43m)\u001B[49m\n",
      "Cell \u001B[1;32mIn[11], line 11\u001B[0m, in \u001B[0;36mdownload_missing_data\u001B[1;34m(labels, continue_with)\u001B[0m\n\u001B[0;32m      9\u001B[0m         \u001B[38;5;28;01mreturn\u001B[39;00m \u001B[38;5;124mf\u001B[39m\u001B[38;5;124m\"\u001B[39m\u001B[38;5;124mSTOPPED DUE TO REACHED LIMITS AT LABEL: \u001B[39m\u001B[38;5;132;01m{\u001B[39;00mrow\u001B[38;5;132;01m}\u001B[39;00m\u001B[38;5;124m\"\u001B[39m\n\u001B[0;32m     10\u001B[0m \u001B[38;5;28mprint\u001B[39m(\u001B[38;5;124mf\u001B[39m\u001B[38;5;124m\"\u001B[39m\u001B[38;5;132;01m{\u001B[39;00mcount_of_downloaded\u001B[38;5;132;01m}\u001B[39;00m\u001B[38;5;124m of \u001B[39m\u001B[38;5;132;01m{\u001B[39;00mlabel\u001B[38;5;132;01m}\u001B[39;00m\u001B[38;5;124m car are downloaded. Label number is \u001B[39m\u001B[38;5;132;01m{\u001B[39;00mrow\u001B[38;5;132;01m}\u001B[39;00m\u001B[38;5;124m\"\u001B[39m)\n\u001B[1;32m---> 11\u001B[0m \u001B[43mtime\u001B[49m\u001B[38;5;241;43m.\u001B[39;49m\u001B[43msleep\u001B[49m\u001B[43m(\u001B[49m\u001B[38;5;241;43m10\u001B[39;49m\u001B[43m)\u001B[49m\n",
      "\u001B[1;31mKeyboardInterrupt\u001B[0m: "
     ]
    }
   ],
   "source": [
    "download_missing_data(labels['models'], continue_with=25)\n"
   ],
   "metadata": {
    "collapsed": false,
    "ExecuteTime": {
     "start_time": "2023-06-28T17:39:59.702548Z",
     "end_time": "2023-06-28T17:41:30.552974Z"
    }
   }
  },
  {
   "cell_type": "markdown",
   "source": [
    "СКАЧАНО: 9+4 = 21"
   ],
   "metadata": {
    "collapsed": false
   }
  },
  {
   "cell_type": "code",
   "execution_count": null,
   "outputs": [],
   "source": [],
   "metadata": {
    "collapsed": false,
    "ExecuteTime": {
     "start_time": "2023-06-28T17:41:30.560836Z",
     "end_time": "2023-06-28T17:41:30.560836Z"
    }
   }
  }
 ],
 "metadata": {
  "kernelspec": {
   "display_name": "Python 3",
   "language": "python",
   "name": "python3"
  },
  "language_info": {
   "codemirror_mode": {
    "name": "ipython",
    "version": 2
   },
   "file_extension": ".py",
   "mimetype": "text/x-python",
   "name": "python",
   "nbconvert_exporter": "python",
   "pygments_lexer": "ipython2",
   "version": "2.7.6"
  }
 },
 "nbformat": 4,
 "nbformat_minor": 0
}
