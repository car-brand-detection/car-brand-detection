{
 "cells": [
  {
   "cell_type": "code",
   "execution_count": 1,
   "outputs": [],
   "source": [
    "# !pip install python-dotenv"
   ],
   "metadata": {
    "collapsed": false,
    "ExecuteTime": {
     "start_time": "2023-06-28T15:08:16.795880Z",
     "end_time": "2023-06-28T15:08:16.795880Z"
    }
   }
  },
  {
   "cell_type": "code",
   "execution_count": 2,
   "outputs": [],
   "source": [
    "import os\n",
    "import requests\n",
    "from dotenv import load_dotenv\n",
    "import pandas as pd"
   ],
   "metadata": {
    "collapsed": false,
    "ExecuteTime": {
     "start_time": "2023-06-28T15:08:16.795880Z",
     "end_time": "2023-06-28T15:08:18.202328Z"
    }
   }
  },
  {
   "cell_type": "code",
   "execution_count": 3,
   "outputs": [
    {
     "data": {
      "text/plain": "True"
     },
     "execution_count": 3,
     "metadata": {},
     "output_type": "execute_result"
    }
   ],
   "source": [
    "load_dotenv()"
   ],
   "metadata": {
    "collapsed": false,
    "ExecuteTime": {
     "start_time": "2023-06-28T15:08:18.202328Z",
     "end_time": "2023-06-28T15:08:18.226930Z"
    }
   }
  },
  {
   "cell_type": "code",
   "execution_count": 4,
   "outputs": [],
   "source": [
    "data_images_path = \"data/images/\"\n",
    "labels_to_download = \"data/labels/\" + \"models_missed_in_datasets.csv\""
   ],
   "metadata": {
    "collapsed": false,
    "ExecuteTime": {
     "start_time": "2023-06-28T15:08:18.238891Z",
     "end_time": "2023-06-28T15:08:18.324889Z"
    }
   }
  },
  {
   "cell_type": "code",
   "execution_count": 5,
   "outputs": [],
   "source": [
    "# Set the API key and Custom Search Engine ID\n",
    "GOOGLE_API_KEY = os.getenv(\"GOOGLE_API_KEY\")\n",
    "CX_ID = os.getenv(\"CX_ID\")"
   ],
   "metadata": {
    "collapsed": false,
    "ExecuteTime": {
     "start_time": "2023-06-28T15:08:18.238891Z",
     "end_time": "2023-06-28T15:08:18.341056Z"
    }
   }
  },
  {
   "cell_type": "code",
   "execution_count": 6,
   "outputs": [],
   "source": [
    "def download_images_for_a_query(url, query, count=0):\n",
    "    url = url.format(q=query, start=count+1)\n",
    "\n",
    "    query = query.replace(' ', '_')\n",
    "    make, model = query.split('_')\n",
    "    print(make, model)\n",
    "\n",
    "    response = requests.get(url)\n",
    "    data = response.json()\n",
    "    if 'items' not in data:\n",
    "        return None\n",
    "\n",
    "    folder_path = data_images_path + query + \"/\"\n",
    "    os.makedirs(folder_path, exist_ok=True)\n",
    "\n",
    "    items = data['items']\n",
    "    while items:\n",
    "        count += 1\n",
    "        item = items.pop()\n",
    "        image_url = item['link']\n",
    "        response = requests.get(image_url)\n",
    "\n",
    "\n",
    "        with open(f\"{folder_path}{query}_{count:05d}.jpg\", \"wb\") as file:\n",
    "            file.write(response.content)\n",
    "\n",
    "            # print(f\"Image {count} downloaded.\")\n",
    "\n",
    "    return count  # Amount of downloaded images"
   ],
   "metadata": {
    "collapsed": false,
    "ExecuteTime": {
     "start_time": "2023-06-28T15:08:18.250499Z",
     "end_time": "2023-06-28T15:08:18.341056Z"
    }
   }
  },
  {
   "cell_type": "code",
   "execution_count": 7,
   "outputs": [
    {
     "data": {
      "text/plain": "     models\n0  AUDI 100\n1   AUDI 80",
      "text/html": "<div>\n<style scoped>\n    .dataframe tbody tr th:only-of-type {\n        vertical-align: middle;\n    }\n\n    .dataframe tbody tr th {\n        vertical-align: top;\n    }\n\n    .dataframe thead th {\n        text-align: right;\n    }\n</style>\n<table border=\"1\" class=\"dataframe\">\n  <thead>\n    <tr style=\"text-align: right;\">\n      <th></th>\n      <th>models</th>\n    </tr>\n  </thead>\n  <tbody>\n    <tr>\n      <th>0</th>\n      <td>AUDI 100</td>\n    </tr>\n    <tr>\n      <th>1</th>\n      <td>AUDI 80</td>\n    </tr>\n  </tbody>\n</table>\n</div>"
     },
     "execution_count": 7,
     "metadata": {},
     "output_type": "execute_result"
    }
   ],
   "source": [
    "labels = pd.read_csv(labels_to_download)\n",
    "labels.head(2)"
   ],
   "metadata": {
    "collapsed": false,
    "ExecuteTime": {
     "start_time": "2023-06-28T15:08:18.265900Z",
     "end_time": "2023-06-28T15:08:18.341056Z"
    }
   }
  },
  {
   "cell_type": "code",
   "execution_count": 8,
   "outputs": [],
   "source": [
    "AMOUNT_OF_IMAGES = 50"
   ],
   "metadata": {
    "collapsed": false,
    "ExecuteTime": {
     "start_time": "2023-06-28T15:08:18.296059Z",
     "end_time": "2023-06-28T15:08:18.341056Z"
    }
   }
  },
  {
   "cell_type": "code",
   "execution_count": 9,
   "outputs": [],
   "source": [
    "URL = (\n",
    "        f\"https://www.googleapis.com/customsearch/v1?key={GOOGLE_API_KEY}&cx={CX_ID}&q=\"+\"{q}&start={start}&num=10&searchType=image\"\n",
    ")"
   ],
   "metadata": {
    "collapsed": false,
    "ExecuteTime": {
     "start_time": "2023-06-28T15:08:18.304092Z",
     "end_time": "2023-06-28T15:08:18.341056Z"
    }
   }
  },
  {
   "cell_type": "code",
   "execution_count": 10,
   "outputs": [],
   "source": [
    "def download_missing_data(labels):\n",
    "    for label in labels[5:7]:\n",
    "        count_of_downloaded = 0\n",
    "        while count_of_downloaded < 15:\n",
    "            count_of_downloaded = download_images_for_a_query(url=URL, query=label, count=count_of_downloaded)\n",
    "        print(f\"{count_of_downloaded} of {label} car are downloaded.\")\n"
   ],
   "metadata": {
    "collapsed": false,
    "ExecuteTime": {
     "start_time": "2023-06-28T15:08:18.313872Z",
     "end_time": "2023-06-28T15:08:18.341056Z"
    }
   }
  },
  {
   "cell_type": "code",
   "execution_count": 11,
   "outputs": [
    {
     "name": "stdout",
     "output_type": "stream",
     "text": [
      "BAW FENIX\n",
      "BAW FENIX\n",
      "20 of BAW FENIX car are downloaded.\n"
     ]
    },
    {
     "ename": "ValueError",
     "evalue": "too many values to unpack (expected 2)",
     "output_type": "error",
     "traceback": [
      "\u001B[1;31m---------------------------------------------------------------------------\u001B[0m",
      "\u001B[1;31mValueError\u001B[0m                                Traceback (most recent call last)",
      "Cell \u001B[1;32mIn[11], line 1\u001B[0m\n\u001B[1;32m----> 1\u001B[0m \u001B[43mdownload_missing_data\u001B[49m\u001B[43m(\u001B[49m\u001B[43mlabels\u001B[49m\u001B[43m[\u001B[49m\u001B[38;5;124;43m'\u001B[39;49m\u001B[38;5;124;43mmodels\u001B[39;49m\u001B[38;5;124;43m'\u001B[39;49m\u001B[43m]\u001B[49m\u001B[43m)\u001B[49m\n",
      "Cell \u001B[1;32mIn[10], line 5\u001B[0m, in \u001B[0;36mdownload_missing_data\u001B[1;34m(labels)\u001B[0m\n\u001B[0;32m      3\u001B[0m count_of_downloaded \u001B[38;5;241m=\u001B[39m \u001B[38;5;241m0\u001B[39m\n\u001B[0;32m      4\u001B[0m \u001B[38;5;28;01mwhile\u001B[39;00m count_of_downloaded \u001B[38;5;241m<\u001B[39m \u001B[38;5;241m15\u001B[39m:\n\u001B[1;32m----> 5\u001B[0m     count_of_downloaded \u001B[38;5;241m=\u001B[39m \u001B[43mdownload_images_for_a_query\u001B[49m\u001B[43m(\u001B[49m\u001B[43murl\u001B[49m\u001B[38;5;241;43m=\u001B[39;49m\u001B[43mURL\u001B[49m\u001B[43m,\u001B[49m\u001B[43m \u001B[49m\u001B[43mquery\u001B[49m\u001B[38;5;241;43m=\u001B[39;49m\u001B[43mlabel\u001B[49m\u001B[43m,\u001B[49m\u001B[43m \u001B[49m\u001B[43mcount\u001B[49m\u001B[38;5;241;43m=\u001B[39;49m\u001B[43mcount_of_downloaded\u001B[49m\u001B[43m)\u001B[49m\n\u001B[0;32m      6\u001B[0m \u001B[38;5;28mprint\u001B[39m(\u001B[38;5;124mf\u001B[39m\u001B[38;5;124m\"\u001B[39m\u001B[38;5;132;01m{\u001B[39;00mcount_of_downloaded\u001B[38;5;132;01m}\u001B[39;00m\u001B[38;5;124m of \u001B[39m\u001B[38;5;132;01m{\u001B[39;00mlabel\u001B[38;5;132;01m}\u001B[39;00m\u001B[38;5;124m car are downloaded.\u001B[39m\u001B[38;5;124m\"\u001B[39m)\n",
      "Cell \u001B[1;32mIn[6], line 5\u001B[0m, in \u001B[0;36mdownload_images_for_a_query\u001B[1;34m(url, query, count)\u001B[0m\n\u001B[0;32m      2\u001B[0m url \u001B[38;5;241m=\u001B[39m url\u001B[38;5;241m.\u001B[39mformat(q\u001B[38;5;241m=\u001B[39mquery, start\u001B[38;5;241m=\u001B[39mcount\u001B[38;5;241m+\u001B[39m\u001B[38;5;241m1\u001B[39m)\n\u001B[0;32m      4\u001B[0m query \u001B[38;5;241m=\u001B[39m query\u001B[38;5;241m.\u001B[39mreplace(\u001B[38;5;124m'\u001B[39m\u001B[38;5;124m \u001B[39m\u001B[38;5;124m'\u001B[39m, \u001B[38;5;124m'\u001B[39m\u001B[38;5;124m_\u001B[39m\u001B[38;5;124m'\u001B[39m)\n\u001B[1;32m----> 5\u001B[0m make, model \u001B[38;5;241m=\u001B[39m query\u001B[38;5;241m.\u001B[39msplit(\u001B[38;5;124m'\u001B[39m\u001B[38;5;124m_\u001B[39m\u001B[38;5;124m'\u001B[39m)\n\u001B[0;32m      6\u001B[0m \u001B[38;5;28mprint\u001B[39m(make, model)\n\u001B[0;32m      8\u001B[0m response \u001B[38;5;241m=\u001B[39m requests\u001B[38;5;241m.\u001B[39mget(url)\n",
      "\u001B[1;31mValueError\u001B[0m: too many values to unpack (expected 2)"
     ]
    }
   ],
   "source": [
    "download_missing_data(labels['models'])\n"
   ],
   "metadata": {
    "collapsed": false,
    "ExecuteTime": {
     "start_time": "2023-06-28T14:56:07.367933Z",
     "end_time": "2023-06-28T14:56:56.429240Z"
    }
   }
  },
  {
   "cell_type": "code",
   "execution_count": 12,
   "outputs": [
    {
     "data": {
      "text/plain": "'BAZ A079 ETALON'"
     },
     "execution_count": 12,
     "metadata": {},
     "output_type": "execute_result"
    }
   ],
   "source": [
    "labels['models'][6]"
   ],
   "metadata": {
    "collapsed": false,
    "ExecuteTime": {
     "start_time": "2023-06-28T15:09:22.791872Z",
     "end_time": "2023-06-28T15:09:22.930405Z"
    }
   }
  },
  {
   "cell_type": "code",
   "execution_count": null,
   "outputs": [],
   "source": [
    "url = (\n",
    "        f\"https://www.googleapis.com/customsearch/v1?key={GOOGLE_API_KEY}&cx={CX_ID}&q=\"+\"{}&searchType=image\"\n",
    ")\n",
    "download_images_for_a_query(url, query)"
   ],
   "metadata": {
    "collapsed": false,
    "ExecuteTime": {
     "start_time": "2023-06-28T14:45:38.607657Z",
     "end_time": "2023-06-28T14:45:44.984552Z"
    }
   }
  },
  {
   "cell_type": "code",
   "execution_count": null,
   "outputs": [],
   "source": [],
   "metadata": {
    "collapsed": false
   }
  }
 ],
 "metadata": {
  "kernelspec": {
   "display_name": "Python 3",
   "language": "python",
   "name": "python3"
  },
  "language_info": {
   "codemirror_mode": {
    "name": "ipython",
    "version": 2
   },
   "file_extension": ".py",
   "mimetype": "text/x-python",
   "name": "python",
   "nbconvert_exporter": "python",
   "pygments_lexer": "ipython2",
   "version": "2.7.6"
  }
 },
 "nbformat": 4,
 "nbformat_minor": 0
}
