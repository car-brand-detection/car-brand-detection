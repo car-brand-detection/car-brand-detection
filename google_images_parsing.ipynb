{
 "cells": [
  {
   "cell_type": "markdown",
   "source": [
    "#### Pipeline to download images from Google"
   ],
   "metadata": {
    "collapsed": false
   }
  },
  {
   "cell_type": "code",
   "execution_count": 1,
   "outputs": [],
   "source": [
    "# !pip install python-dotenv"
   ],
   "metadata": {
    "collapsed": false,
    "ExecuteTime": {
     "start_time": "2023-07-04T08:13:17.653834Z",
     "end_time": "2023-07-04T08:13:17.664205Z"
    }
   }
  },
  {
   "cell_type": "code",
   "execution_count": 2,
   "outputs": [],
   "source": [
    "import os\n",
    "import time\n",
    "import pickle\n",
    "import requests\n",
    "from itertools import cycle\n",
    "from dotenv import load_dotenv\n",
    "import pandas as pd"
   ],
   "metadata": {
    "collapsed": false,
    "ExecuteTime": {
     "start_time": "2023-07-04T08:13:17.671136Z",
     "end_time": "2023-07-04T08:13:20.169882Z"
    }
   }
  },
  {
   "cell_type": "code",
   "execution_count": 3,
   "outputs": [
    {
     "data": {
      "text/plain": "True"
     },
     "execution_count": 3,
     "metadata": {},
     "output_type": "execute_result"
    }
   ],
   "source": [
    "load_dotenv()"
   ],
   "metadata": {
    "collapsed": false,
    "ExecuteTime": {
     "start_time": "2023-07-04T08:13:20.169882Z",
     "end_time": "2023-07-04T08:13:20.195425Z"
    }
   }
  },
  {
   "cell_type": "markdown",
   "source": [
    "Specify all paths"
   ],
   "metadata": {
    "collapsed": false
   }
  },
  {
   "cell_type": "code",
   "execution_count": 4,
   "outputs": [],
   "source": [
    "data_images_path = \"data/images/\"\n",
    "labels_to_download = \"data/labels/\" + \"models_missed_in_datasets.csv\""
   ],
   "metadata": {
    "collapsed": false,
    "ExecuteTime": {
     "start_time": "2023-07-04T08:13:20.195425Z",
     "end_time": "2023-07-04T08:13:20.421698Z"
    }
   }
  },
  {
   "cell_type": "markdown",
   "source": [
    "You may get your secret data from .env file"
   ],
   "metadata": {
    "collapsed": false
   }
  },
  {
   "cell_type": "code",
   "execution_count": 5,
   "outputs": [],
   "source": [
    "# Set the API key and Custom Search Engine ID\n",
    "GOOGLE_API_KEY = os.getenv(\"GOOGLE_API_KEY\")\n",
    "CX_ID = os.getenv(\"CX_ID\")"
   ],
   "metadata": {
    "collapsed": false,
    "ExecuteTime": {
     "start_time": "2023-07-04T08:13:20.206068Z",
     "end_time": "2023-07-04T08:13:20.452954Z"
    }
   }
  },
  {
   "cell_type": "markdown",
   "source": [
    "You many put many APIs to be more effective (in case you have several accounts)"
   ],
   "metadata": {
    "collapsed": false
   }
  },
  {
   "cell_type": "code",
   "execution_count": 8,
   "outputs": [],
   "source": [
    "# Set the API key and Custom Search Engine ID\n",
    "GOOGLE_API_KEY = [\n",
    "        # API KEY 1,\n",
    "        # API KEY 2\n",
    "]\n",
    "CX_ID = [\n",
    "    # CX ID 1,\n",
    "    # CX ID 2\n",
    " ]\n"
   ],
   "metadata": {
    "collapsed": false
   }
  },
  {
   "cell_type": "code",
   "execution_count": null,
   "outputs": [],
   "source": [],
   "metadata": {
    "collapsed": false
   }
  },
  {
   "cell_type": "code",
   "execution_count": 6,
   "outputs": [],
   "source": [
    "def download_images_for_a_query(url, query, count=0, row=0, topic=\" car photo\"):\n",
    "    url = url.format(q=query+topic, start=count+1)\n",
    "\n",
    "    pieces = query.split()\n",
    "\n",
    "    make = pieces[0]\n",
    "    model = '_'.join(pieces[1:])\n",
    "\n",
    "    query = query.replace(' ', '_')\n",
    "    try:\n",
    "\n",
    "        response = requests.get(url, timeout=30)\n",
    "        if response.status_code == 429:  # API access limit is reached, we have to wait\n",
    "            return 0  # Skip\n",
    "        elif response.status_code != 200:\n",
    "            return 0\n",
    "        data = response.json()\n",
    "        if 'items' not in data:\n",
    "            return None\n",
    "\n",
    "        folder_path = data_images_path + make + '/' + f\"{row}_{model}\"  + \"/\"\n",
    "        os.makedirs(folder_path, exist_ok=True)\n",
    "\n",
    "        items = data['items']\n",
    "        while items:\n",
    "\n",
    "            item = items.pop()\n",
    "            image_url = item['link']\n",
    "            try:\n",
    "                response = requests.get(image_url, timeout=10)\n",
    "            except:\n",
    "                continue\n",
    "            if response.status_code == 429:  # API access limit is reached, we have to wait\n",
    "                return 0  # Skip\n",
    "            elif response.status_code != 200:  # Most probably 403 - Forbidden user, no access\n",
    "                continue  # Skip\n",
    "\n",
    "            count += 1\n",
    "\n",
    "            with open(f\"{folder_path}{query}_{count:05d}.jpg\", \"wb\") as file:\n",
    "                file.write(response.content)\n",
    "    except requests.exceptions.Timeout:\n",
    "        print(\"Timeout reached\")\n",
    "        return 0\n",
    "    except Exception as e:\n",
    "        print(\"Exception: \", e)\n",
    "        return 0\n",
    "    finally:\n",
    "\n",
    "        return count  # Amount of downloaded images"
   ],
   "metadata": {
    "collapsed": false
   }
  },
  {
   "cell_type": "code",
   "execution_count": 7,
   "outputs": [
    {
     "data": {
      "text/plain": "     models\n0  AUDI 100\n1   AUDI 80",
      "text/html": "<div>\n<style scoped>\n    .dataframe tbody tr th:only-of-type {\n        vertical-align: middle;\n    }\n\n    .dataframe tbody tr th {\n        vertical-align: top;\n    }\n\n    .dataframe thead th {\n        text-align: right;\n    }\n</style>\n<table border=\"1\" class=\"dataframe\">\n  <thead>\n    <tr style=\"text-align: right;\">\n      <th></th>\n      <th>models</th>\n    </tr>\n  </thead>\n  <tbody>\n    <tr>\n      <th>0</th>\n      <td>AUDI 100</td>\n    </tr>\n    <tr>\n      <th>1</th>\n      <td>AUDI 80</td>\n    </tr>\n  </tbody>\n</table>\n</div>"
     },
     "execution_count": 7,
     "metadata": {},
     "output_type": "execute_result"
    }
   ],
   "source": [
    "labels = pd.read_csv(labels_to_download)\n",
    "labels.head(2)"
   ],
   "metadata": {
    "collapsed": false
   }
  },
  {
   "cell_type": "markdown",
   "source": [
    "We can specify the number of images needed."
   ],
   "metadata": {
    "collapsed": false
   }
  },
  {
   "cell_type": "code",
   "execution_count": 9,
   "outputs": [],
   "source": [
    "AMOUNT_OF_IMAGES = 50"
   ],
   "metadata": {
    "collapsed": false,
    "ExecuteTime": {
     "start_time": "2023-07-04T08:13:20.288319Z",
     "end_time": "2023-07-04T08:13:20.452954Z"
    }
   }
  },
  {
   "cell_type": "markdown",
   "source": [
    "For our case we needed real photos from different sides"
   ],
   "metadata": {
    "collapsed": false
   }
  },
  {
   "cell_type": "code",
   "execution_count": 11,
   "outputs": [],
   "source": [
    "def get_topic(n):\n",
    "    if n < 30:\n",
    "        return \" car Top-left photo\"\n",
    "    elif n < 40:\n",
    "        return \" car Side photo\"\n",
    "    elif n < 50:\n",
    "        return \" car Back photo\"\n",
    "    else:\n",
    "        return \" car Camera photo\""
   ],
   "metadata": {
    "collapsed": false,
    "ExecuteTime": {
     "start_time": "2023-07-04T08:13:20.319037Z",
     "end_time": "2023-07-04T08:13:20.452954Z"
    }
   }
  },
  {
   "cell_type": "code",
   "execution_count": 12,
   "outputs": [],
   "source": [
    "def download_missing_data(labels, continue_with=1, url=None):\n",
    "    for row, label in enumerate(labels[continue_with:], start=continue_with):\n",
    "    # for row, label in enumerate(labels[57:59], start=58):\n",
    "        count_of_downloaded = 0\n",
    "\n",
    "        while count_of_downloaded < AMOUNT_OF_IMAGES:\n",
    "            topic = get_topic(count_of_downloaded)\n",
    "            downloaded = download_images_for_a_query(url=url, query=label, count=count_of_downloaded, row=row, topic=topic)\n",
    "            if downloaded > 0:\n",
    "                count_of_downloaded = downloaded\n",
    "            else:\n",
    "                print(f\"STOPPED DUE TO REACHED LIMITS AT LABEL: {row}\")\n",
    "                return row - 1\n",
    "        print(f\"{count_of_downloaded} of {label} car are downloaded. Label number is {row}\")\n",
    "        time.sleep(3)"
   ],
   "metadata": {
    "collapsed": false,
    "ExecuteTime": {
     "start_time": "2023-07-04T08:13:20.319037Z",
     "end_time": "2023-07-04T08:13:20.452954Z"
    }
   }
  },
  {
   "cell_type": "code",
   "execution_count": null,
   "outputs": [],
   "source": [
    "def run_for_all_APIs(api_keys: list, IDs: list):\n",
    "    for api, cx_id in cycle(zip(api_keys, IDs)):  # Infinite loop\n",
    "        url = (\n",
    "                f\"https://www.googleapis.com/customsearch/v1?key={api}&cx={cx_id}&q=\"+\"{q}&start={start}&num=10&searchType=image\"\n",
    "        )\n",
    "\n",
    "        try:\n",
    "            with open(\"number_of_downloaded.pickle\", \"rb\") as file:\n",
    "                row_stopped_at = pickle.load(file)\n",
    "        except FileNotFoundError:\n",
    "            row_stopped_at = 0\n",
    "\n",
    "        row_stopped_at = download_missing_data(labels['models'], continue_with=row_stopped_at+1, url=url)\n",
    "\n",
    "        # Save the result\n",
    "        with open(\"number_of_downloaded.pickle\", \"wb\") as file:\n",
    "            pickle.dump(row_stopped_at, file)\n",
    "\n"
   ],
   "metadata": {
    "collapsed": false
   }
  },
  {
   "cell_type": "code",
   "execution_count": null,
   "outputs": [],
   "source": [
    "run_for_all_APIs(GOOGLE_API_KEY, IDs=CX_ID)"
   ],
   "metadata": {
    "collapsed": false,
    "ExecuteTime": {
     "start_time": "2023-07-03T16:10:07.269773Z",
     "end_time": "2023-07-03T16:10:07.284317Z"
    },
    "pycharm": {
     "is_executing": true
    }
   }
  },
  {
   "cell_type": "markdown",
   "source": [
    "You can stop a script at any time. If it didn't save the last result (number of downloaded images you stopped at), then you may update it mannually. Use the cells below:"
   ],
   "metadata": {
    "collapsed": false
   }
  },
  {
   "cell_type": "code",
   "execution_count": null,
   "outputs": [],
   "source": [
    "try:\n",
    "    with open(\"number_of_downloaded.pickle\", \"rb\") as file:\n",
    "        number_of_downloaded = pickle.load(file)\n",
    "except FileNotFoundError:\n",
    "    number_of_downloaded = 0"
   ],
   "metadata": {
    "collapsed": false
   }
  },
  {
   "cell_type": "code",
   "execution_count": null,
   "outputs": [],
   "source": [
    "# number_of_downloaded = 42"
   ],
   "metadata": {
    "collapsed": false
   }
  },
  {
   "cell_type": "code",
   "execution_count": null,
   "outputs": [],
   "source": [
    "with open(\"number_of_downloaded.pickle\", \"wb\") as file:\n",
    "    pickle.dump(number_of_downloaded, file)"
   ],
   "metadata": {
    "collapsed": false
   }
  },
  {
   "cell_type": "code",
   "execution_count": null,
   "outputs": [],
   "source": [
    "number_of_downloaded"
   ],
   "metadata": {
    "collapsed": false
   }
  },
  {
   "cell_type": "code",
   "execution_count": null,
   "outputs": [],
   "source": [],
   "metadata": {
    "collapsed": false
   }
  }
 ],
 "metadata": {
  "kernelspec": {
   "display_name": "Python 3",
   "language": "python",
   "name": "python3"
  },
  "language_info": {
   "codemirror_mode": {
    "name": "ipython",
    "version": 2
   },
   "file_extension": ".py",
   "mimetype": "text/x-python",
   "name": "python",
   "nbconvert_exporter": "python",
   "pygments_lexer": "ipython2",
   "version": "2.7.6"
  }
 },
 "nbformat": 4,
 "nbformat_minor": 0
}
