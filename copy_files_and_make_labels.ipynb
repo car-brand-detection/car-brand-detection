{
 "cells": [
  {
   "cell_type": "code",
   "execution_count": 67,
   "metadata": {},
   "outputs": [],
   "source": [
    "import os\n",
    "\n",
    "#set your own path with xml folder\n",
    "path = 'D:/Dev/ML_car_models/models/'\n",
    "os.chdir(path)"
   ]
  },
  {
   "cell_type": "code",
   "execution_count": null,
   "metadata": {},
   "outputs": [],
   "source": [
    "import shutil\n",
    "\n",
    "cols = ['brand', 'model', 'submodel', 'file_name']\n",
    "rows = []\n",
    "\n",
    "\n",
    "list_ = os.listdir(\".\")\n",
    "\n",
    "# copy all files from folders to one new folder, rename files {submodel}_{model}_{brand}_{picture} to parce them later\n",
    "for brand in list_:\n",
    "    models = os.listdir(brand)\n",
    "    for model in models:\n",
    "        submodels = os.listdir(path + brand + '/' + model)\n",
    "        for submodel in submodels:\n",
    "            pictures = os.listdir(path + brand + '/' + model + '/' + submodel)\n",
    "            for picture in pictures:\n",
    "                new_name = f'{submodel}_{model}_{brand}_{picture}'\n",
    "                shutil.copy(path + brand + '/' + model + '/' + submodel + '/' + picture, 'D:/Dev/ML_car_models/copy_here/' + new_name)"
   ]
  },
  {
   "cell_type": "code",
   "execution_count": 96,
   "metadata": {},
   "outputs": [],
   "source": [
    "import pandas as pd\n",
    "\n",
    "# select your folder with pictures\n",
    "pictures = os.listdir('D:/Dev/ML_car_models/copy_here')\n",
    "\n",
    "cols = ['brand', 'model', 'submodel', 'file_name']\n",
    "rows = []\n",
    "\n",
    "for file_ in pictures:\n",
    "    data = {}\n",
    "    name = os.path.splitext(file_)\n",
    "    name_parsed = name[0].split('_')\n",
    "    if len(name_parsed) != 4:\n",
    "        raise f'Проверьте файл {file_}, длина имени не совпадает'\n",
    "\n",
    "# these keys, values has been taken from 'new_name' upper cell, don't change separately\n",
    "    data['brand'] = name_parsed[2]\n",
    "    data['model'] = name_parsed[1]\n",
    "    data['submodel'] = name_parsed[0]\n",
    "    data['file_name'] = name_parsed[3]\n",
    "\n",
    "    rows.append(data)\n",
    "\n",
    "df = pd.DataFrame(rows, columns=cols)\n",
    "\n",
    "df.head()\n",
    "df.to_csv('labels.csv')"
   ]
  }
 ],
 "metadata": {
  "kernelspec": {
   "display_name": "venv",
   "language": "python",
   "name": "python3"
  },
  "language_info": {
   "codemirror_mode": {
    "name": "ipython",
    "version": 3
   },
   "file_extension": ".py",
   "mimetype": "text/x-python",
   "name": "python",
   "nbconvert_exporter": "python",
   "pygments_lexer": "ipython3",
   "version": "3.11.3"
  },
  "orig_nbformat": 4
 },
 "nbformat": 4,
 "nbformat_minor": 2
}
