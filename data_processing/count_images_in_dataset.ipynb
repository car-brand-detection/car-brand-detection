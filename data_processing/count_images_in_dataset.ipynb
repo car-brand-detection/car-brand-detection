{
 "cells": [
  {
   "cell_type": "code",
   "execution_count": 1,
   "outputs": [],
   "source": [
    "import os\n",
    "import pandas as pd\n",
    "import polars as pl\n",
    "from collections import defaultdict"
   ],
   "metadata": {
    "collapsed": false,
    "ExecuteTime": {
     "start_time": "2023-09-19T21:17:20.705520Z",
     "end_time": "2023-09-19T21:17:21.905478Z"
    }
   }
  },
  {
   "cell_type": "code",
   "execution_count": 2,
   "outputs": [],
   "source": [
    "def count_images(source_dir,):\n",
    "    image_extensions = ['.jpg', '.jpeg']  # Add more extensions if needed\n",
    "    images_amount = defaultdict(int)\n",
    "    for root, dirs, files in os.walk(source_dir):\n",
    "        image_counter = 0\n",
    "        for file in files:\n",
    "            if not any(file.lower().endswith(ext) for ext in image_extensions):\n",
    "                continue\n",
    "\n",
    "            image_counter += 1\n",
    "\n",
    "            source_path = os.path.join(root, file)\n",
    "\n",
    "            path_pieces = (os.path.normpath(source_path).split(os.path.sep))\n",
    "            brand = path_pieces[-3]\n",
    "            model = path_pieces[-2]\n",
    "            model = model.replace(\" \", \"_\")\n",
    "            label = f'{brand}_{model}'\n",
    "            images_amount[label] += 1\n",
    "\n",
    "    df = pd.DataFrame.from_dict(images_amount, orient='index')\n",
    "    # df = pd.DataFrame(image_data, columns=['id', 'label', 'amount'])\n",
    "    return df"
   ],
   "metadata": {
    "collapsed": false,
    "ExecuteTime": {
     "start_time": "2023-09-19T21:17:21.918906Z",
     "end_time": "2023-09-19T21:17:21.924360Z"
    }
   }
  },
  {
   "cell_type": "code",
   "execution_count": 3,
   "outputs": [],
   "source": [
    "directory = \"../data/images/\"\n",
    "csv_file = \"../final/dataset_statistics.csv\"\n",
    "directory_2 = '../data/MADE_TEST_DATASET/'"
   ],
   "metadata": {
    "collapsed": false,
    "ExecuteTime": {
     "start_time": "2023-09-19T21:17:21.925389Z",
     "end_time": "2023-09-19T21:17:21.948180Z"
    }
   }
  },
  {
   "cell_type": "code",
   "execution_count": 4,
   "outputs": [],
   "source": [
    "# count_images(directory).to_csv(csv_file, index=True)"
   ],
   "metadata": {
    "collapsed": false,
    "ExecuteTime": {
     "start_time": "2023-09-19T21:17:21.936053Z",
     "end_time": "2023-09-19T21:17:21.963825Z"
    }
   }
  },
  {
   "cell_type": "code",
   "execution_count": 5,
   "outputs": [
    {
     "name": "stdout",
     "output_type": "stream",
     "text": [
      "shape: (5, 2)\n",
      "┌─────────────────┬────────────────┐\n",
      "│ Amount in train ┆ Amount in test │\n",
      "│ ---             ┆ ---            │\n",
      "│ i64             ┆ i64            │\n",
      "╞═════════════════╪════════════════╡\n",
      "│ 16              ┆ 1              │\n",
      "│ 18              ┆ 1              │\n",
      "│ 58              ┆ 5              │\n",
      "│ 52              ┆ 5              │\n",
      "│ 52              ┆ 4              │\n",
      "└─────────────────┴────────────────┘\n"
     ]
    }
   ],
   "source": [
    "print(pl.DataFrame(\n",
    "    data = (\n",
    "        pl.Series(list(count_images(directory)[0])).alias('Amount in train'),\n",
    "        pl.Series(list(count_images(directory_2)[0])).alias('Amount in test'),\n",
    "    )\n",
    ").head())"
   ],
   "metadata": {
    "collapsed": false,
    "ExecuteTime": {
     "start_time": "2023-09-19T21:17:21.948180Z",
     "end_time": "2023-09-19T21:17:22.205641Z"
    }
   }
  },
  {
   "cell_type": "code",
   "execution_count": 5,
   "outputs": [],
   "source": [],
   "metadata": {
    "collapsed": false,
    "ExecuteTime": {
     "start_time": "2023-09-19T21:17:22.205641Z",
     "end_time": "2023-09-19T21:17:22.214295Z"
    }
   }
  }
 ],
 "metadata": {
  "kernelspec": {
   "name": "yolo_torch",
   "language": "python",
   "display_name": "yolo_torch"
  },
  "language_info": {
   "codemirror_mode": {
    "name": "ipython",
    "version": 3
   },
   "file_extension": ".py",
   "mimetype": "text/x-python",
   "name": "python",
   "nbconvert_exporter": "python",
   "pygments_lexer": "ipython3",
   "version": "3.11.3"
  },
  "orig_nbformat": 4
 },
 "nbformat": 4,
 "nbformat_minor": 2
}
