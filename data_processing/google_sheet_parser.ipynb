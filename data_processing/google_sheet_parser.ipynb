{
 "cells": [
  {
   "cell_type": "code",
   "execution_count": 170,
   "metadata": {
    "collapsed": true,
    "ExecuteTime": {
     "start_time": "2023-08-03T13:44:08.792283Z",
     "end_time": "2023-08-03T13:44:08.824155Z"
    }
   },
   "outputs": [],
   "source": [
    "import numpy as np\n",
    "import pandas as pd"
   ]
  },
  {
   "cell_type": "code",
   "execution_count": 171,
   "outputs": [],
   "source": [
    "df = pd.read_csv(\"../Collected_cars_table.csv\", na_values=None)"
   ],
   "metadata": {
    "collapsed": false,
    "ExecuteTime": {
     "start_time": "2023-08-03T13:44:08.950932Z",
     "end_time": "2023-08-03T13:44:08.993897Z"
    }
   }
  },
  {
   "cell_type": "code",
   "execution_count": 172,
   "outputs": [
    {
     "data": {
      "text/plain": "          Марка авто     Модель  COUNTA of Модель  Unnamed: 3       Brand  \\\n0                NaN        NaN                 0         NaN         NaN   \n1              Total        NaN                 0         NaN         NaN   \n2              Acura        NaN                 0         NaN         NaN   \n3                NaN        MDX                 1         NaN       Acura   \n4        Acura Total        NaN                 1         NaN         NaN   \n5         Alfa Romeo        NaN                 0         NaN         NaN   \n6                NaN  Giulietta                 1         NaN  Alfa Romeo   \n7   Alfa Romeo Total        NaN                 1         NaN         NaN   \n8               Audi        NaN                 0         NaN         NaN   \n9                NaN         80                 1         NaN        Audi   \n10               NaN        100                 1         NaN        Audi   \n11               NaN         A1                 1         NaN        Audi   \n12               NaN         A3                 1         NaN        Audi   \n13               NaN         A4                 1         NaN        Audi   \n14               NaN         A5                 1         NaN        Audi   \n15               NaN         A6                 1         NaN        Audi   \n16               NaN         A7                 1         NaN        Audi   \n17               NaN         A8                 1         NaN        Audi   \n18               NaN         Q3                 1         NaN        Audi   \n19               NaN         Q5                 1         NaN        Audi   \n\n        Model               В работе Замечания  В доработке  \\\n0         NaN                    NaN       NaN          NaN   \n1         NaN                    NaN       NaN          NaN   \n2         NaN                    NaN       NaN          NaN   \n3         MDX                    NaN       NaN          NaN   \n4         NaN                    NaN       NaN          NaN   \n5         NaN                    NaN       NaN          NaN   \n6   Giulietta                    NaN       NaN          NaN   \n7         NaN                    NaN       NaN          NaN   \n8         NaN  Юля/выгружено на диск       NaN          NaN   \n9          80  Юля/выгружено на диск       NaN          NaN   \n10        100  Юля/выгружено на диск       NaN          NaN   \n11         A1  Юля/выгружено на диск       NaN          NaN   \n12         A3  Юля/выгружено на диск       NaN          NaN   \n13         A4  Юля/выгружено на диск       NaN          NaN   \n14         A5  Юля/выгружено на диск       NaN          NaN   \n15         A6  Юля/выгружено на диск       NaN          NaN   \n16         A7  Юля/выгружено на диск       NaN          NaN   \n17         A8  Юля/выгружено на диск       NaN          NaN   \n18         Q3  Юля/выгружено на диск       NaN          NaN   \n19         Q5  Юля/выгружено на диск       NaN          NaN   \n\n                 Unnamed: 9  Unnamed: 10  Unnamed: 11  Unnamed: 12  \\\n0   ПРОЦЕНТ ГОТОВНОСТИ СЕТА          NaN        92.27          8.1   \n1                       NaN          NaN          NaN          NaN   \n2                       NaN          NaN          NaN          NaN   \n3                       NaN          NaN          NaN          NaN   \n4                       NaN          NaN          NaN          NaN   \n5                       NaN          NaN          NaN          NaN   \n6                       NaN          NaN          NaN          NaN   \n7                       NaN          NaN          NaN          NaN   \n8                       NaN          NaN          NaN          NaN   \n9                       NaN          NaN          NaN          NaN   \n10                      NaN          NaN          NaN          NaN   \n11                      NaN          NaN          NaN          NaN   \n12                      NaN          NaN          NaN          NaN   \n13                      NaN          NaN          NaN          NaN   \n14                      NaN          NaN          NaN          NaN   \n15                      NaN          NaN          NaN          NaN   \n16                      NaN          NaN          NaN          NaN   \n17                      NaN          NaN          NaN          NaN   \n18                      NaN          NaN          NaN          NaN   \n19                      NaN          NaN          NaN          NaN   \n\n     Unnamed: 13  \n0   % Проблемные  \n1            NaN  \n2            NaN  \n3            NaN  \n4            NaN  \n5            NaN  \n6            NaN  \n7            NaN  \n8            NaN  \n9            NaN  \n10           NaN  \n11           NaN  \n12           NaN  \n13           NaN  \n14           NaN  \n15           NaN  \n16           NaN  \n17           NaN  \n18           NaN  \n19           NaN  ",
      "text/html": "<div>\n<style scoped>\n    .dataframe tbody tr th:only-of-type {\n        vertical-align: middle;\n    }\n\n    .dataframe tbody tr th {\n        vertical-align: top;\n    }\n\n    .dataframe thead th {\n        text-align: right;\n    }\n</style>\n<table border=\"1\" class=\"dataframe\">\n  <thead>\n    <tr style=\"text-align: right;\">\n      <th></th>\n      <th>Марка авто</th>\n      <th>Модель</th>\n      <th>COUNTA of Модель</th>\n      <th>Unnamed: 3</th>\n      <th>Brand</th>\n      <th>Model</th>\n      <th>В работе</th>\n      <th>Замечания</th>\n      <th>В доработке</th>\n      <th>Unnamed: 9</th>\n      <th>Unnamed: 10</th>\n      <th>Unnamed: 11</th>\n      <th>Unnamed: 12</th>\n      <th>Unnamed: 13</th>\n    </tr>\n  </thead>\n  <tbody>\n    <tr>\n      <th>0</th>\n      <td>NaN</td>\n      <td>NaN</td>\n      <td>0</td>\n      <td>NaN</td>\n      <td>NaN</td>\n      <td>NaN</td>\n      <td>NaN</td>\n      <td>NaN</td>\n      <td>NaN</td>\n      <td>ПРОЦЕНТ ГОТОВНОСТИ СЕТА</td>\n      <td>NaN</td>\n      <td>92.27</td>\n      <td>8.1</td>\n      <td>% Проблемные</td>\n    </tr>\n    <tr>\n      <th>1</th>\n      <td>Total</td>\n      <td>NaN</td>\n      <td>0</td>\n      <td>NaN</td>\n      <td>NaN</td>\n      <td>NaN</td>\n      <td>NaN</td>\n      <td>NaN</td>\n      <td>NaN</td>\n      <td>NaN</td>\n      <td>NaN</td>\n      <td>NaN</td>\n      <td>NaN</td>\n      <td>NaN</td>\n    </tr>\n    <tr>\n      <th>2</th>\n      <td>Acura</td>\n      <td>NaN</td>\n      <td>0</td>\n      <td>NaN</td>\n      <td>NaN</td>\n      <td>NaN</td>\n      <td>NaN</td>\n      <td>NaN</td>\n      <td>NaN</td>\n      <td>NaN</td>\n      <td>NaN</td>\n      <td>NaN</td>\n      <td>NaN</td>\n      <td>NaN</td>\n    </tr>\n    <tr>\n      <th>3</th>\n      <td>NaN</td>\n      <td>MDX</td>\n      <td>1</td>\n      <td>NaN</td>\n      <td>Acura</td>\n      <td>MDX</td>\n      <td>NaN</td>\n      <td>NaN</td>\n      <td>NaN</td>\n      <td>NaN</td>\n      <td>NaN</td>\n      <td>NaN</td>\n      <td>NaN</td>\n      <td>NaN</td>\n    </tr>\n    <tr>\n      <th>4</th>\n      <td>Acura Total</td>\n      <td>NaN</td>\n      <td>1</td>\n      <td>NaN</td>\n      <td>NaN</td>\n      <td>NaN</td>\n      <td>NaN</td>\n      <td>NaN</td>\n      <td>NaN</td>\n      <td>NaN</td>\n      <td>NaN</td>\n      <td>NaN</td>\n      <td>NaN</td>\n      <td>NaN</td>\n    </tr>\n    <tr>\n      <th>5</th>\n      <td>Alfa Romeo</td>\n      <td>NaN</td>\n      <td>0</td>\n      <td>NaN</td>\n      <td>NaN</td>\n      <td>NaN</td>\n      <td>NaN</td>\n      <td>NaN</td>\n      <td>NaN</td>\n      <td>NaN</td>\n      <td>NaN</td>\n      <td>NaN</td>\n      <td>NaN</td>\n      <td>NaN</td>\n    </tr>\n    <tr>\n      <th>6</th>\n      <td>NaN</td>\n      <td>Giulietta</td>\n      <td>1</td>\n      <td>NaN</td>\n      <td>Alfa Romeo</td>\n      <td>Giulietta</td>\n      <td>NaN</td>\n      <td>NaN</td>\n      <td>NaN</td>\n      <td>NaN</td>\n      <td>NaN</td>\n      <td>NaN</td>\n      <td>NaN</td>\n      <td>NaN</td>\n    </tr>\n    <tr>\n      <th>7</th>\n      <td>Alfa Romeo Total</td>\n      <td>NaN</td>\n      <td>1</td>\n      <td>NaN</td>\n      <td>NaN</td>\n      <td>NaN</td>\n      <td>NaN</td>\n      <td>NaN</td>\n      <td>NaN</td>\n      <td>NaN</td>\n      <td>NaN</td>\n      <td>NaN</td>\n      <td>NaN</td>\n      <td>NaN</td>\n    </tr>\n    <tr>\n      <th>8</th>\n      <td>Audi</td>\n      <td>NaN</td>\n      <td>0</td>\n      <td>NaN</td>\n      <td>NaN</td>\n      <td>NaN</td>\n      <td>Юля/выгружено на диск</td>\n      <td>NaN</td>\n      <td>NaN</td>\n      <td>NaN</td>\n      <td>NaN</td>\n      <td>NaN</td>\n      <td>NaN</td>\n      <td>NaN</td>\n    </tr>\n    <tr>\n      <th>9</th>\n      <td>NaN</td>\n      <td>80</td>\n      <td>1</td>\n      <td>NaN</td>\n      <td>Audi</td>\n      <td>80</td>\n      <td>Юля/выгружено на диск</td>\n      <td>NaN</td>\n      <td>NaN</td>\n      <td>NaN</td>\n      <td>NaN</td>\n      <td>NaN</td>\n      <td>NaN</td>\n      <td>NaN</td>\n    </tr>\n    <tr>\n      <th>10</th>\n      <td>NaN</td>\n      <td>100</td>\n      <td>1</td>\n      <td>NaN</td>\n      <td>Audi</td>\n      <td>100</td>\n      <td>Юля/выгружено на диск</td>\n      <td>NaN</td>\n      <td>NaN</td>\n      <td>NaN</td>\n      <td>NaN</td>\n      <td>NaN</td>\n      <td>NaN</td>\n      <td>NaN</td>\n    </tr>\n    <tr>\n      <th>11</th>\n      <td>NaN</td>\n      <td>A1</td>\n      <td>1</td>\n      <td>NaN</td>\n      <td>Audi</td>\n      <td>A1</td>\n      <td>Юля/выгружено на диск</td>\n      <td>NaN</td>\n      <td>NaN</td>\n      <td>NaN</td>\n      <td>NaN</td>\n      <td>NaN</td>\n      <td>NaN</td>\n      <td>NaN</td>\n    </tr>\n    <tr>\n      <th>12</th>\n      <td>NaN</td>\n      <td>A3</td>\n      <td>1</td>\n      <td>NaN</td>\n      <td>Audi</td>\n      <td>A3</td>\n      <td>Юля/выгружено на диск</td>\n      <td>NaN</td>\n      <td>NaN</td>\n      <td>NaN</td>\n      <td>NaN</td>\n      <td>NaN</td>\n      <td>NaN</td>\n      <td>NaN</td>\n    </tr>\n    <tr>\n      <th>13</th>\n      <td>NaN</td>\n      <td>A4</td>\n      <td>1</td>\n      <td>NaN</td>\n      <td>Audi</td>\n      <td>A4</td>\n      <td>Юля/выгружено на диск</td>\n      <td>NaN</td>\n      <td>NaN</td>\n      <td>NaN</td>\n      <td>NaN</td>\n      <td>NaN</td>\n      <td>NaN</td>\n      <td>NaN</td>\n    </tr>\n    <tr>\n      <th>14</th>\n      <td>NaN</td>\n      <td>A5</td>\n      <td>1</td>\n      <td>NaN</td>\n      <td>Audi</td>\n      <td>A5</td>\n      <td>Юля/выгружено на диск</td>\n      <td>NaN</td>\n      <td>NaN</td>\n      <td>NaN</td>\n      <td>NaN</td>\n      <td>NaN</td>\n      <td>NaN</td>\n      <td>NaN</td>\n    </tr>\n    <tr>\n      <th>15</th>\n      <td>NaN</td>\n      <td>A6</td>\n      <td>1</td>\n      <td>NaN</td>\n      <td>Audi</td>\n      <td>A6</td>\n      <td>Юля/выгружено на диск</td>\n      <td>NaN</td>\n      <td>NaN</td>\n      <td>NaN</td>\n      <td>NaN</td>\n      <td>NaN</td>\n      <td>NaN</td>\n      <td>NaN</td>\n    </tr>\n    <tr>\n      <th>16</th>\n      <td>NaN</td>\n      <td>A7</td>\n      <td>1</td>\n      <td>NaN</td>\n      <td>Audi</td>\n      <td>A7</td>\n      <td>Юля/выгружено на диск</td>\n      <td>NaN</td>\n      <td>NaN</td>\n      <td>NaN</td>\n      <td>NaN</td>\n      <td>NaN</td>\n      <td>NaN</td>\n      <td>NaN</td>\n    </tr>\n    <tr>\n      <th>17</th>\n      <td>NaN</td>\n      <td>A8</td>\n      <td>1</td>\n      <td>NaN</td>\n      <td>Audi</td>\n      <td>A8</td>\n      <td>Юля/выгружено на диск</td>\n      <td>NaN</td>\n      <td>NaN</td>\n      <td>NaN</td>\n      <td>NaN</td>\n      <td>NaN</td>\n      <td>NaN</td>\n      <td>NaN</td>\n    </tr>\n    <tr>\n      <th>18</th>\n      <td>NaN</td>\n      <td>Q3</td>\n      <td>1</td>\n      <td>NaN</td>\n      <td>Audi</td>\n      <td>Q3</td>\n      <td>Юля/выгружено на диск</td>\n      <td>NaN</td>\n      <td>NaN</td>\n      <td>NaN</td>\n      <td>NaN</td>\n      <td>NaN</td>\n      <td>NaN</td>\n      <td>NaN</td>\n    </tr>\n    <tr>\n      <th>19</th>\n      <td>NaN</td>\n      <td>Q5</td>\n      <td>1</td>\n      <td>NaN</td>\n      <td>Audi</td>\n      <td>Q5</td>\n      <td>Юля/выгружено на диск</td>\n      <td>NaN</td>\n      <td>NaN</td>\n      <td>NaN</td>\n      <td>NaN</td>\n      <td>NaN</td>\n      <td>NaN</td>\n      <td>NaN</td>\n    </tr>\n  </tbody>\n</table>\n</div>"
     },
     "execution_count": 172,
     "metadata": {},
     "output_type": "execute_result"
    }
   ],
   "source": [
    "df.head(20)"
   ],
   "metadata": {
    "collapsed": false,
    "ExecuteTime": {
     "start_time": "2023-08-03T13:44:09.164883Z",
     "end_time": "2023-08-03T13:44:09.238219Z"
    }
   }
  },
  {
   "cell_type": "markdown",
   "source": [
    "## 1. Only collected data"
   ],
   "metadata": {
    "collapsed": false
   }
  },
  {
   "cell_type": "code",
   "execution_count": 173,
   "outputs": [
    {
     "data": {
      "text/plain": "        Brand      Model\n0       Acura        MDX\n1  Alfa Romeo  Giulietta\n2        Audi         80\n3        Audi        100\n4        Audi         A1",
      "text/html": "<div>\n<style scoped>\n    .dataframe tbody tr th:only-of-type {\n        vertical-align: middle;\n    }\n\n    .dataframe tbody tr th {\n        vertical-align: top;\n    }\n\n    .dataframe thead th {\n        text-align: right;\n    }\n</style>\n<table border=\"1\" class=\"dataframe\">\n  <thead>\n    <tr style=\"text-align: right;\">\n      <th></th>\n      <th>Brand</th>\n      <th>Model</th>\n    </tr>\n  </thead>\n  <tbody>\n    <tr>\n      <th>0</th>\n      <td>Acura</td>\n      <td>MDX</td>\n    </tr>\n    <tr>\n      <th>1</th>\n      <td>Alfa Romeo</td>\n      <td>Giulietta</td>\n    </tr>\n    <tr>\n      <th>2</th>\n      <td>Audi</td>\n      <td>80</td>\n    </tr>\n    <tr>\n      <th>3</th>\n      <td>Audi</td>\n      <td>100</td>\n    </tr>\n    <tr>\n      <th>4</th>\n      <td>Audi</td>\n      <td>A1</td>\n    </tr>\n  </tbody>\n</table>\n</div>"
     },
     "execution_count": 173,
     "metadata": {},
     "output_type": "execute_result"
    }
   ],
   "source": [
    "# This dataframe includes only downloaded values\n",
    "collected_cars = df[['Brand', 'Model']].dropna(inplace=False, axis=0, ignore_index=True)\n",
    "collected_cars.head()"
   ],
   "metadata": {
    "collapsed": false,
    "ExecuteTime": {
     "start_time": "2023-08-03T13:44:09.590374Z",
     "end_time": "2023-08-03T13:44:09.637125Z"
    }
   }
  },
  {
   "cell_type": "markdown",
   "source": [
    "We will save it as an Excel file"
   ],
   "metadata": {
    "collapsed": false
   }
  },
  {
   "cell_type": "code",
   "execution_count": 174,
   "outputs": [],
   "source": [
    "collected_cars.to_excel('Collected_Cars.xlsx', index=False)"
   ],
   "metadata": {
    "collapsed": false,
    "ExecuteTime": {
     "start_time": "2023-08-03T13:44:10.270659Z",
     "end_time": "2023-08-03T13:44:10.378791Z"
    }
   }
  },
  {
   "cell_type": "markdown",
   "source": [
    "## 2. Missed cars"
   ],
   "metadata": {
    "collapsed": false
   }
  },
  {
   "cell_type": "code",
   "execution_count": 175,
   "outputs": [
    {
     "data": {
      "text/plain": "         Марка авто     Модель\n0               NaN        NaN\n1             Total        NaN\n2             Acura        NaN\n3               NaN        MDX\n4       Acura Total        NaN\n5        Alfa Romeo        NaN\n6               NaN  Giulietta\n7  Alfa Romeo Total        NaN\n8              Audi        NaN\n9               NaN         80",
      "text/html": "<div>\n<style scoped>\n    .dataframe tbody tr th:only-of-type {\n        vertical-align: middle;\n    }\n\n    .dataframe tbody tr th {\n        vertical-align: top;\n    }\n\n    .dataframe thead th {\n        text-align: right;\n    }\n</style>\n<table border=\"1\" class=\"dataframe\">\n  <thead>\n    <tr style=\"text-align: right;\">\n      <th></th>\n      <th>Марка авто</th>\n      <th>Модель</th>\n    </tr>\n  </thead>\n  <tbody>\n    <tr>\n      <th>0</th>\n      <td>NaN</td>\n      <td>NaN</td>\n    </tr>\n    <tr>\n      <th>1</th>\n      <td>Total</td>\n      <td>NaN</td>\n    </tr>\n    <tr>\n      <th>2</th>\n      <td>Acura</td>\n      <td>NaN</td>\n    </tr>\n    <tr>\n      <th>3</th>\n      <td>NaN</td>\n      <td>MDX</td>\n    </tr>\n    <tr>\n      <th>4</th>\n      <td>Acura Total</td>\n      <td>NaN</td>\n    </tr>\n    <tr>\n      <th>5</th>\n      <td>Alfa Romeo</td>\n      <td>NaN</td>\n    </tr>\n    <tr>\n      <th>6</th>\n      <td>NaN</td>\n      <td>Giulietta</td>\n    </tr>\n    <tr>\n      <th>7</th>\n      <td>Alfa Romeo Total</td>\n      <td>NaN</td>\n    </tr>\n    <tr>\n      <th>8</th>\n      <td>Audi</td>\n      <td>NaN</td>\n    </tr>\n    <tr>\n      <th>9</th>\n      <td>NaN</td>\n      <td>80</td>\n    </tr>\n  </tbody>\n</table>\n</div>"
     },
     "execution_count": 175,
     "metadata": {},
     "output_type": "execute_result"
    }
   ],
   "source": [
    "# Original columns. We collected the data based on them.\n",
    "df[['Марка авто', 'Модель']].head(10)"
   ],
   "metadata": {
    "collapsed": false,
    "ExecuteTime": {
     "start_time": "2023-08-03T13:44:11.098154Z",
     "end_time": "2023-08-03T13:44:11.181253Z"
    }
   }
  },
  {
   "cell_type": "markdown",
   "source": [
    "As we can see, in sourсe columns (first two) brand and model are not located in one row. However, there is a way to deal with that *shift*.\n",
    "We will use *last_valid_index*"
   ],
   "metadata": {
    "collapsed": false
   }
  },
  {
   "cell_type": "code",
   "execution_count": 176,
   "outputs": [
    {
     "data": {
      "text/plain": "'Giulietta'"
     },
     "execution_count": 176,
     "metadata": {},
     "output_type": "execute_result"
    }
   ],
   "source": [
    "# In this example we select first not None value from the end of sliced dataframe.\n",
    "df['Model'][df.loc[:8, 'Model'].last_valid_index()]"
   ],
   "metadata": {
    "collapsed": false,
    "ExecuteTime": {
     "start_time": "2023-08-03T13:44:11.837880Z",
     "end_time": "2023-08-03T13:44:11.869413Z"
    }
   }
  },
  {
   "cell_type": "code",
   "execution_count": 177,
   "outputs": [],
   "source": [
    "missed_data = []\n",
    "for index, row in df[['Марка авто', 'Модель', 'Brand', 'Model', 'Замечания']].iterrows():\n",
    "    problems = row['Замечания']\n",
    "    brand = row['Марка авто']\n",
    "    required_model = row['Модель']\n",
    "    existing_model = row['Model']\n",
    "    if all(\n",
    "            [\n",
    "                not pd.isna(problems),\n",
    "                not pd.isna(required_model),\n",
    "                pd.isna(existing_model),\n",
    "            ]\n",
    "    ):  # This model wasn't processed for some reason\n",
    "        brand = df['Brand'][df.loc[:index+1, 'Brand'].last_valid_index()]\n",
    "        missed_data.append(\n",
    "                [brand, required_model, problems]\n",
    "            )\n",
    "missed_data = pd.DataFrame(missed_data, columns=['Brand', 'Model', 'Problems'])"
   ],
   "metadata": {
    "collapsed": false,
    "ExecuteTime": {
     "start_time": "2023-08-03T13:44:12.311574Z",
     "end_time": "2023-08-03T13:44:12.411459Z"
    }
   }
  },
  {
   "cell_type": "code",
   "execution_count": 178,
   "outputs": [
    {
     "data": {
      "text/plain": "            Brand                       Model  \\\n0         Emgrand                         END   \n1             GAZ                          53   \n2             GAZ                        3307   \n3             GAZ                        3309   \n4             GAZ                172200 Volga   \n5             GAZ                  1724 Gazel   \n6             GAZ     GAZel Biznes GAZon Next   \n7             GAZ                  Gazel Next   \n8   Golden Dragon                       Hover   \n9   Golden Dragon                    Hover H3   \n10  Golden Dragon                    Hover H5   \n11          Honda                 Civic Ferio   \n12          KamAZ                         551   \n13          KamAZ                        4539   \n14          KamAZ                  NefAz 4208   \n15            KIA                  Rio X Line   \n16            MAN                 Lions Regio   \n17          Mazda              Bongo Friendee   \n18  Mercedes Benz                         405   \n19     Mitsubishi                Fuso Fighter   \n20     Mitsubishi                Lancer Cedia   \n21     Mitsubishi                Outlander XL   \n22     Mitsubishi                   Pajero iO   \n23     Mitsubishi                Pajero Sport   \n24       Moskvich                         412   \n25         Nissan                   Maxima QX   \n26            PAZ                        3204   \n27          Ravon                       Nexia   \n28        Renault             Sandero Stepway   \n29          Setra               SX3250 Series   \n30         Suzuki                 SX4 S Cross   \n31         Toyota                          bB   \n32         Toyota                Camry Solara   \n33         Toyota  Corolla Allex Corolla Axio   \n34         Toyota                Corolla Runx   \n35         Toyota               Corolla Verso   \n36         Toyota               Corona Premio   \n37         Toyota                       Hilux   \n38         Toyota                    Lite Ace   \n39         Toyota               Lite Ace Noah   \n40            UAZ                        2206   \n41            UAZ                        3151   \n42            UAZ                        3962   \n43            UAZ                        4320   \n44            UAZ                       39094   \n45            UAZ                      390995   \n46       VAZ_Lada                Kalina Cross   \n47            VIS                      234700   \n48            VIS                      234900   \n49     Volkswagen                   Golf Plus   \n50     Volkswagen             Passat Alltrack   \n51          Volvo                          FM   \n52          Volvo                         FMX   \n53          Volvo           V40 Cross Country   \n54            ZIL                        4314   \n55            ZIL                        4333   \n56            ZIL                    MMZ 4502   \n57            ZIL                    MMZ 4505   \n58            ZIL                   MMZ 45085   \n59            ZIL                     MMZ 554   \n\n                                             Problems  \n0                                           Нет в XML  \n1                                           Нет в XML  \n2                                           Нет в XML  \n3                                           Нет в XML  \n4                                           Нет в XML  \n5                                           Нет в XML  \n6                                           Нет в XML  \n7                                           Нет в XML  \n8                                           Нет в XML  \n9                                           Нет в XML  \n10                                          Нет в XML  \n11                                          Нет в XML  \n12                                          Нет в XML  \n13                                          Нет в XML  \n14                                          Нет в XML  \n15                                          Нет в XML  \n16                                          Нет в XML  \n17                                          Нет в XML  \n18                                          Нет в XML  \n19                                  Идентичен Fighter  \n20                                          Нет в XML  \n21                                          Нет в XML  \n22                                          Нет в XML  \n23                                          Нет в XML  \n24                                          Нет в XML  \n25  Нет в датасете. Идентична модели MAXIMA. Мало ...  \n26  Нет в XML, мало картинок в интернете, очень по...  \n27     Нет в XML, в интернете только R3, очень похожи  \n28  Нет в XML. Кузов практически идентичен Sandero...  \n29                               Нет в данных Дмитрия  \n30                     Нет в XML. Кузов идентичен SX4  \n31                                          Нет в XML  \n32                                          Нет в XML  \n33                                          Нет в XML  \n34                                          Нет в XML  \n35                                          Нет в XML  \n36                                          Нет в XML  \n37                                          Нет в XML  \n38                                          Нет в XML  \n39                                          Нет в XML  \n40                                          Нет в XML  \n41                                          Нет в XML  \n42                                          Нет в XML  \n43                                          Нет в XML  \n44                                          Нет в XML  \n45                                          Нет в XML  \n46       Кузов идентичен kalina. Нет отдельных данных  \n47                                     Идентичен 2347  \n48                                    Индентичен 2349  \n49                                     Идентичен Golf  \n50                                   Идентичен Passat  \n51                                    Идентичен FH/FE  \n52                                       Идентичен FM  \n53                                      Идентична V40  \n54                                      Идентичен 130  \n55                                     Идентичен 4331  \n56                                      Идентичен 130  \n57                                  Идентичен 130/131  \n58                                     Идентичен 4331  \n59                                      Идентичен 130  ",
      "text/html": "<div>\n<style scoped>\n    .dataframe tbody tr th:only-of-type {\n        vertical-align: middle;\n    }\n\n    .dataframe tbody tr th {\n        vertical-align: top;\n    }\n\n    .dataframe thead th {\n        text-align: right;\n    }\n</style>\n<table border=\"1\" class=\"dataframe\">\n  <thead>\n    <tr style=\"text-align: right;\">\n      <th></th>\n      <th>Brand</th>\n      <th>Model</th>\n      <th>Problems</th>\n    </tr>\n  </thead>\n  <tbody>\n    <tr>\n      <th>0</th>\n      <td>Emgrand</td>\n      <td>END</td>\n      <td>Нет в XML</td>\n    </tr>\n    <tr>\n      <th>1</th>\n      <td>GAZ</td>\n      <td>53</td>\n      <td>Нет в XML</td>\n    </tr>\n    <tr>\n      <th>2</th>\n      <td>GAZ</td>\n      <td>3307</td>\n      <td>Нет в XML</td>\n    </tr>\n    <tr>\n      <th>3</th>\n      <td>GAZ</td>\n      <td>3309</td>\n      <td>Нет в XML</td>\n    </tr>\n    <tr>\n      <th>4</th>\n      <td>GAZ</td>\n      <td>172200 Volga</td>\n      <td>Нет в XML</td>\n    </tr>\n    <tr>\n      <th>5</th>\n      <td>GAZ</td>\n      <td>1724 Gazel</td>\n      <td>Нет в XML</td>\n    </tr>\n    <tr>\n      <th>6</th>\n      <td>GAZ</td>\n      <td>GAZel Biznes GAZon Next</td>\n      <td>Нет в XML</td>\n    </tr>\n    <tr>\n      <th>7</th>\n      <td>GAZ</td>\n      <td>Gazel Next</td>\n      <td>Нет в XML</td>\n    </tr>\n    <tr>\n      <th>8</th>\n      <td>Golden Dragon</td>\n      <td>Hover</td>\n      <td>Нет в XML</td>\n    </tr>\n    <tr>\n      <th>9</th>\n      <td>Golden Dragon</td>\n      <td>Hover H3</td>\n      <td>Нет в XML</td>\n    </tr>\n    <tr>\n      <th>10</th>\n      <td>Golden Dragon</td>\n      <td>Hover H5</td>\n      <td>Нет в XML</td>\n    </tr>\n    <tr>\n      <th>11</th>\n      <td>Honda</td>\n      <td>Civic Ferio</td>\n      <td>Нет в XML</td>\n    </tr>\n    <tr>\n      <th>12</th>\n      <td>KamAZ</td>\n      <td>551</td>\n      <td>Нет в XML</td>\n    </tr>\n    <tr>\n      <th>13</th>\n      <td>KamAZ</td>\n      <td>4539</td>\n      <td>Нет в XML</td>\n    </tr>\n    <tr>\n      <th>14</th>\n      <td>KamAZ</td>\n      <td>NefAz 4208</td>\n      <td>Нет в XML</td>\n    </tr>\n    <tr>\n      <th>15</th>\n      <td>KIA</td>\n      <td>Rio X Line</td>\n      <td>Нет в XML</td>\n    </tr>\n    <tr>\n      <th>16</th>\n      <td>MAN</td>\n      <td>Lions Regio</td>\n      <td>Нет в XML</td>\n    </tr>\n    <tr>\n      <th>17</th>\n      <td>Mazda</td>\n      <td>Bongo Friendee</td>\n      <td>Нет в XML</td>\n    </tr>\n    <tr>\n      <th>18</th>\n      <td>Mercedes Benz</td>\n      <td>405</td>\n      <td>Нет в XML</td>\n    </tr>\n    <tr>\n      <th>19</th>\n      <td>Mitsubishi</td>\n      <td>Fuso Fighter</td>\n      <td>Идентичен Fighter</td>\n    </tr>\n    <tr>\n      <th>20</th>\n      <td>Mitsubishi</td>\n      <td>Lancer Cedia</td>\n      <td>Нет в XML</td>\n    </tr>\n    <tr>\n      <th>21</th>\n      <td>Mitsubishi</td>\n      <td>Outlander XL</td>\n      <td>Нет в XML</td>\n    </tr>\n    <tr>\n      <th>22</th>\n      <td>Mitsubishi</td>\n      <td>Pajero iO</td>\n      <td>Нет в XML</td>\n    </tr>\n    <tr>\n      <th>23</th>\n      <td>Mitsubishi</td>\n      <td>Pajero Sport</td>\n      <td>Нет в XML</td>\n    </tr>\n    <tr>\n      <th>24</th>\n      <td>Moskvich</td>\n      <td>412</td>\n      <td>Нет в XML</td>\n    </tr>\n    <tr>\n      <th>25</th>\n      <td>Nissan</td>\n      <td>Maxima QX</td>\n      <td>Нет в датасете. Идентична модели MAXIMA. Мало ...</td>\n    </tr>\n    <tr>\n      <th>26</th>\n      <td>PAZ</td>\n      <td>3204</td>\n      <td>Нет в XML, мало картинок в интернете, очень по...</td>\n    </tr>\n    <tr>\n      <th>27</th>\n      <td>Ravon</td>\n      <td>Nexia</td>\n      <td>Нет в XML, в интернете только R3, очень похожи</td>\n    </tr>\n    <tr>\n      <th>28</th>\n      <td>Renault</td>\n      <td>Sandero Stepway</td>\n      <td>Нет в XML. Кузов практически идентичен Sandero...</td>\n    </tr>\n    <tr>\n      <th>29</th>\n      <td>Setra</td>\n      <td>SX3250 Series</td>\n      <td>Нет в данных Дмитрия</td>\n    </tr>\n    <tr>\n      <th>30</th>\n      <td>Suzuki</td>\n      <td>SX4 S Cross</td>\n      <td>Нет в XML. Кузов идентичен SX4</td>\n    </tr>\n    <tr>\n      <th>31</th>\n      <td>Toyota</td>\n      <td>bB</td>\n      <td>Нет в XML</td>\n    </tr>\n    <tr>\n      <th>32</th>\n      <td>Toyota</td>\n      <td>Camry Solara</td>\n      <td>Нет в XML</td>\n    </tr>\n    <tr>\n      <th>33</th>\n      <td>Toyota</td>\n      <td>Corolla Allex Corolla Axio</td>\n      <td>Нет в XML</td>\n    </tr>\n    <tr>\n      <th>34</th>\n      <td>Toyota</td>\n      <td>Corolla Runx</td>\n      <td>Нет в XML</td>\n    </tr>\n    <tr>\n      <th>35</th>\n      <td>Toyota</td>\n      <td>Corolla Verso</td>\n      <td>Нет в XML</td>\n    </tr>\n    <tr>\n      <th>36</th>\n      <td>Toyota</td>\n      <td>Corona Premio</td>\n      <td>Нет в XML</td>\n    </tr>\n    <tr>\n      <th>37</th>\n      <td>Toyota</td>\n      <td>Hilux</td>\n      <td>Нет в XML</td>\n    </tr>\n    <tr>\n      <th>38</th>\n      <td>Toyota</td>\n      <td>Lite Ace</td>\n      <td>Нет в XML</td>\n    </tr>\n    <tr>\n      <th>39</th>\n      <td>Toyota</td>\n      <td>Lite Ace Noah</td>\n      <td>Нет в XML</td>\n    </tr>\n    <tr>\n      <th>40</th>\n      <td>UAZ</td>\n      <td>2206</td>\n      <td>Нет в XML</td>\n    </tr>\n    <tr>\n      <th>41</th>\n      <td>UAZ</td>\n      <td>3151</td>\n      <td>Нет в XML</td>\n    </tr>\n    <tr>\n      <th>42</th>\n      <td>UAZ</td>\n      <td>3962</td>\n      <td>Нет в XML</td>\n    </tr>\n    <tr>\n      <th>43</th>\n      <td>UAZ</td>\n      <td>4320</td>\n      <td>Нет в XML</td>\n    </tr>\n    <tr>\n      <th>44</th>\n      <td>UAZ</td>\n      <td>39094</td>\n      <td>Нет в XML</td>\n    </tr>\n    <tr>\n      <th>45</th>\n      <td>UAZ</td>\n      <td>390995</td>\n      <td>Нет в XML</td>\n    </tr>\n    <tr>\n      <th>46</th>\n      <td>VAZ_Lada</td>\n      <td>Kalina Cross</td>\n      <td>Кузов идентичен kalina. Нет отдельных данных</td>\n    </tr>\n    <tr>\n      <th>47</th>\n      <td>VIS</td>\n      <td>234700</td>\n      <td>Идентичен 2347</td>\n    </tr>\n    <tr>\n      <th>48</th>\n      <td>VIS</td>\n      <td>234900</td>\n      <td>Индентичен 2349</td>\n    </tr>\n    <tr>\n      <th>49</th>\n      <td>Volkswagen</td>\n      <td>Golf Plus</td>\n      <td>Идентичен Golf</td>\n    </tr>\n    <tr>\n      <th>50</th>\n      <td>Volkswagen</td>\n      <td>Passat Alltrack</td>\n      <td>Идентичен Passat</td>\n    </tr>\n    <tr>\n      <th>51</th>\n      <td>Volvo</td>\n      <td>FM</td>\n      <td>Идентичен FH/FE</td>\n    </tr>\n    <tr>\n      <th>52</th>\n      <td>Volvo</td>\n      <td>FMX</td>\n      <td>Идентичен FM</td>\n    </tr>\n    <tr>\n      <th>53</th>\n      <td>Volvo</td>\n      <td>V40 Cross Country</td>\n      <td>Идентична V40</td>\n    </tr>\n    <tr>\n      <th>54</th>\n      <td>ZIL</td>\n      <td>4314</td>\n      <td>Идентичен 130</td>\n    </tr>\n    <tr>\n      <th>55</th>\n      <td>ZIL</td>\n      <td>4333</td>\n      <td>Идентичен 4331</td>\n    </tr>\n    <tr>\n      <th>56</th>\n      <td>ZIL</td>\n      <td>MMZ 4502</td>\n      <td>Идентичен 130</td>\n    </tr>\n    <tr>\n      <th>57</th>\n      <td>ZIL</td>\n      <td>MMZ 4505</td>\n      <td>Идентичен 130/131</td>\n    </tr>\n    <tr>\n      <th>58</th>\n      <td>ZIL</td>\n      <td>MMZ 45085</td>\n      <td>Идентичен 4331</td>\n    </tr>\n    <tr>\n      <th>59</th>\n      <td>ZIL</td>\n      <td>MMZ 554</td>\n      <td>Идентичен 130</td>\n    </tr>\n  </tbody>\n</table>\n</div>"
     },
     "execution_count": 178,
     "metadata": {},
     "output_type": "execute_result"
    }
   ],
   "source": [
    "missed_data"
   ],
   "metadata": {
    "collapsed": false,
    "ExecuteTime": {
     "start_time": "2023-08-03T13:44:12.629346Z",
     "end_time": "2023-08-03T13:44:12.675884Z"
    }
   }
  },
  {
   "cell_type": "code",
   "execution_count": 179,
   "outputs": [],
   "source": [
    "missed_data.to_excel('Missed_Cars.xlsx', index=False)"
   ],
   "metadata": {
    "collapsed": false,
    "ExecuteTime": {
     "start_time": "2023-08-03T13:44:12.976395Z",
     "end_time": "2023-08-03T13:44:13.042564Z"
    }
   }
  },
  {
   "cell_type": "markdown",
   "source": [
    "## 3. All data together"
   ],
   "metadata": {
    "collapsed": false
   }
  },
  {
   "cell_type": "markdown",
   "source": [
    "We select non None values"
   ],
   "metadata": {
    "collapsed": false
   }
  },
  {
   "cell_type": "code",
   "execution_count": 180,
   "outputs": [
    {
     "data": {
      "text/plain": "      Марка авто     Модель  Brand Model          Замечания\n0            NaN        NaN    NaN   NaN                NaN\n1          Total        NaN    NaN   NaN                NaN\n2          Acura        NaN    NaN   NaN                NaN\n3            NaN        MDX  Acura   MDX                NaN\n4    Acura Total        NaN    NaN   NaN                NaN\n..           ...        ...    ...   ...                ...\n986          NaN   MMZ 4505    NaN   NaN  Идентичен 130/131\n987          NaN  MMZ 45085    NaN   NaN     Идентичен 4331\n988          NaN    MMZ 554    NaN   NaN      Идентичен 130\n989    ZIL Total        NaN    NaN   NaN                NaN\n990  Grand Total        NaN    NaN   NaN                NaN\n\n[991 rows x 5 columns]",
      "text/html": "<div>\n<style scoped>\n    .dataframe tbody tr th:only-of-type {\n        vertical-align: middle;\n    }\n\n    .dataframe tbody tr th {\n        vertical-align: top;\n    }\n\n    .dataframe thead th {\n        text-align: right;\n    }\n</style>\n<table border=\"1\" class=\"dataframe\">\n  <thead>\n    <tr style=\"text-align: right;\">\n      <th></th>\n      <th>Марка авто</th>\n      <th>Модель</th>\n      <th>Brand</th>\n      <th>Model</th>\n      <th>Замечания</th>\n    </tr>\n  </thead>\n  <tbody>\n    <tr>\n      <th>0</th>\n      <td>NaN</td>\n      <td>NaN</td>\n      <td>NaN</td>\n      <td>NaN</td>\n      <td>NaN</td>\n    </tr>\n    <tr>\n      <th>1</th>\n      <td>Total</td>\n      <td>NaN</td>\n      <td>NaN</td>\n      <td>NaN</td>\n      <td>NaN</td>\n    </tr>\n    <tr>\n      <th>2</th>\n      <td>Acura</td>\n      <td>NaN</td>\n      <td>NaN</td>\n      <td>NaN</td>\n      <td>NaN</td>\n    </tr>\n    <tr>\n      <th>3</th>\n      <td>NaN</td>\n      <td>MDX</td>\n      <td>Acura</td>\n      <td>MDX</td>\n      <td>NaN</td>\n    </tr>\n    <tr>\n      <th>4</th>\n      <td>Acura Total</td>\n      <td>NaN</td>\n      <td>NaN</td>\n      <td>NaN</td>\n      <td>NaN</td>\n    </tr>\n    <tr>\n      <th>...</th>\n      <td>...</td>\n      <td>...</td>\n      <td>...</td>\n      <td>...</td>\n      <td>...</td>\n    </tr>\n    <tr>\n      <th>986</th>\n      <td>NaN</td>\n      <td>MMZ 4505</td>\n      <td>NaN</td>\n      <td>NaN</td>\n      <td>Идентичен 130/131</td>\n    </tr>\n    <tr>\n      <th>987</th>\n      <td>NaN</td>\n      <td>MMZ 45085</td>\n      <td>NaN</td>\n      <td>NaN</td>\n      <td>Идентичен 4331</td>\n    </tr>\n    <tr>\n      <th>988</th>\n      <td>NaN</td>\n      <td>MMZ 554</td>\n      <td>NaN</td>\n      <td>NaN</td>\n      <td>Идентичен 130</td>\n    </tr>\n    <tr>\n      <th>989</th>\n      <td>ZIL Total</td>\n      <td>NaN</td>\n      <td>NaN</td>\n      <td>NaN</td>\n      <td>NaN</td>\n    </tr>\n    <tr>\n      <th>990</th>\n      <td>Grand Total</td>\n      <td>NaN</td>\n      <td>NaN</td>\n      <td>NaN</td>\n      <td>NaN</td>\n    </tr>\n  </tbody>\n</table>\n<p>991 rows × 5 columns</p>\n</div>"
     },
     "execution_count": 180,
     "metadata": {},
     "output_type": "execute_result"
    }
   ],
   "source": [
    "cropped_df = df[['Марка авто', 'Модель', 'Brand', 'Model', 'Замечания']]\n",
    "cropped_df"
   ],
   "metadata": {
    "collapsed": false,
    "ExecuteTime": {
     "start_time": "2023-08-03T13:44:14.285776Z",
     "end_time": "2023-08-03T13:44:14.435773Z"
    }
   }
  },
  {
   "cell_type": "code",
   "execution_count": 181,
   "outputs": [],
   "source": [
    "all_cars = []\n",
    "cropped_df = df[['Марка авто', 'Модель', 'Brand', 'Model', 'Замечания']]\n",
    "for index, row in cropped_df.iterrows():\n",
    "    problems = row['Замечания']\n",
    "    brand = row['Марка авто']\n",
    "    required_model = row['Модель']\n",
    "    existing_model = row['Model']\n",
    "    if all(\n",
    "            [\n",
    "                not pd.isna(problems),\n",
    "                not pd.isna(required_model),\n",
    "                pd.isna(existing_model),\n",
    "                pd.isna(brand),\n",
    "            ]\n",
    "    ):  # This model wasn't processed for some reason\n",
    "        brand = cropped_df['Brand'][cropped_df.loc[:index+1, 'Brand'].last_valid_index()]\n",
    "        model = required_model\n",
    "        cropped_df.at[index, 'Brand'] = brand\n",
    "        cropped_df.at[index, 'Model'] = model"
   ],
   "metadata": {
    "collapsed": false,
    "ExecuteTime": {
     "start_time": "2023-08-03T13:44:14.533789Z",
     "end_time": "2023-08-03T13:44:14.667798Z"
    }
   }
  },
  {
   "cell_type": "code",
   "execution_count": 182,
   "outputs": [
    {
     "data": {
      "text/plain": "      Марка авто     Модель  Brand      Model          Замечания\n0            NaN        NaN    NaN        NaN                NaN\n1          Total        NaN    NaN        NaN                NaN\n2          Acura        NaN    NaN        NaN                NaN\n3            NaN        MDX  Acura        MDX                NaN\n4    Acura Total        NaN    NaN        NaN                NaN\n..           ...        ...    ...        ...                ...\n986          NaN   MMZ 4505    ZIL   MMZ 4505  Идентичен 130/131\n987          NaN  MMZ 45085    ZIL  MMZ 45085     Идентичен 4331\n988          NaN    MMZ 554    ZIL    MMZ 554      Идентичен 130\n989    ZIL Total        NaN    NaN        NaN                NaN\n990  Grand Total        NaN    NaN        NaN                NaN\n\n[991 rows x 5 columns]",
      "text/html": "<div>\n<style scoped>\n    .dataframe tbody tr th:only-of-type {\n        vertical-align: middle;\n    }\n\n    .dataframe tbody tr th {\n        vertical-align: top;\n    }\n\n    .dataframe thead th {\n        text-align: right;\n    }\n</style>\n<table border=\"1\" class=\"dataframe\">\n  <thead>\n    <tr style=\"text-align: right;\">\n      <th></th>\n      <th>Марка авто</th>\n      <th>Модель</th>\n      <th>Brand</th>\n      <th>Model</th>\n      <th>Замечания</th>\n    </tr>\n  </thead>\n  <tbody>\n    <tr>\n      <th>0</th>\n      <td>NaN</td>\n      <td>NaN</td>\n      <td>NaN</td>\n      <td>NaN</td>\n      <td>NaN</td>\n    </tr>\n    <tr>\n      <th>1</th>\n      <td>Total</td>\n      <td>NaN</td>\n      <td>NaN</td>\n      <td>NaN</td>\n      <td>NaN</td>\n    </tr>\n    <tr>\n      <th>2</th>\n      <td>Acura</td>\n      <td>NaN</td>\n      <td>NaN</td>\n      <td>NaN</td>\n      <td>NaN</td>\n    </tr>\n    <tr>\n      <th>3</th>\n      <td>NaN</td>\n      <td>MDX</td>\n      <td>Acura</td>\n      <td>MDX</td>\n      <td>NaN</td>\n    </tr>\n    <tr>\n      <th>4</th>\n      <td>Acura Total</td>\n      <td>NaN</td>\n      <td>NaN</td>\n      <td>NaN</td>\n      <td>NaN</td>\n    </tr>\n    <tr>\n      <th>...</th>\n      <td>...</td>\n      <td>...</td>\n      <td>...</td>\n      <td>...</td>\n      <td>...</td>\n    </tr>\n    <tr>\n      <th>986</th>\n      <td>NaN</td>\n      <td>MMZ 4505</td>\n      <td>ZIL</td>\n      <td>MMZ 4505</td>\n      <td>Идентичен 130/131</td>\n    </tr>\n    <tr>\n      <th>987</th>\n      <td>NaN</td>\n      <td>MMZ 45085</td>\n      <td>ZIL</td>\n      <td>MMZ 45085</td>\n      <td>Идентичен 4331</td>\n    </tr>\n    <tr>\n      <th>988</th>\n      <td>NaN</td>\n      <td>MMZ 554</td>\n      <td>ZIL</td>\n      <td>MMZ 554</td>\n      <td>Идентичен 130</td>\n    </tr>\n    <tr>\n      <th>989</th>\n      <td>ZIL Total</td>\n      <td>NaN</td>\n      <td>NaN</td>\n      <td>NaN</td>\n      <td>NaN</td>\n    </tr>\n    <tr>\n      <th>990</th>\n      <td>Grand Total</td>\n      <td>NaN</td>\n      <td>NaN</td>\n      <td>NaN</td>\n      <td>NaN</td>\n    </tr>\n  </tbody>\n</table>\n<p>991 rows × 5 columns</p>\n</div>"
     },
     "execution_count": 182,
     "metadata": {},
     "output_type": "execute_result"
    }
   ],
   "source": [
    "cropped_df"
   ],
   "metadata": {
    "collapsed": false,
    "ExecuteTime": {
     "start_time": "2023-08-03T13:44:14.836323Z",
     "end_time": "2023-08-03T13:44:14.874818Z"
    }
   }
  },
  {
   "cell_type": "code",
   "execution_count": 183,
   "outputs": [
    {
     "data": {
      "text/plain": "          Brand        Model          Замечания\n0         Acura          MDX                NaN\n1    Alfa Romeo    Giulietta                NaN\n2          Audi           80                NaN\n3          Audi          100                NaN\n4          Audi           A1                NaN\n..          ...          ...                ...\n794         ZIL  5301 Bychok                NaN\n795         ZIL     MMZ 4502      Идентичен 130\n796         ZIL     MMZ 4505  Идентичен 130/131\n797         ZIL    MMZ 45085     Идентичен 4331\n798         ZIL      MMZ 554      Идентичен 130\n\n[799 rows x 3 columns]",
      "text/html": "<div>\n<style scoped>\n    .dataframe tbody tr th:only-of-type {\n        vertical-align: middle;\n    }\n\n    .dataframe tbody tr th {\n        vertical-align: top;\n    }\n\n    .dataframe thead th {\n        text-align: right;\n    }\n</style>\n<table border=\"1\" class=\"dataframe\">\n  <thead>\n    <tr style=\"text-align: right;\">\n      <th></th>\n      <th>Brand</th>\n      <th>Model</th>\n      <th>Замечания</th>\n    </tr>\n  </thead>\n  <tbody>\n    <tr>\n      <th>0</th>\n      <td>Acura</td>\n      <td>MDX</td>\n      <td>NaN</td>\n    </tr>\n    <tr>\n      <th>1</th>\n      <td>Alfa Romeo</td>\n      <td>Giulietta</td>\n      <td>NaN</td>\n    </tr>\n    <tr>\n      <th>2</th>\n      <td>Audi</td>\n      <td>80</td>\n      <td>NaN</td>\n    </tr>\n    <tr>\n      <th>3</th>\n      <td>Audi</td>\n      <td>100</td>\n      <td>NaN</td>\n    </tr>\n    <tr>\n      <th>4</th>\n      <td>Audi</td>\n      <td>A1</td>\n      <td>NaN</td>\n    </tr>\n    <tr>\n      <th>...</th>\n      <td>...</td>\n      <td>...</td>\n      <td>...</td>\n    </tr>\n    <tr>\n      <th>794</th>\n      <td>ZIL</td>\n      <td>5301 Bychok</td>\n      <td>NaN</td>\n    </tr>\n    <tr>\n      <th>795</th>\n      <td>ZIL</td>\n      <td>MMZ 4502</td>\n      <td>Идентичен 130</td>\n    </tr>\n    <tr>\n      <th>796</th>\n      <td>ZIL</td>\n      <td>MMZ 4505</td>\n      <td>Идентичен 130/131</td>\n    </tr>\n    <tr>\n      <th>797</th>\n      <td>ZIL</td>\n      <td>MMZ 45085</td>\n      <td>Идентичен 4331</td>\n    </tr>\n    <tr>\n      <th>798</th>\n      <td>ZIL</td>\n      <td>MMZ 554</td>\n      <td>Идентичен 130</td>\n    </tr>\n  </tbody>\n</table>\n<p>799 rows × 3 columns</p>\n</div>"
     },
     "execution_count": 183,
     "metadata": {},
     "output_type": "execute_result"
    }
   ],
   "source": [
    "result = cropped_df[['Brand', 'Model', 'Замечания']].dropna(subset=['Brand', 'Model'],inplace=False, axis=0, ignore_index=True)\n",
    "result"
   ],
   "metadata": {
    "collapsed": false,
    "ExecuteTime": {
     "start_time": "2023-08-03T13:44:15.170916Z",
     "end_time": "2023-08-03T13:44:15.260740Z"
    }
   }
  },
  {
   "cell_type": "code",
   "execution_count": 184,
   "outputs": [],
   "source": [
    "result.insert(2, 'Status', np.where(result['Замечания'].isna(), result['Замечания'], 'Missed'))"
   ],
   "metadata": {
    "collapsed": false,
    "ExecuteTime": {
     "start_time": "2023-08-03T13:44:15.656844Z",
     "end_time": "2023-08-03T13:44:15.686834Z"
    }
   }
  },
  {
   "cell_type": "code",
   "execution_count": 185,
   "outputs": [
    {
     "data": {
      "text/plain": "          Brand        Model  Status          Замечания\n0         Acura          MDX     NaN                NaN\n1    Alfa Romeo    Giulietta     NaN                NaN\n2          Audi           80     NaN                NaN\n3          Audi          100     NaN                NaN\n4          Audi           A1     NaN                NaN\n..          ...          ...     ...                ...\n794         ZIL  5301 Bychok     NaN                NaN\n795         ZIL     MMZ 4502  Missed      Идентичен 130\n796         ZIL     MMZ 4505  Missed  Идентичен 130/131\n797         ZIL    MMZ 45085  Missed     Идентичен 4331\n798         ZIL      MMZ 554  Missed      Идентичен 130\n\n[799 rows x 4 columns]",
      "text/html": "<div>\n<style scoped>\n    .dataframe tbody tr th:only-of-type {\n        vertical-align: middle;\n    }\n\n    .dataframe tbody tr th {\n        vertical-align: top;\n    }\n\n    .dataframe thead th {\n        text-align: right;\n    }\n</style>\n<table border=\"1\" class=\"dataframe\">\n  <thead>\n    <tr style=\"text-align: right;\">\n      <th></th>\n      <th>Brand</th>\n      <th>Model</th>\n      <th>Status</th>\n      <th>Замечания</th>\n    </tr>\n  </thead>\n  <tbody>\n    <tr>\n      <th>0</th>\n      <td>Acura</td>\n      <td>MDX</td>\n      <td>NaN</td>\n      <td>NaN</td>\n    </tr>\n    <tr>\n      <th>1</th>\n      <td>Alfa Romeo</td>\n      <td>Giulietta</td>\n      <td>NaN</td>\n      <td>NaN</td>\n    </tr>\n    <tr>\n      <th>2</th>\n      <td>Audi</td>\n      <td>80</td>\n      <td>NaN</td>\n      <td>NaN</td>\n    </tr>\n    <tr>\n      <th>3</th>\n      <td>Audi</td>\n      <td>100</td>\n      <td>NaN</td>\n      <td>NaN</td>\n    </tr>\n    <tr>\n      <th>4</th>\n      <td>Audi</td>\n      <td>A1</td>\n      <td>NaN</td>\n      <td>NaN</td>\n    </tr>\n    <tr>\n      <th>...</th>\n      <td>...</td>\n      <td>...</td>\n      <td>...</td>\n      <td>...</td>\n    </tr>\n    <tr>\n      <th>794</th>\n      <td>ZIL</td>\n      <td>5301 Bychok</td>\n      <td>NaN</td>\n      <td>NaN</td>\n    </tr>\n    <tr>\n      <th>795</th>\n      <td>ZIL</td>\n      <td>MMZ 4502</td>\n      <td>Missed</td>\n      <td>Идентичен 130</td>\n    </tr>\n    <tr>\n      <th>796</th>\n      <td>ZIL</td>\n      <td>MMZ 4505</td>\n      <td>Missed</td>\n      <td>Идентичен 130/131</td>\n    </tr>\n    <tr>\n      <th>797</th>\n      <td>ZIL</td>\n      <td>MMZ 45085</td>\n      <td>Missed</td>\n      <td>Идентичен 4331</td>\n    </tr>\n    <tr>\n      <th>798</th>\n      <td>ZIL</td>\n      <td>MMZ 554</td>\n      <td>Missed</td>\n      <td>Идентичен 130</td>\n    </tr>\n  </tbody>\n</table>\n<p>799 rows × 4 columns</p>\n</div>"
     },
     "execution_count": 185,
     "metadata": {},
     "output_type": "execute_result"
    }
   ],
   "source": [
    "result"
   ],
   "metadata": {
    "collapsed": false,
    "ExecuteTime": {
     "start_time": "2023-08-03T13:44:16.109047Z",
     "end_time": "2023-08-03T13:44:16.144037Z"
    }
   }
  },
  {
   "cell_type": "code",
   "execution_count": 186,
   "outputs": [],
   "source": [
    "result.to_excel('All_cars_info.xlsx', index=False)"
   ],
   "metadata": {
    "collapsed": false,
    "ExecuteTime": {
     "start_time": "2023-08-03T13:44:17.160289Z",
     "end_time": "2023-08-03T13:44:17.293423Z"
    }
   }
  },
  {
   "cell_type": "code",
   "execution_count": 186,
   "outputs": [],
   "source": [],
   "metadata": {
    "collapsed": false,
    "ExecuteTime": {
     "start_time": "2023-08-03T13:44:17.794810Z",
     "end_time": "2023-08-03T13:44:17.850859Z"
    }
   }
  }
 ],
 "metadata": {
  "kernelspec": {
   "display_name": "Python 3",
   "language": "python",
   "name": "python3"
  },
  "language_info": {
   "codemirror_mode": {
    "name": "ipython",
    "version": 2
   },
   "file_extension": ".py",
   "mimetype": "text/x-python",
   "name": "python",
   "nbconvert_exporter": "python",
   "pygments_lexer": "ipython2",
   "version": "2.7.6"
  }
 },
 "nbformat": 4,
 "nbformat_minor": 0
}
