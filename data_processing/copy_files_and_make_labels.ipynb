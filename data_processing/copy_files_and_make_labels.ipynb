{
 "cells": [
  {
   "cell_type": "code",
   "execution_count": 1,
   "outputs": [],
   "source": [
    "import os\n",
    "import csv\n",
    "import shutil\n",
    "import pandas as pd"
   ],
   "metadata": {
    "collapsed": false,
    "ExecuteTime": {
     "start_time": "2023-07-11T14:33:07.538500Z",
     "end_time": "2023-07-11T14:33:09.257092Z"
    }
   }
  },
  {
   "cell_type": "code",
   "execution_count": 1,
   "outputs": [],
   "source": [],
   "metadata": {
    "collapsed": false,
    "ExecuteTime": {
     "start_time": "2023-07-11T14:33:09.240925Z",
     "end_time": "2023-07-11T14:33:09.257092Z"
    }
   }
  },
  {
   "cell_type": "code",
   "execution_count": 2,
   "outputs": [],
   "source": [
    "def copy_images(source_dir, destination_dir):\n",
    "    image_extensions = ['.jpg', '.jpeg']  # Add more extensions if needed\n",
    "    image_counter = 1\n",
    "    image_data = []\n",
    "\n",
    "    flag = 0\n",
    "    for root, dirs, files in os.walk(source_dir):\n",
    "        for file in files:\n",
    "            if any(file.lower().endswith(ext) for ext in image_extensions):\n",
    "                source_path = os.path.join(root, file)\n",
    "                destination_path = os.path.join(destination_dir, str(image_counter) + \".jpg\")\n",
    "\n",
    "                label_name = '_'.join(root.split(\"\\\\\")[-2:])  # Get car brand and model\n",
    "                image_data.append((str(image_counter), label_name))\n",
    "\n",
    "                # continue\n",
    "                if label_name == 'Audi_A3':\n",
    "                    flag = 1\n",
    "                    break\n",
    "\n",
    "\n",
    "                shutil.copy2(source_path, destination_path)\n",
    "                image_counter += 1\n",
    "        if flag:\n",
    "            break\n",
    "\n",
    "    df = pd.DataFrame(image_data, columns=['id', 'label'])\n",
    "    return df"
   ],
   "metadata": {
    "collapsed": false,
    "ExecuteTime": {
     "start_time": "2023-07-11T14:33:09.240925Z",
     "end_time": "2023-07-11T14:33:09.278075Z"
    }
   }
  },
  {
   "cell_type": "code",
   "execution_count": 3,
   "outputs": [],
   "source": [
    "# Specify the source directory containing nested folders with images\n",
    "train_source_directory = '../train'\n",
    "test_source_directory = '../test'\n",
    "\n",
    "# Specify the destination directory where the images will be copied\n",
    "train_destination_directory = '../cars_data/train'\n",
    "test_destination_directory = '../cars_data/test'\n",
    "os.makedirs(train_destination_directory, exist_ok=True)\n",
    "os.makedirs(test_destination_directory, exist_ok=True)\n",
    "\n",
    "\n",
    "\n",
    "train_csv_file = \"../cars_data/train_labels.csv\"\n",
    "test_csv_file = \"../cars_data/test_labels.csv\""
   ],
   "metadata": {
    "collapsed": false,
    "ExecuteTime": {
     "start_time": "2023-07-11T14:33:09.257092Z",
     "end_time": "2023-07-11T14:33:09.278075Z"
    }
   }
  },
  {
   "cell_type": "code",
   "execution_count": 4,
   "outputs": [],
   "source": [
    "copy_images(test_source_directory, test_destination_directory).to_csv(test_csv_file, index=False)"
   ],
   "metadata": {
    "collapsed": false,
    "ExecuteTime": {
     "start_time": "2023-07-11T14:33:09.278075Z",
     "end_time": "2023-07-11T14:33:09.396999Z"
    }
   }
  },
  {
   "cell_type": "code",
   "execution_count": 5,
   "outputs": [],
   "source": [
    "copy_images(train_source_directory, train_destination_directory).to_csv(train_csv_file, index=False)"
   ],
   "metadata": {
    "collapsed": false,
    "ExecuteTime": {
     "start_time": "2023-07-11T14:33:09.396999Z",
     "end_time": "2023-07-11T14:33:09.747780Z"
    }
   }
  },
  {
   "cell_type": "code",
   "execution_count": 5,
   "outputs": [],
   "source": [],
   "metadata": {
    "collapsed": false,
    "ExecuteTime": {
     "start_time": "2023-07-11T14:33:09.753713Z",
     "end_time": "2023-07-11T14:33:09.753713Z"
    }
   }
  }
 ],
 "metadata": {
  "kernelspec": {
   "name": "yolo_torch",
   "language": "python",
   "display_name": "yolo_torch"
  },
  "language_info": {
   "codemirror_mode": {
    "name": "ipython",
    "version": 3
   },
   "file_extension": ".py",
   "mimetype": "text/x-python",
   "name": "python",
   "nbconvert_exporter": "python",
   "pygments_lexer": "ipython3",
   "version": "3.11.3"
  },
  "orig_nbformat": 4
 },
 "nbformat": 4,
 "nbformat_minor": 2
}
