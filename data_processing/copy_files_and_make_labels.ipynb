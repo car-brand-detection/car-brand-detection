{
 "cells": [
  {
   "cell_type": "code",
   "execution_count": 3,
   "outputs": [],
   "source": [
    "import os\n",
    "import csv\n",
    "import shutil\n",
    "import pandas as pd"
   ],
   "metadata": {
    "collapsed": false,
    "ExecuteTime": {
     "start_time": "2023-07-30T17:52:39.383367Z",
     "end_time": "2023-07-30T17:52:39.383367Z"
    }
   }
  },
  {
   "cell_type": "code",
   "execution_count": 3,
   "outputs": [],
   "source": [],
   "metadata": {
    "collapsed": false,
    "ExecuteTime": {
     "start_time": "2023-07-30T17:52:39.638773Z",
     "end_time": "2023-07-30T17:52:39.638773Z"
    }
   }
  },
  {
   "cell_type": "code",
   "execution_count": 28,
   "outputs": [],
   "source": [
    "def copy_images(source_dir, destination_dir, start_from=0, stop_at=-1):\n",
    "    image_extensions = ['.jpg', '.jpeg']  # Add more extensions if needed\n",
    "    image_id = 1\n",
    "    image_data = []\n",
    "    for root, dirs, files in os.walk(source_dir):\n",
    "        image_counter = 0\n",
    "        for file in files:\n",
    "            if any(file.lower().endswith(ext) for ext in image_extensions):\n",
    "                image_counter += 1\n",
    "                if image_counter < start_from or (image_counter > stop_at and stop_at > 0):\n",
    "                    print(\"skipped\")\n",
    "                    continue\n",
    "\n",
    "\n",
    "                source_path = os.path.join(root, file)\n",
    "                destination_path = os.path.join(destination_dir, str(image_id) + \".jpg\")\n",
    "\n",
    "                path_pieces = (os.path.normpath(source_path).split(os.path.sep))\n",
    "                brand = path_pieces[-3]\n",
    "                model = path_pieces[-2]\n",
    "                model = model.replace(\" \", \"_\")\n",
    "                # label_name = '_'.join(root.split(\"/\")[-2:])  # Get car brand and model\n",
    "                image_data.append((str(image_id), f'{brand}_{model}'))\n",
    "\n",
    "                shutil.copy2(source_path, destination_path)\n",
    "                image_id += 1\n",
    "\n",
    "\n",
    "    df = pd.DataFrame(image_data, columns=['id', 'label'])\n",
    "    return df"
   ],
   "metadata": {
    "collapsed": false,
    "ExecuteTime": {
     "start_time": "2023-07-30T18:18:52.044830Z",
     "end_time": "2023-07-30T18:18:52.045347Z"
    }
   }
  },
  {
   "cell_type": "code",
   "execution_count": 29,
   "outputs": [],
   "source": [
    "train_source_directory = \"../data/raw_in_folders/train\"\n",
    "test_source_directory = \"../data/raw_in_folders/test\"\n",
    "# val_source_directory = \"../data/raw\"\n",
    "\n",
    "# Specify the destination directory where the images will be copied\n",
    "train_destination_directory = '../data/raw_in_one_folder/train'\n",
    "test_destination_directory = '../data/raw_in_one_folder/test'\n",
    "# val_destination_directory = '../data/processed/test'\n",
    "\n",
    "os.makedirs(train_destination_directory, exist_ok=True)\n",
    "os.makedirs(test_destination_directory, exist_ok=True)\n",
    "# os.makedirs(val_destination_directory, exist_ok=True)\n",
    "\n",
    "train_csv_file = \"../data/train_labels.csv\"\n",
    "test_csv_file = \"../data/test_labels.csv\"\n",
    "# val_csv_file = \"../Dogs/val_labels.csv\"\n",
    "\n",
    "\n"
   ],
   "metadata": {
    "collapsed": false,
    "ExecuteTime": {
     "start_time": "2023-07-30T18:18:52.882472Z",
     "end_time": "2023-07-30T18:18:52.882994Z"
    }
   }
  },
  {
   "cell_type": "code",
   "execution_count": 30,
   "outputs": [],
   "source": [
    "copy_images(test_source_directory, test_destination_directory, start_from=0).to_csv(test_csv_file, index=False)"
   ],
   "metadata": {
    "collapsed": false,
    "ExecuteTime": {
     "start_time": "2023-07-30T18:18:53.961688Z",
     "end_time": "2023-07-30T18:18:55.734827Z"
    }
   }
  },
  {
   "cell_type": "code",
   "execution_count": 31,
   "outputs": [],
   "source": [
    "copy_images(train_source_directory, train_destination_directory, start_from=0).to_csv(train_csv_file, index=False)"
   ],
   "metadata": {
    "collapsed": false,
    "ExecuteTime": {
     "start_time": "2023-07-30T18:19:54.433826Z",
     "end_time": "2023-07-30T18:20:09.447251Z"
    }
   }
  },
  {
   "cell_type": "code",
   "execution_count": 8,
   "outputs": [],
   "source": [
    "# copy_images(val_source_directory, val_destination_directory, start_from=25, stop_at=27).to_csv(val_csv_file, index=False)"
   ],
   "metadata": {
    "collapsed": false,
    "ExecuteTime": {
     "start_time": "2023-07-13T20:42:17.050099Z",
     "end_time": "2023-07-13T20:42:17.179163Z"
    }
   }
  },
  {
   "cell_type": "code",
   "execution_count": null,
   "outputs": [],
   "source": [],
   "metadata": {
    "collapsed": false
   }
  }
 ],
 "metadata": {
  "kernelspec": {
   "name": "yolo_torch",
   "language": "python",
   "display_name": "yolo_torch"
  },
  "language_info": {
   "codemirror_mode": {
    "name": "ipython",
    "version": 3
   },
   "file_extension": ".py",
   "mimetype": "text/x-python",
   "name": "python",
   "nbconvert_exporter": "python",
   "pygments_lexer": "ipython3",
   "version": "3.11.3"
  },
  "orig_nbformat": 4
 },
 "nbformat": 4,
 "nbformat_minor": 2
}
