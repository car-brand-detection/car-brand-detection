{
 "cells": [
  {
   "cell_type": "markdown",
   "source": [
    "## Script to rename the photos according to Python list of desired names"
   ],
   "metadata": {
    "collapsed": false
   }
  },
  {
   "cell_type": "code",
   "execution_count": null,
   "outputs": [],
   "source": [
    "import os"
   ],
   "metadata": {
    "collapsed": false
   }
  },
  {
   "cell_type": "code",
   "execution_count": null,
   "outputs": [],
   "source": [
    "plates = [\n",
    "    # Example\n",
    "    \"AA111A111\",\n",
    "]"
   ],
   "metadata": {
    "collapsed": false
   }
  },
  {
   "cell_type": "code",
   "execution_count": null,
   "metadata": {
    "collapsed": true
   },
   "outputs": [],
   "source": [
    "path = \"../data/photos/\"\n",
    "for i, (file, plate) in enumerate(zip(os.listdir(path), plates)):\n",
    "    if not file.endswith((\".jpg\", \".jpeg\")):\n",
    "        continue\n",
    "        # Create the new file name using the plate name from the list\n",
    "    new_filename = plate + '.jpg'\n",
    "    os.rename(os.path.join(path, file), os.path.join(path, new_filename))"
   ]
  }
 ],
 "metadata": {
  "kernelspec": {
   "display_name": "Python 3",
   "language": "python",
   "name": "python3"
  },
  "language_info": {
   "codemirror_mode": {
    "name": "ipython",
    "version": 2
   },
   "file_extension": ".py",
   "mimetype": "text/x-python",
   "name": "python",
   "nbconvert_exporter": "python",
   "pygments_lexer": "ipython2",
   "version": "2.7.6"
  }
 },
 "nbformat": 4,
 "nbformat_minor": 0
}
