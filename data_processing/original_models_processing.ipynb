{
 "cells": [
  {
   "cell_type": "markdown",
   "source": [
    "# In this notebook we'll rebuild our labels dataset. We will parse it and collect to a new representation form."
   ],
   "metadata": {
    "collapsed": false
   }
  },
  {
   "cell_type": "code",
   "execution_count": 2,
   "metadata": {
    "collapsed": true,
    "ExecuteTime": {
     "start_time": "2023-06-27T15:51:09.349802Z",
     "end_time": "2023-06-27T15:51:10.509717Z"
    }
   },
   "outputs": [],
   "source": [
    "import numpy as np\n",
    "import pandas as pd"
   ]
  },
  {
   "cell_type": "code",
   "execution_count": 4,
   "outputs": [],
   "source": [
    "cars = pd.read_csv(\"../data/source/original_cars_brands_and_models.csv\")"
   ],
   "metadata": {
    "collapsed": false,
    "ExecuteTime": {
     "start_time": "2023-06-27T15:52:06.610244Z",
     "end_time": "2023-06-27T15:52:06.653318Z"
    }
   }
  },
  {
   "cell_type": "code",
   "execution_count": 5,
   "outputs": [
    {
     "data": {
      "text/plain": "Марка авто    NaN\nМодель        MDX\nName: 1, dtype: object"
     },
     "execution_count": 5,
     "metadata": {},
     "output_type": "execute_result"
    }
   ],
   "source": [
    "cars.iloc[1]"
   ],
   "metadata": {
    "collapsed": false,
    "ExecuteTime": {
     "start_time": "2023-06-27T15:52:09.507085Z",
     "end_time": "2023-06-27T15:52:09.551566Z"
    }
   }
  },
  {
   "cell_type": "markdown",
   "source": [
    "The dataset consists of two columns: the brand of the car and the model. Following the specification of the car brand, the column then contains None values, while in the second column, the model names are presented in parallel. When the models for a particular brand are exhausted, a new brand is indicated, and the process repeats."
   ],
   "metadata": {
    "collapsed": false
   }
  },
  {
   "cell_type": "code",
   "execution_count": 6,
   "outputs": [],
   "source": [
    "cars.replace(np.nan, None, inplace=True)"
   ],
   "metadata": {
    "collapsed": false,
    "ExecuteTime": {
     "start_time": "2023-06-27T15:52:13.533654Z",
     "end_time": "2023-06-27T15:52:13.557188Z"
    }
   }
  },
  {
   "cell_type": "code",
   "execution_count": 7,
   "outputs": [],
   "source": [
    "def collect_models(dataset: pd.DataFrame):\n",
    "    names = {}\n",
    "    models = []\n",
    "    i = 0\n",
    "    last_model = dataset.iat[0, 0]\n",
    "    while i < dataset.shape[0]:\n",
    "        brand, model = dataset.iloc[i]\n",
    "\n",
    "\n",
    "        # continue\n",
    "        if not brand: # None\n",
    "\n",
    "            models.append(model)\n",
    "        else:\n",
    "            names[last_model] = models\n",
    "            last_model = dataset.iat[i, 0]\n",
    "            models = []\n",
    "        i+=1\n",
    "        # print(models)\n",
    "    return names"
   ],
   "metadata": {
    "collapsed": false,
    "ExecuteTime": {
     "start_time": "2023-06-27T15:52:13.747697Z",
     "end_time": "2023-06-27T15:52:13.779383Z"
    }
   }
  },
  {
   "cell_type": "code",
   "execution_count": 8,
   "outputs": [
    {
     "data": {
      "text/plain": "{'Acura': ['MDX'],\n 'Alfa Romeo': ['Giulietta'],\n 'Audi': ['80',\n  '100',\n  'A1',\n  'A3',\n  'A4',\n  'A5',\n  'A6',\n  'A7',\n  'A8',\n  'Q3',\n  'Q5',\n  'Q7',\n  'R8',\n  'RS6',\n  'S5',\n  'S8',\n  'TT'],\n 'BAW': ['FENIX'],\n 'BAZ': ['A079 Etalon'],\n 'BMW': ['1 Series',\n  '3 Series',\n  '4 Series',\n  '5 Series',\n  '6 Series',\n  '7 Series',\n  'X1',\n  'X3',\n  'X4',\n  'X5',\n  'X6',\n  'Z3',\n  'Z4'],\n 'Brilliance': ['V5'],\n 'BYD': ['F3'],\n 'Cadillac': ['CTS', 'Escalade', 'SRX'],\n 'Carrus': ['Star'],\n 'Chery': ['Amulet A15', 'Fora', 'Kimo S12', 'Tiggo', 'Tiggo 5', 'Tiggo T11'],\n 'Chevrolet': ['Aveo',\n  'Blazer',\n  'Camaro',\n  'Caprice',\n  'Captiva',\n  'Cobalt',\n  'Cruze',\n  'Epica',\n  'Express',\n  'Lacetti',\n  'Lanos',\n  'Niva',\n  'Orlando',\n  'Rezzo',\n  'Spark',\n  'Suburban',\n  'Tahoe',\n  'TrailBlazer'],\n 'Chrysler': ['300',\n  '300С',\n  'Grand Voyager',\n  'PT Cruiser',\n  'Pacifica',\n  'Sebring',\n  'Town and Country',\n  'Voyager'],\n 'Citroen': ['BX',\n  'Berlingo',\n  'C1',\n  'C2 C3',\n  'C3 Picasso',\n  'C4',\n  'C4 AirCross',\n  'C4 Picasso',\n  'C5',\n  'C Crosser',\n  'C Elysee',\n  'DS3',\n  'DS4',\n  'Grand C4 Picasso',\n  'Jumper',\n  'Jumpy',\n  'Xantia',\n  'Xsara'],\n 'Daewoo': ['BS106',\n  'Espero',\n  'Gentra',\n  'Lanos',\n  'Leganza',\n  'Matiz',\n  'Nexia',\n  'Nubira'],\n 'DAF': ['95', 'CE', 'XF'],\n 'Datsun': ['mi DO', 'on DO'],\n 'Dodge': ['Caliber',\n  'Caravan',\n  'Challenger',\n  'Grand Caravan',\n  'Ram',\n  'Stratus'],\n 'DW Hower': ['H3'],\n 'Emgrand': ['EC7'],\n 'FAW': ['Besturn B50', 'V5'],\n 'FIAT': ['500',\n  'Albea',\n  'Bravo',\n  'Doblo',\n  'Ducato',\n  'Grande Punto',\n  'Linea',\n  'Panda',\n  'Punto',\n  'Scudo',\n  'Stilo',\n  'Uno'],\n 'Ford': ['C Max',\n  'Cargo',\n  'EcoSport',\n  'Escape',\n  'Escort',\n  'Expedition',\n  'Explorer',\n  'F 150',\n  'Fiesta',\n  'Focus',\n  'Focus C Max',\n  'Fusion',\n  'Galaxy',\n  'Granada',\n  'Ка',\n  'Kuga',\n  'Maverick',\n  'Mondeo',\n  'Mustang'],\n 'Foton': ['Auman'],\n 'Freightliner': ['Century Class', 'Columbia'],\n 'GAZ': ['52',\n  '53',\n  '66',\n  '3307',\n  '3309',\n  '172200 Volga',\n  '1724 Gazel',\n  '24 Volga',\n  '27 Gazel',\n  '31 Volga',\n  '3221 Gazel',\n  '3302 Gazel',\n  '3308 Sadko',\n  '3310 Valday',\n  'GAZel Biznes GAZon Next',\n  'Gazel',\n  'Gazel Next',\n  'SAZ 3507'],\n 'Geely': ['CK', 'Emgrand EC7', 'GC6', 'MK'],\n 'Genesis': ['G80'],\n 'GolAZ': ['5291 Cruise'],\n 'Golden Dragon': ['XML6126', 'XML6957'],\n 'Great Wall': ['Hover', 'Hover H3', 'Hover H5'],\n 'Higer': ['A80'],\n 'Hino': ['300 Series', '500 Series'],\n 'Honda': ['Accord',\n  'Accord Crosstour',\n  'Airwave',\n  'CRV',\n  'Civic',\n  'Civic Ferio',\n  'Element',\n  'HR V',\n  'Integra',\n  'Jazz',\n  'Legend',\n  'Odyssey',\n  'Pilot',\n  'Prelude',\n  'Stepwgn',\n  'Stream'],\n 'HUMMER': ['H2'],\n 'Hyundai': ['Accent',\n  'Aero City',\n  'Avante',\n  'County',\n  'Coupe',\n  'Creta',\n  'Elantra',\n  'Equus',\n  'Galloper',\n  'Genesis',\n  'Getz',\n  'Grand Santa Fe Grand Starex',\n  'Grandeur',\n  'HD',\n  'H 1',\n  'Matrix',\n  'NF',\n  'Porter',\n  'Santa Fe',\n  'Solaris',\n  'Sonata',\n  'Starex',\n  'Terracan',\n  'Tiburon',\n  'Tucson',\n  'Universe Space',\n  'Veloster',\n  'i20',\n  'i30',\n  'i40',\n  'ix35',\n  'ix55'],\n 'Ikarus': ['250', '256', '260', '280'],\n 'Infiniti': ['FX Series',\n  'G Series',\n  'JX Series',\n  'Q50',\n  'Q70 M Series',\n  'QX50',\n  'QX70',\n  'QX80',\n  'QX Series'],\n 'International': ['9000 Series'],\n 'Iran Khodro': ['Samand'],\n 'Isuzu': ['Elf', 'F Series', 'Forward', 'N Series'],\n 'Iveco': ['Daily',\n  'EuroCargo',\n  'EuroStar',\n  'EuroTech',\n  'Stralis',\n  'Trakker',\n  'TurboDaily'],\n 'Izh': ['412', '2125', '2126', '2715', '2717', '21261 Fabula'],\n 'Jaguar': ['Pace', 'S Type', 'XE', 'XF', 'XJ', 'XK', 'XKR', 'X Type'],\n 'Jeep': ['Cherokee', 'Compass', 'Grand Cherokee', 'Wrangler'],\n 'JMC': ['Carrying'],\n 'KamAZ': ['551',\n  '4308',\n  '4310',\n  '4539',\n  '5308',\n  '5410',\n  '5411',\n  '5460',\n  '5490',\n  '5511',\n  '6460',\n  '6511',\n  '6520',\n  '6522',\n  '44108',\n  'NefAz 4208'],\n 'KAvZ': ['3976', '4235', '4238'],\n 'KIA': ['Bongo',\n  'Carens',\n  'Carnival',\n  'Cerato',\n  'Granbird',\n  'Magentis',\n  'Mohave',\n  'Opirus',\n  'Optima',\n  'Picanto',\n  'Quoris',\n  'Rio',\n  'Rio X Line',\n  'Sorento',\n  'Soul',\n  'Spectra',\n  'Sportage',\n  'Venga',\n  'ceed',\n  'pro ceed'],\n 'King Long': ['XMQ'],\n 'Land Rover': ['Defender',\n  'Discovery',\n  'Discovery Sport',\n  'Freelander',\n  'Range Rover',\n  'Range Rover Evoque',\n  'Range Rover Sport'],\n 'Lexus': ['ES', 'GS', 'GX', 'IS', 'LC', 'LS', 'LX', 'NX', 'RX', 'SC'],\n 'LiA7': ['677', '5256', '5292', '5293', '6213'],\n 'Lifan': ['Breez', 'Cebrium', 'Smily', 'Solano', 'X60'],\n 'MAN': ['F2000',\n  'F90',\n  'L2000',\n  'Lions Coach',\n  'Lions Regio',\n  'TGA',\n  'TGL',\n  'TGS',\n  'TGX'],\n 'Maserati': ['Levante'],\n 'MAZ': ['43', '53', '54', '55', '63', '64', '65', '103465', '206067'],\n 'Mazda': ['2',\n  '3',\n  '5',\n  '6',\n  '323',\n  '626',\n  'BT 50',\n  'Bongo',\n  'Bongo Friendee',\n  'CX5',\n  'CX7',\n  'CX9',\n  'Capella',\n  'Demio',\n  'Familia',\n  'MPV',\n  'MX5',\n  'Premacy',\n  'RX 8',\n  'Titan',\n  'Tribute'],\n 'Mercedes Benz': ['A Klasse',\n  'Actros',\n  'Atego',\n  'Axor',\n  'B Klasse',\n  'CLA Klasse',\n  'CLK Klasse',\n  'CLS Klasse',\n  'CL Klasse',\n  'C Klasse',\n  'Citan',\n  'Conecto',\n  'E Klasse',\n  'GLA Klasse GLC Klasse GLE Klasse',\n  'GLK Klasse',\n  'GLS Klasse',\n  'GL Klasse',\n  'LK Series',\n  'MB Series',\n  'M Klasse',\n  'О3О3',\n  '0350 Tourismo',\n  '405',\n  '0560 Intouro',\n  'R Klasse',\n  'SK Series',\n  'SLK Klasse',\n  'SL Klasse',\n  'S Klasse',\n  'Sprinter',\n  'T1',\n  'T2',\n  'Travego',\n  'V Klasse',\n  'Vario',\n  'Viano',\n  'Vito'],\n 'MINI': ['Countryman'],\n 'Mini': ['Cooper'],\n 'Mitsubishi': ['ASX',\n  'Airtrek',\n  'Canter',\n  'Carisma',\n  'Colt',\n  'Delica',\n  'Delica Space Gear',\n  'Eclipse',\n  'Fuso Canter',\n  'Fuso Fighter',\n  'Galant',\n  'Grandis',\n  'L200',\n  'Lancer',\n  'Lancer Cedia',\n  'Lancer Evolution',\n  'Outlander',\n  'Outlander XL',\n  'Pajero',\n  'Pajero Sport',\n  'Pajero iO',\n  'RVR'],\n 'Moskvich': ['408', '412', '2140', '2141'],\n 'Nefaz': ['5299'],\n 'Neoplan': ['Cityliner', 'Skyliner'],\n 'Nissan': ['AD',\n  'Almera',\n  'Almera Classic',\n  'Atlas',\n  'Avenir',\n  'Bluebird',\n  'Bluebird Sylphy',\n  'Cedric',\n  'Cefiro',\n  'Cube',\n  'Diesel Condor',\n  'GT R',\n  'Juke',\n  'Laurel',\n  'Liberty',\n  'March',\n  'Maxima',\n  'Maxima QX',\n  'Micra',\n  'Murano',\n  'NP300 Pickup',\n  'Navara',\n  'Note',\n  'Pathfinder',\n  'Patrol',\n  'Presage',\n  'Primera',\n  'Pulsar',\n  'Qashqai',\n  'Qashqai 2',\n  'Safari',\n  'Sentra',\n  'Serena',\n  'Skyline',\n  'Sunny',\n  'Teana',\n  'Terrano',\n  'Terrano II',\n  'Tiida',\n  'Vanette',\n  'Wingroad',\n  'X Trail'],\n 'Opel': ['Antara',\n  'Ascona',\n  'Astra',\n  'Calibra',\n  'Combo',\n  'Corsa',\n  'Frontera',\n  'Insignia',\n  'Kadett',\n  'Meriva',\n  'Mokka',\n  'Omega',\n  'Rekord',\n  'Tigra',\n  'Vectra',\n  'Vivaro',\n  'Zafira'],\n 'PAZ': ['3204', '3205', '4234', '4230 Avrora'],\n 'Peugeot': ['106',\n  '107',\n  '205',\n  '206',\n  '207',\n  '208',\n  '301',\n  '306',\n  '307',\n  '308',\n  '405',\n  '406',\n  '407',\n  '408',\n  '508',\n  '607',\n  '3008',\n  '4007',\n  'Boxer',\n  'Expert',\n  'Expert Tepee',\n  'Partner'],\n 'Porsche': ['911', 'Boxster', 'Cayenne', 'Cayman', 'Macan', 'Panamera'],\n 'Ram': ['Pickup'],\n 'Ravon': ['Nexia', 'Nexia R3'],\n 'Renault': ['19 21',\n  'Clio',\n  'Duster',\n  'Espace',\n  'Fluence',\n  'Grand Scenic',\n  'Kangoo',\n  'Kaptur',\n  'Koleos',\n  'Laguna',\n  'Logan',\n  'Magnum',\n  'Master',\n  'Megane',\n  'Premium',\n  'Sandero',\n  'Sandero Stepway',\n  'Scenic',\n  'Symbol',\n  'T Series',\n  'Trafic',\n  'Twingo'],\n 'SAAB': ['900', '9000', '9 3', '9 5'],\n 'Saturn': ['VUE'],\n 'Scania': ['G Series', 'III Series', 'IV Series', 'P Series', 'R Series'],\n 'SEAT': ['Leon'],\n 'Setra': ['200 Series', '300 Series'],\n 'Shaanxi': ['SX3250 Series'],\n 'Skoda': ['Fabia',\n  'Favorit',\n  'Felicia',\n  'Kodiaq',\n  'Octavia',\n  'Rapid',\n  'Roomster',\n  'Superb',\n  'Yeti'],\n 'SsangYong': ['Actyon',\n  'Actyon Sports',\n  'Istana',\n  'Korando',\n  'Kyron',\n  'Rexton'],\n 'Subaru': ['B9 Tribeca',\n  'Forester',\n  'Impreza',\n  'Impreza WRX STi',\n  'Impreza XV',\n  'Legacy',\n  'Outback',\n  'Tribeca',\n  'XV'],\n 'Suzuki': ['Escudo',\n  'Grand Vitara',\n  'Ignis',\n  'Jimny',\n  'Liana',\n  'SX4',\n  'SX4 S Cross',\n  'Swift',\n  'Vitara',\n  'Wagon R'],\n 'Toyota': ['4Runner',\n  'Allion',\n  'Alphard',\n  'Altezza',\n  'Auris',\n  'Avalon',\n  'Avensis',\n  'Caldina',\n  'Camry',\n  'Camry Solara',\n  'Carina',\n  'Carina E',\n  'Carina ED',\n  'Celica',\n  'Chaser',\n  'Corolla',\n  'Corolla Allex Corolla Axio',\n  'Corolla Fielder',\n  'Corolla Levin',\n  'Corolla Runx',\n  'Corolla Spacio',\n  'Corolla Verso',\n  'Corona',\n  'Corona Premio',\n  'Corsa',\n  'Cresta',\n  'Crown',\n  'Dyna',\n  'Estima',\n  'FJ Cruiser',\n  'Fortuner',\n  'Fun Cargo',\n  'Gaia',\n  'Harrier',\n  'Hiace',\n  'Highlander',\n  'Hilux',\n  'Hilux Surf',\n  'Ipsum',\n  'Ist',\n  'Kluger',\n  'Land Cruiser',\n  'Land Cruiser Prado',\n  'Lite Ace',\n  'Lite Ace Noah',\n  'Mark II',\n  'Mark X',\n  'Matrix',\n  'Nadia',\n  'Noah',\n  'Ора',\n  'Passo',\n  'Platz',\n  'Premio',\n  'Previa',\n  'Prius',\n  'Probox',\n  'RAV4',\n  'Ractis',\n  'Raum',\n  'Sequoia',\n  'Sienna',\n  'Sprinter',\n  'Sprinter Carib',\n  'Starlet',\n  'Succeed',\n  'Supra',\n  'Town Ace',\n  'Town Ace Noah',\n  'Toyo Ace',\n  'Tundra',\n  'Venza',\n  'Verso',\n  'Vista',\n  'Vista Ardeo',\n  'Vitz',\n  'Windom',\n  'Wish',\n  'Yaris',\n  'bB'],\n 'UAZ': ['4320', '5557'],\n 'Van Hool': ['T815'],\n 'VAZ Lada': ['2101',\n  '2102',\n  '2103',\n  '2104',\n  '2105',\n  '2106',\n  '2107',\n  '2108',\n  '2109',\n  '2110',\n  '2111',\n  '2112',\n  '2113',\n  '2114',\n  '2115',\n  '21099',\n  '2112 Coupe',\n  '2120 Nadezhda',\n  'Granta',\n  'Kalina',\n  'Kalina Cross',\n  'Largus',\n  'Niva',\n  'Oka',\n  'Priora',\n  'Vesta',\n  'Vesta SW',\n  'Vesta SW Cross',\n  'XRAY'],\n 'VIS': ['2347', '2349', '234700', '234900'],\n 'Volkswagen': ['Amarok',\n  'Bora',\n  'Caddy',\n  'Caravelle',\n  'Crafter',\n  'Golf',\n  'Golf Plus',\n  'Jetta',\n  'LT',\n  'Multivan',\n  'New Beetle',\n  'Passat',\n  'Passat Alltrack',\n  'PassatC',\n  'Phaeton',\n  'Polo',\n  'Scirocco',\n  'Sharan',\n  'Teramont',\n  'Tiguan',\n  'Touareg',\n  'Touran',\n  'Transporter'],\n 'Volvo': ['740',\n  '850',\n  '940',\n  '240 Series',\n  'F12',\n  'FE',\n  'FH',\n  'FL',\n  'FM',\n  'FMX',\n  'S40',\n  'S60',\n  'S80',\n  'V40',\n  'V40 Cross Country',\n  'V50',\n  'V70',\n  'VN Series',\n  'XC60',\n  'XC70',\n  'XC90'],\n 'Vortex': ['Tingo'],\n 'ZAZ': ['968',\n  '11055',\n  '1102 Tavriya',\n  '1103 Slavuta',\n  'Chance',\n  'Lanos',\n  'Sens']}"
     },
     "execution_count": 8,
     "metadata": {},
     "output_type": "execute_result"
    }
   ],
   "source": [
    "collect_models(cars)"
   ],
   "metadata": {
    "collapsed": false,
    "ExecuteTime": {
     "start_time": "2023-06-27T15:52:14.787121Z",
     "end_time": "2023-06-27T15:52:14.867965Z"
    }
   }
  },
  {
   "cell_type": "code",
   "execution_count": 9,
   "outputs": [],
   "source": [
    "df = pd.DataFrame.from_dict(collect_models(cars), orient='index').transpose()"
   ],
   "metadata": {
    "collapsed": false,
    "ExecuteTime": {
     "start_time": "2023-06-27T15:52:15.614544Z",
     "end_time": "2023-06-27T15:52:15.741008Z"
    }
   }
  },
  {
   "cell_type": "code",
   "execution_count": 10,
   "outputs": [
    {
     "data": {
      "text/plain": "   Acura Alfa Romeo  Audi    BAW          BAZ       BMW Brilliance   BYD  \\\n0    MDX  Giulietta    80  FENIX  A079 Etalon  1 Series         V5    F3   \n1   None       None   100   None         None  3 Series       None  None   \n2   None       None    A1   None         None  4 Series       None  None   \n3   None       None    A3   None         None  5 Series       None  None   \n4   None       None    A4   None         None  6 Series       None  None   \n..   ...        ...   ...    ...          ...       ...        ...   ...   \n75  None       None  None   None         None      None       None  None   \n76  None       None  None   None         None      None       None  None   \n77  None       None  None   None         None      None       None  None   \n78  None       None  None   None         None      None       None  None   \n79  None       None  None   None         None      None       None  None   \n\n    Cadillac Carrus  ...        Suzuki   Toyota   UAZ Van Hool VAZ Lada  \\\n0        CTS   Star  ...        Escudo  4Runner  4320     T815     2101   \n1   Escalade   None  ...  Grand Vitara   Allion  5557     None     2102   \n2        SRX   None  ...         Ignis  Alphard  None     None     2103   \n3       None   None  ...         Jimny  Altezza  None     None     2104   \n4       None   None  ...         Liana    Auris  None     None     2105   \n..       ...    ...  ...           ...      ...   ...      ...      ...   \n75      None   None  ...          None     Vitz  None     None     None   \n76      None   None  ...          None   Windom  None     None     None   \n77      None   None  ...          None     Wish  None     None     None   \n78      None   None  ...          None    Yaris  None     None     None   \n79      None   None  ...          None       bB  None     None     None   \n\n       VIS Volkswagen       Volvo Vortex           ZAZ  \n0     2347     Amarok         740  Tingo           968  \n1     2349       Bora         850   None         11055  \n2   234700      Caddy         940   None  1102 Tavriya  \n3   234900  Caravelle  240 Series   None  1103 Slavuta  \n4     None    Crafter         F12   None        Chance  \n..     ...        ...         ...    ...           ...  \n75    None       None        None   None          None  \n76    None       None        None   None          None  \n77    None       None        None   None          None  \n78    None       None        None   None          None  \n79    None       None        None   None          None  \n\n[80 rows x 92 columns]",
      "text/html": "<div>\n<style scoped>\n    .dataframe tbody tr th:only-of-type {\n        vertical-align: middle;\n    }\n\n    .dataframe tbody tr th {\n        vertical-align: top;\n    }\n\n    .dataframe thead th {\n        text-align: right;\n    }\n</style>\n<table border=\"1\" class=\"dataframe\">\n  <thead>\n    <tr style=\"text-align: right;\">\n      <th></th>\n      <th>Acura</th>\n      <th>Alfa Romeo</th>\n      <th>Audi</th>\n      <th>BAW</th>\n      <th>BAZ</th>\n      <th>BMW</th>\n      <th>Brilliance</th>\n      <th>BYD</th>\n      <th>Cadillac</th>\n      <th>Carrus</th>\n      <th>...</th>\n      <th>Suzuki</th>\n      <th>Toyota</th>\n      <th>UAZ</th>\n      <th>Van Hool</th>\n      <th>VAZ Lada</th>\n      <th>VIS</th>\n      <th>Volkswagen</th>\n      <th>Volvo</th>\n      <th>Vortex</th>\n      <th>ZAZ</th>\n    </tr>\n  </thead>\n  <tbody>\n    <tr>\n      <th>0</th>\n      <td>MDX</td>\n      <td>Giulietta</td>\n      <td>80</td>\n      <td>FENIX</td>\n      <td>A079 Etalon</td>\n      <td>1 Series</td>\n      <td>V5</td>\n      <td>F3</td>\n      <td>CTS</td>\n      <td>Star</td>\n      <td>...</td>\n      <td>Escudo</td>\n      <td>4Runner</td>\n      <td>4320</td>\n      <td>T815</td>\n      <td>2101</td>\n      <td>2347</td>\n      <td>Amarok</td>\n      <td>740</td>\n      <td>Tingo</td>\n      <td>968</td>\n    </tr>\n    <tr>\n      <th>1</th>\n      <td>None</td>\n      <td>None</td>\n      <td>100</td>\n      <td>None</td>\n      <td>None</td>\n      <td>3 Series</td>\n      <td>None</td>\n      <td>None</td>\n      <td>Escalade</td>\n      <td>None</td>\n      <td>...</td>\n      <td>Grand Vitara</td>\n      <td>Allion</td>\n      <td>5557</td>\n      <td>None</td>\n      <td>2102</td>\n      <td>2349</td>\n      <td>Bora</td>\n      <td>850</td>\n      <td>None</td>\n      <td>11055</td>\n    </tr>\n    <tr>\n      <th>2</th>\n      <td>None</td>\n      <td>None</td>\n      <td>A1</td>\n      <td>None</td>\n      <td>None</td>\n      <td>4 Series</td>\n      <td>None</td>\n      <td>None</td>\n      <td>SRX</td>\n      <td>None</td>\n      <td>...</td>\n      <td>Ignis</td>\n      <td>Alphard</td>\n      <td>None</td>\n      <td>None</td>\n      <td>2103</td>\n      <td>234700</td>\n      <td>Caddy</td>\n      <td>940</td>\n      <td>None</td>\n      <td>1102 Tavriya</td>\n    </tr>\n    <tr>\n      <th>3</th>\n      <td>None</td>\n      <td>None</td>\n      <td>A3</td>\n      <td>None</td>\n      <td>None</td>\n      <td>5 Series</td>\n      <td>None</td>\n      <td>None</td>\n      <td>None</td>\n      <td>None</td>\n      <td>...</td>\n      <td>Jimny</td>\n      <td>Altezza</td>\n      <td>None</td>\n      <td>None</td>\n      <td>2104</td>\n      <td>234900</td>\n      <td>Caravelle</td>\n      <td>240 Series</td>\n      <td>None</td>\n      <td>1103 Slavuta</td>\n    </tr>\n    <tr>\n      <th>4</th>\n      <td>None</td>\n      <td>None</td>\n      <td>A4</td>\n      <td>None</td>\n      <td>None</td>\n      <td>6 Series</td>\n      <td>None</td>\n      <td>None</td>\n      <td>None</td>\n      <td>None</td>\n      <td>...</td>\n      <td>Liana</td>\n      <td>Auris</td>\n      <td>None</td>\n      <td>None</td>\n      <td>2105</td>\n      <td>None</td>\n      <td>Crafter</td>\n      <td>F12</td>\n      <td>None</td>\n      <td>Chance</td>\n    </tr>\n    <tr>\n      <th>...</th>\n      <td>...</td>\n      <td>...</td>\n      <td>...</td>\n      <td>...</td>\n      <td>...</td>\n      <td>...</td>\n      <td>...</td>\n      <td>...</td>\n      <td>...</td>\n      <td>...</td>\n      <td>...</td>\n      <td>...</td>\n      <td>...</td>\n      <td>...</td>\n      <td>...</td>\n      <td>...</td>\n      <td>...</td>\n      <td>...</td>\n      <td>...</td>\n      <td>...</td>\n      <td>...</td>\n    </tr>\n    <tr>\n      <th>75</th>\n      <td>None</td>\n      <td>None</td>\n      <td>None</td>\n      <td>None</td>\n      <td>None</td>\n      <td>None</td>\n      <td>None</td>\n      <td>None</td>\n      <td>None</td>\n      <td>None</td>\n      <td>...</td>\n      <td>None</td>\n      <td>Vitz</td>\n      <td>None</td>\n      <td>None</td>\n      <td>None</td>\n      <td>None</td>\n      <td>None</td>\n      <td>None</td>\n      <td>None</td>\n      <td>None</td>\n    </tr>\n    <tr>\n      <th>76</th>\n      <td>None</td>\n      <td>None</td>\n      <td>None</td>\n      <td>None</td>\n      <td>None</td>\n      <td>None</td>\n      <td>None</td>\n      <td>None</td>\n      <td>None</td>\n      <td>None</td>\n      <td>...</td>\n      <td>None</td>\n      <td>Windom</td>\n      <td>None</td>\n      <td>None</td>\n      <td>None</td>\n      <td>None</td>\n      <td>None</td>\n      <td>None</td>\n      <td>None</td>\n      <td>None</td>\n    </tr>\n    <tr>\n      <th>77</th>\n      <td>None</td>\n      <td>None</td>\n      <td>None</td>\n      <td>None</td>\n      <td>None</td>\n      <td>None</td>\n      <td>None</td>\n      <td>None</td>\n      <td>None</td>\n      <td>None</td>\n      <td>...</td>\n      <td>None</td>\n      <td>Wish</td>\n      <td>None</td>\n      <td>None</td>\n      <td>None</td>\n      <td>None</td>\n      <td>None</td>\n      <td>None</td>\n      <td>None</td>\n      <td>None</td>\n    </tr>\n    <tr>\n      <th>78</th>\n      <td>None</td>\n      <td>None</td>\n      <td>None</td>\n      <td>None</td>\n      <td>None</td>\n      <td>None</td>\n      <td>None</td>\n      <td>None</td>\n      <td>None</td>\n      <td>None</td>\n      <td>...</td>\n      <td>None</td>\n      <td>Yaris</td>\n      <td>None</td>\n      <td>None</td>\n      <td>None</td>\n      <td>None</td>\n      <td>None</td>\n      <td>None</td>\n      <td>None</td>\n      <td>None</td>\n    </tr>\n    <tr>\n      <th>79</th>\n      <td>None</td>\n      <td>None</td>\n      <td>None</td>\n      <td>None</td>\n      <td>None</td>\n      <td>None</td>\n      <td>None</td>\n      <td>None</td>\n      <td>None</td>\n      <td>None</td>\n      <td>...</td>\n      <td>None</td>\n      <td>bB</td>\n      <td>None</td>\n      <td>None</td>\n      <td>None</td>\n      <td>None</td>\n      <td>None</td>\n      <td>None</td>\n      <td>None</td>\n      <td>None</td>\n    </tr>\n  </tbody>\n</table>\n<p>80 rows × 92 columns</p>\n</div>"
     },
     "execution_count": 10,
     "metadata": {},
     "output_type": "execute_result"
    }
   ],
   "source": [
    "df"
   ],
   "metadata": {
    "collapsed": false,
    "ExecuteTime": {
     "start_time": "2023-06-27T15:52:17.626473Z",
     "end_time": "2023-06-27T15:52:17.772728Z"
    }
   }
  },
  {
   "cell_type": "markdown",
   "source": [
    "Example:"
   ],
   "metadata": {
    "collapsed": false
   }
  },
  {
   "cell_type": "code",
   "execution_count": 11,
   "outputs": [],
   "source": [
    "bmw = list(df['BMW'][df['BMW'].notnull()])"
   ],
   "metadata": {
    "collapsed": false,
    "ExecuteTime": {
     "start_time": "2023-06-27T15:52:21.657240Z",
     "end_time": "2023-06-27T15:52:21.690540Z"
    }
   }
  },
  {
   "cell_type": "code",
   "execution_count": 12,
   "outputs": [
    {
     "data": {
      "text/plain": "                     0      1             2             3        4      5   \\\nAcura               MDX   None          None          None     None   None   \nAlfa Romeo    Giulietta   None          None          None     None   None   \nAudi                 80    100            A1            A3       A4     A5   \nBAW               FENIX   None          None          None     None   None   \nBAZ         A079 Etalon   None          None          None     None   None   \n...                 ...    ...           ...           ...      ...    ...   \nVIS                2347   2349        234700        234900     None   None   \nVolkswagen       Amarok   Bora         Caddy     Caravelle  Crafter   Golf   \nVolvo               740    850           940    240 Series      F12     FE   \nVortex            Tingo   None          None          None     None   None   \nZAZ                 968  11055  1102 Tavriya  1103 Slavuta   Chance  Lanos   \n\n                   6      7     8         9   ...    70    71    72    73  \\\nAcura            None   None  None      None  ...  None  None  None  None   \nAlfa Romeo       None   None  None      None  ...  None  None  None  None   \nAudi               A6     A7    A8        Q3  ...  None  None  None  None   \nBAW              None   None  None      None  ...  None  None  None  None   \nBAZ              None   None  None      None  ...  None  None  None  None   \n...               ...    ...   ...       ...  ...   ...   ...   ...   ...   \nVIS              None   None  None      None  ...  None  None  None  None   \nVolkswagen  Golf Plus  Jetta    LT  Multivan  ...  None  None  None  None   \nVolvo              FH     FL    FM       FMX  ...  None  None  None  None   \nVortex           None   None  None      None  ...  None  None  None  None   \nZAZ              Sens   None  None      None  ...  None  None  None  None   \n\n              74    75    76    77    78    79  \nAcura       None  None  None  None  None  None  \nAlfa Romeo  None  None  None  None  None  None  \nAudi        None  None  None  None  None  None  \nBAW         None  None  None  None  None  None  \nBAZ         None  None  None  None  None  None  \n...          ...   ...   ...   ...   ...   ...  \nVIS         None  None  None  None  None  None  \nVolkswagen  None  None  None  None  None  None  \nVolvo       None  None  None  None  None  None  \nVortex      None  None  None  None  None  None  \nZAZ         None  None  None  None  None  None  \n\n[92 rows x 80 columns]",
      "text/html": "<div>\n<style scoped>\n    .dataframe tbody tr th:only-of-type {\n        vertical-align: middle;\n    }\n\n    .dataframe tbody tr th {\n        vertical-align: top;\n    }\n\n    .dataframe thead th {\n        text-align: right;\n    }\n</style>\n<table border=\"1\" class=\"dataframe\">\n  <thead>\n    <tr style=\"text-align: right;\">\n      <th></th>\n      <th>0</th>\n      <th>1</th>\n      <th>2</th>\n      <th>3</th>\n      <th>4</th>\n      <th>5</th>\n      <th>6</th>\n      <th>7</th>\n      <th>8</th>\n      <th>9</th>\n      <th>...</th>\n      <th>70</th>\n      <th>71</th>\n      <th>72</th>\n      <th>73</th>\n      <th>74</th>\n      <th>75</th>\n      <th>76</th>\n      <th>77</th>\n      <th>78</th>\n      <th>79</th>\n    </tr>\n  </thead>\n  <tbody>\n    <tr>\n      <th>Acura</th>\n      <td>MDX</td>\n      <td>None</td>\n      <td>None</td>\n      <td>None</td>\n      <td>None</td>\n      <td>None</td>\n      <td>None</td>\n      <td>None</td>\n      <td>None</td>\n      <td>None</td>\n      <td>...</td>\n      <td>None</td>\n      <td>None</td>\n      <td>None</td>\n      <td>None</td>\n      <td>None</td>\n      <td>None</td>\n      <td>None</td>\n      <td>None</td>\n      <td>None</td>\n      <td>None</td>\n    </tr>\n    <tr>\n      <th>Alfa Romeo</th>\n      <td>Giulietta</td>\n      <td>None</td>\n      <td>None</td>\n      <td>None</td>\n      <td>None</td>\n      <td>None</td>\n      <td>None</td>\n      <td>None</td>\n      <td>None</td>\n      <td>None</td>\n      <td>...</td>\n      <td>None</td>\n      <td>None</td>\n      <td>None</td>\n      <td>None</td>\n      <td>None</td>\n      <td>None</td>\n      <td>None</td>\n      <td>None</td>\n      <td>None</td>\n      <td>None</td>\n    </tr>\n    <tr>\n      <th>Audi</th>\n      <td>80</td>\n      <td>100</td>\n      <td>A1</td>\n      <td>A3</td>\n      <td>A4</td>\n      <td>A5</td>\n      <td>A6</td>\n      <td>A7</td>\n      <td>A8</td>\n      <td>Q3</td>\n      <td>...</td>\n      <td>None</td>\n      <td>None</td>\n      <td>None</td>\n      <td>None</td>\n      <td>None</td>\n      <td>None</td>\n      <td>None</td>\n      <td>None</td>\n      <td>None</td>\n      <td>None</td>\n    </tr>\n    <tr>\n      <th>BAW</th>\n      <td>FENIX</td>\n      <td>None</td>\n      <td>None</td>\n      <td>None</td>\n      <td>None</td>\n      <td>None</td>\n      <td>None</td>\n      <td>None</td>\n      <td>None</td>\n      <td>None</td>\n      <td>...</td>\n      <td>None</td>\n      <td>None</td>\n      <td>None</td>\n      <td>None</td>\n      <td>None</td>\n      <td>None</td>\n      <td>None</td>\n      <td>None</td>\n      <td>None</td>\n      <td>None</td>\n    </tr>\n    <tr>\n      <th>BAZ</th>\n      <td>A079 Etalon</td>\n      <td>None</td>\n      <td>None</td>\n      <td>None</td>\n      <td>None</td>\n      <td>None</td>\n      <td>None</td>\n      <td>None</td>\n      <td>None</td>\n      <td>None</td>\n      <td>...</td>\n      <td>None</td>\n      <td>None</td>\n      <td>None</td>\n      <td>None</td>\n      <td>None</td>\n      <td>None</td>\n      <td>None</td>\n      <td>None</td>\n      <td>None</td>\n      <td>None</td>\n    </tr>\n    <tr>\n      <th>...</th>\n      <td>...</td>\n      <td>...</td>\n      <td>...</td>\n      <td>...</td>\n      <td>...</td>\n      <td>...</td>\n      <td>...</td>\n      <td>...</td>\n      <td>...</td>\n      <td>...</td>\n      <td>...</td>\n      <td>...</td>\n      <td>...</td>\n      <td>...</td>\n      <td>...</td>\n      <td>...</td>\n      <td>...</td>\n      <td>...</td>\n      <td>...</td>\n      <td>...</td>\n      <td>...</td>\n    </tr>\n    <tr>\n      <th>VIS</th>\n      <td>2347</td>\n      <td>2349</td>\n      <td>234700</td>\n      <td>234900</td>\n      <td>None</td>\n      <td>None</td>\n      <td>None</td>\n      <td>None</td>\n      <td>None</td>\n      <td>None</td>\n      <td>...</td>\n      <td>None</td>\n      <td>None</td>\n      <td>None</td>\n      <td>None</td>\n      <td>None</td>\n      <td>None</td>\n      <td>None</td>\n      <td>None</td>\n      <td>None</td>\n      <td>None</td>\n    </tr>\n    <tr>\n      <th>Volkswagen</th>\n      <td>Amarok</td>\n      <td>Bora</td>\n      <td>Caddy</td>\n      <td>Caravelle</td>\n      <td>Crafter</td>\n      <td>Golf</td>\n      <td>Golf Plus</td>\n      <td>Jetta</td>\n      <td>LT</td>\n      <td>Multivan</td>\n      <td>...</td>\n      <td>None</td>\n      <td>None</td>\n      <td>None</td>\n      <td>None</td>\n      <td>None</td>\n      <td>None</td>\n      <td>None</td>\n      <td>None</td>\n      <td>None</td>\n      <td>None</td>\n    </tr>\n    <tr>\n      <th>Volvo</th>\n      <td>740</td>\n      <td>850</td>\n      <td>940</td>\n      <td>240 Series</td>\n      <td>F12</td>\n      <td>FE</td>\n      <td>FH</td>\n      <td>FL</td>\n      <td>FM</td>\n      <td>FMX</td>\n      <td>...</td>\n      <td>None</td>\n      <td>None</td>\n      <td>None</td>\n      <td>None</td>\n      <td>None</td>\n      <td>None</td>\n      <td>None</td>\n      <td>None</td>\n      <td>None</td>\n      <td>None</td>\n    </tr>\n    <tr>\n      <th>Vortex</th>\n      <td>Tingo</td>\n      <td>None</td>\n      <td>None</td>\n      <td>None</td>\n      <td>None</td>\n      <td>None</td>\n      <td>None</td>\n      <td>None</td>\n      <td>None</td>\n      <td>None</td>\n      <td>...</td>\n      <td>None</td>\n      <td>None</td>\n      <td>None</td>\n      <td>None</td>\n      <td>None</td>\n      <td>None</td>\n      <td>None</td>\n      <td>None</td>\n      <td>None</td>\n      <td>None</td>\n    </tr>\n    <tr>\n      <th>ZAZ</th>\n      <td>968</td>\n      <td>11055</td>\n      <td>1102 Tavriya</td>\n      <td>1103 Slavuta</td>\n      <td>Chance</td>\n      <td>Lanos</td>\n      <td>Sens</td>\n      <td>None</td>\n      <td>None</td>\n      <td>None</td>\n      <td>...</td>\n      <td>None</td>\n      <td>None</td>\n      <td>None</td>\n      <td>None</td>\n      <td>None</td>\n      <td>None</td>\n      <td>None</td>\n      <td>None</td>\n      <td>None</td>\n      <td>None</td>\n    </tr>\n  </tbody>\n</table>\n<p>92 rows × 80 columns</p>\n</div>"
     },
     "execution_count": 12,
     "metadata": {},
     "output_type": "execute_result"
    }
   ],
   "source": [
    "pd.DataFrame.from_dict(collect_models(cars), orient='index')"
   ],
   "metadata": {
    "collapsed": false,
    "ExecuteTime": {
     "start_time": "2023-06-27T15:52:21.974471Z",
     "end_time": "2023-06-27T15:52:22.118984Z"
    }
   }
  },
  {
   "cell_type": "code",
   "execution_count": 13,
   "outputs": [
    {
     "data": {
      "text/plain": "['1 Series',\n '3 Series',\n '4 Series',\n '5 Series',\n '6 Series',\n '7 Series',\n 'X1',\n 'X3',\n 'X4',\n 'X5',\n 'X6',\n 'Z3',\n 'Z4']"
     },
     "execution_count": 13,
     "metadata": {},
     "output_type": "execute_result"
    }
   ],
   "source": [
    "bmw"
   ],
   "metadata": {
    "collapsed": false,
    "ExecuteTime": {
     "start_time": "2023-06-27T15:52:22.692214Z",
     "end_time": "2023-06-27T15:52:22.800040Z"
    }
   }
  },
  {
   "cell_type": "code",
   "execution_count": 15,
   "outputs": [],
   "source": [
    "df.to_csv(\"../data/source/processed_original_models.csv\", index=False)"
   ],
   "metadata": {
    "collapsed": false,
    "ExecuteTime": {
     "start_time": "2023-06-27T15:53:35.657254Z",
     "end_time": "2023-06-27T15:53:35.689603Z"
    }
   }
  },
  {
   "cell_type": "code",
   "execution_count": 16,
   "outputs": [
    {
     "data": {
      "text/plain": "   Acura Alfa Romeo Audi    BAW          BAZ       BMW Brilliance  BYD  \\\n0    MDX  Giulietta   80  FENIX  A079 Etalon  1 Series         V5   F3   \n1    NaN        NaN  100    NaN          NaN  3 Series        NaN  NaN   \n2    NaN        NaN   A1    NaN          NaN  4 Series        NaN  NaN   \n3    NaN        NaN   A3    NaN          NaN  5 Series        NaN  NaN   \n4    NaN        NaN   A4    NaN          NaN  6 Series        NaN  NaN   \n..   ...        ...  ...    ...          ...       ...        ...  ...   \n75   NaN        NaN  NaN    NaN          NaN       NaN        NaN  NaN   \n76   NaN        NaN  NaN    NaN          NaN       NaN        NaN  NaN   \n77   NaN        NaN  NaN    NaN          NaN       NaN        NaN  NaN   \n78   NaN        NaN  NaN    NaN          NaN       NaN        NaN  NaN   \n79   NaN        NaN  NaN    NaN          NaN       NaN        NaN  NaN   \n\n    Cadillac Carrus  ...        Suzuki   Toyota     UAZ Van Hool VAZ Lada  \\\n0        CTS   Star  ...        Escudo  4Runner  4320.0     T815     2101   \n1   Escalade    NaN  ...  Grand Vitara   Allion  5557.0      NaN     2102   \n2        SRX    NaN  ...         Ignis  Alphard     NaN      NaN     2103   \n3        NaN    NaN  ...         Jimny  Altezza     NaN      NaN     2104   \n4        NaN    NaN  ...         Liana    Auris     NaN      NaN     2105   \n..       ...    ...  ...           ...      ...     ...      ...      ...   \n75       NaN    NaN  ...           NaN     Vitz     NaN      NaN      NaN   \n76       NaN    NaN  ...           NaN   Windom     NaN      NaN      NaN   \n77       NaN    NaN  ...           NaN     Wish     NaN      NaN      NaN   \n78       NaN    NaN  ...           NaN    Yaris     NaN      NaN      NaN   \n79       NaN    NaN  ...           NaN       bB     NaN      NaN      NaN   \n\n         VIS Volkswagen       Volvo Vortex           ZAZ  \n0     2347.0     Amarok         740  Tingo           968  \n1     2349.0       Bora         850    NaN         11055  \n2   234700.0      Caddy         940    NaN  1102 Tavriya  \n3   234900.0  Caravelle  240 Series    NaN  1103 Slavuta  \n4        NaN    Crafter         F12    NaN        Chance  \n..       ...        ...         ...    ...           ...  \n75       NaN        NaN         NaN    NaN           NaN  \n76       NaN        NaN         NaN    NaN           NaN  \n77       NaN        NaN         NaN    NaN           NaN  \n78       NaN        NaN         NaN    NaN           NaN  \n79       NaN        NaN         NaN    NaN           NaN  \n\n[80 rows x 92 columns]",
      "text/html": "<div>\n<style scoped>\n    .dataframe tbody tr th:only-of-type {\n        vertical-align: middle;\n    }\n\n    .dataframe tbody tr th {\n        vertical-align: top;\n    }\n\n    .dataframe thead th {\n        text-align: right;\n    }\n</style>\n<table border=\"1\" class=\"dataframe\">\n  <thead>\n    <tr style=\"text-align: right;\">\n      <th></th>\n      <th>Acura</th>\n      <th>Alfa Romeo</th>\n      <th>Audi</th>\n      <th>BAW</th>\n      <th>BAZ</th>\n      <th>BMW</th>\n      <th>Brilliance</th>\n      <th>BYD</th>\n      <th>Cadillac</th>\n      <th>Carrus</th>\n      <th>...</th>\n      <th>Suzuki</th>\n      <th>Toyota</th>\n      <th>UAZ</th>\n      <th>Van Hool</th>\n      <th>VAZ Lada</th>\n      <th>VIS</th>\n      <th>Volkswagen</th>\n      <th>Volvo</th>\n      <th>Vortex</th>\n      <th>ZAZ</th>\n    </tr>\n  </thead>\n  <tbody>\n    <tr>\n      <th>0</th>\n      <td>MDX</td>\n      <td>Giulietta</td>\n      <td>80</td>\n      <td>FENIX</td>\n      <td>A079 Etalon</td>\n      <td>1 Series</td>\n      <td>V5</td>\n      <td>F3</td>\n      <td>CTS</td>\n      <td>Star</td>\n      <td>...</td>\n      <td>Escudo</td>\n      <td>4Runner</td>\n      <td>4320.0</td>\n      <td>T815</td>\n      <td>2101</td>\n      <td>2347.0</td>\n      <td>Amarok</td>\n      <td>740</td>\n      <td>Tingo</td>\n      <td>968</td>\n    </tr>\n    <tr>\n      <th>1</th>\n      <td>NaN</td>\n      <td>NaN</td>\n      <td>100</td>\n      <td>NaN</td>\n      <td>NaN</td>\n      <td>3 Series</td>\n      <td>NaN</td>\n      <td>NaN</td>\n      <td>Escalade</td>\n      <td>NaN</td>\n      <td>...</td>\n      <td>Grand Vitara</td>\n      <td>Allion</td>\n      <td>5557.0</td>\n      <td>NaN</td>\n      <td>2102</td>\n      <td>2349.0</td>\n      <td>Bora</td>\n      <td>850</td>\n      <td>NaN</td>\n      <td>11055</td>\n    </tr>\n    <tr>\n      <th>2</th>\n      <td>NaN</td>\n      <td>NaN</td>\n      <td>A1</td>\n      <td>NaN</td>\n      <td>NaN</td>\n      <td>4 Series</td>\n      <td>NaN</td>\n      <td>NaN</td>\n      <td>SRX</td>\n      <td>NaN</td>\n      <td>...</td>\n      <td>Ignis</td>\n      <td>Alphard</td>\n      <td>NaN</td>\n      <td>NaN</td>\n      <td>2103</td>\n      <td>234700.0</td>\n      <td>Caddy</td>\n      <td>940</td>\n      <td>NaN</td>\n      <td>1102 Tavriya</td>\n    </tr>\n    <tr>\n      <th>3</th>\n      <td>NaN</td>\n      <td>NaN</td>\n      <td>A3</td>\n      <td>NaN</td>\n      <td>NaN</td>\n      <td>5 Series</td>\n      <td>NaN</td>\n      <td>NaN</td>\n      <td>NaN</td>\n      <td>NaN</td>\n      <td>...</td>\n      <td>Jimny</td>\n      <td>Altezza</td>\n      <td>NaN</td>\n      <td>NaN</td>\n      <td>2104</td>\n      <td>234900.0</td>\n      <td>Caravelle</td>\n      <td>240 Series</td>\n      <td>NaN</td>\n      <td>1103 Slavuta</td>\n    </tr>\n    <tr>\n      <th>4</th>\n      <td>NaN</td>\n      <td>NaN</td>\n      <td>A4</td>\n      <td>NaN</td>\n      <td>NaN</td>\n      <td>6 Series</td>\n      <td>NaN</td>\n      <td>NaN</td>\n      <td>NaN</td>\n      <td>NaN</td>\n      <td>...</td>\n      <td>Liana</td>\n      <td>Auris</td>\n      <td>NaN</td>\n      <td>NaN</td>\n      <td>2105</td>\n      <td>NaN</td>\n      <td>Crafter</td>\n      <td>F12</td>\n      <td>NaN</td>\n      <td>Chance</td>\n    </tr>\n    <tr>\n      <th>...</th>\n      <td>...</td>\n      <td>...</td>\n      <td>...</td>\n      <td>...</td>\n      <td>...</td>\n      <td>...</td>\n      <td>...</td>\n      <td>...</td>\n      <td>...</td>\n      <td>...</td>\n      <td>...</td>\n      <td>...</td>\n      <td>...</td>\n      <td>...</td>\n      <td>...</td>\n      <td>...</td>\n      <td>...</td>\n      <td>...</td>\n      <td>...</td>\n      <td>...</td>\n      <td>...</td>\n    </tr>\n    <tr>\n      <th>75</th>\n      <td>NaN</td>\n      <td>NaN</td>\n      <td>NaN</td>\n      <td>NaN</td>\n      <td>NaN</td>\n      <td>NaN</td>\n      <td>NaN</td>\n      <td>NaN</td>\n      <td>NaN</td>\n      <td>NaN</td>\n      <td>...</td>\n      <td>NaN</td>\n      <td>Vitz</td>\n      <td>NaN</td>\n      <td>NaN</td>\n      <td>NaN</td>\n      <td>NaN</td>\n      <td>NaN</td>\n      <td>NaN</td>\n      <td>NaN</td>\n      <td>NaN</td>\n    </tr>\n    <tr>\n      <th>76</th>\n      <td>NaN</td>\n      <td>NaN</td>\n      <td>NaN</td>\n      <td>NaN</td>\n      <td>NaN</td>\n      <td>NaN</td>\n      <td>NaN</td>\n      <td>NaN</td>\n      <td>NaN</td>\n      <td>NaN</td>\n      <td>...</td>\n      <td>NaN</td>\n      <td>Windom</td>\n      <td>NaN</td>\n      <td>NaN</td>\n      <td>NaN</td>\n      <td>NaN</td>\n      <td>NaN</td>\n      <td>NaN</td>\n      <td>NaN</td>\n      <td>NaN</td>\n    </tr>\n    <tr>\n      <th>77</th>\n      <td>NaN</td>\n      <td>NaN</td>\n      <td>NaN</td>\n      <td>NaN</td>\n      <td>NaN</td>\n      <td>NaN</td>\n      <td>NaN</td>\n      <td>NaN</td>\n      <td>NaN</td>\n      <td>NaN</td>\n      <td>...</td>\n      <td>NaN</td>\n      <td>Wish</td>\n      <td>NaN</td>\n      <td>NaN</td>\n      <td>NaN</td>\n      <td>NaN</td>\n      <td>NaN</td>\n      <td>NaN</td>\n      <td>NaN</td>\n      <td>NaN</td>\n    </tr>\n    <tr>\n      <th>78</th>\n      <td>NaN</td>\n      <td>NaN</td>\n      <td>NaN</td>\n      <td>NaN</td>\n      <td>NaN</td>\n      <td>NaN</td>\n      <td>NaN</td>\n      <td>NaN</td>\n      <td>NaN</td>\n      <td>NaN</td>\n      <td>...</td>\n      <td>NaN</td>\n      <td>Yaris</td>\n      <td>NaN</td>\n      <td>NaN</td>\n      <td>NaN</td>\n      <td>NaN</td>\n      <td>NaN</td>\n      <td>NaN</td>\n      <td>NaN</td>\n      <td>NaN</td>\n    </tr>\n    <tr>\n      <th>79</th>\n      <td>NaN</td>\n      <td>NaN</td>\n      <td>NaN</td>\n      <td>NaN</td>\n      <td>NaN</td>\n      <td>NaN</td>\n      <td>NaN</td>\n      <td>NaN</td>\n      <td>NaN</td>\n      <td>NaN</td>\n      <td>...</td>\n      <td>NaN</td>\n      <td>bB</td>\n      <td>NaN</td>\n      <td>NaN</td>\n      <td>NaN</td>\n      <td>NaN</td>\n      <td>NaN</td>\n      <td>NaN</td>\n      <td>NaN</td>\n      <td>NaN</td>\n    </tr>\n  </tbody>\n</table>\n<p>80 rows × 92 columns</p>\n</div>"
     },
     "execution_count": 16,
     "metadata": {},
     "output_type": "execute_result"
    }
   ],
   "source": [
    "pd.read_csv(\"../data/source/processed_original_models.csv\")"
   ],
   "metadata": {
    "collapsed": false,
    "ExecuteTime": {
     "start_time": "2023-06-27T15:54:35.639277Z",
     "end_time": "2023-06-27T15:54:35.692962Z"
    }
   }
  },
  {
   "cell_type": "code",
   "execution_count": null,
   "outputs": [],
   "source": [],
   "metadata": {
    "collapsed": false
   }
  }
 ],
 "metadata": {
  "kernelspec": {
   "display_name": "Python 3",
   "language": "python",
   "name": "python3"
  },
  "language_info": {
   "codemirror_mode": {
    "name": "ipython",
    "version": 2
   },
   "file_extension": ".py",
   "mimetype": "text/x-python",
   "name": "python",
   "nbconvert_exporter": "python",
   "pygments_lexer": "ipython2",
   "version": "2.7.6"
  }
 },
 "nbformat": 4,
 "nbformat_minor": 0
}
