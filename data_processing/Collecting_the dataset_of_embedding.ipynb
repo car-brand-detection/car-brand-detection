{
 "cells": [
  {
   "cell_type": "markdown",
   "id": "68dd7471",
   "metadata": {
    "papermill": {
     "duration": 0.018557,
     "end_time": "2023-08-16T17:31:56.418291",
     "exception": false,
     "start_time": "2023-08-16T17:31:56.399734",
     "status": "completed"
    },
    "tags": []
   },
   "source": [
    "# Dataset Collecting with Polars"
   ]
  },
  {
   "cell_type": "markdown",
   "id": "e2265df2",
   "metadata": {
    "papermill": {
     "duration": 0.017729,
     "end_time": "2023-08-16T17:31:56.454320",
     "exception": false,
     "start_time": "2023-08-16T17:31:56.436591",
     "status": "completed"
    },
    "tags": []
   },
   "source": [
    "In this notebook we will use our trained CNN model to get embedding from all images we have. Will save these embeddings as new dataset, further we will use it to train our Feedforward MLP Model. And it's first time I will use Polars for data manipulation."
   ]
  },
  {
   "cell_type": "markdown",
   "id": "a20ab808",
   "metadata": {
    "id": "G-cGfk5CTFDT",
    "papermill": {
     "duration": 0.017151,
     "end_time": "2023-08-16T17:31:56.488749",
     "exception": false,
     "start_time": "2023-08-16T17:31:56.471598",
     "status": "completed"
    },
    "tags": []
   },
   "source": [
    "## Packages and requirements"
   ]
  },
  {
   "cell_type": "code",
   "execution_count": 1,
   "id": "6c68cce9",
   "metadata": {
    "ExecuteTime": {
     "end_time": "2023-08-16T19:54:18.759458Z",
     "start_time": "2023-08-16T19:54:18.291423Z"
    },
    "execution": {
     "iopub.execute_input": "2023-08-16T17:31:56.525948Z",
     "iopub.status.busy": "2023-08-16T17:31:56.524962Z",
     "iopub.status.idle": "2023-08-16T17:31:56.537884Z",
     "shell.execute_reply": "2023-08-16T17:31:56.536925Z"
    },
    "id": "YJ1bPQE1TFDW",
    "papermill": {
     "duration": 0.034224,
     "end_time": "2023-08-16T17:31:56.540005",
     "exception": false,
     "start_time": "2023-08-16T17:31:56.505781",
     "status": "completed"
    },
    "tags": []
   },
   "outputs": [],
   "source": [
    "# Major builtin libraries\n",
    "import os\n",
    "# import cv2\n",
    "# import math\n",
    "import time\n",
    "import typing as t"
   ]
  },
  {
   "cell_type": "code",
   "execution_count": 2,
   "id": "f1f031b7",
   "metadata": {
    "ExecuteTime": {
     "end_time": "2023-08-16T19:54:19.040736Z",
     "start_time": "2023-08-16T19:54:18.296235Z"
    },
    "execution": {
     "iopub.execute_input": "2023-08-16T17:31:56.574892Z",
     "iopub.status.busy": "2023-08-16T17:31:56.574593Z",
     "iopub.status.idle": "2023-08-16T17:31:56.731349Z",
     "shell.execute_reply": "2023-08-16T17:31:56.730217Z"
    },
    "id": "AGRBRJORTFDX",
    "papermill": {
     "duration": 0.177086,
     "end_time": "2023-08-16T17:31:56.733972",
     "exception": false,
     "start_time": "2023-08-16T17:31:56.556886",
     "status": "completed"
    },
    "tags": []
   },
   "outputs": [],
   "source": [
    "# Classic packages for data manipulation and visualization\n",
    "import numpy as np\n",
    "import pandas as pd\n",
    "import polars as pl"
   ]
  },
  {
   "cell_type": "code",
   "execution_count": 3,
   "id": "b48c94fe",
   "metadata": {
    "ExecuteTime": {
     "end_time": "2023-08-16T19:54:19.040736Z",
     "start_time": "2023-08-16T19:54:18.318527Z"
    },
    "execution": {
     "iopub.execute_input": "2023-08-16T17:31:56.770767Z",
     "iopub.status.busy": "2023-08-16T17:31:56.769794Z",
     "iopub.status.idle": "2023-08-16T17:32:00.150613Z",
     "shell.execute_reply": "2023-08-16T17:32:00.149534Z"
    },
    "id": "FXSN-XzxTFDX",
    "papermill": {
     "duration": 3.401749,
     "end_time": "2023-08-16T17:32:00.153241",
     "exception": false,
     "start_time": "2023-08-16T17:31:56.751492",
     "status": "completed"
    },
    "tags": []
   },
   "outputs": [],
   "source": [
    "# Basic PyTorch\n",
    "import torch\n",
    "import torch.nn as nn\n",
    "from torch.utils.data import DataLoader, Dataset  # For custom data presentation"
   ]
  },
  {
   "cell_type": "code",
   "execution_count": 4,
   "id": "d4db0f5a",
   "metadata": {
    "ExecuteTime": {
     "end_time": "2023-08-16T19:54:19.071970Z",
     "start_time": "2023-08-16T19:54:18.326236Z"
    },
    "execution": {
     "iopub.execute_input": "2023-08-16T17:32:00.190043Z",
     "iopub.status.busy": "2023-08-16T17:32:00.189513Z",
     "iopub.status.idle": "2023-08-16T17:32:00.245852Z",
     "shell.execute_reply": "2023-08-16T17:32:00.244953Z"
    },
    "id": "7QjRLiOzTFDY",
    "papermill": {
     "duration": 0.077014,
     "end_time": "2023-08-16T17:32:00.248115",
     "exception": false,
     "start_time": "2023-08-16T17:32:00.171101",
     "status": "completed"
    },
    "tags": []
   },
   "outputs": [],
   "source": [
    "# Utils\n",
    "import joblib  # Pipelining, pickling (dump/load), parallel processing\n",
    "from tqdm import tqdm  # Progress bar for training process"
   ]
  },
  {
   "cell_type": "code",
   "execution_count": 5,
   "id": "064ac370",
   "metadata": {
    "ExecuteTime": {
     "end_time": "2023-08-16T19:54:19.071970Z",
     "start_time": "2023-08-16T19:54:18.348431Z"
    },
    "execution": {
     "iopub.execute_input": "2023-08-16T17:32:00.284294Z",
     "iopub.status.busy": "2023-08-16T17:32:00.283414Z",
     "iopub.status.idle": "2023-08-16T17:32:00.513791Z",
     "shell.execute_reply": "2023-08-16T17:32:00.512791Z"
    },
    "id": "FEKtt6X5TFDZ",
    "papermill": {
     "duration": 0.251171,
     "end_time": "2023-08-16T17:32:00.516439",
     "exception": false,
     "start_time": "2023-08-16T17:32:00.265268",
     "status": "completed"
    },
    "tags": []
   },
   "outputs": [],
   "source": [
    "# Torch Computer Vision tools for images processing\n",
    "from torchvision.io import read_image\n",
    "from torchvision.transforms.functional import to_pil_image\n",
    "from torchvision import models  # Pretrained models"
   ]
  },
  {
   "cell_type": "code",
   "execution_count": 6,
   "id": "2465cdf1",
   "metadata": {
    "ExecuteTime": {
     "end_time": "2023-08-16T19:54:19.134462Z",
     "start_time": "2023-08-16T19:54:18.358674Z"
    },
    "execution": {
     "iopub.execute_input": "2023-08-16T17:32:00.555715Z",
     "iopub.status.busy": "2023-08-16T17:32:00.555385Z",
     "iopub.status.idle": "2023-08-16T17:32:02.741685Z",
     "shell.execute_reply": "2023-08-16T17:32:02.740692Z"
    },
    "id": "90C8yH1dTFDa",
    "papermill": {
     "duration": 2.208945,
     "end_time": "2023-08-16T17:32:02.744076",
     "exception": false,
     "start_time": "2023-08-16T17:32:00.535131",
     "status": "completed"
    },
    "tags": []
   },
   "outputs": [
    {
     "name": "stderr",
     "output_type": "stream",
     "text": [
      "/opt/conda/lib/python3.10/site-packages/scipy/__init__.py:146: UserWarning: A NumPy version >=1.16.5 and <1.23.0 is required for this version of SciPy (detected version 1.23.5\n",
      "  warnings.warn(f\"A NumPy version >={np_minversion} and <{np_maxversion}\"\n"
     ]
    }
   ],
   "source": [
    "# Albumentations is an OS library for augmentations\n",
    "import albumentations as A\n",
    "from albumentations.pytorch import ToTensorV2\n",
    "# import torchvision.transforms as T  # We can use torch augmentations instead"
   ]
  },
  {
   "cell_type": "markdown",
   "id": "7c8f8b20",
   "metadata": {
    "id": "YuquAHEkTFDb",
    "papermill": {
     "duration": 0.016913,
     "end_time": "2023-08-16T17:32:02.778551",
     "exception": false,
     "start_time": "2023-08-16T17:32:02.761638",
     "status": "completed"
    },
    "tags": []
   },
   "source": [
    "## Configuration"
   ]
  },
  {
   "cell_type": "code",
   "execution_count": 7,
   "id": "79c09c17",
   "metadata": {
    "ExecuteTime": {
     "end_time": "2023-08-16T20:04:54.198601Z",
     "start_time": "2023-08-16T20:04:54.198083Z"
    },
    "execution": {
     "iopub.execute_input": "2023-08-16T17:32:02.814618Z",
     "iopub.status.busy": "2023-08-16T17:32:02.814286Z",
     "iopub.status.idle": "2023-08-16T17:32:02.818820Z",
     "shell.execute_reply": "2023-08-16T17:32:02.817876Z"
    },
    "id": "JC-SbC9zTFDb",
    "papermill": {
     "duration": 0.024808,
     "end_time": "2023-08-16T17:32:02.820794",
     "exception": false,
     "start_time": "2023-08-16T17:32:02.795986",
     "status": "completed"
    },
    "tags": []
   },
   "outputs": [],
   "source": [
    "CONFIG = {\n",
    "    \"image_dimension\": 256,\n",
    "    # \"train_batch_size\": 220,\n",
    "    \"val_batch_size\": 600,\n",
    "}"
   ]
  },
  {
   "cell_type": "code",
   "execution_count": 8,
   "id": "9fe31c3d",
   "metadata": {
    "ExecuteTime": {
     "end_time": "2023-08-16T20:04:58.295328Z",
     "start_time": "2023-08-16T20:04:58.272479Z"
    },
    "collapsed": false,
    "execution": {
     "iopub.execute_input": "2023-08-16T17:32:02.856863Z",
     "iopub.status.busy": "2023-08-16T17:32:02.856070Z",
     "iopub.status.idle": "2023-08-16T17:32:02.861701Z",
     "shell.execute_reply": "2023-08-16T17:32:02.860847Z"
    },
    "jupyter": {
     "outputs_hidden": false
    },
    "papermill": {
     "duration": 0.025731,
     "end_time": "2023-08-16T17:32:02.863708",
     "exception": false,
     "start_time": "2023-08-16T17:32:02.837977",
     "status": "completed"
    },
    "tags": []
   },
   "outputs": [],
   "source": [
    "class Config:\n",
    "    \"\"\"\n",
    "    Class to simplify access to Config: not dict but object with attributes\n",
    "    \"\"\"\n",
    "    def __init__(self, config_dict):\n",
    "        for key, value in config_dict.items():\n",
    "            setattr(self, key, value)"
   ]
  },
  {
   "cell_type": "code",
   "execution_count": 9,
   "id": "770fcc3d",
   "metadata": {
    "ExecuteTime": {
     "end_time": "2023-08-16T20:04:58.470575Z",
     "start_time": "2023-08-16T20:04:58.421189Z"
    },
    "collapsed": false,
    "execution": {
     "iopub.execute_input": "2023-08-16T17:32:02.899412Z",
     "iopub.status.busy": "2023-08-16T17:32:02.898886Z",
     "iopub.status.idle": "2023-08-16T17:32:02.903308Z",
     "shell.execute_reply": "2023-08-16T17:32:02.902314Z"
    },
    "jupyter": {
     "outputs_hidden": false
    },
    "papermill": {
     "duration": 0.024405,
     "end_time": "2023-08-16T17:32:02.905308",
     "exception": false,
     "start_time": "2023-08-16T17:32:02.880903",
     "status": "completed"
    },
    "tags": []
   },
   "outputs": [],
   "source": [
    "config = Config(config_dict=CONFIG)\n",
    "del CONFIG # We can delete is"
   ]
  },
  {
   "cell_type": "markdown",
   "id": "d9b91783",
   "metadata": {
    "id": "UoHh0H1FVHnT",
    "papermill": {
     "duration": 0.020499,
     "end_time": "2023-08-16T17:32:02.947476",
     "exception": false,
     "start_time": "2023-08-16T17:32:02.926977",
     "status": "completed"
    },
    "tags": []
   },
   "source": [
    "# 2. Data"
   ]
  },
  {
   "cell_type": "markdown",
   "id": "6608fc99",
   "metadata": {
    "id": "Qst3Y-s4VKTk",
    "papermill": {
     "duration": 0.017584,
     "end_time": "2023-08-16T17:32:02.982243",
     "exception": false,
     "start_time": "2023-08-16T17:32:02.964659",
     "status": "completed"
    },
    "tags": []
   },
   "source": [
    "## Set data location"
   ]
  },
  {
   "cell_type": "code",
   "execution_count": 10,
   "id": "e8ed6dff",
   "metadata": {
    "ExecuteTime": {
     "end_time": "2023-08-16T20:05:00.176753Z",
     "start_time": "2023-08-16T20:05:00.140253Z"
    },
    "execution": {
     "iopub.execute_input": "2023-08-16T17:32:03.018732Z",
     "iopub.status.busy": "2023-08-16T17:32:03.017843Z",
     "iopub.status.idle": "2023-08-16T17:32:03.023994Z",
     "shell.execute_reply": "2023-08-16T17:32:03.023037Z"
    },
    "id": "QKDBLmMrTFDd",
    "papermill": {
     "duration": 0.026508,
     "end_time": "2023-08-16T17:32:03.026028",
     "exception": false,
     "start_time": "2023-08-16T17:32:02.999520",
     "status": "completed"
    },
    "tags": []
   },
   "outputs": [],
   "source": [
    "config.repo = 'car-brands/'  # dataset name on Kaggle\n",
    "\n",
    "config.root = '/kaggle/input/' + config.repo\n",
    "\n",
    "config.data = config.root\n",
    "\n",
    "config.train_images_path  = config.data + 'images/train'\n",
    "config.test_images_path = config.data + 'images/test'\n",
    "\n",
    "config.train_labels  = config.data + 'train_labels.csv'\n",
    "config.test_labels = config.data + 'test_labels.csv'\n",
    "\n",
    "config.dataframe_path = 'embeddings_and_labels.csv'  # All data in one place. That will be a result of work in this notebook\n",
    "\n",
    "config.embedding_model_path = '/kaggle/input/efficient-model/ArcFace_mobilenet_v2.pth'"
   ]
  },
  {
   "cell_type": "markdown",
   "id": "b42e4ed0",
   "metadata": {
    "papermill": {
     "duration": 0.017039,
     "end_time": "2023-08-16T17:32:03.062535",
     "exception": false,
     "start_time": "2023-08-16T17:32:03.045496",
     "status": "completed"
    },
    "tags": []
   },
   "source": [
    "## Work with .csv"
   ]
  },
  {
   "cell_type": "markdown",
   "id": "49cdfb22",
   "metadata": {
    "papermill": {
     "duration": 0.016763,
     "end_time": "2023-08-16T17:32:03.096390",
     "exception": false,
     "start_time": "2023-08-16T17:32:03.079627",
     "status": "completed"
    },
    "tags": []
   },
   "source": [
    "Firstly, let's get images paths."
   ]
  },
  {
   "cell_type": "code",
   "execution_count": 11,
   "id": "40d1eba9",
   "metadata": {
    "ExecuteTime": {
     "end_time": "2023-08-16T19:54:19.254399Z",
     "start_time": "2023-08-16T19:54:18.410648Z"
    },
    "collapsed": false,
    "execution": {
     "iopub.execute_input": "2023-08-16T17:32:03.133084Z",
     "iopub.status.busy": "2023-08-16T17:32:03.132174Z",
     "iopub.status.idle": "2023-08-16T17:32:03.341136Z",
     "shell.execute_reply": "2023-08-16T17:32:03.340141Z"
    },
    "jupyter": {
     "outputs_hidden": false
    },
    "papermill": {
     "duration": 0.229823,
     "end_time": "2023-08-16T17:32:03.343761",
     "exception": false,
     "start_time": "2023-08-16T17:32:03.113938",
     "status": "completed"
    },
    "tags": []
   },
   "outputs": [],
   "source": [
    "train_images_df = pl.read_csv(config.train_labels)"
   ]
  },
  {
   "cell_type": "code",
   "execution_count": 12,
   "id": "29876e54",
   "metadata": {
    "ExecuteTime": {
     "end_time": "2023-08-16T19:54:19.254399Z",
     "start_time": "2023-08-16T19:54:18.439348Z"
    },
    "collapsed": false,
    "execution": {
     "iopub.execute_input": "2023-08-16T17:32:03.381137Z",
     "iopub.status.busy": "2023-08-16T17:32:03.380100Z",
     "iopub.status.idle": "2023-08-16T17:32:03.385237Z",
     "shell.execute_reply": "2023-08-16T17:32:03.384301Z"
    },
    "jupyter": {
     "outputs_hidden": false
    },
    "papermill": {
     "duration": 0.025731,
     "end_time": "2023-08-16T17:32:03.387304",
     "exception": false,
     "start_time": "2023-08-16T17:32:03.361573",
     "status": "completed"
    },
    "tags": []
   },
   "outputs": [],
   "source": [
    "def get_file_path_by_id(file_id, dir=config.root):\n",
    "    return os.path.join(dir, str(file_id) + \".jpg\")"
   ]
  },
  {
   "cell_type": "code",
   "execution_count": 13,
   "id": "1b756472",
   "metadata": {
    "ExecuteTime": {
     "end_time": "2023-08-16T19:54:19.696305Z",
     "start_time": "2023-08-16T19:54:18.446928Z"
    },
    "collapsed": false,
    "execution": {
     "iopub.execute_input": "2023-08-16T17:32:03.423107Z",
     "iopub.status.busy": "2023-08-16T17:32:03.422304Z",
     "iopub.status.idle": "2023-08-16T17:32:03.543362Z",
     "shell.execute_reply": "2023-08-16T17:32:03.542440Z"
    },
    "jupyter": {
     "outputs_hidden": false
    },
    "papermill": {
     "duration": 0.141452,
     "end_time": "2023-08-16T17:32:03.545874",
     "exception": false,
     "start_time": "2023-08-16T17:32:03.404422",
     "status": "completed"
    },
    "tags": []
   },
   "outputs": [],
   "source": [
    "train_images_df = train_images_df.with_columns(\n",
    "    pl.struct(['id']).apply(lambda x: get_file_path_by_id(x['id'], dir=config.train_images_path)).alias('file_path')\n",
    ")"
   ]
  },
  {
   "cell_type": "code",
   "execution_count": 14,
   "id": "f53a484a",
   "metadata": {
    "ExecuteTime": {
     "end_time": "2023-08-16T19:54:19.696305Z",
     "start_time": "2023-08-16T19:54:19.226335Z"
    },
    "collapsed": false,
    "execution": {
     "iopub.execute_input": "2023-08-16T17:32:03.582571Z",
     "iopub.status.busy": "2023-08-16T17:32:03.581697Z",
     "iopub.status.idle": "2023-08-16T17:32:03.589307Z",
     "shell.execute_reply": "2023-08-16T17:32:03.588380Z"
    },
    "jupyter": {
     "outputs_hidden": false
    },
    "papermill": {
     "duration": 0.028368,
     "end_time": "2023-08-16T17:32:03.591726",
     "exception": false,
     "start_time": "2023-08-16T17:32:03.563358",
     "status": "completed"
    },
    "tags": []
   },
   "outputs": [
    {
     "data": {
      "text/plain": [
       "'/kaggle/input/car-brands/images/train/1.jpg'"
      ]
     },
     "execution_count": 14,
     "metadata": {},
     "output_type": "execute_result"
    }
   ],
   "source": [
    "train_images_df['file_path'][0]"
   ]
  },
  {
   "cell_type": "markdown",
   "id": "51c9c5af",
   "metadata": {
    "papermill": {
     "duration": 0.017092,
     "end_time": "2023-08-16T17:32:03.625924",
     "exception": false,
     "start_time": "2023-08-16T17:32:03.608832",
     "status": "completed"
    },
    "tags": []
   },
   "source": [
    "Let's make sure that the paths are correct:"
   ]
  },
  {
   "cell_type": "code",
   "execution_count": 15,
   "id": "54cec135",
   "metadata": {
    "ExecuteTime": {
     "end_time": "2023-08-16T19:54:19.696305Z",
     "start_time": "2023-08-16T19:54:19.238750Z"
    },
    "collapsed": false,
    "execution": {
     "iopub.execute_input": "2023-08-16T17:32:03.661389Z",
     "iopub.status.busy": "2023-08-16T17:32:03.661074Z",
     "iopub.status.idle": "2023-08-16T17:32:03.717949Z",
     "shell.execute_reply": "2023-08-16T17:32:03.717049Z"
    },
    "jupyter": {
     "outputs_hidden": false
    },
    "papermill": {
     "duration": 0.07742,
     "end_time": "2023-08-16T17:32:03.720401",
     "exception": false,
     "start_time": "2023-08-16T17:32:03.642981",
     "status": "completed"
    },
    "tags": []
   },
   "outputs": [
    {
     "data": {
      "image/png": "[encoded data removed]",
      "text/plain": [
       "<PIL.Image.Image image mode=RGB size=176x120>"
      ]
     },
     "execution_count": 15,
     "metadata": {},
     "output_type": "execute_result"
    }
   ],
   "source": [
    "to_pil_image(read_image(train_images_df['file_path'][0]))"
   ]
  },
  {
   "cell_type": "markdown",
   "id": "b486c3b9",
   "metadata": {
    "papermill": {
     "duration": 0.017502,
     "end_time": "2023-08-16T17:32:03.756370",
     "exception": false,
     "start_time": "2023-08-16T17:32:03.738868",
     "status": "completed"
    },
    "tags": []
   },
   "source": [
    "Now we do the same with test images:"
   ]
  },
  {
   "cell_type": "code",
   "execution_count": 16,
   "id": "a532ed10",
   "metadata": {
    "ExecuteTime": {
     "end_time": "2023-08-16T19:54:19.696305Z",
     "start_time": "2023-08-16T19:54:19.269773Z"
    },
    "collapsed": false,
    "execution": {
     "iopub.execute_input": "2023-08-16T17:32:03.794941Z",
     "iopub.status.busy": "2023-08-16T17:32:03.793436Z",
     "iopub.status.idle": "2023-08-16T17:32:03.822281Z",
     "shell.execute_reply": "2023-08-16T17:32:03.821396Z"
    },
    "jupyter": {
     "outputs_hidden": false
    },
    "papermill": {
     "duration": 0.049944,
     "end_time": "2023-08-16T17:32:03.824340",
     "exception": false,
     "start_time": "2023-08-16T17:32:03.774396",
     "status": "completed"
    },
    "tags": []
   },
   "outputs": [
    {
     "data": {
      "text/html": [
       "<div><style>\n",
       ".dataframe > thead > tr > th,\n",
       ".dataframe > tbody > tr > td {\n",
       "  text-align: right;\n",
       "}\n",
       "</style>\n",
       "<small>shape: (2, 3)</small><table border=\"1\" class=\"dataframe\"><thead><tr><th>id</th><th>label</th><th>file_path</th></tr><tr><td>i64</td><td>str</td><td>str</td></tr></thead><tbody><tr><td>1</td><td>&quot;Acura_MDX&quot;</td><td>&quot;/kaggle/input/…</td></tr><tr><td>2</td><td>&quot;Acura_MDX&quot;</td><td>&quot;/kaggle/input/…</td></tr></tbody></table></div>"
      ],
      "text/plain": [
       "shape: (2, 3)\n",
       "┌─────┬───────────┬───────────────────────────────────┐\n",
       "│ id  ┆ label     ┆ file_path                         │\n",
       "│ --- ┆ ---       ┆ ---                               │\n",
       "│ i64 ┆ str       ┆ str                               │\n",
       "╞═════╪═══════════╪═══════════════════════════════════╡\n",
       "│ 1   ┆ Acura_MDX ┆ /kaggle/input/car-brands/images/… │\n",
       "│ 2   ┆ Acura_MDX ┆ /kaggle/input/car-brands/images/… │\n",
       "└─────┴───────────┴───────────────────────────────────┘"
      ]
     },
     "execution_count": 16,
     "metadata": {},
     "output_type": "execute_result"
    }
   ],
   "source": [
    "test_images_df = pl.read_csv(config.test_labels)\n",
    "test_images_df = test_images_df.with_columns(\n",
    "    pl.struct(['id']).apply(lambda x: get_file_path_by_id(x['id'], dir=config.test_images_path)).alias('file_path')\n",
    ")\n",
    "test_images_df.head(2)"
   ]
  },
  {
   "cell_type": "markdown",
   "id": "4c002af3",
   "metadata": {
    "papermill": {
     "duration": 0.017767,
     "end_time": "2023-08-16T17:32:03.860445",
     "exception": false,
     "start_time": "2023-08-16T17:32:03.842678",
     "status": "completed"
    },
    "tags": []
   },
   "source": [
    "## Merge two dataframes into one"
   ]
  },
  {
   "cell_type": "code",
   "execution_count": 17,
   "id": "83a37610",
   "metadata": {
    "ExecuteTime": {
     "end_time": "2023-08-16T19:54:19.711930Z",
     "start_time": "2023-08-16T19:54:19.307104Z"
    },
    "collapsed": false,
    "execution": {
     "iopub.execute_input": "2023-08-16T17:32:03.898139Z",
     "iopub.status.busy": "2023-08-16T17:32:03.897319Z",
     "iopub.status.idle": "2023-08-16T17:32:03.903078Z",
     "shell.execute_reply": "2023-08-16T17:32:03.901861Z"
    },
    "jupyter": {
     "outputs_hidden": false
    },
    "papermill": {
     "duration": 0.026853,
     "end_time": "2023-08-16T17:32:03.905196",
     "exception": false,
     "start_time": "2023-08-16T17:32:03.878343",
     "status": "completed"
    },
    "tags": []
   },
   "outputs": [
    {
     "name": "stdout",
     "output_type": "stream",
     "text": [
      "(21789, 3)\n"
     ]
    }
   ],
   "source": [
    "print(train_images_df.shape)"
   ]
  },
  {
   "cell_type": "markdown",
   "id": "0f003e36",
   "metadata": {
    "papermill": {
     "duration": 0.018473,
     "end_time": "2023-08-16T17:32:03.942857",
     "exception": false,
     "start_time": "2023-08-16T17:32:03.924384",
     "status": "completed"
    },
    "tags": []
   },
   "source": [
    "Our train dataset ends with following value:"
   ]
  },
  {
   "cell_type": "code",
   "execution_count": 18,
   "id": "5cf95887",
   "metadata": {
    "ExecuteTime": {
     "end_time": "2023-08-16T19:54:19.711930Z",
     "start_time": "2023-08-16T19:54:19.319650Z"
    },
    "collapsed": false,
    "execution": {
     "iopub.execute_input": "2023-08-16T17:32:03.980722Z",
     "iopub.status.busy": "2023-08-16T17:32:03.979878Z",
     "iopub.status.idle": "2023-08-16T17:32:03.986762Z",
     "shell.execute_reply": "2023-08-16T17:32:03.985723Z"
    },
    "jupyter": {
     "outputs_hidden": false
    },
    "papermill": {
     "duration": 0.027879,
     "end_time": "2023-08-16T17:32:03.988717",
     "exception": false,
     "start_time": "2023-08-16T17:32:03.960838",
     "status": "completed"
    },
    "tags": []
   },
   "outputs": [
    {
     "data": {
      "text/plain": [
       "21789"
      ]
     },
     "execution_count": 18,
     "metadata": {},
     "output_type": "execute_result"
    }
   ],
   "source": [
    "bound_value = train_images_df['id'][-1]\n",
    "bound_value"
   ]
  },
  {
   "cell_type": "markdown",
   "id": "bf5e4929",
   "metadata": {
    "papermill": {
     "duration": 0.018132,
     "end_time": "2023-08-16T17:32:04.025136",
     "exception": false,
     "start_time": "2023-08-16T17:32:04.007004",
     "status": "completed"
    },
    "tags": []
   },
   "source": [
    "So, our test dataset must start with next integer before we begin to concatenate both."
   ]
  },
  {
   "cell_type": "markdown",
   "id": "587d7c8f",
   "metadata": {
    "papermill": {
     "duration": 0.01814,
     "end_time": "2023-08-16T17:32:04.063697",
     "exception": false,
     "start_time": "2023-08-16T17:32:04.045557",
     "status": "completed"
    },
    "tags": []
   },
   "source": [
    "We apply a function that will replace (shift) our items id."
   ]
  },
  {
   "cell_type": "code",
   "execution_count": 19,
   "id": "39227d6c",
   "metadata": {
    "ExecuteTime": {
     "end_time": "2023-08-16T19:54:19.711930Z",
     "start_time": "2023-08-16T19:54:19.324065Z"
    },
    "collapsed": false,
    "execution": {
     "iopub.execute_input": "2023-08-16T17:32:04.103171Z",
     "iopub.status.busy": "2023-08-16T17:32:04.102263Z",
     "iopub.status.idle": "2023-08-16T17:32:04.114886Z",
     "shell.execute_reply": "2023-08-16T17:32:04.113938Z"
    },
    "jupyter": {
     "outputs_hidden": false
    },
    "papermill": {
     "duration": 0.034133,
     "end_time": "2023-08-16T17:32:04.116964",
     "exception": false,
     "start_time": "2023-08-16T17:32:04.082831",
     "status": "completed"
    },
    "tags": []
   },
   "outputs": [],
   "source": [
    "# Use polars syntax\n",
    "test_images_df = test_images_df.with_columns(\n",
    "    pl.col('id').map(lambda x: x + bound_value).alias('id')\n",
    ")"
   ]
  },
  {
   "cell_type": "code",
   "execution_count": 20,
   "id": "2ae847f8",
   "metadata": {
    "ExecuteTime": {
     "end_time": "2023-08-16T19:54:19.711930Z",
     "start_time": "2023-08-16T19:54:19.333724Z"
    },
    "collapsed": false,
    "execution": {
     "iopub.execute_input": "2023-08-16T17:32:04.155159Z",
     "iopub.status.busy": "2023-08-16T17:32:04.154355Z",
     "iopub.status.idle": "2023-08-16T17:32:04.161533Z",
     "shell.execute_reply": "2023-08-16T17:32:04.159992Z"
    },
    "jupyter": {
     "outputs_hidden": false
    },
    "papermill": {
     "duration": 0.02849,
     "end_time": "2023-08-16T17:32:04.163619",
     "exception": false,
     "start_time": "2023-08-16T17:32:04.135129",
     "status": "completed"
    },
    "tags": []
   },
   "outputs": [
    {
     "name": "stdout",
     "output_type": "stream",
     "text": [
      "shape: (1, 3)\n",
      "┌───────┬───────────┬───────────────────────────────────┐\n",
      "│ id    ┆ label     ┆ file_path                         │\n",
      "│ ---   ┆ ---       ┆ ---                               │\n",
      "│ i64   ┆ str       ┆ str                               │\n",
      "╞═══════╪═══════════╪═══════════════════════════════════╡\n",
      "│ 21790 ┆ Acura_MDX ┆ /kaggle/input/car-brands/images/… │\n",
      "└───────┴───────────┴───────────────────────────────────┘\n"
     ]
    }
   ],
   "source": [
    "print(test_images_df[0])"
   ]
  },
  {
   "cell_type": "markdown",
   "id": "8c2b428d",
   "metadata": {
    "papermill": {
     "duration": 0.018186,
     "end_time": "2023-08-16T17:32:04.200232",
     "exception": false,
     "start_time": "2023-08-16T17:32:04.182046",
     "status": "completed"
    },
    "tags": []
   },
   "source": [
    "Now the count doesn't start from the beginning (1) but continues (from 21790). Note that it doesn't affect files path. We can join frames into one now."
   ]
  },
  {
   "cell_type": "code",
   "execution_count": 21,
   "id": "cec755b3",
   "metadata": {
    "ExecuteTime": {
     "end_time": "2023-08-16T19:54:19.711930Z",
     "start_time": "2023-08-16T19:54:19.342839Z"
    },
    "collapsed": false,
    "execution": {
     "iopub.execute_input": "2023-08-16T17:32:04.239240Z",
     "iopub.status.busy": "2023-08-16T17:32:04.238361Z",
     "iopub.status.idle": "2023-08-16T17:32:04.250844Z",
     "shell.execute_reply": "2023-08-16T17:32:04.249713Z"
    },
    "jupyter": {
     "outputs_hidden": false
    },
    "papermill": {
     "duration": 0.034189,
     "end_time": "2023-08-16T17:32:04.252898",
     "exception": false,
     "start_time": "2023-08-16T17:32:04.218709",
     "status": "completed"
    },
    "tags": []
   },
   "outputs": [
    {
     "data": {
      "text/plain": [
       "(24564, 3)"
      ]
     },
     "execution_count": 21,
     "metadata": {},
     "output_type": "execute_result"
    }
   ],
   "source": [
    "images_df = pl.concat([train_images_df, test_images_df], how='vertical',)\n",
    "images_df.shape"
   ]
  },
  {
   "cell_type": "markdown",
   "id": "c5ffcdcf",
   "metadata": {
    "papermill": {
     "duration": 0.018207,
     "end_time": "2023-08-16T17:32:04.289840",
     "exception": false,
     "start_time": "2023-08-16T17:32:04.271633",
     "status": "completed"
    },
    "tags": []
   },
   "source": [
    "Let's check that dataframes were concatenated properly."
   ]
  },
  {
   "cell_type": "code",
   "execution_count": 22,
   "id": "95fdc342",
   "metadata": {
    "ExecuteTime": {
     "end_time": "2023-08-16T19:54:19.711930Z",
     "start_time": "2023-08-16T19:54:19.358183Z"
    },
    "collapsed": false,
    "execution": {
     "iopub.execute_input": "2023-08-16T17:32:04.328986Z",
     "iopub.status.busy": "2023-08-16T17:32:04.327971Z",
     "iopub.status.idle": "2023-08-16T17:32:04.344049Z",
     "shell.execute_reply": "2023-08-16T17:32:04.342764Z"
    },
    "jupyter": {
     "outputs_hidden": false
    },
    "papermill": {
     "duration": 0.037772,
     "end_time": "2023-08-16T17:32:04.346166",
     "exception": false,
     "start_time": "2023-08-16T17:32:04.308394",
     "status": "completed"
    },
    "tags": []
   },
   "outputs": [
    {
     "name": "stdout",
     "output_type": "stream",
     "text": [
      "Success!\n"
     ]
    }
   ],
   "source": [
    "for i, id in enumerate(images_df['id']):\n",
    "    try:\n",
    "        assert i+1 == id\n",
    "    except:\n",
    "        print(i, id)\n",
    "        raise\n",
    "print(\"Success!\")"
   ]
  },
  {
   "cell_type": "markdown",
   "id": "585bea62",
   "metadata": {
    "papermill": {
     "duration": 0.018391,
     "end_time": "2023-08-16T17:32:04.383557",
     "exception": false,
     "start_time": "2023-08-16T17:32:04.365166",
     "status": "completed"
    },
    "tags": []
   },
   "source": [
    "## Building of Pytorch dataset"
   ]
  },
  {
   "cell_type": "markdown",
   "id": "fd4e1350",
   "metadata": {
    "papermill": {
     "duration": 0.018247,
     "end_time": "2023-08-16T17:32:04.420377",
     "exception": false,
     "start_time": "2023-08-16T17:32:04.402130",
     "status": "completed"
    },
    "tags": []
   },
   "source": [
    "We use Albumantations lib to normalize the future tensors:"
   ]
  },
  {
   "cell_type": "code",
   "execution_count": 23,
   "id": "ba9677d9",
   "metadata": {
    "ExecuteTime": {
     "end_time": "2023-08-16T19:54:19.711930Z",
     "start_time": "2023-08-16T19:54:19.379456Z"
    },
    "collapsed": false,
    "execution": {
     "iopub.execute_input": "2023-08-16T17:32:04.459180Z",
     "iopub.status.busy": "2023-08-16T17:32:04.458848Z",
     "iopub.status.idle": "2023-08-16T17:32:04.464970Z",
     "shell.execute_reply": "2023-08-16T17:32:04.463870Z"
    },
    "jupyter": {
     "outputs_hidden": false
    },
    "papermill": {
     "duration": 0.028104,
     "end_time": "2023-08-16T17:32:04.466965",
     "exception": false,
     "start_time": "2023-08-16T17:32:04.438861",
     "status": "completed"
    },
    "tags": []
   },
   "outputs": [],
   "source": [
    "data_transforms = {\n",
    "    # Only validation is needed.\n",
    "\n",
    "    \"val\": A.Compose([\n",
    "        #         A.ToRGB(),\n",
    "        A.Resize(config.image_dimension, config.image_dimension),\n",
    "        A.Normalize(\n",
    "            mean=[0.485, 0.456, 0.406],\n",
    "            std=[0.229, 0.224, 0.225],\n",
    "            max_pixel_value=255.0,\n",
    "            p=1.0\n",
    "        ),\n",
    "        ToTensorV2()], p=1.)\n",
    "}"
   ]
  },
  {
   "cell_type": "code",
   "execution_count": 24,
   "id": "8e665313",
   "metadata": {
    "ExecuteTime": {
     "end_time": "2023-08-16T19:54:19.711930Z",
     "start_time": "2023-08-16T19:54:19.388122Z"
    },
    "collapsed": false,
    "execution": {
     "iopub.execute_input": "2023-08-16T17:32:04.505748Z",
     "iopub.status.busy": "2023-08-16T17:32:04.504964Z",
     "iopub.status.idle": "2023-08-16T17:32:04.516415Z",
     "shell.execute_reply": "2023-08-16T17:32:04.515532Z"
    },
    "jupyter": {
     "outputs_hidden": false
    },
    "papermill": {
     "duration": 0.033145,
     "end_time": "2023-08-16T17:32:04.518436",
     "exception": false,
     "start_time": "2023-08-16T17:32:04.485291",
     "status": "completed"
    },
    "tags": []
   },
   "outputs": [],
   "source": [
    "class CustomImagesDataset(Dataset):\n",
    "    \"\"\"\n",
    "    \"\"\"\n",
    "    def __init__(self, data: pd.DataFrame=None, images_path: os.path=None, labels_path:os.path=None, transform_images: A.Compose=None,):\n",
    "        \"\"\"\n",
    "\n",
    "        \"\"\"\n",
    "        super().__init__()\n",
    "        assert (data is not None) or (labels_path is not None and images_path is not None)\n",
    "\n",
    "        if data is None:\n",
    "            data = pd.read_csv(labels_path)\n",
    "            data['file_path'] = data['id'].apply(get_file_path_by_id, dir=images_path)\n",
    "\n",
    "        self.images_paths = data['file_path']\n",
    "        self.labels = data['label']\n",
    "#         self.indexes = data['id'].values\n",
    "        self.transform_images = transform_images\n",
    "        self.__set_dataset_len()\n",
    "\n",
    "    def __set_dataset_len(self):\n",
    "        self.length = self.labels.shape[0] # Number of rows\n",
    "\n",
    "    def __len__(self):\n",
    "        \"\"\"\n",
    "        We calculate the len in another function, so that we are able to slice.\n",
    "        \"\"\"\n",
    "        return self.length\n",
    "\n",
    "    def __getitem__(self, index) -> tuple[torch.Tensor, int]:\n",
    "        \"\"\" Function to return item by indexing the dataset \"\"\"\n",
    "\n",
    "        if not isinstance(index, int) and isinstance(index, slice):\n",
    "            # It's not an index, but slice.\n",
    "            # We will return the part of data by making a copy of the dataset\n",
    "            index: slice\n",
    "            self = deepcopy(self)\n",
    "            self.length = index.stop  # Cut the length of dataset.\n",
    "            self.labels = self.labels[:self.length]\n",
    "            return self\n",
    "        assert self.__len__() >= index\n",
    "\n",
    "        image = to_pil_image(read_image(self.images_paths[index]))\n",
    "        if self.transform_images:\n",
    "            # Albumentations requires us to convert image to Numpy Array\n",
    "            image = self.transform_images(image=np.array(image))['image']\n",
    "\n",
    "        label = self.labels[index]\n",
    "        return image, label\n"
   ]
  },
  {
   "cell_type": "code",
   "execution_count": 25,
   "id": "e6198d24",
   "metadata": {
    "ExecuteTime": {
     "end_time": "2023-08-16T19:54:19.711930Z",
     "start_time": "2023-08-16T19:54:19.401873Z"
    },
    "collapsed": false,
    "execution": {
     "iopub.execute_input": "2023-08-16T17:32:04.558029Z",
     "iopub.status.busy": "2023-08-16T17:32:04.557222Z",
     "iopub.status.idle": "2023-08-16T17:32:04.562221Z",
     "shell.execute_reply": "2023-08-16T17:32:04.561320Z"
    },
    "id": "DmijxMsuTFDf",
    "jupyter": {
     "outputs_hidden": false
    },
    "outputId": "0f9bae18-cdd1-4716-8bc0-8d83c4eb2a3f",
    "papermill": {
     "duration": 0.026792,
     "end_time": "2023-08-16T17:32:04.564241",
     "exception": false,
     "start_time": "2023-08-16T17:32:04.537449",
     "status": "completed"
    },
    "tags": []
   },
   "outputs": [],
   "source": [
    "images_dataset = CustomImagesDataset(data=images_df, transform_images=data_transforms['val'],)"
   ]
  },
  {
   "cell_type": "code",
   "execution_count": 26,
   "id": "8a791e7a",
   "metadata": {
    "ExecuteTime": {
     "end_time": "2023-08-16T19:54:19.711930Z",
     "start_time": "2023-08-16T19:54:19.410105Z"
    },
    "execution": {
     "iopub.execute_input": "2023-08-16T17:32:04.602945Z",
     "iopub.status.busy": "2023-08-16T17:32:04.602145Z",
     "iopub.status.idle": "2023-08-16T17:32:04.678765Z",
     "shell.execute_reply": "2023-08-16T17:32:04.677881Z"
    },
    "id": "_bZMqZjoTFDf",
    "outputId": "a43afe2b-a8cb-4aee-9500-d4637cd905ef",
    "papermill": {
     "duration": 0.09939,
     "end_time": "2023-08-16T17:32:04.682099",
     "exception": false,
     "start_time": "2023-08-16T17:32:04.582709",
     "status": "completed"
    },
    "tags": []
   },
   "outputs": [
    {
     "name": "stdout",
     "output_type": "stream",
     "text": [
      "Audi_A1\n"
     ]
    },
    {
     "data": {
      "image/png": "[encoded data removed]",
      "text/plain": [
       "<PIL.Image.Image image mode=RGB size=256x256>"
      ]
     },
     "execution_count": 26,
     "metadata": {},
     "output_type": "execute_result"
    }
   ],
   "source": [
    "print(images_dataset[60][1])\n",
    "to_pil_image(images_dataset[60][0])"
   ]
  },
  {
   "cell_type": "markdown",
   "id": "36a971ed",
   "metadata": {
    "id": "CC_wCexMTFDk",
    "papermill": {
     "duration": 0.022557,
     "end_time": "2023-08-16T17:32:04.725324",
     "exception": false,
     "start_time": "2023-08-16T17:32:04.702767",
     "status": "completed"
    },
    "tags": []
   },
   "source": [
    "## 1. Pretrained SOTA model to get the embeddings"
   ]
  },
  {
   "cell_type": "code",
   "execution_count": 27,
   "id": "9cf75830",
   "metadata": {
    "ExecuteTime": {
     "end_time": "2023-08-16T19:54:19.711930Z",
     "start_time": "2023-08-16T19:54:19.452568Z"
    },
    "collapsed": false,
    "execution": {
     "iopub.execute_input": "2023-08-16T17:32:04.768116Z",
     "iopub.status.busy": "2023-08-16T17:32:04.767728Z",
     "iopub.status.idle": "2023-08-16T17:32:04.773142Z",
     "shell.execute_reply": "2023-08-16T17:32:04.772169Z"
    },
    "jupyter": {
     "outputs_hidden": false
    },
    "papermill": {
     "duration": 0.02901,
     "end_time": "2023-08-16T17:32:04.775113",
     "exception": false,
     "start_time": "2023-08-16T17:32:04.746103",
     "status": "completed"
    },
    "tags": []
   },
   "outputs": [],
   "source": [
    "def get_input_feature_size(classifier: nn.Sequential) -> int:\n",
    "    for module in classifier.modules():\n",
    "        if isinstance(module, nn.Linear):\n",
    "            return module.in_features"
   ]
  },
  {
   "cell_type": "markdown",
   "id": "99a9504d",
   "metadata": {
    "papermill": {
     "duration": 0.02007,
     "end_time": "2023-08-16T17:32:04.815760",
     "exception": false,
     "start_time": "2023-08-16T17:32:04.795690",
     "status": "completed"
    },
    "tags": []
   },
   "source": [
    "Let's use a universal function that we made before."
   ]
  },
  {
   "cell_type": "code",
   "execution_count": 28,
   "id": "a2c4d520",
   "metadata": {
    "ExecuteTime": {
     "end_time": "2023-08-16T19:54:19.711930Z",
     "start_time": "2023-08-16T19:54:19.461095Z"
    },
    "execution": {
     "iopub.execute_input": "2023-08-16T17:32:04.858839Z",
     "iopub.status.busy": "2023-08-16T17:32:04.857277Z",
     "iopub.status.idle": "2023-08-16T17:32:04.866645Z",
     "shell.execute_reply": "2023-08-16T17:32:04.865716Z"
    },
    "id": "-NUikulCTFDk",
    "papermill": {
     "duration": 0.032888,
     "end_time": "2023-08-16T17:32:04.868747",
     "exception": false,
     "start_time": "2023-08-16T17:32:04.835859",
     "status": "completed"
    },
    "tags": []
   },
   "outputs": [],
   "source": [
    "def get_model(model_name='resnet18', from_path=None, pretrained=False, freeze_layers=0.0, get_embeddings=False) -> torch.nn.Module:\n",
    "    \"\"\"\n",
    "        Multipurpose function to load the model. For our task we will use fully trained model. If you don't have such, you may\n",
    "    download any pretrained model cut last layer - you both `pretrained` and `get_embeddings` set to True.\n",
    "    :param model_name:\n",
    "    :param get_embeddings: whether to cut the classifier layer\n",
    "    :return:\n",
    "    \"\"\"\n",
    "    if from_path:\n",
    "        try:\n",
    "            model = torch.load(from_path, map_location=torch.device(\"cuda\" if torch.cuda.is_available() else \"cpu\"))\n",
    "            return model\n",
    "        except FileNotFoundError:\n",
    "            raise\n",
    "    elif model_name:\n",
    "        model = getattr(models, model_name) # We use builtin function\n",
    "        model = model(\n",
    "        weights=('DEFAULT' if pretrained else None)\n",
    "        )\n",
    "\n",
    "    if bool(freeze_layers):\n",
    "        params = list(model.parameters())\n",
    "        for param in params[:int(len(params)*freeze_layers)]:\n",
    "            # Freeze some layers\n",
    "            param.requires_grad = False\n",
    "\n",
    "    if get_embeddings:\n",
    "        # That means remove classifier (last layer):\n",
    "        model.classifier = nn.Sequential(\n",
    "            # nn.Dropout(p=0.3, inplace=True),\n",
    "            nn.Linear(in_features=get_input_feature_size(model.classifier),\n",
    "                      out_features=config.embedding_size, bias=True\n",
    "                      ),\n",
    "\n",
    "        )\n",
    "    return model"
   ]
  },
  {
   "cell_type": "code",
   "execution_count": 29,
   "id": "aa588dda",
   "metadata": {
    "ExecuteTime": {
     "end_time": "2023-08-16T19:54:19.711930Z",
     "start_time": "2023-08-16T19:54:19.473819Z"
    },
    "execution": {
     "iopub.execute_input": "2023-08-16T17:32:04.912129Z",
     "iopub.status.busy": "2023-08-16T17:32:04.910178Z",
     "iopub.status.idle": "2023-08-16T17:32:08.536471Z",
     "shell.execute_reply": "2023-08-16T17:32:08.535096Z"
    },
    "papermill": {
     "duration": 3.650311,
     "end_time": "2023-08-16T17:32:08.539083",
     "exception": false,
     "start_time": "2023-08-16T17:32:04.888772",
     "status": "completed"
    },
    "tags": []
   },
   "outputs": [],
   "source": [
    "embedding_model = get_model(\n",
    "    from_path=config.embedding_model_path,\n",
    ")\n",
    "# embedding_model"
   ]
  },
  {
   "cell_type": "markdown",
   "id": "bc058300",
   "metadata": {
    "papermill": {
     "duration": 0.026446,
     "end_time": "2023-08-16T17:32:08.589921",
     "exception": false,
     "start_time": "2023-08-16T17:32:08.563475",
     "status": "completed"
    },
    "tags": []
   },
   "source": [
    "It is a model that doesn't have classifier - only one linear layer that transforms embeddings to desired size"
   ]
  },
  {
   "cell_type": "code",
   "execution_count": 30,
   "id": "4a7fabde",
   "metadata": {
    "ExecuteTime": {
     "end_time": "2023-08-16T19:54:19.711930Z",
     "start_time": "2023-08-16T19:54:19.599474Z"
    },
    "execution": {
     "iopub.execute_input": "2023-08-16T17:32:08.634688Z",
     "iopub.status.busy": "2023-08-16T17:32:08.634341Z",
     "iopub.status.idle": "2023-08-16T17:32:08.640612Z",
     "shell.execute_reply": "2023-08-16T17:32:08.639646Z"
    },
    "id": "GsWQ0vJoTFDm",
    "outputId": "fe3553cc-d992-44f6-f031-4c1c49705080",
    "papermill": {
     "duration": 0.029919,
     "end_time": "2023-08-16T17:32:08.642662",
     "exception": false,
     "start_time": "2023-08-16T17:32:08.612743",
     "status": "completed"
    },
    "tags": []
   },
   "outputs": [
    {
     "data": {
      "text/plain": [
       "Sequential(\n",
       "  (0): Linear(in_features=960, out_features=512, bias=True)\n",
       ")"
      ]
     },
     "execution_count": 30,
     "metadata": {},
     "output_type": "execute_result"
    }
   ],
   "source": [
    "embedding_model.classifier"
   ]
  },
  {
   "cell_type": "markdown",
   "id": "26d86432",
   "metadata": {
    "id": "WqgSgG2_TFDn",
    "papermill": {
     "duration": 0.020133,
     "end_time": "2023-08-16T17:32:08.682974",
     "exception": false,
     "start_time": "2023-08-16T17:32:08.662841",
     "status": "completed"
    },
    "tags": []
   },
   "source": [
    "## Device"
   ]
  },
  {
   "cell_type": "code",
   "execution_count": 31,
   "id": "1d34eb52",
   "metadata": {
    "ExecuteTime": {
     "end_time": "2023-08-16T20:05:12.013328Z",
     "start_time": "2023-08-16T20:05:11.976862Z"
    },
    "execution": {
     "iopub.execute_input": "2023-08-16T17:32:08.725504Z",
     "iopub.status.busy": "2023-08-16T17:32:08.724624Z",
     "iopub.status.idle": "2023-08-16T17:32:08.735392Z",
     "shell.execute_reply": "2023-08-16T17:32:08.734492Z"
    },
    "id": "F7zEDfFvTFDo",
    "papermill": {
     "duration": 0.034227,
     "end_time": "2023-08-16T17:32:08.737432",
     "exception": false,
     "start_time": "2023-08-16T17:32:08.703205",
     "status": "completed"
    },
    "tags": []
   },
   "outputs": [],
   "source": [
    "device = torch.device(\"cuda\" if torch.cuda.is_available() else \"cpu\")\n",
    "embedding_model = embedding_model.to(device)\n",
    "torch.cuda.empty_cache()"
   ]
  },
  {
   "cell_type": "markdown",
   "id": "4eff1c55",
   "metadata": {
    "id": "E7mbVBoGTFDo",
    "papermill": {
     "duration": 0.023166,
     "end_time": "2023-08-16T17:32:08.781528",
     "exception": false,
     "start_time": "2023-08-16T17:32:08.758362",
     "status": "completed"
    },
    "tags": []
   },
   "source": []
  },
  {
   "cell_type": "code",
   "execution_count": 32,
   "id": "3437c32b",
   "metadata": {
    "ExecuteTime": {
     "end_time": "2023-08-16T20:05:13.452557Z",
     "start_time": "2023-08-16T20:05:13.379320Z"
    },
    "execution": {
     "iopub.execute_input": "2023-08-16T17:32:08.823769Z",
     "iopub.status.busy": "2023-08-16T17:32:08.823448Z",
     "iopub.status.idle": "2023-08-16T17:32:08.828643Z",
     "shell.execute_reply": "2023-08-16T17:32:08.827675Z"
    },
    "id": "IqrseI2gTFDo",
    "papermill": {
     "duration": 0.02895,
     "end_time": "2023-08-16T17:32:08.830784",
     "exception": false,
     "start_time": "2023-08-16T17:32:08.801834",
     "status": "completed"
    },
    "tags": []
   },
   "outputs": [],
   "source": [
    "images_dataloader = DataLoader(images_dataset,\n",
    "                              batch_size=config.val_batch_size,\n",
    "                              shuffle=False,\n",
    "                              num_workers=os.cpu_count() % 4,\n",
    ")"
   ]
  },
  {
   "cell_type": "markdown",
   "id": "f08b6cd1",
   "metadata": {
    "papermill": {
     "duration": 0.020053,
     "end_time": "2023-08-16T17:32:08.870849",
     "exception": false,
     "start_time": "2023-08-16T17:32:08.850796",
     "status": "completed"
    },
    "tags": []
   },
   "source": [
    "## Embeddings processing"
   ]
  },
  {
   "cell_type": "code",
   "execution_count": 33,
   "id": "d0b4a1ac",
   "metadata": {
    "ExecuteTime": {
     "end_time": "2023-08-16T20:05:14.253201Z",
     "start_time": "2023-08-16T20:05:14.240219Z"
    },
    "collapsed": false,
    "execution": {
     "iopub.execute_input": "2023-08-16T17:32:08.913858Z",
     "iopub.status.busy": "2023-08-16T17:32:08.913021Z",
     "iopub.status.idle": "2023-08-16T17:32:08.919550Z",
     "shell.execute_reply": "2023-08-16T17:32:08.918662Z"
    },
    "jupyter": {
     "outputs_hidden": false
    },
    "papermill": {
     "duration": 0.029956,
     "end_time": "2023-08-16T17:32:08.921569",
     "exception": false,
     "start_time": "2023-08-16T17:32:08.891613",
     "status": "completed"
    },
    "tags": []
   },
   "outputs": [],
   "source": [
    "@torch.inference_mode()\n",
    "def get_embeddings(model, dataloader, device):\n",
    "    model.eval()\n",
    "    all_embeddings = []\n",
    "    # all_labels = []\n",
    "\n",
    "    with tqdm(dataloader, desc=\"Processing\",unit=\"batch\") as process:\n",
    "        for images, labels in process:\n",
    "            images = images.to(device)\n",
    "            # labels = labels.to(device)\n",
    "            embeddings = model(images)\n",
    "\n",
    "            all_embeddings.append(embeddings)\n",
    "            # all_labels.append(labels)\n",
    "\n",
    "    return torch.cat(all_embeddings)\n"
   ]
  },
  {
   "cell_type": "code",
   "execution_count": 34,
   "id": "1badb150",
   "metadata": {
    "ExecuteTime": {
     "end_time": "2023-08-16T20:04:30.611404Z",
     "start_time": "2023-08-16T20:03:22.404084Z"
    },
    "collapsed": false,
    "execution": {
     "iopub.execute_input": "2023-08-16T17:32:08.963942Z",
     "iopub.status.busy": "2023-08-16T17:32:08.963133Z",
     "iopub.status.idle": "2023-08-16T17:35:17.618781Z",
     "shell.execute_reply": "2023-08-16T17:35:17.617127Z"
    },
    "jupyter": {
     "outputs_hidden": false
    },
    "papermill": {
     "duration": 188.679632,
     "end_time": "2023-08-16T17:35:17.621293",
     "exception": false,
     "start_time": "2023-08-16T17:32:08.941661",
     "status": "completed"
    },
    "tags": []
   },
   "outputs": [
    {
     "name": "stderr",
     "output_type": "stream",
     "text": [
      "Processing: 100%|██████████| 41/41 [03:08<00:00,  4.60s/batch]\n"
     ]
    }
   ],
   "source": [
    "embeddings_bag = get_embeddings(embedding_model, images_dataloader, device)"
   ]
  },
  {
   "cell_type": "code",
   "execution_count": 35,
   "id": "31b77da1",
   "metadata": {
    "ExecuteTime": {
     "end_time": "2023-08-16T20:04:40.053656Z",
     "start_time": "2023-08-16T20:04:40.030926Z"
    },
    "collapsed": false,
    "execution": {
     "iopub.execute_input": "2023-08-16T17:35:17.670967Z",
     "iopub.status.busy": "2023-08-16T17:35:17.669295Z",
     "iopub.status.idle": "2023-08-16T17:35:17.678392Z",
     "shell.execute_reply": "2023-08-16T17:35:17.677560Z"
    },
    "jupyter": {
     "outputs_hidden": false
    },
    "papermill": {
     "duration": 0.035459,
     "end_time": "2023-08-16T17:35:17.680403",
     "exception": false,
     "start_time": "2023-08-16T17:35:17.644944",
     "status": "completed"
    },
    "tags": []
   },
   "outputs": [
    {
     "data": {
      "text/plain": [
       "torch.Size([24564, 512])"
      ]
     },
     "execution_count": 35,
     "metadata": {},
     "output_type": "execute_result"
    }
   ],
   "source": [
    "embeddings_bag.size()"
   ]
  },
  {
   "cell_type": "code",
   "execution_count": 36,
   "id": "90d4b26d",
   "metadata": {
    "ExecuteTime": {
     "end_time": "2023-08-16T19:54:26.655356Z",
     "start_time": "2023-08-16T19:54:26.610509Z"
    },
    "collapsed": false,
    "execution": {
     "iopub.execute_input": "2023-08-16T17:35:17.729626Z",
     "iopub.status.busy": "2023-08-16T17:35:17.728081Z",
     "iopub.status.idle": "2023-08-16T17:35:17.774534Z",
     "shell.execute_reply": "2023-08-16T17:35:17.773667Z"
    },
    "jupyter": {
     "outputs_hidden": false
    },
    "papermill": {
     "duration": 0.072739,
     "end_time": "2023-08-16T17:35:17.776505",
     "exception": false,
     "start_time": "2023-08-16T17:35:17.703766",
     "status": "completed"
    },
    "tags": []
   },
   "outputs": [],
   "source": [
    "embeddings_bag = embeddings_bag.cpu().numpy()"
   ]
  },
  {
   "cell_type": "code",
   "execution_count": 37,
   "id": "43b3e921",
   "metadata": {
    "ExecuteTime": {
     "end_time": "2023-08-16T19:58:09.878708Z",
     "start_time": "2023-08-16T19:58:09.797046Z"
    },
    "collapsed": false,
    "execution": {
     "iopub.execute_input": "2023-08-16T17:35:17.824975Z",
     "iopub.status.busy": "2023-08-16T17:35:17.824171Z",
     "iopub.status.idle": "2023-08-16T17:35:18.020374Z",
     "shell.execute_reply": "2023-08-16T17:35:18.019279Z"
    },
    "jupyter": {
     "outputs_hidden": false
    },
    "papermill": {
     "duration": 0.223092,
     "end_time": "2023-08-16T17:35:18.023281",
     "exception": false,
     "start_time": "2023-08-16T17:35:17.800189",
     "status": "completed"
    },
    "tags": []
   },
   "outputs": [
    {
     "data": {
      "text/html": [
       "<div><style>\n",
       ".dataframe > thead > tr > th,\n",
       ".dataframe > tbody > tr > td {\n",
       "  text-align: right;\n",
       "}\n",
       "</style>\n",
       "<small>shape: (5, 512)</small><table border=\"1\" class=\"dataframe\"><thead><tr><th>0</th><th>1</th><th>2</th><th>3</th><th>4</th><th>5</th><th>6</th><th>7</th><th>8</th><th>9</th><th>10</th><th>11</th><th>12</th><th>13</th><th>14</th><th>15</th><th>16</th><th>17</th><th>18</th><th>19</th><th>20</th><th>21</th><th>22</th><th>23</th><th>24</th><th>25</th><th>26</th><th>27</th><th>28</th><th>29</th><th>30</th><th>31</th><th>32</th><th>33</th><th>34</th><th>35</th><th>36</th><th>&hellip;</th><th>475</th><th>476</th><th>477</th><th>478</th><th>479</th><th>480</th><th>481</th><th>482</th><th>483</th><th>484</th><th>485</th><th>486</th><th>487</th><th>488</th><th>489</th><th>490</th><th>491</th><th>492</th><th>493</th><th>494</th><th>495</th><th>496</th><th>497</th><th>498</th><th>499</th><th>500</th><th>501</th><th>502</th><th>503</th><th>504</th><th>505</th><th>506</th><th>507</th><th>508</th><th>509</th><th>510</th><th>511</th></tr><tr><td>f32</td><td>f32</td><td>f32</td><td>f32</td><td>f32</td><td>f32</td><td>f32</td><td>f32</td><td>f32</td><td>f32</td><td>f32</td><td>f32</td><td>f32</td><td>f32</td><td>f32</td><td>f32</td><td>f32</td><td>f32</td><td>f32</td><td>f32</td><td>f32</td><td>f32</td><td>f32</td><td>f32</td><td>f32</td><td>f32</td><td>f32</td><td>f32</td><td>f32</td><td>f32</td><td>f32</td><td>f32</td><td>f32</td><td>f32</td><td>f32</td><td>f32</td><td>f32</td><td>&hellip;</td><td>f32</td><td>f32</td><td>f32</td><td>f32</td><td>f32</td><td>f32</td><td>f32</td><td>f32</td><td>f32</td><td>f32</td><td>f32</td><td>f32</td><td>f32</td><td>f32</td><td>f32</td><td>f32</td><td>f32</td><td>f32</td><td>f32</td><td>f32</td><td>f32</td><td>f32</td><td>f32</td><td>f32</td><td>f32</td><td>f32</td><td>f32</td><td>f32</td><td>f32</td><td>f32</td><td>f32</td><td>f32</td><td>f32</td><td>f32</td><td>f32</td><td>f32</td><td>f32</td></tr></thead><tbody><tr><td>-0.001561</td><td>0.159091</td><td>-0.326709</td><td>-0.226603</td><td>-0.097365</td><td>0.204614</td><td>-0.142634</td><td>0.208764</td><td>0.469837</td><td>0.069866</td><td>-0.214199</td><td>0.078432</td><td>0.059433</td><td>-0.255648</td><td>0.465814</td><td>0.130633</td><td>-0.138551</td><td>-0.087654</td><td>0.376801</td><td>-0.102735</td><td>0.315953</td><td>-0.364239</td><td>-0.297658</td><td>-0.086533</td><td>0.026685</td><td>-0.166138</td><td>0.485222</td><td>-0.70863</td><td>0.059533</td><td>0.286716</td><td>0.452996</td><td>-0.072838</td><td>0.101409</td><td>0.262743</td><td>0.222803</td><td>0.024834</td><td>-0.116272</td><td>&hellip;</td><td>0.113709</td><td>-0.186677</td><td>-0.298899</td><td>0.245753</td><td>-0.097061</td><td>-0.130924</td><td>-0.357984</td><td>-0.411139</td><td>0.366418</td><td>-0.427736</td><td>-0.124948</td><td>-0.448462</td><td>0.071178</td><td>-0.067794</td><td>-0.111349</td><td>0.170131</td><td>0.31933</td><td>-0.16849</td><td>-0.118607</td><td>-0.114619</td><td>-0.149445</td><td>-0.08156</td><td>0.031606</td><td>-0.222388</td><td>0.304512</td><td>-0.372294</td><td>0.194721</td><td>0.111356</td><td>0.410457</td><td>-0.024682</td><td>0.178265</td><td>-0.35734</td><td>-0.073279</td><td>0.190458</td><td>-0.060786</td><td>0.364546</td><td>0.824516</td></tr><tr><td>0.229466</td><td>-0.186505</td><td>-0.329016</td><td>-0.650666</td><td>0.115301</td><td>0.149208</td><td>0.065496</td><td>0.191487</td><td>0.42892</td><td>-0.016147</td><td>0.139406</td><td>0.066333</td><td>-0.27887</td><td>-0.148158</td><td>0.017281</td><td>0.318445</td><td>-0.079015</td><td>0.034666</td><td>0.446652</td><td>-0.258744</td><td>0.35744</td><td>-0.114873</td><td>0.061385</td><td>-0.517343</td><td>0.103641</td><td>-0.10283</td><td>0.589982</td><td>-0.1825</td><td>-0.169097</td><td>0.031267</td><td>0.293672</td><td>0.10812</td><td>-0.290676</td><td>0.113232</td><td>0.126679</td><td>0.037752</td><td>-0.091028</td><td>&hellip;</td><td>0.260027</td><td>-0.165166</td><td>-0.30908</td><td>0.175681</td><td>0.093439</td><td>-0.388641</td><td>-0.392741</td><td>-0.058004</td><td>0.206543</td><td>-0.260815</td><td>0.161926</td><td>-0.213868</td><td>0.312559</td><td>-0.21701</td><td>-0.212913</td><td>0.043407</td><td>-0.052148</td><td>-0.355319</td><td>-0.315214</td><td>-0.136098</td><td>0.074147</td><td>-0.081456</td><td>-0.059186</td><td>-0.175451</td><td>0.328775</td><td>-0.197459</td><td>0.171962</td><td>0.13534</td><td>0.195697</td><td>0.171068</td><td>0.037157</td><td>0.049534</td><td>-0.224402</td><td>0.225593</td><td>0.180314</td><td>0.073213</td><td>0.500426</td></tr><tr><td>-0.203165</td><td>0.330612</td><td>-0.413488</td><td>-0.128357</td><td>0.013811</td><td>0.244605</td><td>-0.137738</td><td>0.365148</td><td>0.385303</td><td>0.318809</td><td>-0.177434</td><td>0.014444</td><td>-0.073377</td><td>-0.235376</td><td>0.410262</td><td>-0.03597</td><td>0.001357</td><td>-0.021293</td><td>0.50106</td><td>0.131379</td><td>0.404416</td><td>-0.336581</td><td>-0.256578</td><td>-0.027033</td><td>0.396875</td><td>-0.28554</td><td>0.422788</td><td>-0.650043</td><td>0.219724</td><td>0.361741</td><td>0.450733</td><td>-0.181746</td><td>0.196089</td><td>-0.05003</td><td>0.229581</td><td>0.067064</td><td>-0.167564</td><td>&hellip;</td><td>0.350391</td><td>-0.240519</td><td>-0.262738</td><td>0.209082</td><td>-0.241945</td><td>-0.288608</td><td>-0.388718</td><td>-0.250951</td><td>0.275043</td><td>-0.069686</td><td>-0.371757</td><td>-0.171901</td><td>-0.008264</td><td>-0.237953</td><td>-0.321406</td><td>0.259108</td><td>0.400673</td><td>-0.299547</td><td>0.054096</td><td>0.005741</td><td>-0.035825</td><td>-0.145263</td><td>-0.096771</td><td>-0.170139</td><td>0.263281</td><td>-0.153472</td><td>0.106789</td><td>-0.004684</td><td>0.413026</td><td>0.040102</td><td>0.054195</td><td>-0.251548</td><td>-0.020557</td><td>0.241178</td><td>0.0629</td><td>0.354683</td><td>0.59187</td></tr><tr><td>-0.052456</td><td>0.385235</td><td>-0.423291</td><td>-0.007358</td><td>0.031012</td><td>0.242327</td><td>0.118072</td><td>0.23562</td><td>0.464901</td><td>0.320997</td><td>-0.23691</td><td>-0.04943</td><td>0.11451</td><td>-0.169678</td><td>0.533801</td><td>-0.169033</td><td>0.048569</td><td>-0.086769</td><td>0.344593</td><td>-0.025558</td><td>0.184888</td><td>-0.275048</td><td>-0.274544</td><td>-0.0808</td><td>0.192704</td><td>-0.118977</td><td>0.302043</td><td>-0.721307</td><td>0.236126</td><td>0.448257</td><td>0.386802</td><td>-0.300737</td><td>0.157988</td><td>-0.101695</td><td>0.340388</td><td>0.085632</td><td>0.098532</td><td>&hellip;</td><td>0.423356</td><td>-0.315011</td><td>-0.254342</td><td>0.144064</td><td>-0.195568</td><td>-0.300371</td><td>-0.459397</td><td>-0.21723</td><td>0.159235</td><td>-0.129899</td><td>-0.349052</td><td>-0.081316</td><td>0.084587</td><td>-0.384839</td><td>-0.250533</td><td>0.194477</td><td>0.30682</td><td>-0.271959</td><td>0.172045</td><td>0.003072</td><td>-0.265631</td><td>-0.065971</td><td>0.032171</td><td>0.05684</td><td>0.19052</td><td>-0.225707</td><td>0.1255</td><td>0.095158</td><td>0.412529</td><td>0.0152</td><td>0.237078</td><td>-0.429586</td><td>-0.110773</td><td>0.166453</td><td>0.079581</td><td>0.243743</td><td>0.662615</td></tr><tr><td>0.092909</td><td>0.075529</td><td>-0.04049</td><td>0.137453</td><td>0.53128</td><td>0.219033</td><td>-0.100117</td><td>0.161784</td><td>-0.07792</td><td>-0.265161</td><td>-0.09375</td><td>-0.191496</td><td>-0.182768</td><td>0.202215</td><td>-0.081372</td><td>-0.003431</td><td>-0.301652</td><td>-0.155894</td><td>0.196843</td><td>-0.022968</td><td>-0.19679</td><td>-0.024239</td><td>0.087924</td><td>-0.339051</td><td>-0.053372</td><td>0.532928</td><td>0.375284</td><td>-0.260523</td><td>-0.268407</td><td>0.137507</td><td>0.268298</td><td>0.11258</td><td>-0.041074</td><td>0.099681</td><td>0.012165</td><td>0.157214</td><td>0.155911</td><td>&hellip;</td><td>0.076442</td><td>-0.195524</td><td>-0.167859</td><td>0.146799</td><td>0.172023</td><td>-0.204419</td><td>-0.288022</td><td>0.110002</td><td>0.052425</td><td>-0.345989</td><td>0.660531</td><td>-0.179124</td><td>-0.027644</td><td>-0.081305</td><td>-0.314022</td><td>0.273189</td><td>-0.139579</td><td>-0.100098</td><td>-0.220546</td><td>-0.402161</td><td>0.046665</td><td>0.006274</td><td>-0.211194</td><td>0.008769</td><td>0.082264</td><td>-0.160109</td><td>0.058212</td><td>-0.099583</td><td>-0.02452</td><td>0.143381</td><td>-0.099898</td><td>0.137324</td><td>0.137523</td><td>0.217806</td><td>0.313156</td><td>0.400654</td><td>0.217053</td></tr></tbody></table></div>"
      ],
      "text/plain": [
       "shape: (5, 512)\n",
       "┌───────────┬───────────┬───────────┬───────────┬───┬──────────┬───────────┬──────────┬──────────┐\n",
       "│ 0         ┆ 1         ┆ 2         ┆ 3         ┆ … ┆ 508      ┆ 509       ┆ 510      ┆ 511      │\n",
       "│ ---       ┆ ---       ┆ ---       ┆ ---       ┆   ┆ ---      ┆ ---       ┆ ---      ┆ ---      │\n",
       "│ f32       ┆ f32       ┆ f32       ┆ f32       ┆   ┆ f32      ┆ f32       ┆ f32      ┆ f32      │\n",
       "╞═══════════╪═══════════╪═══════════╪═══════════╪═══╪══════════╪═══════════╪══════════╪══════════╡\n",
       "│ -0.001561 ┆ 0.159091  ┆ -0.326709 ┆ -0.226603 ┆ … ┆ 0.190458 ┆ -0.060786 ┆ 0.364546 ┆ 0.824516 │\n",
       "│ 0.229466  ┆ -0.186505 ┆ -0.329016 ┆ -0.650666 ┆ … ┆ 0.225593 ┆ 0.180314  ┆ 0.073213 ┆ 0.500426 │\n",
       "│ -0.203165 ┆ 0.330612  ┆ -0.413488 ┆ -0.128357 ┆ … ┆ 0.241178 ┆ 0.0629    ┆ 0.354683 ┆ 0.59187  │\n",
       "│ -0.052456 ┆ 0.385235  ┆ -0.423291 ┆ -0.007358 ┆ … ┆ 0.166453 ┆ 0.079581  ┆ 0.243743 ┆ 0.662615 │\n",
       "│ 0.092909  ┆ 0.075529  ┆ -0.04049  ┆ 0.137453  ┆ … ┆ 0.217806 ┆ 0.313156  ┆ 0.400654 ┆ 0.217053 │\n",
       "└───────────┴───────────┴───────────┴───────────┴───┴──────────┴───────────┴──────────┴──────────┘"
      ]
     },
     "execution_count": 37,
     "metadata": {},
     "output_type": "execute_result"
    }
   ],
   "source": [
    "embeddings_df = pl.from_numpy(embeddings_bag,\n",
    "              schema=list(\n",
    "                  map(lambda x: str(x),\n",
    "                  list(range(embeddings_bag.shape[1]))\n",
    "                )\n",
    "              )  # Set columns as numbers from 0 to embedding size - 1\n",
    ")\n",
    "embeddings_df.head()"
   ]
  },
  {
   "cell_type": "markdown",
   "id": "4236e177",
   "metadata": {
    "papermill": {
     "duration": 0.023861,
     "end_time": "2023-08-16T17:35:18.071277",
     "exception": false,
     "start_time": "2023-08-16T17:35:18.047416",
     "status": "completed"
    },
    "tags": []
   },
   "source": [
    "Now we have dataframe of embeddings. Let's add here \"label\" column and then save to .csv."
   ]
  },
  {
   "cell_type": "code",
   "execution_count": 38,
   "id": "cda48c18",
   "metadata": {
    "execution": {
     "iopub.execute_input": "2023-08-16T17:35:18.120255Z",
     "iopub.status.busy": "2023-08-16T17:35:18.119948Z",
     "iopub.status.idle": "2023-08-16T17:35:18.127278Z",
     "shell.execute_reply": "2023-08-16T17:35:18.126251Z"
    },
    "papermill": {
     "duration": 0.034719,
     "end_time": "2023-08-16T17:35:18.129500",
     "exception": false,
     "start_time": "2023-08-16T17:35:18.094781",
     "status": "completed"
    },
    "tags": []
   },
   "outputs": [
    {
     "data": {
      "text/html": [
       "<div><style>\n",
       ".dataframe > thead > tr > th,\n",
       ".dataframe > tbody > tr > td {\n",
       "  text-align: right;\n",
       "}\n",
       "</style>\n",
       "<small>shape: (5, 1)</small><table border=\"1\" class=\"dataframe\"><thead><tr><th>label</th></tr><tr><td>str</td></tr></thead><tbody><tr><td>&quot;Acura_MDX&quot;</td></tr><tr><td>&quot;Acura_MDX&quot;</td></tr><tr><td>&quot;Acura_MDX&quot;</td></tr><tr><td>&quot;Acura_MDX&quot;</td></tr><tr><td>&quot;Acura_MDX&quot;</td></tr></tbody></table></div>"
      ],
      "text/plain": [
       "shape: (5, 1)\n",
       "┌───────────┐\n",
       "│ label     │\n",
       "│ ---       │\n",
       "│ str       │\n",
       "╞═══════════╡\n",
       "│ Acura_MDX │\n",
       "│ Acura_MDX │\n",
       "│ Acura_MDX │\n",
       "│ Acura_MDX │\n",
       "│ Acura_MDX │\n",
       "└───────────┘"
      ]
     },
     "execution_count": 38,
     "metadata": {},
     "output_type": "execute_result"
    }
   ],
   "source": [
    "labels = images_df.select(pl.col('label'))\n",
    "labels.head()"
   ]
  },
  {
   "cell_type": "code",
   "execution_count": 39,
   "id": "1be22814",
   "metadata": {
    "execution": {
     "iopub.execute_input": "2023-08-16T17:35:18.178243Z",
     "iopub.status.busy": "2023-08-16T17:35:18.177685Z",
     "iopub.status.idle": "2023-08-16T17:35:18.195184Z",
     "shell.execute_reply": "2023-08-16T17:35:18.194181Z"
    },
    "papermill": {
     "duration": 0.044446,
     "end_time": "2023-08-16T17:35:18.197556",
     "exception": false,
     "start_time": "2023-08-16T17:35:18.153110",
     "status": "completed"
    },
    "tags": []
   },
   "outputs": [
    {
     "data": {
      "text/html": [
       "<div><style>\n",
       ".dataframe > thead > tr > th,\n",
       ".dataframe > tbody > tr > td {\n",
       "  text-align: right;\n",
       "}\n",
       "</style>\n",
       "<small>shape: (5, 513)</small><table border=\"1\" class=\"dataframe\"><thead><tr><th>0</th><th>1</th><th>2</th><th>3</th><th>4</th><th>5</th><th>6</th><th>7</th><th>8</th><th>9</th><th>10</th><th>11</th><th>12</th><th>13</th><th>14</th><th>15</th><th>16</th><th>17</th><th>18</th><th>19</th><th>20</th><th>21</th><th>22</th><th>23</th><th>24</th><th>25</th><th>26</th><th>27</th><th>28</th><th>29</th><th>30</th><th>31</th><th>32</th><th>33</th><th>34</th><th>35</th><th>36</th><th>&hellip;</th><th>476</th><th>477</th><th>478</th><th>479</th><th>480</th><th>481</th><th>482</th><th>483</th><th>484</th><th>485</th><th>486</th><th>487</th><th>488</th><th>489</th><th>490</th><th>491</th><th>492</th><th>493</th><th>494</th><th>495</th><th>496</th><th>497</th><th>498</th><th>499</th><th>500</th><th>501</th><th>502</th><th>503</th><th>504</th><th>505</th><th>506</th><th>507</th><th>508</th><th>509</th><th>510</th><th>511</th><th>label</th></tr><tr><td>f32</td><td>f32</td><td>f32</td><td>f32</td><td>f32</td><td>f32</td><td>f32</td><td>f32</td><td>f32</td><td>f32</td><td>f32</td><td>f32</td><td>f32</td><td>f32</td><td>f32</td><td>f32</td><td>f32</td><td>f32</td><td>f32</td><td>f32</td><td>f32</td><td>f32</td><td>f32</td><td>f32</td><td>f32</td><td>f32</td><td>f32</td><td>f32</td><td>f32</td><td>f32</td><td>f32</td><td>f32</td><td>f32</td><td>f32</td><td>f32</td><td>f32</td><td>f32</td><td>&hellip;</td><td>f32</td><td>f32</td><td>f32</td><td>f32</td><td>f32</td><td>f32</td><td>f32</td><td>f32</td><td>f32</td><td>f32</td><td>f32</td><td>f32</td><td>f32</td><td>f32</td><td>f32</td><td>f32</td><td>f32</td><td>f32</td><td>f32</td><td>f32</td><td>f32</td><td>f32</td><td>f32</td><td>f32</td><td>f32</td><td>f32</td><td>f32</td><td>f32</td><td>f32</td><td>f32</td><td>f32</td><td>f32</td><td>f32</td><td>f32</td><td>f32</td><td>f32</td><td>str</td></tr></thead><tbody><tr><td>-0.001561</td><td>0.159091</td><td>-0.326709</td><td>-0.226603</td><td>-0.097365</td><td>0.204614</td><td>-0.142634</td><td>0.208764</td><td>0.469837</td><td>0.069866</td><td>-0.214199</td><td>0.078432</td><td>0.059433</td><td>-0.255648</td><td>0.465814</td><td>0.130633</td><td>-0.138551</td><td>-0.087654</td><td>0.376801</td><td>-0.102735</td><td>0.315953</td><td>-0.364239</td><td>-0.297658</td><td>-0.086533</td><td>0.026685</td><td>-0.166138</td><td>0.485222</td><td>-0.70863</td><td>0.059533</td><td>0.286716</td><td>0.452996</td><td>-0.072838</td><td>0.101409</td><td>0.262743</td><td>0.222803</td><td>0.024834</td><td>-0.116272</td><td>&hellip;</td><td>-0.186677</td><td>-0.298899</td><td>0.245753</td><td>-0.097061</td><td>-0.130924</td><td>-0.357984</td><td>-0.411139</td><td>0.366418</td><td>-0.427736</td><td>-0.124948</td><td>-0.448462</td><td>0.071178</td><td>-0.067794</td><td>-0.111349</td><td>0.170131</td><td>0.31933</td><td>-0.16849</td><td>-0.118607</td><td>-0.114619</td><td>-0.149445</td><td>-0.08156</td><td>0.031606</td><td>-0.222388</td><td>0.304512</td><td>-0.372294</td><td>0.194721</td><td>0.111356</td><td>0.410457</td><td>-0.024682</td><td>0.178265</td><td>-0.35734</td><td>-0.073279</td><td>0.190458</td><td>-0.060786</td><td>0.364546</td><td>0.824516</td><td>&quot;Acura_MDX&quot;</td></tr><tr><td>0.229466</td><td>-0.186505</td><td>-0.329016</td><td>-0.650666</td><td>0.115301</td><td>0.149208</td><td>0.065496</td><td>0.191487</td><td>0.42892</td><td>-0.016147</td><td>0.139406</td><td>0.066333</td><td>-0.27887</td><td>-0.148158</td><td>0.017281</td><td>0.318445</td><td>-0.079015</td><td>0.034666</td><td>0.446652</td><td>-0.258744</td><td>0.35744</td><td>-0.114873</td><td>0.061385</td><td>-0.517343</td><td>0.103641</td><td>-0.10283</td><td>0.589982</td><td>-0.1825</td><td>-0.169097</td><td>0.031267</td><td>0.293672</td><td>0.10812</td><td>-0.290676</td><td>0.113232</td><td>0.126679</td><td>0.037752</td><td>-0.091028</td><td>&hellip;</td><td>-0.165166</td><td>-0.30908</td><td>0.175681</td><td>0.093439</td><td>-0.388641</td><td>-0.392741</td><td>-0.058004</td><td>0.206543</td><td>-0.260815</td><td>0.161926</td><td>-0.213868</td><td>0.312559</td><td>-0.21701</td><td>-0.212913</td><td>0.043407</td><td>-0.052148</td><td>-0.355319</td><td>-0.315214</td><td>-0.136098</td><td>0.074147</td><td>-0.081456</td><td>-0.059186</td><td>-0.175451</td><td>0.328775</td><td>-0.197459</td><td>0.171962</td><td>0.13534</td><td>0.195697</td><td>0.171068</td><td>0.037157</td><td>0.049534</td><td>-0.224402</td><td>0.225593</td><td>0.180314</td><td>0.073213</td><td>0.500426</td><td>&quot;Acura_MDX&quot;</td></tr><tr><td>-0.203165</td><td>0.330612</td><td>-0.413488</td><td>-0.128357</td><td>0.013811</td><td>0.244605</td><td>-0.137738</td><td>0.365148</td><td>0.385303</td><td>0.318809</td><td>-0.177434</td><td>0.014444</td><td>-0.073377</td><td>-0.235376</td><td>0.410262</td><td>-0.03597</td><td>0.001357</td><td>-0.021293</td><td>0.50106</td><td>0.131379</td><td>0.404416</td><td>-0.336581</td><td>-0.256578</td><td>-0.027033</td><td>0.396875</td><td>-0.28554</td><td>0.422788</td><td>-0.650043</td><td>0.219724</td><td>0.361741</td><td>0.450733</td><td>-0.181746</td><td>0.196089</td><td>-0.05003</td><td>0.229581</td><td>0.067064</td><td>-0.167564</td><td>&hellip;</td><td>-0.240519</td><td>-0.262738</td><td>0.209082</td><td>-0.241945</td><td>-0.288608</td><td>-0.388718</td><td>-0.250951</td><td>0.275043</td><td>-0.069686</td><td>-0.371757</td><td>-0.171901</td><td>-0.008264</td><td>-0.237953</td><td>-0.321406</td><td>0.259108</td><td>0.400673</td><td>-0.299547</td><td>0.054096</td><td>0.005741</td><td>-0.035825</td><td>-0.145263</td><td>-0.096771</td><td>-0.170139</td><td>0.263281</td><td>-0.153472</td><td>0.106789</td><td>-0.004684</td><td>0.413026</td><td>0.040102</td><td>0.054195</td><td>-0.251548</td><td>-0.020557</td><td>0.241178</td><td>0.0629</td><td>0.354683</td><td>0.59187</td><td>&quot;Acura_MDX&quot;</td></tr><tr><td>-0.052456</td><td>0.385235</td><td>-0.423291</td><td>-0.007358</td><td>0.031012</td><td>0.242327</td><td>0.118072</td><td>0.23562</td><td>0.464901</td><td>0.320997</td><td>-0.23691</td><td>-0.04943</td><td>0.11451</td><td>-0.169678</td><td>0.533801</td><td>-0.169033</td><td>0.048569</td><td>-0.086769</td><td>0.344593</td><td>-0.025558</td><td>0.184888</td><td>-0.275048</td><td>-0.274544</td><td>-0.0808</td><td>0.192704</td><td>-0.118977</td><td>0.302043</td><td>-0.721307</td><td>0.236126</td><td>0.448257</td><td>0.386802</td><td>-0.300737</td><td>0.157988</td><td>-0.101695</td><td>0.340388</td><td>0.085632</td><td>0.098532</td><td>&hellip;</td><td>-0.315011</td><td>-0.254342</td><td>0.144064</td><td>-0.195568</td><td>-0.300371</td><td>-0.459397</td><td>-0.21723</td><td>0.159235</td><td>-0.129899</td><td>-0.349052</td><td>-0.081316</td><td>0.084587</td><td>-0.384839</td><td>-0.250533</td><td>0.194477</td><td>0.30682</td><td>-0.271959</td><td>0.172045</td><td>0.003072</td><td>-0.265631</td><td>-0.065971</td><td>0.032171</td><td>0.05684</td><td>0.19052</td><td>-0.225707</td><td>0.1255</td><td>0.095158</td><td>0.412529</td><td>0.0152</td><td>0.237078</td><td>-0.429586</td><td>-0.110773</td><td>0.166453</td><td>0.079581</td><td>0.243743</td><td>0.662615</td><td>&quot;Acura_MDX&quot;</td></tr><tr><td>0.092909</td><td>0.075529</td><td>-0.04049</td><td>0.137453</td><td>0.53128</td><td>0.219033</td><td>-0.100117</td><td>0.161784</td><td>-0.07792</td><td>-0.265161</td><td>-0.09375</td><td>-0.191496</td><td>-0.182768</td><td>0.202215</td><td>-0.081372</td><td>-0.003431</td><td>-0.301652</td><td>-0.155894</td><td>0.196843</td><td>-0.022968</td><td>-0.19679</td><td>-0.024239</td><td>0.087924</td><td>-0.339051</td><td>-0.053372</td><td>0.532928</td><td>0.375284</td><td>-0.260523</td><td>-0.268407</td><td>0.137507</td><td>0.268298</td><td>0.11258</td><td>-0.041074</td><td>0.099681</td><td>0.012165</td><td>0.157214</td><td>0.155911</td><td>&hellip;</td><td>-0.195524</td><td>-0.167859</td><td>0.146799</td><td>0.172023</td><td>-0.204419</td><td>-0.288022</td><td>0.110002</td><td>0.052425</td><td>-0.345989</td><td>0.660531</td><td>-0.179124</td><td>-0.027644</td><td>-0.081305</td><td>-0.314022</td><td>0.273189</td><td>-0.139579</td><td>-0.100098</td><td>-0.220546</td><td>-0.402161</td><td>0.046665</td><td>0.006274</td><td>-0.211194</td><td>0.008769</td><td>0.082264</td><td>-0.160109</td><td>0.058212</td><td>-0.099583</td><td>-0.02452</td><td>0.143381</td><td>-0.099898</td><td>0.137324</td><td>0.137523</td><td>0.217806</td><td>0.313156</td><td>0.400654</td><td>0.217053</td><td>&quot;Acura_MDX&quot;</td></tr></tbody></table></div>"
      ],
      "text/plain": [
       "shape: (5, 513)\n",
       "┌───────────┬───────────┬───────────┬───────────┬───┬───────────┬──────────┬──────────┬───────────┐\n",
       "│ 0         ┆ 1         ┆ 2         ┆ 3         ┆ … ┆ 509       ┆ 510      ┆ 511      ┆ label     │\n",
       "│ ---       ┆ ---       ┆ ---       ┆ ---       ┆   ┆ ---       ┆ ---      ┆ ---      ┆ ---       │\n",
       "│ f32       ┆ f32       ┆ f32       ┆ f32       ┆   ┆ f32       ┆ f32      ┆ f32      ┆ str       │\n",
       "╞═══════════╪═══════════╪═══════════╪═══════════╪═══╪═══════════╪══════════╪══════════╪═══════════╡\n",
       "│ -0.001561 ┆ 0.159091  ┆ -0.326709 ┆ -0.226603 ┆ … ┆ -0.060786 ┆ 0.364546 ┆ 0.824516 ┆ Acura_MDX │\n",
       "│ 0.229466  ┆ -0.186505 ┆ -0.329016 ┆ -0.650666 ┆ … ┆ 0.180314  ┆ 0.073213 ┆ 0.500426 ┆ Acura_MDX │\n",
       "│ -0.203165 ┆ 0.330612  ┆ -0.413488 ┆ -0.128357 ┆ … ┆ 0.0629    ┆ 0.354683 ┆ 0.59187  ┆ Acura_MDX │\n",
       "│ -0.052456 ┆ 0.385235  ┆ -0.423291 ┆ -0.007358 ┆ … ┆ 0.079581  ┆ 0.243743 ┆ 0.662615 ┆ Acura_MDX │\n",
       "│ 0.092909  ┆ 0.075529  ┆ -0.04049  ┆ 0.137453  ┆ … ┆ 0.313156  ┆ 0.400654 ┆ 0.217053 ┆ Acura_MDX │\n",
       "└───────────┴───────────┴───────────┴───────────┴───┴───────────┴──────────┴──────────┴───────────┘"
      ]
     },
     "execution_count": 39,
     "metadata": {},
     "output_type": "execute_result"
    }
   ],
   "source": [
    "result_df = pl.concat([embeddings_df, labels], how='horizontal',)\n",
    "result_df.head()"
   ]
  },
  {
   "cell_type": "code",
   "execution_count": 40,
   "id": "63e7e1b1",
   "metadata": {
    "ExecuteTime": {
     "end_time": "2023-08-16T20:01:03.775549Z",
     "start_time": "2023-08-16T20:01:03.756665Z"
    },
    "collapsed": false,
    "execution": {
     "iopub.execute_input": "2023-08-16T17:35:18.247406Z",
     "iopub.status.busy": "2023-08-16T17:35:18.246605Z",
     "iopub.status.idle": "2023-08-16T17:35:19.170124Z",
     "shell.execute_reply": "2023-08-16T17:35:19.169097Z"
    },
    "jupyter": {
     "outputs_hidden": false
    },
    "papermill": {
     "duration": 0.950668,
     "end_time": "2023-08-16T17:35:19.172634",
     "exception": false,
     "start_time": "2023-08-16T17:35:18.221966",
     "status": "completed"
    },
    "tags": []
   },
   "outputs": [],
   "source": [
    "result_df.write_csv(config.dataframe_path)"
   ]
  },
  {
   "cell_type": "code",
   "execution_count": 41,
   "id": "b93a7fdf",
   "metadata": {
    "collapsed": false,
    "execution": {
     "iopub.execute_input": "2023-08-16T17:35:19.223086Z",
     "iopub.status.busy": "2023-08-16T17:35:19.222730Z",
     "iopub.status.idle": "2023-08-16T17:35:19.227511Z",
     "shell.execute_reply": "2023-08-16T17:35:19.226579Z"
    },
    "jupyter": {
     "outputs_hidden": false
    },
    "papermill": {
     "duration": 0.032515,
     "end_time": "2023-08-16T17:35:19.229839",
     "exception": false,
     "start_time": "2023-08-16T17:35:19.197324",
     "status": "completed"
    },
    "tags": []
   },
   "outputs": [
    {
     "name": "stdout",
     "output_type": "stream",
     "text": [
      "Done!\n"
     ]
    }
   ],
   "source": [
    "print('Done!')"
   ]
  },
  {
   "cell_type": "code",
   "execution_count": null,
   "id": "b28a510e",
   "metadata": {
    "papermill": {
     "duration": 0.024508,
     "end_time": "2023-08-16T17:35:19.278213",
     "exception": false,
     "start_time": "2023-08-16T17:35:19.253705",
     "status": "completed"
    },
    "tags": []
   },
   "outputs": [],
   "source": []
  }
 ],
 "metadata": {
  "kernelspec": {
   "display_name": "Python 3",
   "language": "python",
   "name": "python3"
  },
  "language_info": {
   "codemirror_mode": {
    "name": "ipython",
    "version": 3
   },
   "file_extension": ".py",
   "mimetype": "text/x-python",
   "name": "python",
   "nbconvert_exporter": "python",
   "pygments_lexer": "ipython3",
   "version": "3.10.12"
  },
  "papermill": {
   "default_parameters": {},
   "duration": 215.872935,
   "end_time": "2023-08-16T17:35:21.843351",
   "environment_variables": {},
   "exception": null,
   "input_path": "__notebook__.ipynb",
   "output_path": "__notebook__.ipynb",
   "parameters": {},
   "start_time": "2023-08-16T17:31:45.970416",
   "version": "2.4.0"
  }
 },
 "nbformat": 4,
 "nbformat_minor": 5
}
