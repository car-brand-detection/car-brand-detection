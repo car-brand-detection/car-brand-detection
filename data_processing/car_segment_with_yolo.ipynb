{
 "cells": [
  {
   "cell_type": "code",
   "execution_count": 84,
   "outputs": [],
   "source": [
    "import os\n",
    "from ultralytics import YOLO\n",
    "import numpy as np\n",
    "import cv2\n",
    "import pandas as pd\n",
    "from torch import cuda"
   ],
   "metadata": {
    "collapsed": false,
    "ExecuteTime": {
     "start_time": "2023-07-11T18:26:07.615172Z",
     "end_time": "2023-07-11T18:26:07.650176Z"
    }
   }
  },
  {
   "cell_type": "code",
   "execution_count": 85,
   "outputs": [],
   "source": [
    "model_path = \"../models/yolov8m-seg.pt\""
   ],
   "metadata": {
    "collapsed": false,
    "ExecuteTime": {
     "start_time": "2023-07-11T18:26:07.848175Z",
     "end_time": "2023-07-11T18:26:07.848175Z"
    }
   }
  },
  {
   "cell_type": "code",
   "execution_count": 86,
   "outputs": [
    {
     "data": {
      "text/plain": "{0: 'person',\n 1: 'bicycle',\n 2: 'car',\n 3: 'motorcycle',\n 4: 'airplane',\n 5: 'bus',\n 6: 'train',\n 7: 'truck',\n 8: 'boat',\n 9: 'traffic light',\n 10: 'fire hydrant',\n 11: 'stop sign',\n 12: 'parking meter',\n 13: 'bench',\n 14: 'bird',\n 15: 'cat',\n 16: 'dog',\n 17: 'horse',\n 18: 'sheep',\n 19: 'cow',\n 20: 'elephant',\n 21: 'bear',\n 22: 'zebra',\n 23: 'giraffe',\n 24: 'backpack',\n 25: 'umbrella',\n 26: 'handbag',\n 27: 'tie',\n 28: 'suitcase',\n 29: 'frisbee',\n 30: 'skis',\n 31: 'snowboard',\n 32: 'sports ball',\n 33: 'kite',\n 34: 'baseball bat',\n 35: 'baseball glove',\n 36: 'skateboard',\n 37: 'surfboard',\n 38: 'tennis racket',\n 39: 'bottle',\n 40: 'wine glass',\n 41: 'cup',\n 42: 'fork',\n 43: 'knife',\n 44: 'spoon',\n 45: 'bowl',\n 46: 'banana',\n 47: 'apple',\n 48: 'sandwich',\n 49: 'orange',\n 50: 'broccoli',\n 51: 'carrot',\n 52: 'hot dog',\n 53: 'pizza',\n 54: 'donut',\n 55: 'cake',\n 56: 'chair',\n 57: 'couch',\n 58: 'potted plant',\n 59: 'bed',\n 60: 'dining table',\n 61: 'toilet',\n 62: 'tv',\n 63: 'laptop',\n 64: 'mouse',\n 65: 'remote',\n 66: 'keyboard',\n 67: 'cell phone',\n 68: 'microwave',\n 69: 'oven',\n 70: 'toaster',\n 71: 'sink',\n 72: 'refrigerator',\n 73: 'book',\n 74: 'clock',\n 75: 'vase',\n 76: 'scissors',\n 77: 'teddy bear',\n 78: 'hair drier',\n 79: 'toothbrush'}"
     },
     "execution_count": 86,
     "metadata": {},
     "output_type": "execute_result"
    }
   ],
   "source": [
    "# ALL_NAMES:\n",
    "YOLO(model_path).names"
   ],
   "metadata": {
    "collapsed": false,
    "ExecuteTime": {
     "start_time": "2023-07-11T18:26:08.031022Z",
     "end_time": "2023-07-11T18:26:08.318257Z"
    }
   }
  },
  {
   "cell_type": "code",
   "execution_count": 87,
   "outputs": [],
   "source": [
    "classes_ids = [\n",
    "    2, # Car\n",
    "    7, # Truck\n",
    "    5, # Bus\n",
    "]"
   ],
   "metadata": {
    "collapsed": false,
    "ExecuteTime": {
     "start_time": "2023-07-11T18:26:08.964412Z",
     "end_time": "2023-07-11T18:26:08.995687Z"
    }
   }
  },
  {
   "cell_type": "code",
   "execution_count": 93,
   "outputs": [],
   "source": [
    "device = \"gpu\" if cuda.is_available() else \"cpu\"\n"
   ],
   "metadata": {
    "collapsed": false,
    "ExecuteTime": {
     "start_time": "2023-07-11T18:45:51.962674Z",
     "end_time": "2023-07-11T18:45:51.971848Z"
    }
   }
  },
  {
   "cell_type": "code",
   "execution_count": 94,
   "outputs": [],
   "source": [
    "\n",
    "class YOLOSegmentation:\n",
    "    def __init__(self, model_path, device):\n",
    "        self.model = YOLO(model_path, )\n",
    "        self.device = device\n",
    "\n",
    "    def detect(self, img):\n",
    "        height, width, channels = img.shape\n",
    "\n",
    "        results = self.model.predict(source=img.copy(), save=False, save_txt=False)\n",
    "        result = results[0]\n",
    "        segmentation_contours_idx = []\n",
    "        for seg in result.masks.xyn:\n",
    "            seg[:, 0] *= width\n",
    "            seg[:, 1] *= height\n",
    "            segment = np.array(seg, dtype=np.int32)\n",
    "            segmentation_contours_idx.append(segment)\n",
    "        bboxes = np.array(result.boxes.xyxy.to(self.device), dtype=\"int\")\n",
    "        class_ids = np.array(result.boxes.cls.to(self.device), dtype=\"int\")\n",
    "        scores = np.array(result.boxes.conf.to(self.device), dtype=\"float\").round(2)\n",
    "\n",
    "        # bboxes = np.array(result.boxes.xyxy.cpu(), dtype=\"int\")\n",
    "        # class_ids = np.array(result.boxes.cls.cpu(), dtype=\"int\")\n",
    "        # scores = np.array(result.boxes.conf.cpu(), dtype=\"float\").round(2)\n",
    "\n",
    "        return bboxes, class_ids, segmentation_contours_idx, scores\n"
   ],
   "metadata": {
    "collapsed": false,
    "ExecuteTime": {
     "start_time": "2023-07-11T18:45:51.971848Z",
     "end_time": "2023-07-11T18:45:51.992223Z"
    }
   }
  },
  {
   "cell_type": "code",
   "execution_count": 102,
   "outputs": [],
   "source": [
    "def extract_contours(folder: str, output_dir: str, Segmentator: YOLOSegmentation, transform_to_drawings=False) -> None:\n",
    "    for image_name in os.listdir(folder)[:10]:\n",
    "        if not (image_name.endswith(\".jpg\") or image_name.endswith(\".jpeg\")):\n",
    "            continue\n",
    "        start_path = folder + '/' + image_name\n",
    "        end_path = f\"{output_dir}/\"\n",
    "        os.makedirs(end_path, exist_ok=True)\n",
    "\n",
    "        img = cv2.imread(start_path)\n",
    "        if img is None:\n",
    "            print(Exception(f\"Can't read an image: {image_name}\"))\n",
    "            continue\n",
    "        img = cv2.resize(img, None, fx=0.5, fy=0.5)\n",
    "\n",
    "        bboxes, classes, segmentations, scores = Segmentator.detect(img)\n",
    "\n",
    "\n",
    "        # for bbox, class_id, seg, score in zip(bboxes, classes, segmentations, scores):\n",
    "        #     (x, y, x2, y2) = bbox\n",
    "        #\n",
    "        #     cv2.rectangle(img, (x, y), (x2, y2), (255, 0, 0), 2)\n",
    "        #     cv2.polylines(img, [seg], True, (0, 0, 255), 4)\n",
    "        #     edges = cv2.putText(img, str(class_id), (x, y - 10), cv2.FONT_HERSHEY_PLAIN, 2, (0, 0, 255), 2)\n",
    "        #\n",
    "        #     image_name_pieces = image_name.split(\".\")\n",
    "        #     image_name = image_name_pieces[0] + \"_processed\" + \".\" + image_name_pieces[-1]\n",
    "        #     cv2.imwrite(end_path + \"/\" + image_name, edges)\n",
    "        # continue\n",
    "\n",
    "\n",
    "        for item, object_class in enumerate(classes):\n",
    "            if object_class not in classes_ids:\n",
    "                continue\n",
    "            else:\n",
    "                break\n",
    "\n",
    "\n",
    "        points = np.array(segmentations[item])\n",
    "        bbox = bboxes[item]\n",
    "\n",
    "        mask = np.zeros(img.shape[:2], dtype=np.uint8)\n",
    "\n",
    "        cv2.drawContours(mask, [points], -1, (255, 255, 255), -1, cv2.LINE_AA)\n",
    "\n",
    "        (x, y, x2, y2) = bbox\n",
    "        # cv2.rectangle(img, (x, y), (x2, y2), (255, 0, 0), 2)\n",
    "\n",
    "\n",
    "        # print(y, y2, x, x2)\n",
    "\n",
    "        img = cv2.bitwise_and(img, img, mask=mask)\n",
    "\n",
    "        if transform_to_drawings:\n",
    "\n",
    "            blurred_image = cv2.GaussianBlur(img.copy(),(5,5),0)\n",
    "\n",
    "            img = cv2.Canny(blurred_image, 100, 160)\n",
    "\n",
    "\n",
    "        img = img[y:y2, x:x2]\n",
    "        cv2.imwrite(end_path + \"/\" + image_name, img)\n"
   ],
   "metadata": {
    "collapsed": false,
    "ExecuteTime": {
     "start_time": "2023-07-11T18:50:41.448750Z",
     "end_time": "2023-07-11T18:50:41.466313Z"
    }
   }
  },
  {
   "cell_type": "code",
   "execution_count": 103,
   "outputs": [],
   "source": [
    "WHOLE_DATA_PATH = \"../cars_data\"\n",
    "RESULT_PATH = \"../extracted_cars\""
   ],
   "metadata": {
    "collapsed": false,
    "ExecuteTime": {
     "start_time": "2023-07-11T18:50:41.626310Z",
     "end_time": "2023-07-11T18:50:41.635653Z"
    }
   }
  },
  {
   "cell_type": "code",
   "execution_count": 104,
   "outputs": [
    {
     "name": "stderr",
     "output_type": "stream",
     "text": [
      "\n",
      "0: 640x640 1 car, 1700.3ms\n",
      "Speed: 0.0ms preprocess, 1700.3ms inference, 0.0ms postprocess per image at shape (1, 3, 640, 640)\n",
      "\n",
      "0: 640x640 1 car, 1969.0ms\n",
      "Speed: 15.6ms preprocess, 1969.0ms inference, 7.0ms postprocess per image at shape (1, 3, 640, 640)\n",
      "\n",
      "0: 640x640 1 car, 1711.0ms\n",
      "Speed: 7.0ms preprocess, 1711.0ms inference, 6.0ms postprocess per image at shape (1, 3, 640, 640)\n",
      "\n",
      "0: 640x640 1 car, 1665.0ms\n",
      "Speed: 6.0ms preprocess, 1665.0ms inference, 7.0ms postprocess per image at shape (1, 3, 640, 640)\n",
      "\n",
      "0: 640x640 1 car, 1615.0ms\n",
      "Speed: 7.0ms preprocess, 1615.0ms inference, 7.0ms postprocess per image at shape (1, 3, 640, 640)\n",
      "\n",
      "0: 640x640 1 car, 1819.0ms\n",
      "Speed: 7.0ms preprocess, 1819.0ms inference, 7.0ms postprocess per image at shape (1, 3, 640, 640)\n",
      "\n",
      "0: 640x640 1 car, 1867.0ms\n",
      "Speed: 7.0ms preprocess, 1867.0ms inference, 5.0ms postprocess per image at shape (1, 3, 640, 640)\n",
      "\n",
      "0: 640x640 1 car, 1805.0ms\n",
      "Speed: 6.0ms preprocess, 1805.0ms inference, 7.0ms postprocess per image at shape (1, 3, 640, 640)\n",
      "\n",
      "0: 640x640 1 car, 1811.0ms\n",
      "Speed: 10.0ms preprocess, 1811.0ms inference, 6.0ms postprocess per image at shape (1, 3, 640, 640)\n",
      "\n",
      "0: 640x640 1 car, 1689.0ms\n",
      "Speed: 7.0ms preprocess, 1689.0ms inference, 8.0ms postprocess per image at shape (1, 3, 640, 640)\n",
      "\n",
      "0: 640x640 1 car, 1721.9ms\n",
      "Speed: 5.1ms preprocess, 1721.9ms inference, 8.0ms postprocess per image at shape (1, 3, 640, 640)\n",
      "\n",
      "0: 640x640 1 car, 1796.0ms\n",
      "Speed: 7.0ms preprocess, 1796.0ms inference, 6.0ms postprocess per image at shape (1, 3, 640, 640)\n",
      "\n",
      "0: 640x640 1 car, 1703.0ms\n",
      "Speed: 6.0ms preprocess, 1703.0ms inference, 7.0ms postprocess per image at shape (1, 3, 640, 640)\n",
      "\n",
      "0: 640x640 2 persons, 1 truck, 2 chairs, 1778.0ms\n",
      "Speed: 7.0ms preprocess, 1778.0ms inference, 18.0ms postprocess per image at shape (1, 3, 640, 640)\n",
      "\n",
      "0: 640x640 1 truck, 1917.0ms\n",
      "Speed: 9.0ms preprocess, 1917.0ms inference, 8.0ms postprocess per image at shape (1, 3, 640, 640)\n",
      "\n",
      "0: 640x640 1 car, 1 bus, 1650.0ms\n",
      "Speed: 7.0ms preprocess, 1650.0ms inference, 10.0ms postprocess per image at shape (1, 3, 640, 640)\n",
      "\n",
      "0: 640x640 1 truck, 1763.0ms\n",
      "Speed: 8.0ms preprocess, 1763.0ms inference, 6.0ms postprocess per image at shape (1, 3, 640, 640)\n",
      "\n",
      "0: 640x640 1 car, 1 bus, 1720.0ms\n",
      "Speed: 6.0ms preprocess, 1720.0ms inference, 9.0ms postprocess per image at shape (1, 3, 640, 640)\n",
      "\n",
      "0: 640x640 3 persons, 1 car, 1658.0ms\n",
      "Speed: 8.0ms preprocess, 1658.0ms inference, 12.0ms postprocess per image at shape (1, 3, 640, 640)\n",
      "\n",
      "0: 640x640 1 person, 1 car, 1767.0ms\n",
      "Speed: 9.0ms preprocess, 1767.0ms inference, 8.0ms postprocess per image at shape (1, 3, 640, 640)\n"
     ]
    }
   ],
   "source": [
    "for dataset in ['train', 'test']:\n",
    "    folder = WHOLE_DATA_PATH + \"/\" + dataset\n",
    "    result_folder = RESULT_PATH + \"/\" + dataset\n",
    "\n",
    "    extract_contours(folder=folder,\n",
    "                     output_dir=result_folder,\n",
    "                     Segmentator=YOLOSegmentation(model_path, device),\n",
    "                     transform_to_drawings=False)\n"
   ],
   "metadata": {
    "collapsed": false,
    "ExecuteTime": {
     "start_time": "2023-07-11T18:50:41.811204Z",
     "end_time": "2023-07-11T18:51:19.679652Z"
    }
   }
  },
  {
   "cell_type": "code",
   "execution_count": 104,
   "outputs": [],
   "source": [],
   "metadata": {
    "collapsed": false,
    "ExecuteTime": {
     "start_time": "2023-07-11T18:51:19.682656Z",
     "end_time": "2023-07-11T18:51:19.686277Z"
    }
   }
  }
 ],
 "metadata": {
  "language_info": {
   "name": "python"
  },
  "orig_nbformat": 4,
  "kernelspec": {
   "name": "yolo_torch",
   "language": "python",
   "display_name": "yolo_torch"
  }
 },
 "nbformat": 4,
 "nbformat_minor": 2
}
