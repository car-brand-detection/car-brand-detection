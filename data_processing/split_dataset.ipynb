{
 "cells": [
  {
   "cell_type": "code",
   "execution_count": 85,
   "outputs": [],
   "source": [
    "import os\n",
    "import shutil\n",
    "from random import choices"
   ],
   "metadata": {
    "collapsed": false,
    "ExecuteTime": {
     "start_time": "2023-09-19T21:02:32.720475Z",
     "end_time": "2023-09-19T21:02:32.773901Z"
    }
   }
  },
  {
   "cell_type": "code",
   "execution_count": 86,
   "outputs": [],
   "source": [
    "image_extensions = ['.jpg', '.jpeg']  # Add more extensions if needed\n",
    "test_size = 0.1\n",
    "test_size_ratio = int(1 / test_size)"
   ],
   "metadata": {
    "collapsed": false,
    "ExecuteTime": {
     "start_time": "2023-09-19T21:02:32.720475Z",
     "end_time": "2023-09-19T21:02:32.773901Z"
    }
   }
  },
  {
   "cell_type": "code",
   "execution_count": 87,
   "outputs": [],
   "source": [
    "def show_progress(current=0, total=30, size=None, item='file'):\n",
    "    if current == total:\n",
    "        ans = 'Completed!'\n",
    "        return print(f\"{ans:_^50}\")\n",
    "    size = total if not size else size\n",
    "    string_pointer = int(current / total * size)\n",
    "    label = f\"|{item} {current}|\"\n",
    "    label = f\"{label:->{string_pointer + len(label)}}\"\n",
    "    label = f\"{label:><{size - string_pointer + len(label)}}\"\n",
    "    label += f\"|of {total}|\"\n",
    "    print(\"\\n\", label)"
   ],
   "metadata": {
    "collapsed": false,
    "ExecuteTime": {
     "start_time": "2023-09-19T21:02:32.741555Z",
     "end_time": "2023-09-19T21:02:32.789552Z"
    }
   }
  },
  {
   "cell_type": "code",
   "execution_count": 88,
   "outputs": [],
   "source": [
    "def get_random_images(path, attempt=1):\n",
    "    \"\"\"\n",
    "    Function to choose k random images for each class.\n",
    "    For class containing N images, k = N * test_size.\n",
    "    So, we split dataset to `k` per test and `N - k` per train\n",
    "    :return:\n",
    "    \"\"\"\n",
    "    if attempt > 10:\n",
    "        raise RecursionError(f\"BAD FILES IN {path}\")\n",
    "    images_list = os.listdir(path)\n",
    "    k = len(images_list) // test_size_ratio\n",
    "    files = choices(os.listdir(path), k=k)\n",
    "\n",
    "    for file in files:\n",
    "        if not any([file.lower().endswith(ext) for ext in image_extensions]):\n",
    "            print(\"FFFFFFF with \", path)\n",
    "            return get_random_images(path, attempt+1)\n",
    "    return files"
   ],
   "metadata": {
    "collapsed": false,
    "ExecuteTime": {
     "start_time": "2023-09-19T21:02:32.757729Z",
     "end_time": "2023-09-19T21:02:32.789552Z"
    }
   }
  },
  {
   "cell_type": "code",
   "execution_count": 89,
   "outputs": [],
   "source": [
    "def copy_images(source_dir, destination_dir='test/', action='move'):\n",
    "    assert action in ['move', 'copy']\n",
    "    os.makedirs(destination_dir, exist_ok=True)\n",
    "    total_number_of_folders = len(os.listdir(source_dir))\n",
    "\n",
    "    executor = shutil.move if action == 'move' else shutil.copy2\n",
    "    for folder_n, brand in enumerate(os.listdir(source_dir), start=1):\n",
    "        show_progress(folder_n, total_number_of_folders)\n",
    "\n",
    "        for model in os.listdir(os.path.join(source_dir, brand)):\n",
    "\n",
    "            files = get_random_images(os.path.join(source_dir, brand, model))\n",
    "\n",
    "            destination_path = os.path.join(destination_dir, brand, model)\n",
    "            os.makedirs(destination_path, exist_ok=True)\n",
    "            for file in files:\n",
    "                source_path = os.path.join(source_dir, brand, model, file)\n",
    "                try:\n",
    "                    executor(source_path, destination_path)\n",
    "                except shutil.Error:\n",
    "                    pass  # Skip\n",
    "    return"
   ],
   "metadata": {
    "collapsed": false,
    "ExecuteTime": {
     "start_time": "2023-09-19T21:02:32.789552Z",
     "end_time": "2023-09-19T21:02:32.808275Z"
    }
   }
  },
  {
   "cell_type": "code",
   "execution_count": 90,
   "outputs": [],
   "source": [
    "dataset_directory = \"../data/images/\"\n",
    "test_directory = '../data/MADE_TEST_DATASET/'"
   ],
   "metadata": {
    "collapsed": false,
    "ExecuteTime": {
     "start_time": "2023-09-19T21:02:32.796936Z",
     "end_time": "2023-09-19T21:02:32.855176Z"
    }
   }
  },
  {
   "cell_type": "code",
   "execution_count": 91,
   "outputs": [
    {
     "name": "stdout",
     "output_type": "stream",
     "text": [
      "\n",
      " -|file 1|>>>>>>>>>>>>>>>>>>>>>>>>>>>>>>>>>>>>>>>>>>>>>|of 46|\n",
      "\n",
      " --|file 2|>>>>>>>>>>>>>>>>>>>>>>>>>>>>>>>>>>>>>>>>>>>>|of 46|\n",
      "\n",
      " ---|file 3|>>>>>>>>>>>>>>>>>>>>>>>>>>>>>>>>>>>>>>>>>>>|of 46|\n",
      "\n",
      " ----|file 4|>>>>>>>>>>>>>>>>>>>>>>>>>>>>>>>>>>>>>>>>>>|of 46|\n",
      "\n",
      " -----|file 5|>>>>>>>>>>>>>>>>>>>>>>>>>>>>>>>>>>>>>>>>>|of 46|\n",
      "\n",
      " ------|file 6|>>>>>>>>>>>>>>>>>>>>>>>>>>>>>>>>>>>>>>>>|of 46|\n",
      "\n",
      " -------|file 7|>>>>>>>>>>>>>>>>>>>>>>>>>>>>>>>>>>>>>>>|of 46|\n",
      "\n",
      " --------|file 8|>>>>>>>>>>>>>>>>>>>>>>>>>>>>>>>>>>>>>>|of 46|\n",
      "\n",
      " ---------|file 9|>>>>>>>>>>>>>>>>>>>>>>>>>>>>>>>>>>>>>|of 46|\n",
      "\n",
      " ----------|file 10|>>>>>>>>>>>>>>>>>>>>>>>>>>>>>>>>>>>>|of 46|\n",
      "\n",
      " -----------|file 11|>>>>>>>>>>>>>>>>>>>>>>>>>>>>>>>>>>>|of 46|\n",
      "\n",
      " ------------|file 12|>>>>>>>>>>>>>>>>>>>>>>>>>>>>>>>>>>|of 46|\n",
      "\n",
      " ------------|file 13|>>>>>>>>>>>>>>>>>>>>>>>>>>>>>>>>>>|of 46|\n",
      "\n",
      " --------------|file 14|>>>>>>>>>>>>>>>>>>>>>>>>>>>>>>>>|of 46|\n",
      "\n",
      " ---------------|file 15|>>>>>>>>>>>>>>>>>>>>>>>>>>>>>>>|of 46|\n",
      "\n",
      " ----------------|file 16|>>>>>>>>>>>>>>>>>>>>>>>>>>>>>>|of 46|\n",
      "\n",
      " -----------------|file 17|>>>>>>>>>>>>>>>>>>>>>>>>>>>>>|of 46|\n",
      "\n",
      " ------------------|file 18|>>>>>>>>>>>>>>>>>>>>>>>>>>>>|of 46|\n",
      "\n",
      " -------------------|file 19|>>>>>>>>>>>>>>>>>>>>>>>>>>>|of 46|\n",
      "\n",
      " --------------------|file 20|>>>>>>>>>>>>>>>>>>>>>>>>>>|of 46|\n",
      "\n",
      " ---------------------|file 21|>>>>>>>>>>>>>>>>>>>>>>>>>|of 46|\n",
      "\n",
      " ----------------------|file 22|>>>>>>>>>>>>>>>>>>>>>>>>|of 46|\n",
      "\n",
      " -----------------------|file 23|>>>>>>>>>>>>>>>>>>>>>>>|of 46|\n",
      "\n",
      " ------------------------|file 24|>>>>>>>>>>>>>>>>>>>>>>|of 46|\n",
      "\n",
      " -------------------------|file 25|>>>>>>>>>>>>>>>>>>>>>|of 46|\n",
      "\n",
      " -------------------------|file 26|>>>>>>>>>>>>>>>>>>>>>|of 46|\n",
      "\n",
      " ---------------------------|file 27|>>>>>>>>>>>>>>>>>>>|of 46|\n",
      "\n",
      " ----------------------------|file 28|>>>>>>>>>>>>>>>>>>|of 46|\n",
      "\n",
      " -----------------------------|file 29|>>>>>>>>>>>>>>>>>|of 46|\n",
      "\n",
      " ------------------------------|file 30|>>>>>>>>>>>>>>>>|of 46|\n",
      "\n",
      " -------------------------------|file 31|>>>>>>>>>>>>>>>|of 46|\n",
      "\n",
      " --------------------------------|file 32|>>>>>>>>>>>>>>|of 46|\n",
      "\n",
      " ---------------------------------|file 33|>>>>>>>>>>>>>|of 46|\n",
      "\n",
      " ----------------------------------|file 34|>>>>>>>>>>>>|of 46|\n",
      "\n",
      " -----------------------------------|file 35|>>>>>>>>>>>|of 46|\n",
      "\n",
      " ------------------------------------|file 36|>>>>>>>>>>|of 46|\n",
      "\n",
      " -------------------------------------|file 37|>>>>>>>>>|of 46|\n",
      "\n",
      " --------------------------------------|file 38|>>>>>>>>|of 46|\n",
      "\n",
      " ---------------------------------------|file 39|>>>>>>>|of 46|\n",
      "\n",
      " ----------------------------------------|file 40|>>>>>>|of 46|\n",
      "\n",
      " -----------------------------------------|file 41|>>>>>|of 46|\n",
      "\n",
      " ------------------------------------------|file 42|>>>>|of 46|\n",
      "\n",
      " -------------------------------------------|file 43|>>>|of 46|\n",
      "\n",
      " --------------------------------------------|file 44|>>|of 46|\n",
      "\n",
      " ---------------------------------------------|file 45|>|of 46|\n",
      "____________________Completed!____________________\n"
     ]
    }
   ],
   "source": [
    "copy_images(dataset_directory, test_directory, action='copy')"
   ],
   "metadata": {
    "collapsed": false,
    "ExecuteTime": {
     "start_time": "2023-09-19T21:02:32.808275Z",
     "end_time": "2023-09-19T21:02:36.054442Z"
    }
   }
  },
  {
   "cell_type": "code",
   "execution_count": 91,
   "outputs": [],
   "source": [],
   "metadata": {
    "collapsed": false,
    "ExecuteTime": {
     "start_time": "2023-09-19T21:02:36.061208Z",
     "end_time": "2023-09-19T21:02:36.061208Z"
    }
   }
  }
 ],
 "metadata": {
  "kernelspec": {
   "name": "yolo_torch",
   "language": "python",
   "display_name": "yolo_torch"
  },
  "language_info": {
   "codemirror_mode": {
    "name": "ipython",
    "version": 3
   },
   "file_extension": ".py",
   "mimetype": "text/x-python",
   "name": "python",
   "nbconvert_exporter": "python",
   "pygments_lexer": "ipython3",
   "version": "3.11.3"
  },
  "orig_nbformat": 4
 },
 "nbformat": 4,
 "nbformat_minor": 2
}
