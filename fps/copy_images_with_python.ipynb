{
 "cells": [
  {
   "cell_type": "code",
   "execution_count": 17,
   "metadata": {
    "collapsed": true,
    "ExecuteTime": {
     "start_time": "2023-09-12T21:32:46.725888Z",
     "end_time": "2023-09-12T21:32:46.736913Z"
    }
   },
   "outputs": [],
   "source": [
    "import os\n",
    "import shutil"
   ]
  },
  {
   "cell_type": "code",
   "execution_count": 18,
   "outputs": [],
   "source": [
    "source_path = \"../data/images/test/\""
   ],
   "metadata": {
    "collapsed": false,
    "ExecuteTime": {
     "start_time": "2023-09-12T21:32:46.736913Z",
     "end_time": "2023-09-12T21:32:46.736913Z"
    }
   }
  },
  {
   "cell_type": "code",
   "execution_count": 19,
   "outputs": [
    {
     "name": "stdout",
     "output_type": "stream",
     "text": [
      "1024\n"
     ]
    }
   ],
   "source": [
    "a = []\n",
    "for i in range(1024):\n",
    "    a.append(i)\n",
    "print(len(a))"
   ],
   "metadata": {
    "collapsed": false,
    "ExecuteTime": {
     "start_time": "2023-09-12T21:32:46.736913Z",
     "end_time": "2023-09-12T21:32:46.749804Z"
    }
   }
  },
  {
   "cell_type": "code",
   "execution_count": 20,
   "outputs": [],
   "source": [
    "files = os.listdir(source_path)"
   ],
   "metadata": {
    "collapsed": false,
    "ExecuteTime": {
     "start_time": "2023-09-12T21:32:46.749804Z",
     "end_time": "2023-09-12T21:32:46.805701Z"
    }
   }
  },
  {
   "cell_type": "code",
   "execution_count": 21,
   "outputs": [],
   "source": [
    "end_path = 'data/'\n",
    "os.makedirs(end_path, exist_ok=True)"
   ],
   "metadata": {
    "collapsed": false,
    "ExecuteTime": {
     "start_time": "2023-09-12T21:32:46.764930Z",
     "end_time": "2023-09-12T21:32:46.805701Z"
    }
   }
  },
  {
   "cell_type": "code",
   "execution_count": 22,
   "outputs": [],
   "source": [
    "for i in range(1024):\n",
    "    file = files[i]\n",
    "    if not file.endswith((\".jpg\", \".jpeg\")):\n",
    "        continue\n",
    "    new_file_path = os.path.join(end_path, file)\n",
    "    shutil.copy(os.path.join(source_path, file), new_file_path)"
   ],
   "metadata": {
    "collapsed": false,
    "ExecuteTime": {
     "start_time": "2023-09-12T21:32:46.774433Z",
     "end_time": "2023-09-12T21:32:50.643863Z"
    }
   }
  },
  {
   "cell_type": "code",
   "execution_count": 22,
   "outputs": [],
   "source": [],
   "metadata": {
    "collapsed": false,
    "ExecuteTime": {
     "start_time": "2023-09-12T21:32:50.652405Z",
     "end_time": "2023-09-12T21:32:50.652405Z"
    }
   }
  }
 ],
 "metadata": {
  "kernelspec": {
   "display_name": "Python 3",
   "language": "python",
   "name": "python3"
  },
  "language_info": {
   "codemirror_mode": {
    "name": "ipython",
    "version": 2
   },
   "file_extension": ".py",
   "mimetype": "text/x-python",
   "name": "python",
   "nbconvert_exporter": "python",
   "pygments_lexer": "ipython2",
   "version": "2.7.6"
  }
 },
 "nbformat": 4,
 "nbformat_minor": 0
}
