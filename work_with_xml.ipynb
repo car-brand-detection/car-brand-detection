{
 "cells": [
  {
   "cell_type": "code",
   "execution_count": 63,
   "outputs": [],
   "source": [
    "import os\n",
    "import xml.etree.ElementTree as ET"
   ],
   "metadata": {
    "collapsed": false,
    "ExecuteTime": {
     "start_time": "2023-07-05T16:02:13.350147Z",
     "end_time": "2023-07-05T16:02:13.396063Z"
    }
   }
  },
  {
   "cell_type": "markdown",
   "source": [
    "All tags:\n",
    "{'link', 'plate_number_image_url', 'plate_id', 'plate_title', 'tags', 'plate_region', 'fon_id', 'fon_title', 'model', 'photo_url', 'plate_number', 'country', 'model2', 'car'}"
   ],
   "metadata": {
    "collapsed": false
   }
  },
  {
   "cell_type": "code",
   "execution_count": 60,
   "outputs": [],
   "source": [
    "necessary_tags = (\"car\",\n",
    "                  \"model\",\n",
    "                  \"model2\"  # Model generation\n",
    "                  )"
   ],
   "metadata": {
    "collapsed": false,
    "ExecuteTime": {
     "start_time": "2023-07-05T15:54:40.804736Z",
     "end_time": "2023-07-05T15:54:40.899579Z"
    }
   }
  },
  {
   "cell_type": "code",
   "execution_count": 106,
   "outputs": [],
   "source": [
    "def get_gen_folder_name(generation: str) -> str:\n",
    "    \"\"\"\n",
    "    Generation name looks like a mess. This func will extract only numeric info\n",
    "    :param generation:\n",
    "    :return: number or string like \"2nd\"\n",
    "    \"\"\"\n",
    "\n",
    "    try:\n",
    "        int(generation)\n",
    "        return generation\n",
    "    except ValueError:\n",
    "        gen = generation.split()[0]\n",
    "        if gen[-1] == ',':\n",
    "            gen = gen[:-1]\n",
    "        return gen"
   ],
   "metadata": {
    "collapsed": false,
    "ExecuteTime": {
     "start_time": "2023-07-05T16:43:56.130503Z",
     "end_time": "2023-07-05T16:43:56.130503Z"
    }
   }
  },
  {
   "cell_type": "code",
   "execution_count": 107,
   "outputs": [],
   "source": [
    "def remove_slash(model:str) -> str:\n",
    "    \"\"\"\n",
    "    We don't need lots of nested folders!\n",
    "    \"\"\"\n",
    "    return model.replace(\"/\", \"_&_\")"
   ],
   "metadata": {
    "collapsed": false,
    "ExecuteTime": {
     "start_time": "2023-07-05T16:43:56.333600Z",
     "end_time": "2023-07-05T16:43:56.357459Z"
    }
   }
  },
  {
   "cell_type": "code",
   "execution_count": 108,
   "outputs": [],
   "source": [
    "\n",
    "def parse_xml(file_path):\n",
    "    PATH = \"папка/\"\n",
    "    with open(file_path, 'r', encoding='utf-8') as file:\n",
    "        tree = ET.parse(file)\n",
    "    root = tree.getroot()\n",
    "\n",
    "    # Access elements and attributes in the XML file\n",
    "    for n, child in enumerate(root[:100]):\n",
    "\n",
    "\n",
    "        tags = []\n",
    "        for subchild in child:\n",
    "            # if subchild.tag == \"car\":\n",
    "            #     if subchild.text != \"UAZ\":\n",
    "            #         break\n",
    "            # else:\n",
    "            #     if subchild.tag != \"country\":\n",
    "            #         print(subchild.tag, subchild.text)\n",
    "            # continue\n",
    "\n",
    "\n",
    "\n",
    "\n",
    "            if subchild.tag in necessary_tags:\n",
    "                # Our necessary_tags is ordered sequence, so we don't worry about values matching\n",
    "                if subchild.tag == \"model2\":\n",
    "                    text = get_gen_folder_name(subchild.text)\n",
    "                    # print(text)\n",
    "                # elif subchild.tag == \"model2\":\n",
    "                #     text = subchild.text\n",
    "                #     if type(text) != str:\n",
    "                #         text = '_'.join(text)\n",
    "                else:\n",
    "                    text = subchild.text\n",
    "                text = remove_slash(text)\n",
    "                tags.append(text)\n",
    "\n",
    "        os.makedirs(PATH + '/'.join(tags), exist_ok=True)\n",
    "\n",
    "            # if subchild.tag == 'photo_url':\n",
    "            #     print(subchild.text)\n"
   ],
   "metadata": {
    "collapsed": false,
    "ExecuteTime": {
     "start_time": "2023-07-05T16:43:56.537569Z",
     "end_time": "2023-07-05T16:43:56.538107Z"
    }
   }
  },
  {
   "cell_type": "code",
   "execution_count": 109,
   "outputs": [],
   "source": [
    "\n",
    "# Example usage\n",
    "file_path = '../50k/exp_am_1line.xml'\n",
    "parse_xml(file_path)"
   ],
   "metadata": {
    "collapsed": false,
    "ExecuteTime": {
     "start_time": "2023-07-05T16:43:56.705344Z",
     "end_time": "2023-07-05T16:43:56.879785Z"
    }
   }
  },
  {
   "cell_type": "code",
   "execution_count": 105,
   "outputs": [],
   "source": [],
   "metadata": {
    "collapsed": false,
    "ExecuteTime": {
     "start_time": "2023-07-05T16:42:39.093394Z",
     "end_time": "2023-07-05T16:42:39.153795Z"
    }
   }
  },
  {
   "cell_type": "code",
   "execution_count": null,
   "outputs": [],
   "source": [],
   "metadata": {
    "collapsed": false
   }
  }
 ],
 "metadata": {
  "kernelspec": {
   "display_name": "Python 3",
   "language": "python",
   "name": "python3"
  },
  "language_info": {
   "codemirror_mode": {
    "name": "ipython",
    "version": 2
   },
   "file_extension": ".py",
   "mimetype": "text/x-python",
   "name": "python",
   "nbconvert_exporter": "python",
   "pygments_lexer": "ipython2",
   "version": "2.7.6"
  }
 },
 "nbformat": 4,
 "nbformat_minor": 0
}
