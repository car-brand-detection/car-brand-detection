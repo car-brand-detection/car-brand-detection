{
 "cells": [
  {
   "cell_type": "code",
   "execution_count": 1,
   "outputs": [],
   "source": [
    "import os\n",
    "import re\n",
    "import xml.etree.ElementTree as ET"
   ],
   "metadata": {
    "collapsed": false,
    "ExecuteTime": {
     "start_time": "2023-07-06T09:43:21.970506Z",
     "end_time": "2023-07-06T09:43:21.977983Z"
    }
   }
  },
  {
   "cell_type": "markdown",
   "source": [
    "All tags:\n",
    "{'link', 'plate_number_image_url', 'plate_id', 'plate_title', 'tags', 'plate_region', 'fon_id', 'fon_title', 'model', 'photo_url', 'plate_number', 'country', 'model2', 'car'}"
   ],
   "metadata": {
    "collapsed": false
   }
  },
  {
   "cell_type": "code",
   "execution_count": 3,
   "outputs": [],
   "source": [
    "regex = r\"([a-zA-Z0-9а-яА-Я]+)\""
   ],
   "metadata": {
    "collapsed": false,
    "ExecuteTime": {
     "start_time": "2023-07-06T09:43:21.991533Z",
     "end_time": "2023-07-06T09:43:22.001213Z"
    }
   }
  },
  {
   "cell_type": "code",
   "execution_count": 4,
   "outputs": [],
   "source": [
    "def get_folder_name(generation: str) -> str:\n",
    "    \"\"\"\n",
    "    Generation name looks like a mess. This func will extract only numeric info\n",
    "    :param generation:\n",
    "    :return: number or string like \"2nd\"\n",
    "    \"\"\"\n",
    "    if generation is None: return '0'\n",
    "\n",
    "    match = re.search(regex, generation)\n",
    "    if match:\n",
    "        return match.group(1)\n",
    "\n",
    "    try:\n",
    "        int(generation)\n",
    "        return generation\n",
    "    except ValueError:\n",
    "        gen = generation.split()[0]\n",
    "        if gen[-1] in ',:.;':\n",
    "            gen = gen[:-1]\n",
    "        return gen"
   ],
   "metadata": {
    "collapsed": false,
    "ExecuteTime": {
     "start_time": "2023-07-06T09:43:22.001213Z",
     "end_time": "2023-07-06T09:43:22.025378Z"
    }
   }
  },
  {
   "cell_type": "code",
   "execution_count": 5,
   "outputs": [],
   "source": [
    "def remove_slash_and_other_trash(model:str) -> str:\n",
    "    \"\"\"\n",
    "    We don't need lots of nested folders!\n",
    "    \"\"\"\n",
    "    if model:\n",
    "        return model.replace(\"/\", \"_&_\").replace(\":\", \"-\")\n",
    "    else:\n",
    "        return '0'"
   ],
   "metadata": {
    "collapsed": false,
    "ExecuteTime": {
     "start_time": "2023-07-06T09:43:22.014539Z",
     "end_time": "2023-07-06T09:43:22.025378Z"
    }
   }
  },
  {
   "cell_type": "code",
   "execution_count": 6,
   "outputs": [],
   "source": [
    "\n",
    "def parse_xml(xml_files_path: str, save_result_to: str):\n",
    "    \"\"\" Function to parse all XML files in folder and create all folders according to model names\"\"\"\n",
    "    save_result_to += \"/\"\n",
    "    xml_files = os.listdir(xml_files_path)\n",
    "    for file_n, file_path in enumerate(xml_files[:]):\n",
    "        with open(xml_files_path + file_path, 'r', encoding='utf-8') as file:\n",
    "            tree = ET.parse(file)\n",
    "        root = tree.getroot()\n",
    "\n",
    "        # Access elements and attributes in the XML file\n",
    "        for n, child in enumerate(root[:]):\n",
    "\n",
    "            car = child.find(\"car\").text\n",
    "            if not car or len(car) < 2:\n",
    "                continue\n",
    "            photo_url = child.find(\"photo_url\").text\n",
    "            model = child.find(\"model\").text\n",
    "            model2 = child.find(\"model2\").text\n",
    "\n",
    "\n",
    "            tags = [car, model, model2]\n",
    "\n",
    "            for tag_n, tag in enumerate(tags[:], start=0):\n",
    "                tag = get_folder_name(tag)\n",
    "                tags[tag_n] = remove_slash_and_other_trash(tag)\n",
    "            try:\n",
    "                os.makedirs(save_result_to + '/'.join(tags), exist_ok=True)\n",
    "            except:\n",
    "                raise\n",
    "        print(f\"File {file_n} is processed successfully.\")\n"
   ],
   "metadata": {
    "collapsed": false,
    "ExecuteTime": {
     "start_time": "2023-07-06T09:43:22.025378Z",
     "end_time": "2023-07-06T09:43:22.120208Z"
    }
   }
  },
  {
   "cell_type": "code",
   "execution_count": 7,
   "outputs": [
    {
     "name": "stdout",
     "output_type": "stream",
     "text": [
      "File 0 is processed successfully.\n",
      "File 1 is processed successfully.\n",
      "File 2 is processed successfully.\n",
      "File 3 is processed successfully.\n",
      "File 4 is processed successfully.\n",
      "File 5 is processed successfully.\n",
      "File 6 is processed successfully.\n",
      "File 7 is processed successfully.\n",
      "File 8 is processed successfully.\n",
      "File 9 is processed successfully.\n",
      "File 10 is processed successfully.\n",
      "File 11 is processed successfully.\n",
      "File 12 is processed successfully.\n",
      "File 13 is processed successfully.\n",
      "File 14 is processed successfully.\n",
      "File 15 is processed successfully.\n",
      "File 16 is processed successfully.\n",
      "File 17 is processed successfully.\n",
      "File 18 is processed successfully.\n",
      "File 19 is processed successfully.\n",
      "File 20 is processed successfully.\n",
      "File 21 is processed successfully.\n",
      "File 22 is processed successfully.\n",
      "File 23 is processed successfully.\n",
      "File 24 is processed successfully.\n",
      "File 25 is processed successfully.\n",
      "File 26 is processed successfully.\n",
      "File 27 is processed successfully.\n",
      "File 28 is processed successfully.\n",
      "File 29 is processed successfully.\n",
      "File 30 is processed successfully.\n",
      "File 31 is processed successfully.\n",
      "File 32 is processed successfully.\n",
      "File 33 is processed successfully.\n",
      "File 34 is processed successfully.\n",
      "File 35 is processed successfully.\n",
      "File 36 is processed successfully.\n",
      "File 37 is processed successfully.\n",
      "File 38 is processed successfully.\n",
      "File 39 is processed successfully.\n",
      "File 40 is processed successfully.\n",
      "File 41 is processed successfully.\n",
      "File 42 is processed successfully.\n",
      "File 43 is processed successfully.\n",
      "File 44 is processed successfully.\n",
      "File 45 is processed successfully.\n",
      "File 46 is processed successfully.\n",
      "File 47 is processed successfully.\n",
      "File 48 is processed successfully.\n",
      "File 49 is processed successfully.\n",
      "File 50 is processed successfully.\n",
      "File 51 is processed successfully.\n",
      "File 52 is processed successfully.\n",
      "File 53 is processed successfully.\n",
      "File 54 is processed successfully.\n",
      "File 55 is processed successfully.\n",
      "File 56 is processed successfully.\n",
      "File 57 is processed successfully.\n",
      "File 58 is processed successfully.\n",
      "File 59 is processed successfully.\n",
      "File 60 is processed successfully.\n",
      "File 61 is processed successfully.\n",
      "File 62 is processed successfully.\n",
      "File 63 is processed successfully.\n",
      "File 64 is processed successfully.\n",
      "File 65 is processed successfully.\n",
      "File 66 is processed successfully.\n",
      "File 67 is processed successfully.\n"
     ]
    }
   ],
   "source": [
    "parse_xml(xml_files_path=\"../50k/\", save_result_to=\"Empty_folders\")"
   ],
   "metadata": {
    "collapsed": false,
    "ExecuteTime": {
     "start_time": "2023-07-06T09:43:22.042051Z",
     "end_time": "2023-07-06T09:43:48.255687Z"
    }
   }
  },
  {
   "cell_type": "code",
   "execution_count": null,
   "outputs": [],
   "source": [],
   "metadata": {
    "collapsed": false,
    "ExecuteTime": {
     "start_time": "2023-07-05T17:38:00.628971Z",
     "end_time": "2023-07-05T17:38:00.675882Z"
    }
   }
  },
  {
   "cell_type": "code",
   "execution_count": null,
   "outputs": [],
   "source": [],
   "metadata": {
    "collapsed": false
   }
  }
 ],
 "metadata": {
  "kernelspec": {
   "display_name": "Python 3",
   "language": "python",
   "name": "python3"
  },
  "language_info": {
   "codemirror_mode": {
    "name": "ipython",
    "version": 2
   },
   "file_extension": ".py",
   "mimetype": "text/x-python",
   "name": "python",
   "nbconvert_exporter": "python",
   "pygments_lexer": "ipython2",
   "version": "2.7.6"
  }
 },
 "nbformat": 4,
 "nbformat_minor": 0
}
