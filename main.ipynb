{
 "cells": [
  {
   "cell_type": "code",
   "execution_count": 1,
   "outputs": [],
   "source": [
    "# !pip install ultralytics"
   ],
   "metadata": {
    "collapsed": false,
    "ExecuteTime": {
     "start_time": "2023-07-04T17:59:09.457100Z",
     "end_time": "2023-07-04T17:59:09.457100Z"
    }
   }
  },
  {
   "cell_type": "code",
   "execution_count": 2,
   "outputs": [],
   "source": [
    "import os\n",
    "from ultralytics import YOLO\n",
    "import numpy as np\n",
    "import cv2\n",
    "import pandas as pd\n"
   ],
   "metadata": {
    "collapsed": false,
    "ExecuteTime": {
     "start_time": "2023-07-05T12:22:19.590532Z",
     "end_time": "2023-07-05T12:22:34.035908Z"
    }
   }
  },
  {
   "cell_type": "code",
   "execution_count": 61,
   "outputs": [],
   "source": [
    "folder = \"boss_images\"\n",
    "# folder = \"zhizha\""
   ],
   "metadata": {
    "collapsed": false,
    "ExecuteTime": {
     "start_time": "2023-07-05T13:14:46.505023Z",
     "end_time": "2023-07-05T13:14:46.520605Z"
    }
   }
  },
  {
   "cell_type": "code",
   "execution_count": 62,
   "outputs": [
    {
     "data": {
      "text/plain": "['ac723806c7124629afdf8ec1009867f0_hrs.jpg',\n 'FREIGHTLINER_CENTURY_CLASS_00050.jpg',\n 'FREIGHTLINER_CENTURY_CLASS_00054.jpg']"
     },
     "execution_count": 62,
     "metadata": {},
     "output_type": "execute_result"
    }
   ],
   "source": [
    "os.listdir(folder)"
   ],
   "metadata": {
    "collapsed": false,
    "ExecuteTime": {
     "start_time": "2023-07-05T13:14:47.176737Z",
     "end_time": "2023-07-05T13:14:47.205022Z"
    }
   }
  },
  {
   "cell_type": "code",
   "execution_count": 63,
   "outputs": [],
   "source": [
    "\n",
    "class YOLOSegmentation:\n",
    "    def __init__(self, model_path):\n",
    "        self.model = YOLO(model_path)\n",
    "\n",
    "    def detect(self, img):\n",
    "        height, width, channels = img.shape\n",
    "\n",
    "        results = self.model.predict(source=img.copy(), save=False, save_txt=False)\n",
    "        result = results[0]\n",
    "        segmentation_contours_idx = []\n",
    "        for seg in result.masks.xyn:\n",
    "            seg[:, 0] *= width\n",
    "            seg[:, 1] *= height\n",
    "            segment = np.array(seg, dtype=np.int32)\n",
    "            segmentation_contours_idx.append(segment)\n",
    "\n",
    "        bboxes = np.array(result.boxes.xyxy.cpu(), dtype=\"int\")\n",
    "        class_ids = np.array(result.boxes.cls.cpu(), dtype=\"int\")\n",
    "        scores = np.array(result.boxes.conf.cpu(), dtype=\"float\").round(2)\n",
    "        return bboxes, class_ids, segmentation_contours_idx, scores\n"
   ],
   "metadata": {
    "collapsed": false,
    "ExecuteTime": {
     "start_time": "2023-07-05T13:14:49.132683Z",
     "end_time": "2023-07-05T13:14:49.145398Z"
    }
   }
  },
  {
   "cell_type": "code",
   "execution_count": 87,
   "outputs": [],
   "source": [
    "def extract_contours(folder: str, Segmentator: YOLOSegmentation) -> None:\n",
    "    for image_name in os.listdir(folder):\n",
    "        if not (image_name.endswith(\".jpg\") or image_name.endswith(\".jpeg\")):\n",
    "            continue\n",
    "        start_path = folder + '/' + image_name\n",
    "        end_path = f\"{folder}/processed\"\n",
    "        os.makedirs(end_path, exist_ok=True)\n",
    "\n",
    "        img = cv2.imread(start_path)\n",
    "        if img is None:\n",
    "            print(Exception(f\"Can't read an image: {image_name}\"))\n",
    "            continue\n",
    "        img = cv2.resize(img, None, fx=0.5, fy=0.5)\n",
    "\n",
    "        bboxes, classes, segmentations, scores = Segmentator.detect(img)\n",
    "\n",
    "\n",
    "        # for bbox, class_id, seg, score in zip(bboxes, classes, segmentations, scores):\n",
    "        #     (x, y, x2, y2) = bbox\n",
    "        #\n",
    "        #     cv2.rectangle(img, (x, y), (x2, y2), (255, 0, 0), 2)\n",
    "        #     cv2.polylines(img, [seg], True, (0, 0, 255), 4)\n",
    "        #     edges = cv2.putText(img, str(class_id), (x, y - 10), cv2.FONT_HERSHEY_PLAIN, 2, (0, 0, 255), 2)\n",
    "        #\n",
    "        #     image_name_pieces = image_name.split(\".\")\n",
    "        #     image_name = image_name_pieces[0] + \"_processed\" + \".\" + image_name_pieces[-1]\n",
    "        #     cv2.imwrite(end_path + \"/\" + image_name, edges)\n",
    "        # continue\n",
    "\n",
    "\n",
    "\n",
    "        points = np.array(segmentations[0])\n",
    "\n",
    "        mask = np.zeros(img.shape[:2], dtype=np.uint8)\n",
    "        cv2.drawContours(mask, [points], -1, (255, 255, 255), -1, cv2.LINE_AA)\n",
    "\n",
    "        img = cv2.bitwise_and(img, img, mask=mask)\n",
    "\n",
    "\n",
    "        blurred_image = cv2.GaussianBlur(img.copy(),(5,5),0)\n",
    "\n",
    "        edges = cv2.Canny(blurred_image, 100, 160)\n",
    "\n",
    "        image_name_pieces = image_name.split(\".\")\n",
    "        image_name = image_name_pieces[0] + \"_processed.\" + image_name_pieces[-1]\n",
    "        # print(image_name, folder + '/' + image_name)\n",
    "        cv2.imwrite(end_path + \"/\" + image_name, edges)\n"
   ],
   "metadata": {
    "collapsed": false,
    "ExecuteTime": {
     "start_time": "2023-07-05T13:45:54.615485Z",
     "end_time": "2023-07-05T13:45:54.678189Z"
    }
   }
  },
  {
   "cell_type": "code",
   "execution_count": 88,
   "outputs": [
    {
     "name": "stderr",
     "output_type": "stream",
     "text": [
      "\n",
      "0: 448x640 5 persons, 2 cars, 3 trucks, 1443.0ms\n",
      "Speed: 7.0ms preprocess, 1443.0ms inference, 27.0ms postprocess per image at shape (1, 3, 448, 640)\n",
      "\n",
      "0: 384x640 3 trucks, 1173.0ms\n",
      "Speed: 3.0ms preprocess, 1173.0ms inference, 9.0ms postprocess per image at shape (1, 3, 384, 640)\n",
      "\n",
      "0: 480x640 1 car, 3 trucks, 2005.4ms\n",
      "Speed: 3.0ms preprocess, 2005.4ms inference, 15.0ms postprocess per image at shape (1, 3, 480, 640)\n",
      "\n",
      "0: 480x640 1 car, 1 truck, 1728.0ms\n",
      "Speed: 6.0ms preprocess, 1728.0ms inference, 8.0ms postprocess per image at shape (1, 3, 480, 640)\n",
      "\n",
      "0: 480x640 3 cars, 3 trucks, 1517.0ms\n",
      "Speed: 3.0ms preprocess, 1517.0ms inference, 14.0ms postprocess per image at shape (1, 3, 480, 640)\n",
      "\n",
      "0: 512x640 2 cars, 1 truck, 1529.0ms\n",
      "Speed: 4.0ms preprocess, 1529.0ms inference, 14.0ms postprocess per image at shape (1, 3, 512, 640)\n",
      "\n",
      "0: 384x640 2 cars, 1130.0ms\n",
      "Speed: 4.0ms preprocess, 1130.0ms inference, 9.0ms postprocess per image at shape (1, 3, 384, 640)\n",
      "\n",
      "0: 448x640 2 cars, 2091.0ms\n",
      "Speed: 4.0ms preprocess, 2091.0ms inference, 11.0ms postprocess per image at shape (1, 3, 448, 640)\n"
     ]
    }
   ],
   "source": [
    "extract_contours(folder=folder, Segmentator=YOLOSegmentation(\"yolov8m-seg.pt\"))"
   ],
   "metadata": {
    "collapsed": false,
    "ExecuteTime": {
     "start_time": "2023-07-05T13:45:54.797878Z",
     "end_time": "2023-07-05T13:46:10.319155Z"
    }
   }
  },
  {
   "cell_type": "code",
   "execution_count": null,
   "outputs": [],
   "source": [],
   "metadata": {
    "collapsed": false
   }
  }
 ],
 "metadata": {
  "language_info": {
   "name": "python"
  },
  "orig_nbformat": 4,
  "kernelspec": {
   "name": "yolo_torch",
   "language": "python",
   "display_name": "yolo_torch"
  }
 },
 "nbformat": 4,
 "nbformat_minor": 2
}
