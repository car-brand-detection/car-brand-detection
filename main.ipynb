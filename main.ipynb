{
 "cells": [
  {
   "cell_type": "code",
   "execution_count": 1,
   "outputs": [],
   "source": [
    "# !pip install ultralytics"
   ],
   "metadata": {
    "collapsed": false,
    "ExecuteTime": {
     "start_time": "2023-07-04T17:59:09.457100Z",
     "end_time": "2023-07-04T17:59:09.457100Z"
    }
   }
  },
  {
   "cell_type": "code",
   "execution_count": 2,
   "outputs": [],
   "source": [
    "from ultralytics import YOLO\n",
    "import numpy as np\n",
    "import cv2\n",
    "import pandas as pd\n"
   ],
   "metadata": {
    "collapsed": false,
    "ExecuteTime": {
     "start_time": "2023-07-04T17:59:09.472756Z",
     "end_time": "2023-07-04T17:59:23.652059Z"
    }
   }
  },
  {
   "cell_type": "code",
   "execution_count": 3,
   "outputs": [],
   "source": [
    "\n",
    "class YOLOSegmentation:\n",
    "    def __init__(self, model_path):\n",
    "        self.model = YOLO(model_path)\n",
    "\n",
    "    def detect(self, img):\n",
    "        height, width, channels = img.shape\n",
    "\n",
    "        results = self.model.predict(source=img.copy(), save=False, save_txt=False)\n",
    "        result = results[0]\n",
    "        segmentation_contours_idx = []\n",
    "        for seg in result.masks.xyn:\n",
    "            seg[:, 0] *= width\n",
    "            seg[:, 1] *= height\n",
    "            segment = np.array(seg, dtype=np.int32)\n",
    "            segmentation_contours_idx.append(segment)\n",
    "\n",
    "        bboxes = np.array(result.boxes.xyxy.cpu(), dtype=\"int\")\n",
    "        class_ids = np.array(result.boxes.cls.cpu(), dtype=\"int\")\n",
    "        scores = np.array(result.boxes.conf.cpu(), dtype=\"float\").round(2)\n",
    "        return bboxes, class_ids, segmentation_contours_idx, scores\n"
   ],
   "metadata": {
    "collapsed": false,
    "ExecuteTime": {
     "start_time": "2023-07-04T17:59:23.667704Z",
     "end_time": "2023-07-04T17:59:23.669740Z"
    }
   }
  },
  {
   "cell_type": "code",
   "execution_count": 4,
   "outputs": [],
   "source": [
    "PATH_TO_READ_FROM = \"AUDI_100_00002.jpg\""
   ],
   "metadata": {
    "collapsed": false,
    "ExecuteTime": {
     "start_time": "2023-07-04T17:59:23.669740Z",
     "end_time": "2023-07-04T17:59:23.692229Z"
    }
   }
  },
  {
   "cell_type": "code",
   "execution_count": 5,
   "outputs": [
    {
     "name": "stderr",
     "output_type": "stream",
     "text": [
      "\n",
      "0: 352x640 1 car, 1630.2ms\n",
      "Speed: 15.5ms preprocess, 1630.2ms inference, 15.6ms postprocess per image at shape (1, 3, 352, 640)\n"
     ]
    }
   ],
   "source": [
    "img = cv2.imread(PATH_TO_READ_FROM)\n",
    "img = cv2.resize(img, None, fx=0.5, fy=0.5)\n",
    "\n",
    "\n",
    "ys = YOLOSegmentation(\"yolov8m-seg.pt\")\n",
    "\n",
    "bboxes, classes, segmentations, scores = ys.detect(img)"
   ],
   "metadata": {
    "collapsed": false,
    "ExecuteTime": {
     "start_time": "2023-07-04T17:59:23.692229Z",
     "end_time": "2023-07-04T17:59:26.990818Z"
    }
   }
  },
  {
   "cell_type": "code",
   "execution_count": 6,
   "outputs": [],
   "source": [
    "PATH_TO_WRITE_TO = \"AUDI_processed_1.jpg\""
   ],
   "metadata": {
    "collapsed": false,
    "ExecuteTime": {
     "start_time": "2023-07-04T17:59:26.990818Z",
     "end_time": "2023-07-04T17:59:26.999804Z"
    }
   }
  },
  {
   "cell_type": "code",
   "execution_count": 7,
   "metadata": {
    "ExecuteTime": {
     "start_time": "2023-07-04T17:59:26.999804Z",
     "end_time": "2023-07-04T17:59:27.053911Z"
    }
   },
   "outputs": [
    {
     "data": {
      "text/plain": "True"
     },
     "execution_count": 7,
     "metadata": {},
     "output_type": "execute_result"
    }
   ],
   "source": [
    "# Все за пределами сегментированного изображения станет черным\n",
    "points = np.array(segmentations)\n",
    "\n",
    "mask = np.zeros(img.shape[:2], dtype=np.uint8)\n",
    "cv2.drawContours(mask, [points], -1, (255, 255, 255), -1, cv2.LINE_AA)\n",
    "cropped_img = cv2.bitwise_and(img, img, mask=mask)\n",
    "\n",
    "\n",
    "cv2.imwrite((PATH_TO_WRITE_TO), cropped_img)"
   ]
  },
  {
   "cell_type": "code",
   "execution_count": 8,
   "metadata": {
    "ExecuteTime": {
     "start_time": "2023-07-04T17:59:27.038259Z",
     "end_time": "2023-07-04T17:59:27.081933Z"
    }
   },
   "outputs": [
    {
     "data": {
      "text/plain": "True"
     },
     "execution_count": 8,
     "metadata": {},
     "output_type": "execute_result"
    }
   ],
   "source": [
    "image3 = cv2.imread((PATH_TO_WRITE_TO))\n",
    "blurred_image = cv2.GaussianBlur(image3.copy(),(5,5),0)\n",
    "\n",
    "edges = cv2.Canny(blurred_image, 100, 160)\n",
    "\n",
    "cv2.imwrite((PATH_TO_WRITE_TO), edges)\n",
    "\n"
   ]
  },
  {
   "cell_type": "code",
   "execution_count": 8,
   "outputs": [],
   "source": [],
   "metadata": {
    "collapsed": false,
    "ExecuteTime": {
     "start_time": "2023-07-04T17:59:27.088853Z",
     "end_time": "2023-07-04T17:59:27.135755Z"
    }
   }
  }
 ],
 "metadata": {
  "language_info": {
   "name": "python"
  },
  "orig_nbformat": 4,
  "kernelspec": {
   "name": "yolo_torch",
   "language": "python",
   "display_name": "yolo_torch"
  }
 },
 "nbformat": 4,
 "nbformat_minor": 2
}
